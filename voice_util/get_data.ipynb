{
 "cells": [
  {
   "cell_type": "markdown",
   "metadata": {},
   "source": [
    "# svd auto input\n",
    "- svd 웹에서 데이터를 나눠 받기 힘들어서 시행\n",
    "- selenium\n",
    "\n",
    "\n",
    "\n",
    "- english button\n",
    "    - span:nth-child(2) .long_button\n",
    "- database request\n",
    "    - li:nth-child(1) .button_main_menu\n",
    "- select box\n",
    "    - #s_pat_1\n",
    "\n",
    "\n",
    "\n",
    "- 남성 체크박스\n",
    "    - #m\n",
    "- 여성 체크박스\n",
    "    - #w\n",
    "- healthy\n",
    "    - #n\n",
    "- pahthology\n",
    "    - #p\n",
    "\n",
    "- accept\n",
    "    - a+ .buttonsline span:nth-child(3) .long_button\n",
    "\n",
    "- export\n",
    "    - div+ .buttonsline span:nth-child(5) .long_button\n",
    "\n",
    "- i high\n",
    "    - .play tr:nth-child(2) .play:nth-child(3) input\n",
    "- a high\n",
    "    - tr:nth-child(3) .play:nth-child(3) input\n",
    "-"
   ]
  },
  {
   "cell_type": "code",
   "execution_count": 4,
   "metadata": {},
   "outputs": [],
   "source": [
    "from selenium import webdriver\n",
    "from selenium.webdriver.chrome.service import Service\n",
    "from webdriver_manager.chrome import ChromeDriverManager\n",
    "\n",
    "#샐래니움 패키지에서 webdriver class를 import한다.\n",
    "import time\n",
    "import pandas as pd\n",
    "import re\n",
    "from selenium.webdriver.support.ui import WebDriverWait\n",
    "from selenium.webdriver.support import expected_conditions as EC\n",
    "from selenium.webdriver.common.by import By\n",
    "from selenium.webdriver.support.ui import Select\n",
    "import os\n",
    "import openpyxl"
   ]
  },
  {
   "cell_type": "code",
   "execution_count": 6,
   "metadata": {},
   "outputs": [],
   "source": [
    "# webdriver 구동하기\n",
    "\n",
    "# webdriver path지정\n",
    "driver = webdriver.Chrome(service=Service(ChromeDriverManager().install()))\n",
    "driver.set_window_size(1024, 600)"
   ]
  },
  {
   "cell_type": "code",
   "execution_count": 8,
   "metadata": {},
   "outputs": [],
   "source": [
    "#url 제어하기\n",
    "\n",
    "#svd로 이동\n",
    "url=\"http://stimmdb.coli.uni-saarland.de/\"\n",
    "driver.get(url)\n",
    "\n",
    "#영어 클릭\n",
    "\n",
    "en = driver.find_element(By.CSS_SELECTOR,'span:nth-child(2) .long_button')\n",
    "en.click()\n",
    "\n",
    "#db request\n",
    "time.sleep(1)\n",
    "\n",
    "req = driver.find_element(By.CSS_SELECTOR,'li:nth-child(1) .button_main_menu')\n",
    "req.click()\n"
   ]
  },
  {
   "cell_type": "code",
   "execution_count": null,
   "metadata": {},
   "outputs": [],
   "source": [
    "# 남성 "
   ]
  }
 ],
 "metadata": {
  "kernelspec": {
   "display_name": "Python 3.8.12 ('local_torch')",
   "language": "python",
   "name": "python3"
  },
  "language_info": {
   "codemirror_mode": {
    "name": "ipython",
    "version": 3
   },
   "file_extension": ".py",
   "mimetype": "text/x-python",
   "name": "python",
   "nbconvert_exporter": "python",
   "pygments_lexer": "ipython3",
   "version": "3.8.12"
  },
  "orig_nbformat": 4,
  "vscode": {
   "interpreter": {
    "hash": "cb9192bbf29651be1364b55280d6e01651beb2ab542678067b10db61ba862cc4"
   }
  }
 },
 "nbformat": 4,
 "nbformat_minor": 2
}
