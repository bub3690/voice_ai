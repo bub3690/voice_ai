{
 "cells": [
  {
   "cell_type": "code",
   "execution_count": 8,
   "id": "5fa63e34",
   "metadata": {},
   "outputs": [
    {
     "name": "stderr",
     "output_type": "stream",
     "text": [
      "ERROR: Could not find a version that satisfies the requirement dspUtil (from versions: none)\n",
      "ERROR: No matching distribution found for dspUtil\n"
     ]
    }
   ],
   "source": [
    "!pip install dspUtil"
   ]
  },
  {
   "cell_type": "code",
   "execution_count": 7,
   "id": "1bf1edbf",
   "metadata": {},
   "outputs": [
    {
     "ename": "ModuleNotFoundError",
     "evalue": "No module named 'dspUtil'",
     "output_type": "error",
     "traceback": [
      "\u001b[1;31m---------------------------------------------------------------------------\u001b[0m",
      "\u001b[1;31mModuleNotFoundError\u001b[0m                       Traceback (most recent call last)",
      "\u001b[1;32m~\\AppData\\Local\\Temp/ipykernel_15760/178332728.py\u001b[0m in \u001b[0;36m<module>\u001b[1;34m\u001b[0m\n\u001b[0;32m      3\u001b[0m \u001b[1;32mimport\u001b[0m \u001b[0mcopy\u001b[0m\u001b[1;33m\u001b[0m\u001b[1;33m\u001b[0m\u001b[0m\n\u001b[0;32m      4\u001b[0m \u001b[1;32mimport\u001b[0m \u001b[0mgc\u001b[0m\u001b[1;33m\u001b[0m\u001b[1;33m\u001b[0m\u001b[0m\n\u001b[1;32m----> 5\u001b[1;33m \u001b[1;32mimport\u001b[0m \u001b[0mdspUtil\u001b[0m\u001b[1;33m\u001b[0m\u001b[1;33m\u001b[0m\u001b[0m\n\u001b[0m\u001b[0;32m      6\u001b[0m \u001b[0mgc\u001b[0m\u001b[1;33m.\u001b[0m\u001b[0menable\u001b[0m\u001b[1;33m(\u001b[0m\u001b[1;33m)\u001b[0m\u001b[1;33m\u001b[0m\u001b[1;33m\u001b[0m\u001b[0m\n\u001b[0;32m      7\u001b[0m \u001b[1;33m\u001b[0m\u001b[0m\n",
      "\u001b[1;31mModuleNotFoundError\u001b[0m: No module named 'dspUtil'"
     ]
    }
   ],
   "source": [
    "import wave, struct\n",
    "import numpy, array\n",
    "import copy\n",
    "import gc\n",
    "import dspUtil\n",
    "gc.enable()\n",
    " \n",
    "import scipy.io.wavfile as sciWav\n",
    " \n",
    " \n",
    " \n",
    "def readWaveFile(fileName, useRobustButSlowAlgorithm = True):\n",
    "        if useRobustButSlowAlgorithm:\n",
    "            f = wave.open(fileName, \"rb\")\n",
    "            numFrames = f.getnframes()\n",
    "            numChannels = f.getnchannels()\n",
    "            fs = f.getframerate()\n",
    "            dataTmp = f.readframes(numFrames * numChannels)\n",
    "            sampleWidth = f.getsampwidth()\n",
    "            #print numChannels, numFrames, fs, sampleWidth, len(dataTmp)\n",
    "            format = ''\n",
    "            if sampleWidth == 1:\n",
    "                format = 'B'\n",
    "            elif sampleWidth == 2:\n",
    "                format = 'h'\n",
    "            elif sampleWidth == 4:\n",
    "                format = 'i'\n",
    "            if sampleWidth != 2:\n",
    "                raise Exception(\"we only support 16 bit data\")\n",
    "            out = struct.unpack_from ((\"%d\" % (numFrames * numChannels)) + format, dataTmp)\n",
    "\n",
    "            data = []\n",
    "            for i in range(numChannels):\n",
    "                data.append(numpy.zeros(numFrames))\n",
    "\n",
    "\n",
    "\n",
    "            divisor = float(2 ** 15)\n",
    "\n",
    "            for i in range(numChannels):\n",
    "\n",
    "                arrFrameIdx = range(numFrames) # explicit indexing and garbage collection\n",
    "                for j in arrFrameIdx:\n",
    "                    data[i][j] = out[j * numChannels + i] / divisor\n",
    "                del arrFrameIdx\n",
    "\n",
    "\n",
    "\n",
    "            f.close()\n",
    "            del dataTmp, out, f\n",
    "            gc.collect()\n",
    "            return [numChannels, numFrames, fs, data]\n",
    "\n",
    "        fs, dataRaw = sciWav.read(fileName)\n",
    "        n = len(dataRaw)\n",
    "        numChannels = 1\n",
    "        try: numChannels = dataRaw.shape[1]\n",
    "        except: pass\n",
    "        arrChannels = []\n",
    "        for chIdx in range(numChannels):\n",
    "            tmp = numpy.zeros(n)\n",
    "            if numChannels == 1:\n",
    "                tmp = dataRaw.astype(numpy.float32)\n",
    "            else:\n",
    "                tmp = dataRaw[0:, chIdx].astype(numpy.float32)\n",
    "            tmp /= float(2**15)\n",
    "            arrChannels.append(tmp)\n",
    "            del tmp\n",
    "        del dataRaw\n",
    "        gc.collect()\n",
    "        return [numChannels, n, fs, arrChannels]\n",
    " \n",
    " \n",
    " \n",
    " \n",
    "def readMonoWaveFile(fName):\n",
    "    numChannels, n, fs, arrChannels = readWaveFile(fName)\n",
    "    return arrChannels[0], fs\n",
    "\n",
    "\n",
    "\n",
    "def writeWaveFile(data, fileName, SRate = 44100.0, normalize = False, \\\n",
    "         removeDcWhenNormalizing = True\n",
    "     ): \n",
    "        if not type(data).__name__ in ['list', 'ndarray']:\n",
    "            raise Exception(\"expected a list data type, but got %s\" % type(data).__name__)\n",
    "        numChannels = 1\n",
    "        valMin, valMax = None, None\n",
    "        dataTmp = None\n",
    "        dataType = type(data[0]).__name__\n",
    "        absMax = None\n",
    "        if dataType in ['list', 'ndarray']:\n",
    "            numChannels = len(data)\n",
    "            n = len(data[0])\n",
    "            dataTmp = numpy.zeros((n, numChannels))\n",
    "            for chIdx in range(numChannels):\n",
    "                dataTmp2 = None\n",
    "                dType2 = type(data[chIdx]).__name__\n",
    "                if dType2 == 'ndarray':\n",
    "                    dataTmp2 = data[chIdx]\n",
    "                elif dType2 == 'list':\n",
    "                    dataTmp2 = numpy.array(data[chIdx], dtype=numpy.float32)\n",
    "                else:\n",
    "                    raise Exception(\"channel data is not a list or a numpy array\")\n",
    "                if normalize:\n",
    "                    if removeDcWhenNormalizing:\n",
    "                        dataTmp2 -= dspUtil.nanMean(dataTmp2)\n",
    "                    absMax = dspUtil.getAbsMax(dataTmp2)\n",
    "                    dataTmp2 /= absMax * 1.000001\n",
    "                dataTmp[0:, chIdx] = dataTmp2\n",
    "                del dataTmp2\n",
    "        else:\n",
    "            # this is a mono file\n",
    "            # force creating a copy, to avoid scaling the original data...\n",
    "            dataTmp = numpy.array(data) \n",
    "            if normalize:\n",
    "                if removeDcWhenNormalizing:\n",
    "                    dataTmp -= dspUtil.nanMean(dataTmp)\n",
    "                absMax = dspUtil.getAbsMax(dataTmp)\n",
    "                if absMax != 0:\n",
    "                    dataTmp /= absMax * 1.000001\n",
    "\n",
    "         # save\n",
    "         #print dataTmp.dtype, dataTmp.shape\n",
    "        dataTmp *= float(2**15 - 1)\n",
    "        dataTmp2 = numpy.asarray(dataTmp, dtype=numpy.int16)\n",
    "        sciWav.write(fileName, SRate, dataTmp2)\n",
    "        del dataTmp, dataTmp2\n",
    "        gc.collect()"
   ]
  },
  {
   "cell_type": "code",
   "execution_count": 14,
   "id": "5339bf0e",
   "metadata": {},
   "outputs": [
    {
     "name": "stderr",
     "output_type": "stream",
     "text": [
      "ERROR: Could not find a version that satisfies the requirement easy_install (from versions: none)\n",
      "ERROR: No matching distribution found for easy_install\n"
     ]
    }
   ],
   "source": [
    "!pip install easy_install"
   ]
  },
  {
   "cell_type": "code",
   "execution_count": 19,
   "id": "dc6ef538",
   "metadata": {},
   "outputs": [
    {
     "ename": "ValueError",
     "evalue": "File format b'FORM' not understood. Only 'RIFF' and 'RIFX' supported.",
     "output_type": "error",
     "traceback": [
      "\u001b[1;31m---------------------------------------------------------------------------\u001b[0m",
      "\u001b[1;31mValueError\u001b[0m                                Traceback (most recent call last)",
      "\u001b[1;32m~\\AppData\\Local\\Temp/ipykernel_15760/645599962.py\u001b[0m in \u001b[0;36m<module>\u001b[1;34m\u001b[0m\n\u001b[0;32m      1\u001b[0m \u001b[1;32mimport\u001b[0m \u001b[0mscipy\u001b[0m\u001b[1;33m.\u001b[0m\u001b[0mio\u001b[0m\u001b[1;33m.\u001b[0m\u001b[0mwavfile\u001b[0m \u001b[1;32mas\u001b[0m \u001b[0mwf\u001b[0m\u001b[1;33m\u001b[0m\u001b[1;33m\u001b[0m\u001b[0m\n\u001b[0;32m      2\u001b[0m \u001b[0mpath1\u001b[0m\u001b[1;33m=\u001b[0m\u001b[1;34m\"D:\\\\projects\\\\voice_pathology_ai\\\\voice_data\\\\fusion_egg\\\\healthy\\\\a\\\\1-a_n.egg\"\u001b[0m\u001b[1;33m\u001b[0m\u001b[1;33m\u001b[0m\u001b[0m\n\u001b[1;32m----> 3\u001b[1;33m \u001b[0mwf\u001b[0m\u001b[1;33m.\u001b[0m\u001b[0mread\u001b[0m\u001b[1;33m(\u001b[0m\u001b[0mpath1\u001b[0m\u001b[1;33m)\u001b[0m\u001b[1;33m\u001b[0m\u001b[1;33m\u001b[0m\u001b[0m\n\u001b[0m",
      "\u001b[1;32mD:\\miniconda3\\envs\\local_torch\\lib\\site-packages\\scipy\\io\\wavfile.py\u001b[0m in \u001b[0;36mread\u001b[1;34m(filename, mmap)\u001b[0m\n\u001b[0;32m    648\u001b[0m \u001b[1;33m\u001b[0m\u001b[0m\n\u001b[0;32m    649\u001b[0m     \u001b[1;32mtry\u001b[0m\u001b[1;33m:\u001b[0m\u001b[1;33m\u001b[0m\u001b[1;33m\u001b[0m\u001b[0m\n\u001b[1;32m--> 650\u001b[1;33m         \u001b[0mfile_size\u001b[0m\u001b[1;33m,\u001b[0m \u001b[0mis_big_endian\u001b[0m \u001b[1;33m=\u001b[0m \u001b[0m_read_riff_chunk\u001b[0m\u001b[1;33m(\u001b[0m\u001b[0mfid\u001b[0m\u001b[1;33m)\u001b[0m\u001b[1;33m\u001b[0m\u001b[1;33m\u001b[0m\u001b[0m\n\u001b[0m\u001b[0;32m    651\u001b[0m         \u001b[0mfmt_chunk_received\u001b[0m \u001b[1;33m=\u001b[0m \u001b[1;32mFalse\u001b[0m\u001b[1;33m\u001b[0m\u001b[1;33m\u001b[0m\u001b[0m\n\u001b[0;32m    652\u001b[0m         \u001b[0mdata_chunk_received\u001b[0m \u001b[1;33m=\u001b[0m \u001b[1;32mFalse\u001b[0m\u001b[1;33m\u001b[0m\u001b[1;33m\u001b[0m\u001b[0m\n",
      "\u001b[1;32mD:\\miniconda3\\envs\\local_torch\\lib\\site-packages\\scipy\\io\\wavfile.py\u001b[0m in \u001b[0;36m_read_riff_chunk\u001b[1;34m(fid)\u001b[0m\n\u001b[0;32m    519\u001b[0m     \u001b[1;32melse\u001b[0m\u001b[1;33m:\u001b[0m\u001b[1;33m\u001b[0m\u001b[1;33m\u001b[0m\u001b[0m\n\u001b[0;32m    520\u001b[0m         \u001b[1;31m# There are also .wav files with \"FFIR\" or \"XFIR\" signatures?\u001b[0m\u001b[1;33m\u001b[0m\u001b[1;33m\u001b[0m\u001b[1;33m\u001b[0m\u001b[0m\n\u001b[1;32m--> 521\u001b[1;33m         raise ValueError(f\"File format {repr(str1)} not understood. Only \"\n\u001b[0m\u001b[0;32m    522\u001b[0m                          \"'RIFF' and 'RIFX' supported.\")\n\u001b[0;32m    523\u001b[0m \u001b[1;33m\u001b[0m\u001b[0m\n",
      "\u001b[1;31mValueError\u001b[0m: File format b'FORM' not understood. Only 'RIFF' and 'RIFX' supported."
     ]
    }
   ],
   "source": [
    "import scipy.io.wavfile as wf\n",
    "path1=\"D:\\\\projects\\\\voice_pathology_ai\\\\voice_data\\\\fusion_egg\\\\healthy\\\\a\\\\1-a_n.egg\"\n",
    "wf.read(path1)"
   ]
  }
 ],
 "metadata": {
  "kernelspec": {
   "display_name": "Python 3 (ipykernel)",
   "language": "python",
   "name": "python3"
  },
  "language_info": {
   "codemirror_mode": {
    "name": "ipython",
    "version": 3
   },
   "file_extension": ".py",
   "mimetype": "text/x-python",
   "name": "python",
   "nbconvert_exporter": "python",
   "pygments_lexer": "ipython3",
   "version": "3.8.8"
  },
  "toc": {
   "base_numbering": 1,
   "nav_menu": {},
   "number_sections": true,
   "sideBar": true,
   "skip_h1_title": false,
   "title_cell": "Table of Contents",
   "title_sidebar": "Contents",
   "toc_cell": false,
   "toc_position": {},
   "toc_section_display": true,
   "toc_window_display": false
  }
 },
 "nbformat": 4,
 "nbformat_minor": 5
}
