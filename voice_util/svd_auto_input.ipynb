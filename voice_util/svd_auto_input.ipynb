{
 "cells": [
  {
   "cell_type": "markdown",
   "id": "5341a81b",
   "metadata": {},
   "source": [
    "# svd auto input\n",
    "- svd 웹에서 병을 전부 입력하기 힘들어서 자동화\n",
    "- selenium\n",
    "\n",
    "\n",
    "\n",
    "- english button\n",
    "    - span:nth-child(2) .long_button\n",
    "- database request\n",
    "    - li:nth-child(1) .button_main_menu\n",
    "- select box\n",
    "    - #s_pat_1\n",
    "\n"
   ]
  },
  {
   "cell_type": "code",
   "execution_count": 3,
   "id": "cd61d91f",
   "metadata": {},
   "outputs": [],
   "source": [
    "from selenium import webdriver\n",
    "#샐래니움 패키지에서 webdriver class를 import한다.\n",
    "import time\n",
    "import pandas as pd\n",
    "import re\n",
    "from selenium.webdriver.support.ui import WebDriverWait\n",
    "from selenium.webdriver.support import expected_conditions as EC\n",
    "from selenium.webdriver.common.by import By\n",
    "from selenium.webdriver.support.ui import Select\n",
    "import os\n",
    "import openpyxl"
   ]
  },
  {
   "cell_type": "code",
   "execution_count": 4,
   "id": "bb042e83",
   "metadata": {},
   "outputs": [
    {
     "name": "stderr",
     "output_type": "stream",
     "text": [
      "C:\\Users\\USER\\AppData\\Local\\Temp/ipykernel_39764/1642295019.py:4: DeprecationWarning: executable_path has been deprecated, please pass in a Service object\n",
      "  driver=webdriver.Chrome('D:/chromedriver_win32/chromedriver.exe')\n"
     ]
    }
   ],
   "source": [
    "# webdriver 구동하기\n",
    "\n",
    "# webdriver path지정\n",
    "driver=webdriver.Chrome('D:/chromedriver_win32/chromedriver.exe')\n",
    "driver.set_window_size(1024, 600)"
   ]
  },
  {
   "cell_type": "code",
   "execution_count": 10,
   "id": "c1e6cb1a",
   "metadata": {},
   "outputs": [],
   "source": [
    "#url 제어하기\n",
    "\n",
    "#svd로 이동\n",
    "url=\"http://stimmdb.coli.uni-saarland.de/\"\n",
    "driver.get(url)\n",
    "\n",
    "#영어 클릭\n",
    "\n",
    "en = driver.find_element(By.CSS_SELECTOR,'span:nth-child(2) .long_button')\n",
    "en.click()\n",
    "\n",
    "#db request\n",
    "\n",
    "req = driver.find_element(By.CSS_SELECTOR,'li:nth-child(1) .button_main_menu')\n",
    "req.click()\n"
   ]
  },
  {
   "cell_type": "code",
   "execution_count": null,
   "id": "bd26cb65",
   "metadata": {},
   "outputs": [],
   "source": [
    "#데이터 목록 읽어오기\n",
    "\n",
    "\n"
   ]
  },
  {
   "cell_type": "code",
   "execution_count": null,
   "id": "27baf5a1",
   "metadata": {},
   "outputs": [],
   "source": [
    "from selenium.webdriver.support.ui import Select\n",
    "\n",
    "\n",
    "select = Select(driver.find_element_by_css_selector('#s_pat_1'))\n",
    "\n",
    "# select by visible text\n",
    "select.select_by_visible_text('Banana')\n",
    "\n",
    "# select by value \n",
    "select.select_by_value('1')"
   ]
  },
  {
   "cell_type": "code",
   "execution_count": null,
   "id": "6d0fad32",
   "metadata": {},
   "outputs": [],
   "source": []
  }
 ],
 "metadata": {
  "kernelspec": {
   "display_name": "Python 3 (ipykernel)",
   "language": "python",
   "name": "python3"
  },
  "language_info": {
   "codemirror_mode": {
    "name": "ipython",
    "version": 3
   },
   "file_extension": ".py",
   "mimetype": "text/x-python",
   "name": "python",
   "nbconvert_exporter": "python",
   "pygments_lexer": "ipython3",
   "version": "3.8.12"
  },
  "toc": {
   "base_numbering": 1,
   "nav_menu": {},
   "number_sections": true,
   "sideBar": true,
   "skip_h1_title": false,
   "title_cell": "Table of Contents",
   "title_sidebar": "Contents",
   "toc_cell": false,
   "toc_position": {},
   "toc_section_display": true,
   "toc_window_display": false
  }
 },
 "nbformat": 4,
 "nbformat_minor": 5
}
