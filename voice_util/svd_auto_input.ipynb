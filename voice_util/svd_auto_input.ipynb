{
 "cells": [
  {
   "cell_type": "markdown",
   "id": "cea7bcd3",
   "metadata": {},
   "source": [
    "# svd auto input\n",
    "- svd 웹에서 병을 전부 입력하기 힘들어서 자동화\n",
    "- selenium\n",
    "\n",
    "\n",
    "\n",
    "- english button\n",
    "    - span:nth-child(2) .long_button\n",
    "- database request\n",
    "    - li:nth-child(1) .button_main_menu\n",
    "- select box\n",
    "    - #s_pat_1\n",
    "\n"
   ]
  },
  {
   "cell_type": "code",
   "execution_count": 67,
   "id": "01194d1b",
   "metadata": {},
   "outputs": [],
   "source": [
    "from selenium import webdriver\n",
    "#샐래니움 패키지에서 webdriver class를 import한다.\n",
    "import time\n",
    "import pandas as pd\n",
    "import re\n",
    "from selenium.webdriver.support.ui import WebDriverWait\n",
    "from selenium.webdriver.support import expected_conditions as EC\n",
    "from selenium.webdriver.common.by import By\n",
    "from selenium.webdriver.support.ui import Select\n",
    "import os\n",
    "import openpyxl"
   ]
  },
  {
   "cell_type": "code",
   "execution_count": 68,
   "id": "32f62295",
   "metadata": {},
   "outputs": [
    {
     "name": "stderr",
     "output_type": "stream",
     "text": [
      "C:\\Users\\USER\\AppData\\Local\\Temp/ipykernel_39764/1642295019.py:4: DeprecationWarning: executable_path has been deprecated, please pass in a Service object\n",
      "  driver=webdriver.Chrome('D:/chromedriver_win32/chromedriver.exe')\n"
     ]
    }
   ],
   "source": [
    "# webdriver 구동하기\n",
    "\n",
    "# webdriver path지정\n",
    "driver=webdriver.Chrome('D:/chromedriver_win32/chromedriver.exe')\n",
    "driver.set_window_size(1024, 600)"
   ]
  },
  {
   "cell_type": "code",
   "execution_count": 69,
   "id": "0ff5e4ac",
   "metadata": {},
   "outputs": [],
   "source": [
    "#url 제어하기\n",
    "\n",
    "#svd로 이동\n",
    "url=\"http://stimmdb.coli.uni-saarland.de/\"\n",
    "driver.get(url)\n",
    "\n",
    "#영어 클릭\n",
    "\n",
    "en = driver.find_element(By.CSS_SELECTOR,'span:nth-child(2) .long_button')\n",
    "en.click()\n",
    "\n",
    "#db request\n",
    "time.sleep(1)\n",
    "\n",
    "req = driver.find_element(By.CSS_SELECTOR,'li:nth-child(1) .button_main_menu')\n",
    "req.click()\n"
   ]
  },
  {
   "cell_type": "code",
   "execution_count": 70,
   "id": "928ee8de",
   "metadata": {},
   "outputs": [
    {
     "data": {
      "text/html": [
       "<div>\n",
       "<style scoped>\n",
       "    .dataframe tbody tr th:only-of-type {\n",
       "        vertical-align: middle;\n",
       "    }\n",
       "\n",
       "    .dataframe tbody tr th {\n",
       "        vertical-align: top;\n",
       "    }\n",
       "\n",
       "    .dataframe thead th {\n",
       "        text-align: right;\n",
       "    }\n",
       "</style>\n",
       "<table border=\"1\" class=\"dataframe\">\n",
       "  <thead>\n",
       "    <tr style=\"text-align: right;\">\n",
       "      <th></th>\n",
       "      <th>name</th>\n",
       "      <th>category</th>\n",
       "    </tr>\n",
       "  </thead>\n",
       "  <tbody>\n",
       "    <tr>\n",
       "      <th>0</th>\n",
       "      <td>Carcinoma in situ</td>\n",
       "      <td>structural</td>\n",
       "    </tr>\n",
       "    <tr>\n",
       "      <th>1</th>\n",
       "      <td>Epiglottiskarzinom</td>\n",
       "      <td>structural</td>\n",
       "    </tr>\n",
       "    <tr>\n",
       "      <th>2</th>\n",
       "      <td>GERD</td>\n",
       "      <td>structural</td>\n",
       "    </tr>\n",
       "    <tr>\n",
       "      <th>3</th>\n",
       "      <td>Laryngitis</td>\n",
       "      <td>structural</td>\n",
       "    </tr>\n",
       "    <tr>\n",
       "      <th>4</th>\n",
       "      <td>Leukoplakie</td>\n",
       "      <td>structural</td>\n",
       "    </tr>\n",
       "  </tbody>\n",
       "</table>\n",
       "</div>"
      ],
      "text/plain": [
       "                 name    category\n",
       "0   Carcinoma in situ  structural\n",
       "1  Epiglottiskarzinom  structural\n",
       "2                GERD  structural\n",
       "3          Laryngitis  structural\n",
       "4         Leukoplakie  structural"
      ]
     },
     "execution_count": 70,
     "metadata": {},
     "output_type": "execute_result"
    }
   ],
   "source": [
    "#데이터 목록 읽어오기\n",
    "\n",
    "path = '../voice_data/organic_list.xlsx'\n",
    "\n",
    "organic_list =  pd.read_excel(path)\n",
    "organic_list.head()\n"
   ]
  },
  {
   "cell_type": "code",
   "execution_count": 71,
   "id": "8dc5a48a",
   "metadata": {},
   "outputs": [
    {
     "data": {
      "text/plain": [
       "name                      category  \n",
       "Carcinoma in situ         structural    1\n",
       "Epiglottiskarzinom        structural    1\n",
       "GERD                      structural    1\n",
       "Kontaktpachydermie        structural    1\n",
       "Laryngitis                structural    1\n",
       "Leukoplakie               structural    1\n",
       "Monochorditis             structural    1\n",
       "Reinke Ödem               structural    1\n",
       "Rekurrensparese           neurogenic    1\n",
       "Spasmodische Dysphonie    neurogenic    1\n",
       "Stimmlippenkarzinom       structural    1\n",
       "Stimmlippenpolyp          structural    1\n",
       "Taschenfaltenhyperplasie  structural    1\n",
       "dtype: int64"
      ]
     },
     "execution_count": 71,
     "metadata": {},
     "output_type": "execute_result"
    }
   ],
   "source": [
    "organic_list.value_counts()"
   ]
  },
  {
   "cell_type": "code",
   "execution_count": 72,
   "id": "4657bbb6",
   "metadata": {},
   "outputs": [
    {
     "data": {
      "text/plain": [
       "0            Carcinoma in situ\n",
       "1           Epiglottiskarzinom\n",
       "2                         GERD\n",
       "3                   Laryngitis\n",
       "4                  Leukoplakie\n",
       "5                  Reinke Ödem\n",
       "6              Rekurrensparese\n",
       "7       Spasmodische Dysphonie\n",
       "8          Stimmlippenkarzinom\n",
       "9             Stimmlippenpolyp\n",
       "10               Monochorditis\n",
       "11    Taschenfaltenhyperplasie\n",
       "12          Kontaktpachydermie\n",
       "Name: name, dtype: object"
      ]
     },
     "execution_count": 72,
     "metadata": {},
     "output_type": "execute_result"
    }
   ],
   "source": [
    "organic_list['name']"
   ]
  },
  {
   "cell_type": "code",
   "execution_count": 73,
   "id": "bca1819c",
   "metadata": {},
   "outputs": [
    {
     "data": {
      "text/plain": [
       "13"
      ]
     },
     "execution_count": 73,
     "metadata": {},
     "output_type": "execute_result"
    }
   ],
   "source": [
    "len(organic_list['name'])"
   ]
  },
  {
   "cell_type": "code",
   "execution_count": 74,
   "id": "80857881",
   "metadata": {},
   "outputs": [
    {
     "name": "stderr",
     "output_type": "stream",
     "text": [
      "C:\\Users\\USER\\AppData\\Local\\Temp/ipykernel_39764/3463081769.py:11: DeprecationWarning: find_element_by_css_selector is deprecated. Please use find_element(by=By.CSS_SELECTOR, value=css_selector) instead\n",
      "  select = Select(driver.find_element_by_css_selector(select_css))\n"
     ]
    },
    {
     "name": "stdout",
     "output_type": "stream",
     "text": [
      "Carcinoma in situ\n",
      "Epiglottiskarzinom\n",
      "GERD\n",
      "Laryngitis\n",
      "Leukoplakie\n",
      "Reinke Ödem\n",
      "Rekurrensparese\n",
      "Spasmodische Dysphonie\n",
      "Stimmlippenkarzinom\n",
      "Stimmlippenpolyp\n",
      "Monochorditis\n",
      "Taschenfaltenhyperplasie\n",
      "Kontaktpachydermie\n"
     ]
    }
   ],
   "source": [
    "from selenium.webdriver.support.ui import Select\n",
    "\n",
    "\n",
    "for i in range( len(organic_list['name']) ):\n",
    "    #추가 버튼\n",
    "    plus = driver.find_element(By.CSS_SELECTOR,'.spacingH .long_button[name=\"sb_patlineadd_1\"]')\n",
    "    plus.click()\n",
    "\n",
    "for i in range(1,len(organic_list['name'])+1 ):\n",
    "    select_css = '#s_pat_'+str(i)\n",
    "    select = Select(driver.find_element_by_css_selector(select_css))\n",
    "\n",
    "    # select by visible text\n",
    "    select.select_by_visible_text(organic_list['name'][i-1])\n",
    "    print(organic_list['name'][i-1])\n",
    "\n",
    "    #find buttons and select one\n",
    "    input_buttons=driver.find_elements(By.CSS_SELECTOR,\"tr:nth-child(2) div:nth-child(1) .short_button\")\n",
    "    input_buttons[i-1].click()\n",
    "    "
   ]
  },
  {
   "cell_type": "code",
   "execution_count": null,
   "id": "8065c55e",
   "metadata": {},
   "outputs": [],
   "source": [
    "# 환자 번호들 싹 가져오기\n",
    "\n"
   ]
  }
 ],
 "metadata": {
  "kernelspec": {
   "display_name": "Python 3 (ipykernel)",
   "language": "python",
   "name": "python3"
  },
  "language_info": {
   "codemirror_mode": {
    "name": "ipython",
    "version": 3
   },
   "file_extension": ".py",
   "mimetype": "text/x-python",
   "name": "python",
   "nbconvert_exporter": "python",
   "pygments_lexer": "ipython3",
   "version": "3.8.12"
  },
  "toc": {
   "base_numbering": 1,
   "nav_menu": {},
   "number_sections": true,
   "sideBar": true,
   "skip_h1_title": false,
   "title_cell": "Table of Contents",
   "title_sidebar": "Contents",
   "toc_cell": false,
   "toc_position": {},
   "toc_section_display": true,
   "toc_window_display": false
  }
 },
 "nbformat": 4,
 "nbformat_minor": 5
}
