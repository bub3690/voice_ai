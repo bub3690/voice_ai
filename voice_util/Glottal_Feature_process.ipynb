{
 "cells": [
  {
   "cell_type": "code",
   "execution_count": 1,
   "metadata": {},
   "outputs": [],
   "source": [
    "import pandas as pd\n",
    "import numpy as np\n",
    "import matplotlib.pyplot as plt\n"
   ]
  },
  {
   "cell_type": "code",
   "execution_count": 3,
   "metadata": {},
   "outputs": [],
   "source": [
    "glottal_df=pd.read_excel('../voice_data/all_data_ver2/glottal_all.xlsx')"
   ]
  },
  {
   "cell_type": "code",
   "execution_count": 5,
   "metadata": {},
   "outputs": [
    {
     "data": {
      "text/plain": [
       "0        715\n",
       "1       1303\n",
       "2       1557\n",
       "3       1559\n",
       "4       1864\n",
       "        ... \n",
       "1225      80\n",
       "1226      81\n",
       "1227      82\n",
       "1228      83\n",
       "1229     153\n",
       "Name: RECORDING, Length: 1230, dtype: int64"
      ]
     },
     "execution_count": 5,
     "metadata": {},
     "output_type": "execute_result"
    }
   ],
   "source": [
    "pd.read_excel('../voice_data/only_organics_healthy_available_ver2.xlsx')['RECORDING']"
   ]
  },
  {
   "cell_type": "code",
   "execution_count": 9,
   "metadata": {},
   "outputs": [],
   "source": [
    "\n",
    "glottal_columns=[\"glottal_{0}\".format(i) for i in range(1,193)]\n",
    "\n",
    "glottal_df.columns=['RECORDING']+glottal_columns\n"
   ]
  },
  {
   "cell_type": "code",
   "execution_count": 11,
   "metadata": {},
   "outputs": [],
   "source": [
    "#recording column to int64\n",
    "glottal_df['RECORDING']=glottal_df['RECORDING'].astype('int64')"
   ]
  },
  {
   "cell_type": "code",
   "execution_count": 19,
   "metadata": {},
   "outputs": [],
   "source": [
    "glottal_df=glottal_df.sort_values(by=['RECORDING']).reset_index(drop=True)"
   ]
  },
  {
   "cell_type": "code",
   "execution_count": 20,
   "metadata": {},
   "outputs": [],
   "source": [
    "glottal_df.to_excel('../voice_data/all_data_ver2/glottal_all_ver2.xlsx',index=False)"
   ]
  },
  {
   "cell_type": "code",
   "execution_count": 32,
   "metadata": {},
   "outputs": [],
   "source": [
    "# pandas code find rows in the list of values in column\n",
    "#glottal_df.loc[glottal_df['RECORDING'].isin( [1583,1967,671,879,61] )].iloc[:,1:].to_numpy()\n"
   ]
  }
 ],
 "metadata": {
  "kernelspec": {
   "display_name": "Python 3",
   "language": "python",
   "name": "python3"
  },
  "language_info": {
   "codemirror_mode": {
    "name": "ipython",
    "version": 3
   },
   "file_extension": ".py",
   "mimetype": "text/x-python",
   "name": "python",
   "nbconvert_exporter": "python",
   "pygments_lexer": "ipython3",
   "version": "3.8.12"
  },
  "orig_nbformat": 4
 },
 "nbformat": 4,
 "nbformat_minor": 2
}
