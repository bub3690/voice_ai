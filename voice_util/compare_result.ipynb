{
 "cells": [
  {
   "cell_type": "code",
   "execution_count": 3,
   "metadata": {},
   "outputs": [],
   "source": [
    "import pandas as pd\n",
    "import numpy as np\n",
    "from glob import glob"
   ]
  },
  {
   "cell_type": "code",
   "execution_count": 6,
   "metadata": {},
   "outputs": [
    {
     "data": {
      "text/plain": [
       "['D:/project/voice_pathology_ai/voice_data/results/BASELINE\\\\BASELINE.xlsx',\n",
       " 'D:/project/voice_pathology_ai/voice_data/results/BASELINE\\\\wav_res_phrase_seed_1004_organics_speaker.xlsx',\n",
       " 'D:/project/voice_pathology_ai/voice_data/results/BASELINE\\\\wav_res_phrase_seed_1005_organics_speaker.xlsx',\n",
       " 'D:/project/voice_pathology_ai/voice_data/results/BASELINE\\\\wav_res_phrase_seed_1006_organics_speaker.xlsx',\n",
       " 'D:/project/voice_pathology_ai/voice_data/results/BASELINE\\\\wav_res_phrase_seed_1007_organics_speaker.xlsx',\n",
       " 'D:/project/voice_pathology_ai/voice_data/results/BASELINE\\\\wav_res_phrase_seed_1008_organics_speaker.xlsx']"
      ]
     },
     "execution_count": 6,
     "metadata": {},
     "output_type": "execute_result"
    }
   ],
   "source": [
    "compare_phrase=\"D:/project/voice_pathology_ai/voice_data/results/BASELINE\"\n",
    "compare_vowel=\"D:/project/voice_pathology_ai/voice_data/results/vowel_fusion\"\n",
    "\n",
    "glob(compare_phrase+\"/*.xlsx\")\n"
   ]
  },
  {
   "cell_type": "code",
   "execution_count": 9,
   "metadata": {},
   "outputs": [
    {
     "data": {
      "text/plain": [
       "['D:/project/voice_pathology_ai/voice_data/results/vowel_fusion\\\\wav_res_concat_latefusion_vowel_fusion_seed_1004_organics_speaker.xlsx',\n",
       " 'D:/project/voice_pathology_ai/voice_data/results/vowel_fusion\\\\wav_res_concat_latefusion_vowel_fusion_seed_1005_organics_speaker.xlsx',\n",
       " 'D:/project/voice_pathology_ai/voice_data/results/vowel_fusion\\\\wav_res_concat_latefusion_vowel_fusion_seed_1006_organics_speaker.xlsx',\n",
       " 'D:/project/voice_pathology_ai/voice_data/results/vowel_fusion\\\\wav_res_concat_latefusion_vowel_fusion_seed_1007_organics_speaker.xlsx',\n",
       " 'D:/project/voice_pathology_ai/voice_data/results/vowel_fusion\\\\wav_res_concat_latefusion_vowel_fusion_seed_1008_organics_speaker.xlsx',\n",
       " 'D:/project/voice_pathology_ai/voice_data/results/vowel_fusion\\\\~$wav_res_concat_latefusion_vowel_fusion_seed_1004_organics_speaker.xlsx']"
      ]
     },
     "execution_count": 9,
     "metadata": {},
     "output_type": "execute_result"
    }
   ],
   "source": [
    "\n",
    "glob(compare_vowel+\"/*.xlsx\")"
   ]
  },
  {
   "cell_type": "code",
   "execution_count": 40,
   "metadata": {},
   "outputs": [],
   "source": [
    "phrase_df = pd.read_excel(\"D:/project/voice_pathology_ai/voice_data/results/BASELINE\\\\wav_res_phrase_seed_1004_organics_speaker.xlsx\")\n",
    "\n",
    "\n",
    "vowel_df =pd.read_excel(\"D:/project/voice_pathology_ai/voice_data/results/vowel_fusion\\\\wav_res_concat_latefusion_vowel_fusion_seed_1004_organics_speaker.xlsx\")"
   ]
  },
  {
   "cell_type": "code",
   "execution_count": 41,
   "metadata": {},
   "outputs": [],
   "source": [
    "vowel_correct=vowel_df.where((vowel_df['result']==True) & (vowel_df['fold']==1) ).dropna()['filename'].astype(np.int64)\n",
    "vowel_wrong=vowel_df.where((vowel_df['result']==False) & (vowel_df['fold']==1) ).dropna()['filename'].astype(np.int64)"
   ]
  },
  {
   "cell_type": "code",
   "execution_count": 46,
   "metadata": {},
   "outputs": [
    {
     "data": {
      "text/plain": [
       "51"
      ]
     },
     "execution_count": 46,
     "metadata": {},
     "output_type": "execute_result"
    }
   ],
   "source": [
    "len(vowel_wrong)"
   ]
  },
  {
   "cell_type": "code",
   "execution_count": 52,
   "metadata": {},
   "outputs": [],
   "source": [
    "phrase_correct=phrase_df.where((phrase_df['result']==True) & (phrase_df['fold']==1) ).dropna()['filename'].astype(np.int64)\n",
    "phrase_wrong=phrase_df.where((phrase_df['result']==False) & (phrase_df['fold']==1) ).dropna()['filename'].astype(np.int64)"
   ]
  },
  {
   "cell_type": "code",
   "execution_count": 53,
   "metadata": {},
   "outputs": [
    {
     "data": {
      "text/plain": [
       "30"
      ]
     },
     "execution_count": 53,
     "metadata": {},
     "output_type": "execute_result"
    }
   ],
   "source": [
    "len(phrase_wrong)"
   ]
  },
  {
   "cell_type": "code",
   "execution_count": 55,
   "metadata": {},
   "outputs": [
    {
     "data": {
      "text/plain": [
       "{60, 79, 94, 993, 1097, 1223, 1229, 1325, 1349, 1540, 1671, 1764, 2407, 2508}"
      ]
     },
     "execution_count": 55,
     "metadata": {},
     "output_type": "execute_result"
    }
   ],
   "source": [
    "set(phrase_wrong) - set(vowel_wrong)\n",
    "#vowel은 맞췄지만, phrase는 틀린"
   ]
  },
  {
   "cell_type": "code",
   "execution_count": 56,
   "metadata": {},
   "outputs": [
    {
     "data": {
      "text/plain": [
       "{157,\n",
       " 708,\n",
       " 904,\n",
       " 928,\n",
       " 1026,\n",
       " 1257,\n",
       " 1277,\n",
       " 1444,\n",
       " 1447,\n",
       " 1551,\n",
       " 1664,\n",
       " 1713,\n",
       " 1790,\n",
       " 1797,\n",
       " 1804,\n",
       " 1807,\n",
       " 1817,\n",
       " 1821,\n",
       " 1832,\n",
       " 1834,\n",
       " 1902,\n",
       " 1940,\n",
       " 1950,\n",
       " 1972,\n",
       " 1974,\n",
       " 2015,\n",
       " 2030,\n",
       " 2141,\n",
       " 2219,\n",
       " 2227,\n",
       " 2283,\n",
       " 2304,\n",
       " 2320,\n",
       " 2424,\n",
       " 2538}"
      ]
     },
     "execution_count": 56,
     "metadata": {},
     "output_type": "execute_result"
    }
   ],
   "source": [
    "set(vowel_wrong) - set(phrase_wrong)\n",
    "#phrase은 맞췄지만, vowel는 틀린"
   ]
  }
 ],
 "metadata": {
  "kernelspec": {
   "display_name": "local_torch",
   "language": "python",
   "name": "python3"
  },
  "language_info": {
   "codemirror_mode": {
    "name": "ipython",
    "version": 3
   },
   "file_extension": ".py",
   "mimetype": "text/x-python",
   "name": "python",
   "nbconvert_exporter": "python",
   "pygments_lexer": "ipython3",
   "version": "3.8.12 (default, Oct 12 2021, 03:01:40) [MSC v.1916 64 bit (AMD64)]"
  },
  "orig_nbformat": 4,
  "vscode": {
   "interpreter": {
    "hash": "cb9192bbf29651be1364b55280d6e01651beb2ab542678067b10db61ba862cc4"
   }
  }
 },
 "nbformat": 4,
 "nbformat_minor": 2
}
