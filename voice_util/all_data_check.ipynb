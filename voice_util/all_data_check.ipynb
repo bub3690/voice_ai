{
 "cells": [
  {
   "attachments": {},
   "cell_type": "markdown",
   "metadata": {},
   "source": [
    "# all data check\n",
    "\n",
    "데이터 중, a,i,u,(high normal low) phrase중 하나라도 파일이 깨진 환자는 예외한다.\n",
    "\n",
    "그 결과 all data ver2 excel로 출력한다."
   ]
  },
  {
   "cell_type": "code",
   "execution_count": 1,
   "metadata": {},
   "outputs": [],
   "source": [
    "import re\n",
    "from glob import glob\n",
    "import pandas as pd\n",
    "import numpy as np"
   ]
  },
  {
   "cell_type": "code",
   "execution_count": 2,
   "metadata": {},
   "outputs": [],
   "source": [
    "all_data_before=pd.read_excel(\"../voice_data/svdlimit.xlsx\")"
   ]
  },
  {
   "cell_type": "code",
   "execution_count": 3,
   "metadata": {},
   "outputs": [
    {
     "data": {
      "text/html": [
       "<div>\n",
       "<style scoped>\n",
       "    .dataframe tbody tr th:only-of-type {\n",
       "        vertical-align: middle;\n",
       "    }\n",
       "\n",
       "    .dataframe tbody tr th {\n",
       "        vertical-align: top;\n",
       "    }\n",
       "\n",
       "    .dataframe thead th {\n",
       "        text-align: right;\n",
       "    }\n",
       "</style>\n",
       "<table border=\"1\" class=\"dataframe\">\n",
       "  <thead>\n",
       "    <tr style=\"text-align: right;\">\n",
       "      <th></th>\n",
       "      <th>RECORDING</th>\n",
       "      <th>PATHOLOGY</th>\n",
       "      <th>DATE</th>\n",
       "      <th>SPEAKER</th>\n",
       "      <th>GENDER</th>\n",
       "      <th>AGE</th>\n",
       "      <th>DETAIL</th>\n",
       "      <th>DIAG</th>\n",
       "    </tr>\n",
       "  </thead>\n",
       "  <tbody>\n",
       "    <tr>\n",
       "      <th>0</th>\n",
       "      <td>1</td>\n",
       "      <td>n</td>\n",
       "      <td>20/11/1997</td>\n",
       "      <td>1</td>\n",
       "      <td>w</td>\n",
       "      <td>20</td>\n",
       "      <td>control</td>\n",
       "      <td>control</td>\n",
       "    </tr>\n",
       "    <tr>\n",
       "      <th>1</th>\n",
       "      <td>1862</td>\n",
       "      <td>p</td>\n",
       "      <td>27/11/2000</td>\n",
       "      <td>1</td>\n",
       "      <td>w</td>\n",
       "      <td>23</td>\n",
       "      <td>Funktionelle Dysphonie</td>\n",
       "      <td>non-organic</td>\n",
       "    </tr>\n",
       "    <tr>\n",
       "      <th>2</th>\n",
       "      <td>2</td>\n",
       "      <td>n</td>\n",
       "      <td>20/11/1997</td>\n",
       "      <td>2</td>\n",
       "      <td>w</td>\n",
       "      <td>22</td>\n",
       "      <td>control</td>\n",
       "      <td>control</td>\n",
       "    </tr>\n",
       "    <tr>\n",
       "      <th>3</th>\n",
       "      <td>3</td>\n",
       "      <td>n</td>\n",
       "      <td>20/11/1997</td>\n",
       "      <td>3</td>\n",
       "      <td>w</td>\n",
       "      <td>23</td>\n",
       "      <td>control</td>\n",
       "      <td>control</td>\n",
       "    </tr>\n",
       "    <tr>\n",
       "      <th>4</th>\n",
       "      <td>4</td>\n",
       "      <td>n</td>\n",
       "      <td>20/11/1997</td>\n",
       "      <td>4</td>\n",
       "      <td>m</td>\n",
       "      <td>22</td>\n",
       "      <td>control</td>\n",
       "      <td>control</td>\n",
       "    </tr>\n",
       "    <tr>\n",
       "      <th>...</th>\n",
       "      <td>...</td>\n",
       "      <td>...</td>\n",
       "      <td>...</td>\n",
       "      <td>...</td>\n",
       "      <td>...</td>\n",
       "      <td>...</td>\n",
       "      <td>...</td>\n",
       "      <td>...</td>\n",
       "    </tr>\n",
       "    <tr>\n",
       "      <th>2220</th>\n",
       "      <td>1051</td>\n",
       "      <td>p</td>\n",
       "      <td>11.11.1998</td>\n",
       "      <td>1402</td>\n",
       "      <td>w</td>\n",
       "      <td>29</td>\n",
       "      <td>Hyperfunktionelle Dysphonie; Psychogene Dysphonie</td>\n",
       "      <td>non-organic</td>\n",
       "    </tr>\n",
       "    <tr>\n",
       "      <th>2221</th>\n",
       "      <td>693</td>\n",
       "      <td>p</td>\n",
       "      <td>15.05.1998</td>\n",
       "      <td>1403</td>\n",
       "      <td>w</td>\n",
       "      <td>28</td>\n",
       "      <td>Rhinophonie aperta</td>\n",
       "      <td>NaN</td>\n",
       "    </tr>\n",
       "    <tr>\n",
       "      <th>2222</th>\n",
       "      <td>712</td>\n",
       "      <td>p</td>\n",
       "      <td>20.05.1998</td>\n",
       "      <td>1404</td>\n",
       "      <td>w</td>\n",
       "      <td>42</td>\n",
       "      <td>Rekurrensparese</td>\n",
       "      <td>neurogenic</td>\n",
       "    </tr>\n",
       "    <tr>\n",
       "      <th>2223</th>\n",
       "      <td>713</td>\n",
       "      <td>p</td>\n",
       "      <td>20.05.1998</td>\n",
       "      <td>1405</td>\n",
       "      <td>m</td>\n",
       "      <td>13</td>\n",
       "      <td>Rhinophonie aperta</td>\n",
       "      <td>NaN</td>\n",
       "    </tr>\n",
       "    <tr>\n",
       "      <th>2224</th>\n",
       "      <td>714</td>\n",
       "      <td>p</td>\n",
       "      <td>20.05.1998</td>\n",
       "      <td>1406</td>\n",
       "      <td>m</td>\n",
       "      <td>71</td>\n",
       "      <td>Dish-Syndrom</td>\n",
       "      <td>NaN</td>\n",
       "    </tr>\n",
       "  </tbody>\n",
       "</table>\n",
       "<p>2225 rows × 8 columns</p>\n",
       "</div>"
      ],
      "text/plain": [
       "      RECORDING PATHOLOGY        DATE  SPEAKER GENDER  AGE  \\\n",
       "0             1         n  20/11/1997        1      w   20   \n",
       "1          1862         p  27/11/2000        1      w   23   \n",
       "2             2         n  20/11/1997        2      w   22   \n",
       "3             3         n  20/11/1997        3      w   23   \n",
       "4             4         n  20/11/1997        4      m   22   \n",
       "...         ...       ...         ...      ...    ...  ...   \n",
       "2220       1051         p  11.11.1998     1402      w   29   \n",
       "2221        693         p  15.05.1998     1403      w   28   \n",
       "2222        712         p  20.05.1998     1404      w   42   \n",
       "2223        713         p  20.05.1998     1405      m   13   \n",
       "2224        714         p  20.05.1998     1406      m   71   \n",
       "\n",
       "                                                 DETAIL         DIAG  \n",
       "0                                               control      control  \n",
       "1                                Funktionelle Dysphonie  non-organic  \n",
       "2                                               control      control  \n",
       "3                                               control      control  \n",
       "4                                               control      control  \n",
       "...                                                 ...          ...  \n",
       "2220  Hyperfunktionelle Dysphonie; Psychogene Dysphonie  non-organic  \n",
       "2221                                 Rhinophonie aperta          NaN  \n",
       "2222                                    Rekurrensparese   neurogenic  \n",
       "2223                                 Rhinophonie aperta          NaN  \n",
       "2224                                       Dish-Syndrom          NaN  \n",
       "\n",
       "[2225 rows x 8 columns]"
      ]
     },
     "execution_count": 3,
     "metadata": {},
     "output_type": "execute_result"
    }
   ],
   "source": [
    "all_data_before"
   ]
  },
  {
   "cell_type": "code",
   "execution_count": 4,
   "metadata": {},
   "outputs": [],
   "source": [
    "all_data_before['DIAG']=all_data_before['DIAG'].fillna('else')"
   ]
  },
  {
   "cell_type": "code",
   "execution_count": 5,
   "metadata": {},
   "outputs": [
    {
     "data": {
      "text/plain": [
       "control        869\n",
       "else           413\n",
       "non-organic    346\n",
       "structural     325\n",
       "neurogenic     272\n",
       "Name: DIAG, dtype: int64"
      ]
     },
     "execution_count": 5,
     "metadata": {},
     "output_type": "execute_result"
    }
   ],
   "source": [
    "all_data_before['DIAG'].value_counts()"
   ]
  },
  {
   "cell_type": "code",
   "execution_count": 9,
   "metadata": {},
   "outputs": [],
   "source": [
    "all_data_before.to_excel(\"../voice_data/all_data.xlsx\",index=False)"
   ]
  },
  {
   "attachments": {},
   "cell_type": "markdown",
   "metadata": {},
   "source": [
    "pickles"
   ]
  },
  {
   "cell_type": "code",
   "execution_count": 6,
   "metadata": {},
   "outputs": [
    {
     "data": {
      "text/plain": [
       "['../voice_data/all_data_ver2\\\\a_high_dict_ver2_all.pickle',\n",
       " '../voice_data/all_data_ver2\\\\a_low_dict_ver2_all.pickle',\n",
       " '../voice_data/all_data_ver2\\\\a_normal_dict_ver2_all.pickle',\n",
       " '../voice_data/all_data_ver2\\\\healthy',\n",
       " '../voice_data/all_data_ver2\\\\i_high_dict_ver2_all.pickle',\n",
       " '../voice_data/all_data_ver2\\\\i_low_dict_ver2_all.pickle',\n",
       " '../voice_data/all_data_ver2\\\\i_normal_dict_ver2_all.pickle',\n",
       " '../voice_data/all_data_ver2\\\\pathology',\n",
       " '../voice_data/all_data_ver2\\\\phrase_dict_ver2_all.pickle',\n",
       " '../voice_data/all_data_ver2\\\\phrase_dict_ver2_EGG_all.pickle',\n",
       " '../voice_data/all_data_ver2\\\\u_high_dict_ver2_all.pickle',\n",
       " '../voice_data/all_data_ver2\\\\u_low_dict_ver2_all.pickle',\n",
       " '../voice_data/all_data_ver2\\\\u_normal_dict_ver2_all.pickle']"
      ]
     },
     "execution_count": 6,
     "metadata": {},
     "output_type": "execute_result"
    }
   ],
   "source": [
    "glob('../voice_data/all_data_ver2/*')"
   ]
  },
  {
   "cell_type": "code",
   "execution_count": 63,
   "metadata": {},
   "outputs": [],
   "source": [
    "## Save pickle\n",
    "import pickle\n",
    "all_possible_datas = []"
   ]
  },
  {
   "cell_type": "code",
   "execution_count": 64,
   "metadata": {},
   "outputs": [],
   "source": [
    "with open(\"../voice_data/all_data_ver2/phrase_dict_ver2_all.pickle\",\"rb\") as fr:\n",
    "    all_possible_datas.append( list(pickle.load(fr).keys()) )\n"
   ]
  },
  {
   "cell_type": "code",
   "execution_count": 56,
   "metadata": {},
   "outputs": [],
   "source": [
    "# [dat.split('-')[0] for dat in list(all_possible_datas[0].keys())]"
   ]
  },
  {
   "cell_type": "code",
   "execution_count": 65,
   "metadata": {},
   "outputs": [],
   "source": [
    "with open(\"../voice_data/all_data_ver2/a_high_dict_ver2_all.pickle\",\"rb\") as fr:\n",
    "    all_possible_datas.append(list(pickle.load(fr).keys()))\n",
    "\n",
    "with open(\"../voice_data/all_data_ver2/a_normal_dict_ver2_all.pickle\",\"rb\") as fr:\n",
    "    all_possible_datas.append(list(pickle.load(fr).keys()))    \n",
    "\n",
    "with open(\"../voice_data/all_data_ver2/a_low_dict_ver2_all.pickle\",\"rb\") as fr:\n",
    "    all_possible_datas.append(list(pickle.load(fr).keys()))"
   ]
  },
  {
   "cell_type": "code",
   "execution_count": 66,
   "metadata": {},
   "outputs": [],
   "source": [
    "with open(\"../voice_data/all_data_ver2/i_high_dict_ver2_all.pickle\",\"rb\") as fr:\n",
    "    all_possible_datas.append(list(pickle.load(fr).keys()))\n",
    "\n",
    "with open(\"../voice_data/all_data_ver2/i_normal_dict_ver2_all.pickle\",\"rb\") as fr:\n",
    "    all_possible_datas.append(list(pickle.load(fr).keys()))\n",
    "\n",
    "with open(\"../voice_data/all_data_ver2/i_low_dict_ver2_all.pickle\",\"rb\") as fr:\n",
    "    all_possible_datas.append(list(pickle.load(fr).keys()))"
   ]
  },
  {
   "cell_type": "code",
   "execution_count": 67,
   "metadata": {},
   "outputs": [],
   "source": [
    "with open(\"../voice_data/all_data_ver2/u_high_dict_ver2_all.pickle\",\"rb\") as fr:\n",
    "    all_possible_datas.append(list(pickle.load(fr).keys()))\n",
    "\n",
    "with open(\"../voice_data/all_data_ver2/u_normal_dict_ver2_all.pickle\",\"rb\") as fr:\n",
    "    all_possible_datas.append(list(pickle.load(fr).keys()))\n",
    "\n",
    "with open(\"../voice_data/all_data_ver2/u_low_dict_ver2_all.pickle\",\"rb\") as fr:\n",
    "    all_possible_datas.append(list(pickle.load(fr).keys()))"
   ]
  },
  {
   "cell_type": "code",
   "execution_count": 68,
   "metadata": {},
   "outputs": [
    {
     "name": "stdout",
     "output_type": "stream",
     "text": [
      "1988\n",
      "2041\n",
      "2041\n",
      "2040\n",
      "2040\n",
      "2041\n",
      "2040\n",
      "2041\n",
      "2042\n",
      "2040\n"
     ]
    }
   ],
   "source": [
    "for idx,possible_data in enumerate(all_possible_datas):\n",
    "    print(len(possible_data))\n",
    "    all_possible_datas[idx] = [ int(dat.split('-')[0]) for dat in possible_data]\n"
   ]
  },
  {
   "cell_type": "code",
   "execution_count": 97,
   "metadata": {},
   "outputs": [],
   "source": [
    "#error_record_key[0]"
   ]
  },
  {
   "cell_type": "code",
   "execution_count": 72,
   "metadata": {},
   "outputs": [],
   "source": [
    "#phrase로 dict를 만들고 그 안에 path를 담은 리스트를 넣기.\n",
    "\n",
    "\n",
    "error_record_key = []\n",
    "\n",
    "for voice_dict in all_possible_datas:\n",
    "    error_record_key.append(set(all_data_before['RECORDING'])-set(voice_dict))"
   ]
  },
  {
   "cell_type": "code",
   "execution_count": 87,
   "metadata": {},
   "outputs": [],
   "source": [
    "import itertools\n",
    "error_sets = set({})\n",
    "\n",
    "for error_set in error_record_key:\n",
    "    error_sets.update(error_set)\n"
   ]
  },
  {
   "cell_type": "code",
   "execution_count": 90,
   "metadata": {},
   "outputs": [],
   "source": [
    "len(error_sets)\n",
    "error_sets=list(error_sets)"
   ]
  },
  {
   "cell_type": "code",
   "execution_count": 98,
   "metadata": {},
   "outputs": [
    {
     "data": {
      "text/plain": [
       "241"
      ]
     },
     "execution_count": 98,
     "metadata": {},
     "output_type": "execute_result"
    }
   ],
   "source": [
    "len(error_sets)"
   ]
  },
  {
   "cell_type": "code",
   "execution_count": 101,
   "metadata": {},
   "outputs": [],
   "source": [
    "# save all_data_before 'RECORDING' column index not in error_sets\n",
    "all_data_before[~all_data_before['RECORDING'].isin(error_sets)].to_excel(\"../voice_data/all_data_ver2.xlsx\",index=False)\n",
    "#all_data_before['RECORDING']"
   ]
  },
  {
   "cell_type": "code",
   "execution_count": 102,
   "metadata": {},
   "outputs": [
    {
     "data": {
      "text/plain": [
       "control        634\n",
       "else           409\n",
       "non-organic    345\n",
       "structural     325\n",
       "neurogenic     271\n",
       "Name: DIAG, dtype: int64"
      ]
     },
     "execution_count": 102,
     "metadata": {},
     "output_type": "execute_result"
    }
   ],
   "source": [
    "all_data_ver2=all_data_before[~all_data_before['RECORDING'].isin(error_sets)]\n",
    "all_data_ver2['DIAG'].value_counts()"
   ]
  },
  {
   "cell_type": "code",
   "execution_count": 29,
   "metadata": {},
   "outputs": [
    {
     "data": {
      "text/plain": [
       "185"
      ]
     },
     "execution_count": 29,
     "metadata": {},
     "output_type": "execute_result"
    }
   ],
   "source": [
    "len( set(all_data_before['RECORDING'])- set([int(dat.split('-')[0]) for dat in list(all_possible_datas[3].keys())]) )"
   ]
  }
 ],
 "metadata": {
  "kernelspec": {
   "display_name": "Python 3",
   "language": "python",
   "name": "python3"
  },
  "language_info": {
   "codemirror_mode": {
    "name": "ipython",
    "version": 3
   },
   "file_extension": ".py",
   "mimetype": "text/x-python",
   "name": "python",
   "nbconvert_exporter": "python",
   "pygments_lexer": "ipython3",
   "version": "3.8.12"
  },
  "orig_nbformat": 4
 },
 "nbformat": 4,
 "nbformat_minor": 2
}
