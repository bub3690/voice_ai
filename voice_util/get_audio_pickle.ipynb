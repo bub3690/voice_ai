{
 "cells": [
  {
   "attachments": {},
   "cell_type": "markdown",
   "metadata": {},
   "source": [
    "# ALL DATA PICKLE"
   ]
  },
  {
   "attachments": {},
   "cell_type": "markdown",
   "metadata": {},
   "source": [
    "## Phrase pickle"
   ]
  },
  {
   "cell_type": "code",
   "execution_count": null,
   "metadata": {},
   "outputs": [],
   "source": [
    "# ALL DATA\n",
    "#원본 시그널 출력하는 함수\n",
    "\n",
    "# phrase\n",
    "\n",
    "import os\n",
    "from glob import glob\n",
    "import numpy as np\n",
    "import librosa, librosa.display \n",
    "\n",
    "\n",
    "\n",
    "pathology = glob('D:/project/voice_pathology_ai/voice_data/all_data_ver2//pathology/phrase/export/*.wav')\n",
    "healthy = glob('D:/project/voice_pathology_ai/voice_data/organics_ver2/healthy/phrase/export/*.wav')\n",
    "\n",
    "phrase_dict=dict()\n",
    "\n",
    "for path in pathology:\n",
    "    file_name = path.split(\"\\\\\")[-1]\n",
    "    \n",
    "    sig, sr = librosa.load(path, sr=16000)# 논문에서 f_s = 50 000HZ\n",
    "    phrase_dict[file_name] = sig\n",
    "\n",
    "\n",
    "for path in healthy:\n",
    "    file_name = path.split(\"\\\\\")[-1]\n",
    "    \n",
    "    sig, sr = librosa.load(path, sr=16000)# 논문에서 f_s = 50 000HZ\n",
    "    phrase_dict[file_name] = sig\n",
    "    \n"
   ]
  },
  {
   "cell_type": "code",
   "execution_count": null,
   "metadata": {},
   "outputs": [],
   "source": [
    "## Save pickle\n",
    "import pickle\n",
    "with open(\"./voice_data/organics_ver2/phrase_dict_ver2.pickle\",\"wb\") as fw:\n",
    "    pickle.dump(phrase_dict, fw)"
   ]
  },
  {
   "cell_type": "code",
   "execution_count": null,
   "metadata": {},
   "outputs": [],
   "source": [
    "# EGG\n",
    "# ALL DATA\n",
    "#원본 시그널 출력하는 함수\n",
    "\n",
    "# phrase\n",
    "\n",
    "import os\n",
    "from glob import glob\n",
    "import numpy as np\n",
    "import librosa, librosa.display \n",
    "\n",
    "\n",
    "\n",
    "pathology = glob('D:/project/voice_pathology_ai/voice_data/organics_ver2/pathology/egg_wav/phrase/export/*.wav')\n",
    "healthy = glob('D:/project/voice_pathology_ai/voice_data/organics_ver2/healthy/egg_wav/phrase/export/*.wav')\n",
    "\n",
    "phrase_dict=dict()\n",
    "\n",
    "for path in pathology:\n",
    "    file_name = path.split(\"\\\\\")[-1]\n",
    "    \n",
    "    sig, sr = librosa.load(path, sr=16000)# 논문에서 f_s = 50 000HZ\n",
    "    phrase_dict[file_name] = sig\n",
    "\n",
    "\n",
    "for path in healthy:\n",
    "    file_name = path.split(\"\\\\\")[-1]\n",
    "    \n",
    "    sig, sr = librosa.load(path, sr=16000)# 논문에서 f_s = 50 000HZ\n",
    "    phrase_dict[file_name] = sig\n",
    "    \n",
    "\n"
   ]
  },
  {
   "cell_type": "code",
   "execution_count": null,
   "metadata": {},
   "outputs": [],
   "source": [
    "## Save pickle\n",
    "# EGG\n",
    "import pickle\n",
    "with open(\"./voice_data/organics_ver2/phrase_dict_ver2_EGG.pickle\",\"wb\") as fw:\n",
    "    pickle.dump(phrase_dict, fw)"
   ]
  }
 ],
 "metadata": {
  "kernelspec": {
   "display_name": "Python 3",
   "language": "python",
   "name": "python3"
  },
  "language_info": {
   "name": "python",
   "version": "3.9.7"
  },
  "orig_nbformat": 4
 },
 "nbformat": 4,
 "nbformat_minor": 2
}
