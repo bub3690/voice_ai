{
 "cells": [
  {
   "attachments": {},
   "cell_type": "markdown",
   "metadata": {},
   "source": [
    "# ALL DATA PICKLE"
   ]
  },
  {
   "attachments": {},
   "cell_type": "markdown",
   "metadata": {},
   "source": [
    "## Phrase pickle"
   ]
  },
  {
   "cell_type": "code",
   "execution_count": 1,
   "metadata": {},
   "outputs": [],
   "source": [
    "# ALL DATA\n",
    "#원본 시그널 출력하는 함수\n",
    "\n",
    "# phrase\n",
    "\n",
    "import os\n",
    "from glob import glob\n",
    "import numpy as np\n",
    "import librosa, librosa.display \n",
    "\n",
    "\n",
    "\n",
    "pathology = glob('D:/project/voice_pathology_ai/voice_data/all_data_ver2/pathology/phrase/export/*.wav')\n",
    "healthy = glob('D:/project/voice_pathology_ai/voice_data/all_data_ver2/healthy/phrase/export/*.wav')\n",
    "\n",
    "phrase_dict=dict()\n",
    "\n",
    "for path in pathology:\n",
    "    file_name = path.split(\"\\\\\")[-1]\n",
    "    \n",
    "    sig, sr = librosa.load(path, sr=16000)# 논문에서 f_s = 50 000HZ\n",
    "    phrase_dict[file_name] = sig\n",
    "\n",
    "\n",
    "for path in healthy:\n",
    "    file_name = path.split(\"\\\\\")[-1]\n",
    "    \n",
    "    sig, sr = librosa.load(path, sr=16000)# 논문에서 f_s = 50 000HZ\n",
    "    phrase_dict[file_name] = sig\n",
    "    \n"
   ]
  },
  {
   "cell_type": "code",
   "execution_count": 3,
   "metadata": {},
   "outputs": [],
   "source": [
    "## Save pickle\n",
    "import pickle\n",
    "with open(\"../voice_data/all_data_ver2/phrase_dict_ver2_all.pickle\",\"wb\") as fw:\n",
    "    pickle.dump(phrase_dict, fw)"
   ]
  },
  {
   "attachments": {},
   "cell_type": "markdown",
   "metadata": {},
   "source": [
    "## EGG -PHRASE"
   ]
  },
  {
   "cell_type": "code",
   "execution_count": 4,
   "metadata": {},
   "outputs": [],
   "source": [
    "# EGG\n",
    "# ALL DATA\n",
    "#원본 시그널 출력하는 함수\n",
    "\n",
    "# phrase\n",
    "\n",
    "import os\n",
    "from glob import glob\n",
    "import numpy as np\n",
    "import librosa, librosa.display \n",
    "\n",
    "\n",
    "\n",
    "pathology = glob('D:/project/voice_pathology_ai/voice_data/all_data_egg/pathology/phrase/*.wav')\n",
    "healthy = glob('D:/project/voice_pathology_ai/voice_data/all_data_egg/healthy/phrase/*.wav')\n",
    "\n",
    "\n",
    "phrase_dict=dict()\n",
    "\n",
    "for path in pathology:\n",
    "    file_name = path.split(\"\\\\\")[-1]\n",
    "    \n",
    "    sig, sr = librosa.load(path, sr=16000)# 논문에서 f_s = 50 000HZ\n",
    "    phrase_dict[file_name] = sig\n",
    "\n",
    "\n",
    "for path in healthy:\n",
    "    file_name = path.split(\"\\\\\")[-1]\n",
    "    \n",
    "    sig, sr = librosa.load(path, sr=16000)# 논문에서 f_s = 50 000HZ\n",
    "    phrase_dict[file_name] = sig\n",
    "    \n",
    "\n"
   ]
  },
  {
   "cell_type": "code",
   "execution_count": 5,
   "metadata": {},
   "outputs": [],
   "source": [
    "## Save pickle\n",
    "# EGG\n",
    "import pickle\n",
    "with open(\"../voice_data/all_data_ver2/phrase_dict_ver2_EGG_all.pickle\",\"wb\") as fw:\n",
    "    pickle.dump(phrase_dict, fw)"
   ]
  },
  {
   "attachments": {},
   "cell_type": "markdown",
   "metadata": {},
   "source": [
    "## A VOWEL"
   ]
  },
  {
   "attachments": {},
   "cell_type": "markdown",
   "metadata": {},
   "source": [
    "### high"
   ]
  },
  {
   "cell_type": "code",
   "execution_count": 1,
   "metadata": {},
   "outputs": [],
   "source": [
    "# ALL DATA\n",
    "#원본 시그널 출력하는 함수\n",
    "\n",
    "# phrase\n",
    "\n",
    "import os\n",
    "from glob import glob\n",
    "import numpy as np\n",
    "import librosa, librosa.display \n",
    "\n",
    "\n",
    "\n",
    "pathology = glob('D:/project/voice_pathology_ai/voice_data/all_data_ver2/healthy/a/high/export/*.wav')\n",
    "healthy = glob('D:/project/voice_pathology_ai/voice_data/all_data_ver2/pathology/a/high/export/*.wav')\n",
    "\n",
    "phrase_dict=dict()\n",
    "\n",
    "for path in pathology:\n",
    "    file_name = path.split(\"\\\\\")[-1]\n",
    "    \n",
    "    sig, sr = librosa.load(path, sr=16000)# 논문에서 f_s = 50 000HZ\n",
    "    phrase_dict[file_name] = sig\n",
    "\n",
    "\n",
    "for path in healthy:\n",
    "    file_name = path.split(\"\\\\\")[-1]\n",
    "    \n",
    "    sig, sr = librosa.load(path, sr=16000)# 논문에서 f_s = 50 000HZ\n",
    "    phrase_dict[file_name] = sig\n",
    "    \n"
   ]
  },
  {
   "cell_type": "code",
   "execution_count": 2,
   "metadata": {},
   "outputs": [],
   "source": [
    "## Save pickle\n",
    "import pickle\n",
    "with open(\"../voice_data/all_data_ver2/a_high_dict_ver2_all.pickle\",\"wb\") as fw:\n",
    "    pickle.dump(phrase_dict, fw)"
   ]
  },
  {
   "attachments": {},
   "cell_type": "markdown",
   "metadata": {},
   "source": [
    "### normal"
   ]
  },
  {
   "cell_type": "code",
   "execution_count": 3,
   "metadata": {},
   "outputs": [],
   "source": [
    "# ALL DATA\n",
    "#원본 시그널 출력하는 함수\n",
    "\n",
    "# phrase\n",
    "\n",
    "import os\n",
    "from glob import glob\n",
    "import numpy as np\n",
    "import librosa, librosa.display \n",
    "\n",
    "\n",
    "\n",
    "pathology = glob('D:/project/voice_pathology_ai/voice_data/all_data_ver2/healthy/a/neutral/export/*.wav')\n",
    "healthy = glob('D:/project/voice_pathology_ai/voice_data/all_data_ver2/pathology/a/neutral/export/*.wav')\n",
    "\n",
    "phrase_dict=dict()\n",
    "\n",
    "for path in pathology:\n",
    "    file_name = path.split(\"\\\\\")[-1]\n",
    "    \n",
    "    sig, sr = librosa.load(path, sr=16000)# 논문에서 f_s = 50 000HZ\n",
    "    phrase_dict[file_name] = sig\n",
    "\n",
    "\n",
    "for path in healthy:\n",
    "    file_name = path.split(\"\\\\\")[-1]\n",
    "    \n",
    "    sig, sr = librosa.load(path, sr=16000)# 논문에서 f_s = 50 000HZ\n",
    "    phrase_dict[file_name] = sig\n",
    "    \n"
   ]
  },
  {
   "cell_type": "code",
   "execution_count": 4,
   "metadata": {},
   "outputs": [],
   "source": [
    "## Save pickle\n",
    "import pickle\n",
    "with open(\"../voice_data/all_data_ver2/a_normal_dict_ver2_all.pickle\",\"wb\") as fw:\n",
    "    pickle.dump(phrase_dict, fw)"
   ]
  },
  {
   "attachments": {},
   "cell_type": "markdown",
   "metadata": {},
   "source": [
    "### low"
   ]
  },
  {
   "cell_type": "code",
   "execution_count": 5,
   "metadata": {},
   "outputs": [],
   "source": [
    "# ALL DATA\n",
    "#원본 시그널 출력하는 함수\n",
    "\n",
    "# phrase\n",
    "\n",
    "import os\n",
    "from glob import glob\n",
    "import numpy as np\n",
    "import librosa, librosa.display \n",
    "\n",
    "\n",
    "\n",
    "pathology = glob('D:/project/voice_pathology_ai/voice_data/all_data_ver2/healthy/a/low/export/*.wav')\n",
    "healthy = glob('D:/project/voice_pathology_ai/voice_data/all_data_ver2/pathology/a/low/export/*.wav')\n",
    "\n",
    "phrase_dict=dict()\n",
    "\n",
    "for path in pathology:\n",
    "    file_name = path.split(\"\\\\\")[-1]\n",
    "    \n",
    "    sig, sr = librosa.load(path, sr=16000)# 논문에서 f_s = 50 000HZ\n",
    "    phrase_dict[file_name] = sig\n",
    "\n",
    "\n",
    "for path in healthy:\n",
    "    file_name = path.split(\"\\\\\")[-1]\n",
    "    \n",
    "    sig, sr = librosa.load(path, sr=16000)# 논문에서 f_s = 50 000HZ\n",
    "    phrase_dict[file_name] = sig\n",
    "    \n"
   ]
  },
  {
   "cell_type": "code",
   "execution_count": 6,
   "metadata": {},
   "outputs": [],
   "source": [
    "## Save pickle\n",
    "import pickle\n",
    "with open(\"../voice_data/all_data_ver2/a_low_dict_ver2_all.pickle\",\"wb\") as fw:\n",
    "    pickle.dump(phrase_dict, fw)"
   ]
  },
  {
   "attachments": {},
   "cell_type": "markdown",
   "metadata": {},
   "source": [
    "## U VOWEL"
   ]
  },
  {
   "attachments": {},
   "cell_type": "markdown",
   "metadata": {},
   "source": [
    "### high"
   ]
  },
  {
   "cell_type": "code",
   "execution_count": 1,
   "metadata": {},
   "outputs": [],
   "source": [
    "# ALL DATA\n",
    "#원본 시그널 출력하는 함수\n",
    "\n",
    "# phrase\n",
    "\n",
    "import os\n",
    "from glob import glob\n",
    "import numpy as np\n",
    "import librosa, librosa.display \n",
    "\n",
    "\n",
    "\n",
    "pathology = glob('D:/project/voice_pathology_ai/voice_data/all_data_ver2/healthy/u/high/export/*.wav')\n",
    "healthy = glob('D:/project/voice_pathology_ai/voice_data/all_data_ver2/pathology/u/high/export/*.wav')\n",
    "\n",
    "phrase_dict=dict()\n",
    "\n",
    "for path in pathology:\n",
    "    file_name = path.split(\"\\\\\")[-1]\n",
    "    \n",
    "    sig, sr = librosa.load(path, sr=16000)# 논문에서 f_s = 50 000HZ\n",
    "    phrase_dict[file_name] = sig\n",
    "\n",
    "\n",
    "for path in healthy:\n",
    "    file_name = path.split(\"\\\\\")[-1]\n",
    "    \n",
    "    sig, sr = librosa.load(path, sr=16000)# 논문에서 f_s = 50 000HZ\n",
    "    phrase_dict[file_name] = sig\n",
    "    \n"
   ]
  },
  {
   "cell_type": "code",
   "execution_count": 2,
   "metadata": {},
   "outputs": [],
   "source": [
    "## Save pickle\n",
    "import pickle\n",
    "with open(\"../voice_data/all_data_ver2/u_high_dict_ver2_all.pickle\",\"wb\") as fw:\n",
    "    pickle.dump(phrase_dict, fw)\n"
   ]
  },
  {
   "attachments": {},
   "cell_type": "markdown",
   "metadata": {},
   "source": [
    "### normal\n"
   ]
  },
  {
   "cell_type": "code",
   "execution_count": 3,
   "metadata": {},
   "outputs": [],
   "source": [
    "# ALL DATA\n",
    "#원본 시그널 출력하는 함수\n",
    "\n",
    "# phrase\n",
    "\n",
    "import os\n",
    "from glob import glob\n",
    "import numpy as np\n",
    "import librosa, librosa.display \n",
    "\n",
    "\n",
    "\n",
    "pathology = glob('D:/project/voice_pathology_ai/voice_data/all_data_ver2/healthy/u/neutral/export/*.wav')\n",
    "healthy = glob('D:/project/voice_pathology_ai/voice_data/all_data_ver2/pathology/u/neutral/export/*.wav')\n",
    "\n",
    "phrase_dict=dict()\n",
    "\n",
    "for path in pathology:\n",
    "    file_name = path.split(\"\\\\\")[-1]\n",
    "    \n",
    "    sig, sr = librosa.load(path, sr=16000)# 논문에서 f_s = 50 000HZ\n",
    "    phrase_dict[file_name] = sig\n",
    "\n",
    "\n",
    "for path in healthy:\n",
    "    file_name = path.split(\"\\\\\")[-1]\n",
    "    \n",
    "    sig, sr = librosa.load(path, sr=16000)# 논문에서 f_s = 50 000HZ\n",
    "    phrase_dict[file_name] = sig\n",
    "    \n"
   ]
  },
  {
   "cell_type": "code",
   "execution_count": 4,
   "metadata": {},
   "outputs": [],
   "source": [
    "## Save pickle\n",
    "import pickle\n",
    "with open(\"../voice_data/all_data_ver2/u_normal_dict_ver2_all.pickle\",\"wb\") as fw:\n",
    "    pickle.dump(phrase_dict, fw)\n"
   ]
  },
  {
   "attachments": {},
   "cell_type": "markdown",
   "metadata": {},
   "source": [
    "### low"
   ]
  },
  {
   "cell_type": "code",
   "execution_count": 5,
   "metadata": {},
   "outputs": [],
   "source": [
    "# ALL DATA\n",
    "#원본 시그널 출력하는 함수\n",
    "\n",
    "# phrase\n",
    "\n",
    "import os\n",
    "from glob import glob\n",
    "import numpy as np\n",
    "import librosa, librosa.display \n",
    "\n",
    "\n",
    "\n",
    "pathology = glob('D:/project/voice_pathology_ai/voice_data/all_data_ver2/healthy/u/low/export/*.wav')\n",
    "healthy = glob('D:/project/voice_pathology_ai/voice_data/all_data_ver2/pathology/u/low/export/*.wav')\n",
    "\n",
    "phrase_dict=dict()\n",
    "\n",
    "for path in pathology:\n",
    "    file_name = path.split(\"\\\\\")[-1]\n",
    "    \n",
    "    sig, sr = librosa.load(path, sr=16000)# 논문에서 f_s = 50 000HZ\n",
    "    phrase_dict[file_name] = sig\n",
    "\n",
    "\n",
    "for path in healthy:\n",
    "    file_name = path.split(\"\\\\\")[-1]\n",
    "    \n",
    "    sig, sr = librosa.load(path, sr=16000)# 논문에서 f_s = 50 000HZ\n",
    "    phrase_dict[file_name] = sig\n",
    "    \n"
   ]
  },
  {
   "cell_type": "code",
   "execution_count": 6,
   "metadata": {},
   "outputs": [],
   "source": [
    "## Save pickle\n",
    "import pickle\n",
    "with open(\"../voice_data/all_data_ver2/u_low_dict_ver2_all.pickle\",\"wb\") as fw:\n",
    "    pickle.dump(phrase_dict, fw)\n"
   ]
  },
  {
   "attachments": {},
   "cell_type": "markdown",
   "metadata": {},
   "source": [
    "## I VOWEL"
   ]
  },
  {
   "attachments": {},
   "cell_type": "markdown",
   "metadata": {},
   "source": [
    "### high"
   ]
  },
  {
   "cell_type": "code",
   "execution_count": 3,
   "metadata": {},
   "outputs": [],
   "source": [
    "# ALL DATA\n",
    "#원본 시그널 출력하는 함수\n",
    "\n",
    "# phrase\n",
    "\n",
    "import os\n",
    "from glob import glob\n",
    "import numpy as np\n",
    "import librosa, librosa.display \n",
    "\n",
    "\n",
    "\n",
    "pathology = glob('D:/project/voice_pathology_ai/voice_data/all_data_ver2/healthy/i/high/export/*.wav')\n",
    "healthy = glob('D:/project/voice_pathology_ai/voice_data/all_data_ver2/pathology/i/high/export/*.wav')\n",
    "\n",
    "phrase_dict=dict()\n",
    "\n",
    "for path in pathology:\n",
    "    file_name = path.split(\"\\\\\")[-1]\n",
    "    \n",
    "    sig, sr = librosa.load(path, sr=16000)# 논문에서 f_s = 50 000HZ\n",
    "    phrase_dict[file_name] = sig\n",
    "\n",
    "\n",
    "for path in healthy:\n",
    "    file_name = path.split(\"\\\\\")[-1]\n",
    "    \n",
    "    sig, sr = librosa.load(path, sr=16000)# 논문에서 f_s = 50 000HZ\n",
    "    phrase_dict[file_name] = sig\n",
    "    \n"
   ]
  },
  {
   "cell_type": "code",
   "execution_count": 4,
   "metadata": {},
   "outputs": [],
   "source": [
    "## Save pickle\n",
    "import pickle\n",
    "with open(\"../voice_data/all_data_ver2/i_high_dict_ver2_all.pickle\",\"wb\") as fw:\n",
    "    pickle.dump(phrase_dict, fw)\n"
   ]
  },
  {
   "attachments": {},
   "cell_type": "markdown",
   "metadata": {},
   "source": [
    "### normal"
   ]
  },
  {
   "cell_type": "code",
   "execution_count": 6,
   "metadata": {},
   "outputs": [
    {
     "name": "stderr",
     "output_type": "stream",
     "text": [
      "d:\\anaconda3\\lib\\site-packages\\librosa\\util\\decorators.py:88: UserWarning: PySoundFile failed. Trying audioread instead.\n",
      "  return f(*args, **kwargs)\n"
     ]
    },
    {
     "name": "stdout",
     "output_type": "stream",
     "text": [
      "failed data :  D:/project/voice_pathology_ai/voice_data/all_data_ver2/pathology/i/neutral/export\\713-i_n.wav\n"
     ]
    }
   ],
   "source": [
    "# ALL DATA\n",
    "#원본 시그널 출력하는 함수\n",
    "\n",
    "# phrase\n",
    "\n",
    "import os\n",
    "from glob import glob\n",
    "import numpy as np\n",
    "import librosa, librosa.display \n",
    "\n",
    "\n",
    "\n",
    "pathology = glob('D:/project/voice_pathology_ai/voice_data/all_data_ver2/healthy/i/neutral/export/*.wav')\n",
    "healthy = glob('D:/project/voice_pathology_ai/voice_data/all_data_ver2/pathology/i/neutral/export/*.wav')\n",
    "\n",
    "phrase_dict=dict()\n",
    "\n",
    "for path in pathology:\n",
    "    try:\n",
    "        file_name = path.split(\"\\\\\")[-1]\n",
    "        \n",
    "        sig, sr = librosa.load(path, sr=16000)# 논문에서 f_s = 50 000HZ\n",
    "        phrase_dict[file_name] = sig\n",
    "    except:\n",
    "        print(\"failed data : \",path)\n",
    "\n",
    "\n",
    "for path in healthy:\n",
    "    try:    \n",
    "        file_name = path.split(\"\\\\\")[-1]\n",
    "        \n",
    "        sig, sr = librosa.load(path, sr=16000)# 논문에서 f_s = 50 000HZ\n",
    "        phrase_dict[file_name] = sig\n",
    "    except:\n",
    "        print(\"failed data : \",path)\n",
    "        \n"
   ]
  },
  {
   "cell_type": "code",
   "execution_count": 12,
   "metadata": {},
   "outputs": [],
   "source": [
    "## Save pickle\n",
    "import pickle\n",
    "with open(\"../voice_data/all_data_ver2/i_normal_dict_ver2_all.pickle\",\"wb\") as fw:\n",
    "    pickle.dump(phrase_dict, fw)\n"
   ]
  },
  {
   "attachments": {},
   "cell_type": "markdown",
   "metadata": {},
   "source": [
    "### low"
   ]
  },
  {
   "cell_type": "code",
   "execution_count": 29,
   "metadata": {},
   "outputs": [],
   "source": [
    "# ALL DATA\n",
    "#원본 시그널 출력하는 함수\n",
    "\n",
    "# phrase\n",
    "\n",
    "import os\n",
    "from glob import glob\n",
    "import numpy as np\n",
    "import librosa, librosa.display \n",
    "\n",
    "\n",
    "\n",
    "pathology = glob('D:/project/voice_pathology_ai/voice_data/all_data_ver2/healthy/i/low/export/*.wav')\n",
    "healthy = glob('D:/project/voice_pathology_ai/voice_data/all_data_ver2/pathology/i/low/export/*.wav')\n",
    "\n",
    "phrase_dict=dict()\n",
    "\n",
    "for path in pathology:\n",
    "    try:\n",
    "        file_name = path.split(\"\\\\\")[-1]\n",
    "        \n",
    "        sig, sr = librosa.load(path, sr=16000)# 논문에서 f_s = 50 000HZ\n",
    "        phrase_dict[file_name] = sig\n",
    "    except:\n",
    "        print(\"failed data : \",path)\n",
    "\n",
    "\n",
    "for path in healthy:\n",
    "    try:    \n",
    "        file_name = path.split(\"\\\\\")[-1]\n",
    "        \n",
    "        sig, sr = librosa.load(path, sr=16000)# 논문에서 f_s = 50 000HZ\n",
    "        phrase_dict[file_name] = sig\n",
    "    except:\n",
    "        print(\"failed data : \",path)\n",
    "    \n"
   ]
  },
  {
   "cell_type": "code",
   "execution_count": 30,
   "metadata": {},
   "outputs": [],
   "source": [
    "## Save pickle\n",
    "import pickle   \n",
    "with open(\"../voice_data/all_data_ver2/i_low_dict_ver2_all.pickle\",\"wb\") as fw:\n",
    "    pickle.dump(phrase_dict, fw)\n"
   ]
  }
 ],
 "metadata": {
  "kernelspec": {
   "display_name": "Python 3",
   "language": "python",
   "name": "python3"
  },
  "language_info": {
   "codemirror_mode": {
    "name": "ipython",
    "version": 3
   },
   "file_extension": ".py",
   "mimetype": "text/x-python",
   "name": "python",
   "nbconvert_exporter": "python",
   "pygments_lexer": "ipython3",
   "version": "3.9.7"
  },
  "orig_nbformat": 4
 },
 "nbformat": 4,
 "nbformat_minor": 2
}
