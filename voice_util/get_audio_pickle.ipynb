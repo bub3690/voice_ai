{
 "cells": [
  {
   "attachments": {},
   "cell_type": "markdown",
   "metadata": {},
   "source": [
    "# ALL DATA PICKLE\n",
    "\n",
    "\n",
    "- 2023.04. 기준"
   ]
  },
  {
   "attachments": {},
   "cell_type": "markdown",
   "metadata": {},
   "source": [
    "## Phrase pickle"
   ]
  },
  {
   "cell_type": "code",
   "execution_count": 1,
   "metadata": {},
   "outputs": [],
   "source": [
    "# ALL DATA\n",
    "#원본 시그널 출력하는 함수\n",
    "\n",
    "# phrase\n",
    "\n",
    "import os\n",
    "from glob import glob\n",
    "import numpy as np\n",
    "import librosa, librosa.display \n",
    "\n",
    "\n",
    "\n",
    "pathology = glob('D:/project/voice_pathology_ai/voice_data/all_data_ver2/pathology/phrase/export/*.wav')\n",
    "healthy = glob('D:/project/voice_pathology_ai/voice_data/all_data_ver2/healthy/phrase/export/*.wav')\n",
    "\n",
    "phrase_dict=dict()\n",
    "\n",
    "for path in pathology:\n",
    "    file_name = path.split(\"\\\\\")[-1]\n",
    "    \n",
    "    sig, sr = librosa.load(path, sr=16000)# 논문에서 f_s = 50 000HZ\n",
    "    phrase_dict[file_name] = sig\n",
    "\n",
    "\n",
    "for path in healthy:\n",
    "    file_name = path.split(\"\\\\\")[-1]\n",
    "    \n",
    "    sig, sr = librosa.load(path, sr=16000)# 논문에서 f_s = 50 000HZ\n",
    "    phrase_dict[file_name] = sig\n",
    "    \n"
   ]
  },
  {
   "cell_type": "code",
   "execution_count": 3,
   "metadata": {},
   "outputs": [],
   "source": [
    "## Save pickle\n",
    "import pickle\n",
    "with open(\"../voice_data/all_data_ver2/phrase_dict_ver2_all.pickle\",\"wb\") as fw:\n",
    "    pickle.dump(phrase_dict, fw)"
   ]
  },
  {
   "attachments": {},
   "cell_type": "markdown",
   "metadata": {},
   "source": [
    "## EGG -PHRASE"
   ]
  },
  {
   "cell_type": "code",
   "execution_count": 4,
   "metadata": {},
   "outputs": [],
   "source": [
    "# EGG\n",
    "# ALL DATA\n",
    "#원본 시그널 출력하는 함수\n",
    "\n",
    "# phrase\n",
    "\n",
    "import os\n",
    "from glob import glob\n",
    "import numpy as np\n",
    "import librosa, librosa.display \n",
    "\n",
    "\n",
    "\n",
    "pathology = glob('D:/project/voice_pathology_ai/voice_data/all_data_egg/pathology/phrase/*.wav')\n",
    "healthy = glob('D:/project/voice_pathology_ai/voice_data/all_data_egg/healthy/phrase/*.wav')\n",
    "\n",
    "\n",
    "phrase_dict=dict()\n",
    "\n",
    "for path in pathology:\n",
    "    file_name = path.split(\"\\\\\")[-1]\n",
    "    \n",
    "    sig, sr = librosa.load(path, sr=16000)# 논문에서 f_s = 50 000HZ\n",
    "    phrase_dict[file_name] = sig\n",
    "\n",
    "\n",
    "for path in healthy:\n",
    "    file_name = path.split(\"\\\\\")[-1]\n",
    "    \n",
    "    sig, sr = librosa.load(path, sr=16000)# 논문에서 f_s = 50 000HZ\n",
    "    phrase_dict[file_name] = sig\n",
    "    \n",
    "\n"
   ]
  },
  {
   "cell_type": "code",
   "execution_count": 5,
   "metadata": {},
   "outputs": [],
   "source": [
    "## Save pickle\n",
    "# EGG\n",
    "import pickle\n",
    "with open(\"../voice_data/all_data_ver2/phrase_dict_ver2_EGG_all.pickle\",\"wb\") as fw:\n",
    "    pickle.dump(phrase_dict, fw)"
   ]
  },
  {
   "attachments": {},
   "cell_type": "markdown",
   "metadata": {},
   "source": [
    "## A VOWEL"
   ]
  },
  {
   "attachments": {},
   "cell_type": "markdown",
   "metadata": {},
   "source": [
    "### high"
   ]
  },
  {
   "cell_type": "code",
   "execution_count": 1,
   "metadata": {},
   "outputs": [],
   "source": [
    "# ALL DATA\n",
    "#원본 시그널 출력하는 함수\n",
    "\n",
    "# phrase\n",
    "\n",
    "import os\n",
    "from glob import glob\n",
    "import numpy as np\n",
    "import librosa, librosa.display \n",
    "\n",
    "\n",
    "\n",
    "pathology = glob('D:/project/voice_pathology_ai/voice_data/all_data_ver2/healthy/a/high/export/*.wav')\n",
    "healthy = glob('D:/project/voice_pathology_ai/voice_data/all_data_ver2/pathology/a/high/export/*.wav')\n",
    "\n",
    "phrase_dict=dict()\n",
    "\n",
    "for path in pathology:\n",
    "    file_name = path.split(\"\\\\\")[-1]\n",
    "    \n",
    "    sig, sr = librosa.load(path, sr=16000)# 논문에서 f_s = 50 000HZ\n",
    "    phrase_dict[file_name] = sig\n",
    "\n",
    "\n",
    "for path in healthy:\n",
    "    file_name = path.split(\"\\\\\")[-1]\n",
    "    \n",
    "    sig, sr = librosa.load(path, sr=16000)# 논문에서 f_s = 50 000HZ\n",
    "    phrase_dict[file_name] = sig\n",
    "    \n"
   ]
  },
  {
   "cell_type": "code",
   "execution_count": 2,
   "metadata": {},
   "outputs": [],
   "source": [
    "## Save pickle\n",
    "import pickle\n",
    "with open(\"../voice_data/all_data_ver2/a_high_dict_ver2_all.pickle\",\"wb\") as fw:\n",
    "    pickle.dump(phrase_dict, fw)"
   ]
  },
  {
   "attachments": {},
   "cell_type": "markdown",
   "metadata": {},
   "source": [
    "### normal"
   ]
  },
  {
   "cell_type": "code",
   "execution_count": 3,
   "metadata": {},
   "outputs": [],
   "source": [
    "# ALL DATA\n",
    "#원본 시그널 출력하는 함수\n",
    "\n",
    "# phrase\n",
    "\n",
    "import os\n",
    "from glob import glob\n",
    "import numpy as np\n",
    "import librosa, librosa.display \n",
    "\n",
    "\n",
    "\n",
    "pathology = glob('D:/project/voice_pathology_ai/voice_data/all_data_ver2/healthy/a/neutral/export/*.wav')\n",
    "healthy = glob('D:/project/voice_pathology_ai/voice_data/all_data_ver2/pathology/a/neutral/export/*.wav')\n",
    "\n",
    "phrase_dict=dict()\n",
    "\n",
    "for path in pathology:\n",
    "    file_name = path.split(\"\\\\\")[-1]\n",
    "    \n",
    "    sig, sr = librosa.load(path, sr=16000)# 논문에서 f_s = 50 000HZ\n",
    "    phrase_dict[file_name] = sig\n",
    "\n",
    "\n",
    "for path in healthy:\n",
    "    file_name = path.split(\"\\\\\")[-1]\n",
    "    \n",
    "    sig, sr = librosa.load(path, sr=16000)# 논문에서 f_s = 50 000HZ\n",
    "    phrase_dict[file_name] = sig\n",
    "    \n"
   ]
  },
  {
   "cell_type": "code",
   "execution_count": 4,
   "metadata": {},
   "outputs": [],
   "source": [
    "## Save pickle\n",
    "import pickle\n",
    "with open(\"../voice_data/all_data_ver2/a_normal_dict_ver2_all.pickle\",\"wb\") as fw:\n",
    "    pickle.dump(phrase_dict, fw)"
   ]
  },
  {
   "attachments": {},
   "cell_type": "markdown",
   "metadata": {},
   "source": [
    "### low"
   ]
  },
  {
   "cell_type": "code",
   "execution_count": 5,
   "metadata": {},
   "outputs": [],
   "source": [
    "# ALL DATA\n",
    "#원본 시그널 출력하는 함수\n",
    "\n",
    "# phrase\n",
    "\n",
    "import os\n",
    "from glob import glob\n",
    "import numpy as np\n",
    "import librosa, librosa.display \n",
    "\n",
    "\n",
    "\n",
    "pathology = glob('D:/project/voice_pathology_ai/voice_data/all_data_ver2/healthy/a/low/export/*.wav')\n",
    "healthy = glob('D:/project/voice_pathology_ai/voice_data/all_data_ver2/pathology/a/low/export/*.wav')\n",
    "\n",
    "phrase_dict=dict()\n",
    "\n",
    "for path in pathology:\n",
    "    file_name = path.split(\"\\\\\")[-1]\n",
    "    \n",
    "    sig, sr = librosa.load(path, sr=16000)# 논문에서 f_s = 50 000HZ\n",
    "    phrase_dict[file_name] = sig\n",
    "\n",
    "\n",
    "for path in healthy:\n",
    "    file_name = path.split(\"\\\\\")[-1]\n",
    "    \n",
    "    sig, sr = librosa.load(path, sr=16000)# 논문에서 f_s = 50 000HZ\n",
    "    phrase_dict[file_name] = sig\n",
    "    \n"
   ]
  },
  {
   "cell_type": "code",
   "execution_count": 6,
   "metadata": {},
   "outputs": [],
   "source": [
    "## Save pickle\n",
    "import pickle\n",
    "with open(\"../voice_data/all_data_ver2/a_low_dict_ver2_all.pickle\",\"wb\") as fw:\n",
    "    pickle.dump(phrase_dict, fw)"
   ]
  },
  {
   "attachments": {},
   "cell_type": "markdown",
   "metadata": {},
   "source": [
    "## U VOWEL"
   ]
  },
  {
   "attachments": {},
   "cell_type": "markdown",
   "metadata": {},
   "source": [
    "### high"
   ]
  },
  {
   "cell_type": "code",
   "execution_count": 1,
   "metadata": {},
   "outputs": [],
   "source": [
    "# ALL DATA\n",
    "#원본 시그널 출력하는 함수\n",
    "\n",
    "# phrase\n",
    "\n",
    "import os\n",
    "from glob import glob\n",
    "import numpy as np\n",
    "import librosa, librosa.display \n",
    "\n",
    "\n",
    "\n",
    "pathology = glob('D:/project/voice_pathology_ai/voice_data/all_data_ver2/healthy/u/high/export/*.wav')\n",
    "healthy = glob('D:/project/voice_pathology_ai/voice_data/all_data_ver2/pathology/u/high/export/*.wav')\n",
    "\n",
    "phrase_dict=dict()\n",
    "\n",
    "for path in pathology:\n",
    "    file_name = path.split(\"\\\\\")[-1]\n",
    "    \n",
    "    sig, sr = librosa.load(path, sr=16000)# 논문에서 f_s = 50 000HZ\n",
    "    phrase_dict[file_name] = sig\n",
    "\n",
    "\n",
    "for path in healthy:\n",
    "    file_name = path.split(\"\\\\\")[-1]\n",
    "    \n",
    "    sig, sr = librosa.load(path, sr=16000)# 논문에서 f_s = 50 000HZ\n",
    "    phrase_dict[file_name] = sig\n",
    "    \n"
   ]
  },
  {
   "cell_type": "code",
   "execution_count": 2,
   "metadata": {},
   "outputs": [],
   "source": [
    "## Save pickle\n",
    "import pickle\n",
    "with open(\"../voice_data/all_data_ver2/u_high_dict_ver2_all.pickle\",\"wb\") as fw:\n",
    "    pickle.dump(phrase_dict, fw)\n"
   ]
  },
  {
   "attachments": {},
   "cell_type": "markdown",
   "metadata": {},
   "source": [
    "### normal\n"
   ]
  },
  {
   "cell_type": "code",
   "execution_count": 3,
   "metadata": {},
   "outputs": [],
   "source": [
    "# ALL DATA\n",
    "#원본 시그널 출력하는 함수\n",
    "\n",
    "# phrase\n",
    "\n",
    "import os\n",
    "from glob import glob\n",
    "import numpy as np\n",
    "import librosa, librosa.display \n",
    "\n",
    "\n",
    "\n",
    "pathology = glob('D:/project/voice_pathology_ai/voice_data/all_data_ver2/healthy/u/neutral/export/*.wav')\n",
    "healthy = glob('D:/project/voice_pathology_ai/voice_data/all_data_ver2/pathology/u/neutral/export/*.wav')\n",
    "\n",
    "phrase_dict=dict()\n",
    "\n",
    "for path in pathology:\n",
    "    file_name = path.split(\"\\\\\")[-1]\n",
    "    \n",
    "    sig, sr = librosa.load(path, sr=16000)# 논문에서 f_s = 50 000HZ\n",
    "    phrase_dict[file_name] = sig\n",
    "\n",
    "\n",
    "for path in healthy:\n",
    "    file_name = path.split(\"\\\\\")[-1]\n",
    "    \n",
    "    sig, sr = librosa.load(path, sr=16000)# 논문에서 f_s = 50 000HZ\n",
    "    phrase_dict[file_name] = sig\n",
    "    \n"
   ]
  },
  {
   "cell_type": "code",
   "execution_count": 4,
   "metadata": {},
   "outputs": [],
   "source": [
    "## Save pickle\n",
    "import pickle\n",
    "with open(\"../voice_data/all_data_ver2/u_normal_dict_ver2_all.pickle\",\"wb\") as fw:\n",
    "    pickle.dump(phrase_dict, fw)\n"
   ]
  },
  {
   "attachments": {},
   "cell_type": "markdown",
   "metadata": {},
   "source": [
    "### low"
   ]
  },
  {
   "cell_type": "code",
   "execution_count": 5,
   "metadata": {},
   "outputs": [],
   "source": [
    "# ALL DATA\n",
    "#원본 시그널 출력하는 함수\n",
    "\n",
    "# phrase\n",
    "\n",
    "import os\n",
    "from glob import glob\n",
    "import numpy as np\n",
    "import librosa, librosa.display \n",
    "\n",
    "\n",
    "\n",
    "pathology = glob('D:/project/voice_pathology_ai/voice_data/all_data_ver2/healthy/u/low/export/*.wav')\n",
    "healthy = glob('D:/project/voice_pathology_ai/voice_data/all_data_ver2/pathology/u/low/export/*.wav')\n",
    "\n",
    "phrase_dict=dict()\n",
    "\n",
    "for path in pathology:\n",
    "    file_name = path.split(\"\\\\\")[-1]\n",
    "    \n",
    "    sig, sr = librosa.load(path, sr=16000)# 논문에서 f_s = 50 000HZ\n",
    "    phrase_dict[file_name] = sig\n",
    "\n",
    "\n",
    "for path in healthy:\n",
    "    file_name = path.split(\"\\\\\")[-1]\n",
    "    \n",
    "    sig, sr = librosa.load(path, sr=16000)# 논문에서 f_s = 50 000HZ\n",
    "    phrase_dict[file_name] = sig\n",
    "    \n"
   ]
  },
  {
   "cell_type": "code",
   "execution_count": 6,
   "metadata": {},
   "outputs": [],
   "source": [
    "## Save pickle\n",
    "import pickle\n",
    "with open(\"../voice_data/all_data_ver2/u_low_dict_ver2_all.pickle\",\"wb\") as fw:\n",
    "    pickle.dump(phrase_dict, fw)\n"
   ]
  },
  {
   "attachments": {},
   "cell_type": "markdown",
   "metadata": {},
   "source": [
    "## I VOWEL"
   ]
  },
  {
   "attachments": {},
   "cell_type": "markdown",
   "metadata": {},
   "source": [
    "### high"
   ]
  },
  {
   "cell_type": "code",
   "execution_count": 3,
   "metadata": {},
   "outputs": [],
   "source": [
    "# ALL DATA\n",
    "#원본 시그널 출력하는 함수\n",
    "\n",
    "# phrase\n",
    "\n",
    "import os\n",
    "from glob import glob\n",
    "import numpy as np\n",
    "import librosa, librosa.display \n",
    "\n",
    "\n",
    "\n",
    "pathology = glob('D:/project/voice_pathology_ai/voice_data/all_data_ver2/healthy/i/high/export/*.wav')\n",
    "healthy = glob('D:/project/voice_pathology_ai/voice_data/all_data_ver2/pathology/i/high/export/*.wav')\n",
    "\n",
    "phrase_dict=dict()\n",
    "\n",
    "for path in pathology:\n",
    "    file_name = path.split(\"\\\\\")[-1]\n",
    "    \n",
    "    sig, sr = librosa.load(path, sr=16000)# 논문에서 f_s = 50 000HZ\n",
    "    phrase_dict[file_name] = sig\n",
    "\n",
    "\n",
    "for path in healthy:\n",
    "    file_name = path.split(\"\\\\\")[-1]\n",
    "    \n",
    "    sig, sr = librosa.load(path, sr=16000)# 논문에서 f_s = 50 000HZ\n",
    "    phrase_dict[file_name] = sig\n",
    "    \n"
   ]
  },
  {
   "cell_type": "code",
   "execution_count": 4,
   "metadata": {},
   "outputs": [],
   "source": [
    "## Save pickle\n",
    "import pickle\n",
    "with open(\"../voice_data/all_data_ver2/i_high_dict_ver2_all.pickle\",\"wb\") as fw:\n",
    "    pickle.dump(phrase_dict, fw)\n"
   ]
  },
  {
   "attachments": {},
   "cell_type": "markdown",
   "metadata": {},
   "source": [
    "### normal"
   ]
  },
  {
   "cell_type": "code",
   "execution_count": 6,
   "metadata": {},
   "outputs": [
    {
     "name": "stderr",
     "output_type": "stream",
     "text": [
      "d:\\anaconda3\\lib\\site-packages\\librosa\\util\\decorators.py:88: UserWarning: PySoundFile failed. Trying audioread instead.\n",
      "  return f(*args, **kwargs)\n"
     ]
    },
    {
     "name": "stdout",
     "output_type": "stream",
     "text": [
      "failed data :  D:/project/voice_pathology_ai/voice_data/all_data_ver2/pathology/i/neutral/export\\713-i_n.wav\n"
     ]
    }
   ],
   "source": [
    "# ALL DATA\n",
    "#원본 시그널 출력하는 함수\n",
    "\n",
    "# phrase\n",
    "\n",
    "import os\n",
    "from glob import glob\n",
    "import numpy as np\n",
    "import librosa, librosa.display \n",
    "\n",
    "\n",
    "\n",
    "pathology = glob('D:/project/voice_pathology_ai/voice_data/all_data_ver2/healthy/i/neutral/export/*.wav')\n",
    "healthy = glob('D:/project/voice_pathology_ai/voice_data/all_data_ver2/pathology/i/neutral/export/*.wav')\n",
    "\n",
    "phrase_dict=dict()\n",
    "\n",
    "for path in pathology:\n",
    "    try:\n",
    "        file_name = path.split(\"\\\\\")[-1]\n",
    "        \n",
    "        sig, sr = librosa.load(path, sr=16000)# 논문에서 f_s = 50 000HZ\n",
    "        phrase_dict[file_name] = sig\n",
    "    except:\n",
    "        print(\"failed data : \",path)\n",
    "\n",
    "\n",
    "for path in healthy:\n",
    "    try:    \n",
    "        file_name = path.split(\"\\\\\")[-1]\n",
    "        \n",
    "        sig, sr = librosa.load(path, sr=16000)# 논문에서 f_s = 50 000HZ\n",
    "        phrase_dict[file_name] = sig\n",
    "    except:\n",
    "        print(\"failed data : \",path)\n",
    "        \n"
   ]
  },
  {
   "cell_type": "code",
   "execution_count": 12,
   "metadata": {},
   "outputs": [],
   "source": [
    "## Save pickle\n",
    "import pickle\n",
    "with open(\"../voice_data/all_data_ver2/i_normal_dict_ver2_all.pickle\",\"wb\") as fw:\n",
    "    pickle.dump(phrase_dict, fw)\n"
   ]
  },
  {
   "attachments": {},
   "cell_type": "markdown",
   "metadata": {},
   "source": [
    "### low"
   ]
  },
  {
   "cell_type": "code",
   "execution_count": 29,
   "metadata": {},
   "outputs": [],
   "source": [
    "# ALL DATA\n",
    "#원본 시그널 출력하는 함수\n",
    "\n",
    "# phrase\n",
    "\n",
    "import os\n",
    "from glob import glob\n",
    "import numpy as np\n",
    "import librosa, librosa.display \n",
    "\n",
    "\n",
    "\n",
    "pathology = glob('D:/project/voice_pathology_ai/voice_data/all_data_ver2/healthy/i/low/export/*.wav')\n",
    "healthy = glob('D:/project/voice_pathology_ai/voice_data/all_data_ver2/pathology/i/low/export/*.wav')\n",
    "\n",
    "phrase_dict=dict()\n",
    "\n",
    "for path in pathology:\n",
    "    try:\n",
    "        file_name = path.split(\"\\\\\")[-1]\n",
    "        \n",
    "        sig, sr = librosa.load(path, sr=16000)# 논문에서 f_s = 50 000HZ\n",
    "        phrase_dict[file_name] = sig\n",
    "    except:\n",
    "        print(\"failed data : \",path)\n",
    "\n",
    "\n",
    "for path in healthy:\n",
    "    try:    \n",
    "        file_name = path.split(\"\\\\\")[-1]\n",
    "        \n",
    "        sig, sr = librosa.load(path, sr=16000)# 논문에서 f_s = 50 000HZ\n",
    "        phrase_dict[file_name] = sig\n",
    "    except:\n",
    "        print(\"failed data : \",path)\n",
    "    \n"
   ]
  },
  {
   "cell_type": "code",
   "execution_count": 30,
   "metadata": {},
   "outputs": [],
   "source": [
    "## Save pickle\n",
    "import pickle   \n",
    "with open(\"../voice_data/all_data_ver2/i_low_dict_ver2_all.pickle\",\"wb\") as fw:\n",
    "    pickle.dump(phrase_dict, fw)\n"
   ]
  },
  {
   "attachments": {},
   "cell_type": "markdown",
   "metadata": {},
   "source": [
    "# open smile feature"
   ]
  },
  {
   "cell_type": "code",
   "execution_count": 1,
   "metadata": {},
   "outputs": [],
   "source": [
    "import os\n",
    "from glob import glob\n",
    "import numpy as np\n",
    "import librosa, librosa.display \n",
    "import opensmile\n",
    "import pandas as pd\n",
    "import pickle\n",
    "from tqdm import tqdm\n"
   ]
  },
  {
   "cell_type": "code",
   "execution_count": 2,
   "metadata": {},
   "outputs": [],
   "source": [
    "def load_data(path):\n",
    "    with open(path, 'rb') as f:\n",
    "        data = pickle.load(f)\n",
    "    return data\n",
    "\n",
    "phrase=load_data(\"../voice_data/all_data_ver2/phrase_dict_ver2_all.pickle\")\n"
   ]
  },
  {
   "cell_type": "code",
   "execution_count": 3,
   "metadata": {},
   "outputs": [],
   "source": [
    "\n",
    "smile = opensmile.Smile(\n",
    "    feature_set=opensmile.FeatureSet.ComParE_2016,\n",
    "    feature_level=opensmile.FeatureLevel.Functionals,\n",
    ")\n"
   ]
  },
  {
   "cell_type": "code",
   "execution_count": 4,
   "metadata": {},
   "outputs": [
    {
     "data": {
      "text/html": [
       "<div>\n",
       "<style scoped>\n",
       "    .dataframe tbody tr th:only-of-type {\n",
       "        vertical-align: middle;\n",
       "    }\n",
       "\n",
       "    .dataframe tbody tr th {\n",
       "        vertical-align: top;\n",
       "    }\n",
       "\n",
       "    .dataframe thead th {\n",
       "        text-align: right;\n",
       "    }\n",
       "</style>\n",
       "<table border=\"1\" class=\"dataframe\">\n",
       "  <thead>\n",
       "    <tr style=\"text-align: right;\">\n",
       "      <th></th>\n",
       "      <th></th>\n",
       "      <th>audspec_lengthL1norm_sma_range</th>\n",
       "      <th>audspec_lengthL1norm_sma_maxPos</th>\n",
       "      <th>audspec_lengthL1norm_sma_minPos</th>\n",
       "      <th>audspec_lengthL1norm_sma_quartile1</th>\n",
       "      <th>audspec_lengthL1norm_sma_quartile2</th>\n",
       "      <th>audspec_lengthL1norm_sma_quartile3</th>\n",
       "      <th>audspec_lengthL1norm_sma_iqr1-2</th>\n",
       "      <th>audspec_lengthL1norm_sma_iqr2-3</th>\n",
       "      <th>audspec_lengthL1norm_sma_iqr1-3</th>\n",
       "      <th>audspec_lengthL1norm_sma_percentile1.0</th>\n",
       "      <th>...</th>\n",
       "      <th>mfcc_sma_de[14]_peakRangeAbs</th>\n",
       "      <th>mfcc_sma_de[14]_peakRangeRel</th>\n",
       "      <th>mfcc_sma_de[14]_peakMeanAbs</th>\n",
       "      <th>mfcc_sma_de[14]_peakMeanMeanDist</th>\n",
       "      <th>mfcc_sma_de[14]_peakMeanRel</th>\n",
       "      <th>mfcc_sma_de[14]_minRangeRel</th>\n",
       "      <th>mfcc_sma_de[14]_meanRisingSlope</th>\n",
       "      <th>mfcc_sma_de[14]_stddevRisingSlope</th>\n",
       "      <th>mfcc_sma_de[14]_meanFallingSlope</th>\n",
       "      <th>mfcc_sma_de[14]_stddevFallingSlope</th>\n",
       "    </tr>\n",
       "    <tr>\n",
       "      <th>start</th>\n",
       "      <th>end</th>\n",
       "      <th></th>\n",
       "      <th></th>\n",
       "      <th></th>\n",
       "      <th></th>\n",
       "      <th></th>\n",
       "      <th></th>\n",
       "      <th></th>\n",
       "      <th></th>\n",
       "      <th></th>\n",
       "      <th></th>\n",
       "      <th></th>\n",
       "      <th></th>\n",
       "      <th></th>\n",
       "      <th></th>\n",
       "      <th></th>\n",
       "      <th></th>\n",
       "      <th></th>\n",
       "      <th></th>\n",
       "      <th></th>\n",
       "      <th></th>\n",
       "      <th></th>\n",
       "    </tr>\n",
       "  </thead>\n",
       "  <tbody>\n",
       "    <tr>\n",
       "      <th>0 days</th>\n",
       "      <th>0 days 00:00:02.036437500</th>\n",
       "      <td>1.241153</td>\n",
       "      <td>0.255102</td>\n",
       "      <td>0.0</td>\n",
       "      <td>0.216459</td>\n",
       "      <td>0.360916</td>\n",
       "      <td>0.584428</td>\n",
       "      <td>0.144457</td>\n",
       "      <td>0.223512</td>\n",
       "      <td>0.367969</td>\n",
       "      <td>0.043403</td>\n",
       "      <td>...</td>\n",
       "      <td>9.113007</td>\n",
       "      <td>0.541143</td>\n",
       "      <td>3.532809</td>\n",
       "      <td>3.647854</td>\n",
       "      <td>-16.241886</td>\n",
       "      <td>0.407724</td>\n",
       "      <td>129.543015</td>\n",
       "      <td>58.202908</td>\n",
       "      <td>108.220146</td>\n",
       "      <td>62.056313</td>\n",
       "    </tr>\n",
       "  </tbody>\n",
       "</table>\n",
       "<p>1 rows × 6373 columns</p>\n",
       "</div>"
      ],
      "text/plain": [
       "                                  audspec_lengthL1norm_sma_range  \\\n",
       "start  end                                                         \n",
       "0 days 0 days 00:00:02.036437500                        1.241153   \n",
       "\n",
       "                                  audspec_lengthL1norm_sma_maxPos  \\\n",
       "start  end                                                          \n",
       "0 days 0 days 00:00:02.036437500                         0.255102   \n",
       "\n",
       "                                  audspec_lengthL1norm_sma_minPos  \\\n",
       "start  end                                                          \n",
       "0 days 0 days 00:00:02.036437500                              0.0   \n",
       "\n",
       "                                  audspec_lengthL1norm_sma_quartile1  \\\n",
       "start  end                                                             \n",
       "0 days 0 days 00:00:02.036437500                            0.216459   \n",
       "\n",
       "                                  audspec_lengthL1norm_sma_quartile2  \\\n",
       "start  end                                                             \n",
       "0 days 0 days 00:00:02.036437500                            0.360916   \n",
       "\n",
       "                                  audspec_lengthL1norm_sma_quartile3  \\\n",
       "start  end                                                             \n",
       "0 days 0 days 00:00:02.036437500                            0.584428   \n",
       "\n",
       "                                  audspec_lengthL1norm_sma_iqr1-2  \\\n",
       "start  end                                                          \n",
       "0 days 0 days 00:00:02.036437500                         0.144457   \n",
       "\n",
       "                                  audspec_lengthL1norm_sma_iqr2-3  \\\n",
       "start  end                                                          \n",
       "0 days 0 days 00:00:02.036437500                         0.223512   \n",
       "\n",
       "                                  audspec_lengthL1norm_sma_iqr1-3  \\\n",
       "start  end                                                          \n",
       "0 days 0 days 00:00:02.036437500                         0.367969   \n",
       "\n",
       "                                  audspec_lengthL1norm_sma_percentile1.0  ...  \\\n",
       "start  end                                                                ...   \n",
       "0 days 0 days 00:00:02.036437500                                0.043403  ...   \n",
       "\n",
       "                                  mfcc_sma_de[14]_peakRangeAbs  \\\n",
       "start  end                                                       \n",
       "0 days 0 days 00:00:02.036437500                      9.113007   \n",
       "\n",
       "                                  mfcc_sma_de[14]_peakRangeRel  \\\n",
       "start  end                                                       \n",
       "0 days 0 days 00:00:02.036437500                      0.541143   \n",
       "\n",
       "                                  mfcc_sma_de[14]_peakMeanAbs  \\\n",
       "start  end                                                      \n",
       "0 days 0 days 00:00:02.036437500                     3.532809   \n",
       "\n",
       "                                  mfcc_sma_de[14]_peakMeanMeanDist  \\\n",
       "start  end                                                           \n",
       "0 days 0 days 00:00:02.036437500                          3.647854   \n",
       "\n",
       "                                  mfcc_sma_de[14]_peakMeanRel  \\\n",
       "start  end                                                      \n",
       "0 days 0 days 00:00:02.036437500                   -16.241886   \n",
       "\n",
       "                                  mfcc_sma_de[14]_minRangeRel  \\\n",
       "start  end                                                      \n",
       "0 days 0 days 00:00:02.036437500                     0.407724   \n",
       "\n",
       "                                  mfcc_sma_de[14]_meanRisingSlope  \\\n",
       "start  end                                                          \n",
       "0 days 0 days 00:00:02.036437500                       129.543015   \n",
       "\n",
       "                                  mfcc_sma_de[14]_stddevRisingSlope  \\\n",
       "start  end                                                            \n",
       "0 days 0 days 00:00:02.036437500                          58.202908   \n",
       "\n",
       "                                  mfcc_sma_de[14]_meanFallingSlope  \\\n",
       "start  end                                                           \n",
       "0 days 0 days 00:00:02.036437500                        108.220146   \n",
       "\n",
       "                                  mfcc_sma_de[14]_stddevFallingSlope  \n",
       "start  end                                                            \n",
       "0 days 0 days 00:00:02.036437500                           62.056313  \n",
       "\n",
       "[1 rows x 6373 columns]"
      ]
     },
     "execution_count": 4,
     "metadata": {},
     "output_type": "execute_result"
    }
   ],
   "source": [
    "handcrafted = smile.process_signal(\n",
    "                phrase['1-phrase.wav'],\n",
    "                16000\n",
    "            )\n",
    "handcrafted"
   ]
  },
  {
   "cell_type": "code",
   "execution_count": 12,
   "metadata": {},
   "outputs": [
    {
     "data": {
      "text/plain": [
       "array([[  1.2411534 ,   0.25510204,   0.        , ...,  58.202908  ,\n",
       "        108.220146  ,  62.056313  ],\n",
       "       [  1.2411534 ,   0.25510204,   0.        , ...,  58.202908  ,\n",
       "        108.220146  ,  62.056313  ],\n",
       "       [  1.2411534 ,   0.25510204,   0.        , ...,  58.202908  ,\n",
       "        108.220146  ,  62.056313  ]], dtype=float32)"
      ]
     },
     "execution_count": 12,
     "metadata": {},
     "output_type": "execute_result"
    }
   ],
   "source": [
    "np.concatenate( [handcrafted.reset_index(drop=True),handcrafted.reset_index(drop=True),handcrafted.reset_index(drop=True) ],axis=0 )"
   ]
  },
  {
   "cell_type": "code",
   "execution_count": 21,
   "metadata": {},
   "outputs": [
    {
     "name": "stderr",
     "output_type": "stream",
     "text": [
      "100%|██████████| 1988/1988 [01:28<00:00, 22.42it/s]\n"
     ]
    }
   ],
   "source": [
    "smile_dict=dict()\n",
    "\n",
    "\n",
    "for sample in tqdm(phrase.keys()):\n",
    "    #print(sample)\n",
    "    handcrafted = smile.process_signal(\n",
    "                    phrase[sample],\n",
    "                    16000\n",
    "                )\n",
    "    smile_dict[sample] = handcrafted.reset_index(drop=True)\n"
   ]
  },
  {
   "cell_type": "code",
   "execution_count": null,
   "metadata": {},
   "outputs": [],
   "source": []
  },
  {
   "cell_type": "code",
   "execution_count": 22,
   "metadata": {},
   "outputs": [],
   "source": [
    "with open(\"../voice_data/all_data_ver2/smile_16000_all.pickle\",\"wb\") as fw:\n",
    "    pickle.dump(smile_dict, fw)"
   ]
  }
 ],
 "metadata": {
  "kernelspec": {
   "display_name": "Python 3",
   "language": "python",
   "name": "python3"
  },
  "language_info": {
   "codemirror_mode": {
    "name": "ipython",
    "version": 3
   },
   "file_extension": ".py",
   "mimetype": "text/x-python",
   "name": "python",
   "nbconvert_exporter": "python",
   "pygments_lexer": "ipython3",
   "version": "3.8.12"
  },
  "orig_nbformat": 4
 },
 "nbformat": 4,
 "nbformat_minor": 2
}
