{
 "cells": [
  {
   "cell_type": "markdown",
   "id": "5c1f2699",
   "metadata": {},
   "source": [
    "# lv60k Fine-tuning\n",
    "\n",
    "classifier를 변경하고 모델 전체를 fine-tuning한다.\n"
   ]
  },
  {
   "cell_type": "code",
   "execution_count": 1,
   "id": "3e2d0f6d",
   "metadata": {},
   "outputs": [
    {
     "name": "stdout",
     "output_type": "stream",
     "text": [
      "Using Pytorch version :  1.10.2  Device :  cuda\n"
     ]
    }
   ],
   "source": [
    "import torch\n",
    "import torchaudio\n",
    "import matplotlib.pyplot as plt\n",
    "import numpy as np\n",
    "import torch\n",
    "import torch.nn as nn # 인공 신경망 모델들 모아놓은 모듈\n",
    "import torch.nn.functional as F #그중 자주 쓰이는것들을 F로\n",
    "from torchvision import transforms, datasets\n",
    "import cv2\n",
    "from torchvision import transforms, datasets\n",
    "import pandas as pd\n",
    "import os\n",
    "from glob import glob\n",
    "import torchvision.models as models\n",
    "import sys\n",
    "import math\n",
    "\n",
    "\n",
    "\n",
    "p = os.path.abspath('../') # 상위 폴더를 사용하기 위해서.\n",
    "sys.path.insert(1, p)\n",
    "from pytorchtools.pytorchtools import EarlyStopping # 상위 폴더에 추가된 모듈.\n",
    "\n",
    "if torch.cuda.is_available():\n",
    "    DEVICE = torch.device('cuda')\n",
    "else:\n",
    "    DEVICE = torch.device('cpu')\n",
    "#DEVICE = torch.device('cpu')\n",
    "print('Using Pytorch version : ',torch.__version__,' Device : ',DEVICE)"
   ]
  },
  {
   "cell_type": "code",
   "execution_count": 2,
   "id": "932b3123",
   "metadata": {},
   "outputs": [],
   "source": [
    "import os\n",
    "os.environ['CUDA_LAUNCH_BLOCKING'] = \"1\"\n",
    "os.environ[\"CUDA_VISIBLE_DEVICES\"] = \"0\""
   ]
  },
  {
   "cell_type": "code",
   "execution_count": 3,
   "id": "f9e7fc48",
   "metadata": {},
   "outputs": [],
   "source": [
    "import numpy as np\n",
    "import librosa, librosa.display \n",
    "import matplotlib.pyplot as plt\n",
    "#window sizde : FFT를 할때 참조할 그래프 길이 ( 프레임 하나당 sample 수 )\n",
    "#자연어 처리에서는 25ms 사용. https://ahnjg.tistory.com/93\n",
    "#초당 50000hz 중 1250개씩 윈도우 사이즈로 사용.\n",
    "sr=50000\n",
    "win_length =  np.int64(50000/40) # 1250\n",
    "n_fft= win_length # WINDOWS SIZE중 사용할 길이. WINDOW SIZE가 넘어가면 나머지 것들은 zero padding\n",
    "hop_length= np.int64( np.ceil(win_length/4) ) #  얼마만큼 시간 주기(sample)를 이동하면서 분석을 할 것인지. 일반적으로 window size의 1/4\n",
    "#또는 10ms만큼으로 한다고 한다.\n",
    "#hop_length가 mfcc의 frame수를 결정한다."
   ]
  },
  {
   "cell_type": "markdown",
   "id": "5e56223a",
   "metadata": {},
   "source": [
    "# data 분류"
   ]
  },
  {
   "cell_type": "code",
   "execution_count": 4,
   "id": "c8e6b4b2",
   "metadata": {},
   "outputs": [
    {
     "name": "stdout",
     "output_type": "stream",
     "text": [
      "Pathology :  1193\n",
      "Healthy:  634\n",
      "총 데이터수 :  1827\n",
      "---\n",
      "훈련 셋 :  1461 Counter({'pathology': 954, 'healthy': 507})\n",
      "테스트 셋 :  366 Counter({'pathology': 239, 'healthy': 127})\n",
      "---\n"
     ]
    }
   ],
   "source": [
    "#1. train, test 나누기\n",
    "\n",
    "import os\n",
    "from glob import glob\n",
    "from sklearn.model_selection import StratifiedKFold\n",
    "from imblearn.over_sampling import RandomOverSampler\n",
    "from collections import Counter\n",
    "from sklearn.model_selection import train_test_split # train , test 분리에 사용.\n",
    "\n",
    "\n",
    "pathology = glob('../../voice_data/fusion/pathology/phrase/*.wav')\n",
    "healthy = glob('../../voice_data/fusion/healthy/phrase/*.wav')\n",
    "print(\"Pathology : \",len(pathology))\n",
    "print(\"Healthy: \",len(healthy))\n",
    "\n",
    "\n",
    "pathology= [ path.split(\"\\\\\")[-1] for path in pathology] # path 데이터 변환.\n",
    "healthy= [ path.split(\"\\\\\")[-1] for path in healthy] # path 데이터 변환.\n",
    " # path 데이터 변환\n",
    "\n",
    "\n",
    "X = pathology+healthy # path 데이터 합\n",
    "print(\"총 데이터수 : \",len(X))\n",
    "Y = [] # 라벨\n",
    "for idx,x in enumerate(X):\n",
    "    if idx<1193:\n",
    "        Y.append(\"pathology\")\n",
    "    else:\n",
    "        Y.append(\"healthy\")\n",
    "\n",
    "X, X_test, Y, Y_test = train_test_split(X, Y, test_size=0.2, shuffle=True, stratify=Y, random_state=456)\n",
    "#stratify를 넣어서, test에도 라벨별 잘 분류되게 한다.\n",
    "\n",
    "print(\"---\")\n",
    "print(\"훈련 셋 : \",len(Y),Counter(Y))\n",
    "print(\"테스트 셋 : \",len(Y_test),Counter(Y_test))\n",
    "print(\"---\")"
   ]
  },
  {
   "cell_type": "code",
   "execution_count": 5,
   "id": "94fd1651",
   "metadata": {},
   "outputs": [
    {
     "name": "stdout",
     "output_type": "stream",
     "text": [
      "교차 검증 : 1\n",
      "학습 레이블 데이터 분포 : \n",
      " {'healthy': 405, 'pathology': 763}\n",
      "검증 레이블 데이터 분포 : \n",
      " {'healthy': 102, 'pathology': 191} \n",
      "\n",
      "교차 검증 : 2\n",
      "학습 레이블 데이터 분포 : \n",
      " {'healthy': 406, 'pathology': 763}\n",
      "검증 레이블 데이터 분포 : \n",
      " {'healthy': 101, 'pathology': 191} \n",
      "\n",
      "교차 검증 : 3\n",
      "학습 레이블 데이터 분포 : \n",
      " {'healthy': 406, 'pathology': 763}\n",
      "검증 레이블 데이터 분포 : \n",
      " {'healthy': 101, 'pathology': 191} \n",
      "\n",
      "교차 검증 : 4\n",
      "학습 레이블 데이터 분포 : \n",
      " {'healthy': 406, 'pathology': 763}\n",
      "검증 레이블 데이터 분포 : \n",
      " {'healthy': 101, 'pathology': 191} \n",
      "\n",
      "교차 검증 : 5\n",
      "학습 레이블 데이터 분포 : \n",
      " {'healthy': 405, 'pathology': 764}\n",
      "검증 레이블 데이터 분포 : \n",
      " {'healthy': 102, 'pathology': 190} \n",
      "\n"
     ]
    }
   ],
   "source": [
    "#1. train, test 나누기\n",
    "#stratified kfold\n",
    "import os\n",
    "import random #데이터 shuffle 사용\n",
    "from glob import glob\n",
    "from sklearn.model_selection import StratifiedKFold\n",
    "from imblearn.over_sampling import RandomOverSampler\n",
    "from collections import Counter\n",
    "\n",
    "\n",
    "\n",
    "skf_iris = StratifiedKFold(n_splits=5,shuffle=True,random_state=456)\n",
    "cnt_iter = 0\n",
    "\n",
    "X_train_list = [] #데이터 셋 보관\n",
    "Y_train_list = []\n",
    "\n",
    "X_valid_list = []\n",
    "Y_valid_list = []\n",
    "\n",
    "for train_idx, test_idx in skf_iris.split(X,Y):\n",
    "    \n",
    "    #split으로 반환된 인덱스를 이용하여, 학습 검증용 테스트 데이터 추출\n",
    "    cnt_iter += 1\n",
    "    X_train, X_valid = [X[idx] for idx in train_idx.tolist() ], [X[idx] for idx in test_idx.tolist() ]\n",
    "    Y_train, Y_valid = [Y[idx] for idx in train_idx.tolist() ], [Y[idx] for idx in test_idx.tolist() ]\n",
    "    \n",
    "    X_train_list.append(X_train)\n",
    "    X_valid_list.append(X_valid)\n",
    "    \n",
    "    Y_train_list.append(Y_train)\n",
    "    Y_valid_list.append(Y_valid)\n",
    "    \n",
    "    \n",
    "    #학습 및 예측\n",
    "    \n",
    "    label_train = Y_train\n",
    "    label_test = Y_valid\n",
    "    unique_train, train_counts = np.unique(label_train, return_counts = True)\n",
    "    unique_test, test_counts = np.unique(label_test, return_counts = True)\n",
    "    \n",
    "    uniq_cnt_train = dict(zip(unique_train, train_counts))\n",
    "    uniq_cnt_test = dict(zip(unique_test, test_counts))\n",
    "    \n",
    "    \n",
    "    \n",
    "    print('교차 검증 : {}'.format(cnt_iter))\n",
    "    print('학습 레이블 데이터 분포 : \\n', uniq_cnt_train)\n",
    "    print('검증 레이블 데이터 분포 : \\n', uniq_cnt_test,'\\n')\n",
    "\n"
   ]
  },
  {
   "cell_type": "code",
   "execution_count": 6,
   "id": "38bd50b3",
   "metadata": {},
   "outputs": [
    {
     "name": "stdout",
     "output_type": "stream",
     "text": [
      "\n",
      " fold0 \n",
      "before dataset shape Counter({'pathology': 763, 'healthy': 405})\n",
      "Resampled dataset shape Counter({'pathology': 763, 'healthy': 763})\n",
      "\n",
      " fold1 \n",
      "before dataset shape Counter({'pathology': 763, 'healthy': 406})\n",
      "Resampled dataset shape Counter({'pathology': 763, 'healthy': 763})\n",
      "\n",
      " fold2 \n",
      "before dataset shape Counter({'pathology': 763, 'healthy': 406})\n",
      "Resampled dataset shape Counter({'pathology': 763, 'healthy': 763})\n",
      "\n",
      " fold3 \n",
      "before dataset shape Counter({'pathology': 763, 'healthy': 406})\n",
      "Resampled dataset shape Counter({'pathology': 763, 'healthy': 763})\n",
      "\n",
      " fold4 \n",
      "before dataset shape Counter({'pathology': 764, 'healthy': 405})\n",
      "Resampled dataset shape Counter({'pathology': 764, 'healthy': 764})\n"
     ]
    }
   ],
   "source": [
    "#2. random over sampling\n",
    "for i in range(5):\n",
    "    X_temp = np.array(X_train_list[i]).reshape(-1,1)#각 데이터를 다 행으로 넣음. (1194,1)\n",
    "    #Y = np.array(Y)\n",
    "    ros = RandomOverSampler(random_state = 123)\n",
    "    X_res,Y_res = ros.fit_resample(X_temp,Y_train_list[i])\n",
    "    \n",
    "    print(\"\\n fold{} \".format(i))\n",
    "    print('before dataset shape {}'.format(Counter(Y_train_list[i])) )\n",
    "    print('Resampled dataset shape {}'.format(Counter(Y_res)) )\n",
    "    \n",
    "    #원래대로 돌리기\n",
    "    X_res=X_res.reshape(1, -1)\n",
    "    X_train_list[i]=X_res[0].tolist()\n",
    "    Y_train_list[i]=Y_res\n",
    "\n"
   ]
  },
  {
   "cell_type": "code",
   "execution_count": 7,
   "id": "565ad33e",
   "metadata": {},
   "outputs": [],
   "source": [
    "import pickle\n",
    "\n",
    " \n",
    "#load\n",
    "with open(\"../../voice_data/fusion/phrase_sig_dict.pickle\",\"rb\") as fr:\n",
    "    phrase_dict = pickle.load(fr)\n",
    "\n",
    "    "
   ]
  },
  {
   "cell_type": "markdown",
   "id": "7081577c",
   "metadata": {},
   "source": [
    "# data set"
   ]
  },
  {
   "cell_type": "code",
   "execution_count": 8,
   "id": "0bccf7c9",
   "metadata": {},
   "outputs": [],
   "source": [
    "from torch.utils.data import Dataset, DataLoader\n",
    "\n",
    "classes = [\"pathology\",\"healthy\"]\n",
    "sr=16000\n",
    "win_length =  np.int64(sr/40) # 1250\n",
    "n_fft= win_length # WINDOWS SIZE중 사용할 길이. WINDOW SIZE가 넘어가면 나머지 것들은 zero padding\n",
    "hop_length= np.int64( np.ceil(win_length/4) ) #  얼마만큼 시간 주기(sample)를 이동하면서 분석을 할 것인지. 일반적으로 window size의 1/4\n",
    "#또는 10ms만큼으로 한다고 한다.\n",
    "#hop_length가 mfcc의 frame수를 결정한다.\n",
    "\n",
    "\n",
    "\n",
    "class svd_dataset(Dataset):\n",
    "    def __init__(self,data_path_list,classes,data_num,training):\n",
    "        #클래스에서 사용할 인자를 받아 인스턴스 변수로 저장하는 일을 한다.\n",
    "        #예를들면, 이미지의 경로 리스트를 저장하는 일을 하게 된다.\n",
    "        \n",
    "        #data_num : k 개 데이터 셋 중 어떤것을 쓸지\n",
    "        #test인지 아닌지.\n",
    "        \n",
    "        self.path_list = data_path_list[data_num]\n",
    "        self.data_num = data_num\n",
    "        self.training = training\n",
    "        self.label = svd_dataset.get_label(self.path_list,training,data_num)\n",
    "        self.classes=classes\n",
    "        \n",
    "    \n",
    "    @classmethod\n",
    "    def get_label(cls,data_path_list,training,data_num):\n",
    "        label_list=[]\n",
    "        \n",
    "        if training:\n",
    "            for idx,x in enumerate(data_path_list):\n",
    "                label_list.append(Y_train_list[data_num][idx])\n",
    "        else:\n",
    "            for idx,x in enumerate(data_path_list):\n",
    "                label_list.append(Y_valid_list[data_num][idx])\n",
    "        #print(label_list)\n",
    "        return label_list\n",
    "    \n",
    "    def __len__(self):\n",
    "        return len(self.path_list)\n",
    "        #데이터 셋의 길이를 정수로 반환한다.     \n",
    "        \n",
    "    def __getitem__(self, idx):\n",
    "        \"\"\"\n",
    "        1. path를 받아서, signal 변환\n",
    "        2. raw 데이터 바로 출력.\n",
    "        \n",
    "        \"\"\"\n",
    "\n",
    "        sig = phrase_dict[self.path_list[idx]]\n",
    "        pad1d=lambda a, i: a[0:i] if a.shape[0] > i else np.hstack((a, np.zeros((i-a.shape[0]))))\n",
    "        sig_length = sig.size #sig length 리턴에 사용. feature 추출및 학습에 사용.\n",
    "        length = 96000\n",
    "        sig=pad1d(sig,length)\n",
    "        sig=torch.from_numpy(sig).type(torch.float32)# 타입 변화\n",
    "        \n",
    "        \n",
    "        \n",
    "        \n",
    "        return sig, self.classes.index(self.label[idx]),sig_length"
   ]
  },
  {
   "cell_type": "code",
   "execution_count": 9,
   "id": "59189e52",
   "metadata": {},
   "outputs": [],
   "source": [
    "# test set 제작을 위한 class\n",
    "class svd_test_set(Dataset):\n",
    "    def __init__(self,data_path_list,classes):\n",
    "        #클래스에서 사용할 인자를 받아 인스턴스 변수로 저장하는 일을 한다.\n",
    "        #예를들면, 이미지의 경로 리스트를 저장하는 일을 하게 된다.\n",
    "        \n",
    "        #data_num : k 개 데이터 셋 중 어떤것을 쓸지\n",
    "        #test인지 아닌지.\n",
    "        \n",
    "        self.path_list = data_path_list\n",
    "        self.label = svd_test_set.get_label(self.path_list)\n",
    "        self.classes=classes\n",
    "\n",
    "        \n",
    "    \n",
    "    @classmethod\n",
    "    def get_label(cls,data_path_list):\n",
    "        label_list=[]\n",
    "        \n",
    "        for idx,x in enumerate(data_path_list):\n",
    "            label_list.append(Y_test[idx])\n",
    "        #print(label_list)\n",
    "        return label_list\n",
    "    \n",
    "    def __len__(self):\n",
    "        return len(self.path_list)\n",
    "        #데이터 셋의 길이를 정수로 반환한다. \n",
    "        \n",
    "    def __getitem__(self, idx):\n",
    "        \"\"\"\n",
    "        1. path를 받아서, signal 변환\n",
    "        2. raw 데이터 바로 출력.\n",
    "        \n",
    "        \"\"\"\n",
    "\n",
    "        sig = phrase_dict[self.path_list[idx]]\n",
    "        pad1d=lambda a, i: a[0:i] if a.shape[0] > i else np.hstack((a, np.zeros((i-a.shape[0]))))\n",
    "        sig_length = sig.size #sig length 리턴에 사용. feature 추출및 학습에 사용.\n",
    "        length = 96000\n",
    "        sig=pad1d(sig,length)\n",
    "        sig=torch.from_numpy(sig).type(torch.float32)# 타입 변화\n",
    "        \n",
    "        return sig, self.classes.index(self.label[idx]),sig_length"
   ]
  },
  {
   "cell_type": "markdown",
   "id": "fb513028",
   "metadata": {},
   "source": [
    "# data loader"
   ]
  },
  {
   "cell_type": "code",
   "execution_count": 10,
   "id": "84c84cde",
   "metadata": {},
   "outputs": [],
   "source": [
    "#3. 하이퍼 파라미터\n",
    "BATCH_SIZE =  16 #한 배치당 32개 음성데이터\n",
    "EPOCHS = 50 # 전체 데이터 셋을 50번 반복"
   ]
  },
  {
   "cell_type": "code",
   "execution_count": 11,
   "id": "f77017a8",
   "metadata": {},
   "outputs": [],
   "source": [
    "#DATA LOADER 함수가 BATCH_size 단위로 분리해 지정.\n",
    "\n",
    "#확인을 위해 데이터셋 하나만 확인\n",
    "\n",
    "\n",
    "\n",
    "train_loader = torch.utils.data.DataLoader(dataset = \n",
    "                                           svd_dataset(\n",
    "                                               X_train_list,\n",
    "                                                   classes,\n",
    "                                               data_num=0,\n",
    "                                               training=True\n",
    "                                           ),\n",
    "                                           batch_size = BATCH_SIZE,\n",
    "                                           shuffle = True,\n",
    "                                           ) # 순서가 암기되는것을 막기위해.\n",
    "\n",
    "validation_loader = torch.utils.data.DataLoader(dataset = \n",
    "                                           svd_dataset(\n",
    "                                               X_valid_list,\n",
    "                                               classes,\n",
    "                                               data_num=0,\n",
    "                                               training=False\n",
    "                                           ),\n",
    "                                           batch_size = BATCH_SIZE,\n",
    "                                           shuffle = True,) \n",
    "\n"
   ]
  },
  {
   "cell_type": "code",
   "execution_count": 12,
   "id": "2426f51d",
   "metadata": {},
   "outputs": [],
   "source": [
    "# 테스트 데이터 로더.\n",
    "\n",
    "test_loader = torch.utils.data.DataLoader(dataset = \n",
    "                                               svd_test_set(\n",
    "                                                   X_test,\n",
    "                                                   classes,\n",
    "                                               ),\n",
    "                                               batch_size = BATCH_SIZE,\n",
    "                                               shuffle = True,) "
   ]
  },
  {
   "cell_type": "markdown",
   "id": "d80c3e99",
   "metadata": {},
   "source": [
    "# model\n",
    "\n",
    "https://pytorch.org/audio/main/tutorials/speech_recognition_pipeline_tutorial.html\n",
    "\n"
   ]
  },
  {
   "cell_type": "code",
   "execution_count": 43,
   "id": "48daed65",
   "metadata": {
    "scrolled": true
   },
   "outputs": [
    {
     "data": {
      "text/plain": [
       "tensor([[[ 1.0951,  1.4170,  0.4084,  ...,  0.2738, -0.2843,  1.2001],\n",
       "         [ 1.0750,  1.3472,  0.3595,  ..., -0.2038,  0.1812,  0.8478],\n",
       "         [ 1.2866,  1.4362,  0.1494,  ...,  0.5725,  0.4450,  0.7986],\n",
       "         ...,\n",
       "         [ 0.8139,  1.2987,  0.3653,  ...,  0.4392,  0.1689,  0.9690],\n",
       "         [ 0.6930,  1.1321,  0.7835,  ...,  0.0589, -0.1215,  1.0586],\n",
       "         [ 1.2925,  1.3818,  0.7873,  ..., -0.0517,  0.4599,  0.7568]],\n",
       "\n",
       "        [[ 1.0421,  0.0229,  0.8488,  ..., -0.0101,  0.8099,  0.9056],\n",
       "         [ 1.3222,  1.2816, -0.2696,  ...,  0.3668,  0.3424,  0.9181],\n",
       "         [ 0.8055,  0.7561,  0.7466,  ...,  0.2582,  0.0231,  1.1446],\n",
       "         ...,\n",
       "         [ 1.0817,  1.3251,  0.7362,  ...,  0.3271, -0.3991,  0.9052],\n",
       "         [ 0.8850,  1.6108,  0.7458,  ...,  0.4033,  0.0090,  0.6544],\n",
       "         [ 0.9882,  0.9786,  0.4406,  ...,  0.3803, -0.3183,  0.7727]],\n",
       "\n",
       "        [[ 0.1688,  1.1062,  0.6018,  ..., -0.7040,  0.3232,  0.8117],\n",
       "         [ 1.0832,  0.4438, -0.1208,  ...,  0.0886,  0.5626,  0.2701],\n",
       "         [ 2.0431,  1.0278,  0.3477,  ...,  0.9765,  0.8680,  0.9498],\n",
       "         ...,\n",
       "         [ 0.8312,  1.1565,  1.0633,  ...,  0.5856,  0.0724,  1.0519],\n",
       "         [ 0.4509,  1.0558,  0.6335,  ...,  0.2609, -0.2774,  1.2565],\n",
       "         [ 0.8598,  1.3539,  0.8730,  ...,  0.4917, -0.8354,  0.7822]],\n",
       "\n",
       "        ...,\n",
       "\n",
       "        [[ 0.7862,  0.3834,  0.4893,  ..., -0.0774,  0.6687,  0.6773],\n",
       "         [ 0.4445,  1.3728, -0.0084,  ...,  0.0717,  0.0879,  1.1734],\n",
       "         [ 1.0883,  1.2582,  0.1226,  ...,  0.5485, -0.0572,  1.4816],\n",
       "         ...,\n",
       "         [ 0.9236,  1.1782,  1.2184,  ...,  0.4071, -0.5126,  1.0527],\n",
       "         [ 1.2544,  1.8452,  0.9851,  ...,  0.2646, -0.2565,  1.0339],\n",
       "         [ 0.6086,  1.1500,  0.6613,  ...,  0.1756, -0.1683,  1.0363]],\n",
       "\n",
       "        [[ 1.3009,  0.6126,  0.9281,  ...,  0.0391,  0.5584,  1.5904],\n",
       "         [ 0.8399,  1.2194,  0.0620,  ...,  0.8712,  0.2477,  0.5966],\n",
       "         [ 0.1939,  1.2882,  0.9340,  ...,  0.9726, -0.4094,  0.6304],\n",
       "         ...,\n",
       "         [ 1.3022,  1.1982,  0.7713,  ...,  0.3004,  0.0832,  1.1553],\n",
       "         [ 0.7739,  1.4592,  0.9478,  ...,  0.8467, -0.2114,  1.2084],\n",
       "         [ 0.2918,  1.2155,  1.4148,  ...,  0.6648, -0.1874,  0.6831]],\n",
       "\n",
       "        [[ 0.3373,  0.4788,  0.2639,  ...,  0.4080,  0.3568,  1.3237],\n",
       "         [ 0.7553,  1.0358,  1.1113,  ...,  0.4246,  0.5382,  1.6110],\n",
       "         [ 0.6954,  0.8879,  0.2498,  ...,  0.1570,  0.5359,  0.6676],\n",
       "         ...,\n",
       "         [ 1.0370,  1.5511,  0.7479,  ...,  0.4743,  0.0581,  0.6969],\n",
       "         [ 0.6377,  1.1231,  0.5954,  ...,  0.2159,  0.0304,  0.9684],\n",
       "         [ 0.7958,  1.7333,  0.7823,  ...,  0.2947, -0.6386,  0.9237]]],\n",
       "       grad_fn=<NativeLayerNormBackward0>)"
      ]
     },
     "execution_count": 43,
     "metadata": {},
     "output_type": "execute_result"
    }
   ],
   "source": [
    "class Identity(nn.Module):\n",
    "    def __init__(self):\n",
    "        super(Identity, self).__init__()\n",
    "        \n",
    "    def forward(self, x):\n",
    "        return x\n",
    "\n",
    "        \n",
    "dat1=torch.randn((8,96000))\n",
    "seq_len=torch.from_numpy(np.array([90000,89000,88000,87000,86000,85000,84000,83000]))\n",
    "model1=torchaudio.models.wav2vec2_large_lv60k(aux_num_out=32)\n",
    "model1.aux = Identity().to(DEVICE)\n",
    "\n",
    "\n",
    "sample1,seq_size=model1(dat1,seq_len)\n",
    "sample1\n"
   ]
  },
  {
   "cell_type": "code",
   "execution_count": 44,
   "id": "c084f28f",
   "metadata": {},
   "outputs": [
    {
     "data": {
      "text/plain": [
       "tensor([281, 277, 274, 271, 268, 265, 262, 259])"
      ]
     },
     "execution_count": 44,
     "metadata": {},
     "output_type": "execute_result"
    }
   ],
   "source": [
    "seq_size.type(torch.long)"
   ]
  },
  {
   "cell_type": "code",
   "execution_count": 23,
   "id": "045a9423",
   "metadata": {},
   "outputs": [
    {
     "data": {
      "text/plain": [
       "torch.Size([32, 1024, 1])"
      ]
     },
     "execution_count": 23,
     "metadata": {},
     "output_type": "execute_result"
    }
   ],
   "source": [
    "dat1=torch.randn((32,1024,299))\n",
    "decoder = nn.Sequential(\n",
    "            nn.Conv1d(1024, 1024, 150, dilation=2), #dilation2 \n",
    "            nn.BatchNorm1d(1024),\n",
    "            nn.ReLU(),\n",
    "            nn.Conv1d(1024, 1024, 1), #point wise\n",
    "            nn.BatchNorm1d(1024),\n",
    "            nn.ReLU(),\n",
    "            nn.Conv1d(1024,1024,1)\n",
    "        )\n",
    "sample1=decoder(dat1)\n",
    "sample1.size()"
   ]
  },
  {
   "cell_type": "code",
   "execution_count": 59,
   "id": "f6610655",
   "metadata": {},
   "outputs": [
    {
     "data": {
      "text/plain": [
       "torch.Size([8, 299, 2])"
      ]
     },
     "execution_count": 59,
     "metadata": {},
     "output_type": "execute_result"
    }
   ],
   "source": [
    "input_size1 = 1 # node가 299 time step ,1 차원데이터\n",
    "hidden_size1 = 2 # 마지막 출력은 2 class ->bidirectional은 2배\n",
    "num_layers=1 # 1 레이어 lstm\n",
    "\n",
    "\n",
    "dat1=torch.randn((8,299,1024))\n",
    "decoder = nn.Sequential(\n",
    "            nn.Conv1d(299, 299, 512, dilation=2), #dilation2 \n",
    "            nn.BatchNorm1d(299),\n",
    "            nn.ReLU(),\n",
    "            nn.Conv1d(299,299, 2), #point wise\n",
    "            nn.BatchNorm1d(299),\n",
    "            nn.ReLU(),\n",
    "        )\n",
    "lstm1 = nn.LSTM(input_size=input_size1,\n",
    "                             hidden_size=hidden_size1,\n",
    "                             num_layers=num_layers,\n",
    "                             batch_first = True,\n",
    "                             bidirectional=False,\n",
    "                             bias=True)\n",
    "sample1=decoder(dat1)\n",
    "sample2,_=lstm1(sample1)\n",
    "sample1.size()\n",
    "sample2.size()"
   ]
  },
  {
   "cell_type": "code",
   "execution_count": 118,
   "id": "fea9e53a",
   "metadata": {},
   "outputs": [],
   "source": [
    "idx=torch.tensor( [range(8),seq_size.type(torch.long)] )"
   ]
  },
  {
   "cell_type": "code",
   "execution_count": 122,
   "id": "4e307055",
   "metadata": {},
   "outputs": [
    {
     "data": {
      "text/plain": [
       "tensor([281, 277, 274, 271, 268, 265, 262, 259])"
      ]
     },
     "execution_count": 122,
     "metadata": {},
     "output_type": "execute_result"
    }
   ],
   "source": [
    "idx[1, :]"
   ]
  },
  {
   "cell_type": "code",
   "execution_count": 131,
   "id": "074ac7d8",
   "metadata": {},
   "outputs": [
    {
     "data": {
      "text/plain": [
       "tensor([ 0.5953, -0.4186], grad_fn=<SliceBackward0>)"
      ]
     },
     "execution_count": 131,
     "metadata": {},
     "output_type": "execute_result"
    }
   ],
   "source": [
    "sample2[4,268,:]"
   ]
  },
  {
   "cell_type": "code",
   "execution_count": 133,
   "id": "4dea32f7",
   "metadata": {},
   "outputs": [
    {
     "data": {
      "text/plain": [
       "tensor([281, 277, 274, 271, 268, 265, 262, 259])"
      ]
     },
     "execution_count": 133,
     "metadata": {},
     "output_type": "execute_result"
    }
   ],
   "source": [
    "idx[1, :]"
   ]
  },
  {
   "cell_type": "code",
   "execution_count": 136,
   "id": "d72a5fc8",
   "metadata": {},
   "outputs": [
    {
     "data": {
      "text/plain": [
       "tensor([[ 0.5789, -0.4246],\n",
       "        [ 0.5933, -0.4226],\n",
       "        [ 0.3556, -0.5595],\n",
       "        [ 0.5377, -0.4491],\n",
       "        [ 0.5953, -0.4186],\n",
       "        [ 0.5743, -0.4368],\n",
       "        [ 0.5719, -0.4222],\n",
       "        [ 0.5874, -0.4270]], grad_fn=<IndexBackward0>)"
      ]
     },
     "execution_count": 136,
     "metadata": {},
     "output_type": "execute_result"
    }
   ],
   "source": [
    "\n",
    "sample2[idx[0,:], idx[1, :],:]\n"
   ]
  },
  {
   "cell_type": "code",
   "execution_count": 78,
   "id": "3f8ff981",
   "metadata": {},
   "outputs": [
    {
     "data": {
      "text/plain": [
       "[0, 1, 2, 3, 4, 5, 6, 7]"
      ]
     },
     "execution_count": 78,
     "metadata": {},
     "output_type": "execute_result"
    }
   ],
   "source": [
    "list(range(8))"
   ]
  },
  {
   "cell_type": "code",
   "execution_count": 61,
   "id": "be4e9cf8",
   "metadata": {},
   "outputs": [
    {
     "data": {
      "text/plain": [
       "tensor([281, 277, 274, 271, 268, 265, 262, 259])"
      ]
     },
     "execution_count": 61,
     "metadata": {},
     "output_type": "execute_result"
    }
   ],
   "source": [
    "seq_size.type(torch.long)[range(seq_size.shape[0])]"
   ]
  },
  {
   "cell_type": "code",
   "execution_count": 134,
   "id": "cdcedef1",
   "metadata": {},
   "outputs": [
    {
     "data": {
      "text/plain": [
       "tensor([[[ 0.5789, -0.4246],\n",
       "         [ 0.5933, -0.4226],\n",
       "         [ 0.3556, -0.5595],\n",
       "         [ 0.5377, -0.4491],\n",
       "         [ 0.5953, -0.4186],\n",
       "         [ 0.5743, -0.4368],\n",
       "         [ 0.5719, -0.4222],\n",
       "         [ 0.5874, -0.4270]]], grad_fn=<IndexBackward0>)"
      ]
     },
     "execution_count": 134,
     "metadata": {},
     "output_type": "execute_result"
    }
   ],
   "source": [
    "sample2[torch.tensor([range(8),]),seq_size.type(torch.long),:]"
   ]
  },
  {
   "cell_type": "code",
   "execution_count": 113,
   "id": "2ae0efb1",
   "metadata": {},
   "outputs": [
    {
     "data": {
      "text/plain": [
       "torch.Size([1, 8, 1])"
      ]
     },
     "execution_count": 113,
     "metadata": {},
     "output_type": "execute_result"
    }
   ],
   "source": [
    "seq_size.type(torch.long).unsqueeze(1).unsqueeze(0)\n"
   ]
  },
  {
   "cell_type": "code",
   "execution_count": 104,
   "id": "a92a5752",
   "metadata": {},
   "outputs": [
    {
     "data": {
      "text/plain": [
       "torch.Size([8, 299, 2])"
      ]
     },
     "execution_count": 104,
     "metadata": {},
     "output_type": "execute_result"
    }
   ],
   "source": [
    "for i in range(len(seq_size)):\n",
    "    "
   ]
  },
  {
   "cell_type": "code",
   "execution_count": 112,
   "id": "60156605",
   "metadata": {},
   "outputs": [
    {
     "data": {
      "text/plain": [
       "tensor([[[0.5789],\n",
       "         [0.5937],\n",
       "         [0.5953],\n",
       "         [0.5102],\n",
       "         [0.5909],\n",
       "         [0.5945],\n",
       "         [0.4722],\n",
       "         [0.5912]]], grad_fn=<GatherBackward0>)"
      ]
     },
     "execution_count": 112,
     "metadata": {},
     "output_type": "execute_result"
    }
   ],
   "source": [
    "torch.gather(sample2,1,seq_size.type(torch.long).unsqueeze(1).unsqueeze(0))"
   ]
  },
  {
   "cell_type": "code",
   "execution_count": 13,
   "id": "2729bca1",
   "metadata": {
    "scrolled": true
   },
   "outputs": [],
   "source": [
    "#https://pytorch.org/audio/0.9.0/models.html#baevski2020wav2vec\n",
    "from torchaudio.models.wav2vec2.utils import import_huggingface_model\n",
    "from transformers import Wav2Vec2ForCTC\n",
    "\n",
    "\n",
    "\n"
   ]
  },
  {
   "cell_type": "code",
   "execution_count": 14,
   "id": "8df206b4",
   "metadata": {},
   "outputs": [],
   "source": [
    "# wav2word 가져오기\n",
    "#https://github.com/qute012/Wav2Keyword/blob/main/downstream_kws_benchmark.py\n",
    "#7. Optimizer, Objective Function\n",
    "class Identity(nn.Module):\n",
    "    def __init__(self):\n",
    "        super(Identity, self).__init__()\n",
    "        \n",
    "    def forward(self, x):\n",
    "        return x\n",
    "\n",
    "input_size1 = 1 # node가 299 time step ,1 차원데이터\n",
    "hidden_size1 = 2 # 마지막 출력은 2 class ->bidirectional은 2배\n",
    "num_layers=1 # 1 레이어 lstm\n",
    "\n",
    "\n",
    "class classifier_model(nn.Module):\n",
    "    def __init__(self,):\n",
    "        super(classifier_model,self).__init__()\n",
    "        \n",
    "        self.model_wav2vec2 = torchaudio.models.wav2vec2_large_lv60k(aux_num_out=32)\n",
    "        self.model_wav2vec2.load_state_dict(torch.load(\"../checkpoint/wav2vec2-large-lv60.pt\"))\n",
    "        self.model_wav2vec2.aux = Identity().to(DEVICE)\n",
    "        \n",
    "        self.padded_frame=299\n",
    "        \n",
    "        self.out_channels = 112\n",
    "        self.decoder = nn.Sequential(\n",
    "            nn.Conv1d(self.padded_frame, self.out_channels, 512, dilation=2), #dilation2 \n",
    "            nn.BatchNorm1d(self.out_channels),\n",
    "            nn.ReLU(),\n",
    "            nn.Conv1d(self.out_channels, self.out_channels, 2), #point wise\n",
    "            nn.BatchNorm1d(self.out_channels),\n",
    "            nn.ReLU(),\n",
    "        )\n",
    "        \n",
    "        self.lstm1 = nn.LSTM(input_size=input_size1,\n",
    "                             hidden_size=hidden_size1,\n",
    "                             num_layers=num_layers,\n",
    "                             batch_first = True,\n",
    "                             bidirectional=False,\n",
    "                             bias=True)\n",
    "        \n",
    "        \n",
    "    def forward(self,x,sig_size):\n",
    "        x,last_frame = self.model_wav2vec2(x,sig_size)\n",
    "        #zero_padding_array=np.ones((len(seq_len),self.padded_frame,2))\n",
    "        #for i in range(len(seq_len)):\n",
    "        #    zero_padding_array[i:,seq_len[i]:,:]=0\n",
    "        #x=x*torch.from_numpy(zero_padding_array).float().to(DEVICE) # 318 * 2\n",
    "        #b,t,c = x.shape\n",
    "        #x = x.reshape(b,c,t)\n",
    "        x = self.decoder(x)\n",
    "        x,_ = self.lstm1(x)\n",
    "        #last_frame = torch.floor(last_frame*111/299).type(torch.long)\n",
    "        #print(last_frame)\n",
    "        #sig_idx=torch.tensor( [range(len(sig_size)),last_frame])\n",
    "        x = x[:,-1,:]\n",
    "        #x = self.fc(x)\n",
    "        \n",
    "        return x \n",
    "\n",
    "\n",
    "def model_initialize():\n",
    "    model = classifier_model()\n",
    "    #원핫 인코딩값의 loss는 crossEntropyLoss로 비교\n",
    "    #print(model)\n",
    "    return model.to(DEVICE)"
   ]
  },
  {
   "cell_type": "code",
   "execution_count": 14,
   "id": "31a2bd17",
   "metadata": {},
   "outputs": [],
   "source": [
    "#baseline\n",
    "class Identity(nn.Module):\n",
    "    def __init__(self):\n",
    "        super(Identity, self).__init__()\n",
    "        \n",
    "    def forward(self, x):\n",
    "        return x\n",
    "\n",
    "\n",
    "\n",
    "class classifier_model(nn.Module):\n",
    "    def __init__(self,):\n",
    "        super(classifier_model,self).__init__()\n",
    "        \n",
    "        self.model_wav2vec2 = torchaudio.models.wav2vec2_large_lv60k(aux_num_out=32)\n",
    "        self.model_wav2vec2.load_state_dict(torch.load(\"../checkpoint/wav2vec2-large-lv60.pt\"))\n",
    "        self.model_wav2vec2.aux = Identity().to(DEVICE)\n",
    "        \n",
    "        self.padded_frame=318\n",
    "        \n",
    "        self.fc = nn.Sequential(nn.Linear(1024,512),\n",
    "                                nn.BatchNorm1d(512),\n",
    "                                nn.ReLU(),\n",
    "                                nn.Linear(512,50),\n",
    "                                nn.BatchNorm1d(50),\n",
    "                                nn.ReLU(),\n",
    "                                nn.Linear(50,2))\n",
    "        \n",
    "        \n",
    "    def forward(self,x,sig_size):\n",
    "        x,_ = self.model_wav2vec2(x)\n",
    "        x = x.mean(axis=1)\n",
    "        \n",
    "        x = x.view(-1,1024)\n",
    "        x=self.fc(x)\n",
    "        \n",
    "        return x \n",
    "\n",
    "\n",
    "def model_initialize():\n",
    "    model = classifier_model()\n",
    "    #원핫 인코딩값의 loss는 crossEntropyLoss로 비교\n",
    "    #print(model)\n",
    "    return model.to(DEVICE)"
   ]
  },
  {
   "cell_type": "code",
   "execution_count": 15,
   "id": "3b33fd9e",
   "metadata": {},
   "outputs": [],
   "source": [
    "#8. 학습\n",
    "def train(model,train_loader,optimizer, log_interval):\n",
    "    model.train()\n",
    "    correct = 0\n",
    "    train_loss = 0\n",
    "    for batch_idx,(image,label,sig_size) in enumerate(train_loader):\n",
    "        image = image.to(DEVICE)\n",
    "        label = label.to(DEVICE)\n",
    "        sig_size = sig_size.to(DEVICE)\n",
    "        #데이터들 장비에 할당\n",
    "        optimizer.zero_grad() # device 에 저장된 gradient 제거\n",
    "        output = model(image,sig_size) # model로 output을 계산 #WAV2VEC2 학습시 SIG_SIZE 필요,\n",
    "        loss = criterion(output, label) #loss 계산\n",
    "        train_loss += loss.item()\n",
    "        prediction = output.max(1,keepdim=True)[1] # 가장 확률이 높은 class 1개를 가져온다.그리고 인덱스만\n",
    "        correct += prediction.eq(label.view_as(prediction)).sum().item()# 아웃풋이 배치 사이즈 32개라서.\n",
    "        loss.backward() # loss 값을 이용해 gradient를 계산\n",
    "        optimizer.step() # Gradient 값을 이용해 파라미터 업데이트.\n",
    "        del output\n",
    "        del image\n",
    "        torch.cuda.empty_cache()\n",
    "\n",
    "    train_loss/=len(train_loader.dataset)\n",
    "    train_accuracy = 100. * correct / len(train_loader.dataset)\n",
    "    return train_loss,train_accuracy\n"
   ]
  },
  {
   "cell_type": "code",
   "execution_count": 16,
   "id": "953a0f6e",
   "metadata": {},
   "outputs": [],
   "source": [
    "#9. 학습 진행하며, validation 데이터로 모델 성능확인\n",
    "def evaluate(model,valid_loader):\n",
    "    model.eval()\n",
    "    valid_loss = 0\n",
    "    correct = 0\n",
    "    #no_grad : 그래디언트 값 계산 막기.\n",
    "    with torch.no_grad():\n",
    "        for image, label,sig_size in valid_loader:\n",
    "            image = image.to(DEVICE)\n",
    "            label = label.to(DEVICE)\n",
    "            sig_size = sig_size.to(DEVICE)\n",
    "            \n",
    "            output = model(image,sig_size) #WAV2VEC2 학습시 SIG_SIZE 필요,\n",
    "            valid_loss += criterion(output, label).item()\n",
    "            prediction = output.max(1,keepdim=True)[1] # 가장 확률이 높은 class 1개를 가져온다.그리고 인덱스만\n",
    "            correct += prediction.eq(label.view_as(prediction)).sum().item()# 아웃풋이 배치 사이즈 32개라서.\n",
    "            #true.false값을 sum해줌. item\n",
    "            del output\n",
    "            del image\n",
    "            torch.cuda.empty_cache()\n",
    "            \n",
    "        valid_loss /= len(valid_loader.dataset)\n",
    "        valid_accuracy = 100. * correct / len(valid_loader.dataset)\n",
    "        return valid_loss,valid_accuracy\n"
   ]
  },
  {
   "cell_type": "code",
   "execution_count": 17,
   "id": "632b6d66",
   "metadata": {},
   "outputs": [],
   "source": [
    "#데이터 로더 제작 함수\n",
    "\n",
    "def load_data(data_ind):\n",
    "\n",
    "    train_loader = torch.utils.data.DataLoader(dataset = \n",
    "                                               svd_dataset(\n",
    "                                                   X_train_list,\n",
    "                                                   classes,\n",
    "                                                   data_num=data_ind,\n",
    "                                                   training=True\n",
    "                                               ),\n",
    "                                               batch_size = BATCH_SIZE,\n",
    "                                               shuffle = True,\n",
    "                                               ) # 순서가 암기되는것을 막기위해.\n",
    "\n",
    "    validation_loader = torch.utils.data.DataLoader(dataset = \n",
    "                                               svd_dataset(\n",
    "                                                   X_valid_list,\n",
    "                                                   classes,\n",
    "                                                   data_num=data_ind,\n",
    "                                                   training=False\n",
    "                                               ),\n",
    "                                               batch_size = BATCH_SIZE,\n",
    "                                               shuffle = True,) \n",
    "    return train_loader,validation_loader\n",
    "\n"
   ]
  },
  {
   "cell_type": "code",
   "execution_count": 18,
   "id": "9ef3b7d2",
   "metadata": {
    "scrolled": false
   },
   "outputs": [
    {
     "name": "stdout",
     "output_type": "stream",
     "text": [
      "../checkpoint/checkpoint_w2v_large_finetune_1.pt\n",
      "[1 교차검증] 학습 시작\n",
      " ----- \n",
      "\n",
      "[EPOCH:1]\t Train Loss:0.0348\t Train Acc:71.82 %  | \tValid Loss:0.1311 \tValid Acc: 41.30 %\n",
      "\n",
      "Validation loss decreased (inf --> 0.131093).  Saving model ...\n",
      "\n",
      "[EPOCH:2]\t Train Loss:0.0311\t Train Acc:76.15 %  | \tValid Loss:0.0503 \tValid Acc: 65.19 %\n",
      "\n",
      "Validation loss decreased (0.131093 --> 0.050282).  Saving model ...\n",
      "\n",
      "[EPOCH:3]\t Train Loss:0.0272\t Train Acc:79.88 %  | \tValid Loss:0.0320 \tValid Acc: 76.45 %\n",
      "\n",
      "Validation loss decreased (0.050282 --> 0.031999).  Saving model ...\n",
      "\n",
      "[EPOCH:4]\t Train Loss:0.0245\t Train Acc:81.98 %  | \tValid Loss:0.1971 \tValid Acc: 65.19 %\n",
      "\n",
      "EarlyStopping counter: 1 out of 5\n",
      "\n",
      "[EPOCH:5]\t Train Loss:0.0236\t Train Acc:83.55 %  | \tValid Loss:0.0318 \tValid Acc: 80.55 %\n",
      "\n",
      "Validation loss decreased (0.031999 --> 0.031796).  Saving model ...\n",
      "\n",
      "[EPOCH:6]\t Train Loss:0.0190\t Train Acc:87.61 %  | \tValid Loss:0.0631 \tValid Acc: 68.94 %\n",
      "\n",
      "EarlyStopping counter: 1 out of 5\n",
      "\n",
      "[EPOCH:7]\t Train Loss:0.0161\t Train Acc:89.71 %  | \tValid Loss:0.0585 \tValid Acc: 67.92 %\n",
      "\n",
      "EarlyStopping counter: 2 out of 5\n",
      "\n",
      "[EPOCH:8]\t Train Loss:0.0152\t Train Acc:88.79 %  | \tValid Loss:0.0344 \tValid Acc: 77.13 %\n",
      "\n",
      "EarlyStopping counter: 3 out of 5\n",
      "\n",
      "[EPOCH:9]\t Train Loss:0.0100\t Train Acc:94.50 %  | \tValid Loss:0.1598 \tValid Acc: 46.76 %\n",
      "\n",
      "EarlyStopping counter: 4 out of 5\n",
      "\n",
      "[EPOCH:10]\t Train Loss:0.0112\t Train Acc:93.71 %  | \tValid Loss:0.1094 \tValid Acc: 51.88 %\n",
      "\n",
      "EarlyStopping counter: 5 out of 5\n",
      "[1 교차검증] Early stopping\n",
      "../checkpoint/checkpoint_w2v_large_finetune_2.pt\n",
      "[2 교차검증] 학습 시작\n",
      " ----- \n",
      "\n",
      "[EPOCH:1]\t Train Loss:0.0427\t Train Acc:60.42 %  | \tValid Loss:0.3872 \tValid Acc: 34.59 %\n",
      "\n",
      "Validation loss decreased (inf --> 0.387192).  Saving model ...\n",
      "\n",
      "[EPOCH:2]\t Train Loss:0.0357\t Train Acc:71.30 %  | \tValid Loss:0.5073 \tValid Acc: 65.41 %\n",
      "\n",
      "EarlyStopping counter: 1 out of 5\n",
      "\n",
      "[EPOCH:3]\t Train Loss:0.0310\t Train Acc:77.13 %  | \tValid Loss:0.1844 \tValid Acc: 65.41 %\n",
      "\n",
      "Validation loss decreased (0.387192 --> 0.184401).  Saving model ...\n",
      "\n",
      "[EPOCH:4]\t Train Loss:0.0312\t Train Acc:77.33 %  | \tValid Loss:0.0405 \tValid Acc: 63.70 %\n",
      "\n",
      "Validation loss decreased (0.184401 --> 0.040453).  Saving model ...\n",
      "\n",
      "[EPOCH:5]\t Train Loss:0.0272\t Train Acc:79.82 %  | \tValid Loss:0.0358 \tValid Acc: 71.58 %\n",
      "\n",
      "Validation loss decreased (0.040453 --> 0.035833).  Saving model ...\n",
      "\n",
      "[EPOCH:6]\t Train Loss:0.0237\t Train Acc:84.08 %  | \tValid Loss:0.1505 \tValid Acc: 65.41 %\n",
      "\n",
      "EarlyStopping counter: 1 out of 5\n",
      "\n",
      "[EPOCH:7]\t Train Loss:0.0185\t Train Acc:88.14 %  | \tValid Loss:0.0412 \tValid Acc: 71.92 %\n",
      "\n",
      "EarlyStopping counter: 2 out of 5\n",
      "\n",
      "[EPOCH:8]\t Train Loss:0.0173\t Train Acc:88.60 %  | \tValid Loss:0.0340 \tValid Acc: 78.77 %\n",
      "\n",
      "Validation loss decreased (0.035833 --> 0.034036).  Saving model ...\n",
      "\n",
      "[EPOCH:9]\t Train Loss:0.0132\t Train Acc:91.15 %  | \tValid Loss:0.1601 \tValid Acc: 65.41 %\n",
      "\n",
      "EarlyStopping counter: 1 out of 5\n",
      "\n",
      "[EPOCH:10]\t Train Loss:0.0087\t Train Acc:95.41 %  | \tValid Loss:0.0573 \tValid Acc: 69.86 %\n",
      "\n",
      "EarlyStopping counter: 2 out of 5\n",
      "\n",
      "[EPOCH:11]\t Train Loss:0.0085\t Train Acc:94.95 %  | \tValid Loss:0.3615 \tValid Acc: 65.41 %\n",
      "\n",
      "EarlyStopping counter: 3 out of 5\n",
      "\n",
      "[EPOCH:12]\t Train Loss:0.0062\t Train Acc:96.79 %  | \tValid Loss:0.2270 \tValid Acc: 44.18 %\n",
      "\n",
      "EarlyStopping counter: 4 out of 5\n",
      "\n",
      "[EPOCH:13]\t Train Loss:0.0070\t Train Acc:96.20 %  | \tValid Loss:0.0869 \tValid Acc: 68.15 %\n",
      "\n",
      "EarlyStopping counter: 5 out of 5\n",
      "[2 교차검증] Early stopping\n",
      "../checkpoint/checkpoint_w2v_large_finetune_3.pt\n",
      "[3 교차검증] 학습 시작\n",
      " ----- \n",
      "\n",
      "[EPOCH:1]\t Train Loss:0.0346\t Train Acc:73.26 %  | \tValid Loss:0.0476 \tValid Acc: 71.58 %\n",
      "\n",
      "Validation loss decreased (inf --> 0.047599).  Saving model ...\n",
      "\n",
      "[EPOCH:2]\t Train Loss:0.0299\t Train Acc:77.39 %  | \tValid Loss:0.3027 \tValid Acc: 34.93 %\n",
      "\n",
      "EarlyStopping counter: 1 out of 5\n",
      "\n",
      "[EPOCH:3]\t Train Loss:0.0257\t Train Acc:81.65 %  | \tValid Loss:0.0315 \tValid Acc: 75.00 %\n",
      "\n",
      "Validation loss decreased (0.047599 --> 0.031526).  Saving model ...\n",
      "\n",
      "[EPOCH:4]\t Train Loss:0.0209\t Train Acc:85.78 %  | \tValid Loss:0.0392 \tValid Acc: 81.51 %\n",
      "\n",
      "EarlyStopping counter: 1 out of 5\n",
      "\n",
      "[EPOCH:5]\t Train Loss:0.0179\t Train Acc:89.19 %  | \tValid Loss:0.1061 \tValid Acc: 67.47 %\n",
      "\n",
      "EarlyStopping counter: 2 out of 5\n",
      "\n",
      "[EPOCH:6]\t Train Loss:0.0149\t Train Acc:90.83 %  | \tValid Loss:0.2110 \tValid Acc: 34.59 %\n",
      "\n",
      "EarlyStopping counter: 3 out of 5\n",
      "\n",
      "[EPOCH:7]\t Train Loss:0.0124\t Train Acc:93.58 %  | \tValid Loss:0.0402 \tValid Acc: 77.74 %\n",
      "\n",
      "EarlyStopping counter: 4 out of 5\n",
      "\n",
      "[EPOCH:8]\t Train Loss:0.0120\t Train Acc:92.99 %  | \tValid Loss:0.1101 \tValid Acc: 65.41 %\n",
      "\n",
      "EarlyStopping counter: 5 out of 5\n",
      "[3 교차검증] Early stopping\n",
      "../checkpoint/checkpoint_w2v_large_finetune_4.pt\n",
      "[4 교차검증] 학습 시작\n",
      " ----- \n",
      "\n",
      "[EPOCH:1]\t Train Loss:0.0373\t Train Acc:68.28 %  | \tValid Loss:0.1657 \tValid Acc: 34.93 %\n",
      "\n",
      "Validation loss decreased (inf --> 0.165734).  Saving model ...\n",
      "\n",
      "[EPOCH:2]\t Train Loss:0.0281\t Train Acc:79.95 %  | \tValid Loss:0.0289 \tValid Acc: 78.42 %\n",
      "\n",
      "Validation loss decreased (0.165734 --> 0.028860).  Saving model ...\n",
      "\n",
      "[EPOCH:3]\t Train Loss:0.0226\t Train Acc:84.99 %  | \tValid Loss:0.0503 \tValid Acc: 62.33 %\n",
      "\n",
      "EarlyStopping counter: 1 out of 5\n",
      "\n",
      "[EPOCH:4]\t Train Loss:0.0219\t Train Acc:85.12 %  | \tValid Loss:0.0346 \tValid Acc: 78.77 %\n",
      "\n",
      "EarlyStopping counter: 2 out of 5\n",
      "\n",
      "[EPOCH:5]\t Train Loss:0.0161\t Train Acc:89.91 %  | \tValid Loss:0.0791 \tValid Acc: 61.30 %\n",
      "\n",
      "EarlyStopping counter: 3 out of 5\n",
      "\n",
      "[EPOCH:6]\t Train Loss:0.0156\t Train Acc:90.04 %  | \tValid Loss:0.0860 \tValid Acc: 72.95 %\n",
      "\n",
      "EarlyStopping counter: 4 out of 5\n",
      "\n",
      "[EPOCH:7]\t Train Loss:0.0139\t Train Acc:92.53 %  | \tValid Loss:0.0681 \tValid Acc: 70.89 %\n",
      "\n",
      "EarlyStopping counter: 5 out of 5\n",
      "[4 교차검증] Early stopping\n",
      "../checkpoint/checkpoint_w2v_large_finetune_5.pt\n",
      "[5 교차검증] 학습 시작\n",
      " ----- \n",
      "\n",
      "[EPOCH:1]\t Train Loss:0.0359\t Train Acc:71.27 %  | \tValid Loss:0.2176 \tValid Acc: 34.93 %\n",
      "\n",
      "Validation loss decreased (inf --> 0.217563).  Saving model ...\n",
      "\n",
      "[EPOCH:2]\t Train Loss:0.0328\t Train Acc:73.23 %  | \tValid Loss:0.1427 \tValid Acc: 65.07 %\n",
      "\n",
      "Validation loss decreased (0.217563 --> 0.142747).  Saving model ...\n",
      "\n",
      "[EPOCH:3]\t Train Loss:0.0254\t Train Acc:83.44 %  | \tValid Loss:0.0744 \tValid Acc: 52.05 %\n",
      "\n",
      "Validation loss decreased (0.142747 --> 0.074390).  Saving model ...\n",
      "\n",
      "[EPOCH:4]\t Train Loss:0.0222\t Train Acc:85.14 %  | \tValid Loss:0.0307 \tValid Acc: 78.08 %\n",
      "\n",
      "Validation loss decreased (0.074390 --> 0.030708).  Saving model ...\n",
      "\n",
      "[EPOCH:5]\t Train Loss:0.0182\t Train Acc:86.45 %  | \tValid Loss:0.1664 \tValid Acc: 65.41 %\n",
      "\n",
      "EarlyStopping counter: 1 out of 5\n",
      "\n",
      "[EPOCH:6]\t Train Loss:0.0147\t Train Acc:90.05 %  | \tValid Loss:0.1433 \tValid Acc: 65.07 %\n",
      "\n",
      "EarlyStopping counter: 2 out of 5\n",
      "\n",
      "[EPOCH:7]\t Train Loss:0.0123\t Train Acc:91.95 %  | \tValid Loss:0.6185 \tValid Acc: 65.07 %\n",
      "\n",
      "EarlyStopping counter: 3 out of 5\n",
      "\n",
      "[EPOCH:8]\t Train Loss:0.0106\t Train Acc:93.13 %  | \tValid Loss:0.0531 \tValid Acc: 70.55 %\n",
      "\n",
      "EarlyStopping counter: 4 out of 5\n",
      "\n",
      "[EPOCH:9]\t Train Loss:0.0079\t Train Acc:95.68 %  | \tValid Loss:0.0413 \tValid Acc: 73.63 %\n",
      "\n",
      "EarlyStopping counter: 5 out of 5\n",
      "[5 교차검증] Early stopping\n"
     ]
    }
   ],
   "source": [
    "#10. 학습 및 평가.\n",
    "# kfold 적용\n",
    "\n",
    "train_accs = []\n",
    "valid_accs = []\n",
    "\n",
    "for data_ind in range(1,6):\n",
    "\n",
    "    check_path = '../checkpoint/checkpoint_w2v_large_finetune_'+str(data_ind)+'.pt'\n",
    "    print(check_path)\n",
    "    early_stopping = EarlyStopping(patience = 5, verbose = True, path=check_path)\n",
    "    train_loader,validation_loader = load_data(data_ind-1)\n",
    "    \n",
    "    best_train_acc=0 # accuracy 기록용\n",
    "    best_valid_acc=0\n",
    "    \n",
    "    model=model_initialize()\n",
    "    criterion = nn.CrossEntropyLoss()\n",
    "    optimizer = torch.optim.Adam(model.parameters(),lr=0.001)\n",
    "    \n",
    "    \n",
    "    print(\"[{} 교차검증] 학습 시작\\n ----- \".format(data_ind))\n",
    "    for Epoch in range(1,EPOCHS+1):\n",
    "        train_loss,train_accuracy=train(model,train_loader,optimizer,log_interval=31)\n",
    "        valid_loss,valid_accuracy = evaluate(model, validation_loader)\n",
    "\n",
    "\n",
    "        print(\"\\n[EPOCH:{}]\\t Train Loss:{:.4f}\\t Train Acc:{:.2f} %  | \\tValid Loss:{:.4f} \\tValid Acc: {:.2f} %\\n\".\n",
    "              format(Epoch,train_loss,train_accuracy,valid_loss,valid_accuracy))\n",
    "        \n",
    "\n",
    "        early_stopping(valid_loss, model)\n",
    "        if -early_stopping.best_score == valid_loss:\n",
    "            best_train_acc, best_valid_acc = train_accuracy,valid_accuracy\n",
    "        \n",
    "        if early_stopping.early_stop:\n",
    "                train_accs.append(best_train_acc)\n",
    "                valid_accs.append(best_valid_acc)\n",
    "                print(\"[{} 교차검증] Early stopping\".format(data_ind))\n",
    "                break\n",
    "\n",
    "        if Epoch==EPOCHS:\n",
    "            #만약 early stop 없이 40 epoch라서 중지 된 경우.\n",
    "            train_accs.append(best_train_acc)\n",
    "            valid_accs.append(best_valid_acc)"
   ]
  },
  {
   "cell_type": "markdown",
   "id": "ac51f5f9",
   "metadata": {},
   "source": [
    "# 결과 확인"
   ]
  },
  {
   "cell_type": "code",
   "execution_count": 19,
   "id": "a1928ffe",
   "metadata": {},
   "outputs": [
    {
     "name": "stdout",
     "output_type": "stream",
     "text": [
      "[1 교차검증] train ACC : 83.5518 |\t valid ACC: 80.5461 \n",
      "[2 교차검증] train ACC : 88.5976 |\t valid ACC: 78.7671 \n",
      "[3 교차검증] train ACC : 81.6514 |\t valid ACC: 75.0000 \n",
      "[4 교차검증] train ACC : 79.9476 |\t valid ACC: 78.4247 \n",
      "[5 교차검증] train ACC : 85.1440 |\t valid ACC: 78.0822 \n",
      "평균 검증 정확도 78.1640095376128 %\n"
     ]
    }
   ],
   "source": [
    "sum_valid=0\n",
    "for data_ind in range(5):\n",
    "    print(\"[{} 교차검증] train ACC : {:.4f} |\\t valid ACC: {:.4f} \".format(data_ind+1,train_accs[data_ind],valid_accs[data_ind] ))\n",
    "    sum_valid+=valid_accs[data_ind]\n",
    "    \n",
    "print(\"평균 검증 정확도\",sum_valid/5,\"%\")"
   ]
  },
  {
   "cell_type": "code",
   "execution_count": 20,
   "id": "c300bc32",
   "metadata": {},
   "outputs": [],
   "source": [
    "#9. 학습 진행하며, validation 데이터로 모델 성능확인\n",
    "def test_evaluate(model,test_loader):\n",
    "    model.eval()\n",
    "    predictions = []\n",
    "    answers = []\n",
    "    #no_grad : 그래디언트 값 계산 막기.\n",
    "    with torch.no_grad():\n",
    "        for image, label,sig_len in test_loader:\n",
    "            image = image.to(DEVICE)\n",
    "            label = label.to(DEVICE)\n",
    "            sig_len = sig_len.to(DEVICE)\n",
    "            output = model(image,sig_len)\n",
    "            output = F.softmax(output, dim=1).data.squeeze() # softmax 적용 (모델을 통과는 했지만, criterion는 안통과함.)\n",
    "            prediction = output.max(1,keepdim=True)[1] # 가장 확률이 높은 class 1개를 가져온다.그리고 인덱스만\n",
    "            answers +=label\n",
    "            predictions +=prediction\n",
    "        return predictions,answers"
   ]
  },
  {
   "cell_type": "code",
   "execution_count": 21,
   "id": "e67a7256",
   "metadata": {},
   "outputs": [
    {
     "name": "stdout",
     "output_type": "stream",
     "text": [
      "1번 모델\n",
      "Accuracy : 78.1421% \n",
      "Precision (pathology 예측한 것중 맞는 것) : 0.9119\n",
      "recall (실제 pathology 중  예측이 맞는 것) : 0.7364\n",
      "f score : 0.7741 \n",
      "[[176  63]\n",
      " [ 17 110]]\n",
      "-----\n",
      "2번 모델\n",
      "Accuracy : 78.6885% \n",
      "Precision (pathology 예측한 것중 맞는 것) : 0.7825\n",
      "recall (실제 pathology 중  예측이 맞는 것) : 0.9331\n",
      "f score : 0.7381 \n",
      "[[223  16]\n",
      " [ 62  65]]\n",
      "-----\n",
      "3번 모델\n",
      "Accuracy : 73.4973% \n",
      "Precision (pathology 예측한 것중 맞는 것) : 0.7178\n",
      "recall (실제 pathology 중  예측이 맞는 것) : 0.9791\n",
      "f score : 0.6237 \n",
      "[[234   5]\n",
      " [ 92  35]]\n",
      "-----\n",
      "4번 모델\n",
      "Accuracy : 83.0601% \n",
      "Precision (pathology 예측한 것중 맞는 것) : 0.8865\n",
      "recall (실제 pathology 중  예측이 맞는 것) : 0.8494\n",
      "f score : 0.8163 \n",
      "[[203  36]\n",
      " [ 26 101]]\n",
      "-----\n",
      "5번 모델\n",
      "Accuracy : 80.0546% \n",
      "Precision (pathology 예측한 것중 맞는 것) : 0.8120\n",
      "recall (실제 pathology 중  예측이 맞는 것) : 0.9038\n",
      "f score : 0.7669 \n",
      "[[216  23]\n",
      " [ 50  77]]\n",
      "-----\n",
      "평균 acc : 0.7869\n",
      "평균 f1score : 0.7438\n"
     ]
    }
   ],
   "source": [
    "# Confusion matrix (resnet18)\n",
    "# kfold의 confusion matrix는 계산 방법이 다르다.\n",
    "# 모델을 각각 불러와서 test set을 평가한다.\n",
    "\n",
    "from sklearn.metrics import confusion_matrix\n",
    "from sklearn.metrics import f1_score\n",
    "\n",
    "cf = np.zeros((2,2))\n",
    "cf_list = []\n",
    "average_accuracy = 0\n",
    "average_fscore = 0\n",
    "\n",
    "for data_ind in range(1,6):\n",
    "\n",
    "    check_path = '../checkpoint/checkpoint_w2v_large_finetune_'+str(data_ind)+'.pt'\n",
    "    model.load_state_dict(torch.load(check_path))\n",
    "\n",
    "    predictions,answers = test_evaluate(model, test_loader)\n",
    "    predictions=[ dat.cpu().numpy() for dat in predictions]\n",
    "    answers=[ dat.cpu().numpy() for dat in answers]\n",
    "\n",
    "    \n",
    "    cf = confusion_matrix(answers, predictions)\n",
    "    cf_list.append(cf)\n",
    "    \n",
    "    acc = (cf[0,0]+cf[1,1])/(cf[0,0]+cf[0,1]+cf[1,0]+cf[1,1])\n",
    "    average_accuracy+=acc\n",
    "    precision=cf[0,0]/(cf[0,0]+cf[1,0])\n",
    "    recall=cf[0,0]/(cf[0,0]+cf[0,1])\n",
    "    #fscore=2*precision*recall/(precision+recall)\n",
    "    \n",
    "    #fscroe macro추가\n",
    "    fscore = f1_score(answers,predictions,average='macro')\n",
    "    average_fscore+=fscore\n",
    "    \n",
    "    print('{}번 모델'.format(data_ind))\n",
    "    print(\"Accuracy : {:.4f}% \".format(acc*100))\n",
    "    print(\"Precision (pathology 예측한 것중 맞는 것) : {:.4f}\".format(precision))\n",
    "    print(\"recall (실제 pathology 중  예측이 맞는 것) : {:.4f}\".format(recall))\n",
    "    print(\"f score : {:.4f} \".format(fscore))\n",
    "    print(cf)\n",
    "    print(\"-----\")\n",
    "\n",
    "print(\"평균 acc : {:.4f}\".format(average_accuracy/5))\n",
    "print(\"평균 f1score : {:.4f}\".format(average_fscore/5))\n",
    "\n",
    "\n"
   ]
  }
 ],
 "metadata": {
  "kernelspec": {
   "display_name": "Python 3 (ipykernel)",
   "language": "python",
   "name": "python3"
  },
  "language_info": {
   "codemirror_mode": {
    "name": "ipython",
    "version": 3
   },
   "file_extension": ".py",
   "mimetype": "text/x-python",
   "name": "python",
   "nbconvert_exporter": "python",
   "pygments_lexer": "ipython3",
   "version": "3.8.12"
  },
  "toc": {
   "base_numbering": 1,
   "nav_menu": {},
   "number_sections": true,
   "sideBar": true,
   "skip_h1_title": false,
   "title_cell": "Table of Contents",
   "title_sidebar": "Contents",
   "toc_cell": false,
   "toc_position": {
    "height": "calc(100% - 180px)",
    "left": "10px",
    "top": "150px",
    "width": "409.6px"
   },
   "toc_section_display": true,
   "toc_window_display": true
  }
 },
 "nbformat": 4,
 "nbformat_minor": 5
}
