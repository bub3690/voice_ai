{
 "cells": [
  {
   "cell_type": "markdown",
   "id": "0fcc9043",
   "metadata": {},
   "source": [
    "all_data에서 healthy를 복사하는 경우.\n",
    "\n",
    "phrase 데이터"
   ]
  },
  {
   "cell_type": "code",
   "execution_count": 1,
   "id": "275b8092",
   "metadata": {},
   "outputs": [
    {
     "name": "stdout",
     "output_type": "stream",
     "text": [
      "Using Pytorch version :  1.10.2  Device :  cuda\n"
     ]
    }
   ],
   "source": [
    "import torch\n",
    "import matplotlib.pyplot as plt\n",
    "import numpy as np\n",
    "import torch\n",
    "import torch.nn as nn # 인공 신경망 모델들 모아놓은 모듈\n",
    "import torch.nn.functional as F #그중 자주 쓰이는것들을 F로\n",
    "from torchvision import transforms, datasets\n",
    "import cv2\n",
    "import pandas as pd\n",
    "import os\n",
    "from glob import glob\n",
    "import torchvision.models as models\n",
    "import sys\n",
    "import librosa, librosa.display \n",
    "\n",
    "p = os.path.abspath('D:/project/voice_pathology_ai/model') # 상위 폴더를 사용하기 위해서.\n",
    "sys.path.insert(1, p)\n",
    "from pytorchtools.pytorchtools import EarlyStopping # 상위 폴더에 추가된 모듈.\n",
    "\n",
    "\n",
    "if torch.cuda.is_available():\n",
    "    DEVICE = torch.device('cuda')\n",
    "else:\n",
    "    DEVICE = torch.device('cpu')\n",
    "#DEVICE = torch.device('cpu')\n",
    "print('Using Pytorch version : ',torch.__version__,' Device : ',DEVICE)"
   ]
  },
  {
   "cell_type": "code",
   "execution_count": 2,
   "id": "9bef83de",
   "metadata": {},
   "outputs": [],
   "source": [
    "import torchaudio\n",
    "import torchaudio.transforms as T"
   ]
  },
  {
   "cell_type": "markdown",
   "id": "1a38dcdc",
   "metadata": {},
   "source": [
    "# 데이터 나누기 - Stratified KFold\n",
    "\n",
    "- pathology : 1194 / healthy : 634 / 총 1828\n",
    "- k = 5"
   ]
  },
  {
   "cell_type": "markdown",
   "id": "1a148977",
   "metadata": {},
   "source": [
    "## 1. test/ train 나누기\n"
   ]
  },
  {
   "cell_type": "code",
   "execution_count": 6,
   "id": "bad9bf92",
   "metadata": {
    "scrolled": false
   },
   "outputs": [
    {
     "name": "stdout",
     "output_type": "stream",
     "text": [
      "Pathology :  1354\n",
      "Healthy:  634\n",
      "총 데이터수 :  1988\n",
      "---\n",
      "훈련 셋 :  1590 Counter({'pathology': 1083, 'healthy': 507})\n",
      "테스트 셋 :  398 Counter({'pathology': 271, 'healthy': 127})\n",
      "---\n"
     ]
    }
   ],
   "source": [
    "#1. train, test 나누기\n",
    "\n",
    "import os\n",
    "from glob import glob\n",
    "from sklearn.model_selection import StratifiedKFold\n",
    "from imblearn.over_sampling import RandomOverSampler\n",
    "from collections import Counter\n",
    "from sklearn.model_selection import train_test_split # train , test 분리에 사용.\n",
    "\n",
    "\n",
    "pathology = glob('D:/project/voice_pathology_ai/voice_data/all_data/pathology/phrase/*.wav')\n",
    "healthy = glob('D:/project/voice_pathology_ai/voice_data/all_data/healthy/phrase/*.wav')\n",
    "print(\"Pathology : \",len(pathology))\n",
    "print(\"Healthy: \",len(healthy))\n",
    "\n",
    "pathology= [ path.split(\"\\\\\")[-1] for path in pathology] # path 데이터 변환.\n",
    "healthy= [ path.split(\"\\\\\")[-1] for path in healthy] # path 데이터 변환.\n",
    " # path 데이터 변환 #외부데이터로 가져오기위해서, 번호만 남긴다\n",
    "\n",
    "    \n",
    "X = pathology+healthy # path 데이터 합\n",
    "print(\"총 데이터수 : \",len(X))\n",
    "Y = [] # 라벨\n",
    "for idx,x in enumerate(X):\n",
    "    if idx<1354:\n",
    "        Y.append(\"pathology\")\n",
    "    else:\n",
    "        Y.append(\"healthy\")\n",
    "\n",
    "X, X_test, Y, Y_test = train_test_split(X, Y, test_size=0.2, shuffle=True, stratify=Y, random_state=456)\n",
    "#stratify를 넣어서, test에도 라벨별 잘 분류되게 한다.\n",
    "\n",
    "print(\"---\")\n",
    "print(\"훈련 셋 : \",len(Y),Counter(Y))\n",
    "print(\"테스트 셋 : \",len(Y_test),Counter(Y_test))\n",
    "print(\"---\")"
   ]
  },
  {
   "cell_type": "markdown",
   "id": "c0a99443",
   "metadata": {},
   "source": [
    "## 2. stratified k-fold"
   ]
  },
  {
   "cell_type": "code",
   "execution_count": 7,
   "id": "c38ceb20",
   "metadata": {},
   "outputs": [
    {
     "name": "stdout",
     "output_type": "stream",
     "text": [
      "교차 검증 : 1\n",
      "학습 레이블 데이터 분포 : \n",
      " {'healthy': 406, 'pathology': 866}\n",
      "검증 레이블 데이터 분포 : \n",
      " {'healthy': 101, 'pathology': 217} \n",
      "\n",
      "교차 검증 : 2\n",
      "학습 레이블 데이터 분포 : \n",
      " {'healthy': 406, 'pathology': 866}\n",
      "검증 레이블 데이터 분포 : \n",
      " {'healthy': 101, 'pathology': 217} \n",
      "\n",
      "교차 검증 : 3\n",
      "학습 레이블 데이터 분포 : \n",
      " {'healthy': 406, 'pathology': 866}\n",
      "검증 레이블 데이터 분포 : \n",
      " {'healthy': 101, 'pathology': 217} \n",
      "\n",
      "교차 검증 : 4\n",
      "학습 레이블 데이터 분포 : \n",
      " {'healthy': 405, 'pathology': 867}\n",
      "검증 레이블 데이터 분포 : \n",
      " {'healthy': 102, 'pathology': 216} \n",
      "\n",
      "교차 검증 : 5\n",
      "학습 레이블 데이터 분포 : \n",
      " {'healthy': 405, 'pathology': 867}\n",
      "검증 레이블 데이터 분포 : \n",
      " {'healthy': 102, 'pathology': 216} \n",
      "\n"
     ]
    }
   ],
   "source": [
    "#1. train, test 나누기\n",
    "#stratified kfold\n",
    "import os\n",
    "import random #데이터 shuffle 사용\n",
    "from glob import glob\n",
    "from sklearn.model_selection import StratifiedKFold\n",
    "from imblearn.over_sampling import RandomOverSampler\n",
    "from collections import Counter\n",
    "\n",
    "\n",
    "\n",
    "skf_iris = StratifiedKFold(n_splits=5,shuffle=True,random_state=456)\n",
    "cnt_iter = 0\n",
    "\n",
    "X_train_list = [] #데이터 셋 보관\n",
    "Y_train_list = []\n",
    "\n",
    "X_valid_list = []\n",
    "Y_valid_list = []\n",
    "\n",
    "for train_idx, test_idx in skf_iris.split(X,Y):\n",
    "    \n",
    "    #split으로 반환된 인덱스를 이용하여, 학습 검증용 테스트 데이터 추출\n",
    "    cnt_iter += 1\n",
    "    X_train, X_valid = [X[idx] for idx in train_idx.tolist() ], [X[idx] for idx in test_idx.tolist() ]\n",
    "    Y_train, Y_valid = [Y[idx] for idx in train_idx.tolist() ], [Y[idx] for idx in test_idx.tolist() ]\n",
    "    \n",
    "    X_train_list.append(X_train)\n",
    "    X_valid_list.append(X_valid)\n",
    "    \n",
    "    Y_train_list.append(Y_train)\n",
    "    Y_valid_list.append(Y_valid)\n",
    "    \n",
    "    \n",
    "    #학습 및 예측\n",
    "    \n",
    "    label_train = Y_train\n",
    "    label_test = Y_valid\n",
    "    unique_train, train_counts = np.unique(label_train, return_counts = True)\n",
    "    unique_test, test_counts = np.unique(label_test, return_counts = True)\n",
    "    \n",
    "    uniq_cnt_train = dict(zip(unique_train, train_counts))\n",
    "    uniq_cnt_test = dict(zip(unique_test, test_counts))\n",
    "    \n",
    "    \n",
    "    \n",
    "    print('교차 검증 : {}'.format(cnt_iter))\n",
    "    print('학습 레이블 데이터 분포 : \\n', uniq_cnt_train)\n",
    "    print('검증 레이블 데이터 분포 : \\n', uniq_cnt_test,'\\n')\n",
    "\n"
   ]
  },
  {
   "cell_type": "code",
   "execution_count": 36,
   "id": "1285b9e6",
   "metadata": {},
   "outputs": [],
   "source": [
    "import pickle\n",
    "\n",
    " \n",
    "#load\n",
    "with open(\"D:/project/voice_pathology_ai/voice_data/all_data/phrase_sig_dict.pickle\",\"rb\") as fr:\n",
    "    phrase_dict = pickle.load(fr)\n",
    "\n",
    "    "
   ]
  },
  {
   "cell_type": "markdown",
   "id": "ec5e7f09",
   "metadata": {},
   "source": [
    "# healthy spectro 출력"
   ]
  },
  {
   "cell_type": "code",
   "execution_count": 29,
   "id": "355f2903",
   "metadata": {},
   "outputs": [
    {
     "name": "stdout",
     "output_type": "stream",
     "text": [
      "0번 fold\n",
      "1번 fold\n",
      "2번 fold\n",
      "3번 fold\n",
      "4번 fold\n"
     ]
    }
   ],
   "source": [
    "\n",
    "folds_healthy=[]\n",
    "for fold in range(5):\n",
    "    print(\"{}번 fold\".format(fold))\n",
    "    folds_healthy.append([ index for index,label in enumerate(Y_train_list[fold]) if label=='healthy' ])\n",
    "    \n",
    "    "
   ]
  },
  {
   "cell_type": "code",
   "execution_count": 42,
   "id": "ccecb091",
   "metadata": {},
   "outputs": [
    {
     "name": "stdout",
     "output_type": "stream",
     "text": [
      "0번 fold\n",
      "\n",
      "1번 fold\n",
      "\n",
      "2번 fold\n",
      "\n",
      "3번 fold\n",
      "\n",
      "4번 fold\n",
      "\n"
     ]
    }
   ],
   "source": [
    "#spectro 출력\n",
    "import pickle\n",
    "\n",
    "sr=16000\n",
    "win_length =  np.int64(sr/40) # \n",
    "n_fft= win_length # WINDOWS SIZE중 사용할 길이. WINDOW SIZE가 넘어가면 나머지 것들은 zero padding\n",
    "hop_length= np.int64( np.ceil(win_length/4) ) #  얼마만큼 시간 주기(sample)를 이동하면서 분석을 할 것인지. 일반적으로 window size의 1/4\n",
    "#또는 10ms만큼으로 한다고 한다.\n",
    "\n",
    "\n",
    "for idx,fold in enumerate(folds_healthy):\n",
    "    healthy_dict=dict()\n",
    "    print(\"{}번 fold\\n\".format(idx))\n",
    "    for index in fold:\n",
    "        \n",
    "        sig=phrase_dict[X_train_list[idx][index]]\n",
    "        stft = librosa.stft(sig, win_length=win_length,n_fft=n_fft, hop_length=hop_length)\n",
    "        healthy_dict[X_train_list[idx][index]]=stft\n",
    "    ## Save pickle\n",
    "    with open(\"D:/project/voice_pathology_ai/model/varauto/spectro/alldata/fold{}/healthy/healthy-stft.pickle\".format(idx+1)\n",
    "              ,\"wb\") as fw:\n",
    "        pickle.dump(healthy_dict, fw)\n",
    "        \n",
    "    "
   ]
  }
 ],
 "metadata": {
  "kernelspec": {
   "display_name": "Python 3 (ipykernel)",
   "language": "python",
   "name": "python3"
  },
  "language_info": {
   "codemirror_mode": {
    "name": "ipython",
    "version": 3
   },
   "file_extension": ".py",
   "mimetype": "text/x-python",
   "name": "python",
   "nbconvert_exporter": "python",
   "pygments_lexer": "ipython3",
   "version": "3.8.12"
  },
  "toc": {
   "base_numbering": 1,
   "nav_menu": {},
   "number_sections": false,
   "sideBar": true,
   "skip_h1_title": false,
   "title_cell": "Table of Contents",
   "title_sidebar": "Contents",
   "toc_cell": false,
   "toc_position": {
    "height": "calc(100% - 180px)",
    "left": "10px",
    "top": "150px",
    "width": "294.042px"
   },
   "toc_section_display": true,
   "toc_window_display": true
  }
 },
 "nbformat": 4,
 "nbformat_minor": 5
}
