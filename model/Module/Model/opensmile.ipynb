{
 "cells": [
  {
   "cell_type": "code",
   "execution_count": 1,
   "metadata": {},
   "outputs": [
    {
     "name": "stderr",
     "output_type": "stream",
     "text": [
      "################################################################################\n",
      "### WARNING, path does not exist: KALDI_ROOT=/mnt/matylda5/iveselyk/Tools/kaldi-trunk\n",
      "###          (please add 'export KALDI_ROOT=<your_path>' in your $HOME/.profile)\n",
      "###          (or run as: KALDI_ROOT=<your_path> python <your_script>.py)\n",
      "################################################################################\n",
      "\n"
     ]
    }
   ],
   "source": [
    "import torch\n",
    "import pandas as pd\n",
    "import torch\n",
    "import torch.nn as nn # 인공 신경망 모델들 모아놓은 모듈\n",
    "import torch.nn.functional as F #그중 자주 쓰이는것들을 F로\n",
    "import torchvision.models as models\n",
    "import torchvision.transforms\n",
    "import torchaudio\n",
    "import torchaudio.transforms as T\n",
    "import librosa\n",
    "\n",
    "from torchvision.models import ResNet"
   ]
  },
  {
   "cell_type": "code",
   "execution_count": 2,
   "metadata": {},
   "outputs": [],
   "source": [
    "sig,_ = librosa.load(\"D:/project/voice_pathology_ai/voice_data/fusion/healthy/phrase/1-phrase.wav\",sr=16000)"
   ]
  },
  {
   "cell_type": "code",
   "execution_count": 3,
   "metadata": {},
   "outputs": [],
   "source": [
    "import opensmile\n",
    "\n",
    "smile = opensmile.Smile(\n",
    "    feature_set=opensmile.FeatureSet.ComParE_2016,\n",
    "    feature_level=opensmile.FeatureLevel.Functionals,\n",
    ")\n",
    "y = smile.process_file(\"D:/project/voice_pathology_ai/voice_data/fusion/healthy/phrase/1-phrase.wav\")"
   ]
  },
  {
   "cell_type": "code",
   "execution_count": 4,
   "metadata": {},
   "outputs": [
    {
     "data": {
      "text/plain": [
       "array([0.00062774, 0.00136639, 0.00109393, ..., 0.00089322, 0.00074682,\n",
       "       0.        ], dtype=float32)"
      ]
     },
     "execution_count": 4,
     "metadata": {},
     "output_type": "execute_result"
    }
   ],
   "source": [
    "sig"
   ]
  },
  {
   "cell_type": "code",
   "execution_count": 25,
   "metadata": {},
   "outputs": [],
   "source": [
    "handcrafted = smile.process_signal(\n",
    "                sig,\n",
    "                16000\n",
    "            )"
   ]
  },
  {
   "cell_type": "code",
   "execution_count": 29,
   "metadata": {},
   "outputs": [
    {
     "data": {
      "text/plain": [
       "torch.Size([1, 6373])"
      ]
     },
     "execution_count": 29,
     "metadata": {},
     "output_type": "execute_result"
    }
   ],
   "source": [
    "torch.from_numpy(handcrafted.to_numpy()).size()"
   ]
  },
  {
   "cell_type": "code",
   "execution_count": 11,
   "metadata": {},
   "outputs": [
    {
     "data": {
      "text/html": [
       "<div>\n",
       "<style scoped>\n",
       "    .dataframe tbody tr th:only-of-type {\n",
       "        vertical-align: middle;\n",
       "    }\n",
       "\n",
       "    .dataframe tbody tr th {\n",
       "        vertical-align: top;\n",
       "    }\n",
       "\n",
       "    .dataframe thead th {\n",
       "        text-align: right;\n",
       "    }\n",
       "</style>\n",
       "<table border=\"1\" class=\"dataframe\">\n",
       "  <thead>\n",
       "    <tr style=\"text-align: right;\">\n",
       "      <th></th>\n",
       "      <th>audspec_lengthL1norm_sma_range</th>\n",
       "      <th>audspec_lengthL1norm_sma_maxPos</th>\n",
       "      <th>audspec_lengthL1norm_sma_minPos</th>\n",
       "      <th>audspec_lengthL1norm_sma_quartile1</th>\n",
       "      <th>audspec_lengthL1norm_sma_quartile2</th>\n",
       "      <th>audspec_lengthL1norm_sma_quartile3</th>\n",
       "      <th>audspec_lengthL1norm_sma_iqr1-2</th>\n",
       "      <th>audspec_lengthL1norm_sma_iqr2-3</th>\n",
       "      <th>audspec_lengthL1norm_sma_iqr1-3</th>\n",
       "      <th>audspec_lengthL1norm_sma_percentile1.0</th>\n",
       "      <th>...</th>\n",
       "      <th>mfcc_sma_de[14]_peakRangeAbs</th>\n",
       "      <th>mfcc_sma_de[14]_peakRangeRel</th>\n",
       "      <th>mfcc_sma_de[14]_peakMeanAbs</th>\n",
       "      <th>mfcc_sma_de[14]_peakMeanMeanDist</th>\n",
       "      <th>mfcc_sma_de[14]_peakMeanRel</th>\n",
       "      <th>mfcc_sma_de[14]_minRangeRel</th>\n",
       "      <th>mfcc_sma_de[14]_meanRisingSlope</th>\n",
       "      <th>mfcc_sma_de[14]_stddevRisingSlope</th>\n",
       "      <th>mfcc_sma_de[14]_meanFallingSlope</th>\n",
       "      <th>mfcc_sma_de[14]_stddevFallingSlope</th>\n",
       "    </tr>\n",
       "  </thead>\n",
       "  <tbody>\n",
       "    <tr>\n",
       "      <th>0</th>\n",
       "      <td>2.271744</td>\n",
       "      <td>0.255102</td>\n",
       "      <td>0.0</td>\n",
       "      <td>0.399389</td>\n",
       "      <td>0.665472</td>\n",
       "      <td>1.073285</td>\n",
       "      <td>0.266083</td>\n",
       "      <td>0.407812</td>\n",
       "      <td>0.673896</td>\n",
       "      <td>0.080488</td>\n",
       "      <td>...</td>\n",
       "      <td>9.021909</td>\n",
       "      <td>0.544175</td>\n",
       "      <td>3.330909</td>\n",
       "      <td>3.4473</td>\n",
       "      <td>-15.953115</td>\n",
       "      <td>0.439667</td>\n",
       "      <td>125.111931</td>\n",
       "      <td>61.925774</td>\n",
       "      <td>105.369995</td>\n",
       "      <td>57.428726</td>\n",
       "    </tr>\n",
       "  </tbody>\n",
       "</table>\n",
       "<p>1 rows × 6373 columns</p>\n",
       "</div>"
      ],
      "text/plain": [
       "   audspec_lengthL1norm_sma_range  audspec_lengthL1norm_sma_maxPos  \\\n",
       "0                        2.271744                         0.255102   \n",
       "\n",
       "   audspec_lengthL1norm_sma_minPos  audspec_lengthL1norm_sma_quartile1  \\\n",
       "0                              0.0                            0.399389   \n",
       "\n",
       "   audspec_lengthL1norm_sma_quartile2  audspec_lengthL1norm_sma_quartile3  \\\n",
       "0                            0.665472                            1.073285   \n",
       "\n",
       "   audspec_lengthL1norm_sma_iqr1-2  audspec_lengthL1norm_sma_iqr2-3  \\\n",
       "0                         0.266083                         0.407812   \n",
       "\n",
       "   audspec_lengthL1norm_sma_iqr1-3  audspec_lengthL1norm_sma_percentile1.0  \\\n",
       "0                         0.673896                                0.080488   \n",
       "\n",
       "   ...  mfcc_sma_de[14]_peakRangeAbs  mfcc_sma_de[14]_peakRangeRel  \\\n",
       "0  ...                      9.021909                      0.544175   \n",
       "\n",
       "   mfcc_sma_de[14]_peakMeanAbs  mfcc_sma_de[14]_peakMeanMeanDist  \\\n",
       "0                     3.330909                            3.4473   \n",
       "\n",
       "   mfcc_sma_de[14]_peakMeanRel  mfcc_sma_de[14]_minRangeRel  \\\n",
       "0                   -15.953115                     0.439667   \n",
       "\n",
       "   mfcc_sma_de[14]_meanRisingSlope  mfcc_sma_de[14]_stddevRisingSlope  \\\n",
       "0                       125.111931                          61.925774   \n",
       "\n",
       "   mfcc_sma_de[14]_meanFallingSlope  mfcc_sma_de[14]_stddevFallingSlope  \n",
       "0                        105.369995                           57.428726  \n",
       "\n",
       "[1 rows x 6373 columns]"
      ]
     },
     "execution_count": 11,
     "metadata": {},
     "output_type": "execute_result"
    }
   ],
   "source": [
    "y.reset_index(drop=True)\n",
    "\n",
    "# feature scale 조절도 필요."
   ]
  },
  {
   "cell_type": "code",
   "execution_count": 20,
   "metadata": {},
   "outputs": [
    {
     "data": {
      "text/plain": [
       "array([  2.2717435 ,   0.25510204,   0.        , ...,  61.925774  ,\n",
       "       105.369995  ,  57.428726  ], dtype=float32)"
      ]
     },
     "execution_count": 20,
     "metadata": {},
     "output_type": "execute_result"
    }
   ],
   "source": [
    "y.reset_index(drop=True).to_numpy().flatten()\n",
    "\n",
    "# feature scale 조절도 필요."
   ]
  },
  {
   "cell_type": "code",
   "execution_count": 4,
   "metadata": {},
   "outputs": [
    {
     "name": "stdout",
     "output_type": "stream",
     "text": [
      "Requirement already satisfied: numpy in c:\\users\\user\\anaconda4\\envs\\local_torch\\lib\\site-packages (1.24.2)\n",
      "Note: you may need to restart the kernel to use updated packages.\n"
     ]
    },
    {
     "name": "stderr",
     "output_type": "stream",
     "text": [
      "WARNING: Ignoring invalid distribution -ystan (c:\\users\\user\\anaconda4\\envs\\local_torch\\lib\\site-packages)\n",
      "WARNING: Ignoring invalid distribution -ystan (c:\\users\\user\\anaconda4\\envs\\local_torch\\lib\\site-packages)\n",
      "WARNING: Ignoring invalid distribution -ystan (c:\\users\\user\\anaconda4\\envs\\local_torch\\lib\\site-packages)\n",
      "WARNING: Ignoring invalid distribution -ystan (c:\\users\\user\\anaconda4\\envs\\local_torch\\lib\\site-packages)\n",
      "WARNING: Ignoring invalid distribution -ystan (c:\\users\\user\\anaconda4\\envs\\local_torch\\lib\\site-packages)\n",
      "WARNING: Ignoring invalid distribution -ystan (c:\\users\\user\\anaconda4\\envs\\local_torch\\lib\\site-packages)\n"
     ]
    }
   ],
   "source": [
    "pip install --upgrade numpy --user"
   ]
  },
  {
   "cell_type": "code",
   "execution_count": 6,
   "metadata": {},
   "outputs": [
    {
     "ename": "KeyboardInterrupt",
     "evalue": "",
     "output_type": "error",
     "traceback": [
      "\u001b[1;31m---------------------------------------------------------------------------\u001b[0m",
      "\u001b[1;31mKeyboardInterrupt\u001b[0m                         Traceback (most recent call last)",
      "\u001b[1;32m~\\AppData\\Local\\Temp/ipykernel_23212/1171202504.py\u001b[0m in \u001b[0;36m<module>\u001b[1;34m\u001b[0m\n\u001b[0;32m      2\u001b[0m \u001b[0mglottal\u001b[0m\u001b[1;33m=\u001b[0m\u001b[0mGlottal\u001b[0m\u001b[1;33m(\u001b[0m\u001b[1;33m)\u001b[0m\u001b[1;33m\u001b[0m\u001b[1;33m\u001b[0m\u001b[0m\n\u001b[0;32m      3\u001b[0m \u001b[0mfile_audio\u001b[0m\u001b[1;33m=\u001b[0m\u001b[1;34m\"D:/project/voice_pathology_ai/voice_data/fusion/healthy/phrase/1-phrase.wav\"\u001b[0m\u001b[1;33m\u001b[0m\u001b[1;33m\u001b[0m\u001b[0m\n\u001b[1;32m----> 4\u001b[1;33m \u001b[0mfeatures\u001b[0m\u001b[1;33m=\u001b[0m\u001b[0mglottal\u001b[0m\u001b[1;33m.\u001b[0m\u001b[0mextract_features_file\u001b[0m\u001b[1;33m(\u001b[0m\u001b[0mfile_audio\u001b[0m\u001b[1;33m,\u001b[0m \u001b[0mstatic\u001b[0m\u001b[1;33m=\u001b[0m\u001b[1;32mTrue\u001b[0m\u001b[1;33m,\u001b[0m \u001b[0mplots\u001b[0m\u001b[1;33m=\u001b[0m\u001b[1;32mFalse\u001b[0m\u001b[1;33m,\u001b[0m \u001b[0mfmt\u001b[0m\u001b[1;33m=\u001b[0m\u001b[1;34m\"dataframe\"\u001b[0m\u001b[1;33m)\u001b[0m\u001b[1;33m\u001b[0m\u001b[1;33m\u001b[0m\u001b[0m\n\u001b[0m",
      "\u001b[1;32md:\\anaconda3\\envs\\local_torch\\lib\\site-packages\\disvoice\\glottal\\glottal.py\u001b[0m in \u001b[0;36mextract_features_file\u001b[1;34m(self, audio, static, plots, fmt, kaldi_file)\u001b[0m\n\u001b[0;32m    351\u001b[0m         \u001b[0mstopf0\u001b[0m \u001b[1;33m=\u001b[0m \u001b[0msizef0\u001b[0m\u001b[1;33m\u001b[0m\u001b[1;33m\u001b[0m\u001b[0m\n\u001b[0;32m    352\u001b[0m \u001b[1;33m\u001b[0m\u001b[0m\n\u001b[1;32m--> 353\u001b[1;33m         \u001b[0mglottal\u001b[0m\u001b[1;33m,\u001b[0m \u001b[0mg_iaif\u001b[0m\u001b[1;33m,\u001b[0m \u001b[0mGCI\u001b[0m \u001b[1;33m=\u001b[0m \u001b[0mself\u001b[0m\u001b[1;33m.\u001b[0m\u001b[0mextract_glottal_signal\u001b[0m\u001b[1;33m(\u001b[0m\u001b[0mdata_audio\u001b[0m\u001b[1;33m,\u001b[0m \u001b[0mfs\u001b[0m\u001b[1;33m)\u001b[0m\u001b[1;33m\u001b[0m\u001b[1;33m\u001b[0m\u001b[0m\n\u001b[0m\u001b[0;32m    354\u001b[0m \u001b[1;33m\u001b[0m\u001b[0m\n\u001b[0;32m    355\u001b[0m         \u001b[1;32mif\u001b[0m \u001b[0mplots\u001b[0m\u001b[1;33m:\u001b[0m\u001b[1;33m\u001b[0m\u001b[1;33m\u001b[0m\u001b[0m\n",
      "\u001b[1;32md:\\anaconda3\\envs\\local_torch\\lib\\site-packages\\disvoice\\glottal\\glottal.py\u001b[0m in \u001b[0;36mextract_glottal_signal\u001b[1;34m(self, x, fs)\u001b[0m\n\u001b[0;32m    152\u001b[0m         \u001b[0mx\u001b[0m \u001b[1;33m=\u001b[0m \u001b[0mx\u001b[0m\u001b[1;33m-\u001b[0m\u001b[0mnp\u001b[0m\u001b[1;33m.\u001b[0m\u001b[0mmean\u001b[0m\u001b[1;33m(\u001b[0m\u001b[0mx\u001b[0m\u001b[1;33m)\u001b[0m\u001b[1;33m\u001b[0m\u001b[1;33m\u001b[0m\u001b[0m\n\u001b[0;32m    153\u001b[0m         \u001b[0mx\u001b[0m \u001b[1;33m=\u001b[0m \u001b[0mx\u001b[0m\u001b[1;33m/\u001b[0m\u001b[0mfloat\u001b[0m\u001b[1;33m(\u001b[0m\u001b[0mnp\u001b[0m\u001b[1;33m.\u001b[0m\u001b[0mmax\u001b[0m\u001b[1;33m(\u001b[0m\u001b[0mnp\u001b[0m\u001b[1;33m.\u001b[0m\u001b[0mabs\u001b[0m\u001b[1;33m(\u001b[0m\u001b[0mx\u001b[0m\u001b[1;33m)\u001b[0m\u001b[1;33m)\u001b[0m\u001b[1;33m)\u001b[0m\u001b[1;33m\u001b[0m\u001b[1;33m\u001b[0m\u001b[0m\n\u001b[1;32m--> 154\u001b[1;33m         \u001b[0mGCIs\u001b[0m \u001b[1;33m=\u001b[0m \u001b[0mse_vq_varf0\u001b[0m\u001b[1;33m(\u001b[0m\u001b[0mx\u001b[0m\u001b[1;33m,\u001b[0m \u001b[0mfs\u001b[0m\u001b[1;33m)\u001b[0m\u001b[1;33m\u001b[0m\u001b[1;33m\u001b[0m\u001b[0m\n\u001b[0m\u001b[0;32m    155\u001b[0m         \u001b[0mg_iaif\u001b[0m \u001b[1;33m=\u001b[0m \u001b[0mnp\u001b[0m\u001b[1;33m.\u001b[0m\u001b[0mzeros\u001b[0m\u001b[1;33m(\u001b[0m\u001b[0mlen\u001b[0m\u001b[1;33m(\u001b[0m\u001b[0mx\u001b[0m\u001b[1;33m)\u001b[0m\u001b[1;33m)\u001b[0m\u001b[1;33m\u001b[0m\u001b[1;33m\u001b[0m\u001b[0m\n\u001b[0;32m    156\u001b[0m         \u001b[0mglottal\u001b[0m \u001b[1;33m=\u001b[0m \u001b[0mnp\u001b[0m\u001b[1;33m.\u001b[0m\u001b[0mzeros\u001b[0m\u001b[1;33m(\u001b[0m\u001b[0mlen\u001b[0m\u001b[1;33m(\u001b[0m\u001b[0mx\u001b[0m\u001b[1;33m)\u001b[0m\u001b[1;33m)\u001b[0m\u001b[1;33m\u001b[0m\u001b[1;33m\u001b[0m\u001b[0m\n",
      "\u001b[1;32mD:\\anaconda3\\envs\\local_torch\\Lib\\site-packages\\disvoice\\glottal\\GCI.py\u001b[0m in \u001b[0;36mse_vq_varf0\u001b[1;34m(x, fs, f0)\u001b[0m\n\u001b[0;32m     96\u001b[0m     \u001b[1;31m#Calculate LP-residual and extract N maxima per mean-based signal determined intervals\u001b[0m\u001b[1;33m\u001b[0m\u001b[1;33m\u001b[0m\u001b[1;33m\u001b[0m\u001b[0m\n\u001b[0;32m     97\u001b[0m     \u001b[0mres\u001b[0m \u001b[1;33m=\u001b[0m \u001b[0mGetLPCresidual\u001b[0m\u001b[1;33m(\u001b[0m\u001b[0mx\u001b[0m\u001b[1;33m,\u001b[0m\u001b[0mwinLen\u001b[0m\u001b[1;33m*\u001b[0m\u001b[0mfs\u001b[0m\u001b[1;33m/\u001b[0m\u001b[1;36m1000\u001b[0m\u001b[1;33m,\u001b[0m\u001b[0mwinShift\u001b[0m\u001b[1;33m*\u001b[0m\u001b[0mfs\u001b[0m\u001b[1;33m/\u001b[0m\u001b[1;36m1000\u001b[0m\u001b[1;33m,\u001b[0m\u001b[0mLPC_ord\u001b[0m\u001b[1;33m,\u001b[0m \u001b[0mVUV_inter\u001b[0m\u001b[1;33m)\u001b[0m \u001b[1;31m# Get LP residual\u001b[0m\u001b[1;33m\u001b[0m\u001b[1;33m\u001b[0m\u001b[0m\n\u001b[1;32m---> 98\u001b[1;33m     \u001b[0mMBS\u001b[0m \u001b[1;33m=\u001b[0m \u001b[0mget_MBS\u001b[0m\u001b[1;33m(\u001b[0m\u001b[0mx\u001b[0m\u001b[1;33m,\u001b[0m\u001b[0mfs\u001b[0m\u001b[1;33m,\u001b[0m\u001b[0mT0mean\u001b[0m\u001b[1;33m)\u001b[0m \u001b[1;31m# Extract mean based signal\u001b[0m\u001b[1;33m\u001b[0m\u001b[1;33m\u001b[0m\u001b[0m\n\u001b[0m\u001b[0;32m     99\u001b[0m     \u001b[0minterval\u001b[0m \u001b[1;33m=\u001b[0m \u001b[0mget_MBS_GCI_intervals\u001b[0m\u001b[1;33m(\u001b[0m\u001b[0mMBS\u001b[0m\u001b[1;33m,\u001b[0m\u001b[0mfs\u001b[0m\u001b[1;33m,\u001b[0m\u001b[0mT0mean\u001b[0m\u001b[1;33m,\u001b[0m\u001b[0mF0max\u001b[0m\u001b[1;33m)\u001b[0m \u001b[1;31m# Define search intervals\u001b[0m\u001b[1;33m\u001b[0m\u001b[1;33m\u001b[0m\u001b[0m\n\u001b[0;32m    100\u001b[0m     \u001b[1;33m[\u001b[0m\u001b[0mGCI_N\u001b[0m\u001b[1;33m,\u001b[0m\u001b[0mGCI_relAmp\u001b[0m\u001b[1;33m]\u001b[0m \u001b[1;33m=\u001b[0m \u001b[0msearch_res_interval_peaks\u001b[0m\u001b[1;33m(\u001b[0m\u001b[0mres\u001b[0m\u001b[1;33m,\u001b[0m\u001b[0minterval\u001b[0m\u001b[1;33m,\u001b[0m\u001b[0mNcand\u001b[0m\u001b[1;33m,\u001b[0m \u001b[0mVUV_inter\u001b[0m\u001b[1;33m)\u001b[0m \u001b[1;31m# Find residual peaks\u001b[0m\u001b[1;33m\u001b[0m\u001b[1;33m\u001b[0m\u001b[0m\n",
      "\u001b[1;32mD:\\anaconda3\\envs\\local_torch\\Lib\\site-packages\\disvoice\\glottal\\utils_gci.py\u001b[0m in \u001b[0;36mget_MBS\u001b[1;34m(x, fs, T0mean)\u001b[0m\n\u001b[0;32m    150\u001b[0m         \u001b[1;32melse\u001b[0m\u001b[1;33m:\u001b[0m\u001b[1;33m\u001b[0m\u001b[1;33m\u001b[0m\u001b[0m\n\u001b[0;32m    151\u001b[0m             \u001b[0mhalfL\u001b[0m\u001b[1;33m=\u001b[0m\u001b[0mint\u001b[0m\u001b[1;33m(\u001b[0m\u001b[1;36m1.7\u001b[0m\u001b[1;33m*\u001b[0m\u001b[0mT0mean\u001b[0m\u001b[1;33m[\u001b[0m\u001b[0mm\u001b[0m\u001b[1;33m]\u001b[0m\u001b[1;33m/\u001b[0m\u001b[1;36m2\u001b[0m\u001b[1;33m)\u001b[0m\u001b[1;33m\u001b[0m\u001b[1;33m\u001b[0m\u001b[0m\n\u001b[1;32m--> 152\u001b[1;33m         \u001b[0mBlackwin\u001b[0m\u001b[1;33m=\u001b[0m\u001b[0mblackman\u001b[0m\u001b[1;33m(\u001b[0m\u001b[1;36m2\u001b[0m\u001b[1;33m*\u001b[0m\u001b[0mhalfL\u001b[0m\u001b[1;33m)\u001b[0m\u001b[1;33m\u001b[0m\u001b[1;33m\u001b[0m\u001b[0m\n\u001b[0m\u001b[0;32m    153\u001b[0m         \u001b[0mstart\u001b[0m\u001b[1;33m=\u001b[0m\u001b[0mint\u001b[0m\u001b[1;33m(\u001b[0m\u001b[0mm\u001b[0m\u001b[1;33m-\u001b[0m\u001b[0mhalfL\u001b[0m\u001b[1;33m)\u001b[0m\u001b[1;33m\u001b[0m\u001b[1;33m\u001b[0m\u001b[0m\n\u001b[0;32m    154\u001b[0m         \u001b[0mstop\u001b[0m\u001b[1;33m=\u001b[0m\u001b[0mint\u001b[0m\u001b[1;33m(\u001b[0m\u001b[0mm\u001b[0m\u001b[1;33m+\u001b[0m\u001b[0mhalfL\u001b[0m\u001b[1;33m)\u001b[0m\u001b[1;33m\u001b[0m\u001b[1;33m\u001b[0m\u001b[0m\n",
      "\u001b[1;32md:\\anaconda3\\envs\\local_torch\\lib\\site-packages\\scipy\\signal\\__init__.py\u001b[0m in \u001b[0;36mwrapped\u001b[1;34m(*args, **kwargs)\u001b[0m\n\u001b[0;32m    356\u001b[0m \u001b[1;33m\u001b[0m\u001b[0m\n\u001b[0;32m    357\u001b[0m     \u001b[1;32mdef\u001b[0m \u001b[0mwrapped\u001b[0m\u001b[1;33m(\u001b[0m\u001b[1;33m*\u001b[0m\u001b[0margs\u001b[0m\u001b[1;33m,\u001b[0m \u001b[1;33m**\u001b[0m\u001b[0mkwargs\u001b[0m\u001b[1;33m)\u001b[0m\u001b[1;33m:\u001b[0m\u001b[1;33m\u001b[0m\u001b[1;33m\u001b[0m\u001b[0m\n\u001b[1;32m--> 358\u001b[1;33m         \u001b[1;32mreturn\u001b[0m \u001b[0mf\u001b[0m\u001b[1;33m(\u001b[0m\u001b[1;33m*\u001b[0m\u001b[0margs\u001b[0m\u001b[1;33m,\u001b[0m \u001b[1;33m**\u001b[0m\u001b[0mkwargs\u001b[0m\u001b[1;33m)\u001b[0m\u001b[1;33m\u001b[0m\u001b[1;33m\u001b[0m\u001b[0m\n\u001b[0m\u001b[0;32m    359\u001b[0m \u001b[1;33m\u001b[0m\u001b[0m\n\u001b[0;32m    360\u001b[0m     \u001b[0mwrapped\u001b[0m\u001b[1;33m.\u001b[0m\u001b[0m__name__\u001b[0m \u001b[1;33m=\u001b[0m \u001b[0mname\u001b[0m\u001b[1;33m\u001b[0m\u001b[1;33m\u001b[0m\u001b[0m\n",
      "\u001b[1;32md:\\anaconda3\\envs\\local_torch\\lib\\site-packages\\scipy\\signal\\windows\\_windows.py\u001b[0m in \u001b[0;36mblackman\u001b[1;34m(M, sym)\u001b[0m\n\u001b[0;32m    437\u001b[0m     \"\"\"\n\u001b[0;32m    438\u001b[0m     \u001b[1;31m# Docstring adapted from NumPy's blackman function\u001b[0m\u001b[1;33m\u001b[0m\u001b[1;33m\u001b[0m\u001b[1;33m\u001b[0m\u001b[0m\n\u001b[1;32m--> 439\u001b[1;33m     \u001b[1;32mreturn\u001b[0m \u001b[0mgeneral_cosine\u001b[0m\u001b[1;33m(\u001b[0m\u001b[0mM\u001b[0m\u001b[1;33m,\u001b[0m \u001b[1;33m[\u001b[0m\u001b[1;36m0.42\u001b[0m\u001b[1;33m,\u001b[0m \u001b[1;36m0.50\u001b[0m\u001b[1;33m,\u001b[0m \u001b[1;36m0.08\u001b[0m\u001b[1;33m]\u001b[0m\u001b[1;33m,\u001b[0m \u001b[0msym\u001b[0m\u001b[1;33m)\u001b[0m\u001b[1;33m\u001b[0m\u001b[1;33m\u001b[0m\u001b[0m\n\u001b[0m\u001b[0;32m    440\u001b[0m \u001b[1;33m\u001b[0m\u001b[0m\n\u001b[0;32m    441\u001b[0m \u001b[1;33m\u001b[0m\u001b[0m\n",
      "\u001b[1;32md:\\anaconda3\\envs\\local_torch\\lib\\site-packages\\scipy\\signal\\windows\\_windows.py\u001b[0m in \u001b[0;36mgeneral_cosine\u001b[1;34m(M, a, sym)\u001b[0m\n\u001b[0;32m    111\u001b[0m     \u001b[0mM\u001b[0m\u001b[1;33m,\u001b[0m \u001b[0mneeds_trunc\u001b[0m \u001b[1;33m=\u001b[0m \u001b[0m_extend\u001b[0m\u001b[1;33m(\u001b[0m\u001b[0mM\u001b[0m\u001b[1;33m,\u001b[0m \u001b[0msym\u001b[0m\u001b[1;33m)\u001b[0m\u001b[1;33m\u001b[0m\u001b[1;33m\u001b[0m\u001b[0m\n\u001b[0;32m    112\u001b[0m \u001b[1;33m\u001b[0m\u001b[0m\n\u001b[1;32m--> 113\u001b[1;33m     \u001b[0mfac\u001b[0m \u001b[1;33m=\u001b[0m \u001b[0mnp\u001b[0m\u001b[1;33m.\u001b[0m\u001b[0mlinspace\u001b[0m\u001b[1;33m(\u001b[0m\u001b[1;33m-\u001b[0m\u001b[0mnp\u001b[0m\u001b[1;33m.\u001b[0m\u001b[0mpi\u001b[0m\u001b[1;33m,\u001b[0m \u001b[0mnp\u001b[0m\u001b[1;33m.\u001b[0m\u001b[0mpi\u001b[0m\u001b[1;33m,\u001b[0m \u001b[0mM\u001b[0m\u001b[1;33m)\u001b[0m\u001b[1;33m\u001b[0m\u001b[1;33m\u001b[0m\u001b[0m\n\u001b[0m\u001b[0;32m    114\u001b[0m     \u001b[0mw\u001b[0m \u001b[1;33m=\u001b[0m \u001b[0mnp\u001b[0m\u001b[1;33m.\u001b[0m\u001b[0mzeros\u001b[0m\u001b[1;33m(\u001b[0m\u001b[0mM\u001b[0m\u001b[1;33m)\u001b[0m\u001b[1;33m\u001b[0m\u001b[1;33m\u001b[0m\u001b[0m\n\u001b[0;32m    115\u001b[0m     \u001b[1;32mfor\u001b[0m \u001b[0mk\u001b[0m \u001b[1;32min\u001b[0m \u001b[0mrange\u001b[0m\u001b[1;33m(\u001b[0m\u001b[0mlen\u001b[0m\u001b[1;33m(\u001b[0m\u001b[0ma\u001b[0m\u001b[1;33m)\u001b[0m\u001b[1;33m)\u001b[0m\u001b[1;33m:\u001b[0m\u001b[1;33m\u001b[0m\u001b[1;33m\u001b[0m\u001b[0m\n",
      "\u001b[1;32m<__array_function__ internals>\u001b[0m in \u001b[0;36mlinspace\u001b[1;34m(*args, **kwargs)\u001b[0m\n",
      "\u001b[1;32m~\\AppData\\Roaming\\Python\\Python38\\site-packages\\numpy\\core\\function_base.py\u001b[0m in \u001b[0;36mlinspace\u001b[1;34m(start, stop, num, endpoint, retstep, dtype, axis)\u001b[0m\n\u001b[0;32m    133\u001b[0m \u001b[1;33m\u001b[0m\u001b[0m\n\u001b[0;32m    134\u001b[0m     \u001b[0mdelta\u001b[0m \u001b[1;33m=\u001b[0m \u001b[0mstop\u001b[0m \u001b[1;33m-\u001b[0m \u001b[0mstart\u001b[0m\u001b[1;33m\u001b[0m\u001b[1;33m\u001b[0m\u001b[0m\n\u001b[1;32m--> 135\u001b[1;33m     \u001b[0my\u001b[0m \u001b[1;33m=\u001b[0m \u001b[0m_nx\u001b[0m\u001b[1;33m.\u001b[0m\u001b[0marange\u001b[0m\u001b[1;33m(\u001b[0m\u001b[1;36m0\u001b[0m\u001b[1;33m,\u001b[0m \u001b[0mnum\u001b[0m\u001b[1;33m,\u001b[0m \u001b[0mdtype\u001b[0m\u001b[1;33m=\u001b[0m\u001b[0mdt\u001b[0m\u001b[1;33m)\u001b[0m\u001b[1;33m.\u001b[0m\u001b[0mreshape\u001b[0m\u001b[1;33m(\u001b[0m\u001b[1;33m(\u001b[0m\u001b[1;33m-\u001b[0m\u001b[1;36m1\u001b[0m\u001b[1;33m,\u001b[0m\u001b[1;33m)\u001b[0m \u001b[1;33m+\u001b[0m \u001b[1;33m(\u001b[0m\u001b[1;36m1\u001b[0m\u001b[1;33m,\u001b[0m\u001b[1;33m)\u001b[0m \u001b[1;33m*\u001b[0m \u001b[0mndim\u001b[0m\u001b[1;33m(\u001b[0m\u001b[0mdelta\u001b[0m\u001b[1;33m)\u001b[0m\u001b[1;33m)\u001b[0m\u001b[1;33m\u001b[0m\u001b[1;33m\u001b[0m\u001b[0m\n\u001b[0m\u001b[0;32m    136\u001b[0m     \u001b[1;31m# In-place multiplication y *= delta/div is faster, but prevents the multiplicant\u001b[0m\u001b[1;33m\u001b[0m\u001b[1;33m\u001b[0m\u001b[1;33m\u001b[0m\u001b[0m\n\u001b[0;32m    137\u001b[0m     \u001b[1;31m# from overriding what class is produced, and thus prevents, e.g. use of Quantities,\u001b[0m\u001b[1;33m\u001b[0m\u001b[1;33m\u001b[0m\u001b[1;33m\u001b[0m\u001b[0m\n",
      "\u001b[1;31mKeyboardInterrupt\u001b[0m: "
     ]
    }
   ],
   "source": [
    "from disvoice.glottal import Glottal\n",
    "glottal=Glottal()\n",
    "file_audio=\"D:/project/voice_pathology_ai/voice_data/fusion/healthy/phrase/1-phrase.wav\"\n",
    "features=glottal.extract_features_file(file_audio, static=True, plots=False, fmt=\"dataframe\")\n"
   ]
  },
  {
   "cell_type": "code",
   "execution_count": 7,
   "metadata": {},
   "outputs": [
    {
     "name": "stderr",
     "output_type": "stream",
     "text": [
      "d:\\anaconda3\\envs\\local_torch\\lib\\site-packages\\scipy\\signal\\_signaltools.py:2103: VisibleDeprecationWarning: Creating an ndarray from ragged nested sequences (which is a list-or-tuple of lists-or-tuples-or ndarrays with different lengths or shapes) is deprecated. If you meant to do this, you must specify 'dtype=object' when creating the ndarray.\n",
      "  y = np.asarray(y)\n"
     ]
    }
   ],
   "source": [
    "from disvoice.glottal import Glottal\n",
    "glottal=Glottal()\n",
    "glottal_signal, g_iaif, GCIs=glottal.extract_glottal_signal(sig,16000)\n"
   ]
  },
  {
   "cell_type": "code",
   "execution_count": 8,
   "metadata": {},
   "outputs": [
    {
     "data": {
      "text/plain": [
       "array([[ 5.69489820e-03,  1.32946638e-02,  5.51129866e-03,\n",
       "         3.89621974e-01,  2.30076649e-01,  9.38875739e+00,\n",
       "         8.00691704e+00,  5.10505442e+02,  5.77792795e+03,\n",
       "         9.55749563e-03,  4.50539418e-03,  1.44934862e-03,\n",
       "         1.43950151e-01,  5.04574301e-01,  2.75224675e+00,\n",
       "         3.43906163e+00,  1.94916355e+03,  1.36810000e+04,\n",
       "         3.11290894e+00, -4.78964325e-01,  2.84734100e-01,\n",
       "         2.15765375e+00,  4.96428973e+00,  2.67111803e-01,\n",
       "         1.04812448e+00,  2.41166906e+00,  2.58540984e+00,\n",
       "         1.14897118e+01, -1.02063137e+00,  7.33569404e-02,\n",
       "         8.13378665e+00,  2.50345577e+01,  6.77606354e-01,\n",
       "         1.39952852e+00,  4.39424691e+00,  4.78374540e+00]])"
      ]
     },
     "execution_count": 8,
     "metadata": {},
     "output_type": "execute_result"
    }
   ],
   "source": [
    "glottal.extract_features_signal(sig,16000,static=True)"
   ]
  },
  {
   "cell_type": "code",
   "execution_count": null,
   "metadata": {},
   "outputs": [],
   "source": [
    "NAQ, QOQ, T1, T2, H1H2, HRF = glottal.get_vq_params(\n",
    "    gframe, dgframe, fs, gci_s)"
   ]
  },
  {
   "cell_type": "code",
   "execution_count": 45,
   "metadata": {},
   "outputs": [
    {
     "data": {
      "image/png": "[encoded data removed]",
      "text/plain": [
       "<Figure size 432x288 with 3 Axes>"
      ]
     },
     "metadata": {
      "needs_background": "light"
     },
     "output_type": "display_data"
    }
   ],
   "source": [
    "glottal.plot_glottal(sig, 16000, GCIs, g_iaif, glottal_signal)"
   ]
  },
  {
   "cell_type": "code",
   "execution_count": 40,
   "metadata": {},
   "outputs": [
    {
     "data": {
      "text/plain": [
       "[<matplotlib.lines.Line2D at 0x17cfec10be0>]"
      ]
     },
     "execution_count": 40,
     "metadata": {},
     "output_type": "execute_result"
    },
    {
     "data": {
      "image/png": "[encoded data removed]",
      "text/plain": [
       "<Figure size 432x288 with 1 Axes>"
      ]
     },
     "metadata": {
      "needs_background": "light"
     },
     "output_type": "display_data"
    }
   ],
   "source": [
    "from matplotlib import pyplot as plt\n",
    "plt.plot(glottal)"
   ]
  },
  {
   "cell_type": "code",
   "execution_count": 36,
   "metadata": {},
   "outputs": [
    {
     "data": {
      "text/plain": [
       "Index(['global avg var GCI', 'global avg avg NAQ', 'global avg std NAQ',\n",
       "       'global avg avg QOQ', 'global avg std QOQ', 'global avg avg H1H2',\n",
       "       'global avg std H1H2', 'global avg avg HRF', 'global avg std HRF',\n",
       "       'global std var GCI', 'global std avg NAQ', 'global std std NAQ',\n",
       "       'global std avg QOQ', 'global std std QOQ', 'global std avg H1H2',\n",
       "       'global std std H1H2', 'global std avg HRF', 'global std std HRF',\n",
       "       'global skewness var GCI', 'global skewness avg NAQ',\n",
       "       'global skewness std NAQ', 'global skewness avg QOQ',\n",
       "       'global skewness std QOQ', 'global skewness avg H1H2',\n",
       "       'global skewness std H1H2', 'global skewness avg HRF',\n",
       "       'global skewness std HRF', 'global kurtosis var GCI',\n",
       "       'global kurtosis avg NAQ', 'global kurtosis std NAQ',\n",
       "       'global kurtosis avg QOQ', 'global kurtosis std QOQ',\n",
       "       'global kurtosis avg H1H2', 'global kurtosis std H1H2',\n",
       "       'global kurtosis avg HRF', 'global kurtosis std HRF'],\n",
       "      dtype='object')"
      ]
     },
     "execution_count": 36,
     "metadata": {},
     "output_type": "execute_result"
    }
   ],
   "source": [
    "features.columns#현재 feature 5개 뿐."
   ]
  },
  {
   "cell_type": "code",
   "execution_count": 3,
   "metadata": {},
   "outputs": [],
   "source": [
    "pip uninstall disvoice"
   ]
  },
  {
   "cell_type": "code",
   "execution_count": 4,
   "metadata": {},
   "outputs": [
    {
     "name": "stdout",
     "output_type": "stream",
     "text": [
      "Requirement already satisfied: numpy<1.21.0 in c:\\users\\user\\anaconda4\\envs\\local_torch\\lib\\site-packages (1.20.3)\n",
      "Note: you may need to restart the kernel to use updated packages.\n"
     ]
    },
    {
     "name": "stderr",
     "output_type": "stream",
     "text": [
      "WARNING: Ignoring invalid distribution -ystan (c:\\users\\user\\anaconda4\\envs\\local_torch\\lib\\site-packages)\n",
      "WARNING: Ignoring invalid distribution -ystan (c:\\users\\user\\anaconda4\\envs\\local_torch\\lib\\site-packages)\n",
      "WARNING: Ignoring invalid distribution -ystan (c:\\users\\user\\anaconda4\\envs\\local_torch\\lib\\site-packages)\n",
      "WARNING: Ignoring invalid distribution -ystan (c:\\users\\user\\anaconda4\\envs\\local_torch\\lib\\site-packages)\n",
      "WARNING: Ignoring invalid distribution -ystan (c:\\users\\user\\anaconda4\\envs\\local_torch\\lib\\site-packages)\n",
      "WARNING: Ignoring invalid distribution -ystan (c:\\users\\user\\anaconda4\\envs\\local_torch\\lib\\site-packages)\n"
     ]
    }
   ],
   "source": [
    "pip install \"numpy<1.21.0\" --user"
   ]
  }
 ],
 "metadata": {
  "kernelspec": {
   "display_name": "local_torch",
   "language": "python",
   "name": "python3"
  },
  "language_info": {
   "codemirror_mode": {
    "name": "ipython",
    "version": 3
   },
   "file_extension": ".py",
   "mimetype": "text/x-python",
   "name": "python",
   "nbconvert_exporter": "python",
   "pygments_lexer": "ipython3",
   "version": "3.8.12"
  },
  "orig_nbformat": 4,
  "vscode": {
   "interpreter": {
    "hash": "cb9192bbf29651be1364b55280d6e01651beb2ab542678067b10db61ba862cc4"
   }
  }
 },
 "nbformat": 4,
 "nbformat_minor": 2
}
