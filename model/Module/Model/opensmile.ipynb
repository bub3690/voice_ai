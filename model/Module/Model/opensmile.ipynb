{
 "cells": [
  {
   "cell_type": "code",
   "execution_count": 1,
   "metadata": {},
   "outputs": [
    {
     "name": "stderr",
     "output_type": "stream",
     "text": [
      "################################################################################\n",
      "### WARNING, path does not exist: KALDI_ROOT=/mnt/matylda5/iveselyk/Tools/kaldi-trunk\n",
      "###          (please add 'export KALDI_ROOT=<your_path>' in your $HOME/.profile)\n",
      "###          (or run as: KALDI_ROOT=<your_path> python <your_script>.py)\n",
      "################################################################################\n",
      "\n"
     ]
    }
   ],
   "source": [
    "import torch\n",
    "import pandas as pd\n",
    "import torch\n",
    "import torch.nn as nn # 인공 신경망 모델들 모아놓은 모듈\n",
    "import torch.nn.functional as F #그중 자주 쓰이는것들을 F로\n",
    "import torchvision.models as models\n",
    "import torchvision.transforms\n",
    "import torchaudio\n",
    "import torchaudio.transforms as T\n",
    "import librosa\n",
    "\n",
    "from torchvision.models import ResNet"
   ]
  },
  {
   "cell_type": "code",
   "execution_count": 23,
   "metadata": {},
   "outputs": [],
   "source": [
    "sig,_ = librosa.load(\"D:/project/voice_pathology_ai/voice_data/fusion/healthy/phrase/1-phrase.wav\",sr=16000)"
   ]
  },
  {
   "cell_type": "code",
   "execution_count": 2,
   "metadata": {},
   "outputs": [],
   "source": [
    "import opensmile\n",
    "\n",
    "smile = opensmile.Smile(\n",
    "    feature_set=opensmile.FeatureSet.ComParE_2016,\n",
    "    feature_level=opensmile.FeatureLevel.Functionals,\n",
    ")\n",
    "y = smile.process_file(\"D:/project/voice_pathology_ai/voice_data/fusion/healthy/phrase/1-phrase.wav\")"
   ]
  },
  {
   "cell_type": "code",
   "execution_count": 24,
   "metadata": {},
   "outputs": [
    {
     "data": {
      "text/plain": [
       "array([0.00062774, 0.00136639, 0.00109393, ..., 0.00089322, 0.00074682,\n",
       "       0.        ], dtype=float32)"
      ]
     },
     "execution_count": 24,
     "metadata": {},
     "output_type": "execute_result"
    }
   ],
   "source": [
    "sig"
   ]
  },
  {
   "cell_type": "code",
   "execution_count": 25,
   "metadata": {},
   "outputs": [],
   "source": [
    "handcrafted = smile.process_signal(\n",
    "                sig,\n",
    "                16000\n",
    "            )"
   ]
  },
  {
   "cell_type": "code",
   "execution_count": 29,
   "metadata": {},
   "outputs": [
    {
     "data": {
      "text/plain": [
       "torch.Size([1, 6373])"
      ]
     },
     "execution_count": 29,
     "metadata": {},
     "output_type": "execute_result"
    }
   ],
   "source": [
    "torch.from_numpy(handcrafted.to_numpy()).size()"
   ]
  },
  {
   "cell_type": "code",
   "execution_count": 3,
   "metadata": {},
   "outputs": [
    {
     "data": {
      "text/html": [
       "<div>\n",
       "<style scoped>\n",
       "    .dataframe tbody tr th:only-of-type {\n",
       "        vertical-align: middle;\n",
       "    }\n",
       "\n",
       "    .dataframe tbody tr th {\n",
       "        vertical-align: top;\n",
       "    }\n",
       "\n",
       "    .dataframe thead th {\n",
       "        text-align: right;\n",
       "    }\n",
       "</style>\n",
       "<table border=\"1\" class=\"dataframe\">\n",
       "  <thead>\n",
       "    <tr style=\"text-align: right;\">\n",
       "      <th></th>\n",
       "      <th>audspec_lengthL1norm_sma_range</th>\n",
       "      <th>audspec_lengthL1norm_sma_maxPos</th>\n",
       "      <th>audspec_lengthL1norm_sma_minPos</th>\n",
       "      <th>audspec_lengthL1norm_sma_quartile1</th>\n",
       "      <th>audspec_lengthL1norm_sma_quartile2</th>\n",
       "      <th>audspec_lengthL1norm_sma_quartile3</th>\n",
       "      <th>audspec_lengthL1norm_sma_iqr1-2</th>\n",
       "      <th>audspec_lengthL1norm_sma_iqr2-3</th>\n",
       "      <th>audspec_lengthL1norm_sma_iqr1-3</th>\n",
       "      <th>audspec_lengthL1norm_sma_percentile1.0</th>\n",
       "      <th>...</th>\n",
       "      <th>mfcc_sma_de[14]_peakRangeAbs</th>\n",
       "      <th>mfcc_sma_de[14]_peakRangeRel</th>\n",
       "      <th>mfcc_sma_de[14]_peakMeanAbs</th>\n",
       "      <th>mfcc_sma_de[14]_peakMeanMeanDist</th>\n",
       "      <th>mfcc_sma_de[14]_peakMeanRel</th>\n",
       "      <th>mfcc_sma_de[14]_minRangeRel</th>\n",
       "      <th>mfcc_sma_de[14]_meanRisingSlope</th>\n",
       "      <th>mfcc_sma_de[14]_stddevRisingSlope</th>\n",
       "      <th>mfcc_sma_de[14]_meanFallingSlope</th>\n",
       "      <th>mfcc_sma_de[14]_stddevFallingSlope</th>\n",
       "    </tr>\n",
       "  </thead>\n",
       "  <tbody>\n",
       "    <tr>\n",
       "      <th>0</th>\n",
       "      <td>2.271744</td>\n",
       "      <td>0.255102</td>\n",
       "      <td>0.0</td>\n",
       "      <td>0.399389</td>\n",
       "      <td>0.665472</td>\n",
       "      <td>1.073285</td>\n",
       "      <td>0.266083</td>\n",
       "      <td>0.407812</td>\n",
       "      <td>0.673896</td>\n",
       "      <td>0.080488</td>\n",
       "      <td>...</td>\n",
       "      <td>9.021909</td>\n",
       "      <td>0.544175</td>\n",
       "      <td>3.330909</td>\n",
       "      <td>3.4473</td>\n",
       "      <td>-15.953115</td>\n",
       "      <td>0.439667</td>\n",
       "      <td>125.111931</td>\n",
       "      <td>61.925774</td>\n",
       "      <td>105.369995</td>\n",
       "      <td>57.428726</td>\n",
       "    </tr>\n",
       "  </tbody>\n",
       "</table>\n",
       "<p>1 rows × 6373 columns</p>\n",
       "</div>"
      ],
      "text/plain": [
       "   audspec_lengthL1norm_sma_range  audspec_lengthL1norm_sma_maxPos  \\\n",
       "0                        2.271744                         0.255102   \n",
       "\n",
       "   audspec_lengthL1norm_sma_minPos  audspec_lengthL1norm_sma_quartile1  \\\n",
       "0                              0.0                            0.399389   \n",
       "\n",
       "   audspec_lengthL1norm_sma_quartile2  audspec_lengthL1norm_sma_quartile3  \\\n",
       "0                            0.665472                            1.073285   \n",
       "\n",
       "   audspec_lengthL1norm_sma_iqr1-2  audspec_lengthL1norm_sma_iqr2-3  \\\n",
       "0                         0.266083                         0.407812   \n",
       "\n",
       "   audspec_lengthL1norm_sma_iqr1-3  audspec_lengthL1norm_sma_percentile1.0  \\\n",
       "0                         0.673896                                0.080488   \n",
       "\n",
       "   ...  mfcc_sma_de[14]_peakRangeAbs  mfcc_sma_de[14]_peakRangeRel  \\\n",
       "0  ...                      9.021909                      0.544175   \n",
       "\n",
       "   mfcc_sma_de[14]_peakMeanAbs  mfcc_sma_de[14]_peakMeanMeanDist  \\\n",
       "0                     3.330909                            3.4473   \n",
       "\n",
       "   mfcc_sma_de[14]_peakMeanRel  mfcc_sma_de[14]_minRangeRel  \\\n",
       "0                   -15.953115                     0.439667   \n",
       "\n",
       "   mfcc_sma_de[14]_meanRisingSlope  mfcc_sma_de[14]_stddevRisingSlope  \\\n",
       "0                       125.111931                          61.925774   \n",
       "\n",
       "   mfcc_sma_de[14]_meanFallingSlope  mfcc_sma_de[14]_stddevFallingSlope  \n",
       "0                        105.369995                           57.428726  \n",
       "\n",
       "[1 rows x 6373 columns]"
      ]
     },
     "execution_count": 3,
     "metadata": {},
     "output_type": "execute_result"
    }
   ],
   "source": [
    "y.reset_index(drop=True)"
   ]
  },
  {
   "cell_type": "code",
   "execution_count": 4,
   "metadata": {},
   "outputs": [
    {
     "name": "stdout",
     "output_type": "stream",
     "text": [
      "Requirement already satisfied: numpy in c:\\users\\user\\anaconda4\\envs\\local_torch\\lib\\site-packages (1.24.2)\n",
      "Note: you may need to restart the kernel to use updated packages.\n"
     ]
    },
    {
     "name": "stderr",
     "output_type": "stream",
     "text": [
      "WARNING: Ignoring invalid distribution -ystan (c:\\users\\user\\anaconda4\\envs\\local_torch\\lib\\site-packages)\n",
      "WARNING: Ignoring invalid distribution -ystan (c:\\users\\user\\anaconda4\\envs\\local_torch\\lib\\site-packages)\n",
      "WARNING: Ignoring invalid distribution -ystan (c:\\users\\user\\anaconda4\\envs\\local_torch\\lib\\site-packages)\n",
      "WARNING: Ignoring invalid distribution -ystan (c:\\users\\user\\anaconda4\\envs\\local_torch\\lib\\site-packages)\n",
      "WARNING: Ignoring invalid distribution -ystan (c:\\users\\user\\anaconda4\\envs\\local_torch\\lib\\site-packages)\n",
      "WARNING: Ignoring invalid distribution -ystan (c:\\users\\user\\anaconda4\\envs\\local_torch\\lib\\site-packages)\n"
     ]
    }
   ],
   "source": [
    "pip install --upgrade numpy --user"
   ]
  },
  {
   "cell_type": "code",
   "execution_count": 18,
   "metadata": {},
   "outputs": [],
   "source": [
    "from disvoice.glottal import Glottal\n",
    "glottal=Glottal()\n",
    "file_audio=\"D:/project/voice_pathology_ai/voice_data/fusion/healthy/phrase/1-phrase.wav\"\n",
    "features=glottal.extract_features_file(file_audio, static=False, plots=False, fmt=\"dataframe\")"
   ]
  },
  {
   "cell_type": "code",
   "execution_count": 19,
   "metadata": {},
   "outputs": [
    {
     "data": {
      "text/plain": [
       "Index(['var GCI', 'avg NAQ', 'std NAQ', 'avg QOQ', 'std QOQ', 'avg H1H2',\n",
       "       'std H1H2', 'avg HRF', 'std HRF'],\n",
       "      dtype='object')"
      ]
     },
     "execution_count": 19,
     "metadata": {},
     "output_type": "execute_result"
    }
   ],
   "source": [
    "features.columns"
   ]
  },
  {
   "cell_type": "code",
   "execution_count": 3,
   "metadata": {},
   "outputs": [],
   "source": [
    "pip uninstall disvoice"
   ]
  },
  {
   "cell_type": "code",
   "execution_count": 4,
   "metadata": {},
   "outputs": [
    {
     "name": "stdout",
     "output_type": "stream",
     "text": [
      "Requirement already satisfied: numpy<1.21.0 in c:\\users\\user\\anaconda4\\envs\\local_torch\\lib\\site-packages (1.20.3)\n",
      "Note: you may need to restart the kernel to use updated packages.\n"
     ]
    },
    {
     "name": "stderr",
     "output_type": "stream",
     "text": [
      "WARNING: Ignoring invalid distribution -ystan (c:\\users\\user\\anaconda4\\envs\\local_torch\\lib\\site-packages)\n",
      "WARNING: Ignoring invalid distribution -ystan (c:\\users\\user\\anaconda4\\envs\\local_torch\\lib\\site-packages)\n",
      "WARNING: Ignoring invalid distribution -ystan (c:\\users\\user\\anaconda4\\envs\\local_torch\\lib\\site-packages)\n",
      "WARNING: Ignoring invalid distribution -ystan (c:\\users\\user\\anaconda4\\envs\\local_torch\\lib\\site-packages)\n",
      "WARNING: Ignoring invalid distribution -ystan (c:\\users\\user\\anaconda4\\envs\\local_torch\\lib\\site-packages)\n",
      "WARNING: Ignoring invalid distribution -ystan (c:\\users\\user\\anaconda4\\envs\\local_torch\\lib\\site-packages)\n"
     ]
    }
   ],
   "source": [
    "pip install \"numpy<1.21.0\" --user"
   ]
  }
 ],
 "metadata": {
  "kernelspec": {
   "display_name": "local_torch",
   "language": "python",
   "name": "python3"
  },
  "language_info": {
   "codemirror_mode": {
    "name": "ipython",
    "version": 3
   },
   "file_extension": ".py",
   "mimetype": "text/x-python",
   "name": "python",
   "nbconvert_exporter": "python",
   "pygments_lexer": "ipython3",
   "version": "3.8.12"
  },
  "orig_nbformat": 4,
  "vscode": {
   "interpreter": {
    "hash": "cb9192bbf29651be1364b55280d6e01651beb2ab542678067b10db61ba862cc4"
   }
  }
 },
 "nbformat": 4,
 "nbformat_minor": 2
}
