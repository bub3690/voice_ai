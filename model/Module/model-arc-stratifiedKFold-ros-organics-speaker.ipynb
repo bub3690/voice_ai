{
 "cells": [
  {
   "cell_type": "markdown",
   "id": "6505136e",
   "metadata": {},
   "source": [
    "- http://keunwoochoi.blogspot.com/2016/03/2.html\n",
    "- http://www.rex-ai.info/docs/AI_Example_CNN_speech_recognize\n",
    "- https://www.youtube.com/watch?v=oltGIc4uo5c\n",
    "- https://youdaeng-com.tistory.com/5\n",
    "- https://quokkas.tistory.com/37 : early stopping\n",
    "- https://continuous-development.tistory.com/166 : stratified kfold\n",
    "- https://deep-learning-study.tistory.com/476 fiter 시각화\n",
    "- https://wyatt37.tistory.com/10 : random over sampling"
   ]
  },
  {
   "cell_type": "code",
   "execution_count": 1,
   "id": "20cf3fcc",
   "metadata": {},
   "outputs": [
    {
     "name": "stderr",
     "output_type": "stream",
     "text": [
      "Failed to detect the name of this notebook, you can set it manually with the WANDB_NOTEBOOK_NAME environment variable to enable code saving.\n",
      "\u001b[34m\u001b[1mwandb\u001b[0m: Currently logged in as: \u001b[33mbub3690\u001b[0m. Use \u001b[1m`wandb login --relogin`\u001b[0m to force relogin\n"
     ]
    },
    {
     "data": {
      "text/html": [
       "wandb version 0.13.9 is available!  To upgrade, please run:\n",
       " $ pip install wandb --upgrade"
      ],
      "text/plain": [
       "<IPython.core.display.HTML object>"
      ]
     },
     "metadata": {},
     "output_type": "display_data"
    },
    {
     "data": {
      "text/html": [
       "Tracking run with wandb version 0.12.16"
      ],
      "text/plain": [
       "<IPython.core.display.HTML object>"
      ]
     },
     "metadata": {},
     "output_type": "display_data"
    },
    {
     "data": {
      "text/html": [
       "Run data is saved locally in <code>d:\\project\\voice_pathology_ai\\model\\Module\\wandb\\run-20230203_195130-1ty8looo</code>"
      ],
      "text/plain": [
       "<IPython.core.display.HTML object>"
      ]
     },
     "metadata": {},
     "output_type": "display_data"
    },
    {
     "data": {
      "text/html": [
       "Syncing run <strong><a href=\"https://wandb.ai/bub3690/SVD-voice-disorder/runs/1ty8looo\" target=\"_blank\">beaming-fish-847</a></strong> to <a href=\"https://wandb.ai/bub3690/SVD-voice-disorder\" target=\"_blank\">Weights & Biases</a> (<a href=\"https://wandb.me/run\" target=\"_blank\">docs</a>)<br/>"
      ],
      "text/plain": [
       "<IPython.core.display.HTML object>"
      ]
     },
     "metadata": {},
     "output_type": "display_data"
    },
    {
     "name": "stderr",
     "output_type": "stream",
     "text": [
      "\u001b[34m\u001b[1mwandb\u001b[0m: \u001b[33mWARNING\u001b[0m Calling wandb.run.save without any arguments is deprecated.Changes to attributes are automatically persisted.\n"
     ]
    },
    {
     "data": {
      "text/plain": [
       "True"
      ]
     },
     "execution_count": 1,
     "metadata": {},
     "output_type": "execute_result"
    }
   ],
   "source": [
    "import wandb\n",
    "\n",
    "wandb.init(project=\"SVD-voice-disorder\", entity=\"bub3690\",settings=wandb.Settings(_disable_stats=True))\n",
    "wandb.run.name = 'arcmargin-organics-speaker'\n",
    "wandb.run.save()"
   ]
  },
  {
   "cell_type": "code",
   "execution_count": 2,
   "id": "275b8092",
   "metadata": {},
   "outputs": [
    {
     "name": "stdout",
     "output_type": "stream",
     "text": [
      "Using Pytorch version :  1.10.2  Device :  cuda\n"
     ]
    }
   ],
   "source": [
    "import torch\n",
    "import matplotlib.pyplot as plt\n",
    "import numpy as np\n",
    "import torch\n",
    "import torch.nn as nn # 인공 신경망 모델들 모아놓은 모듈\n",
    "import torch.nn.functional as F #그중 자주 쓰이는것들을 F로\n",
    "from torchvision import transforms, datasets\n",
    "import cv2\n",
    "from torchvision import transforms, datasets\n",
    "import pandas as pd\n",
    "import os\n",
    "from glob import glob\n",
    "import torchvision.models as models\n",
    "import sys\n",
    "from tqdm import tqdm\n",
    "from Utils.pytorchtools import EarlyStopping # 상위 폴더에 추가된 모듈.\n",
    "import torchaudio\n",
    "#import torchaudio.functional as F\n",
    "import torchaudio.transforms as T\n",
    "\n",
    "if torch.cuda.is_available():\n",
    "    DEVICE = torch.device('cuda')\n",
    "else:\n",
    "    DEVICE = torch.device('cpu')\n",
    "#DEVICE = torch.device('cpu')\n",
    "print('Using Pytorch version : ',torch.__version__,' Device : ',DEVICE)"
   ]
  },
  {
   "cell_type": "code",
   "execution_count": 3,
   "id": "d5046a19",
   "metadata": {},
   "outputs": [
    {
     "name": "stderr",
     "output_type": "stream",
     "text": [
      "d:\\anaconda3\\envs\\local_torch\\lib\\site-packages\\xgboost\\compat.py:36: FutureWarning: pandas.Int64Index is deprecated and will be removed from pandas in a future version. Use pandas.Index with the appropriate dtype instead.\n",
      "  from pandas import MultiIndex, Int64Index\n"
     ]
    }
   ],
   "source": [
    "# classifier\n",
    "from xgboost import XGBClassifier\n",
    "\n",
    "from sklearn.metrics import confusion_matrix, f1_score, accuracy_score"
   ]
  },
  {
   "cell_type": "markdown",
   "id": "249ebea6",
   "metadata": {},
   "source": [
    "# SVD 문장 데이터에서 Feature 추출\n",
    "- mfcc"
   ]
  },
  {
   "cell_type": "code",
   "execution_count": 4,
   "id": "dddaab10",
   "metadata": {},
   "outputs": [],
   "source": [
    "import numpy as np\n",
    "import librosa, librosa.display \n",
    "import matplotlib.pyplot as plt\n",
    "#window sizde : FFT를 할때 참조할 그래프 길이 ( 프레임 하나당 sample 수 )\n",
    "#자연어 처리에서는 25ms 사용. https://ahnjg.tistory.com/93\n",
    "#초당 50000hz 중 1250개씩 윈도우 사이즈로 사용.\n",
    "\n",
    "\n",
    "#default param\n",
    "mfcc_run_config = dict(\n",
    "    sr=16000,\n",
    "    n_mfcc=27,\n",
    "    #dct_type=3, # type2 default\n",
    "    lifter = 35,\n",
    "\n",
    "    \n",
    "    #mel spectro\n",
    "    n_mels=170,\n",
    "    hop_length=750,\n",
    "    n_fft =14056,    \n",
    "    win_length=1100,\n",
    "    f_max=8000,\n",
    "    \n",
    "    # training\n",
    "    #batch_size=32,\n",
    "    mel_scale ='htk',\n",
    "    \n",
    "    # data\n",
    "    fold=1,\n",
    ")\n",
    "\n",
    "mel_run_config = dict(\n",
    "    sr=16000,\n",
    "    n_mels=128,\n",
    "    win_length =  300,\n",
    "    n_fft= 2048,\n",
    "    hop_length= 50,\n",
    "    f_max = 8000    \n",
    ")\n",
    "\n",
    "\n",
    "spectro_run_config =dict(\n",
    "    sr=16000,\n",
    "    n_fft=350,\n",
    "    hop_length=50,\n",
    "    win_length=350,\n",
    "    # training\n",
    "    batch_size=16,\n",
    ")\n",
    "\n",
    "\n",
    "\n",
    "\n",
    "#또는 10ms만큼으로 한다고 한다.\n",
    "#hop_length가 mfcc의 frame수를 결정한다."
   ]
  },
  {
   "cell_type": "markdown",
   "id": "1a38dcdc",
   "metadata": {},
   "source": [
    "# 데이터 나누기 - Stratified KFold\n",
    "\n",
    "- pathology : 1194 / healthy : 634 / 총 1828\n",
    "- k = 5"
   ]
  },
  {
   "cell_type": "markdown",
   "id": "1a148977",
   "metadata": {},
   "source": [
    "## 1. test/ train 나누기\n"
   ]
  },
  {
   "cell_type": "code",
   "execution_count": 5,
   "id": "4c150342",
   "metadata": {},
   "outputs": [],
   "source": [
    "speaker_data=pd.read_excel(\"../../voice_data/only_organics_healthy_available_ver2.xlsx\")"
   ]
  },
  {
   "cell_type": "code",
   "execution_count": 6,
   "id": "503fc854",
   "metadata": {},
   "outputs": [
    {
     "name": "stdout",
     "output_type": "stream",
     "text": [
      "426\n",
      "630\n"
     ]
    }
   ],
   "source": [
    "pathology = speaker_data[speaker_data['PATHOLOGY']=='p']['SPEAKER'].unique().tolist()\n",
    "healthy = speaker_data[speaker_data['PATHOLOGY']=='n']['SPEAKER'].unique().tolist()\n",
    "print(len(pathology))\n",
    "print(len(healthy))"
   ]
  },
  {
   "cell_type": "code",
   "execution_count": 7,
   "id": "d99c8711",
   "metadata": {},
   "outputs": [
    {
     "data": {
      "text/plain": [
       "[74, 1524, 142]"
      ]
     },
     "execution_count": 7,
     "metadata": {},
     "output_type": "execute_result"
    }
   ],
   "source": [
    "list(set(healthy) & set(pathology))"
   ]
  },
  {
   "cell_type": "code",
   "execution_count": 8,
   "id": "c45e9ce8",
   "metadata": {},
   "outputs": [],
   "source": [
    "#겹치는 speaker는 곱하기 100을 해준다.\n",
    "#겹치는 speaker는 그대로 둔다.\n",
    "\n",
    "changed_patients = list(set(healthy) & set(pathology))\n",
    "\n",
    "for patient in changed_patients:\n",
    "    temp=pathology[pathology.index(patient)]*100\n",
    "    pathology[pathology.index(patient)] = temp\n",
    "    "
   ]
  },
  {
   "cell_type": "code",
   "execution_count": 9,
   "id": "bf1c10d7",
   "metadata": {},
   "outputs": [
    {
     "data": {
      "text/plain": [
       "152400"
      ]
     },
     "execution_count": 9,
     "metadata": {},
     "output_type": "execute_result"
    }
   ],
   "source": [
    "pathology[pathology.index(152400)]"
   ]
  },
  {
   "cell_type": "code",
   "execution_count": 10,
   "id": "c72d82e0",
   "metadata": {},
   "outputs": [
    {
     "name": "stdout",
     "output_type": "stream",
     "text": [
      "총 데이터수 :  1056\n",
      "---\n",
      "훈련 셋 :  844 Counter({'healthy': 504, 'pathology': 340})\n",
      "테스트 셋 :  212 Counter({'healthy': 126, 'pathology': 86})\n",
      "---\n"
     ]
    }
   ],
   "source": [
    "#train test 나누기\n",
    "\n",
    "import os\n",
    "from glob import glob\n",
    "from sklearn.model_selection import StratifiedKFold\n",
    "from imblearn.over_sampling import RandomOverSampler\n",
    "from collections import Counter\n",
    "from sklearn.model_selection import train_test_split # train , test 분리에 사용.\n",
    "\n",
    "\n",
    "random_state = 1004 # 1004,1005,1006,1007,1008\n",
    "\n",
    "X = pathology+healthy # path 데이터 합\n",
    "print(\"총 데이터수 : \",len(X))\n",
    "Y = [] # 라벨\n",
    "for idx,x in enumerate(X):\n",
    "    if idx<426:\n",
    "        Y.append(\"pathology\")\n",
    "    else:\n",
    "        Y.append(\"healthy\")\n",
    "\n",
    "X, X_test, Y, Y_test = train_test_split(X, Y, test_size=0.2, shuffle=True, stratify=Y, random_state=random_state) #456\n",
    "#stratify를 넣어서, test에도 라벨별 잘 분류되게 한다.\n",
    "\n",
    "print(\"---\")\n",
    "print(\"훈련 셋 : \",len(Y),Counter(Y))\n",
    "print(\"테스트 셋 : \",len(Y_test),Counter(Y_test))\n",
    "print(\"---\")\n",
    "\n"
   ]
  },
  {
   "cell_type": "markdown",
   "id": "c0a99443",
   "metadata": {},
   "source": [
    "## 2. stratified k-fold"
   ]
  },
  {
   "cell_type": "code",
   "execution_count": 11,
   "id": "c38ceb20",
   "metadata": {},
   "outputs": [
    {
     "name": "stdout",
     "output_type": "stream",
     "text": [
      "교차 검증 : 1\n",
      "학습 레이블 데이터 분포 : \n",
      " {'healthy': 403, 'pathology': 272}\n",
      "검증 레이블 데이터 분포 : \n",
      " {'healthy': 101, 'pathology': 68} \n",
      "\n",
      "교차 검증 : 2\n",
      "학습 레이블 데이터 분포 : \n",
      " {'healthy': 403, 'pathology': 272}\n",
      "검증 레이블 데이터 분포 : \n",
      " {'healthy': 101, 'pathology': 68} \n",
      "\n",
      "교차 검증 : 3\n",
      "학습 레이블 데이터 분포 : \n",
      " {'healthy': 403, 'pathology': 272}\n",
      "검증 레이블 데이터 분포 : \n",
      " {'healthy': 101, 'pathology': 68} \n",
      "\n",
      "교차 검증 : 4\n",
      "학습 레이블 데이터 분포 : \n",
      " {'healthy': 403, 'pathology': 272}\n",
      "검증 레이블 데이터 분포 : \n",
      " {'healthy': 101, 'pathology': 68} \n",
      "\n",
      "교차 검증 : 5\n",
      "학습 레이블 데이터 분포 : \n",
      " {'healthy': 404, 'pathology': 272}\n",
      "검증 레이블 데이터 분포 : \n",
      " {'healthy': 100, 'pathology': 68} \n",
      "\n"
     ]
    }
   ],
   "source": [
    "#1. train, test 나누기\n",
    "#stratified kfold\n",
    "import os\n",
    "import random #데이터 shuffle 사용\n",
    "from glob import glob\n",
    "from sklearn.model_selection import StratifiedKFold\n",
    "from imblearn.over_sampling import RandomOverSampler\n",
    "from collections import Counter\n",
    "\n",
    "\n",
    "\n",
    "skf_iris = StratifiedKFold(n_splits=5,shuffle=True,random_state=456)\n",
    "cnt_iter = 0\n",
    "\n",
    "X_train_list = [] #데이터 셋 보관\n",
    "Y_train_list = []\n",
    "\n",
    "X_valid_list = []\n",
    "Y_valid_list = []\n",
    "\n",
    "for train_idx, test_idx in skf_iris.split(X,Y):\n",
    "    \n",
    "    #split으로 반환된 인덱스를 이용하여, 학습 검증용 테스트 데이터 추출\n",
    "    cnt_iter += 1\n",
    "    X_train, X_valid = [X[idx] for idx in train_idx.tolist() ], [X[idx] for idx in test_idx.tolist() ]\n",
    "    Y_train, Y_valid = [Y[idx] for idx in train_idx.tolist() ], [Y[idx] for idx in test_idx.tolist() ]\n",
    "    \n",
    "    X_train_list.append(X_train)\n",
    "    X_valid_list.append(X_valid)\n",
    "    \n",
    "    Y_train_list.append(Y_train)\n",
    "    Y_valid_list.append(Y_valid)\n",
    "    \n",
    "    \n",
    "    #학습 및 예측\n",
    "    \n",
    "    label_train = Y_train\n",
    "    label_test = Y_valid\n",
    "    unique_train, train_counts = np.unique(label_train, return_counts = True)\n",
    "    unique_test, test_counts = np.unique(label_test, return_counts = True)\n",
    "    \n",
    "    uniq_cnt_train = dict(zip(unique_train, train_counts))\n",
    "    uniq_cnt_test = dict(zip(unique_test, test_counts))\n",
    "    \n",
    "    \n",
    "    \n",
    "    print('교차 검증 : {}'.format(cnt_iter))\n",
    "    print('학습 레이블 데이터 분포 : \\n', uniq_cnt_train)\n",
    "    print('검증 레이블 데이터 분포 : \\n', uniq_cnt_test,'\\n')\n",
    "\n"
   ]
  },
  {
   "cell_type": "markdown",
   "id": "2bbcb94b",
   "metadata": {},
   "source": [
    "# speaker to voice"
   ]
  },
  {
   "cell_type": "code",
   "execution_count": 12,
   "id": "7f725375",
   "metadata": {},
   "outputs": [
    {
     "name": "stdout",
     "output_type": "stream",
     "text": [
      "train. speaker to voice\n",
      "[932]\n",
      "[929]\n",
      "[932]\n",
      "[929]\n",
      "[932]\n",
      "[929]\n",
      "[929]\n",
      "[932]\n",
      "valid. speaker to voice\n",
      "[929]\n",
      "[932]\n",
      "test. speaker to voice\n",
      "[495]\n"
     ]
    }
   ],
   "source": [
    "# speaker to voice\n",
    "\n",
    "label_changer = dict({\"healthy\":\"n\",\"pathology\":\"p\"})\n",
    "\n",
    "\n",
    "all_train_record_list = []\n",
    "all_valid_record_list = []\n",
    "all_test_record_list = []\n",
    "\n",
    "all_train_label_list = []\n",
    "all_valid_label_list = []\n",
    "all_test_label_list = []\n",
    "\n",
    "print(\"train. speaker to voice\")\n",
    "#train\n",
    "for fold_idx,fold in enumerate(X_train_list):\n",
    "    fold_record=[]\n",
    "    fold_y_record=[]\n",
    "    for idx,speaker in enumerate(fold):\n",
    "        record_list = speaker_data[ (speaker_data['SPEAKER']==speaker) & (speaker_data['PATHOLOGY']==label_changer[Y_train_list[fold_idx][idx]])]['RECORDING'].tolist()\n",
    "        if record_list == []:\n",
    "            # speaker가 healthy, pathology 모두 있는 경우\n",
    "            #print(speaker)\n",
    "            speaker = speaker // 100\n",
    "            record_list = speaker_data[(speaker_data['SPEAKER']==speaker) & (speaker_data['PATHOLOGY']==label_changer[Y_train_list[fold_idx][idx]] ) ]['RECORDING'].tolist()\n",
    "            print(record_list)\n",
    "\n",
    "        label_list = [ Y_train_list[fold_idx][idx] ] * len(record_list)       \n",
    "        fold_record += record_list\n",
    "        fold_y_record += label_list\n",
    "    all_train_record_list.append(fold_record)\n",
    "    all_train_label_list.append(fold_y_record)\n",
    "\n",
    "print(\"valid. speaker to voice\")\n",
    "#valid\n",
    "for fold_idx,fold in enumerate(X_valid_list):\n",
    "    fold_record=[]\n",
    "    fold_y_record=[]\n",
    "    for idx,speaker in enumerate(fold):\n",
    "        record_list = speaker_data[ (speaker_data['SPEAKER']==speaker) & (speaker_data['PATHOLOGY']==label_changer[Y_valid_list[fold_idx][idx]]) ]['RECORDING'].tolist()\n",
    "        if record_list == []:\n",
    "            # speaker가 healthy, pathology 모두 있는 경우\n",
    "            #print(speaker)\n",
    "            speaker = speaker // 100\n",
    "            record_list = speaker_data[(speaker_data['SPEAKER']==speaker) & (speaker_data['PATHOLOGY']==label_changer[Y_valid_list[fold_idx][idx]] ) ]['RECORDING'].tolist()\n",
    "            print(record_list)\n",
    "        label_list = [ Y_valid_list[fold_idx][idx] ] * len(record_list)\n",
    "        \n",
    "        fold_record += record_list\n",
    "        fold_y_record += label_list\n",
    "    all_valid_record_list.append(fold_record)\n",
    "    all_valid_label_list.append(fold_y_record)\n",
    "\n",
    "print(\"test. speaker to voice\")\n",
    "#test\n",
    "fold_record=[]\n",
    "fold_y_record=[]\n",
    "for idx,speaker in enumerate(X_test):\n",
    "    record_list = speaker_data[(speaker_data['SPEAKER']==speaker) & (speaker_data['PATHOLOGY']==label_changer[Y_test[idx]] )]['RECORDING'].tolist()\n",
    "    if record_list == []:\n",
    "        # speaker가 healthy, pathology 모두 있는 경우\n",
    "        #print(speaker)\n",
    "        speaker = speaker // 100\n",
    "        record_list = speaker_data[(speaker_data['SPEAKER']==speaker) & (speaker_data['PATHOLOGY']==label_changer[Y_test[idx]] ) ]['RECORDING'].tolist()\n",
    "        print(record_list)\n",
    "    label_list = [ Y_test[idx] ] * len(record_list)\n",
    "    fold_record += record_list\n",
    "    fold_y_record += label_list\n",
    "all_test_record_list = fold_record\n",
    "all_test_label_list = fold_y_record\n",
    "\n",
    "\n",
    "X_train_list = all_train_record_list\n",
    "X_valid_list = all_valid_record_list\n",
    "X_test = all_test_record_list\n",
    "\n",
    "Y_train_list = all_train_label_list\n",
    "Y_valid_list = all_valid_label_list\n",
    "Y_test = all_test_label_list\n",
    "\n"
   ]
  },
  {
   "cell_type": "markdown",
   "id": "d0880b5c",
   "metadata": {},
   "source": [
    "## 3. random over sampling"
   ]
  },
  {
   "cell_type": "code",
   "execution_count": 13,
   "id": "9517c16f",
   "metadata": {},
   "outputs": [
    {
     "name": "stdout",
     "output_type": "stream",
     "text": [
      "\n",
      " fold0 \n",
      "before dataset shape Counter({'healthy': 406, 'pathology': 364})\n",
      "Resampled dataset shape Counter({'healthy': 406, 'pathology': 406})\n",
      "\n",
      " fold1 \n",
      "before dataset shape Counter({'healthy': 407, 'pathology': 402})\n",
      "Resampled dataset shape Counter({'healthy': 407, 'pathology': 407})\n",
      "\n",
      " fold2 \n",
      "before dataset shape Counter({'healthy': 407, 'pathology': 384})\n",
      "Resampled dataset shape Counter({'healthy': 407, 'pathology': 407})\n",
      "\n",
      " fold3 \n",
      "before dataset shape Counter({'healthy': 407, 'pathology': 396})\n",
      "Resampled dataset shape Counter({'healthy': 407, 'pathology': 407})\n",
      "\n",
      " fold4 \n",
      "before dataset shape Counter({'healthy': 405, 'pathology': 394})\n",
      "Resampled dataset shape Counter({'pathology': 405, 'healthy': 405})\n"
     ]
    }
   ],
   "source": [
    "#2. random over sampling\n",
    "for i in range(5):\n",
    "    X_temp = np.array(X_train_list[i]).reshape(-1,1)#각 데이터를 다 행으로 넣음. (1194,1)\n",
    "    #Y = np.array(Y)\n",
    "    ros = RandomOverSampler(random_state = 123)\n",
    "    X_res,Y_res = ros.fit_resample(X_temp,Y_train_list[i])\n",
    "    \n",
    "    print(\"\\n fold{} \".format(i))\n",
    "    print('before dataset shape {}'.format(Counter(Y_train_list[i])) )\n",
    "    print('Resampled dataset shape {}'.format(Counter(Y_res)) )   \n",
    "    \n",
    "    #원래대로 돌리기\n",
    "    X_res=X_res.reshape(1, -1)\n",
    "    X_train_list[i]=X_res[0].tolist()\n",
    "    Y_train_list[i]=Y_res\n",
    "\n",
    "\n"
   ]
  },
  {
   "cell_type": "code",
   "execution_count": 14,
   "id": "478af061",
   "metadata": {},
   "outputs": [],
   "source": [
    "import pickle\n",
    "\n",
    "\n",
    "    \n",
    "#load\n",
    "with open(\"../../voice_data/organics_ver2/phrase_dict_ver2.pickle\",\"rb\") as fr:\n",
    "    phrase_dict = pickle.load(fr)\n",
    "\n",
    "#with open(\"../../voice_data/organics/phrase_minmax_scaler_hyper.pickle\",\"rb\") as fr:\n",
    "#    phrase_scaler = pickle.load(fr)\n",
    "    "
   ]
  },
  {
   "cell_type": "markdown",
   "id": "08a663f0",
   "metadata": {},
   "source": [
    "# 데이터 정의\n",
    "- 추가적으로 데이터의 크기를 맞춰주기 위해 3초로 padding 및 truncate 실시 https://sequencedata.tistory.com/25 FixAudioLength\n",
    "- 논문에서는 400frame으로 설정.(여기서는 500frame)\n",
    "- 전처리 방법 결정.\n"
   ]
  },
  {
   "cell_type": "code",
   "execution_count": 15,
   "id": "d56df016",
   "metadata": {},
   "outputs": [],
   "source": [
    "# 데이터 로더"
   ]
  },
  {
   "cell_type": "code",
   "execution_count": 15,
   "id": "c8877544",
   "metadata": {},
   "outputs": [],
   "source": [
    "#default param\n",
    "mfcc_run_config = dict(\n",
    "    sr=16000,\n",
    "    n_mfcc=27,\n",
    "    #dct_type=3, # type2 default\n",
    "    lifter = 35,\n",
    "\n",
    "    \n",
    "    #mel spectro\n",
    "    n_mels=170,\n",
    "    hop_length=750,\n",
    "    n_fft =14056,    \n",
    "    win_length=1100,\n",
    "    f_max=8000,\n",
    "    \n",
    "    # training\n",
    "    #batch_size=32,\n",
    "    mel_scale ='htk',\n",
    "    \n",
    "    # data\n",
    "    fold=1,\n",
    ")\n",
    "\n",
    "mel_run_config = dict(\n",
    "    sr=16000,\n",
    "    n_mels=128,\n",
    "    win_length =  300,\n",
    "    n_fft= 2048,\n",
    "    hop_length= 50,\n",
    "    f_max = 8000    \n",
    ")\n",
    "\n",
    "\n",
    "spectro_run_config =dict(\n",
    "    sr=16000,\n",
    "    n_fft=350,\n",
    "    hop_length=50,\n",
    "    win_length=350,\n",
    "    # training\n",
    "    batch_size=16,\n",
    ")\n",
    "\n",
    "\n"
   ]
  },
  {
   "cell_type": "code",
   "execution_count": 16,
   "id": "25b606c1",
   "metadata": {},
   "outputs": [],
   "source": [
    "# online mining in batch\n",
    "\n",
    "\n",
    "\n",
    "from torch.utils.data import Dataset, DataLoader\n",
    "from audiomentations import Compose,OneOf,SpecCompose,SomeOf, AddGaussianNoise, TimeStretch, PitchShift, Shift\n",
    "\n",
    "classes = [\"healthy\",\"pathology\"]\n",
    "\n",
    "probs=0.\n",
    "\n",
    "class svd_dataset_wav_hard(Dataset):\n",
    "    def __init__(self,\n",
    "                data_path_list,\n",
    "                y_label_list,\n",
    "                classes,\n",
    "                mel_params,\n",
    "                dataset='phrase',\n",
    "                transform=None,\n",
    "                is_train=False,):\n",
    "\n",
    "        #클래스에서 사용할 인자를 받아 인스턴스 변수로 저장하는 일을 한다.\n",
    "        #예를들면, 이미지의 경로 리스트를 저장하는 일을 하게 된다.\n",
    "        \n",
    "        #data_num : k 개 데이터 셋 중 어떤것을 쓸지\n",
    "        #test인지 아닌지.\n",
    "        \n",
    "        self.path_list = data_path_list\n",
    "        self.label = y_label_list # label data\n",
    "        self.classes=classes\n",
    "        self.transform=transform\n",
    "\n",
    "        self.is_train = is_train\n",
    "\n",
    "        # sweep params\n",
    "        self.mel_params = mel_params\n",
    "\n",
    "\n",
    "        self.dataset=dataset\n",
    "\n",
    "        self.augmentation = augment = OneOf([\n",
    "                                    AddGaussianNoise(min_amplitude=0.001, max_amplitude=0.015,p=1.0),\n",
    "                                    TimeStretch(min_rate=0.8, max_rate=1.25, p=1.0),\n",
    "                                    PitchShift(min_semitones=-4, max_semitones=4, p=1.0),\n",
    "                                    Shift(min_fraction=-0.5, max_fraction=0.5, p=1.0),\n",
    "                                ],p=0.5)\n",
    "\n",
    "\n",
    "            \n",
    "    def __len__(self):\n",
    "        return len(self.path_list)\n",
    "        #데이터 셋의 길이를 정수로 반환한다.     \n",
    "    \n",
    "    def __getitem__(self, idx):\n",
    "        \"\"\"\n",
    "        WAV 파일을 읽어서, MODEL에 전달.\n",
    "        \"\"\"\n",
    "        # print(str(self.path_list[idx])+'-'+self.dataset+'.wav' )\n",
    "        anchor_sig = phrase_dict[ str(self.path_list[idx])+'-'+self.dataset+'.wav' ] \n",
    "        anchor_label = self.label[idx]\n",
    "        length = self.mel_params[\"sr\"]*3 #sample rate *2 padding을 위한 파라미터 (하이퍼 파라미터로인해 사이즈는 계속 바뀐다.)\n",
    "        pad1d = lambda a, i: a[0:i] if a.shape[0] > i else np.hstack((a, np.zeros((i-a.shape[0]))))\n",
    "\n",
    "        anchor_sig = pad1d(anchor_sig,length)\n",
    "        # if self.is_train:\n",
    "        #     anchor_sig = self.augmentation(anchor_sig,sample_rate=16000)        \n",
    "        anchor_sig=torch.from_numpy(anchor_sig).type(torch.float32)# 타입 변화\n",
    "        anchor_sig=anchor_sig.unsqueeze(0)\n",
    "\n",
    "       \n",
    "\n",
    "\n",
    "        return anchor_sig, self.classes.index(self.label[idx]), str(self.path_list[idx])\n"
   ]
  },
  {
   "cell_type": "code",
   "execution_count": null,
   "id": "0008905b",
   "metadata": {},
   "outputs": [],
   "source": [
    "def splice_data_same(x,y,path_list,origin_length,alpha=1.0):\n",
    "    \"\"\"같은 라벨에 대해서 splice 하는 경우. 아직 미구현\"\"\"\n",
    "    '''return concated data. label pairs, lambda'''\n",
    "\n",
    "    batch_size = x.size()[0]\n",
    "    index = torch.randperm(batch_size).cuda()\n",
    "\n",
    "    if alpha > 0:\n",
    "        beta = torch.distributions.Beta(torch.tensor([alpha]), torch.tensor([alpha]))\n",
    "        lam  = beta.sample( (batch_size,) ).squeeze()\n",
    "        #print(lam)\n",
    "    else:\n",
    "        lam = 1\n",
    "    #print(origin_length)\n",
    "    first_len = torch.ceil(lam * origin_length).type(torch.LongTensor)\n",
    "    second_len = torch.ceil( (1-lam) * origin_length[index]).type(torch.LongTensor)\n",
    "    \n",
    "    print(x[:,:,:first_len])\n",
    "    mixed_x = torch.concat([x[:,:,:first_len],x[index,:,:second_len]],dim=2)\n",
    "    y_a, y_b = y, y[index]\n",
    "    return mixed_x,y_a, y_b,path_list"
   ]
  },
  {
   "cell_type": "code",
   "execution_count": 21,
   "id": "aab046d1",
   "metadata": {},
   "outputs": [
    {
     "name": "stdout",
     "output_type": "stream",
     "text": [
      "[-90.5, 9.0, -15.5, -1.0]\n"
     ]
    },
    {
     "data": {
      "text/plain": [
       "array([1, 3, 2, 0])"
      ]
     },
     "execution_count": 21,
     "metadata": {},
     "output_type": "execute_result"
    }
   ],
   "source": [
    "speaker_data=pd.read_excel(\"../../voice_data/only_organics_healthy_available_ver2.xlsx\")\n",
    "\n",
    "pos_list = [1,5,7,9,11,13,15,17,19,21,23]\n",
    "\n",
    "np.random.choice(pos_list, 5,replace=False)\n",
    "\n",
    "\n",
    "def get_score(anchor,candidate,alpha,beta):\n",
    "    age_diff = np.abs(anchor['AGE'] - candidate['AGE']).item()\n",
    "    gender_diff = int(anchor['GENDER']==candidate['GENDER'])\n",
    "    normal_criterion = int((anchor['RECORDING'] == candidate['RECORDING']) | (anchor['SPEAKER'] == candidate['SPEAKER']))\n",
    "    score = alpha*age_diff + beta*gender_diff - 100*normal_criterion\n",
    "    return score\n",
    "\n",
    "\n",
    "pos_candidate = []\n",
    "\n",
    "pos_candidate.append(get_score(speaker_data.iloc[0],speaker_data.iloc[1],alpha=-0.5,beta=10))\n",
    "pos_candidate.append(get_score(speaker_data.iloc[0],speaker_data.iloc[10],alpha=-0.5,beta=10))\n",
    "pos_candidate.append(get_score(speaker_data.iloc[0],speaker_data.iloc[20],alpha=-0.5,beta=10))\n",
    "pos_candidate.append(get_score(speaker_data.iloc[0],speaker_data.iloc[30],alpha=-0.5,beta=10))\n",
    "print(pos_candidate)\n",
    "np.argsort(pos_candidate)[::-1]"
   ]
  },
  {
   "cell_type": "code",
   "execution_count": 17,
   "id": "272bc789",
   "metadata": {},
   "outputs": [],
   "source": [
    "#3. 하이퍼 파라미터\n",
    "BATCH_SIZE =  32 #한 배치당 32개 음성데이터\n",
    "EPOCHS = 50 # 전체 데이터 셋을 50번 반복\n",
    "lr=1e-4\n",
    "augment_kind=\"specaugment+mixup\"\n",
    "weight_decay = 0\n",
    "probs=probs"
   ]
  },
  {
   "cell_type": "code",
   "execution_count": 18,
   "id": "10fec835",
   "metadata": {},
   "outputs": [],
   "source": [
    "wandb.config.update({\n",
    "    \"learning_rate\": lr,\n",
    "    \"epochs\": EPOCHS,\n",
    "    \"batch_size\": BATCH_SIZE,\n",
    "    \"augment\":augment_kind,\n",
    "    \"weight_decay\":weight_decay,\n",
    "    \"margin\":1,\n",
    "    \"probs\":probs,\n",
    "    \"특이사항\":\"arcmargin loss\",\n",
    "})"
   ]
  },
  {
   "cell_type": "code",
   "execution_count": 19,
   "id": "bba97b37",
   "metadata": {},
   "outputs": [],
   "source": [
    "#DATA LOADER 함수가 BATCH_size 단위로 분리해 지정.\n",
    "\n",
    "#확인을 위해 데이터셋 하나만 확인\n",
    "dataset = 'phrase'\n",
    "\n",
    "train_loader = DataLoader(dataset = svd_dataset_wav_hard(\n",
    "                                            X_train_list[0],\n",
    "                                            Y_train_list[0],\n",
    "                                            classes,\n",
    "                                            mel_params = mel_run_config,\n",
    "                                            transform = transforms.ToTensor(),#이걸 composed로 고쳐서 전처리 하도록 수정.\n",
    "                                            is_train = True,\n",
    "                                            dataset= dataset\n",
    "                                        ),\n",
    "                                        batch_size = BATCH_SIZE,\n",
    "                                        shuffle = True,\n",
    "                                        #worker_init_fn=seed_worker\n",
    "                                        ) # 순서가 암기되는것을 막기위해.\n",
    "\n",
    "validation_loader = DataLoader(dataset = \n",
    "                                        svd_dataset_wav_hard(\n",
    "                                            X_valid_list[0],\n",
    "                                            Y_valid_list[0],\n",
    "                                            classes,\n",
    "                                            mel_params = mel_run_config,\n",
    "                                            transform = transforms.ToTensor(),#이걸 composed로 고쳐서 전처리 하도록 수정.\n",
    "                                            dataset= dataset\n",
    "                                        ),\n",
    "                                        batch_size = BATCH_SIZE,\n",
    "                                        shuffle = True,\n",
    "                                        #worker_init_fn=seed_worker\n",
    "                                        )\n"
   ]
  },
  {
   "cell_type": "code",
   "execution_count": 31,
   "id": "7f525e55",
   "metadata": {},
   "outputs": [
    {
     "data": {
      "text/plain": [
       "1106"
      ]
     },
     "execution_count": 31,
     "metadata": {},
     "output_type": "execute_result"
    }
   ],
   "source": [
    "X_train_list[0][8]"
   ]
  },
  {
   "cell_type": "code",
   "execution_count": 20,
   "id": "e9761d67",
   "metadata": {},
   "outputs": [],
   "source": [
    "# 테스트 데이터 로더.\n",
    "test_loader = DataLoader(dataset = \n",
    "                                        svd_dataset_wav_hard(\n",
    "                                            X_test,\n",
    "                                            Y_test,\n",
    "                                            classes,\n",
    "                                            mel_params = mel_run_config,\n",
    "                                            transform = transforms.ToTensor(),#이걸 composed로 고쳐서 전처리 하도록 수정.\n",
    "                                            dataset= dataset\n",
    "                                        ),\n",
    "                                        batch_size = BATCH_SIZE,\n",
    "                                        shuffle = True,\n",
    "                                        num_workers=0\n",
    "                                        #worker_init_fn=seed_worker\n",
    "                                        )\n"
   ]
  },
  {
   "cell_type": "code",
   "execution_count": 56,
   "id": "22bdb134",
   "metadata": {},
   "outputs": [],
   "source": [
    "\n",
    "sr=16000\n",
    "win_length =  mel_run_config[\"win_length\"] # 400\n",
    "n_fft= mel_run_config[\"n_fft\"] # WINDOWS SIZE중 사용할 길이. WINDOW SIZE가 넘어가면 나머지 것들은 zero padding. 세로 길이\n",
    "hop_length=mel_run_config[\"hop_length\"] #  얼마만큼 시간 주기(sample)를 이동하면서 분석을 할 것인지. 일반적으로 window size의 1/4\n",
    "#또는 10ms만큼으로 한다고 한다.\n",
    "#hop_length가 mfcc의 frame수를 결정한다.\n",
    "\n",
    "spectro_win_length =  spectro_run_config[\"win_length\"] # 400\n",
    "spectro_n_fft= spectro_run_config[\"n_fft\"] # WINDOWS SIZE중 사용할 길이. WINDOW SIZE가 넘어가면 나머지 것들은 zero padding. 세로 길이\n",
    "spectro_hop_length= spectro_run_config[\"hop_length\"] #  얼마만큼 시간 주기(sample)를 이동하면서 분석을 할 것인지. 일반적으로 window size의 1/4\n",
    "\n"
   ]
  },
  {
   "cell_type": "code",
   "execution_count": 19,
   "id": "429dfbc3",
   "metadata": {},
   "outputs": [
    {
     "name": "stdout",
     "output_type": "stream",
     "text": [
      "X_train :  torch.Size([32, 1, 48000]) type: torch.FloatTensor\n",
      "Y_train :  torch.Size([32]) type: torch.LongTensor\n",
      "tensor(0)\n",
      "tensor([[-0.0001, -0.0002,  0.0002,  ...,  0.0000,  0.0000,  0.0000]])\n"
     ]
    }
   ],
   "source": [
    "## 4. 데이터 확인하기\n",
    "for (X_train,Y_train,_) in train_loader:\n",
    "    print(\"X_train : \",X_train.size(),'type:',X_train.type())\n",
    "    print(\"Y_train : \",Y_train.size(),'type:',Y_train.type())\n",
    "    break\n",
    "\n",
    "print(Y_train[0])\n",
    "print(X_train[0])\n",
    "#batch: 32 / 3채널 / frame수: 500  /  feature수: 13"
   ]
  },
  {
   "cell_type": "code",
   "execution_count": 58,
   "id": "5e879c26",
   "metadata": {
    "scrolled": false
   },
   "outputs": [
    {
     "ename": "ValueError",
     "evalue": "not enough values to unpack (expected 5, got 3)",
     "output_type": "error",
     "traceback": [
      "\u001b[1;31m---------------------------------------------------------------------------\u001b[0m",
      "\u001b[1;31mValueError\u001b[0m                                Traceback (most recent call last)",
      "\u001b[1;32m~\\AppData\\Local\\Temp/ipykernel_8516/4142536678.py\u001b[0m in \u001b[0;36m<module>\u001b[1;34m\u001b[0m\n\u001b[0;32m      1\u001b[0m \u001b[1;31m## 4. 데이터 확인하기\u001b[0m\u001b[1;33m\u001b[0m\u001b[1;33m\u001b[0m\u001b[1;33m\u001b[0m\u001b[0m\n\u001b[1;32m----> 2\u001b[1;33m \u001b[1;32mfor\u001b[0m \u001b[1;33m(\u001b[0m\u001b[0mX_train\u001b[0m\u001b[1;33m,\u001b[0m\u001b[0mX_train_pos\u001b[0m\u001b[1;33m,\u001b[0m\u001b[0mX_train_neg\u001b[0m\u001b[1;33m,\u001b[0m\u001b[0mY_train\u001b[0m\u001b[1;33m,\u001b[0m\u001b[0m_\u001b[0m\u001b[1;33m)\u001b[0m \u001b[1;32min\u001b[0m \u001b[0mtrain_loader\u001b[0m\u001b[1;33m:\u001b[0m\u001b[1;33m\u001b[0m\u001b[1;33m\u001b[0m\u001b[0m\n\u001b[0m\u001b[0;32m      3\u001b[0m     \u001b[0mprint\u001b[0m\u001b[1;33m(\u001b[0m\u001b[1;34m\"X_train : \"\u001b[0m\u001b[1;33m,\u001b[0m\u001b[0mX_train\u001b[0m\u001b[1;33m.\u001b[0m\u001b[0msize\u001b[0m\u001b[1;33m(\u001b[0m\u001b[1;33m)\u001b[0m\u001b[1;33m,\u001b[0m\u001b[1;34m'type:'\u001b[0m\u001b[1;33m,\u001b[0m\u001b[0mX_train\u001b[0m\u001b[1;33m.\u001b[0m\u001b[0mtype\u001b[0m\u001b[1;33m(\u001b[0m\u001b[1;33m)\u001b[0m\u001b[1;33m)\u001b[0m\u001b[1;33m\u001b[0m\u001b[1;33m\u001b[0m\u001b[0m\n\u001b[0;32m      4\u001b[0m     \u001b[0mprint\u001b[0m\u001b[1;33m(\u001b[0m\u001b[1;34m\"Y_train : \"\u001b[0m\u001b[1;33m,\u001b[0m\u001b[0mY_train\u001b[0m\u001b[1;33m.\u001b[0m\u001b[0msize\u001b[0m\u001b[1;33m(\u001b[0m\u001b[1;33m)\u001b[0m\u001b[1;33m,\u001b[0m\u001b[1;34m'type:'\u001b[0m\u001b[1;33m,\u001b[0m\u001b[0mY_train\u001b[0m\u001b[1;33m.\u001b[0m\u001b[0mtype\u001b[0m\u001b[1;33m(\u001b[0m\u001b[1;33m)\u001b[0m\u001b[1;33m)\u001b[0m\u001b[1;33m\u001b[0m\u001b[1;33m\u001b[0m\u001b[0m\n\u001b[0;32m      5\u001b[0m     \u001b[1;32mbreak\u001b[0m\u001b[1;33m\u001b[0m\u001b[1;33m\u001b[0m\u001b[0m\n",
      "\u001b[1;31mValueError\u001b[0m: not enough values to unpack (expected 5, got 3)"
     ]
    }
   ],
   "source": [
    "## 4. 데이터 확인하기\n",
    "for (X_train,X_train_pos,X_train_neg,Y_train,_) in train_loader:\n",
    "    print(\"X_train : \",X_train.size(),'type:',X_train.type())\n",
    "    print(\"Y_train : \",Y_train.size(),'type:',Y_train.type())\n",
    "    break\n",
    "\n",
    "print(Y_train[0])\n",
    "print(X_train[0])\n",
    "#batch: 32 / 3채널 / frame수: 500  /  feature수: 13"
   ]
  },
  {
   "cell_type": "code",
   "execution_count": 24,
   "id": "3b29c510",
   "metadata": {},
   "outputs": [
    {
     "name": "stdout",
     "output_type": "stream",
     "text": [
      "X_valid :  torch.Size([32, 1, 48000]) type: torch.FloatTensor\n",
      "Y_valid :  torch.Size([32]) type: torch.LongTensor\n",
      "tensor([[-0.0007, -0.0015, -0.0018,  ...,  0.0000,  0.0000,  0.0000]])\n",
      "tensor(1)\n"
     ]
    }
   ],
   "source": [
    "#valiation set 확인\n",
    "for (X_valid,Y_valid,_) in validation_loader:\n",
    "    print(\"X_valid : \",X_valid.size(),'type:',X_valid.type())\n",
    "    print(\"Y_valid : \",Y_valid.size(),'type:',Y_valid.type())\n",
    "    break\n",
    "print(X_valid[0])\n",
    "print(Y_valid[0])\n",
    "\n",
    "#batch: 32 / 3채널 / frame수: 500  /  feature수: 13"
   ]
  },
  {
   "cell_type": "code",
   "execution_count": 25,
   "id": "14a38987",
   "metadata": {},
   "outputs": [
    {
     "name": "stdout",
     "output_type": "stream",
     "text": [
      "X_test :  torch.Size([32, 1, 48000]) type: torch.FloatTensor\n",
      "Y_test :  torch.Size([32]) type: torch.LongTensor\n",
      "tensor([[-2.5411e-05, -4.2532e-04, -2.7765e-04,  ...,  0.0000e+00,\n",
      "          0.0000e+00,  0.0000e+00]])\n",
      "tensor(1)\n"
     ]
    }
   ],
   "source": [
    "#test set 확인\n",
    "for (test_data,test_label,_) in test_loader:\n",
    "    print(\"X_test : \",test_data.size(),'type:',test_data.type())\n",
    "    print(\"Y_test : \",test_label.size(),'type:',test_label.type())\n",
    "    break\n",
    "\n",
    "print(test_data[0])\n",
    "print(test_label[0])\n",
    "\n",
    "#batch: 32 / 3채널 / frame수: 500  /  feature수: 13"
   ]
  },
  {
   "cell_type": "markdown",
   "id": "fec40ea4",
   "metadata": {},
   "source": [
    "# Resnet18 + triplet loss"
   ]
  },
  {
   "cell_type": "code",
   "execution_count": 21,
   "id": "daf89f54",
   "metadata": {},
   "outputs": [],
   "source": [
    "import torchaudio.transforms as T\n",
    "\n",
    "class ResLayer(nn.Module):\n",
    "    def __init__(self,emb_dim=128):\n",
    "        super(ResLayer, self).__init__()\n",
    "        self.model = models.resnet18(pretrained=True).cuda() \n",
    "        self.num_ftrs = self.model.fc.out_features\n",
    "        self.emb_dim = emb_dim\n",
    "        self.mel_scale = T.MelSpectrogram(\n",
    "            sample_rate=16000,\n",
    "            n_fft=400,\n",
    "            win_length=400,\n",
    "            hop_length=160,\n",
    "            n_mels=128,\n",
    "            f_min=0,\n",
    "            f_max=8000,\n",
    "            center=True,\n",
    "            pad_mode=\"constant\",\n",
    "            power=2.0,\n",
    "            norm=\"slaney\",\n",
    "            mel_scale=\"slaney\",\n",
    "            window_fn=torch.hann_window\n",
    "        )\n",
    "        \n",
    "        # self.fc = nn.Sequential(       \n",
    "        #     nn.Linear(self.num_ftrs, 64),\n",
    "        #                      nn.BatchNorm1d(64),\n",
    "        #                      nn.ReLU(),\n",
    "        #                      #nn.Dropout(p=0.5),\n",
    "        #                      nn.Linear(64,50),\n",
    "        #                      nn.BatchNorm1d(50),\n",
    "        #                      nn.ReLU(),\n",
    "        #                      #nn.Dropout(p=0.5),\n",
    "        #                      nn.Linear(50,self.emb_dim)\n",
    "        #                     )\n",
    "        self.fc = nn.Sequential(       \n",
    "            nn.Linear(self.num_ftrs, 50),\n",
    "                             #nn.BatchNorm1d(64),\n",
    "                             #nn.ReLU(),\n",
    "                             #nn.Dropout(p=0.5),\n",
    "                             #nn.Linear(64,50),\n",
    "                             #nn.BatchNorm1d(50),\n",
    "                             #nn.ReLU(),\n",
    "                             #nn.Dropout(p=0.5),\n",
    "                             nn.Linear(50,self.emb_dim)\n",
    "                            )\n",
    "        self.fc2 =nn.Sequential(       \n",
    "                            nn.Linear(self.emb_dim, 2),\n",
    "                            )\n",
    "        \n",
    "        #specaugment\n",
    "        self.transform = transforms.RandomApply([ transforms.Compose([T.TimeMasking(time_mask_param=12),\n",
    "                                                                                T.FrequencyMasking(freq_mask_param=30),],)\n",
    "                                                    ],\n",
    "                                                    p=0.5)\n",
    "    def forward(self, x,augmentation=False,tsne=False):\n",
    "        x = self.mel_scale(x)\n",
    "        x = torchaudio.functional.amplitude_to_DB(x,amin=1e-10,top_db=80,multiplier=10,db_multiplier=torch.log10(torch.max(x)) )\n",
    "        if augmentation==True:\n",
    "            x = self.transform(x)\n",
    "        x = x.squeeze()\n",
    "\n",
    "        x = torch.stack([x,x,x],axis=1)\n",
    "                \n",
    "        x = self.model(x)\n",
    "\n",
    "        # 여기서 mixup augmentation?\n",
    "\n",
    "        if tsne:\n",
    "            return x\n",
    "        x  = self.fc(x)\n",
    "        x_pred = self.fc2(x)\n",
    "        \n",
    "        return x, x_pred\n",
    "\n",
    "def model_initialize(emb_dim=128):\n",
    "    model = ResLayer(emb_dim).cuda()\n",
    "    return model\n",
    "\n",
    "emb_dim=128\n",
    "model=model_initialize(emb_dim)"
   ]
  },
  {
   "cell_type": "code",
   "execution_count": 24,
   "id": "965fed61",
   "metadata": {},
   "outputs": [],
   "source": [
    "\n",
    "\n",
    "class ResLayer(nn.Module):\n",
    "    def __init__(self,emb_dim=128):\n",
    "        super(ResLayer, self).__init__()\n",
    "        self.model = models.resnet18(pretrained=True).cuda() \n",
    "        self.num_ftrs = self.model.fc.out_features\n",
    "        self.emb_dim = emb_dim\n",
    "        self.mel_scale = T.MelSpectrogram(\n",
    "            sample_rate=16000,\n",
    "            n_fft=400,\n",
    "            win_length=400,\n",
    "            hop_length=160,\n",
    "            n_mels=128,\n",
    "            f_min=0,\n",
    "            f_max=8000,\n",
    "            center=True,\n",
    "            pad_mode=\"constant\",\n",
    "            power=2.0,\n",
    "            norm=\"slaney\",\n",
    "            mel_scale=\"slaney\",\n",
    "            window_fn=torch.hann_window\n",
    "        )\n",
    "        \n",
    "        \n",
    "        # self.fc = nn.Sequential(       \n",
    "        #     nn.Linear(self.num_ftrs, 64),\n",
    "        #                      nn.BatchNorm1d(64),\n",
    "        #                      nn.ReLU(),\n",
    "        #                      #nn.Dropout(p=0.5),\n",
    "        #                      nn.Linear(64,50),\n",
    "        #                      nn.BatchNorm1d(50),\n",
    "        #                      nn.ReLU(),\n",
    "        #                      #nn.Dropout(p=0.5),\n",
    "        #                      nn.Linear(50,self.emb_dim)\n",
    "        #                     )\n",
    "        self.fc = nn.Sequential(       \n",
    "            nn.Linear(self.num_ftrs, 50),\n",
    "                             #nn.BatchNorm1d(64),\n",
    "                             #nn.ReLU(),\n",
    "                             #nn.Dropout(p=0.5),\n",
    "                             #nn.Linear(64,50),\n",
    "                             #nn.BatchNorm1d(50),\n",
    "                             #nn.ReLU(),\n",
    "                             #nn.Dropout(p=0.5),\n",
    "                             nn.Linear(50,self.emb_dim)\n",
    "                            )\n",
    "        self.fc2 =nn.Sequential(       \n",
    "                            nn.Linear(self.emb_dim, 2),\n",
    "                            )\n",
    "        \n",
    "\n",
    "    def forward(self, x ,tsne=False):\n",
    "        x = self.mel_scale(x)\n",
    "        x = torchaudio.functional.amplitude_to_DB(x,amin=1e-10,top_db=80,multiplier=10,db_multiplier=torch.log10(torch.max(x)) )\n",
    "        x = x.squeeze()\n",
    "\n",
    "        x = torch.stack([x,x,x],axis=1)\n",
    "        \n",
    "        x = self.model(x)\n",
    "\n",
    "        # 여기서 augmentation?\n",
    "\n",
    "        if tsne:\n",
    "            return x\n",
    "        x  = self.fc(x)\n",
    "        x_pred = self.fc2(x)\n",
    "        \n",
    "        return x, x_pred\n",
    "\n",
    "def model_initialize(emb_dim=128):\n",
    "    model = ResLayer(emb_dim).cuda()\n",
    "    return model\n",
    "\n",
    "emb_dim=128\n",
    "model=model_initialize(emb_dim)"
   ]
  },
  {
   "cell_type": "code",
   "execution_count": null,
   "id": "f7a5a2c3",
   "metadata": {},
   "outputs": [],
   "source": [
    "from torchvision.models.resnet import BasicBlock, ResNet\n",
    "from dropblock import DropBlock2D, LinearScheduler\n",
    "\n",
    "import torchvision.models as models\n",
    "from torchvision.models.resnet import ResNet, BasicBlock\n",
    "\n",
    "class MyResNet18(ResNet):\n",
    "    def __init__(self,):\n",
    "        super(MyResNet18, self).__init__(BasicBlock, [2, 2, 2, 2])\n",
    "        \n",
    "        self.test_avg=nn.AdaptiveAvgPool2d(output_size=(1,26)) # 48000 : 26\n",
    "        self.downsampling_conv = nn.Conv2d(512,1,kernel_size=(1,1))\n",
    "\n",
    "\n",
    "    def get_atteniton(self,x):\n",
    "        x = self.test_avg(x)\n",
    "        x = self.downsampling_conv(x)\n",
    "        x = torch.softmax(x,dim=3)\n",
    "        return x # score\n",
    "        \n",
    "\n",
    "    def forward(self, x):\n",
    "        # change forward here\n",
    "        x = self.conv1(x)\n",
    "        x = self.bn1(x)\n",
    "        x = self.relu(x)\n",
    "        x = self.maxpool(x)\n",
    "\n",
    "        x = self.layer1(x)\n",
    "        x = self.layer2(x)\n",
    "        x = self.layer3(x)\n",
    "        x = self.layer4(x)\n",
    "        \n",
    "\n",
    "        #print(x.size())\n",
    "        score = self.get_atteniton(x)\n",
    "        #print(\"score : \",score.size())\n",
    "        x = x.mul(score)\n",
    "        #print('attention : ',x.size())\n",
    "        x = self.avgpool(x)\n",
    "        #print(x.size())\n",
    "        \n",
    "        x = torch.flatten(x, 1)\n",
    "        x = self.fc(x)\n",
    "        return x"
   ]
  },
  {
   "cell_type": "code",
   "execution_count": 28,
   "id": "aaaf71c5",
   "metadata": {},
   "outputs": [
    {
     "data": {
      "text/plain": [
       "torch.Size([4, 128])"
      ]
     },
     "execution_count": 28,
     "metadata": {},
     "output_type": "execute_result"
    }
   ],
   "source": [
    "res,_=model(torch.randn(4,1,32000).to(DEVICE))\n",
    "res.size()"
   ]
  },
  {
   "cell_type": "code",
   "execution_count": 23,
   "id": "3a8beeb7",
   "metadata": {},
   "outputs": [],
   "source": [
    "import math\n",
    "import torch\n",
    "from torch import nn\n",
    "from torch.nn import Parameter\n",
    "import torch.nn.functional as F\n",
    "\n",
    "class ArcMarginProduct(nn.Module):\n",
    "    def __init__(self, in_feature=128, out_feature=2, s=32.0, m=0.50, easy_margin=False):\n",
    "        super(ArcMarginProduct, self).__init__()\n",
    "        self.in_feature = in_feature\n",
    "        self.out_feature = out_feature\n",
    "        self.s = s\n",
    "        self.m = m\n",
    "        self.weight = Parameter(torch.Tensor(out_feature, in_feature))\n",
    "        nn.init.xavier_uniform_(self.weight)\n",
    "\n",
    "        self.easy_margin = easy_margin\n",
    "        self.cos_m = math.cos(m)\n",
    "        self.sin_m = math.sin(m)\n",
    "\n",
    "        # make the function cos(theta+m) monotonic decreasing while theta in [0°,180°]\n",
    "        self.th = math.cos(math.pi - m)\n",
    "        self.mm = math.sin(math.pi - m) * m\n",
    "\n",
    "    def forward(self, x, label):\n",
    "        # cos(theta)\n",
    "        cosine = F.linear(F.normalize(x), F.normalize(self.weight))\n",
    "        # cos(theta + m)\n",
    "        sine = torch.sqrt(1.0 - torch.pow(cosine, 2))\n",
    "        phi = cosine * self.cos_m - sine * self.sin_m\n",
    "\n",
    "        if self.easy_margin:\n",
    "            phi = torch.where(cosine > 0, phi, cosine)\n",
    "        else:\n",
    "            phi = torch.where((cosine - self.th) > 0, phi, cosine - self.mm)\n",
    "        \n",
    "        one_hot = torch.zeros_like(cosine)\n",
    "        one_hot.scatter_(1, label.view(-1, 1), 1)\n",
    "        output = (one_hot * phi) + ((1.0 - one_hot) * cosine)\n",
    "        output = output * self.s\n",
    "        #print(output)\n",
    "\n",
    "        return output"
   ]
  },
  {
   "cell_type": "code",
   "execution_count": 78,
   "id": "cc2e41fb",
   "metadata": {},
   "outputs": [
    {
     "data": {
      "text/plain": [
       "[0, 1]"
      ]
     },
     "execution_count": 78,
     "metadata": {},
     "output_type": "execute_result"
    }
   ],
   "source": [
    "list(set([1,]*8+[0]*8))"
   ]
  },
  {
   "cell_type": "code",
   "execution_count": 35,
   "id": "598da71f",
   "metadata": {},
   "outputs": [
    {
     "data": {
      "text/plain": [
       "(tensor(1.0518), 55)"
      ]
     },
     "execution_count": 35,
     "metadata": {},
     "output_type": "execute_result"
    }
   ],
   "source": [
    "criterion = OnlineTripleLoss(margin=1.0)\n",
    "optimizer = torch.optim.Adam(model.parameters(),lr=lr)\n",
    "criterion(torch.randn((16,128)),torch.tensor([1,]*8+[0]*8))"
   ]
  },
  {
   "cell_type": "code",
   "execution_count": 60,
   "id": "6da15020",
   "metadata": {},
   "outputs": [
    {
     "name": "stdout",
     "output_type": "stream",
     "text": [
      "ResLayer(\n",
      "  (model): ResNet(\n",
      "    (conv1): Conv2d(3, 64, kernel_size=(7, 7), stride=(2, 2), padding=(3, 3), bias=False)\n",
      "    (bn1): BatchNorm2d(64, eps=1e-05, momentum=0.1, affine=True, track_running_stats=True)\n",
      "    (relu): ReLU(inplace=True)\n",
      "    (maxpool): MaxPool2d(kernel_size=3, stride=2, padding=1, dilation=1, ceil_mode=False)\n",
      "    (layer1): Sequential(\n",
      "      (0): BasicBlock(\n",
      "        (conv1): Conv2d(64, 64, kernel_size=(3, 3), stride=(1, 1), padding=(1, 1), bias=False)\n",
      "        (bn1): BatchNorm2d(64, eps=1e-05, momentum=0.1, affine=True, track_running_stats=True)\n",
      "        (relu): ReLU(inplace=True)\n",
      "        (conv2): Conv2d(64, 64, kernel_size=(3, 3), stride=(1, 1), padding=(1, 1), bias=False)\n",
      "        (bn2): BatchNorm2d(64, eps=1e-05, momentum=0.1, affine=True, track_running_stats=True)\n",
      "      )\n",
      "      (1): BasicBlock(\n",
      "        (conv1): Conv2d(64, 64, kernel_size=(3, 3), stride=(1, 1), padding=(1, 1), bias=False)\n",
      "        (bn1): BatchNorm2d(64, eps=1e-05, momentum=0.1, affine=True, track_running_stats=True)\n",
      "        (relu): ReLU(inplace=True)\n",
      "        (conv2): Conv2d(64, 64, kernel_size=(3, 3), stride=(1, 1), padding=(1, 1), bias=False)\n",
      "        (bn2): BatchNorm2d(64, eps=1e-05, momentum=0.1, affine=True, track_running_stats=True)\n",
      "      )\n",
      "    )\n",
      "    (layer2): Sequential(\n",
      "      (0): BasicBlock(\n",
      "        (conv1): Conv2d(64, 128, kernel_size=(3, 3), stride=(2, 2), padding=(1, 1), bias=False)\n",
      "        (bn1): BatchNorm2d(128, eps=1e-05, momentum=0.1, affine=True, track_running_stats=True)\n",
      "        (relu): ReLU(inplace=True)\n",
      "        (conv2): Conv2d(128, 128, kernel_size=(3, 3), stride=(1, 1), padding=(1, 1), bias=False)\n",
      "        (bn2): BatchNorm2d(128, eps=1e-05, momentum=0.1, affine=True, track_running_stats=True)\n",
      "        (downsample): Sequential(\n",
      "          (0): Conv2d(64, 128, kernel_size=(1, 1), stride=(2, 2), bias=False)\n",
      "          (1): BatchNorm2d(128, eps=1e-05, momentum=0.1, affine=True, track_running_stats=True)\n",
      "        )\n",
      "      )\n",
      "      (1): BasicBlock(\n",
      "        (conv1): Conv2d(128, 128, kernel_size=(3, 3), stride=(1, 1), padding=(1, 1), bias=False)\n",
      "        (bn1): BatchNorm2d(128, eps=1e-05, momentum=0.1, affine=True, track_running_stats=True)\n",
      "        (relu): ReLU(inplace=True)\n",
      "        (conv2): Conv2d(128, 128, kernel_size=(3, 3), stride=(1, 1), padding=(1, 1), bias=False)\n",
      "        (bn2): BatchNorm2d(128, eps=1e-05, momentum=0.1, affine=True, track_running_stats=True)\n",
      "      )\n",
      "    )\n",
      "    (layer3): Sequential(\n",
      "      (0): BasicBlock(\n",
      "        (conv1): Conv2d(128, 256, kernel_size=(3, 3), stride=(2, 2), padding=(1, 1), bias=False)\n",
      "        (bn1): BatchNorm2d(256, eps=1e-05, momentum=0.1, affine=True, track_running_stats=True)\n",
      "        (relu): ReLU(inplace=True)\n",
      "        (conv2): Conv2d(256, 256, kernel_size=(3, 3), stride=(1, 1), padding=(1, 1), bias=False)\n",
      "        (bn2): BatchNorm2d(256, eps=1e-05, momentum=0.1, affine=True, track_running_stats=True)\n",
      "        (downsample): Sequential(\n",
      "          (0): Conv2d(128, 256, kernel_size=(1, 1), stride=(2, 2), bias=False)\n",
      "          (1): BatchNorm2d(256, eps=1e-05, momentum=0.1, affine=True, track_running_stats=True)\n",
      "        )\n",
      "      )\n",
      "      (1): BasicBlock(\n",
      "        (conv1): Conv2d(256, 256, kernel_size=(3, 3), stride=(1, 1), padding=(1, 1), bias=False)\n",
      "        (bn1): BatchNorm2d(256, eps=1e-05, momentum=0.1, affine=True, track_running_stats=True)\n",
      "        (relu): ReLU(inplace=True)\n",
      "        (conv2): Conv2d(256, 256, kernel_size=(3, 3), stride=(1, 1), padding=(1, 1), bias=False)\n",
      "        (bn2): BatchNorm2d(256, eps=1e-05, momentum=0.1, affine=True, track_running_stats=True)\n",
      "      )\n",
      "    )\n",
      "    (layer4): Sequential(\n",
      "      (0): BasicBlock(\n",
      "        (conv1): Conv2d(256, 512, kernel_size=(3, 3), stride=(2, 2), padding=(1, 1), bias=False)\n",
      "        (bn1): BatchNorm2d(512, eps=1e-05, momentum=0.1, affine=True, track_running_stats=True)\n",
      "        (relu): ReLU(inplace=True)\n",
      "        (conv2): Conv2d(512, 512, kernel_size=(3, 3), stride=(1, 1), padding=(1, 1), bias=False)\n",
      "        (bn2): BatchNorm2d(512, eps=1e-05, momentum=0.1, affine=True, track_running_stats=True)\n",
      "        (downsample): Sequential(\n",
      "          (0): Conv2d(256, 512, kernel_size=(1, 1), stride=(2, 2), bias=False)\n",
      "          (1): BatchNorm2d(512, eps=1e-05, momentum=0.1, affine=True, track_running_stats=True)\n",
      "        )\n",
      "      )\n",
      "      (1): BasicBlock(\n",
      "        (conv1): Conv2d(512, 512, kernel_size=(3, 3), stride=(1, 1), padding=(1, 1), bias=False)\n",
      "        (bn1): BatchNorm2d(512, eps=1e-05, momentum=0.1, affine=True, track_running_stats=True)\n",
      "        (relu): ReLU(inplace=True)\n",
      "        (conv2): Conv2d(512, 512, kernel_size=(3, 3), stride=(1, 1), padding=(1, 1), bias=False)\n",
      "        (bn2): BatchNorm2d(512, eps=1e-05, momentum=0.1, affine=True, track_running_stats=True)\n",
      "      )\n",
      "    )\n",
      "    (avgpool): AdaptiveAvgPool2d(output_size=(1, 1))\n",
      "    (fc): Linear(in_features=512, out_features=1000, bias=True)\n",
      "  )\n",
      "  (mel_scale): MelSpectrogram(\n",
      "    (spectrogram): Spectrogram()\n",
      "    (mel_scale): MelScale()\n",
      "  )\n",
      "  (fc): Sequential(\n",
      "    (0): Linear(in_features=1000, out_features=50, bias=True)\n",
      "    (1): Linear(in_features=50, out_features=128, bias=True)\n",
      "  )\n",
      "  (fc2): Sequential(\n",
      "    (0): Linear(in_features=128, out_features=2, bias=True)\n",
      "  )\n",
      "  (transform): RandomApply(\n",
      "      p=0.5\n",
      "      Compose(\n",
      "      TimeMasking()\n",
      "      FrequencyMasking()\n",
      "  )\n",
      "  )\n",
      ")\n"
     ]
    }
   ],
   "source": [
    "criterion = ArcMarginProduct()\n",
    "optimizer = torch.optim.Adam(model.parameters(),lr=lr)\n",
    "criterion(torch.randn((16,128)),torch.tensor([1,]*8+[0]*8))\n",
    "print(model)"
   ]
  },
  {
   "cell_type": "code",
   "execution_count": 16,
   "id": "ac3cd7cc",
   "metadata": {},
   "outputs": [
    {
     "data": {
      "text/plain": [
       "torch.Size([8, 128])"
      ]
     },
     "execution_count": 16,
     "metadata": {},
     "output_type": "execute_result"
    }
   ],
   "source": [
    "import torch\n",
    "x=torch.randn((16,128))\n",
    "y=torch.tensor([1,]*8+[0]*8)\n",
    "\n",
    "healthy=x[y==0,]\n",
    "pathology=x[y==1,]\n",
    "pathology.size()"
   ]
  },
  {
   "cell_type": "code",
   "execution_count": 26,
   "id": "a47d5700",
   "metadata": {},
   "outputs": [
    {
     "data": {
      "text/plain": [
       "tensor(22.2186)"
      ]
     },
     "execution_count": 26,
     "metadata": {},
     "output_type": "execute_result"
    }
   ],
   "source": [
    "criterion(torch.randn((16,128)),torch.randn((16,128)),torch.randn((16,128)),torch.randn((16,128)),torch.tensor([1,]*8+[0]*8))"
   ]
  },
  {
   "cell_type": "code",
   "execution_count": 24,
   "id": "9b0b2849",
   "metadata": {},
   "outputs": [
    {
     "data": {
      "text/plain": [
       "tensor(16.4946)"
      ]
     },
     "execution_count": 24,
     "metadata": {},
     "output_type": "execute_result"
    }
   ],
   "source": [
    "import torch.nn as nn # 인공 신경망 모델들 모아놓은 모듈\n",
    "import torch.nn.functional as F #그중 자주 쓰이는것들을 F로\n",
    "\n",
    "pdist = nn.PairwiseDistance(p=2)\n",
    "input1 = torch.randn(100, 128)\n",
    "input2 = torch.randn(128)\n",
    "output = pdist(input1, input2)\n",
    "output.mean()"
   ]
  },
  {
   "cell_type": "code",
   "execution_count": 24,
   "id": "4e98ce22",
   "metadata": {},
   "outputs": [],
   "source": [
    "#8. 학습\n",
    "#online mining\n",
    "def mixup_criterion(criterion, pred, y_a, y_b, lam):\n",
    "    return lam * criterion(pred, y_a) + (1 - lam) * criterion(pred, y_b)\n",
    "\n",
    "def mixup_data(x, y, alpha=1.0  ):\n",
    "    '''Returns mixed inputs, pairs of targets, and lambda'''\n",
    "    \n",
    "    batch_size = x.size()[0]\n",
    "    if alpha > 0:\n",
    "        lam = np.random.beta(alpha, alpha)\n",
    "    else:\n",
    "        lam = 1    \n",
    "    # if alpha > 0:\n",
    "    #     beta = torch.distributions.Beta(torch.tensor(alpha), torch.tensor(alpha))\n",
    "    #     lam = beta.sample((batch_size,) ).squeeze()\n",
    "    # else:\n",
    "    #     lam = 1\n",
    "\n",
    "    \n",
    "    index = torch.randperm(batch_size).cuda()\n",
    "    mixed_x = lam * x + (1 - lam) * x[index, :]\n",
    "    y = torch.tensor(y,dtype=torch.int64)\n",
    "    y_a, y_b = y, y[index]\n",
    "    return mixed_x, y_a, y_b, lam\n",
    "\n",
    "\n",
    "def train(model,train_loader,optimizer,criterion,criterion2,log_interval):\n",
    "    model.train()\n",
    "    correct = 0\n",
    "    train_loss = 0\n",
    "\n",
    "    for batch_idx,(x_anchor,label,data_path) in enumerate(train_loader):\n",
    "        x_anchor = x_anchor.to(DEVICE)\n",
    "        label = label.to(DEVICE)\n",
    "        \n",
    "        #데이터들 장비에 할당\n",
    "        optimizer.zero_grad() # device 에 저장된 gradient 제거\n",
    "        anchor_out,anchor_pred = model(x_anchor,augmentation=True)\n",
    "        #loss,triplet_nums = criterion(anchor_out,label)\n",
    "        output = criterion(anchor_out,label)\n",
    "        #mixup\n",
    "        mixed_x, y_a, y_b, lam = mixup_data(x=output, y=label)\n",
    "        #loss = criterion2(output,label)\n",
    "        loss = mixup_criterion(criterion2, output, y_a, y_b, lam)\n",
    "\n",
    "        \n",
    "        \n",
    "        #loss = criterion(anchor_out, positive_out, negative_out,anchor_pred,label)\n",
    "        loss.backward()\n",
    "        optimizer.step()\n",
    "        train_loss += loss.item()\n",
    "    train_loss/=len(train_loader.dataset)\n",
    "    return train_loss\n"
   ]
  },
  {
   "cell_type": "code",
   "execution_count": null,
   "id": "c9932efd",
   "metadata": {},
   "outputs": [],
   "source": [
    "def train(model,train_loader,optimizer,criterion,criterion2,log_interval):\n",
    "    model.train()\n",
    "    correct = 0\n",
    "    train_loss = 0\n",
    "\n",
    "    for batch_idx,(x_anchor,label,data_path) in enumerate(train_loader):\n",
    "        x_anchor = x_anchor.to(DEVICE)\n",
    "        label = label.to(DEVICE)\n",
    "        \n",
    "        #데이터들 장비에 할당\n",
    "        optimizer.zero_grad() # device 에 저장된 gradient 제거\n",
    "        anchor_out,anchor_pred = model(x_anchor,augmentation=True)\n",
    "        \n",
    "        output = criterion(anchor_out,label)\n",
    "        loss = criterion2(output,label)\n",
    "        #loss = mixup_criterion(criterion2, output, y_a, y_b, lam)\n",
    "        \n",
    "        \n",
    "        #loss = criterion(anchor_out, positive_out, negative_out,anchor_pred,label)\n",
    "        loss.backward()\n",
    "        optimizer.step()\n",
    "        train_loss += loss.item()\n",
    "    train_loss/=len(train_loader.dataset)\n",
    "    return train_loss\n"
   ]
  },
  {
   "cell_type": "code",
   "execution_count": 25,
   "id": "b09341bf",
   "metadata": {},
   "outputs": [],
   "source": [
    "#9. 학습 진행하며, validation 데이터로 모델 성능확인\n",
    "def evaluate(model,valid_loader,criterion):\n",
    "    model.eval()\n",
    "    valid_loss = 0\n",
    "    correct = 0\n",
    "    #no_grad : 그래디언트 값 계산 막기.\n",
    "    with torch.no_grad():\n",
    "        for image,label,_ in valid_loader:\n",
    "            image = image.to(DEVICE)\n",
    "            label = label.to(DEVICE)\n",
    "            output = model(image)\n",
    "            valid_loss += criterion(output, label).item()\n",
    "            prediction = output.max(1,keepdim=True)[1] # 가장 확률이 높은 class 1개를 가져온다.그리고 인덱스만\n",
    "            correct += prediction.eq(label.view_as(prediction)).sum().item()# 아웃풋이 배치 사이즈 32개라서.\n",
    "            #true.false값을 sum해줌. item\n",
    "        valid_loss /= len(valid_loader.dataset)\n",
    "        valid_accuracy = 100. * correct / len(valid_loader.dataset)\n",
    "        return valid_loss,valid_accuracy\n"
   ]
  },
  {
   "cell_type": "code",
   "execution_count": 26,
   "id": "fa7fc2ea",
   "metadata": {},
   "outputs": [],
   "source": [
    "#데이터 로더 제작 함수\n",
    "\n",
    "def seed_worker(worker_id):\n",
    "    worker_seed = torch.initial_seed() % 2**32\n",
    "    np.random.seed(worker_seed)\n",
    "    random.seed(worker_seed)\n",
    "\n",
    "\n",
    "def load_data(data_ind,is_train=True):\n",
    "\n",
    "    #DATA LOADER 함수가 BATCH_size 단위로 분리해 지정.\n",
    "\n",
    "    #확인을 위해 데이터셋 하나만 확인\n",
    "    dataset = 'phrase'\n",
    "\n",
    "    train_loader = DataLoader(dataset = svd_dataset_wav_hard(\n",
    "                                                X_train_list[data_ind],\n",
    "                                                Y_train_list[data_ind],\n",
    "                                                classes,\n",
    "                                                mel_params = mel_run_config,\n",
    "                                                transform = transforms.ToTensor(),#이걸 composed로 고쳐서 전처리 하도록 수정.\n",
    "                                                is_train = is_train,\n",
    "                                                dataset= dataset\n",
    "                                            ),\n",
    "                                            batch_size = BATCH_SIZE,\n",
    "                                            shuffle = True,\n",
    "                                            #worker_init_fn=seed_worker\n",
    "                                            ) # 순서가 암기되는것을 막기위해.\n",
    "\n",
    "    validation_loader = DataLoader(dataset = \n",
    "                                            svd_dataset_wav_hard(\n",
    "                                                X_valid_list[data_ind],\n",
    "                                                Y_valid_list[data_ind],\n",
    "                                                classes,\n",
    "                                                mel_params = mel_run_config,\n",
    "                                                transform = transforms.ToTensor(),#이걸 composed로 고쳐서 전처리 하도록 수정.\n",
    "                                                dataset= dataset\n",
    "                                            ),\n",
    "                                            batch_size = BATCH_SIZE,\n",
    "                                            shuffle = True,\n",
    "                                            #worker_init_fn=seed_worker\n",
    "                                            )\n",
    "    return train_loader,validation_loader\n",
    "\n"
   ]
  },
  {
   "attachments": {},
   "cell_type": "markdown",
   "id": "eaa1434c",
   "metadata": {},
   "source": [
    "# 학습"
   ]
  },
  {
   "cell_type": "code",
   "execution_count": 27,
   "id": "a3801981",
   "metadata": {},
   "outputs": [
    {
     "name": "stdout",
     "output_type": "stream",
     "text": [
      "./checkpoint/checkpoint_triplet_ros_1_organics_speaker.pt\n",
      "[1 교차검증] 학습 시작\n",
      " ----- \n"
     ]
    },
    {
     "name": "stderr",
     "output_type": "stream",
     "text": [
      "C:\\Users\\USER\\AppData\\Local\\Temp/ipykernel_18804/1192674566.py:23: UserWarning: To copy construct from a tensor, it is recommended to use sourceTensor.clone().detach() or sourceTensor.clone().detach().requires_grad_(True), rather than torch.tensor(sourceTensor).\n",
      "  y = torch.tensor(y,dtype=torch.int64)\n"
     ]
    },
    {
     "name": "stdout",
     "output_type": "stream",
     "text": [
      "\n",
      "[EPOCH:1]\t Train Loss:0.1979\n",
      "\n",
      "[EPOCH:1]\t Classifier Train Accuracy:1.0000\n",
      "Classifier Valid Accuracy:0.8296\n",
      "Classifier Test Accuracy:0.8101\n",
      "----\n"
     ]
    },
    {
     "name": "stderr",
     "output_type": "stream",
     "text": [
      "C:\\Users\\USER\\AppData\\Local\\Temp/ipykernel_18804/1192674566.py:23: UserWarning: To copy construct from a tensor, it is recommended to use sourceTensor.clone().detach() or sourceTensor.clone().detach().requires_grad_(True), rather than torch.tensor(sourceTensor).\n",
      "  y = torch.tensor(y,dtype=torch.int64)\n"
     ]
    },
    {
     "name": "stdout",
     "output_type": "stream",
     "text": [
      "\n",
      "[EPOCH:2]\t Train Loss:0.1108\n",
      "\n",
      "[EPOCH:2]\t Classifier Train Accuracy:1.0000\n",
      "Classifier Valid Accuracy:0.8430\n",
      "Classifier Test Accuracy:0.7932\n",
      "----\n"
     ]
    },
    {
     "name": "stderr",
     "output_type": "stream",
     "text": [
      "C:\\Users\\USER\\AppData\\Local\\Temp/ipykernel_18804/1192674566.py:23: UserWarning: To copy construct from a tensor, it is recommended to use sourceTensor.clone().detach() or sourceTensor.clone().detach().requires_grad_(True), rather than torch.tensor(sourceTensor).\n",
      "  y = torch.tensor(y,dtype=torch.int64)\n"
     ]
    },
    {
     "name": "stdout",
     "output_type": "stream",
     "text": [
      "\n",
      "[EPOCH:3]\t Train Loss:0.0893\n",
      "\n",
      "[EPOCH:3]\t Classifier Train Accuracy:1.0000\n",
      "Classifier Valid Accuracy:0.8072\n",
      "Classifier Test Accuracy:0.8270\n",
      "----\n"
     ]
    },
    {
     "name": "stderr",
     "output_type": "stream",
     "text": [
      "C:\\Users\\USER\\AppData\\Local\\Temp/ipykernel_18804/1192674566.py:23: UserWarning: To copy construct from a tensor, it is recommended to use sourceTensor.clone().detach() or sourceTensor.clone().detach().requires_grad_(True), rather than torch.tensor(sourceTensor).\n",
      "  y = torch.tensor(y,dtype=torch.int64)\n"
     ]
    },
    {
     "name": "stdout",
     "output_type": "stream",
     "text": [
      "\n",
      "[EPOCH:4]\t Train Loss:0.0829\n",
      "\n",
      "[EPOCH:4]\t Classifier Train Accuracy:1.0000\n",
      "Classifier Valid Accuracy:0.8610\n",
      "Classifier Test Accuracy:0.7975\n",
      "----\n"
     ]
    },
    {
     "name": "stderr",
     "output_type": "stream",
     "text": [
      "C:\\Users\\USER\\AppData\\Local\\Temp/ipykernel_18804/1192674566.py:23: UserWarning: To copy construct from a tensor, it is recommended to use sourceTensor.clone().detach() or sourceTensor.clone().detach().requires_grad_(True), rather than torch.tensor(sourceTensor).\n",
      "  y = torch.tensor(y,dtype=torch.int64)\n"
     ]
    },
    {
     "name": "stdout",
     "output_type": "stream",
     "text": [
      "\n",
      "[EPOCH:5]\t Train Loss:0.0488\n",
      "\n",
      "[EPOCH:5]\t Classifier Train Accuracy:1.0000\n",
      "Classifier Valid Accuracy:0.8341\n",
      "Classifier Test Accuracy:0.8059\n",
      "----\n"
     ]
    },
    {
     "name": "stderr",
     "output_type": "stream",
     "text": [
      "C:\\Users\\USER\\AppData\\Local\\Temp/ipykernel_18804/1192674566.py:23: UserWarning: To copy construct from a tensor, it is recommended to use sourceTensor.clone().detach() or sourceTensor.clone().detach().requires_grad_(True), rather than torch.tensor(sourceTensor).\n",
      "  y = torch.tensor(y,dtype=torch.int64)\n"
     ]
    },
    {
     "name": "stdout",
     "output_type": "stream",
     "text": [
      "\n",
      "[EPOCH:6]\t Train Loss:0.0635\n",
      "\n",
      "[EPOCH:6]\t Classifier Train Accuracy:1.0000\n",
      "Classifier Valid Accuracy:0.8520\n",
      "Classifier Test Accuracy:0.8270\n",
      "----\n"
     ]
    },
    {
     "name": "stderr",
     "output_type": "stream",
     "text": [
      "C:\\Users\\USER\\AppData\\Local\\Temp/ipykernel_18804/1192674566.py:23: UserWarning: To copy construct from a tensor, it is recommended to use sourceTensor.clone().detach() or sourceTensor.clone().detach().requires_grad_(True), rather than torch.tensor(sourceTensor).\n",
      "  y = torch.tensor(y,dtype=torch.int64)\n"
     ]
    },
    {
     "name": "stdout",
     "output_type": "stream",
     "text": [
      "\n",
      "[EPOCH:7]\t Train Loss:0.0490\n",
      "\n",
      "[EPOCH:7]\t Classifier Train Accuracy:1.0000\n",
      "Classifier Valid Accuracy:0.8430\n",
      "Classifier Test Accuracy:0.8354\n",
      "----\n"
     ]
    },
    {
     "name": "stderr",
     "output_type": "stream",
     "text": [
      "C:\\Users\\USER\\AppData\\Local\\Temp/ipykernel_18804/1192674566.py:23: UserWarning: To copy construct from a tensor, it is recommended to use sourceTensor.clone().detach() or sourceTensor.clone().detach().requires_grad_(True), rather than torch.tensor(sourceTensor).\n",
      "  y = torch.tensor(y,dtype=torch.int64)\n"
     ]
    },
    {
     "name": "stdout",
     "output_type": "stream",
     "text": [
      "\n",
      "[EPOCH:8]\t Train Loss:0.0420\n",
      "\n",
      "[EPOCH:8]\t Classifier Train Accuracy:1.0000\n",
      "Classifier Valid Accuracy:0.8430\n",
      "Classifier Test Accuracy:0.8270\n",
      "----\n"
     ]
    },
    {
     "name": "stderr",
     "output_type": "stream",
     "text": [
      "C:\\Users\\USER\\AppData\\Local\\Temp/ipykernel_18804/1192674566.py:23: UserWarning: To copy construct from a tensor, it is recommended to use sourceTensor.clone().detach() or sourceTensor.clone().detach().requires_grad_(True), rather than torch.tensor(sourceTensor).\n",
      "  y = torch.tensor(y,dtype=torch.int64)\n"
     ]
    },
    {
     "name": "stdout",
     "output_type": "stream",
     "text": [
      "\n",
      "[EPOCH:9]\t Train Loss:0.0488\n",
      "\n",
      "[EPOCH:9]\t Classifier Train Accuracy:1.0000\n",
      "Classifier Valid Accuracy:0.8475\n",
      "Classifier Test Accuracy:0.8228\n",
      "----\n"
     ]
    },
    {
     "name": "stderr",
     "output_type": "stream",
     "text": [
      "C:\\Users\\USER\\AppData\\Local\\Temp/ipykernel_18804/1192674566.py:23: UserWarning: To copy construct from a tensor, it is recommended to use sourceTensor.clone().detach() or sourceTensor.clone().detach().requires_grad_(True), rather than torch.tensor(sourceTensor).\n",
      "  y = torch.tensor(y,dtype=torch.int64)\n"
     ]
    },
    {
     "name": "stdout",
     "output_type": "stream",
     "text": [
      "\n",
      "[EPOCH:10]\t Train Loss:0.0348\n",
      "\n",
      "[EPOCH:10]\t Classifier Train Accuracy:1.0000\n",
      "Classifier Valid Accuracy:0.8565\n",
      "Classifier Test Accuracy:0.8397\n",
      "----\n"
     ]
    },
    {
     "name": "stderr",
     "output_type": "stream",
     "text": [
      "C:\\Users\\USER\\AppData\\Local\\Temp/ipykernel_18804/1192674566.py:23: UserWarning: To copy construct from a tensor, it is recommended to use sourceTensor.clone().detach() or sourceTensor.clone().detach().requires_grad_(True), rather than torch.tensor(sourceTensor).\n",
      "  y = torch.tensor(y,dtype=torch.int64)\n"
     ]
    },
    {
     "name": "stdout",
     "output_type": "stream",
     "text": [
      "\n",
      "[EPOCH:11]\t Train Loss:0.0384\n",
      "\n",
      "[EPOCH:11]\t Classifier Train Accuracy:1.0000\n",
      "Classifier Valid Accuracy:0.8789\n",
      "Classifier Test Accuracy:0.8186\n",
      "----\n"
     ]
    },
    {
     "name": "stderr",
     "output_type": "stream",
     "text": [
      "C:\\Users\\USER\\AppData\\Local\\Temp/ipykernel_18804/1192674566.py:23: UserWarning: To copy construct from a tensor, it is recommended to use sourceTensor.clone().detach() or sourceTensor.clone().detach().requires_grad_(True), rather than torch.tensor(sourceTensor).\n",
      "  y = torch.tensor(y,dtype=torch.int64)\n"
     ]
    },
    {
     "name": "stdout",
     "output_type": "stream",
     "text": [
      "\n",
      "[EPOCH:12]\t Train Loss:0.0362\n",
      "\n",
      "[EPOCH:12]\t Classifier Train Accuracy:1.0000\n",
      "Classifier Valid Accuracy:0.8789\n",
      "Classifier Test Accuracy:0.8228\n",
      "----\n"
     ]
    },
    {
     "name": "stderr",
     "output_type": "stream",
     "text": [
      "C:\\Users\\USER\\AppData\\Local\\Temp/ipykernel_18804/1192674566.py:23: UserWarning: To copy construct from a tensor, it is recommended to use sourceTensor.clone().detach() or sourceTensor.clone().detach().requires_grad_(True), rather than torch.tensor(sourceTensor).\n",
      "  y = torch.tensor(y,dtype=torch.int64)\n"
     ]
    },
    {
     "name": "stdout",
     "output_type": "stream",
     "text": [
      "\n",
      "[EPOCH:13]\t Train Loss:0.0464\n",
      "\n",
      "[EPOCH:13]\t Classifier Train Accuracy:1.0000\n",
      "Classifier Valid Accuracy:0.8296\n",
      "Classifier Test Accuracy:0.8354\n",
      "----\n"
     ]
    },
    {
     "name": "stderr",
     "output_type": "stream",
     "text": [
      "C:\\Users\\USER\\AppData\\Local\\Temp/ipykernel_18804/1192674566.py:23: UserWarning: To copy construct from a tensor, it is recommended to use sourceTensor.clone().detach() or sourceTensor.clone().detach().requires_grad_(True), rather than torch.tensor(sourceTensor).\n",
      "  y = torch.tensor(y,dtype=torch.int64)\n"
     ]
    },
    {
     "name": "stdout",
     "output_type": "stream",
     "text": [
      "\n",
      "[EPOCH:14]\t Train Loss:0.0328\n",
      "\n",
      "[EPOCH:14]\t Classifier Train Accuracy:0.9988\n",
      "Classifier Valid Accuracy:0.8520\n",
      "Classifier Test Accuracy:0.8481\n",
      "----\n"
     ]
    },
    {
     "name": "stderr",
     "output_type": "stream",
     "text": [
      "C:\\Users\\USER\\AppData\\Local\\Temp/ipykernel_18804/1192674566.py:23: UserWarning: To copy construct from a tensor, it is recommended to use sourceTensor.clone().detach() or sourceTensor.clone().detach().requires_grad_(True), rather than torch.tensor(sourceTensor).\n",
      "  y = torch.tensor(y,dtype=torch.int64)\n"
     ]
    },
    {
     "name": "stdout",
     "output_type": "stream",
     "text": [
      "\n",
      "[EPOCH:15]\t Train Loss:0.0398\n",
      "\n",
      "[EPOCH:15]\t Classifier Train Accuracy:0.9988\n",
      "Classifier Valid Accuracy:0.8789\n",
      "Classifier Test Accuracy:0.8692\n",
      "----\n"
     ]
    },
    {
     "name": "stderr",
     "output_type": "stream",
     "text": [
      "C:\\Users\\USER\\AppData\\Local\\Temp/ipykernel_18804/1192674566.py:23: UserWarning: To copy construct from a tensor, it is recommended to use sourceTensor.clone().detach() or sourceTensor.clone().detach().requires_grad_(True), rather than torch.tensor(sourceTensor).\n",
      "  y = torch.tensor(y,dtype=torch.int64)\n"
     ]
    },
    {
     "name": "stdout",
     "output_type": "stream",
     "text": [
      "\n",
      "[EPOCH:16]\t Train Loss:0.0345\n",
      "\n",
      "[EPOCH:16]\t Classifier Train Accuracy:0.9988\n",
      "Classifier Valid Accuracy:0.8341\n",
      "Classifier Test Accuracy:0.8439\n",
      "----\n"
     ]
    },
    {
     "name": "stderr",
     "output_type": "stream",
     "text": [
      "C:\\Users\\USER\\AppData\\Local\\Temp/ipykernel_18804/1192674566.py:23: UserWarning: To copy construct from a tensor, it is recommended to use sourceTensor.clone().detach() or sourceTensor.clone().detach().requires_grad_(True), rather than torch.tensor(sourceTensor).\n",
      "  y = torch.tensor(y,dtype=torch.int64)\n"
     ]
    },
    {
     "name": "stdout",
     "output_type": "stream",
     "text": [
      "\n",
      "[EPOCH:17]\t Train Loss:0.0292\n",
      "\n",
      "[EPOCH:17]\t Classifier Train Accuracy:0.9988\n",
      "Classifier Valid Accuracy:0.8610\n",
      "Classifier Test Accuracy:0.8397\n",
      "----\n"
     ]
    },
    {
     "name": "stderr",
     "output_type": "stream",
     "text": [
      "C:\\Users\\USER\\AppData\\Local\\Temp/ipykernel_18804/1192674566.py:23: UserWarning: To copy construct from a tensor, it is recommended to use sourceTensor.clone().detach() or sourceTensor.clone().detach().requires_grad_(True), rather than torch.tensor(sourceTensor).\n",
      "  y = torch.tensor(y,dtype=torch.int64)\n"
     ]
    },
    {
     "name": "stdout",
     "output_type": "stream",
     "text": [
      "\n",
      "[EPOCH:18]\t Train Loss:0.0333\n",
      "\n",
      "[EPOCH:18]\t Classifier Train Accuracy:1.0000\n",
      "Classifier Valid Accuracy:0.8296\n",
      "Classifier Test Accuracy:0.8565\n",
      "----\n"
     ]
    },
    {
     "name": "stderr",
     "output_type": "stream",
     "text": [
      "C:\\Users\\USER\\AppData\\Local\\Temp/ipykernel_18804/1192674566.py:23: UserWarning: To copy construct from a tensor, it is recommended to use sourceTensor.clone().detach() or sourceTensor.clone().detach().requires_grad_(True), rather than torch.tensor(sourceTensor).\n",
      "  y = torch.tensor(y,dtype=torch.int64)\n"
     ]
    },
    {
     "name": "stdout",
     "output_type": "stream",
     "text": [
      "\n",
      "[EPOCH:19]\t Train Loss:0.0236\n",
      "\n",
      "[EPOCH:19]\t Classifier Train Accuracy:0.9988\n",
      "Classifier Valid Accuracy:0.8161\n",
      "Classifier Test Accuracy:0.8523\n",
      "----\n"
     ]
    },
    {
     "name": "stderr",
     "output_type": "stream",
     "text": [
      "C:\\Users\\USER\\AppData\\Local\\Temp/ipykernel_18804/1192674566.py:23: UserWarning: To copy construct from a tensor, it is recommended to use sourceTensor.clone().detach() or sourceTensor.clone().detach().requires_grad_(True), rather than torch.tensor(sourceTensor).\n",
      "  y = torch.tensor(y,dtype=torch.int64)\n"
     ]
    },
    {
     "name": "stdout",
     "output_type": "stream",
     "text": [
      "\n",
      "[EPOCH:20]\t Train Loss:0.0252\n",
      "\n",
      "[EPOCH:20]\t Classifier Train Accuracy:0.9988\n",
      "Classifier Valid Accuracy:0.8386\n",
      "Classifier Test Accuracy:0.8650\n",
      "----\n"
     ]
    },
    {
     "name": "stderr",
     "output_type": "stream",
     "text": [
      "C:\\Users\\USER\\AppData\\Local\\Temp/ipykernel_18804/1192674566.py:23: UserWarning: To copy construct from a tensor, it is recommended to use sourceTensor.clone().detach() or sourceTensor.clone().detach().requires_grad_(True), rather than torch.tensor(sourceTensor).\n",
      "  y = torch.tensor(y,dtype=torch.int64)\n"
     ]
    },
    {
     "name": "stdout",
     "output_type": "stream",
     "text": [
      "\n",
      "[EPOCH:21]\t Train Loss:0.0333\n",
      "\n",
      "[EPOCH:21]\t Classifier Train Accuracy:1.0000\n",
      "Classifier Valid Accuracy:0.8610\n",
      "Classifier Test Accuracy:0.8523\n",
      "----\n"
     ]
    },
    {
     "name": "stderr",
     "output_type": "stream",
     "text": [
      "C:\\Users\\USER\\AppData\\Local\\Temp/ipykernel_18804/1192674566.py:23: UserWarning: To copy construct from a tensor, it is recommended to use sourceTensor.clone().detach() or sourceTensor.clone().detach().requires_grad_(True), rather than torch.tensor(sourceTensor).\n",
      "  y = torch.tensor(y,dtype=torch.int64)\n"
     ]
    },
    {
     "name": "stdout",
     "output_type": "stream",
     "text": [
      "\n",
      "[EPOCH:22]\t Train Loss:0.0273\n",
      "\n",
      "[EPOCH:22]\t Classifier Train Accuracy:0.9988\n",
      "Classifier Valid Accuracy:0.8341\n",
      "Classifier Test Accuracy:0.8650\n",
      "----\n"
     ]
    },
    {
     "name": "stderr",
     "output_type": "stream",
     "text": [
      "C:\\Users\\USER\\AppData\\Local\\Temp/ipykernel_18804/1192674566.py:23: UserWarning: To copy construct from a tensor, it is recommended to use sourceTensor.clone().detach() or sourceTensor.clone().detach().requires_grad_(True), rather than torch.tensor(sourceTensor).\n",
      "  y = torch.tensor(y,dtype=torch.int64)\n"
     ]
    },
    {
     "name": "stdout",
     "output_type": "stream",
     "text": [
      "\n",
      "[EPOCH:23]\t Train Loss:0.0234\n",
      "\n",
      "[EPOCH:23]\t Classifier Train Accuracy:1.0000\n",
      "Classifier Valid Accuracy:0.8027\n",
      "Classifier Test Accuracy:0.8312\n",
      "----\n"
     ]
    },
    {
     "name": "stderr",
     "output_type": "stream",
     "text": [
      "C:\\Users\\USER\\AppData\\Local\\Temp/ipykernel_18804/1192674566.py:23: UserWarning: To copy construct from a tensor, it is recommended to use sourceTensor.clone().detach() or sourceTensor.clone().detach().requires_grad_(True), rather than torch.tensor(sourceTensor).\n",
      "  y = torch.tensor(y,dtype=torch.int64)\n"
     ]
    },
    {
     "name": "stdout",
     "output_type": "stream",
     "text": [
      "\n",
      "[EPOCH:24]\t Train Loss:0.0304\n",
      "\n",
      "[EPOCH:24]\t Classifier Train Accuracy:1.0000\n",
      "Classifier Valid Accuracy:0.8161\n",
      "Classifier Test Accuracy:0.8228\n",
      "----\n"
     ]
    },
    {
     "name": "stderr",
     "output_type": "stream",
     "text": [
      "C:\\Users\\USER\\AppData\\Local\\Temp/ipykernel_18804/1192674566.py:23: UserWarning: To copy construct from a tensor, it is recommended to use sourceTensor.clone().detach() or sourceTensor.clone().detach().requires_grad_(True), rather than torch.tensor(sourceTensor).\n",
      "  y = torch.tensor(y,dtype=torch.int64)\n"
     ]
    },
    {
     "name": "stdout",
     "output_type": "stream",
     "text": [
      "\n",
      "[EPOCH:25]\t Train Loss:0.0339\n",
      "\n",
      "[EPOCH:25]\t Classifier Train Accuracy:1.0000\n",
      "Classifier Valid Accuracy:0.8341\n",
      "Classifier Test Accuracy:0.8481\n",
      "----\n"
     ]
    },
    {
     "name": "stderr",
     "output_type": "stream",
     "text": [
      "C:\\Users\\USER\\AppData\\Local\\Temp/ipykernel_18804/1192674566.py:23: UserWarning: To copy construct from a tensor, it is recommended to use sourceTensor.clone().detach() or sourceTensor.clone().detach().requires_grad_(True), rather than torch.tensor(sourceTensor).\n",
      "  y = torch.tensor(y,dtype=torch.int64)\n"
     ]
    },
    {
     "name": "stdout",
     "output_type": "stream",
     "text": [
      "\n",
      "[EPOCH:26]\t Train Loss:0.0276\n",
      "\n",
      "[EPOCH:26]\t Classifier Train Accuracy:0.9988\n",
      "Classifier Valid Accuracy:0.8072\n",
      "Classifier Test Accuracy:0.8439\n",
      "----\n"
     ]
    },
    {
     "name": "stderr",
     "output_type": "stream",
     "text": [
      "C:\\Users\\USER\\AppData\\Local\\Temp/ipykernel_18804/1192674566.py:23: UserWarning: To copy construct from a tensor, it is recommended to use sourceTensor.clone().detach() or sourceTensor.clone().detach().requires_grad_(True), rather than torch.tensor(sourceTensor).\n",
      "  y = torch.tensor(y,dtype=torch.int64)\n"
     ]
    },
    {
     "name": "stdout",
     "output_type": "stream",
     "text": [
      "\n",
      "[EPOCH:27]\t Train Loss:0.0242\n",
      "\n",
      "[EPOCH:27]\t Classifier Train Accuracy:0.9988\n",
      "Classifier Valid Accuracy:0.8251\n",
      "Classifier Test Accuracy:0.8312\n",
      "----\n"
     ]
    },
    {
     "name": "stderr",
     "output_type": "stream",
     "text": [
      "C:\\Users\\USER\\AppData\\Local\\Temp/ipykernel_18804/1192674566.py:23: UserWarning: To copy construct from a tensor, it is recommended to use sourceTensor.clone().detach() or sourceTensor.clone().detach().requires_grad_(True), rather than torch.tensor(sourceTensor).\n",
      "  y = torch.tensor(y,dtype=torch.int64)\n"
     ]
    },
    {
     "name": "stdout",
     "output_type": "stream",
     "text": [
      "\n",
      "[EPOCH:28]\t Train Loss:0.0311\n",
      "\n",
      "[EPOCH:28]\t Classifier Train Accuracy:1.0000\n",
      "Classifier Valid Accuracy:0.8386\n",
      "Classifier Test Accuracy:0.8523\n",
      "----\n"
     ]
    },
    {
     "name": "stderr",
     "output_type": "stream",
     "text": [
      "C:\\Users\\USER\\AppData\\Local\\Temp/ipykernel_18804/1192674566.py:23: UserWarning: To copy construct from a tensor, it is recommended to use sourceTensor.clone().detach() or sourceTensor.clone().detach().requires_grad_(True), rather than torch.tensor(sourceTensor).\n",
      "  y = torch.tensor(y,dtype=torch.int64)\n"
     ]
    },
    {
     "name": "stdout",
     "output_type": "stream",
     "text": [
      "\n",
      "[EPOCH:29]\t Train Loss:0.0289\n",
      "\n",
      "[EPOCH:29]\t Classifier Train Accuracy:0.9988\n",
      "Classifier Valid Accuracy:0.8027\n",
      "Classifier Test Accuracy:0.8101\n",
      "----\n"
     ]
    },
    {
     "name": "stderr",
     "output_type": "stream",
     "text": [
      "C:\\Users\\USER\\AppData\\Local\\Temp/ipykernel_18804/1192674566.py:23: UserWarning: To copy construct from a tensor, it is recommended to use sourceTensor.clone().detach() or sourceTensor.clone().detach().requires_grad_(True), rather than torch.tensor(sourceTensor).\n",
      "  y = torch.tensor(y,dtype=torch.int64)\n"
     ]
    },
    {
     "name": "stdout",
     "output_type": "stream",
     "text": [
      "\n",
      "[EPOCH:30]\t Train Loss:0.0313\n",
      "\n",
      "[EPOCH:30]\t Classifier Train Accuracy:0.9988\n",
      "Classifier Valid Accuracy:0.7848\n",
      "Classifier Test Accuracy:0.8143\n",
      "----\n"
     ]
    },
    {
     "name": "stderr",
     "output_type": "stream",
     "text": [
      "C:\\Users\\USER\\AppData\\Local\\Temp/ipykernel_18804/1192674566.py:23: UserWarning: To copy construct from a tensor, it is recommended to use sourceTensor.clone().detach() or sourceTensor.clone().detach().requires_grad_(True), rather than torch.tensor(sourceTensor).\n",
      "  y = torch.tensor(y,dtype=torch.int64)\n"
     ]
    },
    {
     "name": "stdout",
     "output_type": "stream",
     "text": [
      "\n",
      "[EPOCH:31]\t Train Loss:0.0214\n",
      "\n",
      "[EPOCH:31]\t Classifier Train Accuracy:0.9988\n",
      "Classifier Valid Accuracy:0.7848\n",
      "Classifier Test Accuracy:0.8481\n",
      "----\n"
     ]
    },
    {
     "name": "stderr",
     "output_type": "stream",
     "text": [
      "C:\\Users\\USER\\AppData\\Local\\Temp/ipykernel_18804/1192674566.py:23: UserWarning: To copy construct from a tensor, it is recommended to use sourceTensor.clone().detach() or sourceTensor.clone().detach().requires_grad_(True), rather than torch.tensor(sourceTensor).\n",
      "  y = torch.tensor(y,dtype=torch.int64)\n"
     ]
    },
    {
     "name": "stdout",
     "output_type": "stream",
     "text": [
      "\n",
      "[EPOCH:32]\t Train Loss:0.0227\n",
      "\n",
      "[EPOCH:32]\t Classifier Train Accuracy:0.9988\n",
      "Classifier Valid Accuracy:0.7758\n",
      "Classifier Test Accuracy:0.8481\n",
      "----\n"
     ]
    },
    {
     "name": "stderr",
     "output_type": "stream",
     "text": [
      "C:\\Users\\USER\\AppData\\Local\\Temp/ipykernel_18804/1192674566.py:23: UserWarning: To copy construct from a tensor, it is recommended to use sourceTensor.clone().detach() or sourceTensor.clone().detach().requires_grad_(True), rather than torch.tensor(sourceTensor).\n",
      "  y = torch.tensor(y,dtype=torch.int64)\n"
     ]
    },
    {
     "name": "stdout",
     "output_type": "stream",
     "text": [
      "\n",
      "[EPOCH:33]\t Train Loss:0.0229\n",
      "\n",
      "[EPOCH:33]\t Classifier Train Accuracy:0.9988\n",
      "Classifier Valid Accuracy:0.7892\n",
      "Classifier Test Accuracy:0.8608\n",
      "----\n"
     ]
    },
    {
     "name": "stderr",
     "output_type": "stream",
     "text": [
      "C:\\Users\\USER\\AppData\\Local\\Temp/ipykernel_18804/1192674566.py:23: UserWarning: To copy construct from a tensor, it is recommended to use sourceTensor.clone().detach() or sourceTensor.clone().detach().requires_grad_(True), rather than torch.tensor(sourceTensor).\n",
      "  y = torch.tensor(y,dtype=torch.int64)\n"
     ]
    },
    {
     "name": "stdout",
     "output_type": "stream",
     "text": [
      "\n",
      "[EPOCH:34]\t Train Loss:0.0242\n",
      "\n",
      "[EPOCH:34]\t Classifier Train Accuracy:0.9988\n",
      "Classifier Valid Accuracy:0.7803\n",
      "Classifier Test Accuracy:0.8650\n",
      "----\n"
     ]
    },
    {
     "name": "stderr",
     "output_type": "stream",
     "text": [
      "C:\\Users\\USER\\AppData\\Local\\Temp/ipykernel_18804/1192674566.py:23: UserWarning: To copy construct from a tensor, it is recommended to use sourceTensor.clone().detach() or sourceTensor.clone().detach().requires_grad_(True), rather than torch.tensor(sourceTensor).\n",
      "  y = torch.tensor(y,dtype=torch.int64)\n"
     ]
    },
    {
     "name": "stdout",
     "output_type": "stream",
     "text": [
      "\n",
      "[EPOCH:35]\t Train Loss:0.0247\n",
      "\n",
      "[EPOCH:35]\t Classifier Train Accuracy:1.0000\n",
      "Classifier Valid Accuracy:0.7578\n",
      "Classifier Test Accuracy:0.8650\n",
      "----\n"
     ]
    },
    {
     "name": "stderr",
     "output_type": "stream",
     "text": [
      "C:\\Users\\USER\\AppData\\Local\\Temp/ipykernel_18804/1192674566.py:23: UserWarning: To copy construct from a tensor, it is recommended to use sourceTensor.clone().detach() or sourceTensor.clone().detach().requires_grad_(True), rather than torch.tensor(sourceTensor).\n",
      "  y = torch.tensor(y,dtype=torch.int64)\n"
     ]
    },
    {
     "name": "stdout",
     "output_type": "stream",
     "text": [
      "\n",
      "[EPOCH:36]\t Train Loss:0.0242\n",
      "\n",
      "[EPOCH:36]\t Classifier Train Accuracy:1.0000\n",
      "Classifier Valid Accuracy:0.8430\n",
      "Classifier Test Accuracy:0.8565\n",
      "----\n"
     ]
    },
    {
     "name": "stderr",
     "output_type": "stream",
     "text": [
      "C:\\Users\\USER\\AppData\\Local\\Temp/ipykernel_18804/1192674566.py:23: UserWarning: To copy construct from a tensor, it is recommended to use sourceTensor.clone().detach() or sourceTensor.clone().detach().requires_grad_(True), rather than torch.tensor(sourceTensor).\n",
      "  y = torch.tensor(y,dtype=torch.int64)\n"
     ]
    },
    {
     "name": "stdout",
     "output_type": "stream",
     "text": [
      "\n",
      "[EPOCH:37]\t Train Loss:0.0260\n",
      "\n",
      "[EPOCH:37]\t Classifier Train Accuracy:1.0000\n",
      "Classifier Valid Accuracy:0.7892\n",
      "Classifier Test Accuracy:0.8608\n",
      "----\n"
     ]
    },
    {
     "name": "stderr",
     "output_type": "stream",
     "text": [
      "C:\\Users\\USER\\AppData\\Local\\Temp/ipykernel_18804/1192674566.py:23: UserWarning: To copy construct from a tensor, it is recommended to use sourceTensor.clone().detach() or sourceTensor.clone().detach().requires_grad_(True), rather than torch.tensor(sourceTensor).\n",
      "  y = torch.tensor(y,dtype=torch.int64)\n"
     ]
    },
    {
     "name": "stdout",
     "output_type": "stream",
     "text": [
      "\n",
      "[EPOCH:38]\t Train Loss:0.0225\n",
      "\n",
      "[EPOCH:38]\t Classifier Train Accuracy:1.0000\n",
      "Classifier Valid Accuracy:0.7713\n",
      "Classifier Test Accuracy:0.8734\n",
      "----\n"
     ]
    },
    {
     "name": "stderr",
     "output_type": "stream",
     "text": [
      "C:\\Users\\USER\\AppData\\Local\\Temp/ipykernel_18804/1192674566.py:23: UserWarning: To copy construct from a tensor, it is recommended to use sourceTensor.clone().detach() or sourceTensor.clone().detach().requires_grad_(True), rather than torch.tensor(sourceTensor).\n",
      "  y = torch.tensor(y,dtype=torch.int64)\n"
     ]
    },
    {
     "name": "stdout",
     "output_type": "stream",
     "text": [
      "\n",
      "[EPOCH:39]\t Train Loss:0.0250\n",
      "\n",
      "[EPOCH:39]\t Classifier Train Accuracy:1.0000\n",
      "Classifier Valid Accuracy:0.8430\n",
      "Classifier Test Accuracy:0.8650\n",
      "----\n"
     ]
    },
    {
     "name": "stderr",
     "output_type": "stream",
     "text": [
      "C:\\Users\\USER\\AppData\\Local\\Temp/ipykernel_18804/1192674566.py:23: UserWarning: To copy construct from a tensor, it is recommended to use sourceTensor.clone().detach() or sourceTensor.clone().detach().requires_grad_(True), rather than torch.tensor(sourceTensor).\n",
      "  y = torch.tensor(y,dtype=torch.int64)\n"
     ]
    },
    {
     "name": "stdout",
     "output_type": "stream",
     "text": [
      "\n",
      "[EPOCH:40]\t Train Loss:0.0291\n",
      "\n",
      "[EPOCH:40]\t Classifier Train Accuracy:1.0000\n",
      "Classifier Valid Accuracy:0.8251\n",
      "Classifier Test Accuracy:0.8354\n",
      "----\n"
     ]
    },
    {
     "name": "stderr",
     "output_type": "stream",
     "text": [
      "C:\\Users\\USER\\AppData\\Local\\Temp/ipykernel_18804/1192674566.py:23: UserWarning: To copy construct from a tensor, it is recommended to use sourceTensor.clone().detach() or sourceTensor.clone().detach().requires_grad_(True), rather than torch.tensor(sourceTensor).\n",
      "  y = torch.tensor(y,dtype=torch.int64)\n"
     ]
    },
    {
     "name": "stdout",
     "output_type": "stream",
     "text": [
      "\n",
      "[EPOCH:41]\t Train Loss:0.0316\n",
      "\n",
      "[EPOCH:41]\t Classifier Train Accuracy:0.9988\n",
      "Classifier Valid Accuracy:0.8206\n",
      "Classifier Test Accuracy:0.8692\n",
      "----\n"
     ]
    },
    {
     "name": "stderr",
     "output_type": "stream",
     "text": [
      "C:\\Users\\USER\\AppData\\Local\\Temp/ipykernel_18804/1192674566.py:23: UserWarning: To copy construct from a tensor, it is recommended to use sourceTensor.clone().detach() or sourceTensor.clone().detach().requires_grad_(True), rather than torch.tensor(sourceTensor).\n",
      "  y = torch.tensor(y,dtype=torch.int64)\n"
     ]
    },
    {
     "name": "stdout",
     "output_type": "stream",
     "text": [
      "\n",
      "[EPOCH:42]\t Train Loss:0.0288\n",
      "\n",
      "[EPOCH:42]\t Classifier Train Accuracy:0.9988\n",
      "Classifier Valid Accuracy:0.8117\n",
      "Classifier Test Accuracy:0.8397\n",
      "----\n"
     ]
    },
    {
     "name": "stderr",
     "output_type": "stream",
     "text": [
      "C:\\Users\\USER\\AppData\\Local\\Temp/ipykernel_18804/1192674566.py:23: UserWarning: To copy construct from a tensor, it is recommended to use sourceTensor.clone().detach() or sourceTensor.clone().detach().requires_grad_(True), rather than torch.tensor(sourceTensor).\n",
      "  y = torch.tensor(y,dtype=torch.int64)\n"
     ]
    },
    {
     "name": "stdout",
     "output_type": "stream",
     "text": [
      "\n",
      "[EPOCH:43]\t Train Loss:0.0232\n",
      "\n",
      "[EPOCH:43]\t Classifier Train Accuracy:0.9988\n",
      "Classifier Valid Accuracy:0.8072\n",
      "Classifier Test Accuracy:0.8565\n",
      "----\n"
     ]
    },
    {
     "name": "stderr",
     "output_type": "stream",
     "text": [
      "C:\\Users\\USER\\AppData\\Local\\Temp/ipykernel_18804/1192674566.py:23: UserWarning: To copy construct from a tensor, it is recommended to use sourceTensor.clone().detach() or sourceTensor.clone().detach().requires_grad_(True), rather than torch.tensor(sourceTensor).\n",
      "  y = torch.tensor(y,dtype=torch.int64)\n"
     ]
    },
    {
     "name": "stdout",
     "output_type": "stream",
     "text": [
      "\n",
      "[EPOCH:44]\t Train Loss:0.0235\n",
      "\n",
      "[EPOCH:44]\t Classifier Train Accuracy:0.9988\n",
      "Classifier Valid Accuracy:0.8072\n",
      "Classifier Test Accuracy:0.8608\n",
      "----\n"
     ]
    },
    {
     "name": "stderr",
     "output_type": "stream",
     "text": [
      "C:\\Users\\USER\\AppData\\Local\\Temp/ipykernel_18804/1192674566.py:23: UserWarning: To copy construct from a tensor, it is recommended to use sourceTensor.clone().detach() or sourceTensor.clone().detach().requires_grad_(True), rather than torch.tensor(sourceTensor).\n",
      "  y = torch.tensor(y,dtype=torch.int64)\n"
     ]
    },
    {
     "name": "stdout",
     "output_type": "stream",
     "text": [
      "\n",
      "[EPOCH:45]\t Train Loss:0.0243\n",
      "\n",
      "[EPOCH:45]\t Classifier Train Accuracy:0.9988\n",
      "Classifier Valid Accuracy:0.7803\n",
      "Classifier Test Accuracy:0.8608\n",
      "----\n"
     ]
    },
    {
     "name": "stderr",
     "output_type": "stream",
     "text": [
      "C:\\Users\\USER\\AppData\\Local\\Temp/ipykernel_18804/1192674566.py:23: UserWarning: To copy construct from a tensor, it is recommended to use sourceTensor.clone().detach() or sourceTensor.clone().detach().requires_grad_(True), rather than torch.tensor(sourceTensor).\n",
      "  y = torch.tensor(y,dtype=torch.int64)\n"
     ]
    },
    {
     "name": "stdout",
     "output_type": "stream",
     "text": [
      "\n",
      "[EPOCH:46]\t Train Loss:0.0244\n",
      "\n",
      "[EPOCH:46]\t Classifier Train Accuracy:1.0000\n",
      "Classifier Valid Accuracy:0.8296\n",
      "Classifier Test Accuracy:0.8776\n",
      "----\n"
     ]
    },
    {
     "name": "stderr",
     "output_type": "stream",
     "text": [
      "C:\\Users\\USER\\AppData\\Local\\Temp/ipykernel_18804/1192674566.py:23: UserWarning: To copy construct from a tensor, it is recommended to use sourceTensor.clone().detach() or sourceTensor.clone().detach().requires_grad_(True), rather than torch.tensor(sourceTensor).\n",
      "  y = torch.tensor(y,dtype=torch.int64)\n"
     ]
    },
    {
     "name": "stdout",
     "output_type": "stream",
     "text": [
      "\n",
      "[EPOCH:47]\t Train Loss:0.0240\n",
      "\n",
      "[EPOCH:47]\t Classifier Train Accuracy:1.0000\n",
      "Classifier Valid Accuracy:0.8027\n",
      "Classifier Test Accuracy:0.8439\n",
      "----\n"
     ]
    },
    {
     "name": "stderr",
     "output_type": "stream",
     "text": [
      "C:\\Users\\USER\\AppData\\Local\\Temp/ipykernel_18804/1192674566.py:23: UserWarning: To copy construct from a tensor, it is recommended to use sourceTensor.clone().detach() or sourceTensor.clone().detach().requires_grad_(True), rather than torch.tensor(sourceTensor).\n",
      "  y = torch.tensor(y,dtype=torch.int64)\n"
     ]
    },
    {
     "name": "stdout",
     "output_type": "stream",
     "text": [
      "\n",
      "[EPOCH:48]\t Train Loss:0.0236\n",
      "\n",
      "[EPOCH:48]\t Classifier Train Accuracy:1.0000\n",
      "Classifier Valid Accuracy:0.8744\n",
      "Classifier Test Accuracy:0.8481\n",
      "----\n"
     ]
    },
    {
     "name": "stderr",
     "output_type": "stream",
     "text": [
      "C:\\Users\\USER\\AppData\\Local\\Temp/ipykernel_18804/1192674566.py:23: UserWarning: To copy construct from a tensor, it is recommended to use sourceTensor.clone().detach() or sourceTensor.clone().detach().requires_grad_(True), rather than torch.tensor(sourceTensor).\n",
      "  y = torch.tensor(y,dtype=torch.int64)\n"
     ]
    },
    {
     "name": "stdout",
     "output_type": "stream",
     "text": [
      "\n",
      "[EPOCH:49]\t Train Loss:0.0212\n",
      "\n",
      "[EPOCH:49]\t Classifier Train Accuracy:1.0000\n",
      "Classifier Valid Accuracy:0.8430\n",
      "Classifier Test Accuracy:0.8565\n",
      "----\n"
     ]
    },
    {
     "name": "stderr",
     "output_type": "stream",
     "text": [
      "C:\\Users\\USER\\AppData\\Local\\Temp/ipykernel_18804/1192674566.py:23: UserWarning: To copy construct from a tensor, it is recommended to use sourceTensor.clone().detach() or sourceTensor.clone().detach().requires_grad_(True), rather than torch.tensor(sourceTensor).\n",
      "  y = torch.tensor(y,dtype=torch.int64)\n"
     ]
    },
    {
     "name": "stdout",
     "output_type": "stream",
     "text": [
      "\n",
      "[EPOCH:50]\t Train Loss:0.0187\n",
      "\n",
      "[EPOCH:50]\t Classifier Train Accuracy:0.9988\n",
      "Classifier Valid Accuracy:0.7848\n",
      "Classifier Test Accuracy:0.8692\n",
      "----\n"
     ]
    },
    {
     "name": "stderr",
     "output_type": "stream",
     "text": [
      "C:\\Users\\USER\\AppData\\Local\\Temp/ipykernel_18804/1192674566.py:23: UserWarning: To copy construct from a tensor, it is recommended to use sourceTensor.clone().detach() or sourceTensor.clone().detach().requires_grad_(True), rather than torch.tensor(sourceTensor).\n",
      "  y = torch.tensor(y,dtype=torch.int64)\n"
     ]
    },
    {
     "name": "stdout",
     "output_type": "stream",
     "text": [
      "\n",
      "[EPOCH:51]\t Train Loss:0.0247\n",
      "\n",
      "[EPOCH:51]\t Classifier Train Accuracy:1.0000\n",
      "Classifier Valid Accuracy:0.7848\n",
      "Classifier Test Accuracy:0.8565\n",
      "----\n"
     ]
    },
    {
     "name": "stderr",
     "output_type": "stream",
     "text": [
      "C:\\Users\\USER\\AppData\\Local\\Temp/ipykernel_18804/1192674566.py:23: UserWarning: To copy construct from a tensor, it is recommended to use sourceTensor.clone().detach() or sourceTensor.clone().detach().requires_grad_(True), rather than torch.tensor(sourceTensor).\n",
      "  y = torch.tensor(y,dtype=torch.int64)\n"
     ]
    },
    {
     "name": "stdout",
     "output_type": "stream",
     "text": [
      "\n",
      "[EPOCH:52]\t Train Loss:0.0261\n",
      "\n",
      "[EPOCH:52]\t Classifier Train Accuracy:1.0000\n",
      "Classifier Valid Accuracy:0.7803\n",
      "Classifier Test Accuracy:0.8228\n",
      "----\n"
     ]
    },
    {
     "name": "stderr",
     "output_type": "stream",
     "text": [
      "C:\\Users\\USER\\AppData\\Local\\Temp/ipykernel_18804/1192674566.py:23: UserWarning: To copy construct from a tensor, it is recommended to use sourceTensor.clone().detach() or sourceTensor.clone().detach().requires_grad_(True), rather than torch.tensor(sourceTensor).\n",
      "  y = torch.tensor(y,dtype=torch.int64)\n"
     ]
    },
    {
     "name": "stdout",
     "output_type": "stream",
     "text": [
      "\n",
      "[EPOCH:53]\t Train Loss:0.0231\n",
      "\n",
      "[EPOCH:53]\t Classifier Train Accuracy:1.0000\n",
      "Classifier Valid Accuracy:0.8072\n",
      "Classifier Test Accuracy:0.8608\n",
      "----\n"
     ]
    },
    {
     "name": "stderr",
     "output_type": "stream",
     "text": [
      "C:\\Users\\USER\\AppData\\Local\\Temp/ipykernel_18804/1192674566.py:23: UserWarning: To copy construct from a tensor, it is recommended to use sourceTensor.clone().detach() or sourceTensor.clone().detach().requires_grad_(True), rather than torch.tensor(sourceTensor).\n",
      "  y = torch.tensor(y,dtype=torch.int64)\n"
     ]
    },
    {
     "name": "stdout",
     "output_type": "stream",
     "text": [
      "\n",
      "[EPOCH:54]\t Train Loss:0.0190\n",
      "\n",
      "[EPOCH:54]\t Classifier Train Accuracy:1.0000\n",
      "Classifier Valid Accuracy:0.7982\n",
      "Classifier Test Accuracy:0.8608\n",
      "----\n"
     ]
    },
    {
     "name": "stderr",
     "output_type": "stream",
     "text": [
      "C:\\Users\\USER\\AppData\\Local\\Temp/ipykernel_18804/1192674566.py:23: UserWarning: To copy construct from a tensor, it is recommended to use sourceTensor.clone().detach() or sourceTensor.clone().detach().requires_grad_(True), rather than torch.tensor(sourceTensor).\n",
      "  y = torch.tensor(y,dtype=torch.int64)\n"
     ]
    },
    {
     "name": "stdout",
     "output_type": "stream",
     "text": [
      "\n",
      "[EPOCH:55]\t Train Loss:0.0203\n",
      "\n",
      "[EPOCH:55]\t Classifier Train Accuracy:1.0000\n",
      "Classifier Valid Accuracy:0.7578\n",
      "Classifier Test Accuracy:0.8270\n",
      "----\n"
     ]
    },
    {
     "name": "stderr",
     "output_type": "stream",
     "text": [
      "C:\\Users\\USER\\AppData\\Local\\Temp/ipykernel_18804/1192674566.py:23: UserWarning: To copy construct from a tensor, it is recommended to use sourceTensor.clone().detach() or sourceTensor.clone().detach().requires_grad_(True), rather than torch.tensor(sourceTensor).\n",
      "  y = torch.tensor(y,dtype=torch.int64)\n"
     ]
    },
    {
     "name": "stdout",
     "output_type": "stream",
     "text": [
      "\n",
      "[EPOCH:56]\t Train Loss:0.0176\n",
      "\n",
      "[EPOCH:56]\t Classifier Train Accuracy:1.0000\n",
      "Classifier Valid Accuracy:0.8251\n",
      "Classifier Test Accuracy:0.8734\n",
      "----\n"
     ]
    },
    {
     "name": "stderr",
     "output_type": "stream",
     "text": [
      "C:\\Users\\USER\\AppData\\Local\\Temp/ipykernel_18804/1192674566.py:23: UserWarning: To copy construct from a tensor, it is recommended to use sourceTensor.clone().detach() or sourceTensor.clone().detach().requires_grad_(True), rather than torch.tensor(sourceTensor).\n",
      "  y = torch.tensor(y,dtype=torch.int64)\n"
     ]
    },
    {
     "name": "stdout",
     "output_type": "stream",
     "text": [
      "\n",
      "[EPOCH:57]\t Train Loss:0.0183\n",
      "\n",
      "[EPOCH:57]\t Classifier Train Accuracy:1.0000\n",
      "Classifier Valid Accuracy:0.8565\n",
      "Classifier Test Accuracy:0.8481\n",
      "----\n"
     ]
    },
    {
     "name": "stderr",
     "output_type": "stream",
     "text": [
      "C:\\Users\\USER\\AppData\\Local\\Temp/ipykernel_18804/1192674566.py:23: UserWarning: To copy construct from a tensor, it is recommended to use sourceTensor.clone().detach() or sourceTensor.clone().detach().requires_grad_(True), rather than torch.tensor(sourceTensor).\n",
      "  y = torch.tensor(y,dtype=torch.int64)\n"
     ]
    },
    {
     "name": "stdout",
     "output_type": "stream",
     "text": [
      "\n",
      "[EPOCH:58]\t Train Loss:0.0187\n",
      "\n",
      "[EPOCH:58]\t Classifier Train Accuracy:1.0000\n",
      "Classifier Valid Accuracy:0.7803\n",
      "Classifier Test Accuracy:0.8312\n",
      "----\n"
     ]
    },
    {
     "name": "stderr",
     "output_type": "stream",
     "text": [
      "C:\\Users\\USER\\AppData\\Local\\Temp/ipykernel_18804/1192674566.py:23: UserWarning: To copy construct from a tensor, it is recommended to use sourceTensor.clone().detach() or sourceTensor.clone().detach().requires_grad_(True), rather than torch.tensor(sourceTensor).\n",
      "  y = torch.tensor(y,dtype=torch.int64)\n"
     ]
    },
    {
     "name": "stdout",
     "output_type": "stream",
     "text": [
      "\n",
      "[EPOCH:59]\t Train Loss:0.0206\n",
      "\n",
      "[EPOCH:59]\t Classifier Train Accuracy:1.0000\n",
      "Classifier Valid Accuracy:0.7982\n",
      "Classifier Test Accuracy:0.8481\n",
      "----\n"
     ]
    },
    {
     "name": "stderr",
     "output_type": "stream",
     "text": [
      "C:\\Users\\USER\\AppData\\Local\\Temp/ipykernel_18804/1192674566.py:23: UserWarning: To copy construct from a tensor, it is recommended to use sourceTensor.clone().detach() or sourceTensor.clone().detach().requires_grad_(True), rather than torch.tensor(sourceTensor).\n",
      "  y = torch.tensor(y,dtype=torch.int64)\n"
     ]
    },
    {
     "name": "stdout",
     "output_type": "stream",
     "text": [
      "\n",
      "[EPOCH:60]\t Train Loss:0.0255\n",
      "\n",
      "[EPOCH:60]\t Classifier Train Accuracy:1.0000\n",
      "Classifier Valid Accuracy:0.8161\n",
      "Classifier Test Accuracy:0.8481\n",
      "----\n"
     ]
    },
    {
     "name": "stderr",
     "output_type": "stream",
     "text": [
      "C:\\Users\\USER\\AppData\\Local\\Temp/ipykernel_18804/1192674566.py:23: UserWarning: To copy construct from a tensor, it is recommended to use sourceTensor.clone().detach() or sourceTensor.clone().detach().requires_grad_(True), rather than torch.tensor(sourceTensor).\n",
      "  y = torch.tensor(y,dtype=torch.int64)\n"
     ]
    },
    {
     "name": "stdout",
     "output_type": "stream",
     "text": [
      "\n",
      "[EPOCH:61]\t Train Loss:0.0359\n",
      "\n",
      "[EPOCH:61]\t Classifier Train Accuracy:1.0000\n",
      "Classifier Valid Accuracy:0.7803\n",
      "Classifier Test Accuracy:0.8523\n",
      "----\n"
     ]
    },
    {
     "name": "stderr",
     "output_type": "stream",
     "text": [
      "C:\\Users\\USER\\AppData\\Local\\Temp/ipykernel_18804/1192674566.py:23: UserWarning: To copy construct from a tensor, it is recommended to use sourceTensor.clone().detach() or sourceTensor.clone().detach().requires_grad_(True), rather than torch.tensor(sourceTensor).\n",
      "  y = torch.tensor(y,dtype=torch.int64)\n"
     ]
    },
    {
     "name": "stdout",
     "output_type": "stream",
     "text": [
      "\n",
      "[EPOCH:62]\t Train Loss:0.0306\n",
      "\n",
      "[EPOCH:62]\t Classifier Train Accuracy:1.0000\n",
      "Classifier Valid Accuracy:0.7982\n",
      "Classifier Test Accuracy:0.8270\n",
      "----\n"
     ]
    },
    {
     "name": "stderr",
     "output_type": "stream",
     "text": [
      "C:\\Users\\USER\\AppData\\Local\\Temp/ipykernel_18804/1192674566.py:23: UserWarning: To copy construct from a tensor, it is recommended to use sourceTensor.clone().detach() or sourceTensor.clone().detach().requires_grad_(True), rather than torch.tensor(sourceTensor).\n",
      "  y = torch.tensor(y,dtype=torch.int64)\n"
     ]
    },
    {
     "name": "stdout",
     "output_type": "stream",
     "text": [
      "\n",
      "[EPOCH:63]\t Train Loss:0.0236\n",
      "\n",
      "[EPOCH:63]\t Classifier Train Accuracy:1.0000\n",
      "Classifier Valid Accuracy:0.7848\n",
      "Classifier Test Accuracy:0.8186\n",
      "----\n"
     ]
    },
    {
     "name": "stderr",
     "output_type": "stream",
     "text": [
      "C:\\Users\\USER\\AppData\\Local\\Temp/ipykernel_18804/1192674566.py:23: UserWarning: To copy construct from a tensor, it is recommended to use sourceTensor.clone().detach() or sourceTensor.clone().detach().requires_grad_(True), rather than torch.tensor(sourceTensor).\n",
      "  y = torch.tensor(y,dtype=torch.int64)\n"
     ]
    },
    {
     "name": "stdout",
     "output_type": "stream",
     "text": [
      "\n",
      "[EPOCH:64]\t Train Loss:0.0204\n",
      "\n",
      "[EPOCH:64]\t Classifier Train Accuracy:1.0000\n",
      "Classifier Valid Accuracy:0.8251\n",
      "Classifier Test Accuracy:0.8270\n",
      "----\n"
     ]
    },
    {
     "name": "stderr",
     "output_type": "stream",
     "text": [
      "C:\\Users\\USER\\AppData\\Local\\Temp/ipykernel_18804/1192674566.py:23: UserWarning: To copy construct from a tensor, it is recommended to use sourceTensor.clone().detach() or sourceTensor.clone().detach().requires_grad_(True), rather than torch.tensor(sourceTensor).\n",
      "  y = torch.tensor(y,dtype=torch.int64)\n"
     ]
    },
    {
     "name": "stdout",
     "output_type": "stream",
     "text": [
      "\n",
      "[EPOCH:65]\t Train Loss:0.0194\n",
      "\n",
      "[EPOCH:65]\t Classifier Train Accuracy:1.0000\n",
      "Classifier Valid Accuracy:0.8520\n",
      "Classifier Test Accuracy:0.8565\n",
      "----\n"
     ]
    },
    {
     "name": "stderr",
     "output_type": "stream",
     "text": [
      "C:\\Users\\USER\\AppData\\Local\\Temp/ipykernel_18804/1192674566.py:23: UserWarning: To copy construct from a tensor, it is recommended to use sourceTensor.clone().detach() or sourceTensor.clone().detach().requires_grad_(True), rather than torch.tensor(sourceTensor).\n",
      "  y = torch.tensor(y,dtype=torch.int64)\n"
     ]
    },
    {
     "name": "stdout",
     "output_type": "stream",
     "text": [
      "\n",
      "[EPOCH:66]\t Train Loss:0.0228\n",
      "\n",
      "[EPOCH:66]\t Classifier Train Accuracy:1.0000\n",
      "Classifier Valid Accuracy:0.8430\n",
      "Classifier Test Accuracy:0.8608\n",
      "----\n"
     ]
    },
    {
     "name": "stderr",
     "output_type": "stream",
     "text": [
      "C:\\Users\\USER\\AppData\\Local\\Temp/ipykernel_18804/1192674566.py:23: UserWarning: To copy construct from a tensor, it is recommended to use sourceTensor.clone().detach() or sourceTensor.clone().detach().requires_grad_(True), rather than torch.tensor(sourceTensor).\n",
      "  y = torch.tensor(y,dtype=torch.int64)\n"
     ]
    },
    {
     "name": "stdout",
     "output_type": "stream",
     "text": [
      "\n",
      "[EPOCH:67]\t Train Loss:0.0175\n",
      "\n",
      "[EPOCH:67]\t Classifier Train Accuracy:1.0000\n",
      "Classifier Valid Accuracy:0.8386\n",
      "Classifier Test Accuracy:0.8439\n",
      "----\n"
     ]
    },
    {
     "name": "stderr",
     "output_type": "stream",
     "text": [
      "C:\\Users\\USER\\AppData\\Local\\Temp/ipykernel_18804/1192674566.py:23: UserWarning: To copy construct from a tensor, it is recommended to use sourceTensor.clone().detach() or sourceTensor.clone().detach().requires_grad_(True), rather than torch.tensor(sourceTensor).\n",
      "  y = torch.tensor(y,dtype=torch.int64)\n"
     ]
    },
    {
     "name": "stdout",
     "output_type": "stream",
     "text": [
      "\n",
      "[EPOCH:68]\t Train Loss:0.0219\n",
      "\n",
      "[EPOCH:68]\t Classifier Train Accuracy:1.0000\n",
      "Classifier Valid Accuracy:0.8072\n",
      "Classifier Test Accuracy:0.8354\n",
      "----\n"
     ]
    },
    {
     "name": "stderr",
     "output_type": "stream",
     "text": [
      "C:\\Users\\USER\\AppData\\Local\\Temp/ipykernel_18804/1192674566.py:23: UserWarning: To copy construct from a tensor, it is recommended to use sourceTensor.clone().detach() or sourceTensor.clone().detach().requires_grad_(True), rather than torch.tensor(sourceTensor).\n",
      "  y = torch.tensor(y,dtype=torch.int64)\n"
     ]
    },
    {
     "name": "stdout",
     "output_type": "stream",
     "text": [
      "\n",
      "[EPOCH:69]\t Train Loss:0.0225\n",
      "\n",
      "[EPOCH:69]\t Classifier Train Accuracy:1.0000\n",
      "Classifier Valid Accuracy:0.8475\n",
      "Classifier Test Accuracy:0.8354\n",
      "----\n"
     ]
    },
    {
     "name": "stderr",
     "output_type": "stream",
     "text": [
      "C:\\Users\\USER\\AppData\\Local\\Temp/ipykernel_18804/1192674566.py:23: UserWarning: To copy construct from a tensor, it is recommended to use sourceTensor.clone().detach() or sourceTensor.clone().detach().requires_grad_(True), rather than torch.tensor(sourceTensor).\n",
      "  y = torch.tensor(y,dtype=torch.int64)\n"
     ]
    },
    {
     "name": "stdout",
     "output_type": "stream",
     "text": [
      "\n",
      "[EPOCH:70]\t Train Loss:0.0229\n",
      "\n",
      "[EPOCH:70]\t Classifier Train Accuracy:1.0000\n",
      "Classifier Valid Accuracy:0.8072\n",
      "Classifier Test Accuracy:0.8734\n",
      "----\n"
     ]
    },
    {
     "name": "stderr",
     "output_type": "stream",
     "text": [
      "C:\\Users\\USER\\AppData\\Local\\Temp/ipykernel_18804/1192674566.py:23: UserWarning: To copy construct from a tensor, it is recommended to use sourceTensor.clone().detach() or sourceTensor.clone().detach().requires_grad_(True), rather than torch.tensor(sourceTensor).\n",
      "  y = torch.tensor(y,dtype=torch.int64)\n"
     ]
    },
    {
     "name": "stdout",
     "output_type": "stream",
     "text": [
      "\n",
      "[EPOCH:71]\t Train Loss:0.0229\n",
      "\n",
      "[EPOCH:71]\t Classifier Train Accuracy:1.0000\n",
      "Classifier Valid Accuracy:0.7982\n",
      "Classifier Test Accuracy:0.8397\n",
      "----\n"
     ]
    },
    {
     "name": "stderr",
     "output_type": "stream",
     "text": [
      "C:\\Users\\USER\\AppData\\Local\\Temp/ipykernel_18804/1192674566.py:23: UserWarning: To copy construct from a tensor, it is recommended to use sourceTensor.clone().detach() or sourceTensor.clone().detach().requires_grad_(True), rather than torch.tensor(sourceTensor).\n",
      "  y = torch.tensor(y,dtype=torch.int64)\n"
     ]
    },
    {
     "name": "stdout",
     "output_type": "stream",
     "text": [
      "\n",
      "[EPOCH:72]\t Train Loss:0.0195\n",
      "\n",
      "[EPOCH:72]\t Classifier Train Accuracy:1.0000\n",
      "Classifier Valid Accuracy:0.8520\n",
      "Classifier Test Accuracy:0.8354\n",
      "----\n"
     ]
    },
    {
     "name": "stderr",
     "output_type": "stream",
     "text": [
      "C:\\Users\\USER\\AppData\\Local\\Temp/ipykernel_18804/1192674566.py:23: UserWarning: To copy construct from a tensor, it is recommended to use sourceTensor.clone().detach() or sourceTensor.clone().detach().requires_grad_(True), rather than torch.tensor(sourceTensor).\n",
      "  y = torch.tensor(y,dtype=torch.int64)\n"
     ]
    },
    {
     "name": "stdout",
     "output_type": "stream",
     "text": [
      "\n",
      "[EPOCH:73]\t Train Loss:0.0174\n",
      "\n",
      "[EPOCH:73]\t Classifier Train Accuracy:1.0000\n",
      "Classifier Valid Accuracy:0.7848\n",
      "Classifier Test Accuracy:0.8439\n",
      "----\n"
     ]
    },
    {
     "name": "stderr",
     "output_type": "stream",
     "text": [
      "C:\\Users\\USER\\AppData\\Local\\Temp/ipykernel_18804/1192674566.py:23: UserWarning: To copy construct from a tensor, it is recommended to use sourceTensor.clone().detach() or sourceTensor.clone().detach().requires_grad_(True), rather than torch.tensor(sourceTensor).\n",
      "  y = torch.tensor(y,dtype=torch.int64)\n"
     ]
    },
    {
     "name": "stdout",
     "output_type": "stream",
     "text": [
      "\n",
      "[EPOCH:74]\t Train Loss:0.0196\n",
      "\n",
      "[EPOCH:74]\t Classifier Train Accuracy:1.0000\n",
      "Classifier Valid Accuracy:0.7803\n",
      "Classifier Test Accuracy:0.8397\n",
      "----\n"
     ]
    },
    {
     "name": "stderr",
     "output_type": "stream",
     "text": [
      "C:\\Users\\USER\\AppData\\Local\\Temp/ipykernel_18804/1192674566.py:23: UserWarning: To copy construct from a tensor, it is recommended to use sourceTensor.clone().detach() or sourceTensor.clone().detach().requires_grad_(True), rather than torch.tensor(sourceTensor).\n",
      "  y = torch.tensor(y,dtype=torch.int64)\n"
     ]
    },
    {
     "name": "stdout",
     "output_type": "stream",
     "text": [
      "\n",
      "[EPOCH:75]\t Train Loss:0.0192\n",
      "\n",
      "[EPOCH:75]\t Classifier Train Accuracy:1.0000\n",
      "Classifier Valid Accuracy:0.8206\n",
      "Classifier Test Accuracy:0.8354\n",
      "----\n"
     ]
    },
    {
     "name": "stderr",
     "output_type": "stream",
     "text": [
      "C:\\Users\\USER\\AppData\\Local\\Temp/ipykernel_18804/1192674566.py:23: UserWarning: To copy construct from a tensor, it is recommended to use sourceTensor.clone().detach() or sourceTensor.clone().detach().requires_grad_(True), rather than torch.tensor(sourceTensor).\n",
      "  y = torch.tensor(y,dtype=torch.int64)\n"
     ]
    },
    {
     "name": "stdout",
     "output_type": "stream",
     "text": [
      "\n",
      "[EPOCH:76]\t Train Loss:0.0205\n",
      "\n",
      "[EPOCH:76]\t Classifier Train Accuracy:1.0000\n",
      "Classifier Valid Accuracy:0.8027\n",
      "Classifier Test Accuracy:0.8270\n",
      "----\n"
     ]
    },
    {
     "name": "stderr",
     "output_type": "stream",
     "text": [
      "C:\\Users\\USER\\AppData\\Local\\Temp/ipykernel_18804/1192674566.py:23: UserWarning: To copy construct from a tensor, it is recommended to use sourceTensor.clone().detach() or sourceTensor.clone().detach().requires_grad_(True), rather than torch.tensor(sourceTensor).\n",
      "  y = torch.tensor(y,dtype=torch.int64)\n"
     ]
    },
    {
     "name": "stdout",
     "output_type": "stream",
     "text": [
      "\n",
      "[EPOCH:77]\t Train Loss:0.0191\n",
      "\n",
      "[EPOCH:77]\t Classifier Train Accuracy:1.0000\n",
      "Classifier Valid Accuracy:0.8251\n",
      "Classifier Test Accuracy:0.8397\n",
      "----\n"
     ]
    },
    {
     "name": "stderr",
     "output_type": "stream",
     "text": [
      "C:\\Users\\USER\\AppData\\Local\\Temp/ipykernel_18804/1192674566.py:23: UserWarning: To copy construct from a tensor, it is recommended to use sourceTensor.clone().detach() or sourceTensor.clone().detach().requires_grad_(True), rather than torch.tensor(sourceTensor).\n",
      "  y = torch.tensor(y,dtype=torch.int64)\n"
     ]
    },
    {
     "name": "stdout",
     "output_type": "stream",
     "text": [
      "\n",
      "[EPOCH:78]\t Train Loss:0.0177\n",
      "\n",
      "[EPOCH:78]\t Classifier Train Accuracy:1.0000\n",
      "Classifier Valid Accuracy:0.8430\n",
      "Classifier Test Accuracy:0.8608\n",
      "----\n"
     ]
    },
    {
     "name": "stderr",
     "output_type": "stream",
     "text": [
      "C:\\Users\\USER\\AppData\\Local\\Temp/ipykernel_18804/1192674566.py:23: UserWarning: To copy construct from a tensor, it is recommended to use sourceTensor.clone().detach() or sourceTensor.clone().detach().requires_grad_(True), rather than torch.tensor(sourceTensor).\n",
      "  y = torch.tensor(y,dtype=torch.int64)\n"
     ]
    },
    {
     "name": "stdout",
     "output_type": "stream",
     "text": [
      "\n",
      "[EPOCH:79]\t Train Loss:0.0219\n",
      "\n",
      "[EPOCH:79]\t Classifier Train Accuracy:1.0000\n",
      "Classifier Valid Accuracy:0.8296\n",
      "Classifier Test Accuracy:0.8523\n",
      "----\n"
     ]
    },
    {
     "name": "stderr",
     "output_type": "stream",
     "text": [
      "C:\\Users\\USER\\AppData\\Local\\Temp/ipykernel_18804/1192674566.py:23: UserWarning: To copy construct from a tensor, it is recommended to use sourceTensor.clone().detach() or sourceTensor.clone().detach().requires_grad_(True), rather than torch.tensor(sourceTensor).\n",
      "  y = torch.tensor(y,dtype=torch.int64)\n"
     ]
    },
    {
     "name": "stdout",
     "output_type": "stream",
     "text": [
      "\n",
      "[EPOCH:80]\t Train Loss:0.0226\n",
      "\n",
      "[EPOCH:80]\t Classifier Train Accuracy:1.0000\n",
      "Classifier Valid Accuracy:0.8520\n",
      "Classifier Test Accuracy:0.8354\n",
      "----\n"
     ]
    },
    {
     "name": "stderr",
     "output_type": "stream",
     "text": [
      "C:\\Users\\USER\\AppData\\Local\\Temp/ipykernel_18804/1192674566.py:23: UserWarning: To copy construct from a tensor, it is recommended to use sourceTensor.clone().detach() or sourceTensor.clone().detach().requires_grad_(True), rather than torch.tensor(sourceTensor).\n",
      "  y = torch.tensor(y,dtype=torch.int64)\n"
     ]
    },
    {
     "name": "stdout",
     "output_type": "stream",
     "text": [
      "\n",
      "[EPOCH:81]\t Train Loss:0.0205\n",
      "\n",
      "[EPOCH:81]\t Classifier Train Accuracy:1.0000\n",
      "Classifier Valid Accuracy:0.8565\n",
      "Classifier Test Accuracy:0.8228\n",
      "----\n"
     ]
    },
    {
     "name": "stderr",
     "output_type": "stream",
     "text": [
      "C:\\Users\\USER\\AppData\\Local\\Temp/ipykernel_18804/1192674566.py:23: UserWarning: To copy construct from a tensor, it is recommended to use sourceTensor.clone().detach() or sourceTensor.clone().detach().requires_grad_(True), rather than torch.tensor(sourceTensor).\n",
      "  y = torch.tensor(y,dtype=torch.int64)\n"
     ]
    },
    {
     "name": "stdout",
     "output_type": "stream",
     "text": [
      "\n",
      "[EPOCH:82]\t Train Loss:0.0193\n",
      "\n",
      "[EPOCH:82]\t Classifier Train Accuracy:1.0000\n",
      "Classifier Valid Accuracy:0.8565\n",
      "Classifier Test Accuracy:0.8270\n",
      "----\n"
     ]
    },
    {
     "name": "stderr",
     "output_type": "stream",
     "text": [
      "C:\\Users\\USER\\AppData\\Local\\Temp/ipykernel_18804/1192674566.py:23: UserWarning: To copy construct from a tensor, it is recommended to use sourceTensor.clone().detach() or sourceTensor.clone().detach().requires_grad_(True), rather than torch.tensor(sourceTensor).\n",
      "  y = torch.tensor(y,dtype=torch.int64)\n"
     ]
    },
    {
     "name": "stdout",
     "output_type": "stream",
     "text": [
      "\n",
      "[EPOCH:83]\t Train Loss:0.0191\n",
      "\n",
      "[EPOCH:83]\t Classifier Train Accuracy:1.0000\n",
      "Classifier Valid Accuracy:0.8655\n",
      "Classifier Test Accuracy:0.8608\n",
      "----\n"
     ]
    },
    {
     "name": "stderr",
     "output_type": "stream",
     "text": [
      "C:\\Users\\USER\\AppData\\Local\\Temp/ipykernel_18804/1192674566.py:23: UserWarning: To copy construct from a tensor, it is recommended to use sourceTensor.clone().detach() or sourceTensor.clone().detach().requires_grad_(True), rather than torch.tensor(sourceTensor).\n",
      "  y = torch.tensor(y,dtype=torch.int64)\n"
     ]
    },
    {
     "name": "stdout",
     "output_type": "stream",
     "text": [
      "\n",
      "[EPOCH:84]\t Train Loss:0.0202\n",
      "\n",
      "[EPOCH:84]\t Classifier Train Accuracy:1.0000\n",
      "Classifier Valid Accuracy:0.8520\n",
      "Classifier Test Accuracy:0.8439\n",
      "----\n"
     ]
    },
    {
     "name": "stderr",
     "output_type": "stream",
     "text": [
      "C:\\Users\\USER\\AppData\\Local\\Temp/ipykernel_18804/1192674566.py:23: UserWarning: To copy construct from a tensor, it is recommended to use sourceTensor.clone().detach() or sourceTensor.clone().detach().requires_grad_(True), rather than torch.tensor(sourceTensor).\n",
      "  y = torch.tensor(y,dtype=torch.int64)\n"
     ]
    },
    {
     "name": "stdout",
     "output_type": "stream",
     "text": [
      "\n",
      "[EPOCH:85]\t Train Loss:0.0178\n",
      "\n",
      "[EPOCH:85]\t Classifier Train Accuracy:1.0000\n",
      "Classifier Valid Accuracy:0.8430\n",
      "Classifier Test Accuracy:0.8397\n",
      "----\n"
     ]
    },
    {
     "name": "stderr",
     "output_type": "stream",
     "text": [
      "C:\\Users\\USER\\AppData\\Local\\Temp/ipykernel_18804/1192674566.py:23: UserWarning: To copy construct from a tensor, it is recommended to use sourceTensor.clone().detach() or sourceTensor.clone().detach().requires_grad_(True), rather than torch.tensor(sourceTensor).\n",
      "  y = torch.tensor(y,dtype=torch.int64)\n"
     ]
    },
    {
     "name": "stdout",
     "output_type": "stream",
     "text": [
      "\n",
      "[EPOCH:86]\t Train Loss:0.0241\n",
      "\n",
      "[EPOCH:86]\t Classifier Train Accuracy:1.0000\n",
      "Classifier Valid Accuracy:0.8655\n",
      "Classifier Test Accuracy:0.8017\n",
      "----\n"
     ]
    },
    {
     "name": "stderr",
     "output_type": "stream",
     "text": [
      "C:\\Users\\USER\\AppData\\Local\\Temp/ipykernel_18804/1192674566.py:23: UserWarning: To copy construct from a tensor, it is recommended to use sourceTensor.clone().detach() or sourceTensor.clone().detach().requires_grad_(True), rather than torch.tensor(sourceTensor).\n",
      "  y = torch.tensor(y,dtype=torch.int64)\n"
     ]
    },
    {
     "name": "stdout",
     "output_type": "stream",
     "text": [
      "\n",
      "[EPOCH:87]\t Train Loss:0.0193\n",
      "\n",
      "[EPOCH:87]\t Classifier Train Accuracy:1.0000\n",
      "Classifier Valid Accuracy:0.8296\n",
      "Classifier Test Accuracy:0.8439\n",
      "----\n"
     ]
    },
    {
     "name": "stderr",
     "output_type": "stream",
     "text": [
      "C:\\Users\\USER\\AppData\\Local\\Temp/ipykernel_18804/1192674566.py:23: UserWarning: To copy construct from a tensor, it is recommended to use sourceTensor.clone().detach() or sourceTensor.clone().detach().requires_grad_(True), rather than torch.tensor(sourceTensor).\n",
      "  y = torch.tensor(y,dtype=torch.int64)\n"
     ]
    },
    {
     "name": "stdout",
     "output_type": "stream",
     "text": [
      "\n",
      "[EPOCH:88]\t Train Loss:0.0198\n",
      "\n",
      "[EPOCH:88]\t Classifier Train Accuracy:1.0000\n",
      "Classifier Valid Accuracy:0.8117\n",
      "Classifier Test Accuracy:0.8354\n",
      "----\n"
     ]
    },
    {
     "name": "stderr",
     "output_type": "stream",
     "text": [
      "C:\\Users\\USER\\AppData\\Local\\Temp/ipykernel_18804/1192674566.py:23: UserWarning: To copy construct from a tensor, it is recommended to use sourceTensor.clone().detach() or sourceTensor.clone().detach().requires_grad_(True), rather than torch.tensor(sourceTensor).\n",
      "  y = torch.tensor(y,dtype=torch.int64)\n"
     ]
    },
    {
     "name": "stdout",
     "output_type": "stream",
     "text": [
      "\n",
      "[EPOCH:89]\t Train Loss:0.0195\n",
      "\n",
      "[EPOCH:89]\t Classifier Train Accuracy:1.0000\n",
      "Classifier Valid Accuracy:0.8610\n",
      "Classifier Test Accuracy:0.8650\n",
      "----\n"
     ]
    },
    {
     "name": "stderr",
     "output_type": "stream",
     "text": [
      "C:\\Users\\USER\\AppData\\Local\\Temp/ipykernel_18804/1192674566.py:23: UserWarning: To copy construct from a tensor, it is recommended to use sourceTensor.clone().detach() or sourceTensor.clone().detach().requires_grad_(True), rather than torch.tensor(sourceTensor).\n",
      "  y = torch.tensor(y,dtype=torch.int64)\n"
     ]
    },
    {
     "name": "stdout",
     "output_type": "stream",
     "text": [
      "\n",
      "[EPOCH:90]\t Train Loss:0.0178\n",
      "\n",
      "[EPOCH:90]\t Classifier Train Accuracy:1.0000\n",
      "Classifier Valid Accuracy:0.7982\n",
      "Classifier Test Accuracy:0.8101\n",
      "----\n"
     ]
    },
    {
     "name": "stderr",
     "output_type": "stream",
     "text": [
      "C:\\Users\\USER\\AppData\\Local\\Temp/ipykernel_18804/1192674566.py:23: UserWarning: To copy construct from a tensor, it is recommended to use sourceTensor.clone().detach() or sourceTensor.clone().detach().requires_grad_(True), rather than torch.tensor(sourceTensor).\n",
      "  y = torch.tensor(y,dtype=torch.int64)\n"
     ]
    },
    {
     "name": "stdout",
     "output_type": "stream",
     "text": [
      "\n",
      "[EPOCH:91]\t Train Loss:0.0200\n",
      "\n",
      "[EPOCH:91]\t Classifier Train Accuracy:1.0000\n",
      "Classifier Valid Accuracy:0.8610\n",
      "Classifier Test Accuracy:0.8650\n",
      "----\n"
     ]
    },
    {
     "name": "stderr",
     "output_type": "stream",
     "text": [
      "C:\\Users\\USER\\AppData\\Local\\Temp/ipykernel_18804/1192674566.py:23: UserWarning: To copy construct from a tensor, it is recommended to use sourceTensor.clone().detach() or sourceTensor.clone().detach().requires_grad_(True), rather than torch.tensor(sourceTensor).\n",
      "  y = torch.tensor(y,dtype=torch.int64)\n"
     ]
    },
    {
     "name": "stdout",
     "output_type": "stream",
     "text": [
      "\n",
      "[EPOCH:92]\t Train Loss:0.0177\n",
      "\n",
      "[EPOCH:92]\t Classifier Train Accuracy:1.0000\n",
      "Classifier Valid Accuracy:0.8655\n",
      "Classifier Test Accuracy:0.8692\n",
      "----\n"
     ]
    },
    {
     "name": "stderr",
     "output_type": "stream",
     "text": [
      "C:\\Users\\USER\\AppData\\Local\\Temp/ipykernel_18804/1192674566.py:23: UserWarning: To copy construct from a tensor, it is recommended to use sourceTensor.clone().detach() or sourceTensor.clone().detach().requires_grad_(True), rather than torch.tensor(sourceTensor).\n",
      "  y = torch.tensor(y,dtype=torch.int64)\n"
     ]
    },
    {
     "name": "stdout",
     "output_type": "stream",
     "text": [
      "\n",
      "[EPOCH:93]\t Train Loss:0.0189\n",
      "\n",
      "[EPOCH:93]\t Classifier Train Accuracy:1.0000\n",
      "Classifier Valid Accuracy:0.7848\n",
      "Classifier Test Accuracy:0.8523\n",
      "----\n"
     ]
    },
    {
     "name": "stderr",
     "output_type": "stream",
     "text": [
      "C:\\Users\\USER\\AppData\\Local\\Temp/ipykernel_18804/1192674566.py:23: UserWarning: To copy construct from a tensor, it is recommended to use sourceTensor.clone().detach() or sourceTensor.clone().detach().requires_grad_(True), rather than torch.tensor(sourceTensor).\n",
      "  y = torch.tensor(y,dtype=torch.int64)\n"
     ]
    },
    {
     "name": "stdout",
     "output_type": "stream",
     "text": [
      "\n",
      "[EPOCH:94]\t Train Loss:0.0227\n",
      "\n",
      "[EPOCH:94]\t Classifier Train Accuracy:1.0000\n",
      "Classifier Valid Accuracy:0.8565\n",
      "Classifier Test Accuracy:0.8650\n",
      "----\n"
     ]
    },
    {
     "name": "stderr",
     "output_type": "stream",
     "text": [
      "C:\\Users\\USER\\AppData\\Local\\Temp/ipykernel_18804/1192674566.py:23: UserWarning: To copy construct from a tensor, it is recommended to use sourceTensor.clone().detach() or sourceTensor.clone().detach().requires_grad_(True), rather than torch.tensor(sourceTensor).\n",
      "  y = torch.tensor(y,dtype=torch.int64)\n"
     ]
    },
    {
     "name": "stdout",
     "output_type": "stream",
     "text": [
      "\n",
      "[EPOCH:95]\t Train Loss:0.0209\n",
      "\n",
      "[EPOCH:95]\t Classifier Train Accuracy:1.0000\n",
      "Classifier Valid Accuracy:0.8206\n",
      "Classifier Test Accuracy:0.8017\n",
      "----\n"
     ]
    },
    {
     "name": "stderr",
     "output_type": "stream",
     "text": [
      "C:\\Users\\USER\\AppData\\Local\\Temp/ipykernel_18804/1192674566.py:23: UserWarning: To copy construct from a tensor, it is recommended to use sourceTensor.clone().detach() or sourceTensor.clone().detach().requires_grad_(True), rather than torch.tensor(sourceTensor).\n",
      "  y = torch.tensor(y,dtype=torch.int64)\n"
     ]
    },
    {
     "name": "stdout",
     "output_type": "stream",
     "text": [
      "\n",
      "[EPOCH:96]\t Train Loss:0.0189\n",
      "\n",
      "[EPOCH:96]\t Classifier Train Accuracy:1.0000\n",
      "Classifier Valid Accuracy:0.8072\n",
      "Classifier Test Accuracy:0.8354\n",
      "----\n"
     ]
    },
    {
     "name": "stderr",
     "output_type": "stream",
     "text": [
      "C:\\Users\\USER\\AppData\\Local\\Temp/ipykernel_18804/1192674566.py:23: UserWarning: To copy construct from a tensor, it is recommended to use sourceTensor.clone().detach() or sourceTensor.clone().detach().requires_grad_(True), rather than torch.tensor(sourceTensor).\n",
      "  y = torch.tensor(y,dtype=torch.int64)\n"
     ]
    },
    {
     "name": "stdout",
     "output_type": "stream",
     "text": [
      "\n",
      "[EPOCH:97]\t Train Loss:0.0186\n",
      "\n",
      "[EPOCH:97]\t Classifier Train Accuracy:1.0000\n",
      "Classifier Valid Accuracy:0.8206\n",
      "Classifier Test Accuracy:0.8397\n",
      "----\n"
     ]
    },
    {
     "name": "stderr",
     "output_type": "stream",
     "text": [
      "C:\\Users\\USER\\AppData\\Local\\Temp/ipykernel_18804/1192674566.py:23: UserWarning: To copy construct from a tensor, it is recommended to use sourceTensor.clone().detach() or sourceTensor.clone().detach().requires_grad_(True), rather than torch.tensor(sourceTensor).\n",
      "  y = torch.tensor(y,dtype=torch.int64)\n"
     ]
    },
    {
     "name": "stdout",
     "output_type": "stream",
     "text": [
      "\n",
      "[EPOCH:98]\t Train Loss:0.0206\n",
      "\n",
      "[EPOCH:98]\t Classifier Train Accuracy:1.0000\n",
      "Classifier Valid Accuracy:0.8565\n",
      "Classifier Test Accuracy:0.8312\n",
      "----\n"
     ]
    },
    {
     "name": "stderr",
     "output_type": "stream",
     "text": [
      "C:\\Users\\USER\\AppData\\Local\\Temp/ipykernel_18804/1192674566.py:23: UserWarning: To copy construct from a tensor, it is recommended to use sourceTensor.clone().detach() or sourceTensor.clone().detach().requires_grad_(True), rather than torch.tensor(sourceTensor).\n",
      "  y = torch.tensor(y,dtype=torch.int64)\n"
     ]
    },
    {
     "name": "stdout",
     "output_type": "stream",
     "text": [
      "\n",
      "[EPOCH:99]\t Train Loss:0.0229\n",
      "\n",
      "[EPOCH:99]\t Classifier Train Accuracy:1.0000\n",
      "Classifier Valid Accuracy:0.8610\n",
      "Classifier Test Accuracy:0.8776\n",
      "----\n"
     ]
    },
    {
     "name": "stderr",
     "output_type": "stream",
     "text": [
      "C:\\Users\\USER\\AppData\\Local\\Temp/ipykernel_18804/1192674566.py:23: UserWarning: To copy construct from a tensor, it is recommended to use sourceTensor.clone().detach() or sourceTensor.clone().detach().requires_grad_(True), rather than torch.tensor(sourceTensor).\n",
      "  y = torch.tensor(y,dtype=torch.int64)\n"
     ]
    },
    {
     "name": "stdout",
     "output_type": "stream",
     "text": [
      "\n",
      "[EPOCH:100]\t Train Loss:0.0209\n",
      "\n",
      "[EPOCH:100]\t Classifier Train Accuracy:1.0000\n",
      "Classifier Valid Accuracy:0.8296\n",
      "Classifier Test Accuracy:0.8354\n",
      "----\n"
     ]
    }
   ],
   "source": [
    "from sklearn.metrics import recall_score,precision_score\n",
    "\n",
    "##### 10. 학습 및 평가.\n",
    "# resnet34 pretrained true\n",
    "# kfold 적용\n",
    "\n",
    "### \n",
    "# train 과정\n",
    "train_result_list = []\n",
    "train_label_list = []\n",
    "train_path_list = []\n",
    "###\n",
    "\n",
    "\n",
    "###\n",
    "# valid 과정\n",
    "valid_result_list = []\n",
    "valid_label_list = []\n",
    "valid_path_list = []\n",
    "valid_probs_list = []\n",
    "##\n",
    "\n",
    "\n",
    "\n",
    "\n",
    "\n",
    "\n",
    "train_accs = []\n",
    "valid_accs = []\n",
    "EPOCHS = 100\n",
    "\n",
    "best_valid_acc_list = []\n",
    "best_test_acc_list = []\n",
    "for data_ind in range(1,2): \n",
    "\n",
    "    check_path = './checkpoint/checkpoint_triplet_ros_'+str(data_ind)+'_organics_speaker.pt'\n",
    "    print(check_path)\n",
    "    early_stopping = EarlyStopping(patience = 5, verbose = True, path=check_path)\n",
    "    train_loader,validation_loader = load_data(data_ind-1)\n",
    "\n",
    "    best_train_acc=0 # accuracy 기록용\n",
    "    best_valid_acc=0\n",
    "    best_test_acc=0\n",
    "    \n",
    "    model=model_initialize(emb_dim)\n",
    "    #criterion = TripletMarginLoss_self(margin=1.0, p=2)#OnlineTripleLoss(margin=1.0,sampling_strategy='random_sh')\n",
    "    #criterion = OnlineTripleLoss(margin=1.0,margin2=1.0,sampling_strategy='fixed_sh')\n",
    "    criterion = ArcMarginProduct().cuda()\n",
    "    criterion2 = nn.CrossEntropyLoss()\n",
    "    optimizer = torch.optim.Adam(model.parameters(),lr=lr,weight_decay=weight_decay)    \n",
    "    #criterion = nn.CrossEntropyLoss()\n",
    "    #optimizer = torch.optim.Adam(model.parameters(),lr=lr,weight_decay=weight_decay)\n",
    "    #scheduler = torch.optim.lr_scheduler.LambdaLR(optimizer, lr_lambda = lambda epoch: 0.95 ** epoch)\n",
    "    #scheduler = torch.optim.lr_scheduler.OneCycleLR(optimizer,\n",
    "    #                                               max_lr=0.0001,\n",
    "    #                                               steps_per_epoch=len(train_loader),\n",
    "    #                                               epochs=20,\n",
    "    #                                               anneal_strategy='linear')\n",
    "    \n",
    "    #per_class_mean = [torch.zeros(emb_dim).cuda(),torch.zeros(emb_dim).cuda()]\n",
    "    print(\"[{} 교차검증] 학습 시작\\n ----- \".format(data_ind))\n",
    "    for Epoch in range(1,EPOCHS+1):\n",
    "        #train_loss,per_class_mean=train(model,train_loader,optimizer,per_class_mean,epoch=Epoch,embed_size=emb_dim,log_interval=31)\n",
    "        \n",
    "        #train_loss=train(model, train_loader, optimizer,criterion,log_interval=31)\n",
    "        train_loss=train(model, train_loader, optimizer,criterion,criterion2,log_interval=31)\n",
    "        \n",
    "        #valid_loss,valid_accuracy = evaluate(model, validation_loader)\n",
    "\n",
    "        print(\"\\n[EPOCH:{}]\\t Train Loss:{:.4f}\".format(Epoch,train_loss))\n",
    "\n",
    "        #임베딩 기록\n",
    "        if Epoch % 1 ==0:\n",
    "            train_result = []\n",
    "            train_labels = []\n",
    "            train_paths = []\n",
    "            model.eval()\n",
    "            with torch.no_grad():\n",
    "                #print(\"Update train result\")\n",
    "                for img,label,paths in train_loader:\n",
    "                    img,_=model(img.to(DEVICE),tsne=False )\n",
    "                    train_result.append(img.cpu().numpy())\n",
    "                    #train_result.append(model(img.to(DEVICE),tsne=False ).cpu().numpy())\n",
    "                    train_labels.append(label)\n",
    "                    train_paths.append(paths)\n",
    "                \n",
    "                train_result = np.concatenate(train_result)\n",
    "                train_labels = np.concatenate(train_labels)\n",
    "                train_paths = np.concatenate(train_paths)\n",
    "                \n",
    "                \n",
    "                # train classifier\n",
    "                tree = XGBClassifier(seed=random_state,use_label_encoder=False,eval_metric='logloss')\n",
    "                tree.fit(train_result, train_labels)\n",
    "                pred_probs = tree.predict_proba(train_result)[:,1]\n",
    "                preds = [ 1 if x > 0.5 else 0 for x in pred_probs]\n",
    "                accuracy = accuracy_score(train_labels, preds)\n",
    "                print(\"\\n[EPOCH:{}]\\t Classifier Train Accuracy:{:.4f}\".format(Epoch,accuracy))\n",
    "\n",
    "\n",
    "                train_result_list.append(train_result)\n",
    "                train_label_list.append(train_labels)\n",
    "                train_path_list.append(train_paths)\n",
    "\n",
    "            valid_result = []\n",
    "            valid_labels = []\n",
    "            valid_paths = []\n",
    "            with torch.no_grad():\n",
    "                #print(\"Update valid result\")\n",
    "                for img,label,paths in validation_loader:\n",
    "                    img,_=model(img.to(DEVICE),tsne=False)\n",
    "                    valid_result.append(img.cpu().numpy())\n",
    "                    valid_labels.append(label)\n",
    "                    valid_paths+=paths\n",
    "\n",
    "            valid_result = np.concatenate(valid_result)\n",
    "            valid_labels = np.concatenate(valid_labels)\n",
    "            \n",
    "\n",
    "            # trained classifier inference\n",
    "            # train classifier\n",
    "            pred_probs = tree.predict_proba(valid_result)[:,1]\n",
    "            preds = [ 1 if x > 0.5 else 0 for x in pred_probs]\n",
    "            valid_accuracy = accuracy_score(valid_labels, preds)\n",
    "            valid_recall =  recall_score(valid_labels, preds,pos_label=1)\n",
    "            valid_specificity =  recall_score(valid_labels, preds,pos_label=0)\n",
    "            valid_precision =  precision_score(valid_labels, preds,pos_label=0)\n",
    "            \n",
    "            best_valid_acc = valid_accuracy if valid_accuracy >= best_valid_acc else best_valid_acc\n",
    "            print(\"Classifier Valid Accuracy:{:.4f}\".format(valid_accuracy))\n",
    "\n",
    "            valid_result_list.append(valid_result)\n",
    "            valid_label_list.append(valid_labels)   \n",
    "            valid_path_list.append(valid_paths)\n",
    "            valid_probs_list.append(pred_probs)\n",
    "\n",
    "            test_result = []\n",
    "            test_labels = []\n",
    "\n",
    "            # classifier testset inference\n",
    "\n",
    "            with torch.no_grad():\n",
    "                for img,label,paths in test_loader:\n",
    "                    img,_=model(img.to(DEVICE),tsne=False)\n",
    "                    test_result.append(img.cpu().numpy())\n",
    "                    #test_result.append(model(img.to(DEVICE),tsne=False).cpu().numpy())\n",
    "                    test_labels.append(label)\n",
    "            test_result = np.concatenate(test_result)\n",
    "            test_labels = np.concatenate(test_labels)\n",
    "\n",
    "            pred_probs = tree.predict(test_result)\n",
    "            preds = [ 1 if x > 0.5 else 0 for x in pred_probs]\n",
    "            test_accuracy = accuracy_score(test_labels, preds)\n",
    "\n",
    "            #해당 valid가 최대일 때 accuracy 기록\n",
    "            best_test_acc = test_accuracy if valid_accuracy >= best_valid_acc else best_test_acc\n",
    "            print(\"Classifier Test Accuracy:{:.4f}\".format(test_accuracy))\n",
    "            print(\"----\")\n",
    "            wandb.log({\n",
    "                \"train {}fold loss\".format(data_ind) : train_loss,\n",
    "                \"valid {}fold Accuracy\".format(data_ind) : valid_accuracy,\n",
    "                \"valid {}fold sensitivity\".format(data_ind) : valid_recall,\n",
    "                \"valid {}fold specificity\".format(data_ind) : valid_specificity,\n",
    "                \"valid {}fold precision\".format(data_ind) : valid_precision,\n",
    "                \"test {}fold Accuracy\".format(data_ind) : test_accuracy},\n",
    "                commit=True,\n",
    "                step=Epoch)\n",
    "        wandb.run.summary.update({\"best_valid_{}fold_acc\".format(data_ind) : best_valid_acc,\n",
    "                                \"best_test_{}fold_acc\".format(data_ind) : best_test_acc,})\n",
    "        best_test_acc_list.append(best_test_acc)\n",
    "        best_valid_acc_list.append(best_valid_acc)\n",
    "wandb.run.summary.update({\"best_vaild_fold_mean_acc\" : np.mean(best_valid_acc).item(),\"best_test_fold_mean_acc\" : np.mean(best_test_acc).item(),})\n",
    "\n",
    "\n",
    "\n"
   ]
  },
  {
   "cell_type": "code",
   "execution_count": 34,
   "id": "8e156806",
   "metadata": {},
   "outputs": [],
   "source": [
    "torch.save({\"model_state_dict\": model.state_dict(),\n",
    "            \"optimzier_state_dict\": optimizer.state_dict()\n",
    "           }, check_path)"
   ]
  },
  {
   "cell_type": "code",
   "execution_count": 33,
   "id": "49a28e1e",
   "metadata": {},
   "outputs": [
    {
     "data": {
      "text/html": [
       "<div>\n",
       "<style scoped>\n",
       "    .dataframe tbody tr th:only-of-type {\n",
       "        vertical-align: middle;\n",
       "    }\n",
       "\n",
       "    .dataframe tbody tr th {\n",
       "        vertical-align: top;\n",
       "    }\n",
       "\n",
       "    .dataframe thead th {\n",
       "        text-align: right;\n",
       "    }\n",
       "</style>\n",
       "<table border=\"1\" class=\"dataframe\">\n",
       "  <thead>\n",
       "    <tr style=\"text-align: right;\">\n",
       "      <th></th>\n",
       "      <th>RECORDING</th>\n",
       "      <th>PATHOLOGY</th>\n",
       "      <th>DATE</th>\n",
       "      <th>SPEAKER</th>\n",
       "      <th>GENDER</th>\n",
       "      <th>AGE</th>\n",
       "      <th>DETAIL</th>\n",
       "      <th>DIAG</th>\n",
       "    </tr>\n",
       "  </thead>\n",
       "  <tbody>\n",
       "    <tr>\n",
       "      <th>50</th>\n",
       "      <td>1554</td>\n",
       "      <td>p</td>\n",
       "      <td>08/12/1999</td>\n",
       "      <td>1498</td>\n",
       "      <td>m</td>\n",
       "      <td>50</td>\n",
       "      <td>Laryngitis</td>\n",
       "      <td>structural</td>\n",
       "    </tr>\n",
       "    <tr>\n",
       "      <th>66</th>\n",
       "      <td>1046</td>\n",
       "      <td>p</td>\n",
       "      <td>11/11/1998</td>\n",
       "      <td>1542</td>\n",
       "      <td>w</td>\n",
       "      <td>47</td>\n",
       "      <td>Laryngitis; Reinke ?em</td>\n",
       "      <td>structural</td>\n",
       "    </tr>\n",
       "    <tr>\n",
       "      <th>250</th>\n",
       "      <td>2078</td>\n",
       "      <td>p</td>\n",
       "      <td>01/08/2001</td>\n",
       "      <td>1970</td>\n",
       "      <td>m</td>\n",
       "      <td>32</td>\n",
       "      <td>Rekurrensparese</td>\n",
       "      <td>neurogenic</td>\n",
       "    </tr>\n",
       "    <tr>\n",
       "      <th>271</th>\n",
       "      <td>1770</td>\n",
       "      <td>p</td>\n",
       "      <td>02/08/2000</td>\n",
       "      <td>2027</td>\n",
       "      <td>w</td>\n",
       "      <td>36</td>\n",
       "      <td>Spasmodische Dysphonie</td>\n",
       "      <td>neurogenic</td>\n",
       "    </tr>\n",
       "    <tr>\n",
       "      <th>280</th>\n",
       "      <td>1869</td>\n",
       "      <td>p</td>\n",
       "      <td>06/12/2000</td>\n",
       "      <td>2027</td>\n",
       "      <td>w</td>\n",
       "      <td>36</td>\n",
       "      <td>Spasmodische Dysphonie</td>\n",
       "      <td>neurogenic</td>\n",
       "    </tr>\n",
       "    <tr>\n",
       "      <th>281</th>\n",
       "      <td>1902</td>\n",
       "      <td>p</td>\n",
       "      <td>20/12/2000</td>\n",
       "      <td>2027</td>\n",
       "      <td>w</td>\n",
       "      <td>36</td>\n",
       "      <td>Spasmodische Dysphonie</td>\n",
       "      <td>neurogenic</td>\n",
       "    </tr>\n",
       "    <tr>\n",
       "      <th>323</th>\n",
       "      <td>1889</td>\n",
       "      <td>p</td>\n",
       "      <td>13/12/2000</td>\n",
       "      <td>2114</td>\n",
       "      <td>w</td>\n",
       "      <td>49</td>\n",
       "      <td>Reinke ?em</td>\n",
       "      <td>structural</td>\n",
       "    </tr>\n",
       "    <tr>\n",
       "      <th>417</th>\n",
       "      <td>2543</td>\n",
       "      <td>p</td>\n",
       "      <td>03/12/2003</td>\n",
       "      <td>2381</td>\n",
       "      <td>m</td>\n",
       "      <td>69</td>\n",
       "      <td>Kontaktpachydermie</td>\n",
       "      <td>structural</td>\n",
       "    </tr>\n",
       "    <tr>\n",
       "      <th>481</th>\n",
       "      <td>2508</td>\n",
       "      <td>p</td>\n",
       "      <td>29/10/2003</td>\n",
       "      <td>2642</td>\n",
       "      <td>m</td>\n",
       "      <td>48</td>\n",
       "      <td>Rekurrensparese</td>\n",
       "      <td>neurogenic</td>\n",
       "    </tr>\n",
       "    <tr>\n",
       "      <th>548</th>\n",
       "      <td>141</td>\n",
       "      <td>p</td>\n",
       "      <td>04.02.1998</td>\n",
       "      <td>1320</td>\n",
       "      <td>m</td>\n",
       "      <td>41</td>\n",
       "      <td>Laryngitis</td>\n",
       "      <td>structural</td>\n",
       "    </tr>\n",
       "    <tr>\n",
       "      <th>686</th>\n",
       "      <td>681</td>\n",
       "      <td>n</td>\n",
       "      <td>14/05/1998</td>\n",
       "      <td>609</td>\n",
       "      <td>m</td>\n",
       "      <td>21</td>\n",
       "      <td>control</td>\n",
       "      <td>control</td>\n",
       "    </tr>\n",
       "    <tr>\n",
       "      <th>817</th>\n",
       "      <td>974</td>\n",
       "      <td>n</td>\n",
       "      <td>27/10/1998</td>\n",
       "      <td>778</td>\n",
       "      <td>m</td>\n",
       "      <td>41</td>\n",
       "      <td>control</td>\n",
       "      <td>control</td>\n",
       "    </tr>\n",
       "    <tr>\n",
       "      <th>912</th>\n",
       "      <td>1095</td>\n",
       "      <td>n</td>\n",
       "      <td>26.11.1998</td>\n",
       "      <td>864</td>\n",
       "      <td>w</td>\n",
       "      <td>21</td>\n",
       "      <td>control</td>\n",
       "      <td>control</td>\n",
       "    </tr>\n",
       "    <tr>\n",
       "      <th>933</th>\n",
       "      <td>1124</td>\n",
       "      <td>n</td>\n",
       "      <td>03.12.1998</td>\n",
       "      <td>885</td>\n",
       "      <td>w</td>\n",
       "      <td>24</td>\n",
       "      <td>control</td>\n",
       "      <td>control</td>\n",
       "    </tr>\n",
       "    <tr>\n",
       "      <th>1049</th>\n",
       "      <td>1513</td>\n",
       "      <td>n</td>\n",
       "      <td>25.11.1999</td>\n",
       "      <td>996</td>\n",
       "      <td>w</td>\n",
       "      <td>20</td>\n",
       "      <td>control</td>\n",
       "      <td>control</td>\n",
       "    </tr>\n",
       "    <tr>\n",
       "      <th>1095</th>\n",
       "      <td>63</td>\n",
       "      <td>n</td>\n",
       "      <td>09/01/1998</td>\n",
       "      <td>63</td>\n",
       "      <td>m</td>\n",
       "      <td>44</td>\n",
       "      <td>control</td>\n",
       "      <td>control</td>\n",
       "    </tr>\n",
       "    <tr>\n",
       "      <th>1104</th>\n",
       "      <td>1704</td>\n",
       "      <td>n</td>\n",
       "      <td>25.05.2000</td>\n",
       "      <td>1045</td>\n",
       "      <td>m</td>\n",
       "      <td>28</td>\n",
       "      <td>control</td>\n",
       "      <td>control</td>\n",
       "    </tr>\n",
       "    <tr>\n",
       "      <th>1110</th>\n",
       "      <td>1710</td>\n",
       "      <td>n</td>\n",
       "      <td>25.05.2000</td>\n",
       "      <td>1051</td>\n",
       "      <td>w</td>\n",
       "      <td>50</td>\n",
       "      <td>control</td>\n",
       "      <td>control</td>\n",
       "    </tr>\n",
       "    <tr>\n",
       "      <th>1112</th>\n",
       "      <td>1724</td>\n",
       "      <td>n</td>\n",
       "      <td>08.06.2000</td>\n",
       "      <td>1053</td>\n",
       "      <td>m</td>\n",
       "      <td>22</td>\n",
       "      <td>control</td>\n",
       "      <td>control</td>\n",
       "    </tr>\n",
       "    <tr>\n",
       "      <th>1156</th>\n",
       "      <td>1874</td>\n",
       "      <td>n</td>\n",
       "      <td>07.12.2000</td>\n",
       "      <td>1099</td>\n",
       "      <td>w</td>\n",
       "      <td>20</td>\n",
       "      <td>control</td>\n",
       "      <td>control</td>\n",
       "    </tr>\n",
       "  </tbody>\n",
       "</table>\n",
       "</div>"
      ],
      "text/plain": [
       "      RECORDING PATHOLOGY        DATE  SPEAKER GENDER  AGE  \\\n",
       "50         1554         p  08/12/1999     1498      m   50   \n",
       "66         1046         p  11/11/1998     1542      w   47   \n",
       "250        2078         p  01/08/2001     1970      m   32   \n",
       "271        1770         p  02/08/2000     2027      w   36   \n",
       "280        1869         p  06/12/2000     2027      w   36   \n",
       "281        1902         p  20/12/2000     2027      w   36   \n",
       "323        1889         p  13/12/2000     2114      w   49   \n",
       "417        2543         p  03/12/2003     2381      m   69   \n",
       "481        2508         p  29/10/2003     2642      m   48   \n",
       "548         141         p  04.02.1998     1320      m   41   \n",
       "686         681         n  14/05/1998      609      m   21   \n",
       "817         974         n  27/10/1998      778      m   41   \n",
       "912        1095         n  26.11.1998      864      w   21   \n",
       "933        1124         n  03.12.1998      885      w   24   \n",
       "1049       1513         n  25.11.1999      996      w   20   \n",
       "1095         63         n  09/01/1998       63      m   44   \n",
       "1104       1704         n  25.05.2000     1045      m   28   \n",
       "1110       1710         n  25.05.2000     1051      w   50   \n",
       "1112       1724         n  08.06.2000     1053      m   22   \n",
       "1156       1874         n  07.12.2000     1099      w   20   \n",
       "\n",
       "                      DETAIL        DIAG  \n",
       "50                Laryngitis  structural  \n",
       "66    Laryngitis; Reinke ?em  structural  \n",
       "250          Rekurrensparese  neurogenic  \n",
       "271   Spasmodische Dysphonie  neurogenic  \n",
       "280   Spasmodische Dysphonie  neurogenic  \n",
       "281   Spasmodische Dysphonie  neurogenic  \n",
       "323               Reinke ?em  structural  \n",
       "417       Kontaktpachydermie  structural  \n",
       "481          Rekurrensparese  neurogenic  \n",
       "548               Laryngitis  structural  \n",
       "686                  control     control  \n",
       "817                  control     control  \n",
       "912                  control     control  \n",
       "933                  control     control  \n",
       "1049                 control     control  \n",
       "1095                 control     control  \n",
       "1104                 control     control  \n",
       "1110                 control     control  \n",
       "1112                 control     control  \n",
       "1156                 control     control  "
      ]
     },
     "execution_count": 33,
     "metadata": {},
     "output_type": "execute_result"
    }
   ],
   "source": [
    "finding = [141,1710,1095,1874,1902,1869,1124,1513,1046,681,63,2543,2508,1889,974,1554,1724,1704,2078,1770,1046,2018,2036]\n",
    "\n",
    "speaker_data[speaker_data['RECORDING'].isin(finding)].dropna()"
   ]
  },
  {
   "cell_type": "code",
   "execution_count": 97,
   "id": "25f37bcd",
   "metadata": {},
   "outputs": [
    {
     "data": {
      "text/html": [
       "<div>\n",
       "<style scoped>\n",
       "    .dataframe tbody tr th:only-of-type {\n",
       "        vertical-align: middle;\n",
       "    }\n",
       "\n",
       "    .dataframe tbody tr th {\n",
       "        vertical-align: top;\n",
       "    }\n",
       "\n",
       "    .dataframe thead th {\n",
       "        text-align: right;\n",
       "    }\n",
       "</style>\n",
       "<table border=\"1\" class=\"dataframe\">\n",
       "  <thead>\n",
       "    <tr style=\"text-align: right;\">\n",
       "      <th></th>\n",
       "      <th>RECORDING</th>\n",
       "      <th>PATHOLOGY</th>\n",
       "      <th>DATE</th>\n",
       "      <th>SPEAKER</th>\n",
       "      <th>GENDER</th>\n",
       "      <th>AGE</th>\n",
       "      <th>DETAIL</th>\n",
       "      <th>DIAG</th>\n",
       "    </tr>\n",
       "  </thead>\n",
       "  <tbody>\n",
       "    <tr>\n",
       "      <th>293</th>\n",
       "      <td>1764</td>\n",
       "      <td>p</td>\n",
       "      <td>02/08/2000</td>\n",
       "      <td>2028</td>\n",
       "      <td>m</td>\n",
       "      <td>78</td>\n",
       "      <td>Stimmlippenpolyp</td>\n",
       "      <td>structural</td>\n",
       "    </tr>\n",
       "    <tr>\n",
       "      <th>325</th>\n",
       "      <td>1897</td>\n",
       "      <td>p</td>\n",
       "      <td>20/12/2000</td>\n",
       "      <td>2120</td>\n",
       "      <td>m</td>\n",
       "      <td>31</td>\n",
       "      <td>Kontaktpachydermie</td>\n",
       "      <td>structural</td>\n",
       "    </tr>\n",
       "  </tbody>\n",
       "</table>\n",
       "</div>"
      ],
      "text/plain": [
       "     RECORDING PATHOLOGY        DATE  SPEAKER GENDER  AGE              DETAIL  \\\n",
       "293       1764         p  02/08/2000     2028      m   78    Stimmlippenpolyp   \n",
       "325       1897         p  20/12/2000     2120      m   31  Kontaktpachydermie   \n",
       "\n",
       "           DIAG  \n",
       "293  structural  \n",
       "325  structural  "
      ]
     },
     "execution_count": 97,
     "metadata": {},
     "output_type": "execute_result"
    }
   ],
   "source": [
    "finding = [1897,1764]\n",
    "\n",
    "speaker_data[speaker_data['RECORDING'].isin(finding)].dropna()"
   ]
  },
  {
   "cell_type": "code",
   "execution_count": 86,
   "id": "dbcf3553",
   "metadata": {},
   "outputs": [
    {
     "data": {
      "text/plain": [
       "[array([[ 0.02996214, -1.031379  ,  0.04841205, ..., -0.23311678,\n",
       "          0.24160165,  0.16326797],\n",
       "        [ 0.0248943 , -0.15371975, -0.58267164, ..., -0.56185955,\n",
       "         -0.18137003,  0.00129143],\n",
       "        [-0.07281598,  0.20064333, -0.312462  , ..., -0.67568433,\n",
       "         -0.03535487,  0.43187094],\n",
       "        ...,\n",
       "        [ 0.24742414,  0.04343051, -0.57657397, ..., -0.51986104,\n",
       "          0.23540917,  0.38268003],\n",
       "        [-0.02299418, -0.583405  , -0.12050752, ..., -0.7321911 ,\n",
       "          0.41143927,  0.35522097],\n",
       "        [ 0.04472928, -0.6470325 , -0.43769893, ..., -0.54374427,\n",
       "          0.06884243,  0.47800833]], dtype=float32),\n",
       " array([[-0.02261806, -0.20530683,  0.11701193, ..., -0.51018214,\n",
       "         -0.00262822,  0.05926467],\n",
       "        [-0.09159686, -0.31828362, -0.18200907, ..., -0.53731644,\n",
       "         -0.14365888,  0.0723443 ],\n",
       "        [ 0.03418404,  0.07614492,  0.01676703, ..., -0.35980028,\n",
       "         -0.10086934,  0.8387858 ],\n",
       "        ...,\n",
       "        [-0.3361567 , -0.46512204, -0.6453118 , ..., -0.82432365,\n",
       "          0.08004317,  0.5724007 ],\n",
       "        [-0.042089  ,  0.17179164,  0.34298372, ..., -0.1683073 ,\n",
       "         -0.15799795,  0.7259363 ],\n",
       "        [-0.12360468, -0.5809682 , -0.7726733 , ..., -0.9185082 ,\n",
       "          0.04248825,  0.33483082]], dtype=float32),\n",
       " array([[-0.18318443, -0.24483328, -0.28105798, ..., -0.74975437,\n",
       "         -0.31354603,  0.2694743 ],\n",
       "        [-0.16706005, -0.04618494,  0.26281312, ..., -0.46627247,\n",
       "          0.28816846,  0.7598532 ],\n",
       "        [-0.28369278, -0.8539483 , -0.395682  , ..., -0.78286374,\n",
       "         -0.14487198,  0.47376508],\n",
       "        ...,\n",
       "        [ 0.08604088, -0.05254465,  0.40346614, ...,  0.01831853,\n",
       "          0.01122525,  0.5890496 ],\n",
       "        [ 0.118157  , -0.08490913,  0.16247901, ..., -0.39422563,\n",
       "          0.12064167,  0.7559016 ],\n",
       "        [-0.4004321 , -0.40759194, -0.6410498 , ..., -0.84704995,\n",
       "         -0.15541294,  0.4884944 ]], dtype=float32),\n",
       " array([[-0.3542411 , -0.50450957, -0.53673434, ..., -0.5777759 ,\n",
       "         -0.06701608,  0.48000085],\n",
       "        [ 0.03010938, -0.41159403, -0.1833179 , ..., -0.597878  ,\n",
       "         -0.04015138,  0.30868095],\n",
       "        [ 0.17146549,  0.1469999 ,  0.16607423, ..., -0.2677935 ,\n",
       "         -0.09233198,  0.8341476 ],\n",
       "        ...,\n",
       "        [-0.04415801, -0.5080367 , -0.50436085, ..., -0.60346866,\n",
       "          0.18086597,  0.59201866],\n",
       "        [-0.3516291 , -0.5126153 , -0.61727077, ..., -0.73756313,\n",
       "         -0.01878849,  0.5812408 ],\n",
       "        [ 0.15625381, -0.7392892 , -0.05950326, ..., -0.17061937,\n",
       "         -0.02330331,  0.37218672]], dtype=float32),\n",
       " array([[-0.04314135, -0.06963761,  0.40255645, ..., -0.14617151,\n",
       "         -0.05171662,  0.46344742],\n",
       "        [-0.0869686 , -0.34991336, -0.4300753 , ..., -0.64171505,\n",
       "          0.02761258,  0.44720563],\n",
       "        [ 0.12970078, -0.44494265, -0.6318142 , ..., -0.84379697,\n",
       "          0.31428847,  0.42128062],\n",
       "        ...,\n",
       "        [-0.16838475, -0.3152468 , -0.44347644, ..., -0.7820337 ,\n",
       "          0.1080143 ,  0.3687054 ],\n",
       "        [ 0.07627174, -0.22745585,  0.0106951 , ..., -0.16849804,\n",
       "         -0.174907  ,  0.36115643],\n",
       "        [-0.22585227, -0.26248148, -0.20993489, ..., -0.7179266 ,\n",
       "         -0.10648706,  0.21381044]], dtype=float32),\n",
       " array([[ 0.11845151, -0.05344661,  0.42653766, ..., -0.20506997,\n",
       "          0.10747302,  0.76225096],\n",
       "        [-0.38432384, -0.29153335, -0.41062525, ..., -0.75160635,\n",
       "         -0.09575011,  0.39287782],\n",
       "        [-0.5060621 , -0.3988711 , -0.5409856 , ..., -0.7456247 ,\n",
       "         -0.09134652,  0.6126771 ],\n",
       "        ...,\n",
       "        [-0.11794898, -0.16466698,  0.1073466 , ..., -0.20651542,\n",
       "          0.06509639,  0.42353708],\n",
       "        [-0.32323262, -0.24046153, -0.46837166, ..., -0.7847173 ,\n",
       "         -0.03889468,  0.429415  ],\n",
       "        [-0.20645571, -0.33347616, -0.02207712, ..., -0.44506592,\n",
       "         -0.05462821,  0.47921586]], dtype=float32),\n",
       " array([[ 0.06453775, -0.13116659,  0.20628801, ..., -0.1650277 ,\n",
       "         -0.13459033,  0.35721716],\n",
       "        [-0.07900411, -0.13120778,  0.08376417, ..., -0.44968832,\n",
       "          0.04309989,  0.6019693 ],\n",
       "        [ 0.04009804,  0.01129619,  0.2571293 , ..., -0.36028045,\n",
       "          0.10786027,  0.53799856],\n",
       "        ...,\n",
       "        [-0.16855639,  0.03911848, -0.2227917 , ..., -0.4337008 ,\n",
       "         -0.08457188,  0.25896946],\n",
       "        [-0.00252187, -0.20322531,  0.18459687, ..., -0.4086262 ,\n",
       "          0.15317807,  0.521827  ],\n",
       "        [-0.1362255 , -0.17458472,  0.04430568, ..., -0.54642904,\n",
       "          0.05426339,  0.52962387]], dtype=float32),\n",
       " array([[-0.10457908, -0.290649  , -0.4437191 , ..., -0.65150464,\n",
       "          0.00521526,  0.4662246 ],\n",
       "        [-0.156674  , -0.29109877, -0.32100743, ..., -0.6434507 ,\n",
       "          0.10678448,  0.3961559 ],\n",
       "        [ 0.03443787, -0.05921198,  0.12449373, ..., -0.599909  ,\n",
       "          0.12916133,  0.6131338 ],\n",
       "        ...,\n",
       "        [-0.042311  , -0.18713053,  0.25464123, ..., -0.19884786,\n",
       "          0.07088773,  0.41740486],\n",
       "        [ 0.0237696 , -0.12943198,  0.2531631 , ..., -0.1238735 ,\n",
       "          0.01552407,  0.44624203],\n",
       "        [-0.01252595, -0.1914754 ,  0.12777488, ..., -0.36862874,\n",
       "         -0.04331477,  0.41209006]], dtype=float32),\n",
       " array([[ 0.0313087 , -0.27702323, -0.49514943, ..., -0.6647851 ,\n",
       "         -0.01630193,  0.29836965],\n",
       "        [-0.00941947, -0.2568572 , -0.54567367, ..., -0.68178934,\n",
       "         -0.01762016,  0.41245967],\n",
       "        [ 0.11112984, -0.23362103, -0.48309672, ..., -0.67452097,\n",
       "         -0.03713931,  0.2856386 ],\n",
       "        ...,\n",
       "        [-0.01556756, -0.13809577,  0.30083087, ..., -0.32536125,\n",
       "          0.01544748,  0.4348343 ],\n",
       "        [-0.07766756, -0.12038726, -0.19033742, ..., -0.48280987,\n",
       "         -0.09933902,  0.26175788],\n",
       "        [-0.16157284, -0.2569816 ,  0.17438246, ..., -0.07424908,\n",
       "         -0.04000042,  0.30207133]], dtype=float32),\n",
       " array([[-0.03606422, -0.21131814,  0.2457577 , ..., -0.27471012,\n",
       "          0.00300633,  0.29615808],\n",
       "        [-0.03918089, -0.13384624, -0.1812945 , ..., -0.4376616 ,\n",
       "         -0.06569407,  0.21270046],\n",
       "        [-0.10875008, -0.31526768,  0.17286596, ..., -0.34152755,\n",
       "          0.09520429,  0.25724408],\n",
       "        ...,\n",
       "        [-0.03377617, -0.31742758,  0.18409498, ..., -0.4333862 ,\n",
       "          0.07798965,  0.2824717 ],\n",
       "        [-0.00804754, -0.20821151,  0.3341421 , ..., -0.23384772,\n",
       "          0.04527654,  0.35186303],\n",
       "        [-0.06493057, -0.26832616,  0.02486906, ..., -0.5293646 ,\n",
       "         -0.03486012,  0.38164422]], dtype=float32)]"
      ]
     },
     "execution_count": 86,
     "metadata": {},
     "output_type": "execute_result"
    }
   ],
   "source": [
    "train_result_list"
   ]
  },
  {
   "cell_type": "code",
   "execution_count": 37,
   "id": "d6a51f3c",
   "metadata": {},
   "outputs": [
    {
     "name": "stderr",
     "output_type": "stream",
     "text": [
      "d:\\anaconda3\\envs\\local_torch\\lib\\site-packages\\sklearn\\manifold\\_t_sne.py:780: FutureWarning: The default initialization in TSNE will change from 'random' to 'pca' in 1.2.\n",
      "  warnings.warn(\n",
      "d:\\anaconda3\\envs\\local_torch\\lib\\site-packages\\sklearn\\manifold\\_t_sne.py:790: FutureWarning: The default learning rate in TSNE will change from 200.0 to 'auto' in 1.2.\n",
      "  warnings.warn(\n"
     ]
    },
    {
     "data": {
      "image/png": "[encoded data removed]",
      "text/plain": [
       "<Figure size 1080x720 with 1 Axes>"
      ]
     },
     "metadata": {},
     "output_type": "display_data"
    }
   ],
   "source": [
    "# trainset\n",
    "\n",
    "from sklearn.manifold import TSNE\n",
    "from sklearn.datasets import load_digits\n",
    "\n",
    "which_epoch = 99\n",
    "\n",
    "\n",
    "# MNIST 데이터 불러오기\n",
    "#data = load_digits()\n",
    "\n",
    "# 2차원으로 차원 축소\n",
    "n_components = 2\n",
    "\n",
    "# t-sne 모델 생성\n",
    "tsne = TSNE(n_components=n_components)\n",
    "\n",
    "# 학습한 결과 2차원 공간 값 출력\n",
    "#print(tsne.fit_transform(train_results))\n",
    "train_results_view=tsne.fit_transform(train_result_list[which_epoch])\n",
    "\n",
    "\n",
    "plt.figure(figsize=(15, 10), facecolor=\"azure\")\n",
    "for label in np.unique(train_label_list[which_epoch]):\n",
    "\n",
    "    tmp = train_results_view[train_label_list[which_epoch]==label]\n",
    "    path_name = np.array(train_path_list[which_epoch])[train_label_list[which_epoch]==label].tolist()\n",
    "    plt.scatter(tmp[:, 0], tmp[:, 1],label=label)\n",
    "    for idx,text in enumerate(path_name):\n",
    "        if idx % 3 ==0:\n",
    "            plt.text(tmp[idx][0], tmp[idx][1],text)\n",
    "\n",
    "plt.legend(['healthy','pathology'])\n",
    "plt.show()\n"
   ]
  },
  {
   "cell_type": "code",
   "execution_count": 58,
   "id": "dc2396eb",
   "metadata": {},
   "outputs": [
    {
     "data": {
      "text/plain": [
       "[['healthy',\n",
       "  'healthy',\n",
       "  'pathology',\n",
       "  'pathology',\n",
       "  'pathology',\n",
       "  'pathology',\n",
       "  'pathology',\n",
       "  'pathology',\n",
       "  'pathology',\n",
       "  'healthy',\n",
       "  'pathology',\n",
       "  'healthy',\n",
       "  'healthy',\n",
       "  'healthy',\n",
       "  'healthy',\n",
       "  'healthy',\n",
       "  'healthy',\n",
       "  'pathology',\n",
       "  'healthy',\n",
       "  'healthy',\n",
       "  'pathology',\n",
       "  'healthy',\n",
       "  'pathology',\n",
       "  'pathology',\n",
       "  'pathology',\n",
       "  'pathology',\n",
       "  'healthy',\n",
       "  'healthy',\n",
       "  'pathology',\n",
       "  'healthy',\n",
       "  'pathology',\n",
       "  'healthy',\n",
       "  'pathology',\n",
       "  'pathology',\n",
       "  'pathology',\n",
       "  'pathology',\n",
       "  'pathology',\n",
       "  'pathology',\n",
       "  'pathology',\n",
       "  'pathology',\n",
       "  'pathology',\n",
       "  'pathology',\n",
       "  'pathology',\n",
       "  'healthy',\n",
       "  'pathology',\n",
       "  'pathology',\n",
       "  'healthy',\n",
       "  'healthy',\n",
       "  'pathology',\n",
       "  'pathology',\n",
       "  'pathology',\n",
       "  'healthy',\n",
       "  'pathology',\n",
       "  'pathology',\n",
       "  'healthy',\n",
       "  'healthy',\n",
       "  'healthy',\n",
       "  'pathology',\n",
       "  'healthy',\n",
       "  'healthy',\n",
       "  'pathology',\n",
       "  'pathology',\n",
       "  'healthy',\n",
       "  'pathology',\n",
       "  'pathology',\n",
       "  'pathology',\n",
       "  'pathology',\n",
       "  'healthy',\n",
       "  'healthy',\n",
       "  'pathology',\n",
       "  'healthy',\n",
       "  'pathology',\n",
       "  'healthy',\n",
       "  'healthy',\n",
       "  'pathology',\n",
       "  'pathology',\n",
       "  'pathology',\n",
       "  'pathology',\n",
       "  'healthy',\n",
       "  'healthy',\n",
       "  'pathology',\n",
       "  'pathology',\n",
       "  'pathology',\n",
       "  'pathology',\n",
       "  'pathology',\n",
       "  'healthy',\n",
       "  'healthy',\n",
       "  'healthy',\n",
       "  'pathology',\n",
       "  'healthy',\n",
       "  'pathology',\n",
       "  'healthy',\n",
       "  'healthy',\n",
       "  'pathology',\n",
       "  'pathology',\n",
       "  'pathology',\n",
       "  'pathology',\n",
       "  'pathology',\n",
       "  'pathology',\n",
       "  'pathology',\n",
       "  'pathology',\n",
       "  'pathology',\n",
       "  'pathology',\n",
       "  'pathology',\n",
       "  'pathology',\n",
       "  'pathology',\n",
       "  'pathology',\n",
       "  'pathology',\n",
       "  'pathology',\n",
       "  'pathology',\n",
       "  'pathology',\n",
       "  'pathology',\n",
       "  'pathology',\n",
       "  'pathology',\n",
       "  'pathology',\n",
       "  'pathology',\n",
       "  'pathology',\n",
       "  'pathology',\n",
       "  'pathology',\n",
       "  'healthy',\n",
       "  'healthy',\n",
       "  'pathology',\n",
       "  'healthy',\n",
       "  'healthy',\n",
       "  'pathology',\n",
       "  'healthy',\n",
       "  'pathology',\n",
       "  'pathology',\n",
       "  'healthy',\n",
       "  'pathology',\n",
       "  'healthy',\n",
       "  'healthy',\n",
       "  'healthy',\n",
       "  'pathology',\n",
       "  'pathology',\n",
       "  'pathology',\n",
       "  'healthy',\n",
       "  'healthy',\n",
       "  'healthy',\n",
       "  'healthy',\n",
       "  'healthy',\n",
       "  'healthy',\n",
       "  'healthy',\n",
       "  'pathology',\n",
       "  'healthy',\n",
       "  'healthy',\n",
       "  'healthy',\n",
       "  'healthy',\n",
       "  'pathology',\n",
       "  'pathology',\n",
       "  'healthy',\n",
       "  'healthy',\n",
       "  'healthy',\n",
       "  'healthy',\n",
       "  'healthy',\n",
       "  'healthy',\n",
       "  'pathology',\n",
       "  'pathology',\n",
       "  'healthy',\n",
       "  'healthy',\n",
       "  'pathology',\n",
       "  'healthy',\n",
       "  'healthy',\n",
       "  'healthy',\n",
       "  'healthy',\n",
       "  'healthy',\n",
       "  'pathology',\n",
       "  'healthy',\n",
       "  'healthy',\n",
       "  'pathology',\n",
       "  'healthy',\n",
       "  'healthy',\n",
       "  'healthy',\n",
       "  'pathology',\n",
       "  'healthy',\n",
       "  'healthy',\n",
       "  'pathology',\n",
       "  'pathology',\n",
       "  'pathology',\n",
       "  'healthy',\n",
       "  'healthy',\n",
       "  'healthy',\n",
       "  'pathology',\n",
       "  'pathology',\n",
       "  'pathology',\n",
       "  'pathology',\n",
       "  'pathology',\n",
       "  'healthy',\n",
       "  'pathology',\n",
       "  'pathology',\n",
       "  'pathology',\n",
       "  'pathology',\n",
       "  'pathology',\n",
       "  'healthy',\n",
       "  'healthy',\n",
       "  'healthy',\n",
       "  'healthy',\n",
       "  'healthy',\n",
       "  'healthy',\n",
       "  'healthy',\n",
       "  'healthy',\n",
       "  'healthy',\n",
       "  'healthy',\n",
       "  'healthy',\n",
       "  'healthy',\n",
       "  'healthy',\n",
       "  'pathology',\n",
       "  'pathology',\n",
       "  'pathology',\n",
       "  'pathology',\n",
       "  'pathology',\n",
       "  'healthy',\n",
       "  'pathology',\n",
       "  'healthy',\n",
       "  'pathology',\n",
       "  'pathology',\n",
       "  'healthy',\n",
       "  'healthy',\n",
       "  'healthy',\n",
       "  'healthy',\n",
       "  'pathology',\n",
       "  'pathology',\n",
       "  'pathology'],\n",
       " ['pathology',\n",
       "  'pathology',\n",
       "  'pathology',\n",
       "  'pathology',\n",
       "  'pathology',\n",
       "  'pathology',\n",
       "  'healthy',\n",
       "  'healthy',\n",
       "  'healthy',\n",
       "  'healthy',\n",
       "  'healthy',\n",
       "  'healthy',\n",
       "  'healthy',\n",
       "  'pathology',\n",
       "  'pathology',\n",
       "  'healthy',\n",
       "  'healthy',\n",
       "  'healthy',\n",
       "  'pathology',\n",
       "  'pathology',\n",
       "  'pathology',\n",
       "  'healthy',\n",
       "  'healthy',\n",
       "  'healthy',\n",
       "  'pathology',\n",
       "  'pathology',\n",
       "  'healthy',\n",
       "  'healthy',\n",
       "  'healthy',\n",
       "  'pathology',\n",
       "  'pathology',\n",
       "  'healthy',\n",
       "  'healthy',\n",
       "  'pathology',\n",
       "  'healthy',\n",
       "  'healthy',\n",
       "  'healthy',\n",
       "  'healthy',\n",
       "  'healthy',\n",
       "  'pathology',\n",
       "  'healthy',\n",
       "  'pathology',\n",
       "  'pathology',\n",
       "  'healthy',\n",
       "  'healthy',\n",
       "  'healthy',\n",
       "  'pathology',\n",
       "  'healthy',\n",
       "  'pathology',\n",
       "  'pathology',\n",
       "  'healthy',\n",
       "  'pathology',\n",
       "  'healthy',\n",
       "  'pathology',\n",
       "  'pathology',\n",
       "  'healthy',\n",
       "  'healthy',\n",
       "  'healthy',\n",
       "  'healthy',\n",
       "  'healthy',\n",
       "  'healthy',\n",
       "  'healthy',\n",
       "  'pathology',\n",
       "  'pathology',\n",
       "  'pathology',\n",
       "  'healthy',\n",
       "  'healthy',\n",
       "  'healthy',\n",
       "  'pathology',\n",
       "  'healthy',\n",
       "  'healthy',\n",
       "  'healthy',\n",
       "  'healthy',\n",
       "  'pathology',\n",
       "  'healthy',\n",
       "  'pathology',\n",
       "  'pathology',\n",
       "  'healthy',\n",
       "  'healthy',\n",
       "  'pathology',\n",
       "  'pathology',\n",
       "  'healthy',\n",
       "  'healthy',\n",
       "  'pathology',\n",
       "  'pathology',\n",
       "  'pathology',\n",
       "  'healthy',\n",
       "  'pathology',\n",
       "  'healthy',\n",
       "  'healthy',\n",
       "  'pathology',\n",
       "  'healthy',\n",
       "  'healthy',\n",
       "  'healthy',\n",
       "  'healthy',\n",
       "  'healthy',\n",
       "  'pathology',\n",
       "  'healthy',\n",
       "  'healthy',\n",
       "  'pathology',\n",
       "  'pathology',\n",
       "  'healthy',\n",
       "  'healthy',\n",
       "  'healthy',\n",
       "  'healthy',\n",
       "  'pathology',\n",
       "  'healthy',\n",
       "  'healthy',\n",
       "  'healthy',\n",
       "  'healthy',\n",
       "  'pathology',\n",
       "  'healthy',\n",
       "  'pathology',\n",
       "  'pathology',\n",
       "  'pathology',\n",
       "  'pathology',\n",
       "  'pathology',\n",
       "  'healthy',\n",
       "  'pathology',\n",
       "  'healthy',\n",
       "  'pathology',\n",
       "  'healthy',\n",
       "  'healthy',\n",
       "  'healthy',\n",
       "  'healthy',\n",
       "  'healthy',\n",
       "  'healthy',\n",
       "  'healthy',\n",
       "  'pathology',\n",
       "  'healthy',\n",
       "  'pathology',\n",
       "  'healthy',\n",
       "  'healthy',\n",
       "  'pathology',\n",
       "  'healthy',\n",
       "  'healthy',\n",
       "  'healthy',\n",
       "  'healthy',\n",
       "  'pathology',\n",
       "  'pathology',\n",
       "  'pathology',\n",
       "  'pathology',\n",
       "  'healthy',\n",
       "  'pathology',\n",
       "  'healthy',\n",
       "  'pathology',\n",
       "  'pathology',\n",
       "  'healthy',\n",
       "  'pathology',\n",
       "  'pathology',\n",
       "  'pathology',\n",
       "  'pathology',\n",
       "  'healthy',\n",
       "  'pathology',\n",
       "  'healthy',\n",
       "  'healthy',\n",
       "  'healthy',\n",
       "  'healthy',\n",
       "  'pathology',\n",
       "  'pathology',\n",
       "  'pathology',\n",
       "  'healthy',\n",
       "  'pathology',\n",
       "  'pathology',\n",
       "  'healthy',\n",
       "  'healthy',\n",
       "  'pathology',\n",
       "  'healthy',\n",
       "  'pathology',\n",
       "  'pathology',\n",
       "  'pathology',\n",
       "  'pathology',\n",
       "  'healthy',\n",
       "  'pathology',\n",
       "  'healthy',\n",
       "  'pathology',\n",
       "  'pathology',\n",
       "  'healthy',\n",
       "  'pathology',\n",
       "  'pathology',\n",
       "  'pathology',\n",
       "  'healthy',\n",
       "  'healthy',\n",
       "  'pathology'],\n",
       " ['healthy',\n",
       "  'healthy',\n",
       "  'healthy',\n",
       "  'pathology',\n",
       "  'healthy',\n",
       "  'healthy',\n",
       "  'pathology',\n",
       "  'healthy',\n",
       "  'pathology',\n",
       "  'healthy',\n",
       "  'healthy',\n",
       "  'healthy',\n",
       "  'pathology',\n",
       "  'pathology',\n",
       "  'pathology',\n",
       "  'pathology',\n",
       "  'pathology',\n",
       "  'pathology',\n",
       "  'pathology',\n",
       "  'pathology',\n",
       "  'pathology',\n",
       "  'healthy',\n",
       "  'pathology',\n",
       "  'healthy',\n",
       "  'healthy',\n",
       "  'pathology',\n",
       "  'pathology',\n",
       "  'healthy',\n",
       "  'healthy',\n",
       "  'healthy',\n",
       "  'pathology',\n",
       "  'pathology',\n",
       "  'healthy',\n",
       "  'healthy',\n",
       "  'healthy',\n",
       "  'pathology',\n",
       "  'pathology',\n",
       "  'pathology',\n",
       "  'healthy',\n",
       "  'healthy',\n",
       "  'healthy',\n",
       "  'healthy',\n",
       "  'healthy',\n",
       "  'healthy',\n",
       "  'pathology',\n",
       "  'pathology',\n",
       "  'pathology',\n",
       "  'healthy',\n",
       "  'pathology',\n",
       "  'healthy',\n",
       "  'healthy',\n",
       "  'pathology',\n",
       "  'healthy',\n",
       "  'pathology',\n",
       "  'pathology',\n",
       "  'healthy',\n",
       "  'pathology',\n",
       "  'pathology',\n",
       "  'pathology',\n",
       "  'healthy',\n",
       "  'pathology',\n",
       "  'pathology',\n",
       "  'healthy',\n",
       "  'healthy',\n",
       "  'healthy',\n",
       "  'healthy',\n",
       "  'healthy',\n",
       "  'healthy',\n",
       "  'healthy',\n",
       "  'healthy',\n",
       "  'pathology',\n",
       "  'pathology',\n",
       "  'healthy',\n",
       "  'healthy',\n",
       "  'healthy',\n",
       "  'healthy',\n",
       "  'pathology',\n",
       "  'healthy',\n",
       "  'healthy',\n",
       "  'healthy',\n",
       "  'healthy',\n",
       "  'healthy',\n",
       "  'pathology',\n",
       "  'pathology',\n",
       "  'healthy',\n",
       "  'healthy',\n",
       "  'pathology',\n",
       "  'pathology',\n",
       "  'healthy',\n",
       "  'healthy',\n",
       "  'pathology',\n",
       "  'pathology',\n",
       "  'pathology',\n",
       "  'pathology',\n",
       "  'pathology',\n",
       "  'healthy',\n",
       "  'healthy',\n",
       "  'healthy',\n",
       "  'healthy',\n",
       "  'healthy',\n",
       "  'healthy',\n",
       "  'pathology',\n",
       "  'pathology',\n",
       "  'healthy',\n",
       "  'pathology',\n",
       "  'healthy',\n",
       "  'healthy',\n",
       "  'pathology',\n",
       "  'pathology',\n",
       "  'pathology',\n",
       "  'pathology',\n",
       "  'pathology',\n",
       "  'pathology',\n",
       "  'healthy',\n",
       "  'pathology',\n",
       "  'pathology',\n",
       "  'pathology',\n",
       "  'pathology',\n",
       "  'healthy',\n",
       "  'pathology',\n",
       "  'healthy',\n",
       "  'healthy',\n",
       "  'pathology',\n",
       "  'pathology',\n",
       "  'healthy',\n",
       "  'healthy',\n",
       "  'healthy',\n",
       "  'healthy',\n",
       "  'healthy',\n",
       "  'pathology',\n",
       "  'pathology',\n",
       "  'pathology',\n",
       "  'pathology',\n",
       "  'pathology',\n",
       "  'pathology',\n",
       "  'pathology',\n",
       "  'pathology',\n",
       "  'pathology',\n",
       "  'pathology',\n",
       "  'pathology',\n",
       "  'pathology',\n",
       "  'pathology',\n",
       "  'pathology',\n",
       "  'pathology',\n",
       "  'pathology',\n",
       "  'pathology',\n",
       "  'pathology',\n",
       "  'pathology',\n",
       "  'pathology',\n",
       "  'pathology',\n",
       "  'healthy',\n",
       "  'healthy',\n",
       "  'healthy',\n",
       "  'healthy',\n",
       "  'healthy',\n",
       "  'pathology',\n",
       "  'healthy',\n",
       "  'pathology',\n",
       "  'pathology',\n",
       "  'healthy',\n",
       "  'pathology',\n",
       "  'healthy',\n",
       "  'healthy',\n",
       "  'healthy',\n",
       "  'pathology',\n",
       "  'healthy',\n",
       "  'healthy',\n",
       "  'pathology',\n",
       "  'pathology',\n",
       "  'healthy',\n",
       "  'healthy',\n",
       "  'healthy',\n",
       "  'pathology',\n",
       "  'pathology',\n",
       "  'pathology',\n",
       "  'pathology',\n",
       "  'pathology',\n",
       "  'healthy',\n",
       "  'healthy',\n",
       "  'healthy',\n",
       "  'pathology',\n",
       "  'pathology',\n",
       "  'healthy',\n",
       "  'healthy',\n",
       "  'pathology',\n",
       "  'healthy',\n",
       "  'healthy',\n",
       "  'healthy',\n",
       "  'healthy',\n",
       "  'healthy',\n",
       "  'healthy',\n",
       "  'healthy',\n",
       "  'healthy',\n",
       "  'pathology',\n",
       "  'pathology',\n",
       "  'pathology',\n",
       "  'pathology',\n",
       "  'healthy',\n",
       "  'healthy',\n",
       "  'healthy',\n",
       "  'healthy',\n",
       "  'pathology'],\n",
       " ['pathology',\n",
       "  'pathology',\n",
       "  'healthy',\n",
       "  'pathology',\n",
       "  'pathology',\n",
       "  'pathology',\n",
       "  'pathology',\n",
       "  'pathology',\n",
       "  'pathology',\n",
       "  'pathology',\n",
       "  'healthy',\n",
       "  'healthy',\n",
       "  'healthy',\n",
       "  'healthy',\n",
       "  'healthy',\n",
       "  'healthy',\n",
       "  'healthy',\n",
       "  'healthy',\n",
       "  'healthy',\n",
       "  'healthy',\n",
       "  'healthy',\n",
       "  'healthy',\n",
       "  'healthy',\n",
       "  'pathology',\n",
       "  'pathology',\n",
       "  'healthy',\n",
       "  'pathology',\n",
       "  'healthy',\n",
       "  'healthy',\n",
       "  'healthy',\n",
       "  'healthy',\n",
       "  'pathology',\n",
       "  'pathology',\n",
       "  'healthy',\n",
       "  'healthy',\n",
       "  'pathology',\n",
       "  'pathology',\n",
       "  'pathology',\n",
       "  'healthy',\n",
       "  'healthy',\n",
       "  'healthy',\n",
       "  'healthy',\n",
       "  'healthy',\n",
       "  'pathology',\n",
       "  'pathology',\n",
       "  'pathology',\n",
       "  'pathology',\n",
       "  'pathology',\n",
       "  'pathology',\n",
       "  'healthy',\n",
       "  'healthy',\n",
       "  'pathology',\n",
       "  'pathology',\n",
       "  'pathology',\n",
       "  'pathology',\n",
       "  'pathology',\n",
       "  'pathology',\n",
       "  'healthy',\n",
       "  'healthy',\n",
       "  'healthy',\n",
       "  'healthy',\n",
       "  'pathology',\n",
       "  'healthy',\n",
       "  'pathology',\n",
       "  'pathology',\n",
       "  'pathology',\n",
       "  'healthy',\n",
       "  'pathology',\n",
       "  'pathology',\n",
       "  'healthy',\n",
       "  'pathology',\n",
       "  'healthy',\n",
       "  'healthy',\n",
       "  'healthy',\n",
       "  'pathology',\n",
       "  'healthy',\n",
       "  'healthy',\n",
       "  'pathology',\n",
       "  'pathology',\n",
       "  'healthy',\n",
       "  'pathology',\n",
       "  'pathology',\n",
       "  'healthy',\n",
       "  'pathology',\n",
       "  'pathology',\n",
       "  'healthy',\n",
       "  'pathology',\n",
       "  'pathology',\n",
       "  'healthy',\n",
       "  'healthy',\n",
       "  'healthy',\n",
       "  'healthy',\n",
       "  'pathology',\n",
       "  'pathology',\n",
       "  'healthy',\n",
       "  'pathology',\n",
       "  'healthy',\n",
       "  'healthy',\n",
       "  'healthy',\n",
       "  'healthy',\n",
       "  'pathology',\n",
       "  'healthy',\n",
       "  'healthy',\n",
       "  'healthy',\n",
       "  'pathology',\n",
       "  'pathology',\n",
       "  'healthy',\n",
       "  'pathology',\n",
       "  'healthy',\n",
       "  'pathology',\n",
       "  'pathology',\n",
       "  'healthy',\n",
       "  'pathology',\n",
       "  'healthy',\n",
       "  'pathology',\n",
       "  'healthy',\n",
       "  'healthy',\n",
       "  'pathology',\n",
       "  'healthy',\n",
       "  'pathology',\n",
       "  'healthy',\n",
       "  'healthy',\n",
       "  'healthy',\n",
       "  'pathology',\n",
       "  'pathology',\n",
       "  'pathology',\n",
       "  'pathology',\n",
       "  'healthy',\n",
       "  'healthy',\n",
       "  'healthy',\n",
       "  'healthy',\n",
       "  'healthy',\n",
       "  'pathology',\n",
       "  'pathology',\n",
       "  'healthy',\n",
       "  'pathology',\n",
       "  'healthy',\n",
       "  'pathology',\n",
       "  'pathology',\n",
       "  'healthy',\n",
       "  'healthy',\n",
       "  'healthy',\n",
       "  'pathology',\n",
       "  'healthy',\n",
       "  'pathology',\n",
       "  'healthy',\n",
       "  'pathology',\n",
       "  'healthy',\n",
       "  'healthy',\n",
       "  'healthy',\n",
       "  'healthy',\n",
       "  'healthy',\n",
       "  'healthy',\n",
       "  'pathology',\n",
       "  'healthy',\n",
       "  'pathology',\n",
       "  'pathology',\n",
       "  'healthy',\n",
       "  'healthy',\n",
       "  'healthy',\n",
       "  'pathology',\n",
       "  'pathology',\n",
       "  'pathology',\n",
       "  'pathology',\n",
       "  'healthy',\n",
       "  'healthy',\n",
       "  'pathology',\n",
       "  'pathology',\n",
       "  'pathology',\n",
       "  'healthy',\n",
       "  'pathology',\n",
       "  'pathology',\n",
       "  'healthy',\n",
       "  'healthy',\n",
       "  'pathology',\n",
       "  'healthy',\n",
       "  'healthy',\n",
       "  'pathology',\n",
       "  'healthy',\n",
       "  'healthy',\n",
       "  'healthy',\n",
       "  'healthy',\n",
       "  'healthy',\n",
       "  'pathology',\n",
       "  'pathology',\n",
       "  'pathology',\n",
       "  'healthy',\n",
       "  'healthy',\n",
       "  'pathology',\n",
       "  'pathology'],\n",
       " ['healthy',\n",
       "  'pathology',\n",
       "  'pathology',\n",
       "  'pathology',\n",
       "  'pathology',\n",
       "  'healthy',\n",
       "  'healthy',\n",
       "  'healthy',\n",
       "  'healthy',\n",
       "  'healthy',\n",
       "  'healthy',\n",
       "  'healthy',\n",
       "  'pathology',\n",
       "  'pathology',\n",
       "  'pathology',\n",
       "  'healthy',\n",
       "  'healthy',\n",
       "  'pathology',\n",
       "  'healthy',\n",
       "  'healthy',\n",
       "  'healthy',\n",
       "  'healthy',\n",
       "  'pathology',\n",
       "  'healthy',\n",
       "  'pathology',\n",
       "  'pathology',\n",
       "  'healthy',\n",
       "  'healthy',\n",
       "  'healthy',\n",
       "  'pathology',\n",
       "  'healthy',\n",
       "  'healthy',\n",
       "  'pathology',\n",
       "  'healthy',\n",
       "  'healthy',\n",
       "  'healthy',\n",
       "  'healthy',\n",
       "  'healthy',\n",
       "  'pathology',\n",
       "  'healthy',\n",
       "  'healthy',\n",
       "  'healthy',\n",
       "  'pathology',\n",
       "  'healthy',\n",
       "  'healthy',\n",
       "  'pathology',\n",
       "  'healthy',\n",
       "  'healthy',\n",
       "  'pathology',\n",
       "  'pathology',\n",
       "  'healthy',\n",
       "  'pathology',\n",
       "  'healthy',\n",
       "  'healthy',\n",
       "  'healthy',\n",
       "  'pathology',\n",
       "  'healthy',\n",
       "  'healthy',\n",
       "  'pathology',\n",
       "  'healthy',\n",
       "  'healthy',\n",
       "  'pathology',\n",
       "  'healthy',\n",
       "  'pathology',\n",
       "  'pathology',\n",
       "  'healthy',\n",
       "  'pathology',\n",
       "  'healthy',\n",
       "  'healthy',\n",
       "  'healthy',\n",
       "  'pathology',\n",
       "  'pathology',\n",
       "  'healthy',\n",
       "  'healthy',\n",
       "  'pathology',\n",
       "  'pathology',\n",
       "  'pathology',\n",
       "  'healthy',\n",
       "  'healthy',\n",
       "  'healthy',\n",
       "  'healthy',\n",
       "  'healthy',\n",
       "  'healthy',\n",
       "  'pathology',\n",
       "  'healthy',\n",
       "  'healthy',\n",
       "  'healthy',\n",
       "  'pathology',\n",
       "  'pathology',\n",
       "  'healthy',\n",
       "  'pathology',\n",
       "  'pathology',\n",
       "  'healthy',\n",
       "  'healthy',\n",
       "  'healthy',\n",
       "  'healthy',\n",
       "  'healthy',\n",
       "  'pathology',\n",
       "  'pathology',\n",
       "  'healthy',\n",
       "  'pathology',\n",
       "  'pathology',\n",
       "  'healthy',\n",
       "  'healthy',\n",
       "  'pathology',\n",
       "  'pathology',\n",
       "  'pathology',\n",
       "  'pathology',\n",
       "  'healthy',\n",
       "  'healthy',\n",
       "  'healthy',\n",
       "  'healthy',\n",
       "  'healthy',\n",
       "  'pathology',\n",
       "  'pathology',\n",
       "  'pathology',\n",
       "  'pathology',\n",
       "  'healthy',\n",
       "  'healthy',\n",
       "  'healthy',\n",
       "  'healthy',\n",
       "  'healthy',\n",
       "  'pathology',\n",
       "  'pathology',\n",
       "  'healthy',\n",
       "  'healthy',\n",
       "  'pathology',\n",
       "  'pathology',\n",
       "  'pathology',\n",
       "  'healthy',\n",
       "  'healthy',\n",
       "  'pathology',\n",
       "  'pathology',\n",
       "  'pathology',\n",
       "  'healthy',\n",
       "  'pathology',\n",
       "  'pathology',\n",
       "  'pathology',\n",
       "  'healthy',\n",
       "  'pathology',\n",
       "  'healthy',\n",
       "  'pathology',\n",
       "  'pathology',\n",
       "  'pathology',\n",
       "  'healthy',\n",
       "  'healthy',\n",
       "  'healthy',\n",
       "  'pathology',\n",
       "  'healthy',\n",
       "  'pathology',\n",
       "  'healthy',\n",
       "  'pathology',\n",
       "  'pathology',\n",
       "  'pathology',\n",
       "  'pathology',\n",
       "  'pathology',\n",
       "  'pathology',\n",
       "  'pathology',\n",
       "  'pathology',\n",
       "  'pathology',\n",
       "  'pathology',\n",
       "  'healthy',\n",
       "  'pathology',\n",
       "  'healthy',\n",
       "  'pathology',\n",
       "  'healthy',\n",
       "  'pathology',\n",
       "  'pathology',\n",
       "  'healthy',\n",
       "  'pathology',\n",
       "  'healthy',\n",
       "  'healthy',\n",
       "  'pathology',\n",
       "  'healthy',\n",
       "  'healthy',\n",
       "  'pathology',\n",
       "  'pathology',\n",
       "  'healthy',\n",
       "  'pathology',\n",
       "  'healthy',\n",
       "  'pathology',\n",
       "  'pathology',\n",
       "  'pathology',\n",
       "  'healthy',\n",
       "  'pathology',\n",
       "  'pathology',\n",
       "  'pathology',\n",
       "  'pathology',\n",
       "  'pathology',\n",
       "  'healthy',\n",
       "  'healthy',\n",
       "  'healthy',\n",
       "  'healthy',\n",
       "  'healthy']]"
      ]
     },
     "execution_count": 58,
     "metadata": {},
     "output_type": "execute_result"
    }
   ],
   "source": [
    "Y_valid_list"
   ]
  },
  {
   "cell_type": "code",
   "execution_count": 66,
   "id": "e052b2f6",
   "metadata": {},
   "outputs": [
    {
     "name": "stdout",
     "output_type": "stream",
     "text": [
      "torch.Size([2, 1, 48000])\n",
      "torch.Size([1, 48000])\n"
     ]
    }
   ],
   "source": [
    "check_loader = DataLoader(dataset = \n",
    "                                        svd_dataset_wav_hard(\n",
    "                                            [2478,1708],\n",
    "                                            [\"pathology\",\"pathology\"],\n",
    "                                            classes,\n",
    "                                            mel_params = mel_run_config,\n",
    "                                            transform = transforms.ToTensor(),#이걸 composed로 고쳐서 전처리 하도록 수정.\n",
    "                                            dataset= dataset\n",
    "                                        ),\n",
    "                                        batch_size = BATCH_SIZE,\n",
    "                                        shuffle = True,\n",
    "                                        #worker_init_fn=seed_worker\n",
    "                                        )\n",
    "\n",
    "for data,y,path in check_loader:\n",
    "    print(data.size())\n",
    "    lam=0.7\n",
    "    mixed_x = lam * data[0] + (1 - lam) * data[1]\n",
    "    print(mixed_x.size())\n",
    "    data = torch.concat([data,mixed_x.unsqueeze(0)],dim=0)"
   ]
  },
  {
   "cell_type": "code",
   "execution_count": 70,
   "id": "4c8f8780",
   "metadata": {},
   "outputs": [],
   "source": [
    "pred,_=model(data.cuda())"
   ]
  },
  {
   "cell_type": "code",
   "execution_count": 72,
   "id": "4e839b59",
   "metadata": {},
   "outputs": [
    {
     "data": {
      "text/plain": [
       "torch.Size([128])"
      ]
     },
     "execution_count": 72,
     "metadata": {},
     "output_type": "execute_result"
    }
   ],
   "source": [
    "pred[-1,:].size()"
   ]
  },
  {
   "cell_type": "code",
   "execution_count": 29,
   "id": "4c3c730b",
   "metadata": {},
   "outputs": [
    {
     "ename": "NameError",
     "evalue": "name 'pred' is not defined",
     "output_type": "error",
     "traceback": [
      "\u001b[1;31m---------------------------------------------------------------------------\u001b[0m",
      "\u001b[1;31mNameError\u001b[0m                                 Traceback (most recent call last)",
      "\u001b[1;32m~\\AppData\\Local\\Temp/ipykernel_18804/2734370829.py\u001b[0m in \u001b[0;36m<module>\u001b[1;34m\u001b[0m\n\u001b[0;32m     18\u001b[0m \u001b[1;31m# 학습한 결과 2차원 공간 값 출력\u001b[0m\u001b[1;33m\u001b[0m\u001b[1;33m\u001b[0m\u001b[1;33m\u001b[0m\u001b[0m\n\u001b[0;32m     19\u001b[0m \u001b[1;31m#print(tsne.fit_transform(train_results))\u001b[0m\u001b[1;33m\u001b[0m\u001b[1;33m\u001b[0m\u001b[1;33m\u001b[0m\u001b[0m\n\u001b[1;32m---> 20\u001b[1;33m \u001b[0mtemp\u001b[0m \u001b[1;33m=\u001b[0m \u001b[0mnp\u001b[0m\u001b[1;33m.\u001b[0m\u001b[0mconcatenate\u001b[0m\u001b[1;33m(\u001b[0m\u001b[1;33m[\u001b[0m\u001b[0mvalid_result_list\u001b[0m\u001b[1;33m[\u001b[0m\u001b[0mwhich_epoch\u001b[0m\u001b[1;33m]\u001b[0m\u001b[1;33m,\u001b[0m \u001b[0mpred\u001b[0m\u001b[1;33m[\u001b[0m\u001b[1;33m-\u001b[0m\u001b[1;36m1\u001b[0m\u001b[1;33m,\u001b[0m\u001b[1;33m:\u001b[0m\u001b[1;33m]\u001b[0m\u001b[1;33m.\u001b[0m\u001b[0munsqueeze\u001b[0m\u001b[1;33m(\u001b[0m\u001b[1;36m0\u001b[0m\u001b[1;33m)\u001b[0m\u001b[1;33m.\u001b[0m\u001b[0mcpu\u001b[0m\u001b[1;33m(\u001b[0m\u001b[1;33m)\u001b[0m\u001b[1;33m.\u001b[0m\u001b[0mdetach\u001b[0m\u001b[1;33m(\u001b[0m\u001b[1;33m)\u001b[0m\u001b[1;33m.\u001b[0m\u001b[0mnumpy\u001b[0m\u001b[1;33m(\u001b[0m\u001b[1;33m)\u001b[0m\u001b[1;33m]\u001b[0m\u001b[1;33m,\u001b[0m\u001b[0maxis\u001b[0m\u001b[1;33m=\u001b[0m\u001b[1;36m0\u001b[0m\u001b[1;33m)\u001b[0m\u001b[1;33m\u001b[0m\u001b[1;33m\u001b[0m\u001b[0m\n\u001b[0m\u001b[0;32m     21\u001b[0m \u001b[0mvalid_results_view\u001b[0m\u001b[1;33m=\u001b[0m\u001b[0mtsne\u001b[0m\u001b[1;33m.\u001b[0m\u001b[0mfit_transform\u001b[0m\u001b[1;33m(\u001b[0m\u001b[0mtemp\u001b[0m\u001b[1;33m)\u001b[0m\u001b[1;33m\u001b[0m\u001b[1;33m\u001b[0m\u001b[0m\n\u001b[0;32m     22\u001b[0m \u001b[0mtemp\u001b[0m \u001b[1;33m=\u001b[0m\u001b[0mvalid_results_view\u001b[0m\u001b[1;33m[\u001b[0m\u001b[1;33m-\u001b[0m\u001b[1;36m1\u001b[0m\u001b[1;33m]\u001b[0m\u001b[1;33m\u001b[0m\u001b[1;33m\u001b[0m\u001b[0m\n",
      "\u001b[1;31mNameError\u001b[0m: name 'pred' is not defined"
     ]
    }
   ],
   "source": [
    "# trainset\n",
    "#실루엣 스코어로 확인\n",
    "\n",
    "from sklearn.manifold import TSNE\n",
    "from sklearn.datasets import load_digits\n",
    "\n",
    "which_epoch = 99\n",
    "\n",
    "# MNIST 데이터 불러오기\n",
    "#data = load_digits()\n",
    "\n",
    "# 2차원으로 차원 축소\n",
    "n_components = 2\n",
    "\n",
    "# t-sne 모델 생성\n",
    "tsne = TSNE(n_components=n_components)\n",
    "\n",
    "# 학습한 결과 2차원 공간 값 출력\n",
    "#print(tsne.fit_transform(train_results))\n",
    "temp = np.concatenate([valid_result_list[which_epoch], pred[-1,:].unsqueeze(0).cpu().detach().numpy()],axis=0)\n",
    "valid_results_view=tsne.fit_transform(temp)\n",
    "temp =valid_results_view[-1]\n",
    "valid_results_view=valid_results_view[:-1]\n",
    "#valid_results_view=tsne.fit_transform(valid_result_list[which_epoch])\n",
    "#valid_results_view=tsne.fit_transform(valid_result_list[which_epoch])\n",
    "\n",
    "\n",
    "plt.figure(figsize=(15, 10), facecolor=\"azure\")\n",
    "for label in np.unique(valid_label_list[which_epoch]):\n",
    "    points = valid_results_view[valid_label_list[which_epoch]==label]\n",
    "    tmp = valid_results_view[valid_label_list[which_epoch]==label].tolist()\n",
    "    path_name = np.array(valid_path_list[which_epoch])[valid_label_list[which_epoch]==label].tolist()\n",
    "    accs = np.array(valid_probs_list[which_epoch])[valid_label_list[which_epoch]==label].tolist()\n",
    "    accs = [\"{:.2f}\".format(acc) for  acc in accs]\n",
    "    plt.scatter(points[:, 0], points[:, 1],label=label)\n",
    "    # for idx,text in enumerate(accs):\n",
    "    #     plt.text(tmp[idx][0], tmp[idx][1],text)    \n",
    "    for idx,text in enumerate(path_name):\n",
    "            #print(idx,text)\n",
    "            plt.text(tmp[idx][0], tmp[idx][1],text)\n",
    "            \n",
    "plt.scatter(temp[0], temp[1],label=label)    \n",
    "\n",
    "plt.legend(['healthy','pathology'])\n",
    "plt.show()\n"
   ]
  },
  {
   "cell_type": "code",
   "execution_count": 34,
   "id": "9ee458c8",
   "metadata": {},
   "outputs": [
    {
     "name": "stderr",
     "output_type": "stream",
     "text": [
      "d:\\anaconda3\\envs\\local_torch\\lib\\site-packages\\sklearn\\manifold\\_t_sne.py:780: FutureWarning: The default initialization in TSNE will change from 'random' to 'pca' in 1.2.\n",
      "  warnings.warn(\n",
      "d:\\anaconda3\\envs\\local_torch\\lib\\site-packages\\sklearn\\manifold\\_t_sne.py:790: FutureWarning: The default learning rate in TSNE will change from 200.0 to 'auto' in 1.2.\n",
      "  warnings.warn(\n"
     ]
    },
    {
     "data": {
      "image/png": "[encoded data removed]",
      "text/plain": [
       "<Figure size 1080x720 with 1 Axes>"
      ]
     },
     "metadata": {},
     "output_type": "display_data"
    }
   ],
   "source": [
    "# trainset\n",
    "#실루엣 스코어로 확인\n",
    "\n",
    "from sklearn.manifold import TSNE\n",
    "from sklearn.datasets import load_digits\n",
    "\n",
    "which_epoch = 99\n",
    "\n",
    "# MNIST 데이터 불러오기\n",
    "#data = load_digits()\n",
    "\n",
    "# 2차원으로 차원 축소\n",
    "n_components = 2\n",
    "\n",
    "# t-sne 모델 생성\n",
    "tsne = TSNE(n_components=n_components)\n",
    "\n",
    "# 학습한 결과 2차원 공간 값 출력\n",
    "#print(tsne.fit_transform(train_results))\n",
    "valid_results_view=tsne.fit_transform(valid_result_list[which_epoch])\n",
    "#valid_results_view=tsne.fit_transform(valid_result_list[which_epoch])\n",
    "\n",
    "\n",
    "\n",
    "plt.figure(figsize=(15, 10), facecolor=\"azure\")\n",
    "for label in np.unique(valid_label_list[which_epoch]):\n",
    "    points = valid_results_view[valid_label_list[which_epoch]==label]\n",
    "    tmp = valid_results_view[valid_label_list[which_epoch]==label].tolist()\n",
    "    path_name = np.array(valid_path_list[which_epoch])[valid_label_list[which_epoch]==label].tolist()\n",
    "    accs = np.array(valid_probs_list[which_epoch])[valid_label_list[which_epoch]==label].tolist()\n",
    "    accs = [\"{:.2f}\".format(acc) for  acc in accs]\n",
    "    plt.scatter(points[:, 0], points[:, 1],label=label)\n",
    "    # for idx,text in enumerate(accs):\n",
    "    #     plt.text(tmp[idx][0], tmp[idx][1],text)    \n",
    "    for idx,text in enumerate(path_name):\n",
    "            #print(idx,text)\n",
    "            plt.text(tmp[idx][0], tmp[idx][1],text)\n",
    "    \n",
    "\n",
    "plt.legend(['healthy','pathology'])\n",
    "plt.show()"
   ]
  },
  {
   "cell_type": "code",
   "execution_count": 49,
   "id": "6e88048a",
   "metadata": {},
   "outputs": [
    {
     "name": "stderr",
     "output_type": "stream",
     "text": [
      "d:\\anaconda3\\envs\\local_torch\\lib\\site-packages\\sklearn\\manifold\\_t_sne.py:780: FutureWarning: The default initialization in TSNE will change from 'random' to 'pca' in 1.2.\n",
      "  warnings.warn(\n",
      "d:\\anaconda3\\envs\\local_torch\\lib\\site-packages\\sklearn\\manifold\\_t_sne.py:790: FutureWarning: The default learning rate in TSNE will change from 200.0 to 'auto' in 1.2.\n",
      "  warnings.warn(\n"
     ]
    },
    {
     "data": {
      "image/png": "[encoded data removed]",
      "text/plain": [
       "<Figure size 1080x720 with 1 Axes>"
      ]
     },
     "metadata": {},
     "output_type": "display_data"
    }
   ],
   "source": [
    "from sklearn.decomposition import PCA\n",
    "# 동시에 그리기\n",
    "\n",
    "\n",
    "# trainset\n",
    "\n",
    "from sklearn.manifold import TSNE\n",
    "from sklearn.datasets import load_digits\n",
    "\n",
    "which_epoch = 99\n",
    "\n",
    "\n",
    "# MNIST 데이터 불러오기\n",
    "#data = load_digits()\n",
    "\n",
    "# 2차원으로 차원 축소\n",
    "n_components = 2\n",
    "\n",
    "# t-sne 모델 생성\n",
    "tsne = TSNE(n_components=n_components)\n",
    "\n",
    "# 학습한 결과 2차원 공간 값 출력\n",
    "#print(tsne.fit_transform(train_results))\n",
    "train_results_view=tsne.fit_transform(np.concatenate((train_result_list[which_epoch],valid_result_list[which_epoch]),axis=0 )   )\n",
    "\n",
    "train_len=len(train_result_list[0])\n",
    "valid_len=len(valid_result_list[0])\n",
    "\n",
    "\n",
    "# MNIST 데이터 불러오기\n",
    "#data = load_digits()\n",
    "\n",
    "# 2차원으로 차원 축소\n",
    "n_components = 2\n",
    "\n",
    "# t-sne 모델 생성\n",
    "#tsne = TSNE(n_components=n_components)\n",
    "\n",
    "# 학습한 결과 2차원 공간 값 출력\n",
    "#print(tsne.fit_transform(train_results))\n",
    "#valid_results_view=tsne.fit_transform(valid_result_list[which_epoch])\n",
    "#valid_results_view=tsne.transform(valid_result_list[which_epoch])\n",
    "\n",
    "\n",
    "plt.figure(figsize=(15, 10), facecolor=\"azure\")\n",
    "\n",
    "for label in np.unique(train_label_list[which_epoch]):\n",
    "    tmp = train_results_view[:train_len][train_label_list[which_epoch]==label]\n",
    "    path_name = np.array(train_path_list[which_epoch])[train_label_list[which_epoch]==label].tolist()\n",
    "    plt.scatter(tmp[:, 0], tmp[:, 1],label=label)\n",
    "    # for idx,text in enumerate(path_name):\n",
    "    #     if idx % 3 ==0:\n",
    "    #         plt.text(tmp[idx][0], tmp[idx][1],text)\n",
    "\n",
    "\n",
    "\n",
    "for label in np.unique(valid_label_list[which_epoch]):\n",
    "    if label==0:\n",
    "        continue\n",
    "    points = train_results_view[train_len:][valid_label_list[which_epoch]==label]\n",
    "    tmp = train_results_view[train_len:][valid_label_list[which_epoch]==label].tolist()\n",
    "    path_name = np.array(valid_path_list[which_epoch])[valid_label_list[which_epoch]==label].tolist()\n",
    "    accs = np.array(valid_probs_list[which_epoch])[valid_label_list[which_epoch]==label].tolist()\n",
    "    accs = [\"{:.2f}\".format(acc) for  acc in accs]\n",
    "    plt.scatter(points[:, 0], points[:, 1],label=label)\n",
    "    for idx,text in enumerate(accs):\n",
    "        if label == 1:        \n",
    "            plt.text(tmp[idx][0], tmp[idx][1],text)    \n",
    "    # for idx,text in enumerate(path_name):\n",
    "    #     if label == 1 :\n",
    "    #     #if idx %3 ==0:\n",
    "    #         #print(idx,text)\n",
    "    #         plt.text(tmp[idx][0], tmp[idx][1],text)\n",
    "    \n",
    "name = \"arcface\"\n",
    "\n",
    "plt.legend(['train-healthy','train-pathology','valid-healthy','valid-pathology'])\n",
    "plt.savefig(\"./images/{}_{}epoch_all.png\".format(name,which_epoch))\n",
    "plt.show()\n"
   ]
  },
  {
   "cell_type": "code",
   "execution_count": 84,
   "id": "d5b3f649",
   "metadata": {},
   "outputs": [
    {
     "data": {
      "text/plain": [
       "(1035, 128)"
      ]
     },
     "execution_count": 84,
     "metadata": {},
     "output_type": "execute_result"
    }
   ],
   "source": [
    "np.concatenate((train_result_list[which_epoch],valid_result_list[which_epoch]),axis=0 ).shape"
   ]
  },
  {
   "cell_type": "code",
   "execution_count": 44,
   "id": "1623008e",
   "metadata": {},
   "outputs": [
    {
     "data": {
      "image/png": "[encoded data removed]",
      "text/plain": [
       "<Figure size 1080x720 with 1 Axes>"
      ]
     },
     "metadata": {},
     "output_type": "display_data"
    }
   ],
   "source": [
    "from sklearn.decomposition import PCA\n",
    "# 동시에 그리기\n",
    "\n",
    "\n",
    "# trainset\n",
    "\n",
    "from sklearn.manifold import TSNE\n",
    "from sklearn.datasets import load_digits\n",
    "\n",
    "which_epoch = 99\n",
    "\n",
    "\n",
    "# MNIST 데이터 불러오기\n",
    "#data = load_digits()\n",
    "\n",
    "# 2차원으로 차원 축소\n",
    "n_components = 2\n",
    "\n",
    "# t-sne 모델 생성\n",
    "pca = PCA(n_components=n_components)\n",
    "\n",
    "# 학습한 결과 2차원 공간 값 출력\n",
    "#print(tsne.fit_transform(train_results))\n",
    "train_results_view=pca.fit_transform(train_result_list[which_epoch])\n",
    "\n",
    "\n",
    "\n",
    "\n",
    "\n",
    "# MNIST 데이터 불러오기\n",
    "#data = load_digits()\n",
    "\n",
    "# 2차원으로 차원 축소\n",
    "n_components = 2\n",
    "\n",
    "# t-sne 모델 생성\n",
    "#tsne = TSNE(n_components=n_components)\n",
    "\n",
    "# 학습한 결과 2차원 공간 값 출력\n",
    "#print(tsne.fit_transform(train_results))\n",
    "#valid_results_view=tsne.fit_transform(valid_result_list[which_epoch])\n",
    "valid_results_view=pca.transform(valid_result_list[which_epoch])\n",
    "\n",
    "\n",
    "plt.figure(figsize=(15, 10), facecolor=\"azure\")\n",
    "\n",
    "for label in np.unique(train_label_list[which_epoch]):\n",
    "\n",
    "    tmp = train_results_view[train_label_list[which_epoch]==label]\n",
    "    path_name = np.array(train_path_list[which_epoch])[train_label_list[which_epoch]==label].tolist()\n",
    "    plt.scatter(tmp[:, 0], tmp[:, 1],label=label)\n",
    "    # for idx,text in enumerate(path_name):\n",
    "    #     if idx % 3 ==0:\n",
    "    #         plt.text(tmp[idx][0], tmp[idx][1],text)\n",
    "\n",
    "\n",
    "\n",
    "for label in np.unique(valid_label_list[which_epoch]):\n",
    "    points = valid_results_view[valid_label_list[which_epoch]==label]\n",
    "    tmp = valid_results_view[valid_label_list[which_epoch]==label].tolist()\n",
    "    path_name = np.array(valid_path_list[which_epoch])[valid_label_list[which_epoch]==label].tolist()\n",
    "    accs = np.array(valid_probs_list[which_epoch])[valid_label_list[which_epoch]==label].tolist()\n",
    "    accs = [\"{:.2f}\".format(acc) for  acc in accs]\n",
    "    plt.scatter(points[:, 0], points[:, 1],label=label)\n",
    "    for idx,text in enumerate(accs):\n",
    "        if label == 1:        \n",
    "            plt.text(tmp[idx][0], tmp[idx][1],text)    \n",
    "    # for idx,text in enumerate(path_name):\n",
    "    #     if label == 1:\n",
    "    #         print(idx,text)\n",
    "    #         plt.text(tmp[idx][0], tmp[idx][1],text)\n",
    "    \n",
    "\n",
    "plt.legend(['train-healthy','train-pathology','valid-healthy','valid-pathology'])\n",
    "plt.show()"
   ]
  },
  {
   "cell_type": "code",
   "execution_count": null,
   "id": "13f294bd",
   "metadata": {},
   "outputs": [],
   "source": [
    "F.linear()"
   ]
  },
  {
   "cell_type": "code",
   "execution_count": 62,
   "id": "88172796",
   "metadata": {},
   "outputs": [
    {
     "name": "stderr",
     "output_type": "stream",
     "text": [
      "100%|██████████| 51/51 [00:04<00:00, 11.79it/s]\n"
     ]
    },
    {
     "data": {
      "text/plain": [
       "(812, 128)"
      ]
     },
     "execution_count": 62,
     "metadata": {},
     "output_type": "execute_result"
    }
   ],
   "source": [
    "train_results = []\n",
    "labels = []\n",
    "\n",
    "model.eval()\n",
    "with torch.no_grad():\n",
    "    for img,_,_,label,_ in tqdm(train_loader):\n",
    "        train_results.append(model(img.to(DEVICE)).cpu().numpy())\n",
    "        labels.append(label)\n",
    "        \n",
    "train_results = np.concatenate(train_results)\n",
    "labels = np.concatenate(labels)\n",
    "train_results.shape"
   ]
  },
  {
   "cell_type": "code",
   "execution_count": 63,
   "id": "206f17ef",
   "metadata": {},
   "outputs": [
    {
     "data": {
      "image/png": "[encoded data removed]",
      "text/plain": [
       "<Figure size 1080x720 with 1 Axes>"
      ]
     },
     "metadata": {},
     "output_type": "display_data"
    }
   ],
   "source": [
    "plt.figure(figsize=(15, 10), facecolor=\"azure\")\n",
    "for label in np.unique(labels):\n",
    "    tmp = train_results[labels==label]\n",
    "    plt.scatter(tmp[:, 0], tmp[:, 1], label=label)\n",
    "\n",
    "plt.legend()\n",
    "plt.show()"
   ]
  },
  {
   "cell_type": "code",
   "execution_count": 33,
   "id": "97735298",
   "metadata": {},
   "outputs": [
    {
     "ename": "NameError",
     "evalue": "name 'train_results' is not defined",
     "output_type": "error",
     "traceback": [
      "\u001b[1;31m---------------------------------------------------------------------------\u001b[0m",
      "\u001b[1;31mNameError\u001b[0m                                 Traceback (most recent call last)",
      "\u001b[1;32m~\\AppData\\Local\\Temp/ipykernel_3000/1207605675.py\u001b[0m in \u001b[0;36m<module>\u001b[1;34m\u001b[0m\n\u001b[0;32m     13\u001b[0m \u001b[1;31m# 학습한 결과 2차원 공간 값 출력\u001b[0m\u001b[1;33m\u001b[0m\u001b[1;33m\u001b[0m\u001b[1;33m\u001b[0m\u001b[0m\n\u001b[0;32m     14\u001b[0m \u001b[1;31m#print(tsne.fit_transform(train_results))\u001b[0m\u001b[1;33m\u001b[0m\u001b[1;33m\u001b[0m\u001b[1;33m\u001b[0m\u001b[0m\n\u001b[1;32m---> 15\u001b[1;33m \u001b[0mtrain_results_view\u001b[0m\u001b[1;33m=\u001b[0m\u001b[0mtsne\u001b[0m\u001b[1;33m.\u001b[0m\u001b[0mfit_transform\u001b[0m\u001b[1;33m(\u001b[0m\u001b[0mtrain_results\u001b[0m\u001b[1;33m)\u001b[0m\u001b[1;33m\u001b[0m\u001b[1;33m\u001b[0m\u001b[0m\n\u001b[0m",
      "\u001b[1;31mNameError\u001b[0m: name 'train_results' is not defined"
     ]
    }
   ],
   "source": [
    "from sklearn.manifold import TSNE\n",
    "from sklearn.datasets import load_digits\n",
    "\n",
    "# MNIST 데이터 불러오기\n",
    "#data = load_digits()\n",
    "\n",
    "# 2차원으로 차원 축소\n",
    "n_components = 2\n",
    "\n",
    "# t-sne 모델 생성\n",
    "tsne = TSNE(n_components=n_components)\n",
    "\n",
    "# 학습한 결과 2차원 공간 값 출력\n",
    "#print(tsne.fit_transform(train_results))\n",
    "train_results_view=tsne.fit_transform(train_results)"
   ]
  },
  {
   "cell_type": "code",
   "execution_count": 73,
   "id": "3637830b",
   "metadata": {},
   "outputs": [
    {
     "data": {
      "image/png": "[encoded data removed]",
      "text/plain": [
       "<Figure size 1080x720 with 1 Axes>"
      ]
     },
     "metadata": {},
     "output_type": "display_data"
    }
   ],
   "source": [
    "plt.figure(figsize=(15, 10), facecolor=\"azure\")\n",
    "for label in np.unique(labels):\n",
    "    tmp = train_results_view[labels==label]\n",
    "    plt.scatter(tmp[:, 0], tmp[:, 1], label=label)\n",
    "\n",
    "plt.legend()\n",
    "plt.show()"
   ]
  },
  {
   "cell_type": "code",
   "execution_count": 74,
   "id": "7ddf77fd",
   "metadata": {},
   "outputs": [
    {
     "name": "stderr",
     "output_type": "stream",
     "text": [
      "100%|██████████| 14/14 [00:00<00:00, 85.89it/s]\n"
     ]
    },
    {
     "data": {
      "text/plain": [
       "(223, 128)"
      ]
     },
     "execution_count": 74,
     "metadata": {},
     "output_type": "execute_result"
    }
   ],
   "source": [
    "valid_results = []\n",
    "labels = []\n",
    "path_list = []\n",
    "\n",
    "model.eval()\n",
    "with torch.no_grad():\n",
    "    for img,label,paths in tqdm(validation_loader):\n",
    "        valid_results.append(model(img.to(DEVICE)).cpu().numpy())\n",
    "        labels.append(label)\n",
    "        path_list+=paths\n",
    "        \n",
    "valid_results = np.concatenate(valid_results)\n",
    "labels = np.concatenate(labels)\n",
    "valid_results.shape"
   ]
  },
  {
   "cell_type": "code",
   "execution_count": 75,
   "id": "e2535cfe",
   "metadata": {},
   "outputs": [
    {
     "data": {
      "text/plain": [
       "(223, 128)"
      ]
     },
     "execution_count": 75,
     "metadata": {},
     "output_type": "execute_result"
    }
   ],
   "source": [
    "valid_results.shape"
   ]
  },
  {
   "cell_type": "markdown",
   "id": "d969079c",
   "metadata": {},
   "source": [
    "# Model 결과 확인"
   ]
  },
  {
   "cell_type": "code",
   "execution_count": 242,
   "id": "8d8ef002",
   "metadata": {
    "scrolled": true
   },
   "outputs": [
    {
     "name": "stdout",
     "output_type": "stream",
     "text": [
      "[1 교차검증] train ACC : 99.1379 |\t valid ACC: 84.3049 \n",
      "[2 교차검증] train ACC : 99.8771 |\t valid ACC: 88.5870 \n",
      "[3 교차검증] train ACC : 99.1400 |\t valid ACC: 82.6733 \n",
      "[4 교차검증] train ACC : 98.8943 |\t valid ACC: 87.8947 \n",
      "[5 교차검증] train ACC : 98.6420 |\t valid ACC: 86.5979 \n",
      "평균 검증 정확도 86.01156631406658 %\n"
     ]
    }
   ],
   "source": [
    "sum_valid=0\n",
    "for data_ind in range(5):\n",
    "    print(\"[{} 교차검증] train ACC : {:.4f} |\\t valid ACC: {:.4f} \".format(data_ind+1,train_accs[data_ind],valid_accs[data_ind] ))\n",
    "    sum_valid+=valid_accs[data_ind]\n",
    "    \n",
    "print(\"평균 검증 정확도\",sum_valid/5,\"%\")"
   ]
  },
  {
   "cell_type": "markdown",
   "id": "6f7d3f46",
   "metadata": {},
   "source": [
    "# Model Test\n",
    "\n",
    "- test set\n",
    "- confusion matrix"
   ]
  },
  {
   "cell_type": "code",
   "execution_count": 243,
   "id": "b597b674",
   "metadata": {},
   "outputs": [],
   "source": [
    "#confusion matrix 계산\n",
    "#test set 계산.\n",
    "def test_evaluate(model,test_loader):\n",
    "    model.eval()\n",
    "    test_loss = 0\n",
    "    predictions = []\n",
    "    answers = []\n",
    "    #no_grad : 그래디언트 값 계산 막기.\n",
    "    with torch.no_grad():\n",
    "        for image,label in test_loader:\n",
    "            image = image.to(DEVICE)\n",
    "            label = label.to(DEVICE)\n",
    "            output = model(image)\n",
    "            test_loss += criterion(output, label).item()\n",
    "            prediction = output.max(1,keepdim=True)[1] # 가장 확률이 높은 class 1개를 가져온다.그리고 인덱스만\n",
    "            answers +=label\n",
    "            predictions +=prediction\n",
    "            \n",
    "        return predictions,answers,test_loss\n",
    "            "
   ]
  },
  {
   "cell_type": "code",
   "execution_count": 244,
   "id": "446269f0",
   "metadata": {
    "scrolled": false
   },
   "outputs": [
    {
     "name": "stdout",
     "output_type": "stream",
     "text": [
      "1번 모델\n",
      "Accuracy : 81.4346% \n",
      "recall (실제 pathology 중  예측이 맞는 것) : 0.8829\n",
      "specificity : 0.7540%\n",
      "UAR : 0.8184%\n",
      "f score : 0.8143 \n",
      "[[95 31]\n",
      " [13 98]]\n",
      "-----\n",
      "2번 모델\n",
      "Accuracy : 83.9662% \n",
      "recall (실제 pathology 중  예측이 맞는 것) : 0.7748\n",
      "specificity : 0.8968%\n",
      "UAR : 0.8358%\n",
      "f score : 0.8376 \n",
      "[[113  13]\n",
      " [ 25  86]]\n",
      "-----\n",
      "3번 모델\n",
      "Accuracy : 83.1224% \n",
      "recall (실제 pathology 중  예측이 맞는 것) : 0.7838\n",
      "specificity : 0.8730%\n",
      "UAR : 0.8284%\n",
      "f score : 0.8296 \n",
      "[[110  16]\n",
      " [ 24  87]]\n",
      "-----\n",
      "4번 모델\n",
      "Accuracy : 84.3882% \n",
      "recall (실제 pathology 중  예측이 맞는 것) : 0.8559\n",
      "specificity : 0.8333%\n",
      "UAR : 0.8446%\n",
      "f score : 0.8436 \n",
      "[[105  21]\n",
      " [ 16  95]]\n",
      "-----\n",
      "5번 모델\n",
      "Accuracy : 80.5907% \n",
      "recall (실제 pathology 중  예측이 맞는 것) : 0.6667\n",
      "specificity : 0.9286%\n",
      "UAR : 0.7976%\n",
      "f score : 0.7993 \n",
      "[[117   9]\n",
      " [ 37  74]]\n",
      "-----\n",
      "평균 acc : 0.8270\n",
      "평균 UAR : 0.8250\n",
      "평균 f1score : 0.8249\n"
     ]
    }
   ],
   "source": [
    "# Confusion matrix (resnet18)\n",
    "# kfold의 confusion matrix는 계산 방법이 다르다.\n",
    "# 모델을 각각 불러와서 test set을 평가한다.\n",
    "\n",
    "from sklearn.metrics import confusion_matrix\n",
    "from sklearn.metrics import f1_score\n",
    "\n",
    "cf = np.zeros((2,2))\n",
    "cf_list = []\n",
    "average_accuracy = 0\n",
    "average_fscore = 0\n",
    "average_uar = 0\n",
    "\n",
    "for data_ind in range(1,6):\n",
    "    model=model_initialize()\n",
    "    check_path = './checkpoint/checkpoint_wavegram_ros_'+str(data_ind)+'_organics_speaker.pt'\n",
    "    model.load_state_dict(torch.load(check_path))\n",
    "\n",
    "    predictions,answers,test_loss = test_evaluate(model, test_loader)\n",
    "    predictions=[ dat.cpu().numpy() for dat in predictions]\n",
    "    answers=[ dat.cpu().numpy() for dat in answers]\n",
    "\n",
    "    \n",
    "    cf = confusion_matrix(answers, predictions)\n",
    "    cf_list.append(cf)\n",
    "    \n",
    "    acc = (cf[0,0]+cf[1,1])/(cf[0,0]+cf[0,1]+cf[1,0]+cf[1,1])\n",
    "    average_accuracy+=acc\n",
    "    \n",
    "    precision=cf[1,1]/(cf[0,1]+cf[1,1])\n",
    "    \n",
    "    recall=cf[1,1]/(cf[1,1]+cf[1,0])\n",
    "    \n",
    "    specificity=cf[0,0]/(cf[0,0]+cf[0,1])\n",
    "    average_uar += (specificity+recall)/2\n",
    "    #fscore=2*precision*recall/(precision+recall)\n",
    "    \n",
    "    #fscroe macro추가\n",
    "    fscore = f1_score(answers,predictions,average='macro')\n",
    "    average_fscore+=fscore\n",
    "    \n",
    "    print('{}번 모델'.format(data_ind))\n",
    "    print(\"Accuracy : {:.4f}% \".format(acc*100))\n",
    "    #print(\"Precision (pathology 예측한 것중 맞는 것) : {:.4f}\".format(precision))\n",
    "    print(\"recall (실제 pathology 중  예측이 맞는 것) : {:.4f}\".format(recall))\n",
    "    print(\"specificity : {:.4f}%\".format(specificity))\n",
    "    print(\"UAR : {:.4f}%\".format( (specificity+recall)/2 ))\n",
    "    \n",
    "    \n",
    "    print(\"f score : {:.4f} \".format(fscore))\n",
    "    print(cf)\n",
    "    print(\"-----\")\n",
    "    #### wandb\n",
    "    \n",
    "\n",
    "    wandb.log({\"{}fold Confusion Matrix\".format(data_ind) :wandb.sklearn.plot_confusion_matrix(answers, predictions, labels=classes)})\n",
    "    \n",
    "    ####\n",
    "    \n",
    "    \n",
    "    \n",
    "\n",
    "print(\"평균 acc : {:.4f}\".format(average_accuracy/5))\n",
    "print(\"평균 UAR : {:.4f}\".format(average_uar/5))\n",
    "print(\"평균 f1score : {:.4f}\".format(average_fscore/5))\n",
    "wandb.run.summary.update({\"test 평균 acc\" : average_accuracy/5})\n",
    "wandb.run.summary.update({\"test 평균 f1\" : average_fscore/5})\n",
    "wandb.run.summary.update({\"test 평균 UAR\" : average_uar/5})\n",
    "\n"
   ]
  },
  {
   "cell_type": "code",
   "execution_count": null,
   "id": "70d4cac4",
   "metadata": {},
   "outputs": [
    {
     "ename": "NameError",
     "evalue": "name 'ᄋᄋᄋᄋᄋᄋᄋᄋᄋ' is not defined",
     "output_type": "error",
     "traceback": [
      "\u001b[1;31m---------------------------------------------------------------------------\u001b[0m",
      "\u001b[1;31mNameError\u001b[0m                                 Traceback (most recent call last)",
      "\u001b[1;32m~\\AppData\\Local\\Temp/ipykernel_3184/757536221.py\u001b[0m in \u001b[0;36m<module>\u001b[1;34m\u001b[0m\n\u001b[1;32m----> 1\u001b[1;33m \u001b[0mㅇㅇㅇㅇㅇㅇㅇㅇㅇ\u001b[0m\u001b[1;33m\u001b[0m\u001b[1;33m\u001b[0m\u001b[0m\n\u001b[0m",
      "\u001b[1;31mNameError\u001b[0m: name 'ᄋᄋᄋᄋᄋᄋᄋᄋᄋ' is not defined"
     ]
    }
   ],
   "source": [
    "ㅇㅇㅇㅇㅇㅇㅇㅇㅇ"
   ]
  },
  {
   "cell_type": "markdown",
   "id": "38befa06",
   "metadata": {},
   "source": [
    "# loss 시각화"
   ]
  },
  {
   "cell_type": "code",
   "execution_count": null,
   "id": "726a124f",
   "metadata": {},
   "outputs": [],
   "source": [
    "plt.plot(train_loss_list[0])\n",
    "plt.plot(valid_loss_list[0])\n",
    "plt.show()"
   ]
  },
  {
   "cell_type": "code",
   "execution_count": null,
   "id": "ab4c63c6",
   "metadata": {},
   "outputs": [],
   "source": [
    "plt.plot(train_loss_list[1])\n",
    "plt.plot(valid_loss_list[1])\n",
    "plt.show()"
   ]
  },
  {
   "cell_type": "code",
   "execution_count": null,
   "id": "a20a80e3",
   "metadata": {},
   "outputs": [],
   "source": [
    "plt.plot(train_loss_list[2])\n",
    "plt.plot(valid_loss_list[2])\n",
    "plt.show()"
   ]
  },
  {
   "cell_type": "code",
   "execution_count": null,
   "id": "c0844b82",
   "metadata": {},
   "outputs": [],
   "source": [
    "plt.plot(train_loss_list[3])\n",
    "plt.plot(valid_loss_list[3])\n",
    "plt.show()"
   ]
  },
  {
   "cell_type": "code",
   "execution_count": null,
   "id": "967cb3fb",
   "metadata": {},
   "outputs": [],
   "source": [
    "plt.plot(train_loss_list[4])\n",
    "plt.plot(valid_loss_list[4])\n",
    "plt.show()"
   ]
  },
  {
   "cell_type": "code",
   "execution_count": null,
   "id": "4a30c958",
   "metadata": {},
   "outputs": [],
   "source": [
    "plt.plot(train_accs_list[0])\n",
    "plt.plot(valid_accs_list[0])\n",
    "plt.show()"
   ]
  },
  {
   "cell_type": "code",
   "execution_count": null,
   "id": "3bb4d193",
   "metadata": {},
   "outputs": [],
   "source": [
    "plt.plot(train_accs_list[1])\n",
    "plt.plot(valid_accs_list[1])\n",
    "plt.show()"
   ]
  },
  {
   "cell_type": "code",
   "execution_count": null,
   "id": "ab39285a",
   "metadata": {},
   "outputs": [],
   "source": [
    "plt.plot(train_accs_list[2])\n",
    "plt.plot(valid_accs_list[2])\n",
    "plt.show()"
   ]
  },
  {
   "cell_type": "code",
   "execution_count": null,
   "id": "3abbc85f",
   "metadata": {},
   "outputs": [],
   "source": [
    "plt.plot(train_accs_list[3])\n",
    "plt.plot(valid_accs_list[3])\n",
    "plt.show()"
   ]
  },
  {
   "cell_type": "code",
   "execution_count": null,
   "id": "8ba0b821",
   "metadata": {},
   "outputs": [],
   "source": [
    "plt.plot(train_accs_list[4])\n",
    "plt.plot(valid_accs_list[4])\n",
    "plt.show()"
   ]
  },
  {
   "cell_type": "markdown",
   "id": "88e84a9f",
   "metadata": {},
   "source": [
    "# 결과 출력 -validation"
   ]
  },
  {
   "cell_type": "code",
   "execution_count": null,
   "id": "3bb4245e",
   "metadata": {},
   "outputs": [],
   "source": [
    "# 모델\n",
    "# pretrained\n",
    "\n",
    "class ResLayer(nn.Module):\n",
    "    def __init__(self):\n",
    "        super(ResLayer, self).__init__()\n",
    "        self.model = models.resnet18(pretrained=True).cuda() \n",
    "        self.num_ftrs = self.model.fc.out_features\n",
    "        \n",
    "        \n",
    "        \n",
    "        self.fc = nn.Sequential(       \n",
    "            nn.Linear(self.num_ftrs, 64),\n",
    "                             nn.BatchNorm1d(64),\n",
    "                             nn.ReLU(),\n",
    "                             nn.Dropout(p=0.5),\n",
    "                             nn.Linear(64,50),\n",
    "                             nn.BatchNorm1d(50),\n",
    "                             nn.ReLU(),\n",
    "                             nn.Dropout(p=0.5),\n",
    "                             nn.Linear(50,2)\n",
    "                            )\n",
    "        \n",
    "\n",
    "    def forward(self, x):\n",
    "        x = self.model(x)\n",
    "        x  = self.fc(x)\n",
    "        return x\n",
    "\n",
    "\n",
    "\n",
    "\n",
    "\n",
    "def model_initialize():\n",
    "    model = ResLayer().cuda()\n",
    "    return model\n",
    "\n",
    "model=model_initialize()"
   ]
  },
  {
   "cell_type": "code",
   "execution_count": null,
   "id": "53988588",
   "metadata": {},
   "outputs": [],
   "source": [
    "#default param\n",
    "mfcc_run_config = dict(\n",
    "    sr=16000,\n",
    "    n_mfcc=27,\n",
    "    #dct_type=3, # type2 default\n",
    "    lifter = 35,\n",
    "\n",
    "    \n",
    "    #mel spectro\n",
    "    n_mels=170,\n",
    "    hop_length=750,\n",
    "    n_fft =14056,    \n",
    "    win_length=1100,\n",
    "    f_max=8000,\n",
    "    \n",
    "    # training\n",
    "    #batch_size=32,\n",
    "    mel_scale ='htk',\n",
    "    \n",
    "    # data\n",
    "    fold=1,\n",
    ")\n",
    "\n",
    "mel_run_config = dict(\n",
    "    sr=16000,\n",
    "    n_mels=128,\n",
    "    win_length =  300,\n",
    "    n_fft= 2048,\n",
    "    hop_length= 50,\n",
    "    f_max = 8000    \n",
    ")\n",
    "\n",
    "\n",
    "spectro_run_config =dict(\n",
    "    sr=16000,\n",
    "    n_fft=350,\n",
    "    hop_length=50,\n",
    "    win_length=350,\n",
    "    # training\n",
    "    batch_size=16,\n",
    ")\n",
    "\n",
    "\n"
   ]
  },
  {
   "cell_type": "code",
   "execution_count": null,
   "id": "37bbbe8e",
   "metadata": {},
   "outputs": [],
   "source": [
    "from torch.utils.data import Dataset, DataLoader\n",
    "\n",
    "classes = [\"healthy\",\"pathology\"]\n",
    "\n",
    "\n",
    "class svd_dataset_valid(Dataset):\n",
    "    def __init__(self,data_path_list,classes,data_num,training,mfcc_params,mel_params,spectro_params,transform=None,normalize=None,mfcc_normalize=None):\n",
    "        #클래스에서 사용할 인자를 받아 인스턴스 변수로 저장하는 일을 한다.\n",
    "        #예를들면, 이미지의 경로 리스트를 저장하는 일을 하게 된다.\n",
    "        \n",
    "        #data_num : k 개 데이터 셋 중 어떤것을 쓸지\n",
    "        #test인지 아닌지.\n",
    "        \n",
    "        self.path_list = data_path_list[data_num]\n",
    "        self.data_num = data_num\n",
    "        self.training = training\n",
    "        self.label = svd_dataset_valid.get_label(self.path_list,training,data_num)\n",
    "        self.classes=classes\n",
    "        self.transform=transform\n",
    "        self.normalize=normalize\n",
    "        self.mfcc_normalize = mfcc_normalize\n",
    "        # sweep params\n",
    "        self.mel_params = mel_params\n",
    "        self.spectro_params = spectro_params\n",
    "        self.mfcc_params = mfcc_params\n",
    "        #sr,n_mfcc,lifter, hop_length , win_length , n_mels , n_fft , f_max , batch_size\n",
    "\n",
    "        \n",
    "    \n",
    "    @classmethod\n",
    "    def get_label(cls,data_path_list,training,data_num):\n",
    "        label_list=[]\n",
    "        \n",
    "        if training:\n",
    "            for idx,x in enumerate(data_path_list):\n",
    "                label_list.append(Y_train_list[data_num][idx])\n",
    "        else:\n",
    "            for idx,x in enumerate(data_path_list):\n",
    "                label_list.append(Y_valid_list[data_num][idx])\n",
    "        #print(label_list)\n",
    "        return label_list\n",
    "    \n",
    "    \n",
    "    def __len__(self):\n",
    "        return len(self.path_list)\n",
    "        #데이터 셋의 길이를 정수로 반환한다.     \n",
    "    \n",
    "       \n",
    "    def __getitem__(self, idx):\n",
    "        \"\"\"\n",
    "        1. path를 받아서, 소리에서 mfcc를 추출\n",
    "        2. mfcc를 224프레임으로 패딩.\n",
    "        3. resnet에 사용되기 위해 3채널로 복사(rgb 처럼)\n",
    "        4. 0~1 정규화\n",
    "        \n",
    "        \"\"\"\n",
    "        sig = phrase_dict[ str(self.path_list[idx])+'-phrase.wav'] \n",
    "        #sig = preemphasis(sig)\n",
    "        \n",
    "        origin_length = sig.shape[0]\n",
    "        \n",
    "        if sig.shape[0] > self.mfcc_params[\"sr\"]*2:\n",
    "            origin_length = self.mfcc_params[\"sr\"]*2\n",
    "        \n",
    "        origin_frame_size = 1 + int(np.floor(origin_length//self.mel_params[\"hop_length\"]))\n",
    "        \n",
    "        length = self.mfcc_params[\"sr\"]*2 #sample rate *2 padding을 위한 파라미터 (하이퍼 파라미터로인해 사이즈는 계속 바뀐다.)\n",
    "        pad1d = lambda a, i: a[0:i] if a.shape[0] > i else np.hstack((a, np.zeros((i-a.shape[0]))))        \n",
    "        sig = pad1d(sig,length)        \n",
    "        \n",
    "        ###signal norm\n",
    "        sig = (sig-sig.mean())/sig.std()\n",
    "        ###\n",
    "        \n",
    "        mel_feature = librosa.feature.melspectrogram(y=sig,\n",
    "                                                     sr=self.mel_params[\"sr\"],\n",
    "                                                     # hyp param\n",
    "                                                     n_mels = self.mel_params[\"n_mels\"],\n",
    "                                                     n_fft = self.mel_params[\"n_fft\"],\n",
    "                                                     win_length = self.mel_params[\"win_length\"],\n",
    "                                                     hop_length = self.mel_params[\"hop_length\"],\n",
    "                                                     fmax = self.mel_params[\"f_max\"]\n",
    "                                                    )\n",
    "        mel_feature = librosa.core.power_to_db(mel_feature,ref=np.max) \n",
    "        \n",
    "        \n",
    "        if self.transform:\n",
    "            mel_feature = self.transform(mel_feature).type(torch.float32)# 데이터 0~1 정규화\n",
    "            MSF = torch.stack([mel_feature, mel_feature, mel_feature])# 3채널로 복사.\n",
    "            MSF = MSF.squeeze(dim=1)    \n",
    "            \n",
    "            # global normalize\n",
    "            if self.normalize:\n",
    "                #MFCCs=self.normalize(MFCCs)\n",
    "                MSF = self.normalize(MSF)\n",
    "        else:\n",
    "            pass\n",
    "            #print(\"else\")\n",
    "            mel_feature = torch.from_numpy(mel_feature).type(torch.float32)\n",
    "            mel_feature = mel_feature.unsqueeze(0)#cnn 사용위해서 추가\n",
    "            #MFCCs = MFCCs.permute(2, 0, 1)\n",
    "        return MSF, self.classes.index(self.label[idx]),str(self.path_list[idx])+'-phrase.wav'\n",
    "    "
   ]
  },
  {
   "cell_type": "code",
   "execution_count": null,
   "id": "5ae6e9b1",
   "metadata": {},
   "outputs": [],
   "source": [
    "\n",
    "all_filename=[]\n",
    "all_prediction=[]\n",
    "all_answers=[]\n",
    "\n",
    "\n",
    "def seed_worker(worker_id):\n",
    "    worker_seed = torch.initial_seed() % 2**32\n",
    "    np.random.seed(worker_seed)\n",
    "    random.seed(worker_seed)\n",
    "\n",
    "\n",
    "def valid_evaluate(model,data_ind):\n",
    "\n",
    "    model.eval()\n",
    "    test_loss = 0\n",
    "    predictions = []\n",
    "    answers = []\n",
    "    file_name = []\n",
    "    \n",
    "    criterion = nn.CrossEntropyLoss()\n",
    "    BATCH_SIZE=16\n",
    "\n",
    "    validation_loader = torch.utils.data.DataLoader(dataset = \n",
    "                                               svd_dataset_valid(\n",
    "                                                   X_valid_list,\n",
    "                                                   classes,\n",
    "                                                   transform = transforms.ToTensor(),\n",
    "                                                   data_num=data_ind,\n",
    "                                                   #normalize=transforms.Normalize((-11.4805,-54.7723,-54.7723),(16.87,19.0226,19.0226)),\n",
    "                                                   #mfcc_normalize=(53.5582, 217.43),\n",
    "                                                   mfcc_params=mfcc_run_config,\n",
    "                                                   mel_params=mel_run_config,\n",
    "                                                   spectro_params=spectro_run_config,\n",
    "                                                   training=False\n",
    "                                               ),\n",
    "                                                    batch_size = BATCH_SIZE,\n",
    "                                                    shuffle = True,\n",
    "                                                    worker_init_fn=seed_worker)    \n",
    "    \n",
    "    \n",
    "    \n",
    "    with torch.no_grad():\n",
    "        for image,label,path_list in validation_loader:\n",
    "            image = image.to(DEVICE)\n",
    "            label = label.to(DEVICE)\n",
    "            output = model(image)\n",
    "            test_loss += criterion(output, label).item()\n",
    "            prediction = output.max(1,keepdim=True)[1] # 가장 확률이 높은 class 1개를 가져온다.그리고 인덱스만\n",
    "            answers +=label\n",
    "            predictions +=prediction\n",
    "            file_name+=(path_list)\n",
    "        all_filename.append(file_name)\n",
    "        all_prediction.append(predictions)\n",
    "        all_answers.append(answers)\n",
    "    return predictions,answers,test_loss\n",
    "            "
   ]
  },
  {
   "cell_type": "code",
   "execution_count": null,
   "id": "f542e566",
   "metadata": {},
   "outputs": [
    {
     "name": "stdout",
     "output_type": "stream",
     "text": [
      "1번 모델\n",
      "Accuracy : 84.8624% \n",
      "Precision (pathology 예측한 것중 맞는 것) : 0.8636\n",
      "recall (실제 pathology 중  예측이 맞는 것) : 0.8407\n",
      "specificity : 0.8571%\n",
      "UAR : 0.8489%\n",
      "f score : 0.8485 \n",
      "[[90 15]\n",
      " [18 95]]\n",
      "-----\n",
      "2번 모델\n",
      "Accuracy : 87.8505% \n",
      "Precision (pathology 예측한 것중 맞는 것) : 0.8707\n",
      "recall (실제 pathology 중  예측이 맞는 것) : 0.9018\n",
      "specificity : 0.8529%\n",
      "UAR : 0.8774%\n",
      "f score : 0.8780 \n",
      "[[ 87  15]\n",
      " [ 11 101]]\n",
      "-----\n",
      "3번 모델\n",
      "Accuracy : 86.1702% \n",
      "Precision (pathology 예측한 것중 맞는 것) : 0.8488\n",
      "recall (실제 pathology 중  예측이 맞는 것) : 0.8488\n",
      "specificity : 0.8725%\n",
      "UAR : 0.8607%\n",
      "f score : 0.8607 \n",
      "[[89 13]\n",
      " [13 73]]\n",
      "-----\n",
      "4번 모델\n",
      "Accuracy : 88.8889% \n",
      "Precision (pathology 예측한 것중 맞는 것) : 0.8642\n",
      "recall (실제 pathology 중  예측이 맞는 것) : 0.8861\n",
      "specificity : 0.8911%\n",
      "UAR : 0.8886%\n",
      "f score : 0.8875 \n",
      "[[90 11]\n",
      " [ 9 70]]\n",
      "-----\n",
      "5번 모델\n",
      "Accuracy : 92.3858% \n",
      "Precision (pathology 예측한 것중 맞는 것) : 0.9263\n",
      "recall (실제 pathology 중  예측이 맞는 것) : 0.9167\n",
      "specificity : 0.9307%\n",
      "UAR : 0.9237%\n",
      "f score : 0.9238 \n",
      "[[94  7]\n",
      " [ 8 88]]\n",
      "-----\n",
      "평균 acc : 0.8803\n",
      "평균 UAR : 0.8798\n",
      "평균 f1score : 0.8797\n"
     ]
    }
   ],
   "source": [
    "# Confusion matrix (resnet18)\n",
    "# kfold의 confusion matrix는 계산 방법이 다르다.\n",
    "# 모델을 각각 불러와서 test set을 평가한다.\n",
    "\n",
    "from sklearn.metrics import confusion_matrix\n",
    "from sklearn.metrics import f1_score\n",
    "\n",
    "cf = np.zeros((2,2))\n",
    "cf_list = []\n",
    "average_accuracy = 0\n",
    "average_fscore = 0\n",
    "average_uar = 0\n",
    "\n",
    "all_filename=[]\n",
    "all_prediction=[]\n",
    "all_answers=[]\n",
    "\n",
    "args={  'model':'baseline',\n",
    "        'seed':1004\n",
    "        }\n",
    "\n",
    "\n",
    "\n",
    "\n",
    "\n",
    "for data_ind in range(1,6):\n",
    "    model=model_initialize()\n",
    "    check_path = './checkpoint/checkpoint_ros_fold_'+str(data_ind)+'_'+args['model']+'_seed_'+str(args['seed'])+'_organics_speaker.pt'\n",
    "    model.load_state_dict(torch.load(check_path))\n",
    "\n",
    "    predictions,answers,valid_loss = valid_evaluate(model, data_ind-1)\n",
    "    predictions=[ dat.cpu().numpy() for dat in predictions]\n",
    "    answers=[ dat.cpu().numpy() for dat in answers]\n",
    "\n",
    "    \n",
    "    cf = confusion_matrix(answers, predictions)\n",
    "    cf_list.append(cf)\n",
    "    \n",
    "    acc = (cf[0,0]+cf[1,1])/(cf[0,0]+cf[0,1]+cf[1,0]+cf[1,1])\n",
    "    average_accuracy+=acc\n",
    "    \n",
    "    precision=cf[1,1]/(cf[0,1]+cf[1,1])\n",
    "    \n",
    "    recall=cf[1,1]/(cf[1,1]+cf[1,0])\n",
    "    \n",
    "    specificity=cf[0,0]/(cf[0,0]+cf[0,1])\n",
    "    average_uar += (specificity+recall)/2\n",
    "    \n",
    "    #fscroe macro추가\n",
    "    fscore = f1_score(answers,predictions,average='macro')\n",
    "    average_fscore+=fscore\n",
    "    \n",
    "    print('{}번 모델'.format(data_ind))\n",
    "    print(\"Accuracy : {:.4f}% \".format(acc*100))\n",
    "    print(\"Precision (pathology 예측한 것중 맞는 것) : {:.4f}\".format(precision))\n",
    "    print(\"recall (실제 pathology 중  예측이 맞는 것) : {:.4f}\".format(recall))\n",
    "    print(\"specificity : {:.4f}%\".format(specificity))\n",
    "    print(\"UAR : {:.4f}%\".format( (specificity+recall)/2 ))\n",
    "    \n",
    "    \n",
    "    print(\"f score : {:.4f} \".format(fscore))\n",
    "    print(cf)\n",
    "    print(\"-----\")\n",
    "    \n",
    "    \n",
    "    \n",
    "\n",
    "print(\"평균 acc : {:.4f}\".format(average_accuracy/5))\n",
    "print(\"평균 UAR : {:.4f}\".format(average_uar/5))\n",
    "print(\"평균 f1score : {:.4f}\".format(average_fscore/5))\n",
    "\n",
    "\n"
   ]
  },
  {
   "cell_type": "code",
   "execution_count": null,
   "id": "0eb7b2a9",
   "metadata": {},
   "outputs": [
    {
     "data": {
      "text/plain": [
       "5"
      ]
     },
     "execution_count": 42,
     "metadata": {},
     "output_type": "execute_result"
    }
   ],
   "source": [
    "len(all_filename)"
   ]
  },
  {
   "cell_type": "code",
   "execution_count": null,
   "id": "cbd19358",
   "metadata": {},
   "outputs": [],
   "source": [
    "fold_excel = []\n",
    "for i in range(5):\n",
    "    fold_excel.append(pd.DataFrame({'filename':all_filename[i],\n",
    "                  'prediction':[data.cpu().numpy().item() for data in all_prediction[i]],\n",
    "                  'answer':[ data.cpu().numpy().item() for data in all_answers[i]],\n",
    "                  'fold':i+1}))"
   ]
  },
  {
   "cell_type": "code",
   "execution_count": null,
   "id": "7afc7e35",
   "metadata": {},
   "outputs": [],
   "source": [
    "fold_excel_all=pd.concat(fold_excel,axis=0)"
   ]
  },
  {
   "cell_type": "code",
   "execution_count": null,
   "id": "d553f2f7",
   "metadata": {},
   "outputs": [
    {
     "data": {
      "text/html": [
       "<div>\n",
       "<style scoped>\n",
       "    .dataframe tbody tr th:only-of-type {\n",
       "        vertical-align: middle;\n",
       "    }\n",
       "\n",
       "    .dataframe tbody tr th {\n",
       "        vertical-align: top;\n",
       "    }\n",
       "\n",
       "    .dataframe thead th {\n",
       "        text-align: right;\n",
       "    }\n",
       "</style>\n",
       "<table border=\"1\" class=\"dataframe\">\n",
       "  <thead>\n",
       "    <tr style=\"text-align: right;\">\n",
       "      <th></th>\n",
       "      <th>RECORDING</th>\n",
       "      <th>PATHOLOGY</th>\n",
       "      <th>DATE</th>\n",
       "      <th>SPEAKER</th>\n",
       "      <th>GENDER</th>\n",
       "      <th>AGE</th>\n",
       "      <th>DETAIL</th>\n",
       "      <th>DIAG</th>\n",
       "    </tr>\n",
       "  </thead>\n",
       "  <tbody>\n",
       "    <tr>\n",
       "      <th>0</th>\n",
       "      <td>715</td>\n",
       "      <td>p</td>\n",
       "      <td>20.05.1998</td>\n",
       "      <td>1407</td>\n",
       "      <td>w</td>\n",
       "      <td>63</td>\n",
       "      <td>Laryngitis; Leukoplakie</td>\n",
       "      <td>structural</td>\n",
       "    </tr>\n",
       "    <tr>\n",
       "      <th>1</th>\n",
       "      <td>1303</td>\n",
       "      <td>p</td>\n",
       "      <td>21.04.1999</td>\n",
       "      <td>1407</td>\n",
       "      <td>w</td>\n",
       "      <td>64</td>\n",
       "      <td>Leukoplakie</td>\n",
       "      <td>structural</td>\n",
       "    </tr>\n",
       "    <tr>\n",
       "      <th>2</th>\n",
       "      <td>1557</td>\n",
       "      <td>p</td>\n",
       "      <td>08.12.1999</td>\n",
       "      <td>1407</td>\n",
       "      <td>w</td>\n",
       "      <td>65</td>\n",
       "      <td>Leukoplakie</td>\n",
       "      <td>structural</td>\n",
       "    </tr>\n",
       "    <tr>\n",
       "      <th>3</th>\n",
       "      <td>1559</td>\n",
       "      <td>p</td>\n",
       "      <td>15.12.1999</td>\n",
       "      <td>1407</td>\n",
       "      <td>w</td>\n",
       "      <td>65</td>\n",
       "      <td>Leukoplakie</td>\n",
       "      <td>structural</td>\n",
       "    </tr>\n",
       "    <tr>\n",
       "      <th>4</th>\n",
       "      <td>1864</td>\n",
       "      <td>p</td>\n",
       "      <td>29.11.2000</td>\n",
       "      <td>1407</td>\n",
       "      <td>w</td>\n",
       "      <td>66</td>\n",
       "      <td>Leukoplakie</td>\n",
       "      <td>structural</td>\n",
       "    </tr>\n",
       "  </tbody>\n",
       "</table>\n",
       "</div>"
      ],
      "text/plain": [
       "   RECORDING PATHOLOGY        DATE  SPEAKER GENDER  AGE  \\\n",
       "0        715         p  20.05.1998     1407      w   63   \n",
       "1       1303         p  21.04.1999     1407      w   64   \n",
       "2       1557         p  08.12.1999     1407      w   65   \n",
       "3       1559         p  15.12.1999     1407      w   65   \n",
       "4       1864         p  29.11.2000     1407      w   66   \n",
       "\n",
       "                    DETAIL        DIAG  \n",
       "0  Laryngitis; Leukoplakie  structural  \n",
       "1              Leukoplakie  structural  \n",
       "2              Leukoplakie  structural  \n",
       "3              Leukoplakie  structural  \n",
       "4              Leukoplakie  structural  "
      ]
     },
     "execution_count": 45,
     "metadata": {},
     "output_type": "execute_result"
    }
   ],
   "source": [
    "answer_paper=pd.read_excel('D:/project/voice_pathology_ai/voice_data/only_organics_healthy.xlsx')\n",
    "answer_paper.head()"
   ]
  },
  {
   "cell_type": "code",
   "execution_count": null,
   "id": "c041ccab",
   "metadata": {},
   "outputs": [],
   "source": [
    "answer_paper['RECORDING']=answer_paper['RECORDING'].values.astype(str)"
   ]
  },
  {
   "cell_type": "code",
   "execution_count": null,
   "id": "d7f744d9",
   "metadata": {},
   "outputs": [],
   "source": [
    "answer_paper['RECORDING']=answer_paper['RECORDING']+'-phrase.wav'"
   ]
  },
  {
   "cell_type": "code",
   "execution_count": null,
   "id": "6390fe95",
   "metadata": {},
   "outputs": [
    {
     "data": {
      "text/html": [
       "<div>\n",
       "<style scoped>\n",
       "    .dataframe tbody tr th:only-of-type {\n",
       "        vertical-align: middle;\n",
       "    }\n",
       "\n",
       "    .dataframe tbody tr th {\n",
       "        vertical-align: top;\n",
       "    }\n",
       "\n",
       "    .dataframe thead th {\n",
       "        text-align: right;\n",
       "    }\n",
       "</style>\n",
       "<table border=\"1\" class=\"dataframe\">\n",
       "  <thead>\n",
       "    <tr style=\"text-align: right;\">\n",
       "      <th></th>\n",
       "      <th>RECORDING</th>\n",
       "      <th>DETAIL</th>\n",
       "      <th>AGE</th>\n",
       "    </tr>\n",
       "  </thead>\n",
       "  <tbody>\n",
       "    <tr>\n",
       "      <th>0</th>\n",
       "      <td>715-phrase.wav</td>\n",
       "      <td>Laryngitis; Leukoplakie</td>\n",
       "      <td>63</td>\n",
       "    </tr>\n",
       "    <tr>\n",
       "      <th>1</th>\n",
       "      <td>1303-phrase.wav</td>\n",
       "      <td>Leukoplakie</td>\n",
       "      <td>64</td>\n",
       "    </tr>\n",
       "    <tr>\n",
       "      <th>2</th>\n",
       "      <td>1557-phrase.wav</td>\n",
       "      <td>Leukoplakie</td>\n",
       "      <td>65</td>\n",
       "    </tr>\n",
       "    <tr>\n",
       "      <th>3</th>\n",
       "      <td>1559-phrase.wav</td>\n",
       "      <td>Leukoplakie</td>\n",
       "      <td>65</td>\n",
       "    </tr>\n",
       "    <tr>\n",
       "      <th>4</th>\n",
       "      <td>1864-phrase.wav</td>\n",
       "      <td>Leukoplakie</td>\n",
       "      <td>66</td>\n",
       "    </tr>\n",
       "    <tr>\n",
       "      <th>...</th>\n",
       "      <td>...</td>\n",
       "      <td>...</td>\n",
       "      <td>...</td>\n",
       "    </tr>\n",
       "    <tr>\n",
       "      <th>1461</th>\n",
       "      <td>80-phrase.wav</td>\n",
       "      <td>control</td>\n",
       "      <td>49</td>\n",
       "    </tr>\n",
       "    <tr>\n",
       "      <th>1462</th>\n",
       "      <td>81-phrase.wav</td>\n",
       "      <td>control</td>\n",
       "      <td>42</td>\n",
       "    </tr>\n",
       "    <tr>\n",
       "      <th>1463</th>\n",
       "      <td>82-phrase.wav</td>\n",
       "      <td>control</td>\n",
       "      <td>49</td>\n",
       "    </tr>\n",
       "    <tr>\n",
       "      <th>1464</th>\n",
       "      <td>83-phrase.wav</td>\n",
       "      <td>control</td>\n",
       "      <td>46</td>\n",
       "    </tr>\n",
       "    <tr>\n",
       "      <th>1465</th>\n",
       "      <td>153-phrase.wav</td>\n",
       "      <td>control</td>\n",
       "      <td>60</td>\n",
       "    </tr>\n",
       "  </tbody>\n",
       "</table>\n",
       "<p>1466 rows × 3 columns</p>\n",
       "</div>"
      ],
      "text/plain": [
       "            RECORDING                   DETAIL  AGE\n",
       "0      715-phrase.wav  Laryngitis; Leukoplakie   63\n",
       "1     1303-phrase.wav              Leukoplakie   64\n",
       "2     1557-phrase.wav              Leukoplakie   65\n",
       "3     1559-phrase.wav              Leukoplakie   65\n",
       "4     1864-phrase.wav              Leukoplakie   66\n",
       "...               ...                      ...  ...\n",
       "1461    80-phrase.wav                  control   49\n",
       "1462    81-phrase.wav                  control   42\n",
       "1463    82-phrase.wav                  control   49\n",
       "1464    83-phrase.wav                  control   46\n",
       "1465   153-phrase.wav                  control   60\n",
       "\n",
       "[1466 rows x 3 columns]"
      ]
     },
     "execution_count": 48,
     "metadata": {},
     "output_type": "execute_result"
    }
   ],
   "source": [
    "answer_paper[['RECORDING','DETAIL','AGE']]"
   ]
  },
  {
   "cell_type": "code",
   "execution_count": null,
   "id": "623c791c",
   "metadata": {},
   "outputs": [
    {
     "data": {
      "text/html": [
       "<div>\n",
       "<style scoped>\n",
       "    .dataframe tbody tr th:only-of-type {\n",
       "        vertical-align: middle;\n",
       "    }\n",
       "\n",
       "    .dataframe tbody tr th {\n",
       "        vertical-align: top;\n",
       "    }\n",
       "\n",
       "    .dataframe thead th {\n",
       "        text-align: right;\n",
       "    }\n",
       "</style>\n",
       "<table border=\"1\" class=\"dataframe\">\n",
       "  <thead>\n",
       "    <tr style=\"text-align: right;\">\n",
       "      <th></th>\n",
       "      <th>filename</th>\n",
       "      <th>prediction</th>\n",
       "      <th>answer</th>\n",
       "      <th>fold</th>\n",
       "      <th>RECORDING</th>\n",
       "      <th>DETAIL</th>\n",
       "      <th>AGE</th>\n",
       "    </tr>\n",
       "  </thead>\n",
       "  <tbody>\n",
       "    <tr>\n",
       "      <th>0</th>\n",
       "      <td>946-phrase.wav</td>\n",
       "      <td>0</td>\n",
       "      <td>0</td>\n",
       "      <td>1</td>\n",
       "      <td>946-phrase.wav</td>\n",
       "      <td>control</td>\n",
       "      <td>37</td>\n",
       "    </tr>\n",
       "    <tr>\n",
       "      <th>1</th>\n",
       "      <td>94-phrase.wav</td>\n",
       "      <td>1</td>\n",
       "      <td>0</td>\n",
       "      <td>1</td>\n",
       "      <td>94-phrase.wav</td>\n",
       "      <td>control</td>\n",
       "      <td>55</td>\n",
       "    </tr>\n",
       "    <tr>\n",
       "      <th>2</th>\n",
       "      <td>876-phrase.wav</td>\n",
       "      <td>1</td>\n",
       "      <td>1</td>\n",
       "      <td>1</td>\n",
       "      <td>876-phrase.wav</td>\n",
       "      <td>Diplophonie; Kontaktpachydermie</td>\n",
       "      <td>73</td>\n",
       "    </tr>\n",
       "    <tr>\n",
       "      <th>3</th>\n",
       "      <td>1181-phrase.wav</td>\n",
       "      <td>0</td>\n",
       "      <td>0</td>\n",
       "      <td>1</td>\n",
       "      <td>1181-phrase.wav</td>\n",
       "      <td>control</td>\n",
       "      <td>32</td>\n",
       "    </tr>\n",
       "    <tr>\n",
       "      <th>4</th>\n",
       "      <td>2028-phrase.wav</td>\n",
       "      <td>1</td>\n",
       "      <td>1</td>\n",
       "      <td>1</td>\n",
       "      <td>2028-phrase.wav</td>\n",
       "      <td>Dysphonie; Laryngitis</td>\n",
       "      <td>36</td>\n",
       "    </tr>\n",
       "    <tr>\n",
       "      <th>...</th>\n",
       "      <td>...</td>\n",
       "      <td>...</td>\n",
       "      <td>...</td>\n",
       "      <td>...</td>\n",
       "      <td>...</td>\n",
       "      <td>...</td>\n",
       "      <td>...</td>\n",
       "    </tr>\n",
       "    <tr>\n",
       "      <th>992</th>\n",
       "      <td>1967-phrase.wav</td>\n",
       "      <td>1</td>\n",
       "      <td>1</td>\n",
       "      <td>5</td>\n",
       "      <td>1967-phrase.wav</td>\n",
       "      <td>Kontaktpachydermie</td>\n",
       "      <td>60</td>\n",
       "    </tr>\n",
       "    <tr>\n",
       "      <th>993</th>\n",
       "      <td>21-phrase.wav</td>\n",
       "      <td>0</td>\n",
       "      <td>0</td>\n",
       "      <td>5</td>\n",
       "      <td>21-phrase.wav</td>\n",
       "      <td>control</td>\n",
       "      <td>20</td>\n",
       "    </tr>\n",
       "    <tr>\n",
       "      <th>994</th>\n",
       "      <td>2498-phrase.wav</td>\n",
       "      <td>0</td>\n",
       "      <td>1</td>\n",
       "      <td>5</td>\n",
       "      <td>2498-phrase.wav</td>\n",
       "      <td>Kontaktpachydermie</td>\n",
       "      <td>29</td>\n",
       "    </tr>\n",
       "    <tr>\n",
       "      <th>995</th>\n",
       "      <td>2375-phrase.wav</td>\n",
       "      <td>1</td>\n",
       "      <td>1</td>\n",
       "      <td>5</td>\n",
       "      <td>2375-phrase.wav</td>\n",
       "      <td>Reinke ?em</td>\n",
       "      <td>52</td>\n",
       "    </tr>\n",
       "    <tr>\n",
       "      <th>996</th>\n",
       "      <td>680-phrase.wav</td>\n",
       "      <td>0</td>\n",
       "      <td>0</td>\n",
       "      <td>5</td>\n",
       "      <td>680-phrase.wav</td>\n",
       "      <td>control</td>\n",
       "      <td>20</td>\n",
       "    </tr>\n",
       "  </tbody>\n",
       "</table>\n",
       "<p>997 rows × 7 columns</p>\n",
       "</div>"
      ],
      "text/plain": [
       "            filename  prediction  answer  fold        RECORDING  \\\n",
       "0     946-phrase.wav           0       0     1   946-phrase.wav   \n",
       "1      94-phrase.wav           1       0     1    94-phrase.wav   \n",
       "2     876-phrase.wav           1       1     1   876-phrase.wav   \n",
       "3    1181-phrase.wav           0       0     1  1181-phrase.wav   \n",
       "4    2028-phrase.wav           1       1     1  2028-phrase.wav   \n",
       "..               ...         ...     ...   ...              ...   \n",
       "992  1967-phrase.wav           1       1     5  1967-phrase.wav   \n",
       "993    21-phrase.wav           0       0     5    21-phrase.wav   \n",
       "994  2498-phrase.wav           0       1     5  2498-phrase.wav   \n",
       "995  2375-phrase.wav           1       1     5  2375-phrase.wav   \n",
       "996   680-phrase.wav           0       0     5   680-phrase.wav   \n",
       "\n",
       "                              DETAIL  AGE  \n",
       "0                            control   37  \n",
       "1                            control   55  \n",
       "2    Diplophonie; Kontaktpachydermie   73  \n",
       "3                            control   32  \n",
       "4              Dysphonie; Laryngitis   36  \n",
       "..                               ...  ...  \n",
       "992               Kontaktpachydermie   60  \n",
       "993                          control   20  \n",
       "994               Kontaktpachydermie   29  \n",
       "995                       Reinke ?em   52  \n",
       "996                          control   20  \n",
       "\n",
       "[997 rows x 7 columns]"
      ]
     },
     "execution_count": 49,
     "metadata": {},
     "output_type": "execute_result"
    }
   ],
   "source": [
    "merge_left = pd.merge(fold_excel_all,answer_paper[['RECORDING','DETAIL','AGE']], how='left', left_on='filename', right_on='RECORDING')\n",
    "merge_left"
   ]
  },
  {
   "cell_type": "code",
   "execution_count": null,
   "id": "a7224bb1",
   "metadata": {},
   "outputs": [],
   "source": [
    "merge_left.drop(['RECORDING'],axis=1,inplace=True)"
   ]
  },
  {
   "cell_type": "code",
   "execution_count": null,
   "id": "95705a7a",
   "metadata": {},
   "outputs": [],
   "source": [
    "merge_left['result']=merge_left['prediction']==merge_left['answer']"
   ]
  },
  {
   "cell_type": "code",
   "execution_count": null,
   "id": "c71de1e1",
   "metadata": {},
   "outputs": [
    {
     "data": {
      "text/html": [
       "<div>\n",
       "<style scoped>\n",
       "    .dataframe tbody tr th:only-of-type {\n",
       "        vertical-align: middle;\n",
       "    }\n",
       "\n",
       "    .dataframe tbody tr th {\n",
       "        vertical-align: top;\n",
       "    }\n",
       "\n",
       "    .dataframe thead th {\n",
       "        text-align: right;\n",
       "    }\n",
       "</style>\n",
       "<table border=\"1\" class=\"dataframe\">\n",
       "  <thead>\n",
       "    <tr style=\"text-align: right;\">\n",
       "      <th></th>\n",
       "      <th>filename</th>\n",
       "      <th>prediction</th>\n",
       "      <th>answer</th>\n",
       "      <th>fold</th>\n",
       "      <th>DETAIL</th>\n",
       "      <th>AGE</th>\n",
       "      <th>result</th>\n",
       "    </tr>\n",
       "  </thead>\n",
       "  <tbody>\n",
       "    <tr>\n",
       "      <th>0</th>\n",
       "      <td>946-phrase.wav</td>\n",
       "      <td>0</td>\n",
       "      <td>0</td>\n",
       "      <td>1</td>\n",
       "      <td>control</td>\n",
       "      <td>37</td>\n",
       "      <td>True</td>\n",
       "    </tr>\n",
       "    <tr>\n",
       "      <th>1</th>\n",
       "      <td>94-phrase.wav</td>\n",
       "      <td>1</td>\n",
       "      <td>0</td>\n",
       "      <td>1</td>\n",
       "      <td>control</td>\n",
       "      <td>55</td>\n",
       "      <td>False</td>\n",
       "    </tr>\n",
       "    <tr>\n",
       "      <th>2</th>\n",
       "      <td>876-phrase.wav</td>\n",
       "      <td>1</td>\n",
       "      <td>1</td>\n",
       "      <td>1</td>\n",
       "      <td>Diplophonie; Kontaktpachydermie</td>\n",
       "      <td>73</td>\n",
       "      <td>True</td>\n",
       "    </tr>\n",
       "    <tr>\n",
       "      <th>3</th>\n",
       "      <td>1181-phrase.wav</td>\n",
       "      <td>0</td>\n",
       "      <td>0</td>\n",
       "      <td>1</td>\n",
       "      <td>control</td>\n",
       "      <td>32</td>\n",
       "      <td>True</td>\n",
       "    </tr>\n",
       "    <tr>\n",
       "      <th>4</th>\n",
       "      <td>2028-phrase.wav</td>\n",
       "      <td>1</td>\n",
       "      <td>1</td>\n",
       "      <td>1</td>\n",
       "      <td>Dysphonie; Laryngitis</td>\n",
       "      <td>36</td>\n",
       "      <td>True</td>\n",
       "    </tr>\n",
       "    <tr>\n",
       "      <th>...</th>\n",
       "      <td>...</td>\n",
       "      <td>...</td>\n",
       "      <td>...</td>\n",
       "      <td>...</td>\n",
       "      <td>...</td>\n",
       "      <td>...</td>\n",
       "      <td>...</td>\n",
       "    </tr>\n",
       "    <tr>\n",
       "      <th>992</th>\n",
       "      <td>1967-phrase.wav</td>\n",
       "      <td>1</td>\n",
       "      <td>1</td>\n",
       "      <td>5</td>\n",
       "      <td>Kontaktpachydermie</td>\n",
       "      <td>60</td>\n",
       "      <td>True</td>\n",
       "    </tr>\n",
       "    <tr>\n",
       "      <th>993</th>\n",
       "      <td>21-phrase.wav</td>\n",
       "      <td>0</td>\n",
       "      <td>0</td>\n",
       "      <td>5</td>\n",
       "      <td>control</td>\n",
       "      <td>20</td>\n",
       "      <td>True</td>\n",
       "    </tr>\n",
       "    <tr>\n",
       "      <th>994</th>\n",
       "      <td>2498-phrase.wav</td>\n",
       "      <td>0</td>\n",
       "      <td>1</td>\n",
       "      <td>5</td>\n",
       "      <td>Kontaktpachydermie</td>\n",
       "      <td>29</td>\n",
       "      <td>False</td>\n",
       "    </tr>\n",
       "    <tr>\n",
       "      <th>995</th>\n",
       "      <td>2375-phrase.wav</td>\n",
       "      <td>1</td>\n",
       "      <td>1</td>\n",
       "      <td>5</td>\n",
       "      <td>Reinke ?em</td>\n",
       "      <td>52</td>\n",
       "      <td>True</td>\n",
       "    </tr>\n",
       "    <tr>\n",
       "      <th>996</th>\n",
       "      <td>680-phrase.wav</td>\n",
       "      <td>0</td>\n",
       "      <td>0</td>\n",
       "      <td>5</td>\n",
       "      <td>control</td>\n",
       "      <td>20</td>\n",
       "      <td>True</td>\n",
       "    </tr>\n",
       "  </tbody>\n",
       "</table>\n",
       "<p>997 rows × 7 columns</p>\n",
       "</div>"
      ],
      "text/plain": [
       "            filename  prediction  answer  fold  \\\n",
       "0     946-phrase.wav           0       0     1   \n",
       "1      94-phrase.wav           1       0     1   \n",
       "2     876-phrase.wav           1       1     1   \n",
       "3    1181-phrase.wav           0       0     1   \n",
       "4    2028-phrase.wav           1       1     1   \n",
       "..               ...         ...     ...   ...   \n",
       "992  1967-phrase.wav           1       1     5   \n",
       "993    21-phrase.wav           0       0     5   \n",
       "994  2498-phrase.wav           0       1     5   \n",
       "995  2375-phrase.wav           1       1     5   \n",
       "996   680-phrase.wav           0       0     5   \n",
       "\n",
       "                              DETAIL  AGE  result  \n",
       "0                            control   37    True  \n",
       "1                            control   55   False  \n",
       "2    Diplophonie; Kontaktpachydermie   73    True  \n",
       "3                            control   32    True  \n",
       "4              Dysphonie; Laryngitis   36    True  \n",
       "..                               ...  ...     ...  \n",
       "992               Kontaktpachydermie   60    True  \n",
       "993                          control   20    True  \n",
       "994               Kontaktpachydermie   29   False  \n",
       "995                       Reinke ?em   52    True  \n",
       "996                          control   20    True  \n",
       "\n",
       "[997 rows x 7 columns]"
      ]
     },
     "execution_count": 52,
     "metadata": {},
     "output_type": "execute_result"
    }
   ],
   "source": [
    "merge_left"
   ]
  },
  {
   "cell_type": "code",
   "execution_count": null,
   "id": "86057b2f",
   "metadata": {},
   "outputs": [],
   "source": [
    "excel_name = 'D:/project/voice_pathology_ai/voice_data/'+args['model']+'_seed_'+str(args['seed'])+'_organics_speaker.xlsx'\n",
    "merge_left.to_excel(excel_name,index=False)"
   ]
  },
  {
   "cell_type": "code",
   "execution_count": null,
   "id": "48a27fad",
   "metadata": {},
   "outputs": [],
   "source": []
  }
 ],
 "metadata": {
  "kernelspec": {
   "display_name": "Python 3 (ipykernel)",
   "language": "python",
   "name": "python3"
  },
  "language_info": {
   "codemirror_mode": {
    "name": "ipython",
    "version": 3
   },
   "file_extension": ".py",
   "mimetype": "text/x-python",
   "name": "python",
   "nbconvert_exporter": "python",
   "pygments_lexer": "ipython3",
   "version": "3.8.12"
  },
  "toc": {
   "base_numbering": 1,
   "nav_menu": {},
   "number_sections": false,
   "sideBar": true,
   "skip_h1_title": false,
   "title_cell": "Table of Contents",
   "title_sidebar": "Contents",
   "toc_cell": false,
   "toc_position": {
    "height": "561.143px",
    "left": "22px",
    "top": "111.143px",
    "width": "255.025px"
   },
   "toc_section_display": true,
   "toc_window_display": true
  },
  "vscode": {
   "interpreter": {
    "hash": "427fa2592f9d0b947426e18ee897f81f41d4196bbcbbd4ad171fc20ee58cf88d"
   }
  }
 },
 "nbformat": 4,
 "nbformat_minor": 5
}
