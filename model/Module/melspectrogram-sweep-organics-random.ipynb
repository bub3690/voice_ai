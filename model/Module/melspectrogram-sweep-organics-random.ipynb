{
 "cells": [
  {
   "cell_type": "markdown",
   "id": "6505136e",
   "metadata": {},
   "source": [
    "- http://keunwoochoi.blogspot.com/2016/03/2.html\n",
    "- http://www.rex-ai.info/docs/AI_Example_CNN_speech_recognize\n",
    "- https://www.youtube.com/watch?v=oltGIc4uo5c\n",
    "- https://youdaeng-com.tistory.com/5\n",
    "- https://quokkas.tistory.com/37 : early stopping\n",
    "- https://continuous-development.tistory.com/166 : stratified kfold\n",
    "- https://deep-learning-study.tistory.com/476 fiter 시각화\n",
    "- https://wyatt37.tistory.com/10 : random over sampling"
   ]
  },
  {
   "cell_type": "code",
   "execution_count": 80,
   "id": "20cf3fcc",
   "metadata": {},
   "outputs": [],
   "source": [
    "import wandb\n",
    "import numpy as np"
   ]
  },
  {
   "cell_type": "code",
   "execution_count": 81,
   "id": "81ae2fb8",
   "metadata": {},
   "outputs": [],
   "source": [
    "import wandb\n",
    "\n",
    "#default param\n",
    "run_config = dict(\n",
    "    sr=16000,\n",
    "    n_mels=128,\n",
    "    win_length =  300,\n",
    "    n_fft= 2048,\n",
    "    hop_length= 50,\n",
    "    f_max = 8000    \n",
    ")\n"
   ]
  },
  {
   "cell_type": "code",
   "execution_count": 82,
   "id": "4709244d",
   "metadata": {},
   "outputs": [
    {
     "name": "stderr",
     "output_type": "stream",
     "text": [
      "Failed to detect the name of this notebook, you can set it manually with the WANDB_NOTEBOOK_NAME environment variable to enable code saving.\n"
     ]
    },
    {
     "name": "stdout",
     "output_type": "stream",
     "text": [
      "Create sweep with ID: l4lhk2pf\n",
      "Sweep URL: https://wandb.ai/bub3690/SVD-hyp-sweep2/sweeps/l4lhk2pf\n"
     ]
    }
   ],
   "source": [
    "# n_mels\n",
    "\n",
    "sweep_config = {\n",
    "    \"project\" : \"SVD-voice-disorder\",\n",
    "    \"name\": \"melspectrogram-seed1004\",\n",
    "  \"method\": \"random\",\n",
    "  \"parameters\": {\n",
    "      \"n_mels\" :{\n",
    "           \"values\":np.arange(50,192,10).tolist()\n",
    "       },\n",
    "      \"win_length\": {\n",
    "            \"values\": np.arange(50,4096,10).tolist()\n",
    "        },       \n",
    "      \"n_fft\": {\n",
    "            \"values\": np.arange(50,4096,10).tolist() # 제일 중요한 파라미터. 윈도우에서 몇만큼의 데이터를 사용하고 나머지 패딩할지\n",
    "        },\n",
    "       \"hop_length\": {\n",
    "          \"values\": np.arange(50,1000,50).tolist()\n",
    "      },\n",
    "    }\n",
    "}\n",
    "\n",
    "sweep_id = wandb.sweep(sweep_config,project=\"SVD-hyp-sweep2\",entity=\"bub3690\")\n"
   ]
  },
  {
   "cell_type": "code",
   "execution_count": 83,
   "id": "275b8092",
   "metadata": {},
   "outputs": [
    {
     "name": "stdout",
     "output_type": "stream",
     "text": [
      "Using Pytorch version :  1.10.2  Device :  cuda\n"
     ]
    }
   ],
   "source": [
    "import torch\n",
    "import matplotlib.pyplot as plt\n",
    "import numpy as np\n",
    "import torch\n",
    "import torch.nn as nn # 인공 신경망 모델들 모아놓은 모듈\n",
    "import torch.nn.functional as F #그중 자주 쓰이는것들을 F로\n",
    "from torchvision import transforms, datasets\n",
    "import cv2\n",
    "from torchvision import transforms, datasets\n",
    "import pandas as pd\n",
    "import os\n",
    "from glob import glob\n",
    "import torchvision.models as models\n",
    "import sys\n",
    "\n",
    "from Utils.pytorchtools import EarlyStopping # 상위 폴더에 추가된 모듈.\n",
    "\n",
    "\n",
    "if torch.cuda.is_available():\n",
    "    DEVICE = torch.device('cuda')\n",
    "else:\n",
    "    DEVICE = torch.device('cpu')\n",
    "#DEVICE = torch.device('cpu')\n",
    "print('Using Pytorch version : ',torch.__version__,' Device : ',DEVICE)"
   ]
  },
  {
   "cell_type": "code",
   "execution_count": 84,
   "id": "0081a011",
   "metadata": {},
   "outputs": [
    {
     "data": {
      "text/plain": [
       "<torch._C.Generator at 0x1f897d8d150>"
      ]
     },
     "execution_count": 84,
     "metadata": {},
     "output_type": "execute_result"
    }
   ],
   "source": [
    "import torchaudio\n",
    "#import torchaudio.functional as F\n",
    "import torchaudio.transforms as T\n",
    "\n",
    "torch.backends.cudnn.deterministic = True\n",
    "torch.backends.cudnn.benchmark = False\n",
    "torch.manual_seed(1234)"
   ]
  },
  {
   "cell_type": "markdown",
   "id": "249ebea6",
   "metadata": {},
   "source": [
    "# SVD 문장 데이터에서 Feature 추출\n",
    "- mfcc"
   ]
  },
  {
   "cell_type": "code",
   "execution_count": 85,
   "id": "dddaab10",
   "metadata": {},
   "outputs": [],
   "source": [
    "import numpy as np\n",
    "import librosa, librosa.display \n",
    "import matplotlib.pyplot as plt"
   ]
  },
  {
   "cell_type": "markdown",
   "id": "1a38dcdc",
   "metadata": {},
   "source": [
    "# 데이터 나누기 - Stratified KFold\n",
    "\n",
    "- pathology : 1194 / healthy : 634 / 총 1828\n",
    "- k = 5"
   ]
  },
  {
   "cell_type": "markdown",
   "id": "1a148977",
   "metadata": {},
   "source": [
    "## 1. test/ train 나누기\n"
   ]
  },
  {
   "cell_type": "code",
   "execution_count": 86,
   "id": "4c150342",
   "metadata": {},
   "outputs": [],
   "source": [
    "speaker_data=pd.read_excel(\"../../voice_data/only_organics_healthy_available.xlsx\")"
   ]
  },
  {
   "cell_type": "code",
   "execution_count": 87,
   "id": "503fc854",
   "metadata": {},
   "outputs": [
    {
     "name": "stdout",
     "output_type": "stream",
     "text": [
      "427\n",
      "630\n"
     ]
    }
   ],
   "source": [
    "pathology = speaker_data[speaker_data['PATHOLOGY']=='p']['SPEAKER'].unique().tolist()\n",
    "healthy = speaker_data[speaker_data['PATHOLOGY']=='n']['SPEAKER'].unique().tolist()\n",
    "print(len(pathology))\n",
    "print(len(healthy))"
   ]
  },
  {
   "cell_type": "code",
   "execution_count": 88,
   "id": "c45e9ce8",
   "metadata": {},
   "outputs": [],
   "source": [
    "#겹치는 speaker는 곱하기 100을 해준다.\n",
    "#3명이 겹친다.\n",
    "changed_patients = list(set(healthy) & set(pathology))\n",
    "\n",
    "for patient in changed_patients:\n",
    "    temp=pathology[pathology.index(patient)]*100\n",
    "    pathology[pathology.index(patient)] = temp\n",
    "    "
   ]
  },
  {
   "cell_type": "code",
   "execution_count": 89,
   "id": "c72d82e0",
   "metadata": {},
   "outputs": [
    {
     "name": "stdout",
     "output_type": "stream",
     "text": [
      "총 데이터수 :  1057\n",
      "---\n",
      "훈련 셋 :  845 Counter({'healthy': 504, 'pathology': 341})\n",
      "테스트 셋 :  212 Counter({'healthy': 126, 'pathology': 86})\n",
      "---\n"
     ]
    }
   ],
   "source": [
    "#train test 나누기\n",
    "\n",
    "import os\n",
    "from glob import glob\n",
    "from sklearn.model_selection import StratifiedKFold\n",
    "from imblearn.over_sampling import RandomOverSampler\n",
    "from collections import Counter\n",
    "from sklearn.model_selection import train_test_split # train , test 분리에 사용.\n",
    "\n",
    "\n",
    "random_state = 1004 # 1004,1005,1006,1007,1008\n",
    "\n",
    "X = pathology+healthy # path 데이터 합\n",
    "print(\"총 데이터수 : \",len(X))\n",
    "Y = [] # 라벨\n",
    "for idx,x in enumerate(X):\n",
    "    if idx<427:\n",
    "        Y.append(\"pathology\")\n",
    "    else:\n",
    "        Y.append(\"healthy\")\n",
    "\n",
    "X, X_test, Y, Y_test = train_test_split(X, Y, test_size=0.2, shuffle=True, stratify=Y, random_state=random_state) #456\n",
    "#stratify를 넣어서, test에도 라벨별 잘 분류되게 한다.\n",
    "\n",
    "print(\"---\")\n",
    "print(\"훈련 셋 : \",len(Y),Counter(Y))\n",
    "print(\"테스트 셋 : \",len(Y_test),Counter(Y_test))\n",
    "print(\"---\")\n",
    "\n"
   ]
  },
  {
   "cell_type": "markdown",
   "id": "c0a99443",
   "metadata": {},
   "source": [
    "## 2. stratified k-fold"
   ]
  },
  {
   "cell_type": "code",
   "execution_count": 90,
   "id": "c38ceb20",
   "metadata": {},
   "outputs": [
    {
     "name": "stdout",
     "output_type": "stream",
     "text": [
      "교차 검증 : 1\n",
      "학습 레이블 데이터 분포 : \n",
      " {'healthy': 403, 'pathology': 273}\n",
      "검증 레이블 데이터 분포 : \n",
      " {'healthy': 101, 'pathology': 68} \n",
      "\n",
      "교차 검증 : 2\n",
      "학습 레이블 데이터 분포 : \n",
      " {'healthy': 403, 'pathology': 273}\n",
      "검증 레이블 데이터 분포 : \n",
      " {'healthy': 101, 'pathology': 68} \n",
      "\n",
      "교차 검증 : 3\n",
      "학습 레이블 데이터 분포 : \n",
      " {'healthy': 403, 'pathology': 273}\n",
      "검증 레이블 데이터 분포 : \n",
      " {'healthy': 101, 'pathology': 68} \n",
      "\n",
      "교차 검증 : 4\n",
      "학습 레이블 데이터 분포 : \n",
      " {'healthy': 403, 'pathology': 273}\n",
      "검증 레이블 데이터 분포 : \n",
      " {'healthy': 101, 'pathology': 68} \n",
      "\n",
      "교차 검증 : 5\n",
      "학습 레이블 데이터 분포 : \n",
      " {'healthy': 404, 'pathology': 272}\n",
      "검증 레이블 데이터 분포 : \n",
      " {'healthy': 100, 'pathology': 69} \n",
      "\n"
     ]
    }
   ],
   "source": [
    "#1. train, test 나누기\n",
    "#stratified kfold\n",
    "import os\n",
    "import random #데이터 shuffle 사용\n",
    "from glob import glob\n",
    "from sklearn.model_selection import StratifiedKFold\n",
    "from imblearn.over_sampling import RandomOverSampler\n",
    "from collections import Counter\n",
    "\n",
    "\n",
    "\n",
    "skf_iris = StratifiedKFold(n_splits=5,shuffle=True,random_state=456)\n",
    "cnt_iter = 0\n",
    "\n",
    "X_train_list = [] #데이터 셋 보관\n",
    "Y_train_list = []\n",
    "\n",
    "X_valid_list = []\n",
    "Y_valid_list = []\n",
    "\n",
    "for train_idx, test_idx in skf_iris.split(X,Y):\n",
    "    \n",
    "    #split으로 반환된 인덱스를 이용하여, 학습 검증용 테스트 데이터 추출\n",
    "    cnt_iter += 1\n",
    "    X_train, X_valid = [X[idx] for idx in train_idx.tolist() ], [X[idx] for idx in test_idx.tolist() ]\n",
    "    Y_train, Y_valid = [Y[idx] for idx in train_idx.tolist() ], [Y[idx] for idx in test_idx.tolist() ]\n",
    "    \n",
    "    X_train_list.append(X_train)\n",
    "    X_valid_list.append(X_valid)\n",
    "    \n",
    "    Y_train_list.append(Y_train)\n",
    "    Y_valid_list.append(Y_valid)\n",
    "    \n",
    "    \n",
    "    #학습 및 예측\n",
    "    \n",
    "    label_train = Y_train\n",
    "    label_test = Y_valid\n",
    "    unique_train, train_counts = np.unique(label_train, return_counts = True)\n",
    "    unique_test, test_counts = np.unique(label_test, return_counts = True)\n",
    "    \n",
    "    uniq_cnt_train = dict(zip(unique_train, train_counts))\n",
    "    uniq_cnt_test = dict(zip(unique_test, test_counts))\n",
    "    \n",
    "    \n",
    "    \n",
    "    print('교차 검증 : {}'.format(cnt_iter))\n",
    "    print('학습 레이블 데이터 분포 : \\n', uniq_cnt_train)\n",
    "    print('검증 레이블 데이터 분포 : \\n', uniq_cnt_test,'\\n')\n",
    "\n"
   ]
  },
  {
   "cell_type": "markdown",
   "id": "2bbcb94b",
   "metadata": {},
   "source": [
    "# speaker to voice"
   ]
  },
  {
   "cell_type": "code",
   "execution_count": 91,
   "id": "7f725375",
   "metadata": {},
   "outputs": [],
   "source": [
    "# speaker to voice\n",
    "\n",
    "all_train_record_list = []\n",
    "all_valid_record_list = []\n",
    "all_test_record_list = []\n",
    "\n",
    "all_train_label_list = []\n",
    "all_valid_label_list = []\n",
    "all_test_label_list = []\n",
    "\n",
    "#train\n",
    "for fold_idx,fold in enumerate(X_train_list):\n",
    "    fold_record=[]\n",
    "    fold_y_record=[]\n",
    "    for idx,speaker in enumerate(fold):\n",
    "        record_list = speaker_data[speaker_data['SPEAKER']==speaker]['RECORDING'].tolist()\n",
    "        label_list = [ Y_train_list[fold_idx][idx] ] * len(record_list)\n",
    "        \n",
    "        fold_record += record_list\n",
    "        fold_y_record += label_list\n",
    "    all_train_record_list.append(fold_record)\n",
    "    all_train_label_list.append(fold_y_record)\n",
    "\n",
    "    \n",
    "#valid\n",
    "for fold_idx,fold in enumerate(X_valid_list):\n",
    "    fold_record=[]\n",
    "    fold_y_record=[]\n",
    "    for idx,speaker in enumerate(fold):\n",
    "        record_list = speaker_data[speaker_data['SPEAKER']==speaker]['RECORDING'].tolist()\n",
    "        label_list = [ Y_valid_list[fold_idx][idx] ] * len(record_list)\n",
    "        \n",
    "        fold_record += record_list\n",
    "        fold_y_record += label_list\n",
    "    all_valid_record_list.append(fold_record)\n",
    "    all_valid_label_list.append(fold_y_record)\n",
    "    \n",
    "#test\n",
    "fold_record=[]\n",
    "fold_y_record=[]\n",
    "for idx,speaker in enumerate(X_test):\n",
    "    record_list = speaker_data[speaker_data['SPEAKER']==speaker]['RECORDING'].tolist()\n",
    "    label_list = [ Y_test[idx] ] * len(record_list)\n",
    "    fold_record += record_list\n",
    "    fold_y_record += label_list\n",
    "all_test_record_list = fold_record\n",
    "all_test_label_list = fold_y_record\n",
    "\n",
    "\n",
    "X_train_list = all_train_record_list\n",
    "X_valid_list = all_valid_record_list\n",
    "X_test = all_test_record_list\n",
    "\n",
    "Y_train_list = all_train_label_list\n",
    "Y_valid_list = all_valid_label_list\n",
    "Y_test = all_test_label_list\n",
    "\n"
   ]
  },
  {
   "cell_type": "markdown",
   "id": "d0880b5c",
   "metadata": {},
   "source": [
    "## 3. random over sampling"
   ]
  },
  {
   "cell_type": "code",
   "execution_count": 92,
   "id": "9517c16f",
   "metadata": {},
   "outputs": [
    {
     "name": "stdout",
     "output_type": "stream",
     "text": [
      "\n",
      " fold0 \n",
      "before dataset shape Counter({'healthy': 406, 'pathology': 373})\n",
      "Resampled dataset shape Counter({'healthy': 406, 'pathology': 406})\n",
      "\n",
      " fold1 \n",
      "before dataset shape Counter({'healthy': 409, 'pathology': 374})\n",
      "Resampled dataset shape Counter({'healthy': 409, 'pathology': 409})\n",
      "\n",
      " fold2 \n",
      "before dataset shape Counter({'healthy': 409, 'pathology': 400})\n",
      "Resampled dataset shape Counter({'healthy': 409, 'pathology': 409})\n",
      "\n",
      " fold3 \n",
      "before dataset shape Counter({'healthy': 410, 'pathology': 407})\n",
      "Resampled dataset shape Counter({'healthy': 410, 'pathology': 410})\n",
      "\n",
      " fold4 \n",
      "before dataset shape Counter({'healthy': 410, 'pathology': 390})\n",
      "Resampled dataset shape Counter({'pathology': 410, 'healthy': 410})\n"
     ]
    }
   ],
   "source": [
    "#2. random over sampling\n",
    "for i in range(5):\n",
    "    X_temp = np.array(X_train_list[i]).reshape(-1,1)#각 데이터를 다 행으로 넣음. (1194,1)\n",
    "    #Y = np.array(Y)\n",
    "    ros = RandomOverSampler(random_state = 123)\n",
    "    X_res,Y_res = ros.fit_resample(X_temp,Y_train_list[i])\n",
    "    \n",
    "    print(\"\\n fold{} \".format(i))\n",
    "    print('before dataset shape {}'.format(Counter(Y_train_list[i])) )\n",
    "    print('Resampled dataset shape {}'.format(Counter(Y_res)) )   \n",
    "    \n",
    "    #원래대로 돌리기\n",
    "    X_res=X_res.reshape(1, -1)\n",
    "    X_train_list[i]=X_res[0].tolist()\n",
    "    Y_train_list[i]=Y_res\n",
    "\n",
    "\n"
   ]
  },
  {
   "cell_type": "code",
   "execution_count": 93,
   "id": "ec6174e7",
   "metadata": {},
   "outputs": [
    {
     "data": {
      "text/plain": [
       "array([[1803, 1034,    5,   61, 2126,   33, 1106, 2218, 1871,  365, 1120,\n",
       "        1986,   16, 2262, 1438, 1652, 1666, 1672, 1677, 1689, 1723, 1762,\n",
       "        1769, 1914, 1945, 1961, 1994, 2022, 2159, 2352, 2361, 2397, 2485,\n",
       "        1587,   45, 1732, 2283, 1399, 2507, 1169, 1743, 1863,  993, 1549,\n",
       "         683, 1046, 2153, 2330, 1372, 1517, 1719, 1789, 1534, 1957,  632,\n",
       "         825,  691, 1820,  876,  565, 1136,  709, 1167, 1091,  943,  979,\n",
       "        1840, 1102, 1140,  989,  861, 2567,  842, 1854, 2286,   34,  992,\n",
       "         841,  931, 1500, 1416, 2206,  721, 1830,  679, 1912, 2260,   54,\n",
       "         122, 2414, 2574,  867,  928, 1105, 1540,  119, 1269, 1614, 1930,\n",
       "        2296,  704, 1351, 1216, 1699, 1870, 1847,   15,  929,   71, 1142,\n",
       "         952, 2565, 2591, 2493, 1725,    9, 2602, 1437,  702, 1078, 1366,\n",
       "        1535, 1953, 1917, 2595,  725, 1604, 1901, 1809,   30, 1075, 1356,\n",
       "        2394, 1536,    2, 1013,  500,   47, 1137, 1123, 2492,  932, 1969,\n",
       "        1347, 2381, 1352, 2562,  844, 1107, 1344, 1679,  945, 1521,  564,\n",
       "        1081, 1555,  493, 1512, 1775, 2128, 1108, 2450, 1019, 1806, 1128,\n",
       "        1264, 1728,  991, 1922, 1974, 1002, 1082, 1174, 2009,   12,  708,\n",
       "        1617, 1076, 1999, 2424, 1229, 1274, 1447,   60,  951, 1095,  969,\n",
       "        1737, 1978,  955, 1014,   72, 1004, 2231, 1667, 1778,  962, 2210,\n",
       "        1613,   56, 1262, 1292, 1402, 2150, 2469,  883,  912,  860, 1872,\n",
       "        1382, 1563, 1237, 2220, 2543,  999, 2096, 1414, 1315,  633, 1176,\n",
       "        1509, 1523, 2527, 2263, 2519, 2586, 2264, 2501, 2582, 1456, 2581,\n",
       "        1839, 1621, 1482, 2021, 1776, 2109, 1920, 1252, 1007, 1755,  961,\n",
       "         123,  946, 1049, 1572, 1133,  671,  879,  492, 1069,  712,   83,\n",
       "         874, 2555,  973, 1702,  862, 1585, 2594,  109,  131, 1570, 1784,\n",
       "        2024, 1852,  670, 1314, 1564, 2435, 1458,  819, 1092, 1739, 1233,\n",
       "        1348, 1749, 1913,   88, 2610,  150,  689, 1077,  732, 1067,   42,\n",
       "        1528,   46, 1579, 1605, 1513,  956, 1223, 1325, 1185,  965, 1842,\n",
       "         716, 2008, 1195, 1214,   52, 2532, 1020,  959, 1212, 1151,  811,\n",
       "        2161, 2188, 2211,   37,   96, 1460, 1711, 1884, 1796, 1576, 1622,\n",
       "        1527, 1691, 1892, 2083, 2190, 1009,   14, 1584,   22, 1359, 1072,\n",
       "          84, 1367,  143,  726, 1060,  699,  107,  743,  942, 1937, 1950,\n",
       "        1992, 2010, 2023, 2082, 2141, 2158, 2194, 2396, 2440, 1707, 1036,\n",
       "         568, 1211, 1362,   38, 2514,  958, 1149, 2404, 1516,   67,  138,\n",
       "         745, 1068, 1023,   63, 1885,  446,  935, 1710, 2248, 1865, 1620,\n",
       "         629,  908, 1271,  886, 2343, 2561, 1919, 1867, 1970, 1270, 1277,\n",
       "        1289, 1364, 1858, 1757, 1763, 1770, 1782, 1790, 1797, 1804, 1807,\n",
       "        1817, 1821, 1834, 1869, 1902, 1908, 1909, 1938, 1960, 1972, 1998,\n",
       "        2030, 2227, 2234, 2304, 2320, 2284, 1741, 1239, 1245, 2495,   53,\n",
       "         737, 1533, 1965, 1747,   90,  833, 1349, 2341, 1427,  695, 1644,\n",
       "        1722,   26, 1008,   36,  897, 2028,  859, 1714, 1141, 2156, 2592,\n",
       "        1850,  967,  102, 1045, 1056,  997, 1829, 1358, 2252,  686, 2203,\n",
       "        2556, 1462, 2605,  968, 1717, 2491, 1209, 1518, 1139, 1542, 1531,\n",
       "        1578,   97,    4, 1157, 1146, 1371, 2258, 1515,   29, 2557, 1582,\n",
       "        2587, 1027, 1070, 2279, 1111, 1538, 1632, 2351, 1173, 1623, 2100,\n",
       "        1547, 1426,   48,   27,  808, 1629, 1665, 1047, 1021,   68, 1712,\n",
       "           7, 1171, 2118, 1453, 1825, 1955, 1103,  104, 1783, 2549, 2090,\n",
       "        1094,  126,  855,   81,  681, 1101, 1599,   99, 1330, 1664, 1713,\n",
       "        1153, 2257,  132, 2510, 1647, 1841, 1026,  130, 1145,   31,  495,\n",
       "         157,  824,  684,  497, 2426, 1336,  950, 2541,  865,  971, 1247,\n",
       "        1360,  498, 2478, 1524,   62, 1029, 1591,  957,  919,  863,  875,\n",
       "        1404, 1444, 1110, 1921, 1361,  949, 1436, 1826, 1835, 2142, 2033,\n",
       "          58, 1180, 1127,  902,  918,   59, 1181, 2305, 1522,  813, 1405,\n",
       "        1440,  840,  747, 2600,  562,  984, 1125, 2072, 1846, 1730,  960,\n",
       "        1537,  135,  838,  828, 1350, 2014,   13,  688, 2015,  803, 1883,\n",
       "        1882,  998, 2261, 2103,  930, 2411,  155,  809,  742, 1696,    1,\n",
       "        1073, 1346, 1011,  133, 1005, 1472,  678, 1308, 2531, 1470, 1655,\n",
       "        1676, 1785, 2536, 1130, 1873, 1161, 2209, 1695, 1028, 2157, 1624,\n",
       "         690,  501,  675,   50,  701, 1508, 1726, 1484, 1581, 1877, 2273,\n",
       "          95, 2508, 1003, 1017,   44, 2420, 2282,   55, 1553, 1626, 1856,\n",
       "         146,  974, 1638,   18,   77,  134,  136,  141, 2073, 2193, 1641,\n",
       "        1748, 2467, 2254, 1532,   85, 2344,  563, 1704, 2460,   41,  630,\n",
       "         887, 1206, 1505, 1099, 1889,   98, 1065,  982, 1511, 1724,  697,\n",
       "        2474,  352, 1656,  972, 2403, 1881, 1924, 1520,  121, 1577, 1897,\n",
       "           8, 1851, 1630, 1253, 1836,   94, 1601, 1662, 2408, 1795,  739,\n",
       "        1709,  112,  923, 1290, 1646,  137, 2027,  869, 1182, 1024, 2092,\n",
       "        1345, 1700,   66,   92, 1184, 1855, 1249, 1263,  926, 2089, 2321,\n",
       "         831, 1357,  125, 1010, 2058, 1519, 2443, 1731, 1879, 1062,   79,\n",
       "        2253, 1018, 1168, 1218, 2538, 2406,  696, 1066, 2464, 2300, 2518,\n",
       "        1875,  985, 1097, 1272, 2418, 1342,   17,  976, 2476,  156,  944,\n",
       "         103, 2191, 2192,  491,  504, 1450, 1305,  978,  981, 1668,  627,\n",
       "        2496, 2086, 2251,  884,  117,  843,  821, 1639,  120, 1543, 1551,\n",
       "        1135, 1124, 1079, 1860,  889, 1090,  839,  705,  924, 1320, 1179,\n",
       "        2487,  703,  804, 1386, 1397, 1448, 2547, 1788, 2476, 1090, 1641,\n",
       "         883, 2156, 1961, 1999, 1414, 1049, 2591, 2227, 1722, 2150, 2582,\n",
       "         879, 1912, 1679, 2330, 1644, 2586]])"
      ]
     },
     "execution_count": 93,
     "metadata": {},
     "output_type": "execute_result"
    }
   ],
   "source": [
    "X_res"
   ]
  },
  {
   "cell_type": "code",
   "execution_count": 94,
   "id": "478af061",
   "metadata": {},
   "outputs": [],
   "source": [
    "import pickle\n",
    "\n",
    "\n",
    "    \n",
    "#load\n",
    "with open(\"../../voice_data/organics/phrase_sig_dict.pickle\",\"rb\") as fr:\n",
    "    phrase_dict = pickle.load(fr)\n",
    "\n",
    "#with open(\"../../voice_data/organics/phrase_minmax_scaler_hyper.pickle\",\"rb\") as fr:\n",
    "#    phrase_scaler = pickle.load(fr)\n",
    "    "
   ]
  },
  {
   "cell_type": "markdown",
   "id": "08a663f0",
   "metadata": {},
   "source": [
    "# 데이터 정의\n",
    "- 추가적으로 데이터의 크기를 맞춰주기 위해 3초로 padding 및 truncate 실시 https://sequencedata.tistory.com/25 FixAudioLength\n",
    "- 논문에서는 400frame으로 설정.(여기서는 500frame)\n",
    "- 전처리 방법 결정.\n"
   ]
  },
  {
   "cell_type": "code",
   "execution_count": 95,
   "id": "d56df016",
   "metadata": {},
   "outputs": [],
   "source": [
    "# 데이터 로더"
   ]
  },
  {
   "cell_type": "code",
   "execution_count": 96,
   "id": "2febf8cb",
   "metadata": {},
   "outputs": [],
   "source": [
    "from torch.utils.data import Dataset, DataLoader\n",
    "\n",
    "classes = [\"healthy\",\"pathology\"]\n",
    "\n",
    "\n",
    "class svd_dataset(Dataset):\n",
    "    def __init__(self,data_path_list,classes,data_num,training,mel_params,transform=None,normalize=None):\n",
    "        #클래스에서 사용할 인자를 받아 인스턴스 변수로 저장하는 일을 한다.\n",
    "        #예를들면, 이미지의 경로 리스트를 저장하는 일을 하게 된다.\n",
    "        \n",
    "        #data_num : k 개 데이터 셋 중 어떤것을 쓸지\n",
    "        #test인지 아닌지.\n",
    "        \n",
    "        self.path_list = data_path_list[data_num]\n",
    "        self.data_num = data_num\n",
    "        self.training = training\n",
    "        self.label = svd_dataset.get_label(self.path_list,training,data_num)\n",
    "        self.classes=classes\n",
    "        self.transform=transform\n",
    "        self.normalize=normalize\n",
    "        \n",
    "        # sweep params\n",
    "        self.mel_params = mel_params\n",
    "        # hop_length , win_length , n_mels , n_fft , f_max , batch_size\n",
    "        \n",
    "    \n",
    "    @classmethod\n",
    "    def get_label(cls,data_path_list,training,data_num):\n",
    "        label_list=[]\n",
    "        \n",
    "        if training:\n",
    "            for idx,x in enumerate(data_path_list):\n",
    "                label_list.append(Y_train_list[data_num][idx])\n",
    "        else:\n",
    "            for idx,x in enumerate(data_path_list):\n",
    "                label_list.append(Y_valid_list[data_num][idx])\n",
    "        #print(label_list)\n",
    "        return label_list\n",
    "    \n",
    "    \n",
    "    def __len__(self):\n",
    "        return len(self.path_list)\n",
    "        #데이터 셋의 길이를 정수로 반환한다.     \n",
    "    \n",
    "       \n",
    "    def __getitem__(self, idx):\n",
    "        \"\"\"\n",
    "        \"\"\"\n",
    "        sig = phrase_dict[ str(self.path_list[idx])+'-phrase.wav'] \n",
    "        #sig = preemphasis(sig)\n",
    "        origin_length = sig.shape[0]\n",
    "        \n",
    "        #if sig.shape[0] > self.mel_params[\"sr\"]*2:\n",
    "        #    origin_length = self.mel_params[\"sr\"]*2\n",
    "        \n",
    "        #origin_frame_size = 1 + int(np.floor(origin_length//self.mel_params[\"hop_length\"]))\n",
    "        \n",
    "        length = self.mel_params[\"sr\"]*2 #sample rate *2 padding을 위한 파라미터 (하이퍼 파라미터로인해 사이즈는 계속 바뀐다.)\n",
    "        pad1d = lambda a, i: a[0:i] if a.shape[0] > i else np.hstack((a, np.zeros((i-a.shape[0]))))        \n",
    "        sig = pad1d(sig,length)        \n",
    "        \n",
    "        ###signal norm\n",
    "        sig = (sig-sig.mean())/sig.std()\n",
    "        ###\n",
    "        \n",
    "        mel_feature = librosa.feature.melspectrogram(y=sig,\n",
    "                                                     sr=self.mel_params[\"sr\"],\n",
    "                                                     # hyp param\n",
    "                                                     n_mels = self.mel_params[\"n_mels\"],\n",
    "                                                     n_fft = self.mel_params[\"n_fft\"],\n",
    "                                                     win_length = self.mel_params[\"win_length\"],\n",
    "                                                     hop_length = self.mel_params[\"hop_length\"],\n",
    "                                                     fmax = self.mel_params[\"f_max\"]\n",
    "                                                    )\n",
    "        mel_feature = librosa.core.power_to_db(mel_feature,ref=np.max) \n",
    "        \n",
    "        if self.transform:\n",
    "            mel_feature = self.transform(mel_feature).type(torch.float32)# 데이터 0~1 정규화\n",
    "            MSF = torch.stack([mel_feature, mel_feature, mel_feature])# 3채널로 복사.\n",
    "            MSF = MSF.squeeze(dim=1)    \n",
    "            \n",
    "            # global normalize\n",
    "            if self.normalize:\n",
    "                #MFCCs=self.normalize(MFCCs)\n",
    "                MSF = self.normalize(MSF)\n",
    "        else:\n",
    "            pass\n",
    "            #print(\"else\")\n",
    "            mel_feature = torch.from_numpy(mel_feature).type(torch.float32)\n",
    "            mel_feature=mel_feature.unsqueeze(0)#cnn 사용위해서 추가\n",
    "            #MFCCs = MFCCs.permute(2, 0, 1)\n",
    "        return MSF, self.classes.index(self.label[idx])\n",
    "    "
   ]
  },
  {
   "cell_type": "markdown",
   "id": "074e2949",
   "metadata": {},
   "source": [
    "# 데이터로더"
   ]
  },
  {
   "cell_type": "code",
   "execution_count": 97,
   "id": "272bc789",
   "metadata": {},
   "outputs": [],
   "source": [
    "#3. 하이퍼 파라미터\n",
    "BATCH_SIZE =  16 #한 배치당 32개 음성데이터\n",
    "EPOCHS = 50 # 전체 데이터 셋을 50번 반복\n",
    "lr=1e-4\n",
    "augment_kind=\"no\"\n",
    "weight_decay = 0"
   ]
  },
  {
   "cell_type": "code",
   "execution_count": 98,
   "id": "bba97b37",
   "metadata": {},
   "outputs": [],
   "source": [
    "#DATA LOADER 함수가 BATCH_size 단위로 분리해 지정.\n",
    "\n",
    "#확인을 위해 데이터셋 하나만 확인\n",
    "\n",
    "\n",
    "train_loader = torch.utils.data.DataLoader(dataset = \n",
    "                                           svd_dataset(\n",
    "                                               X_train_list,\n",
    "                                               classes,\n",
    "                                               transform = transforms.ToTensor(),#이걸 composed로 고쳐서 전처리 하도록 수정. to tensor는 -데이터는 노멀라이즈못함.\n",
    "                                               #normalize=transforms.Normalize((-11.4805,-54.7723,-54.7723),(16.87,19.0226,19.0226)),\n",
    "                                               #mfcc_normalize=(53.5582, 217.43),\n",
    "                                               mel_params=run_config,\n",
    "                                               data_num=0,\n",
    "                                               training=True\n",
    "                                           ),\n",
    "                                           batch_size = BATCH_SIZE,\n",
    "                                           shuffle = True,\n",
    "                                           ) # 순서가 암기되는것을 막기위해.\n",
    "\n",
    "validation_loader = torch.utils.data.DataLoader(dataset = \n",
    "                                           svd_dataset(\n",
    "                                               X_valid_list,\n",
    "                                               classes,\n",
    "                                               transform = transforms.ToTensor(),\n",
    "                                               #normalize=transforms.Normalize((-11.4805,-54.7723,-54.7723),(16.87,19.0226,19.0226)),\n",
    "                                               #mfcc_normalize=(53.5582, 217.43),\n",
    "                                               mel_params=run_config,\n",
    "                                               data_num=0,\n",
    "                                               training=False\n",
    "                                           ),\n",
    "                                           batch_size = BATCH_SIZE,\n",
    "                                           shuffle = True,) \n",
    "\n"
   ]
  },
  {
   "cell_type": "markdown",
   "id": "52b15a86",
   "metadata": {},
   "source": [
    "# 데이터 확인"
   ]
  },
  {
   "cell_type": "code",
   "execution_count": 99,
   "id": "22bdb134",
   "metadata": {},
   "outputs": [],
   "source": [
    "\n",
    "sr=16000\n",
    "win_length =  run_config[\"win_length\"] # 400\n",
    "n_fft= run_config[\"n_fft\"] # WINDOWS SIZE중 사용할 길이. WINDOW SIZE가 넘어가면 나머지 것들은 zero padding. 세로 길이\n",
    "hop_length=run_config[\"hop_length\"] #  얼마만큼 시간 주기(sample)를 이동하면서 분석을 할 것인지. 일반적으로 window size의 1/4\n",
    "#또는 10ms만큼으로 한다고 한다.\n",
    "#hop_length가 mfcc의 frame수를 결정한다."
   ]
  },
  {
   "cell_type": "code",
   "execution_count": 100,
   "id": "5e879c26",
   "metadata": {
    "scrolled": false
   },
   "outputs": [
    {
     "name": "stdout",
     "output_type": "stream",
     "text": [
      "X_train :  torch.Size([16, 3, 128, 641]) type: torch.FloatTensor\n",
      "Y_train :  torch.Size([16]) type: torch.LongTensor\n",
      "tensor(0)\n",
      "tensor([[[-38.8909, -36.4348, -38.4430,  ..., -30.9478, -32.0735, -32.7359],\n",
      "         [-39.7135, -37.5519, -38.4129,  ..., -25.2859, -26.9058, -30.6791],\n",
      "         [-41.0908, -39.5629, -40.0671,  ..., -21.7985, -24.0348, -28.4670],\n",
      "         ...,\n",
      "         [-68.3366, -64.7116, -63.3070,  ..., -70.8957, -61.4059, -58.8826],\n",
      "         [-75.3111, -74.2304, -74.5083,  ..., -70.7292, -61.3027, -58.8476],\n",
      "         [-80.0000, -80.0000, -80.0000,  ..., -70.5982, -61.1982, -58.7635]],\n",
      "\n",
      "        [[-38.8909, -36.4348, -38.4430,  ..., -30.9478, -32.0735, -32.7359],\n",
      "         [-39.7135, -37.5519, -38.4129,  ..., -25.2859, -26.9058, -30.6791],\n",
      "         [-41.0908, -39.5629, -40.0671,  ..., -21.7985, -24.0348, -28.4670],\n",
      "         ...,\n",
      "         [-68.3366, -64.7116, -63.3070,  ..., -70.8957, -61.4059, -58.8826],\n",
      "         [-75.3111, -74.2304, -74.5083,  ..., -70.7292, -61.3027, -58.8476],\n",
      "         [-80.0000, -80.0000, -80.0000,  ..., -70.5982, -61.1982, -58.7635]],\n",
      "\n",
      "        [[-38.8909, -36.4348, -38.4430,  ..., -30.9478, -32.0735, -32.7359],\n",
      "         [-39.7135, -37.5519, -38.4129,  ..., -25.2859, -26.9058, -30.6791],\n",
      "         [-41.0908, -39.5629, -40.0671,  ..., -21.7985, -24.0348, -28.4670],\n",
      "         ...,\n",
      "         [-68.3366, -64.7116, -63.3070,  ..., -70.8957, -61.4059, -58.8826],\n",
      "         [-75.3111, -74.2304, -74.5083,  ..., -70.7292, -61.3027, -58.8476],\n",
      "         [-80.0000, -80.0000, -80.0000,  ..., -70.5982, -61.1982, -58.7635]]])\n"
     ]
    },
    {
     "data": {
      "image/png": "[encoded data removed]",
      "text/plain": [
       "<Figure size 432x288 with 2 Axes>"
      ]
     },
     "metadata": {
      "needs_background": "light"
     },
     "output_type": "display_data"
    }
   ],
   "source": [
    "## 4. 데이터 확인하기\n",
    "for (X_train,Y_train) in train_loader:\n",
    "    print(\"X_train : \",X_train.size(),'type:',X_train.type())\n",
    "    print(\"Y_train : \",Y_train.size(),'type:',Y_train.type())\n",
    "    break\n",
    "\n",
    "librosa.display.specshow(X_train[0][0].numpy(),\n",
    "                         sr=sr,\n",
    "                         hop_length=hop_length,\n",
    "                         win_length=win_length,\n",
    "                         n_fft=n_fft)\n",
    "plt.xlabel(\"Time\")\n",
    "plt.ylabel(\"Frequency\")\n",
    "plt.xticks(np.arange(0,601,100))\n",
    "plt.colorbar(format='%+2.0f dB')\n",
    "plt.title(\"STFT (dB)\")\n",
    "\n",
    "print(Y_train[0])\n",
    "print(X_train[0])\n",
    "#batch: 32 / 3채널 / frame수: 500  /  feature수: 13"
   ]
  },
  {
   "cell_type": "code",
   "execution_count": 101,
   "id": "3b29c510",
   "metadata": {},
   "outputs": [
    {
     "name": "stdout",
     "output_type": "stream",
     "text": [
      "X_valid :  torch.Size([16, 3, 128, 641]) type: torch.FloatTensor\n",
      "Y_valid :  torch.Size([16]) type: torch.LongTensor\n",
      "tensor(1)\n"
     ]
    },
    {
     "data": {
      "image/png": "[encoded data removed]",
      "text/plain": [
       "<Figure size 432x288 with 2 Axes>"
      ]
     },
     "metadata": {
      "needs_background": "light"
     },
     "output_type": "display_data"
    }
   ],
   "source": [
    "#valiation set 확인\n",
    "for (X_valid,Y_valid) in validation_loader:\n",
    "    print(\"X_valid : \",X_valid.size(),'type:',X_valid.type())\n",
    "    print(\"Y_valid : \",Y_valid.size(),'type:',Y_valid.type())\n",
    "    break\n",
    "\n",
    "librosa.display.specshow(X_valid[0][0].numpy(), sr=sr,\n",
    "                        hop_length=hop_length,\n",
    "                         win_length=win_length,\n",
    "                         n_fft=n_fft,\n",
    "                         x_axis='time'\n",
    "                         )\n",
    "#plt.xlabel(\"Time\")\n",
    "#plt.ylabel(\"Frequency\")\n",
    "#plt.xticks(np.arange(0,600,100))\n",
    "plt.colorbar(format='%+2.0f dB')\n",
    "plt.title(\"Spectrogram\")\n",
    "    \n",
    "    \n",
    "print(Y_valid[0])\n",
    "\n",
    "#batch: 32 / 3채널 / frame수: 500  /  feature수: 13"
   ]
  },
  {
   "cell_type": "markdown",
   "id": "fec40ea4",
   "metadata": {},
   "source": [
    "# RESNET"
   ]
  },
  {
   "cell_type": "code",
   "execution_count": 102,
   "id": "2fe5d1b2",
   "metadata": {},
   "outputs": [],
   "source": [
    "# 모델\n",
    "# pretrained\n",
    "\n",
    "class ResLayer(nn.Module):\n",
    "    def __init__(self):\n",
    "        super(ResLayer, self).__init__()\n",
    "        self.model = models.resnet18(pretrained=True).cuda() \n",
    "        self.num_ftrs = self.model.fc.out_features\n",
    "        \n",
    "        \n",
    "        \n",
    "        self.fc = nn.Sequential(       \n",
    "            nn.Linear(self.num_ftrs, 64),\n",
    "                             nn.BatchNorm1d(64),\n",
    "                             nn.ReLU(),\n",
    "                             nn.Dropout(p=0.5),\n",
    "                             nn.Linear(64,50),\n",
    "                             nn.BatchNorm1d(50),\n",
    "                             nn.ReLU(),\n",
    "                             nn.Dropout(p=0.5),\n",
    "                             nn.Linear(50,2)\n",
    "                            )\n",
    "        \n",
    "\n",
    "    def forward(self, x):\n",
    "        x = self.model(x)\n",
    "        x  = self.fc(x)\n",
    "        return x\n",
    "\n",
    "\n",
    "\n",
    "\n",
    "\n",
    "def model_initialize():\n",
    "    model = ResLayer().cuda()\n",
    "    return model\n",
    "\n",
    "model=model_initialize()"
   ]
  },
  {
   "cell_type": "code",
   "execution_count": 103,
   "id": "1ab03234",
   "metadata": {
    "scrolled": true
   },
   "outputs": [
    {
     "name": "stdout",
     "output_type": "stream",
     "text": [
      "ResLayer(\n",
      "  (model): ResNet(\n",
      "    (conv1): Conv2d(3, 64, kernel_size=(7, 7), stride=(2, 2), padding=(3, 3), bias=False)\n",
      "    (bn1): BatchNorm2d(64, eps=1e-05, momentum=0.1, affine=True, track_running_stats=True)\n",
      "    (relu): ReLU(inplace=True)\n",
      "    (maxpool): MaxPool2d(kernel_size=3, stride=2, padding=1, dilation=1, ceil_mode=False)\n",
      "    (layer1): Sequential(\n",
      "      (0): BasicBlock(\n",
      "        (conv1): Conv2d(64, 64, kernel_size=(3, 3), stride=(1, 1), padding=(1, 1), bias=False)\n",
      "        (bn1): BatchNorm2d(64, eps=1e-05, momentum=0.1, affine=True, track_running_stats=True)\n",
      "        (relu): ReLU(inplace=True)\n",
      "        (conv2): Conv2d(64, 64, kernel_size=(3, 3), stride=(1, 1), padding=(1, 1), bias=False)\n",
      "        (bn2): BatchNorm2d(64, eps=1e-05, momentum=0.1, affine=True, track_running_stats=True)\n",
      "      )\n",
      "      (1): BasicBlock(\n",
      "        (conv1): Conv2d(64, 64, kernel_size=(3, 3), stride=(1, 1), padding=(1, 1), bias=False)\n",
      "        (bn1): BatchNorm2d(64, eps=1e-05, momentum=0.1, affine=True, track_running_stats=True)\n",
      "        (relu): ReLU(inplace=True)\n",
      "        (conv2): Conv2d(64, 64, kernel_size=(3, 3), stride=(1, 1), padding=(1, 1), bias=False)\n",
      "        (bn2): BatchNorm2d(64, eps=1e-05, momentum=0.1, affine=True, track_running_stats=True)\n",
      "      )\n",
      "    )\n",
      "    (layer2): Sequential(\n",
      "      (0): BasicBlock(\n",
      "        (conv1): Conv2d(64, 128, kernel_size=(3, 3), stride=(2, 2), padding=(1, 1), bias=False)\n",
      "        (bn1): BatchNorm2d(128, eps=1e-05, momentum=0.1, affine=True, track_running_stats=True)\n",
      "        (relu): ReLU(inplace=True)\n",
      "        (conv2): Conv2d(128, 128, kernel_size=(3, 3), stride=(1, 1), padding=(1, 1), bias=False)\n",
      "        (bn2): BatchNorm2d(128, eps=1e-05, momentum=0.1, affine=True, track_running_stats=True)\n",
      "        (downsample): Sequential(\n",
      "          (0): Conv2d(64, 128, kernel_size=(1, 1), stride=(2, 2), bias=False)\n",
      "          (1): BatchNorm2d(128, eps=1e-05, momentum=0.1, affine=True, track_running_stats=True)\n",
      "        )\n",
      "      )\n",
      "      (1): BasicBlock(\n",
      "        (conv1): Conv2d(128, 128, kernel_size=(3, 3), stride=(1, 1), padding=(1, 1), bias=False)\n",
      "        (bn1): BatchNorm2d(128, eps=1e-05, momentum=0.1, affine=True, track_running_stats=True)\n",
      "        (relu): ReLU(inplace=True)\n",
      "        (conv2): Conv2d(128, 128, kernel_size=(3, 3), stride=(1, 1), padding=(1, 1), bias=False)\n",
      "        (bn2): BatchNorm2d(128, eps=1e-05, momentum=0.1, affine=True, track_running_stats=True)\n",
      "      )\n",
      "    )\n",
      "    (layer3): Sequential(\n",
      "      (0): BasicBlock(\n",
      "        (conv1): Conv2d(128, 256, kernel_size=(3, 3), stride=(2, 2), padding=(1, 1), bias=False)\n",
      "        (bn1): BatchNorm2d(256, eps=1e-05, momentum=0.1, affine=True, track_running_stats=True)\n",
      "        (relu): ReLU(inplace=True)\n",
      "        (conv2): Conv2d(256, 256, kernel_size=(3, 3), stride=(1, 1), padding=(1, 1), bias=False)\n",
      "        (bn2): BatchNorm2d(256, eps=1e-05, momentum=0.1, affine=True, track_running_stats=True)\n",
      "        (downsample): Sequential(\n",
      "          (0): Conv2d(128, 256, kernel_size=(1, 1), stride=(2, 2), bias=False)\n",
      "          (1): BatchNorm2d(256, eps=1e-05, momentum=0.1, affine=True, track_running_stats=True)\n",
      "        )\n",
      "      )\n",
      "      (1): BasicBlock(\n",
      "        (conv1): Conv2d(256, 256, kernel_size=(3, 3), stride=(1, 1), padding=(1, 1), bias=False)\n",
      "        (bn1): BatchNorm2d(256, eps=1e-05, momentum=0.1, affine=True, track_running_stats=True)\n",
      "        (relu): ReLU(inplace=True)\n",
      "        (conv2): Conv2d(256, 256, kernel_size=(3, 3), stride=(1, 1), padding=(1, 1), bias=False)\n",
      "        (bn2): BatchNorm2d(256, eps=1e-05, momentum=0.1, affine=True, track_running_stats=True)\n",
      "      )\n",
      "    )\n",
      "    (layer4): Sequential(\n",
      "      (0): BasicBlock(\n",
      "        (conv1): Conv2d(256, 512, kernel_size=(3, 3), stride=(2, 2), padding=(1, 1), bias=False)\n",
      "        (bn1): BatchNorm2d(512, eps=1e-05, momentum=0.1, affine=True, track_running_stats=True)\n",
      "        (relu): ReLU(inplace=True)\n",
      "        (conv2): Conv2d(512, 512, kernel_size=(3, 3), stride=(1, 1), padding=(1, 1), bias=False)\n",
      "        (bn2): BatchNorm2d(512, eps=1e-05, momentum=0.1, affine=True, track_running_stats=True)\n",
      "        (downsample): Sequential(\n",
      "          (0): Conv2d(256, 512, kernel_size=(1, 1), stride=(2, 2), bias=False)\n",
      "          (1): BatchNorm2d(512, eps=1e-05, momentum=0.1, affine=True, track_running_stats=True)\n",
      "        )\n",
      "      )\n",
      "      (1): BasicBlock(\n",
      "        (conv1): Conv2d(512, 512, kernel_size=(3, 3), stride=(1, 1), padding=(1, 1), bias=False)\n",
      "        (bn1): BatchNorm2d(512, eps=1e-05, momentum=0.1, affine=True, track_running_stats=True)\n",
      "        (relu): ReLU(inplace=True)\n",
      "        (conv2): Conv2d(512, 512, kernel_size=(3, 3), stride=(1, 1), padding=(1, 1), bias=False)\n",
      "        (bn2): BatchNorm2d(512, eps=1e-05, momentum=0.1, affine=True, track_running_stats=True)\n",
      "      )\n",
      "    )\n",
      "    (avgpool): AdaptiveAvgPool2d(output_size=(1, 1))\n",
      "    (fc): Linear(in_features=512, out_features=1000, bias=True)\n",
      "  )\n",
      "  (fc): Sequential(\n",
      "    (0): Linear(in_features=1000, out_features=64, bias=True)\n",
      "    (1): BatchNorm1d(64, eps=1e-05, momentum=0.1, affine=True, track_running_stats=True)\n",
      "    (2): ReLU()\n",
      "    (3): Dropout(p=0.5, inplace=False)\n",
      "    (4): Linear(in_features=64, out_features=50, bias=True)\n",
      "    (5): BatchNorm1d(50, eps=1e-05, momentum=0.1, affine=True, track_running_stats=True)\n",
      "    (6): ReLU()\n",
      "    (7): Dropout(p=0.5, inplace=False)\n",
      "    (8): Linear(in_features=50, out_features=2, bias=True)\n",
      "  )\n",
      ")\n"
     ]
    }
   ],
   "source": [
    "criterion = nn.CrossEntropyLoss()\n",
    "optimizer = torch.optim.Adam(model.parameters(),lr=lr)\n",
    "print(model)"
   ]
  },
  {
   "cell_type": "code",
   "execution_count": 104,
   "id": "2a47749e",
   "metadata": {
    "scrolled": true
   },
   "outputs": [],
   "source": [
    "# get the model summary\n",
    "from torchsummary import summary\n",
    "#summary(model, input_size=(3, 128, 300), device=DEVICE.type)"
   ]
  },
  {
   "cell_type": "code",
   "execution_count": 105,
   "id": "3f2ca15d",
   "metadata": {},
   "outputs": [],
   "source": [
    "#8. 학습\n",
    "def train(model,train_loader,optimizer, log_interval):\n",
    "    model.train()\n",
    "    correct = 0\n",
    "    train_loss = 0\n",
    "    for batch_idx,(image,label) in enumerate(train_loader):\n",
    "        image = image.to(DEVICE)\n",
    "        label = label.to(DEVICE)\n",
    "        #데이터들 장비에 할당\n",
    "        optimizer.zero_grad() # device 에 저장된 gradient 제거\n",
    "        output = model(image) # model로 output을 계산\n",
    "        loss = criterion(output, label) #loss 계산\n",
    "        train_loss += loss.item()\n",
    "        prediction = output.max(1,keepdim=True)[1] # 가장 확률이 높은 class 1개를 가져온다.그리고 인덱스만\n",
    "        correct += prediction.eq(label.view_as(prediction)).sum().item()# 아웃풋이 배치 사이즈 32개라서.\n",
    "        loss.backward() # loss 값을 이용해 gradient를 계산\n",
    "        optimizer.step() # Gradient 값을 이용해 파라미터 업데이트.\n",
    "    train_loss/=len(train_loader.dataset)\n",
    "    train_accuracy = 100. * correct / len(train_loader.dataset)\n",
    "    return train_loss,train_accuracy\n"
   ]
  },
  {
   "cell_type": "code",
   "execution_count": 106,
   "id": "b09341bf",
   "metadata": {},
   "outputs": [],
   "source": [
    "#9. 학습 진행하며, validation 데이터로 모델 성능확인\n",
    "def evaluate(model,valid_loader):\n",
    "    model.eval()\n",
    "    valid_loss = 0\n",
    "    correct = 0\n",
    "    #no_grad : 그래디언트 값 계산 막기.\n",
    "    with torch.no_grad():\n",
    "        for image,label in valid_loader:\n",
    "            image = image.to(DEVICE)\n",
    "            label = label.to(DEVICE)\n",
    "            output = model(image)\n",
    "            valid_loss += criterion(output, label).item()\n",
    "            prediction = output.max(1,keepdim=True)[1] # 가장 확률이 높은 class 1개를 가져온다.그리고 인덱스만\n",
    "            correct += prediction.eq(label.view_as(prediction)).sum().item()# 아웃풋이 배치 사이즈 32개라서.\n",
    "            #true.false값을 sum해줌. item\n",
    "        valid_loss /= len(valid_loader.dataset)\n",
    "        valid_accuracy = 100. * correct / len(valid_loader.dataset)\n",
    "        return valid_loss,valid_accuracy\n"
   ]
  },
  {
   "cell_type": "code",
   "execution_count": 114,
   "id": "fa7fc2ea",
   "metadata": {},
   "outputs": [],
   "source": [
    "#데이터 로더 제작 함수\n",
    "\n",
    "def seed_worker(worker_id):\n",
    "    worker_seed = torch.initial_seed() % 2**32\n",
    "    np.random.seed(worker_seed)\n",
    "    random.seed(worker_seed)\n",
    "\n",
    "\n",
    "def load_data(data_ind):\n",
    "\n",
    "    train_loader = torch.utils.data.DataLoader(dataset = \n",
    "                                               svd_dataset(\n",
    "                                                   X_train_list,\n",
    "                                                   classes,\n",
    "                                                   transform = transforms.ToTensor(),#이걸 composed로 고쳐서 전처리 하도록 수정.\n",
    "                                                   data_num=data_ind,\n",
    "                                                   #normalize=transforms.Normalize((-11.4805,-54.7723,-54.7723),(16.87,19.0226,19.0226)),\n",
    "                                                   #mfcc_normalize=(53.5582, 217.43),\n",
    "                                                   mel_params = dict(\n",
    "                                                         sr = wandb.config.sr,\n",
    "                                                         n_mels = wandb.config.n_mels,\n",
    "                                                         n_fft = wandb.config.n_fft,\n",
    "                                                         win_length = wandb.config.win_length,\n",
    "                                                         hop_length = wandb.config.hop_length,\n",
    "                                                         f_max = wandb.config.f_max\n",
    "                                                   ),\n",
    "                                                   training=True\n",
    "                                               ),\n",
    "                                               batch_size = BATCH_SIZE,\n",
    "                                               shuffle = True,\n",
    "                                               worker_init_fn=seed_worker\n",
    "                                               ) # 순서가 암기되는것을 막기위해.\n",
    "\n",
    "\n",
    "    validation_loader = torch.utils.data.DataLoader(dataset = \n",
    "                                               svd_dataset(\n",
    "                                                   X_valid_list,\n",
    "                                                   classes,\n",
    "                                                   transform = transforms.ToTensor(),\n",
    "                                                   data_num=data_ind,\n",
    "                                                   #normalize=transforms.Normalize((-11.4805,-54.7723,-54.7723),(16.87,19.0226,19.0226)),\n",
    "                                                   #mfcc_normalize=(53.5582, 217.43),\n",
    "                                                   mel_params = dict(\n",
    "                                                         sr = wandb.config.sr,\n",
    "                                                         n_mels = wandb.config.n_mels,\n",
    "                                                         n_fft = wandb.config.n_fft,\n",
    "                                                         win_length = wandb.config.win_length,\n",
    "                                                         hop_length = wandb.config.hop_length,\n",
    "                                                         f_max = wandb.config.f_max\n",
    "                                                   ),\n",
    "                                                   training=False\n",
    "                                               ),\n",
    "                                                    batch_size = BATCH_SIZE,\n",
    "                                                    shuffle = True,\n",
    "                                                    worker_init_fn=seed_worker) \n",
    "    return train_loader,validation_loader\n",
    "\n"
   ]
  },
  {
   "cell_type": "markdown",
   "id": "68e9611a",
   "metadata": {},
   "source": [
    "# 학습"
   ]
  },
  {
   "cell_type": "code",
   "execution_count": 118,
   "id": "662087d5",
   "metadata": {},
   "outputs": [],
   "source": [
    "#10. 학습 및 평가.\n",
    "# resnet34 pretrained true\n",
    "# kfold 적용\n",
    "\n",
    "train_accs = []\n",
    "valid_accs = []\n",
    "\n",
    "\n",
    "\n",
    "def all_train():\n",
    "    wandb.init(project=\"SVD-hyp-sweep2\", entity=\"bub3690\",config=run_config)\n",
    "    data_ind = 1\n",
    "    check_path ='./checkpoint/melspectrogram_'+str(data_ind)+'_organics_speaker.pt'\n",
    "    print(check_path)\n",
    "    #wandb.run.name = 'n'### 여기 수정 ###\n",
    "    print(\"config:\", dict(wandb.config))    \n",
    "\n",
    "    early_stopping = EarlyStopping(patience = 5, verbose = True, path=check_path)\n",
    "    train_loader,validation_loader = load_data(data_ind-1)\n",
    "\n",
    "    best_train_acc = 0 # accuracy 기록용\n",
    "    best_valid_acc = 0\n",
    "    \n",
    "    best_train_loss = 0\n",
    "    best_valid_loss = 0\n",
    "\n",
    "    model=model_initialize()\n",
    "    criterion = nn.CrossEntropyLoss()\n",
    "    optimizer = torch.optim.Adam(model.parameters(),lr=0.0001)\n",
    "\n",
    "\n",
    "    print(\"[{} 교차검증] 학습 시작\\n ----- \".format(data_ind))\n",
    "    for Epoch in range(1,EPOCHS+1):\n",
    "        train_loss,train_accuracy=train(model,train_loader,optimizer,log_interval=31)\n",
    "        valid_loss,valid_accuracy = evaluate(model, validation_loader)\n",
    "\n",
    "        print(\"\\n[EPOCH:{}]\\t Train Loss:{:.4f}\\t Train Acc:{:.2f} %  | \\tValid Loss:{:.4f} \\tValid Acc: {:.2f} %\\n\".\n",
    "              format(Epoch,train_loss,train_accuracy,valid_loss,valid_accuracy))\n",
    "        #wandb.log({\"metric\": run.config.param1, \"epoch\": epoch})\n",
    "            \n",
    "        early_stopping(valid_loss, model)\n",
    "        if -early_stopping.best_score == valid_loss:\n",
    "            best_train_acc, best_valid_acc = train_accuracy,valid_accuracy\n",
    "            best_train_loss, best_valid_loss = train_loss,valid_loss\n",
    "            \n",
    "            wandb.log({\"Valid/Loss\": best_valid_loss, \n",
    "                       \"Valid/Accuracy\": best_valid_acc,\n",
    "                      }, step=Epoch)\n",
    "            #wandb.run.summary.update({\"best_valid_{}fold_acc\".format(data_ind) : best_valid_acc})\n",
    "        else:\n",
    "            # 이전 최고 기록을 log\n",
    "            wandb.log({\"Valid/Loss\": best_valid_loss, \n",
    "                       \"Valid/Accuracy\": best_valid_acc,\n",
    "                      }, step=Epoch)\n",
    "\n",
    "        if early_stopping.early_stop:\n",
    "                train_accs.append(best_train_acc)\n",
    "                valid_accs.append(best_valid_acc)\n",
    "                #여기 최고기록만 갱신하면 5fold 가능.\n",
    "                \n",
    "                print(\"[{} 교차검증] Early stopping\".format(data_ind))\n",
    "                break\n",
    "\n",
    "        if Epoch==EPOCHS:\n",
    "            #만약 early stop 없이 40 epoch라서 중지 된 경우.\n",
    "            train_accs.append(best_train_acc)\n",
    "            valid_accs.append(best_valid_acc)"
   ]
  },
  {
   "cell_type": "code",
   "execution_count": 119,
   "id": "cf67cb49",
   "metadata": {},
   "outputs": [
    {
     "name": "stderr",
     "output_type": "stream",
     "text": [
      "\u001b[34m\u001b[1mwandb\u001b[0m: Agent Starting Run: fc9q6qw3 with config:\n",
      "\u001b[34m\u001b[1mwandb\u001b[0m: \thop_length: 50\n",
      "\u001b[34m\u001b[1mwandb\u001b[0m: \tn_fft: 3470\n",
      "\u001b[34m\u001b[1mwandb\u001b[0m: \tn_mels: 170\n",
      "\u001b[34m\u001b[1mwandb\u001b[0m: \twin_length: 410\n",
      "Failed to detect the name of this notebook, you can set it manually with the WANDB_NOTEBOOK_NAME environment variable to enable code saving.\n",
      "\u001b[34m\u001b[1mwandb\u001b[0m: \u001b[33mWARNING\u001b[0m Ignored wandb.init() arg project when running a sweep.\n",
      "\u001b[34m\u001b[1mwandb\u001b[0m: \u001b[33mWARNING\u001b[0m Ignored wandb.init() arg entity when running a sweep.\n"
     ]
    },
    {
     "data": {
      "text/html": [
       "wandb version 0.13.5 is available!  To upgrade, please run:\n",
       " $ pip install wandb --upgrade"
      ],
      "text/plain": [
       "<IPython.core.display.HTML object>"
      ]
     },
     "metadata": {},
     "output_type": "display_data"
    },
    {
     "data": {
      "text/html": [
       "Tracking run with wandb version 0.12.16"
      ],
      "text/plain": [
       "<IPython.core.display.HTML object>"
      ]
     },
     "metadata": {},
     "output_type": "display_data"
    },
    {
     "data": {
      "text/html": [
       "Run data is saved locally in <code>d:\\project\\voice_pathology_ai\\model\\Module\\wandb\\run-20221121_172727-fc9q6qw3</code>"
      ],
      "text/plain": [
       "<IPython.core.display.HTML object>"
      ]
     },
     "metadata": {},
     "output_type": "display_data"
    },
    {
     "data": {
      "text/html": [
       "Syncing run <strong><a href=\"https://wandb.ai/bub3690/SVD-hyp-sweep2/runs/fc9q6qw3\" target=\"_blank\">worthy-sweep-14</a></strong> to <a href=\"https://wandb.ai/bub3690/SVD-hyp-sweep2\" target=\"_blank\">Weights & Biases</a> (<a href=\"https://wandb.me/run\" target=\"_blank\">docs</a>)<br/>Sweep page:  <a href=\"https://wandb.ai/bub3690/SVD-hyp-sweep2/sweeps/l4lhk2pf\" target=\"_blank\">https://wandb.ai/bub3690/SVD-hyp-sweep2/sweeps/l4lhk2pf</a>"
      ],
      "text/plain": [
       "<IPython.core.display.HTML object>"
      ]
     },
     "metadata": {},
     "output_type": "display_data"
    },
    {
     "name": "stdout",
     "output_type": "stream",
     "text": [
      "./checkpoint/melspectrogram_1_organics_speaker.pt\n",
      "config: {'sr': 16000, 'n_mels': 170, 'win_length': 410, 'n_fft': 3470, 'hop_length': 50, 'f_max': 8000}\n",
      "[1 교차검증] 학습 시작\n",
      " ----- \n",
      "\n",
      "[EPOCH:1]\t Train Loss:0.0355\t Train Acc:71.67 %  | \tValid Loss:0.0332 \tValid Acc: 77.98 %\n",
      "\n",
      "Validation loss decreased (inf --> 0.033242).  Saving model ...\n",
      "\n",
      "[EPOCH:2]\t Train Loss:0.0291\t Train Acc:82.39 %  | \tValid Loss:0.0294 \tValid Acc: 84.40 %\n",
      "\n",
      "Validation loss decreased (0.033242 --> 0.029448).  Saving model ...\n",
      "\n",
      "[EPOCH:3]\t Train Loss:0.0247\t Train Acc:87.93 %  | \tValid Loss:0.0293 \tValid Acc: 82.57 %\n",
      "\n",
      "Validation loss decreased (0.029448 --> 0.029306).  Saving model ...\n",
      "\n",
      "[EPOCH:4]\t Train Loss:0.0195\t Train Acc:94.95 %  | \tValid Loss:0.0257 \tValid Acc: 85.32 %\n",
      "\n",
      "Validation loss decreased (0.029306 --> 0.025702).  Saving model ...\n",
      "\n",
      "[EPOCH:5]\t Train Loss:0.0165\t Train Acc:97.04 %  | \tValid Loss:0.0286 \tValid Acc: 81.19 %\n",
      "\n",
      "EarlyStopping counter: 1 out of 5\n",
      "\n",
      "[EPOCH:6]\t Train Loss:0.0143\t Train Acc:97.41 %  | \tValid Loss:0.0247 \tValid Acc: 84.86 %\n",
      "\n",
      "Validation loss decreased (0.025702 --> 0.024698).  Saving model ...\n",
      "\n",
      "[EPOCH:7]\t Train Loss:0.0133\t Train Acc:96.92 %  | \tValid Loss:0.0236 \tValid Acc: 83.94 %\n",
      "\n",
      "Validation loss decreased (0.024698 --> 0.023640).  Saving model ...\n",
      "\n",
      "[EPOCH:8]\t Train Loss:0.0117\t Train Acc:97.91 %  | \tValid Loss:0.0283 \tValid Acc: 80.73 %\n",
      "\n",
      "EarlyStopping counter: 1 out of 5\n",
      "\n",
      "[EPOCH:9]\t Train Loss:0.0094\t Train Acc:99.01 %  | \tValid Loss:0.0247 \tValid Acc: 83.03 %\n",
      "\n",
      "EarlyStopping counter: 2 out of 5\n",
      "\n",
      "[EPOCH:10]\t Train Loss:0.0084\t Train Acc:99.26 %  | \tValid Loss:0.0295 \tValid Acc: 80.73 %\n",
      "\n",
      "EarlyStopping counter: 3 out of 5\n",
      "\n",
      "[EPOCH:11]\t Train Loss:0.0075\t Train Acc:99.75 %  | \tValid Loss:0.0218 \tValid Acc: 85.32 %\n",
      "\n",
      "Validation loss decreased (0.023640 --> 0.021759).  Saving model ...\n",
      "\n",
      "[EPOCH:12]\t Train Loss:0.0072\t Train Acc:99.38 %  | \tValid Loss:0.0207 \tValid Acc: 83.94 %\n",
      "\n",
      "Validation loss decreased (0.021759 --> 0.020699).  Saving model ...\n",
      "\n",
      "[EPOCH:13]\t Train Loss:0.0058\t Train Acc:100.00 %  | \tValid Loss:0.0240 \tValid Acc: 85.32 %\n",
      "\n",
      "EarlyStopping counter: 1 out of 5\n",
      "\n",
      "[EPOCH:14]\t Train Loss:0.0057\t Train Acc:99.26 %  | \tValid Loss:0.0224 \tValid Acc: 85.32 %\n",
      "\n",
      "EarlyStopping counter: 2 out of 5\n",
      "\n",
      "[EPOCH:15]\t Train Loss:0.0052\t Train Acc:99.88 %  | \tValid Loss:0.0234 \tValid Acc: 83.49 %\n",
      "\n",
      "EarlyStopping counter: 3 out of 5\n",
      "\n",
      "[EPOCH:16]\t Train Loss:0.0046\t Train Acc:99.75 %  | \tValid Loss:0.0299 \tValid Acc: 81.65 %\n",
      "\n",
      "EarlyStopping counter: 4 out of 5\n",
      "\n",
      "[EPOCH:17]\t Train Loss:0.0046\t Train Acc:99.51 %  | \tValid Loss:0.0212 \tValid Acc: 85.32 %\n",
      "\n",
      "EarlyStopping counter: 5 out of 5\n",
      "[1 교차검증] Early stopping\n"
     ]
    },
    {
     "data": {
      "text/html": [
       "Waiting for W&B process to finish... <strong style=\"color:green\">(success).</strong>"
      ],
      "text/plain": [
       "<IPython.core.display.HTML object>"
      ]
     },
     "metadata": {},
     "output_type": "display_data"
    },
    {
     "data": {
      "application/vnd.jupyter.widget-view+json": {
       "model_id": "25a134cdbcf14750a5bde6e74a2ae47b",
       "version_major": 2,
       "version_minor": 0
      },
      "text/plain": [
       "VBox(children=(Label(value='0.001 MB of 0.001 MB uploaded (0.000 MB deduped)\\r'), FloatProgress(value=1.0, max…"
      ]
     },
     "metadata": {},
     "output_type": "display_data"
    },
    {
     "data": {
      "text/html": [
       "<style>\n",
       "    table.wandb td:nth-child(1) { padding: 0 10px; text-align: left ; width: auto;} td:nth-child(2) {text-align: left ; width: 100%}\n",
       "    .wandb-row { display: flex; flex-direction: row; flex-wrap: wrap; justify-content: flex-start; width: 100% }\n",
       "    .wandb-col { display: flex; flex-direction: column; flex-basis: 100%; flex: 1; padding: 10px; }\n",
       "    </style>\n",
       "<div class=\"wandb-row\"><div class=\"wandb-col\"><h3>Run history:</h3><br/><table class=\"wandb\"><tr><td>Valid/Accuracy</td><td>▁▇▅███▇▇▇▇█▇▇▇▇▇▇</td></tr><tr><td>Valid/Loss</td><td>█▆▆▄▄▃▃▃▃▃▂▁▁▁▁▁▁</td></tr></table><br/></div><div class=\"wandb-col\"><h3>Run summary:</h3><br/><table class=\"wandb\"><tr><td>Valid/Accuracy</td><td>83.94495</td></tr><tr><td>Valid/Loss</td><td>0.0207</td></tr></table><br/></div></div>"
      ],
      "text/plain": [
       "<IPython.core.display.HTML object>"
      ]
     },
     "metadata": {},
     "output_type": "display_data"
    },
    {
     "data": {
      "text/html": [
       "Synced <strong style=\"color:#cdcd00\">worthy-sweep-14</strong>: <a href=\"https://wandb.ai/bub3690/SVD-hyp-sweep2/runs/fc9q6qw3\" target=\"_blank\">https://wandb.ai/bub3690/SVD-hyp-sweep2/runs/fc9q6qw3</a><br/>Synced 5 W&B file(s), 0 media file(s), 0 artifact file(s) and 0 other file(s)"
      ],
      "text/plain": [
       "<IPython.core.display.HTML object>"
      ]
     },
     "metadata": {},
     "output_type": "display_data"
    },
    {
     "data": {
      "text/html": [
       "Find logs at: <code>.\\wandb\\run-20221121_172727-fc9q6qw3\\logs</code>"
      ],
      "text/plain": [
       "<IPython.core.display.HTML object>"
      ]
     },
     "metadata": {},
     "output_type": "display_data"
    },
    {
     "name": "stderr",
     "output_type": "stream",
     "text": [
      "\u001b[34m\u001b[1mwandb\u001b[0m: Agent Starting Run: xw9lup1w with config:\n",
      "\u001b[34m\u001b[1mwandb\u001b[0m: \thop_length: 850\n",
      "\u001b[34m\u001b[1mwandb\u001b[0m: \tn_fft: 2200\n",
      "\u001b[34m\u001b[1mwandb\u001b[0m: \tn_mels: 100\n",
      "\u001b[34m\u001b[1mwandb\u001b[0m: \twin_length: 1580\n",
      "Failed to detect the name of this notebook, you can set it manually with the WANDB_NOTEBOOK_NAME environment variable to enable code saving.\n",
      "\u001b[34m\u001b[1mwandb\u001b[0m: \u001b[33mWARNING\u001b[0m Ignored wandb.init() arg project when running a sweep.\n",
      "\u001b[34m\u001b[1mwandb\u001b[0m: \u001b[33mWARNING\u001b[0m Ignored wandb.init() arg entity when running a sweep.\n"
     ]
    },
    {
     "data": {
      "text/html": [
       "wandb version 0.13.5 is available!  To upgrade, please run:\n",
       " $ pip install wandb --upgrade"
      ],
      "text/plain": [
       "<IPython.core.display.HTML object>"
      ]
     },
     "metadata": {},
     "output_type": "display_data"
    },
    {
     "data": {
      "text/html": [
       "Tracking run with wandb version 0.12.16"
      ],
      "text/plain": [
       "<IPython.core.display.HTML object>"
      ]
     },
     "metadata": {},
     "output_type": "display_data"
    },
    {
     "data": {
      "text/html": [
       "Run data is saved locally in <code>d:\\project\\voice_pathology_ai\\model\\Module\\wandb\\run-20221121_180219-xw9lup1w</code>"
      ],
      "text/plain": [
       "<IPython.core.display.HTML object>"
      ]
     },
     "metadata": {},
     "output_type": "display_data"
    },
    {
     "data": {
      "text/html": [
       "Syncing run <strong><a href=\"https://wandb.ai/bub3690/SVD-hyp-sweep2/runs/xw9lup1w\" target=\"_blank\">wandering-sweep-2</a></strong> to <a href=\"https://wandb.ai/bub3690/SVD-hyp-sweep2\" target=\"_blank\">Weights & Biases</a> (<a href=\"https://wandb.me/run\" target=\"_blank\">docs</a>)<br/>Sweep page:  <a href=\"https://wandb.ai/bub3690/SVD-hyp-sweep2/sweeps/l4lhk2pf\" target=\"_blank\">https://wandb.ai/bub3690/SVD-hyp-sweep2/sweeps/l4lhk2pf</a>"
      ],
      "text/plain": [
       "<IPython.core.display.HTML object>"
      ]
     },
     "metadata": {},
     "output_type": "display_data"
    },
    {
     "name": "stdout",
     "output_type": "stream",
     "text": [
      "./checkpoint/melspectrogram_1_organics_speaker.pt\n",
      "config: {'sr': 16000, 'n_mels': 100, 'win_length': 1580, 'n_fft': 2200, 'hop_length': 850, 'f_max': 8000}\n",
      "[1 교차검증] 학습 시작\n",
      " ----- \n",
      "\n",
      "[EPOCH:1]\t Train Loss:0.0413\t Train Acc:61.08 %  | \tValid Loss:0.0368 \tValid Acc: 72.48 %\n",
      "\n",
      "Validation loss decreased (inf --> 0.036763).  Saving model ...\n",
      "\n",
      "[EPOCH:2]\t Train Loss:0.0325\t Train Acc:75.00 %  | \tValid Loss:0.0346 \tValid Acc: 77.98 %\n",
      "\n",
      "Validation loss decreased (0.036763 --> 0.034576).  Saving model ...\n",
      "\n",
      "[EPOCH:3]\t Train Loss:0.0279\t Train Acc:81.53 %  | \tValid Loss:0.0326 \tValid Acc: 77.06 %\n",
      "\n",
      "Validation loss decreased (0.034576 --> 0.032556).  Saving model ...\n",
      "\n",
      "[EPOCH:4]\t Train Loss:0.0229\t Train Acc:88.92 %  | \tValid Loss:0.0320 \tValid Acc: 77.06 %\n",
      "\n",
      "Validation loss decreased (0.032556 --> 0.031956).  Saving model ...\n",
      "\n",
      "[EPOCH:5]\t Train Loss:0.0189\t Train Acc:92.73 %  | \tValid Loss:0.0320 \tValid Acc: 75.23 %\n",
      "\n",
      "EarlyStopping counter: 1 out of 5\n",
      "\n",
      "[EPOCH:6]\t Train Loss:0.0155\t Train Acc:96.06 %  | \tValid Loss:0.0330 \tValid Acc: 75.69 %\n",
      "\n",
      "EarlyStopping counter: 2 out of 5\n",
      "\n",
      "[EPOCH:7]\t Train Loss:0.0129\t Train Acc:97.04 %  | \tValid Loss:0.0340 \tValid Acc: 72.94 %\n",
      "\n",
      "EarlyStopping counter: 3 out of 5\n",
      "\n",
      "[EPOCH:8]\t Train Loss:0.0114\t Train Acc:97.78 %  | \tValid Loss:0.0311 \tValid Acc: 77.06 %\n",
      "\n",
      "Validation loss decreased (0.031956 --> 0.031084).  Saving model ...\n",
      "\n",
      "[EPOCH:9]\t Train Loss:0.0090\t Train Acc:98.89 %  | \tValid Loss:0.0313 \tValid Acc: 77.98 %\n",
      "\n",
      "EarlyStopping counter: 1 out of 5\n",
      "\n",
      "[EPOCH:10]\t Train Loss:0.0091\t Train Acc:99.01 %  | \tValid Loss:0.0356 \tValid Acc: 73.39 %\n",
      "\n",
      "EarlyStopping counter: 2 out of 5\n",
      "\n",
      "[EPOCH:11]\t Train Loss:0.0083\t Train Acc:98.52 %  | \tValid Loss:0.0313 \tValid Acc: 79.36 %\n",
      "\n",
      "EarlyStopping counter: 3 out of 5\n",
      "\n",
      "[EPOCH:12]\t Train Loss:0.0077\t Train Acc:99.01 %  | \tValid Loss:0.0321 \tValid Acc: 77.52 %\n",
      "\n",
      "EarlyStopping counter: 4 out of 5\n",
      "\n",
      "[EPOCH:13]\t Train Loss:0.0066\t Train Acc:99.14 %  | \tValid Loss:0.0304 \tValid Acc: 78.90 %\n",
      "\n",
      "Validation loss decreased (0.031084 --> 0.030432).  Saving model ...\n",
      "\n",
      "[EPOCH:14]\t Train Loss:0.0063\t Train Acc:98.77 %  | \tValid Loss:0.0327 \tValid Acc: 77.98 %\n",
      "\n",
      "EarlyStopping counter: 1 out of 5\n",
      "\n",
      "[EPOCH:15]\t Train Loss:0.0054\t Train Acc:99.51 %  | \tValid Loss:0.0361 \tValid Acc: 77.06 %\n",
      "\n",
      "EarlyStopping counter: 2 out of 5\n",
      "\n",
      "[EPOCH:16]\t Train Loss:0.0049\t Train Acc:99.63 %  | \tValid Loss:0.0333 \tValid Acc: 78.44 %\n",
      "\n",
      "EarlyStopping counter: 3 out of 5\n",
      "\n",
      "[EPOCH:17]\t Train Loss:0.0061\t Train Acc:98.03 %  | \tValid Loss:0.0343 \tValid Acc: 77.06 %\n",
      "\n",
      "EarlyStopping counter: 4 out of 5\n",
      "\n",
      "[EPOCH:18]\t Train Loss:0.0080\t Train Acc:97.04 %  | \tValid Loss:0.0383 \tValid Acc: 75.69 %\n",
      "\n",
      "EarlyStopping counter: 5 out of 5\n",
      "[1 교차검증] Early stopping\n"
     ]
    },
    {
     "data": {
      "text/html": [
       "Waiting for W&B process to finish... <strong style=\"color:green\">(success).</strong>"
      ],
      "text/plain": [
       "<IPython.core.display.HTML object>"
      ]
     },
     "metadata": {},
     "output_type": "display_data"
    },
    {
     "data": {
      "application/vnd.jupyter.widget-view+json": {
       "model_id": "d5fa563bd1b945e78963d0d9d51c8709",
       "version_major": 2,
       "version_minor": 0
      },
      "text/plain": [
       "VBox(children=(Label(value='0.001 MB of 0.001 MB uploaded (0.000 MB deduped)\\r'), FloatProgress(value=1.0, max…"
      ]
     },
     "metadata": {},
     "output_type": "display_data"
    },
    {
     "data": {
      "text/html": [
       "<style>\n",
       "    table.wandb td:nth-child(1) { padding: 0 10px; text-align: left ; width: auto;} td:nth-child(2) {text-align: left ; width: 100%}\n",
       "    .wandb-row { display: flex; flex-direction: row; flex-wrap: wrap; justify-content: flex-start; width: 100% }\n",
       "    .wandb-col { display: flex; flex-direction: column; flex-basis: 100%; flex: 1; padding: 10px; }\n",
       "    </style>\n",
       "<div class=\"wandb-row\"><div class=\"wandb-col\"><h3>Run history:</h3><br/><table class=\"wandb\"><tr><td>Valid/Accuracy</td><td>▁▇▆▆▆▆▆▆▆▆▆▆██████</td></tr><tr><td>Valid/Loss</td><td>█▆▃▃▃▃▃▂▂▂▂▂▁▁▁▁▁▁</td></tr></table><br/></div><div class=\"wandb-col\"><h3>Run summary:</h3><br/><table class=\"wandb\"><tr><td>Valid/Accuracy</td><td>78.89908</td></tr><tr><td>Valid/Loss</td><td>0.03043</td></tr></table><br/></div></div>"
      ],
      "text/plain": [
       "<IPython.core.display.HTML object>"
      ]
     },
     "metadata": {},
     "output_type": "display_data"
    },
    {
     "data": {
      "text/html": [
       "Synced <strong style=\"color:#cdcd00\">wandering-sweep-2</strong>: <a href=\"https://wandb.ai/bub3690/SVD-hyp-sweep2/runs/xw9lup1w\" target=\"_blank\">https://wandb.ai/bub3690/SVD-hyp-sweep2/runs/xw9lup1w</a><br/>Synced 5 W&B file(s), 0 media file(s), 0 artifact file(s) and 0 other file(s)"
      ],
      "text/plain": [
       "<IPython.core.display.HTML object>"
      ]
     },
     "metadata": {},
     "output_type": "display_data"
    },
    {
     "data": {
      "text/html": [
       "Find logs at: <code>.\\wandb\\run-20221121_180219-xw9lup1w\\logs</code>"
      ],
      "text/plain": [
       "<IPython.core.display.HTML object>"
      ]
     },
     "metadata": {},
     "output_type": "display_data"
    },
    {
     "name": "stderr",
     "output_type": "stream",
     "text": [
      "\u001b[34m\u001b[1mwandb\u001b[0m: Agent Starting Run: fborr1ws with config:\n",
      "\u001b[34m\u001b[1mwandb\u001b[0m: \thop_length: 200\n",
      "\u001b[34m\u001b[1mwandb\u001b[0m: \tn_fft: 2600\n",
      "\u001b[34m\u001b[1mwandb\u001b[0m: \tn_mels: 50\n",
      "\u001b[34m\u001b[1mwandb\u001b[0m: \twin_length: 1390\n",
      "Failed to detect the name of this notebook, you can set it manually with the WANDB_NOTEBOOK_NAME environment variable to enable code saving.\n",
      "\u001b[34m\u001b[1mwandb\u001b[0m: \u001b[33mWARNING\u001b[0m Ignored wandb.init() arg project when running a sweep.\n",
      "\u001b[34m\u001b[1mwandb\u001b[0m: \u001b[33mWARNING\u001b[0m Ignored wandb.init() arg entity when running a sweep.\n"
     ]
    },
    {
     "data": {
      "text/html": [
       "wandb version 0.13.5 is available!  To upgrade, please run:\n",
       " $ pip install wandb --upgrade"
      ],
      "text/plain": [
       "<IPython.core.display.HTML object>"
      ]
     },
     "metadata": {},
     "output_type": "display_data"
    },
    {
     "data": {
      "text/html": [
       "Tracking run with wandb version 0.12.16"
      ],
      "text/plain": [
       "<IPython.core.display.HTML object>"
      ]
     },
     "metadata": {},
     "output_type": "display_data"
    },
    {
     "data": {
      "text/html": [
       "Run data is saved locally in <code>d:\\project\\voice_pathology_ai\\model\\Module\\wandb\\run-20221121_180343-fborr1ws</code>"
      ],
      "text/plain": [
       "<IPython.core.display.HTML object>"
      ]
     },
     "metadata": {},
     "output_type": "display_data"
    },
    {
     "data": {
      "text/html": [
       "Syncing run <strong><a href=\"https://wandb.ai/bub3690/SVD-hyp-sweep2/runs/fborr1ws\" target=\"_blank\">glad-sweep-3</a></strong> to <a href=\"https://wandb.ai/bub3690/SVD-hyp-sweep2\" target=\"_blank\">Weights & Biases</a> (<a href=\"https://wandb.me/run\" target=\"_blank\">docs</a>)<br/>Sweep page:  <a href=\"https://wandb.ai/bub3690/SVD-hyp-sweep2/sweeps/l4lhk2pf\" target=\"_blank\">https://wandb.ai/bub3690/SVD-hyp-sweep2/sweeps/l4lhk2pf</a>"
      ],
      "text/plain": [
       "<IPython.core.display.HTML object>"
      ]
     },
     "metadata": {},
     "output_type": "display_data"
    },
    {
     "name": "stdout",
     "output_type": "stream",
     "text": [
      "./checkpoint/melspectrogram_1_organics_speaker.pt\n",
      "config: {'sr': 16000, 'n_mels': 50, 'win_length': 1390, 'n_fft': 2600, 'hop_length': 200, 'f_max': 8000}\n",
      "[1 교차검증] 학습 시작\n",
      " ----- \n",
      "\n",
      "[EPOCH:1]\t Train Loss:0.0402\t Train Acc:62.68 %  | \tValid Loss:0.0345 \tValid Acc: 77.98 %\n",
      "\n",
      "Validation loss decreased (inf --> 0.034528).  Saving model ...\n",
      "\n",
      "[EPOCH:2]\t Train Loss:0.0312\t Train Acc:77.59 %  | \tValid Loss:0.0315 \tValid Acc: 79.82 %\n",
      "\n",
      "Validation loss decreased (0.034528 --> 0.031453).  Saving model ...\n",
      "\n",
      "[EPOCH:3]\t Train Loss:0.0275\t Train Acc:82.64 %  | \tValid Loss:0.0310 \tValid Acc: 75.69 %\n",
      "\n",
      "Validation loss decreased (0.031453 --> 0.030959).  Saving model ...\n",
      "\n",
      "[EPOCH:4]\t Train Loss:0.0225\t Train Acc:88.18 %  | \tValid Loss:0.0290 \tValid Acc: 80.28 %\n",
      "\n",
      "Validation loss decreased (0.030959 --> 0.028958).  Saving model ...\n",
      "\n",
      "[EPOCH:5]\t Train Loss:0.0178\t Train Acc:94.70 %  | \tValid Loss:0.0283 \tValid Acc: 81.19 %\n",
      "\n",
      "Validation loss decreased (0.028958 --> 0.028314).  Saving model ...\n",
      "\n",
      "[EPOCH:6]\t Train Loss:0.0157\t Train Acc:95.81 %  | \tValid Loss:0.0269 \tValid Acc: 80.28 %\n",
      "\n",
      "Validation loss decreased (0.028314 --> 0.026882).  Saving model ...\n",
      "\n",
      "[EPOCH:7]\t Train Loss:0.0128\t Train Acc:98.52 %  | \tValid Loss:0.0295 \tValid Acc: 79.82 %\n",
      "\n",
      "EarlyStopping counter: 1 out of 5\n",
      "\n",
      "[EPOCH:8]\t Train Loss:0.0108\t Train Acc:99.14 %  | \tValid Loss:0.0354 \tValid Acc: 74.77 %\n",
      "\n",
      "EarlyStopping counter: 2 out of 5\n",
      "\n",
      "[EPOCH:9]\t Train Loss:0.0094\t Train Acc:99.26 %  | \tValid Loss:0.0292 \tValid Acc: 79.36 %\n",
      "\n",
      "EarlyStopping counter: 3 out of 5\n",
      "\n",
      "[EPOCH:10]\t Train Loss:0.0097\t Train Acc:98.77 %  | \tValid Loss:0.0267 \tValid Acc: 81.65 %\n",
      "\n",
      "Validation loss decreased (0.026882 --> 0.026681).  Saving model ...\n",
      "\n",
      "[EPOCH:11]\t Train Loss:0.0082\t Train Acc:99.38 %  | \tValid Loss:0.0295 \tValid Acc: 80.28 %\n",
      "\n",
      "EarlyStopping counter: 1 out of 5\n",
      "\n",
      "[EPOCH:12]\t Train Loss:0.0083\t Train Acc:98.89 %  | \tValid Loss:0.0301 \tValid Acc: 77.98 %\n",
      "\n",
      "EarlyStopping counter: 2 out of 5\n",
      "\n",
      "[EPOCH:13]\t Train Loss:0.0070\t Train Acc:99.26 %  | \tValid Loss:0.0291 \tValid Acc: 80.28 %\n",
      "\n",
      "EarlyStopping counter: 3 out of 5\n",
      "\n",
      "[EPOCH:14]\t Train Loss:0.0058\t Train Acc:99.63 %  | \tValid Loss:0.0272 \tValid Acc: 82.57 %\n",
      "\n",
      "EarlyStopping counter: 4 out of 5\n",
      "\n",
      "[EPOCH:15]\t Train Loss:0.0054\t Train Acc:99.51 %  | \tValid Loss:0.0253 \tValid Acc: 84.40 %\n",
      "\n",
      "Validation loss decreased (0.026681 --> 0.025293).  Saving model ...\n",
      "\n",
      "[EPOCH:16]\t Train Loss:0.0051\t Train Acc:99.75 %  | \tValid Loss:0.0293 \tValid Acc: 81.65 %\n",
      "\n",
      "EarlyStopping counter: 1 out of 5\n",
      "\n",
      "[EPOCH:17]\t Train Loss:0.0061\t Train Acc:98.40 %  | \tValid Loss:0.0297 \tValid Acc: 81.65 %\n",
      "\n",
      "EarlyStopping counter: 2 out of 5\n",
      "\n",
      "[EPOCH:18]\t Train Loss:0.0062\t Train Acc:98.40 %  | \tValid Loss:0.0371 \tValid Acc: 79.36 %\n",
      "\n",
      "EarlyStopping counter: 3 out of 5\n",
      "\n",
      "[EPOCH:19]\t Train Loss:0.0063\t Train Acc:97.66 %  | \tValid Loss:0.0297 \tValid Acc: 81.65 %\n",
      "\n",
      "EarlyStopping counter: 4 out of 5\n",
      "\n",
      "[EPOCH:20]\t Train Loss:0.0068\t Train Acc:97.04 %  | \tValid Loss:0.0308 \tValid Acc: 80.28 %\n",
      "\n",
      "EarlyStopping counter: 5 out of 5\n",
      "[1 교차검증] Early stopping\n"
     ]
    },
    {
     "data": {
      "text/html": [
       "Waiting for W&B process to finish... <strong style=\"color:green\">(success).</strong>"
      ],
      "text/plain": [
       "<IPython.core.display.HTML object>"
      ]
     },
     "metadata": {},
     "output_type": "display_data"
    },
    {
     "data": {
      "application/vnd.jupyter.widget-view+json": {
       "model_id": "4ef1136417654613b50e32f528c63450",
       "version_major": 2,
       "version_minor": 0
      },
      "text/plain": [
       "VBox(children=(Label(value='0.001 MB of 0.001 MB uploaded (0.000 MB deduped)\\r'), FloatProgress(value=1.0, max…"
      ]
     },
     "metadata": {},
     "output_type": "display_data"
    },
    {
     "data": {
      "text/html": [
       "<style>\n",
       "    table.wandb td:nth-child(1) { padding: 0 10px; text-align: left ; width: auto;} td:nth-child(2) {text-align: left ; width: 100%}\n",
       "    .wandb-row { display: flex; flex-direction: row; flex-wrap: wrap; justify-content: flex-start; width: 100% }\n",
       "    .wandb-col { display: flex; flex-direction: column; flex-basis: 100%; flex: 1; padding: 10px; }\n",
       "    </style>\n",
       "<div class=\"wandb-row\"><div class=\"wandb-col\"><h3>Run history:</h3><br/><table class=\"wandb\"><tr><td>Valid/Accuracy</td><td>▃▄▁▅▅▅▅▅▅▆▆▆▆▆██████</td></tr><tr><td>Valid/Loss</td><td>█▆▅▄▃▂▂▂▂▂▂▂▂▂▁▁▁▁▁▁</td></tr></table><br/></div><div class=\"wandb-col\"><h3>Run summary:</h3><br/><table class=\"wandb\"><tr><td>Valid/Accuracy</td><td>84.40367</td></tr><tr><td>Valid/Loss</td><td>0.02529</td></tr></table><br/></div></div>"
      ],
      "text/plain": [
       "<IPython.core.display.HTML object>"
      ]
     },
     "metadata": {},
     "output_type": "display_data"
    },
    {
     "data": {
      "text/html": [
       "Synced <strong style=\"color:#cdcd00\">glad-sweep-3</strong>: <a href=\"https://wandb.ai/bub3690/SVD-hyp-sweep2/runs/fborr1ws\" target=\"_blank\">https://wandb.ai/bub3690/SVD-hyp-sweep2/runs/fborr1ws</a><br/>Synced 5 W&B file(s), 0 media file(s), 0 artifact file(s) and 0 other file(s)"
      ],
      "text/plain": [
       "<IPython.core.display.HTML object>"
      ]
     },
     "metadata": {},
     "output_type": "display_data"
    },
    {
     "data": {
      "text/html": [
       "Find logs at: <code>.\\wandb\\run-20221121_180343-fborr1ws\\logs</code>"
      ],
      "text/plain": [
       "<IPython.core.display.HTML object>"
      ]
     },
     "metadata": {},
     "output_type": "display_data"
    },
    {
     "name": "stderr",
     "output_type": "stream",
     "text": [
      "\u001b[34m\u001b[1mwandb\u001b[0m: Agent Starting Run: i246pd4g with config:\n",
      "\u001b[34m\u001b[1mwandb\u001b[0m: \thop_length: 150\n",
      "\u001b[34m\u001b[1mwandb\u001b[0m: \tn_fft: 1520\n",
      "\u001b[34m\u001b[1mwandb\u001b[0m: \tn_mels: 130\n",
      "\u001b[34m\u001b[1mwandb\u001b[0m: \twin_length: 1450\n",
      "Failed to detect the name of this notebook, you can set it manually with the WANDB_NOTEBOOK_NAME environment variable to enable code saving.\n",
      "\u001b[34m\u001b[1mwandb\u001b[0m: \u001b[33mWARNING\u001b[0m Ignored wandb.init() arg project when running a sweep.\n",
      "\u001b[34m\u001b[1mwandb\u001b[0m: \u001b[33mWARNING\u001b[0m Ignored wandb.init() arg entity when running a sweep.\n"
     ]
    },
    {
     "data": {
      "text/html": [
       "wandb version 0.13.5 is available!  To upgrade, please run:\n",
       " $ pip install wandb --upgrade"
      ],
      "text/plain": [
       "<IPython.core.display.HTML object>"
      ]
     },
     "metadata": {},
     "output_type": "display_data"
    },
    {
     "data": {
      "text/html": [
       "Tracking run with wandb version 0.12.16"
      ],
      "text/plain": [
       "<IPython.core.display.HTML object>"
      ]
     },
     "metadata": {},
     "output_type": "display_data"
    },
    {
     "data": {
      "text/html": [
       "Run data is saved locally in <code>d:\\project\\voice_pathology_ai\\model\\Module\\wandb\\run-20221121_180625-i246pd4g</code>"
      ],
      "text/plain": [
       "<IPython.core.display.HTML object>"
      ]
     },
     "metadata": {},
     "output_type": "display_data"
    },
    {
     "data": {
      "text/html": [
       "Syncing run <strong><a href=\"https://wandb.ai/bub3690/SVD-hyp-sweep2/runs/i246pd4g\" target=\"_blank\">wobbly-sweep-4</a></strong> to <a href=\"https://wandb.ai/bub3690/SVD-hyp-sweep2\" target=\"_blank\">Weights & Biases</a> (<a href=\"https://wandb.me/run\" target=\"_blank\">docs</a>)<br/>Sweep page:  <a href=\"https://wandb.ai/bub3690/SVD-hyp-sweep2/sweeps/l4lhk2pf\" target=\"_blank\">https://wandb.ai/bub3690/SVD-hyp-sweep2/sweeps/l4lhk2pf</a>"
      ],
      "text/plain": [
       "<IPython.core.display.HTML object>"
      ]
     },
     "metadata": {},
     "output_type": "display_data"
    },
    {
     "name": "stdout",
     "output_type": "stream",
     "text": [
      "./checkpoint/melspectrogram_1_organics_speaker.pt\n",
      "config: {'sr': 16000, 'n_mels': 130, 'win_length': 1450, 'n_fft': 1520, 'hop_length': 150, 'f_max': 8000}\n",
      "[1 교차검증] 학습 시작\n",
      " ----- \n",
      "\n",
      "[EPOCH:1]\t Train Loss:0.0366\t Train Acc:67.49 %  | \tValid Loss:0.0296 \tValid Acc: 83.94 %\n",
      "\n",
      "Validation loss decreased (inf --> 0.029605).  Saving model ...\n",
      "\n",
      "[EPOCH:2]\t Train Loss:0.0275\t Train Acc:81.90 %  | \tValid Loss:0.0299 \tValid Acc: 83.03 %\n",
      "\n",
      "EarlyStopping counter: 1 out of 5\n",
      "\n",
      "[EPOCH:3]\t Train Loss:0.0228\t Train Acc:87.32 %  | \tValid Loss:0.0279 \tValid Acc: 81.19 %\n",
      "\n",
      "Validation loss decreased (0.029605 --> 0.027942).  Saving model ...\n",
      "\n",
      "[EPOCH:4]\t Train Loss:0.0179\t Train Acc:93.10 %  | \tValid Loss:0.0282 \tValid Acc: 79.36 %\n",
      "\n",
      "EarlyStopping counter: 1 out of 5\n",
      "\n",
      "[EPOCH:5]\t Train Loss:0.0146\t Train Acc:97.17 %  | \tValid Loss:0.0267 \tValid Acc: 80.73 %\n",
      "\n",
      "Validation loss decreased (0.027942 --> 0.026689).  Saving model ...\n",
      "\n",
      "[EPOCH:6]\t Train Loss:0.0129\t Train Acc:96.80 %  | \tValid Loss:0.0277 \tValid Acc: 81.65 %\n",
      "\n",
      "EarlyStopping counter: 1 out of 5\n",
      "\n",
      "[EPOCH:7]\t Train Loss:0.0108\t Train Acc:98.28 %  | \tValid Loss:0.0247 \tValid Acc: 83.94 %\n",
      "\n",
      "Validation loss decreased (0.026689 --> 0.024656).  Saving model ...\n",
      "\n",
      "[EPOCH:8]\t Train Loss:0.0092\t Train Acc:99.14 %  | \tValid Loss:0.0253 \tValid Acc: 82.11 %\n",
      "\n",
      "EarlyStopping counter: 1 out of 5\n",
      "\n",
      "[EPOCH:9]\t Train Loss:0.0078\t Train Acc:99.63 %  | \tValid Loss:0.0239 \tValid Acc: 84.40 %\n",
      "\n",
      "Validation loss decreased (0.024656 --> 0.023909).  Saving model ...\n",
      "\n",
      "[EPOCH:10]\t Train Loss:0.0082\t Train Acc:98.65 %  | \tValid Loss:0.0240 \tValid Acc: 82.11 %\n",
      "\n",
      "EarlyStopping counter: 1 out of 5\n",
      "\n",
      "[EPOCH:11]\t Train Loss:0.0075\t Train Acc:98.89 %  | \tValid Loss:0.0235 \tValid Acc: 83.94 %\n",
      "\n",
      "Validation loss decreased (0.023909 --> 0.023506).  Saving model ...\n",
      "\n",
      "[EPOCH:12]\t Train Loss:0.0065\t Train Acc:99.01 %  | \tValid Loss:0.0256 \tValid Acc: 81.19 %\n",
      "\n",
      "EarlyStopping counter: 1 out of 5\n",
      "\n",
      "[EPOCH:13]\t Train Loss:0.0067\t Train Acc:98.52 %  | \tValid Loss:0.0258 \tValid Acc: 83.03 %\n",
      "\n",
      "EarlyStopping counter: 2 out of 5\n",
      "\n",
      "[EPOCH:14]\t Train Loss:0.0058\t Train Acc:99.01 %  | \tValid Loss:0.0300 \tValid Acc: 79.36 %\n",
      "\n",
      "EarlyStopping counter: 3 out of 5\n",
      "\n",
      "[EPOCH:15]\t Train Loss:0.0054\t Train Acc:99.14 %  | \tValid Loss:0.0452 \tValid Acc: 71.10 %\n",
      "\n",
      "EarlyStopping counter: 4 out of 5\n",
      "\n",
      "[EPOCH:16]\t Train Loss:0.0067\t Train Acc:98.03 %  | \tValid Loss:0.0251 \tValid Acc: 83.03 %\n",
      "\n",
      "EarlyStopping counter: 5 out of 5\n",
      "[1 교차검증] Early stopping\n"
     ]
    },
    {
     "data": {
      "text/html": [
       "Waiting for W&B process to finish... <strong style=\"color:green\">(success).</strong>"
      ],
      "text/plain": [
       "<IPython.core.display.HTML object>"
      ]
     },
     "metadata": {},
     "output_type": "display_data"
    },
    {
     "data": {
      "application/vnd.jupyter.widget-view+json": {
       "model_id": "80d9b9eab06f49ac85b21d93f0276616",
       "version_major": 2,
       "version_minor": 0
      },
      "text/plain": [
       "VBox(children=(Label(value='0.001 MB of 0.001 MB uploaded (0.000 MB deduped)\\r'), FloatProgress(value=1.0, max…"
      ]
     },
     "metadata": {},
     "output_type": "display_data"
    },
    {
     "data": {
      "text/html": [
       "<style>\n",
       "    table.wandb td:nth-child(1) { padding: 0 10px; text-align: left ; width: auto;} td:nth-child(2) {text-align: left ; width: 100%}\n",
       "    .wandb-row { display: flex; flex-direction: row; flex-wrap: wrap; justify-content: flex-start; width: 100% }\n",
       "    .wandb-col { display: flex; flex-direction: column; flex-basis: 100%; flex: 1; padding: 10px; }\n",
       "    </style>\n",
       "<div class=\"wandb-row\"><div class=\"wandb-col\"><h3>Run history:</h3><br/><table class=\"wandb\"><tr><td>Valid/Accuracy</td><td>▇▇▂▂▁▁▇▇██▇▇▇▇▇▇</td></tr><tr><td>Valid/Loss</td><td>██▆▆▅▅▂▂▁▁▁▁▁▁▁▁</td></tr></table><br/></div><div class=\"wandb-col\"><h3>Run summary:</h3><br/><table class=\"wandb\"><tr><td>Valid/Accuracy</td><td>83.94495</td></tr><tr><td>Valid/Loss</td><td>0.02351</td></tr></table><br/></div></div>"
      ],
      "text/plain": [
       "<IPython.core.display.HTML object>"
      ]
     },
     "metadata": {},
     "output_type": "display_data"
    },
    {
     "data": {
      "text/html": [
       "Synced <strong style=\"color:#cdcd00\">wobbly-sweep-4</strong>: <a href=\"https://wandb.ai/bub3690/SVD-hyp-sweep2/runs/i246pd4g\" target=\"_blank\">https://wandb.ai/bub3690/SVD-hyp-sweep2/runs/i246pd4g</a><br/>Synced 5 W&B file(s), 0 media file(s), 0 artifact file(s) and 0 other file(s)"
      ],
      "text/plain": [
       "<IPython.core.display.HTML object>"
      ]
     },
     "metadata": {},
     "output_type": "display_data"
    },
    {
     "data": {
      "text/html": [
       "Find logs at: <code>.\\wandb\\run-20221121_180625-i246pd4g\\logs</code>"
      ],
      "text/plain": [
       "<IPython.core.display.HTML object>"
      ]
     },
     "metadata": {},
     "output_type": "display_data"
    },
    {
     "name": "stderr",
     "output_type": "stream",
     "text": [
      "\u001b[34m\u001b[1mwandb\u001b[0m: Agent Starting Run: r463bp63 with config:\n",
      "\u001b[34m\u001b[1mwandb\u001b[0m: \thop_length: 900\n",
      "\u001b[34m\u001b[1mwandb\u001b[0m: \tn_fft: 3840\n",
      "\u001b[34m\u001b[1mwandb\u001b[0m: \tn_mels: 60\n",
      "\u001b[34m\u001b[1mwandb\u001b[0m: \twin_length: 720\n",
      "Failed to detect the name of this notebook, you can set it manually with the WANDB_NOTEBOOK_NAME environment variable to enable code saving.\n",
      "\u001b[34m\u001b[1mwandb\u001b[0m: \u001b[33mWARNING\u001b[0m Ignored wandb.init() arg project when running a sweep.\n",
      "\u001b[34m\u001b[1mwandb\u001b[0m: \u001b[33mWARNING\u001b[0m Ignored wandb.init() arg entity when running a sweep.\n"
     ]
    },
    {
     "data": {
      "text/html": [
       "wandb version 0.13.5 is available!  To upgrade, please run:\n",
       " $ pip install wandb --upgrade"
      ],
      "text/plain": [
       "<IPython.core.display.HTML object>"
      ]
     },
     "metadata": {},
     "output_type": "display_data"
    },
    {
     "data": {
      "text/html": [
       "Tracking run with wandb version 0.12.16"
      ],
      "text/plain": [
       "<IPython.core.display.HTML object>"
      ]
     },
     "metadata": {},
     "output_type": "display_data"
    },
    {
     "data": {
      "text/html": [
       "Run data is saved locally in <code>d:\\project\\voice_pathology_ai\\model\\Module\\wandb\\run-20221121_180836-r463bp63</code>"
      ],
      "text/plain": [
       "<IPython.core.display.HTML object>"
      ]
     },
     "metadata": {},
     "output_type": "display_data"
    },
    {
     "data": {
      "text/html": [
       "Syncing run <strong><a href=\"https://wandb.ai/bub3690/SVD-hyp-sweep2/runs/r463bp63\" target=\"_blank\">comfy-sweep-5</a></strong> to <a href=\"https://wandb.ai/bub3690/SVD-hyp-sweep2\" target=\"_blank\">Weights & Biases</a> (<a href=\"https://wandb.me/run\" target=\"_blank\">docs</a>)<br/>Sweep page:  <a href=\"https://wandb.ai/bub3690/SVD-hyp-sweep2/sweeps/l4lhk2pf\" target=\"_blank\">https://wandb.ai/bub3690/SVD-hyp-sweep2/sweeps/l4lhk2pf</a>"
      ],
      "text/plain": [
       "<IPython.core.display.HTML object>"
      ]
     },
     "metadata": {},
     "output_type": "display_data"
    },
    {
     "name": "stdout",
     "output_type": "stream",
     "text": [
      "./checkpoint/melspectrogram_1_organics_speaker.pt\n",
      "config: {'sr': 16000, 'n_mels': 60, 'win_length': 720, 'n_fft': 3840, 'hop_length': 900, 'f_max': 8000}\n",
      "[1 교차검증] 학습 시작\n",
      " ----- \n",
      "\n",
      "[EPOCH:1]\t Train Loss:0.0461\t Train Acc:54.19 %  | \tValid Loss:0.0396 \tValid Acc: 63.76 %\n",
      "\n",
      "Validation loss decreased (inf --> 0.039604).  Saving model ...\n",
      "\n",
      "[EPOCH:2]\t Train Loss:0.0385\t Train Acc:63.42 %  | \tValid Loss:0.0379 \tValid Acc: 77.06 %\n",
      "\n",
      "Validation loss decreased (0.039604 --> 0.037925).  Saving model ...\n",
      "\n",
      "[EPOCH:3]\t Train Loss:0.0328\t Train Acc:73.77 %  | \tValid Loss:0.0350 \tValid Acc: 78.90 %\n",
      "\n",
      "Validation loss decreased (0.037925 --> 0.035007).  Saving model ...\n",
      "\n",
      "[EPOCH:4]\t Train Loss:0.0282\t Train Acc:82.02 %  | \tValid Loss:0.0346 \tValid Acc: 77.98 %\n",
      "\n",
      "Validation loss decreased (0.035007 --> 0.034553).  Saving model ...\n",
      "\n",
      "[EPOCH:5]\t Train Loss:0.0256\t Train Acc:86.82 %  | \tValid Loss:0.0336 \tValid Acc: 76.61 %\n",
      "\n",
      "Validation loss decreased (0.034553 --> 0.033604).  Saving model ...\n",
      "\n",
      "[EPOCH:6]\t Train Loss:0.0205\t Train Acc:92.24 %  | \tValid Loss:0.0334 \tValid Acc: 77.06 %\n",
      "\n",
      "Validation loss decreased (0.033604 --> 0.033412).  Saving model ...\n",
      "\n",
      "[EPOCH:7]\t Train Loss:0.0186\t Train Acc:95.20 %  | \tValid Loss:0.0338 \tValid Acc: 76.15 %\n",
      "\n",
      "EarlyStopping counter: 1 out of 5\n",
      "\n",
      "[EPOCH:8]\t Train Loss:0.0156\t Train Acc:96.06 %  | \tValid Loss:0.0347 \tValid Acc: 74.77 %\n",
      "\n",
      "EarlyStopping counter: 2 out of 5\n",
      "\n",
      "[EPOCH:9]\t Train Loss:0.0146\t Train Acc:95.81 %  | \tValid Loss:0.0345 \tValid Acc: 75.69 %\n",
      "\n",
      "EarlyStopping counter: 3 out of 5\n",
      "\n",
      "[EPOCH:10]\t Train Loss:0.0126\t Train Acc:97.04 %  | \tValid Loss:0.0341 \tValid Acc: 74.31 %\n",
      "\n",
      "EarlyStopping counter: 4 out of 5\n",
      "\n",
      "[EPOCH:11]\t Train Loss:0.0125\t Train Acc:97.17 %  | \tValid Loss:0.0386 \tValid Acc: 70.18 %\n",
      "\n",
      "EarlyStopping counter: 5 out of 5\n",
      "[1 교차검증] Early stopping\n"
     ]
    },
    {
     "data": {
      "text/html": [
       "Waiting for W&B process to finish... <strong style=\"color:green\">(success).</strong>"
      ],
      "text/plain": [
       "<IPython.core.display.HTML object>"
      ]
     },
     "metadata": {},
     "output_type": "display_data"
    },
    {
     "data": {
      "application/vnd.jupyter.widget-view+json": {
       "model_id": "0769dbb1201142f09af4197d6fd5d2bb",
       "version_major": 2,
       "version_minor": 0
      },
      "text/plain": [
       "VBox(children=(Label(value='0.001 MB of 0.001 MB uploaded (0.000 MB deduped)\\r'), FloatProgress(value=1.0, max…"
      ]
     },
     "metadata": {},
     "output_type": "display_data"
    },
    {
     "data": {
      "text/html": [
       "<style>\n",
       "    table.wandb td:nth-child(1) { padding: 0 10px; text-align: left ; width: auto;} td:nth-child(2) {text-align: left ; width: 100%}\n",
       "    .wandb-row { display: flex; flex-direction: row; flex-wrap: wrap; justify-content: flex-start; width: 100% }\n",
       "    .wandb-col { display: flex; flex-direction: column; flex-basis: 100%; flex: 1; padding: 10px; }\n",
       "    </style>\n",
       "<div class=\"wandb-row\"><div class=\"wandb-col\"><h3>Run history:</h3><br/><table class=\"wandb\"><tr><td>Valid/Accuracy</td><td>▁▇██▇▇▇▇▇▇▇</td></tr><tr><td>Valid/Loss</td><td>█▆▃▂▁▁▁▁▁▁▁</td></tr></table><br/></div><div class=\"wandb-col\"><h3>Run summary:</h3><br/><table class=\"wandb\"><tr><td>Valid/Accuracy</td><td>77.06422</td></tr><tr><td>Valid/Loss</td><td>0.03341</td></tr></table><br/></div></div>"
      ],
      "text/plain": [
       "<IPython.core.display.HTML object>"
      ]
     },
     "metadata": {},
     "output_type": "display_data"
    },
    {
     "data": {
      "text/html": [
       "Synced <strong style=\"color:#cdcd00\">comfy-sweep-5</strong>: <a href=\"https://wandb.ai/bub3690/SVD-hyp-sweep2/runs/r463bp63\" target=\"_blank\">https://wandb.ai/bub3690/SVD-hyp-sweep2/runs/r463bp63</a><br/>Synced 5 W&B file(s), 0 media file(s), 0 artifact file(s) and 0 other file(s)"
      ],
      "text/plain": [
       "<IPython.core.display.HTML object>"
      ]
     },
     "metadata": {},
     "output_type": "display_data"
    },
    {
     "data": {
      "text/html": [
       "Find logs at: <code>.\\wandb\\run-20221121_180836-r463bp63\\logs</code>"
      ],
      "text/plain": [
       "<IPython.core.display.HTML object>"
      ]
     },
     "metadata": {},
     "output_type": "display_data"
    },
    {
     "name": "stderr",
     "output_type": "stream",
     "text": [
      "\u001b[34m\u001b[1mwandb\u001b[0m: Agent Starting Run: qx19zzpo with config:\n",
      "\u001b[34m\u001b[1mwandb\u001b[0m: \thop_length: 200\n",
      "\u001b[34m\u001b[1mwandb\u001b[0m: \tn_fft: 1710\n",
      "\u001b[34m\u001b[1mwandb\u001b[0m: \tn_mels: 90\n",
      "\u001b[34m\u001b[1mwandb\u001b[0m: \twin_length: 2250\n",
      "Failed to detect the name of this notebook, you can set it manually with the WANDB_NOTEBOOK_NAME environment variable to enable code saving.\n",
      "\u001b[34m\u001b[1mwandb\u001b[0m: \u001b[33mWARNING\u001b[0m Ignored wandb.init() arg project when running a sweep.\n",
      "\u001b[34m\u001b[1mwandb\u001b[0m: \u001b[33mWARNING\u001b[0m Ignored wandb.init() arg entity when running a sweep.\n"
     ]
    },
    {
     "data": {
      "text/html": [
       "wandb version 0.13.5 is available!  To upgrade, please run:\n",
       " $ pip install wandb --upgrade"
      ],
      "text/plain": [
       "<IPython.core.display.HTML object>"
      ]
     },
     "metadata": {},
     "output_type": "display_data"
    },
    {
     "data": {
      "text/html": [
       "Tracking run with wandb version 0.12.16"
      ],
      "text/plain": [
       "<IPython.core.display.HTML object>"
      ]
     },
     "metadata": {},
     "output_type": "display_data"
    },
    {
     "data": {
      "text/html": [
       "Run data is saved locally in <code>d:\\project\\voice_pathology_ai\\model\\Module\\wandb\\run-20221121_180934-qx19zzpo</code>"
      ],
      "text/plain": [
       "<IPython.core.display.HTML object>"
      ]
     },
     "metadata": {},
     "output_type": "display_data"
    },
    {
     "data": {
      "text/html": [
       "Syncing run <strong><a href=\"https://wandb.ai/bub3690/SVD-hyp-sweep2/runs/qx19zzpo\" target=\"_blank\">graceful-sweep-6</a></strong> to <a href=\"https://wandb.ai/bub3690/SVD-hyp-sweep2\" target=\"_blank\">Weights & Biases</a> (<a href=\"https://wandb.me/run\" target=\"_blank\">docs</a>)<br/>Sweep page:  <a href=\"https://wandb.ai/bub3690/SVD-hyp-sweep2/sweeps/l4lhk2pf\" target=\"_blank\">https://wandb.ai/bub3690/SVD-hyp-sweep2/sweeps/l4lhk2pf</a>"
      ],
      "text/plain": [
       "<IPython.core.display.HTML object>"
      ]
     },
     "metadata": {},
     "output_type": "display_data"
    },
    {
     "name": "stdout",
     "output_type": "stream",
     "text": [
      "./checkpoint/melspectrogram_1_organics_speaker.pt\n",
      "config: {'sr': 16000, 'n_mels': 90, 'win_length': 2250, 'n_fft': 1710, 'hop_length': 200, 'f_max': 8000}\n",
      "[1 교차검증] 학습 시작\n",
      " ----- \n"
     ]
    },
    {
     "data": {
      "text/html": [
       "Waiting for W&B process to finish... <strong style=\"color:red\">(failed 1).</strong> Press Ctrl-C to abort syncing."
      ],
      "text/plain": [
       "<IPython.core.display.HTML object>"
      ]
     },
     "metadata": {},
     "output_type": "display_data"
    },
    {
     "data": {
      "application/vnd.jupyter.widget-view+json": {
       "model_id": "98c624e0672a413e9b33b3b19ee6ceee",
       "version_major": 2,
       "version_minor": 0
      },
      "text/plain": [
       "VBox(children=(Label(value='0.001 MB of 0.001 MB uploaded (0.000 MB deduped)\\r'), FloatProgress(value=1.0, max…"
      ]
     },
     "metadata": {},
     "output_type": "display_data"
    },
    {
     "data": {
      "text/html": [
       "Synced <strong style=\"color:#cdcd00\">graceful-sweep-6</strong>: <a href=\"https://wandb.ai/bub3690/SVD-hyp-sweep2/runs/qx19zzpo\" target=\"_blank\">https://wandb.ai/bub3690/SVD-hyp-sweep2/runs/qx19zzpo</a><br/>Synced 5 W&B file(s), 0 media file(s), 0 artifact file(s) and 0 other file(s)"
      ],
      "text/plain": [
       "<IPython.core.display.HTML object>"
      ]
     },
     "metadata": {},
     "output_type": "display_data"
    },
    {
     "data": {
      "text/html": [
       "Find logs at: <code>.\\wandb\\run-20221121_180934-qx19zzpo\\logs</code>"
      ],
      "text/plain": [
       "<IPython.core.display.HTML object>"
      ]
     },
     "metadata": {},
     "output_type": "display_data"
    },
    {
     "name": "stderr",
     "output_type": "stream",
     "text": [
      "Run qx19zzpo errored: ParameterError('Target size (1710) must be at least input size (2250)')\n",
      "\u001b[34m\u001b[1mwandb\u001b[0m: \u001b[32m\u001b[41mERROR\u001b[0m Run qx19zzpo errored: ParameterError('Target size (1710) must be at least input size (2250)')\n",
      "\u001b[34m\u001b[1mwandb\u001b[0m: Agent Starting Run: aq3f0ow8 with config:\n",
      "\u001b[34m\u001b[1mwandb\u001b[0m: \thop_length: 650\n",
      "\u001b[34m\u001b[1mwandb\u001b[0m: \tn_fft: 3170\n",
      "\u001b[34m\u001b[1mwandb\u001b[0m: \tn_mels: 160\n",
      "\u001b[34m\u001b[1mwandb\u001b[0m: \twin_length: 2500\n",
      "Failed to detect the name of this notebook, you can set it manually with the WANDB_NOTEBOOK_NAME environment variable to enable code saving.\n",
      "\u001b[34m\u001b[1mwandb\u001b[0m: \u001b[33mWARNING\u001b[0m Ignored wandb.init() arg project when running a sweep.\n",
      "\u001b[34m\u001b[1mwandb\u001b[0m: \u001b[33mWARNING\u001b[0m Ignored wandb.init() arg entity when running a sweep.\n"
     ]
    },
    {
     "data": {
      "text/html": [
       "wandb version 0.13.5 is available!  To upgrade, please run:\n",
       " $ pip install wandb --upgrade"
      ],
      "text/plain": [
       "<IPython.core.display.HTML object>"
      ]
     },
     "metadata": {},
     "output_type": "display_data"
    },
    {
     "data": {
      "text/html": [
       "Tracking run with wandb version 0.12.16"
      ],
      "text/plain": [
       "<IPython.core.display.HTML object>"
      ]
     },
     "metadata": {},
     "output_type": "display_data"
    },
    {
     "data": {
      "text/html": [
       "Run data is saved locally in <code>d:\\project\\voice_pathology_ai\\model\\Module\\wandb\\run-20221121_180945-aq3f0ow8</code>"
      ],
      "text/plain": [
       "<IPython.core.display.HTML object>"
      ]
     },
     "metadata": {},
     "output_type": "display_data"
    },
    {
     "data": {
      "text/html": [
       "Syncing run <strong><a href=\"https://wandb.ai/bub3690/SVD-hyp-sweep2/runs/aq3f0ow8\" target=\"_blank\">helpful-sweep-7</a></strong> to <a href=\"https://wandb.ai/bub3690/SVD-hyp-sweep2\" target=\"_blank\">Weights & Biases</a> (<a href=\"https://wandb.me/run\" target=\"_blank\">docs</a>)<br/>Sweep page:  <a href=\"https://wandb.ai/bub3690/SVD-hyp-sweep2/sweeps/l4lhk2pf\" target=\"_blank\">https://wandb.ai/bub3690/SVD-hyp-sweep2/sweeps/l4lhk2pf</a>"
      ],
      "text/plain": [
       "<IPython.core.display.HTML object>"
      ]
     },
     "metadata": {},
     "output_type": "display_data"
    },
    {
     "name": "stdout",
     "output_type": "stream",
     "text": [
      "./checkpoint/melspectrogram_1_organics_speaker.pt\n",
      "config: {'sr': 16000, 'n_mels': 160, 'win_length': 2500, 'n_fft': 3170, 'hop_length': 650, 'f_max': 8000}\n",
      "[1 교차검증] 학습 시작\n",
      " ----- \n",
      "\n",
      "[EPOCH:1]\t Train Loss:0.0394\t Train Acc:63.67 %  | \tValid Loss:0.0335 \tValid Acc: 76.15 %\n",
      "\n",
      "Validation loss decreased (inf --> 0.033504).  Saving model ...\n",
      "\n",
      "[EPOCH:2]\t Train Loss:0.0323\t Train Acc:77.34 %  | \tValid Loss:0.0317 \tValid Acc: 80.28 %\n",
      "\n",
      "Validation loss decreased (0.033504 --> 0.031663).  Saving model ...\n",
      "\n",
      "[EPOCH:3]\t Train Loss:0.0253\t Train Acc:83.74 %  | \tValid Loss:0.0296 \tValid Acc: 81.19 %\n",
      "\n",
      "Validation loss decreased (0.031663 --> 0.029561).  Saving model ...\n",
      "\n",
      "[EPOCH:4]\t Train Loss:0.0201\t Train Acc:91.01 %  | \tValid Loss:0.0294 \tValid Acc: 78.90 %\n",
      "\n",
      "Validation loss decreased (0.029561 --> 0.029359).  Saving model ...\n",
      "\n",
      "[EPOCH:5]\t Train Loss:0.0163\t Train Acc:95.20 %  | \tValid Loss:0.0286 \tValid Acc: 80.73 %\n",
      "\n",
      "Validation loss decreased (0.029359 --> 0.028577).  Saving model ...\n",
      "\n",
      "[EPOCH:6]\t Train Loss:0.0143\t Train Acc:96.80 %  | \tValid Loss:0.0293 \tValid Acc: 78.90 %\n",
      "\n",
      "EarlyStopping counter: 1 out of 5\n",
      "\n",
      "[EPOCH:7]\t Train Loss:0.0127\t Train Acc:96.92 %  | \tValid Loss:0.0280 \tValid Acc: 78.90 %\n",
      "\n",
      "Validation loss decreased (0.028577 --> 0.027959).  Saving model ...\n",
      "\n",
      "[EPOCH:8]\t Train Loss:0.0100\t Train Acc:98.89 %  | \tValid Loss:0.0280 \tValid Acc: 80.73 %\n",
      "\n",
      "EarlyStopping counter: 1 out of 5\n",
      "\n",
      "[EPOCH:9]\t Train Loss:0.0095\t Train Acc:98.28 %  | \tValid Loss:0.0312 \tValid Acc: 78.44 %\n",
      "\n",
      "EarlyStopping counter: 2 out of 5\n",
      "\n",
      "[EPOCH:10]\t Train Loss:0.0093\t Train Acc:98.03 %  | \tValid Loss:0.0287 \tValid Acc: 79.82 %\n",
      "\n",
      "EarlyStopping counter: 3 out of 5\n",
      "\n",
      "[EPOCH:11]\t Train Loss:0.0084\t Train Acc:98.52 %  | \tValid Loss:0.0290 \tValid Acc: 80.28 %\n",
      "\n",
      "EarlyStopping counter: 4 out of 5\n",
      "\n",
      "[EPOCH:12]\t Train Loss:0.0087\t Train Acc:97.91 %  | \tValid Loss:0.0306 \tValid Acc: 79.36 %\n",
      "\n",
      "EarlyStopping counter: 5 out of 5\n",
      "[1 교차검증] Early stopping\n"
     ]
    },
    {
     "data": {
      "text/html": [
       "Waiting for W&B process to finish... <strong style=\"color:green\">(success).</strong>"
      ],
      "text/plain": [
       "<IPython.core.display.HTML object>"
      ]
     },
     "metadata": {},
     "output_type": "display_data"
    },
    {
     "data": {
      "application/vnd.jupyter.widget-view+json": {
       "model_id": "a1f4cb716e8c4ec1952b65860e83f067",
       "version_major": 2,
       "version_minor": 0
      },
      "text/plain": [
       "VBox(children=(Label(value='0.001 MB of 0.001 MB uploaded (0.000 MB deduped)\\r'), FloatProgress(value=1.0, max…"
      ]
     },
     "metadata": {},
     "output_type": "display_data"
    },
    {
     "data": {
      "text/html": [
       "<style>\n",
       "    table.wandb td:nth-child(1) { padding: 0 10px; text-align: left ; width: auto;} td:nth-child(2) {text-align: left ; width: 100%}\n",
       "    .wandb-row { display: flex; flex-direction: row; flex-wrap: wrap; justify-content: flex-start; width: 100% }\n",
       "    .wandb-col { display: flex; flex-direction: column; flex-basis: 100%; flex: 1; padding: 10px; }\n",
       "    </style>\n",
       "<div class=\"wandb-row\"><div class=\"wandb-col\"><h3>Run history:</h3><br/><table class=\"wandb\"><tr><td>Valid/Accuracy</td><td>▁▇█▅▇▇▅▅▅▅▅▅</td></tr><tr><td>Valid/Loss</td><td>█▆▃▃▂▂▁▁▁▁▁▁</td></tr></table><br/></div><div class=\"wandb-col\"><h3>Run summary:</h3><br/><table class=\"wandb\"><tr><td>Valid/Accuracy</td><td>78.89908</td></tr><tr><td>Valid/Loss</td><td>0.02796</td></tr></table><br/></div></div>"
      ],
      "text/plain": [
       "<IPython.core.display.HTML object>"
      ]
     },
     "metadata": {},
     "output_type": "display_data"
    },
    {
     "data": {
      "text/html": [
       "Synced <strong style=\"color:#cdcd00\">helpful-sweep-7</strong>: <a href=\"https://wandb.ai/bub3690/SVD-hyp-sweep2/runs/aq3f0ow8\" target=\"_blank\">https://wandb.ai/bub3690/SVD-hyp-sweep2/runs/aq3f0ow8</a><br/>Synced 5 W&B file(s), 0 media file(s), 0 artifact file(s) and 0 other file(s)"
      ],
      "text/plain": [
       "<IPython.core.display.HTML object>"
      ]
     },
     "metadata": {},
     "output_type": "display_data"
    },
    {
     "data": {
      "text/html": [
       "Find logs at: <code>.\\wandb\\run-20221121_180945-aq3f0ow8\\logs</code>"
      ],
      "text/plain": [
       "<IPython.core.display.HTML object>"
      ]
     },
     "metadata": {},
     "output_type": "display_data"
    },
    {
     "name": "stderr",
     "output_type": "stream",
     "text": [
      "\u001b[34m\u001b[1mwandb\u001b[0m: Agent Starting Run: ja3nlmw5 with config:\n",
      "\u001b[34m\u001b[1mwandb\u001b[0m: \thop_length: 600\n",
      "\u001b[34m\u001b[1mwandb\u001b[0m: \tn_fft: 760\n",
      "\u001b[34m\u001b[1mwandb\u001b[0m: \tn_mels: 90\n",
      "\u001b[34m\u001b[1mwandb\u001b[0m: \twin_length: 1700\n",
      "Failed to detect the name of this notebook, you can set it manually with the WANDB_NOTEBOOK_NAME environment variable to enable code saving.\n",
      "\u001b[34m\u001b[1mwandb\u001b[0m: \u001b[33mWARNING\u001b[0m Ignored wandb.init() arg project when running a sweep.\n",
      "\u001b[34m\u001b[1mwandb\u001b[0m: \u001b[33mWARNING\u001b[0m Ignored wandb.init() arg entity when running a sweep.\n"
     ]
    },
    {
     "data": {
      "text/html": [
       "wandb version 0.13.5 is available!  To upgrade, please run:\n",
       " $ pip install wandb --upgrade"
      ],
      "text/plain": [
       "<IPython.core.display.HTML object>"
      ]
     },
     "metadata": {},
     "output_type": "display_data"
    },
    {
     "data": {
      "text/html": [
       "Tracking run with wandb version 0.12.16"
      ],
      "text/plain": [
       "<IPython.core.display.HTML object>"
      ]
     },
     "metadata": {},
     "output_type": "display_data"
    },
    {
     "data": {
      "text/html": [
       "Run data is saved locally in <code>d:\\project\\voice_pathology_ai\\model\\Module\\wandb\\run-20221121_181223-ja3nlmw5</code>"
      ],
      "text/plain": [
       "<IPython.core.display.HTML object>"
      ]
     },
     "metadata": {},
     "output_type": "display_data"
    },
    {
     "data": {
      "text/html": [
       "Syncing run <strong><a href=\"https://wandb.ai/bub3690/SVD-hyp-sweep2/runs/ja3nlmw5\" target=\"_blank\">worthy-sweep-8</a></strong> to <a href=\"https://wandb.ai/bub3690/SVD-hyp-sweep2\" target=\"_blank\">Weights & Biases</a> (<a href=\"https://wandb.me/run\" target=\"_blank\">docs</a>)<br/>Sweep page:  <a href=\"https://wandb.ai/bub3690/SVD-hyp-sweep2/sweeps/l4lhk2pf\" target=\"_blank\">https://wandb.ai/bub3690/SVD-hyp-sweep2/sweeps/l4lhk2pf</a>"
      ],
      "text/plain": [
       "<IPython.core.display.HTML object>"
      ]
     },
     "metadata": {},
     "output_type": "display_data"
    },
    {
     "name": "stdout",
     "output_type": "stream",
     "text": [
      "./checkpoint/melspectrogram_1_organics_speaker.pt\n",
      "config: {'sr': 16000, 'n_mels': 90, 'win_length': 1700, 'n_fft': 760, 'hop_length': 600, 'f_max': 8000}\n",
      "[1 교차검증] 학습 시작\n",
      " ----- \n"
     ]
    },
    {
     "data": {
      "text/html": [
       "Waiting for W&B process to finish... <strong style=\"color:red\">(failed 1).</strong> Press Ctrl-C to abort syncing."
      ],
      "text/plain": [
       "<IPython.core.display.HTML object>"
      ]
     },
     "metadata": {},
     "output_type": "display_data"
    },
    {
     "data": {
      "application/vnd.jupyter.widget-view+json": {
       "model_id": "6814b4c5e9e84ca09729dd79b70e5da6",
       "version_major": 2,
       "version_minor": 0
      },
      "text/plain": [
       "VBox(children=(Label(value='0.000 MB of 0.001 MB uploaded (0.000 MB deduped)\\r'), FloatProgress(value=0.0, max…"
      ]
     },
     "metadata": {},
     "output_type": "display_data"
    },
    {
     "data": {
      "text/html": [
       "Synced <strong style=\"color:#cdcd00\">worthy-sweep-8</strong>: <a href=\"https://wandb.ai/bub3690/SVD-hyp-sweep2/runs/ja3nlmw5\" target=\"_blank\">https://wandb.ai/bub3690/SVD-hyp-sweep2/runs/ja3nlmw5</a><br/>Synced 5 W&B file(s), 0 media file(s), 0 artifact file(s) and 0 other file(s)"
      ],
      "text/plain": [
       "<IPython.core.display.HTML object>"
      ]
     },
     "metadata": {},
     "output_type": "display_data"
    },
    {
     "data": {
      "text/html": [
       "Find logs at: <code>.\\wandb\\run-20221121_181223-ja3nlmw5\\logs</code>"
      ],
      "text/plain": [
       "<IPython.core.display.HTML object>"
      ]
     },
     "metadata": {},
     "output_type": "display_data"
    },
    {
     "name": "stderr",
     "output_type": "stream",
     "text": [
      "Run ja3nlmw5 errored: ParameterError('Target size (760) must be at least input size (1700)')\n",
      "\u001b[34m\u001b[1mwandb\u001b[0m: \u001b[32m\u001b[41mERROR\u001b[0m Run ja3nlmw5 errored: ParameterError('Target size (760) must be at least input size (1700)')\n",
      "\u001b[34m\u001b[1mwandb\u001b[0m: Agent Starting Run: is8xbet7 with config:\n",
      "\u001b[34m\u001b[1mwandb\u001b[0m: \thop_length: 500\n",
      "\u001b[34m\u001b[1mwandb\u001b[0m: \tn_fft: 2100\n",
      "\u001b[34m\u001b[1mwandb\u001b[0m: \tn_mels: 160\n",
      "\u001b[34m\u001b[1mwandb\u001b[0m: \twin_length: 1570\n",
      "Failed to detect the name of this notebook, you can set it manually with the WANDB_NOTEBOOK_NAME environment variable to enable code saving.\n",
      "\u001b[34m\u001b[1mwandb\u001b[0m: \u001b[33mWARNING\u001b[0m Ignored wandb.init() arg project when running a sweep.\n",
      "\u001b[34m\u001b[1mwandb\u001b[0m: \u001b[33mWARNING\u001b[0m Ignored wandb.init() arg entity when running a sweep.\n"
     ]
    },
    {
     "data": {
      "text/html": [
       "wandb version 0.13.5 is available!  To upgrade, please run:\n",
       " $ pip install wandb --upgrade"
      ],
      "text/plain": [
       "<IPython.core.display.HTML object>"
      ]
     },
     "metadata": {},
     "output_type": "display_data"
    },
    {
     "data": {
      "text/html": [
       "Tracking run with wandb version 0.12.16"
      ],
      "text/plain": [
       "<IPython.core.display.HTML object>"
      ]
     },
     "metadata": {},
     "output_type": "display_data"
    },
    {
     "data": {
      "text/html": [
       "Run data is saved locally in <code>d:\\project\\voice_pathology_ai\\model\\Module\\wandb\\run-20221121_181233-is8xbet7</code>"
      ],
      "text/plain": [
       "<IPython.core.display.HTML object>"
      ]
     },
     "metadata": {},
     "output_type": "display_data"
    },
    {
     "data": {
      "text/html": [
       "Syncing run <strong><a href=\"https://wandb.ai/bub3690/SVD-hyp-sweep2/runs/is8xbet7\" target=\"_blank\">golden-sweep-9</a></strong> to <a href=\"https://wandb.ai/bub3690/SVD-hyp-sweep2\" target=\"_blank\">Weights & Biases</a> (<a href=\"https://wandb.me/run\" target=\"_blank\">docs</a>)<br/>Sweep page:  <a href=\"https://wandb.ai/bub3690/SVD-hyp-sweep2/sweeps/l4lhk2pf\" target=\"_blank\">https://wandb.ai/bub3690/SVD-hyp-sweep2/sweeps/l4lhk2pf</a>"
      ],
      "text/plain": [
       "<IPython.core.display.HTML object>"
      ]
     },
     "metadata": {},
     "output_type": "display_data"
    },
    {
     "name": "stdout",
     "output_type": "stream",
     "text": [
      "./checkpoint/melspectrogram_1_organics_speaker.pt\n",
      "config: {'sr': 16000, 'n_mels': 160, 'win_length': 1570, 'n_fft': 2100, 'hop_length': 500, 'f_max': 8000}\n",
      "[1 교차검증] 학습 시작\n",
      " ----- \n",
      "\n",
      "[EPOCH:1]\t Train Loss:0.0400\t Train Acc:62.44 %  | \tValid Loss:0.0336 \tValid Acc: 74.31 %\n",
      "\n",
      "Validation loss decreased (inf --> 0.033557).  Saving model ...\n",
      "\n",
      "[EPOCH:2]\t Train Loss:0.0309\t Train Acc:76.97 %  | \tValid Loss:0.0311 \tValid Acc: 76.15 %\n",
      "\n",
      "Validation loss decreased (0.033557 --> 0.031080).  Saving model ...\n",
      "\n",
      "[EPOCH:3]\t Train Loss:0.0268\t Train Acc:83.25 %  | \tValid Loss:0.0301 \tValid Acc: 76.61 %\n",
      "\n",
      "Validation loss decreased (0.031080 --> 0.030149).  Saving model ...\n",
      "\n",
      "[EPOCH:4]\t Train Loss:0.0215\t Train Acc:88.18 %  | \tValid Loss:0.0299 \tValid Acc: 76.61 %\n",
      "\n",
      "Validation loss decreased (0.030149 --> 0.029939).  Saving model ...\n",
      "\n",
      "[EPOCH:5]\t Train Loss:0.0177\t Train Acc:93.97 %  | \tValid Loss:0.0279 \tValid Acc: 80.73 %\n",
      "\n",
      "Validation loss decreased (0.029939 --> 0.027889).  Saving model ...\n",
      "\n",
      "[EPOCH:6]\t Train Loss:0.0145\t Train Acc:95.81 %  | \tValid Loss:0.0271 \tValid Acc: 79.82 %\n",
      "\n",
      "Validation loss decreased (0.027889 --> 0.027083).  Saving model ...\n",
      "\n",
      "[EPOCH:7]\t Train Loss:0.0120\t Train Acc:97.66 %  | \tValid Loss:0.0269 \tValid Acc: 78.90 %\n",
      "\n",
      "Validation loss decreased (0.027083 --> 0.026932).  Saving model ...\n",
      "\n",
      "[EPOCH:8]\t Train Loss:0.0107\t Train Acc:98.40 %  | \tValid Loss:0.0253 \tValid Acc: 80.73 %\n",
      "\n",
      "Validation loss decreased (0.026932 --> 0.025296).  Saving model ...\n",
      "\n",
      "[EPOCH:9]\t Train Loss:0.0094\t Train Acc:98.77 %  | \tValid Loss:0.0262 \tValid Acc: 78.90 %\n",
      "\n",
      "EarlyStopping counter: 1 out of 5\n",
      "\n",
      "[EPOCH:10]\t Train Loss:0.0086\t Train Acc:99.14 %  | \tValid Loss:0.0257 \tValid Acc: 79.36 %\n",
      "\n",
      "EarlyStopping counter: 2 out of 5\n",
      "\n",
      "[EPOCH:11]\t Train Loss:0.0072\t Train Acc:99.01 %  | \tValid Loss:0.0263 \tValid Acc: 82.57 %\n",
      "\n",
      "EarlyStopping counter: 3 out of 5\n",
      "\n",
      "[EPOCH:12]\t Train Loss:0.0072\t Train Acc:98.77 %  | \tValid Loss:0.0248 \tValid Acc: 83.49 %\n",
      "\n",
      "Validation loss decreased (0.025296 --> 0.024792).  Saving model ...\n",
      "\n",
      "[EPOCH:13]\t Train Loss:0.0068\t Train Acc:98.52 %  | \tValid Loss:0.0271 \tValid Acc: 83.03 %\n",
      "\n",
      "EarlyStopping counter: 1 out of 5\n",
      "\n",
      "[EPOCH:14]\t Train Loss:0.0066\t Train Acc:98.40 %  | \tValid Loss:0.0267 \tValid Acc: 83.03 %\n",
      "\n",
      "EarlyStopping counter: 2 out of 5\n",
      "\n",
      "[EPOCH:15]\t Train Loss:0.0072\t Train Acc:97.66 %  | \tValid Loss:0.0283 \tValid Acc: 80.73 %\n",
      "\n",
      "EarlyStopping counter: 3 out of 5\n",
      "\n",
      "[EPOCH:16]\t Train Loss:0.0080\t Train Acc:97.29 %  | \tValid Loss:0.0300 \tValid Acc: 79.82 %\n",
      "\n",
      "EarlyStopping counter: 4 out of 5\n",
      "\n",
      "[EPOCH:17]\t Train Loss:0.0092\t Train Acc:95.81 %  | \tValid Loss:0.0296 \tValid Acc: 79.82 %\n",
      "\n",
      "EarlyStopping counter: 5 out of 5\n",
      "[1 교차검증] Early stopping\n"
     ]
    },
    {
     "data": {
      "text/html": [
       "Waiting for W&B process to finish... <strong style=\"color:green\">(success).</strong>"
      ],
      "text/plain": [
       "<IPython.core.display.HTML object>"
      ]
     },
     "metadata": {},
     "output_type": "display_data"
    },
    {
     "data": {
      "application/vnd.jupyter.widget-view+json": {
       "model_id": "853aa8afcad240d18815d3e566c8d6c4",
       "version_major": 2,
       "version_minor": 0
      },
      "text/plain": [
       "VBox(children=(Label(value='0.001 MB of 0.001 MB uploaded (0.000 MB deduped)\\r'), FloatProgress(value=1.0, max…"
      ]
     },
     "metadata": {},
     "output_type": "display_data"
    },
    {
     "data": {
      "text/html": [
       "<style>\n",
       "    table.wandb td:nth-child(1) { padding: 0 10px; text-align: left ; width: auto;} td:nth-child(2) {text-align: left ; width: 100%}\n",
       "    .wandb-row { display: flex; flex-direction: row; flex-wrap: wrap; justify-content: flex-start; width: 100% }\n",
       "    .wandb-col { display: flex; flex-direction: column; flex-basis: 100%; flex: 1; padding: 10px; }\n",
       "    </style>\n",
       "<div class=\"wandb-row\"><div class=\"wandb-col\"><h3>Run history:</h3><br/><table class=\"wandb\"><tr><td>Valid/Accuracy</td><td>▁▂▃▃▆▅▅▆▆▆▆██████</td></tr><tr><td>Valid/Loss</td><td>█▆▅▅▃▃▃▁▁▁▁▁▁▁▁▁▁</td></tr></table><br/></div><div class=\"wandb-col\"><h3>Run summary:</h3><br/><table class=\"wandb\"><tr><td>Valid/Accuracy</td><td>83.48624</td></tr><tr><td>Valid/Loss</td><td>0.02479</td></tr></table><br/></div></div>"
      ],
      "text/plain": [
       "<IPython.core.display.HTML object>"
      ]
     },
     "metadata": {},
     "output_type": "display_data"
    },
    {
     "data": {
      "text/html": [
       "Synced <strong style=\"color:#cdcd00\">golden-sweep-9</strong>: <a href=\"https://wandb.ai/bub3690/SVD-hyp-sweep2/runs/is8xbet7\" target=\"_blank\">https://wandb.ai/bub3690/SVD-hyp-sweep2/runs/is8xbet7</a><br/>Synced 5 W&B file(s), 0 media file(s), 0 artifact file(s) and 0 other file(s)"
      ],
      "text/plain": [
       "<IPython.core.display.HTML object>"
      ]
     },
     "metadata": {},
     "output_type": "display_data"
    },
    {
     "data": {
      "text/html": [
       "Find logs at: <code>.\\wandb\\run-20221121_181233-is8xbet7\\logs</code>"
      ],
      "text/plain": [
       "<IPython.core.display.HTML object>"
      ]
     },
     "metadata": {},
     "output_type": "display_data"
    },
    {
     "name": "stderr",
     "output_type": "stream",
     "text": [
      "\u001b[34m\u001b[1mwandb\u001b[0m: Agent Starting Run: 2lzedlps with config:\n",
      "\u001b[34m\u001b[1mwandb\u001b[0m: \thop_length: 550\n",
      "\u001b[34m\u001b[1mwandb\u001b[0m: \tn_fft: 1980\n",
      "\u001b[34m\u001b[1mwandb\u001b[0m: \tn_mels: 130\n",
      "\u001b[34m\u001b[1mwandb\u001b[0m: \twin_length: 1160\n",
      "Failed to detect the name of this notebook, you can set it manually with the WANDB_NOTEBOOK_NAME environment variable to enable code saving.\n",
      "\u001b[34m\u001b[1mwandb\u001b[0m: \u001b[33mWARNING\u001b[0m Ignored wandb.init() arg project when running a sweep.\n",
      "\u001b[34m\u001b[1mwandb\u001b[0m: \u001b[33mWARNING\u001b[0m Ignored wandb.init() arg entity when running a sweep.\n"
     ]
    },
    {
     "data": {
      "text/html": [
       "wandb version 0.13.5 is available!  To upgrade, please run:\n",
       " $ pip install wandb --upgrade"
      ],
      "text/plain": [
       "<IPython.core.display.HTML object>"
      ]
     },
     "metadata": {},
     "output_type": "display_data"
    },
    {
     "data": {
      "text/html": [
       "Tracking run with wandb version 0.12.16"
      ],
      "text/plain": [
       "<IPython.core.display.HTML object>"
      ]
     },
     "metadata": {},
     "output_type": "display_data"
    },
    {
     "data": {
      "text/html": [
       "Run data is saved locally in <code>d:\\project\\voice_pathology_ai\\model\\Module\\wandb\\run-20221121_181423-2lzedlps</code>"
      ],
      "text/plain": [
       "<IPython.core.display.HTML object>"
      ]
     },
     "metadata": {},
     "output_type": "display_data"
    },
    {
     "data": {
      "text/html": [
       "Syncing run <strong><a href=\"https://wandb.ai/bub3690/SVD-hyp-sweep2/runs/2lzedlps\" target=\"_blank\">electric-sweep-10</a></strong> to <a href=\"https://wandb.ai/bub3690/SVD-hyp-sweep2\" target=\"_blank\">Weights & Biases</a> (<a href=\"https://wandb.me/run\" target=\"_blank\">docs</a>)<br/>Sweep page:  <a href=\"https://wandb.ai/bub3690/SVD-hyp-sweep2/sweeps/l4lhk2pf\" target=\"_blank\">https://wandb.ai/bub3690/SVD-hyp-sweep2/sweeps/l4lhk2pf</a>"
      ],
      "text/plain": [
       "<IPython.core.display.HTML object>"
      ]
     },
     "metadata": {},
     "output_type": "display_data"
    },
    {
     "name": "stdout",
     "output_type": "stream",
     "text": [
      "./checkpoint/melspectrogram_1_organics_speaker.pt\n",
      "config: {'sr': 16000, 'n_mels': 130, 'win_length': 1160, 'n_fft': 1980, 'hop_length': 550, 'f_max': 8000}\n",
      "[1 교차검증] 학습 시작\n",
      " ----- \n",
      "\n",
      "[EPOCH:1]\t Train Loss:0.0407\t Train Acc:63.79 %  | \tValid Loss:0.0332 \tValid Acc: 75.69 %\n",
      "\n",
      "Validation loss decreased (inf --> 0.033194).  Saving model ...\n",
      "\n",
      "[EPOCH:2]\t Train Loss:0.0309\t Train Acc:77.22 %  | \tValid Loss:0.0306 \tValid Acc: 79.36 %\n",
      "\n",
      "Validation loss decreased (0.033194 --> 0.030556).  Saving model ...\n",
      "\n",
      "[EPOCH:3]\t Train Loss:0.0254\t Train Acc:85.71 %  | \tValid Loss:0.0309 \tValid Acc: 77.52 %\n",
      "\n",
      "EarlyStopping counter: 1 out of 5\n",
      "\n",
      "[EPOCH:4]\t Train Loss:0.0208\t Train Acc:92.86 %  | \tValid Loss:0.0294 \tValid Acc: 78.90 %\n",
      "\n",
      "Validation loss decreased (0.030556 --> 0.029397).  Saving model ...\n",
      "\n",
      "[EPOCH:5]\t Train Loss:0.0174\t Train Acc:96.31 %  | \tValid Loss:0.0303 \tValid Acc: 78.44 %\n",
      "\n",
      "EarlyStopping counter: 1 out of 5\n",
      "\n",
      "[EPOCH:6]\t Train Loss:0.0142\t Train Acc:98.03 %  | \tValid Loss:0.0271 \tValid Acc: 80.28 %\n",
      "\n",
      "Validation loss decreased (0.029397 --> 0.027111).  Saving model ...\n",
      "\n",
      "[EPOCH:7]\t Train Loss:0.0124\t Train Acc:98.40 %  | \tValid Loss:0.0280 \tValid Acc: 81.19 %\n",
      "\n",
      "EarlyStopping counter: 1 out of 5\n",
      "\n",
      "[EPOCH:8]\t Train Loss:0.0113\t Train Acc:97.91 %  | \tValid Loss:0.0275 \tValid Acc: 82.11 %\n",
      "\n",
      "EarlyStopping counter: 2 out of 5\n",
      "\n",
      "[EPOCH:9]\t Train Loss:0.0099\t Train Acc:99.01 %  | \tValid Loss:0.0283 \tValid Acc: 77.98 %\n",
      "\n",
      "EarlyStopping counter: 3 out of 5\n",
      "\n",
      "[EPOCH:10]\t Train Loss:0.0092\t Train Acc:99.26 %  | \tValid Loss:0.0272 \tValid Acc: 79.82 %\n",
      "\n",
      "EarlyStopping counter: 4 out of 5\n",
      "\n",
      "[EPOCH:11]\t Train Loss:0.0080\t Train Acc:99.14 %  | \tValid Loss:0.0279 \tValid Acc: 81.19 %\n",
      "\n",
      "EarlyStopping counter: 5 out of 5\n",
      "[1 교차검증] Early stopping\n"
     ]
    },
    {
     "data": {
      "text/html": [
       "Waiting for W&B process to finish... <strong style=\"color:green\">(success).</strong>"
      ],
      "text/plain": [
       "<IPython.core.display.HTML object>"
      ]
     },
     "metadata": {},
     "output_type": "display_data"
    },
    {
     "data": {
      "application/vnd.jupyter.widget-view+json": {
       "model_id": "3af8234e0a6b456886c4256f228e381d",
       "version_major": 2,
       "version_minor": 0
      },
      "text/plain": [
       "VBox(children=(Label(value='0.001 MB of 0.001 MB uploaded (0.000 MB deduped)\\r'), FloatProgress(value=1.0, max…"
      ]
     },
     "metadata": {},
     "output_type": "display_data"
    },
    {
     "data": {
      "text/html": [
       "<style>\n",
       "    table.wandb td:nth-child(1) { padding: 0 10px; text-align: left ; width: auto;} td:nth-child(2) {text-align: left ; width: 100%}\n",
       "    .wandb-row { display: flex; flex-direction: row; flex-wrap: wrap; justify-content: flex-start; width: 100% }\n",
       "    .wandb-col { display: flex; flex-direction: column; flex-basis: 100%; flex: 1; padding: 10px; }\n",
       "    </style>\n",
       "<div class=\"wandb-row\"><div class=\"wandb-col\"><h3>Run history:</h3><br/><table class=\"wandb\"><tr><td>Valid/Accuracy</td><td>▁▇▇▆▆██████</td></tr><tr><td>Valid/Loss</td><td>█▅▅▄▄▁▁▁▁▁▁</td></tr></table><br/></div><div class=\"wandb-col\"><h3>Run summary:</h3><br/><table class=\"wandb\"><tr><td>Valid/Accuracy</td><td>80.27523</td></tr><tr><td>Valid/Loss</td><td>0.02711</td></tr></table><br/></div></div>"
      ],
      "text/plain": [
       "<IPython.core.display.HTML object>"
      ]
     },
     "metadata": {},
     "output_type": "display_data"
    },
    {
     "data": {
      "text/html": [
       "Synced <strong style=\"color:#cdcd00\">electric-sweep-10</strong>: <a href=\"https://wandb.ai/bub3690/SVD-hyp-sweep2/runs/2lzedlps\" target=\"_blank\">https://wandb.ai/bub3690/SVD-hyp-sweep2/runs/2lzedlps</a><br/>Synced 5 W&B file(s), 0 media file(s), 0 artifact file(s) and 0 other file(s)"
      ],
      "text/plain": [
       "<IPython.core.display.HTML object>"
      ]
     },
     "metadata": {},
     "output_type": "display_data"
    },
    {
     "data": {
      "text/html": [
       "Find logs at: <code>.\\wandb\\run-20221121_181423-2lzedlps\\logs</code>"
      ],
      "text/plain": [
       "<IPython.core.display.HTML object>"
      ]
     },
     "metadata": {},
     "output_type": "display_data"
    }
   ],
   "source": [
    "wandb.agent(sweep_id, function=all_train,count=10)"
   ]
  }
 ],
 "metadata": {
  "kernelspec": {
   "display_name": "Python 3.8.12",
   "language": "python",
   "name": "python3"
  },
  "language_info": {
   "codemirror_mode": {
    "name": "ipython",
    "version": 3
   },
   "file_extension": ".py",
   "mimetype": "text/x-python",
   "name": "python",
   "nbconvert_exporter": "python",
   "pygments_lexer": "ipython3",
   "version": "3.8.12"
  },
  "toc": {
   "base_numbering": 1,
   "nav_menu": {},
   "number_sections": false,
   "sideBar": true,
   "skip_h1_title": false,
   "title_cell": "Table of Contents",
   "title_sidebar": "Contents",
   "toc_cell": false,
   "toc_position": {
    "height": "561.143px",
    "left": "22px",
    "top": "111.143px",
    "width": "255.025px"
   },
   "toc_section_display": true,
   "toc_window_display": true
  },
  "vscode": {
   "interpreter": {
    "hash": "427fa2592f9d0b947426e18ee897f81f41d4196bbcbbd4ad171fc20ee58cf88d"
   }
  }
 },
 "nbformat": 4,
 "nbformat_minor": 5
}
