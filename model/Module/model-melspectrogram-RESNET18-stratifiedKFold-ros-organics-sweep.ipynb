{
 "cells": [
  {
   "cell_type": "markdown",
   "id": "6505136e",
   "metadata": {},
   "source": [
    "- http://keunwoochoi.blogspot.com/2016/03/2.html\n",
    "- http://www.rex-ai.info/docs/AI_Example_CNN_speech_recognize\n",
    "- https://www.youtube.com/watch?v=oltGIc4uo5c\n",
    "- https://youdaeng-com.tistory.com/5\n",
    "- https://quokkas.tistory.com/37 : early stopping\n",
    "- https://continuous-development.tistory.com/166 : stratified kfold\n",
    "- https://deep-learning-study.tistory.com/476 fiter 시각화\n",
    "- https://wyatt37.tistory.com/10 : random over sampling"
   ]
  },
  {
   "cell_type": "code",
   "execution_count": 2,
   "id": "083ed07e",
   "metadata": {},
   "outputs": [],
   "source": [
    "import wandb\n",
    "\n",
    "#default param\n",
    "run_config = dict(\n",
    "    # spectrum\n",
    "    sample_rate=50000,\n",
    "    n_fft=1250,\n",
    "    n_mels=128,\n",
    "    hop_length=300,\n",
    "    win_length=1250,\n",
    "    f_max=25000,\n",
    "    \n",
    "    # training\n",
    "    batch_size=32,\n",
    "    \n",
    "    # data\n",
    "    fold=1,\n",
    ")\n"
   ]
  },
  {
   "cell_type": "code",
   "execution_count": 2,
   "id": "20cf3fcc",
   "metadata": {},
   "outputs": [
    {
     "name": "stdout",
     "output_type": "stream",
     "text": [
      "Create sweep with ID: fil8fxo6\n",
      "Sweep URL: https://wandb.ai/bub3690/uncategorized/sweeps/fil8fxo6\n"
     ]
    }
   ],
   "source": [
    "\n",
    "\n",
    "\n",
    "sweep_config = {\n",
    "    \"project\" : \"SVD-voice-disorder\",\n",
    "    \"name\": \"HyperParam for mel\",\n",
    "    \"method\": \"grid\",\n",
    "    \"parameters\": {\n",
    "      \"n_mels\" :{\n",
    "           \"values\":[32,64,96,128,160,192]\n",
    "       },\n",
    "      \"n_fft\": {\n",
    "            \"values\": [1024,2048,3072,4096,8192]\n",
    "        },\n",
    "      \"win_length\": {\n",
    "            \"values\": [300,350,400,450,500,1024,1524,2048]\n",
    "        },\n",
    "       \"hop_length\": {\n",
    "          \"values\": [50,100,200,400,600,800]\n",
    "      },\n",
    "       \"f_max\":{\n",
    "          \"values\":[10000,12000,20000,25000,40000,60000]\n",
    "      },\n",
    "      \"fold\":{\n",
    "          \"values\" : [1,]\n",
    "      }\n",
    "    }\n",
    "}\n",
    "\n",
    "sweep_id = wandb.sweep(sweep_config)\n",
    "\n"
   ]
  },
  {
   "cell_type": "code",
   "execution_count": 6,
   "id": "31638563",
   "metadata": {},
   "outputs": [
    {
     "name": "stdout",
     "output_type": "stream",
     "text": [
      "Create sweep with ID: na16x86y\n",
      "Sweep URL: https://wandb.ai/bub3690/SVD-hyp-sweep2/sweeps/na16x86y\n"
     ]
    }
   ],
   "source": [
    "# n_mels\n",
    "\n",
    "sweep_config = {\n",
    "    \"project\" : \"SVD-voice-disorder\",\n",
    "    \"name\": \"n_mel\",\n",
    "  \"method\": \"grid\",\n",
    "  \"parameters\": {\n",
    "      \"n_mels\" :{\n",
    "           \"values\":[32,64,96,128,160,192]\n",
    "       },\n",
    "      \"fold\":{\n",
    "          \"values\" : [1,2,3,4,5]\n",
    "      }\n",
    "    }\n",
    "}\n",
    "\n",
    "sweep_id = wandb.sweep(sweep_config,project=\"SVD-hyp-sweep2\",entity=\"bub3690\")\n"
   ]
  },
  {
   "cell_type": "code",
   "execution_count": 1,
   "id": "10b2dad9",
   "metadata": {},
   "outputs": [
    {
     "data": {
      "text/plain": [
       "16384"
      ]
     },
     "execution_count": 1,
     "metadata": {},
     "output_type": "execute_result"
    }
   ],
   "source": [
    "8192*2"
   ]
  },
  {
   "cell_type": "code",
   "execution_count": 3,
   "id": "8bfea2ac",
   "metadata": {},
   "outputs": [
    {
     "name": "stdout",
     "output_type": "stream",
     "text": [
      "Create sweep with ID: a9z2vym9\n",
      "Sweep URL: https://wandb.ai/bub3690/SVD-hyp-sweep/sweeps/a9z2vym9\n"
     ]
    }
   ],
   "source": [
    "# n_fft\n",
    "\n",
    "sweep_config = {\n",
    "    \"project\" : \"SVD-voice-disorder\",\n",
    "    \"name\": \"n_fft\",\n",
    "  \"method\": \"grid\",\n",
    "  \"parameters\": {\n",
    "      \"n_fft\": {\n",
    "            \"values\": [2048,3072,4096,8192,16384]\n",
    "        },\n",
    "      \"fold\":{\n",
    "          \"values\" : [1,2,3,4,5]\n",
    "      }\n",
    "    }\n",
    "}\n",
    "\n",
    "sweep_id = wandb.sweep(sweep_config,project=\"SVD-hyp-sweep2\",entity=\"bub3690\")\n"
   ]
  },
  {
   "cell_type": "code",
   "execution_count": 5,
   "id": "bf599192",
   "metadata": {},
   "outputs": [
    {
     "name": "stdout",
     "output_type": "stream",
     "text": [
      "Create sweep with ID: hy9bi35f\n",
      "Sweep URL: https://wandb.ai/bub3690/SVD-hyp-sweep/sweeps/hy9bi35f\n"
     ]
    }
   ],
   "source": [
    "# win_length\n",
    "\n",
    "sweep_config = {\n",
    "    \"project\" : \"SVD-voice-disorder\",\n",
    "    \"name\": \"win_length\",\n",
    "  \"method\": \"grid\",\n",
    "  \"parameters\": {\n",
    "      \"win_length\": {\n",
    "            \"values\": [500,1024,1250,1524,2048,4096]\n",
    "        },\n",
    "      \"fold\":{\n",
    "          \"values\" : [1,2,3,4,5]\n",
    "      }\n",
    "    }\n",
    "}\n",
    "\n",
    "sweep_id = wandb.sweep(sweep_config,project=\"SVD-hyp-sweep2\",entity=\"bub3690\")\n"
   ]
  },
  {
   "cell_type": "code",
   "execution_count": 2,
   "id": "2ed19287",
   "metadata": {},
   "outputs": [
    {
     "name": "stdout",
     "output_type": "stream",
     "text": [
      "Create sweep with ID: vbxfcusk\n",
      "Sweep URL: https://wandb.ai/bub3690/SVD-hyp-sweep/sweeps/vbxfcusk\n"
     ]
    }
   ],
   "source": [
    "# hop_length\n",
    "\n",
    "sweep_config = {\n",
    "    \"project\" : \"SVD-voice-disorder\",\n",
    "    \"name\": \"hop_length\",\n",
    "  \"method\": \"grid\",\n",
    "  \"parameters\": {\n",
    "       \"hop_length\": {\n",
    "          \"values\": [50,100,200,300,400,500,600]\n",
    "      },\n",
    "      \"fold\":{\n",
    "          \"values\" : [1,2,3,4,5]\n",
    "      }\n",
    "    }\n",
    "}\n",
    "\n",
    "sweep_id = wandb.sweep(sweep_config,project=\"SVD-hyp-sweep2\",entity=\"bub3690\")\n"
   ]
  },
  {
   "cell_type": "code",
   "execution_count": 2,
   "id": "76799a63",
   "metadata": {},
   "outputs": [
    {
     "name": "stdout",
     "output_type": "stream",
     "text": [
      "Create sweep with ID: pdb3pd9z\n",
      "Sweep URL: https://wandb.ai/bub3690/SVD-hyp-sweep/sweeps/pdb3pd9z\n"
     ]
    }
   ],
   "source": [
    "# f_max\n",
    "\n",
    "sweep_config = {\n",
    "    \"project\" : \"SVD-voice-disorder\",\n",
    "    \"name\": \"f_max\",\n",
    "  \"method\": \"grid\",\n",
    "  \"parameters\": {\n",
    "       \"f_max\":{\n",
    "          \"values\":[10000,12000,20000,25000,40000,60000]\n",
    "      },\n",
    "      \"fold\":{\n",
    "          \"values\" : [1,2,3,4,5]\n",
    "      }\n",
    "    }\n",
    "}\n",
    "\n",
    "sweep_id = wandb.sweep(sweep_config,project=\"SVD-hyp-sweep2\",entity=\"bub3690\")\n"
   ]
  },
  {
   "cell_type": "code",
   "execution_count": 2,
   "id": "9948601d",
   "metadata": {},
   "outputs": [
    {
     "name": "stdout",
     "output_type": "stream",
     "text": [
      "Create sweep with ID: j9mfv8ql\n",
      "Sweep URL: https://wandb.ai/bub3690/SVD-hyp-sweep/sweeps/j9mfv8ql\n"
     ]
    }
   ],
   "source": [
    "# batch_size\n",
    "\n",
    "sweep_config = {\n",
    "    \"project\" : \"SVD-voice-disorder\",\n",
    "    \"name\": \"batch_size\",\n",
    "  \"method\": \"grid\",\n",
    "  \"parameters\": {\n",
    "      \"batch_size\" :{\n",
    "           \"values\":[8,16,32,64,128]\n",
    "       },\n",
    "      \"fold\":{\n",
    "          \"values\" : [1,2,3,4,5]\n",
    "      }\n",
    "    }\n",
    "}\n",
    "\n",
    "sweep_id = wandb.sweep(sweep_config,project=\"SVD-hyp-sweep2\",entity=\"bub3690\")\n"
   ]
  },
  {
   "cell_type": "code",
   "execution_count": 39,
   "id": "275b8092",
   "metadata": {},
   "outputs": [
    {
     "name": "stdout",
     "output_type": "stream",
     "text": [
      "Using Pytorch version :  1.10.2  Device :  cuda\n"
     ]
    }
   ],
   "source": [
    "import torch\n",
    "import matplotlib.pyplot as plt\n",
    "import numpy as np\n",
    "import torch\n",
    "import torch.nn as nn # 인공 신경망 모델들 모아놓은 모듈\n",
    "import torch.nn.functional as F #그중 자주 쓰이는것들을 F로\n",
    "from torchvision import transforms, datasets\n",
    "import cv2\n",
    "from torchvision import transforms, datasets\n",
    "import pandas as pd\n",
    "import os\n",
    "from glob import glob\n",
    "import torchvision.models as models\n",
    "import sys\n",
    "\n",
    "p = os.path.abspath('../..') # 상위 폴더를 사용하기 위해서.\n",
    "sys.path.insert(1, p)\n",
    "from pytorchtools.pytorchtools import EarlyStopping # 상위 폴더에 추가된 모듈.\n",
    "\n",
    "\n",
    "if torch.cuda.is_available():\n",
    "    DEVICE = torch.device('cuda')\n",
    "else:\n",
    "    DEVICE = torch.device('cpu')\n",
    "#DEVICE = torch.device('cpu')\n",
    "print('Using Pytorch version : ',torch.__version__,' Device : ',DEVICE)"
   ]
  },
  {
   "cell_type": "markdown",
   "id": "249ebea6",
   "metadata": {},
   "source": [
    "# SVD 문장 데이터에서 Feature 추출\n",
    "- mfcc"
   ]
  },
  {
   "cell_type": "code",
   "execution_count": 40,
   "id": "dddaab10",
   "metadata": {},
   "outputs": [],
   "source": [
    "import numpy as np\n",
    "import librosa, librosa.display \n",
    "import matplotlib.pyplot as plt\n",
    "#window sizde : FFT를 할때 참조할 그래프 길이 ( 프레임 하나당 sample 수 )\n",
    "#자연어 처리에서는 25ms 사용. https://ahnjg.tistory.com/93\n",
    "#초당 50000hz 중 1250개씩 윈도우 사이즈로 사용.\n",
    "sr=16000\n",
    "win_length =  np.int64(sr/40) # 1250\n",
    "n_fft= win_length # WINDOWS SIZE중 사용할 길이. WINDOW SIZE가 넘어가면 나머지 것들은 zero padding\n",
    "hop_length= np.int64( np.ceil(win_length/4) ) #  얼마만큼 시간 주기(sample)를 이동하면서 분석을 할 것인지. 일반적으로 window size의 1/4\n",
    "#또는 10ms만큼으로 한다고 한다.\n",
    "#hop_length가 mfcc의 frame수를 결정한다."
   ]
  },
  {
   "cell_type": "markdown",
   "id": "1a38dcdc",
   "metadata": {},
   "source": [
    "# 데이터 나누기 - Stratified KFold\n",
    "\n",
    "- pathology : 1194 / healthy : 634 / 총 1828\n",
    "- k = 5"
   ]
  },
  {
   "cell_type": "markdown",
   "id": "1a148977",
   "metadata": {},
   "source": [
    "## 1. test/ train 나누기\n"
   ]
  },
  {
   "cell_type": "code",
   "execution_count": 41,
   "id": "c72d82e0",
   "metadata": {},
   "outputs": [
    {
     "name": "stdout",
     "output_type": "stream",
     "text": [
      "Pathology :  597\n",
      "Healthy:  634\n",
      "총 데이터수 :  1231\n",
      "---\n",
      "훈련 셋 :  984 Counter({'healthy': 507, 'pathology': 477})\n",
      "테스트 셋 :  247 Counter({'healthy': 127, 'pathology': 120})\n",
      "---\n"
     ]
    }
   ],
   "source": [
    "#1. train, test 나누기\n",
    "\n",
    "import os\n",
    "from glob import glob\n",
    "from sklearn.model_selection import StratifiedKFold\n",
    "from imblearn.over_sampling import RandomOverSampler\n",
    "from collections import Counter\n",
    "from sklearn.model_selection import train_test_split # train , test 분리에 사용.\n",
    "\n",
    "\n",
    "pathology = glob('D:/project/voice_pathology_ai/voice_data/organics/pathology/phrase/*.wav')\n",
    "healthy = glob('D:/project/voice_pathology_ai/voice_data/organics/healthy/phrase/*.wav')\n",
    "print(\"Pathology : \",len(pathology))\n",
    "print(\"Healthy: \",len(healthy))\n",
    "\n",
    "pathology= [ path.split(\"\\\\\")[-1] for path in pathology] # path 데이터 변환.\n",
    "healthy= [ path.split(\"\\\\\")[-1] for path in healthy] # path 데이터 변환.\n",
    " # path 데이터 변환 #외부데이터로 가져오기위해서, 번호만 남긴다\n",
    "\n",
    "    \n",
    "X = pathology+healthy # path 데이터 합\n",
    "print(\"총 데이터수 : \",len(X))\n",
    "Y = [] # 라벨\n",
    "for idx,x in enumerate(X):\n",
    "    if idx<597:\n",
    "        Y.append(\"pathology\")\n",
    "    else:\n",
    "        Y.append(\"healthy\")\n",
    "\n",
    "X, X_test, Y, Y_test = train_test_split(X, Y, test_size=0.2, shuffle=True, stratify=Y, random_state=456)\n",
    "#stratify를 넣어서, test에도 라벨별 잘 분류되게 한다.\n",
    "\n",
    "print(\"---\")\n",
    "print(\"훈련 셋 : \",len(Y),Counter(Y))\n",
    "print(\"테스트 셋 : \",len(Y_test),Counter(Y_test))\n",
    "print(\"---\")"
   ]
  },
  {
   "cell_type": "markdown",
   "id": "c0a99443",
   "metadata": {},
   "source": [
    "## 2. stratified k-fold"
   ]
  },
  {
   "cell_type": "code",
   "execution_count": 42,
   "id": "c38ceb20",
   "metadata": {},
   "outputs": [
    {
     "name": "stdout",
     "output_type": "stream",
     "text": [
      "교차 검증 : 1\n",
      "학습 레이블 데이터 분포 : \n",
      " {'healthy': 406, 'pathology': 381}\n",
      "검증 레이블 데이터 분포 : \n",
      " {'healthy': 101, 'pathology': 96} \n",
      "\n",
      "교차 검증 : 2\n",
      "학습 레이블 데이터 분포 : \n",
      " {'healthy': 406, 'pathology': 381}\n",
      "검증 레이블 데이터 분포 : \n",
      " {'healthy': 101, 'pathology': 96} \n",
      "\n",
      "교차 검증 : 3\n",
      "학습 레이블 데이터 분포 : \n",
      " {'healthy': 405, 'pathology': 382}\n",
      "검증 레이블 데이터 분포 : \n",
      " {'healthy': 102, 'pathology': 95} \n",
      "\n",
      "교차 검증 : 4\n",
      "학습 레이블 데이터 분포 : \n",
      " {'healthy': 405, 'pathology': 382}\n",
      "검증 레이블 데이터 분포 : \n",
      " {'healthy': 102, 'pathology': 95} \n",
      "\n",
      "교차 검증 : 5\n",
      "학습 레이블 데이터 분포 : \n",
      " {'healthy': 406, 'pathology': 382}\n",
      "검증 레이블 데이터 분포 : \n",
      " {'healthy': 101, 'pathology': 95} \n",
      "\n"
     ]
    }
   ],
   "source": [
    "#1. train, test 나누기\n",
    "#stratified kfold\n",
    "import os\n",
    "import random #데이터 shuffle 사용\n",
    "from glob import glob\n",
    "from sklearn.model_selection import StratifiedKFold\n",
    "from imblearn.over_sampling import RandomOverSampler\n",
    "from collections import Counter\n",
    "\n",
    "\n",
    "\n",
    "skf_iris = StratifiedKFold(n_splits=5,shuffle=True,random_state=456)\n",
    "cnt_iter = 0\n",
    "\n",
    "X_train_list = [] #데이터 셋 보관\n",
    "Y_train_list = []\n",
    "\n",
    "X_valid_list = []\n",
    "Y_valid_list = []\n",
    "\n",
    "for train_idx, test_idx in skf_iris.split(X,Y):\n",
    "    \n",
    "    #split으로 반환된 인덱스를 이용하여, 학습 검증용 테스트 데이터 추출\n",
    "    cnt_iter += 1\n",
    "    X_train, X_valid = [X[idx] for idx in train_idx.tolist() ], [X[idx] for idx in test_idx.tolist() ]\n",
    "    Y_train, Y_valid = [Y[idx] for idx in train_idx.tolist() ], [Y[idx] for idx in test_idx.tolist() ]\n",
    "    \n",
    "    X_train_list.append(X_train)\n",
    "    X_valid_list.append(X_valid)\n",
    "    \n",
    "    Y_train_list.append(Y_train)\n",
    "    Y_valid_list.append(Y_valid)\n",
    "    \n",
    "    \n",
    "    #학습 및 예측\n",
    "    \n",
    "    label_train = Y_train\n",
    "    label_test = Y_valid\n",
    "    unique_train, train_counts = np.unique(label_train, return_counts = True)\n",
    "    unique_test, test_counts = np.unique(label_test, return_counts = True)\n",
    "    \n",
    "    uniq_cnt_train = dict(zip(unique_train, train_counts))\n",
    "    uniq_cnt_test = dict(zip(unique_test, test_counts))\n",
    "    \n",
    "    \n",
    "    \n",
    "    print('교차 검증 : {}'.format(cnt_iter))\n",
    "    print('학습 레이블 데이터 분포 : \\n', uniq_cnt_train)\n",
    "    print('검증 레이블 데이터 분포 : \\n', uniq_cnt_test,'\\n')\n",
    "\n"
   ]
  },
  {
   "cell_type": "markdown",
   "id": "d0880b5c",
   "metadata": {},
   "source": [
    "## 3. random over sampling"
   ]
  },
  {
   "cell_type": "code",
   "execution_count": 43,
   "id": "9517c16f",
   "metadata": {},
   "outputs": [
    {
     "name": "stdout",
     "output_type": "stream",
     "text": [
      "\n",
      " fold0 \n",
      "before dataset shape Counter({'healthy': 406, 'pathology': 381})\n",
      "Resampled dataset shape Counter({'pathology': 406, 'healthy': 406})\n",
      "\n",
      " fold1 \n",
      "before dataset shape Counter({'healthy': 406, 'pathology': 381})\n",
      "Resampled dataset shape Counter({'healthy': 406, 'pathology': 406})\n",
      "\n",
      " fold2 \n",
      "before dataset shape Counter({'healthy': 405, 'pathology': 382})\n",
      "Resampled dataset shape Counter({'pathology': 405, 'healthy': 405})\n",
      "\n",
      " fold3 \n",
      "before dataset shape Counter({'healthy': 405, 'pathology': 382})\n",
      "Resampled dataset shape Counter({'pathology': 405, 'healthy': 405})\n",
      "\n",
      " fold4 \n",
      "before dataset shape Counter({'healthy': 406, 'pathology': 382})\n",
      "Resampled dataset shape Counter({'pathology': 406, 'healthy': 406})\n"
     ]
    }
   ],
   "source": [
    "#2. random over sampling\n",
    "for i in range(5):\n",
    "    X_temp = np.array(X_train_list[i]).reshape(-1,1)#각 데이터를 다 행으로 넣음. (1194,1)\n",
    "    #Y = np.array(Y)\n",
    "    ros = RandomOverSampler(random_state = 123)\n",
    "    X_res,Y_res = ros.fit_resample(X_temp,Y_train_list[i])\n",
    "    \n",
    "    print(\"\\n fold{} \".format(i))\n",
    "    print('before dataset shape {}'.format(Counter(Y_train_list[i])) )\n",
    "    print('Resampled dataset shape {}'.format(Counter(Y_res)) )   \n",
    "    \n",
    "    #원래대로 돌리기\n",
    "    X_res=X_res.reshape(1, -1)\n",
    "    X_train_list[i]=X_res[0].tolist()\n",
    "    Y_train_list[i]=Y_res\n",
    "\n",
    "\n"
   ]
  },
  {
   "cell_type": "code",
   "execution_count": 54,
   "id": "478af061",
   "metadata": {},
   "outputs": [],
   "source": [
    "import pickle\n",
    "\n",
    " \n",
    "#load\n",
    "with open(\"D:/project/voice_pathology_ai/voice_data/organics/phrase_sig_dict_50000.pickle\",\"rb\") as fr:\n",
    "    phrase_dict = pickle.load(fr)\n",
    "\n",
    "    "
   ]
  },
  {
   "cell_type": "markdown",
   "id": "08a663f0",
   "metadata": {},
   "source": [
    "# 데이터 정의\n",
    "- 추가적으로 데이터의 크기를 맞춰주기 위해 3초로 padding 및 truncate 실시 https://sequencedata.tistory.com/25 FixAudioLength\n",
    "- 논문에서는 400frame으로 설정.(여기서는 500frame)\n",
    "- 전처리 방법 결정.\n"
   ]
  },
  {
   "cell_type": "code",
   "execution_count": 55,
   "id": "2febf8cb",
   "metadata": {},
   "outputs": [],
   "source": [
    "from torch.utils.data import Dataset, DataLoader\n",
    "\n",
    "classes = [\"pathology\",\"healthy\"]\n",
    "sr=50000\n",
    "#win_length =  np.int64(16000/40) # 400\n",
    "#n_fft= win_length # WINDOWS SIZE중 사용할 길이. WINDOW SIZE가 넘어가면 나머지 것들은 zero padding. 세로 길이\n",
    "#hop_length= np.int64( np.ceil(win_length/4) ) #  얼마만큼 시간 주기(sample)를 이동하면서 분석을 할 것인지. 일반적으로 window size의 1/4\n",
    "#또는 10ms만큼으로 한다고 한다.\n",
    "#hop_length가 mfcc의 frame수를 결정한다.\n",
    "\n",
    "\n",
    "\n",
    "class svd_dataset(Dataset):\n",
    "    def __init__(self,data_path_list,classes,data_num,training,mel_params,transform=None,normalize=None):\n",
    "        #클래스에서 사용할 인자를 받아 인스턴스 변수로 저장하는 일을 한다.\n",
    "        #예를들면, 이미지의 경로 리스트를 저장하는 일을 하게 된다.\n",
    "        \n",
    "        #data_num : k 개 데이터 셋 중 어떤것을 쓸지\n",
    "        #test인지 아닌지.\n",
    "        \n",
    "        self.path_list = data_path_list[data_num]\n",
    "        self.data_num = data_num\n",
    "        self.training = training\n",
    "        self.label = svd_dataset.get_label(self.path_list,training,data_num)\n",
    "        self.classes = classes\n",
    "        self.transform = transform\n",
    "        self.normalize = normalize\n",
    "        \n",
    "        # sweep params\n",
    "        self.mel_params = mel_params\n",
    "        # hop_length , win_length , n_mels , n_fft , f_max , batch_size\n",
    "        \n",
    "        \n",
    "    \n",
    "    @classmethod\n",
    "    def get_label(cls,data_path_list,training,data_num):\n",
    "        label_list=[]\n",
    "        \n",
    "        if training:\n",
    "            for idx,x in enumerate(data_path_list):\n",
    "                label_list.append(Y_train_list[data_num][idx])\n",
    "        else:\n",
    "            for idx,x in enumerate(data_path_list):\n",
    "                label_list.append(Y_valid_list[data_num][idx])\n",
    "        #print(label_list)\n",
    "        return label_list\n",
    "    \n",
    "    \n",
    "    def __len__(self):\n",
    "        return len(self.path_list)\n",
    "        #데이터 셋의 길이를 정수로 반환한다.     \n",
    "    \n",
    "       \n",
    "    def __getitem__(self, idx):\n",
    "        \"\"\"\n",
    "        1. path를 받아서, 소리에서 mfcc를 추출\n",
    "        2. mfcc를 224프레임으로 패딩.\n",
    "        3. resnet에 사용되기 위해 3채널로 복사(rgb 처럼)\n",
    "        4. 0~1 정규화\n",
    "        \n",
    "        \"\"\"\n",
    "        sig = phrase_dict[self.path_list[idx]] # 16000hz 실시\n",
    "        length = 60000 #300 padding을 위한 파라미터 (하이퍼 파라미터로인해 사이즈는 계속 바뀐다.)\n",
    "        pad1d = lambda a, i: a[0:i] if a.shape[0] > i else np.hstack((a, np.zeros((i-a.shape[0]))))        \n",
    "        sig = pad1d(sig,length)        \n",
    "        \n",
    "        ###signal norm\n",
    "        sig = (sig-sig.mean())/sig.std()\n",
    "        ###\n",
    "\n",
    "        mel_feature = librosa.feature.melspectrogram(y=sig,\n",
    "                                                     sr=sr,\n",
    "                                                     # hyp param\n",
    "                                                     n_mels = self.mel_params[\"n_mels\"],\n",
    "                                                     n_fft = self.mel_params[\"n_fft\"],\n",
    "                                                     win_length = self.mel_params[\"win_length\"],\n",
    "                                                     hop_length = self.mel_params[\"hop_length\"],\n",
    "                                                     fmax = self.mel_params[\"f_max\"]\n",
    "                                                    )\n",
    "        mel_feature = librosa.core.power_to_db(mel_feature,ref=np.max)\n",
    "        #mel_feature=librosa.util.normalize(mel_feature) # l-infinity norm\n",
    "        \n",
    "        #pad2d = lambda a, i: a[:, 0:i] if a.shape[1] > i else np.hstack((a, np.zeros((a.shape[0], i-a.shape[1]))))\n",
    "        #mel_feature = pad2d(mel_feature, length)\n",
    "        \n",
    "        \n",
    "        \n",
    "        if self.transform:\n",
    "            #print('transform')\n",
    "            mel_feature=self.transform(mel_feature).type(torch.float32)# 데이터 0~1 정규화\n",
    "            mel_feature=torch.stack([mel_feature,mel_feature,mel_feature])# 3채널로 복사.\n",
    "            mel_feature = mel_feature.squeeze(dim=1)\n",
    "            \n",
    "            # global normalize\n",
    "            if self.normalize:\n",
    "                mel_feature=self.normalize(mel_feature)            \n",
    "        else:\n",
    "            #print(\"else\")\n",
    "            mel_feature = torch.from_numpy(mel_feature).type(torch.float32)\n",
    "            mel_feature=mel_feature.unsqueeze(0)#cnn 사용위해서 추가\n",
    "            #MFCCs = MFCCs.permute(2, 0, 1)\n",
    "        return mel_feature, self.classes.index(self.label[idx])\n",
    "    "
   ]
  },
  {
   "cell_type": "code",
   "execution_count": 56,
   "id": "f198f535",
   "metadata": {},
   "outputs": [],
   "source": [
    "\n",
    "# test set 제작을 위한 class\n",
    "class svd_test_set(Dataset):\n",
    "    def __init__(self,data_path_list,classes,mel_params,transform=None,normalize=None):\n",
    "        #클래스에서 사용할 인자를 받아 인스턴스 변수로 저장하는 일을 한다.\n",
    "        #예를들면, 이미지의 경로 리스트를 저장하는 일을 하게 된다.\n",
    "        \n",
    "        #data_num : k 개 데이터 셋 중 어떤것을 쓸지\n",
    "        #test인지 아닌지.\n",
    "        \n",
    "        self.path_list = data_path_list\n",
    "        self.label = svd_test_set.get_label(self.path_list)\n",
    "        self.classes=classes\n",
    "        self.transform=transform\n",
    "        self.normalize=normalize\n",
    "        \n",
    "        # sweep params\n",
    "        self.mel_params = mel_params\n",
    "        # hop_length , win_length , n_mels , n_fft , f_max , batch_size        \n",
    "        \n",
    "    \n",
    "    @classmethod\n",
    "    def get_label(cls,data_path_list):\n",
    "        label_list=[]\n",
    "        \n",
    "        for idx,x in enumerate(data_path_list):\n",
    "            label_list.append(Y_test[idx])\n",
    "        #print(label_list)\n",
    "        return label_list\n",
    "    \n",
    "    def __len__(self):\n",
    "        return len(self.path_list)\n",
    "        #데이터 셋의 길이를 정수로 반환한다. \n",
    "        \n",
    "    def __getitem__(self, idx):\n",
    "        \"\"\"\n",
    "        1. path를 받아서, 소리에서 mfcc를 추출\n",
    "        2. mfcc를 224프레임으로 패딩.\n",
    "        3. resnet에 사용되기 위해 3채널로 복사(rgb 처럼)\n",
    "        4. 0~1 정규화\n",
    "        \n",
    "        \"\"\"\n",
    "        sig= phrase_dict[self.path_list[idx]] # 16000hz 실시\n",
    "        length=60000 #300 padding을 위한 파라미터\n",
    "        pad1d=lambda a, i: a[0:i] if a.shape[0] > i else np.hstack((a, np.zeros((i-a.shape[0]))))        \n",
    "        sig = pad1d(sig,length)        \n",
    "        \n",
    "        ###signal norm\n",
    "        sig = (sig-sig.mean())/sig.std()\n",
    "        ###        \n",
    "        \n",
    "        mel_feature = librosa.feature.melspectrogram(y=sig,\n",
    "                                                     sr=sr,\n",
    "                                                     # hyp param\n",
    "                                                     n_mels = self.mel_params[\"n_mels\"],\n",
    "                                                     n_fft = self.mel_params[\"n_fft\"],\n",
    "                                                     win_length = self.mel_params[\"win_length\"],\n",
    "                                                     hop_length = self.mel_params[\"hop_length\"],\n",
    "                                                     fmax = self.mel_params[\"f_max\"]\n",
    "                                                    )\n",
    "        mel_feature = librosa.core.power_to_db(mel_feature,ref=np.max)\n",
    "        \n",
    "        \n",
    "        \n",
    "        \n",
    "        if self.transform:\n",
    "            #print('transform')\n",
    "            mel_feature=self.transform(mel_feature).type(torch.float32)# 데이터 0~1 정규화\n",
    "            mel_feature=torch.stack([mel_feature,mel_feature,mel_feature])# 3채널로 복사.\n",
    "            mel_feature = mel_feature.squeeze(dim=1)\n",
    "            \n",
    "            # global normalize\n",
    "            if self.normalize:\n",
    "                mel_feature=self.normalize(mel_feature)    \n",
    "        else:\n",
    "            #print(\"else\")\n",
    "            mel_feature = torch.from_numpy(mel_feature).type(torch.float32)\n",
    "            mel_feature=mel_feature.unsqueeze(0)#cnn 사용위해서 추가\n",
    "            #MFCCs = MFCCs.permute(2, 0, 1)\n",
    "        return mel_feature, self.classes.index(self.label[idx])\n",
    "    \n",
    "    "
   ]
  },
  {
   "cell_type": "markdown",
   "id": "9d05129d",
   "metadata": {},
   "source": [
    "# 데이터 로더"
   ]
  },
  {
   "cell_type": "code",
   "execution_count": 57,
   "id": "272bc789",
   "metadata": {},
   "outputs": [],
   "source": [
    "#3. 하이퍼 파라미터\n",
    "BATCH_SIZE =  32 #한 배치당 32개 음성데이터\n",
    "EPOCHS = 40 # 전체 데이터 셋을 50번 반복\n",
    "lr=0.0001\n",
    "augment_kind=\"no\"\n"
   ]
  },
  {
   "cell_type": "code",
   "execution_count": 58,
   "id": "bba97b37",
   "metadata": {},
   "outputs": [],
   "source": [
    "#DATA LOADER 함수가 BATCH_size 단위로 분리해 지정.\n",
    "\n",
    "#확인을 위해 데이터셋 하나만 확인\n",
    "\n",
    "\n",
    "train_loader = torch.utils.data.DataLoader(dataset = \n",
    "                                           svd_dataset(\n",
    "                                               X_train_list,\n",
    "                                               classes,\n",
    "                                               transform = transforms.ToTensor(),#이걸 composed로 고쳐서 전처리 하도록 수정. to tensor는 -데이터는 노멀라이즈못함.\n",
    "                                               #normalize=transforms.Normalize((-56.4917, -56.4917,-56.4917), (17.9446,17.9446,17.9446)),\n",
    "                                               mel_params = dict(\n",
    "                                                     n_mels = run_config[\"n_mels\"],\n",
    "                                                     n_fft = run_config[\"n_fft\"],\n",
    "                                                     win_length = run_config[\"win_length\"],\n",
    "                                                     hop_length = run_config[\"hop_length\"],\n",
    "                                                     f_max = run_config[\"f_max\"]\n",
    "                                               ),\n",
    "                                               data_num=run_config[\"fold\"],\n",
    "                                               training=True\n",
    "                                           ),\n",
    "                                           batch_size = run_config[\"batch_size\"],\n",
    "                                           shuffle = True,\n",
    "                                           ) # 순서가 암기되는것을 막기위해.\n",
    "\n",
    "validation_loader = torch.utils.data.DataLoader(dataset = \n",
    "                                           svd_dataset(\n",
    "                                               X_valid_list,\n",
    "                                               classes,\n",
    "                                               transform = transforms.ToTensor(),\n",
    "                                               mel_params = dict(\n",
    "                                                     n_mels = run_config[\"n_mels\"],\n",
    "                                                     n_fft = run_config[\"n_fft\"],\n",
    "                                                     win_length = run_config[\"win_length\"],\n",
    "                                                     hop_length = run_config[\"hop_length\"],\n",
    "                                                     f_max = run_config[\"f_max\"]\n",
    "                                               ),                      \n",
    "                                               #normalize=transforms.Normalize((-56.4917, -56.4917,-56.4917), (17.9446,17.9446,17.9446)),                                               \n",
    "                                               data_num=run_config[\"fold\"],\n",
    "                                               training=False\n",
    "                                           ),\n",
    "                                           batch_size = run_config[\"batch_size\"],\n",
    "                                           shuffle = True,) \n",
    "\n"
   ]
  },
  {
   "cell_type": "code",
   "execution_count": 59,
   "id": "e9761d67",
   "metadata": {},
   "outputs": [],
   "source": [
    "# 테스트 데이터 로더.\n",
    "\n",
    "test_loader = torch.utils.data.DataLoader(dataset = \n",
    "                                               svd_test_set(\n",
    "                                                   X_test,\n",
    "                                                   classes,\n",
    "                                                   mel_params = dict(\n",
    "                                                         n_mels = run_config[\"n_mels\"],\n",
    "                                                         n_fft = run_config[\"n_fft\"],\n",
    "                                                         win_length = run_config[\"win_length\"],\n",
    "                                                         hop_length = run_config[\"hop_length\"],\n",
    "                                                         f_max = run_config[\"f_max\"]\n",
    "                                               ),                                            \n",
    "                                                   #normalize=transforms.Normalize((-56.4917, -56.4917,-56.4917), (17.9446,17.9446,17.9446)),                                                   \n",
    "                                                   transform = transforms.ToTensor(),\n",
    "                                               ),\n",
    "                                               batch_size = run_config[\"batch_size\"],\n",
    "                                               shuffle = True,) "
   ]
  },
  {
   "cell_type": "markdown",
   "id": "52b15a86",
   "metadata": {},
   "source": [
    "# 데이터 확인"
   ]
  },
  {
   "cell_type": "code",
   "execution_count": 60,
   "id": "935699d9",
   "metadata": {},
   "outputs": [],
   "source": [
    "\n",
    "sr=50000\n",
    "win_length =  run_config[\"win_length\"] # 400\n",
    "n_fft= run_config[\"n_fft\"] # WINDOWS SIZE중 사용할 길이. WINDOW SIZE가 넘어가면 나머지 것들은 zero padding. 세로 길이\n",
    "hop_length=run_config[\"hop_length\"] #  얼마만큼 시간 주기(sample)를 이동하면서 분석을 할 것인지. 일반적으로 window size의 1/4\n",
    "#또는 10ms만큼으로 한다고 한다.\n",
    "#hop_length가 mfcc의 frame수를 결정한다.\n"
   ]
  },
  {
   "cell_type": "code",
   "execution_count": 61,
   "id": "6f866237",
   "metadata": {},
   "outputs": [
    {
     "name": "stdout",
     "output_type": "stream",
     "text": [
      "X_train :  torch.Size([32, 3, 128, 601]) type: torch.FloatTensor\n",
      "Y_train :  torch.Size([32]) type: torch.LongTensor\n",
      "tensor(0)\n"
     ]
    },
    {
     "data": {
      "text/plain": [
       "Text(0.5, 1.0, 'MEL Spectrogram (dB)')"
      ]
     },
     "execution_count": 61,
     "metadata": {},
     "output_type": "execute_result"
    },
    {
     "data": {
      "image/png": "[encoded data removed]",
      "text/plain": [
       "<Figure size 432x288 with 2 Axes>"
      ]
     },
     "metadata": {
      "needs_background": "light"
     },
     "output_type": "display_data"
    }
   ],
   "source": [
    "# 4. 데이터 확인하기\n",
    "for (X_train,Y_train) in train_loader:\n",
    "    print(\"X_train : \",X_train.size(),'type:',X_train.type())\n",
    "    print(\"Y_train : \",Y_train.size(),'type:',Y_train.type())\n",
    "    break\n",
    "    \n",
    "print(Y_train[0])\n",
    "librosa.display.specshow(X_train[0][0].numpy(), sr=sr, hop_length=run_config[\"batch_size\"])\n",
    "plt.xlabel(\"Time\")\n",
    "plt.ylabel(\"Frequency\")\n",
    "plt.colorbar(format='%+2.0f dB')\n",
    "plt.title(\"MEL Spectrogram (dB)\")\n",
    "#batch: 32 / 3채널 / frame수: 500  /  feature수: 13"
   ]
  },
  {
   "cell_type": "code",
   "execution_count": 64,
   "id": "3b29c510",
   "metadata": {},
   "outputs": [
    {
     "name": "stdout",
     "output_type": "stream",
     "text": [
      "X_valid :  torch.Size([32, 3, 128, 601]) type: torch.FloatTensor\n",
      "Y_valid :  torch.Size([32]) type: torch.LongTensor\n",
      "tensor(1)\n"
     ]
    },
    {
     "data": {
      "text/plain": [
       "Text(0.5, 1.0, 'MEL Spectrogram (dB)')"
      ]
     },
     "execution_count": 64,
     "metadata": {},
     "output_type": "execute_result"
    },
    {
     "data": {
      "image/png": "[encoded data removed]",
      "text/plain": [
       "<Figure size 432x288 with 2 Axes>"
      ]
     },
     "metadata": {
      "needs_background": "light"
     },
     "output_type": "display_data"
    }
   ],
   "source": [
    "#valiation set 확인\n",
    "for (X_valid,Y_valid) in validation_loader:\n",
    "    print(\"X_valid : \",X_valid.size(),'type:',X_valid.type())\n",
    "    print(\"Y_valid : \",Y_valid.size(),'type:',Y_valid.type())\n",
    "    break\n",
    "\n",
    "print(Y_valid[0])\n",
    "librosa.display.specshow(X_valid[0][0].numpy(), sr=sr, hop_length=run_config[\"batch_size\"])\n",
    "plt.xlabel(\"Time\")\n",
    "plt.ylabel(\"Frequency\")\n",
    "plt.colorbar(format='%+2.0f dB')\n",
    "plt.title(\"MEL Spectrogram (dB)\")\n",
    "\n",
    "#batch: 32 / 3채널 / frame수: 500  /  feature수: 13"
   ]
  },
  {
   "cell_type": "code",
   "execution_count": 65,
   "id": "14a38987",
   "metadata": {},
   "outputs": [
    {
     "name": "stdout",
     "output_type": "stream",
     "text": [
      "X_valid :  torch.Size([32, 3, 128, 601]) type: torch.FloatTensor\n",
      "Y_valid :  torch.Size([32]) type: torch.LongTensor\n",
      "tensor(1)\n"
     ]
    },
    {
     "data": {
      "text/plain": [
       "Text(0.5, 1.0, 'MEL Spectrogram (dB)')"
      ]
     },
     "execution_count": 65,
     "metadata": {},
     "output_type": "execute_result"
    },
    {
     "data": {
      "image/png": "[encoded data removed]",
      "text/plain": [
       "<Figure size 432x288 with 2 Axes>"
      ]
     },
     "metadata": {
      "needs_background": "light"
     },
     "output_type": "display_data"
    }
   ],
   "source": [
    "#valiation set 확인\n",
    "for (test_data,test_label) in validation_loader:\n",
    "    print(\"X_valid : \",test_data.size(),'type:',test_data.type())\n",
    "    print(\"Y_valid : \",test_label.size(),'type:',test_label.type())\n",
    "    break\n",
    "\n",
    "print(Y_valid[0])\n",
    "librosa.display.specshow(test_data[0][0].numpy(), sr=sr, hop_length=run_config[\"batch_size\"])\n",
    "plt.xlabel(\"Time\")\n",
    "plt.ylabel(\"Frequency\")\n",
    "plt.colorbar(format='%+2.0f dB')\n",
    "plt.title(\"MEL Spectrogram (dB)\")\n",
    "\n",
    "#batch: 32 / 3채널 / frame수: 500  /  feature수: 13"
   ]
  },
  {
   "cell_type": "markdown",
   "id": "fec40ea4",
   "metadata": {},
   "source": [
    "# RESNET"
   ]
  },
  {
   "cell_type": "code",
   "execution_count": 66,
   "id": "2fe5d1b2",
   "metadata": {},
   "outputs": [],
   "source": [
    "# 모델 \n",
    "# pretrained\n",
    "\n",
    "\n",
    "def model_initialize():\n",
    "    model = models.resnet18(pretrained=True).cuda()\n",
    "    model.ftrs = model.fc.in_features # in_features : fully connected의 입력수.\n",
    "    num_ftrs = model.fc.in_features\n",
    "    \n",
    "    model.fc = nn.Sequential(nn.Linear(num_ftrs, 64),\n",
    "                             nn.BatchNorm1d(64),\n",
    "                             nn.ReLU(),\n",
    "                             nn.Dropout(p=0.5),\n",
    "                             nn.Linear(64,50),\n",
    "                             nn.BatchNorm1d(50),\n",
    "                             nn.ReLU(),\n",
    "                             nn.Dropout(p=0.5),\n",
    "                             nn.Linear(50,2)\n",
    "                            )\n",
    "\n",
    "    model = model.cuda()\n",
    "    return model\n",
    "model=model_initialize()\n"
   ]
  },
  {
   "cell_type": "code",
   "execution_count": 67,
   "id": "1ab03234",
   "metadata": {
    "scrolled": true
   },
   "outputs": [
    {
     "name": "stdout",
     "output_type": "stream",
     "text": [
      "ResNet(\n",
      "  (conv1): Conv2d(3, 64, kernel_size=(7, 7), stride=(2, 2), padding=(3, 3), bias=False)\n",
      "  (bn1): BatchNorm2d(64, eps=1e-05, momentum=0.1, affine=True, track_running_stats=True)\n",
      "  (relu): ReLU(inplace=True)\n",
      "  (maxpool): MaxPool2d(kernel_size=3, stride=2, padding=1, dilation=1, ceil_mode=False)\n",
      "  (layer1): Sequential(\n",
      "    (0): BasicBlock(\n",
      "      (conv1): Conv2d(64, 64, kernel_size=(3, 3), stride=(1, 1), padding=(1, 1), bias=False)\n",
      "      (bn1): BatchNorm2d(64, eps=1e-05, momentum=0.1, affine=True, track_running_stats=True)\n",
      "      (relu): ReLU(inplace=True)\n",
      "      (conv2): Conv2d(64, 64, kernel_size=(3, 3), stride=(1, 1), padding=(1, 1), bias=False)\n",
      "      (bn2): BatchNorm2d(64, eps=1e-05, momentum=0.1, affine=True, track_running_stats=True)\n",
      "    )\n",
      "    (1): BasicBlock(\n",
      "      (conv1): Conv2d(64, 64, kernel_size=(3, 3), stride=(1, 1), padding=(1, 1), bias=False)\n",
      "      (bn1): BatchNorm2d(64, eps=1e-05, momentum=0.1, affine=True, track_running_stats=True)\n",
      "      (relu): ReLU(inplace=True)\n",
      "      (conv2): Conv2d(64, 64, kernel_size=(3, 3), stride=(1, 1), padding=(1, 1), bias=False)\n",
      "      (bn2): BatchNorm2d(64, eps=1e-05, momentum=0.1, affine=True, track_running_stats=True)\n",
      "    )\n",
      "  )\n",
      "  (layer2): Sequential(\n",
      "    (0): BasicBlock(\n",
      "      (conv1): Conv2d(64, 128, kernel_size=(3, 3), stride=(2, 2), padding=(1, 1), bias=False)\n",
      "      (bn1): BatchNorm2d(128, eps=1e-05, momentum=0.1, affine=True, track_running_stats=True)\n",
      "      (relu): ReLU(inplace=True)\n",
      "      (conv2): Conv2d(128, 128, kernel_size=(3, 3), stride=(1, 1), padding=(1, 1), bias=False)\n",
      "      (bn2): BatchNorm2d(128, eps=1e-05, momentum=0.1, affine=True, track_running_stats=True)\n",
      "      (downsample): Sequential(\n",
      "        (0): Conv2d(64, 128, kernel_size=(1, 1), stride=(2, 2), bias=False)\n",
      "        (1): BatchNorm2d(128, eps=1e-05, momentum=0.1, affine=True, track_running_stats=True)\n",
      "      )\n",
      "    )\n",
      "    (1): BasicBlock(\n",
      "      (conv1): Conv2d(128, 128, kernel_size=(3, 3), stride=(1, 1), padding=(1, 1), bias=False)\n",
      "      (bn1): BatchNorm2d(128, eps=1e-05, momentum=0.1, affine=True, track_running_stats=True)\n",
      "      (relu): ReLU(inplace=True)\n",
      "      (conv2): Conv2d(128, 128, kernel_size=(3, 3), stride=(1, 1), padding=(1, 1), bias=False)\n",
      "      (bn2): BatchNorm2d(128, eps=1e-05, momentum=0.1, affine=True, track_running_stats=True)\n",
      "    )\n",
      "  )\n",
      "  (layer3): Sequential(\n",
      "    (0): BasicBlock(\n",
      "      (conv1): Conv2d(128, 256, kernel_size=(3, 3), stride=(2, 2), padding=(1, 1), bias=False)\n",
      "      (bn1): BatchNorm2d(256, eps=1e-05, momentum=0.1, affine=True, track_running_stats=True)\n",
      "      (relu): ReLU(inplace=True)\n",
      "      (conv2): Conv2d(256, 256, kernel_size=(3, 3), stride=(1, 1), padding=(1, 1), bias=False)\n",
      "      (bn2): BatchNorm2d(256, eps=1e-05, momentum=0.1, affine=True, track_running_stats=True)\n",
      "      (downsample): Sequential(\n",
      "        (0): Conv2d(128, 256, kernel_size=(1, 1), stride=(2, 2), bias=False)\n",
      "        (1): BatchNorm2d(256, eps=1e-05, momentum=0.1, affine=True, track_running_stats=True)\n",
      "      )\n",
      "    )\n",
      "    (1): BasicBlock(\n",
      "      (conv1): Conv2d(256, 256, kernel_size=(3, 3), stride=(1, 1), padding=(1, 1), bias=False)\n",
      "      (bn1): BatchNorm2d(256, eps=1e-05, momentum=0.1, affine=True, track_running_stats=True)\n",
      "      (relu): ReLU(inplace=True)\n",
      "      (conv2): Conv2d(256, 256, kernel_size=(3, 3), stride=(1, 1), padding=(1, 1), bias=False)\n",
      "      (bn2): BatchNorm2d(256, eps=1e-05, momentum=0.1, affine=True, track_running_stats=True)\n",
      "    )\n",
      "  )\n",
      "  (layer4): Sequential(\n",
      "    (0): BasicBlock(\n",
      "      (conv1): Conv2d(256, 512, kernel_size=(3, 3), stride=(2, 2), padding=(1, 1), bias=False)\n",
      "      (bn1): BatchNorm2d(512, eps=1e-05, momentum=0.1, affine=True, track_running_stats=True)\n",
      "      (relu): ReLU(inplace=True)\n",
      "      (conv2): Conv2d(512, 512, kernel_size=(3, 3), stride=(1, 1), padding=(1, 1), bias=False)\n",
      "      (bn2): BatchNorm2d(512, eps=1e-05, momentum=0.1, affine=True, track_running_stats=True)\n",
      "      (downsample): Sequential(\n",
      "        (0): Conv2d(256, 512, kernel_size=(1, 1), stride=(2, 2), bias=False)\n",
      "        (1): BatchNorm2d(512, eps=1e-05, momentum=0.1, affine=True, track_running_stats=True)\n",
      "      )\n",
      "    )\n",
      "    (1): BasicBlock(\n",
      "      (conv1): Conv2d(512, 512, kernel_size=(3, 3), stride=(1, 1), padding=(1, 1), bias=False)\n",
      "      (bn1): BatchNorm2d(512, eps=1e-05, momentum=0.1, affine=True, track_running_stats=True)\n",
      "      (relu): ReLU(inplace=True)\n",
      "      (conv2): Conv2d(512, 512, kernel_size=(3, 3), stride=(1, 1), padding=(1, 1), bias=False)\n",
      "      (bn2): BatchNorm2d(512, eps=1e-05, momentum=0.1, affine=True, track_running_stats=True)\n",
      "    )\n",
      "  )\n",
      "  (avgpool): AdaptiveAvgPool2d(output_size=(1, 1))\n",
      "  (fc): Sequential(\n",
      "    (0): Linear(in_features=512, out_features=64, bias=True)\n",
      "    (1): BatchNorm1d(64, eps=1e-05, momentum=0.1, affine=True, track_running_stats=True)\n",
      "    (2): ReLU()\n",
      "    (3): Dropout(p=0.5, inplace=False)\n",
      "    (4): Linear(in_features=64, out_features=50, bias=True)\n",
      "    (5): BatchNorm1d(50, eps=1e-05, momentum=0.1, affine=True, track_running_stats=True)\n",
      "    (6): ReLU()\n",
      "    (7): Dropout(p=0.5, inplace=False)\n",
      "    (8): Linear(in_features=50, out_features=2, bias=True)\n",
      "  )\n",
      ")\n"
     ]
    }
   ],
   "source": [
    "criterion = nn.CrossEntropyLoss()\n",
    "optimizer = torch.optim.Adam(model.parameters(),lr=lr)\n",
    "print(model)"
   ]
  },
  {
   "cell_type": "code",
   "execution_count": 68,
   "id": "2a47749e",
   "metadata": {
    "scrolled": true
   },
   "outputs": [],
   "source": [
    "# get the model summary\n",
    "from torchsummary import summary\n",
    "#summary(model, input_size=(3, 128, 300), device=DEVICE.type)"
   ]
  },
  {
   "cell_type": "code",
   "execution_count": 69,
   "id": "3f2ca15d",
   "metadata": {},
   "outputs": [],
   "source": [
    "#8. 학습\n",
    "def train(model,train_loader,optimizer, log_interval):\n",
    "    model.train()    \n",
    "    correct = 0\n",
    "    train_loss = 0\n",
    "    for batch_idx,(image,label) in enumerate(train_loader):\n",
    "        image = image.to(DEVICE)\n",
    "        label = label.to(DEVICE)\n",
    "        #데이터들 장비에 할당\n",
    "        optimizer.zero_grad() # device 에 저장된 gradient 제거\n",
    "        output = model(image) # model로 output을 계산\n",
    "        loss = criterion(output, label) #loss 계산\n",
    "        train_loss += loss.item()\n",
    "        prediction = output.max(1,keepdim=True)[1] # 가장 확률이 높은 class 1개를 가져온다.그리고 인덱스만\n",
    "        correct += prediction.eq(label.view_as(prediction)).sum().item()# 아웃풋이 배치 사이즈 32개라서.\n",
    "        loss.backward() # loss 값을 이용해 gradient를 계산\n",
    "        optimizer.step() # Gradient 값을 이용해 파라미터 업데이트.\n",
    "    train_loss/=len(train_loader.dataset)\n",
    "    train_accuracy = 100. * correct / len(train_loader.dataset)\n",
    "    return train_loss,train_accuracy\n"
   ]
  },
  {
   "cell_type": "code",
   "execution_count": 70,
   "id": "b09341bf",
   "metadata": {},
   "outputs": [],
   "source": [
    "#9. 학습 진행하며, validation 데이터로 모델 성능확인\n",
    "def evaluate(model,valid_loader):\n",
    "    model.eval()\n",
    "    valid_loss = 0\n",
    "    correct = 0\n",
    "    #no_grad : 그래디언트 값 계산 막기.\n",
    "    with torch.no_grad():\n",
    "        for image, label in valid_loader:\n",
    "            image = image.to(DEVICE)\n",
    "            label = label.to(DEVICE)\n",
    "            output = model(image)\n",
    "            valid_loss += criterion(output, label).item()\n",
    "            prediction = output.max(1,keepdim=True)[1] # 가장 확률이 높은 class 1개를 가져온다.그리고 인덱스만\n",
    "            correct += prediction.eq(label.view_as(prediction)).sum().item()# 아웃풋이 배치 사이즈 32개라서.\n",
    "            #true.false값을 sum해줌. item\n",
    "        valid_loss /= len(valid_loader.dataset)\n",
    "        valid_accuracy = 100. * correct / len(valid_loader.dataset)\n",
    "        return valid_loss,valid_accuracy\n"
   ]
  },
  {
   "cell_type": "code",
   "execution_count": 71,
   "id": "fa7fc2ea",
   "metadata": {},
   "outputs": [],
   "source": [
    "#데이터 로더 제작 함수\n",
    "\n",
    "def load_data(data_ind):\n",
    "\n",
    "    train_loader = torch.utils.data.DataLoader(dataset = \n",
    "                                               svd_dataset(\n",
    "                                                   X_train_list,\n",
    "                                                   classes,\n",
    "                                                   transform = transforms.ToTensor(),#이걸 composed로 고쳐서 전처리 하도록 수정. to tensor는 -데이터는 노멀라이즈못함.\n",
    "                                                   #normalize=transforms.Normalize((-56.4917, -56.4917,-56.4917), (17.9446,17.9446,17.9446)),\n",
    "                                                   mel_params = dict(\n",
    "                                                         n_mels = wandb.config.n_mels,\n",
    "                                                         n_fft = wandb.config.n_fft,\n",
    "                                                         win_length = wandb.config.win_length,\n",
    "                                                         hop_length = wandb.config.hop_length,\n",
    "                                                         f_max = wandb.config.f_max\n",
    "                                                   ),\n",
    "                                                   data_num=data_ind,\n",
    "                                                   training=True\n",
    "                                               ),\n",
    "                                               batch_size = wandb.config.batch_size,\n",
    "                                               shuffle = True,\n",
    "                                               ) # 순서가 암기되는것을 막기위해.\n",
    "\n",
    "    validation_loader = torch.utils.data.DataLoader(dataset = \n",
    "                                               svd_dataset(\n",
    "                                                   X_valid_list,\n",
    "                                                   classes,\n",
    "                                                   transform = transforms.ToTensor(),\n",
    "                                                   mel_params = dict(\n",
    "                                                         n_mels = wandb.config.n_mels,\n",
    "                                                         n_fft = wandb.config.n_fft,\n",
    "                                                         win_length = wandb.config.win_length,\n",
    "                                                         hop_length = wandb.config.hop_length,\n",
    "                                                         f_max = wandb.config.f_max\n",
    "                                                   ),                      \n",
    "                                                   #normalize=transforms.Normalize((-56.4917, -56.4917,-56.4917), (17.9446,17.9446,17.9446)),                                               \n",
    "                                                   data_num=data_ind,\n",
    "                                                   training=False\n",
    "                                               ),\n",
    "                                               batch_size = wandb.config.batch_size,\n",
    "                                               shuffle = True,) \n",
    "\n",
    "    return train_loader,validation_loader\n",
    "\n"
   ]
  },
  {
   "cell_type": "code",
   "execution_count": 73,
   "id": "e7c8c86f",
   "metadata": {
    "scrolled": true
   },
   "outputs": [],
   "source": [
    "#10. 학습 및 평가.\n",
    "# resnet34 pretrained true\n",
    "# kfold 적용\n",
    "\n",
    "train_accs = []\n",
    "valid_accs = []\n",
    "\n",
    "\n",
    "\n",
    "def all_train():\n",
    "    wandb.init(project=\"SVD-hyp-sweep2\", entity=\"bub3690\",config=run_config)\n",
    "    searching = \"n_mels\" ## 여기 수정 ##\n",
    "    data_ind = wandb.config.fold\n",
    "    check_path = '../../checkpoint/checkpoint_melspectro_resnet18_true_ros_'+str(data_ind)+'_organics.pt'\n",
    "    print(check_path)\n",
    "    wandb.run.name = '{} : {}'.format(searching,wandb.config.n_mels)  ### 여기 수정 ###\n",
    "    print(\"config:\", dict(wandb.config))    \n",
    "\n",
    "    early_stopping = EarlyStopping(patience = 5, verbose = True, path=check_path)\n",
    "    train_loader,validation_loader = load_data(data_ind-1)\n",
    "\n",
    "    best_train_acc = 0 # accuracy 기록용\n",
    "    best_valid_acc = 0\n",
    "    \n",
    "    best_train_loss = 0\n",
    "    best_valid_loss = 0\n",
    "\n",
    "    model=model_initialize()\n",
    "    criterion = nn.CrossEntropyLoss()\n",
    "    optimizer = torch.optim.Adam(model.parameters(),lr=0.0001)\n",
    "\n",
    "\n",
    "    print(\"[{} 교차검증] 학습 시작\\n ----- \".format(data_ind))\n",
    "    for Epoch in range(1,EPOCHS+1):\n",
    "        train_loss,train_accuracy=train(model,train_loader,optimizer,log_interval=31)\n",
    "        valid_loss,valid_accuracy = evaluate(model, validation_loader)\n",
    "\n",
    "        print(\"\\n[EPOCH:{}]\\t Train Loss:{:.4f}\\t Train Acc:{:.2f} %  | \\tValid Loss:{:.4f} \\tValid Acc: {:.2f} %\\n\".\n",
    "              format(Epoch,train_loss,train_accuracy,valid_loss,valid_accuracy))\n",
    "        #wandb.log({\"metric\": run.config.param1, \"epoch\": epoch})\n",
    "            \n",
    "        early_stopping(valid_loss, model)\n",
    "        if -early_stopping.best_score == valid_loss:\n",
    "            best_train_acc, best_valid_acc = train_accuracy,valid_accuracy\n",
    "            best_train_loss, best_valid_loss = train_loss,valid_loss\n",
    "            \n",
    "            wandb.log({\"Valid/Loss\": best_valid_loss, \n",
    "                       \"Valid/Accuracy\": best_valid_acc,\n",
    "                      }, step=Epoch)\n",
    "            #wandb.run.summary.update({\"best_valid_{}fold_acc\".format(data_ind) : best_valid_acc})\n",
    "        else:\n",
    "            # 이전 최고 기록을 log\n",
    "            wandb.log({\"Valid/Loss\": best_valid_loss, \n",
    "                       \"Valid/Accuracy\": best_valid_acc,\n",
    "                      }, step=Epoch)\n",
    "\n",
    "        if early_stopping.early_stop:\n",
    "                train_accs.append(best_train_acc)\n",
    "                valid_accs.append(best_valid_acc)\n",
    "                print(\"[{} 교차검증] Early stopping\".format(data_ind))\n",
    "                break\n",
    "\n",
    "        if Epoch==EPOCHS:\n",
    "            #만약 early stop 없이 40 epoch라서 중지 된 경우.\n",
    "            train_accs.append(best_train_acc)\n",
    "            valid_accs.append(best_valid_acc)"
   ]
  },
  {
   "cell_type": "code",
   "execution_count": null,
   "id": "1e1949f6",
   "metadata": {
    "scrolled": true
   },
   "outputs": [
    {
     "name": "stderr",
     "output_type": "stream",
     "text": [
      "\u001b[34m\u001b[1mwandb\u001b[0m: Agent Starting Run: 5dp21mtb with config:\n",
      "\u001b[34m\u001b[1mwandb\u001b[0m: \tfold: 1\n",
      "\u001b[34m\u001b[1mwandb\u001b[0m: \tn_mels: 32\n",
      "\u001b[34m\u001b[1mwandb\u001b[0m: Currently logged in as: \u001b[33mbub3690\u001b[0m. Use \u001b[1m`wandb login --relogin`\u001b[0m to force relogin\n",
      "\u001b[34m\u001b[1mwandb\u001b[0m: \u001b[33mWARNING\u001b[0m Ignored wandb.init() arg project when running a sweep.\n",
      "\u001b[34m\u001b[1mwandb\u001b[0m: \u001b[33mWARNING\u001b[0m Ignored wandb.init() arg entity when running a sweep.\n"
     ]
    },
    {
     "data": {
      "text/html": [
       "wandb version 0.12.20 is available!  To upgrade, please run:\n",
       " $ pip install wandb --upgrade"
      ],
      "text/plain": [
       "<IPython.core.display.HTML object>"
      ]
     },
     "metadata": {},
     "output_type": "display_data"
    },
    {
     "data": {
      "text/html": [
       "Tracking run with wandb version 0.12.16"
      ],
      "text/plain": [
       "<IPython.core.display.HTML object>"
      ]
     },
     "metadata": {},
     "output_type": "display_data"
    },
    {
     "data": {
      "text/html": [
       "Run data is saved locally in <code>D:\\project\\voice_pathology_ai\\model\\spectrogram\\ros\\wandb\\run-20220705_214428-5dp21mtb</code>"
      ],
      "text/plain": [
       "<IPython.core.display.HTML object>"
      ]
     },
     "metadata": {},
     "output_type": "display_data"
    },
    {
     "data": {
      "text/html": [
       "Syncing run <strong><a href=\"https://wandb.ai/bub3690/SVD-hyp-sweep2/runs/5dp21mtb\" target=\"_blank\">hardy-sweep-1</a></strong> to <a href=\"https://wandb.ai/bub3690/SVD-hyp-sweep2\" target=\"_blank\">Weights & Biases</a> (<a href=\"https://wandb.me/run\" target=\"_blank\">docs</a>)<br/>Sweep page:  <a href=\"https://wandb.ai/bub3690/SVD-hyp-sweep2/sweeps/na16x86y\" target=\"_blank\">https://wandb.ai/bub3690/SVD-hyp-sweep2/sweeps/na16x86y</a>"
      ],
      "text/plain": [
       "<IPython.core.display.HTML object>"
      ]
     },
     "metadata": {},
     "output_type": "display_data"
    },
    {
     "name": "stdout",
     "output_type": "stream",
     "text": [
      "../../checkpoint/checkpoint_melspectro_resnet18_true_ros_1_organics.pt\n",
      "config: {'sample_rate': 50000, 'n_fft': 1024, 'n_mels': 32, 'hop_length': 100, 'win_length': 400, 'f_max': 25000, 'batch_size': 32, 'fold': 1}\n",
      "[1 교차검증] 학습 시작\n",
      " ----- \n",
      "\n",
      "[EPOCH:1]\t Train Loss:0.0218\t Train Acc:59.85 %  | \tValid Loss:0.0232 \tValid Acc: 71.07 %\n",
      "\n",
      "Validation loss decreased (inf --> 0.023214).  Saving model ...\n",
      "\n",
      "[EPOCH:2]\t Train Loss:0.0192\t Train Acc:67.12 %  | \tValid Loss:0.0192 \tValid Acc: 79.19 %\n",
      "\n",
      "Validation loss decreased (0.023214 --> 0.019158).  Saving model ...\n",
      "\n",
      "[EPOCH:3]\t Train Loss:0.0162\t Train Acc:77.96 %  | \tValid Loss:0.0179 \tValid Acc: 79.19 %\n",
      "\n",
      "Validation loss decreased (0.019158 --> 0.017907).  Saving model ...\n",
      "\n",
      "[EPOCH:4]\t Train Loss:0.0139\t Train Acc:84.11 %  | \tValid Loss:0.0171 \tValid Acc: 83.76 %\n",
      "\n",
      "Validation loss decreased (0.017907 --> 0.017056).  Saving model ...\n",
      "\n",
      "[EPOCH:5]\t Train Loss:0.0125\t Train Acc:88.92 %  | \tValid Loss:0.0174 \tValid Acc: 80.20 %\n",
      "\n",
      "EarlyStopping counter: 1 out of 5\n",
      "\n",
      "[EPOCH:6]\t Train Loss:0.0109\t Train Acc:91.63 %  | \tValid Loss:0.0169 \tValid Acc: 81.22 %\n",
      "\n",
      "Validation loss decreased (0.017056 --> 0.016885).  Saving model ...\n",
      "\n",
      "[EPOCH:7]\t Train Loss:0.0096\t Train Acc:94.70 %  | \tValid Loss:0.0166 \tValid Acc: 82.74 %\n",
      "\n",
      "Validation loss decreased (0.016885 --> 0.016560).  Saving model ...\n",
      "\n",
      "[EPOCH:8]\t Train Loss:0.0085\t Train Acc:98.28 %  | \tValid Loss:0.0164 \tValid Acc: 83.76 %\n",
      "\n",
      "Validation loss decreased (0.016560 --> 0.016407).  Saving model ...\n",
      "\n",
      "[EPOCH:9]\t Train Loss:0.0072\t Train Acc:98.28 %  | \tValid Loss:0.0155 \tValid Acc: 79.70 %\n",
      "\n",
      "Validation loss decreased (0.016407 --> 0.015518).  Saving model ...\n",
      "\n",
      "[EPOCH:10]\t Train Loss:0.0064\t Train Acc:99.63 %  | \tValid Loss:0.0156 \tValid Acc: 79.70 %\n",
      "\n",
      "EarlyStopping counter: 1 out of 5\n",
      "\n",
      "[EPOCH:11]\t Train Loss:0.0058\t Train Acc:99.63 %  | \tValid Loss:0.0147 \tValid Acc: 82.74 %\n",
      "\n",
      "Validation loss decreased (0.015518 --> 0.014667).  Saving model ...\n",
      "\n",
      "[EPOCH:12]\t Train Loss:0.0052\t Train Acc:99.75 %  | \tValid Loss:0.0174 \tValid Acc: 81.73 %\n",
      "\n",
      "EarlyStopping counter: 1 out of 5\n",
      "\n",
      "[EPOCH:13]\t Train Loss:0.0049\t Train Acc:99.63 %  | \tValid Loss:0.0141 \tValid Acc: 77.66 %\n",
      "\n",
      "Validation loss decreased (0.014667 --> 0.014113).  Saving model ...\n",
      "\n",
      "[EPOCH:14]\t Train Loss:0.0044\t Train Acc:100.00 %  | \tValid Loss:0.0135 \tValid Acc: 82.23 %\n",
      "\n",
      "Validation loss decreased (0.014113 --> 0.013460).  Saving model ...\n",
      "\n",
      "[EPOCH:15]\t Train Loss:0.0040\t Train Acc:99.88 %  | \tValid Loss:0.0142 \tValid Acc: 78.17 %\n",
      "\n",
      "EarlyStopping counter: 1 out of 5\n",
      "\n",
      "[EPOCH:16]\t Train Loss:0.0041\t Train Acc:99.88 %  | \tValid Loss:0.0138 \tValid Acc: 81.22 %\n",
      "\n",
      "EarlyStopping counter: 2 out of 5\n",
      "\n",
      "[EPOCH:17]\t Train Loss:0.0037\t Train Acc:99.63 %  | \tValid Loss:0.0167 \tValid Acc: 79.19 %\n",
      "\n",
      "EarlyStopping counter: 3 out of 5\n",
      "\n",
      "[EPOCH:18]\t Train Loss:0.0037\t Train Acc:99.75 %  | \tValid Loss:0.0143 \tValid Acc: 81.73 %\n",
      "\n",
      "EarlyStopping counter: 4 out of 5\n",
      "\n",
      "[EPOCH:19]\t Train Loss:0.0030\t Train Acc:99.88 %  | \tValid Loss:0.0143 \tValid Acc: 81.73 %\n",
      "\n",
      "EarlyStopping counter: 5 out of 5\n",
      "[1 교차검증] Early stopping\n"
     ]
    },
    {
     "data": {
      "text/html": [
       "Waiting for W&B process to finish... <strong style=\"color:green\">(success).</strong>"
      ],
      "text/plain": [
       "<IPython.core.display.HTML object>"
      ]
     },
     "metadata": {},
     "output_type": "display_data"
    },
    {
     "data": {
      "application/vnd.jupyter.widget-view+json": {
       "model_id": "",
       "version_major": 2,
       "version_minor": 0
      },
      "text/plain": [
       "VBox(children=(Label(value='0.001 MB of 0.001 MB uploaded (0.000 MB deduped)\\r'), FloatProgress(value=1.0, max…"
      ]
     },
     "metadata": {},
     "output_type": "display_data"
    },
    {
     "data": {
      "text/html": [
       "<style>\n",
       "    table.wandb td:nth-child(1) { padding: 0 10px; text-align: left ; width: auto;} td:nth-child(2) {text-align: left ; width: 100%}\n",
       "    .wandb-row { display: flex; flex-direction: row; flex-wrap: wrap; justify-content: flex-start; width: 100% }\n",
       "    .wandb-col { display: flex; flex-direction: column; flex-basis: 100%; flex: 1; padding: 10px; }\n",
       "    </style>\n",
       "<div class=\"wandb-row\"><div class=\"wandb-col\"><h3>Run history:</h3><br/><table class=\"wandb\"><tr><td>Valid/Accuracy</td><td>▁▅▅██▇▇█▆▆▇▇▅▇▇▇▇▇▇</td></tr><tr><td>Valid/Loss</td><td>█▅▄▄▄▃▃▃▂▂▂▂▁▁▁▁▁▁▁</td></tr></table><br/></div><div class=\"wandb-col\"><h3>Run summary:</h3><br/><table class=\"wandb\"><tr><td>Valid/Accuracy</td><td>82.2335</td></tr><tr><td>Valid/Loss</td><td>0.01346</td></tr></table><br/></div></div>"
      ],
      "text/plain": [
       "<IPython.core.display.HTML object>"
      ]
     },
     "metadata": {},
     "output_type": "display_data"
    },
    {
     "data": {
      "text/html": [
       "Synced <strong style=\"color:#cdcd00\">hardy-sweep-1</strong>: <a href=\"https://wandb.ai/bub3690/SVD-hyp-sweep2/runs/5dp21mtb\" target=\"_blank\">https://wandb.ai/bub3690/SVD-hyp-sweep2/runs/5dp21mtb</a><br/>Synced 5 W&B file(s), 0 media file(s), 0 artifact file(s) and 0 other file(s)"
      ],
      "text/plain": [
       "<IPython.core.display.HTML object>"
      ]
     },
     "metadata": {},
     "output_type": "display_data"
    },
    {
     "data": {
      "text/html": [
       "Find logs at: <code>.\\wandb\\run-20220705_214428-5dp21mtb\\logs</code>"
      ],
      "text/plain": [
       "<IPython.core.display.HTML object>"
      ]
     },
     "metadata": {},
     "output_type": "display_data"
    },
    {
     "name": "stderr",
     "output_type": "stream",
     "text": [
      "\u001b[34m\u001b[1mwandb\u001b[0m: Agent Starting Run: mcd0x92d with config:\n",
      "\u001b[34m\u001b[1mwandb\u001b[0m: \tfold: 1\n",
      "\u001b[34m\u001b[1mwandb\u001b[0m: \tn_mels: 64\n",
      "\u001b[34m\u001b[1mwandb\u001b[0m: \u001b[33mWARNING\u001b[0m Ignored wandb.init() arg project when running a sweep.\n",
      "\u001b[34m\u001b[1mwandb\u001b[0m: \u001b[33mWARNING\u001b[0m Ignored wandb.init() arg entity when running a sweep.\n"
     ]
    },
    {
     "data": {
      "text/html": [
       "wandb version 0.12.20 is available!  To upgrade, please run:\n",
       " $ pip install wandb --upgrade"
      ],
      "text/plain": [
       "<IPython.core.display.HTML object>"
      ]
     },
     "metadata": {},
     "output_type": "display_data"
    },
    {
     "data": {
      "text/html": [
       "Tracking run with wandb version 0.12.16"
      ],
      "text/plain": [
       "<IPython.core.display.HTML object>"
      ]
     },
     "metadata": {},
     "output_type": "display_data"
    },
    {
     "data": {
      "text/html": [
       "Run data is saved locally in <code>D:\\project\\voice_pathology_ai\\model\\spectrogram\\ros\\wandb\\run-20220705_214650-mcd0x92d</code>"
      ],
      "text/plain": [
       "<IPython.core.display.HTML object>"
      ]
     },
     "metadata": {},
     "output_type": "display_data"
    },
    {
     "data": {
      "text/html": [
       "Syncing run <strong><a href=\"https://wandb.ai/bub3690/SVD-hyp-sweep2/runs/mcd0x92d\" target=\"_blank\">logical-sweep-2</a></strong> to <a href=\"https://wandb.ai/bub3690/SVD-hyp-sweep2\" target=\"_blank\">Weights & Biases</a> (<a href=\"https://wandb.me/run\" target=\"_blank\">docs</a>)<br/>Sweep page:  <a href=\"https://wandb.ai/bub3690/SVD-hyp-sweep2/sweeps/na16x86y\" target=\"_blank\">https://wandb.ai/bub3690/SVD-hyp-sweep2/sweeps/na16x86y</a>"
      ],
      "text/plain": [
       "<IPython.core.display.HTML object>"
      ]
     },
     "metadata": {},
     "output_type": "display_data"
    },
    {
     "name": "stdout",
     "output_type": "stream",
     "text": [
      "../../checkpoint/checkpoint_melspectro_resnet18_true_ros_1_organics.pt\n",
      "config: {'sample_rate': 50000, 'n_fft': 1024, 'n_mels': 64, 'hop_length': 100, 'win_length': 400, 'f_max': 25000, 'batch_size': 32, 'fold': 1}\n",
      "[1 교차검증] 학습 시작\n",
      " ----- \n",
      "\n",
      "[EPOCH:1]\t Train Loss:0.0220\t Train Acc:58.50 %  | \tValid Loss:0.0213 \tValid Acc: 68.02 %\n",
      "\n",
      "Validation loss decreased (inf --> 0.021344).  Saving model ...\n",
      "\n",
      "[EPOCH:2]\t Train Loss:0.0176\t Train Acc:72.54 %  | \tValid Loss:0.0192 \tValid Acc: 76.14 %\n",
      "\n",
      "Validation loss decreased (0.021344 --> 0.019227).  Saving model ...\n",
      "\n",
      "[EPOCH:3]\t Train Loss:0.0156\t Train Acc:79.06 %  | \tValid Loss:0.0185 \tValid Acc: 80.71 %\n",
      "\n",
      "Validation loss decreased (0.019227 --> 0.018550).  Saving model ...\n",
      "\n",
      "[EPOCH:4]\t Train Loss:0.0139\t Train Acc:85.96 %  | \tValid Loss:0.0175 \tValid Acc: 81.22 %\n",
      "\n",
      "Validation loss decreased (0.018550 --> 0.017545).  Saving model ...\n",
      "\n",
      "[EPOCH:5]\t Train Loss:0.0122\t Train Acc:90.27 %  | \tValid Loss:0.0164 \tValid Acc: 84.26 %\n",
      "\n",
      "Validation loss decreased (0.017545 --> 0.016436).  Saving model ...\n",
      "\n",
      "[EPOCH:6]\t Train Loss:0.0108\t Train Acc:93.47 %  | \tValid Loss:0.0165 \tValid Acc: 82.23 %\n",
      "\n",
      "EarlyStopping counter: 1 out of 5\n",
      "\n",
      "[EPOCH:7]\t Train Loss:0.0094\t Train Acc:97.17 %  | \tValid Loss:0.0157 \tValid Acc: 81.73 %\n",
      "\n",
      "Validation loss decreased (0.016436 --> 0.015699).  Saving model ...\n",
      "\n",
      "[EPOCH:8]\t Train Loss:0.0085\t Train Acc:97.91 %  | \tValid Loss:0.0152 \tValid Acc: 82.23 %\n",
      "\n",
      "Validation loss decreased (0.015699 --> 0.015210).  Saving model ...\n",
      "\n",
      "[EPOCH:9]\t Train Loss:0.0074\t Train Acc:99.14 %  | \tValid Loss:0.0162 \tValid Acc: 82.74 %\n",
      "\n",
      "EarlyStopping counter: 1 out of 5\n",
      "\n",
      "[EPOCH:10]\t Train Loss:0.0068\t Train Acc:99.63 %  | \tValid Loss:0.0137 \tValid Acc: 82.23 %\n",
      "\n",
      "Validation loss decreased (0.015210 --> 0.013683).  Saving model ...\n",
      "\n",
      "[EPOCH:11]\t Train Loss:0.0064\t Train Acc:99.75 %  | \tValid Loss:0.0145 \tValid Acc: 81.73 %\n",
      "\n",
      "EarlyStopping counter: 1 out of 5\n",
      "\n",
      "[EPOCH:12]\t Train Loss:0.0055\t Train Acc:99.63 %  | \tValid Loss:0.0148 \tValid Acc: 82.23 %\n",
      "\n",
      "EarlyStopping counter: 2 out of 5\n",
      "\n",
      "[EPOCH:13]\t Train Loss:0.0052\t Train Acc:99.75 %  | \tValid Loss:0.0137 \tValid Acc: 84.77 %\n",
      "\n",
      "EarlyStopping counter: 3 out of 5\n",
      "\n",
      "[EPOCH:14]\t Train Loss:0.0046\t Train Acc:99.88 %  | \tValid Loss:0.0137 \tValid Acc: 84.26 %\n",
      "\n",
      "EarlyStopping counter: 4 out of 5\n",
      "\n",
      "[EPOCH:15]\t Train Loss:0.0040\t Train Acc:100.00 %  | \tValid Loss:0.0125 \tValid Acc: 82.23 %\n",
      "\n",
      "Validation loss decreased (0.013683 --> 0.012498).  Saving model ...\n",
      "\n",
      "[EPOCH:16]\t Train Loss:0.0042\t Train Acc:99.75 %  | \tValid Loss:0.0130 \tValid Acc: 84.77 %\n",
      "\n",
      "EarlyStopping counter: 1 out of 5\n",
      "\n",
      "[EPOCH:17]\t Train Loss:0.0035\t Train Acc:100.00 %  | \tValid Loss:0.0122 \tValid Acc: 83.25 %\n",
      "\n",
      "Validation loss decreased (0.012498 --> 0.012152).  Saving model ...\n",
      "\n",
      "[EPOCH:18]\t Train Loss:0.0036\t Train Acc:100.00 %  | \tValid Loss:0.0137 \tValid Acc: 83.25 %\n",
      "\n",
      "EarlyStopping counter: 1 out of 5\n",
      "\n",
      "[EPOCH:19]\t Train Loss:0.0032\t Train Acc:100.00 %  | \tValid Loss:0.0124 \tValid Acc: 82.23 %\n",
      "\n",
      "EarlyStopping counter: 2 out of 5\n",
      "\n",
      "[EPOCH:20]\t Train Loss:0.0030\t Train Acc:99.88 %  | \tValid Loss:0.0117 \tValid Acc: 84.26 %\n",
      "\n",
      "Validation loss decreased (0.012152 --> 0.011674).  Saving model ...\n",
      "\n",
      "[EPOCH:21]\t Train Loss:0.0028\t Train Acc:100.00 %  | \tValid Loss:0.0137 \tValid Acc: 85.28 %\n",
      "\n",
      "EarlyStopping counter: 1 out of 5\n",
      "\n",
      "[EPOCH:22]\t Train Loss:0.0026\t Train Acc:100.00 %  | \tValid Loss:0.0119 \tValid Acc: 83.76 %\n",
      "\n",
      "EarlyStopping counter: 2 out of 5\n",
      "\n",
      "[EPOCH:23]\t Train Loss:0.0027\t Train Acc:99.88 %  | \tValid Loss:0.0143 \tValid Acc: 83.25 %\n",
      "\n",
      "EarlyStopping counter: 3 out of 5\n",
      "\n",
      "[EPOCH:24]\t Train Loss:0.0024\t Train Acc:99.63 %  | \tValid Loss:0.0145 \tValid Acc: 82.74 %\n",
      "\n",
      "EarlyStopping counter: 4 out of 5\n",
      "\n",
      "[EPOCH:25]\t Train Loss:0.0022\t Train Acc:100.00 %  | \tValid Loss:0.0136 \tValid Acc: 83.76 %\n",
      "\n",
      "EarlyStopping counter: 5 out of 5\n",
      "[1 교차검증] Early stopping\n"
     ]
    },
    {
     "data": {
      "text/html": [
       "Waiting for W&B process to finish... <strong style=\"color:green\">(success).</strong>"
      ],
      "text/plain": [
       "<IPython.core.display.HTML object>"
      ]
     },
     "metadata": {},
     "output_type": "display_data"
    },
    {
     "data": {
      "application/vnd.jupyter.widget-view+json": {
       "model_id": "",
       "version_major": 2,
       "version_minor": 0
      },
      "text/plain": [
       "VBox(children=(Label(value='0.001 MB of 0.001 MB uploaded (0.000 MB deduped)\\r'), FloatProgress(value=1.0, max…"
      ]
     },
     "metadata": {},
     "output_type": "display_data"
    },
    {
     "data": {
      "text/html": [
       "<style>\n",
       "    table.wandb td:nth-child(1) { padding: 0 10px; text-align: left ; width: auto;} td:nth-child(2) {text-align: left ; width: 100%}\n",
       "    .wandb-row { display: flex; flex-direction: row; flex-wrap: wrap; justify-content: flex-start; width: 100% }\n",
       "    .wandb-col { display: flex; flex-direction: column; flex-basis: 100%; flex: 1; padding: 10px; }\n",
       "    </style>\n",
       "<div class=\"wandb-row\"><div class=\"wandb-col\"><h3>Run history:</h3><br/><table class=\"wandb\"><tr><td>Valid/Accuracy</td><td>▁▅▆▇██▇▇▇▇▇▇▇▇▇▇█████████</td></tr><tr><td>Valid/Loss</td><td>█▆▆▅▄▄▄▄▄▂▂▂▂▂▂▂▁▁▁▁▁▁▁▁▁</td></tr></table><br/></div><div class=\"wandb-col\"><h3>Run summary:</h3><br/><table class=\"wandb\"><tr><td>Valid/Accuracy</td><td>84.26396</td></tr><tr><td>Valid/Loss</td><td>0.01167</td></tr></table><br/></div></div>"
      ],
      "text/plain": [
       "<IPython.core.display.HTML object>"
      ]
     },
     "metadata": {},
     "output_type": "display_data"
    },
    {
     "data": {
      "text/html": [
       "Synced <strong style=\"color:#cdcd00\">logical-sweep-2</strong>: <a href=\"https://wandb.ai/bub3690/SVD-hyp-sweep2/runs/mcd0x92d\" target=\"_blank\">https://wandb.ai/bub3690/SVD-hyp-sweep2/runs/mcd0x92d</a><br/>Synced 5 W&B file(s), 0 media file(s), 0 artifact file(s) and 0 other file(s)"
      ],
      "text/plain": [
       "<IPython.core.display.HTML object>"
      ]
     },
     "metadata": {},
     "output_type": "display_data"
    },
    {
     "data": {
      "text/html": [
       "Find logs at: <code>.\\wandb\\run-20220705_214650-mcd0x92d\\logs</code>"
      ],
      "text/plain": [
       "<IPython.core.display.HTML object>"
      ]
     },
     "metadata": {},
     "output_type": "display_data"
    },
    {
     "name": "stderr",
     "output_type": "stream",
     "text": [
      "\u001b[34m\u001b[1mwandb\u001b[0m: Agent Starting Run: mw2h5di4 with config:\n",
      "\u001b[34m\u001b[1mwandb\u001b[0m: \tfold: 1\n",
      "\u001b[34m\u001b[1mwandb\u001b[0m: \tn_mels: 96\n",
      "\u001b[34m\u001b[1mwandb\u001b[0m: \u001b[33mWARNING\u001b[0m Ignored wandb.init() arg project when running a sweep.\n",
      "\u001b[34m\u001b[1mwandb\u001b[0m: \u001b[33mWARNING\u001b[0m Ignored wandb.init() arg entity when running a sweep.\n"
     ]
    },
    {
     "data": {
      "text/html": [
       "wandb version 0.12.20 is available!  To upgrade, please run:\n",
       " $ pip install wandb --upgrade"
      ],
      "text/plain": [
       "<IPython.core.display.HTML object>"
      ]
     },
     "metadata": {},
     "output_type": "display_data"
    },
    {
     "data": {
      "text/html": [
       "Tracking run with wandb version 0.12.16"
      ],
      "text/plain": [
       "<IPython.core.display.HTML object>"
      ]
     },
     "metadata": {},
     "output_type": "display_data"
    },
    {
     "data": {
      "text/html": [
       "Run data is saved locally in <code>D:\\project\\voice_pathology_ai\\model\\spectrogram\\ros\\wandb\\run-20220705_215024-mw2h5di4</code>"
      ],
      "text/plain": [
       "<IPython.core.display.HTML object>"
      ]
     },
     "metadata": {},
     "output_type": "display_data"
    },
    {
     "data": {
      "text/html": [
       "Syncing run <strong><a href=\"https://wandb.ai/bub3690/SVD-hyp-sweep2/runs/mw2h5di4\" target=\"_blank\">soft-sweep-3</a></strong> to <a href=\"https://wandb.ai/bub3690/SVD-hyp-sweep2\" target=\"_blank\">Weights & Biases</a> (<a href=\"https://wandb.me/run\" target=\"_blank\">docs</a>)<br/>Sweep page:  <a href=\"https://wandb.ai/bub3690/SVD-hyp-sweep2/sweeps/na16x86y\" target=\"_blank\">https://wandb.ai/bub3690/SVD-hyp-sweep2/sweeps/na16x86y</a>"
      ],
      "text/plain": [
       "<IPython.core.display.HTML object>"
      ]
     },
     "metadata": {},
     "output_type": "display_data"
    },
    {
     "name": "stdout",
     "output_type": "stream",
     "text": [
      "../../checkpoint/checkpoint_melspectro_resnet18_true_ros_1_organics.pt\n",
      "config: {'sample_rate': 50000, 'n_fft': 1024, 'n_mels': 96, 'hop_length': 100, 'win_length': 400, 'f_max': 25000, 'batch_size': 32, 'fold': 1}\n",
      "[1 교차검증] 학습 시작\n",
      " ----- \n",
      "\n",
      "[EPOCH:1]\t Train Loss:0.0219\t Train Acc:57.39 %  | \tValid Loss:0.0209 \tValid Acc: 75.13 %\n",
      "\n",
      "Validation loss decreased (inf --> 0.020925).  Saving model ...\n",
      "\n",
      "[EPOCH:2]\t Train Loss:0.0177\t Train Acc:72.54 %  | \tValid Loss:0.0194 \tValid Acc: 76.14 %\n",
      "\n",
      "Validation loss decreased (0.020925 --> 0.019354).  Saving model ...\n",
      "\n",
      "[EPOCH:3]\t Train Loss:0.0151\t Train Acc:79.43 %  | \tValid Loss:0.0177 \tValid Acc: 79.19 %\n",
      "\n",
      "Validation loss decreased (0.019354 --> 0.017748).  Saving model ...\n",
      "\n",
      "[EPOCH:4]\t Train Loss:0.0129\t Train Acc:88.42 %  | \tValid Loss:0.0171 \tValid Acc: 82.23 %\n",
      "\n",
      "Validation loss decreased (0.017748 --> 0.017086).  Saving model ...\n",
      "\n",
      "[EPOCH:5]\t Train Loss:0.0109\t Train Acc:92.49 %  | \tValid Loss:0.0157 \tValid Acc: 79.19 %\n",
      "\n",
      "Validation loss decreased (0.017086 --> 0.015690).  Saving model ...\n",
      "\n",
      "[EPOCH:6]\t Train Loss:0.0092\t Train Acc:94.83 %  | \tValid Loss:0.0173 \tValid Acc: 71.57 %\n",
      "\n",
      "EarlyStopping counter: 1 out of 5\n",
      "\n",
      "[EPOCH:7]\t Train Loss:0.0088\t Train Acc:95.81 %  | \tValid Loss:0.0157 \tValid Acc: 79.70 %\n",
      "\n",
      "EarlyStopping counter: 2 out of 5\n",
      "\n",
      "[EPOCH:8]\t Train Loss:0.0073\t Train Acc:98.15 %  | \tValid Loss:0.0154 \tValid Acc: 80.71 %\n",
      "\n",
      "Validation loss decreased (0.015690 --> 0.015357).  Saving model ...\n",
      "\n",
      "[EPOCH:9]\t Train Loss:0.0066\t Train Acc:99.14 %  | \tValid Loss:0.0159 \tValid Acc: 77.66 %\n",
      "\n",
      "EarlyStopping counter: 1 out of 5\n",
      "\n",
      "[EPOCH:10]\t Train Loss:0.0059\t Train Acc:98.40 %  | \tValid Loss:0.0146 \tValid Acc: 82.23 %\n",
      "\n",
      "Validation loss decreased (0.015357 --> 0.014643).  Saving model ...\n",
      "\n",
      "[EPOCH:11]\t Train Loss:0.0054\t Train Acc:98.89 %  | \tValid Loss:0.0159 \tValid Acc: 79.70 %\n",
      "\n",
      "EarlyStopping counter: 1 out of 5\n",
      "\n",
      "[EPOCH:12]\t Train Loss:0.0052\t Train Acc:98.89 %  | \tValid Loss:0.0160 \tValid Acc: 82.74 %\n",
      "\n",
      "EarlyStopping counter: 2 out of 5\n",
      "\n",
      "[EPOCH:13]\t Train Loss:0.0045\t Train Acc:99.14 %  | \tValid Loss:0.0156 \tValid Acc: 82.74 %\n",
      "\n",
      "EarlyStopping counter: 3 out of 5\n",
      "\n",
      "[EPOCH:14]\t Train Loss:0.0039\t Train Acc:99.88 %  | \tValid Loss:0.0160 \tValid Acc: 81.22 %\n",
      "\n",
      "EarlyStopping counter: 4 out of 5\n",
      "\n",
      "[EPOCH:15]\t Train Loss:0.0037\t Train Acc:99.63 %  | \tValid Loss:0.0161 \tValid Acc: 82.74 %\n",
      "\n",
      "EarlyStopping counter: 5 out of 5\n",
      "[1 교차검증] Early stopping\n"
     ]
    },
    {
     "data": {
      "text/html": [
       "Waiting for W&B process to finish... <strong style=\"color:green\">(success).</strong>"
      ],
      "text/plain": [
       "<IPython.core.display.HTML object>"
      ]
     },
     "metadata": {},
     "output_type": "display_data"
    },
    {
     "data": {
      "application/vnd.jupyter.widget-view+json": {
       "model_id": "",
       "version_major": 2,
       "version_minor": 0
      },
      "text/plain": [
       "VBox(children=(Label(value='0.001 MB of 0.001 MB uploaded (0.000 MB deduped)\\r'), FloatProgress(value=1.0, max…"
      ]
     },
     "metadata": {},
     "output_type": "display_data"
    },
    {
     "data": {
      "text/html": [
       "<style>\n",
       "    table.wandb td:nth-child(1) { padding: 0 10px; text-align: left ; width: auto;} td:nth-child(2) {text-align: left ; width: 100%}\n",
       "    .wandb-row { display: flex; flex-direction: row; flex-wrap: wrap; justify-content: flex-start; width: 100% }\n",
       "    .wandb-col { display: flex; flex-direction: column; flex-basis: 100%; flex: 1; padding: 10px; }\n",
       "    </style>\n",
       "<div class=\"wandb-row\"><div class=\"wandb-col\"><h3>Run history:</h3><br/><table class=\"wandb\"><tr><td>Valid/Accuracy</td><td>▁▂▅█▅▅▅▇▇██████</td></tr><tr><td>Valid/Loss</td><td>█▆▄▄▂▂▂▂▂▁▁▁▁▁▁</td></tr></table><br/></div><div class=\"wandb-col\"><h3>Run summary:</h3><br/><table class=\"wandb\"><tr><td>Valid/Accuracy</td><td>82.2335</td></tr><tr><td>Valid/Loss</td><td>0.01464</td></tr></table><br/></div></div>"
      ],
      "text/plain": [
       "<IPython.core.display.HTML object>"
      ]
     },
     "metadata": {},
     "output_type": "display_data"
    },
    {
     "data": {
      "text/html": [
       "Synced <strong style=\"color:#cdcd00\">soft-sweep-3</strong>: <a href=\"https://wandb.ai/bub3690/SVD-hyp-sweep2/runs/mw2h5di4\" target=\"_blank\">https://wandb.ai/bub3690/SVD-hyp-sweep2/runs/mw2h5di4</a><br/>Synced 5 W&B file(s), 0 media file(s), 0 artifact file(s) and 0 other file(s)"
      ],
      "text/plain": [
       "<IPython.core.display.HTML object>"
      ]
     },
     "metadata": {},
     "output_type": "display_data"
    },
    {
     "data": {
      "text/html": [
       "Find logs at: <code>.\\wandb\\run-20220705_215024-mw2h5di4\\logs</code>"
      ],
      "text/plain": [
       "<IPython.core.display.HTML object>"
      ]
     },
     "metadata": {},
     "output_type": "display_data"
    },
    {
     "name": "stderr",
     "output_type": "stream",
     "text": [
      "\u001b[34m\u001b[1mwandb\u001b[0m: Agent Starting Run: 27i98tze with config:\n",
      "\u001b[34m\u001b[1mwandb\u001b[0m: \tfold: 1\n",
      "\u001b[34m\u001b[1mwandb\u001b[0m: \tn_mels: 128\n",
      "\u001b[34m\u001b[1mwandb\u001b[0m: \u001b[33mWARNING\u001b[0m Ignored wandb.init() arg project when running a sweep.\n",
      "\u001b[34m\u001b[1mwandb\u001b[0m: \u001b[33mWARNING\u001b[0m Ignored wandb.init() arg entity when running a sweep.\n"
     ]
    },
    {
     "data": {
      "text/html": [
       "wandb version 0.12.20 is available!  To upgrade, please run:\n",
       " $ pip install wandb --upgrade"
      ],
      "text/plain": [
       "<IPython.core.display.HTML object>"
      ]
     },
     "metadata": {},
     "output_type": "display_data"
    },
    {
     "data": {
      "text/html": [
       "Tracking run with wandb version 0.12.16"
      ],
      "text/plain": [
       "<IPython.core.display.HTML object>"
      ]
     },
     "metadata": {},
     "output_type": "display_data"
    },
    {
     "data": {
      "text/html": [
       "Run data is saved locally in <code>D:\\project\\voice_pathology_ai\\model\\spectrogram\\ros\\wandb\\run-20220705_215245-27i98tze</code>"
      ],
      "text/plain": [
       "<IPython.core.display.HTML object>"
      ]
     },
     "metadata": {},
     "output_type": "display_data"
    },
    {
     "data": {
      "text/html": [
       "Syncing run <strong><a href=\"https://wandb.ai/bub3690/SVD-hyp-sweep2/runs/27i98tze\" target=\"_blank\">fanciful-sweep-4</a></strong> to <a href=\"https://wandb.ai/bub3690/SVD-hyp-sweep2\" target=\"_blank\">Weights & Biases</a> (<a href=\"https://wandb.me/run\" target=\"_blank\">docs</a>)<br/>Sweep page:  <a href=\"https://wandb.ai/bub3690/SVD-hyp-sweep2/sweeps/na16x86y\" target=\"_blank\">https://wandb.ai/bub3690/SVD-hyp-sweep2/sweeps/na16x86y</a>"
      ],
      "text/plain": [
       "<IPython.core.display.HTML object>"
      ]
     },
     "metadata": {},
     "output_type": "display_data"
    },
    {
     "name": "stdout",
     "output_type": "stream",
     "text": [
      "../../checkpoint/checkpoint_melspectro_resnet18_true_ros_1_organics.pt\n",
      "config: {'sample_rate': 50000, 'n_fft': 1024, 'n_mels': 128, 'hop_length': 100, 'win_length': 400, 'f_max': 25000, 'batch_size': 32, 'fold': 1}\n",
      "[1 교차검증] 학습 시작\n",
      " ----- \n",
      "\n",
      "[EPOCH:1]\t Train Loss:0.0207\t Train Acc:61.58 %  | \tValid Loss:0.0201 \tValid Acc: 73.60 %\n",
      "\n",
      "Validation loss decreased (inf --> 0.020108).  Saving model ...\n",
      "\n",
      "[EPOCH:2]\t Train Loss:0.0164\t Train Acc:74.14 %  | \tValid Loss:0.0173 \tValid Acc: 77.66 %\n",
      "\n",
      "Validation loss decreased (0.020108 --> 0.017288).  Saving model ...\n",
      "\n",
      "[EPOCH:3]\t Train Loss:0.0143\t Train Acc:81.53 %  | \tValid Loss:0.0166 \tValid Acc: 79.70 %\n",
      "\n",
      "Validation loss decreased (0.017288 --> 0.016565).  Saving model ...\n",
      "\n",
      "[EPOCH:4]\t Train Loss:0.0124\t Train Acc:87.32 %  | \tValid Loss:0.0161 \tValid Acc: 79.19 %\n",
      "\n",
      "Validation loss decreased (0.016565 --> 0.016064).  Saving model ...\n",
      "\n",
      "[EPOCH:5]\t Train Loss:0.0101\t Train Acc:92.86 %  | \tValid Loss:0.0150 \tValid Acc: 82.23 %\n",
      "\n",
      "Validation loss decreased (0.016064 --> 0.014968).  Saving model ...\n",
      "\n",
      "[EPOCH:6]\t Train Loss:0.0093\t Train Acc:96.06 %  | \tValid Loss:0.0149 \tValid Acc: 84.26 %\n",
      "\n",
      "Validation loss decreased (0.014968 --> 0.014950).  Saving model ...\n",
      "\n",
      "[EPOCH:7]\t Train Loss:0.0083\t Train Acc:96.92 %  | \tValid Loss:0.0137 \tValid Acc: 85.79 %\n",
      "\n",
      "Validation loss decreased (0.014950 --> 0.013654).  Saving model ...\n",
      "\n",
      "[EPOCH:8]\t Train Loss:0.0071\t Train Acc:98.77 %  | \tValid Loss:0.0149 \tValid Acc: 83.25 %\n",
      "\n",
      "EarlyStopping counter: 1 out of 5\n",
      "\n",
      "[EPOCH:9]\t Train Loss:0.0062\t Train Acc:99.63 %  | \tValid Loss:0.0142 \tValid Acc: 83.25 %\n",
      "\n",
      "EarlyStopping counter: 2 out of 5\n",
      "\n",
      "[EPOCH:10]\t Train Loss:0.0056\t Train Acc:99.63 %  | \tValid Loss:0.0137 \tValid Acc: 83.76 %\n",
      "\n",
      "EarlyStopping counter: 3 out of 5\n",
      "\n",
      "[EPOCH:11]\t Train Loss:0.0050\t Train Acc:99.88 %  | \tValid Loss:0.0146 \tValid Acc: 83.76 %\n",
      "\n",
      "EarlyStopping counter: 4 out of 5\n",
      "\n",
      "[EPOCH:12]\t Train Loss:0.0048\t Train Acc:99.88 %  | \tValid Loss:0.0126 \tValid Acc: 85.28 %\n",
      "\n",
      "Validation loss decreased (0.013654 --> 0.012591).  Saving model ...\n",
      "\n",
      "[EPOCH:13]\t Train Loss:0.0044\t Train Acc:100.00 %  | \tValid Loss:0.0128 \tValid Acc: 84.77 %\n",
      "\n",
      "EarlyStopping counter: 1 out of 5\n",
      "\n",
      "[EPOCH:14]\t Train Loss:0.0045\t Train Acc:99.75 %  | \tValid Loss:0.0134 \tValid Acc: 84.77 %\n",
      "\n",
      "EarlyStopping counter: 2 out of 5\n",
      "\n",
      "[EPOCH:15]\t Train Loss:0.0041\t Train Acc:100.00 %  | \tValid Loss:0.0134 \tValid Acc: 85.28 %\n",
      "\n",
      "EarlyStopping counter: 3 out of 5\n",
      "\n",
      "[EPOCH:16]\t Train Loss:0.0038\t Train Acc:99.88 %  | \tValid Loss:0.0140 \tValid Acc: 84.26 %\n",
      "\n",
      "EarlyStopping counter: 4 out of 5\n",
      "\n",
      "[EPOCH:17]\t Train Loss:0.0033\t Train Acc:99.88 %  | \tValid Loss:0.0123 \tValid Acc: 86.29 %\n",
      "\n",
      "Validation loss decreased (0.012591 --> 0.012293).  Saving model ...\n",
      "\n",
      "[EPOCH:18]\t Train Loss:0.0032\t Train Acc:100.00 %  | \tValid Loss:0.0166 \tValid Acc: 83.25 %\n",
      "\n",
      "EarlyStopping counter: 1 out of 5\n",
      "\n",
      "[EPOCH:19]\t Train Loss:0.0031\t Train Acc:100.00 %  | \tValid Loss:0.0146 \tValid Acc: 86.29 %\n",
      "\n",
      "EarlyStopping counter: 2 out of 5\n",
      "\n",
      "[EPOCH:20]\t Train Loss:0.0027\t Train Acc:99.88 %  | \tValid Loss:0.0140 \tValid Acc: 85.28 %\n",
      "\n",
      "EarlyStopping counter: 3 out of 5\n",
      "\n",
      "[EPOCH:21]\t Train Loss:0.0026\t Train Acc:100.00 %  | \tValid Loss:0.0146 \tValid Acc: 84.26 %\n",
      "\n",
      "EarlyStopping counter: 4 out of 5\n",
      "\n",
      "[EPOCH:22]\t Train Loss:0.0024\t Train Acc:100.00 %  | \tValid Loss:0.0118 \tValid Acc: 85.28 %\n",
      "\n",
      "Validation loss decreased (0.012293 --> 0.011787).  Saving model ...\n",
      "\n",
      "[EPOCH:23]\t Train Loss:0.0024\t Train Acc:99.88 %  | \tValid Loss:0.0137 \tValid Acc: 85.79 %\n",
      "\n",
      "EarlyStopping counter: 1 out of 5\n",
      "\n",
      "[EPOCH:24]\t Train Loss:0.0023\t Train Acc:100.00 %  | \tValid Loss:0.0123 \tValid Acc: 84.77 %\n",
      "\n",
      "EarlyStopping counter: 2 out of 5\n",
      "\n",
      "[EPOCH:25]\t Train Loss:0.0021\t Train Acc:100.00 %  | \tValid Loss:0.0128 \tValid Acc: 86.29 %\n",
      "\n",
      "EarlyStopping counter: 3 out of 5\n",
      "\n",
      "[EPOCH:26]\t Train Loss:0.0021\t Train Acc:100.00 %  | \tValid Loss:0.0137 \tValid Acc: 84.77 %\n",
      "\n",
      "EarlyStopping counter: 4 out of 5\n",
      "\n",
      "[EPOCH:27]\t Train Loss:0.0020\t Train Acc:100.00 %  | \tValid Loss:0.0116 \tValid Acc: 86.29 %\n",
      "\n",
      "Validation loss decreased (0.011787 --> 0.011557).  Saving model ...\n",
      "\n",
      "[EPOCH:28]\t Train Loss:0.0018\t Train Acc:100.00 %  | \tValid Loss:0.0153 \tValid Acc: 85.28 %\n",
      "\n",
      "EarlyStopping counter: 1 out of 5\n",
      "\n",
      "[EPOCH:29]\t Train Loss:0.0019\t Train Acc:99.75 %  | \tValid Loss:0.0143 \tValid Acc: 83.76 %\n",
      "\n",
      "EarlyStopping counter: 2 out of 5\n",
      "\n",
      "[EPOCH:30]\t Train Loss:0.0031\t Train Acc:98.89 %  | \tValid Loss:0.0269 \tValid Acc: 73.60 %\n",
      "\n",
      "EarlyStopping counter: 3 out of 5\n",
      "\n",
      "[EPOCH:31]\t Train Loss:0.0038\t Train Acc:96.43 %  | \tValid Loss:0.0361 \tValid Acc: 69.04 %\n",
      "\n",
      "EarlyStopping counter: 4 out of 5\n",
      "\n",
      "[EPOCH:32]\t Train Loss:0.0035\t Train Acc:97.29 %  | \tValid Loss:0.0157 \tValid Acc: 83.76 %\n",
      "\n",
      "EarlyStopping counter: 5 out of 5\n",
      "[1 교차검증] Early stopping\n"
     ]
    },
    {
     "data": {
      "text/html": [
       "Waiting for W&B process to finish... <strong style=\"color:green\">(success).</strong>"
      ],
      "text/plain": [
       "<IPython.core.display.HTML object>"
      ]
     },
     "metadata": {},
     "output_type": "display_data"
    },
    {
     "data": {
      "application/vnd.jupyter.widget-view+json": {
       "model_id": "",
       "version_major": 2,
       "version_minor": 0
      },
      "text/plain": [
       "VBox(children=(Label(value='0.001 MB of 0.001 MB uploaded (0.000 MB deduped)\\r'), FloatProgress(value=1.0, max…"
      ]
     },
     "metadata": {},
     "output_type": "display_data"
    },
    {
     "data": {
      "text/html": [
       "<style>\n",
       "    table.wandb td:nth-child(1) { padding: 0 10px; text-align: left ; width: auto;} td:nth-child(2) {text-align: left ; width: 100%}\n",
       "    .wandb-row { display: flex; flex-direction: row; flex-wrap: wrap; justify-content: flex-start; width: 100% }\n",
       "    .wandb-col { display: flex; flex-direction: column; flex-basis: 100%; flex: 1; padding: 10px; }\n",
       "    </style>\n",
       "<div class=\"wandb-row\"><div class=\"wandb-col\"><h3>Run history:</h3><br/><table class=\"wandb\"><tr><td>Valid/Accuracy</td><td>▁▃▄▄▆▇█████▇▇▇▇▇█████▇▇▇▇▇██████</td></tr><tr><td>Valid/Loss</td><td>█▆▅▅▄▄▃▃▃▃▃▂▂▂▂▂▂▂▂▂▂▁▁▁▁▁▁▁▁▁▁▁</td></tr></table><br/></div><div class=\"wandb-col\"><h3>Run summary:</h3><br/><table class=\"wandb\"><tr><td>Valid/Accuracy</td><td>86.29442</td></tr><tr><td>Valid/Loss</td><td>0.01156</td></tr></table><br/></div></div>"
      ],
      "text/plain": [
       "<IPython.core.display.HTML object>"
      ]
     },
     "metadata": {},
     "output_type": "display_data"
    },
    {
     "data": {
      "text/html": [
       "Synced <strong style=\"color:#cdcd00\">fanciful-sweep-4</strong>: <a href=\"https://wandb.ai/bub3690/SVD-hyp-sweep2/runs/27i98tze\" target=\"_blank\">https://wandb.ai/bub3690/SVD-hyp-sweep2/runs/27i98tze</a><br/>Synced 5 W&B file(s), 0 media file(s), 0 artifact file(s) and 0 other file(s)"
      ],
      "text/plain": [
       "<IPython.core.display.HTML object>"
      ]
     },
     "metadata": {},
     "output_type": "display_data"
    },
    {
     "data": {
      "text/html": [
       "Find logs at: <code>.\\wandb\\run-20220705_215245-27i98tze\\logs</code>"
      ],
      "text/plain": [
       "<IPython.core.display.HTML object>"
      ]
     },
     "metadata": {},
     "output_type": "display_data"
    },
    {
     "name": "stderr",
     "output_type": "stream",
     "text": [
      "\u001b[34m\u001b[1mwandb\u001b[0m: Agent Starting Run: cbz4cr7q with config:\n",
      "\u001b[34m\u001b[1mwandb\u001b[0m: \tfold: 1\n",
      "\u001b[34m\u001b[1mwandb\u001b[0m: \tn_mels: 160\n",
      "\u001b[34m\u001b[1mwandb\u001b[0m: \u001b[33mWARNING\u001b[0m Ignored wandb.init() arg project when running a sweep.\n",
      "\u001b[34m\u001b[1mwandb\u001b[0m: \u001b[33mWARNING\u001b[0m Ignored wandb.init() arg entity when running a sweep.\n"
     ]
    },
    {
     "data": {
      "text/html": [
       "wandb version 0.12.20 is available!  To upgrade, please run:\n",
       " $ pip install wandb --upgrade"
      ],
      "text/plain": [
       "<IPython.core.display.HTML object>"
      ]
     },
     "metadata": {},
     "output_type": "display_data"
    },
    {
     "data": {
      "text/html": [
       "Tracking run with wandb version 0.12.16"
      ],
      "text/plain": [
       "<IPython.core.display.HTML object>"
      ]
     },
     "metadata": {},
     "output_type": "display_data"
    },
    {
     "data": {
      "text/html": [
       "Run data is saved locally in <code>D:\\project\\voice_pathology_ai\\model\\spectrogram\\ros\\wandb\\run-20220705_215733-cbz4cr7q</code>"
      ],
      "text/plain": [
       "<IPython.core.display.HTML object>"
      ]
     },
     "metadata": {},
     "output_type": "display_data"
    },
    {
     "data": {
      "text/html": [
       "Syncing run <strong><a href=\"https://wandb.ai/bub3690/SVD-hyp-sweep2/runs/cbz4cr7q\" target=\"_blank\">kind-sweep-5</a></strong> to <a href=\"https://wandb.ai/bub3690/SVD-hyp-sweep2\" target=\"_blank\">Weights & Biases</a> (<a href=\"https://wandb.me/run\" target=\"_blank\">docs</a>)<br/>Sweep page:  <a href=\"https://wandb.ai/bub3690/SVD-hyp-sweep2/sweeps/na16x86y\" target=\"_blank\">https://wandb.ai/bub3690/SVD-hyp-sweep2/sweeps/na16x86y</a>"
      ],
      "text/plain": [
       "<IPython.core.display.HTML object>"
      ]
     },
     "metadata": {},
     "output_type": "display_data"
    },
    {
     "name": "stdout",
     "output_type": "stream",
     "text": [
      "../../checkpoint/checkpoint_melspectro_resnet18_true_ros_1_organics.pt\n",
      "config: {'sample_rate': 50000, 'n_fft': 1024, 'n_mels': 160, 'hop_length': 100, 'win_length': 400, 'f_max': 25000, 'batch_size': 32, 'fold': 1}\n",
      "[1 교차검증] 학습 시작\n",
      " ----- \n",
      "\n",
      "[EPOCH:1]\t Train Loss:0.0222\t Train Acc:58.50 %  | \tValid Loss:0.0216 \tValid Acc: 71.07 %\n",
      "\n",
      "Validation loss decreased (inf --> 0.021563).  Saving model ...\n",
      "\n",
      "[EPOCH:2]\t Train Loss:0.0174\t Train Acc:72.91 %  | \tValid Loss:0.0194 \tValid Acc: 77.16 %\n",
      "\n",
      "Validation loss decreased (0.021563 --> 0.019372).  Saving model ...\n",
      "\n",
      "[EPOCH:3]\t Train Loss:0.0150\t Train Acc:77.96 %  | \tValid Loss:0.0172 \tValid Acc: 81.73 %\n",
      "\n",
      "Validation loss decreased (0.019372 --> 0.017186).  Saving model ...\n",
      "\n",
      "[EPOCH:4]\t Train Loss:0.0134\t Train Acc:83.00 %  | \tValid Loss:0.0181 \tValid Acc: 82.74 %\n",
      "\n",
      "EarlyStopping counter: 1 out of 5\n",
      "\n",
      "[EPOCH:5]\t Train Loss:0.0116\t Train Acc:87.93 %  | \tValid Loss:0.0164 \tValid Acc: 80.71 %\n",
      "\n",
      "Validation loss decreased (0.017186 --> 0.016393).  Saving model ...\n",
      "\n",
      "[EPOCH:6]\t Train Loss:0.0100\t Train Acc:93.47 %  | \tValid Loss:0.0166 \tValid Acc: 79.19 %\n",
      "\n",
      "EarlyStopping counter: 1 out of 5\n",
      "\n",
      "[EPOCH:7]\t Train Loss:0.0093\t Train Acc:95.81 %  | \tValid Loss:0.0154 \tValid Acc: 84.26 %\n",
      "\n",
      "Validation loss decreased (0.016393 --> 0.015408).  Saving model ...\n",
      "\n",
      "[EPOCH:8]\t Train Loss:0.0081\t Train Acc:97.17 %  | \tValid Loss:0.0168 \tValid Acc: 85.79 %\n",
      "\n",
      "EarlyStopping counter: 1 out of 5\n",
      "\n",
      "[EPOCH:9]\t Train Loss:0.0074\t Train Acc:98.77 %  | \tValid Loss:0.0155 \tValid Acc: 83.25 %\n",
      "\n",
      "EarlyStopping counter: 2 out of 5\n",
      "\n",
      "[EPOCH:10]\t Train Loss:0.0063\t Train Acc:99.51 %  | \tValid Loss:0.0144 \tValid Acc: 82.23 %\n",
      "\n",
      "Validation loss decreased (0.015408 --> 0.014411).  Saving model ...\n",
      "\n",
      "[EPOCH:11]\t Train Loss:0.0062\t Train Acc:99.38 %  | \tValid Loss:0.0165 \tValid Acc: 82.23 %\n",
      "\n",
      "EarlyStopping counter: 1 out of 5\n",
      "\n",
      "[EPOCH:12]\t Train Loss:0.0052\t Train Acc:99.88 %  | \tValid Loss:0.0155 \tValid Acc: 82.23 %\n",
      "\n",
      "EarlyStopping counter: 2 out of 5\n",
      "\n",
      "[EPOCH:13]\t Train Loss:0.0048\t Train Acc:100.00 %  | \tValid Loss:0.0139 \tValid Acc: 81.73 %\n",
      "\n",
      "Validation loss decreased (0.014411 --> 0.013936).  Saving model ...\n",
      "\n",
      "[EPOCH:14]\t Train Loss:0.0048\t Train Acc:99.75 %  | \tValid Loss:0.0155 \tValid Acc: 80.71 %\n",
      "\n",
      "EarlyStopping counter: 1 out of 5\n",
      "\n",
      "[EPOCH:15]\t Train Loss:0.0043\t Train Acc:99.75 %  | \tValid Loss:0.0136 \tValid Acc: 82.74 %\n",
      "\n",
      "Validation loss decreased (0.013936 --> 0.013573).  Saving model ...\n",
      "\n",
      "[EPOCH:16]\t Train Loss:0.0040\t Train Acc:99.63 %  | \tValid Loss:0.0133 \tValid Acc: 85.28 %\n",
      "\n",
      "Validation loss decreased (0.013573 --> 0.013270).  Saving model ...\n",
      "\n",
      "[EPOCH:17]\t Train Loss:0.0038\t Train Acc:99.75 %  | \tValid Loss:0.0142 \tValid Acc: 83.25 %\n",
      "\n",
      "EarlyStopping counter: 1 out of 5\n",
      "\n",
      "[EPOCH:18]\t Train Loss:0.0036\t Train Acc:99.51 %  | \tValid Loss:0.0147 \tValid Acc: 85.28 %\n",
      "\n",
      "EarlyStopping counter: 2 out of 5\n",
      "\n",
      "[EPOCH:19]\t Train Loss:0.0032\t Train Acc:100.00 %  | \tValid Loss:0.0116 \tValid Acc: 84.77 %\n",
      "\n",
      "Validation loss decreased (0.013270 --> 0.011637).  Saving model ...\n",
      "\n",
      "[EPOCH:20]\t Train Loss:0.0034\t Train Acc:100.00 %  | \tValid Loss:0.0117 \tValid Acc: 84.77 %\n",
      "\n",
      "EarlyStopping counter: 1 out of 5\n",
      "\n",
      "[EPOCH:21]\t Train Loss:0.0029\t Train Acc:100.00 %  | \tValid Loss:0.0121 \tValid Acc: 85.28 %\n",
      "\n",
      "EarlyStopping counter: 2 out of 5\n",
      "\n",
      "[EPOCH:22]\t Train Loss:0.0027\t Train Acc:100.00 %  | \tValid Loss:0.0130 \tValid Acc: 86.80 %\n",
      "\n",
      "EarlyStopping counter: 3 out of 5\n",
      "\n",
      "[EPOCH:23]\t Train Loss:0.0025\t Train Acc:100.00 %  | \tValid Loss:0.0119 \tValid Acc: 85.28 %\n",
      "\n",
      "EarlyStopping counter: 4 out of 5\n",
      "\n",
      "[EPOCH:24]\t Train Loss:0.0027\t Train Acc:99.88 %  | \tValid Loss:0.0116 \tValid Acc: 86.29 %\n",
      "\n",
      "Validation loss decreased (0.011637 --> 0.011606).  Saving model ...\n",
      "\n",
      "[EPOCH:25]\t Train Loss:0.0025\t Train Acc:99.88 %  | \tValid Loss:0.0116 \tValid Acc: 86.29 %\n",
      "\n",
      "Validation loss decreased (0.011606 --> 0.011563).  Saving model ...\n",
      "\n",
      "[EPOCH:26]\t Train Loss:0.0021\t Train Acc:100.00 %  | \tValid Loss:0.0117 \tValid Acc: 84.77 %\n",
      "\n",
      "EarlyStopping counter: 1 out of 5\n",
      "\n",
      "[EPOCH:27]\t Train Loss:0.0021\t Train Acc:100.00 %  | \tValid Loss:0.0117 \tValid Acc: 85.79 %\n",
      "\n",
      "EarlyStopping counter: 2 out of 5\n",
      "\n",
      "[EPOCH:28]\t Train Loss:0.0021\t Train Acc:100.00 %  | \tValid Loss:0.0118 \tValid Acc: 84.77 %\n",
      "\n",
      "EarlyStopping counter: 3 out of 5\n",
      "\n",
      "[EPOCH:29]\t Train Loss:0.0018\t Train Acc:100.00 %  | \tValid Loss:0.0115 \tValid Acc: 86.29 %\n",
      "\n",
      "Validation loss decreased (0.011563 --> 0.011483).  Saving model ...\n",
      "\n",
      "[EPOCH:30]\t Train Loss:0.0018\t Train Acc:100.00 %  | \tValid Loss:0.0120 \tValid Acc: 85.28 %\n",
      "\n",
      "EarlyStopping counter: 1 out of 5\n",
      "\n",
      "[EPOCH:31]\t Train Loss:0.0018\t Train Acc:100.00 %  | \tValid Loss:0.0140 \tValid Acc: 84.77 %\n",
      "\n",
      "EarlyStopping counter: 2 out of 5\n",
      "\n",
      "[EPOCH:32]\t Train Loss:0.0016\t Train Acc:100.00 %  | \tValid Loss:0.0158 \tValid Acc: 85.28 %\n",
      "\n",
      "EarlyStopping counter: 3 out of 5\n",
      "\n",
      "[EPOCH:33]\t Train Loss:0.0015\t Train Acc:100.00 %  | \tValid Loss:0.0124 \tValid Acc: 84.77 %\n",
      "\n",
      "EarlyStopping counter: 4 out of 5\n",
      "\n",
      "[EPOCH:34]\t Train Loss:0.0015\t Train Acc:100.00 %  | \tValid Loss:0.0131 \tValid Acc: 85.79 %\n",
      "\n",
      "EarlyStopping counter: 5 out of 5\n",
      "[1 교차검증] Early stopping\n"
     ]
    },
    {
     "data": {
      "text/html": [
       "Waiting for W&B process to finish... <strong style=\"color:green\">(success).</strong>"
      ],
      "text/plain": [
       "<IPython.core.display.HTML object>"
      ]
     },
     "metadata": {},
     "output_type": "display_data"
    },
    {
     "data": {
      "application/vnd.jupyter.widget-view+json": {
       "model_id": "",
       "version_major": 2,
       "version_minor": 0
      },
      "text/plain": [
       "VBox(children=(Label(value='0.001 MB of 0.001 MB uploaded (0.000 MB deduped)\\r'), FloatProgress(value=1.0, max…"
      ]
     },
     "metadata": {},
     "output_type": "display_data"
    },
    {
     "data": {
      "text/html": [
       "<style>\n",
       "    table.wandb td:nth-child(1) { padding: 0 10px; text-align: left ; width: auto;} td:nth-child(2) {text-align: left ; width: 100%}\n",
       "    .wandb-row { display: flex; flex-direction: row; flex-wrap: wrap; justify-content: flex-start; width: 100% }\n",
       "    .wandb-col { display: flex; flex-direction: column; flex-basis: 100%; flex: 1; padding: 10px; }\n",
       "    </style>\n",
       "<div class=\"wandb-row\"><div class=\"wandb-col\"><h3>Run history:</h3><br/><table class=\"wandb\"><tr><td>Valid/Accuracy</td><td>▁▄▆▆▅▅▇▇▇▆▆▆▆▆▆███▇▇▇▇▇███████████</td></tr><tr><td>Valid/Loss</td><td>█▆▅▅▄▄▄▄▄▃▃▃▃▃▂▂▂▂▁▁▁▁▁▁▁▁▁▁▁▁▁▁▁▁</td></tr></table><br/></div><div class=\"wandb-col\"><h3>Run summary:</h3><br/><table class=\"wandb\"><tr><td>Valid/Accuracy</td><td>86.29442</td></tr><tr><td>Valid/Loss</td><td>0.01148</td></tr></table><br/></div></div>"
      ],
      "text/plain": [
       "<IPython.core.display.HTML object>"
      ]
     },
     "metadata": {},
     "output_type": "display_data"
    },
    {
     "data": {
      "text/html": [
       "Synced <strong style=\"color:#cdcd00\">kind-sweep-5</strong>: <a href=\"https://wandb.ai/bub3690/SVD-hyp-sweep2/runs/cbz4cr7q\" target=\"_blank\">https://wandb.ai/bub3690/SVD-hyp-sweep2/runs/cbz4cr7q</a><br/>Synced 5 W&B file(s), 0 media file(s), 0 artifact file(s) and 0 other file(s)"
      ],
      "text/plain": [
       "<IPython.core.display.HTML object>"
      ]
     },
     "metadata": {},
     "output_type": "display_data"
    },
    {
     "data": {
      "text/html": [
       "Find logs at: <code>.\\wandb\\run-20220705_215733-cbz4cr7q\\logs</code>"
      ],
      "text/plain": [
       "<IPython.core.display.HTML object>"
      ]
     },
     "metadata": {},
     "output_type": "display_data"
    },
    {
     "name": "stderr",
     "output_type": "stream",
     "text": [
      "\u001b[34m\u001b[1mwandb\u001b[0m: Agent Starting Run: pc9r1dj2 with config:\n",
      "\u001b[34m\u001b[1mwandb\u001b[0m: \tfold: 1\n",
      "\u001b[34m\u001b[1mwandb\u001b[0m: \tn_mels: 192\n",
      "\u001b[34m\u001b[1mwandb\u001b[0m: \u001b[33mWARNING\u001b[0m Ignored wandb.init() arg project when running a sweep.\n",
      "\u001b[34m\u001b[1mwandb\u001b[0m: \u001b[33mWARNING\u001b[0m Ignored wandb.init() arg entity when running a sweep.\n"
     ]
    },
    {
     "data": {
      "text/html": [
       "wandb version 0.12.20 is available!  To upgrade, please run:\n",
       " $ pip install wandb --upgrade"
      ],
      "text/plain": [
       "<IPython.core.display.HTML object>"
      ]
     },
     "metadata": {},
     "output_type": "display_data"
    },
    {
     "data": {
      "text/html": [
       "Tracking run with wandb version 0.12.16"
      ],
      "text/plain": [
       "<IPython.core.display.HTML object>"
      ]
     },
     "metadata": {},
     "output_type": "display_data"
    },
    {
     "data": {
      "text/html": [
       "Run data is saved locally in <code>D:\\project\\voice_pathology_ai\\model\\spectrogram\\ros\\wandb\\run-20220705_220324-pc9r1dj2</code>"
      ],
      "text/plain": [
       "<IPython.core.display.HTML object>"
      ]
     },
     "metadata": {},
     "output_type": "display_data"
    },
    {
     "data": {
      "text/html": [
       "Syncing run <strong><a href=\"https://wandb.ai/bub3690/SVD-hyp-sweep2/runs/pc9r1dj2\" target=\"_blank\">ruby-sweep-6</a></strong> to <a href=\"https://wandb.ai/bub3690/SVD-hyp-sweep2\" target=\"_blank\">Weights & Biases</a> (<a href=\"https://wandb.me/run\" target=\"_blank\">docs</a>)<br/>Sweep page:  <a href=\"https://wandb.ai/bub3690/SVD-hyp-sweep2/sweeps/na16x86y\" target=\"_blank\">https://wandb.ai/bub3690/SVD-hyp-sweep2/sweeps/na16x86y</a>"
      ],
      "text/plain": [
       "<IPython.core.display.HTML object>"
      ]
     },
     "metadata": {},
     "output_type": "display_data"
    },
    {
     "name": "stdout",
     "output_type": "stream",
     "text": [
      "../../checkpoint/checkpoint_melspectro_resnet18_true_ros_1_organics.pt\n",
      "config: {'sample_rate': 50000, 'n_fft': 1024, 'n_mels': 192, 'hop_length': 100, 'win_length': 400, 'f_max': 25000, 'batch_size': 32, 'fold': 1}\n",
      "[1 교차검증] 학습 시작\n",
      " ----- \n"
     ]
    },
    {
     "name": "stderr",
     "output_type": "stream",
     "text": [
      "C:\\Users\\USER\\anaconda3\\envs\\local_torch\\lib\\site-packages\\librosa\\feature\\spectral.py:2041: UserWarning: Empty filters detected in mel frequency basis. Some channels will produce empty responses. Try increasing your sampling rate (and fmax) or reducing n_mels.\n",
      "  mel_basis = filters.mel(sr=sr, n_fft=n_fft, **kwargs)\n"
     ]
    },
    {
     "name": "stdout",
     "output_type": "stream",
     "text": [
      "\n",
      "[EPOCH:1]\t Train Loss:0.0207\t Train Acc:61.21 %  | \tValid Loss:0.0220 \tValid Acc: 68.02 %\n",
      "\n",
      "Validation loss decreased (inf --> 0.021987).  Saving model ...\n",
      "\n",
      "[EPOCH:2]\t Train Loss:0.0167\t Train Acc:74.88 %  | \tValid Loss:0.0184 \tValid Acc: 72.08 %\n",
      "\n",
      "Validation loss decreased (0.021987 --> 0.018445).  Saving model ...\n",
      "\n",
      "[EPOCH:3]\t Train Loss:0.0145\t Train Acc:82.02 %  | \tValid Loss:0.0183 \tValid Acc: 74.11 %\n",
      "\n",
      "Validation loss decreased (0.018445 --> 0.018272).  Saving model ...\n",
      "\n",
      "[EPOCH:4]\t Train Loss:0.0130\t Train Acc:86.45 %  | \tValid Loss:0.0176 \tValid Acc: 76.14 %\n",
      "\n",
      "Validation loss decreased (0.018272 --> 0.017646).  Saving model ...\n",
      "\n",
      "[EPOCH:5]\t Train Loss:0.0109\t Train Acc:92.36 %  | \tValid Loss:0.0163 \tValid Acc: 79.70 %\n",
      "\n",
      "Validation loss decreased (0.017646 --> 0.016277).  Saving model ...\n",
      "\n",
      "[EPOCH:6]\t Train Loss:0.0095\t Train Acc:94.21 %  | \tValid Loss:0.0157 \tValid Acc: 81.22 %\n",
      "\n",
      "Validation loss decreased (0.016277 --> 0.015696).  Saving model ...\n",
      "\n",
      "[EPOCH:7]\t Train Loss:0.0088\t Train Acc:96.55 %  | \tValid Loss:0.0150 \tValid Acc: 79.19 %\n",
      "\n",
      "Validation loss decreased (0.015696 --> 0.014991).  Saving model ...\n",
      "\n",
      "[EPOCH:8]\t Train Loss:0.0070\t Train Acc:99.01 %  | \tValid Loss:0.0149 \tValid Acc: 79.70 %\n",
      "\n",
      "Validation loss decreased (0.014991 --> 0.014854).  Saving model ...\n",
      "\n",
      "[EPOCH:9]\t Train Loss:0.0064\t Train Acc:99.26 %  | \tValid Loss:0.0139 \tValid Acc: 81.22 %\n",
      "\n",
      "Validation loss decreased (0.014854 --> 0.013863).  Saving model ...\n",
      "\n",
      "[EPOCH:10]\t Train Loss:0.0058\t Train Acc:99.38 %  | \tValid Loss:0.0151 \tValid Acc: 81.22 %\n",
      "\n",
      "EarlyStopping counter: 1 out of 5\n",
      "\n",
      "[EPOCH:11]\t Train Loss:0.0053\t Train Acc:99.38 %  | \tValid Loss:0.0156 \tValid Acc: 80.20 %\n",
      "\n",
      "EarlyStopping counter: 2 out of 5\n",
      "\n",
      "[EPOCH:12]\t Train Loss:0.0048\t Train Acc:99.63 %  | \tValid Loss:0.0131 \tValid Acc: 83.76 %\n",
      "\n",
      "Validation loss decreased (0.013863 --> 0.013133).  Saving model ...\n",
      "\n",
      "[EPOCH:13]\t Train Loss:0.0045\t Train Acc:99.75 %  | \tValid Loss:0.0154 \tValid Acc: 80.20 %\n",
      "\n",
      "EarlyStopping counter: 1 out of 5\n",
      "\n",
      "[EPOCH:14]\t Train Loss:0.0041\t Train Acc:100.00 %  | \tValid Loss:0.0158 \tValid Acc: 82.74 %\n",
      "\n",
      "EarlyStopping counter: 2 out of 5\n",
      "\n",
      "[EPOCH:15]\t Train Loss:0.0039\t Train Acc:99.63 %  | \tValid Loss:0.0167 \tValid Acc: 81.22 %\n",
      "\n",
      "EarlyStopping counter: 3 out of 5\n",
      "\n",
      "[EPOCH:16]\t Train Loss:0.0035\t Train Acc:100.00 %  | \tValid Loss:0.0130 \tValid Acc: 84.26 %\n",
      "\n",
      "Validation loss decreased (0.013133 --> 0.013031).  Saving model ...\n",
      "\n",
      "[EPOCH:17]\t Train Loss:0.0030\t Train Acc:100.00 %  | \tValid Loss:0.0134 \tValid Acc: 84.26 %\n",
      "\n",
      "EarlyStopping counter: 1 out of 5\n",
      "\n",
      "[EPOCH:18]\t Train Loss:0.0031\t Train Acc:99.88 %  | \tValid Loss:0.0145 \tValid Acc: 83.25 %\n",
      "\n",
      "EarlyStopping counter: 2 out of 5\n",
      "\n",
      "[EPOCH:19]\t Train Loss:0.0028\t Train Acc:99.88 %  | \tValid Loss:0.0141 \tValid Acc: 83.25 %\n",
      "\n",
      "EarlyStopping counter: 3 out of 5\n",
      "\n",
      "[EPOCH:20]\t Train Loss:0.0029\t Train Acc:99.88 %  | \tValid Loss:0.0123 \tValid Acc: 82.74 %\n",
      "\n",
      "Validation loss decreased (0.013031 --> 0.012326).  Saving model ...\n",
      "\n",
      "[EPOCH:21]\t Train Loss:0.0027\t Train Acc:99.88 %  | \tValid Loss:0.0128 \tValid Acc: 85.79 %\n",
      "\n",
      "EarlyStopping counter: 1 out of 5\n",
      "\n",
      "[EPOCH:22]\t Train Loss:0.0028\t Train Acc:99.51 %  | \tValid Loss:0.0126 \tValid Acc: 82.23 %\n",
      "\n",
      "EarlyStopping counter: 2 out of 5\n",
      "\n",
      "[EPOCH:23]\t Train Loss:0.0023\t Train Acc:99.75 %  | \tValid Loss:0.0160 \tValid Acc: 81.73 %\n",
      "\n",
      "EarlyStopping counter: 3 out of 5\n",
      "\n",
      "[EPOCH:24]\t Train Loss:0.0021\t Train Acc:100.00 %  | \tValid Loss:0.0129 \tValid Acc: 82.23 %\n",
      "\n",
      "EarlyStopping counter: 4 out of 5\n",
      "\n",
      "[EPOCH:25]\t Train Loss:0.0019\t Train Acc:100.00 %  | \tValid Loss:0.0129 \tValid Acc: 83.25 %\n",
      "\n",
      "EarlyStopping counter: 5 out of 5\n",
      "[1 교차검증] Early stopping\n"
     ]
    },
    {
     "data": {
      "text/html": [
       "Waiting for W&B process to finish... <strong style=\"color:green\">(success).</strong>"
      ],
      "text/plain": [
       "<IPython.core.display.HTML object>"
      ]
     },
     "metadata": {},
     "output_type": "display_data"
    },
    {
     "data": {
      "application/vnd.jupyter.widget-view+json": {
       "model_id": "",
       "version_major": 2,
       "version_minor": 0
      },
      "text/plain": [
       "VBox(children=(Label(value='0.001 MB of 0.001 MB uploaded (0.000 MB deduped)\\r'), FloatProgress(value=1.0, max…"
      ]
     },
     "metadata": {},
     "output_type": "display_data"
    },
    {
     "data": {
      "text/html": [
       "<style>\n",
       "    table.wandb td:nth-child(1) { padding: 0 10px; text-align: left ; width: auto;} td:nth-child(2) {text-align: left ; width: 100%}\n",
       "    .wandb-row { display: flex; flex-direction: row; flex-wrap: wrap; justify-content: flex-start; width: 100% }\n",
       "    .wandb-col { display: flex; flex-direction: column; flex-basis: 100%; flex: 1; padding: 10px; }\n",
       "    </style>\n",
       "<div class=\"wandb-row\"><div class=\"wandb-col\"><h3>Run history:</h3><br/><table class=\"wandb\"><tr><td>Valid/Accuracy</td><td>▁▃▄▅▆▇▆▆▇▇▇████████▇▇▇▇▇▇</td></tr><tr><td>Valid/Loss</td><td>█▅▅▅▄▃▃▃▂▂▂▂▂▂▂▂▂▂▂▁▁▁▁▁▁</td></tr></table><br/></div><div class=\"wandb-col\"><h3>Run summary:</h3><br/><table class=\"wandb\"><tr><td>Valid/Accuracy</td><td>82.74112</td></tr><tr><td>Valid/Loss</td><td>0.01233</td></tr></table><br/></div></div>"
      ],
      "text/plain": [
       "<IPython.core.display.HTML object>"
      ]
     },
     "metadata": {},
     "output_type": "display_data"
    },
    {
     "data": {
      "text/html": [
       "Synced <strong style=\"color:#cdcd00\">ruby-sweep-6</strong>: <a href=\"https://wandb.ai/bub3690/SVD-hyp-sweep2/runs/pc9r1dj2\" target=\"_blank\">https://wandb.ai/bub3690/SVD-hyp-sweep2/runs/pc9r1dj2</a><br/>Synced 5 W&B file(s), 0 media file(s), 0 artifact file(s) and 0 other file(s)"
      ],
      "text/plain": [
       "<IPython.core.display.HTML object>"
      ]
     },
     "metadata": {},
     "output_type": "display_data"
    },
    {
     "data": {
      "text/html": [
       "Find logs at: <code>.\\wandb\\run-20220705_220324-pc9r1dj2\\logs</code>"
      ],
      "text/plain": [
       "<IPython.core.display.HTML object>"
      ]
     },
     "metadata": {},
     "output_type": "display_data"
    },
    {
     "name": "stderr",
     "output_type": "stream",
     "text": [
      "\u001b[34m\u001b[1mwandb\u001b[0m: Agent Starting Run: ugahjldc with config:\n",
      "\u001b[34m\u001b[1mwandb\u001b[0m: \tfold: 2\n",
      "\u001b[34m\u001b[1mwandb\u001b[0m: \tn_mels: 32\n",
      "\u001b[34m\u001b[1mwandb\u001b[0m: \u001b[33mWARNING\u001b[0m Ignored wandb.init() arg project when running a sweep.\n",
      "\u001b[34m\u001b[1mwandb\u001b[0m: \u001b[33mWARNING\u001b[0m Ignored wandb.init() arg entity when running a sweep.\n"
     ]
    },
    {
     "data": {
      "text/html": [
       "wandb version 0.12.20 is available!  To upgrade, please run:\n",
       " $ pip install wandb --upgrade"
      ],
      "text/plain": [
       "<IPython.core.display.HTML object>"
      ]
     },
     "metadata": {},
     "output_type": "display_data"
    },
    {
     "data": {
      "text/html": [
       "Tracking run with wandb version 0.12.16"
      ],
      "text/plain": [
       "<IPython.core.display.HTML object>"
      ]
     },
     "metadata": {},
     "output_type": "display_data"
    },
    {
     "data": {
      "text/html": [
       "Run data is saved locally in <code>D:\\project\\voice_pathology_ai\\model\\spectrogram\\ros\\wandb\\run-20220705_220810-ugahjldc</code>"
      ],
      "text/plain": [
       "<IPython.core.display.HTML object>"
      ]
     },
     "metadata": {},
     "output_type": "display_data"
    },
    {
     "data": {
      "text/html": [
       "Syncing run <strong><a href=\"https://wandb.ai/bub3690/SVD-hyp-sweep2/runs/ugahjldc\" target=\"_blank\">skilled-sweep-7</a></strong> to <a href=\"https://wandb.ai/bub3690/SVD-hyp-sweep2\" target=\"_blank\">Weights & Biases</a> (<a href=\"https://wandb.me/run\" target=\"_blank\">docs</a>)<br/>Sweep page:  <a href=\"https://wandb.ai/bub3690/SVD-hyp-sweep2/sweeps/na16x86y\" target=\"_blank\">https://wandb.ai/bub3690/SVD-hyp-sweep2/sweeps/na16x86y</a>"
      ],
      "text/plain": [
       "<IPython.core.display.HTML object>"
      ]
     },
     "metadata": {},
     "output_type": "display_data"
    },
    {
     "name": "stdout",
     "output_type": "stream",
     "text": [
      "../../checkpoint/checkpoint_melspectro_resnet18_true_ros_2_organics.pt\n",
      "config: {'sample_rate': 50000, 'n_fft': 1024, 'n_mels': 32, 'hop_length': 100, 'win_length': 400, 'f_max': 25000, 'batch_size': 32, 'fold': 2}\n",
      "[2 교차검증] 학습 시작\n",
      " ----- \n",
      "\n",
      "[EPOCH:1]\t Train Loss:0.0218\t Train Acc:58.00 %  | \tValid Loss:0.0214 \tValid Acc: 72.59 %\n",
      "\n",
      "Validation loss decreased (inf --> 0.021436).  Saving model ...\n",
      "\n",
      "[EPOCH:2]\t Train Loss:0.0170\t Train Acc:73.03 %  | \tValid Loss:0.0174 \tValid Acc: 80.71 %\n",
      "\n",
      "Validation loss decreased (0.021436 --> 0.017361).  Saving model ...\n",
      "\n",
      "[EPOCH:3]\t Train Loss:0.0137\t Train Acc:84.11 %  | \tValid Loss:0.0161 \tValid Acc: 85.79 %\n",
      "\n",
      "Validation loss decreased (0.017361 --> 0.016078).  Saving model ...\n",
      "\n",
      "[EPOCH:4]\t Train Loss:0.0120\t Train Acc:89.90 %  | \tValid Loss:0.0150 \tValid Acc: 84.77 %\n",
      "\n",
      "Validation loss decreased (0.016078 --> 0.015024).  Saving model ...\n",
      "\n",
      "[EPOCH:5]\t Train Loss:0.0100\t Train Acc:93.60 %  | \tValid Loss:0.0149 \tValid Acc: 83.25 %\n",
      "\n",
      "Validation loss decreased (0.015024 --> 0.014872).  Saving model ...\n",
      "\n",
      "[EPOCH:6]\t Train Loss:0.0089\t Train Acc:95.69 %  | \tValid Loss:0.0146 \tValid Acc: 83.76 %\n",
      "\n",
      "Validation loss decreased (0.014872 --> 0.014637).  Saving model ...\n",
      "\n",
      "[EPOCH:7]\t Train Loss:0.0074\t Train Acc:97.66 %  | \tValid Loss:0.0152 \tValid Acc: 83.76 %\n",
      "\n",
      "EarlyStopping counter: 1 out of 5\n",
      "\n",
      "[EPOCH:8]\t Train Loss:0.0072\t Train Acc:98.28 %  | \tValid Loss:0.0139 \tValid Acc: 85.28 %\n",
      "\n",
      "Validation loss decreased (0.014637 --> 0.013875).  Saving model ...\n",
      "\n",
      "[EPOCH:9]\t Train Loss:0.0065\t Train Acc:98.15 %  | \tValid Loss:0.0134 \tValid Acc: 83.76 %\n",
      "\n",
      "Validation loss decreased (0.013875 --> 0.013433).  Saving model ...\n",
      "\n",
      "[EPOCH:10]\t Train Loss:0.0053\t Train Acc:99.63 %  | \tValid Loss:0.0143 \tValid Acc: 83.25 %\n",
      "\n",
      "EarlyStopping counter: 1 out of 5\n",
      "\n",
      "[EPOCH:11]\t Train Loss:0.0053\t Train Acc:99.51 %  | \tValid Loss:0.0131 \tValid Acc: 84.26 %\n",
      "\n",
      "Validation loss decreased (0.013433 --> 0.013109).  Saving model ...\n",
      "\n",
      "[EPOCH:12]\t Train Loss:0.0048\t Train Acc:99.26 %  | \tValid Loss:0.0137 \tValid Acc: 85.28 %\n",
      "\n",
      "EarlyStopping counter: 1 out of 5\n",
      "\n",
      "[EPOCH:13]\t Train Loss:0.0045\t Train Acc:99.88 %  | \tValid Loss:0.0118 \tValid Acc: 84.26 %\n",
      "\n",
      "Validation loss decreased (0.013109 --> 0.011781).  Saving model ...\n",
      "\n",
      "[EPOCH:14]\t Train Loss:0.0041\t Train Acc:99.75 %  | \tValid Loss:0.0130 \tValid Acc: 85.28 %\n",
      "\n",
      "EarlyStopping counter: 1 out of 5\n",
      "\n",
      "[EPOCH:15]\t Train Loss:0.0040\t Train Acc:99.51 %  | \tValid Loss:0.0113 \tValid Acc: 84.77 %\n",
      "\n",
      "Validation loss decreased (0.011781 --> 0.011269).  Saving model ...\n",
      "\n",
      "[EPOCH:16]\t Train Loss:0.0036\t Train Acc:100.00 %  | \tValid Loss:0.0109 \tValid Acc: 86.29 %\n",
      "\n",
      "Validation loss decreased (0.011269 --> 0.010903).  Saving model ...\n",
      "\n",
      "[EPOCH:17]\t Train Loss:0.0034\t Train Acc:99.63 %  | \tValid Loss:0.0108 \tValid Acc: 86.80 %\n",
      "\n",
      "Validation loss decreased (0.010903 --> 0.010774).  Saving model ...\n",
      "\n",
      "[EPOCH:18]\t Train Loss:0.0029\t Train Acc:100.00 %  | \tValid Loss:0.0131 \tValid Acc: 84.26 %\n",
      "\n",
      "EarlyStopping counter: 1 out of 5\n",
      "\n",
      "[EPOCH:19]\t Train Loss:0.0031\t Train Acc:99.88 %  | \tValid Loss:0.0108 \tValid Acc: 85.28 %\n",
      "\n",
      "EarlyStopping counter: 2 out of 5\n",
      "\n",
      "[EPOCH:20]\t Train Loss:0.0025\t Train Acc:100.00 %  | \tValid Loss:0.0110 \tValid Acc: 84.26 %\n",
      "\n",
      "EarlyStopping counter: 3 out of 5\n",
      "\n",
      "[EPOCH:21]\t Train Loss:0.0026\t Train Acc:99.75 %  | \tValid Loss:0.0137 \tValid Acc: 84.26 %\n",
      "\n",
      "EarlyStopping counter: 4 out of 5\n",
      "\n",
      "[EPOCH:22]\t Train Loss:0.0027\t Train Acc:99.63 %  | \tValid Loss:0.0116 \tValid Acc: 85.28 %\n",
      "\n",
      "EarlyStopping counter: 5 out of 5\n",
      "[2 교차검증] Early stopping\n"
     ]
    },
    {
     "data": {
      "text/html": [
       "Waiting for W&B process to finish... <strong style=\"color:green\">(success).</strong>"
      ],
      "text/plain": [
       "<IPython.core.display.HTML object>"
      ]
     },
     "metadata": {},
     "output_type": "display_data"
    },
    {
     "data": {
      "application/vnd.jupyter.widget-view+json": {
       "model_id": "",
       "version_major": 2,
       "version_minor": 0
      },
      "text/plain": [
       "VBox(children=(Label(value='0.001 MB of 0.001 MB uploaded (0.000 MB deduped)\\r'), FloatProgress(value=1.0, max…"
      ]
     },
     "metadata": {},
     "output_type": "display_data"
    },
    {
     "data": {
      "text/html": [
       "<style>\n",
       "    table.wandb td:nth-child(1) { padding: 0 10px; text-align: left ; width: auto;} td:nth-child(2) {text-align: left ; width: 100%}\n",
       "    .wandb-row { display: flex; flex-direction: row; flex-wrap: wrap; justify-content: flex-start; width: 100% }\n",
       "    .wandb-col { display: flex; flex-direction: column; flex-basis: 100%; flex: 1; padding: 10px; }\n",
       "    </style>\n",
       "<div class=\"wandb-row\"><div class=\"wandb-col\"><h3>Run history:</h3><br/><table class=\"wandb\"><tr><td>Valid/Accuracy</td><td>▁▅█▇▆▇▇▇▇▇▇▇▇▇▇███████</td></tr><tr><td>Valid/Loss</td><td>█▅▄▄▄▄▄▃▃▃▃▃▂▂▁▁▁▁▁▁▁▁</td></tr></table><br/></div><div class=\"wandb-col\"><h3>Run summary:</h3><br/><table class=\"wandb\"><tr><td>Valid/Accuracy</td><td>86.80203</td></tr><tr><td>Valid/Loss</td><td>0.01077</td></tr></table><br/></div></div>"
      ],
      "text/plain": [
       "<IPython.core.display.HTML object>"
      ]
     },
     "metadata": {},
     "output_type": "display_data"
    },
    {
     "data": {
      "text/html": [
       "Synced <strong style=\"color:#cdcd00\">skilled-sweep-7</strong>: <a href=\"https://wandb.ai/bub3690/SVD-hyp-sweep2/runs/ugahjldc\" target=\"_blank\">https://wandb.ai/bub3690/SVD-hyp-sweep2/runs/ugahjldc</a><br/>Synced 5 W&B file(s), 0 media file(s), 0 artifact file(s) and 0 other file(s)"
      ],
      "text/plain": [
       "<IPython.core.display.HTML object>"
      ]
     },
     "metadata": {},
     "output_type": "display_data"
    },
    {
     "data": {
      "text/html": [
       "Find logs at: <code>.\\wandb\\run-20220705_220810-ugahjldc\\logs</code>"
      ],
      "text/plain": [
       "<IPython.core.display.HTML object>"
      ]
     },
     "metadata": {},
     "output_type": "display_data"
    },
    {
     "name": "stderr",
     "output_type": "stream",
     "text": [
      "\u001b[34m\u001b[1mwandb\u001b[0m: Agent Starting Run: hzgzq0di with config:\n",
      "\u001b[34m\u001b[1mwandb\u001b[0m: \tfold: 2\n",
      "\u001b[34m\u001b[1mwandb\u001b[0m: \tn_mels: 64\n",
      "\u001b[34m\u001b[1mwandb\u001b[0m: \u001b[33mWARNING\u001b[0m Ignored wandb.init() arg project when running a sweep.\n",
      "\u001b[34m\u001b[1mwandb\u001b[0m: \u001b[33mWARNING\u001b[0m Ignored wandb.init() arg entity when running a sweep.\n"
     ]
    },
    {
     "data": {
      "text/html": [
       "wandb version 0.12.20 is available!  To upgrade, please run:\n",
       " $ pip install wandb --upgrade"
      ],
      "text/plain": [
       "<IPython.core.display.HTML object>"
      ]
     },
     "metadata": {},
     "output_type": "display_data"
    },
    {
     "data": {
      "text/html": [
       "Tracking run with wandb version 0.12.16"
      ],
      "text/plain": [
       "<IPython.core.display.HTML object>"
      ]
     },
     "metadata": {},
     "output_type": "display_data"
    },
    {
     "data": {
      "text/html": [
       "Run data is saved locally in <code>D:\\project\\voice_pathology_ai\\model\\spectrogram\\ros\\wandb\\run-20220705_221108-hzgzq0di</code>"
      ],
      "text/plain": [
       "<IPython.core.display.HTML object>"
      ]
     },
     "metadata": {},
     "output_type": "display_data"
    },
    {
     "data": {
      "text/html": [
       "Syncing run <strong><a href=\"https://wandb.ai/bub3690/SVD-hyp-sweep2/runs/hzgzq0di\" target=\"_blank\">peach-sweep-8</a></strong> to <a href=\"https://wandb.ai/bub3690/SVD-hyp-sweep2\" target=\"_blank\">Weights & Biases</a> (<a href=\"https://wandb.me/run\" target=\"_blank\">docs</a>)<br/>Sweep page:  <a href=\"https://wandb.ai/bub3690/SVD-hyp-sweep2/sweeps/na16x86y\" target=\"_blank\">https://wandb.ai/bub3690/SVD-hyp-sweep2/sweeps/na16x86y</a>"
      ],
      "text/plain": [
       "<IPython.core.display.HTML object>"
      ]
     },
     "metadata": {},
     "output_type": "display_data"
    },
    {
     "name": "stdout",
     "output_type": "stream",
     "text": [
      "../../checkpoint/checkpoint_melspectro_resnet18_true_ros_2_organics.pt\n",
      "config: {'sample_rate': 50000, 'n_fft': 1024, 'n_mels': 64, 'hop_length': 100, 'win_length': 400, 'f_max': 25000, 'batch_size': 32, 'fold': 2}\n",
      "[2 교차검증] 학습 시작\n",
      " ----- \n",
      "\n",
      "[EPOCH:1]\t Train Loss:0.0205\t Train Acc:63.55 %  | \tValid Loss:0.0183 \tValid Acc: 73.60 %\n",
      "\n",
      "Validation loss decreased (inf --> 0.018260).  Saving model ...\n",
      "\n",
      "[EPOCH:2]\t Train Loss:0.0152\t Train Acc:77.59 %  | \tValid Loss:0.0158 \tValid Acc: 82.23 %\n",
      "\n",
      "Validation loss decreased (0.018260 --> 0.015792).  Saving model ...\n",
      "\n",
      "[EPOCH:3]\t Train Loss:0.0120\t Train Acc:85.59 %  | \tValid Loss:0.0144 \tValid Acc: 85.79 %\n",
      "\n",
      "Validation loss decreased (0.015792 --> 0.014396).  Saving model ...\n",
      "\n",
      "[EPOCH:4]\t Train Loss:0.0099\t Train Acc:92.73 %  | \tValid Loss:0.0134 \tValid Acc: 83.76 %\n",
      "\n",
      "Validation loss decreased (0.014396 --> 0.013403).  Saving model ...\n",
      "\n",
      "[EPOCH:5]\t Train Loss:0.0082\t Train Acc:96.67 %  | \tValid Loss:0.0150 \tValid Acc: 85.79 %\n",
      "\n",
      "EarlyStopping counter: 1 out of 5\n",
      "\n",
      "[EPOCH:6]\t Train Loss:0.0072\t Train Acc:98.28 %  | \tValid Loss:0.0131 \tValid Acc: 85.79 %\n",
      "\n",
      "Validation loss decreased (0.013403 --> 0.013078).  Saving model ...\n",
      "\n",
      "[EPOCH:7]\t Train Loss:0.0065\t Train Acc:98.40 %  | \tValid Loss:0.0121 \tValid Acc: 87.82 %\n",
      "\n",
      "Validation loss decreased (0.013078 --> 0.012149).  Saving model ...\n",
      "\n",
      "[EPOCH:8]\t Train Loss:0.0052\t Train Acc:99.51 %  | \tValid Loss:0.0140 \tValid Acc: 83.25 %\n",
      "\n",
      "EarlyStopping counter: 1 out of 5\n",
      "\n",
      "[EPOCH:9]\t Train Loss:0.0054\t Train Acc:99.26 %  | \tValid Loss:0.0136 \tValid Acc: 86.29 %\n",
      "\n",
      "EarlyStopping counter: 2 out of 5\n",
      "\n",
      "[EPOCH:10]\t Train Loss:0.0049\t Train Acc:99.01 %  | \tValid Loss:0.0117 \tValid Acc: 85.28 %\n",
      "\n",
      "Validation loss decreased (0.012149 --> 0.011673).  Saving model ...\n",
      "\n",
      "[EPOCH:11]\t Train Loss:0.0044\t Train Acc:99.14 %  | \tValid Loss:0.0114 \tValid Acc: 86.29 %\n",
      "\n",
      "Validation loss decreased (0.011673 --> 0.011368).  Saving model ...\n",
      "\n",
      "[EPOCH:12]\t Train Loss:0.0037\t Train Acc:99.88 %  | \tValid Loss:0.0147 \tValid Acc: 82.23 %\n",
      "\n",
      "EarlyStopping counter: 1 out of 5\n",
      "\n",
      "[EPOCH:13]\t Train Loss:0.0035\t Train Acc:99.88 %  | \tValid Loss:0.0119 \tValid Acc: 85.28 %\n",
      "\n",
      "EarlyStopping counter: 2 out of 5\n",
      "\n",
      "[EPOCH:14]\t Train Loss:0.0035\t Train Acc:99.51 %  | \tValid Loss:0.0137 \tValid Acc: 85.28 %\n",
      "\n",
      "EarlyStopping counter: 3 out of 5\n",
      "\n",
      "[EPOCH:15]\t Train Loss:0.0031\t Train Acc:99.63 %  | \tValid Loss:0.0108 \tValid Acc: 85.28 %\n",
      "\n",
      "Validation loss decreased (0.011368 --> 0.010819).  Saving model ...\n",
      "\n",
      "[EPOCH:16]\t Train Loss:0.0031\t Train Acc:99.88 %  | \tValid Loss:0.0146 \tValid Acc: 83.76 %\n",
      "\n",
      "EarlyStopping counter: 1 out of 5\n",
      "\n",
      "[EPOCH:17]\t Train Loss:0.0027\t Train Acc:99.88 %  | \tValid Loss:0.0105 \tValid Acc: 86.29 %\n",
      "\n",
      "Validation loss decreased (0.010819 --> 0.010496).  Saving model ...\n",
      "\n",
      "[EPOCH:18]\t Train Loss:0.0030\t Train Acc:99.51 %  | \tValid Loss:0.0104 \tValid Acc: 87.31 %\n",
      "\n",
      "Validation loss decreased (0.010496 --> 0.010440).  Saving model ...\n",
      "\n",
      "[EPOCH:19]\t Train Loss:0.0025\t Train Acc:99.75 %  | \tValid Loss:0.0126 \tValid Acc: 85.28 %\n",
      "\n",
      "EarlyStopping counter: 1 out of 5\n",
      "\n",
      "[EPOCH:20]\t Train Loss:0.0022\t Train Acc:99.88 %  | \tValid Loss:0.0119 \tValid Acc: 85.28 %\n",
      "\n",
      "EarlyStopping counter: 2 out of 5\n",
      "\n",
      "[EPOCH:21]\t Train Loss:0.0021\t Train Acc:100.00 %  | \tValid Loss:0.0100 \tValid Acc: 84.77 %\n",
      "\n",
      "Validation loss decreased (0.010440 --> 0.009957).  Saving model ...\n",
      "\n",
      "[EPOCH:22]\t Train Loss:0.0021\t Train Acc:99.88 %  | \tValid Loss:0.0113 \tValid Acc: 84.77 %\n",
      "\n",
      "EarlyStopping counter: 1 out of 5\n",
      "\n",
      "[EPOCH:23]\t Train Loss:0.0017\t Train Acc:100.00 %  | \tValid Loss:0.0099 \tValid Acc: 86.29 %\n",
      "\n",
      "Validation loss decreased (0.009957 --> 0.009922).  Saving model ...\n",
      "\n",
      "[EPOCH:24]\t Train Loss:0.0019\t Train Acc:100.00 %  | \tValid Loss:0.0103 \tValid Acc: 86.80 %\n",
      "\n",
      "EarlyStopping counter: 1 out of 5\n",
      "\n",
      "[EPOCH:25]\t Train Loss:0.0020\t Train Acc:100.00 %  | \tValid Loss:0.0119 \tValid Acc: 85.28 %\n",
      "\n",
      "EarlyStopping counter: 2 out of 5\n",
      "\n",
      "[EPOCH:26]\t Train Loss:0.0017\t Train Acc:99.63 %  | \tValid Loss:0.0107 \tValid Acc: 86.80 %\n",
      "\n",
      "EarlyStopping counter: 3 out of 5\n",
      "\n",
      "[EPOCH:27]\t Train Loss:0.0016\t Train Acc:100.00 %  | \tValid Loss:0.0119 \tValid Acc: 87.82 %\n",
      "\n",
      "EarlyStopping counter: 4 out of 5\n",
      "\n",
      "[EPOCH:28]\t Train Loss:0.0018\t Train Acc:99.88 %  | \tValid Loss:0.0139 \tValid Acc: 86.29 %\n",
      "\n",
      "EarlyStopping counter: 5 out of 5\n",
      "[2 교차검증] Early stopping\n"
     ]
    },
    {
     "data": {
      "text/html": [
       "Waiting for W&B process to finish... <strong style=\"color:green\">(success).</strong>"
      ],
      "text/plain": [
       "<IPython.core.display.HTML object>"
      ]
     },
     "metadata": {},
     "output_type": "display_data"
    },
    {
     "data": {
      "application/vnd.jupyter.widget-view+json": {
       "model_id": "",
       "version_major": 2,
       "version_minor": 0
      },
      "text/plain": [
       "VBox(children=(Label(value='0.001 MB of 0.001 MB uploaded (0.000 MB deduped)\\r'), FloatProgress(value=1.0, max…"
      ]
     },
     "metadata": {},
     "output_type": "display_data"
    },
    {
     "data": {
      "text/html": [
       "<style>\n",
       "    table.wandb td:nth-child(1) { padding: 0 10px; text-align: left ; width: auto;} td:nth-child(2) {text-align: left ; width: 100%}\n",
       "    .wandb-row { display: flex; flex-direction: row; flex-wrap: wrap; justify-content: flex-start; width: 100% }\n",
       "    .wandb-col { display: flex; flex-direction: column; flex-basis: 100%; flex: 1; padding: 10px; }\n",
       "    </style>\n",
       "<div class=\"wandb-row\"><div class=\"wandb-col\"><h3>Run history:</h3><br/><table class=\"wandb\"><tr><td>Valid/Accuracy</td><td>▁▅▇▆▆▇███▇▇▇▇▇▇▇▇███▇▇▇▇▇▇▇▇</td></tr><tr><td>Valid/Loss</td><td>█▆▅▄▄▄▃▃▃▂▂▂▂▂▂▂▁▁▁▁▁▁▁▁▁▁▁▁</td></tr></table><br/></div><div class=\"wandb-col\"><h3>Run summary:</h3><br/><table class=\"wandb\"><tr><td>Valid/Accuracy</td><td>86.29442</td></tr><tr><td>Valid/Loss</td><td>0.00992</td></tr></table><br/></div></div>"
      ],
      "text/plain": [
       "<IPython.core.display.HTML object>"
      ]
     },
     "metadata": {},
     "output_type": "display_data"
    },
    {
     "data": {
      "text/html": [
       "Synced <strong style=\"color:#cdcd00\">peach-sweep-8</strong>: <a href=\"https://wandb.ai/bub3690/SVD-hyp-sweep2/runs/hzgzq0di\" target=\"_blank\">https://wandb.ai/bub3690/SVD-hyp-sweep2/runs/hzgzq0di</a><br/>Synced 5 W&B file(s), 0 media file(s), 0 artifact file(s) and 0 other file(s)"
      ],
      "text/plain": [
       "<IPython.core.display.HTML object>"
      ]
     },
     "metadata": {},
     "output_type": "display_data"
    },
    {
     "data": {
      "text/html": [
       "Find logs at: <code>.\\wandb\\run-20220705_221108-hzgzq0di\\logs</code>"
      ],
      "text/plain": [
       "<IPython.core.display.HTML object>"
      ]
     },
     "metadata": {},
     "output_type": "display_data"
    },
    {
     "name": "stderr",
     "output_type": "stream",
     "text": [
      "\u001b[34m\u001b[1mwandb\u001b[0m: Agent Starting Run: qsyhjlqz with config:\n",
      "\u001b[34m\u001b[1mwandb\u001b[0m: \tfold: 2\n",
      "\u001b[34m\u001b[1mwandb\u001b[0m: \tn_mels: 96\n",
      "\u001b[34m\u001b[1mwandb\u001b[0m: \u001b[33mWARNING\u001b[0m Ignored wandb.init() arg project when running a sweep.\n",
      "\u001b[34m\u001b[1mwandb\u001b[0m: \u001b[33mWARNING\u001b[0m Ignored wandb.init() arg entity when running a sweep.\n"
     ]
    },
    {
     "data": {
      "text/html": [
       "wandb version 0.12.20 is available!  To upgrade, please run:\n",
       " $ pip install wandb --upgrade"
      ],
      "text/plain": [
       "<IPython.core.display.HTML object>"
      ]
     },
     "metadata": {},
     "output_type": "display_data"
    },
    {
     "data": {
      "text/html": [
       "Tracking run with wandb version 0.12.16"
      ],
      "text/plain": [
       "<IPython.core.display.HTML object>"
      ]
     },
     "metadata": {},
     "output_type": "display_data"
    },
    {
     "data": {
      "text/html": [
       "Run data is saved locally in <code>D:\\project\\voice_pathology_ai\\model\\spectrogram\\ros\\wandb\\run-20220705_221503-qsyhjlqz</code>"
      ],
      "text/plain": [
       "<IPython.core.display.HTML object>"
      ]
     },
     "metadata": {},
     "output_type": "display_data"
    },
    {
     "data": {
      "text/html": [
       "Syncing run <strong><a href=\"https://wandb.ai/bub3690/SVD-hyp-sweep2/runs/qsyhjlqz\" target=\"_blank\">fanciful-sweep-9</a></strong> to <a href=\"https://wandb.ai/bub3690/SVD-hyp-sweep2\" target=\"_blank\">Weights & Biases</a> (<a href=\"https://wandb.me/run\" target=\"_blank\">docs</a>)<br/>Sweep page:  <a href=\"https://wandb.ai/bub3690/SVD-hyp-sweep2/sweeps/na16x86y\" target=\"_blank\">https://wandb.ai/bub3690/SVD-hyp-sweep2/sweeps/na16x86y</a>"
      ],
      "text/plain": [
       "<IPython.core.display.HTML object>"
      ]
     },
     "metadata": {},
     "output_type": "display_data"
    },
    {
     "name": "stdout",
     "output_type": "stream",
     "text": [
      "../../checkpoint/checkpoint_melspectro_resnet18_true_ros_2_organics.pt\n",
      "config: {'sample_rate': 50000, 'n_fft': 1024, 'n_mels': 96, 'hop_length': 100, 'win_length': 400, 'f_max': 25000, 'batch_size': 32, 'fold': 2}\n",
      "[2 교차검증] 학습 시작\n",
      " ----- \n",
      "\n",
      "[EPOCH:1]\t Train Loss:0.0211\t Train Acc:61.95 %  | \tValid Loss:0.0205 \tValid Acc: 71.07 %\n",
      "\n",
      "Validation loss decreased (inf --> 0.020512).  Saving model ...\n",
      "\n",
      "[EPOCH:2]\t Train Loss:0.0161\t Train Acc:76.35 %  | \tValid Loss:0.0163 \tValid Acc: 76.65 %\n",
      "\n",
      "Validation loss decreased (0.020512 --> 0.016304).  Saving model ...\n",
      "\n",
      "[EPOCH:3]\t Train Loss:0.0137\t Train Acc:83.13 %  | \tValid Loss:0.0162 \tValid Acc: 80.20 %\n",
      "\n",
      "Validation loss decreased (0.016304 --> 0.016187).  Saving model ...\n",
      "\n",
      "[EPOCH:4]\t Train Loss:0.0117\t Train Acc:90.15 %  | \tValid Loss:0.0151 \tValid Acc: 83.25 %\n",
      "\n",
      "Validation loss decreased (0.016187 --> 0.015084).  Saving model ...\n",
      "\n",
      "[EPOCH:5]\t Train Loss:0.0100\t Train Acc:93.84 %  | \tValid Loss:0.0142 \tValid Acc: 85.28 %\n",
      "\n",
      "Validation loss decreased (0.015084 --> 0.014169).  Saving model ...\n",
      "\n",
      "[EPOCH:6]\t Train Loss:0.0085\t Train Acc:97.41 %  | \tValid Loss:0.0141 \tValid Acc: 85.28 %\n",
      "\n",
      "Validation loss decreased (0.014169 --> 0.014105).  Saving model ...\n",
      "\n",
      "[EPOCH:7]\t Train Loss:0.0077\t Train Acc:98.03 %  | \tValid Loss:0.0138 \tValid Acc: 82.74 %\n",
      "\n",
      "Validation loss decreased (0.014105 --> 0.013815).  Saving model ...\n",
      "\n",
      "[EPOCH:8]\t Train Loss:0.0066\t Train Acc:98.77 %  | \tValid Loss:0.0121 \tValid Acc: 84.77 %\n",
      "\n",
      "Validation loss decreased (0.013815 --> 0.012104).  Saving model ...\n",
      "\n",
      "[EPOCH:9]\t Train Loss:0.0058\t Train Acc:99.75 %  | \tValid Loss:0.0137 \tValid Acc: 87.82 %\n",
      "\n",
      "EarlyStopping counter: 1 out of 5\n",
      "\n",
      "[EPOCH:10]\t Train Loss:0.0054\t Train Acc:99.63 %  | \tValid Loss:0.0132 \tValid Acc: 85.28 %\n",
      "\n",
      "EarlyStopping counter: 2 out of 5\n",
      "\n",
      "[EPOCH:11]\t Train Loss:0.0048\t Train Acc:99.75 %  | \tValid Loss:0.0124 \tValid Acc: 84.77 %\n",
      "\n",
      "EarlyStopping counter: 3 out of 5\n",
      "\n",
      "[EPOCH:12]\t Train Loss:0.0045\t Train Acc:99.75 %  | \tValid Loss:0.0108 \tValid Acc: 85.79 %\n",
      "\n",
      "Validation loss decreased (0.012104 --> 0.010810).  Saving model ...\n",
      "\n",
      "[EPOCH:13]\t Train Loss:0.0042\t Train Acc:100.00 %  | \tValid Loss:0.0134 \tValid Acc: 85.28 %\n",
      "\n",
      "EarlyStopping counter: 1 out of 5\n",
      "\n",
      "[EPOCH:14]\t Train Loss:0.0040\t Train Acc:99.88 %  | \tValid Loss:0.0122 \tValid Acc: 86.29 %\n",
      "\n",
      "EarlyStopping counter: 2 out of 5\n",
      "\n",
      "[EPOCH:15]\t Train Loss:0.0034\t Train Acc:99.75 %  | \tValid Loss:0.0120 \tValid Acc: 85.79 %\n",
      "\n",
      "EarlyStopping counter: 3 out of 5\n",
      "\n",
      "[EPOCH:16]\t Train Loss:0.0031\t Train Acc:100.00 %  | \tValid Loss:0.0110 \tValid Acc: 84.77 %\n",
      "\n",
      "EarlyStopping counter: 4 out of 5\n",
      "\n",
      "[EPOCH:17]\t Train Loss:0.0029\t Train Acc:99.88 %  | \tValid Loss:0.0126 \tValid Acc: 85.79 %\n",
      "\n",
      "EarlyStopping counter: 5 out of 5\n",
      "[2 교차검증] Early stopping\n"
     ]
    },
    {
     "data": {
      "text/html": [
       "Waiting for W&B process to finish... <strong style=\"color:green\">(success).</strong>"
      ],
      "text/plain": [
       "<IPython.core.display.HTML object>"
      ]
     },
     "metadata": {},
     "output_type": "display_data"
    },
    {
     "data": {
      "application/vnd.jupyter.widget-view+json": {
       "model_id": "",
       "version_major": 2,
       "version_minor": 0
      },
      "text/plain": [
       "VBox(children=(Label(value='0.001 MB of 0.001 MB uploaded (0.000 MB deduped)\\r'), FloatProgress(value=1.0, max…"
      ]
     },
     "metadata": {},
     "output_type": "display_data"
    },
    {
     "data": {
      "text/html": [
       "<style>\n",
       "    table.wandb td:nth-child(1) { padding: 0 10px; text-align: left ; width: auto;} td:nth-child(2) {text-align: left ; width: 100%}\n",
       "    .wandb-row { display: flex; flex-direction: row; flex-wrap: wrap; justify-content: flex-start; width: 100% }\n",
       "    .wandb-col { display: flex; flex-direction: column; flex-basis: 100%; flex: 1; padding: 10px; }\n",
       "    </style>\n",
       "<div class=\"wandb-row\"><div class=\"wandb-col\"><h3>Run history:</h3><br/><table class=\"wandb\"><tr><td>Valid/Accuracy</td><td>▁▄▅▇██▇██████████</td></tr><tr><td>Valid/Loss</td><td>█▅▅▄▃▃▃▂▂▂▂▁▁▁▁▁▁</td></tr></table><br/></div><div class=\"wandb-col\"><h3>Run summary:</h3><br/><table class=\"wandb\"><tr><td>Valid/Accuracy</td><td>85.7868</td></tr><tr><td>Valid/Loss</td><td>0.01081</td></tr></table><br/></div></div>"
      ],
      "text/plain": [
       "<IPython.core.display.HTML object>"
      ]
     },
     "metadata": {},
     "output_type": "display_data"
    },
    {
     "data": {
      "text/html": [
       "Synced <strong style=\"color:#cdcd00\">fanciful-sweep-9</strong>: <a href=\"https://wandb.ai/bub3690/SVD-hyp-sweep2/runs/qsyhjlqz\" target=\"_blank\">https://wandb.ai/bub3690/SVD-hyp-sweep2/runs/qsyhjlqz</a><br/>Synced 5 W&B file(s), 0 media file(s), 0 artifact file(s) and 0 other file(s)"
      ],
      "text/plain": [
       "<IPython.core.display.HTML object>"
      ]
     },
     "metadata": {},
     "output_type": "display_data"
    },
    {
     "data": {
      "text/html": [
       "Find logs at: <code>.\\wandb\\run-20220705_221503-qsyhjlqz\\logs</code>"
      ],
      "text/plain": [
       "<IPython.core.display.HTML object>"
      ]
     },
     "metadata": {},
     "output_type": "display_data"
    },
    {
     "name": "stderr",
     "output_type": "stream",
     "text": [
      "\u001b[34m\u001b[1mwandb\u001b[0m: Sweep Agent: Waiting for job.\n",
      "\u001b[34m\u001b[1mwandb\u001b[0m: Job received.\n",
      "\u001b[34m\u001b[1mwandb\u001b[0m: Agent Starting Run: yrs25at0 with config:\n",
      "\u001b[34m\u001b[1mwandb\u001b[0m: \tfold: 2\n",
      "\u001b[34m\u001b[1mwandb\u001b[0m: \tn_mels: 128\n",
      "\u001b[34m\u001b[1mwandb\u001b[0m: \u001b[33mWARNING\u001b[0m Ignored wandb.init() arg project when running a sweep.\n",
      "\u001b[34m\u001b[1mwandb\u001b[0m: \u001b[33mWARNING\u001b[0m Ignored wandb.init() arg entity when running a sweep.\n"
     ]
    },
    {
     "data": {
      "text/html": [
       "wandb version 0.12.20 is available!  To upgrade, please run:\n",
       " $ pip install wandb --upgrade"
      ],
      "text/plain": [
       "<IPython.core.display.HTML object>"
      ]
     },
     "metadata": {},
     "output_type": "display_data"
    },
    {
     "data": {
      "text/html": [
       "Tracking run with wandb version 0.12.16"
      ],
      "text/plain": [
       "<IPython.core.display.HTML object>"
      ]
     },
     "metadata": {},
     "output_type": "display_data"
    },
    {
     "data": {
      "text/html": [
       "Run data is saved locally in <code>D:\\project\\voice_pathology_ai\\model\\spectrogram\\ros\\wandb\\run-20220705_221741-yrs25at0</code>"
      ],
      "text/plain": [
       "<IPython.core.display.HTML object>"
      ]
     },
     "metadata": {},
     "output_type": "display_data"
    },
    {
     "data": {
      "text/html": [
       "Syncing run <strong><a href=\"https://wandb.ai/bub3690/SVD-hyp-sweep2/runs/yrs25at0\" target=\"_blank\">fiery-sweep-10</a></strong> to <a href=\"https://wandb.ai/bub3690/SVD-hyp-sweep2\" target=\"_blank\">Weights & Biases</a> (<a href=\"https://wandb.me/run\" target=\"_blank\">docs</a>)<br/>Sweep page:  <a href=\"https://wandb.ai/bub3690/SVD-hyp-sweep2/sweeps/na16x86y\" target=\"_blank\">https://wandb.ai/bub3690/SVD-hyp-sweep2/sweeps/na16x86y</a>"
      ],
      "text/plain": [
       "<IPython.core.display.HTML object>"
      ]
     },
     "metadata": {},
     "output_type": "display_data"
    },
    {
     "name": "stdout",
     "output_type": "stream",
     "text": [
      "../../checkpoint/checkpoint_melspectro_resnet18_true_ros_2_organics.pt\n",
      "config: {'sample_rate': 50000, 'n_fft': 1024, 'n_mels': 128, 'hop_length': 100, 'win_length': 400, 'f_max': 25000, 'batch_size': 32, 'fold': 2}\n",
      "[2 교차검증] 학습 시작\n",
      " ----- \n",
      "\n",
      "[EPOCH:1]\t Train Loss:0.0220\t Train Acc:57.27 %  | \tValid Loss:0.0206 \tValid Acc: 75.63 %\n",
      "\n",
      "Validation loss decreased (inf --> 0.020628).  Saving model ...\n",
      "\n",
      "[EPOCH:2]\t Train Loss:0.0173\t Train Acc:73.77 %  | \tValid Loss:0.0185 \tValid Acc: 78.17 %\n",
      "\n",
      "Validation loss decreased (0.020628 --> 0.018491).  Saving model ...\n",
      "\n",
      "[EPOCH:3]\t Train Loss:0.0158\t Train Acc:78.94 %  | \tValid Loss:0.0171 \tValid Acc: 83.25 %\n",
      "\n",
      "Validation loss decreased (0.018491 --> 0.017094).  Saving model ...\n",
      "\n",
      "[EPOCH:4]\t Train Loss:0.0140\t Train Acc:84.85 %  | \tValid Loss:0.0161 \tValid Acc: 85.28 %\n",
      "\n",
      "Validation loss decreased (0.017094 --> 0.016147).  Saving model ...\n",
      "\n",
      "[EPOCH:5]\t Train Loss:0.0125\t Train Acc:91.38 %  | \tValid Loss:0.0164 \tValid Acc: 88.32 %\n",
      "\n",
      "EarlyStopping counter: 1 out of 5\n",
      "\n",
      "[EPOCH:6]\t Train Loss:0.0110\t Train Acc:93.97 %  | \tValid Loss:0.0155 \tValid Acc: 85.79 %\n",
      "\n",
      "Validation loss decreased (0.016147 --> 0.015548).  Saving model ...\n",
      "\n",
      "[EPOCH:7]\t Train Loss:0.0095\t Train Acc:96.18 %  | \tValid Loss:0.0146 \tValid Acc: 85.79 %\n",
      "\n",
      "Validation loss decreased (0.015548 --> 0.014610).  Saving model ...\n",
      "\n",
      "[EPOCH:8]\t Train Loss:0.0081\t Train Acc:98.65 %  | \tValid Loss:0.0155 \tValid Acc: 83.76 %\n",
      "\n",
      "EarlyStopping counter: 1 out of 5\n",
      "\n",
      "[EPOCH:9]\t Train Loss:0.0072\t Train Acc:99.14 %  | \tValid Loss:0.0134 \tValid Acc: 83.25 %\n",
      "\n",
      "Validation loss decreased (0.014610 --> 0.013389).  Saving model ...\n",
      "\n",
      "[EPOCH:10]\t Train Loss:0.0064\t Train Acc:99.88 %  | \tValid Loss:0.0147 \tValid Acc: 84.77 %\n",
      "\n",
      "EarlyStopping counter: 1 out of 5\n",
      "\n",
      "[EPOCH:11]\t Train Loss:0.0058\t Train Acc:99.38 %  | \tValid Loss:0.0132 \tValid Acc: 85.28 %\n",
      "\n",
      "Validation loss decreased (0.013389 --> 0.013177).  Saving model ...\n",
      "\n",
      "[EPOCH:12]\t Train Loss:0.0050\t Train Acc:99.88 %  | \tValid Loss:0.0126 \tValid Acc: 84.26 %\n",
      "\n",
      "Validation loss decreased (0.013177 --> 0.012551).  Saving model ...\n",
      "\n",
      "[EPOCH:13]\t Train Loss:0.0053\t Train Acc:100.00 %  | \tValid Loss:0.0123 \tValid Acc: 88.83 %\n",
      "\n",
      "Validation loss decreased (0.012551 --> 0.012275).  Saving model ...\n",
      "\n",
      "[EPOCH:14]\t Train Loss:0.0045\t Train Acc:99.75 %  | \tValid Loss:0.0127 \tValid Acc: 84.26 %\n",
      "\n",
      "EarlyStopping counter: 1 out of 5\n",
      "\n",
      "[EPOCH:15]\t Train Loss:0.0040\t Train Acc:99.75 %  | \tValid Loss:0.0128 \tValid Acc: 84.77 %\n",
      "\n",
      "EarlyStopping counter: 2 out of 5\n",
      "\n",
      "[EPOCH:16]\t Train Loss:0.0038\t Train Acc:100.00 %  | \tValid Loss:0.0117 \tValid Acc: 88.32 %\n",
      "\n",
      "Validation loss decreased (0.012275 --> 0.011720).  Saving model ...\n",
      "\n",
      "[EPOCH:17]\t Train Loss:0.0036\t Train Acc:100.00 %  | \tValid Loss:0.0126 \tValid Acc: 83.76 %\n",
      "\n",
      "EarlyStopping counter: 1 out of 5\n",
      "\n",
      "[EPOCH:18]\t Train Loss:0.0033\t Train Acc:100.00 %  | \tValid Loss:0.0114 \tValid Acc: 88.32 %\n",
      "\n",
      "Validation loss decreased (0.011720 --> 0.011386).  Saving model ...\n",
      "\n",
      "[EPOCH:19]\t Train Loss:0.0031\t Train Acc:99.88 %  | \tValid Loss:0.0145 \tValid Acc: 86.80 %\n",
      "\n",
      "EarlyStopping counter: 1 out of 5\n",
      "\n",
      "[EPOCH:20]\t Train Loss:0.0028\t Train Acc:100.00 %  | \tValid Loss:0.0132 \tValid Acc: 85.28 %\n",
      "\n",
      "EarlyStopping counter: 2 out of 5\n",
      "\n",
      "[EPOCH:21]\t Train Loss:0.0027\t Train Acc:100.00 %  | \tValid Loss:0.0107 \tValid Acc: 86.80 %\n",
      "\n",
      "Validation loss decreased (0.011386 --> 0.010659).  Saving model ...\n",
      "\n",
      "[EPOCH:22]\t Train Loss:0.0026\t Train Acc:100.00 %  | \tValid Loss:0.0137 \tValid Acc: 80.71 %\n",
      "\n",
      "EarlyStopping counter: 1 out of 5\n"
     ]
    }
   ],
   "source": [
    "wandb.agent(sweep_id, function=all_train)"
   ]
  },
  {
   "cell_type": "markdown",
   "id": "d969079c",
   "metadata": {},
   "source": [
    "# Model 결과 확인"
   ]
  },
  {
   "cell_type": "code",
   "execution_count": 25,
   "id": "8d8ef002",
   "metadata": {
    "scrolled": true
   },
   "outputs": [
    {
     "name": "stdout",
     "output_type": "stream",
     "text": [
      "[1 교차검증] train ACC : 85.5911 |\t valid ACC: 76.1421 \n",
      "[2 교차검증] train ACC : 100.0000 |\t valid ACC: 86.8020 \n",
      "[3 교차검증] train ACC : 99.8765 |\t valid ACC: 82.7411 \n",
      "[4 교차검증] train ACC : 100.0000 |\t valid ACC: 84.2640 \n",
      "[5 교차검증] train ACC : 99.8768 |\t valid ACC: 86.2245 \n",
      "평균 검증 정확도 83.23474567491971 %\n"
     ]
    }
   ],
   "source": [
    "sum_valid=0\n",
    "for data_ind in range(5):\n",
    "    print(\"[{} 교차검증] train ACC : {:.4f} |\\t valid ACC: {:.4f} \".format(data_ind+1,train_accs[data_ind],valid_accs[data_ind] ))\n",
    "    sum_valid+=valid_accs[data_ind]\n",
    "    \n",
    "print(\"평균 검증 정확도\",sum_valid/5,\"%\")"
   ]
  },
  {
   "cell_type": "markdown",
   "id": "6f7d3f46",
   "metadata": {},
   "source": [
    "# Model Test\n",
    "\n",
    "- test set\n",
    "- confusion matrix"
   ]
  },
  {
   "cell_type": "code",
   "execution_count": 26,
   "id": "b597b674",
   "metadata": {},
   "outputs": [],
   "source": [
    "#confusion matrix 계산\n",
    "#test set 계산.\n",
    "def test_evaluate(model,test_loader):\n",
    "    model.eval()\n",
    "    test_loss = 0\n",
    "    predictions = []\n",
    "    answers = []\n",
    "    #no_grad : 그래디언트 값 계산 막기.\n",
    "    with torch.no_grad():\n",
    "        for image, label in test_loader:\n",
    "            image = image.to(DEVICE)\n",
    "            label = label.to(DEVICE)\n",
    "            output = model(image)\n",
    "            test_loss += criterion(output, label).item()\n",
    "            prediction = output.max(1,keepdim=True)[1] # 가장 확률이 높은 class 1개를 가져온다.그리고 인덱스만\n",
    "            answers +=label\n",
    "            predictions +=prediction\n",
    "            \n",
    "        return predictions,answers,test_loss\n",
    "            "
   ]
  },
  {
   "cell_type": "code",
   "execution_count": 27,
   "id": "446269f0",
   "metadata": {
    "scrolled": true
   },
   "outputs": [
    {
     "name": "stdout",
     "output_type": "stream",
     "text": [
      "1번 모델\n",
      "Accuracy : 81.3765% \n",
      "recall (실제 pathology 중  예측이 맞는 것) : 0.7803\n",
      "specificity : 0.8522%\n",
      "UAR : 0.8162%\n",
      "f score : 0.8137 \n",
      "[[103  17]\n",
      " [ 29  98]]\n",
      "-----\n",
      "2번 모델\n",
      "Accuracy : 85.4251% \n",
      "recall (실제 pathology 중  예측이 맞는 것) : 0.8443\n",
      "specificity : 0.8640%\n",
      "UAR : 0.8541%\n",
      "f score : 0.8542 \n",
      "[[103  17]\n",
      " [ 19 108]]\n",
      "-----\n",
      "3번 모델\n",
      "Accuracy : 82.9960% \n",
      "recall (실제 pathology 중  예측이 맞는 것) : 0.8197\n",
      "specificity : 0.8400%\n",
      "UAR : 0.8298%\n",
      "f score : 0.8299 \n",
      "[[100  20]\n",
      " [ 22 105]]\n",
      "-----\n",
      "4번 모델\n",
      "Accuracy : 85.0202% \n",
      "recall (실제 pathology 중  예측이 맞는 것) : 0.8673\n",
      "specificity : 0.8358%\n",
      "UAR : 0.8515%\n",
      "f score : 0.8497 \n",
      "[[ 98  22]\n",
      " [ 15 112]]\n",
      "-----\n",
      "5번 모델\n",
      "Accuracy : 83.4008% \n",
      "recall (실제 pathology 중  예측이 맞는 것) : 0.8496\n",
      "specificity : 0.8209%\n",
      "UAR : 0.8352%\n",
      "f score : 0.8335 \n",
      "[[ 96  24]\n",
      " [ 17 110]]\n",
      "-----\n",
      "평균 acc : 0.8364\n",
      "평균 UAR : 0.8374\n",
      "평균 f1score : 0.8362\n"
     ]
    }
   ],
   "source": [
    "# Confusion matrix (resnet18)\n",
    "# kfold의 confusion matrix는 계산 방법이 다르다.\n",
    "# 모델을 각각 불러와서 test set을 평가한다.\n",
    "\n",
    "from sklearn.metrics import confusion_matrix\n",
    "from sklearn.metrics import f1_score\n",
    "\n",
    "cf = np.zeros((2,2))\n",
    "cf_list = []\n",
    "average_accuracy = 0\n",
    "average_fscore = 0\n",
    "average_uar = 0\n",
    "\n",
    "for data_ind in range(1,6):\n",
    "\n",
    "    check_path = '../../checkpoint/checkpoint_melspectro_resnet18_true_ros_'+str(data_ind)+'_organics.pt'\n",
    "    model.load_state_dict(torch.load(check_path))\n",
    "\n",
    "    predictions,answers,test_loss = test_evaluate(model, test_loader)\n",
    "    predictions=[ dat.cpu().numpy() for dat in predictions]\n",
    "    answers=[ dat.cpu().numpy() for dat in answers]\n",
    "\n",
    "    \n",
    "    cf = confusion_matrix(answers, predictions)\n",
    "    cf_list.append(cf)\n",
    "    \n",
    "    acc = (cf[0,0]+cf[1,1])/(cf[0,0]+cf[0,1]+cf[1,0]+cf[1,1])\n",
    "    average_accuracy+=acc\n",
    "    \n",
    "    precision=cf[0,0]/(cf[0,0]+cf[1,0])\n",
    "    recall=cf[0,0]/(cf[0,0]+cf[1,0])\n",
    "    \n",
    "    specificity=cf[1,1]/(cf[0,1]+cf[1,1])\n",
    "    average_uar += (specificity+recall)/2\n",
    "    #fscore=2*precision*recall/(precision+recall)\n",
    "    \n",
    "    #fscroe macro추가\n",
    "    fscore = f1_score(answers,predictions,average='macro')\n",
    "    average_fscore+=fscore\n",
    "    \n",
    "    print('{}번 모델'.format(data_ind))\n",
    "    print(\"Accuracy : {:.4f}% \".format(acc*100))\n",
    "    #print(\"Precision (pathology 예측한 것중 맞는 것) : {:.4f}\".format(precision))\n",
    "    print(\"recall (실제 pathology 중  예측이 맞는 것) : {:.4f}\".format(recall))\n",
    "    print(\"specificity : {:.4f}%\".format(specificity))\n",
    "    print(\"UAR : {:.4f}%\".format( (specificity+recall)/2 ))\n",
    "    \n",
    "    \n",
    "    print(\"f score : {:.4f} \".format(fscore))\n",
    "    print(cf)\n",
    "    print(\"-----\")\n",
    "    #### wandb\n",
    "    \n",
    "    wandb.run.summary.update({\"test_{}fold_acc\".format(data_ind) : acc*100})\n",
    "    wandb.run.summary.update({\"test_{}fold_f1\".format(data_ind) : fscore})\n",
    "    wandb.run.summary.update({\"test_{}fold_UAR\".format(data_ind) : (specificity+recall)/2})\n",
    "    wandb.log({\"{}fold Confusion Matrix\".format(data_ind) :wandb.sklearn.plot_confusion_matrix(answers, predictions, labels=classes)})\n",
    "    \n",
    "    ####\n",
    "    \n",
    "    \n",
    "    \n",
    "\n",
    "print(\"평균 acc : {:.4f}\".format(average_accuracy/5))\n",
    "print(\"평균 UAR : {:.4f}\".format(average_uar/5))\n",
    "print(\"평균 f1score : {:.4f}\".format(average_fscore/5))\n",
    "wandb.run.summary.update({\"test 평균 acc\" : average_accuracy/5})\n",
    "wandb.run.summary.update({\"test 평균 f1\" : average_fscore/5})\n",
    "wandb.run.summary.update({\"test 평균 UAR\" : average_uar/5})\n",
    "\n"
   ]
  }
 ],
 "metadata": {
  "kernelspec": {
   "display_name": "Python 3.8.12",
   "language": "python",
   "name": "python3"
  },
  "language_info": {
   "codemirror_mode": {
    "name": "ipython",
    "version": 3
   },
   "file_extension": ".py",
   "mimetype": "text/x-python",
   "name": "python",
   "nbconvert_exporter": "python",
   "pygments_lexer": "ipython3",
   "version": "3.8.12"
  },
  "toc": {
   "base_numbering": 1,
   "nav_menu": {},
   "number_sections": false,
   "sideBar": true,
   "skip_h1_title": false,
   "title_cell": "Table of Contents",
   "title_sidebar": "Contents",
   "toc_cell": false,
   "toc_position": {
    "height": "calc(100% - 180px)",
    "left": "10px",
    "top": "150px",
    "width": "294.047px"
   },
   "toc_section_display": true,
   "toc_window_display": false
  },
  "vscode": {
   "interpreter": {
    "hash": "cb9192bbf29651be1364b55280d6e01651beb2ab542678067b10db61ba862cc4"
   }
  }
 },
 "nbformat": 4,
 "nbformat_minor": 5
}
