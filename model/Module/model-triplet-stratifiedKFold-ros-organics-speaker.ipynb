{
 "cells": [
  {
   "cell_type": "markdown",
   "id": "6505136e",
   "metadata": {},
   "source": [
    "- http://keunwoochoi.blogspot.com/2016/03/2.html\n",
    "- http://www.rex-ai.info/docs/AI_Example_CNN_speech_recognize\n",
    "- https://www.youtube.com/watch?v=oltGIc4uo5c\n",
    "- https://youdaeng-com.tistory.com/5\n",
    "- https://quokkas.tistory.com/37 : early stopping\n",
    "- https://continuous-development.tistory.com/166 : stratified kfold\n",
    "- https://deep-learning-study.tistory.com/476 fiter 시각화\n",
    "- https://wyatt37.tistory.com/10 : random over sampling"
   ]
  },
  {
   "cell_type": "code",
   "execution_count": 204,
   "id": "20cf3fcc",
   "metadata": {},
   "outputs": [
    {
     "name": "stderr",
     "output_type": "stream",
     "text": [
      "Failed to detect the name of this notebook, you can set it manually with the WANDB_NOTEBOOK_NAME environment variable to enable code saving.\n",
      "\u001b[34m\u001b[1mwandb\u001b[0m: Currently logged in as: \u001b[33mbub3690\u001b[0m. Use \u001b[1m`wandb login --relogin`\u001b[0m to force relogin\n"
     ]
    },
    {
     "data": {
      "text/html": [
       "wandb version 0.13.8 is available!  To upgrade, please run:\n",
       " $ pip install wandb --upgrade"
      ],
      "text/plain": [
       "<IPython.core.display.HTML object>"
      ]
     },
     "metadata": {},
     "output_type": "display_data"
    },
    {
     "data": {
      "text/html": [
       "Tracking run with wandb version 0.12.16"
      ],
      "text/plain": [
       "<IPython.core.display.HTML object>"
      ]
     },
     "metadata": {},
     "output_type": "display_data"
    },
    {
     "data": {
      "text/html": [
       "Run data is saved locally in <code>d:\\project\\voice_pathology_ai\\model\\Module\\wandb\\run-20230112_181844-tlqleuvq</code>"
      ],
      "text/plain": [
       "<IPython.core.display.HTML object>"
      ]
     },
     "metadata": {},
     "output_type": "display_data"
    },
    {
     "data": {
      "text/html": [
       "Syncing run <strong><a href=\"https://wandb.ai/bub3690/SVD-voice-disorder/runs/tlqleuvq\" target=\"_blank\">hardy-wind-537</a></strong> to <a href=\"https://wandb.ai/bub3690/SVD-voice-disorder\" target=\"_blank\">Weights & Biases</a> (<a href=\"https://wandb.me/run\" target=\"_blank\">docs</a>)<br/>"
      ],
      "text/plain": [
       "<IPython.core.display.HTML object>"
      ]
     },
     "metadata": {},
     "output_type": "display_data"
    },
    {
     "name": "stderr",
     "output_type": "stream",
     "text": [
      "\u001b[34m\u001b[1mwandb\u001b[0m: \u001b[33mWARNING\u001b[0m Calling wandb.run.save without any arguments is deprecated.Changes to attributes are automatically persisted.\n"
     ]
    },
    {
     "data": {
      "text/plain": [
       "True"
      ]
     },
     "execution_count": 204,
     "metadata": {},
     "output_type": "execute_result"
    }
   ],
   "source": [
    "import wandb\n",
    "\n",
    "wandb.init(project=\"SVD-voice-disorder\", entity=\"bub3690\")\n",
    "wandb.run.name = 'wavegram-organics-speaker'\n",
    "wandb.run.save()"
   ]
  },
  {
   "cell_type": "code",
   "execution_count": 1,
   "id": "275b8092",
   "metadata": {},
   "outputs": [
    {
     "name": "stdout",
     "output_type": "stream",
     "text": [
      "Using Pytorch version :  1.10.2  Device :  cuda\n"
     ]
    }
   ],
   "source": [
    "import torch\n",
    "import matplotlib.pyplot as plt\n",
    "import numpy as np\n",
    "import torch\n",
    "import torch.nn as nn # 인공 신경망 모델들 모아놓은 모듈\n",
    "import torch.nn.functional as F #그중 자주 쓰이는것들을 F로\n",
    "from torchvision import transforms, datasets\n",
    "import cv2\n",
    "from torchvision import transforms, datasets\n",
    "import pandas as pd\n",
    "import os\n",
    "from glob import glob\n",
    "import torchvision.models as models\n",
    "import sys\n",
    "from tqdm import tqdm\n",
    "from Utils.pytorchtools import EarlyStopping # 상위 폴더에 추가된 모듈.\n",
    "\n",
    "\n",
    "if torch.cuda.is_available():\n",
    "    DEVICE = torch.device('cuda')\n",
    "else:\n",
    "    DEVICE = torch.device('cpu')\n",
    "#DEVICE = torch.device('cpu')\n",
    "print('Using Pytorch version : ',torch.__version__,' Device : ',DEVICE)"
   ]
  },
  {
   "cell_type": "code",
   "execution_count": 2,
   "id": "d5046a19",
   "metadata": {},
   "outputs": [
    {
     "name": "stderr",
     "output_type": "stream",
     "text": [
      "d:\\anaconda3\\envs\\local_torch\\lib\\site-packages\\xgboost\\compat.py:36: FutureWarning: pandas.Int64Index is deprecated and will be removed from pandas in a future version. Use pandas.Index with the appropriate dtype instead.\n",
      "  from pandas import MultiIndex, Int64Index\n"
     ]
    }
   ],
   "source": [
    "# classifier\n",
    "from xgboost import XGBClassifier\n",
    "\n",
    "from sklearn.metrics import confusion_matrix, f1_score, accuracy_score"
   ]
  },
  {
   "cell_type": "code",
   "execution_count": 3,
   "id": "0081a011",
   "metadata": {},
   "outputs": [
    {
     "data": {
      "text/plain": [
       "<torch._C.Generator at 0x189eada8d70>"
      ]
     },
     "execution_count": 3,
     "metadata": {},
     "output_type": "execute_result"
    }
   ],
   "source": [
    "import torchaudio\n",
    "#import torchaudio.functional as F\n",
    "import torchaudio.transforms as T\n",
    "\n",
    "torch.backends.cudnn.deterministic = True\n",
    "torch.backends.cudnn.benchmark = False\n",
    "torch.manual_seed(1234)"
   ]
  },
  {
   "cell_type": "markdown",
   "id": "249ebea6",
   "metadata": {},
   "source": [
    "# SVD 문장 데이터에서 Feature 추출\n",
    "- mfcc"
   ]
  },
  {
   "cell_type": "code",
   "execution_count": 4,
   "id": "dddaab10",
   "metadata": {},
   "outputs": [],
   "source": [
    "import numpy as np\n",
    "import librosa, librosa.display \n",
    "import matplotlib.pyplot as plt\n",
    "#window sizde : FFT를 할때 참조할 그래프 길이 ( 프레임 하나당 sample 수 )\n",
    "#자연어 처리에서는 25ms 사용. https://ahnjg.tistory.com/93\n",
    "#초당 50000hz 중 1250개씩 윈도우 사이즈로 사용.\n",
    "\n",
    "\n",
    "#default param\n",
    "mfcc_run_config = dict(\n",
    "    sr=16000,\n",
    "    n_mfcc=27,\n",
    "    #dct_type=3, # type2 default\n",
    "    lifter = 35,\n",
    "\n",
    "    \n",
    "    #mel spectro\n",
    "    n_mels=170,\n",
    "    hop_length=750,\n",
    "    n_fft =14056,    \n",
    "    win_length=1100,\n",
    "    f_max=8000,\n",
    "    \n",
    "    # training\n",
    "    #batch_size=32,\n",
    "    mel_scale ='htk',\n",
    "    \n",
    "    # data\n",
    "    fold=1,\n",
    ")\n",
    "\n",
    "mel_run_config = dict(\n",
    "    sr=16000,\n",
    "    n_mels=128,\n",
    "    win_length =  300,\n",
    "    n_fft= 2048,\n",
    "    hop_length= 50,\n",
    "    f_max = 8000    \n",
    ")\n",
    "\n",
    "\n",
    "spectro_run_config =dict(\n",
    "    sr=16000,\n",
    "    n_fft=350,\n",
    "    hop_length=50,\n",
    "    win_length=350,\n",
    "    # training\n",
    "    batch_size=16,\n",
    ")\n",
    "\n",
    "\n",
    "\n",
    "\n",
    "#또는 10ms만큼으로 한다고 한다.\n",
    "#hop_length가 mfcc의 frame수를 결정한다."
   ]
  },
  {
   "cell_type": "markdown",
   "id": "1a38dcdc",
   "metadata": {},
   "source": [
    "# 데이터 나누기 - Stratified KFold\n",
    "\n",
    "- pathology : 1194 / healthy : 634 / 총 1828\n",
    "- k = 5"
   ]
  },
  {
   "cell_type": "markdown",
   "id": "1a148977",
   "metadata": {},
   "source": [
    "## 1. test/ train 나누기\n"
   ]
  },
  {
   "cell_type": "code",
   "execution_count": 5,
   "id": "4c150342",
   "metadata": {},
   "outputs": [],
   "source": [
    "speaker_data=pd.read_excel(\"../../voice_data/only_organics_healthy_available_ver2.xlsx\")"
   ]
  },
  {
   "cell_type": "code",
   "execution_count": 6,
   "id": "503fc854",
   "metadata": {},
   "outputs": [
    {
     "name": "stdout",
     "output_type": "stream",
     "text": [
      "426\n",
      "630\n"
     ]
    }
   ],
   "source": [
    "pathology = speaker_data[speaker_data['PATHOLOGY']=='p']['SPEAKER'].unique().tolist()\n",
    "healthy = speaker_data[speaker_data['PATHOLOGY']=='n']['SPEAKER'].unique().tolist()\n",
    "print(len(pathology))\n",
    "print(len(healthy))"
   ]
  },
  {
   "cell_type": "code",
   "execution_count": 7,
   "id": "d99c8711",
   "metadata": {},
   "outputs": [
    {
     "data": {
      "text/plain": [
       "[74, 1524, 142]"
      ]
     },
     "execution_count": 7,
     "metadata": {},
     "output_type": "execute_result"
    }
   ],
   "source": [
    "list(set(healthy) & set(pathology))"
   ]
  },
  {
   "cell_type": "code",
   "execution_count": 8,
   "id": "c45e9ce8",
   "metadata": {},
   "outputs": [],
   "source": [
    "#겹치는 speaker는 곱하기 100을 해준다.\n",
    "#겹치는 speaker는 그대로 둔다.\n",
    "\n",
    "changed_patients = list(set(healthy) & set(pathology))\n",
    "\n",
    "for patient in changed_patients:\n",
    "    temp=pathology[pathology.index(patient)]*100\n",
    "    pathology[pathology.index(patient)] = temp\n",
    "    "
   ]
  },
  {
   "cell_type": "code",
   "execution_count": 9,
   "id": "bf1c10d7",
   "metadata": {},
   "outputs": [
    {
     "data": {
      "text/plain": [
       "152400"
      ]
     },
     "execution_count": 9,
     "metadata": {},
     "output_type": "execute_result"
    }
   ],
   "source": [
    "pathology[pathology.index(152400)]"
   ]
  },
  {
   "cell_type": "code",
   "execution_count": 10,
   "id": "c72d82e0",
   "metadata": {},
   "outputs": [
    {
     "name": "stdout",
     "output_type": "stream",
     "text": [
      "총 데이터수 :  1056\n",
      "---\n",
      "훈련 셋 :  844 Counter({'healthy': 504, 'pathology': 340})\n",
      "테스트 셋 :  212 Counter({'healthy': 126, 'pathology': 86})\n",
      "---\n"
     ]
    }
   ],
   "source": [
    "#train test 나누기\n",
    "\n",
    "import os\n",
    "from glob import glob\n",
    "from sklearn.model_selection import StratifiedKFold\n",
    "from imblearn.over_sampling import RandomOverSampler\n",
    "from collections import Counter\n",
    "from sklearn.model_selection import train_test_split # train , test 분리에 사용.\n",
    "\n",
    "\n",
    "random_state = 1004 # 1004,1005,1006,1007,1008\n",
    "\n",
    "X = pathology+healthy # path 데이터 합\n",
    "print(\"총 데이터수 : \",len(X))\n",
    "Y = [] # 라벨\n",
    "for idx,x in enumerate(X):\n",
    "    if idx<426:\n",
    "        Y.append(\"pathology\")\n",
    "    else:\n",
    "        Y.append(\"healthy\")\n",
    "\n",
    "X, X_test, Y, Y_test = train_test_split(X, Y, test_size=0.2, shuffle=True, stratify=Y, random_state=random_state) #456\n",
    "#stratify를 넣어서, test에도 라벨별 잘 분류되게 한다.\n",
    "\n",
    "print(\"---\")\n",
    "print(\"훈련 셋 : \",len(Y),Counter(Y))\n",
    "print(\"테스트 셋 : \",len(Y_test),Counter(Y_test))\n",
    "print(\"---\")\n",
    "\n"
   ]
  },
  {
   "cell_type": "code",
   "execution_count": 11,
   "id": "563178eb",
   "metadata": {},
   "outputs": [
    {
     "data": {
      "text/plain": [
       "'healthy'"
      ]
     },
     "execution_count": 11,
     "metadata": {},
     "output_type": "execute_result"
    }
   ],
   "source": [
    "Y[169]"
   ]
  },
  {
   "cell_type": "code",
   "execution_count": 12,
   "id": "5f073a35",
   "metadata": {},
   "outputs": [
    {
     "data": {
      "text/plain": [
       "193"
      ]
     },
     "execution_count": 12,
     "metadata": {},
     "output_type": "execute_result"
    }
   ],
   "source": [
    "X.index(7400)"
   ]
  },
  {
   "cell_type": "markdown",
   "id": "c0a99443",
   "metadata": {},
   "source": [
    "## 2. stratified k-fold"
   ]
  },
  {
   "cell_type": "code",
   "execution_count": 13,
   "id": "c38ceb20",
   "metadata": {},
   "outputs": [
    {
     "name": "stdout",
     "output_type": "stream",
     "text": [
      "교차 검증 : 1\n",
      "학습 레이블 데이터 분포 : \n",
      " {'healthy': 403, 'pathology': 272}\n",
      "검증 레이블 데이터 분포 : \n",
      " {'healthy': 101, 'pathology': 68} \n",
      "\n",
      "교차 검증 : 2\n",
      "학습 레이블 데이터 분포 : \n",
      " {'healthy': 403, 'pathology': 272}\n",
      "검증 레이블 데이터 분포 : \n",
      " {'healthy': 101, 'pathology': 68} \n",
      "\n",
      "교차 검증 : 3\n",
      "학습 레이블 데이터 분포 : \n",
      " {'healthy': 403, 'pathology': 272}\n",
      "검증 레이블 데이터 분포 : \n",
      " {'healthy': 101, 'pathology': 68} \n",
      "\n",
      "교차 검증 : 4\n",
      "학습 레이블 데이터 분포 : \n",
      " {'healthy': 403, 'pathology': 272}\n",
      "검증 레이블 데이터 분포 : \n",
      " {'healthy': 101, 'pathology': 68} \n",
      "\n",
      "교차 검증 : 5\n",
      "학습 레이블 데이터 분포 : \n",
      " {'healthy': 404, 'pathology': 272}\n",
      "검증 레이블 데이터 분포 : \n",
      " {'healthy': 100, 'pathology': 68} \n",
      "\n"
     ]
    }
   ],
   "source": [
    "#1. train, test 나누기\n",
    "#stratified kfold\n",
    "import os\n",
    "import random #데이터 shuffle 사용\n",
    "from glob import glob\n",
    "from sklearn.model_selection import StratifiedKFold\n",
    "from imblearn.over_sampling import RandomOverSampler\n",
    "from collections import Counter\n",
    "\n",
    "\n",
    "\n",
    "skf_iris = StratifiedKFold(n_splits=5,shuffle=True,random_state=456)\n",
    "cnt_iter = 0\n",
    "\n",
    "X_train_list = [] #데이터 셋 보관\n",
    "Y_train_list = []\n",
    "\n",
    "X_valid_list = []\n",
    "Y_valid_list = []\n",
    "\n",
    "for train_idx, test_idx in skf_iris.split(X,Y):\n",
    "    \n",
    "    #split으로 반환된 인덱스를 이용하여, 학습 검증용 테스트 데이터 추출\n",
    "    cnt_iter += 1\n",
    "    X_train, X_valid = [X[idx] for idx in train_idx.tolist() ], [X[idx] for idx in test_idx.tolist() ]\n",
    "    Y_train, Y_valid = [Y[idx] for idx in train_idx.tolist() ], [Y[idx] for idx in test_idx.tolist() ]\n",
    "    \n",
    "    X_train_list.append(X_train)\n",
    "    X_valid_list.append(X_valid)\n",
    "    \n",
    "    Y_train_list.append(Y_train)\n",
    "    Y_valid_list.append(Y_valid)\n",
    "    \n",
    "    \n",
    "    #학습 및 예측\n",
    "    \n",
    "    label_train = Y_train\n",
    "    label_test = Y_valid\n",
    "    unique_train, train_counts = np.unique(label_train, return_counts = True)\n",
    "    unique_test, test_counts = np.unique(label_test, return_counts = True)\n",
    "    \n",
    "    uniq_cnt_train = dict(zip(unique_train, train_counts))\n",
    "    uniq_cnt_test = dict(zip(unique_test, test_counts))\n",
    "    \n",
    "    \n",
    "    \n",
    "    print('교차 검증 : {}'.format(cnt_iter))\n",
    "    print('학습 레이블 데이터 분포 : \\n', uniq_cnt_train)\n",
    "    print('검증 레이블 데이터 분포 : \\n', uniq_cnt_test,'\\n')\n",
    "\n"
   ]
  },
  {
   "cell_type": "markdown",
   "id": "2bbcb94b",
   "metadata": {},
   "source": [
    "# speaker to voice"
   ]
  },
  {
   "cell_type": "code",
   "execution_count": 14,
   "id": "7f725375",
   "metadata": {},
   "outputs": [
    {
     "name": "stdout",
     "output_type": "stream",
     "text": [
      "train. speaker to voice\n",
      "[932]\n",
      "[929]\n",
      "[932]\n",
      "[929]\n",
      "[932]\n",
      "[929]\n",
      "[929]\n",
      "[932]\n",
      "valid. speaker to voice\n",
      "[929]\n",
      "[932]\n",
      "test. speaker to voice\n",
      "[495]\n"
     ]
    }
   ],
   "source": [
    "# speaker to voice\n",
    "\n",
    "label_changer = dict({\"healthy\":\"n\",\"pathology\":\"p\"})\n",
    "\n",
    "\n",
    "all_train_record_list = []\n",
    "all_valid_record_list = []\n",
    "all_test_record_list = []\n",
    "\n",
    "all_train_label_list = []\n",
    "all_valid_label_list = []\n",
    "all_test_label_list = []\n",
    "\n",
    "print(\"train. speaker to voice\")\n",
    "#train\n",
    "for fold_idx,fold in enumerate(X_train_list):\n",
    "    fold_record=[]\n",
    "    fold_y_record=[]\n",
    "    for idx,speaker in enumerate(fold):\n",
    "        record_list = speaker_data[ (speaker_data['SPEAKER']==speaker) & (speaker_data['PATHOLOGY']==label_changer[Y_train_list[fold_idx][idx]])]['RECORDING'].tolist()\n",
    "        if record_list == []:\n",
    "            # speaker가 healthy, pathology 모두 있는 경우\n",
    "            #print(speaker)\n",
    "            speaker = speaker // 100\n",
    "            record_list = speaker_data[(speaker_data['SPEAKER']==speaker) & (speaker_data['PATHOLOGY']==label_changer[Y_train_list[fold_idx][idx]] ) ]['RECORDING'].tolist()\n",
    "            print(record_list)\n",
    "\n",
    "        label_list = [ Y_train_list[fold_idx][idx] ] * len(record_list)       \n",
    "        fold_record += record_list\n",
    "        fold_y_record += label_list\n",
    "    all_train_record_list.append(fold_record)\n",
    "    all_train_label_list.append(fold_y_record)\n",
    "\n",
    "print(\"valid. speaker to voice\")\n",
    "#valid\n",
    "for fold_idx,fold in enumerate(X_valid_list):\n",
    "    fold_record=[]\n",
    "    fold_y_record=[]\n",
    "    for idx,speaker in enumerate(fold):\n",
    "        record_list = speaker_data[ (speaker_data['SPEAKER']==speaker) & (speaker_data['PATHOLOGY']==label_changer[Y_valid_list[fold_idx][idx]]) ]['RECORDING'].tolist()\n",
    "        if record_list == []:\n",
    "            # speaker가 healthy, pathology 모두 있는 경우\n",
    "            #print(speaker)\n",
    "            speaker = speaker // 100\n",
    "            record_list = speaker_data[(speaker_data['SPEAKER']==speaker) & (speaker_data['PATHOLOGY']==label_changer[Y_valid_list[fold_idx][idx]] ) ]['RECORDING'].tolist()\n",
    "            print(record_list)\n",
    "        label_list = [ Y_valid_list[fold_idx][idx] ] * len(record_list)\n",
    "        \n",
    "        fold_record += record_list\n",
    "        fold_y_record += label_list\n",
    "    all_valid_record_list.append(fold_record)\n",
    "    all_valid_label_list.append(fold_y_record)\n",
    "\n",
    "print(\"test. speaker to voice\")\n",
    "#test\n",
    "fold_record=[]\n",
    "fold_y_record=[]\n",
    "for idx,speaker in enumerate(X_test):\n",
    "    record_list = speaker_data[(speaker_data['SPEAKER']==speaker) & (speaker_data['PATHOLOGY']==label_changer[Y_test[idx]] )]['RECORDING'].tolist()\n",
    "    if record_list == []:\n",
    "        # speaker가 healthy, pathology 모두 있는 경우\n",
    "        #print(speaker)\n",
    "        speaker = speaker // 100\n",
    "        record_list = speaker_data[(speaker_data['SPEAKER']==speaker) & (speaker_data['PATHOLOGY']==label_changer[Y_test[idx]] ) ]['RECORDING'].tolist()\n",
    "        print(record_list)\n",
    "    label_list = [ Y_test[idx] ] * len(record_list)\n",
    "    fold_record += record_list\n",
    "    fold_y_record += label_list\n",
    "all_test_record_list = fold_record\n",
    "all_test_label_list = fold_y_record\n",
    "\n",
    "\n",
    "X_train_list = all_train_record_list\n",
    "X_valid_list = all_valid_record_list\n",
    "X_test = all_test_record_list\n",
    "\n",
    "Y_train_list = all_train_label_list\n",
    "Y_valid_list = all_valid_label_list\n",
    "Y_test = all_test_label_list\n",
    "\n"
   ]
  },
  {
   "cell_type": "markdown",
   "id": "d0880b5c",
   "metadata": {},
   "source": [
    "## 3. random over sampling"
   ]
  },
  {
   "cell_type": "code",
   "execution_count": 15,
   "id": "9517c16f",
   "metadata": {},
   "outputs": [
    {
     "name": "stdout",
     "output_type": "stream",
     "text": [
      "\n",
      " fold0 \n",
      "before dataset shape Counter({'healthy': 406, 'pathology': 364})\n",
      "Resampled dataset shape Counter({'healthy': 406, 'pathology': 406})\n",
      "\n",
      " fold1 \n",
      "before dataset shape Counter({'healthy': 407, 'pathology': 402})\n",
      "Resampled dataset shape Counter({'healthy': 407, 'pathology': 407})\n",
      "\n",
      " fold2 \n",
      "before dataset shape Counter({'healthy': 407, 'pathology': 384})\n",
      "Resampled dataset shape Counter({'healthy': 407, 'pathology': 407})\n",
      "\n",
      " fold3 \n",
      "before dataset shape Counter({'healthy': 407, 'pathology': 396})\n",
      "Resampled dataset shape Counter({'healthy': 407, 'pathology': 407})\n",
      "\n",
      " fold4 \n",
      "before dataset shape Counter({'healthy': 405, 'pathology': 394})\n",
      "Resampled dataset shape Counter({'pathology': 405, 'healthy': 405})\n"
     ]
    }
   ],
   "source": [
    "#2. random over sampling\n",
    "for i in range(5):\n",
    "    X_temp = np.array(X_train_list[i]).reshape(-1,1)#각 데이터를 다 행으로 넣음. (1194,1)\n",
    "    #Y = np.array(Y)\n",
    "    ros = RandomOverSampler(random_state = 123)\n",
    "    X_res,Y_res = ros.fit_resample(X_temp,Y_train_list[i])\n",
    "    \n",
    "    print(\"\\n fold{} \".format(i))\n",
    "    print('before dataset shape {}'.format(Counter(Y_train_list[i])) )\n",
    "    print('Resampled dataset shape {}'.format(Counter(Y_res)) )   \n",
    "    \n",
    "    #원래대로 돌리기\n",
    "    X_res=X_res.reshape(1, -1)\n",
    "    X_train_list[i]=X_res[0].tolist()\n",
    "    Y_train_list[i]=Y_res\n",
    "\n",
    "\n"
   ]
  },
  {
   "cell_type": "code",
   "execution_count": 16,
   "id": "478af061",
   "metadata": {},
   "outputs": [],
   "source": [
    "import pickle\n",
    "\n",
    "\n",
    "    \n",
    "#load\n",
    "with open(\"../../voice_data/organics_ver2/phrase_dict_ver2.pickle\",\"rb\") as fr:\n",
    "    phrase_dict = pickle.load(fr)\n",
    "\n",
    "#with open(\"../../voice_data/organics/phrase_minmax_scaler_hyper.pickle\",\"rb\") as fr:\n",
    "#    phrase_scaler = pickle.load(fr)\n",
    "    "
   ]
  },
  {
   "cell_type": "markdown",
   "id": "08a663f0",
   "metadata": {},
   "source": [
    "# 데이터 정의\n",
    "- 추가적으로 데이터의 크기를 맞춰주기 위해 3초로 padding 및 truncate 실시 https://sequencedata.tistory.com/25 FixAudioLength\n",
    "- 논문에서는 400frame으로 설정.(여기서는 500frame)\n",
    "- 전처리 방법 결정.\n"
   ]
  },
  {
   "cell_type": "code",
   "execution_count": 17,
   "id": "d56df016",
   "metadata": {},
   "outputs": [],
   "source": [
    "# 데이터 로더"
   ]
  },
  {
   "cell_type": "code",
   "execution_count": 17,
   "id": "c8877544",
   "metadata": {},
   "outputs": [],
   "source": [
    "#default param\n",
    "mfcc_run_config = dict(\n",
    "    sr=16000,\n",
    "    n_mfcc=27,\n",
    "    #dct_type=3, # type2 default\n",
    "    lifter = 35,\n",
    "\n",
    "    \n",
    "    #mel spectro\n",
    "    n_mels=170,\n",
    "    hop_length=750,\n",
    "    n_fft =14056,    \n",
    "    win_length=1100,\n",
    "    f_max=8000,\n",
    "    \n",
    "    # training\n",
    "    #batch_size=32,\n",
    "    mel_scale ='htk',\n",
    "    \n",
    "    # data\n",
    "    fold=1,\n",
    ")\n",
    "\n",
    "mel_run_config = dict(\n",
    "    sr=16000,\n",
    "    n_mels=128,\n",
    "    win_length =  300,\n",
    "    n_fft= 2048,\n",
    "    hop_length= 50,\n",
    "    f_max = 8000    \n",
    ")\n",
    "\n",
    "\n",
    "spectro_run_config =dict(\n",
    "    sr=16000,\n",
    "    n_fft=350,\n",
    "    hop_length=50,\n",
    "    win_length=350,\n",
    "    # training\n",
    "    batch_size=16,\n",
    ")\n",
    "\n",
    "\n"
   ]
  },
  {
   "cell_type": "code",
   "execution_count": 18,
   "id": "6db4a061",
   "metadata": {},
   "outputs": [
    {
     "data": {
      "text/plain": [
       "{'1040-phrase.wav': array([ 0.00019198,  0.00072988,  0.00077416, ...,  0.00010608,\n",
       "        -0.00024016,  0.        ], dtype=float32),\n",
       " '1045-phrase.wav': array([-0.00301087, -0.00471198, -0.00369397, ...,  0.00877707,\n",
       "         0.00960897,  0.        ], dtype=float32),\n",
       " '1046-phrase.wav': array([0.00087176, 0.00210954, 0.0017544 , ..., 0.02247776, 0.02591118,\n",
       "        0.        ], dtype=float32),\n",
       " '1047-phrase.wav': array([-0.00218182, -0.0038823 , -0.00290296, ..., -0.00242876,\n",
       "        -0.00317664,  0.        ], dtype=float32),\n",
       " '1048-phrase.wav': array([ 0.0023579 ,  0.00356342,  0.00313498, ..., -0.00019799,\n",
       "        -0.0001939 ,  0.        ], dtype=float32),\n",
       " '1049-phrase.wav': array([ 0.00102539,  0.00163141,  0.00010494, ..., -0.01097467,\n",
       "        -0.01524004,  0.        ], dtype=float32),\n",
       " '105-phrase.wav': array([0.00335465, 0.0054294 , 0.00509842, ..., 0.00176289, 0.00259548,\n",
       "        0.        ], dtype=float32),\n",
       " '1052-phrase.wav': array([ 0.00707356,  0.01187314,  0.00938601, ..., -0.01247419,\n",
       "        -0.0150273 ,  0.        ], dtype=float32),\n",
       " '1054-phrase.wav': array([ 0.00173708,  0.00388888,  0.00425427, ..., -0.00188586,\n",
       "        -0.00170454,  0.        ], dtype=float32),\n",
       " '1056-phrase.wav': array([0.00219108, 0.00339728, 0.0030405 , ..., 0.00195972, 0.00185337,\n",
       "        0.        ], dtype=float32),\n",
       " '107-phrase.wav': array([0.00287319, 0.00502251, 0.00418491, ..., 0.00122698, 0.00237636,\n",
       "        0.        ], dtype=float32),\n",
       " '108-phrase.wav': array([-0.00142225, -0.00111562, -0.00050287, ..., -0.00014304,\n",
       "        -0.00109506,  0.        ], dtype=float32),\n",
       " '109-phrase.wav': array([ 5.8635586e-04,  4.5401399e-04,  1.0292892e-05, ...,\n",
       "        -1.0143052e-04, -8.2336931e-04,  0.0000000e+00], dtype=float32),\n",
       " '1090-phrase.wav': array([ 0.00089991,  0.00214866,  0.00188615, ..., -0.00857013,\n",
       "        -0.0082475 , -0.01206   ], dtype=float32),\n",
       " '110-phrase.wav': array([ 0.00669175,  0.01143964,  0.01033386, ..., -0.03082265,\n",
       "        -0.03060674,  0.        ], dtype=float32),\n",
       " '1119-phrase.wav': array([-0.00181947, -0.00214278, -0.00181016, ..., -0.02359588,\n",
       "        -0.0226257 ,  0.        ], dtype=float32),\n",
       " '1120-phrase.wav': array([0.00652707, 0.01095149, 0.00972259, ..., 0.01627897, 0.01888348,\n",
       "        0.        ], dtype=float32),\n",
       " '1157-phrase.wav': array([-0.00596902, -0.00933384, -0.00892281, ...,  0.00304547,\n",
       "         0.00510781,  0.        ], dtype=float32),\n",
       " '1161-phrase.wav': array([-0.00419987, -0.00648069, -0.00552812, ..., -0.00141944,\n",
       "        -0.00126179,  0.        ], dtype=float32),\n",
       " '1164-phrase.wav': array([0.01053055, 0.01058897, 0.00188607, ..., 0.01466705, 0.01532136,\n",
       "        0.        ], dtype=float32),\n",
       " '1166-phrase.wav': array([ 0.0050552 ,  0.00828169,  0.00708098, ..., -0.01841689,\n",
       "        -0.02036992,  0.        ], dtype=float32),\n",
       " '1186-phrase.wav': array([ 0.00435336,  0.00707276,  0.005751  , ..., -0.00020382,\n",
       "         0.00027538,  0.        ], dtype=float32),\n",
       " '1188-phrase.wav': array([0.00041203, 0.00130977, 0.00122291, ..., 0.00593531, 0.00678256,\n",
       "        0.        ], dtype=float32),\n",
       " '119-phrase.wav': array([0.00182367, 0.002943  , 0.00281556, ..., 0.00377914, 0.00649138,\n",
       "        0.        ], dtype=float32),\n",
       " '1190-phrase.wav': array([ 0.00305497,  0.00551952,  0.00504583, ..., -0.00317865,\n",
       "        -0.00367738,  0.        ], dtype=float32),\n",
       " '1192-phrase.wav': array([-0.01466113, -0.02430588, -0.02134814, ..., -0.0138884 ,\n",
       "        -0.01715342,  0.        ], dtype=float32),\n",
       " '1195-phrase.wav': array([ 0.00504141,  0.00819191,  0.00611044, ..., -0.00086823,\n",
       "         0.00070364,  0.        ], dtype=float32),\n",
       " '120-phrase.wav': array([-0.00022413, -0.00069673, -0.000598  , ..., -0.00648075,\n",
       "        -0.00647069,  0.        ], dtype=float32),\n",
       " '1206-phrase.wav': array([-0.00194537, -0.00383992, -0.00164944, ..., -0.00840939,\n",
       "        -0.00635955,  0.        ], dtype=float32),\n",
       " '1218-phrase.wav': array([0.00372278, 0.00670681, 0.00583979, ..., 0.00444636, 0.0066181 ,\n",
       "        0.        ], dtype=float32),\n",
       " '1221-phrase.wav': array([ 0.00316022,  0.00696353,  0.00667696, ..., -0.00956872,\n",
       "        -0.00758305,  0.        ], dtype=float32),\n",
       " '1223-phrase.wav': array([ 0.0016277 ,  0.00368752,  0.00267325, ..., -0.00292546,\n",
       "        -0.00368789,  0.        ], dtype=float32),\n",
       " '1228-phrase.wav': array([ 0.00444742,  0.00688514,  0.00610548, ..., -0.00254971,\n",
       "        -0.00204927,  0.        ], dtype=float32),\n",
       " '1229-phrase.wav': array([ 0.00042086,  0.00081006,  0.00106365, ...,  0.00430849,\n",
       "        -0.00426638,  0.        ], dtype=float32),\n",
       " '1233-phrase.wav': array([0.00106305, 0.00272649, 0.00211286, ..., 0.04023109, 0.04163259,\n",
       "        0.        ], dtype=float32),\n",
       " '1235-phrase.wav': array([0.00460231, 0.00642018, 0.00524167, ..., 0.00031248, 0.00040004,\n",
       "        0.        ], dtype=float32),\n",
       " '1237-phrase.wav': array([0.00029157, 0.00047019, 0.00047483, ..., 0.0123558 , 0.01156107,\n",
       "        0.        ], dtype=float32),\n",
       " '1239-phrase.wav': array([-0.00347835, -0.00611676, -0.00573815, ...,  0.00484602,\n",
       "         0.00683892,  0.        ], dtype=float32),\n",
       " '1245-phrase.wav': array([0.00028859, 0.00064543, 0.00046991, ..., 0.00713446, 0.00926032,\n",
       "        0.        ], dtype=float32),\n",
       " '1246-phrase.wav': array([ 0.00474259,  0.00796905,  0.00743562, ..., -0.01845113,\n",
       "        -0.02180444,  0.        ], dtype=float32),\n",
       " '1247-phrase.wav': array([0.00376918, 0.00659155, 0.00592881, ..., 0.00220751, 0.00266291,\n",
       "        0.        ], dtype=float32),\n",
       " '1248-phrase.wav': array([ 0.00083263,  0.0006753 ,  0.00098035, ..., -0.0174785 ,\n",
       "        -0.02401669,  0.        ], dtype=float32),\n",
       " '1249-phrase.wav': array([-0.00916882, -0.01623386, -0.01301868, ...,  0.00154048,\n",
       "         0.00220816,  0.        ], dtype=float32),\n",
       " '1252-phrase.wav': array([-0.01148472, -0.01991292, -0.01663483, ..., -0.01016349,\n",
       "        -0.01068656,  0.        ], dtype=float32),\n",
       " '1253-phrase.wav': array([ 0.00356178,  0.00615498,  0.00506215, ..., -0.00673465,\n",
       "        -0.0069824 ,  0.        ], dtype=float32),\n",
       " '1256-phrase.wav': array([-0.00176271, -0.00291178, -0.00220829, ..., -0.00412882,\n",
       "        -0.00515522,  0.        ], dtype=float32),\n",
       " '1257-phrase.wav': array([-0.00298448, -0.00485531, -0.00448454, ..., -0.00401972,\n",
       "        -0.0044353 ,  0.        ], dtype=float32),\n",
       " '1259-phrase.wav': array([-0.00053916, -0.0013697 , -0.00136335, ...,  0.00480903,\n",
       "         0.00037755,  0.        ], dtype=float32),\n",
       " '1260-phrase.wav': array([-0.00051308, -0.00078202, -0.00028434, ...,  0.00221828,\n",
       "         0.00291797,  0.        ], dtype=float32),\n",
       " '1262-phrase.wav': array([-0.00048805, -0.00122491, -0.00038996, ...,  0.00523816,\n",
       "         0.00663775,  0.        ], dtype=float32),\n",
       " '1263-phrase.wav': array([0.02876021, 0.03712294, 0.03054108, ..., 0.01391114, 0.01395029,\n",
       "        0.        ], dtype=float32),\n",
       " '1264-phrase.wav': array([-0.00285045, -0.00479833, -0.00408106, ...,  0.00818565,\n",
       "         0.00733315,  0.        ], dtype=float32),\n",
       " '1265-phrase.wav': array([0.00311997, 0.00537294, 0.00473412, ..., 0.00355255, 0.00386915,\n",
       "        0.        ], dtype=float32),\n",
       " '1269-phrase.wav': array([0.00377653, 0.00639331, 0.00533449, ..., 0.00333211, 0.00243034,\n",
       "        0.        ], dtype=float32),\n",
       " '1270-phrase.wav': array([ 0.0028552 ,  0.00547599,  0.00489033, ...,  0.0010448 ,\n",
       "        -0.0008552 ,  0.        ], dtype=float32),\n",
       " '1271-phrase.wav': array([0.00056461, 0.00138189, 0.00177409, ..., 0.00639654, 0.00683384,\n",
       "        0.        ], dtype=float32),\n",
       " '1272-phrase.wav': array([-0.00017864, -0.00089073, -0.00081948, ...,  0.00999271,\n",
       "         0.00936397,  0.00950761], dtype=float32),\n",
       " '1273-phrase.wav': array([-0.00251483, -0.00395062, -0.00349711, ..., -0.00799766,\n",
       "        -0.00833781,  0.        ], dtype=float32),\n",
       " '1274-phrase.wav': array([0.00730889, 0.01127127, 0.01252278, ..., 0.00555703, 0.00759418,\n",
       "        0.        ], dtype=float32),\n",
       " '1277-phrase.wav': array([-0.00520249, -0.00908841, -0.00779317, ..., -0.01826355,\n",
       "        -0.02222469,  0.        ], dtype=float32),\n",
       " '128-phrase.wav': array([ 0.00298556,  0.00398542,  0.00361162, ..., -0.0187945 ,\n",
       "        -0.01814786,  0.        ], dtype=float32),\n",
       " '1283-phrase.wav': array([-0.00102824, -0.00187396, -0.00212242, ...,  0.01246699,\n",
       "         0.01265612,  0.        ], dtype=float32),\n",
       " '1289-phrase.wav': array([ 0.00278886,  0.00463573,  0.00407902, ..., -0.01145086,\n",
       "        -0.0098207 ,  0.        ], dtype=float32),\n",
       " '129-phrase.wav': array([-0.00174109, -0.00298684, -0.00229296, ...,  0.00447779,\n",
       "         0.00249609,  0.        ], dtype=float32),\n",
       " '1290-phrase.wav': array([0.00539804, 0.00887457, 0.00767072, ..., 0.00072786, 0.00025594,\n",
       "        0.        ], dtype=float32),\n",
       " '1292-phrase.wav': array([-0.00253793, -0.00603314, -0.00573133, ...,  0.0014007 ,\n",
       "         0.0015129 ,  0.        ], dtype=float32),\n",
       " '1293-phrase.wav': array([-0.00139558, -0.00329542, -0.00193186, ..., -0.01426806,\n",
       "        -0.01851069,  0.        ], dtype=float32),\n",
       " '1295-phrase.wav': array([-0.00159073, -0.00303164, -0.00250607, ..., -0.11787006,\n",
       "        -0.11789227,  0.        ], dtype=float32),\n",
       " '130-phrase.wav': array([-0.00323177, -0.00561696, -0.00498174, ..., -0.00045334,\n",
       "        -0.00195483,  0.        ], dtype=float32),\n",
       " '1300-phrase.wav': array([-0.00444017, -0.0076748 , -0.00656358, ..., -0.0102821 ,\n",
       "        -0.01298099,  0.        ], dtype=float32),\n",
       " '1301-phrase.wav': array([-0.0090674 , -0.01583165, -0.01424671, ...,  0.00470481,\n",
       "         0.0052355 ,  0.        ], dtype=float32),\n",
       " '1303-phrase.wav': array([0.00654002, 0.01066885, 0.00950697, ..., 0.00038253, 0.00036964,\n",
       "        0.        ], dtype=float32),\n",
       " '1304-phrase.wav': array([-0.00084686, -0.00131439, -0.00028435, ...,  0.00199392,\n",
       "        -0.00706929,  0.        ], dtype=float32),\n",
       " '1305-phrase.wav': array([ 0.00221565,  0.00362613,  0.00270384, ..., -0.01049638,\n",
       "        -0.01105262,  0.        ], dtype=float32),\n",
       " '1307-phrase.wav': array([-0.00569779, -0.00968269, -0.00784646, ...,  0.01072348,\n",
       "         0.01163866,  0.        ], dtype=float32),\n",
       " '131-phrase.wav': array([ 0.00772192,  0.01339233,  0.01235969, ..., -0.00363765,\n",
       "        -0.00424046,  0.        ], dtype=float32),\n",
       " '1311-phrase.wav': array([-0.00765795, -0.01228973, -0.01087676, ...,  0.01635836,\n",
       "         0.01909284,  0.        ], dtype=float32),\n",
       " '1314-phrase.wav': array([ 0.00503924,  0.00811937,  0.0065147 , ..., -0.00195633,\n",
       "        -0.00240608,  0.        ], dtype=float32),\n",
       " '1315-phrase.wav': array([ 0.0008087 ,  0.00158055,  0.00181231, ..., -0.00120496,\n",
       "         0.00028398,  0.        ], dtype=float32),\n",
       " '1317-phrase.wav': array([-0.00302865, -0.00482933, -0.00440587, ..., -0.00154267,\n",
       "        -0.00171994,  0.        ], dtype=float32),\n",
       " '1325-phrase.wav': array([-0.00169014, -0.00264864, -0.00235929, ...,  0.00121388,\n",
       "         0.00105827,  0.        ], dtype=float32),\n",
       " '1330-phrase.wav': array([-0.00381576, -0.006786  , -0.00588385, ...,  0.0620859 ,\n",
       "         0.05894908,  0.06533621], dtype=float32),\n",
       " '1332-phrase.wav': array([-0.0011037 , -0.00338928, -0.00428193, ..., -0.00599635,\n",
       "        -0.00872737,  0.        ], dtype=float32),\n",
       " '1334-phrase.wav': array([-0.00079849, -0.00212425, -0.00197056, ..., -0.00531955,\n",
       "        -0.00937874,  0.        ], dtype=float32),\n",
       " '1341-phrase.wav': array([ 0.00711692,  0.01130082,  0.01011967, ..., -0.00457802,\n",
       "        -0.00676779,  0.        ], dtype=float32),\n",
       " '138-phrase.wav': array([-0.00371621, -0.00620419, -0.0057973 , ...,  0.00805343,\n",
       "         0.00956517,  0.01022746], dtype=float32),\n",
       " '1382-phrase.wav': array([ 7.03334529e-03,  1.19863981e-02,  1.01135867e-02, ...,\n",
       "        -5.61593006e-05,  1.36889485e-05,  0.00000000e+00], dtype=float32),\n",
       " '1383-phrase.wav': array([ 0.00255955,  0.0058373 ,  0.00720168, ..., -0.03819487,\n",
       "        -0.03827867,  0.        ], dtype=float32),\n",
       " '1386-phrase.wav': array([0.00363415, 0.00673568, 0.00673198, ..., 0.00698955, 0.00501179,\n",
       "        0.        ], dtype=float32),\n",
       " '1388-phrase.wav': array([ 0.00229838,  0.00346952,  0.00303905, ..., -0.00579853,\n",
       "        -0.00799693,  0.        ], dtype=float32),\n",
       " '1389-phrase.wav': array([-0.00019631,  0.00039199,  0.00044597, ...,  0.00022796,\n",
       "         0.00098861,  0.        ], dtype=float32),\n",
       " '139-phrase.wav': array([ 0.00845795,  0.01477424,  0.01224525, ..., -0.00778419,\n",
       "        -0.00642158,  0.        ], dtype=float32),\n",
       " '1390-phrase.wav': array([0.01290464, 0.01964745, 0.01841133, ..., 0.00954818, 0.00811916,\n",
       "        0.00873218], dtype=float32),\n",
       " '1391-phrase.wav': array([-0.00092252, -0.00085835, -0.0010934 , ..., -0.0092164 ,\n",
       "        -0.01077896,  0.        ], dtype=float32),\n",
       " '1397-phrase.wav': array([ 2.5630783e-05, -8.7781547e-04, -9.4394764e-04, ...,\n",
       "         7.1939449e-03,  7.9362961e-03,  0.0000000e+00], dtype=float32),\n",
       " '1399-phrase.wav': array([0.00129654, 0.00195965, 0.00169194, ..., 0.00863836, 0.00776314,\n",
       "        0.        ], dtype=float32),\n",
       " '1402-phrase.wav': array([-0.00512615, -0.01004504, -0.00802186, ..., -0.02729187,\n",
       "        -0.02963795,  0.        ], dtype=float32),\n",
       " '1403-phrase.wav': array([-0.00149466, -0.00298206, -0.00184359, ..., -0.01125798,\n",
       "        -0.0149259 ,  0.        ], dtype=float32),\n",
       " '1404-phrase.wav': array([-2.0775668e-05, -1.2812392e-04, -4.1835432e-05, ...,\n",
       "        -5.1480450e-04, -1.1611462e-03,  0.0000000e+00], dtype=float32),\n",
       " '1405-phrase.wav': array([-0.00037897, -0.00052136, -0.00093268, ..., -0.00095085,\n",
       "        -0.00110385,  0.        ], dtype=float32),\n",
       " '1407-phrase.wav': array([-0.00667349, -0.01215656, -0.01080671, ..., -0.01044801,\n",
       "        -0.01083816,  0.        ], dtype=float32),\n",
       " '141-phrase.wav': array([ 0.00151443,  0.00324654,  0.0022726 , ..., -0.00126498,\n",
       "        -0.00121705,  0.        ], dtype=float32),\n",
       " '1414-phrase.wav': array([-0.00107305, -0.0014879 , -0.00149334, ...,  0.01682348,\n",
       "         0.01611958,  0.        ], dtype=float32),\n",
       " '1416-phrase.wav': array([ 0.00237115,  0.00492304,  0.00478165, ..., -0.00595729,\n",
       "        -0.00402535,  0.        ], dtype=float32),\n",
       " '1418-phrase.wav': array([-0.00391917, -0.00608625, -0.00562083, ...,  0.00725749,\n",
       "         0.00777274,  0.        ], dtype=float32),\n",
       " '142-phrase.wav': array([-0.00301392, -0.0021064 , -0.0027889 , ...,  0.00182808,\n",
       "         0.00236034,  0.        ], dtype=float32),\n",
       " '1424-phrase.wav': array([-0.00221161, -0.00358441, -0.00311709, ...,  0.00555981,\n",
       "         0.00539782,  0.00478749], dtype=float32),\n",
       " '1426-phrase.wav': array([-0.00095332, -0.00148894, -0.00121911, ..., -0.00222828,\n",
       "        -0.00186895,  0.        ], dtype=float32),\n",
       " '1428-phrase.wav': array([ 0.00349414,  0.00588864,  0.00562527, ..., -0.00199767,\n",
       "        -0.00170741,  0.        ], dtype=float32),\n",
       " '143-phrase.wav': array([-0.00018718, -0.00063278, -0.00036346, ..., -0.01560252,\n",
       "        -0.01546103,  0.        ], dtype=float32),\n",
       " '1433-phrase.wav': array([0.00036334, 0.00037432, 0.00012764, ..., 0.00169827, 0.00226302,\n",
       "        0.        ], dtype=float32),\n",
       " '1434-phrase.wav': array([ 0.00387385,  0.00722399,  0.00600081, ..., -0.0054482 ,\n",
       "        -0.00930191,  0.        ], dtype=float32),\n",
       " '1436-phrase.wav': array([-0.00243885, -0.00345223, -0.0032155 , ..., -0.01295859,\n",
       "        -0.01147898,  0.        ], dtype=float32),\n",
       " '1437-phrase.wav': array([-0.00281513, -0.00350774, -0.00456748, ..., -0.00377472,\n",
       "        -0.0046662 ,  0.        ], dtype=float32),\n",
       " '1438-phrase.wav': array([-0.0002993 , -0.00100768, -0.00082156, ...,  0.00420216,\n",
       "         0.00587795,  0.        ], dtype=float32),\n",
       " '1440-phrase.wav': array([ 0.00020618, -0.00069555, -0.00162402, ...,  0.00036314,\n",
       "         0.0024697 ,  0.        ], dtype=float32),\n",
       " '1444-phrase.wav': array([ 0.00128301,  0.00248588,  0.00190466, ..., -0.00205067,\n",
       "        -0.00264114,  0.        ], dtype=float32),\n",
       " '1447-phrase.wav': array([-0.00231574, -0.00396578, -0.00377552, ..., -0.00037817,\n",
       "        -0.00073365,  0.        ], dtype=float32),\n",
       " '1448-phrase.wav': array([-8.1333303e-05,  3.0171571e-04,  5.4564577e-04, ...,\n",
       "         7.5928499e-03,  6.8759457e-03,  0.0000000e+00], dtype=float32),\n",
       " '1450-phrase.wav': array([ 0.00415533,  0.0068317 ,  0.00611208, ...,  0.00214391,\n",
       "        -0.00227239,  0.        ], dtype=float32),\n",
       " '1451-phrase.wav': array([ 0.01128914,  0.01803261,  0.01593499, ..., -0.00234965,\n",
       "        -0.00135188,  0.        ], dtype=float32),\n",
       " '1453-phrase.wav': array([ 0.00428493,  0.00693561,  0.00586758, ..., -0.00336135,\n",
       "        -0.00267681,  0.        ], dtype=float32),\n",
       " '1456-phrase.wav': array([-0.01014415, -0.01668204, -0.01457183, ...,  0.00098852,\n",
       "         0.00122364,  0.        ], dtype=float32),\n",
       " '1458-phrase.wav': array([0.00804026, 0.01342149, 0.01173445, ..., 0.02038063, 0.02375747,\n",
       "        0.        ], dtype=float32),\n",
       " '146-phrase.wav': array([-0.00455843, -0.00776164, -0.00613541, ...,  0.00549791,\n",
       "         0.00752614,  0.        ], dtype=float32),\n",
       " '1462-phrase.wav': array([ 0.00143064,  0.00178205,  0.00201821, ..., -0.00874281,\n",
       "        -0.0091927 ,  0.        ], dtype=float32),\n",
       " '1463-phrase.wav': array([ 0.00081279,  0.000657  ,  0.0006091 , ..., -0.00152321,\n",
       "        -0.00152601,  0.        ], dtype=float32),\n",
       " '1465-phrase.wav': array([ 0.01083522,  0.01807125,  0.01576505, ..., -0.00694981,\n",
       "        -0.00820494,  0.        ], dtype=float32),\n",
       " '1466-phrase.wav': array([0.00684958, 0.0117142 , 0.01184908, ..., 0.01948645, 0.02098116,\n",
       "        0.        ], dtype=float32),\n",
       " '1470-phrase.wav': array([-0.00802343, -0.01381479, -0.01271626, ..., -0.00296806,\n",
       "        -0.003035  ,  0.        ], dtype=float32),\n",
       " '1472-phrase.wav': array([-0.00342415, -0.00571924, -0.00517874, ..., -0.00472231,\n",
       "        -0.00369925,  0.        ], dtype=float32),\n",
       " '1481-phrase.wav': array([-0.00227386, -0.00361661, -0.00267939, ..., -0.00647712,\n",
       "         0.00433606,  0.        ], dtype=float32),\n",
       " '1482-phrase.wav': array([ 0.0031063 ,  0.00507103,  0.00418563, ...,  0.00037401,\n",
       "        -0.00026136,  0.        ], dtype=float32),\n",
       " '1484-phrase.wav': array([ 0.00666379,  0.01119813,  0.00978203, ..., -0.00203888,\n",
       "        -0.00179057,  0.        ], dtype=float32),\n",
       " '1489-phrase.wav': array([0.00092024, 0.00157895, 0.00068204, ..., 0.02790417, 0.03138541,\n",
       "        0.        ], dtype=float32),\n",
       " '150-phrase.wav': array([-0.00147357, -0.002626  , -0.00277683, ..., -0.00550483,\n",
       "        -0.00507232,  0.        ], dtype=float32),\n",
       " '1500-phrase.wav': array([-4.3064935e-04,  1.1487070e-05,  5.2751042e-05, ...,\n",
       "        -5.5379379e-03, -5.0869342e-03,  0.0000000e+00], dtype=float32),\n",
       " '152-phrase.wav': array([0.00267488, 0.00520312, 0.00447655, ..., 0.00702163, 0.00807276,\n",
       "        0.        ], dtype=float32),\n",
       " '1525-phrase.wav': array([0.00197599, 0.00333764, 0.00249631, ..., 0.00532867, 0.00508386,\n",
       "        0.        ], dtype=float32),\n",
       " '1545-phrase.wav': array([0.00127976, 0.00227431, 0.00205122, ..., 0.00504729, 0.00762542,\n",
       "        0.        ], dtype=float32),\n",
       " '1547-phrase.wav': array([-0.00356445, -0.00556343, -0.0046722 , ...,  0.00436833,\n",
       "         0.00413712,  0.        ], dtype=float32),\n",
       " '1548-phrase.wav': array([ 0.00390305,  0.0063956 ,  0.00470584, ..., -0.00179669,\n",
       "        -0.00242774,  0.        ], dtype=float32),\n",
       " '1549-phrase.wav': array([ 0.00158457,  0.00271968,  0.00216314, ..., -0.03757209,\n",
       "        -0.03928119,  0.        ], dtype=float32),\n",
       " '155-phrase.wav': array([0.00259321, 0.00395553, 0.00337975, ..., 0.00291603, 0.00291277,\n",
       "        0.        ], dtype=float32),\n",
       " '1551-phrase.wav': array([ 0.00040181,  0.00085091,  0.00056477, ..., -0.01776152,\n",
       "        -0.0222018 ,  0.        ], dtype=float32),\n",
       " '1553-phrase.wav': array([0.00245296, 0.00368509, 0.00325053, ..., 0.02275498, 0.03034862,\n",
       "        0.        ], dtype=float32),\n",
       " '1554-phrase.wav': array([-0.00111782, -0.00213252, -0.00235416, ..., -0.00652407,\n",
       "        -0.00770157,  0.        ], dtype=float32),\n",
       " '1555-phrase.wav': array([-0.02168492, -0.03360414, -0.03073881, ..., -0.03696971,\n",
       "        -0.04047273,  0.        ], dtype=float32),\n",
       " '1557-phrase.wav': array([-0.00084746, -0.00146998, -0.00121788, ...,  0.00730659,\n",
       "         0.00771294,  0.        ], dtype=float32),\n",
       " '1559-phrase.wav': array([ 0.00054081,  0.00078889,  0.00054022, ..., -0.01208506,\n",
       "        -0.01624927,  0.        ], dtype=float32),\n",
       " '1563-phrase.wav': array([ 0.01078026,  0.01836227,  0.01562077, ..., -0.00473132,\n",
       "        -0.00450959,  0.        ], dtype=float32),\n",
       " '1564-phrase.wav': array([-2.7402337e-05, -4.8800135e-05,  3.5470977e-04, ...,\n",
       "        -2.7945993e-02, -2.9892538e-02,  0.0000000e+00], dtype=float32),\n",
       " '1565-phrase.wav': array([ 0.00035473,  0.00048524,  0.00039238, ..., -0.0129028 ,\n",
       "        -0.01438385,  0.        ], dtype=float32),\n",
       " '1567-phrase.wav': array([ 0.00057755,  0.00083771,  0.00101889, ..., -0.00343454,\n",
       "        -0.00393314,  0.        ], dtype=float32),\n",
       " '1570-phrase.wav': array([ 0.00016916,  0.00030331,  0.00079511, ..., -0.00133666,\n",
       "        -0.00149415,  0.        ], dtype=float32),\n",
       " '1572-phrase.wav': array([ 1.6107403e-04, -2.0216584e-04,  5.3412412e-05, ...,\n",
       "        -5.1668370e-03, -6.0538864e-03,  0.0000000e+00], dtype=float32),\n",
       " '1576-phrase.wav': array([ 0.01610998,  0.02929144,  0.02626161, ..., -0.01172479,\n",
       "        -0.01137704,  0.        ], dtype=float32),\n",
       " '1578-phrase.wav': array([-0.00192865, -0.00292583, -0.0027728 , ..., -0.0178871 ,\n",
       "        -0.0245775 ,  0.        ], dtype=float32),\n",
       " '1581-phrase.wav': array([0.00136042, 0.00183331, 0.00219582, ..., 0.01879549, 0.02020136,\n",
       "        0.        ], dtype=float32),\n",
       " '1591-phrase.wav': array([-0.00125296, -0.00202003, -0.00199046, ..., -0.00143027,\n",
       "        -0.00102129,  0.        ], dtype=float32),\n",
       " '1599-phrase.wav': array([-0.00387559, -0.00677817, -0.00601475, ..., -0.01222971,\n",
       "        -0.01393873,  0.        ], dtype=float32),\n",
       " '1601-phrase.wav': array([-0.00448959, -0.00773282, -0.00697406, ..., -0.03406519,\n",
       "        -0.0369718 ,  0.        ], dtype=float32),\n",
       " '1604-phrase.wav': array([-0.00268565, -0.00390383, -0.00341044, ..., -0.01509272,\n",
       "        -0.01749843,  0.        ], dtype=float32),\n",
       " '1610-phrase.wav': array([ 0.00236485,  0.00381653,  0.00317806, ..., -0.02272269,\n",
       "        -0.02158009, -0.02660151], dtype=float32),\n",
       " '1613-phrase.wav': array([ 0.00411569,  0.00715874,  0.00638182, ...,  0.00011755,\n",
       "        -0.00030921,  0.        ], dtype=float32),\n",
       " '1614-phrase.wav': array([ 0.00220914,  0.00316204,  0.00260178, ...,  0.00022201,\n",
       "        -0.00026016,  0.        ], dtype=float32),\n",
       " '1617-phrase.wav': array([ 0.00132793,  0.00205231,  0.00212436, ..., -0.00065179,\n",
       "        -0.00022278,  0.        ], dtype=float32),\n",
       " '1620-phrase.wav': array([-0.00173963, -0.00311646, -0.00163501, ...,  0.00355661,\n",
       "         0.00419752,  0.        ], dtype=float32),\n",
       " '1621-phrase.wav': array([ 0.00522079,  0.00873076,  0.00673439, ..., -0.00215274,\n",
       "        -0.00274516,  0.        ], dtype=float32),\n",
       " '1622-phrase.wav': array([ 0.00088214,  0.00154546,  0.00158651, ..., -0.01155531,\n",
       "        -0.01196022,  0.        ], dtype=float32),\n",
       " '1624-phrase.wav': array([ 0.00044668,  0.00051798,  0.00028659, ..., -0.00323738,\n",
       "        -0.00266006,  0.        ], dtype=float32),\n",
       " '1626-phrase.wav': array([-0.00063725, -0.00098023, -0.00073038, ..., -0.00349898,\n",
       "        -0.00432568,  0.        ], dtype=float32),\n",
       " '1629-phrase.wav': array([ 0.00716377,  0.01291166,  0.01114929, ..., -0.00384803,\n",
       "        -0.006616  ,  0.        ], dtype=float32),\n",
       " '1630-phrase.wav': array([-9.5566195e-03, -1.5887069e-02, -1.2223755e-02, ...,\n",
       "        -1.2274908e-03,  4.4571229e-06,  0.0000000e+00], dtype=float32),\n",
       " '1631-phrase.wav': array([-0.00622864, -0.01058549, -0.00950395, ...,  0.00343074,\n",
       "         0.0042129 ,  0.        ], dtype=float32),\n",
       " '1632-phrase.wav': array([ 0.00198899,  0.00260495,  0.00230881, ..., -0.00357418,\n",
       "        -0.00445461,  0.        ], dtype=float32),\n",
       " '1638-phrase.wav': array([0.00276244, 0.00555043, 0.0050455 , ..., 0.04878328, 0.04536781,\n",
       "        0.05055083], dtype=float32),\n",
       " '1639-phrase.wav': array([ 0.00110932,  0.00197088,  0.00223605, ..., -0.0092049 ,\n",
       "        -0.01017061,  0.        ], dtype=float32),\n",
       " '1641-phrase.wav': array([-0.00070375, -0.00094339, -0.00091647, ..., -0.00049253,\n",
       "        -0.0008884 ,  0.        ], dtype=float32),\n",
       " '1644-phrase.wav': array([ 0.00806222,  0.01287541,  0.01136616, ..., -0.00662537,\n",
       "        -0.00731844,  0.        ], dtype=float32),\n",
       " '1646-phrase.wav': array([ 0.00571226,  0.00920468,  0.00847778, ..., -0.000534  ,\n",
       "        -0.00076833,  0.        ], dtype=float32),\n",
       " '1647-phrase.wav': array([-0.00017486, -0.00060867, -0.0002486 , ...,  0.00289364,\n",
       "         0.00353539,  0.        ], dtype=float32),\n",
       " '1652-phrase.wav': array([-0.00230714, -0.00365573, -0.00333601, ...,  0.00169327,\n",
       "         0.00137084,  0.        ], dtype=float32),\n",
       " '1655-phrase.wav': array([0.0059404 , 0.00960252, 0.00872839, ..., 0.00980322, 0.00893626,\n",
       "        0.        ], dtype=float32),\n",
       " '1656-phrase.wav': array([ 0.00518794,  0.00827823,  0.00641875, ..., -0.01724421,\n",
       "        -0.01504481,  0.        ], dtype=float32),\n",
       " '1658-phrase.wav': array([-0.00103353, -0.00132548, -0.00157676, ...,  0.00756478,\n",
       "         0.00757824,  0.        ], dtype=float32),\n",
       " '1662-phrase.wav': array([-0.00079274, -0.00121635, -0.00114902, ..., -0.04297795,\n",
       "        -0.04598426,  0.        ], dtype=float32),\n",
       " '1664-phrase.wav': array([-0.00884183, -0.01444974, -0.01266169, ..., -0.00459018,\n",
       "        -0.0049003 ,  0.        ], dtype=float32),\n",
       " '1665-phrase.wav': array([-0.00192969, -0.00314013, -0.00292862, ..., -0.0079818 ,\n",
       "        -0.00870157,  0.        ], dtype=float32),\n",
       " '1666-phrase.wav': array([ 0.0042065 ,  0.00706956,  0.0062001 , ..., -0.01488652,\n",
       "        -0.01705136,  0.        ], dtype=float32),\n",
       " '1667-phrase.wav': array([-0.00728838, -0.01240309, -0.0113426 , ...,  0.00102877,\n",
       "         0.00132437,  0.        ], dtype=float32),\n",
       " '1668-phrase.wav': array([ 0.00288917,  0.00548509,  0.00504512, ..., -0.00136651,\n",
       "        -0.00165533,  0.        ], dtype=float32),\n",
       " '1671-phrase.wav': array([ 0.01486094,  0.02474068,  0.02214825, ..., -0.00718485,\n",
       "        -0.00828078,  0.        ], dtype=float32),\n",
       " '1672-phrase.wav': array([ 0.00215597,  0.00326911,  0.00315916, ..., -0.01708213,\n",
       "        -0.01792443,  0.        ], dtype=float32),\n",
       " '1676-phrase.wav': array([ 0.00452663,  0.00746373,  0.00639524, ..., -0.00332051,\n",
       "        -0.0036873 ,  0.        ], dtype=float32),\n",
       " '1677-phrase.wav': array([-0.00210738, -0.00333567, -0.00292939, ..., -0.01638415,\n",
       "        -0.01672606,  0.        ], dtype=float32),\n",
       " '1679-phrase.wav': array([ 0.00157634,  0.003069  ,  0.00243047, ..., -0.00780568,\n",
       "        -0.01233522,  0.        ], dtype=float32),\n",
       " '1683-phrase.wav': array([-0.00423978, -0.00711355, -0.00585435, ..., -0.00556151,\n",
       "        -0.00730272, -0.00626874], dtype=float32),\n",
       " '1689-phrase.wav': array([ 0.00280913,  0.00519521,  0.00433084, ..., -0.00737493,\n",
       "        -0.00843346,  0.        ], dtype=float32),\n",
       " '1691-phrase.wav': array([0.0076689 , 0.01151227, 0.00985861, ..., 0.00463033, 0.0014399 ,\n",
       "        0.        ], dtype=float32),\n",
       " '1713-phrase.wav': array([-0.0077343 , -0.01326601, -0.01149204, ..., -0.00400109,\n",
       "        -0.00460437,  0.        ], dtype=float32),\n",
       " '1714-phrase.wav': array([-0.00383833, -0.0062081 , -0.00553733, ..., -0.00978913,\n",
       "        -0.01045876,  0.        ], dtype=float32),\n",
       " '1715-phrase.wav': array([-0.00481924, -0.00815207, -0.00696777, ..., -0.00604032,\n",
       "        -0.00855193,  0.        ], dtype=float32),\n",
       " '1717-phrase.wav': array([ 0.00039907,  0.00062917,  0.00058182, ..., -0.00188668,\n",
       "        -0.00179762,  0.        ], dtype=float32),\n",
       " '1719-phrase.wav': array([-1.9006795e-03, -3.1941363e-03, -2.4451285e-03, ...,\n",
       "        -2.6436584e-04, -5.9564496e-05,  0.0000000e+00], dtype=float32),\n",
       " '1721-phrase.wav': array([-0.00062176, -0.0014055 , -0.00105122, ...,  0.00320784,\n",
       "         0.00187585,  0.        ], dtype=float32),\n",
       " '1722-phrase.wav': array([0.00849604, 0.01108471, 0.00777386, ..., 0.00293208, 0.004275  ,\n",
       "        0.        ], dtype=float32),\n",
       " '1723-phrase.wav': array([0.00302112, 0.00485333, 0.00421686, ..., 0.00054292, 0.00018685,\n",
       "        0.        ], dtype=float32),\n",
       " '1741-phrase.wav': array([0.000577  , 0.00128298, 0.0010835 , ..., 0.00166922, 0.0007221 ,\n",
       "        0.        ], dtype=float32),\n",
       " '1743-phrase.wav': array([-0.00128253, -0.00228109, -0.00201302, ...,  0.00488687,\n",
       "         0.00534727,  0.        ], dtype=float32),\n",
       " '1746-phrase.wav': array([0.00169937, 0.00241568, 0.00247747, ..., 0.0026341 , 0.00338278,\n",
       "        0.        ], dtype=float32),\n",
       " '1747-phrase.wav': array([0.00229969, 0.00431378, 0.00357259, ..., 0.00223301, 0.00330486,\n",
       "        0.        ], dtype=float32),\n",
       " '1748-phrase.wav': array([-0.00110473, -0.00173248, -0.00186013, ...,  0.00043158,\n",
       "         0.00034172,  0.        ], dtype=float32),\n",
       " '1749-phrase.wav': array([-0.0107311 , -0.01750484, -0.01477099, ..., -0.00575692,\n",
       "        -0.01092307,  0.        ], dtype=float32),\n",
       " '1752-phrase.wav': array([0.00062619, 0.000907  , 0.00091073, ..., 0.0009326 , 0.00179668,\n",
       "        0.        ], dtype=float32),\n",
       " '1755-phrase.wav': array([0.00126804, 0.0018628 , 0.00149974, ..., 0.00839544, 0.00886207,\n",
       "        0.        ], dtype=float32),\n",
       " '1757-phrase.wav': array([ 0.00429613,  0.00746398,  0.00698   , ..., -0.00813906,\n",
       "        -0.00694754,  0.        ], dtype=float32),\n",
       " '1760-phrase.wav': array([-2.4562695e-03, -4.2889514e-03, -3.9452524e-03, ...,\n",
       "        -2.0623310e-04,  9.5180585e-06,  0.0000000e+00], dtype=float32),\n",
       " '1762-phrase.wav': array([ 0.00530051,  0.00904563,  0.00758363, ..., -0.00167924,\n",
       "        -0.0016836 ,  0.        ], dtype=float32),\n",
       " '1763-phrase.wav': array([-0.00123691, -0.0013917 , -0.00095797, ..., -0.04228009,\n",
       "        -0.04878837,  0.        ], dtype=float32),\n",
       " '1764-phrase.wav': array([-0.0749242 , -0.12506078, -0.10908305, ..., -0.10040671,\n",
       "        -0.1094375 ,  0.        ], dtype=float32),\n",
       " '1769-phrase.wav': array([-9.4627560e-04, -1.6397914e-03, -1.6514559e-03, ...,\n",
       "         3.8823797e-04,  4.3231332e-05,  0.0000000e+00], dtype=float32),\n",
       " '1770-phrase.wav': array([-0.00311301, -0.00471332, -0.00371265, ...,  0.00198469,\n",
       "         0.00251782,  0.        ], dtype=float32),\n",
       " '1776-phrase.wav': array([-0.00366778, -0.00519571, -0.00458946, ..., -0.01395114,\n",
       "        -0.01326142,  0.        ], dtype=float32),\n",
       " '1778-phrase.wav': array([0.00207975, 0.00322793, 0.00319454, ..., 0.00379871, 0.00410066,\n",
       "        0.        ], dtype=float32),\n",
       " '1779-phrase.wav': array([-0.00460065, -0.00775587, -0.00719958, ..., -0.00338336,\n",
       "        -0.00240866,  0.        ], dtype=float32),\n",
       " '1780-phrase.wav': array([-0.0029017 , -0.00531581, -0.00475947, ...,  0.00185074,\n",
       "         0.00211454,  0.        ], dtype=float32),\n",
       " '1782-phrase.wav': array([-0.00443174, -0.00739053, -0.00662455, ..., -0.02267374,\n",
       "        -0.02585267,  0.        ], dtype=float32),\n",
       " '1783-phrase.wav': array([-0.00504662, -0.00757403, -0.00618327, ...,  0.00804845,\n",
       "         0.00963483,  0.        ], dtype=float32),\n",
       " '1784-phrase.wav': array([-0.01572483, -0.02638448, -0.02168167, ..., -0.00179642,\n",
       "        -0.00070782,  0.        ], dtype=float32),\n",
       " '1785-phrase.wav': array([-0.00044422, -0.0007745 , -0.00045583, ..., -0.01194183,\n",
       "        -0.01227272,  0.        ], dtype=float32),\n",
       " '1788-phrase.wav': array([0.0025138 , 0.00409241, 0.00322325, ..., 0.00054173, 0.00035375,\n",
       "        0.        ], dtype=float32),\n",
       " '1789-phrase.wav': array([ 3.3133378e-04,  9.2117250e-04,  7.7749917e-04, ...,\n",
       "        -8.4066351e-06,  3.8374562e-04,  0.0000000e+00], dtype=float32),\n",
       " '1790-phrase.wav': array([0.01281302, 0.02102677, 0.0189765 , ..., 0.00840629, 0.00769389,\n",
       "        0.        ], dtype=float32),\n",
       " '1795-phrase.wav': array([-0.00256969, -0.00531471, -0.00431834, ..., -0.08325959,\n",
       "        -0.08351083,  0.        ], dtype=float32),\n",
       " '1796-phrase.wav': array([-0.00199574, -0.00321154, -0.0027466 , ..., -0.01140553,\n",
       "        -0.01089395,  0.        ], dtype=float32),\n",
       " '1797-phrase.wav': array([-0.00172001, -0.00223115, -0.00215325, ..., -0.02589972,\n",
       "        -0.02822196,  0.        ], dtype=float32),\n",
       " '1803-phrase.wav': array([-0.0014616 , -0.0026304 , -0.00229903, ..., -0.00397301,\n",
       "        -0.00452293,  0.        ], dtype=float32),\n",
       " '1804-phrase.wav': array([-0.0012112 , -0.0016742 , -0.0013525 , ...,  0.0191851 ,\n",
       "         0.01865899,  0.        ], dtype=float32),\n",
       " '1806-phrase.wav': array([0.00081086, 0.00153942, 0.00135651, ..., 0.00664367, 0.00731879,\n",
       "        0.        ], dtype=float32),\n",
       " '1807-phrase.wav': array([ 0.01741739,  0.02953328,  0.02568652, ..., -0.00188987,\n",
       "        -0.00026466,  0.        ], dtype=float32),\n",
       " '1809-phrase.wav': array([-0.089688  , -0.15035725, -0.13145316, ..., -0.15258057,\n",
       "        -0.16895393,  0.        ], dtype=float32),\n",
       " '1810-phrase.wav': array([ 0.00473673,  0.00834219,  0.00768815, ..., -0.00456673,\n",
       "        -0.00923231,  0.        ], dtype=float32),\n",
       " '1811-phrase.wav': array([0.00310738, 0.00495355, 0.00458805, ..., 0.01327657, 0.01314414,\n",
       "        0.0019193 ], dtype=float32),\n",
       " '1817-phrase.wav': array([-0.00579348, -0.00982136, -0.00855278, ..., -0.02188491,\n",
       "        -0.02396368,  0.        ], dtype=float32),\n",
       " '1818-phrase.wav': array([-0.00030874, -0.00056963, -0.00110633, ..., -0.00360701,\n",
       "        -0.00657425,  0.        ], dtype=float32),\n",
       " '1820-phrase.wav': array([1.1898841e-03, 1.5600648e-03, 1.1007334e-03, ..., 8.5686246e-05,\n",
       "        1.6185532e-03, 0.0000000e+00], dtype=float32),\n",
       " '1821-phrase.wav': array([-0.00937984, -0.01580387, -0.01403413, ..., -0.00376486,\n",
       "        -0.00504635,  0.        ], dtype=float32),\n",
       " '1825-phrase.wav': array([-0.00048867, -0.00084155, -0.00081738, ...,  0.00340928,\n",
       "         0.00468939,  0.        ], dtype=float32),\n",
       " '1826-phrase.wav': array([-0.00993834, -0.01612158, -0.01464285, ...,  0.00086132,\n",
       "         0.00242698,  0.        ], dtype=float32),\n",
       " '1828-phrase.wav': array([-0.00163342, -0.00347535, -0.00269689, ..., -0.0053375 ,\n",
       "        -0.00402266,  0.        ], dtype=float32),\n",
       " '1829-phrase.wav': array([ 0.00100912,  0.00136548,  0.00055852, ..., -0.01902   ,\n",
       "        -0.01782349,  0.        ], dtype=float32),\n",
       " '1830-phrase.wav': array([-0.00178641, -0.00326212, -0.00259885, ..., -0.00381534,\n",
       "        -0.00177597,  0.        ], dtype=float32),\n",
       " '1832-phrase.wav': array([ 7.6971308e-05, -2.2160301e-04, -2.5722658e-04, ...,\n",
       "        -1.8956866e-03, -2.5604479e-03,  0.0000000e+00], dtype=float32),\n",
       " '1834-phrase.wav': array([ 0.0101477 ,  0.0172352 ,  0.01618107, ..., -0.04093542,\n",
       "        -0.04749443,  0.        ], dtype=float32),\n",
       " '1835-phrase.wav': array([-0.0096883 , -0.01500788, -0.0122422 , ...,  0.0083129 ,\n",
       "         0.00881748,  0.        ], dtype=float32),\n",
       " '1836-phrase.wav': array([-0.00437376, -0.00755508, -0.00710113, ...,  0.01787383,\n",
       "         0.01770831,  0.        ], dtype=float32),\n",
       " '1863-phrase.wav': array([ 0.01100272,  0.01934609,  0.01666874, ..., -0.01366972,\n",
       "        -0.01608266,  0.        ], dtype=float32),\n",
       " '1864-phrase.wav': array([-0.00229528, -0.00417445, -0.00369229, ..., -0.03744118,\n",
       "        -0.03540694,  0.        ], dtype=float32),\n",
       " '1867-phrase.wav': array([-0.00299559, -0.00540567, -0.00458858, ...,  0.00750646,\n",
       "         0.00775023,  0.        ], dtype=float32),\n",
       " '1869-phrase.wav': array([-0.09088655, -0.15156727, -0.13310935, ..., -0.13428491,\n",
       "        -0.15476704,  0.        ], dtype=float32),\n",
       " '1889-phrase.wav': array([ 0.00208335,  0.00373454,  0.00313249, ..., -0.00303307,\n",
       "        -0.00250839,  0.        ], dtype=float32),\n",
       " '1890-phrase.wav': array([-0.00494032, -0.0078365 , -0.00675233, ..., -0.0001819 ,\n",
       "        -0.0009605 ,  0.        ], dtype=float32),\n",
       " '1892-phrase.wav': array([0.00201404, 0.00327863, 0.00267774, ..., 0.00121962, 0.0005862 ,\n",
       "        0.        ], dtype=float32),\n",
       " '1897-phrase.wav': array([-0.09002299, -0.15090391, -0.13120726, ..., -0.14651507,\n",
       "        -0.17412086,  0.        ], dtype=float32),\n",
       " '1901-phrase.wav': array([0.00048356, 0.00204745, 0.00172372, ..., 0.00511664, 0.00714091,\n",
       "        0.        ], dtype=float32),\n",
       " '1902-phrase.wav': array([-0.09541389, -0.15855572, -0.13826801, ..., -0.11797648,\n",
       "        -0.13237299,  0.        ], dtype=float32),\n",
       " '1908-phrase.wav': array([-0.01101583, -0.01873695, -0.01682591, ..., -0.02038052,\n",
       "        -0.02023895,  0.        ], dtype=float32),\n",
       " '1909-phrase.wav': array([ 0.01356117,  0.02234221,  0.01871225, ..., -0.00985747,\n",
       "        -0.01083113,  0.        ], dtype=float32),\n",
       " '1912-phrase.wav': array([0.00081216, 0.00159748, 0.00150676, ..., 0.01120298, 0.01187473,\n",
       "        0.        ], dtype=float32),\n",
       " '1913-phrase.wav': array([-0.00674058, -0.01073836, -0.00866435, ...,  0.00688196,\n",
       "         0.00764502,  0.        ], dtype=float32),\n",
       " '1914-phrase.wav': array([-0.00136417, -0.00216243, -0.00197988, ..., -0.00089704,\n",
       "        -0.00125576,  0.        ], dtype=float32),\n",
       " '1930-phrase.wav': array([-0.00162081, -0.00305447, -0.00265728, ...,  0.00353352,\n",
       "         0.00202072,  0.        ], dtype=float32),\n",
       " '1937-phrase.wav': array([ 0.0002813 ,  0.00100908,  0.00074872, ..., -0.00498763,\n",
       "        -0.00475503,  0.        ], dtype=float32),\n",
       " '1938-phrase.wav': array([ 1.6199606e-02,  2.7385516e-02,  2.3939911e-02, ...,\n",
       "        -2.0025386e-03,  7.8324985e-05,  0.0000000e+00], dtype=float32),\n",
       " '1939-phrase.wav': array([0.00607819, 0.0107912 , 0.00921717, ..., 0.01460038, 0.01676411,\n",
       "        0.        ], dtype=float32),\n",
       " '1940-phrase.wav': array([0.00059399, 0.00090394, 0.00057488, ..., 0.00032484, 0.00012566,\n",
       "        0.        ], dtype=float32),\n",
       " '1941-phrase.wav': array([ 0.00151256,  0.00222716,  0.00254176, ..., -0.01064991,\n",
       "        -0.01162499,  0.        ], dtype=float32),\n",
       " '1945-phrase.wav': array([-0.00099901, -0.00130062, -0.00135945, ..., -0.00027574,\n",
       "         0.00014141,  0.        ], dtype=float32),\n",
       " '1946-phrase.wav': array([ 0.00202256,  0.00335472,  0.00307239, ..., -0.00155296,\n",
       "        -0.00085422,  0.        ], dtype=float32),\n",
       " '1950-phrase.wav': array([-0.00024457, -0.00018283, -0.00015624, ..., -0.01467103,\n",
       "        -0.01586617,  0.        ], dtype=float32),\n",
       " '1953-phrase.wav': array([-6.3340107e-05,  8.7519213e-05,  8.5994805e-05, ...,\n",
       "         1.2473987e-02,  1.3594024e-02,  0.0000000e+00], dtype=float32),\n",
       " '1955-phrase.wav': array([-0.00259808, -0.00351455, -0.0034445 , ...,  0.01104987,\n",
       "         0.01045381,  0.        ], dtype=float32),\n",
       " '1957-phrase.wav': array([-6.9214654e-04, -1.1793320e-03, -1.2480754e-03, ...,\n",
       "         5.3528747e-05, -1.1546287e-03,  0.0000000e+00], dtype=float32),\n",
       " '1960-phrase.wav': array([-0.00065471, -0.0014732 , -0.00182485, ..., -0.00366493,\n",
       "        -0.00384962, -0.00295463], dtype=float32),\n",
       " '1961-phrase.wav': array([0.00241345, 0.00416221, 0.00366546, ..., 0.00177381, 0.00154479,\n",
       "        0.        ], dtype=float32),\n",
       " '1963-phrase.wav': array([ 0.00206039,  0.0035149 ,  0.0031283 , ..., -0.00313114,\n",
       "        -0.00284417,  0.        ], dtype=float32),\n",
       " '1965-phrase.wav': array([-0.00056602, -0.00122823, -0.00086307, ...,  0.0010868 ,\n",
       "         0.00118079,  0.        ], dtype=float32),\n",
       " '1967-phrase.wav': array([ 0.00031269,  0.00029979,  0.00014589, ..., -0.00195559,\n",
       "        -0.00172666,  0.        ], dtype=float32),\n",
       " '1970-phrase.wav': array([0.00477613, 0.00773559, 0.006273  , ..., 0.007595  , 0.00917805,\n",
       "        0.        ], dtype=float32),\n",
       " '1972-phrase.wav': array([-0.00531154, -0.00851128, -0.00650614, ..., -0.00319667,\n",
       "         0.00282915,  0.        ], dtype=float32),\n",
       " '1973-phrase.wav': array([-0.00060813, -0.00069888, -0.0007932 , ...,  0.00191858,\n",
       "         0.00795955,  0.        ], dtype=float32),\n",
       " '1978-phrase.wav': array([0.00173503, 0.00264359, 0.00241073, ..., 0.01121527, 0.00918163,\n",
       "        0.        ], dtype=float32),\n",
       " '1986-phrase.wav': array([-0.00580956, -0.00966463, -0.0079135 , ..., -0.01167635,\n",
       "        -0.01214469,  0.        ], dtype=float32),\n",
       " '1987-phrase.wav': array([-0.00103906, -0.00202878, -0.001244  , ..., -0.0054044 ,\n",
       "        -0.00784371,  0.        ], dtype=float32),\n",
       " '1992-phrase.wav': array([-0.00088765, -0.00145   , -0.00097481, ..., -0.00196687,\n",
       "        -0.00203546,  0.        ], dtype=float32),\n",
       " '1994-phrase.wav': array([0.00211711, 0.00293766, 0.00281804, ..., 0.00582393, 0.00403275,\n",
       "        0.        ], dtype=float32),\n",
       " '1998-phrase.wav': array([0.00023447, 0.00024278, 0.00101386, ..., 0.00418383, 0.00428311,\n",
       "        0.        ], dtype=float32),\n",
       " '1999-phrase.wav': array([-0.00614918, -0.01010473, -0.00880908, ..., -0.00362679,\n",
       "        -0.00519198,  0.        ], dtype=float32),\n",
       " '2002-phrase.wav': array([-0.00109439, -0.00211772, -0.00145988, ...,  0.00989385,\n",
       "         0.0111707 ,  0.        ], dtype=float32),\n",
       " '2005-phrase.wav': array([0.0020159 , 0.00383551, 0.00295722, ..., 0.00503244, 0.00584232,\n",
       "        0.        ], dtype=float32),\n",
       " '2007-phrase.wav': array([-2.8294873e-05, -5.6373785e-05, -4.0490887e-04, ...,\n",
       "        -1.0034562e-03, -2.0307639e-04,  0.0000000e+00], dtype=float32),\n",
       " '2008-phrase.wav': array([ 0.00041062,  0.00023692,  0.00040253, ..., -0.00026368,\n",
       "         0.0001859 ,  0.        ], dtype=float32),\n",
       " '2009-phrase.wav': array([ 4.8254802e-05, -1.4615657e-04, -2.7677670e-04, ...,\n",
       "         1.4751124e-03,  1.9301407e-04,  0.0000000e+00], dtype=float32),\n",
       " '2010-phrase.wav': array([-0.00033907, -0.00020945, -0.00047568, ...,  0.00171975,\n",
       "         0.00169333,  0.        ], dtype=float32),\n",
       " '2012-phrase.wav': array([-0.00599017, -0.01033676, -0.00898005, ...,  0.00691808,\n",
       "         0.00693028,  0.        ], dtype=float32),\n",
       " '2014-phrase.wav': array([-6.0439197e-04, -6.4271566e-04, -8.5128116e-04, ...,\n",
       "        -3.7880821e-04, -7.9784651e-05,  0.0000000e+00], dtype=float32),\n",
       " '2015-phrase.wav': array([ 0.00691807,  0.01158545,  0.01023309, ..., -0.01890869,\n",
       "        -0.01999627,  0.        ], dtype=float32),\n",
       " '2021-phrase.wav': array([-0.00135169, -0.0022894 , -0.00164327, ...,  0.00763636,\n",
       "         0.00901792,  0.        ], dtype=float32),\n",
       " '2022-phrase.wav': array([-0.00022009, -0.00089416, -0.00025861, ..., -0.00147508,\n",
       "        -0.00111332,  0.        ], dtype=float32),\n",
       " '2023-phrase.wav': array([ 0.00127668,  0.00168767,  0.00144292, ..., -0.00247462,\n",
       "        -0.00293033,  0.        ], dtype=float32),\n",
       " '2024-phrase.wav': array([ 0.00233418,  0.0040837 ,  0.00366387, ..., -0.01728774,\n",
       "        -0.02009894,  0.        ], dtype=float32),\n",
       " '2027-phrase.wav': array([ 1.2021823e-03,  1.9353956e-03,  1.7312054e-03, ...,\n",
       "        -4.7025871e-05, -6.1980565e-04,  0.0000000e+00], dtype=float32),\n",
       " '2028-phrase.wav': array([ 0.00148595,  0.00265063,  0.00199437, ..., -0.01509214,\n",
       "        -0.01582799,  0.        ], dtype=float32),\n",
       " '2030-phrase.wav': array([-0.00170815, -0.00235667,  0.00185764, ...,  0.00204946,\n",
       "         0.00183024,  0.        ], dtype=float32),\n",
       " '2031-phrase.wav': array([ 0.00029868,  0.00035444, -0.0002864 , ...,  0.00132112,\n",
       "         0.00126895,  0.        ], dtype=float32),\n",
       " '2033-phrase.wav': array([ 0.0018151 ,  0.00291661,  0.00299541, ..., -0.00139434,\n",
       "        -0.00038149,  0.        ], dtype=float32),\n",
       " '2034-phrase.wav': array([ 0.00247673,  0.00424196,  0.00343727, ..., -0.00566194,\n",
       "        -0.00710063,  0.        ], dtype=float32),\n",
       " '2056-phrase.wav': array([ 5.9524546e-03,  1.0551244e-02,  9.3875015e-03, ...,\n",
       "        -6.5288465e-03,  5.6991132e-05,  0.0000000e+00], dtype=float32),\n",
       " '2058-phrase.wav': array([ 0.00325455,  0.00476085,  0.0043902 , ..., -0.0036045 ,\n",
       "        -0.00344479,  0.        ], dtype=float32),\n",
       " '2070-phrase.wav': array([-0.00374149, -0.00623258, -0.00482343, ...,  0.00193536,\n",
       "         0.00235014,  0.        ], dtype=float32),\n",
       " '2072-phrase.wav': array([-0.00099447, -0.00368896, -0.0020264 , ..., -0.00153363,\n",
       "         0.00013386,  0.        ], dtype=float32),\n",
       " '2073-phrase.wav': array([-0.00167512, -0.00204173, -0.00241048, ..., -0.00604623,\n",
       "        -0.00573443,  0.        ], dtype=float32),\n",
       " '2075-phrase.wav': array([-0.00070997, -0.00075932, -0.0002549 , ...,  0.00132783,\n",
       "         0.00081457,  0.        ], dtype=float32),\n",
       " '2078-phrase.wav': array([ 3.9208122e-03,  8.0616772e-03,  6.1584604e-03, ...,\n",
       "         2.4668086e-06, -1.6938557e-04,  0.0000000e+00], dtype=float32),\n",
       " '2079-phrase.wav': array([6.0242950e-05, 1.3882147e-04, 6.0713862e-04, ..., 2.0051673e-03,\n",
       "        1.7277426e-03, 0.0000000e+00], dtype=float32),\n",
       " '2082-phrase.wav': array([-0.00099392, -0.00184561, -0.00152809, ..., -0.0040832 ,\n",
       "        -0.00425108,  0.        ], dtype=float32),\n",
       " '2083-phrase.wav': array([-0.00256622, -0.00415772, -0.00385771, ..., -0.01101486,\n",
       "        -0.00875637,  0.        ], dtype=float32),\n",
       " '2086-phrase.wav': array([-0.00122921, -0.00230005, -0.00199839, ..., -0.00451311,\n",
       "        -0.00425149,  0.        ], dtype=float32),\n",
       " '2088-phrase.wav': array([-0.00311183, -0.00433806, -0.00305054, ..., -0.00600334,\n",
       "        -0.00822452,  0.        ], dtype=float32),\n",
       " '2089-phrase.wav': array([ 5.4138549e-05, -5.4830097e-04, -3.8427208e-04, ...,\n",
       "        -2.2559686e-02, -2.3965839e-02,  0.0000000e+00], dtype=float32),\n",
       " '2090-phrase.wav': array([0.00024405, 0.00092982, 0.00040359, ..., 0.00912205, 0.01002285,\n",
       "        0.        ], dtype=float32),\n",
       " '2091-phrase.wav': array([-2.5410958e-05, -4.2531977e-04, -2.7765112e-04, ...,\n",
       "        -8.9932873e-04, -5.9431966e-04,  0.0000000e+00], dtype=float32),\n",
       " '2092-phrase.wav': array([ 0.00096489,  0.00219591,  0.00208841, ..., -0.01493088,\n",
       "        -0.01733571,  0.        ], dtype=float32),\n",
       " '2096-phrase.wav': array([-0.00065833, -0.00126313, -0.00065784, ..., -0.08019535,\n",
       "        -0.10050561,  0.        ], dtype=float32),\n",
       " '2098-phrase.wav': array([-0.00162863, -0.00312258, -0.00302402, ..., -0.00318511,\n",
       "        -0.00212684,  0.        ], dtype=float32),\n",
       " '2099-phrase.wav': array([0.00355018, 0.00544365, 0.00422191, ..., 0.00215835, 0.0023206 ,\n",
       "        0.        ], dtype=float32),\n",
       " '2100-phrase.wav': array([0.00150542, 0.00193243, 0.00217362, ..., 0.00486925, 0.00458489,\n",
       "        0.        ], dtype=float32),\n",
       " '2101-phrase.wav': array([0.00406748, 0.00668938, 0.00531664, ..., 0.00340571, 0.00144727,\n",
       "        0.00199597], dtype=float32),\n",
       " '2103-phrase.wav': array([0.00153539, 0.00188985, 0.00169706, ..., 0.00158048, 0.00150192,\n",
       "        0.        ], dtype=float32),\n",
       " '2109-phrase.wav': array([-0.00042242, -0.00085677, -0.0007229 , ..., -0.00360186,\n",
       "        -0.0034254 ,  0.        ], dtype=float32),\n",
       " '2112-phrase.wav': array([-0.00083071, -0.00107971, -0.00081407, ...,  0.00095691,\n",
       "         0.00185349,  0.        ], dtype=float32),\n",
       " '2115-phrase.wav': array([-0.03709903, -0.06221275, -0.05515841, ..., -0.0056518 ,\n",
       "        -0.00601748,  0.        ], dtype=float32),\n",
       " '2116-phrase.wav': array([-0.00109704, -0.00233383, -0.00211512, ...,  0.00236306,\n",
       "         0.00211072,  0.        ], dtype=float32),\n",
       " '2118-phrase.wav': array([0.0002404 , 0.0007901 , 0.00075154, ..., 0.00206851, 0.0013354 ,\n",
       "        0.        ], dtype=float32),\n",
       " '2120-phrase.wav': array([ 0.00028907,  0.00048879,  0.00086982, ..., -0.00216674,\n",
       "        -0.00219117,  0.        ], dtype=float32),\n",
       " '2126-phrase.wav': array([0.00133775, 0.00270984, 0.00230778, ..., 0.00768537, 0.00998411,\n",
       "        0.        ], dtype=float32),\n",
       " '2128-phrase.wav': array([ 0.00207962,  0.00337396,  0.00220819, ..., -0.00123239,\n",
       "        -0.00034063,  0.        ], dtype=float32),\n",
       " '2135-phrase.wav': array([-0.00215435, -0.00370632, -0.00294988, ...,  0.00927269,\n",
       "         0.00801112,  0.        ], dtype=float32),\n",
       " '2141-phrase.wav': array([-0.00071   , -0.00094149, -0.00121806, ..., -0.0034255 ,\n",
       "        -0.00356085,  0.        ], dtype=float32),\n",
       " '2146-phrase.wav': array([-3.8850408e-03, -6.5474254e-03, -5.4139225e-03, ...,\n",
       "        -2.5223833e-05,  4.3135090e-04,  0.0000000e+00], dtype=float32),\n",
       " '2148-phrase.wav': array([ 0.00056534,  0.00108272,  0.0009624 , ..., -0.00498571,\n",
       "        -0.00523815,  0.        ], dtype=float32),\n",
       " '2150-phrase.wav': array([-0.00187706, -0.0030383 , -0.0029004 , ...,  0.00332334,\n",
       "         0.00336798,  0.        ], dtype=float32),\n",
       " '2152-phrase.wav': array([-0.00016381, -0.00050196, -0.00045595, ..., -0.0016897 ,\n",
       "        -0.00010197,  0.        ], dtype=float32),\n",
       " '2153-phrase.wav': array([ 0.00717064,  0.01178099,  0.01094949, ..., -0.01434639,\n",
       "        -0.01478962,  0.        ], dtype=float32),\n",
       " '2154-phrase.wav': array([-0.00239417, -0.00407589, -0.00372727, ..., -0.00218506,\n",
       "        -0.0033244 ,  0.        ], dtype=float32),\n",
       " '2155-phrase.wav': array([-0.0008585 , -0.00123868, -0.00114309, ..., -0.00124845,\n",
       "        -0.00041684,  0.        ], dtype=float32),\n",
       " '2156-phrase.wav': array([-0.00075841, -0.00240687, -0.00151787, ..., -0.00593629,\n",
       "        -0.00462478,  0.        ], dtype=float32),\n",
       " '2157-phrase.wav': array([ 0.00028006,  0.00024023,  0.00032191, ..., -0.00262982,\n",
       "        -0.00501862,  0.        ], dtype=float32),\n",
       " '2158-phrase.wav': array([-0.00050457, -0.00082404, -0.00080146, ...,  0.00246645,\n",
       "         0.00219948,  0.        ], dtype=float32),\n",
       " '2159-phrase.wav': array([ 2.4559381e-03,  5.3111953e-03,  3.4457115e-03, ...,\n",
       "         6.6766384e-05, -6.3869171e-04,  0.0000000e+00], dtype=float32),\n",
       " '2160-phrase.wav': array([0.00690937, 0.01449951, 0.01903575, ..., 0.00096409, 0.00258545,\n",
       "        0.        ], dtype=float32),\n",
       " '2161-phrase.wav': array([-0.00356699, -0.00558877, -0.00465824, ...,  0.00078521,\n",
       "         0.00120044,  0.        ], dtype=float32),\n",
       " '2182-phrase.wav': array([-0.00057184, -0.00107351, -0.00065867, ..., -0.00054567,\n",
       "        -0.00049477,  0.        ], dtype=float32),\n",
       " '2188-phrase.wav': array([-0.00174128, -0.00261466, -0.00219894, ...,  0.00221524,\n",
       "         0.00161092,  0.        ], dtype=float32),\n",
       " '2190-phrase.wav': array([ 0.00165088,  0.00276141,  0.00329741, ..., -0.01784152,\n",
       "        -0.01696046,  0.        ], dtype=float32),\n",
       " '2191-phrase.wav': array([ 3.4429473e-04, -8.0214113e-06,  1.2421481e-04, ...,\n",
       "        -4.6812966e-05, -1.3125846e-03,  0.0000000e+00], dtype=float32),\n",
       " '2192-phrase.wav': array([-0.00145905, -0.00316051, -0.00294865, ...,  0.00504971,\n",
       "         0.00497434,  0.        ], dtype=float32),\n",
       " '2193-phrase.wav': array([ 0.00097156,  0.00107087,  0.00183376, ..., -0.011746  ,\n",
       "        -0.01340615,  0.        ], dtype=float32),\n",
       " '2194-phrase.wav': array([ 0.00021252,  0.00034994,  0.00015428, ..., -0.00201856,\n",
       "        -0.00120157,  0.        ], dtype=float32),\n",
       " '2211-phrase.wav': array([-0.00173147, -0.00227387, -0.00212518, ...,  0.00063188,\n",
       "         0.00102638,  0.        ], dtype=float32),\n",
       " '2216-phrase.wav': array([-0.00308703, -0.00550623, -0.0043161 , ..., -0.00108501,\n",
       "        -0.00196596,  0.        ], dtype=float32),\n",
       " '2218-phrase.wav': array([ 0.00057505,  0.00187871,  0.00160275, ..., -0.00488006,\n",
       "        -0.00447513,  0.        ], dtype=float32),\n",
       " '2219-phrase.wav': array([-0.00038038, -0.00061937, -0.0011387 , ...,  0.00386922,\n",
       "         0.0028702 ,  0.        ], dtype=float32),\n",
       " '2220-phrase.wav': array([-0.00299245, -0.00512677, -0.00424398, ..., -0.00108297,\n",
       "        -0.00083399,  0.        ], dtype=float32),\n",
       " '2227-phrase.wav': array([0.00117685, 0.00168595, 0.00180748, ..., 0.00226863, 0.00105394,\n",
       "        0.        ], dtype=float32),\n",
       " '2231-phrase.wav': array([ 3.4981145e-04,  1.0457631e-03,  8.2501501e-04, ...,\n",
       "        -4.0247358e-04,  6.3975407e-05,  0.0000000e+00], dtype=float32),\n",
       " '2234-phrase.wav': array([-0.00658982, -0.01146009, -0.01100996, ...,  0.00301064,\n",
       "         0.00744151,  0.        ], dtype=float32),\n",
       " '2235-phrase.wav': array([-0.00190089, -0.00056177,  0.00017831, ..., -0.01038459,\n",
       "        -0.00985965, -0.01134913], dtype=float32),\n",
       " '2237-phrase.wav': array([0.00252059, 0.00477929, 0.00258026, ..., 0.00041127, 0.00014391,\n",
       "        0.        ], dtype=float32),\n",
       " '2242-phrase.wav': array([ 0.00234897,  0.0024919 ,  0.00184779, ..., -0.09375802,\n",
       "        -0.08406759,  0.        ], dtype=float32),\n",
       " '2243-phrase.wav': array([0.001647  , 0.00264119, 0.00249551, ..., 0.0016281 , 0.00158138,\n",
       "        0.        ], dtype=float32),\n",
       " '2247-phrase.wav': array([-9.8896111e-05, -2.3247645e-04, -7.6352822e-04, ...,\n",
       "        -7.9678958e-03, -8.3424821e-03,  0.0000000e+00], dtype=float32),\n",
       " '2265-phrase.wav': array([-0.00052481, -0.00098664, -0.00128814, ...,  0.0017254 ,\n",
       "         0.00131111,  0.        ], dtype=float32),\n",
       " '2271-phrase.wav': array([0.0116559 , 0.01870097, 0.01555077, ..., 0.0018079 , 0.00333916,\n",
       "        0.        ], dtype=float32),\n",
       " '2273-phrase.wav': array([0.00018497, 0.00061843, 0.00040619, ..., 0.00115356, 0.00211429,\n",
       "        0.        ], dtype=float32),\n",
       " '2274-phrase.wav': array([0.0023226 , 0.00418423, 0.00333568, ..., 0.00059385, 0.00013936,\n",
       "        0.        ], dtype=float32),\n",
       " '2276-phrase.wav': array([-0.00018135, -0.0005014 , -0.00038785, ..., -0.00382117,\n",
       "        -0.00528071,  0.        ], dtype=float32),\n",
       " '2296-phrase.wav': array([0.0014935 , 0.0024886 , 0.00222896, ..., 0.0011176 , 0.00069647,\n",
       "        0.        ], dtype=float32),\n",
       " '2300-phrase.wav': array([ 0.00238272,  0.00403412,  0.0036409 , ..., -0.00602458,\n",
       "        -0.00601917,  0.        ], dtype=float32),\n",
       " '2301-phrase.wav': array([ 0.00010901, -0.00035342, -0.00015186, ...,  0.0008772 ,\n",
       "         0.0011726 ,  0.        ], dtype=float32),\n",
       " '2304-phrase.wav': array([0.00053024, 0.00220762, 0.0012533 , ..., 0.00325334, 0.00765093,\n",
       "        0.        ], dtype=float32),\n",
       " '2305-phrase.wav': array([-0.00127269, -0.00185892, -0.00116255, ..., -0.00398689,\n",
       "         0.00053885,  0.        ], dtype=float32),\n",
       " '2315-phrase.wav': array([ 5.9121223e-05, -4.7124483e-04, -2.9403646e-04, ...,\n",
       "        -2.9054792e-03, -3.4856931e-03,  0.0000000e+00], dtype=float32),\n",
       " '2320-phrase.wav': array([ 0.00648197,  0.01092318,  0.01076695, ..., -0.02858036,\n",
       "        -0.03278846,  0.        ], dtype=float32),\n",
       " '2321-phrase.wav': array([-0.00052527, -0.00107357, -0.00083592, ..., -0.00941959,\n",
       "        -0.01065102,  0.        ], dtype=float32),\n",
       " '2326-phrase.wav': array([-0.00041755, -0.00106226, -0.0005709 , ..., -0.00097711,\n",
       "        -0.00098465,  0.        ], dtype=float32),\n",
       " '2328-phrase.wav': array([-0.00094376, -0.00269422, -0.00181591, ..., -0.00281023,\n",
       "        -0.00294903,  0.        ], dtype=float32),\n",
       " '2330-phrase.wav': array([0.00073384, 0.00171329, 0.0011487 , ..., 0.00696439, 0.00808516,\n",
       "        0.        ], dtype=float32),\n",
       " '2333-phrase.wav': array([-0.00649762, -0.01139752, -0.00979133, ...,  0.00506703,\n",
       "         0.00610898,  0.        ], dtype=float32),\n",
       " '2340-phrase.wav': array([ 0.00061594,  0.00100593,  0.00106275, ..., -0.00247082,\n",
       "        -0.00392354,  0.        ], dtype=float32),\n",
       " '2341-phrase.wav': array([ 0.0008687 ,  0.00122503,  0.00121912, ..., -0.00052603,\n",
       "        -0.00052964,  0.        ], dtype=float32),\n",
       " '2342-phrase.wav': array([-0.00034903, -0.00111755, -0.0009174 , ..., -0.00235415,\n",
       "        -0.00207018,  0.        ], dtype=float32),\n",
       " '2343-phrase.wav': array([ 0.00078031,  0.00113664,  0.00073699, ..., -0.00132827,\n",
       "        -0.0025753 ,  0.        ], dtype=float32),\n",
       " '2344-phrase.wav': array([ 0.00134735,  0.00286552,  0.00225442, ..., -0.0017267 ,\n",
       "        -0.00118501,  0.        ], dtype=float32),\n",
       " '2345-phrase.wav': array([0.0010794 , 0.00153116, 0.00135583, ..., 0.00039102, 0.00037553,\n",
       "        0.        ], dtype=float32),\n",
       " '2346-phrase.wav': array([ 0.00140388,  0.00190346,  0.00104021, ..., -0.00429286,\n",
       "        -0.00352837,  0.        ], dtype=float32),\n",
       " '2351-phrase.wav': array([0.00140469, 0.00334833, 0.00250897, ..., 0.00428965, 0.00416846,\n",
       "        0.        ], dtype=float32),\n",
       " '2352-phrase.wav': array([ 0.00131055,  0.00224905,  0.00219335, ...,  0.00052113,\n",
       "        -0.00019662,  0.        ], dtype=float32),\n",
       " '2358-phrase.wav': array([ 0.00210074,  0.00275288,  0.00221346, ..., -0.00236983,\n",
       "        -0.00231428,  0.        ], dtype=float32),\n",
       " '2361-phrase.wav': array([0.00025016, 0.00044888, 0.00060641, ..., 0.00037854, 0.00106784,\n",
       "        0.        ], dtype=float32),\n",
       " '2370-phrase.wav': array([-0.00041775,  0.00030163,  0.00129837, ..., -0.00333012,\n",
       "        -0.00360627,  0.        ], dtype=float32),\n",
       " '2375-phrase.wav': array([ 0.00053228,  0.00033916,  0.00022578, ..., -0.00138491,\n",
       "        -0.00108066,  0.        ], dtype=float32),\n",
       " '2378-phrase.wav': array([-0.0019938 , -0.00244814, -0.00236445, ..., -0.01311909,\n",
       "        -0.01446815,  0.        ], dtype=float32),\n",
       " '2381-phrase.wav': array([0.001584  , 0.00250101, 0.00232076, ..., 0.00100731, 0.00132149,\n",
       "        0.        ], dtype=float32),\n",
       " '2384-phrase.wav': array([0.00066252, 0.00081598, 0.00078103, ..., 0.10090727, 0.09857413,\n",
       "        0.        ], dtype=float32),\n",
       " '2385-phrase.wav': array([-1.8813320e-04, -1.5129811e-04, -2.4699717e-04, ...,\n",
       "         9.4592317e-05, -7.2318746e-04, -3.7500629e-04], dtype=float32),\n",
       " '2393-phrase.wav': array([-0.00274859, -0.00474207, -0.00465306, ...,  0.00678757,\n",
       "         0.00802655,  0.        ], dtype=float32),\n",
       " '2394-phrase.wav': array([0.00315605, 0.00576572, 0.00529438, ..., 0.01156931, 0.0119719 ,\n",
       "        0.        ], dtype=float32),\n",
       " '2395-phrase.wav': array([-0.00142131, -0.00284821, -0.00242183, ..., -0.00320192,\n",
       "        -0.00311357,  0.        ], dtype=float32),\n",
       " '2396-phrase.wav': array([ 0.0023751 ,  0.00394152,  0.00349868, ..., -0.00054092,\n",
       "        -0.00045158,  0.        ], dtype=float32),\n",
       " '2397-phrase.wav': array([-0.00516095, -0.00813944, -0.00695652, ..., -0.00101333,\n",
       "        -0.00099219, -0.00113321], dtype=float32),\n",
       " '2401-phrase.wav': array([-0.00135761, -0.00223242, -0.00212147, ..., -0.00093315,\n",
       "        -0.00082413,  0.        ], dtype=float32),\n",
       " '2403-phrase.wav': array([ 0.00579626,  0.00866216,  0.00582748, ..., -0.0074614 ,\n",
       "        -0.00152619,  0.        ], dtype=float32),\n",
       " '2404-phrase.wav': array([ 0.00018982,  0.00031498,  0.00040308, ..., -0.01156869,\n",
       "        -0.01277405,  0.        ], dtype=float32),\n",
       " '2406-phrase.wav': array([-0.00361148, -0.00601063, -0.00509454, ...,  0.00071332,\n",
       "         0.00082648,  0.        ], dtype=float32),\n",
       " '2408-phrase.wav': array([ 0.00347411,  0.00612537,  0.00577004, ..., -0.00371514,\n",
       "        -0.00320385,  0.        ], dtype=float32),\n",
       " '2411-phrase.wav': array([0.00027087, 0.00088791, 0.00134556, ..., 0.00073969, 0.00097776,\n",
       "        0.        ], dtype=float32),\n",
       " '2414-phrase.wav': array([ 0.00028554,  0.00055401,  0.00068666, ..., -0.00216742,\n",
       "        -0.00223008,  0.        ], dtype=float32),\n",
       " '2418-phrase.wav': array([-0.00089438, -0.0015871 , -0.00121092, ...,  0.00083108,\n",
       "         0.00078757,  0.        ], dtype=float32),\n",
       " '2419-phrase.wav': array([-0.00182887, -0.00272682, -0.00229705, ...,  0.00214589,\n",
       "         0.0019295 ,  0.        ], dtype=float32),\n",
       " '2420-phrase.wav': array([-0.00154787, -0.00322353, -0.00282244, ..., -0.00222514,\n",
       "        -0.00254679,  0.        ], dtype=float32),\n",
       " '2424-phrase.wav': array([0.00320868, 0.00533551, 0.00465064, ..., 0.00341857, 0.00402696,\n",
       "        0.        ], dtype=float32),\n",
       " '2426-phrase.wav': array([0.00129762, 0.00210812, 0.00158973, ..., 0.00182028, 0.0020172 ,\n",
       "        0.        ], dtype=float32),\n",
       " '2430-phrase.wav': array([0.00219554, 0.00349906, 0.00265144, ..., 0.00060807, 0.0019454 ,\n",
       "        0.        ], dtype=float32),\n",
       " '2435-phrase.wav': array([0.00028558, 0.00047958, 0.00041058, ..., 0.00260819, 0.0027887 ,\n",
       "        0.        ], dtype=float32),\n",
       " '2439-phrase.wav': array([0.00035152, 0.00058531, 0.00040521, ..., 0.00091679, 0.00143036,\n",
       "        0.        ], dtype=float32),\n",
       " '2440-phrase.wav': array([-0.00071552, -0.00109188, -0.00093736, ..., -0.00147209,\n",
       "        -0.00158589,  0.        ], dtype=float32),\n",
       " '2443-phrase.wav': array([-0.00129415, -0.00243459, -0.00167481, ...,  0.00209263,\n",
       "         0.00199788,  0.        ], dtype=float32),\n",
       " '2449-phrase.wav': array([-0.00127318, -0.0019951 , -0.0021406 , ...,  0.00435081,\n",
       "         0.00455446,  0.        ], dtype=float32),\n",
       " '2450-phrase.wav': array([-0.00021173, -0.0007009 , -0.00148681, ...,  0.01915885,\n",
       "         0.02161606,  0.        ], dtype=float32),\n",
       " '2455-phrase.wav': array([-0.00012038, -0.00024152, -0.00012746, ...,  0.00102637,\n",
       "         0.00119712,  0.        ], dtype=float32),\n",
       " '2460-phrase.wav': array([0.00183402, 0.00354074, 0.00298389, ..., 0.00018894, 0.00145378,\n",
       "        0.        ], dtype=float32),\n",
       " '2464-phrase.wav': array([ 0.00089551,  0.00144035,  0.00106509, ..., -0.0069214 ,\n",
       "        -0.00793864,  0.        ], dtype=float32),\n",
       " '2465-phrase.wav': array([-0.00160327, -0.0017124 , -0.00149611, ..., -0.011638  ,\n",
       "        -0.01304531,  0.        ], dtype=float32),\n",
       " '2466-phrase.wav': array([ 0.00746191,  0.01241839,  0.01149615, ..., -0.00699207,\n",
       "        -0.00715978,  0.        ], dtype=float32),\n",
       " '2467-phrase.wav': array([ 0.00014136, -0.00092196, -0.00053915, ...,  0.00259534,\n",
       "         0.00250006,  0.        ], dtype=float32),\n",
       " '2469-phrase.wav': array([0.00068333, 0.0012272 , 0.00098114, ..., 0.00030092, 0.0005038 ,\n",
       "        0.        ], dtype=float32),\n",
       " '2474-phrase.wav': array([0.00085866, 0.00156313, 0.00131816, ..., 0.00209693, 0.00291805,\n",
       "        0.        ], dtype=float32),\n",
       " '2476-phrase.wav': array([0.00125003, 0.00182968, 0.00150696, ..., 0.00085016, 0.00101176,\n",
       "        0.        ], dtype=float32),\n",
       " '2484-phrase.wav': array([ 3.6774544e-04, -2.5512511e-05, -1.4421350e-04, ...,\n",
       "         2.2987829e-04,  1.4375332e-04,  0.0000000e+00], dtype=float32),\n",
       " '2485-phrase.wav': array([-0.00160714, -0.00247023, -0.00209196, ...,  0.0001575 ,\n",
       "        -0.00100529,  0.        ], dtype=float32),\n",
       " '2487-phrase.wav': array([-0.00140123, -0.00279462, -0.00217933, ..., -0.00171755,\n",
       "        -0.00053603,  0.        ], dtype=float32),\n",
       " '2491-phrase.wav': array([ 0.00198016,  0.00281377,  0.0022471 , ..., -0.00613686,\n",
       "        -0.00767101,  0.        ], dtype=float32),\n",
       " '2492-phrase.wav': array([-0.00849983, -0.01426776, -0.01121604, ...,  0.01000482,\n",
       "         0.01089789,  0.        ], dtype=float32),\n",
       " '2493-phrase.wav': array([0.00336768, 0.00348034, 0.00497368, ..., 0.03174061, 0.03640766,\n",
       "        0.        ], dtype=float32),\n",
       " '2496-phrase.wav': array([0.00219731, 0.00094708, 0.00085608, ..., 0.00302771, 0.00072951,\n",
       "        0.        ], dtype=float32),\n",
       " '2498-phrase.wav': array([-0.00064538, -0.00109662, -0.0004619 , ..., -0.00173024,\n",
       "        -0.00104721,  0.        ], dtype=float32),\n",
       " '2501-phrase.wav': array([-0.00133661, -0.00252748, -0.00215034, ...,  0.01490529,\n",
       "         0.01525767,  0.        ], dtype=float32),\n",
       " '2506-phrase.wav': array([ 9.6764721e-05, -5.0489281e-05, -1.4197820e-05, ...,\n",
       "        -3.6289131e-03, -3.0846233e-03,  0.0000000e+00], dtype=float32),\n",
       " '2507-phrase.wav': array([-0.02268705, -0.03760899, -0.03111806, ...,  0.33345246,\n",
       "         0.325603  ,  0.36809608], dtype=float32),\n",
       " '2508-phrase.wav': array([ 0.00084562,  0.0001947 ,  0.00024903, ..., -0.01639122,\n",
       "        -0.01942518,  0.        ], dtype=float32),\n",
       " '2510-phrase.wav': array([ 0.00033806,  0.00116128,  0.00014281, ..., -0.00595985,\n",
       "        -0.00526184,  0.        ], dtype=float32),\n",
       " '2511-phrase.wav': array([ 0.00072799,  0.0008611 ,  0.00139663, ..., -0.00040938,\n",
       "         0.00049875,  0.        ], dtype=float32),\n",
       " '2512-phrase.wav': array([ 0.0006095 , -0.00039659,  0.00091818, ...,  0.00197283,\n",
       "         0.00139075,  0.        ], dtype=float32),\n",
       " '2514-phrase.wav': array([0.00084086, 0.00182754, 0.00134982, ..., 0.00439511, 0.00582544,\n",
       "        0.        ], dtype=float32),\n",
       " '2516-phrase.wav': array([ 0.00126856,  0.00223349,  0.00278542, ..., -0.00269526,\n",
       "        -0.00348353,  0.        ], dtype=float32),\n",
       " '2518-phrase.wav': array([ 0.00084187,  0.00131266,  0.00108886, ..., -0.00521053,\n",
       "        -0.00692932,  0.        ], dtype=float32),\n",
       " '2519-phrase.wav': array([ 3.5889785e-05, -3.9871442e-04,  5.6671753e-04, ...,\n",
       "         2.3549425e-03,  1.9526627e-03,  0.0000000e+00], dtype=float32),\n",
       " '2521-phrase.wav': array([0.00054396, 0.00071327, 0.0004512 , ..., 0.00786154, 0.00830488,\n",
       "        0.        ], dtype=float32),\n",
       " '2525-phrase.wav': array([-0.00168271, -0.00244758, -0.00235866, ...,  0.00390281,\n",
       "         0.00514747,  0.        ], dtype=float32),\n",
       " '2527-phrase.wav': array([ 0.00679098,  0.01105007,  0.00940443, ..., -0.00341599,\n",
       "        -0.0043884 ,  0.        ], dtype=float32),\n",
       " '2531-phrase.wav': array([-0.00159126, -0.0032671 , -0.00306058, ..., -0.01016499,\n",
       "        -0.0126471 ,  0.        ], dtype=float32),\n",
       " '2536-phrase.wav': array([-0.00280022, -0.00404753, -0.00325124, ...,  0.00902733,\n",
       "         0.00876179,  0.        ], dtype=float32),\n",
       " '2538-phrase.wav': array([-0.00026585,  0.00013955, -0.00043121, ...,  0.00147561,\n",
       "         0.00096595,  0.00034937], dtype=float32),\n",
       " '2539-phrase.wav': array([-0.00105908, -0.00140778, -0.00096317, ..., -0.00111778,\n",
       "        -0.00144106,  0.        ], dtype=float32),\n",
       " '2541-phrase.wav': array([ 0.00026625,  0.00021405,  0.00060217, ..., -0.00041527,\n",
       "         0.00076265,  0.        ], dtype=float32),\n",
       " '2542-phrase.wav': array([ 0.00191457,  0.00313032,  0.00193288, ..., -0.01544429,\n",
       "        -0.01684784,  0.        ], dtype=float32),\n",
       " '2543-phrase.wav': array([0.00084716, 0.00116367, 0.00120435, ..., 0.00227078, 0.00283358,\n",
       "        0.        ], dtype=float32),\n",
       " '2547-phrase.wav': array([2.6537990e-04, 9.6466669e-05, 3.6980859e-05, ..., 4.9083977e-04,\n",
       "        9.3513762e-04, 0.0000000e+00], dtype=float32),\n",
       " '2549-phrase.wav': array([ 0.0015355 ,  0.00259843,  0.00226515, ..., -0.02278989,\n",
       "        -0.02202939,  0.        ], dtype=float32),\n",
       " '2555-phrase.wav': array([ 0.00193939,  0.00312422,  0.00252813, ..., -0.00026172,\n",
       "         0.0004959 ,  0.        ], dtype=float32),\n",
       " '2556-phrase.wav': array([-2.8415494e-05, -1.9715526e-04, -1.9715728e-04, ...,\n",
       "         2.5518753e-03,  2.7724945e-03,  0.0000000e+00], dtype=float32),\n",
       " '2557-phrase.wav': array([-8.2945783e-04, -1.6140710e-03, -1.0073128e-03, ...,\n",
       "         1.2761363e-04,  7.3961004e-05,  0.0000000e+00], dtype=float32),\n",
       " '2560-phrase.wav': array([0.00092023, 0.00116308, 0.00128485, ..., 0.01389789, 0.01620579,\n",
       "        0.        ], dtype=float32),\n",
       " '2562-phrase.wav': array([-0.00017569, -0.00103705, -0.00088618, ..., -0.00874258,\n",
       "        -0.01077196, -0.01161682], dtype=float32),\n",
       " '2563-phrase.wav': array([-0.00058236, -0.0009258 , -0.00070844, ...,  0.00038049,\n",
       "         0.00018208,  0.        ], dtype=float32),\n",
       " '2565-phrase.wav': array([-0.00415464, -0.00707973, -0.00603178, ...,  0.00034177,\n",
       "        -0.00234096,  0.        ], dtype=float32),\n",
       " '2567-phrase.wav': array([-5.34743813e-05, -4.96947381e-04, -2.93295871e-05, ...,\n",
       "        -1.00518766e-04, -7.62092357e-04,  0.00000000e+00], dtype=float32),\n",
       " '2568-phrase.wav': array([ 0.00160608,  0.00345738,  0.00259151, ..., -0.00248362,\n",
       "        -0.00363847,  0.        ], dtype=float32),\n",
       " '2570-phrase.wav': array([-0.00207067, -0.0043408 , -0.00459555, ...,  0.00294814,\n",
       "         0.00506614,  0.        ], dtype=float32),\n",
       " '2572-phrase.wav': array([ 0.00382789,  0.0061582 ,  0.00513764, ..., -0.00114789,\n",
       "        -0.00235841,  0.        ], dtype=float32),\n",
       " '2573-phrase.wav': array([0.00096665, 0.00270877, 0.00244431, ..., 0.00537792, 0.0045922 ,\n",
       "        0.        ], dtype=float32),\n",
       " '2574-phrase.wav': array([-0.00033695, -0.00104003, -0.00134104, ..., -0.00162873,\n",
       "        -0.0015968 ,  0.        ], dtype=float32),\n",
       " '2578-phrase.wav': array([ 0.00110987,  0.00200265,  0.0022655 , ..., -0.00229462,\n",
       "        -0.00221987,  0.        ], dtype=float32),\n",
       " '2580-phrase.wav': array([0.00310204, 0.00505512, 0.00422981, ..., 0.00316015, 0.00366537,\n",
       "        0.        ], dtype=float32),\n",
       " '2581-phrase.wav': array([-6.7369278e-05, -1.5699875e-04, -1.9940095e-05, ...,\n",
       "        -4.5105428e-03, -4.4921869e-03,  0.0000000e+00], dtype=float32),\n",
       " '2582-phrase.wav': array([0.00444916, 0.00705363, 0.00657785, ..., 0.01494344, 0.01366846,\n",
       "        0.        ], dtype=float32),\n",
       " '2585-phrase.wav': array([-0.00285997, -0.00730105, -0.00528598, ...,  0.00317334,\n",
       "         0.00515285,  0.        ], dtype=float32),\n",
       " '2586-phrase.wav': array([0.00385289, 0.0063898 , 0.00643739, ..., 0.00093439, 0.00131549,\n",
       "        0.        ], dtype=float32),\n",
       " '2587-phrase.wav': array([-1.8116612e-03, -2.3709487e-03, -2.9311555e-03, ...,\n",
       "        -5.6156947e-05, -1.2958319e-05,  0.0000000e+00], dtype=float32),\n",
       " '2588-phrase.wav': array([-0.00093272, -0.00097856, -0.00052558, ...,  0.00209534,\n",
       "         0.00241196,  0.        ], dtype=float32),\n",
       " '2591-phrase.wav': array([-0.00188897, -0.00236026, -0.00198984, ...,  0.00254668,\n",
       "         0.00173919,  0.        ], dtype=float32),\n",
       " '2592-phrase.wav': array([-0.00132792, -0.00142941, -0.00127121, ..., -0.00181642,\n",
       "        -0.0007929 ,  0.        ], dtype=float32),\n",
       " '2594-phrase.wav': array([-3.2815934e-04, -1.0646395e-03, -7.0315355e-04, ...,\n",
       "        -7.0296344e-04,  2.9228361e-06,  0.0000000e+00], dtype=float32),\n",
       " '2595-phrase.wav': array([ 0.00281725,  0.0032211 ,  0.00297948, ..., -0.00040437,\n",
       "        -0.00419939,  0.        ], dtype=float32),\n",
       " '2600-phrase.wav': array([-0.00117404, -0.00110765, -0.00134578, ...,  0.0007751 ,\n",
       "         0.00121192,  0.        ], dtype=float32),\n",
       " '2602-phrase.wav': array([ 0.00046467,  0.0006446 ,  0.00123242, ..., -0.05181491,\n",
       "        -0.05872716,  0.        ], dtype=float32),\n",
       " '2605-phrase.wav': array([-0.00243138, -0.00415464, -0.00364412, ..., -0.00403696,\n",
       "        -0.00254569,  0.        ], dtype=float32),\n",
       " '2610-phrase.wav': array([-0.00076879, -0.0015061 , -0.00161412, ..., -0.00182094,\n",
       "        -0.00278777,  0.        ], dtype=float32),\n",
       " '352-phrase.wav': array([-0.00139971, -0.00245619, -0.00284396, ...,  0.00457511,\n",
       "         0.00494179,  0.        ], dtype=float32),\n",
       " '356-phrase.wav': array([ 0.00188352,  0.00260384,  0.00205695, ..., -0.00459366,\n",
       "        -0.00608896,  0.        ], dtype=float32),\n",
       " '358-phrase.wav': array([ 0.00601317,  0.00984898,  0.00856989, ..., -0.00029414,\n",
       "         0.00222864,  0.        ], dtype=float32),\n",
       " '362-phrase.wav': array([-0.00376106, -0.00578381, -0.00523438, ...,  0.00326311,\n",
       "         0.0031727 ,  0.        ], dtype=float32),\n",
       " '364-phrase.wav': array([ 0.00046266,  0.00022273, -0.00012813, ...,  0.0170213 ,\n",
       "         0.01671473,  0.        ], dtype=float32),\n",
       " '365-phrase.wav': array([-0.00214605, -0.00313415, -0.002754  , ...,  0.00073851,\n",
       "         0.00088292,  0.        ], dtype=float32),\n",
       " '446-phrase.wav': array([ 0.00021233,  0.00059262, -0.00044536, ..., -0.01037481,\n",
       "        -0.00701009,  0.        ], dtype=float32),\n",
       " '448-phrase.wav': array([ 0.0006054 ,  0.00030617,  0.00052151, ..., -0.00303491,\n",
       "        -0.00197396,  0.        ], dtype=float32),\n",
       " '450-phrase.wav': array([-1.0142441e-04,  3.4749453e-05,  3.7985155e-05, ...,\n",
       "         2.2371607e-02,  2.4939755e-02,  0.0000000e+00], dtype=float32),\n",
       " '491-phrase.wav': array([0.00565445, 0.00926165, 0.00816165, ..., 0.01625906, 0.02046364,\n",
       "        0.        ], dtype=float32),\n",
       " '492-phrase.wav': array([-0.01527407, -0.02429482, -0.02078518, ...,  0.01482273,\n",
       "         0.01358415,  0.        ], dtype=float32),\n",
       " '493-phrase.wav': array([-0.00772678, -0.0126912 , -0.01252144, ..., -0.00303631,\n",
       "        -0.00318143, -0.00498429], dtype=float32),\n",
       " '495-phrase.wav': array([-0.0040897 , -0.00724414, -0.00616023, ..., -0.00178293,\n",
       "        -0.00213191,  0.        ], dtype=float32),\n",
       " '497-phrase.wav': array([ 0.02743087,  0.04546749,  0.03953464, ..., -0.00681089,\n",
       "        -0.00670085,  0.        ], dtype=float32),\n",
       " '498-phrase.wav': array([ 0.00065516,  0.00155862,  0.00102312, ..., -0.01806522,\n",
       "        -0.01813402,  0.        ], dtype=float32),\n",
       " '500-phrase.wav': array([-0.00159177, -0.00246652, -0.00227494, ...,  0.00018612,\n",
       "        -0.0002976 ,  0.        ], dtype=float32),\n",
       " '501-phrase.wav': array([ 0.00130428,  0.00278926,  0.00230214, ..., -0.00837099,\n",
       "        -0.00965921,  0.        ], dtype=float32),\n",
       " '503-phrase.wav': array([0.00128112, 0.00174873, 0.00174852, ..., 0.00019234, 0.00013621,\n",
       "        0.        ], dtype=float32),\n",
       " '504-phrase.wav': array([ 1.9870258e-04,  2.6648838e-04, -7.6578464e-05, ...,\n",
       "        -5.6767575e-03, -7.3290267e-03,  0.0000000e+00], dtype=float32),\n",
       " '562-phrase.wav': array([0.00590733, 0.01039283, 0.00897772, ..., 0.00890169, 0.00948454,\n",
       "        0.        ], dtype=float32),\n",
       " '563-phrase.wav': array([-0.00117445, -0.00230711, -0.00217805, ...,  0.00830962,\n",
       "         0.01047452,  0.        ], dtype=float32),\n",
       " '564-phrase.wav': array([ 0.0103676 ,  0.01653669,  0.01414196, ...,  0.00073334,\n",
       "        -0.00012085,  0.        ], dtype=float32),\n",
       " '565-phrase.wav': array([-0.00226721, -0.00395636, -0.00303051, ..., -0.00459895,\n",
       "        -0.00445604,  0.        ], dtype=float32),\n",
       " '568-phrase.wav': array([0.00143911, 0.00222735, 0.00230619, ..., 0.07012993, 0.07922069,\n",
       "        0.        ], dtype=float32),\n",
       " '627-phrase.wav': array([ 0.00084789,  0.00153053,  0.00071043, ..., -0.00399931,\n",
       "        -0.00364795,  0.        ], dtype=float32),\n",
       " '629-phrase.wav': array([ 2.5828278e-03,  4.0376852e-03,  2.9877450e-03, ...,\n",
       "         9.1601156e-05, -2.0095160e-04,  0.0000000e+00], dtype=float32),\n",
       " '630-phrase.wav': array([ 0.00470633,  0.00813717,  0.00714258, ..., -0.01076178,\n",
       "        -0.01213192,  0.        ], dtype=float32),\n",
       " '632-phrase.wav': array([-0.00026397, -0.00047685, -0.00076527, ...,  0.00335265,\n",
       "         0.00217953,  0.        ], dtype=float32),\n",
       " '633-phrase.wav': array([-0.00093711, -0.0010636 , -0.00102683, ..., -0.0069282 ,\n",
       "        -0.00683935,  0.        ], dtype=float32),\n",
       " '665-phrase.wav': array([-0.00358789, -0.00613918, -0.00553068, ..., -0.00183555,\n",
       "        -0.00433679,  0.        ], dtype=float32),\n",
       " '670-phrase.wav': array([-0.00106165, -0.00140966, -0.00093046, ..., -0.00114974,\n",
       "        -0.00168098, -0.00181766], dtype=float32),\n",
       " '671-phrase.wav': array([-0.00054847, -0.00065897, -0.00030954, ...,  0.00224254,\n",
       "         0.00404415,  0.        ], dtype=float32),\n",
       " '712-phrase.wav': array([ 0.01658518,  0.02678633,  0.02324836, ..., -0.00265946,\n",
       "        -0.00305083,  0.        ], dtype=float32),\n",
       " '715-phrase.wav': array([0.00081822, 0.00156873, 0.00123299, ..., 0.00907037, 0.00973837,\n",
       "        0.        ], dtype=float32),\n",
       " '716-phrase.wav': array([-0.00125949, -0.00256211, -0.0023923 , ..., -0.01246994,\n",
       "        -0.01270493,  0.        ], dtype=float32),\n",
       " '718-phrase.wav': array([-0.0047368 , -0.00784383, -0.00665024, ...,  0.01659065,\n",
       "         0.01584165,  0.        ], dtype=float32),\n",
       " '720-phrase.wav': array([-0.06302232, -0.1057087 , -0.09224987, ..., -0.09666327,\n",
       "        -0.09508255,  0.        ], dtype=float32),\n",
       " '721-phrase.wav': array([-0.05518698, -0.09254993, -0.08048177, ..., -0.09083071,\n",
       "        -0.09384944,  0.        ], dtype=float32),\n",
       " '725-phrase.wav': array([0.00144718, 0.00329043, 0.00187646, ..., 0.01037231, 0.01017656,\n",
       "        0.        ], dtype=float32),\n",
       " '726-phrase.wav': array([0.01089192, 0.01786844, 0.01535655, ..., 0.00773837, 0.00857181,\n",
       "        0.        ], dtype=float32),\n",
       " '728-phrase.wav': array([-0.00334895, -0.0071009 , -0.00524815, ...,  0.01352816,\n",
       "         0.01442448,  0.        ], dtype=float32),\n",
       " '742-phrase.wav': array([-0.01653878, -0.0293168 , -0.02668815, ...,  0.00843266,\n",
       "         0.00961519,  0.        ], dtype=float32),\n",
       " '819-phrase.wav': array([-0.00294331, -0.0055377 , -0.00529507, ...,  0.00954186,\n",
       "         0.01148762,  0.        ], dtype=float32),\n",
       " '821-phrase.wav': array([0.00337296, 0.00634208, 0.00540172, ..., 0.00078316, 0.0009241 ,\n",
       "        0.        ], dtype=float32),\n",
       " '824-phrase.wav': array([-0.00443871, -0.00732273, -0.00607244, ...,  0.04439597,\n",
       "         0.04858599,  0.        ], dtype=float32),\n",
       " '825-phrase.wav': array([ 0.00541115,  0.00891774,  0.00723099, ..., -0.00469611,\n",
       "        -0.00548853,  0.        ], dtype=float32),\n",
       " '828-phrase.wav': array([-0.00872966, -0.01397657, -0.01213231, ...,  0.00207473,\n",
       "         0.00242153,  0.        ], dtype=float32),\n",
       " '844-phrase.wav': array([0.00222386, 0.00380582, 0.00278839, ..., 0.01217407, 0.01254554,\n",
       "        0.        ], dtype=float32),\n",
       " '849-phrase.wav': array([ 0.00043576,  0.00125187,  0.00054852, ..., -0.00283017,\n",
       "        -0.00399623,  0.        ], dtype=float32),\n",
       " '855-phrase.wav': array([0.00467763, 0.0075865 , 0.00604726, ..., 0.01492151, 0.01463665,\n",
       "        0.        ], dtype=float32),\n",
       " '859-phrase.wav': array([-0.00762574, -0.01856009, -0.00944953, ...,  0.0059051 ,\n",
       "        -0.00054068,  0.        ], dtype=float32),\n",
       " '863-phrase.wav': array([-0.0024431 , -0.00354791, -0.00244428, ...,  0.00022271,\n",
       "         0.00035048,  0.        ], dtype=float32),\n",
       " '864-phrase.wav': array([-0.0061614 , -0.01009629, -0.00812333, ..., -0.01433836,\n",
       "        -0.01665272,  0.        ], dtype=float32),\n",
       " '869-phrase.wav': array([0.00583973, 0.00994631, 0.00821592, ..., 0.01097788, 0.01299096,\n",
       "        0.        ], dtype=float32),\n",
       " '871-phrase.wav': array([0.00307611, 0.00517237, 0.00459622, ..., 0.00382275, 0.00371349,\n",
       "        0.        ], dtype=float32),\n",
       " '874-phrase.wav': array([-0.00451644, -0.00774682, -0.00684153, ..., -0.00528791,\n",
       "        -0.00486797,  0.        ], dtype=float32),\n",
       " '875-phrase.wav': array([-0.00253461, -0.0042213 , -0.00378043, ..., -0.00414452,\n",
       "        -0.00396131,  0.        ], dtype=float32),\n",
       " '876-phrase.wav': array([0.00014147, 0.00029232, 0.00020166, ..., 0.0028704 , 0.00083555,\n",
       "        0.        ], dtype=float32),\n",
       " '879-phrase.wav': array([-0.00159077, -0.00285387, -0.00237735, ...,  0.00848165,\n",
       "         0.00833975,  0.00924718], dtype=float32),\n",
       " '880-phrase.wav': array([0.01265309, 0.02042051, 0.01797895, ..., 0.00415378, 0.00501341,\n",
       "        0.        ], dtype=float32),\n",
       " '883-phrase.wav': array([-0.02734713, -0.04577086, -0.03964663, ..., -0.01064975,\n",
       "        -0.00980029,  0.        ], dtype=float32),\n",
       " '884-phrase.wav': array([-0.00422343, -0.00698413, -0.00691736, ..., -0.00175414,\n",
       "        -0.00285012,  0.        ], dtype=float32),\n",
       " '886-phrase.wav': array([0.0041101 , 0.00725581, 0.00603561, ..., 0.02760685, 0.02540373,\n",
       "        0.        ], dtype=float32),\n",
       " '887-phrase.wav': array([0.00205559, 0.00378539, 0.00369915, ..., 0.01497284, 0.01683597,\n",
       "        0.        ], dtype=float32),\n",
       " '889-phrase.wav': array([0.01134951, 0.01937501, 0.01661259, ..., 0.006545  , 0.0027514 ,\n",
       "        0.        ], dtype=float32),\n",
       " '893-phrase.wav': array([ 0.00224908, -0.00135226,  0.00418653, ...,  0.01004083,\n",
       "         0.01131141,  0.        ], dtype=float32),\n",
       " '895-phrase.wav': array([-0.00071174, -0.00037967, -0.00080114, ...,  0.00594386,\n",
       "         0.00693394,  0.        ], dtype=float32),\n",
       " '896-phrase.wav': array([ 0.00150261,  0.00345668,  0.00314772, ..., -0.01641441,\n",
       "        -0.01873467,  0.        ], dtype=float32),\n",
       " '897-phrase.wav': array([0.00121938, 0.00191099, 0.00153947, ..., 0.00654226, 0.00819148,\n",
       "        0.        ], dtype=float32),\n",
       " '901-phrase.wav': array([-8.7456750e-03, -1.3971404e-02, -1.1295419e-02, ...,\n",
       "         7.2016200e-04, -5.7849011e-05,  0.0000000e+00], dtype=float32),\n",
       " '902-phrase.wav': array([0.00458405, 0.00826123, 0.00717436, ..., 0.00123816, 0.00465517,\n",
       "        0.        ], dtype=float32),\n",
       " '904-phrase.wav': array([0.0010689 , 0.00208529, 0.0015683 , ..., 0.00049365, 0.00048027,\n",
       "        0.        ], dtype=float32),\n",
       " '908-phrase.wav': array([0.00707999, 0.0111234 , 0.01006973, ..., 0.01415298, 0.01513528,\n",
       "        0.        ], dtype=float32),\n",
       " '910-phrase.wav': array([-0.05944479, -0.0998168 , -0.08708602, ..., -0.08551338,\n",
       "        -0.09832148,  0.        ], dtype=float32),\n",
       " '912-phrase.wav': array([-0.00251844, -0.00439519, -0.00381694, ...,  0.00047057,\n",
       "         0.00038635,  0.        ], dtype=float32),\n",
       " '914-phrase.wav': array([ 0.00595336,  0.00952846,  0.00879287, ..., -0.00012258,\n",
       "        -0.00049143,  0.        ], dtype=float32),\n",
       " '918-phrase.wav': array([-0.00077994, -0.00107649, -0.000427  , ..., -0.00160749,\n",
       "        -0.00109613,  0.        ], dtype=float32),\n",
       " '919-phrase.wav': array([-0.06036914, -0.10055155, -0.08818411, ..., -0.08685364,\n",
       "        -0.09931511,  0.        ], dtype=float32),\n",
       " '923-phrase.wav': array([-0.05845303, -0.09833636, -0.08583707, ..., -0.0978038 ,\n",
       "        -0.11205658,  0.        ], dtype=float32),\n",
       " '924-phrase.wav': array([-0.05896626, -0.09895368, -0.08624841, ..., -0.08304055,\n",
       "        -0.08120967,  0.        ], dtype=float32),\n",
       " '926-phrase.wav': array([-0.0011402 , -0.00308404, -0.00631885, ..., -0.01865078,\n",
       "         0.00371523,  0.        ], dtype=float32),\n",
       " '928-phrase.wav': array([-0.00319833, -0.00575579, -0.00539638, ..., -0.01101868,\n",
       "        -0.01274935,  0.        ], dtype=float32),\n",
       " '929-phrase.wav': array([0.00066124, 0.00153507, 0.00150858, ..., 0.00037252, 0.00087227,\n",
       "        0.        ], dtype=float32),\n",
       " '930-phrase.wav': array([ 0.0010208 ,  0.00247099,  0.00246403, ..., -0.00827164,\n",
       "        -0.00805973, -0.0081112 ], dtype=float32),\n",
       " '931-phrase.wav': array([0.00142849, 0.00247857, 0.00200878, ..., 0.00120945, 0.00181153,\n",
       "        0.        ], dtype=float32),\n",
       " '932-phrase.wav': array([ 0.00024397, -0.00049207, -0.00156637, ..., -0.02059924,\n",
       "        -0.02114894,  0.        ], dtype=float32),\n",
       " '935-phrase.wav': array([ 2.2658331e-03,  3.9713564e-03,  3.4820295e-03, ...,\n",
       "        -8.9981640e-04, -7.4345051e-05,  0.0000000e+00], dtype=float32),\n",
       " '1-phrase.wav': array([0.00062774, 0.00136639, 0.00109393, ..., 0.00089322, 0.00074682,\n",
       "        0.        ], dtype=float32),\n",
       " '10-phrase.wav': array([-0.0120134 , -0.02041645, -0.01379281, ..., -0.44051597,\n",
       "        -0.4278893 ,  0.        ], dtype=float32),\n",
       " '100-phrase.wav': array([0.00337475, 0.00615868, 0.00568929, ..., 0.00328728, 0.00322746,\n",
       "        0.        ], dtype=float32),\n",
       " '1000-phrase.wav': array([-1.2334239e-03, -1.9244363e-03, -1.8980094e-03, ...,\n",
       "         5.6266796e-05, -1.7558728e-04,  0.0000000e+00], dtype=float32),\n",
       " '1002-phrase.wav': array([-0.0010501 , -0.00160571, -0.00136791, ...,  0.00038547,\n",
       "        -0.00039547,  0.        ], dtype=float32),\n",
       " '1003-phrase.wav': array([ 0.00525722,  0.00860577,  0.00754027, ..., -0.00093706,\n",
       "         0.0015475 ,  0.        ], dtype=float32),\n",
       " '1004-phrase.wav': array([-0.00062307, -0.00093826, -0.00063782, ..., -0.00779629,\n",
       "        -0.00944291,  0.        ], dtype=float32),\n",
       " '1005-phrase.wav': array([-0.00088852, -0.00184323, -0.00195842, ..., -0.0070582 ,\n",
       "        -0.00465392,  0.        ], dtype=float32),\n",
       " '1006-phrase.wav': array([0.00184943, 0.00326656, 0.00388589, ..., 0.00397528, 0.00496141,\n",
       "        0.        ], dtype=float32),\n",
       " '1007-phrase.wav': array([0.00361464, 0.00569197, 0.00468759, ..., 0.00378165, 0.00444047,\n",
       "        0.        ], dtype=float32),\n",
       " '1008-phrase.wav': array([-0.00206115, -0.00365029, -0.00299832, ...,  0.00089398,\n",
       "         0.00017722,  0.        ], dtype=float32),\n",
       " '1009-phrase.wav': array([0.00151939, 0.00244271, 0.00217176, ..., 0.00152584, 0.00213034,\n",
       "        0.        ], dtype=float32),\n",
       " '1010-phrase.wav': array([0.00183344, 0.00333799, 0.00287364, ..., 0.0003241 , 0.00130613,\n",
       "        0.        ], dtype=float32),\n",
       " '1011-phrase.wav': array([-0.00112931, -0.00185874, -0.00114471, ...,  0.00511236,\n",
       "         0.00426275,  0.        ], dtype=float32),\n",
       " '1012-phrase.wav': array([ 0.00307508,  0.00521357,  0.00462371, ..., -0.00144406,\n",
       "        -0.00176908,  0.        ], dtype=float32),\n",
       " '1013-phrase.wav': array([-0.00082645, -0.00130991, -0.00112195, ...,  0.01187006,\n",
       "         0.01131956,  0.        ], dtype=float32),\n",
       " '1014-phrase.wav': array([-1.6856722e-04,  1.4787699e-05,  2.1792203e-04, ...,\n",
       "         1.2076673e-03,  1.4846183e-03,  0.0000000e+00], dtype=float32),\n",
       " '1015-phrase.wav': array([ 0.00407952,  0.00668247,  0.00573819, ..., -0.00464391,\n",
       "        -0.0047923 ,  0.        ], dtype=float32),\n",
       " '1016-phrase.wav': array([-0.00234758, -0.00149344, -0.00089896, ..., -0.0040241 ,\n",
       "        -0.00539945,  0.        ], dtype=float32),\n",
       " '1017-phrase.wav': array([-0.00099313, -0.00183757, -0.00179472, ...,  0.00532864,\n",
       "         0.00446091,  0.        ], dtype=float32),\n",
       " '1018-phrase.wav': array([-0.00290031, -0.00480988, -0.00407   , ..., -0.00632263,\n",
       "        -0.00622957,  0.        ], dtype=float32),\n",
       " '1019-phrase.wav': array([-0.00095255, -0.00178099, -0.00190854, ..., -0.00432806,\n",
       "        -0.00052409, -0.00093563], dtype=float32),\n",
       " '102-phrase.wav': array([-6.8847337e-05,  3.1379046e-04, -9.7497826e-04, ...,\n",
       "         5.3247679e-03,  5.2242405e-03,  0.0000000e+00], dtype=float32),\n",
       " '1020-phrase.wav': array([-0.00466956, -0.00849707, -0.00714848, ..., -0.01311346,\n",
       "        -0.01228906,  0.        ], dtype=float32),\n",
       " '1021-phrase.wav': array([0.00394282, 0.00695011, 0.00628791, ..., 0.00330393, 0.00356451,\n",
       "        0.        ], dtype=float32),\n",
       " '1022-phrase.wav': array([0.00419969, 0.00640394, 0.00558162, ..., 0.00649094, 0.00727711,\n",
       "        0.        ], dtype=float32),\n",
       " '1023-phrase.wav': array([-0.00584336, -0.00989258, -0.00871975, ..., -0.00678197,\n",
       "        -0.00655446,  0.        ], dtype=float32),\n",
       " '1024-phrase.wav': array([-0.00236959, -0.0052946 , -0.00510481, ...,  0.0053281 ,\n",
       "         0.00616508,  0.        ], dtype=float32),\n",
       " '1025-phrase.wav': array([-0.00312605, -0.00536157, -0.0047145 , ...,  0.01322918,\n",
       "         0.01968168,  0.        ], dtype=float32),\n",
       " '1026-phrase.wav': array([-0.00227554, -0.00388635, -0.00349652, ..., -0.0026128 ,\n",
       "        -0.00476249,  0.        ], dtype=float32),\n",
       " '1027-phrase.wav': array([0.00117388, 0.00213583, 0.00162784, ..., 0.00436611, 0.00619784,\n",
       "        0.        ], dtype=float32),\n",
       " '1028-phrase.wav': array([0.00119283, 0.0022251 , 0.00213616, ..., 0.00016039, 0.00022194,\n",
       "        0.        ], dtype=float32),\n",
       " '1029-phrase.wav': array([-0.00089741, -0.0014717 , -0.00100852, ...,  0.04385997,\n",
       "         0.04802029,  0.        ], dtype=float32),\n",
       " '103-phrase.wav': array([ 0.00594455,  0.00997564,  0.00980081, ..., -0.04475144,\n",
       "        -0.04218439,  0.        ], dtype=float32),\n",
       " '1030-phrase.wav': array([ 0.00023684,  0.00045756,  0.00034887, ..., -0.00337579,\n",
       "        -0.00425045,  0.        ], dtype=float32),\n",
       " '1031-phrase.wav': array([ 0.00080672,  0.00158133,  0.00122917, ..., -0.00585416,\n",
       "        -0.00581234,  0.        ], dtype=float32),\n",
       " '1032-phrase.wav': array([-0.0040468 , -0.00690227, -0.00602784, ..., -0.0018006 ,\n",
       "        -0.00356326,  0.        ], dtype=float32),\n",
       " '1033-phrase.wav': array([-0.00972494, -0.01288688, -0.00664739, ..., -0.00392686,\n",
       "        -0.00415985,  0.        ], dtype=float32),\n",
       " '1034-phrase.wav': array([ 0.01213773,  0.02027229,  0.017252  , ..., -0.08502781,\n",
       "        -0.08490662,  0.        ], dtype=float32),\n",
       " '1035-phrase.wav': array([-0.00168036, -0.00301028, -0.00279743, ...,  0.0039731 ,\n",
       "         0.00332629,  0.        ], dtype=float32),\n",
       " '1036-phrase.wav': array([ 0.00328959,  0.00542435,  0.00488537, ..., -0.00106871,\n",
       "        -0.00080133,  0.        ], dtype=float32),\n",
       " '104-phrase.wav': array([-0.00795389, -0.01288485, -0.01115163, ...,  0.00515088,\n",
       "         0.00529215,  0.        ], dtype=float32),\n",
       " '1059-phrase.wav': array([-0.01075308, -0.01856334, -0.01559555, ...,  0.01721958,\n",
       "         0.01887455,  0.        ], dtype=float32),\n",
       " '1060-phrase.wav': array([-0.00573412, -0.00863791, -0.00733872, ..., -0.01299769,\n",
       "        -0.01231637,  0.        ], dtype=float32),\n",
       " '1061-phrase.wav': array([ 0.00198145,  0.00322077,  0.00335466, ..., -0.00116773,\n",
       "        -0.00077645,  0.        ], dtype=float32),\n",
       " '1062-phrase.wav': array([-0.00152877, -0.00127803, -0.00177134, ...,  0.00171477,\n",
       "         0.00078866,  0.        ], dtype=float32),\n",
       " '1063-phrase.wav': array([ 0.00174253,  0.00325205,  0.00298294, ..., -0.00234826,\n",
       "        -0.002984  ,  0.        ], dtype=float32),\n",
       " '1064-phrase.wav': array([ 0.00355232,  0.00587543,  0.00569015, ..., -0.00428845,\n",
       "        -0.00413479,  0.        ], dtype=float32),\n",
       " '1065-phrase.wav': array([-0.0013878 , -0.00218214, -0.00248997, ...,  0.00625513,\n",
       "         0.0061058 ,  0.        ], dtype=float32),\n",
       " '1066-phrase.wav': array([-0.00353519, -0.00639932, -0.00547394, ...,  0.00166253,\n",
       "         0.00258662,  0.        ], dtype=float32),\n",
       " '1067-phrase.wav': array([ 0.01073152,  0.01762759,  0.01533942, ..., -0.00128355,\n",
       "        -0.00071592,  0.        ], dtype=float32),\n",
       " '1068-phrase.wav': array([0.00792558, 0.01234241, 0.0110975 , ..., 0.0151807 , 0.01402663,\n",
       "        0.        ], dtype=float32),\n",
       " '1069-phrase.wav': array([-0.00219168, -0.00323789, -0.00294777, ...,  0.0011042 ,\n",
       "         0.00136131,  0.        ], dtype=float32),\n",
       " '1070-phrase.wav': array([0.00285599, 0.00478695, 0.00399473, ..., 0.00320386, 0.00324203,\n",
       "        0.        ], dtype=float32),\n",
       " '1071-phrase.wav': array([-0.00155643, -0.00276462, -0.00250284, ...,  0.009584  ,\n",
       "         0.01179747,  0.        ], dtype=float32),\n",
       " '1072-phrase.wav': array([0.00244974, 0.00431572, 0.00366469, ..., 0.00085193, 0.00171809,\n",
       "        0.        ], dtype=float32),\n",
       " '1073-phrase.wav': array([-0.00064051, -0.00062219, -0.00081622, ...,  0.00147614,\n",
       "         0.00077961,  0.        ], dtype=float32),\n",
       " '1074-phrase.wav': array([0.00271268, 0.00417749, 0.00363159, ..., 0.00642859, 0.00679062,\n",
       "        0.        ], dtype=float32),\n",
       " '1075-phrase.wav': array([4.8655609e-05, 7.7513384e-04, 3.5107898e-04, ..., 4.2852764e-03,\n",
       "        3.5494131e-03, 0.0000000e+00], dtype=float32),\n",
       " '1076-phrase.wav': array([-0.00171584, -0.00278278, -0.00227249, ...,  0.03372625,\n",
       "         0.03909301,  0.        ], dtype=float32),\n",
       " '1077-phrase.wav': array([ 0.00761104,  0.01436239,  0.01353295, ..., -0.00044872,\n",
       "        -0.00033884,  0.        ], dtype=float32),\n",
       " '1078-phrase.wav': array([-0.00464618, -0.00766372, -0.00720395, ..., -0.01098976,\n",
       "        -0.00692292,  0.        ], dtype=float32),\n",
       " '1079-phrase.wav': array([-0.00084156, -0.00135686, -0.00106823, ..., -0.00106785,\n",
       "        -0.00140173,  0.        ], dtype=float32),\n",
       " '1080-phrase.wav': array([-0.00056349, -0.00014038, -0.00014128, ...,  0.00245255,\n",
       "         0.00257246,  0.        ], dtype=float32),\n",
       " '1081-phrase.wav': array([0.00465198, 0.00849457, 0.00690846, ..., 0.00252804, 0.00264844,\n",
       "        0.        ], dtype=float32),\n",
       " '1082-phrase.wav': array([-0.00517069, -0.0082027 , -0.00666537, ...,  0.00572929,\n",
       "         0.00586356,  0.        ], dtype=float32),\n",
       " '1091-phrase.wav': array([-0.05701422, -0.09567728, -0.08366861, ..., -0.08547004,\n",
       "        -0.09875257,  0.        ], dtype=float32),\n",
       " '1092-phrase.wav': array([-0.05874869, -0.09866081, -0.08584513, ..., -0.09236823,\n",
       "        -0.10403019,  0.        ], dtype=float32),\n",
       " '1093-phrase.wav': array([-0.05742018, -0.09621535, -0.08375268, ..., -0.10281775,\n",
       "        -0.10779592,  0.        ], dtype=float32),\n",
       " '1094-phrase.wav': array([-0.05693422, -0.09530008, -0.08412058, ..., -0.09484172,\n",
       "        -0.09804627,  0.        ], dtype=float32),\n",
       " '1095-phrase.wav': array([-0.06605212, -0.11049866, -0.09632164, ..., -0.09721354,\n",
       "        -0.10845935,  0.        ], dtype=float32),\n",
       " '1096-phrase.wav': array([-0.05866374, -0.09862276, -0.08624037, ..., -0.09614554,\n",
       "        -0.11028674,  0.        ], dtype=float32),\n",
       " '1097-phrase.wav': array([-0.05170906, -0.09453102, -0.08967266, ..., -0.10050776,\n",
       "        -0.1126325 ,  0.        ], dtype=float32),\n",
       " '1098-phrase.wav': array([-0.05840667, -0.09795653, -0.08522845, ..., -0.08733388,\n",
       "        -0.08451537,  0.        ], dtype=float32),\n",
       " '1099-phrase.wav': array([-0.05812835, -0.09753161, -0.08524122, ..., -0.08104101,\n",
       "        -0.08996049,  0.        ], dtype=float32),\n",
       " '11-phrase.wav': array([-0.00384426, -0.0055846 , -0.00430881, ...,  0.0033205 ,\n",
       "         0.00305301,  0.        ], dtype=float32),\n",
       " '1100-phrase.wav': array([-0.07128146, -0.12142075, -0.10747097, ...,  0.08618905,\n",
       "         0.09133253,  0.        ], dtype=float32),\n",
       " '1101-phrase.wav': array([-0.06538952, -0.10926972, -0.0955162 , ..., -0.08091277,\n",
       "        -0.08088278,  0.        ], dtype=float32),\n",
       " '1102-phrase.wav': array([-0.06311425, -0.10546242, -0.09207264, ..., -0.08787775,\n",
       "        -0.10131142,  0.        ], dtype=float32),\n",
       " '1103-phrase.wav': array([-0.08452462, -0.13660043, -0.11376543, ..., -0.08929328,\n",
       "        -0.08990031,  0.        ], dtype=float32),\n",
       " '1104-phrase.wav': array([-0.06338179, -0.10632092, -0.09301116, ..., -0.13368535,\n",
       "        -0.12699905,  0.        ], dtype=float32),\n",
       " '1105-phrase.wav': array([-0.06608824, -0.11006125, -0.09553725, ..., -0.08830263,\n",
       "        -0.08595128,  0.        ], dtype=float32),\n",
       " '1106-phrase.wav': array([-0.07017116, -0.11800348, -0.10288304, ..., -0.07574166,\n",
       "        -0.08421716,  0.        ], dtype=float32),\n",
       " '1107-phrase.wav': array([-0.06028553, -0.10119692, -0.08866622, ..., -0.09279311,\n",
       "        -0.0906236 ,  0.        ], dtype=float32),\n",
       " '1108-phrase.wav': array([-0.06279332, -0.10451617, -0.0913676 , ..., -0.083928  ,\n",
       "        -0.09086817,  0.        ], dtype=float32),\n",
       " '1109-phrase.wav': array([-0.06828573, -0.11369751, -0.09946777, ..., -0.28871644,\n",
       "        -0.30747637,  0.        ], dtype=float32),\n",
       " '1110-phrase.wav': array([-0.05838735, -0.09669086, -0.08515596, ..., -0.09210272,\n",
       "        -0.09306694,  0.        ], dtype=float32),\n",
       " '1111-phrase.wav': array([-0.06336039, -0.10600969, -0.09286629, ..., -0.08781337,\n",
       "        -0.08302004,  0.        ], dtype=float32),\n",
       " '1112-phrase.wav': array([-0.07270321, -0.12126955, -0.10602993, ..., -0.08970334,\n",
       "        -0.10118183,  0.        ], dtype=float32),\n",
       " '112-phrase.wav': array([0.00141278, 0.00373709, 0.00365925, ..., 0.00905677, 0.01111771,\n",
       "        0.        ], dtype=float32),\n",
       " '1121-phrase.wav': array([0.001579  , 0.00334069, 0.00215428, ..., 0.00023565, 0.00120581,\n",
       "        0.        ], dtype=float32),\n",
       " '1122-phrase.wav': array([-0.00186755, -0.003074  , -0.00234681, ...,  0.00484363,\n",
       "         0.00638898,  0.        ], dtype=float32),\n",
       " '1123-phrase.wav': array([0.00964528, 0.01637798, 0.01362812, ..., 0.00709483, 0.00742297,\n",
       "        0.        ], dtype=float32),\n",
       " '1124-phrase.wav': array([-0.00827278, -0.01310056, -0.01180023, ...,  0.00708007,\n",
       "         0.00686069,  0.        ], dtype=float32),\n",
       " '1125-phrase.wav': array([ 0.00336746,  0.00539102,  0.00506666, ..., -0.00164309,\n",
       "        -0.00105531,  0.        ], dtype=float32),\n",
       " '1126-phrase.wav': array([ 0.0056471 ,  0.00931589,  0.00830454, ..., -0.00609204,\n",
       "        -0.00718397,  0.        ], dtype=float32),\n",
       " '1127-phrase.wav': array([-0.00917741, -0.0152447 , -0.01344157, ..., -0.00295708,\n",
       "        -0.00255644,  0.        ], dtype=float32),\n",
       " '1128-phrase.wav': array([0.00078442, 0.00155426, 0.00170166, ..., 0.0029939 , 0.00282783,\n",
       "        0.        ], dtype=float32),\n",
       " '1129-phrase.wav': array([0.00024373, 0.00017049, 0.00064191, ..., 0.0133996 , 0.01332772,\n",
       "        0.        ], dtype=float32),\n",
       " '113-phrase.wav': array([-0.00205007, -0.00340289, -0.00296967, ..., -0.00155796,\n",
       "        -0.00171097,  0.        ], dtype=float32),\n",
       " '1130-phrase.wav': array([-0.00619744, -0.01092875, -0.0052162 , ..., -0.00620659,\n",
       "        -0.00275844,  0.        ], dtype=float32),\n",
       " '1131-phrase.wav': array([ 0.00311727,  0.00542174,  0.00436213, ..., -0.00804417,\n",
       "        -0.00972773,  0.        ], dtype=float32),\n",
       " '1132-phrase.wav': array([ 0.0026215 ,  0.00449513,  0.00371701, ..., -0.00527326,\n",
       "        -0.00567382,  0.        ], dtype=float32),\n",
       " '1133-phrase.wav': array([ 0.00012156, -0.00034808, -0.00012738, ...,  0.00202374,\n",
       "         0.002462  ,  0.        ], dtype=float32),\n",
       " '1134-phrase.wav': array([-0.00256752, -0.00414875, -0.00356712, ..., -0.03139211,\n",
       "        -0.03025394,  0.        ], dtype=float32),\n",
       " '1135-phrase.wav': array([-0.00133766, -0.00199377, -0.0018893 , ..., -0.00548978,\n",
       "        -0.00609939,  0.        ], dtype=float32),\n",
       " '1136-phrase.wav': array([ 0.00159708,  0.00305354,  0.00240447, ..., -0.00379308,\n",
       "        -0.00546754,  0.        ], dtype=float32),\n",
       " '1137-phrase.wav': array([ 0.00941317,  0.01448091,  0.01256949, ..., -0.01370866,\n",
       "        -0.01383593,  0.        ], dtype=float32),\n",
       " '1138-phrase.wav': array([-0.00076301, -0.00210745, -0.00204339, ...,  0.00321022,\n",
       "         0.00301872,  0.        ], dtype=float32),\n",
       " '1139-phrase.wav': array([0.00102522, 0.00140445, 0.00073432, ..., 0.00038   , 0.00110126,\n",
       "        0.        ], dtype=float32),\n",
       " '114-phrase.wav': array([-8.1789453e-04, -3.1858862e-03, -3.6503111e-03, ...,\n",
       "         4.8270238e-05,  9.1990299e-04,  0.0000000e+00], dtype=float32),\n",
       " '1140-phrase.wav': array([ 0.00635637,  0.01047588,  0.00863291, ..., -0.01133775,\n",
       "        -0.0107175 , -0.01256629], dtype=float32),\n",
       " '1141-phrase.wav': array([-0.01282755, -0.0190056 , -0.01445312, ...,  0.00910933,\n",
       "         0.0096192 ,  0.01103788], dtype=float32),\n",
       " '1142-phrase.wav': array([-0.00828534, -0.01376701, -0.01260806, ..., -0.02905793,\n",
       "        -0.03140767,  0.        ], dtype=float32),\n",
       " '1143-phrase.wav': array([-0.00337914, -0.00601824, -0.00502476, ..., -0.00883147,\n",
       "        -0.00847983,  0.        ], dtype=float32),\n",
       " '1144-phrase.wav': array([ 0.00104472, -0.00229073, -0.00172276, ...,  0.01052418,\n",
       "         0.01147165,  0.        ], dtype=float32),\n",
       " '1145-phrase.wav': array([ 0.01537753,  0.02512867,  0.02183799, ..., -0.00326991,\n",
       "         0.00172511,  0.        ], dtype=float32),\n",
       " '1146-phrase.wav': array([-0.00509319, -0.00884516, -0.00744993, ...,  0.05405858,\n",
       "         0.05156622,  0.        ], dtype=float32),\n",
       " '1147-phrase.wav': array([-0.00213192, -0.00244614, -0.00288771, ..., -0.01299271,\n",
       "        -0.01464324,  0.        ], dtype=float32),\n",
       " '1148-phrase.wav': array([-0.00373052, -0.00618109, -0.00554454, ...,  0.00071197,\n",
       "         0.00110845,  0.        ], dtype=float32),\n",
       " '1149-phrase.wav': array([ 0.00458814,  0.00794516,  0.00720719, ..., -0.0183762 ,\n",
       "        -0.01690432, -0.02002745], dtype=float32),\n",
       " '115-phrase.wav': array([-0.00229154, -0.00285977, -0.00261167, ..., -0.00365478,\n",
       "        -0.00536068,  0.        ], dtype=float32),\n",
       " '1150-phrase.wav': array([-0.0041891 , -0.00780999, -0.00671874, ..., -0.00490869,\n",
       "        -0.00799942,  0.        ], dtype=float32),\n",
       " '1151-phrase.wav': array([ 0.00425793,  0.00694556,  0.00582252, ..., -0.01291934,\n",
       "        -0.01219801,  0.        ], dtype=float32),\n",
       " '1153-phrase.wav': array([-1.1218605e-03,  8.7374810e-06,  1.2513959e-04, ...,\n",
       "         7.2962465e-03,  6.6693393e-03,  0.0000000e+00], dtype=float32),\n",
       " '1155-phrase.wav': array([-0.00222898, -0.00386425, -0.00316978, ...,  0.00853573,\n",
       "         0.00765674,  0.        ], dtype=float32),\n",
       " '116-phrase.wav': array([-0.00210903, -0.0027614 , -0.00277546, ...,  0.00035165,\n",
       "         0.00041404,  0.        ], dtype=float32),\n",
       " '1167-phrase.wav': array([0.00621923, 0.01017793, 0.00879841, ..., 0.02054097, 0.02472908,\n",
       "        0.        ], dtype=float32),\n",
       " '1168-phrase.wav': array([0.0047006 , 0.00773741, 0.00715004, ..., 0.00532354, 0.00861707,\n",
       "        0.        ], dtype=float32),\n",
       " '1169-phrase.wav': array([0.0002824 , 0.00085343, 0.00042243, ..., 0.00728274, 0.0100758 ,\n",
       "        0.        ], dtype=float32),\n",
       " '117-phrase.wav': array([0.00362049, 0.00712396, 0.00761141, ..., 0.00574884, 0.00667248,\n",
       "        0.        ], dtype=float32),\n",
       " '1170-phrase.wav': array([-0.00390048, -0.00604107, -0.00491103, ...,  0.00447359,\n",
       "         0.00545669,  0.        ], dtype=float32),\n",
       " '1171-phrase.wav': array([-0.00869828, -0.0115662 , -0.01281314, ...,  0.00497064,\n",
       "         0.00308774,  0.        ], dtype=float32),\n",
       " '1172-phrase.wav': array([ 0.0113639 ,  0.01936988,  0.01638768, ..., -0.02069657,\n",
       "        -0.02176768,  0.        ], dtype=float32),\n",
       " '1173-phrase.wav': array([0.00284889, 0.00505661, 0.00489537, ..., 0.00277937, 0.0049695 ,\n",
       "        0.        ], dtype=float32),\n",
       " '1174-phrase.wav': array([ 0.00226099,  0.0033598 ,  0.00293279, ..., -0.00487726,\n",
       "        -0.00540082,  0.        ], dtype=float32),\n",
       " '1175-phrase.wav': array([-0.00454714, -0.00699202, -0.00543428, ...,  0.00159945,\n",
       "         0.00114046,  0.        ], dtype=float32),\n",
       " '1176-phrase.wav': array([-0.00011349, -0.00021845,  0.00020914, ...,  0.00844581,\n",
       "         0.01050227,  0.        ], dtype=float32),\n",
       " '1177-phrase.wav': array([0.00309045, 0.00554599, 0.00458459, ..., 0.0418768 , 0.04648687,\n",
       "        0.        ], dtype=float32),\n",
       " '1178-phrase.wav': array([-0.00743455, -0.01322663, -0.01135156, ..., -0.02126935,\n",
       "        -0.02305168,  0.        ], dtype=float32),\n",
       " '1179-phrase.wav': array([ 0.00271767, -0.00191269, -0.00852445, ...,  0.00089476,\n",
       "         0.00152627,  0.        ], dtype=float32),\n",
       " '1180-phrase.wav': array([-0.00309521, -0.00435709, -0.00377868, ..., -0.01906428,\n",
       "        -0.0164634 , -0.01668859], dtype=float32),\n",
       " '1181-phrase.wav': array([ 0.00104732,  0.00173917,  0.0005336 , ..., -0.03219908,\n",
       "        -0.03026678, -0.0342597 ], dtype=float32),\n",
       " '1182-phrase.wav': array([-0.00427802, -0.00688217, -0.00474063, ...,  0.00026584,\n",
       "         0.00238356,  0.        ], dtype=float32),\n",
       " '1183-phrase.wav': array([ 0.0021464 ,  0.00350356,  0.00251134, ..., -0.00375924,\n",
       "        -0.00408898,  0.        ], dtype=float32),\n",
       " '1184-phrase.wav': array([-0.00076452, -0.00148485, -0.00096324, ...,  0.04457602,\n",
       "        -0.02073761,  0.        ], dtype=float32),\n",
       " '1185-phrase.wav': array([-0.00383856, -0.00644757, -0.00649664, ..., -0.00182347,\n",
       "         0.00174428,  0.        ], dtype=float32),\n",
       " '12-phrase.wav': array([-0.00649387, -0.01226458, -0.01050927, ...,  0.00199382,\n",
       "         0.00066666,  0.        ], dtype=float32),\n",
       " '1207-phrase.wav': array([-0.00550107, -0.01036122, -0.00861861, ..., -0.00289291,\n",
       "        -0.00035517,  0.        ], dtype=float32),\n",
       " '1208-phrase.wav': array([-0.00532036, -0.00899828, -0.00827443, ...,  0.00275355,\n",
       "         0.00049849,  0.        ], dtype=float32),\n",
       " '1209-phrase.wav': array([0.0005229 , 0.00083971, 0.00099133, ..., 0.00767898, 0.00790999,\n",
       "        0.        ], dtype=float32),\n",
       " '121-phrase.wav': array([ 0.0125416 ,  0.0201077 ,  0.01878206, ..., -0.04153333,\n",
       "        -0.05203627,  0.        ], dtype=float32),\n",
       " '1210-phrase.wav': array([-3.2060405e-05,  4.6381447e-04,  7.7048322e-04, ...,\n",
       "         3.8488698e-03,  5.9035015e-03,  0.0000000e+00], dtype=float32),\n",
       " '1211-phrase.wav': array([0.00027588, 0.00316006, 0.00396528, ..., 0.0064087 , 0.00434795,\n",
       "        0.        ], dtype=float32),\n",
       " '1212-phrase.wav': array([0.00428112, 0.00804778, 0.00763301, ..., 0.03009703, 0.03278339,\n",
       "        0.        ], dtype=float32),\n",
       " '1214-phrase.wav': array([-0.00225843, -0.00477507, -0.00486055, ...,  0.00236717,\n",
       "         0.00344681,  0.        ], dtype=float32),\n",
       " '1215-phrase.wav': array([ 0.00057164, -0.0009045 , -0.00070111, ..., -0.02222039,\n",
       "        -0.02683056,  0.        ], dtype=float32),\n",
       " '1216-phrase.wav': array([ 0.0021595 ,  0.00331226,  0.0030223 , ..., -0.00106206,\n",
       "        -0.00172082,  0.        ], dtype=float32),\n",
       " '122-phrase.wav': array([-0.00854913, -0.01334584, -0.01138438, ...,  0.00297701,\n",
       "         0.00370812,  0.        ], dtype=float32),\n",
       " '123-phrase.wav': array([ 0.0066447 ,  0.01006212,  0.00800788, ..., -0.005689  ,\n",
       "        -0.00590104,  0.        ], dtype=float32),\n",
       " '124-phrase.wav': array([-1.1996066e-03, -3.2181069e-03, -4.7748415e-03, ...,\n",
       "         1.4604779e-03,  3.0516281e-05,  0.0000000e+00], dtype=float32),\n",
       " '125-phrase.wav': array([0.01213256, 0.01936959, 0.01650459, ..., 0.01105028, 0.01049923,\n",
       "        0.        ], dtype=float32),\n",
       " '126-phrase.wav': array([-0.00103445, -0.00128431, -0.00156786, ...,  0.00488753,\n",
       "         0.00675593,  0.        ], dtype=float32),\n",
       " '1278-phrase.wav': array([-0.00144942, -0.00310973, -0.00221322, ...,  0.00856396,\n",
       "         0.00931458,  0.        ], dtype=float32),\n",
       " '13-phrase.wav': array([ 0.00023643,  0.00057203,  0.00061075, ..., -0.00376709,\n",
       "        -0.00322328,  0.        ], dtype=float32),\n",
       " '1308-phrase.wav': array([-0.00169979, -0.0027635 , -0.00225792, ..., -0.00237479,\n",
       "        -0.00220604,  0.        ], dtype=float32),\n",
       " '132-phrase.wav': array([ 0.00666969,  0.01139033,  0.00944887, ..., -0.01653078,\n",
       "        -0.01569537, -0.01750284], dtype=float32),\n",
       " '1320-phrase.wav': array([-0.00220558, -0.00360637, -0.00271948, ...,  0.01538256,\n",
       "         0.0189678 ,  0.        ], dtype=float32),\n",
       " '133-phrase.wav': array([-0.0024625 , -0.00446763, -0.00410831, ..., -0.05617868,\n",
       "        -0.05192981, -0.05648065], dtype=float32),\n",
       " '1336-phrase.wav': array([-0.00538505, -0.00863187, -0.00802386, ...,  0.0014428 ,\n",
       "         0.0010705 ,  0.        ], dtype=float32),\n",
       " '134-phrase.wav': array([ 2.6128264e-04, -7.4532807e-05,  3.0507913e-04, ...,\n",
       "         4.3501961e-03,  4.3881303e-03,  0.0000000e+00], dtype=float32),\n",
       " '1342-phrase.wav': array([-3.7429349e-03, -5.9196325e-03, -6.2856572e-03, ...,\n",
       "        -9.5391239e-04,  1.4394762e-05,  0.0000000e+00], dtype=float32),\n",
       " '1343-phrase.wav': array([ 0.00391864,  0.00724246,  0.00687076, ..., -0.00642324,\n",
       "        -0.00716714,  0.        ], dtype=float32),\n",
       " '1344-phrase.wav': array([ 0.0007758 ,  0.00160808,  0.00179745, ..., -0.00198805,\n",
       "        -0.00172993,  0.        ], dtype=float32),\n",
       " '1345-phrase.wav': array([ 0.00265564,  0.004706  ,  0.00403236, ..., -0.00044837,\n",
       "         0.00064023,  0.        ], dtype=float32),\n",
       " '1346-phrase.wav': array([0.00277944, 0.00473705, 0.00406965, ..., 0.01185405, 0.01245571,\n",
       "        0.        ], dtype=float32),\n",
       " '1347-phrase.wav': array([ 0.0011129 ,  0.00182751,  0.00160136, ..., -0.00367022,\n",
       "        -0.00429484,  0.        ], dtype=float32),\n",
       " '1348-phrase.wav': array([0.00235967, 0.00353965, 0.0031778 , ..., 0.00476256, 0.00550586,\n",
       "        0.        ], dtype=float32),\n",
       " '1349-phrase.wav': array([0.0105078 , 0.0177847 , 0.01524865, ..., 0.01738391, 0.0129794 ,\n",
       "        0.        ], dtype=float32),\n",
       " '135-phrase.wav': array([-0.00052179, -0.00094453,  0.00027137, ..., -0.00972405,\n",
       "        -0.01049921,  0.        ], dtype=float32),\n",
       " '1350-phrase.wav': array([-0.00033545, -0.00044325, -0.00020803, ..., -0.00367123,\n",
       "        -0.00475702,  0.        ], dtype=float32),\n",
       " '1351-phrase.wav': array([ 0.00494553,  0.00767743,  0.00630991, ..., -0.00455273,\n",
       "        -0.00499609,  0.        ], dtype=float32),\n",
       " '1352-phrase.wav': array([-0.00934739, -0.01598276, -0.01381863, ..., -0.0512713 ,\n",
       "        -0.05286399,  0.        ], dtype=float32),\n",
       " '1353-phrase.wav': array([0.01087239, 0.01853082, 0.01599795, ..., 0.00181067, 0.0016927 ,\n",
       "        0.        ], dtype=float32),\n",
       " '1354-phrase.wav': array([ 0.00191377,  0.00292625,  0.00215833, ..., -0.0005426 ,\n",
       "        -0.00104302,  0.        ], dtype=float32),\n",
       " '1355-phrase.wav': array([ 0.00112866,  0.00199621,  0.00203608, ..., -0.01365718,\n",
       "        -0.01314882,  0.        ], dtype=float32),\n",
       " '1356-phrase.wav': array([-0.00677882, -0.01151991, -0.00964944, ..., -0.00775659,\n",
       "        -0.0073894 ,  0.        ], dtype=float32),\n",
       " '1357-phrase.wav': array([-0.0048233 , -0.00838906, -0.00703325, ..., -0.01303737,\n",
       "        -0.01081143,  0.        ], dtype=float32),\n",
       " '1358-phrase.wav': array([-1.9922217e-04, -1.8912004e-04, -1.3315189e-05, ...,\n",
       "        -3.1688094e-02, -3.0070582e-02,  0.0000000e+00], dtype=float32),\n",
       " '1359-phrase.wav': array([-0.00055336, -0.00140098, -0.00099809, ...,  0.00190038,\n",
       "         0.00423313,  0.        ], dtype=float32),\n",
       " '136-phrase.wav': array([0.00284449, 0.00472797, 0.00380872, ..., 0.00160504, 0.00205649,\n",
       "        0.        ], dtype=float32),\n",
       " '1360-phrase.wav': array([ 0.00144952,  0.00236357,  0.00300143, ..., -0.00830995,\n",
       "        -0.0101472 ,  0.        ], dtype=float32),\n",
       " '1361-phrase.wav': array([-0.00026942, -0.00083827, -0.00027232, ...,  0.00639265,\n",
       "         0.00576511,  0.        ], dtype=float32),\n",
       " '1362-phrase.wav': array([ 0.00034903,  0.00027298,  0.00044515, ..., -0.01186406,\n",
       "        -0.01300411,  0.        ], dtype=float32),\n",
       " '1363-phrase.wav': array([ 0.00157812,  0.00222957,  0.00216936, ..., -0.00645956,\n",
       "        -0.00830744, -0.00746259], dtype=float32),\n",
       " '1364-phrase.wav': array([-0.00504864, -0.00843633, -0.00795126, ..., -0.00089978,\n",
       "        -0.00190112,  0.        ], dtype=float32),\n",
       " '1365-phrase.wav': array([-0.00316652, -0.00528767, -0.00373022, ...,  0.01069493,\n",
       "         0.01116318,  0.        ], dtype=float32),\n",
       " '1366-phrase.wav': array([-0.01124431, -0.01935328, -0.0167972 , ...,  0.02276558,\n",
       "         0.03343605,  0.        ], dtype=float32),\n",
       " '1367-phrase.wav': array([-0.00477049, -0.00809427, -0.00683848, ...,  0.00569953,\n",
       "         0.00412555,  0.        ], dtype=float32),\n",
       " '1368-phrase.wav': array([-0.00798043, -0.01263708, -0.01093114, ...,  0.01221835,\n",
       "         0.01132243,  0.        ], dtype=float32),\n",
       " '1369-phrase.wav': array([ 0.00177997,  0.00230803,  0.0033955 , ..., -0.0346625 ,\n",
       "        -0.03497455,  0.        ], dtype=float32),\n",
       " '137-phrase.wav': array([ 0.00021606,  0.00144397,  0.00312076, ..., -0.0049107 ,\n",
       "        -0.00299   , -0.00077585], dtype=float32),\n",
       " '1370-phrase.wav': array([-0.0005109 , -0.00114192, -0.00094705, ..., -0.00285162,\n",
       "        -0.00264896,  0.        ], dtype=float32),\n",
       " '1371-phrase.wav': array([0.00151448, 0.00300337, 0.00222916, ..., 0.00466642, 0.00647874,\n",
       "        0.        ], dtype=float32),\n",
       " '1372-phrase.wav': array([ 0.0055014 ,  0.00968933,  0.00840474, ..., -0.00663241,\n",
       "        -0.01124331,  0.        ], dtype=float32),\n",
       " '1373-phrase.wav': array([-0.00584214, -0.01077598, -0.00989612, ..., -0.00775267,\n",
       "        -0.00738373,  0.        ], dtype=float32),\n",
       " '1374-phrase.wav': array([-0.00433434, -0.00730043, -0.00623737, ..., -0.0038953 ,\n",
       "        -0.00428772,  0.        ], dtype=float32),\n",
       " '1375-phrase.wav': array([ 0.00204282,  0.00314263,  0.0031154 , ..., -0.06188265,\n",
       "        -0.06481423,  0.        ], dtype=float32),\n",
       " '1377-phrase.wav': array([-0.00391712, -0.00550683, -0.00473239, ..., -0.01470951,\n",
       "        -0.01570384,  0.        ], dtype=float32),\n",
       " '14-phrase.wav': array([-0.00062049, -0.00149229, -0.00086805, ..., -0.01214153,\n",
       "        -0.01341773,  0.        ], dtype=float32),\n",
       " '1427-phrase.wav': array([-0.00591028, -0.01030647, -0.00887805, ..., -0.00589347,\n",
       "        -0.00698165,  0.        ], dtype=float32),\n",
       " '145-phrase.wav': array([-0.00853912, -0.01438433, -0.01273866, ...,  0.00444363,\n",
       "         0.00527382,  0.        ], dtype=float32),\n",
       " '1460-phrase.wav': array([-0.00042097, -0.00055529, -0.00046688, ...,  0.00288523,\n",
       "         0.00262203,  0.        ], dtype=float32),\n",
       " '15-phrase.wav': array([ 0.00057645,  0.00105911,  0.00164175, ..., -0.00219836,\n",
       "        -0.00341487,  0.        ], dtype=float32),\n",
       " '1504-phrase.wav': array([0.00851259, 0.01365917, 0.01215477, ..., 0.00715433, 0.00726116,\n",
       "        0.        ], dtype=float32),\n",
       " '1505-phrase.wav': array([ 0.00011003,  0.00049006,  0.000677  , ..., -0.01037837,\n",
       "        -0.01170242,  0.        ], dtype=float32),\n",
       " '1506-phrase.wav': array([0.01353091, 0.02144786, 0.01767244, ..., 0.03763621, 0.03648423,\n",
       "        0.        ], dtype=float32),\n",
       " '1507-phrase.wav': array([ 0.0042477 ,  0.0072775 ,  0.00623611, ..., -0.00455601,\n",
       "        -0.00482434,  0.        ], dtype=float32),\n",
       " '1508-phrase.wav': array([0.00364066, 0.00533072, 0.00305947, ..., 0.03897965, 0.04390548,\n",
       "        0.        ], dtype=float32),\n",
       " '1509-phrase.wav': array([-0.00238391, -0.00362285, -0.00309267, ..., -0.01392535,\n",
       "        -0.01477087,  0.        ], dtype=float32),\n",
       " '1510-phrase.wav': array([ 0.00270833,  0.00362571,  0.00367524, ..., -0.002194  ,\n",
       "        -0.00205216,  0.        ], dtype=float32),\n",
       " '1511-phrase.wav': array([-0.00596268, -0.00983815, -0.00771612, ..., -0.0084464 ,\n",
       "        -0.00546664,  0.        ], dtype=float32),\n",
       " '1512-phrase.wav': array([-0.00078729, -0.00108997, -0.0012511 , ...,  0.00490223,\n",
       "         0.00345191,  0.        ], dtype=float32),\n",
       " '1513-phrase.wav': array([0.00103731, 0.0013053 , 0.00095271, ..., 0.03375361, 0.03494439,\n",
       "        0.        ], dtype=float32),\n",
       " '1514-phrase.wav': array([-0.01642535, -0.02891529, -0.02819743, ..., -0.02371393,\n",
       "        -0.0207342 ,  0.        ], dtype=float32),\n",
       " '1515-phrase.wav': array([ 0.00012092,  0.00180628,  0.0016795 , ..., -0.02229934,\n",
       "        -0.02814661,  0.        ], dtype=float32),\n",
       " '1516-phrase.wav': array([-0.00030753, -0.00065553, -0.00067595, ...,  0.00349288,\n",
       "         0.00345999,  0.        ], dtype=float32),\n",
       " '1517-phrase.wav': array([-0.00105209, -0.00181235, -0.00106862, ...,  0.00721576,\n",
       "         0.0073838 ,  0.        ], dtype=float32),\n",
       " '1518-phrase.wav': array([0.00037954, 0.00019421, 0.00015572, ..., 0.0628036 , 0.06878431,\n",
       "        0.        ], dtype=float32),\n",
       " '1519-phrase.wav': array([ 0.00029382,  0.00060901,  0.00057957, ..., -0.00735756,\n",
       "        -0.0088621 ,  0.        ], dtype=float32),\n",
       " '1520-phrase.wav': array([ 0.00068692,  0.0011929 ,  0.00092172, ..., -0.00177092,\n",
       "        -0.00185062,  0.        ], dtype=float32),\n",
       " '1521-phrase.wav': array([-0.00736214, -0.01198733, -0.01097509, ...,  0.00877228,\n",
       "         0.01025596,  0.        ], dtype=float32),\n",
       " '1522-phrase.wav': array([ 0.00144662,  0.00326408,  0.00348058, ..., -0.05017279,\n",
       "        -0.05813617,  0.        ], dtype=float32),\n",
       " '1523-phrase.wav': array([ 0.00423607,  0.0069103 ,  0.00584059, ..., -0.00149189,\n",
       "        -0.00146575,  0.        ], dtype=float32),\n",
       " '1524-phrase.wav': array([ 0.0004871 ,  0.00099339,  0.00122991, ..., -0.00789756,\n",
       "        -0.00822651,  0.        ], dtype=float32),\n",
       " '1526-phrase.wav': array([0.00281551, 0.00444925, 0.00382052, ..., 0.00294989, 0.00272265,\n",
       "        0.        ], dtype=float32),\n",
       " '1527-phrase.wav': array([-0.00137874, -0.00262908, -0.0024934 , ..., -0.00403745,\n",
       "        -0.00415467,  0.        ], dtype=float32),\n",
       " '1528-phrase.wav': array([ 0.00126123,  0.00193963,  0.00222445, ..., -0.02294897,\n",
       "        -0.02028359,  0.        ], dtype=float32),\n",
       " '1529-phrase.wav': array([0.00123037, 0.00195223, 0.00177178, ..., 0.00372681, 0.00360683,\n",
       "        0.        ], dtype=float32),\n",
       " '153-phrase.wav': array([-0.00132969, -0.00220731, -0.00199649, ...,  0.0009498 ,\n",
       "         0.00078622,  0.        ], dtype=float32),\n",
       " '1530-phrase.wav': array([-0.00086072, -0.00167516, -0.00157055, ..., -0.01285607,\n",
       "        -0.01530557,  0.        ], dtype=float32),\n",
       " '1531-phrase.wav': array([-0.00309381, -0.00496509, -0.00453076, ...,  0.00216182,\n",
       "         0.00248738,  0.        ], dtype=float32),\n",
       " '1532-phrase.wav': array([ 0.0030016 ,  0.00484663,  0.00485416, ..., -0.02227003,\n",
       "        -0.0223982 ,  0.        ], dtype=float32),\n",
       " '1533-phrase.wav': array([-1.28043794e-05, -2.31541562e-05,  1.09224275e-04, ...,\n",
       "         1.40748022e-03,  2.28664884e-03,  0.00000000e+00], dtype=float32),\n",
       " '1534-phrase.wav': array([ 0.00836824,  0.01386417,  0.01202368, ..., -0.00330042,\n",
       "        -0.00441115,  0.        ], dtype=float32),\n",
       " '1535-phrase.wav': array([0.00132438, 0.00214221, 0.00147511, ..., 0.08779748, 0.0987246 ,\n",
       "        0.        ], dtype=float32),\n",
       " '1536-phrase.wav': array([0.00286775, 0.00463839, 0.00470977, ..., 0.02833636, 0.02518865,\n",
       "        0.        ], dtype=float32),\n",
       " '1537-phrase.wav': array([-0.00480757, -0.00795775, -0.00759828, ..., -0.00084764,\n",
       "        -0.00090264,  0.        ], dtype=float32),\n",
       " '1538-phrase.wav': array([ 0.0033686 ,  0.00525265,  0.00392041, ..., -0.00292358,\n",
       "        -0.00204988,  0.        ], dtype=float32),\n",
       " '1539-phrase.wav': array([-0.00126793, -0.00198812, -0.00188897, ...,  0.00499381,\n",
       "         0.00609466,  0.        ], dtype=float32),\n",
       " '1540-phrase.wav': array([-0.00720217, -0.01290317, -0.01005642, ...,  0.0035531 ,\n",
       "         0.0027522 ,  0.        ], dtype=float32),\n",
       " '1541-phrase.wav': array([ 0.00307259,  0.0057958 ,  0.00475311, ..., -0.00534552,\n",
       "        -0.00529882,  0.        ], dtype=float32),\n",
       " '1542-phrase.wav': array([ 0.00127491,  0.00215025,  0.00205726, ..., -0.00071103,\n",
       "        -0.00108168,  0.        ], dtype=float32),\n",
       " '1543-phrase.wav': array([ 0.00029566,  0.00056275,  0.00038084, ..., -0.00646382,\n",
       "        -0.00779199,  0.        ], dtype=float32),\n",
       " '1544-phrase.wav': array([-0.00210083, -0.00391827, -0.00338493, ..., -0.02403636,\n",
       "        -0.0250015 ,  0.        ], dtype=float32),\n",
       " '156-phrase.wav': array([ 0.00085456,  0.0010885 ,  0.00106861, ..., -0.00558252,\n",
       "        -0.00686244,  0.        ], dtype=float32),\n",
       " '157-phrase.wav': array([-0.00297056, -0.00438479, -0.00371617, ...,  0.00925102,\n",
       "         0.01210267,  0.        ], dtype=float32),\n",
       " '1573-phrase.wav': array([-0.02735714, -0.04178752, -0.02658146, ..., -0.0038339 ,\n",
       "        -0.00381639,  0.        ], dtype=float32),\n",
       " '1577-phrase.wav': array([-2.7919727e-05, -7.2156305e-05, -3.1299543e-04, ...,\n",
       "        -1.1566837e-03, -2.6319176e-03,  0.0000000e+00], dtype=float32),\n",
       " '1579-phrase.wav': array([ 0.00163379,  0.0033815 ,  0.00283741, ..., -0.00635469,\n",
       "        -0.00672646,  0.        ], dtype=float32),\n",
       " '158-phrase.wav': array([ 0.00447997,  0.00820208,  0.00673146, ..., -0.00432959,\n",
       "        -0.00437963,  0.        ], dtype=float32),\n",
       " '1582-phrase.wav': array([-0.0010614 , -0.00234459, -0.00167052, ..., -0.00228869,\n",
       "        -0.00214557,  0.        ], dtype=float32),\n",
       " '1583-phrase.wav': array([ 0.00615373,  0.0105126 ,  0.00879929, ...,  0.00023662,\n",
       "        -0.00161345,  0.        ], dtype=float32),\n",
       " '1584-phrase.wav': array([0.00147319, 0.00246274, 0.00214855, ..., 0.00946973, 0.01101793,\n",
       "        0.        ], dtype=float32),\n",
       " '1585-phrase.wav': array([0.00248713, 0.00443219, 0.0036939 , ..., 0.00609824, 0.00705408,\n",
       "        0.        ], dtype=float32),\n",
       " '1586-phrase.wav': array([-0.00245663, -0.00423939, -0.00335203, ...,  0.00321898,\n",
       "         0.00375836,  0.        ], dtype=float32),\n",
       " '1587-phrase.wav': array([-0.00603243, -0.0091007 , -0.00716204, ..., -0.00523001,\n",
       "        -0.00546428,  0.        ], dtype=float32),\n",
       " '1598-phrase.wav': array([0.00015325, 0.00143213, 0.001107  , ..., 0.04262733, 0.04140662,\n",
       "        0.        ], dtype=float32),\n",
       " '16-phrase.wav': array([0.00059067, 0.00106687, 0.00074163, ..., 0.00295426, 0.0030744 ,\n",
       "        0.        ], dtype=float32),\n",
       " '1605-phrase.wav': array([0.00394733, 0.00781703, 0.00662256, ..., 0.00920239, 0.01035602,\n",
       "        0.        ], dtype=float32),\n",
       " '1612-phrase.wav': array([ 0.00447017,  0.00771688,  0.0071316 , ..., -0.01160128,\n",
       "        -0.01332398,  0.        ], dtype=float32),\n",
       " '1623-phrase.wav': array([0.0016316 , 0.00330574, 0.0032039 , ..., 0.00090207, 0.00133707,\n",
       "        0.        ], dtype=float32),\n",
       " '1695-phrase.wav': array([-0.00038215, -0.00115294, -0.00114294, ...,  0.06117317,\n",
       "         0.07011355,  0.        ], dtype=float32),\n",
       " '1696-phrase.wav': array([ 3.2944442e-04,  2.9517983e-03,  2.4705201e-03, ...,\n",
       "        -5.9749651e-05,  3.8488946e-05,  0.0000000e+00], dtype=float32),\n",
       " '1697-phrase.wav': array([ 0.00116336,  0.00285204,  0.00115407, ..., -0.00610157,\n",
       "        -0.00748847,  0.        ], dtype=float32),\n",
       " '1698-phrase.wav': array([0.00184536, 0.00305008, 0.00267749, ..., 0.01371813, 0.01477239,\n",
       "        0.        ], dtype=float32),\n",
       " '1699-phrase.wav': array([0.00517332, 0.00801986, 0.00687995, ..., 0.00374876, 0.00378481,\n",
       "        0.        ], dtype=float32),\n",
       " '17-phrase.wav': array([0.00238614, 0.00376441, 0.00366226, ..., 0.04019341, 0.04185347,\n",
       "        0.        ], dtype=float32),\n",
       " '1700-phrase.wav': array([ 0.00299653,  0.00551333,  0.00489962, ..., -0.00789599,\n",
       "        -0.00814694,  0.        ], dtype=float32),\n",
       " '1701-phrase.wav': array([-0.01006803, -0.01661685, -0.01508908, ..., -0.00305176,\n",
       "        -0.00379927,  0.        ], dtype=float32),\n",
       " '1702-phrase.wav': array([-0.00037869, -0.00068662, -0.00079135, ..., -0.00742877,\n",
       "        -0.00783155,  0.        ], dtype=float32),\n",
       " '1703-phrase.wav': array([-0.00216021, -0.00346833, -0.00287429, ...,  0.00634099,\n",
       "         0.00666291,  0.        ], dtype=float32),\n",
       " '1704-phrase.wav': array([-0.00064389, -0.00151934, -0.00138136, ...,  0.00711751,\n",
       "         0.00710653,  0.        ], dtype=float32),\n",
       " '1705-phrase.wav': array([0.00598651, 0.01055539, 0.00838239, ..., 0.00327658, 0.00318563,\n",
       "        0.        ], dtype=float32),\n",
       " '1706-phrase.wav': array([-1.1428634e-05,  2.4443731e-04, -1.4614957e-04, ...,\n",
       "         1.5281400e-02,  1.7104499e-02,  0.0000000e+00], dtype=float32),\n",
       " '1707-phrase.wav': array([-0.00148761, -0.00218669, -0.00196732, ...,  0.00654716,\n",
       "         0.00506468,  0.        ], dtype=float32),\n",
       " '1708-phrase.wav': array([0.00112361, 0.00186514, 0.00171525, ..., 0.00192706, 0.00194307,\n",
       "        0.        ], dtype=float32),\n",
       " '1709-phrase.wav': array([ 0.0033652 ,  0.00591198,  0.00564539, ..., -0.00359452,\n",
       "        -0.00447513,  0.        ], dtype=float32),\n",
       " '1710-phrase.wav': array([-0.00141404, -0.00268143, -0.00188426, ..., -0.00947296,\n",
       "        -0.01054457,  0.        ], dtype=float32),\n",
       " '1711-phrase.wav': array([0.00064085, 0.00069071, 0.00034029, ..., 0.06235658, 0.07377587,\n",
       "        0.        ], dtype=float32),\n",
       " '1712-phrase.wav': array([-6.8238261e-04,  1.1751079e-05, -1.4376674e-04, ...,\n",
       "        -4.0607508e-03, -5.4222769e-03,  0.0000000e+00], dtype=float32),\n",
       " '1724-phrase.wav': array([ 0.00674926,  0.0115927 ,  0.00950535, ..., -0.00480708,\n",
       "        -0.00566054,  0.        ], dtype=float32),\n",
       " '1725-phrase.wav': array([ 0.00022812,  0.0002059 , -0.00027924, ..., -0.00165883,\n",
       "        -0.00160148,  0.        ], dtype=float32),\n",
       " '1726-phrase.wav': array([ 0.00441527,  0.00716984,  0.00700423, ..., -0.01357529,\n",
       "        -0.01552073,  0.        ], dtype=float32),\n",
       " '1727-phrase.wav': array([0.00032346, 0.00028339, 0.00035935, ..., 0.00879321, 0.00983265,\n",
       "        0.        ], dtype=float32),\n",
       " '1728-phrase.wav': array([-0.00617409, -0.01068597, -0.00869711, ...,  0.00235412,\n",
       "         0.00211037,  0.        ], dtype=float32),\n",
       " '1729-phrase.wav': array([0.00161768, 0.00285856, 0.00239589, ..., 0.01417277, 0.01636329,\n",
       "        0.        ], dtype=float32),\n",
       " '1730-phrase.wav': array([-0.00414675, -0.00668525, -0.00565854, ..., -0.00316036,\n",
       "        -0.0039488 ,  0.        ], dtype=float32),\n",
       " '1731-phrase.wav': array([-0.00235433, -0.00395319, -0.0037165 , ..., -0.0131384 ,\n",
       "        -0.01311674,  0.        ], dtype=float32),\n",
       " '1732-phrase.wav': array([ 0.00123094,  0.00181462,  0.00109912, ..., -0.0166068 ,\n",
       "        -0.01689475,  0.        ], dtype=float32),\n",
       " '1733-phrase.wav': array([ 0.00024979,  0.00031601, -0.00016973, ..., -0.00654614,\n",
       "        -0.007355  ,  0.        ], dtype=float32),\n",
       " '1734-phrase.wav': array([ 0.00062091,  0.00076567,  0.00016976, ...,  0.00099004,\n",
       "        -0.00057358,  0.        ], dtype=float32),\n",
       " '1735-phrase.wav': array([0.0002513 , 0.00096131, 0.00064909, ..., 0.00131056, 0.00178711,\n",
       "        0.        ], dtype=float32),\n",
       " '1736-phrase.wav': array([-0.00068675, -0.00094286, -0.00123258, ..., -0.0031615 ,\n",
       "        -0.00342823,  0.        ], dtype=float32),\n",
       " '1737-phrase.wav': array([ 0.00232622,  0.00389097,  0.00317983, ..., -0.01031578,\n",
       "        -0.01129071,  0.        ], dtype=float32),\n",
       " '1738-phrase.wav': array([-0.00473353, -0.00814293, -0.00739868, ..., -0.02520033,\n",
       "        -0.02894084,  0.        ], dtype=float32),\n",
       " '1739-phrase.wav': array([-0.00068786, -0.00171733, -0.00103648, ...,  0.01567518,\n",
       "         0.01452212,  0.        ], dtype=float32),\n",
       " '1740-phrase.wav': array([-0.00633453, -0.00993545, -0.00877574, ...,  0.01286983,\n",
       "         0.01179857,  0.        ], dtype=float32),\n",
       " '1775-phrase.wav': array([ 0.00352981,  0.00581712,  0.00473558, ..., -0.00349919,\n",
       "        -0.0031459 ,  0.        ], dtype=float32),\n",
       " '18-phrase.wav': array([-0.00295473, -0.00515514, -0.00554415, ...,  0.00241058,\n",
       "         0.0047567 ,  0.        ], dtype=float32),\n",
       " '1815-phrase.wav': array([-0.00166651, -0.00262276, -0.00295115, ..., -0.00662412,\n",
       "        -0.00771748,  0.        ], dtype=float32),\n",
       " '1837-phrase.wav': array([0.01390563, 0.02475894, 0.02108844, ..., 0.01122721, 0.01270567,\n",
       "        0.        ], dtype=float32),\n",
       " '1838-phrase.wav': array([-0.00635926, -0.00997483, -0.00910075, ..., -0.00189314,\n",
       "        -0.00167768,  0.        ], dtype=float32),\n",
       " '1839-phrase.wav': array([-0.00575028, -0.00887741, -0.00868622, ...,  0.00553459,\n",
       "         0.0051494 ,  0.        ], dtype=float32),\n",
       " '1840-phrase.wav': array([-0.00696523, -0.01203937, -0.011113  , ...,  0.00206967,\n",
       "         0.00226731,  0.        ], dtype=float32),\n",
       " '1841-phrase.wav': array([-0.10584363, -0.17691955, -0.15481661, ..., -0.15179957,\n",
       "        -0.1732542 ,  0.        ], dtype=float32),\n",
       " '1842-phrase.wav': array([-0.10145672, -0.17030323, -0.14855808, ..., -0.15518278,\n",
       "        -0.15224093,  0.        ], dtype=float32),\n",
       " '1843-phrase.wav': array([-0.10386558, -0.17338407, -0.1507529 , ..., -0.16014461,\n",
       "        -0.15348768,  0.        ], dtype=float32),\n",
       " '1844-phrase.wav': array([-0.10546985, -0.17650965, -0.15367132, ..., -0.15564682,\n",
       "        -0.15824582,  0.        ], dtype=float32),\n",
       " '1845-phrase.wav': array([-0.10145311, -0.1700143 , -0.1486764 , ..., -0.14795397,\n",
       "        -0.16982174,  0.        ], dtype=float32),\n",
       " '1846-phrase.wav': array([-0.00445308, -0.00802726, -0.00655336, ..., -0.05144385,\n",
       "        -0.05330215, -0.06351838], dtype=float32),\n",
       " '1847-phrase.wav': array([ 0.00704668,  0.01059717,  0.00887322, ..., -0.03312941,\n",
       "        -0.05814169,  0.        ], dtype=float32),\n",
       " '1848-phrase.wav': array([ 0.00153924,  0.00273499,  0.00066983, ..., -0.00070047,\n",
       "        -0.00306055,  0.        ], dtype=float32),\n",
       " '1849-phrase.wav': array([-0.00035065, -0.00118975, -0.00119156, ..., -0.00111461,\n",
       "        -0.00177171,  0.        ], dtype=float32),\n",
       " '1850-phrase.wav': array([-0.00254374, -0.00367531, -0.00364984, ..., -0.01794945,\n",
       "        -0.02195454,  0.        ], dtype=float32),\n",
       " '1851-phrase.wav': array([-0.00141071, -0.00248421, -0.00202112, ...,  0.00306824,\n",
       "         0.00257195,  0.        ], dtype=float32),\n",
       " '1852-phrase.wav': array([-0.00170429, -0.00273882, -0.00264776, ...,  0.00455164,\n",
       "         0.00537477,  0.        ], dtype=float32),\n",
       " '1853-phrase.wav': array([ 0.00106267,  0.0008737 ,  0.00019276, ..., -0.00671602,\n",
       "        -0.00677502,  0.        ], dtype=float32),\n",
       " '1854-phrase.wav': array([ 0.0025534 ,  0.00418093,  0.00383063, ..., -0.0209026 ,\n",
       "        -0.02169641,  0.        ], dtype=float32),\n",
       " '1855-phrase.wav': array([ 0.00065889,  0.00108819,  0.00087159, ..., -0.00036445,\n",
       "        -0.0004889 ,  0.        ], dtype=float32),\n",
       " '1856-phrase.wav': array([ 0.00514754,  0.00858903,  0.00777794, ..., -0.00149893,\n",
       "        -0.00151079,  0.        ], dtype=float32),\n",
       " '1857-phrase.wav': array([ 2.0640423e-04, -1.3841994e-04,  2.7559244e-04, ...,\n",
       "        -1.8723030e-01, -1.8892477e-01,  0.0000000e+00], dtype=float32),\n",
       " '1858-phrase.wav': array([-0.00260415, -0.00471285, -0.00391242, ...,  0.00416799,\n",
       "         0.0058244 ,  0.        ], dtype=float32),\n",
       " '1859-phrase.wav': array([0.00022366, 0.00015758, 0.00049095, ..., 0.00202576, 0.00139535,\n",
       "        0.        ], dtype=float32),\n",
       " '1860-phrase.wav': array([-0.00447681, -0.00716252, -0.00657137, ..., -0.0111156 ,\n",
       "        -0.01341274,  0.        ], dtype=float32),\n",
       " '1865-phrase.wav': array([ 0.00227528,  0.00397429,  0.0037341 , ..., -0.00227435,\n",
       "        -0.00291639,  0.        ], dtype=float32),\n",
       " '1870-phrase.wav': array([0.0006277 , 0.0005648 , 0.00069339, ..., 0.00128192, 0.00182899,\n",
       "        0.        ], dtype=float32),\n",
       " '1871-phrase.wav': array([0.00113369, 0.00252229, 0.00236864, ..., 0.00373588, 0.00373481,\n",
       "        0.        ], dtype=float32),\n",
       " '1872-phrase.wav': array([ 0.00122337,  0.00134432,  0.00124411, ..., -0.00519289,\n",
       "        -0.00592205,  0.        ], dtype=float32),\n",
       " '1873-phrase.wav': array([-0.00413833, -0.00739857, -0.00667085, ..., -0.03956664,\n",
       "        -0.04062754,  0.        ], dtype=float32),\n",
       " '1874-phrase.wav': array([-0.00217561, -0.00407571, -0.00380801, ..., -0.00650805,\n",
       "        -0.00408784,  0.        ], dtype=float32),\n",
       " '1875-phrase.wav': array([ 0.00313888,  0.00494874,  0.00403268, ..., -0.00882577,\n",
       "        -0.01184736,  0.        ], dtype=float32),\n",
       " '1876-phrase.wav': array([ 0.00011144,  0.00018326,  0.00054889, ..., -0.01350453,\n",
       "        -0.01501636,  0.        ], dtype=float32),\n",
       " '1877-phrase.wav': array([-0.00257647, -0.00480988, -0.00435263, ..., -0.00938197,\n",
       "        -0.00923067,  0.        ], dtype=float32),\n",
       " '1878-phrase.wav': array([-0.00306574, -0.00513603, -0.00466227, ...,  0.01121439,\n",
       "         0.01130812,  0.01369614], dtype=float32),\n",
       " '1879-phrase.wav': array([-0.00086064, -0.00077649, -0.00117433, ..., -0.02054956,\n",
       "        -0.02488418,  0.        ], dtype=float32),\n",
       " '1880-phrase.wav': array([-0.00155847, -0.00293446, -0.00235889, ..., -0.00241765,\n",
       "        -0.00161556,  0.        ], dtype=float32),\n",
       " '1881-phrase.wav': array([-0.00789818, -0.0127115 , -0.01165053, ..., -0.00753388,\n",
       "        -0.00928171,  0.        ], dtype=float32),\n",
       " '1882-phrase.wav': array([-0.00723131, -0.01239253, -0.0106942 , ...,  0.09565157,\n",
       "         0.10271441,  0.        ], dtype=float32),\n",
       " '1883-phrase.wav': array([0.00212259, 0.00406859, 0.00352428, ..., 0.00519345, 0.0067196 ,\n",
       "        0.        ], dtype=float32),\n",
       " '1884-phrase.wav': array([ 0.00355727,  0.00603475,  0.00445436, ..., -0.00633949,\n",
       "        -0.00666532,  0.        ], dtype=float32),\n",
       " '1885-phrase.wav': array([-0.0045895 , -0.00760867, -0.00703659, ...,  0.00041669,\n",
       "        -0.00051059,  0.        ], dtype=float32),\n",
       " '1886-phrase.wav': array([-0.0072369 , -0.01150521, -0.0096895 , ..., -0.0044197 ,\n",
       "        -0.00522996,  0.        ], dtype=float32),\n",
       " '19-phrase.wav': array([-0.00143055, -0.00238466, -0.00298604, ...,  0.00015874,\n",
       "        -0.00162   ,  0.        ], dtype=float32),\n",
       " '1915-phrase.wav': array([ 0.00222119,  0.00358014,  0.0026633 , ..., -0.00504837,\n",
       "        -0.00644793,  0.        ], dtype=float32),\n",
       " '1916-phrase.wav': array([-0.00423773, -0.00737684, -0.00657168, ..., -0.0031983 ,\n",
       "        -0.00268827,  0.        ], dtype=float32),\n",
       " '1917-phrase.wav': array([0.00245055, 0.00437819, 0.00447133, ..., 0.01962316, 0.01827091,\n",
       "        0.        ], dtype=float32),\n",
       " '1918-phrase.wav': array([ 0.00447273,  0.00787282,  0.00739825, ..., -0.0278901 ,\n",
       "        -0.02935024,  0.        ], dtype=float32),\n",
       " '1919-phrase.wav': array([0.00032034, 0.00140239, 0.00105212, ..., 0.00108411, 0.0009058 ,\n",
       "        0.        ], dtype=float32),\n",
       " '1920-phrase.wav': array([-0.00165961, -0.00236914, -0.00174026, ...,  0.01250871,\n",
       "         0.01343213,  0.        ], dtype=float32),\n",
       " '1921-phrase.wav': array([0.00139748, 0.00320684, 0.0032401 , ..., 0.07428596, 0.08386252,\n",
       "        0.        ], dtype=float32),\n",
       " '1922-phrase.wav': array([-0.00217012, -0.00353966, -0.00275979, ...,  0.00977737,\n",
       "         0.01080697,  0.        ], dtype=float32),\n",
       " '1923-phrase.wav': array([-0.00072443, -0.00100208, -0.00085181, ...,  0.03094757,\n",
       "         0.03506312,  0.        ], dtype=float32),\n",
       " '1924-phrase.wav': array([-0.00118155, -0.00171709, -0.00131686, ...,  0.01255432,\n",
       "         0.01339149,  0.        ], dtype=float32),\n",
       " '1956-phrase.wav': array([0.00284741, 0.00512854, 0.00427533, ..., 0.00578482, 0.00504705,\n",
       "        0.        ], dtype=float32),\n",
       " '1969-phrase.wav': array([-0.00181126, -0.00248518, -0.00222071, ...,  0.00449637,\n",
       "         0.00425839,  0.        ], dtype=float32),\n",
       " '1974-phrase.wav': array([ 0.00254977,  0.00417403,  0.00357552, ..., -0.00030964,\n",
       "        -0.00155661,  0.        ], dtype=float32),\n",
       " '2-phrase.wav': array([0.00130352, 0.00255707, 0.00207782, ..., 0.00223405, 0.0009428 ,\n",
       "        0.        ], dtype=float32),\n",
       " '20-phrase.wav': array([-0.00861666, -0.01459167, -0.01285627, ...,  0.01880266,\n",
       "         0.01927729,  0.        ], dtype=float32),\n",
       " '2084-phrase.wav': array([-0.00585358, -0.00977527, -0.00802926, ...,  0.00043664,\n",
       "        -0.00035548,  0.        ], dtype=float32),\n",
       " '21-phrase.wav': array([0.00963664, 0.01803083, 0.01632177, ..., 0.00902968, 0.01298339,\n",
       "        0.        ], dtype=float32),\n",
       " '2108-phrase.wav': array([0.00207941, 0.00260159, 0.0020309 , ..., 0.00126048, 0.00179986,\n",
       "        0.        ], dtype=float32),\n",
       " '2142-phrase.wav': array([-2.9479370e-03, -4.8050145e-03, -4.2805523e-03, ...,\n",
       "        -1.0350439e-03, -8.8856068e-06,  0.0000000e+00], dtype=float32),\n",
       " '22-phrase.wav': array([-0.00099072, -0.00149924, -0.00130675, ...,  0.00652897,\n",
       "         0.00837923,  0.        ], dtype=float32),\n",
       " '2203-phrase.wav': array([-0.00100936, -0.00128863, -0.00059474, ..., -0.01830935,\n",
       "        -0.01921696,  0.        ], dtype=float32),\n",
       " '2204-phrase.wav': array([0.00297828, 0.0063555 , 0.00449529, ..., 0.0016695 , 0.00064097,\n",
       "        0.        ], dtype=float32),\n",
       " '2205-phrase.wav': array([-0.00061931, -0.00063651, -0.00073607, ...,  0.00244383,\n",
       "         0.00106594,  0.        ], dtype=float32),\n",
       " '2206-phrase.wav': array([-0.00189437, -0.00445723, -0.0031236 , ...,  0.01040694,\n",
       "         0.01247289,  0.        ], dtype=float32),\n",
       " '2207-phrase.wav': array([-0.00116087, -0.00169619, -0.00166362, ...,  0.00244663,\n",
       "         0.00244549,  0.        ], dtype=float32),\n",
       " '2208-phrase.wav': array([0.0010165 , 0.00088101, 0.00048744, ..., 0.00717471, 0.00832481,\n",
       "        0.        ], dtype=float32),\n",
       " '2209-phrase.wav': array([ 0.00688532,  0.01151607,  0.01001843, ..., -0.00039287,\n",
       "        -0.001015  ,  0.        ], dtype=float32),\n",
       " '2210-phrase.wav': array([2.7968214e-04, 3.2570466e-04, 8.0866710e-05, ..., 2.0191218e-03,\n",
       "        1.6643365e-03, 0.0000000e+00], dtype=float32),\n",
       " '2244-phrase.wav': array([-0.00058732, -0.00070141, -0.00031171, ..., -0.00027225,\n",
       "        -0.00019367,  0.        ], dtype=float32),\n",
       " '2248-phrase.wav': array([-0.00250803, -0.00423839, -0.00302507, ...,  0.02193207,\n",
       "         0.01931801,  0.        ], dtype=float32),\n",
       " '2249-phrase.wav': array([-0.00192675, -0.0029125 , -0.00273449, ...,  0.01045525,\n",
       "         0.01154489,  0.        ], dtype=float32),\n",
       " '2250-phrase.wav': array([-0.01480786, -0.02393273, -0.0203096 , ...,  0.01511711,\n",
       "         0.01838513,  0.        ], dtype=float32),\n",
       " '2251-phrase.wav': array([-0.00810855, -0.01291292, -0.01128079, ..., -0.00184992,\n",
       "        -0.00222292,  0.        ], dtype=float32),\n",
       " '2252-phrase.wav': array([-0.00515575, -0.00962754, -0.00869939, ...,  0.01811491,\n",
       "         0.01780224,  0.        ], dtype=float32),\n",
       " '2253-phrase.wav': array([0.00211703, 0.00324338, 0.00253063, ..., 0.00874461, 0.01004056,\n",
       "        0.        ], dtype=float32),\n",
       " '2254-phrase.wav': array([ 0.00209393,  0.00342034,  0.00245249, ..., -0.00025964,\n",
       "        -0.00131844,  0.        ], dtype=float32),\n",
       " '2255-phrase.wav': array([ 0.00033031,  0.00152002,  0.00067168, ..., -0.00642366,\n",
       "        -0.00590808,  0.        ], dtype=float32),\n",
       " '2256-phrase.wav': array([ 3.7419304e-04,  9.1061964e-05, -3.3603347e-04, ...,\n",
       "        -2.7840824e-03, -1.9469169e-03, -2.3685172e-03], dtype=float32),\n",
       " '2257-phrase.wav': array([0.00222703, 0.00366353, 0.00276499, ..., 0.00447148, 0.00242929,\n",
       "        0.        ], dtype=float32),\n",
       " '2258-phrase.wav': array([ 0.00171008,  0.00128925, -0.01633685, ...,  0.00221385,\n",
       "         0.00196419,  0.        ], dtype=float32),\n",
       " '2259-phrase.wav': array([ 0.00309325,  0.00489624,  0.00495668, ..., -0.00733981,\n",
       "        -0.00871857,  0.        ], dtype=float32),\n",
       " '2260-phrase.wav': array([ 0.0082124 ,  0.01387307,  0.01215963, ..., -0.01278227,\n",
       "        -0.01867877,  0.        ], dtype=float32),\n",
       " '2261-phrase.wav': array([-0.00364948, -0.00569263, -0.00596081, ..., -0.00392072,\n",
       "        -0.00439314,  0.        ], dtype=float32),\n",
       " '2262-phrase.wav': array([ 0.00021351,  0.00036976, -0.00027314, ..., -0.00326551,\n",
       "        -0.00383034,  0.        ], dtype=float32),\n",
       " '2263-phrase.wav': array([ 0.00136206,  0.00127633,  0.00069393, ..., -0.00452415,\n",
       "        -0.00258831,  0.        ], dtype=float32),\n",
       " '2264-phrase.wav': array([-0.00640308, -0.01141195, -0.00996543, ...,  0.00577969,\n",
       "         0.00689735,  0.        ], dtype=float32),\n",
       " '2278-phrase.wav': array([ 0.00128941,  0.00257016,  0.00232021, ..., -0.01496609,\n",
       "        -0.01790583,  0.        ], dtype=float32),\n",
       " '2279-phrase.wav': array([ 0.00187835,  0.00315227,  0.00153635, ..., -0.0197457 ,\n",
       "        -0.01503669,  0.        ], dtype=float32),\n",
       " '2280-phrase.wav': array([ 0.0001282 , -0.00102309, -0.0012437 , ...,  0.00097236,\n",
       "         0.00146162,  0.        ], dtype=float32),\n",
       " ...}"
      ]
     },
     "execution_count": 18,
     "metadata": {},
     "output_type": "execute_result"
    }
   ],
   "source": [
    "phrase_dict"
   ]
  },
  {
   "cell_type": "code",
   "execution_count": 20,
   "id": "52c38124",
   "metadata": {},
   "outputs": [
    {
     "data": {
      "text/html": [
       "<div>\n",
       "<style scoped>\n",
       "    .dataframe tbody tr th:only-of-type {\n",
       "        vertical-align: middle;\n",
       "    }\n",
       "\n",
       "    .dataframe tbody tr th {\n",
       "        vertical-align: top;\n",
       "    }\n",
       "\n",
       "    .dataframe thead th {\n",
       "        text-align: right;\n",
       "    }\n",
       "</style>\n",
       "<table border=\"1\" class=\"dataframe\">\n",
       "  <thead>\n",
       "    <tr style=\"text-align: right;\">\n",
       "      <th></th>\n",
       "      <th>RECORDING</th>\n",
       "      <th>PATHOLOGY</th>\n",
       "      <th>DATE</th>\n",
       "      <th>SPEAKER</th>\n",
       "      <th>GENDER</th>\n",
       "      <th>AGE</th>\n",
       "      <th>DETAIL</th>\n",
       "      <th>DIAG</th>\n",
       "    </tr>\n",
       "  </thead>\n",
       "  <tbody>\n",
       "    <tr>\n",
       "      <th>0</th>\n",
       "      <td>715</td>\n",
       "      <td>p</td>\n",
       "      <td>20.05.1998</td>\n",
       "      <td>1407</td>\n",
       "      <td>w</td>\n",
       "      <td>63</td>\n",
       "      <td>Laryngitis; Leukoplakie</td>\n",
       "      <td>structural</td>\n",
       "    </tr>\n",
       "    <tr>\n",
       "      <th>1</th>\n",
       "      <td>1303</td>\n",
       "      <td>p</td>\n",
       "      <td>21.04.1999</td>\n",
       "      <td>1407</td>\n",
       "      <td>w</td>\n",
       "      <td>64</td>\n",
       "      <td>Leukoplakie</td>\n",
       "      <td>structural</td>\n",
       "    </tr>\n",
       "    <tr>\n",
       "      <th>2</th>\n",
       "      <td>1557</td>\n",
       "      <td>p</td>\n",
       "      <td>08.12.1999</td>\n",
       "      <td>1407</td>\n",
       "      <td>w</td>\n",
       "      <td>65</td>\n",
       "      <td>Leukoplakie</td>\n",
       "      <td>structural</td>\n",
       "    </tr>\n",
       "    <tr>\n",
       "      <th>3</th>\n",
       "      <td>1559</td>\n",
       "      <td>p</td>\n",
       "      <td>15.12.1999</td>\n",
       "      <td>1407</td>\n",
       "      <td>w</td>\n",
       "      <td>65</td>\n",
       "      <td>Leukoplakie</td>\n",
       "      <td>structural</td>\n",
       "    </tr>\n",
       "    <tr>\n",
       "      <th>4</th>\n",
       "      <td>1864</td>\n",
       "      <td>p</td>\n",
       "      <td>29.11.2000</td>\n",
       "      <td>1407</td>\n",
       "      <td>w</td>\n",
       "      <td>66</td>\n",
       "      <td>Leukoplakie</td>\n",
       "      <td>structural</td>\n",
       "    </tr>\n",
       "    <tr>\n",
       "      <th>...</th>\n",
       "      <td>...</td>\n",
       "      <td>...</td>\n",
       "      <td>...</td>\n",
       "      <td>...</td>\n",
       "      <td>...</td>\n",
       "      <td>...</td>\n",
       "      <td>...</td>\n",
       "      <td>...</td>\n",
       "    </tr>\n",
       "    <tr>\n",
       "      <th>1225</th>\n",
       "      <td>80</td>\n",
       "      <td>n</td>\n",
       "      <td>13/01/1998</td>\n",
       "      <td>83</td>\n",
       "      <td>w</td>\n",
       "      <td>49</td>\n",
       "      <td>control</td>\n",
       "      <td>control</td>\n",
       "    </tr>\n",
       "    <tr>\n",
       "      <th>1226</th>\n",
       "      <td>81</td>\n",
       "      <td>n</td>\n",
       "      <td>13/01/1998</td>\n",
       "      <td>84</td>\n",
       "      <td>m</td>\n",
       "      <td>42</td>\n",
       "      <td>control</td>\n",
       "      <td>control</td>\n",
       "    </tr>\n",
       "    <tr>\n",
       "      <th>1227</th>\n",
       "      <td>82</td>\n",
       "      <td>n</td>\n",
       "      <td>13/01/1998</td>\n",
       "      <td>87</td>\n",
       "      <td>w</td>\n",
       "      <td>49</td>\n",
       "      <td>control</td>\n",
       "      <td>control</td>\n",
       "    </tr>\n",
       "    <tr>\n",
       "      <th>1228</th>\n",
       "      <td>83</td>\n",
       "      <td>n</td>\n",
       "      <td>13/01/1998</td>\n",
       "      <td>88</td>\n",
       "      <td>w</td>\n",
       "      <td>46</td>\n",
       "      <td>control</td>\n",
       "      <td>control</td>\n",
       "    </tr>\n",
       "    <tr>\n",
       "      <th>1229</th>\n",
       "      <td>153</td>\n",
       "      <td>n</td>\n",
       "      <td>11.02.1998</td>\n",
       "      <td>1332</td>\n",
       "      <td>w</td>\n",
       "      <td>60</td>\n",
       "      <td>control</td>\n",
       "      <td>control</td>\n",
       "    </tr>\n",
       "  </tbody>\n",
       "</table>\n",
       "<p>1230 rows × 8 columns</p>\n",
       "</div>"
      ],
      "text/plain": [
       "      RECORDING PATHOLOGY        DATE  SPEAKER GENDER  AGE  \\\n",
       "0           715         p  20.05.1998     1407      w   63   \n",
       "1          1303         p  21.04.1999     1407      w   64   \n",
       "2          1557         p  08.12.1999     1407      w   65   \n",
       "3          1559         p  15.12.1999     1407      w   65   \n",
       "4          1864         p  29.11.2000     1407      w   66   \n",
       "...         ...       ...         ...      ...    ...  ...   \n",
       "1225         80         n  13/01/1998       83      w   49   \n",
       "1226         81         n  13/01/1998       84      m   42   \n",
       "1227         82         n  13/01/1998       87      w   49   \n",
       "1228         83         n  13/01/1998       88      w   46   \n",
       "1229        153         n  11.02.1998     1332      w   60   \n",
       "\n",
       "                       DETAIL        DIAG  \n",
       "0     Laryngitis; Leukoplakie  structural  \n",
       "1                 Leukoplakie  structural  \n",
       "2                 Leukoplakie  structural  \n",
       "3                 Leukoplakie  structural  \n",
       "4                 Leukoplakie  structural  \n",
       "...                       ...         ...  \n",
       "1225                  control     control  \n",
       "1226                  control     control  \n",
       "1227                  control     control  \n",
       "1228                  control     control  \n",
       "1229                  control     control  \n",
       "\n",
       "[1230 rows x 8 columns]"
      ]
     },
     "execution_count": 20,
     "metadata": {},
     "output_type": "execute_result"
    }
   ],
   "source": [
    "speaker_data"
   ]
  },
  {
   "cell_type": "code",
   "execution_count": 21,
   "id": "03e93b2e",
   "metadata": {},
   "outputs": [
    {
     "data": {
      "text/plain": [
       "0       False\n",
       "1       False\n",
       "2       False\n",
       "3       False\n",
       "4       False\n",
       "        ...  \n",
       "1225    False\n",
       "1226    False\n",
       "1227    False\n",
       "1228     True\n",
       "1229    False\n",
       "Name: RECORDING, Length: 1230, dtype: bool"
      ]
     },
     "execution_count": 21,
     "metadata": {},
     "output_type": "execute_result"
    }
   ],
   "source": [
    "speaker_data['RECORDING']==83"
   ]
  },
  {
   "cell_type": "code",
   "execution_count": 19,
   "id": "ad780dc2",
   "metadata": {},
   "outputs": [],
   "source": [
    "from torch.utils.data import Dataset, DataLoader\n",
    "\n",
    "classes = [\"healthy\",\"pathology\"]\n",
    "\n",
    "\n",
    "class svd_dataset_wav(Dataset):\n",
    "    def __init__(self,\n",
    "                data_path_list,\n",
    "                y_label_list,\n",
    "                classes,\n",
    "                mel_params,\n",
    "                dataset='phrase',\n",
    "                transform=None,\n",
    "                is_train=False,):\n",
    "\n",
    "        #클래스에서 사용할 인자를 받아 인스턴스 변수로 저장하는 일을 한다.\n",
    "        #예를들면, 이미지의 경로 리스트를 저장하는 일을 하게 된다.\n",
    "        \n",
    "        #data_num : k 개 데이터 셋 중 어떤것을 쓸지\n",
    "        #test인지 아닌지.\n",
    "        \n",
    "        self.path_list = data_path_list\n",
    "        self.label = y_label_list # label data\n",
    "        self.classes=classes\n",
    "        self.transform=transform\n",
    "\n",
    "        self.is_train = is_train\n",
    "\n",
    "        # sweep params\n",
    "        self.mel_params = mel_params\n",
    "\n",
    "\n",
    "        self.dataset=dataset\n",
    "        \n",
    "\n",
    "    def __len__(self):\n",
    "        return len(self.path_list)\n",
    "        #데이터 셋의 길이를 정수로 반환한다.     \n",
    "    \n",
    "    def __getitem__(self, idx):\n",
    "        \"\"\"\n",
    "        WAV 파일을 읽어서, MODEL에 전달.\n",
    "        \"\"\"\n",
    "        # print(str(self.path_list[idx])+'-'+self.dataset+'.wav' )\n",
    "        anchor_sig = phrase_dict[ str(self.path_list[idx])+'-'+self.dataset+'.wav' ] \n",
    "        anchor_label = self.label[idx]\n",
    "        if self.is_train:\n",
    "            anchor_speaker = speaker_data.where(speaker_data['RECORDING']==self.path_list[idx]).dropna()['SPEAKER'].item()\n",
    "            check_positive = True\n",
    "            check_negative = True\n",
    "\n",
    "            positive_index_list = [ind for ind,a in enumerate(self.label) if a == anchor_label]\n",
    "            negative_index_list = [ind for ind,a in enumerate(self.label) if a != anchor_label]\n",
    "\n",
    "            \n",
    "            while check_positive:\n",
    "                positive_index = random.choice(positive_index_list)\n",
    "                positive_sample = speaker_data[ speaker_data['RECORDING']==self.path_list[positive_index]]\n",
    "\n",
    "                # 확률을 줘서, 나이,성별이 차이가 나는 것을 뽑기?\n",
    "\n",
    "                if ((positive_sample['RECORDING'] != self.path_list[idx]) & (positive_sample['SPEAKER'] != anchor_speaker)).item():\n",
    "                    check_positive=False\n",
    "            positive_sig = phrase_dict[ str(self.path_list[positive_index])+'-'+self.dataset+'.wav' ]\n",
    "\n",
    "            \n",
    "            #시나리오를 내거티브에서 남자. 남자. 노인 노인 매칭되게 하는건 어떨까?\n",
    "            while check_negative:\n",
    "                negative_index = random.choice(negative_index_list)\n",
    "                negative_sample = speaker_data[speaker_data['RECORDING']==self.path_list[negative_index]]\n",
    "\n",
    "                # 확률을 줘서, 나이,성별이 비슷한 것 뽑기. 또는 미니 배치내에서 가장 점수 높은 것을 선정.\n",
    "\n",
    "                if ((negative_sample['RECORDING'] != self.path_list[idx]) & (negative_sample['SPEAKER'] != anchor_speaker)).item():\n",
    "                    check_negative=False\n",
    "            negative_sig = phrase_dict[ str(self.path_list[negative_index])+'-'+self.dataset+'.wav' ]\n",
    "\n",
    "            origin_length = anchor_sig.shape[0]\n",
    "            \n",
    "            if anchor_sig.shape[0] > self.mel_params[\"sr\"]*3:\n",
    "                origin_length = self.mel_params[\"sr\"]*3\n",
    "            \n",
    "            origin_frame_size = 1 + int(np.floor(origin_length//self.mel_params[\"hop_length\"]))\n",
    "            \n",
    "            length = self.mel_params[\"sr\"]*3 #sample rate *2 padding을 위한 파라미터 (하이퍼 파라미터로인해 사이즈는 계속 바뀐다.)\n",
    "            pad1d = lambda a, i: a[0:i] if a.shape[0] > i else np.hstack((a, np.zeros((i-a.shape[0]))))\n",
    "\n",
    "            anchor_sig = pad1d(anchor_sig,length)\n",
    "            positive_sig = pad1d(positive_sig,length)\n",
    "            negative_sig = pad1d(negative_sig,length)\n",
    "\n",
    "            ###signal norm\n",
    "            anchor_sig = (anchor_sig-anchor_sig.mean())/anchor_sig.std()\n",
    "            positive_sig = (positive_sig-positive_sig.mean())/positive_sig.std()\n",
    "            negative_sig = (negative_sig-negative_sig.mean())/negative_sig.std()\n",
    "            ###\n",
    "\n",
    "\n",
    "            anchor_sig=torch.from_numpy(anchor_sig).type(torch.float32)# 타입 변화\n",
    "            positive_sig=torch.from_numpy(positive_sig).type(torch.float32)# 타입 변화\n",
    "            negative_sig=torch.from_numpy(negative_sig).type(torch.float32)# 타입 변화\n",
    "\n",
    "            anchor_sig=anchor_sig.unsqueeze(0)\n",
    "            positive_sig=positive_sig.unsqueeze(0)\n",
    "            negative_sig=negative_sig.unsqueeze(0)\n",
    "            \n",
    "            return anchor_sig, positive_sig, negative_sig, self.classes.index(self.label[idx]), str(self.path_list[idx])\n",
    "        else:\n",
    "            length = self.mel_params[\"sr\"]*3 #sample rate *2 padding을 위한 파라미터 (하이퍼 파라미터로인해 사이즈는 계속 바뀐다.)\n",
    "            pad1d = lambda a, i: a[0:i] if a.shape[0] > i else np.hstack((a, np.zeros((i-a.shape[0]))))\n",
    "\n",
    "            anchor_sig = pad1d(anchor_sig,length)\n",
    "            anchor_sig=torch.from_numpy(anchor_sig).type(torch.float32)# 타입 변화\n",
    "            anchor_sig=anchor_sig.unsqueeze(0)\n",
    "            return anchor_sig, self.classes.index(self.label[idx]), str(self.path_list[idx])\n"
   ]
  },
  {
   "cell_type": "code",
   "execution_count": 21,
   "id": "7d42e494",
   "metadata": {},
   "outputs": [],
   "source": [
    "# hard sampling\n",
    "\n",
    "\n",
    "\n",
    "from torch.utils.data import Dataset, DataLoader\n",
    "\n",
    "classes = [\"healthy\",\"pathology\"]\n",
    "\n",
    "\n",
    "class svd_dataset_wav_hard(Dataset):\n",
    "    def __init__(self,\n",
    "                data_path_list,\n",
    "                y_label_list,\n",
    "                classes,\n",
    "                mel_params,\n",
    "                dataset='phrase',\n",
    "                transform=None,\n",
    "                is_train=False,):\n",
    "\n",
    "        #클래스에서 사용할 인자를 받아 인스턴스 변수로 저장하는 일을 한다.\n",
    "        #예를들면, 이미지의 경로 리스트를 저장하는 일을 하게 된다.\n",
    "        \n",
    "        #data_num : k 개 데이터 셋 중 어떤것을 쓸지\n",
    "        #test인지 아닌지.\n",
    "        \n",
    "        self.path_list = data_path_list\n",
    "        self.label = y_label_list # label data\n",
    "        self.classes=classes\n",
    "        self.transform=transform\n",
    "\n",
    "        self.is_train = is_train\n",
    "\n",
    "        # sweep params\n",
    "        self.mel_params = mel_params\n",
    "\n",
    "\n",
    "        self.dataset=dataset\n",
    "\n",
    "            \n",
    "    def __len__(self):\n",
    "        return len(self.path_list)\n",
    "        #데이터 셋의 길이를 정수로 반환한다.     \n",
    "    \n",
    "    def get_score(anchor,candidate,alpha,beta):\n",
    "        age_diff = np.abs(anchor['AGE'] - candidate['AGE']).item()\n",
    "        gender_diff = int(anchor['GENDER']==candidate['GENDER'])\n",
    "        normal_criterion = int((anchor['RECORDING'] != candidate['RECORDING']) | (anchor['SPEAKER'] != candidate['SPEAKER']))\n",
    "        score = alpha*age_diff + beta*gender_diff - 100*normal_criterion\n",
    "        return score\n",
    "\n",
    "    def __getitem__(self, idx):\n",
    "        \"\"\"\n",
    "        WAV 파일을 읽어서, MODEL에 전달.\n",
    "        \"\"\"\n",
    "        # print(str(self.path_list[idx])+'-'+self.dataset+'.wav' )\n",
    "        anchor_sig = phrase_dict[ str(self.path_list[idx])+'-'+self.dataset+'.wav' ] \n",
    "        anchor_label = self.label[idx]\n",
    "        if self.is_train:\n",
    "            anchor_speaker = speaker_data.where(speaker_data['RECORDING']==self.path_list[idx]).dropna()['SPEAKER'].item()\n",
    "            anchor_df = speaker_data[speaker_data['RECORDING']==self.path_list[idx]]\n",
    "            \n",
    "            check_positive = True\n",
    "            check_negative = True\n",
    "\n",
    "            positive_index_list = [ind for ind,a in enumerate(self.label) if a == anchor_label]\n",
    "            negative_index_list = [ind for ind,a in enumerate(self.label) if a != anchor_label]\n",
    "\n",
    "\n",
    "            positive_candidate = np.random.choice(positive_index_list, 50, replace=False).tolist()\n",
    "            negative_candidate = np.random.choice(negative_index_list, 50, replace=False).tolist()\n",
    "            \n",
    "\n",
    "\n",
    "            positive_candidate_score = [ svd_dataset_wav_hard.get_score(anchor_df, speaker_data[ speaker_data['RECORDING'] == self.path_list[pos]],0.5,-10 ) for pos in positive_candidate]\n",
    "            negative_candidate_score = [ svd_dataset_wav_hard.get_score(anchor_df, speaker_data[ speaker_data['RECORDING'] == self.path_list[neg]],-0.5,+10 ) for neg in negative_candidate]\n",
    "            \n",
    "            positive_index = np.argsort(positive_candidate_score)[::-1][0]\n",
    "            negative_index = np.argsort(negative_candidate_score)[::-1][0]\n",
    "\n",
    "            positive_sig = phrase_dict[ str(self.path_list[positive_index])+'-'+self.dataset+'.wav' ]\n",
    "            negative_sig = phrase_dict[ str(self.path_list[negative_index])+'-'+self.dataset+'.wav' ]\n",
    "\n",
    "            origin_length = anchor_sig.shape[0]\n",
    "            \n",
    "            if anchor_sig.shape[0] > self.mel_params[\"sr\"]*3:\n",
    "                origin_length = self.mel_params[\"sr\"]*3\n",
    "            \n",
    "            origin_frame_size = 1 + int(np.floor(origin_length//self.mel_params[\"hop_length\"]))\n",
    "            \n",
    "            length = self.mel_params[\"sr\"]*3 #sample rate *2 padding을 위한 파라미터 (하이퍼 파라미터로인해 사이즈는 계속 바뀐다.)\n",
    "            pad1d = lambda a, i: a[0:i] if a.shape[0] > i else np.hstack((a, np.zeros((i-a.shape[0]))))\n",
    "\n",
    "            anchor_sig = pad1d(anchor_sig,length)\n",
    "            positive_sig = pad1d(positive_sig,length)\n",
    "            negative_sig = pad1d(negative_sig,length)\n",
    "\n",
    "            ###signal norm\n",
    "            anchor_sig = (anchor_sig-anchor_sig.mean())/anchor_sig.std()\n",
    "            positive_sig = (positive_sig-positive_sig.mean())/positive_sig.std()\n",
    "            negative_sig = (negative_sig-negative_sig.mean())/negative_sig.std()\n",
    "            ###\n",
    "\n",
    "\n",
    "            anchor_sig=torch.from_numpy(anchor_sig).type(torch.float32)# 타입 변화\n",
    "            positive_sig=torch.from_numpy(positive_sig).type(torch.float32)# 타입 변화\n",
    "            negative_sig=torch.from_numpy(negative_sig).type(torch.float32)# 타입 변화\n",
    "\n",
    "            anchor_sig=anchor_sig.unsqueeze(0)\n",
    "            positive_sig=positive_sig.unsqueeze(0)\n",
    "            negative_sig=negative_sig.unsqueeze(0)\n",
    "            \n",
    "            return anchor_sig, positive_sig, negative_sig, self.classes.index(self.label[idx]), str(self.path_list[idx])\n",
    "        else:\n",
    "            length = self.mel_params[\"sr\"]*3 #sample rate *2 padding을 위한 파라미터 (하이퍼 파라미터로인해 사이즈는 계속 바뀐다.)\n",
    "            pad1d = lambda a, i: a[0:i] if a.shape[0] > i else np.hstack((a, np.zeros((i-a.shape[0]))))\n",
    "\n",
    "            anchor_sig = pad1d(anchor_sig,length)\n",
    "            anchor_sig=torch.from_numpy(anchor_sig).type(torch.float32)# 타입 변화\n",
    "            anchor_sig=anchor_sig.unsqueeze(0)\n",
    "            return anchor_sig, self.classes.index(self.label[idx]), str(self.path_list[idx])\n"
   ]
  },
  {
   "cell_type": "code",
   "execution_count": 24,
   "id": "559aef88",
   "metadata": {},
   "outputs": [
    {
     "data": {
      "text/plain": [
       "RECORDING                        715\n",
       "PATHOLOGY                          p\n",
       "DATE                      20.05.1998\n",
       "SPEAKER                         1407\n",
       "GENDER                             w\n",
       "AGE                               63\n",
       "DETAIL       Laryngitis; Leukoplakie\n",
       "DIAG                      structural\n",
       "Name: 0, dtype: object"
      ]
     },
     "execution_count": 24,
     "metadata": {},
     "output_type": "execute_result"
    }
   ],
   "source": [
    "speaker_data.iloc[0]"
   ]
  },
  {
   "cell_type": "code",
   "execution_count": 82,
   "id": "aab046d1",
   "metadata": {},
   "outputs": [
    {
     "name": "stdout",
     "output_type": "stream",
     "text": [
      "[-90.5, 9.0, -15.5, -1.0]\n"
     ]
    },
    {
     "data": {
      "text/plain": [
       "array([1, 3, 2, 0], dtype=int64)"
      ]
     },
     "execution_count": 82,
     "metadata": {},
     "output_type": "execute_result"
    }
   ],
   "source": [
    "speaker_data=pd.read_excel(\"../../voice_data/only_organics_healthy_available_ver2.xlsx\")\n",
    "\n",
    "pos_list = [1,5,7,9,11,13,15,17,19,21,23]\n",
    "\n",
    "np.random.choice(pos_list, 5,replace=False)\n",
    "\n",
    "\n",
    "def get_score(anchor,candidate,alpha,beta):\n",
    "    age_diff = np.abs(anchor['AGE'] - candidate['AGE']).item()\n",
    "    gender_diff = int(anchor['GENDER']==candidate['GENDER'])\n",
    "    normal_criterion = int((anchor['RECORDING'] == candidate['RECORDING']) | (anchor['SPEAKER'] == candidate['SPEAKER']))\n",
    "    score = alpha*age_diff + beta*gender_diff - 100*normal_criterion\n",
    "    return score\n",
    "\n",
    "\n",
    "pos_candidate = []\n",
    "\n",
    "pos_candidate.append(get_score(speaker_data.iloc[0],speaker_data.iloc[1],alpha=-0.5,beta=10))\n",
    "pos_candidate.append(get_score(speaker_data.iloc[0],speaker_data.iloc[10],alpha=-0.5,beta=10))\n",
    "pos_candidate.append(get_score(speaker_data.iloc[0],speaker_data.iloc[20],alpha=-0.5,beta=10))\n",
    "pos_candidate.append(get_score(speaker_data.iloc[0],speaker_data.iloc[30],alpha=-0.5,beta=10))\n",
    "print(pos_candidate)\n",
    "np.argsort(pos_candidate)[::-1]"
   ]
  },
  {
   "cell_type": "code",
   "execution_count": 22,
   "id": "272bc789",
   "metadata": {},
   "outputs": [],
   "source": [
    "#3. 하이퍼 파라미터\n",
    "BATCH_SIZE =  16 #한 배치당 32개 음성데이터\n",
    "EPOCHS = 50 # 전체 데이터 셋을 50번 반복\n",
    "lr=1e-4\n",
    "augment_kind=\"no\"\n",
    "weight_decay = 0"
   ]
  },
  {
   "cell_type": "code",
   "execution_count": 23,
   "id": "10fec835",
   "metadata": {},
   "outputs": [
    {
     "ename": "NameError",
     "evalue": "name 'wandb' is not defined",
     "output_type": "error",
     "traceback": [
      "\u001b[1;31m---------------------------------------------------------------------------\u001b[0m",
      "\u001b[1;31mNameError\u001b[0m                                 Traceback (most recent call last)",
      "\u001b[1;32m~\\AppData\\Local\\Temp/ipykernel_20184/3696682703.py\u001b[0m in \u001b[0;36m<module>\u001b[1;34m\u001b[0m\n\u001b[1;32m----> 1\u001b[1;33m wandb.config.update({\n\u001b[0m\u001b[0;32m      2\u001b[0m     \u001b[1;34m\"learning_rate\"\u001b[0m\u001b[1;33m:\u001b[0m \u001b[0mlr\u001b[0m\u001b[1;33m,\u001b[0m\u001b[1;33m\u001b[0m\u001b[1;33m\u001b[0m\u001b[0m\n\u001b[0;32m      3\u001b[0m     \u001b[1;34m\"epochs\"\u001b[0m\u001b[1;33m:\u001b[0m \u001b[0mEPOCHS\u001b[0m\u001b[1;33m,\u001b[0m\u001b[1;33m\u001b[0m\u001b[1;33m\u001b[0m\u001b[0m\n\u001b[0;32m      4\u001b[0m     \u001b[1;34m\"batch_size\"\u001b[0m\u001b[1;33m:\u001b[0m \u001b[0mBATCH_SIZE\u001b[0m\u001b[1;33m,\u001b[0m\u001b[1;33m\u001b[0m\u001b[1;33m\u001b[0m\u001b[0m\n\u001b[0;32m      5\u001b[0m     \u001b[1;34m\"augment\"\u001b[0m\u001b[1;33m:\u001b[0m\u001b[0maugment_kind\u001b[0m\u001b[1;33m,\u001b[0m\u001b[1;33m\u001b[0m\u001b[1;33m\u001b[0m\u001b[0m\n",
      "\u001b[1;31mNameError\u001b[0m: name 'wandb' is not defined"
     ]
    }
   ],
   "source": [
    "wandb.config.update({\n",
    "    \"learning_rate\": lr,\n",
    "    \"epochs\": EPOCHS,\n",
    "    \"batch_size\": BATCH_SIZE,\n",
    "    \"augment\":augment_kind,\n",
    "    \"weight_decay\":weight_decay,\n",
    "    \"특이사항\":\"fmax 8000. speaker indep.\",\n",
    "})"
   ]
  },
  {
   "cell_type": "code",
   "execution_count": 23,
   "id": "bba97b37",
   "metadata": {},
   "outputs": [],
   "source": [
    "#DATA LOADER 함수가 BATCH_size 단위로 분리해 지정.\n",
    "\n",
    "#확인을 위해 데이터셋 하나만 확인\n",
    "dataset = 'phrase'\n",
    "\n",
    "train_loader = DataLoader(dataset = svd_dataset_wav(\n",
    "                                            X_train_list[0],\n",
    "                                            Y_train_list[0],\n",
    "                                            classes,\n",
    "                                            mel_params = mel_run_config,\n",
    "                                            transform = transforms.ToTensor(),#이걸 composed로 고쳐서 전처리 하도록 수정.\n",
    "                                            is_train = True,\n",
    "                                            dataset= dataset\n",
    "                                        ),\n",
    "                                        batch_size = BATCH_SIZE,\n",
    "                                        shuffle = True,\n",
    "                                        #worker_init_fn=seed_worker\n",
    "                                        ) # 순서가 암기되는것을 막기위해.\n",
    "\n",
    "validation_loader = DataLoader(dataset = \n",
    "                                        svd_dataset_wav(\n",
    "                                            X_valid_list[0],\n",
    "                                            Y_valid_list[0],\n",
    "                                            classes,\n",
    "                                            mel_params = mel_run_config,\n",
    "                                            transform = transforms.ToTensor(),#이걸 composed로 고쳐서 전처리 하도록 수정.\n",
    "                                            dataset= dataset\n",
    "                                        ),\n",
    "                                        batch_size = BATCH_SIZE,\n",
    "                                        shuffle = True,\n",
    "                                        #worker_init_fn=seed_worker\n",
    "                                        )\n"
   ]
  },
  {
   "cell_type": "code",
   "execution_count": 24,
   "id": "e9761d67",
   "metadata": {},
   "outputs": [],
   "source": [
    "# 테스트 데이터 로더.\n",
    "test_loader = DataLoader(dataset = \n",
    "                                        svd_dataset_wav(\n",
    "                                            X_test,\n",
    "                                            Y_test,\n",
    "                                            classes,\n",
    "                                            mel_params = mel_run_config,\n",
    "                                            transform = transforms.ToTensor(),#이걸 composed로 고쳐서 전처리 하도록 수정.\n",
    "                                            dataset= dataset\n",
    "                                        ),\n",
    "                                        batch_size = BATCH_SIZE,\n",
    "                                        shuffle = True,\n",
    "                                        #worker_init_fn=seed_worker\n",
    "                                        )\n"
   ]
  },
  {
   "cell_type": "markdown",
   "id": "52b15a86",
   "metadata": {},
   "source": [
    "# 데이터 확인"
   ]
  },
  {
   "cell_type": "code",
   "execution_count": 25,
   "id": "22bdb134",
   "metadata": {},
   "outputs": [],
   "source": [
    "\n",
    "sr=16000\n",
    "win_length =  mel_run_config[\"win_length\"] # 400\n",
    "n_fft= mel_run_config[\"n_fft\"] # WINDOWS SIZE중 사용할 길이. WINDOW SIZE가 넘어가면 나머지 것들은 zero padding. 세로 길이\n",
    "hop_length=mel_run_config[\"hop_length\"] #  얼마만큼 시간 주기(sample)를 이동하면서 분석을 할 것인지. 일반적으로 window size의 1/4\n",
    "#또는 10ms만큼으로 한다고 한다.\n",
    "#hop_length가 mfcc의 frame수를 결정한다.\n",
    "\n",
    "spectro_win_length =  spectro_run_config[\"win_length\"] # 400\n",
    "spectro_n_fft= spectro_run_config[\"n_fft\"] # WINDOWS SIZE중 사용할 길이. WINDOW SIZE가 넘어가면 나머지 것들은 zero padding. 세로 길이\n",
    "spectro_hop_length= spectro_run_config[\"hop_length\"] #  얼마만큼 시간 주기(sample)를 이동하면서 분석을 할 것인지. 일반적으로 window size의 1/4\n",
    "\n"
   ]
  },
  {
   "cell_type": "code",
   "execution_count": 30,
   "id": "5e879c26",
   "metadata": {
    "scrolled": false
   },
   "outputs": [
    {
     "name": "stdout",
     "output_type": "stream",
     "text": [
      "X_train :  torch.Size([16, 1, 48000]) type: torch.FloatTensor\n",
      "Y_train :  torch.Size([16]) type: torch.LongTensor\n",
      "tensor(1)\n",
      "tensor([[ 0.0453,  0.0687,  0.0587,  ..., -0.0013, -0.0013, -0.0013]])\n"
     ]
    }
   ],
   "source": [
    "## 4. 데이터 확인하기\n",
    "for (X_train,X_train_pos,X_train_neg,Y_train,_) in train_loader:\n",
    "    print(\"X_train : \",X_train.size(),'type:',X_train.type())\n",
    "    print(\"Y_train : \",Y_train.size(),'type:',Y_train.type())\n",
    "    break\n",
    "\n",
    "print(Y_train[0])\n",
    "print(X_train[0])\n",
    "#batch: 32 / 3채널 / frame수: 500  /  feature수: 13"
   ]
  },
  {
   "cell_type": "code",
   "execution_count": 31,
   "id": "bcc89776",
   "metadata": {},
   "outputs": [
    {
     "data": {
      "text/plain": [
       "tensor([1, 0, 1, 1, 1, 0, 1, 1, 0, 1, 0, 0, 1, 1, 1, 0])"
      ]
     },
     "execution_count": 31,
     "metadata": {},
     "output_type": "execute_result"
    }
   ],
   "source": [
    "Y_train"
   ]
  },
  {
   "cell_type": "code",
   "execution_count": 32,
   "id": "3b29c510",
   "metadata": {},
   "outputs": [
    {
     "name": "stdout",
     "output_type": "stream",
     "text": [
      "X_valid :  torch.Size([16, 1, 48000]) type: torch.FloatTensor\n",
      "Y_valid :  torch.Size([16]) type: torch.LongTensor\n",
      "tensor([[0.0019, 0.0031, 0.0019,  ..., 0.0000, 0.0000, 0.0000]])\n",
      "tensor(1)\n"
     ]
    }
   ],
   "source": [
    "#valiation set 확인\n",
    "for (X_valid,Y_valid,_) in validation_loader:\n",
    "    print(\"X_valid : \",X_valid.size(),'type:',X_valid.type())\n",
    "    print(\"Y_valid : \",Y_valid.size(),'type:',Y_valid.type())\n",
    "    break\n",
    "print(X_valid[0])\n",
    "print(Y_valid[0])\n",
    "\n",
    "#batch: 32 / 3채널 / frame수: 500  /  feature수: 13"
   ]
  },
  {
   "cell_type": "code",
   "execution_count": 33,
   "id": "14a38987",
   "metadata": {},
   "outputs": [
    {
     "name": "stdout",
     "output_type": "stream",
     "text": [
      "X_test :  torch.Size([16, 1, 48000]) type: torch.FloatTensor\n",
      "Y_test :  torch.Size([16]) type: torch.LongTensor\n",
      "tensor([[-0.0039, -0.0061, -0.0056,  ...,  0.0000,  0.0000,  0.0000]])\n",
      "tensor(1)\n"
     ]
    }
   ],
   "source": [
    "#test set 확인\n",
    "for (test_data,test_label,_) in test_loader:\n",
    "    print(\"X_test : \",test_data.size(),'type:',test_data.type())\n",
    "    print(\"Y_test : \",test_label.size(),'type:',test_label.type())\n",
    "    break\n",
    "\n",
    "print(test_data[0])\n",
    "print(test_label[0])\n",
    "\n",
    "#batch: 32 / 3채널 / frame수: 500  /  feature수: 13"
   ]
  },
  {
   "attachments": {},
   "cell_type": "markdown",
   "id": "fec40ea4",
   "metadata": {},
   "source": [
    "# Resnet18 + triplet loss"
   ]
  },
  {
   "cell_type": "code",
   "execution_count": 26,
   "id": "965fed61",
   "metadata": {},
   "outputs": [],
   "source": [
    "class ResLayer(nn.Module):\n",
    "    def __init__(self,emb_dim=128):\n",
    "        super(ResLayer, self).__init__()\n",
    "        self.model = models.resnet18(pretrained=True).cuda() \n",
    "        self.num_ftrs = self.model.fc.out_features\n",
    "        self.emb_dim = emb_dim\n",
    "        self.mel_scale = T.MelSpectrogram(\n",
    "            sample_rate=16000,\n",
    "            n_fft=400,\n",
    "            win_length=400,\n",
    "            hop_length=160,\n",
    "            n_mels=128,\n",
    "            f_min=0,\n",
    "            f_max=8000,\n",
    "            center=True,\n",
    "            pad_mode=\"constant\",\n",
    "            power=2.0,\n",
    "            norm=\"slaney\",\n",
    "            mel_scale=\"slaney\",\n",
    "            window_fn=torch.hann_window\n",
    "        )\n",
    "        \n",
    "        \n",
    "        # self.fc = nn.Sequential(       \n",
    "        #     nn.Linear(self.num_ftrs, 64),\n",
    "        #                      nn.BatchNorm1d(64),\n",
    "        #                      nn.ReLU(),\n",
    "        #                      #nn.Dropout(p=0.5),\n",
    "        #                      nn.Linear(64,50),\n",
    "        #                      nn.BatchNorm1d(50),\n",
    "        #                      nn.ReLU(),\n",
    "        #                      #nn.Dropout(p=0.5),\n",
    "        #                      nn.Linear(50,self.emb_dim)\n",
    "        #                     )\n",
    "        self.fc = nn.Sequential(       \n",
    "            nn.Linear(self.num_ftrs, 64),\n",
    "                             nn.BatchNorm1d(64),\n",
    "                             nn.ReLU(),\n",
    "                             #nn.Dropout(p=0.5),\n",
    "                             nn.Linear(64,50),\n",
    "                             nn.BatchNorm1d(50),\n",
    "                             nn.ReLU(),\n",
    "                             #nn.Dropout(p=0.5),\n",
    "                             nn.Linear(50,self.emb_dim)\n",
    "                            )\n",
    "        \n",
    "\n",
    "    def forward(self, x ,tsne=False):\n",
    "        x = self.mel_scale(x)\n",
    "        x = torchaudio.functional.amplitude_to_DB(x,amin=1e-10,top_db=80,multiplier=10,db_multiplier=torch.log10(torch.max(x)) )\n",
    "        x = x.squeeze()\n",
    "\n",
    "        x = torch.stack([x,x,x],axis=1)\n",
    "        \n",
    "        x = self.model(x)\n",
    "\n",
    "        if tsne:\n",
    "            return x\n",
    "        x  = self.fc(x)\n",
    "        return x\n",
    "\n",
    "def model_initialize(emb_dim=128):\n",
    "    model = ResLayer(emb_dim).cuda()\n",
    "    return model\n",
    "\n",
    "emb_dim=128\n",
    "model=model_initialize(emb_dim)"
   ]
  },
  {
   "cell_type": "code",
   "execution_count": 83,
   "id": "aaaf71c5",
   "metadata": {},
   "outputs": [
    {
     "data": {
      "text/plain": [
       "torch.Size([4, 128])"
      ]
     },
     "execution_count": 83,
     "metadata": {},
     "output_type": "execute_result"
    }
   ],
   "source": [
    "res=model(torch.randn(4,1,32000).to(DEVICE))\n",
    "res.size()"
   ]
  },
  {
   "cell_type": "code",
   "execution_count": 27,
   "id": "1ab03234",
   "metadata": {
    "scrolled": true
   },
   "outputs": [
    {
     "name": "stdout",
     "output_type": "stream",
     "text": [
      "ResLayer(\n",
      "  (model): ResNet(\n",
      "    (conv1): Conv2d(3, 64, kernel_size=(7, 7), stride=(2, 2), padding=(3, 3), bias=False)\n",
      "    (bn1): BatchNorm2d(64, eps=1e-05, momentum=0.1, affine=True, track_running_stats=True)\n",
      "    (relu): ReLU(inplace=True)\n",
      "    (maxpool): MaxPool2d(kernel_size=3, stride=2, padding=1, dilation=1, ceil_mode=False)\n",
      "    (layer1): Sequential(\n",
      "      (0): BasicBlock(\n",
      "        (conv1): Conv2d(64, 64, kernel_size=(3, 3), stride=(1, 1), padding=(1, 1), bias=False)\n",
      "        (bn1): BatchNorm2d(64, eps=1e-05, momentum=0.1, affine=True, track_running_stats=True)\n",
      "        (relu): ReLU(inplace=True)\n",
      "        (conv2): Conv2d(64, 64, kernel_size=(3, 3), stride=(1, 1), padding=(1, 1), bias=False)\n",
      "        (bn2): BatchNorm2d(64, eps=1e-05, momentum=0.1, affine=True, track_running_stats=True)\n",
      "      )\n",
      "      (1): BasicBlock(\n",
      "        (conv1): Conv2d(64, 64, kernel_size=(3, 3), stride=(1, 1), padding=(1, 1), bias=False)\n",
      "        (bn1): BatchNorm2d(64, eps=1e-05, momentum=0.1, affine=True, track_running_stats=True)\n",
      "        (relu): ReLU(inplace=True)\n",
      "        (conv2): Conv2d(64, 64, kernel_size=(3, 3), stride=(1, 1), padding=(1, 1), bias=False)\n",
      "        (bn2): BatchNorm2d(64, eps=1e-05, momentum=0.1, affine=True, track_running_stats=True)\n",
      "      )\n",
      "    )\n",
      "    (layer2): Sequential(\n",
      "      (0): BasicBlock(\n",
      "        (conv1): Conv2d(64, 128, kernel_size=(3, 3), stride=(2, 2), padding=(1, 1), bias=False)\n",
      "        (bn1): BatchNorm2d(128, eps=1e-05, momentum=0.1, affine=True, track_running_stats=True)\n",
      "        (relu): ReLU(inplace=True)\n",
      "        (conv2): Conv2d(128, 128, kernel_size=(3, 3), stride=(1, 1), padding=(1, 1), bias=False)\n",
      "        (bn2): BatchNorm2d(128, eps=1e-05, momentum=0.1, affine=True, track_running_stats=True)\n",
      "        (downsample): Sequential(\n",
      "          (0): Conv2d(64, 128, kernel_size=(1, 1), stride=(2, 2), bias=False)\n",
      "          (1): BatchNorm2d(128, eps=1e-05, momentum=0.1, affine=True, track_running_stats=True)\n",
      "        )\n",
      "      )\n",
      "      (1): BasicBlock(\n",
      "        (conv1): Conv2d(128, 128, kernel_size=(3, 3), stride=(1, 1), padding=(1, 1), bias=False)\n",
      "        (bn1): BatchNorm2d(128, eps=1e-05, momentum=0.1, affine=True, track_running_stats=True)\n",
      "        (relu): ReLU(inplace=True)\n",
      "        (conv2): Conv2d(128, 128, kernel_size=(3, 3), stride=(1, 1), padding=(1, 1), bias=False)\n",
      "        (bn2): BatchNorm2d(128, eps=1e-05, momentum=0.1, affine=True, track_running_stats=True)\n",
      "      )\n",
      "    )\n",
      "    (layer3): Sequential(\n",
      "      (0): BasicBlock(\n",
      "        (conv1): Conv2d(128, 256, kernel_size=(3, 3), stride=(2, 2), padding=(1, 1), bias=False)\n",
      "        (bn1): BatchNorm2d(256, eps=1e-05, momentum=0.1, affine=True, track_running_stats=True)\n",
      "        (relu): ReLU(inplace=True)\n",
      "        (conv2): Conv2d(256, 256, kernel_size=(3, 3), stride=(1, 1), padding=(1, 1), bias=False)\n",
      "        (bn2): BatchNorm2d(256, eps=1e-05, momentum=0.1, affine=True, track_running_stats=True)\n",
      "        (downsample): Sequential(\n",
      "          (0): Conv2d(128, 256, kernel_size=(1, 1), stride=(2, 2), bias=False)\n",
      "          (1): BatchNorm2d(256, eps=1e-05, momentum=0.1, affine=True, track_running_stats=True)\n",
      "        )\n",
      "      )\n",
      "      (1): BasicBlock(\n",
      "        (conv1): Conv2d(256, 256, kernel_size=(3, 3), stride=(1, 1), padding=(1, 1), bias=False)\n",
      "        (bn1): BatchNorm2d(256, eps=1e-05, momentum=0.1, affine=True, track_running_stats=True)\n",
      "        (relu): ReLU(inplace=True)\n",
      "        (conv2): Conv2d(256, 256, kernel_size=(3, 3), stride=(1, 1), padding=(1, 1), bias=False)\n",
      "        (bn2): BatchNorm2d(256, eps=1e-05, momentum=0.1, affine=True, track_running_stats=True)\n",
      "      )\n",
      "    )\n",
      "    (layer4): Sequential(\n",
      "      (0): BasicBlock(\n",
      "        (conv1): Conv2d(256, 512, kernel_size=(3, 3), stride=(2, 2), padding=(1, 1), bias=False)\n",
      "        (bn1): BatchNorm2d(512, eps=1e-05, momentum=0.1, affine=True, track_running_stats=True)\n",
      "        (relu): ReLU(inplace=True)\n",
      "        (conv2): Conv2d(512, 512, kernel_size=(3, 3), stride=(1, 1), padding=(1, 1), bias=False)\n",
      "        (bn2): BatchNorm2d(512, eps=1e-05, momentum=0.1, affine=True, track_running_stats=True)\n",
      "        (downsample): Sequential(\n",
      "          (0): Conv2d(256, 512, kernel_size=(1, 1), stride=(2, 2), bias=False)\n",
      "          (1): BatchNorm2d(512, eps=1e-05, momentum=0.1, affine=True, track_running_stats=True)\n",
      "        )\n",
      "      )\n",
      "      (1): BasicBlock(\n",
      "        (conv1): Conv2d(512, 512, kernel_size=(3, 3), stride=(1, 1), padding=(1, 1), bias=False)\n",
      "        (bn1): BatchNorm2d(512, eps=1e-05, momentum=0.1, affine=True, track_running_stats=True)\n",
      "        (relu): ReLU(inplace=True)\n",
      "        (conv2): Conv2d(512, 512, kernel_size=(3, 3), stride=(1, 1), padding=(1, 1), bias=False)\n",
      "        (bn2): BatchNorm2d(512, eps=1e-05, momentum=0.1, affine=True, track_running_stats=True)\n",
      "      )\n",
      "    )\n",
      "    (avgpool): AdaptiveAvgPool2d(output_size=(1, 1))\n",
      "    (fc): Linear(in_features=512, out_features=1000, bias=True)\n",
      "  )\n",
      "  (mel_scale): MelSpectrogram(\n",
      "    (spectrogram): Spectrogram()\n",
      "    (mel_scale): MelScale()\n",
      "  )\n",
      "  (fc): Sequential(\n",
      "    (0): Linear(in_features=1000, out_features=64, bias=True)\n",
      "    (1): BatchNorm1d(64, eps=1e-05, momentum=0.1, affine=True, track_running_stats=True)\n",
      "    (2): ReLU()\n",
      "    (3): Linear(in_features=64, out_features=50, bias=True)\n",
      "    (4): BatchNorm1d(50, eps=1e-05, momentum=0.1, affine=True, track_running_stats=True)\n",
      "    (5): ReLU()\n",
      "    (6): Linear(in_features=50, out_features=128, bias=True)\n",
      "  )\n",
      ")\n"
     ]
    }
   ],
   "source": [
    "criterion = nn.TripletMarginLoss(margin=5.0, p=2)\n",
    "optimizer = torch.optim.Adam(model.parameters(),lr=lr)\n",
    "print(model)"
   ]
  },
  {
   "cell_type": "code",
   "execution_count": 28,
   "id": "2a47749e",
   "metadata": {
    "scrolled": true
   },
   "outputs": [],
   "source": [
    "# get the model summary\n",
    "from torchsummary import summary\n",
    "#summary(model, input_size=(3, 128, 300), device=DEVICE.type)"
   ]
  },
  {
   "cell_type": "code",
   "execution_count": 29,
   "id": "3f2ca15d",
   "metadata": {},
   "outputs": [],
   "source": [
    "#8. 학습\n",
    "def train(model,train_loader,optimizer, log_interval):\n",
    "    model.train()\n",
    "    correct = 0\n",
    "    train_loss = 0\n",
    "    for batch_idx,(x_anchor,x_pos,x_neg,label,data_path) in enumerate(train_loader):\n",
    "        x_anchor = x_anchor.to(DEVICE)\n",
    "        x_pos = x_pos.to(DEVICE)\n",
    "        x_neg = x_neg.to(DEVICE)\n",
    "        label = label.to(DEVICE)\n",
    "        #데이터들 장비에 할당\n",
    "        optimizer.zero_grad() # device 에 저장된 gradient 제거\n",
    "        anchor_out = model(x_anchor)\n",
    "        positive_out = model(x_pos)\n",
    "        negative_out = model(x_neg)\n",
    "\n",
    "        loss = criterion(anchor_out, positive_out, negative_out)\n",
    "        loss.backward()\n",
    "        optimizer.step()\n",
    "        train_loss += loss.item()\n",
    "    train_loss/=len(train_loader.dataset)\n",
    "    return train_loss\n"
   ]
  },
  {
   "cell_type": "code",
   "execution_count": 30,
   "id": "b09341bf",
   "metadata": {},
   "outputs": [],
   "source": [
    "#9. 학습 진행하며, validation 데이터로 모델 성능확인\n",
    "def evaluate(model,valid_loader):\n",
    "    model.eval()\n",
    "    valid_loss = 0\n",
    "    correct = 0\n",
    "    #no_grad : 그래디언트 값 계산 막기.\n",
    "    with torch.no_grad():\n",
    "        for image,label,_ in valid_loader:\n",
    "            image = image.to(DEVICE)\n",
    "            label = label.to(DEVICE)\n",
    "            output = model(image)\n",
    "            valid_loss += criterion(output, label).item()\n",
    "            prediction = output.max(1,keepdim=True)[1] # 가장 확률이 높은 class 1개를 가져온다.그리고 인덱스만\n",
    "            correct += prediction.eq(label.view_as(prediction)).sum().item()# 아웃풋이 배치 사이즈 32개라서.\n",
    "            #true.false값을 sum해줌. item\n",
    "        valid_loss /= len(valid_loader.dataset)\n",
    "        valid_accuracy = 100. * correct / len(valid_loader.dataset)\n",
    "        return valid_loss,valid_accuracy\n"
   ]
  },
  {
   "cell_type": "code",
   "execution_count": 31,
   "id": "fa7fc2ea",
   "metadata": {},
   "outputs": [],
   "source": [
    "#데이터 로더 제작 함수\n",
    "\n",
    "def seed_worker(worker_id):\n",
    "    worker_seed = torch.initial_seed() % 2**32\n",
    "    np.random.seed(worker_seed)\n",
    "    random.seed(worker_seed)\n",
    "\n",
    "\n",
    "def load_data(data_ind):\n",
    "\n",
    "    #DATA LOADER 함수가 BATCH_size 단위로 분리해 지정.\n",
    "\n",
    "    #확인을 위해 데이터셋 하나만 확인\n",
    "    dataset = 'phrase'\n",
    "\n",
    "    train_loader = DataLoader(dataset = svd_dataset_wav(\n",
    "                                                X_train_list[data_ind],\n",
    "                                                Y_train_list[data_ind],\n",
    "                                                classes,\n",
    "                                                mel_params = mel_run_config,\n",
    "                                                transform = transforms.ToTensor(),#이걸 composed로 고쳐서 전처리 하도록 수정.\n",
    "                                                is_train = True,\n",
    "                                                dataset= dataset\n",
    "                                            ),\n",
    "                                            batch_size = BATCH_SIZE,\n",
    "                                            shuffle = True,\n",
    "                                            #worker_init_fn=seed_worker\n",
    "                                            ) # 순서가 암기되는것을 막기위해.\n",
    "\n",
    "    validation_loader = DataLoader(dataset = \n",
    "                                            svd_dataset_wav(\n",
    "                                                X_valid_list[data_ind],\n",
    "                                                Y_valid_list[data_ind],\n",
    "                                                classes,\n",
    "                                                mel_params = mel_run_config,\n",
    "                                                transform = transforms.ToTensor(),#이걸 composed로 고쳐서 전처리 하도록 수정.\n",
    "                                                dataset= dataset\n",
    "                                            ),\n",
    "                                            batch_size = BATCH_SIZE,\n",
    "                                            shuffle = True,\n",
    "                                            #worker_init_fn=seed_worker\n",
    "                                            )\n",
    "    return train_loader,validation_loader\n",
    "\n"
   ]
  },
  {
   "cell_type": "code",
   "execution_count": 32,
   "id": "c6d1390d",
   "metadata": {},
   "outputs": [
    {
     "name": "stdout",
     "output_type": "stream",
     "text": [
      "./checkpoint/checkpoint_triplet_ros_1_organics_speaker.pt\n",
      "[1 교차검증] 학습 시작\n",
      " ----- \n"
     ]
    },
    {
     "name": "stderr",
     "output_type": "stream",
     "text": [
      "  0%|          | 1/300 [00:09<48:59,  9.83s/it]"
     ]
    },
    {
     "name": "stdout",
     "output_type": "stream",
     "text": [
      "\n",
      "[EPOCH:1]\t Train Loss:0.0544\n"
     ]
    },
    {
     "name": "stderr",
     "output_type": "stream",
     "text": [
      "  1%|          | 2/300 [00:16<38:15,  7.70s/it]"
     ]
    },
    {
     "name": "stdout",
     "output_type": "stream",
     "text": [
      "\n",
      "[EPOCH:2]\t Train Loss:0.0374\n"
     ]
    },
    {
     "name": "stderr",
     "output_type": "stream",
     "text": [
      "  1%|          | 3/300 [00:22<35:00,  7.07s/it]"
     ]
    },
    {
     "name": "stdout",
     "output_type": "stream",
     "text": [
      "\n",
      "[EPOCH:3]\t Train Loss:0.0268\n"
     ]
    },
    {
     "name": "stderr",
     "output_type": "stream",
     "text": [
      "  1%|▏         | 4/300 [00:28<32:58,  6.69s/it]"
     ]
    },
    {
     "name": "stdout",
     "output_type": "stream",
     "text": [
      "\n",
      "[EPOCH:4]\t Train Loss:0.0199\n"
     ]
    },
    {
     "name": "stderr",
     "output_type": "stream",
     "text": [
      "  2%|▏         | 5/300 [00:34<31:41,  6.45s/it]"
     ]
    },
    {
     "name": "stdout",
     "output_type": "stream",
     "text": [
      "\n",
      "[EPOCH:5]\t Train Loss:0.0130\n"
     ]
    },
    {
     "name": "stderr",
     "output_type": "stream",
     "text": [
      "  2%|▏         | 6/300 [00:40<31:02,  6.33s/it]"
     ]
    },
    {
     "name": "stdout",
     "output_type": "stream",
     "text": [
      "\n",
      "[EPOCH:6]\t Train Loss:0.0080\n"
     ]
    },
    {
     "name": "stderr",
     "output_type": "stream",
     "text": [
      "  2%|▏         | 7/300 [00:46<30:28,  6.24s/it]"
     ]
    },
    {
     "name": "stdout",
     "output_type": "stream",
     "text": [
      "\n",
      "[EPOCH:7]\t Train Loss:0.0081\n"
     ]
    },
    {
     "name": "stderr",
     "output_type": "stream",
     "text": [
      "  3%|▎         | 8/300 [00:52<30:18,  6.23s/it]"
     ]
    },
    {
     "name": "stdout",
     "output_type": "stream",
     "text": [
      "\n",
      "[EPOCH:8]\t Train Loss:0.0113\n"
     ]
    },
    {
     "name": "stderr",
     "output_type": "stream",
     "text": [
      "  3%|▎         | 9/300 [00:58<29:59,  6.19s/it]"
     ]
    },
    {
     "name": "stdout",
     "output_type": "stream",
     "text": [
      "\n",
      "[EPOCH:9]\t Train Loss:0.0082\n",
      "\n",
      "[EPOCH:10]\t Train Loss:0.0051\n",
      "Update train result\n"
     ]
    },
    {
     "name": "stderr",
     "output_type": "stream",
     "text": [
      "100%|██████████| 51/51 [00:03<00:00, 13.77it/s]\n"
     ]
    },
    {
     "name": "stdout",
     "output_type": "stream",
     "text": [
      "[21:05:20] WARNING: C:/Users/Administrator/workspace/xgboost-win64_release_1.5.1/src/learner.cc:1115: Starting in XGBoost 1.3.0, the default evaluation metric used with the objective 'binary:logistic' was changed from 'error' to 'logloss'. Explicitly set eval_metric if you'd like to restore the old behavior.\n",
      "\n",
      "[EPOCH:10]\t Classifier Train Accuracy:1.0000\n",
      "Update valid result\n"
     ]
    },
    {
     "name": "stderr",
     "output_type": "stream",
     "text": [
      "100%|██████████| 14/14 [00:00<00:00, 108.52it/s]\n"
     ]
    },
    {
     "name": "stdout",
     "output_type": "stream",
     "text": [
      "\n",
      "[EPOCH:10]\t Classifier Valid Accuracy:0.8251\n"
     ]
    },
    {
     "name": "stderr",
     "output_type": "stream",
     "text": [
      "100%|██████████| 15/15 [00:00<00:00, 110.29it/s]\n",
      "  3%|▎         | 10/300 [01:10<37:19,  7.72s/it]"
     ]
    },
    {
     "name": "stdout",
     "output_type": "stream",
     "text": [
      "\n",
      "[EPOCH:10]\t Classifier Test Accuracy:0.8650\n"
     ]
    },
    {
     "name": "stderr",
     "output_type": "stream",
     "text": [
      "  4%|▎         | 11/300 [01:16<34:44,  7.21s/it]"
     ]
    },
    {
     "name": "stdout",
     "output_type": "stream",
     "text": [
      "\n",
      "[EPOCH:11]\t Train Loss:0.0046\n"
     ]
    },
    {
     "name": "stderr",
     "output_type": "stream",
     "text": [
      "  4%|▍         | 12/300 [01:22<32:48,  6.84s/it]"
     ]
    },
    {
     "name": "stdout",
     "output_type": "stream",
     "text": [
      "\n",
      "[EPOCH:12]\t Train Loss:0.0050\n"
     ]
    },
    {
     "name": "stderr",
     "output_type": "stream",
     "text": [
      "  4%|▍         | 13/300 [01:28<31:32,  6.59s/it]"
     ]
    },
    {
     "name": "stdout",
     "output_type": "stream",
     "text": [
      "\n",
      "[EPOCH:13]\t Train Loss:0.0046\n"
     ]
    },
    {
     "name": "stderr",
     "output_type": "stream",
     "text": [
      "  5%|▍         | 14/300 [01:34<30:33,  6.41s/it]"
     ]
    },
    {
     "name": "stdout",
     "output_type": "stream",
     "text": [
      "\n",
      "[EPOCH:14]\t Train Loss:0.0031\n"
     ]
    },
    {
     "name": "stderr",
     "output_type": "stream",
     "text": [
      "  5%|▌         | 15/300 [01:40<29:53,  6.29s/it]"
     ]
    },
    {
     "name": "stdout",
     "output_type": "stream",
     "text": [
      "\n",
      "[EPOCH:15]\t Train Loss:0.0051\n"
     ]
    },
    {
     "name": "stderr",
     "output_type": "stream",
     "text": [
      "  5%|▌         | 16/300 [01:46<29:21,  6.20s/it]"
     ]
    },
    {
     "name": "stdout",
     "output_type": "stream",
     "text": [
      "\n",
      "[EPOCH:16]\t Train Loss:0.0031\n"
     ]
    },
    {
     "name": "stderr",
     "output_type": "stream",
     "text": [
      "  6%|▌         | 17/300 [01:52<28:57,  6.14s/it]"
     ]
    },
    {
     "name": "stdout",
     "output_type": "stream",
     "text": [
      "\n",
      "[EPOCH:17]\t Train Loss:0.0031\n"
     ]
    },
    {
     "name": "stderr",
     "output_type": "stream",
     "text": [
      "  6%|▌         | 18/300 [01:58<28:38,  6.09s/it]"
     ]
    },
    {
     "name": "stdout",
     "output_type": "stream",
     "text": [
      "\n",
      "[EPOCH:18]\t Train Loss:0.0042\n"
     ]
    },
    {
     "name": "stderr",
     "output_type": "stream",
     "text": [
      "  6%|▋         | 19/300 [02:04<28:23,  6.06s/it]"
     ]
    },
    {
     "name": "stdout",
     "output_type": "stream",
     "text": [
      "\n",
      "[EPOCH:19]\t Train Loss:0.0046\n",
      "\n",
      "[EPOCH:20]\t Train Loss:0.0025\n",
      "Update train result\n"
     ]
    },
    {
     "name": "stderr",
     "output_type": "stream",
     "text": [
      "100%|██████████| 51/51 [00:03<00:00, 13.98it/s]\n"
     ]
    },
    {
     "name": "stdout",
     "output_type": "stream",
     "text": [
      "[21:06:24] WARNING: C:/Users/Administrator/workspace/xgboost-win64_release_1.5.1/src/learner.cc:1115: Starting in XGBoost 1.3.0, the default evaluation metric used with the objective 'binary:logistic' was changed from 'error' to 'logloss'. Explicitly set eval_metric if you'd like to restore the old behavior.\n",
      "\n",
      "[EPOCH:20]\t Classifier Train Accuracy:1.0000\n",
      "Update valid result\n"
     ]
    },
    {
     "name": "stderr",
     "output_type": "stream",
     "text": [
      "100%|██████████| 14/14 [00:00<00:00, 108.53it/s]\n"
     ]
    },
    {
     "name": "stdout",
     "output_type": "stream",
     "text": [
      "\n",
      "[EPOCH:20]\t Classifier Valid Accuracy:0.8206\n"
     ]
    },
    {
     "name": "stderr",
     "output_type": "stream",
     "text": [
      "100%|██████████| 15/15 [00:00<00:00, 109.49it/s]\n",
      "  7%|▋         | 20/300 [02:14<33:44,  7.23s/it]"
     ]
    },
    {
     "name": "stdout",
     "output_type": "stream",
     "text": [
      "\n",
      "[EPOCH:20]\t Classifier Test Accuracy:0.8565\n"
     ]
    },
    {
     "name": "stderr",
     "output_type": "stream",
     "text": [
      "  7%|▋         | 21/300 [02:20<31:55,  6.87s/it]"
     ]
    },
    {
     "name": "stdout",
     "output_type": "stream",
     "text": [
      "\n",
      "[EPOCH:21]\t Train Loss:0.0048\n"
     ]
    },
    {
     "name": "stderr",
     "output_type": "stream",
     "text": [
      "  7%|▋         | 22/300 [02:26<30:31,  6.59s/it]"
     ]
    },
    {
     "name": "stdout",
     "output_type": "stream",
     "text": [
      "\n",
      "[EPOCH:22]\t Train Loss:0.0034\n"
     ]
    },
    {
     "name": "stderr",
     "output_type": "stream",
     "text": [
      "  8%|▊         | 23/300 [02:32<29:41,  6.43s/it]"
     ]
    },
    {
     "name": "stdout",
     "output_type": "stream",
     "text": [
      "\n",
      "[EPOCH:23]\t Train Loss:0.0049\n"
     ]
    },
    {
     "name": "stderr",
     "output_type": "stream",
     "text": [
      "  8%|▊         | 24/300 [02:38<29:03,  6.32s/it]"
     ]
    },
    {
     "name": "stdout",
     "output_type": "stream",
     "text": [
      "\n",
      "[EPOCH:24]\t Train Loss:0.0040\n"
     ]
    },
    {
     "name": "stderr",
     "output_type": "stream",
     "text": [
      "  8%|▊         | 25/300 [02:44<28:33,  6.23s/it]"
     ]
    },
    {
     "name": "stdout",
     "output_type": "stream",
     "text": [
      "\n",
      "[EPOCH:25]\t Train Loss:0.0018\n"
     ]
    },
    {
     "name": "stderr",
     "output_type": "stream",
     "text": [
      "  9%|▊         | 26/300 [02:50<28:10,  6.17s/it]"
     ]
    },
    {
     "name": "stdout",
     "output_type": "stream",
     "text": [
      "\n",
      "[EPOCH:26]\t Train Loss:0.0019\n"
     ]
    },
    {
     "name": "stderr",
     "output_type": "stream",
     "text": [
      "  9%|▉         | 27/300 [02:56<27:52,  6.13s/it]"
     ]
    },
    {
     "name": "stdout",
     "output_type": "stream",
     "text": [
      "\n",
      "[EPOCH:27]\t Train Loss:0.0007\n"
     ]
    },
    {
     "name": "stderr",
     "output_type": "stream",
     "text": [
      "  9%|▉         | 28/300 [03:02<27:33,  6.08s/it]"
     ]
    },
    {
     "name": "stdout",
     "output_type": "stream",
     "text": [
      "\n",
      "[EPOCH:28]\t Train Loss:0.0020\n"
     ]
    },
    {
     "name": "stderr",
     "output_type": "stream",
     "text": [
      " 10%|▉         | 29/300 [03:08<27:21,  6.06s/it]"
     ]
    },
    {
     "name": "stdout",
     "output_type": "stream",
     "text": [
      "\n",
      "[EPOCH:29]\t Train Loss:0.0014\n",
      "\n",
      "[EPOCH:30]\t Train Loss:0.0007\n",
      "Update train result\n"
     ]
    },
    {
     "name": "stderr",
     "output_type": "stream",
     "text": [
      "100%|██████████| 51/51 [00:03<00:00, 14.00it/s]\n"
     ]
    },
    {
     "name": "stdout",
     "output_type": "stream",
     "text": [
      "[21:07:28] WARNING: C:/Users/Administrator/workspace/xgboost-win64_release_1.5.1/src/learner.cc:1115: Starting in XGBoost 1.3.0, the default evaluation metric used with the objective 'binary:logistic' was changed from 'error' to 'logloss'. Explicitly set eval_metric if you'd like to restore the old behavior.\n",
      "\n",
      "[EPOCH:30]\t Classifier Train Accuracy:1.0000\n",
      "Update valid result\n"
     ]
    },
    {
     "name": "stderr",
     "output_type": "stream",
     "text": [
      "100%|██████████| 14/14 [00:00<00:00, 106.06it/s]\n"
     ]
    },
    {
     "name": "stdout",
     "output_type": "stream",
     "text": [
      "\n",
      "[EPOCH:30]\t Classifier Valid Accuracy:0.8117\n"
     ]
    },
    {
     "name": "stderr",
     "output_type": "stream",
     "text": [
      "100%|██████████| 15/15 [00:00<00:00, 76.92it/s]\n",
      " 10%|█         | 30/300 [03:18<32:35,  7.24s/it]"
     ]
    },
    {
     "name": "stdout",
     "output_type": "stream",
     "text": [
      "\n",
      "[EPOCH:30]\t Classifier Test Accuracy:0.8565\n"
     ]
    },
    {
     "name": "stderr",
     "output_type": "stream",
     "text": [
      " 10%|█         | 31/300 [03:24<30:56,  6.90s/it]"
     ]
    },
    {
     "name": "stdout",
     "output_type": "stream",
     "text": [
      "\n",
      "[EPOCH:31]\t Train Loss:0.0008\n"
     ]
    },
    {
     "name": "stderr",
     "output_type": "stream",
     "text": [
      " 11%|█         | 32/300 [03:30<29:45,  6.66s/it]"
     ]
    },
    {
     "name": "stdout",
     "output_type": "stream",
     "text": [
      "\n",
      "[EPOCH:32]\t Train Loss:0.0013\n"
     ]
    },
    {
     "name": "stderr",
     "output_type": "stream",
     "text": [
      " 11%|█         | 33/300 [03:36<29:03,  6.53s/it]"
     ]
    },
    {
     "name": "stdout",
     "output_type": "stream",
     "text": [
      "\n",
      "[EPOCH:33]\t Train Loss:0.0007\n"
     ]
    },
    {
     "name": "stderr",
     "output_type": "stream",
     "text": [
      " 11%|█▏        | 34/300 [03:42<28:27,  6.42s/it]"
     ]
    },
    {
     "name": "stdout",
     "output_type": "stream",
     "text": [
      "\n",
      "[EPOCH:34]\t Train Loss:0.0003\n"
     ]
    },
    {
     "name": "stderr",
     "output_type": "stream",
     "text": [
      " 12%|█▏        | 35/300 [03:48<27:57,  6.33s/it]"
     ]
    },
    {
     "name": "stdout",
     "output_type": "stream",
     "text": [
      "\n",
      "[EPOCH:35]\t Train Loss:0.0022\n"
     ]
    },
    {
     "name": "stderr",
     "output_type": "stream",
     "text": [
      " 12%|█▏        | 36/300 [03:55<27:33,  6.26s/it]"
     ]
    },
    {
     "name": "stdout",
     "output_type": "stream",
     "text": [
      "\n",
      "[EPOCH:36]\t Train Loss:0.0039\n"
     ]
    },
    {
     "name": "stderr",
     "output_type": "stream",
     "text": [
      " 12%|█▏        | 37/300 [04:01<27:12,  6.21s/it]"
     ]
    },
    {
     "name": "stdout",
     "output_type": "stream",
     "text": [
      "\n",
      "[EPOCH:37]\t Train Loss:0.0050\n"
     ]
    },
    {
     "name": "stderr",
     "output_type": "stream",
     "text": [
      " 13%|█▎        | 38/300 [04:07<27:03,  6.20s/it]"
     ]
    },
    {
     "name": "stdout",
     "output_type": "stream",
     "text": [
      "\n",
      "[EPOCH:38]\t Train Loss:0.0028\n"
     ]
    },
    {
     "name": "stderr",
     "output_type": "stream",
     "text": [
      " 13%|█▎        | 39/300 [04:13<27:00,  6.21s/it]"
     ]
    },
    {
     "name": "stdout",
     "output_type": "stream",
     "text": [
      "\n",
      "[EPOCH:39]\t Train Loss:0.0017\n",
      "\n",
      "[EPOCH:40]\t Train Loss:0.0021\n",
      "Update train result\n"
     ]
    },
    {
     "name": "stderr",
     "output_type": "stream",
     "text": [
      "100%|██████████| 51/51 [00:03<00:00, 13.51it/s]\n"
     ]
    },
    {
     "name": "stdout",
     "output_type": "stream",
     "text": [
      "[21:08:34] WARNING: C:/Users/Administrator/workspace/xgboost-win64_release_1.5.1/src/learner.cc:1115: Starting in XGBoost 1.3.0, the default evaluation metric used with the objective 'binary:logistic' was changed from 'error' to 'logloss'. Explicitly set eval_metric if you'd like to restore the old behavior.\n",
      "\n",
      "[EPOCH:40]\t Classifier Train Accuracy:1.0000\n",
      "Update valid result\n"
     ]
    },
    {
     "name": "stderr",
     "output_type": "stream",
     "text": [
      "100%|██████████| 14/14 [00:00<00:00, 100.00it/s]\n"
     ]
    },
    {
     "name": "stdout",
     "output_type": "stream",
     "text": [
      "\n",
      "[EPOCH:40]\t Classifier Valid Accuracy:0.8117\n"
     ]
    },
    {
     "name": "stderr",
     "output_type": "stream",
     "text": [
      "100%|██████████| 15/15 [00:00<00:00, 102.74it/s]\n",
      " 13%|█▎        | 40/300 [04:23<32:18,  7.46s/it]"
     ]
    },
    {
     "name": "stdout",
     "output_type": "stream",
     "text": [
      "\n",
      "[EPOCH:40]\t Classifier Test Accuracy:0.8734\n"
     ]
    },
    {
     "name": "stderr",
     "output_type": "stream",
     "text": [
      " 14%|█▎        | 41/300 [04:30<30:31,  7.07s/it]"
     ]
    },
    {
     "name": "stdout",
     "output_type": "stream",
     "text": [
      "\n",
      "[EPOCH:41]\t Train Loss:0.0013\n"
     ]
    },
    {
     "name": "stderr",
     "output_type": "stream",
     "text": [
      " 14%|█▍        | 42/300 [04:36<29:08,  6.78s/it]"
     ]
    },
    {
     "name": "stdout",
     "output_type": "stream",
     "text": [
      "\n",
      "[EPOCH:42]\t Train Loss:0.0009\n"
     ]
    },
    {
     "name": "stderr",
     "output_type": "stream",
     "text": [
      " 14%|█▍        | 43/300 [04:42<28:06,  6.56s/it]"
     ]
    },
    {
     "name": "stdout",
     "output_type": "stream",
     "text": [
      "\n",
      "[EPOCH:43]\t Train Loss:0.0010\n"
     ]
    },
    {
     "name": "stderr",
     "output_type": "stream",
     "text": [
      " 15%|█▍        | 44/300 [04:48<27:15,  6.39s/it]"
     ]
    },
    {
     "name": "stdout",
     "output_type": "stream",
     "text": [
      "\n",
      "[EPOCH:44]\t Train Loss:0.0009\n"
     ]
    },
    {
     "name": "stderr",
     "output_type": "stream",
     "text": [
      " 15%|█▌        | 45/300 [04:54<26:45,  6.30s/it]"
     ]
    },
    {
     "name": "stdout",
     "output_type": "stream",
     "text": [
      "\n",
      "[EPOCH:45]\t Train Loss:0.0005\n"
     ]
    },
    {
     "name": "stderr",
     "output_type": "stream",
     "text": [
      " 15%|█▌        | 46/300 [05:00<26:30,  6.26s/it]"
     ]
    },
    {
     "name": "stdout",
     "output_type": "stream",
     "text": [
      "\n",
      "[EPOCH:46]\t Train Loss:0.0011\n"
     ]
    },
    {
     "name": "stderr",
     "output_type": "stream",
     "text": [
      " 16%|█▌        | 47/300 [05:06<26:09,  6.20s/it]"
     ]
    },
    {
     "name": "stdout",
     "output_type": "stream",
     "text": [
      "\n",
      "[EPOCH:47]\t Train Loss:0.0019\n"
     ]
    },
    {
     "name": "stderr",
     "output_type": "stream",
     "text": [
      " 16%|█▌        | 48/300 [05:12<25:57,  6.18s/it]"
     ]
    },
    {
     "name": "stdout",
     "output_type": "stream",
     "text": [
      "\n",
      "[EPOCH:48]\t Train Loss:0.0005\n"
     ]
    },
    {
     "name": "stderr",
     "output_type": "stream",
     "text": [
      " 16%|█▋        | 49/300 [05:18<25:42,  6.15s/it]"
     ]
    },
    {
     "name": "stdout",
     "output_type": "stream",
     "text": [
      "\n",
      "[EPOCH:49]\t Train Loss:0.0011\n",
      "\n",
      "[EPOCH:50]\t Train Loss:0.0021\n",
      "Update train result\n"
     ]
    },
    {
     "name": "stderr",
     "output_type": "stream",
     "text": [
      "100%|██████████| 51/51 [00:03<00:00, 14.17it/s]\n"
     ]
    },
    {
     "name": "stdout",
     "output_type": "stream",
     "text": [
      "[21:09:39] WARNING: C:/Users/Administrator/workspace/xgboost-win64_release_1.5.1/src/learner.cc:1115: Starting in XGBoost 1.3.0, the default evaluation metric used with the objective 'binary:logistic' was changed from 'error' to 'logloss'. Explicitly set eval_metric if you'd like to restore the old behavior.\n",
      "\n",
      "[EPOCH:50]\t Classifier Train Accuracy:1.0000\n",
      "Update valid result\n"
     ]
    },
    {
     "name": "stderr",
     "output_type": "stream",
     "text": [
      "100%|██████████| 14/14 [00:00<00:00, 110.24it/s]\n"
     ]
    },
    {
     "name": "stdout",
     "output_type": "stream",
     "text": [
      "\n",
      "[EPOCH:50]\t Classifier Valid Accuracy:0.8161\n"
     ]
    },
    {
     "name": "stderr",
     "output_type": "stream",
     "text": [
      "100%|██████████| 15/15 [00:00<00:00, 76.92it/s]\n",
      " 17%|█▋        | 50/300 [05:28<30:20,  7.28s/it]"
     ]
    },
    {
     "name": "stdout",
     "output_type": "stream",
     "text": [
      "\n",
      "[EPOCH:50]\t Classifier Test Accuracy:0.8523\n"
     ]
    },
    {
     "name": "stderr",
     "output_type": "stream",
     "text": [
      " 17%|█▋        | 51/300 [05:34<28:38,  6.90s/it]"
     ]
    },
    {
     "name": "stdout",
     "output_type": "stream",
     "text": [
      "\n",
      "[EPOCH:51]\t Train Loss:0.0060\n"
     ]
    },
    {
     "name": "stderr",
     "output_type": "stream",
     "text": [
      " 17%|█▋        | 52/300 [05:40<27:17,  6.60s/it]"
     ]
    },
    {
     "name": "stdout",
     "output_type": "stream",
     "text": [
      "\n",
      "[EPOCH:52]\t Train Loss:0.0031\n"
     ]
    },
    {
     "name": "stderr",
     "output_type": "stream",
     "text": [
      " 18%|█▊        | 53/300 [05:46<26:23,  6.41s/it]"
     ]
    },
    {
     "name": "stdout",
     "output_type": "stream",
     "text": [
      "\n",
      "[EPOCH:53]\t Train Loss:0.0021\n"
     ]
    },
    {
     "name": "stderr",
     "output_type": "stream",
     "text": [
      " 18%|█▊        | 54/300 [05:52<25:39,  6.26s/it]"
     ]
    },
    {
     "name": "stdout",
     "output_type": "stream",
     "text": [
      "\n",
      "[EPOCH:54]\t Train Loss:0.0027\n"
     ]
    },
    {
     "name": "stderr",
     "output_type": "stream",
     "text": [
      " 18%|█▊        | 55/300 [05:58<25:11,  6.17s/it]"
     ]
    },
    {
     "name": "stdout",
     "output_type": "stream",
     "text": [
      "\n",
      "[EPOCH:55]\t Train Loss:0.0011\n"
     ]
    },
    {
     "name": "stderr",
     "output_type": "stream",
     "text": [
      " 19%|█▊        | 56/300 [06:04<24:50,  6.11s/it]"
     ]
    },
    {
     "name": "stdout",
     "output_type": "stream",
     "text": [
      "\n",
      "[EPOCH:56]\t Train Loss:0.0014\n"
     ]
    },
    {
     "name": "stderr",
     "output_type": "stream",
     "text": [
      " 19%|█▉        | 57/300 [06:10<24:40,  6.09s/it]"
     ]
    },
    {
     "name": "stdout",
     "output_type": "stream",
     "text": [
      "\n",
      "[EPOCH:57]\t Train Loss:0.0005\n"
     ]
    },
    {
     "name": "stderr",
     "output_type": "stream",
     "text": [
      " 19%|█▉        | 58/300 [06:16<24:24,  6.05s/it]"
     ]
    },
    {
     "name": "stdout",
     "output_type": "stream",
     "text": [
      "\n",
      "[EPOCH:58]\t Train Loss:0.0008\n"
     ]
    },
    {
     "name": "stderr",
     "output_type": "stream",
     "text": [
      " 20%|█▉        | 59/300 [06:22<24:06,  6.00s/it]"
     ]
    },
    {
     "name": "stdout",
     "output_type": "stream",
     "text": [
      "\n",
      "[EPOCH:59]\t Train Loss:0.0012\n",
      "\n",
      "[EPOCH:60]\t Train Loss:0.0009\n",
      "Update train result\n"
     ]
    },
    {
     "name": "stderr",
     "output_type": "stream",
     "text": [
      "100%|██████████| 51/51 [00:03<00:00, 14.13it/s]\n"
     ]
    },
    {
     "name": "stdout",
     "output_type": "stream",
     "text": [
      "[21:10:42] WARNING: C:/Users/Administrator/workspace/xgboost-win64_release_1.5.1/src/learner.cc:1115: Starting in XGBoost 1.3.0, the default evaluation metric used with the objective 'binary:logistic' was changed from 'error' to 'logloss'. Explicitly set eval_metric if you'd like to restore the old behavior.\n",
      "\n",
      "[EPOCH:60]\t Classifier Train Accuracy:1.0000\n",
      "Update valid result\n"
     ]
    },
    {
     "name": "stderr",
     "output_type": "stream",
     "text": [
      "100%|██████████| 14/14 [00:00<00:00, 112.00it/s]\n"
     ]
    },
    {
     "name": "stdout",
     "output_type": "stream",
     "text": [
      "\n",
      "[EPOCH:60]\t Classifier Valid Accuracy:0.8430\n"
     ]
    },
    {
     "name": "stderr",
     "output_type": "stream",
     "text": [
      "100%|██████████| 15/15 [00:00<00:00, 104.17it/s]\n",
      " 20%|██        | 60/300 [06:32<28:37,  7.16s/it]"
     ]
    },
    {
     "name": "stdout",
     "output_type": "stream",
     "text": [
      "\n",
      "[EPOCH:60]\t Classifier Test Accuracy:0.8481\n"
     ]
    },
    {
     "name": "stderr",
     "output_type": "stream",
     "text": [
      " 20%|██        | 61/300 [06:38<27:00,  6.78s/it]"
     ]
    },
    {
     "name": "stdout",
     "output_type": "stream",
     "text": [
      "\n",
      "[EPOCH:61]\t Train Loss:0.0001\n"
     ]
    },
    {
     "name": "stderr",
     "output_type": "stream",
     "text": [
      " 21%|██        | 62/300 [06:43<25:50,  6.51s/it]"
     ]
    },
    {
     "name": "stdout",
     "output_type": "stream",
     "text": [
      "\n",
      "[EPOCH:62]\t Train Loss:0.0003\n"
     ]
    },
    {
     "name": "stderr",
     "output_type": "stream",
     "text": [
      " 21%|██        | 63/300 [06:49<25:02,  6.34s/it]"
     ]
    },
    {
     "name": "stdout",
     "output_type": "stream",
     "text": [
      "\n",
      "[EPOCH:63]\t Train Loss:0.0005\n"
     ]
    },
    {
     "name": "stderr",
     "output_type": "stream",
     "text": [
      " 21%|██▏       | 64/300 [06:55<24:23,  6.20s/it]"
     ]
    },
    {
     "name": "stdout",
     "output_type": "stream",
     "text": [
      "\n",
      "[EPOCH:64]\t Train Loss:0.0011\n"
     ]
    },
    {
     "name": "stderr",
     "output_type": "stream",
     "text": [
      " 22%|██▏       | 65/300 [07:01<24:02,  6.14s/it]"
     ]
    },
    {
     "name": "stdout",
     "output_type": "stream",
     "text": [
      "\n",
      "[EPOCH:65]\t Train Loss:0.0006\n"
     ]
    },
    {
     "name": "stderr",
     "output_type": "stream",
     "text": [
      " 22%|██▏       | 66/300 [07:07<23:58,  6.15s/it]"
     ]
    },
    {
     "name": "stdout",
     "output_type": "stream",
     "text": [
      "\n",
      "[EPOCH:66]\t Train Loss:0.0003\n"
     ]
    },
    {
     "name": "stderr",
     "output_type": "stream",
     "text": [
      " 22%|██▏       | 67/300 [07:13<23:37,  6.08s/it]"
     ]
    },
    {
     "name": "stdout",
     "output_type": "stream",
     "text": [
      "\n",
      "[EPOCH:67]\t Train Loss:0.0004\n"
     ]
    },
    {
     "name": "stderr",
     "output_type": "stream",
     "text": [
      " 23%|██▎       | 68/300 [07:19<23:17,  6.02s/it]"
     ]
    },
    {
     "name": "stdout",
     "output_type": "stream",
     "text": [
      "\n",
      "[EPOCH:68]\t Train Loss:0.0003\n"
     ]
    },
    {
     "name": "stderr",
     "output_type": "stream",
     "text": [
      " 23%|██▎       | 69/300 [07:25<22:58,  5.97s/it]"
     ]
    },
    {
     "name": "stdout",
     "output_type": "stream",
     "text": [
      "\n",
      "[EPOCH:69]\t Train Loss:0.0000\n",
      "\n",
      "[EPOCH:70]\t Train Loss:0.0013\n",
      "Update train result\n"
     ]
    },
    {
     "name": "stderr",
     "output_type": "stream",
     "text": [
      "100%|██████████| 51/51 [00:03<00:00, 14.35it/s]\n"
     ]
    },
    {
     "name": "stdout",
     "output_type": "stream",
     "text": [
      "[21:11:45] WARNING: C:/Users/Administrator/workspace/xgboost-win64_release_1.5.1/src/learner.cc:1115: Starting in XGBoost 1.3.0, the default evaluation metric used with the objective 'binary:logistic' was changed from 'error' to 'logloss'. Explicitly set eval_metric if you'd like to restore the old behavior.\n",
      "\n",
      "[EPOCH:70]\t Classifier Train Accuracy:1.0000\n",
      "Update valid result\n"
     ]
    },
    {
     "name": "stderr",
     "output_type": "stream",
     "text": [
      "100%|██████████| 14/14 [00:00<00:00, 74.47it/s]\n"
     ]
    },
    {
     "name": "stdout",
     "output_type": "stream",
     "text": [
      "\n",
      "[EPOCH:70]\t Classifier Valid Accuracy:0.8027\n"
     ]
    },
    {
     "name": "stderr",
     "output_type": "stream",
     "text": [
      "100%|██████████| 15/15 [00:00<00:00, 114.50it/s]\n",
      " 23%|██▎       | 70/300 [07:35<27:16,  7.11s/it]"
     ]
    },
    {
     "name": "stdout",
     "output_type": "stream",
     "text": [
      "\n",
      "[EPOCH:70]\t Classifier Test Accuracy:0.8776\n"
     ]
    },
    {
     "name": "stderr",
     "output_type": "stream",
     "text": [
      " 24%|██▎       | 71/300 [07:41<25:39,  6.72s/it]"
     ]
    },
    {
     "name": "stdout",
     "output_type": "stream",
     "text": [
      "\n",
      "[EPOCH:71]\t Train Loss:0.0012\n"
     ]
    },
    {
     "name": "stderr",
     "output_type": "stream",
     "text": [
      " 24%|██▍       | 72/300 [07:46<24:33,  6.46s/it]"
     ]
    },
    {
     "name": "stdout",
     "output_type": "stream",
     "text": [
      "\n",
      "[EPOCH:72]\t Train Loss:0.0003\n"
     ]
    },
    {
     "name": "stderr",
     "output_type": "stream",
     "text": [
      " 24%|██▍       | 73/300 [07:53<24:02,  6.35s/it]"
     ]
    },
    {
     "name": "stdout",
     "output_type": "stream",
     "text": [
      "\n",
      "[EPOCH:73]\t Train Loss:0.0003\n"
     ]
    },
    {
     "name": "stderr",
     "output_type": "stream",
     "text": [
      " 25%|██▍       | 74/300 [07:59<23:31,  6.24s/it]"
     ]
    },
    {
     "name": "stdout",
     "output_type": "stream",
     "text": [
      "\n",
      "[EPOCH:74]\t Train Loss:0.0005\n"
     ]
    },
    {
     "name": "stderr",
     "output_type": "stream",
     "text": [
      " 25%|██▌       | 75/300 [08:05<23:39,  6.31s/it]"
     ]
    },
    {
     "name": "stdout",
     "output_type": "stream",
     "text": [
      "\n",
      "[EPOCH:75]\t Train Loss:0.0006\n"
     ]
    },
    {
     "name": "stderr",
     "output_type": "stream",
     "text": [
      " 25%|██▌       | 76/300 [08:11<23:36,  6.33s/it]"
     ]
    },
    {
     "name": "stdout",
     "output_type": "stream",
     "text": [
      "\n",
      "[EPOCH:76]\t Train Loss:0.0001\n"
     ]
    },
    {
     "name": "stderr",
     "output_type": "stream",
     "text": [
      " 26%|██▌       | 77/300 [08:18<23:21,  6.28s/it]"
     ]
    },
    {
     "name": "stdout",
     "output_type": "stream",
     "text": [
      "\n",
      "[EPOCH:77]\t Train Loss:0.0008\n"
     ]
    },
    {
     "name": "stderr",
     "output_type": "stream",
     "text": [
      " 26%|██▌       | 78/300 [08:24<23:15,  6.29s/it]"
     ]
    },
    {
     "name": "stdout",
     "output_type": "stream",
     "text": [
      "\n",
      "[EPOCH:78]\t Train Loss:0.0015\n"
     ]
    },
    {
     "name": "stderr",
     "output_type": "stream",
     "text": [
      " 26%|██▋       | 79/300 [08:30<23:21,  6.34s/it]"
     ]
    },
    {
     "name": "stdout",
     "output_type": "stream",
     "text": [
      "\n",
      "[EPOCH:79]\t Train Loss:0.0015\n",
      "\n",
      "[EPOCH:80]\t Train Loss:0.0008\n",
      "Update train result\n"
     ]
    },
    {
     "name": "stderr",
     "output_type": "stream",
     "text": [
      "100%|██████████| 51/51 [00:03<00:00, 13.71it/s]\n"
     ]
    },
    {
     "name": "stdout",
     "output_type": "stream",
     "text": [
      "[21:12:51] WARNING: C:/Users/Administrator/workspace/xgboost-win64_release_1.5.1/src/learner.cc:1115: Starting in XGBoost 1.3.0, the default evaluation metric used with the objective 'binary:logistic' was changed from 'error' to 'logloss'. Explicitly set eval_metric if you'd like to restore the old behavior.\n",
      "\n",
      "[EPOCH:80]\t Classifier Train Accuracy:1.0000\n",
      "Update valid result\n"
     ]
    },
    {
     "name": "stderr",
     "output_type": "stream",
     "text": [
      "100%|██████████| 14/14 [00:00<00:00, 110.24it/s]\n"
     ]
    },
    {
     "name": "stdout",
     "output_type": "stream",
     "text": [
      "\n",
      "[EPOCH:80]\t Classifier Valid Accuracy:0.8610\n"
     ]
    },
    {
     "name": "stderr",
     "output_type": "stream",
     "text": [
      "100%|██████████| 15/15 [00:00<00:00, 112.78it/s]\n",
      " 27%|██▋       | 80/300 [08:41<27:31,  7.51s/it]"
     ]
    },
    {
     "name": "stdout",
     "output_type": "stream",
     "text": [
      "\n",
      "[EPOCH:80]\t Classifier Test Accuracy:0.8692\n"
     ]
    },
    {
     "name": "stderr",
     "output_type": "stream",
     "text": [
      " 27%|██▋       | 81/300 [08:47<25:45,  7.06s/it]"
     ]
    },
    {
     "name": "stdout",
     "output_type": "stream",
     "text": [
      "\n",
      "[EPOCH:81]\t Train Loss:0.0006\n"
     ]
    },
    {
     "name": "stderr",
     "output_type": "stream",
     "text": [
      " 27%|██▋       | 82/300 [08:53<24:30,  6.75s/it]"
     ]
    },
    {
     "name": "stdout",
     "output_type": "stream",
     "text": [
      "\n",
      "[EPOCH:82]\t Train Loss:0.0004\n"
     ]
    },
    {
     "name": "stderr",
     "output_type": "stream",
     "text": [
      " 28%|██▊       | 83/300 [08:59<23:49,  6.59s/it]"
     ]
    },
    {
     "name": "stdout",
     "output_type": "stream",
     "text": [
      "\n",
      "[EPOCH:83]\t Train Loss:0.0003\n"
     ]
    },
    {
     "name": "stderr",
     "output_type": "stream",
     "text": [
      " 28%|██▊       | 84/300 [09:05<23:21,  6.49s/it]"
     ]
    },
    {
     "name": "stdout",
     "output_type": "stream",
     "text": [
      "\n",
      "[EPOCH:84]\t Train Loss:0.0009\n"
     ]
    },
    {
     "name": "stderr",
     "output_type": "stream",
     "text": [
      " 28%|██▊       | 85/300 [09:11<22:45,  6.35s/it]"
     ]
    },
    {
     "name": "stdout",
     "output_type": "stream",
     "text": [
      "\n",
      "[EPOCH:85]\t Train Loss:0.0009\n"
     ]
    },
    {
     "name": "stderr",
     "output_type": "stream",
     "text": [
      " 29%|██▊       | 86/300 [09:17<22:12,  6.23s/it]"
     ]
    },
    {
     "name": "stdout",
     "output_type": "stream",
     "text": [
      "\n",
      "[EPOCH:86]\t Train Loss:0.0004\n"
     ]
    },
    {
     "name": "stderr",
     "output_type": "stream",
     "text": [
      " 29%|██▉       | 87/300 [09:23<21:55,  6.17s/it]"
     ]
    },
    {
     "name": "stdout",
     "output_type": "stream",
     "text": [
      "\n",
      "[EPOCH:87]\t Train Loss:0.0002\n"
     ]
    },
    {
     "name": "stderr",
     "output_type": "stream",
     "text": [
      " 29%|██▉       | 88/300 [09:29<21:47,  6.17s/it]"
     ]
    },
    {
     "name": "stdout",
     "output_type": "stream",
     "text": [
      "\n",
      "[EPOCH:88]\t Train Loss:0.0005\n"
     ]
    },
    {
     "name": "stderr",
     "output_type": "stream",
     "text": [
      " 30%|██▉       | 89/300 [09:35<21:29,  6.11s/it]"
     ]
    },
    {
     "name": "stdout",
     "output_type": "stream",
     "text": [
      "\n",
      "[EPOCH:89]\t Train Loss:0.0006\n",
      "\n",
      "[EPOCH:90]\t Train Loss:0.0003\n",
      "Update train result\n"
     ]
    },
    {
     "name": "stderr",
     "output_type": "stream",
     "text": [
      "100%|██████████| 51/51 [00:03<00:00, 13.15it/s]\n"
     ]
    },
    {
     "name": "stdout",
     "output_type": "stream",
     "text": [
      "[21:13:56] WARNING: C:/Users/Administrator/workspace/xgboost-win64_release_1.5.1/src/learner.cc:1115: Starting in XGBoost 1.3.0, the default evaluation metric used with the objective 'binary:logistic' was changed from 'error' to 'logloss'. Explicitly set eval_metric if you'd like to restore the old behavior.\n",
      "\n",
      "[EPOCH:90]\t Classifier Train Accuracy:1.0000\n",
      "Update valid result\n"
     ]
    },
    {
     "name": "stderr",
     "output_type": "stream",
     "text": [
      "100%|██████████| 14/14 [00:00<00:00, 107.68it/s]\n"
     ]
    },
    {
     "name": "stdout",
     "output_type": "stream",
     "text": [
      "\n",
      "[EPOCH:90]\t Classifier Valid Accuracy:0.8161\n"
     ]
    },
    {
     "name": "stderr",
     "output_type": "stream",
     "text": [
      "100%|██████████| 15/15 [00:00<00:00, 110.96it/s]\n",
      " 30%|███       | 90/300 [09:45<25:41,  7.34s/it]"
     ]
    },
    {
     "name": "stdout",
     "output_type": "stream",
     "text": [
      "\n",
      "[EPOCH:90]\t Classifier Test Accuracy:0.8186\n"
     ]
    },
    {
     "name": "stderr",
     "output_type": "stream",
     "text": [
      " 30%|███       | 91/300 [09:52<24:14,  6.96s/it]"
     ]
    },
    {
     "name": "stdout",
     "output_type": "stream",
     "text": [
      "\n",
      "[EPOCH:91]\t Train Loss:0.0002\n"
     ]
    },
    {
     "name": "stderr",
     "output_type": "stream",
     "text": [
      " 31%|███       | 92/300 [09:58<23:34,  6.80s/it]"
     ]
    },
    {
     "name": "stdout",
     "output_type": "stream",
     "text": [
      "\n",
      "[EPOCH:92]\t Train Loss:0.0026\n"
     ]
    },
    {
     "name": "stderr",
     "output_type": "stream",
     "text": [
      " 31%|███       | 93/300 [10:04<23:04,  6.69s/it]"
     ]
    },
    {
     "name": "stdout",
     "output_type": "stream",
     "text": [
      "\n",
      "[EPOCH:93]\t Train Loss:0.0014\n"
     ]
    },
    {
     "name": "stderr",
     "output_type": "stream",
     "text": [
      " 31%|███▏      | 94/300 [10:11<22:25,  6.53s/it]"
     ]
    },
    {
     "name": "stdout",
     "output_type": "stream",
     "text": [
      "\n",
      "[EPOCH:94]\t Train Loss:0.0034\n"
     ]
    },
    {
     "name": "stderr",
     "output_type": "stream",
     "text": [
      " 32%|███▏      | 95/300 [10:16<21:43,  6.36s/it]"
     ]
    },
    {
     "name": "stdout",
     "output_type": "stream",
     "text": [
      "\n",
      "[EPOCH:95]\t Train Loss:0.0043\n"
     ]
    },
    {
     "name": "stderr",
     "output_type": "stream",
     "text": [
      " 32%|███▏      | 96/300 [10:23<21:17,  6.26s/it]"
     ]
    },
    {
     "name": "stdout",
     "output_type": "stream",
     "text": [
      "\n",
      "[EPOCH:96]\t Train Loss:0.0008\n"
     ]
    },
    {
     "name": "stderr",
     "output_type": "stream",
     "text": [
      " 32%|███▏      | 97/300 [10:29<20:55,  6.19s/it]"
     ]
    },
    {
     "name": "stdout",
     "output_type": "stream",
     "text": [
      "\n",
      "[EPOCH:97]\t Train Loss:0.0004\n"
     ]
    },
    {
     "name": "stderr",
     "output_type": "stream",
     "text": [
      " 33%|███▎      | 98/300 [10:35<20:38,  6.13s/it]"
     ]
    },
    {
     "name": "stdout",
     "output_type": "stream",
     "text": [
      "\n",
      "[EPOCH:98]\t Train Loss:0.0003\n"
     ]
    },
    {
     "name": "stderr",
     "output_type": "stream",
     "text": [
      " 33%|███▎      | 99/300 [10:41<20:26,  6.10s/it]"
     ]
    },
    {
     "name": "stdout",
     "output_type": "stream",
     "text": [
      "\n",
      "[EPOCH:99]\t Train Loss:0.0003\n",
      "\n",
      "[EPOCH:100]\t Train Loss:0.0001\n",
      "Update train result\n"
     ]
    },
    {
     "name": "stderr",
     "output_type": "stream",
     "text": [
      "100%|██████████| 51/51 [00:03<00:00, 13.92it/s]\n"
     ]
    },
    {
     "name": "stdout",
     "output_type": "stream",
     "text": [
      "[21:15:01] WARNING: C:/Users/Administrator/workspace/xgboost-win64_release_1.5.1/src/learner.cc:1115: Starting in XGBoost 1.3.0, the default evaluation metric used with the objective 'binary:logistic' was changed from 'error' to 'logloss'. Explicitly set eval_metric if you'd like to restore the old behavior.\n",
      "\n",
      "[EPOCH:100]\t Classifier Train Accuracy:1.0000\n",
      "Update valid result\n"
     ]
    },
    {
     "name": "stderr",
     "output_type": "stream",
     "text": [
      "100%|██████████| 14/14 [00:00<00:00, 106.06it/s]\n"
     ]
    },
    {
     "name": "stdout",
     "output_type": "stream",
     "text": [
      "\n",
      "[EPOCH:100]\t Classifier Valid Accuracy:0.8520\n"
     ]
    },
    {
     "name": "stderr",
     "output_type": "stream",
     "text": [
      "100%|██████████| 15/15 [00:00<00:00, 107.91it/s]\n",
      " 33%|███▎      | 100/300 [10:51<24:13,  7.27s/it]"
     ]
    },
    {
     "name": "stdout",
     "output_type": "stream",
     "text": [
      "\n",
      "[EPOCH:100]\t Classifier Test Accuracy:0.8776\n"
     ]
    },
    {
     "name": "stderr",
     "output_type": "stream",
     "text": [
      " 34%|███▎      | 101/300 [10:57<22:54,  6.91s/it]"
     ]
    },
    {
     "name": "stdout",
     "output_type": "stream",
     "text": [
      "\n",
      "[EPOCH:101]\t Train Loss:0.0005\n"
     ]
    },
    {
     "name": "stderr",
     "output_type": "stream",
     "text": [
      " 34%|███▍      | 102/300 [11:03<21:52,  6.63s/it]"
     ]
    },
    {
     "name": "stdout",
     "output_type": "stream",
     "text": [
      "\n",
      "[EPOCH:102]\t Train Loss:0.0009\n"
     ]
    },
    {
     "name": "stderr",
     "output_type": "stream",
     "text": [
      " 34%|███▍      | 103/300 [11:09<21:10,  6.45s/it]"
     ]
    },
    {
     "name": "stdout",
     "output_type": "stream",
     "text": [
      "\n",
      "[EPOCH:103]\t Train Loss:0.0003\n"
     ]
    },
    {
     "name": "stderr",
     "output_type": "stream",
     "text": [
      " 35%|███▍      | 104/300 [11:15<20:37,  6.32s/it]"
     ]
    },
    {
     "name": "stdout",
     "output_type": "stream",
     "text": [
      "\n",
      "[EPOCH:104]\t Train Loss:0.0002\n"
     ]
    },
    {
     "name": "stderr",
     "output_type": "stream",
     "text": [
      " 35%|███▌      | 105/300 [11:21<20:14,  6.23s/it]"
     ]
    },
    {
     "name": "stdout",
     "output_type": "stream",
     "text": [
      "\n",
      "[EPOCH:105]\t Train Loss:0.0001\n"
     ]
    },
    {
     "name": "stderr",
     "output_type": "stream",
     "text": [
      " 35%|███▌      | 106/300 [11:27<19:54,  6.16s/it]"
     ]
    },
    {
     "name": "stdout",
     "output_type": "stream",
     "text": [
      "\n",
      "[EPOCH:106]\t Train Loss:0.0006\n"
     ]
    },
    {
     "name": "stderr",
     "output_type": "stream",
     "text": [
      " 36%|███▌      | 107/300 [11:33<19:40,  6.12s/it]"
     ]
    },
    {
     "name": "stdout",
     "output_type": "stream",
     "text": [
      "\n",
      "[EPOCH:107]\t Train Loss:0.0002\n"
     ]
    },
    {
     "name": "stderr",
     "output_type": "stream",
     "text": [
      " 36%|███▌      | 108/300 [11:39<19:25,  6.07s/it]"
     ]
    },
    {
     "name": "stdout",
     "output_type": "stream",
     "text": [
      "\n",
      "[EPOCH:108]\t Train Loss:0.0005\n"
     ]
    },
    {
     "name": "stderr",
     "output_type": "stream",
     "text": [
      " 36%|███▋      | 109/300 [11:45<19:15,  6.05s/it]"
     ]
    },
    {
     "name": "stdout",
     "output_type": "stream",
     "text": [
      "\n",
      "[EPOCH:109]\t Train Loss:0.0005\n",
      "\n",
      "[EPOCH:110]\t Train Loss:0.0006\n",
      "Update train result\n"
     ]
    },
    {
     "name": "stderr",
     "output_type": "stream",
     "text": [
      "100%|██████████| 51/51 [00:03<00:00, 13.84it/s]\n"
     ]
    },
    {
     "name": "stdout",
     "output_type": "stream",
     "text": [
      "[21:16:05] WARNING: C:/Users/Administrator/workspace/xgboost-win64_release_1.5.1/src/learner.cc:1115: Starting in XGBoost 1.3.0, the default evaluation metric used with the objective 'binary:logistic' was changed from 'error' to 'logloss'. Explicitly set eval_metric if you'd like to restore the old behavior.\n",
      "\n",
      "[EPOCH:110]\t Classifier Train Accuracy:1.0000\n",
      "Update valid result\n"
     ]
    },
    {
     "name": "stderr",
     "output_type": "stream",
     "text": [
      "100%|██████████| 14/14 [00:00<00:00, 107.69it/s]\n"
     ]
    },
    {
     "name": "stdout",
     "output_type": "stream",
     "text": [
      "\n",
      "[EPOCH:110]\t Classifier Valid Accuracy:0.7848\n"
     ]
    },
    {
     "name": "stderr",
     "output_type": "stream",
     "text": [
      "100%|██████████| 15/15 [00:00<00:00, 88.76it/s]\n",
      " 37%|███▋      | 110/300 [11:55<22:57,  7.25s/it]"
     ]
    },
    {
     "name": "stdout",
     "output_type": "stream",
     "text": [
      "\n",
      "[EPOCH:110]\t Classifier Test Accuracy:0.8354\n"
     ]
    },
    {
     "name": "stderr",
     "output_type": "stream",
     "text": [
      " 37%|███▋      | 111/300 [12:01<21:38,  6.87s/it]"
     ]
    },
    {
     "name": "stdout",
     "output_type": "stream",
     "text": [
      "\n",
      "[EPOCH:111]\t Train Loss:0.0002\n"
     ]
    },
    {
     "name": "stderr",
     "output_type": "stream",
     "text": [
      " 37%|███▋      | 112/300 [12:07<20:44,  6.62s/it]"
     ]
    },
    {
     "name": "stdout",
     "output_type": "stream",
     "text": [
      "\n",
      "[EPOCH:112]\t Train Loss:0.0001\n"
     ]
    },
    {
     "name": "stderr",
     "output_type": "stream",
     "text": [
      " 38%|███▊      | 113/300 [12:13<20:01,  6.42s/it]"
     ]
    },
    {
     "name": "stdout",
     "output_type": "stream",
     "text": [
      "\n",
      "[EPOCH:113]\t Train Loss:0.0011\n"
     ]
    },
    {
     "name": "stderr",
     "output_type": "stream",
     "text": [
      " 38%|███▊      | 114/300 [12:19<19:32,  6.30s/it]"
     ]
    },
    {
     "name": "stdout",
     "output_type": "stream",
     "text": [
      "\n",
      "[EPOCH:114]\t Train Loss:0.0009\n"
     ]
    },
    {
     "name": "stderr",
     "output_type": "stream",
     "text": [
      " 38%|███▊      | 115/300 [12:25<19:09,  6.21s/it]"
     ]
    },
    {
     "name": "stdout",
     "output_type": "stream",
     "text": [
      "\n",
      "[EPOCH:115]\t Train Loss:0.0003\n"
     ]
    },
    {
     "name": "stderr",
     "output_type": "stream",
     "text": [
      " 39%|███▊      | 116/300 [12:31<18:50,  6.14s/it]"
     ]
    },
    {
     "name": "stdout",
     "output_type": "stream",
     "text": [
      "\n",
      "[EPOCH:116]\t Train Loss:0.0001\n"
     ]
    },
    {
     "name": "stderr",
     "output_type": "stream",
     "text": [
      " 39%|███▉      | 117/300 [12:37<18:55,  6.21s/it]"
     ]
    },
    {
     "name": "stdout",
     "output_type": "stream",
     "text": [
      "\n",
      "[EPOCH:117]\t Train Loss:0.0002\n"
     ]
    },
    {
     "name": "stderr",
     "output_type": "stream",
     "text": [
      " 39%|███▉      | 118/300 [12:43<18:47,  6.20s/it]"
     ]
    },
    {
     "name": "stdout",
     "output_type": "stream",
     "text": [
      "\n",
      "[EPOCH:118]\t Train Loss:0.0008\n"
     ]
    },
    {
     "name": "stderr",
     "output_type": "stream",
     "text": [
      " 40%|███▉      | 119/300 [12:49<18:29,  6.13s/it]"
     ]
    },
    {
     "name": "stdout",
     "output_type": "stream",
     "text": [
      "\n",
      "[EPOCH:119]\t Train Loss:0.0000\n",
      "\n",
      "[EPOCH:120]\t Train Loss:0.0006\n",
      "Update train result\n"
     ]
    },
    {
     "name": "stderr",
     "output_type": "stream",
     "text": [
      "100%|██████████| 51/51 [00:03<00:00, 13.83it/s]\n"
     ]
    },
    {
     "name": "stdout",
     "output_type": "stream",
     "text": [
      "[21:17:10] WARNING: C:/Users/Administrator/workspace/xgboost-win64_release_1.5.1/src/learner.cc:1115: Starting in XGBoost 1.3.0, the default evaluation metric used with the objective 'binary:logistic' was changed from 'error' to 'logloss'. Explicitly set eval_metric if you'd like to restore the old behavior.\n",
      "\n",
      "[EPOCH:120]\t Classifier Train Accuracy:1.0000\n",
      "Update valid result\n"
     ]
    },
    {
     "name": "stderr",
     "output_type": "stream",
     "text": [
      "100%|██████████| 14/14 [00:00<00:00, 109.38it/s]\n"
     ]
    },
    {
     "name": "stdout",
     "output_type": "stream",
     "text": [
      "\n",
      "[EPOCH:120]\t Classifier Valid Accuracy:0.7848\n"
     ]
    },
    {
     "name": "stderr",
     "output_type": "stream",
     "text": [
      "100%|██████████| 15/15 [00:00<00:00, 88.24it/s]\n",
      " 40%|████      | 120/300 [12:59<21:53,  7.30s/it]"
     ]
    },
    {
     "name": "stdout",
     "output_type": "stream",
     "text": [
      "\n",
      "[EPOCH:120]\t Classifier Test Accuracy:0.8354\n"
     ]
    },
    {
     "name": "stderr",
     "output_type": "stream",
     "text": [
      " 40%|████      | 121/300 [13:05<20:49,  6.98s/it]"
     ]
    },
    {
     "name": "stdout",
     "output_type": "stream",
     "text": [
      "\n",
      "[EPOCH:121]\t Train Loss:0.0003\n"
     ]
    },
    {
     "name": "stderr",
     "output_type": "stream",
     "text": [
      " 41%|████      | 122/300 [13:12<19:52,  6.70s/it]"
     ]
    },
    {
     "name": "stdout",
     "output_type": "stream",
     "text": [
      "\n",
      "[EPOCH:122]\t Train Loss:0.0005\n"
     ]
    },
    {
     "name": "stderr",
     "output_type": "stream",
     "text": [
      " 41%|████      | 123/300 [13:18<19:18,  6.55s/it]"
     ]
    },
    {
     "name": "stdout",
     "output_type": "stream",
     "text": [
      "\n",
      "[EPOCH:123]\t Train Loss:0.0002\n"
     ]
    },
    {
     "name": "stderr",
     "output_type": "stream",
     "text": [
      " 41%|████▏     | 124/300 [13:24<18:45,  6.40s/it]"
     ]
    },
    {
     "name": "stdout",
     "output_type": "stream",
     "text": [
      "\n",
      "[EPOCH:124]\t Train Loss:0.0012\n"
     ]
    },
    {
     "name": "stderr",
     "output_type": "stream",
     "text": [
      " 42%|████▏     | 125/300 [13:30<18:18,  6.28s/it]"
     ]
    },
    {
     "name": "stdout",
     "output_type": "stream",
     "text": [
      "\n",
      "[EPOCH:125]\t Train Loss:0.0011\n"
     ]
    },
    {
     "name": "stderr",
     "output_type": "stream",
     "text": [
      " 42%|████▏     | 126/300 [13:36<17:56,  6.19s/it]"
     ]
    },
    {
     "name": "stdout",
     "output_type": "stream",
     "text": [
      "\n",
      "[EPOCH:126]\t Train Loss:0.0003\n"
     ]
    },
    {
     "name": "stderr",
     "output_type": "stream",
     "text": [
      " 42%|████▏     | 127/300 [13:42<17:39,  6.13s/it]"
     ]
    },
    {
     "name": "stdout",
     "output_type": "stream",
     "text": [
      "\n",
      "[EPOCH:127]\t Train Loss:0.0001\n"
     ]
    },
    {
     "name": "stderr",
     "output_type": "stream",
     "text": [
      " 43%|████▎     | 128/300 [13:48<17:28,  6.10s/it]"
     ]
    },
    {
     "name": "stdout",
     "output_type": "stream",
     "text": [
      "\n",
      "[EPOCH:128]\t Train Loss:0.0004\n"
     ]
    },
    {
     "name": "stderr",
     "output_type": "stream",
     "text": [
      " 43%|████▎     | 129/300 [13:54<17:36,  6.18s/it]"
     ]
    },
    {
     "name": "stdout",
     "output_type": "stream",
     "text": [
      "\n",
      "[EPOCH:129]\t Train Loss:0.0003\n",
      "\n",
      "[EPOCH:130]\t Train Loss:0.0018\n",
      "Update train result\n"
     ]
    },
    {
     "name": "stderr",
     "output_type": "stream",
     "text": [
      "100%|██████████| 51/51 [00:03<00:00, 13.73it/s]\n"
     ]
    },
    {
     "name": "stdout",
     "output_type": "stream",
     "text": [
      "[21:18:15] WARNING: C:/Users/Administrator/workspace/xgboost-win64_release_1.5.1/src/learner.cc:1115: Starting in XGBoost 1.3.0, the default evaluation metric used with the objective 'binary:logistic' was changed from 'error' to 'logloss'. Explicitly set eval_metric if you'd like to restore the old behavior.\n",
      "\n",
      "[EPOCH:130]\t Classifier Train Accuracy:1.0000\n",
      "Update valid result\n"
     ]
    },
    {
     "name": "stderr",
     "output_type": "stream",
     "text": [
      "100%|██████████| 14/14 [00:00<00:00, 91.50it/s]\n"
     ]
    },
    {
     "name": "stdout",
     "output_type": "stream",
     "text": [
      "\n",
      "[EPOCH:130]\t Classifier Valid Accuracy:0.8565\n"
     ]
    },
    {
     "name": "stderr",
     "output_type": "stream",
     "text": [
      "100%|██████████| 15/15 [00:00<00:00, 111.94it/s]\n",
      " 43%|████▎     | 130/300 [14:04<20:49,  7.35s/it]"
     ]
    },
    {
     "name": "stdout",
     "output_type": "stream",
     "text": [
      "\n",
      "[EPOCH:130]\t Classifier Test Accuracy:0.8312\n"
     ]
    },
    {
     "name": "stderr",
     "output_type": "stream",
     "text": [
      " 44%|████▎     | 131/300 [14:10<19:34,  6.95s/it]"
     ]
    },
    {
     "name": "stdout",
     "output_type": "stream",
     "text": [
      "\n",
      "[EPOCH:131]\t Train Loss:0.0019\n"
     ]
    },
    {
     "name": "stderr",
     "output_type": "stream",
     "text": [
      " 44%|████▍     | 132/300 [14:16<18:46,  6.70s/it]"
     ]
    },
    {
     "name": "stdout",
     "output_type": "stream",
     "text": [
      "\n",
      "[EPOCH:132]\t Train Loss:0.0006\n"
     ]
    },
    {
     "name": "stderr",
     "output_type": "stream",
     "text": [
      " 44%|████▍     | 133/300 [14:22<18:11,  6.53s/it]"
     ]
    },
    {
     "name": "stdout",
     "output_type": "stream",
     "text": [
      "\n",
      "[EPOCH:133]\t Train Loss:0.0002\n"
     ]
    },
    {
     "name": "stderr",
     "output_type": "stream",
     "text": [
      " 45%|████▍     | 134/300 [14:29<17:46,  6.43s/it]"
     ]
    },
    {
     "name": "stdout",
     "output_type": "stream",
     "text": [
      "\n",
      "[EPOCH:134]\t Train Loss:0.0004\n"
     ]
    },
    {
     "name": "stderr",
     "output_type": "stream",
     "text": [
      " 45%|████▌     | 135/300 [14:35<17:21,  6.31s/it]"
     ]
    },
    {
     "name": "stdout",
     "output_type": "stream",
     "text": [
      "\n",
      "[EPOCH:135]\t Train Loss:0.0000\n"
     ]
    },
    {
     "name": "stderr",
     "output_type": "stream",
     "text": [
      " 45%|████▌     | 136/300 [14:41<16:56,  6.20s/it]"
     ]
    },
    {
     "name": "stdout",
     "output_type": "stream",
     "text": [
      "\n",
      "[EPOCH:136]\t Train Loss:0.0006\n"
     ]
    },
    {
     "name": "stderr",
     "output_type": "stream",
     "text": [
      " 46%|████▌     | 137/300 [14:47<16:37,  6.12s/it]"
     ]
    },
    {
     "name": "stdout",
     "output_type": "stream",
     "text": [
      "\n",
      "[EPOCH:137]\t Train Loss:0.0011\n"
     ]
    },
    {
     "name": "stderr",
     "output_type": "stream",
     "text": [
      " 46%|████▌     | 138/300 [14:52<16:22,  6.07s/it]"
     ]
    },
    {
     "name": "stdout",
     "output_type": "stream",
     "text": [
      "\n",
      "[EPOCH:138]\t Train Loss:0.0007\n"
     ]
    },
    {
     "name": "stderr",
     "output_type": "stream",
     "text": [
      " 46%|████▋     | 139/300 [14:58<16:09,  6.02s/it]"
     ]
    },
    {
     "name": "stdout",
     "output_type": "stream",
     "text": [
      "\n",
      "[EPOCH:139]\t Train Loss:0.0001\n",
      "\n",
      "[EPOCH:140]\t Train Loss:0.0003\n",
      "Update train result\n"
     ]
    },
    {
     "name": "stderr",
     "output_type": "stream",
     "text": [
      "100%|██████████| 51/51 [00:03<00:00, 13.99it/s]\n"
     ]
    },
    {
     "name": "stdout",
     "output_type": "stream",
     "text": [
      "[21:19:19] WARNING: C:/Users/Administrator/workspace/xgboost-win64_release_1.5.1/src/learner.cc:1115: Starting in XGBoost 1.3.0, the default evaluation metric used with the objective 'binary:logistic' was changed from 'error' to 'logloss'. Explicitly set eval_metric if you'd like to restore the old behavior.\n",
      "\n",
      "[EPOCH:140]\t Classifier Train Accuracy:1.0000\n",
      "Update valid result\n"
     ]
    },
    {
     "name": "stderr",
     "output_type": "stream",
     "text": [
      "100%|██████████| 14/14 [00:00<00:00, 110.24it/s]\n"
     ]
    },
    {
     "name": "stdout",
     "output_type": "stream",
     "text": [
      "\n",
      "[EPOCH:140]\t Classifier Valid Accuracy:0.8789\n"
     ]
    },
    {
     "name": "stderr",
     "output_type": "stream",
     "text": [
      "100%|██████████| 15/15 [00:00<00:00, 110.29it/s]\n",
      " 47%|████▋     | 140/300 [15:08<19:10,  7.19s/it]"
     ]
    },
    {
     "name": "stdout",
     "output_type": "stream",
     "text": [
      "\n",
      "[EPOCH:140]\t Classifier Test Accuracy:0.8692\n"
     ]
    },
    {
     "name": "stderr",
     "output_type": "stream",
     "text": [
      " 47%|████▋     | 141/300 [15:14<18:01,  6.80s/it]"
     ]
    },
    {
     "name": "stdout",
     "output_type": "stream",
     "text": [
      "\n",
      "[EPOCH:141]\t Train Loss:0.0002\n"
     ]
    },
    {
     "name": "stderr",
     "output_type": "stream",
     "text": [
      " 47%|████▋     | 142/300 [15:21<17:33,  6.67s/it]"
     ]
    },
    {
     "name": "stdout",
     "output_type": "stream",
     "text": [
      "\n",
      "[EPOCH:142]\t Train Loss:0.0000\n"
     ]
    },
    {
     "name": "stderr",
     "output_type": "stream",
     "text": [
      " 48%|████▊     | 143/300 [15:27<17:07,  6.55s/it]"
     ]
    },
    {
     "name": "stdout",
     "output_type": "stream",
     "text": [
      "\n",
      "[EPOCH:143]\t Train Loss:0.0000\n"
     ]
    },
    {
     "name": "stderr",
     "output_type": "stream",
     "text": [
      " 48%|████▊     | 144/300 [15:33<16:46,  6.45s/it]"
     ]
    },
    {
     "name": "stdout",
     "output_type": "stream",
     "text": [
      "\n",
      "[EPOCH:144]\t Train Loss:0.0000\n"
     ]
    },
    {
     "name": "stderr",
     "output_type": "stream",
     "text": [
      " 48%|████▊     | 145/300 [15:39<16:28,  6.38s/it]"
     ]
    },
    {
     "name": "stdout",
     "output_type": "stream",
     "text": [
      "\n",
      "[EPOCH:145]\t Train Loss:0.0002\n"
     ]
    },
    {
     "name": "stderr",
     "output_type": "stream",
     "text": [
      " 49%|████▊     | 146/300 [15:45<16:14,  6.33s/it]"
     ]
    },
    {
     "name": "stdout",
     "output_type": "stream",
     "text": [
      "\n",
      "[EPOCH:146]\t Train Loss:0.0016\n"
     ]
    },
    {
     "name": "stderr",
     "output_type": "stream",
     "text": [
      " 49%|████▉     | 147/300 [15:52<16:01,  6.28s/it]"
     ]
    },
    {
     "name": "stdout",
     "output_type": "stream",
     "text": [
      "\n",
      "[EPOCH:147]\t Train Loss:0.0005\n"
     ]
    },
    {
     "name": "stderr",
     "output_type": "stream",
     "text": [
      " 49%|████▉     | 148/300 [15:58<15:48,  6.24s/it]"
     ]
    },
    {
     "name": "stdout",
     "output_type": "stream",
     "text": [
      "\n",
      "[EPOCH:148]\t Train Loss:0.0005\n"
     ]
    },
    {
     "name": "stderr",
     "output_type": "stream",
     "text": [
      " 50%|████▉     | 149/300 [16:04<15:44,  6.26s/it]"
     ]
    },
    {
     "name": "stdout",
     "output_type": "stream",
     "text": [
      "\n",
      "[EPOCH:149]\t Train Loss:0.0008\n",
      "\n",
      "[EPOCH:150]\t Train Loss:0.0006\n",
      "Update train result\n"
     ]
    },
    {
     "name": "stderr",
     "output_type": "stream",
     "text": [
      "100%|██████████| 51/51 [00:03<00:00, 13.72it/s]\n"
     ]
    },
    {
     "name": "stdout",
     "output_type": "stream",
     "text": [
      "[21:20:25] WARNING: C:/Users/Administrator/workspace/xgboost-win64_release_1.5.1/src/learner.cc:1115: Starting in XGBoost 1.3.0, the default evaluation metric used with the objective 'binary:logistic' was changed from 'error' to 'logloss'. Explicitly set eval_metric if you'd like to restore the old behavior.\n",
      "\n",
      "[EPOCH:150]\t Classifier Train Accuracy:1.0000\n",
      "Update valid result\n"
     ]
    },
    {
     "name": "stderr",
     "output_type": "stream",
     "text": [
      "100%|██████████| 14/14 [00:00<00:00, 91.50it/s]\n"
     ]
    },
    {
     "name": "stdout",
     "output_type": "stream",
     "text": [
      "\n",
      "[EPOCH:150]\t Classifier Valid Accuracy:0.8117\n"
     ]
    },
    {
     "name": "stderr",
     "output_type": "stream",
     "text": [
      "100%|██████████| 15/15 [00:00<00:00, 107.91it/s]\n",
      " 50%|█████     | 150/300 [16:14<18:33,  7.42s/it]"
     ]
    },
    {
     "name": "stdout",
     "output_type": "stream",
     "text": [
      "\n",
      "[EPOCH:150]\t Classifier Test Accuracy:0.8312\n"
     ]
    },
    {
     "name": "stderr",
     "output_type": "stream",
     "text": [
      " 50%|█████     | 151/300 [16:20<17:20,  6.98s/it]"
     ]
    },
    {
     "name": "stdout",
     "output_type": "stream",
     "text": [
      "\n",
      "[EPOCH:151]\t Train Loss:0.0007\n"
     ]
    },
    {
     "name": "stderr",
     "output_type": "stream",
     "text": [
      " 51%|█████     | 152/300 [16:26<16:28,  6.68s/it]"
     ]
    },
    {
     "name": "stdout",
     "output_type": "stream",
     "text": [
      "\n",
      "[EPOCH:152]\t Train Loss:0.0008\n"
     ]
    },
    {
     "name": "stderr",
     "output_type": "stream",
     "text": [
      " 51%|█████     | 153/300 [16:32<15:53,  6.49s/it]"
     ]
    },
    {
     "name": "stdout",
     "output_type": "stream",
     "text": [
      "\n",
      "[EPOCH:153]\t Train Loss:0.0009\n"
     ]
    },
    {
     "name": "stderr",
     "output_type": "stream",
     "text": [
      " 51%|█████▏    | 154/300 [16:38<15:31,  6.38s/it]"
     ]
    },
    {
     "name": "stdout",
     "output_type": "stream",
     "text": [
      "\n",
      "[EPOCH:154]\t Train Loss:0.0002\n"
     ]
    },
    {
     "name": "stderr",
     "output_type": "stream",
     "text": [
      " 52%|█████▏    | 155/300 [16:45<15:23,  6.37s/it]"
     ]
    },
    {
     "name": "stdout",
     "output_type": "stream",
     "text": [
      "\n",
      "[EPOCH:155]\t Train Loss:0.0002\n"
     ]
    },
    {
     "name": "stderr",
     "output_type": "stream",
     "text": [
      " 52%|█████▏    | 156/300 [16:51<15:20,  6.39s/it]"
     ]
    },
    {
     "name": "stdout",
     "output_type": "stream",
     "text": [
      "\n",
      "[EPOCH:156]\t Train Loss:0.0005\n"
     ]
    },
    {
     "name": "stderr",
     "output_type": "stream",
     "text": [
      " 52%|█████▏    | 157/300 [16:57<15:12,  6.38s/it]"
     ]
    },
    {
     "name": "stdout",
     "output_type": "stream",
     "text": [
      "\n",
      "[EPOCH:157]\t Train Loss:0.0001\n"
     ]
    },
    {
     "name": "stderr",
     "output_type": "stream",
     "text": [
      " 53%|█████▎    | 158/300 [17:04<15:05,  6.38s/it]"
     ]
    },
    {
     "name": "stdout",
     "output_type": "stream",
     "text": [
      "\n",
      "[EPOCH:158]\t Train Loss:0.0004\n"
     ]
    },
    {
     "name": "stderr",
     "output_type": "stream",
     "text": [
      " 53%|█████▎    | 159/300 [17:10<14:52,  6.33s/it]"
     ]
    },
    {
     "name": "stdout",
     "output_type": "stream",
     "text": [
      "\n",
      "[EPOCH:159]\t Train Loss:0.0015\n",
      "\n",
      "[EPOCH:160]\t Train Loss:0.0011\n",
      "Update train result\n"
     ]
    },
    {
     "name": "stderr",
     "output_type": "stream",
     "text": [
      "100%|██████████| 51/51 [00:03<00:00, 13.39it/s]\n"
     ]
    },
    {
     "name": "stdout",
     "output_type": "stream",
     "text": [
      "[21:21:31] WARNING: C:/Users/Administrator/workspace/xgboost-win64_release_1.5.1/src/learner.cc:1115: Starting in XGBoost 1.3.0, the default evaluation metric used with the objective 'binary:logistic' was changed from 'error' to 'logloss'. Explicitly set eval_metric if you'd like to restore the old behavior.\n",
      "\n",
      "[EPOCH:160]\t Classifier Train Accuracy:1.0000\n",
      "Update valid result\n"
     ]
    },
    {
     "name": "stderr",
     "output_type": "stream",
     "text": [
      "100%|██████████| 14/14 [00:00<00:00, 110.24it/s]\n"
     ]
    },
    {
     "name": "stdout",
     "output_type": "stream",
     "text": [
      "\n",
      "[EPOCH:160]\t Classifier Valid Accuracy:0.7803\n"
     ]
    },
    {
     "name": "stderr",
     "output_type": "stream",
     "text": [
      "100%|██████████| 15/15 [00:00<00:00, 111.11it/s]\n",
      " 53%|█████▎    | 160/300 [17:20<17:31,  7.51s/it]"
     ]
    },
    {
     "name": "stdout",
     "output_type": "stream",
     "text": [
      "\n",
      "[EPOCH:160]\t Classifier Test Accuracy:0.8101\n"
     ]
    },
    {
     "name": "stderr",
     "output_type": "stream",
     "text": [
      " 54%|█████▎    | 161/300 [17:26<16:24,  7.08s/it]"
     ]
    },
    {
     "name": "stdout",
     "output_type": "stream",
     "text": [
      "\n",
      "[EPOCH:161]\t Train Loss:0.0002\n"
     ]
    },
    {
     "name": "stderr",
     "output_type": "stream",
     "text": [
      " 54%|█████▍    | 162/300 [17:33<15:38,  6.80s/it]"
     ]
    },
    {
     "name": "stdout",
     "output_type": "stream",
     "text": [
      "\n",
      "[EPOCH:162]\t Train Loss:0.0007\n"
     ]
    },
    {
     "name": "stderr",
     "output_type": "stream",
     "text": [
      " 54%|█████▍    | 163/300 [17:39<15:05,  6.61s/it]"
     ]
    },
    {
     "name": "stdout",
     "output_type": "stream",
     "text": [
      "\n",
      "[EPOCH:163]\t Train Loss:0.0014\n"
     ]
    },
    {
     "name": "stderr",
     "output_type": "stream",
     "text": [
      " 55%|█████▍    | 164/300 [17:45<14:43,  6.49s/it]"
     ]
    },
    {
     "name": "stdout",
     "output_type": "stream",
     "text": [
      "\n",
      "[EPOCH:164]\t Train Loss:0.0016\n"
     ]
    },
    {
     "name": "stderr",
     "output_type": "stream",
     "text": [
      " 55%|█████▌    | 165/300 [17:51<14:18,  6.36s/it]"
     ]
    },
    {
     "name": "stdout",
     "output_type": "stream",
     "text": [
      "\n",
      "[EPOCH:165]\t Train Loss:0.0012\n"
     ]
    },
    {
     "name": "stderr",
     "output_type": "stream",
     "text": [
      " 55%|█████▌    | 166/300 [17:57<13:57,  6.25s/it]"
     ]
    },
    {
     "name": "stdout",
     "output_type": "stream",
     "text": [
      "\n",
      "[EPOCH:166]\t Train Loss:0.0028\n"
     ]
    },
    {
     "name": "stderr",
     "output_type": "stream",
     "text": [
      " 56%|█████▌    | 167/300 [18:03<13:40,  6.17s/it]"
     ]
    },
    {
     "name": "stdout",
     "output_type": "stream",
     "text": [
      "\n",
      "[EPOCH:167]\t Train Loss:0.0077\n"
     ]
    },
    {
     "name": "stderr",
     "output_type": "stream",
     "text": [
      " 56%|█████▌    | 168/300 [18:09<13:25,  6.10s/it]"
     ]
    },
    {
     "name": "stdout",
     "output_type": "stream",
     "text": [
      "\n",
      "[EPOCH:168]\t Train Loss:0.0022\n"
     ]
    },
    {
     "name": "stderr",
     "output_type": "stream",
     "text": [
      " 56%|█████▋    | 169/300 [18:15<13:18,  6.09s/it]"
     ]
    },
    {
     "name": "stdout",
     "output_type": "stream",
     "text": [
      "\n",
      "[EPOCH:169]\t Train Loss:0.0007\n",
      "\n",
      "[EPOCH:170]\t Train Loss:0.0008\n",
      "Update train result\n"
     ]
    },
    {
     "name": "stderr",
     "output_type": "stream",
     "text": [
      "100%|██████████| 51/51 [00:03<00:00, 13.74it/s]\n"
     ]
    },
    {
     "name": "stdout",
     "output_type": "stream",
     "text": [
      "[21:22:35] WARNING: C:/Users/Administrator/workspace/xgboost-win64_release_1.5.1/src/learner.cc:1115: Starting in XGBoost 1.3.0, the default evaluation metric used with the objective 'binary:logistic' was changed from 'error' to 'logloss'. Explicitly set eval_metric if you'd like to restore the old behavior.\n",
      "\n",
      "[EPOCH:170]\t Classifier Train Accuracy:1.0000\n",
      "Update valid result\n"
     ]
    },
    {
     "name": "stderr",
     "output_type": "stream",
     "text": [
      "100%|██████████| 14/14 [00:00<00:00, 106.06it/s]"
     ]
    },
    {
     "name": "stdout",
     "output_type": "stream",
     "text": [
      "\n",
      "[EPOCH:170]\t Classifier Valid Accuracy:0.8341\n"
     ]
    },
    {
     "name": "stderr",
     "output_type": "stream",
     "text": [
      "\n",
      "100%|██████████| 15/15 [00:00<00:00, 110.30it/s]\n",
      " 57%|█████▋    | 170/300 [18:25<15:48,  7.29s/it]"
     ]
    },
    {
     "name": "stdout",
     "output_type": "stream",
     "text": [
      "\n",
      "[EPOCH:170]\t Classifier Test Accuracy:0.8397\n"
     ]
    },
    {
     "name": "stderr",
     "output_type": "stream",
     "text": [
      " 57%|█████▋    | 171/300 [18:31<14:52,  6.92s/it]"
     ]
    },
    {
     "name": "stdout",
     "output_type": "stream",
     "text": [
      "\n",
      "[EPOCH:171]\t Train Loss:0.0006\n"
     ]
    },
    {
     "name": "stderr",
     "output_type": "stream",
     "text": [
      " 57%|█████▋    | 172/300 [18:37<14:14,  6.68s/it]"
     ]
    },
    {
     "name": "stdout",
     "output_type": "stream",
     "text": [
      "\n",
      "[EPOCH:172]\t Train Loss:0.0005\n"
     ]
    },
    {
     "name": "stderr",
     "output_type": "stream",
     "text": [
      " 58%|█████▊    | 173/300 [18:44<13:52,  6.56s/it]"
     ]
    },
    {
     "name": "stdout",
     "output_type": "stream",
     "text": [
      "\n",
      "[EPOCH:173]\t Train Loss:0.0010\n"
     ]
    },
    {
     "name": "stderr",
     "output_type": "stream",
     "text": [
      " 58%|█████▊    | 174/300 [18:50<13:33,  6.46s/it]"
     ]
    },
    {
     "name": "stdout",
     "output_type": "stream",
     "text": [
      "\n",
      "[EPOCH:174]\t Train Loss:0.0003\n"
     ]
    },
    {
     "name": "stderr",
     "output_type": "stream",
     "text": [
      " 58%|█████▊    | 175/300 [18:56<13:21,  6.41s/it]"
     ]
    },
    {
     "name": "stdout",
     "output_type": "stream",
     "text": [
      "\n",
      "[EPOCH:175]\t Train Loss:0.0001\n"
     ]
    },
    {
     "name": "stderr",
     "output_type": "stream",
     "text": [
      " 59%|█████▊    | 176/300 [19:02<13:10,  6.38s/it]"
     ]
    },
    {
     "name": "stdout",
     "output_type": "stream",
     "text": [
      "\n",
      "[EPOCH:176]\t Train Loss:0.0004\n"
     ]
    },
    {
     "name": "stderr",
     "output_type": "stream",
     "text": [
      " 59%|█████▉    | 177/300 [19:09<12:56,  6.32s/it]"
     ]
    },
    {
     "name": "stdout",
     "output_type": "stream",
     "text": [
      "\n",
      "[EPOCH:177]\t Train Loss:0.0001\n"
     ]
    },
    {
     "name": "stderr",
     "output_type": "stream",
     "text": [
      " 59%|█████▉    | 178/300 [19:15<12:49,  6.31s/it]"
     ]
    },
    {
     "name": "stdout",
     "output_type": "stream",
     "text": [
      "\n",
      "[EPOCH:178]\t Train Loss:0.0002\n"
     ]
    },
    {
     "name": "stderr",
     "output_type": "stream",
     "text": [
      " 60%|█████▉    | 179/300 [19:21<12:46,  6.34s/it]"
     ]
    },
    {
     "name": "stdout",
     "output_type": "stream",
     "text": [
      "\n",
      "[EPOCH:179]\t Train Loss:0.0001\n",
      "\n",
      "[EPOCH:180]\t Train Loss:0.0000\n",
      "Update train result\n"
     ]
    },
    {
     "name": "stderr",
     "output_type": "stream",
     "text": [
      "100%|██████████| 51/51 [00:03<00:00, 13.23it/s]\n"
     ]
    },
    {
     "name": "stdout",
     "output_type": "stream",
     "text": [
      "[21:23:42] WARNING: C:/Users/Administrator/workspace/xgboost-win64_release_1.5.1/src/learner.cc:1115: Starting in XGBoost 1.3.0, the default evaluation metric used with the objective 'binary:logistic' was changed from 'error' to 'logloss'. Explicitly set eval_metric if you'd like to restore the old behavior.\n",
      "\n",
      "[EPOCH:180]\t Classifier Train Accuracy:1.0000\n",
      "Update valid result\n"
     ]
    },
    {
     "name": "stderr",
     "output_type": "stream",
     "text": [
      "100%|██████████| 14/14 [00:00<00:00, 111.11it/s]\n"
     ]
    },
    {
     "name": "stdout",
     "output_type": "stream",
     "text": [
      "\n",
      "[EPOCH:180]\t Classifier Valid Accuracy:0.8296\n"
     ]
    },
    {
     "name": "stderr",
     "output_type": "stream",
     "text": [
      "100%|██████████| 15/15 [00:00<00:00, 70.75it/s]\n",
      " 60%|██████    | 180/300 [19:32<15:17,  7.64s/it]"
     ]
    },
    {
     "name": "stdout",
     "output_type": "stream",
     "text": [
      "\n",
      "[EPOCH:180]\t Classifier Test Accuracy:0.8439\n"
     ]
    },
    {
     "name": "stderr",
     "output_type": "stream",
     "text": [
      " 60%|██████    | 181/300 [19:38<14:18,  7.22s/it]"
     ]
    },
    {
     "name": "stdout",
     "output_type": "stream",
     "text": [
      "\n",
      "[EPOCH:181]\t Train Loss:0.0000\n"
     ]
    },
    {
     "name": "stderr",
     "output_type": "stream",
     "text": [
      " 61%|██████    | 182/300 [19:44<13:29,  6.86s/it]"
     ]
    },
    {
     "name": "stdout",
     "output_type": "stream",
     "text": [
      "\n",
      "[EPOCH:182]\t Train Loss:0.0002\n"
     ]
    },
    {
     "name": "stderr",
     "output_type": "stream",
     "text": [
      " 61%|██████    | 183/300 [19:51<13:05,  6.72s/it]"
     ]
    },
    {
     "name": "stdout",
     "output_type": "stream",
     "text": [
      "\n",
      "[EPOCH:183]\t Train Loss:0.0003\n"
     ]
    },
    {
     "name": "stderr",
     "output_type": "stream",
     "text": [
      " 61%|██████▏   | 184/300 [19:57<12:45,  6.60s/it]"
     ]
    },
    {
     "name": "stdout",
     "output_type": "stream",
     "text": [
      "\n",
      "[EPOCH:184]\t Train Loss:0.0000\n"
     ]
    },
    {
     "name": "stderr",
     "output_type": "stream",
     "text": [
      " 62%|██████▏   | 185/300 [20:03<12:24,  6.47s/it]"
     ]
    },
    {
     "name": "stdout",
     "output_type": "stream",
     "text": [
      "\n",
      "[EPOCH:185]\t Train Loss:0.0003\n"
     ]
    },
    {
     "name": "stderr",
     "output_type": "stream",
     "text": [
      " 62%|██████▏   | 186/300 [20:09<12:13,  6.43s/it]"
     ]
    },
    {
     "name": "stdout",
     "output_type": "stream",
     "text": [
      "\n",
      "[EPOCH:186]\t Train Loss:0.0001\n"
     ]
    },
    {
     "name": "stderr",
     "output_type": "stream",
     "text": [
      " 62%|██████▏   | 187/300 [20:16<12:10,  6.46s/it]"
     ]
    },
    {
     "name": "stdout",
     "output_type": "stream",
     "text": [
      "\n",
      "[EPOCH:187]\t Train Loss:0.0002\n"
     ]
    },
    {
     "name": "stderr",
     "output_type": "stream",
     "text": [
      " 63%|██████▎   | 188/300 [20:22<12:03,  6.46s/it]"
     ]
    },
    {
     "name": "stdout",
     "output_type": "stream",
     "text": [
      "\n",
      "[EPOCH:188]\t Train Loss:0.0000\n"
     ]
    },
    {
     "name": "stderr",
     "output_type": "stream",
     "text": [
      " 63%|██████▎   | 189/300 [20:28<11:45,  6.35s/it]"
     ]
    },
    {
     "name": "stdout",
     "output_type": "stream",
     "text": [
      "\n",
      "[EPOCH:189]\t Train Loss:0.0000\n",
      "\n",
      "[EPOCH:190]\t Train Loss:0.0001\n",
      "Update train result\n"
     ]
    },
    {
     "name": "stderr",
     "output_type": "stream",
     "text": [
      "100%|██████████| 51/51 [00:03<00:00, 13.82it/s]\n"
     ]
    },
    {
     "name": "stdout",
     "output_type": "stream",
     "text": [
      "[21:24:49] WARNING: C:/Users/Administrator/workspace/xgboost-win64_release_1.5.1/src/learner.cc:1115: Starting in XGBoost 1.3.0, the default evaluation metric used with the objective 'binary:logistic' was changed from 'error' to 'logloss'. Explicitly set eval_metric if you'd like to restore the old behavior.\n",
      "\n",
      "[EPOCH:190]\t Classifier Train Accuracy:1.0000\n",
      "Update valid result\n"
     ]
    },
    {
     "name": "stderr",
     "output_type": "stream",
     "text": [
      "100%|██████████| 14/14 [00:00<00:00, 108.53it/s]\n"
     ]
    },
    {
     "name": "stdout",
     "output_type": "stream",
     "text": [
      "\n",
      "[EPOCH:190]\t Classifier Valid Accuracy:0.8520\n"
     ]
    },
    {
     "name": "stderr",
     "output_type": "stream",
     "text": [
      "100%|██████████| 15/15 [00:00<00:00, 84.75it/s]\n",
      " 63%|██████▎   | 190/300 [20:39<13:52,  7.57s/it]"
     ]
    },
    {
     "name": "stdout",
     "output_type": "stream",
     "text": [
      "\n",
      "[EPOCH:190]\t Classifier Test Accuracy:0.7975\n"
     ]
    },
    {
     "name": "stderr",
     "output_type": "stream",
     "text": [
      " 64%|██████▎   | 191/300 [20:45<12:56,  7.12s/it]"
     ]
    },
    {
     "name": "stdout",
     "output_type": "stream",
     "text": [
      "\n",
      "[EPOCH:191]\t Train Loss:0.0002\n"
     ]
    },
    {
     "name": "stderr",
     "output_type": "stream",
     "text": [
      " 64%|██████▍   | 192/300 [20:51<12:25,  6.90s/it]"
     ]
    },
    {
     "name": "stdout",
     "output_type": "stream",
     "text": [
      "\n",
      "[EPOCH:192]\t Train Loss:0.0008\n"
     ]
    },
    {
     "name": "stderr",
     "output_type": "stream",
     "text": [
      " 64%|██████▍   | 193/300 [20:57<11:49,  6.63s/it]"
     ]
    },
    {
     "name": "stdout",
     "output_type": "stream",
     "text": [
      "\n",
      "[EPOCH:193]\t Train Loss:0.0009\n"
     ]
    },
    {
     "name": "stderr",
     "output_type": "stream",
     "text": [
      " 65%|██████▍   | 194/300 [21:04<11:38,  6.59s/it]"
     ]
    },
    {
     "name": "stdout",
     "output_type": "stream",
     "text": [
      "\n",
      "[EPOCH:194]\t Train Loss:0.0001\n"
     ]
    },
    {
     "name": "stderr",
     "output_type": "stream",
     "text": [
      " 65%|██████▌   | 195/300 [21:10<11:26,  6.54s/it]"
     ]
    },
    {
     "name": "stdout",
     "output_type": "stream",
     "text": [
      "\n",
      "[EPOCH:195]\t Train Loss:0.0006\n"
     ]
    },
    {
     "name": "stderr",
     "output_type": "stream",
     "text": [
      " 65%|██████▌   | 196/300 [21:17<11:12,  6.46s/it]"
     ]
    },
    {
     "name": "stdout",
     "output_type": "stream",
     "text": [
      "\n",
      "[EPOCH:196]\t Train Loss:0.0000\n"
     ]
    },
    {
     "name": "stderr",
     "output_type": "stream",
     "text": [
      " 66%|██████▌   | 197/300 [21:23<11:02,  6.43s/it]"
     ]
    },
    {
     "name": "stdout",
     "output_type": "stream",
     "text": [
      "\n",
      "[EPOCH:197]\t Train Loss:0.0000\n"
     ]
    },
    {
     "name": "stderr",
     "output_type": "stream",
     "text": [
      " 66%|██████▌   | 198/300 [21:29<10:55,  6.43s/it]"
     ]
    },
    {
     "name": "stdout",
     "output_type": "stream",
     "text": [
      "\n",
      "[EPOCH:198]\t Train Loss:0.0001\n"
     ]
    },
    {
     "name": "stderr",
     "output_type": "stream",
     "text": [
      " 66%|██████▋   | 199/300 [21:36<10:49,  6.43s/it]"
     ]
    },
    {
     "name": "stdout",
     "output_type": "stream",
     "text": [
      "\n",
      "[EPOCH:199]\t Train Loss:0.0000\n",
      "\n",
      "[EPOCH:200]\t Train Loss:0.0000\n",
      "Update train result\n"
     ]
    },
    {
     "name": "stderr",
     "output_type": "stream",
     "text": [
      "100%|██████████| 51/51 [00:03<00:00, 13.04it/s]\n"
     ]
    },
    {
     "name": "stdout",
     "output_type": "stream",
     "text": [
      "[21:25:57] WARNING: C:/Users/Administrator/workspace/xgboost-win64_release_1.5.1/src/learner.cc:1115: Starting in XGBoost 1.3.0, the default evaluation metric used with the objective 'binary:logistic' was changed from 'error' to 'logloss'. Explicitly set eval_metric if you'd like to restore the old behavior.\n",
      "\n",
      "[EPOCH:200]\t Classifier Train Accuracy:1.0000\n",
      "Update valid result\n"
     ]
    },
    {
     "name": "stderr",
     "output_type": "stream",
     "text": [
      "100%|██████████| 14/14 [00:00<00:00, 95.24it/s]\n"
     ]
    },
    {
     "name": "stdout",
     "output_type": "stream",
     "text": [
      "\n",
      "[EPOCH:200]\t Classifier Valid Accuracy:0.8475\n"
     ]
    },
    {
     "name": "stderr",
     "output_type": "stream",
     "text": [
      "100%|██████████| 15/15 [00:00<00:00, 103.45it/s]\n",
      " 67%|██████▋   | 200/300 [21:46<12:51,  7.71s/it]"
     ]
    },
    {
     "name": "stdout",
     "output_type": "stream",
     "text": [
      "\n",
      "[EPOCH:200]\t Classifier Test Accuracy:0.8270\n"
     ]
    },
    {
     "name": "stderr",
     "output_type": "stream",
     "text": [
      " 67%|██████▋   | 201/300 [21:53<12:03,  7.31s/it]"
     ]
    },
    {
     "name": "stdout",
     "output_type": "stream",
     "text": [
      "\n",
      "[EPOCH:201]\t Train Loss:0.0000\n"
     ]
    },
    {
     "name": "stderr",
     "output_type": "stream",
     "text": [
      " 67%|██████▋   | 202/300 [21:59<11:28,  7.03s/it]"
     ]
    },
    {
     "name": "stdout",
     "output_type": "stream",
     "text": [
      "\n",
      "[EPOCH:202]\t Train Loss:0.0000\n"
     ]
    },
    {
     "name": "stderr",
     "output_type": "stream",
     "text": [
      " 68%|██████▊   | 203/300 [22:06<11:03,  6.84s/it]"
     ]
    },
    {
     "name": "stdout",
     "output_type": "stream",
     "text": [
      "\n",
      "[EPOCH:203]\t Train Loss:0.0000\n"
     ]
    },
    {
     "name": "stderr",
     "output_type": "stream",
     "text": [
      " 68%|██████▊   | 204/300 [22:12<10:44,  6.71s/it]"
     ]
    },
    {
     "name": "stdout",
     "output_type": "stream",
     "text": [
      "\n",
      "[EPOCH:204]\t Train Loss:0.0000\n"
     ]
    },
    {
     "name": "stderr",
     "output_type": "stream",
     "text": [
      " 68%|██████▊   | 205/300 [22:18<10:29,  6.62s/it]"
     ]
    },
    {
     "name": "stdout",
     "output_type": "stream",
     "text": [
      "\n",
      "[EPOCH:205]\t Train Loss:0.0000\n"
     ]
    },
    {
     "name": "stderr",
     "output_type": "stream",
     "text": [
      " 69%|██████▊   | 206/300 [22:25<10:15,  6.55s/it]"
     ]
    },
    {
     "name": "stdout",
     "output_type": "stream",
     "text": [
      "\n",
      "[EPOCH:206]\t Train Loss:0.0001\n"
     ]
    },
    {
     "name": "stderr",
     "output_type": "stream",
     "text": [
      " 69%|██████▉   | 207/300 [22:31<09:57,  6.43s/it]"
     ]
    },
    {
     "name": "stdout",
     "output_type": "stream",
     "text": [
      "\n",
      "[EPOCH:207]\t Train Loss:0.0000\n"
     ]
    },
    {
     "name": "stderr",
     "output_type": "stream",
     "text": [
      " 69%|██████▉   | 208/300 [22:37<09:44,  6.35s/it]"
     ]
    },
    {
     "name": "stdout",
     "output_type": "stream",
     "text": [
      "\n",
      "[EPOCH:208]\t Train Loss:0.0000\n"
     ]
    },
    {
     "name": "stderr",
     "output_type": "stream",
     "text": [
      " 70%|██████▉   | 209/300 [22:43<09:35,  6.32s/it]"
     ]
    },
    {
     "name": "stdout",
     "output_type": "stream",
     "text": [
      "\n",
      "[EPOCH:209]\t Train Loss:0.0002\n",
      "\n",
      "[EPOCH:210]\t Train Loss:0.0024\n",
      "Update train result\n"
     ]
    },
    {
     "name": "stderr",
     "output_type": "stream",
     "text": [
      "100%|██████████| 51/51 [00:03<00:00, 13.60it/s]\n"
     ]
    },
    {
     "name": "stdout",
     "output_type": "stream",
     "text": [
      "[21:27:04] WARNING: C:/Users/Administrator/workspace/xgboost-win64_release_1.5.1/src/learner.cc:1115: Starting in XGBoost 1.3.0, the default evaluation metric used with the objective 'binary:logistic' was changed from 'error' to 'logloss'. Explicitly set eval_metric if you'd like to restore the old behavior.\n",
      "\n",
      "[EPOCH:210]\t Classifier Train Accuracy:1.0000\n",
      "Update valid result\n"
     ]
    },
    {
     "name": "stderr",
     "output_type": "stream",
     "text": [
      "100%|██████████| 14/14 [00:00<00:00, 106.87it/s]\n"
     ]
    },
    {
     "name": "stdout",
     "output_type": "stream",
     "text": [
      "\n",
      "[EPOCH:210]\t Classifier Valid Accuracy:0.8341\n"
     ]
    },
    {
     "name": "stderr",
     "output_type": "stream",
     "text": [
      "100%|██████████| 15/15 [00:00<00:00, 113.64it/s]\n",
      " 70%|███████   | 210/300 [22:54<11:21,  7.57s/it]"
     ]
    },
    {
     "name": "stdout",
     "output_type": "stream",
     "text": [
      "\n",
      "[EPOCH:210]\t Classifier Test Accuracy:0.8270\n"
     ]
    },
    {
     "name": "stderr",
     "output_type": "stream",
     "text": [
      " 70%|███████   | 211/300 [23:00<10:37,  7.16s/it]"
     ]
    },
    {
     "name": "stdout",
     "output_type": "stream",
     "text": [
      "\n",
      "[EPOCH:211]\t Train Loss:0.0014\n"
     ]
    },
    {
     "name": "stderr",
     "output_type": "stream",
     "text": [
      " 71%|███████   | 212/300 [23:06<10:09,  6.93s/it]"
     ]
    },
    {
     "name": "stdout",
     "output_type": "stream",
     "text": [
      "\n",
      "[EPOCH:212]\t Train Loss:0.0007\n"
     ]
    },
    {
     "name": "stderr",
     "output_type": "stream",
     "text": [
      " 71%|███████   | 213/300 [23:13<09:47,  6.75s/it]"
     ]
    },
    {
     "name": "stdout",
     "output_type": "stream",
     "text": [
      "\n",
      "[EPOCH:213]\t Train Loss:0.0000\n"
     ]
    },
    {
     "name": "stderr",
     "output_type": "stream",
     "text": [
      " 71%|███████▏  | 214/300 [23:19<09:29,  6.62s/it]"
     ]
    },
    {
     "name": "stdout",
     "output_type": "stream",
     "text": [
      "\n",
      "[EPOCH:214]\t Train Loss:0.0000\n"
     ]
    },
    {
     "name": "stderr",
     "output_type": "stream",
     "text": [
      " 72%|███████▏  | 215/300 [23:25<09:12,  6.50s/it]"
     ]
    },
    {
     "name": "stdout",
     "output_type": "stream",
     "text": [
      "\n",
      "[EPOCH:215]\t Train Loss:0.0001\n"
     ]
    },
    {
     "name": "stderr",
     "output_type": "stream",
     "text": [
      " 72%|███████▏  | 216/300 [23:32<09:02,  6.46s/it]"
     ]
    },
    {
     "name": "stdout",
     "output_type": "stream",
     "text": [
      "\n",
      "[EPOCH:216]\t Train Loss:0.0000\n"
     ]
    },
    {
     "name": "stderr",
     "output_type": "stream",
     "text": [
      " 72%|███████▏  | 217/300 [23:38<08:46,  6.34s/it]"
     ]
    },
    {
     "name": "stdout",
     "output_type": "stream",
     "text": [
      "\n",
      "[EPOCH:217]\t Train Loss:0.0000\n"
     ]
    },
    {
     "name": "stderr",
     "output_type": "stream",
     "text": [
      " 73%|███████▎  | 218/300 [23:44<08:28,  6.21s/it]"
     ]
    },
    {
     "name": "stdout",
     "output_type": "stream",
     "text": [
      "\n",
      "[EPOCH:218]\t Train Loss:0.0001\n"
     ]
    },
    {
     "name": "stderr",
     "output_type": "stream",
     "text": [
      " 73%|███████▎  | 219/300 [23:50<08:17,  6.14s/it]"
     ]
    },
    {
     "name": "stdout",
     "output_type": "stream",
     "text": [
      "\n",
      "[EPOCH:219]\t Train Loss:0.0007\n",
      "\n",
      "[EPOCH:220]\t Train Loss:0.0005\n",
      "Update train result\n"
     ]
    },
    {
     "name": "stderr",
     "output_type": "stream",
     "text": [
      "100%|██████████| 51/51 [00:03<00:00, 14.19it/s]\n"
     ]
    },
    {
     "name": "stdout",
     "output_type": "stream",
     "text": [
      "[21:28:10] WARNING: C:/Users/Administrator/workspace/xgboost-win64_release_1.5.1/src/learner.cc:1115: Starting in XGBoost 1.3.0, the default evaluation metric used with the objective 'binary:logistic' was changed from 'error' to 'logloss'. Explicitly set eval_metric if you'd like to restore the old behavior.\n",
      "\n",
      "[EPOCH:220]\t Classifier Train Accuracy:1.0000\n",
      "Update valid result\n"
     ]
    },
    {
     "name": "stderr",
     "output_type": "stream",
     "text": [
      "100%|██████████| 14/14 [00:00<00:00, 106.06it/s]\n"
     ]
    },
    {
     "name": "stdout",
     "output_type": "stream",
     "text": [
      "\n",
      "[EPOCH:220]\t Classifier Valid Accuracy:0.8341\n"
     ]
    },
    {
     "name": "stderr",
     "output_type": "stream",
     "text": [
      "100%|██████████| 15/15 [00:00<00:00, 105.64it/s]\n",
      " 73%|███████▎  | 220/300 [24:00<09:44,  7.30s/it]"
     ]
    },
    {
     "name": "stdout",
     "output_type": "stream",
     "text": [
      "\n",
      "[EPOCH:220]\t Classifier Test Accuracy:0.8608\n"
     ]
    },
    {
     "name": "stderr",
     "output_type": "stream",
     "text": [
      " 74%|███████▎  | 221/300 [24:06<09:04,  6.89s/it]"
     ]
    },
    {
     "name": "stdout",
     "output_type": "stream",
     "text": [
      "\n",
      "[EPOCH:221]\t Train Loss:0.0003\n"
     ]
    },
    {
     "name": "stderr",
     "output_type": "stream",
     "text": [
      " 74%|███████▍  | 222/300 [24:11<08:33,  6.59s/it]"
     ]
    },
    {
     "name": "stdout",
     "output_type": "stream",
     "text": [
      "\n",
      "[EPOCH:222]\t Train Loss:0.0004\n"
     ]
    },
    {
     "name": "stderr",
     "output_type": "stream",
     "text": [
      " 74%|███████▍  | 223/300 [24:17<08:13,  6.41s/it]"
     ]
    },
    {
     "name": "stdout",
     "output_type": "stream",
     "text": [
      "\n",
      "[EPOCH:223]\t Train Loss:0.0003\n"
     ]
    },
    {
     "name": "stderr",
     "output_type": "stream",
     "text": [
      " 75%|███████▍  | 224/300 [24:23<07:56,  6.27s/it]"
     ]
    },
    {
     "name": "stdout",
     "output_type": "stream",
     "text": [
      "\n",
      "[EPOCH:224]\t Train Loss:0.0004\n"
     ]
    },
    {
     "name": "stderr",
     "output_type": "stream",
     "text": [
      " 75%|███████▌  | 225/300 [24:30<07:49,  6.25s/it]"
     ]
    },
    {
     "name": "stdout",
     "output_type": "stream",
     "text": [
      "\n",
      "[EPOCH:225]\t Train Loss:0.0004\n"
     ]
    },
    {
     "name": "stderr",
     "output_type": "stream",
     "text": [
      " 75%|███████▌  | 226/300 [24:36<07:43,  6.26s/it]"
     ]
    },
    {
     "name": "stdout",
     "output_type": "stream",
     "text": [
      "\n",
      "[EPOCH:226]\t Train Loss:0.0005\n"
     ]
    },
    {
     "name": "stderr",
     "output_type": "stream",
     "text": [
      " 76%|███████▌  | 227/300 [24:42<07:36,  6.25s/it]"
     ]
    },
    {
     "name": "stdout",
     "output_type": "stream",
     "text": [
      "\n",
      "[EPOCH:227]\t Train Loss:0.0001\n"
     ]
    },
    {
     "name": "stderr",
     "output_type": "stream",
     "text": [
      " 76%|███████▌  | 228/300 [24:48<07:30,  6.25s/it]"
     ]
    },
    {
     "name": "stdout",
     "output_type": "stream",
     "text": [
      "\n",
      "[EPOCH:228]\t Train Loss:0.0000\n"
     ]
    },
    {
     "name": "stderr",
     "output_type": "stream",
     "text": [
      " 76%|███████▋  | 229/300 [24:55<07:30,  6.34s/it]"
     ]
    },
    {
     "name": "stdout",
     "output_type": "stream",
     "text": [
      "\n",
      "[EPOCH:229]\t Train Loss:0.0000\n",
      "\n",
      "[EPOCH:230]\t Train Loss:0.0002\n",
      "Update train result\n"
     ]
    },
    {
     "name": "stderr",
     "output_type": "stream",
     "text": [
      "100%|██████████| 51/51 [00:03<00:00, 13.60it/s]\n"
     ]
    },
    {
     "name": "stdout",
     "output_type": "stream",
     "text": [
      "[21:29:16] WARNING: C:/Users/Administrator/workspace/xgboost-win64_release_1.5.1/src/learner.cc:1115: Starting in XGBoost 1.3.0, the default evaluation metric used with the objective 'binary:logistic' was changed from 'error' to 'logloss'. Explicitly set eval_metric if you'd like to restore the old behavior.\n",
      "\n",
      "[EPOCH:230]\t Classifier Train Accuracy:1.0000\n",
      "Update valid result\n"
     ]
    },
    {
     "name": "stderr",
     "output_type": "stream",
     "text": [
      "100%|██████████| 14/14 [00:00<00:00, 91.51it/s]\n"
     ]
    },
    {
     "name": "stdout",
     "output_type": "stream",
     "text": [
      "\n",
      "[EPOCH:230]\t Classifier Valid Accuracy:0.8206\n"
     ]
    },
    {
     "name": "stderr",
     "output_type": "stream",
     "text": [
      "100%|██████████| 15/15 [00:00<00:00, 111.94it/s]\n",
      " 77%|███████▋  | 230/300 [25:05<08:51,  7.60s/it]"
     ]
    },
    {
     "name": "stdout",
     "output_type": "stream",
     "text": [
      "\n",
      "[EPOCH:230]\t Classifier Test Accuracy:0.8312\n"
     ]
    },
    {
     "name": "stderr",
     "output_type": "stream",
     "text": [
      " 77%|███████▋  | 231/300 [25:12<08:14,  7.16s/it]"
     ]
    },
    {
     "name": "stdout",
     "output_type": "stream",
     "text": [
      "\n",
      "[EPOCH:231]\t Train Loss:0.0003\n"
     ]
    },
    {
     "name": "stderr",
     "output_type": "stream",
     "text": [
      " 77%|███████▋  | 232/300 [25:18<07:44,  6.83s/it]"
     ]
    },
    {
     "name": "stdout",
     "output_type": "stream",
     "text": [
      "\n",
      "[EPOCH:232]\t Train Loss:0.0010\n"
     ]
    },
    {
     "name": "stderr",
     "output_type": "stream",
     "text": [
      " 78%|███████▊  | 233/300 [25:24<07:22,  6.60s/it]"
     ]
    },
    {
     "name": "stdout",
     "output_type": "stream",
     "text": [
      "\n",
      "[EPOCH:233]\t Train Loss:0.0002\n"
     ]
    },
    {
     "name": "stderr",
     "output_type": "stream",
     "text": [
      " 78%|███████▊  | 234/300 [25:30<07:06,  6.47s/it]"
     ]
    },
    {
     "name": "stdout",
     "output_type": "stream",
     "text": [
      "\n",
      "[EPOCH:234]\t Train Loss:0.0000\n"
     ]
    }
   ],
   "source": [
    "##### 10. 학습 및 평가.\n",
    "# resnet34 pretrained true\n",
    "# kfold 적용\n",
    "\n",
    "###\n",
    "# train 과정\n",
    "train_result_list = []\n",
    "train_label_list = []\n",
    "train_path_list = []\n",
    "###\n",
    "\n",
    "\n",
    "###\n",
    "# valid 과정\n",
    "valid_result_list = []\n",
    "valid_label_list = []\n",
    "valid_path_list = []\n",
    "valid_acc_list = []\n",
    "##\n",
    "\n",
    "\n",
    "\n",
    "\n",
    "\n",
    "\n",
    "train_accs = []\n",
    "valid_accs = []\n",
    "EPOCHS = 300\n",
    "for data_ind in range(1,2): \n",
    "\n",
    "    check_path = './checkpoint/checkpoint_triplet_ros_'+str(data_ind)+'_organics_speaker.pt'\n",
    "    print(check_path)\n",
    "    early_stopping = EarlyStopping(patience = 5, verbose = True, path=check_path)\n",
    "    train_loader,validation_loader = load_data(data_ind-1)\n",
    "\n",
    "    best_train_acc=0 # accuracy 기록용\n",
    "    best_valid_acc=0\n",
    "    \n",
    "    model=model_initialize(emb_dim)\n",
    "    criterion = nn.TripletMarginLoss(margin=1.0, p=2)\n",
    "    optimizer = torch.optim.Adam(model.parameters(),lr=lr,weight_decay=weight_decay)    \n",
    "    #criterion = nn.CrossEntropyLoss()\n",
    "    #optimizer = torch.optim.Adam(model.parameters(),lr=lr,weight_decay=weight_decay)\n",
    "    #scheduler = torch.optim.lr_scheduler.LambdaLR(optimizer, lr_lambda = lambda epoch: 0.95 ** epoch)\n",
    "    #scheduler = torch.optim.lr_scheduler.OneCycleLR(optimizer,\n",
    "    #                                               max_lr=0.0001,\n",
    "    #                                               steps_per_epoch=len(train_loader),\n",
    "    #                                               epochs=20,\n",
    "    #                                               anneal_strategy='linear')\n",
    "    \n",
    "    \n",
    "    print(\"[{} 교차검증] 학습 시작\\n ----- \".format(data_ind))\n",
    "    for Epoch in tqdm(range(1,EPOCHS+1)):\n",
    "        train_loss=train(model,train_loader,optimizer,log_interval=31)\n",
    "        #valid_loss,valid_accuracy = evaluate(model, validation_loader)\n",
    "\n",
    "        print(\"\\n[EPOCH:{}]\\t Train Loss:{:.4f}\".format(Epoch,train_loss))\n",
    "\n",
    "        #임베딩 기록\n",
    "        if Epoch % 10 ==0:\n",
    "            train_result = []\n",
    "            train_labels = []\n",
    "            train_paths = []\n",
    "            model.eval()\n",
    "            with torch.no_grad():\n",
    "                print(\"Update train result\")\n",
    "                for img,_,_,label,paths in tqdm(train_loader):\n",
    "                    train_result.append(model(img.to(DEVICE),tsne=False ).cpu().numpy())\n",
    "                    train_labels.append(label)\n",
    "                    train_paths.append(paths)\n",
    "                \n",
    "                train_result = np.concatenate(train_result)\n",
    "                train_labels = np.concatenate(train_labels)\n",
    "                train_paths = np.concatenate(train_paths)\n",
    "                \n",
    "                \n",
    "                # train classifier\n",
    "                tree = XGBClassifier(seed=random_state,use_label_encoder=False)\n",
    "                tree.fit(train_result, train_labels)\n",
    "                pred_probs = tree.predict(train_result)\n",
    "                preds = [ 1 if x > 0.5 else 0 for x in pred_probs]\n",
    "                accuracy = accuracy_score(train_labels, preds)\n",
    "                print(\"\\n[EPOCH:{}]\\t Classifier Train Accuracy:{:.4f}\".format(Epoch,accuracy))\n",
    "\n",
    "\n",
    "                train_result_list.append(train_result)\n",
    "                train_label_list.append(train_labels)\n",
    "                train_path_list.append(train_paths)\n",
    "\n",
    "            valid_result = []\n",
    "            valid_labels = []\n",
    "            valid_paths = []\n",
    "            valid_accs = []\n",
    "            with torch.no_grad():\n",
    "                print(\"Update valid result\")\n",
    "                for img,label,paths in tqdm(validation_loader):\n",
    "                    valid_result.append(model(img.to(DEVICE),tsne=False).cpu().numpy())\n",
    "                    valid_labels.append(label)\n",
    "                    valid_paths+=paths\n",
    "                    \n",
    "            valid_result = np.concatenate(valid_result)\n",
    "            valid_labels = np.concatenate(valid_labels)\n",
    "            \n",
    "\n",
    "            # trained classifier inference\n",
    "            # train classifier\n",
    "            pred_probs = tree.predict(valid_result)\n",
    "            preds = [ 1 if x > 0.5 else 0 for x in pred_probs]\n",
    "            accuracy = accuracy_score(valid_labels, preds)\n",
    "            print(\"\\n[EPOCH:{}]\\t Classifier Valid Accuracy:{:.4f}\".format(Epoch,accuracy))\n",
    "\n",
    "            valid_result_list.append(valid_result)\n",
    "            valid_label_list.append(valid_labels)   \n",
    "            valid_path_list.append(valid_paths)\n",
    "            valid_accs.append(pred_probs)\n",
    "\n",
    "            test_result = []\n",
    "            test_labels = []\n",
    "\n",
    "            # classifier testset inference\n",
    "\n",
    "            with torch.no_grad():\n",
    "                for img,label,paths in tqdm(test_loader):\n",
    "                    test_result.append(model(img.to(DEVICE),tsne=False).cpu().numpy())\n",
    "                    test_labels.append(label)\n",
    "            test_result = np.concatenate(test_result)\n",
    "            test_labels = np.concatenate(test_labels)\n",
    "\n",
    "            pred_probs = tree.predict(test_result)\n",
    "            preds = [ 1 if x > 0.5 else 0 for x in pred_probs]\n",
    "            accuracy = accuracy_score(test_labels, preds)\n",
    "            print(\"\\n[EPOCH:{}]\\t Classifier Test Accuracy:{:.4f}\".format(Epoch,accuracy))            \n",
    "\n",
    "\n",
    "\n"
   ]
  },
  {
   "cell_type": "code",
   "execution_count": 40,
   "id": "8e156806",
   "metadata": {},
   "outputs": [],
   "source": [
    "torch.save({\"model_state_dict\": model.state_dict(),\n",
    "            \"optimzier_state_dict\": optimizer.state_dict()\n",
    "           }, check_path)"
   ]
  },
  {
   "cell_type": "code",
   "execution_count": 94,
   "id": "49a28e1e",
   "metadata": {},
   "outputs": [
    {
     "data": {
      "text/html": [
       "<div>\n",
       "<style scoped>\n",
       "    .dataframe tbody tr th:only-of-type {\n",
       "        vertical-align: middle;\n",
       "    }\n",
       "\n",
       "    .dataframe tbody tr th {\n",
       "        vertical-align: top;\n",
       "    }\n",
       "\n",
       "    .dataframe thead th {\n",
       "        text-align: right;\n",
       "    }\n",
       "</style>\n",
       "<table border=\"1\" class=\"dataframe\">\n",
       "  <thead>\n",
       "    <tr style=\"text-align: right;\">\n",
       "      <th></th>\n",
       "      <th>RECORDING</th>\n",
       "      <th>PATHOLOGY</th>\n",
       "      <th>DATE</th>\n",
       "      <th>SPEAKER</th>\n",
       "      <th>GENDER</th>\n",
       "      <th>AGE</th>\n",
       "      <th>DETAIL</th>\n",
       "      <th>DIAG</th>\n",
       "    </tr>\n",
       "  </thead>\n",
       "  <tbody>\n",
       "    <tr>\n",
       "      <th>50</th>\n",
       "      <td>1554</td>\n",
       "      <td>p</td>\n",
       "      <td>08/12/1999</td>\n",
       "      <td>1498</td>\n",
       "      <td>m</td>\n",
       "      <td>50</td>\n",
       "      <td>Laryngitis</td>\n",
       "      <td>structural</td>\n",
       "    </tr>\n",
       "    <tr>\n",
       "      <th>66</th>\n",
       "      <td>1046</td>\n",
       "      <td>p</td>\n",
       "      <td>11/11/1998</td>\n",
       "      <td>1542</td>\n",
       "      <td>w</td>\n",
       "      <td>47</td>\n",
       "      <td>Laryngitis; Reinke ?em</td>\n",
       "      <td>structural</td>\n",
       "    </tr>\n",
       "    <tr>\n",
       "      <th>250</th>\n",
       "      <td>2078</td>\n",
       "      <td>p</td>\n",
       "      <td>01/08/2001</td>\n",
       "      <td>1970</td>\n",
       "      <td>m</td>\n",
       "      <td>32</td>\n",
       "      <td>Rekurrensparese</td>\n",
       "      <td>neurogenic</td>\n",
       "    </tr>\n",
       "    <tr>\n",
       "      <th>271</th>\n",
       "      <td>1770</td>\n",
       "      <td>p</td>\n",
       "      <td>02/08/2000</td>\n",
       "      <td>2027</td>\n",
       "      <td>w</td>\n",
       "      <td>36</td>\n",
       "      <td>Spasmodische Dysphonie</td>\n",
       "      <td>neurogenic</td>\n",
       "    </tr>\n",
       "    <tr>\n",
       "      <th>280</th>\n",
       "      <td>1869</td>\n",
       "      <td>p</td>\n",
       "      <td>06/12/2000</td>\n",
       "      <td>2027</td>\n",
       "      <td>w</td>\n",
       "      <td>36</td>\n",
       "      <td>Spasmodische Dysphonie</td>\n",
       "      <td>neurogenic</td>\n",
       "    </tr>\n",
       "    <tr>\n",
       "      <th>281</th>\n",
       "      <td>1902</td>\n",
       "      <td>p</td>\n",
       "      <td>20/12/2000</td>\n",
       "      <td>2027</td>\n",
       "      <td>w</td>\n",
       "      <td>36</td>\n",
       "      <td>Spasmodische Dysphonie</td>\n",
       "      <td>neurogenic</td>\n",
       "    </tr>\n",
       "    <tr>\n",
       "      <th>323</th>\n",
       "      <td>1889</td>\n",
       "      <td>p</td>\n",
       "      <td>13/12/2000</td>\n",
       "      <td>2114</td>\n",
       "      <td>w</td>\n",
       "      <td>49</td>\n",
       "      <td>Reinke ?em</td>\n",
       "      <td>structural</td>\n",
       "    </tr>\n",
       "    <tr>\n",
       "      <th>417</th>\n",
       "      <td>2543</td>\n",
       "      <td>p</td>\n",
       "      <td>03/12/2003</td>\n",
       "      <td>2381</td>\n",
       "      <td>m</td>\n",
       "      <td>69</td>\n",
       "      <td>Kontaktpachydermie</td>\n",
       "      <td>structural</td>\n",
       "    </tr>\n",
       "    <tr>\n",
       "      <th>481</th>\n",
       "      <td>2508</td>\n",
       "      <td>p</td>\n",
       "      <td>29/10/2003</td>\n",
       "      <td>2642</td>\n",
       "      <td>m</td>\n",
       "      <td>48</td>\n",
       "      <td>Rekurrensparese</td>\n",
       "      <td>neurogenic</td>\n",
       "    </tr>\n",
       "    <tr>\n",
       "      <th>548</th>\n",
       "      <td>141</td>\n",
       "      <td>p</td>\n",
       "      <td>04.02.1998</td>\n",
       "      <td>1320</td>\n",
       "      <td>m</td>\n",
       "      <td>41</td>\n",
       "      <td>Laryngitis</td>\n",
       "      <td>structural</td>\n",
       "    </tr>\n",
       "    <tr>\n",
       "      <th>686</th>\n",
       "      <td>681</td>\n",
       "      <td>n</td>\n",
       "      <td>14/05/1998</td>\n",
       "      <td>609</td>\n",
       "      <td>m</td>\n",
       "      <td>21</td>\n",
       "      <td>control</td>\n",
       "      <td>control</td>\n",
       "    </tr>\n",
       "    <tr>\n",
       "      <th>817</th>\n",
       "      <td>974</td>\n",
       "      <td>n</td>\n",
       "      <td>27/10/1998</td>\n",
       "      <td>778</td>\n",
       "      <td>m</td>\n",
       "      <td>41</td>\n",
       "      <td>control</td>\n",
       "      <td>control</td>\n",
       "    </tr>\n",
       "    <tr>\n",
       "      <th>912</th>\n",
       "      <td>1095</td>\n",
       "      <td>n</td>\n",
       "      <td>26.11.1998</td>\n",
       "      <td>864</td>\n",
       "      <td>w</td>\n",
       "      <td>21</td>\n",
       "      <td>control</td>\n",
       "      <td>control</td>\n",
       "    </tr>\n",
       "    <tr>\n",
       "      <th>933</th>\n",
       "      <td>1124</td>\n",
       "      <td>n</td>\n",
       "      <td>03.12.1998</td>\n",
       "      <td>885</td>\n",
       "      <td>w</td>\n",
       "      <td>24</td>\n",
       "      <td>control</td>\n",
       "      <td>control</td>\n",
       "    </tr>\n",
       "    <tr>\n",
       "      <th>1049</th>\n",
       "      <td>1513</td>\n",
       "      <td>n</td>\n",
       "      <td>25.11.1999</td>\n",
       "      <td>996</td>\n",
       "      <td>w</td>\n",
       "      <td>20</td>\n",
       "      <td>control</td>\n",
       "      <td>control</td>\n",
       "    </tr>\n",
       "    <tr>\n",
       "      <th>1095</th>\n",
       "      <td>63</td>\n",
       "      <td>n</td>\n",
       "      <td>09/01/1998</td>\n",
       "      <td>63</td>\n",
       "      <td>m</td>\n",
       "      <td>44</td>\n",
       "      <td>control</td>\n",
       "      <td>control</td>\n",
       "    </tr>\n",
       "    <tr>\n",
       "      <th>1104</th>\n",
       "      <td>1704</td>\n",
       "      <td>n</td>\n",
       "      <td>25.05.2000</td>\n",
       "      <td>1045</td>\n",
       "      <td>m</td>\n",
       "      <td>28</td>\n",
       "      <td>control</td>\n",
       "      <td>control</td>\n",
       "    </tr>\n",
       "    <tr>\n",
       "      <th>1110</th>\n",
       "      <td>1710</td>\n",
       "      <td>n</td>\n",
       "      <td>25.05.2000</td>\n",
       "      <td>1051</td>\n",
       "      <td>w</td>\n",
       "      <td>50</td>\n",
       "      <td>control</td>\n",
       "      <td>control</td>\n",
       "    </tr>\n",
       "    <tr>\n",
       "      <th>1112</th>\n",
       "      <td>1724</td>\n",
       "      <td>n</td>\n",
       "      <td>08.06.2000</td>\n",
       "      <td>1053</td>\n",
       "      <td>m</td>\n",
       "      <td>22</td>\n",
       "      <td>control</td>\n",
       "      <td>control</td>\n",
       "    </tr>\n",
       "    <tr>\n",
       "      <th>1156</th>\n",
       "      <td>1874</td>\n",
       "      <td>n</td>\n",
       "      <td>07.12.2000</td>\n",
       "      <td>1099</td>\n",
       "      <td>w</td>\n",
       "      <td>20</td>\n",
       "      <td>control</td>\n",
       "      <td>control</td>\n",
       "    </tr>\n",
       "  </tbody>\n",
       "</table>\n",
       "</div>"
      ],
      "text/plain": [
       "      RECORDING PATHOLOGY        DATE  SPEAKER GENDER  AGE  \\\n",
       "50         1554         p  08/12/1999     1498      m   50   \n",
       "66         1046         p  11/11/1998     1542      w   47   \n",
       "250        2078         p  01/08/2001     1970      m   32   \n",
       "271        1770         p  02/08/2000     2027      w   36   \n",
       "280        1869         p  06/12/2000     2027      w   36   \n",
       "281        1902         p  20/12/2000     2027      w   36   \n",
       "323        1889         p  13/12/2000     2114      w   49   \n",
       "417        2543         p  03/12/2003     2381      m   69   \n",
       "481        2508         p  29/10/2003     2642      m   48   \n",
       "548         141         p  04.02.1998     1320      m   41   \n",
       "686         681         n  14/05/1998      609      m   21   \n",
       "817         974         n  27/10/1998      778      m   41   \n",
       "912        1095         n  26.11.1998      864      w   21   \n",
       "933        1124         n  03.12.1998      885      w   24   \n",
       "1049       1513         n  25.11.1999      996      w   20   \n",
       "1095         63         n  09/01/1998       63      m   44   \n",
       "1104       1704         n  25.05.2000     1045      m   28   \n",
       "1110       1710         n  25.05.2000     1051      w   50   \n",
       "1112       1724         n  08.06.2000     1053      m   22   \n",
       "1156       1874         n  07.12.2000     1099      w   20   \n",
       "\n",
       "                      DETAIL        DIAG  \n",
       "50                Laryngitis  structural  \n",
       "66    Laryngitis; Reinke ?em  structural  \n",
       "250          Rekurrensparese  neurogenic  \n",
       "271   Spasmodische Dysphonie  neurogenic  \n",
       "280   Spasmodische Dysphonie  neurogenic  \n",
       "281   Spasmodische Dysphonie  neurogenic  \n",
       "323               Reinke ?em  structural  \n",
       "417       Kontaktpachydermie  structural  \n",
       "481          Rekurrensparese  neurogenic  \n",
       "548               Laryngitis  structural  \n",
       "686                  control     control  \n",
       "817                  control     control  \n",
       "912                  control     control  \n",
       "933                  control     control  \n",
       "1049                 control     control  \n",
       "1095                 control     control  \n",
       "1104                 control     control  \n",
       "1110                 control     control  \n",
       "1112                 control     control  \n",
       "1156                 control     control  "
      ]
     },
     "execution_count": 94,
     "metadata": {},
     "output_type": "execute_result"
    }
   ],
   "source": [
    "finding = [141,1710,1095,1874,1902,1869,1124,1513,1046,681,63,2543,2508,1889,974,1554,1724,1704,2078,1770,1046,2018,2036]\n",
    "\n",
    "speaker_data[speaker_data['RECORDING'].isin(finding)].dropna()"
   ]
  },
  {
   "cell_type": "code",
   "execution_count": 97,
   "id": "25f37bcd",
   "metadata": {},
   "outputs": [
    {
     "data": {
      "text/html": [
       "<div>\n",
       "<style scoped>\n",
       "    .dataframe tbody tr th:only-of-type {\n",
       "        vertical-align: middle;\n",
       "    }\n",
       "\n",
       "    .dataframe tbody tr th {\n",
       "        vertical-align: top;\n",
       "    }\n",
       "\n",
       "    .dataframe thead th {\n",
       "        text-align: right;\n",
       "    }\n",
       "</style>\n",
       "<table border=\"1\" class=\"dataframe\">\n",
       "  <thead>\n",
       "    <tr style=\"text-align: right;\">\n",
       "      <th></th>\n",
       "      <th>RECORDING</th>\n",
       "      <th>PATHOLOGY</th>\n",
       "      <th>DATE</th>\n",
       "      <th>SPEAKER</th>\n",
       "      <th>GENDER</th>\n",
       "      <th>AGE</th>\n",
       "      <th>DETAIL</th>\n",
       "      <th>DIAG</th>\n",
       "    </tr>\n",
       "  </thead>\n",
       "  <tbody>\n",
       "    <tr>\n",
       "      <th>293</th>\n",
       "      <td>1764</td>\n",
       "      <td>p</td>\n",
       "      <td>02/08/2000</td>\n",
       "      <td>2028</td>\n",
       "      <td>m</td>\n",
       "      <td>78</td>\n",
       "      <td>Stimmlippenpolyp</td>\n",
       "      <td>structural</td>\n",
       "    </tr>\n",
       "    <tr>\n",
       "      <th>325</th>\n",
       "      <td>1897</td>\n",
       "      <td>p</td>\n",
       "      <td>20/12/2000</td>\n",
       "      <td>2120</td>\n",
       "      <td>m</td>\n",
       "      <td>31</td>\n",
       "      <td>Kontaktpachydermie</td>\n",
       "      <td>structural</td>\n",
       "    </tr>\n",
       "  </tbody>\n",
       "</table>\n",
       "</div>"
      ],
      "text/plain": [
       "     RECORDING PATHOLOGY        DATE  SPEAKER GENDER  AGE              DETAIL  \\\n",
       "293       1764         p  02/08/2000     2028      m   78    Stimmlippenpolyp   \n",
       "325       1897         p  20/12/2000     2120      m   31  Kontaktpachydermie   \n",
       "\n",
       "           DIAG  \n",
       "293  structural  \n",
       "325  structural  "
      ]
     },
     "execution_count": 97,
     "metadata": {},
     "output_type": "execute_result"
    }
   ],
   "source": [
    "finding = [1897,1764]\n",
    "\n",
    "speaker_data[speaker_data['RECORDING'].isin(finding)].dropna()"
   ]
  },
  {
   "cell_type": "code",
   "execution_count": 105,
   "id": "d6a51f3c",
   "metadata": {},
   "outputs": [
    {
     "name": "stderr",
     "output_type": "stream",
     "text": [
      "d:\\anaconda3\\envs\\local_torch\\lib\\site-packages\\sklearn\\manifold\\_t_sne.py:780: FutureWarning: The default initialization in TSNE will change from 'random' to 'pca' in 1.2.\n",
      "  warnings.warn(\n",
      "d:\\anaconda3\\envs\\local_torch\\lib\\site-packages\\sklearn\\manifold\\_t_sne.py:790: FutureWarning: The default learning rate in TSNE will change from 200.0 to 'auto' in 1.2.\n",
      "  warnings.warn(\n"
     ]
    },
    {
     "ename": "NameError",
     "evalue": "name 'train_path_list' is not defined",
     "output_type": "error",
     "traceback": [
      "\u001b[1;31m---------------------------------------------------------------------------\u001b[0m",
      "\u001b[1;31mNameError\u001b[0m                                 Traceback (most recent call last)",
      "\u001b[1;32m~\\AppData\\Local\\Temp/ipykernel_22044/1720012737.py\u001b[0m in \u001b[0;36m<module>\u001b[1;34m\u001b[0m\n\u001b[0;32m     24\u001b[0m \u001b[1;32mfor\u001b[0m \u001b[0mlabel\u001b[0m \u001b[1;32min\u001b[0m \u001b[0mnp\u001b[0m\u001b[1;33m.\u001b[0m\u001b[0munique\u001b[0m\u001b[1;33m(\u001b[0m\u001b[0mtrain_label_list\u001b[0m\u001b[1;33m[\u001b[0m\u001b[0mwhich_epoch\u001b[0m\u001b[1;33m]\u001b[0m\u001b[1;33m)\u001b[0m\u001b[1;33m:\u001b[0m\u001b[1;33m\u001b[0m\u001b[1;33m\u001b[0m\u001b[0m\n\u001b[0;32m     25\u001b[0m     \u001b[0mtmp\u001b[0m \u001b[1;33m=\u001b[0m \u001b[0mtrain_results_view\u001b[0m\u001b[1;33m[\u001b[0m\u001b[0mtrain_label_list\u001b[0m\u001b[1;33m[\u001b[0m\u001b[0mwhich_epoch\u001b[0m\u001b[1;33m]\u001b[0m\u001b[1;33m==\u001b[0m\u001b[0mlabel\u001b[0m\u001b[1;33m]\u001b[0m\u001b[1;33m\u001b[0m\u001b[1;33m\u001b[0m\u001b[0m\n\u001b[1;32m---> 26\u001b[1;33m     \u001b[0mpath_name\u001b[0m \u001b[1;33m=\u001b[0m \u001b[0mnp\u001b[0m\u001b[1;33m.\u001b[0m\u001b[0marray\u001b[0m\u001b[1;33m(\u001b[0m\u001b[0mtrain_path_list\u001b[0m\u001b[1;33m[\u001b[0m\u001b[0mwhich_epoch\u001b[0m\u001b[1;33m]\u001b[0m\u001b[1;33m)\u001b[0m\u001b[1;33m[\u001b[0m\u001b[0mtrain_label_list\u001b[0m\u001b[1;33m[\u001b[0m\u001b[0mwhich_epoch\u001b[0m\u001b[1;33m]\u001b[0m\u001b[1;33m==\u001b[0m\u001b[0mlabel\u001b[0m\u001b[1;33m]\u001b[0m\u001b[1;33m.\u001b[0m\u001b[0mtolist\u001b[0m\u001b[1;33m(\u001b[0m\u001b[1;33m)\u001b[0m\u001b[1;33m\u001b[0m\u001b[1;33m\u001b[0m\u001b[0m\n\u001b[0m\u001b[0;32m     27\u001b[0m     \u001b[0mplt\u001b[0m\u001b[1;33m.\u001b[0m\u001b[0mscatter\u001b[0m\u001b[1;33m(\u001b[0m\u001b[0mtmp\u001b[0m\u001b[1;33m[\u001b[0m\u001b[1;33m:\u001b[0m\u001b[1;33m,\u001b[0m \u001b[1;36m0\u001b[0m\u001b[1;33m]\u001b[0m\u001b[1;33m,\u001b[0m \u001b[0mtmp\u001b[0m\u001b[1;33m[\u001b[0m\u001b[1;33m:\u001b[0m\u001b[1;33m,\u001b[0m \u001b[1;36m1\u001b[0m\u001b[1;33m]\u001b[0m\u001b[1;33m,\u001b[0m\u001b[0mlabel\u001b[0m\u001b[1;33m=\u001b[0m\u001b[0mlabel\u001b[0m\u001b[1;33m)\u001b[0m\u001b[1;33m\u001b[0m\u001b[1;33m\u001b[0m\u001b[0m\n\u001b[0;32m     28\u001b[0m     \u001b[1;32mfor\u001b[0m \u001b[0midx\u001b[0m\u001b[1;33m,\u001b[0m\u001b[0mtext\u001b[0m \u001b[1;32min\u001b[0m \u001b[0menumerate\u001b[0m\u001b[1;33m(\u001b[0m\u001b[0mpath_name\u001b[0m\u001b[1;33m)\u001b[0m\u001b[1;33m:\u001b[0m\u001b[1;33m\u001b[0m\u001b[1;33m\u001b[0m\u001b[0m\n",
      "\u001b[1;31mNameError\u001b[0m: name 'train_path_list' is not defined"
     ]
    },
    {
     "data": {
      "text/plain": [
       "<Figure size 1080x720 with 0 Axes>"
      ]
     },
     "metadata": {},
     "output_type": "display_data"
    }
   ],
   "source": [
    "# trainset\n",
    "\n",
    "from sklearn.manifold import TSNE\n",
    "from sklearn.datasets import load_digits\n",
    "\n",
    "which_epoch = 29\n",
    "\n",
    "\n",
    "# MNIST 데이터 불러오기\n",
    "#data = load_digits()\n",
    "\n",
    "# 2차원으로 차원 축소\n",
    "n_components = 2\n",
    "\n",
    "# t-sne 모델 생성\n",
    "tsne = TSNE(n_components=n_components)\n",
    "\n",
    "# 학습한 결과 2차원 공간 값 출력\n",
    "#print(tsne.fit_transform(train_results))\n",
    "train_results_view=tsne.fit_transform(train_result_list[which_epoch])\n",
    "\n",
    "\n",
    "plt.figure(figsize=(15, 10), facecolor=\"azure\")\n",
    "for label in np.unique(train_label_list[which_epoch]):\n",
    "    tmp = train_results_view[train_label_list[which_epoch]==label]\n",
    "    path_name = np.array(train_path_list[which_epoch])[train_label_list[which_epoch]==label].tolist()\n",
    "    plt.scatter(tmp[:, 0], tmp[:, 1],label=label)\n",
    "    for idx,text in enumerate(path_name):\n",
    "        plt.text(tmp[idx][0], tmp[idx][1],text)\n",
    "\n",
    "plt.legend(['healthy','pathology'])\n",
    "plt.show()"
   ]
  },
  {
   "cell_type": "code",
   "execution_count": 104,
   "id": "9ee458c8",
   "metadata": {},
   "outputs": [
    {
     "name": "stderr",
     "output_type": "stream",
     "text": [
      "d:\\anaconda3\\envs\\local_torch\\lib\\site-packages\\sklearn\\manifold\\_t_sne.py:780: FutureWarning: The default initialization in TSNE will change from 'random' to 'pca' in 1.2.\n",
      "  warnings.warn(\n",
      "d:\\anaconda3\\envs\\local_torch\\lib\\site-packages\\sklearn\\manifold\\_t_sne.py:790: FutureWarning: The default learning rate in TSNE will change from 200.0 to 'auto' in 1.2.\n",
      "  warnings.warn(\n"
     ]
    },
    {
     "data": {
      "image/png": "[encoded data removed]",
      "text/plain": [
       "<Figure size 1080x720 with 1 Axes>"
      ]
     },
     "metadata": {},
     "output_type": "display_data"
    }
   ],
   "source": [
    "# trainset\n",
    "\n",
    "from sklearn.manifold import TSNE\n",
    "from sklearn.datasets import load_digits\n",
    "\n",
    "which_epoch = 29\n",
    "\n",
    "# MNIST 데이터 불러오기\n",
    "#data = load_digits()\n",
    "\n",
    "# 2차원으로 차원 축소\n",
    "n_components = 2\n",
    "\n",
    "# t-sne 모델 생성\n",
    "tsne = TSNE(n_components=n_components)\n",
    "\n",
    "# 학습한 결과 2차원 공간 값 출력\n",
    "#print(tsne.fit_transform(train_results))\n",
    "valid_results_view=tsne.fit_transform(valid_result_list[which_epoch])\n",
    "\n",
    "\n",
    "plt.figure(figsize=(15, 10), facecolor=\"azure\")\n",
    "for label in np.unique(valid_label_list[which_epoch]):\n",
    "    points = valid_results_view[valid_label_list[which_epoch]==label]\n",
    "    tmp = valid_results_view[valid_label_list[which_epoch]==label].tolist()\n",
    "    path_name = np.array(valid_path_list[which_epoch])[valid_label_list[which_epoch]==label].tolist()\n",
    "    plt.scatter(points[:, 0], points[:, 1],label=label)\n",
    "    for idx,text in enumerate(path_name):\n",
    "        plt.text(tmp[idx][0], tmp[idx][1],text)\n",
    "    \n",
    "\n",
    "plt.legend(['healthy','pathology'])\n",
    "plt.show()"
   ]
  },
  {
   "cell_type": "code",
   "execution_count": 62,
   "id": "88172796",
   "metadata": {},
   "outputs": [
    {
     "name": "stderr",
     "output_type": "stream",
     "text": [
      "100%|██████████| 51/51 [00:04<00:00, 11.79it/s]\n"
     ]
    },
    {
     "data": {
      "text/plain": [
       "(812, 128)"
      ]
     },
     "execution_count": 62,
     "metadata": {},
     "output_type": "execute_result"
    }
   ],
   "source": [
    "train_results = []\n",
    "labels = []\n",
    "\n",
    "model.eval()\n",
    "with torch.no_grad():\n",
    "    for img,_,_,label,_ in tqdm(train_loader):\n",
    "        train_results.append(model(img.to(DEVICE)).cpu().numpy())\n",
    "        labels.append(label)\n",
    "        \n",
    "train_results = np.concatenate(train_results)\n",
    "labels = np.concatenate(labels)\n",
    "train_results.shape"
   ]
  },
  {
   "cell_type": "code",
   "execution_count": 63,
   "id": "206f17ef",
   "metadata": {},
   "outputs": [
    {
     "data": {
      "image/png": "[encoded data removed]",
      "text/plain": [
       "<Figure size 1080x720 with 1 Axes>"
      ]
     },
     "metadata": {},
     "output_type": "display_data"
    }
   ],
   "source": [
    "plt.figure(figsize=(15, 10), facecolor=\"azure\")\n",
    "for label in np.unique(labels):\n",
    "    tmp = train_results[labels==label]\n",
    "    plt.scatter(tmp[:, 0], tmp[:, 1], label=label)\n",
    "\n",
    "plt.legend()\n",
    "plt.show()"
   ]
  },
  {
   "cell_type": "code",
   "execution_count": 33,
   "id": "97735298",
   "metadata": {},
   "outputs": [
    {
     "ename": "NameError",
     "evalue": "name 'train_results' is not defined",
     "output_type": "error",
     "traceback": [
      "\u001b[1;31m---------------------------------------------------------------------------\u001b[0m",
      "\u001b[1;31mNameError\u001b[0m                                 Traceback (most recent call last)",
      "\u001b[1;32m~\\AppData\\Local\\Temp/ipykernel_3000/1207605675.py\u001b[0m in \u001b[0;36m<module>\u001b[1;34m\u001b[0m\n\u001b[0;32m     13\u001b[0m \u001b[1;31m# 학습한 결과 2차원 공간 값 출력\u001b[0m\u001b[1;33m\u001b[0m\u001b[1;33m\u001b[0m\u001b[1;33m\u001b[0m\u001b[0m\n\u001b[0;32m     14\u001b[0m \u001b[1;31m#print(tsne.fit_transform(train_results))\u001b[0m\u001b[1;33m\u001b[0m\u001b[1;33m\u001b[0m\u001b[1;33m\u001b[0m\u001b[0m\n\u001b[1;32m---> 15\u001b[1;33m \u001b[0mtrain_results_view\u001b[0m\u001b[1;33m=\u001b[0m\u001b[0mtsne\u001b[0m\u001b[1;33m.\u001b[0m\u001b[0mfit_transform\u001b[0m\u001b[1;33m(\u001b[0m\u001b[0mtrain_results\u001b[0m\u001b[1;33m)\u001b[0m\u001b[1;33m\u001b[0m\u001b[1;33m\u001b[0m\u001b[0m\n\u001b[0m",
      "\u001b[1;31mNameError\u001b[0m: name 'train_results' is not defined"
     ]
    }
   ],
   "source": [
    "from sklearn.manifold import TSNE\n",
    "from sklearn.datasets import load_digits\n",
    "\n",
    "# MNIST 데이터 불러오기\n",
    "#data = load_digits()\n",
    "\n",
    "# 2차원으로 차원 축소\n",
    "n_components = 2\n",
    "\n",
    "# t-sne 모델 생성\n",
    "tsne = TSNE(n_components=n_components)\n",
    "\n",
    "# 학습한 결과 2차원 공간 값 출력\n",
    "#print(tsne.fit_transform(train_results))\n",
    "train_results_view=tsne.fit_transform(train_results)"
   ]
  },
  {
   "cell_type": "code",
   "execution_count": 73,
   "id": "3637830b",
   "metadata": {},
   "outputs": [
    {
     "data": {
      "image/png": "[encoded data removed]",
      "text/plain": [
       "<Figure size 1080x720 with 1 Axes>"
      ]
     },
     "metadata": {},
     "output_type": "display_data"
    }
   ],
   "source": [
    "plt.figure(figsize=(15, 10), facecolor=\"azure\")\n",
    "for label in np.unique(labels):\n",
    "    tmp = train_results_view[labels==label]\n",
    "    plt.scatter(tmp[:, 0], tmp[:, 1], label=label)\n",
    "\n",
    "plt.legend()\n",
    "plt.show()"
   ]
  },
  {
   "cell_type": "code",
   "execution_count": 74,
   "id": "7ddf77fd",
   "metadata": {},
   "outputs": [
    {
     "name": "stderr",
     "output_type": "stream",
     "text": [
      "100%|██████████| 14/14 [00:00<00:00, 85.89it/s]\n"
     ]
    },
    {
     "data": {
      "text/plain": [
       "(223, 128)"
      ]
     },
     "execution_count": 74,
     "metadata": {},
     "output_type": "execute_result"
    }
   ],
   "source": [
    "valid_results = []\n",
    "labels = []\n",
    "path_list = []\n",
    "\n",
    "model.eval()\n",
    "with torch.no_grad():\n",
    "    for img,label,paths in tqdm(validation_loader):\n",
    "        valid_results.append(model(img.to(DEVICE)).cpu().numpy())\n",
    "        labels.append(label)\n",
    "        path_list+=paths\n",
    "        \n",
    "valid_results = np.concatenate(valid_results)\n",
    "labels = np.concatenate(labels)\n",
    "valid_results.shape"
   ]
  },
  {
   "cell_type": "code",
   "execution_count": 75,
   "id": "e2535cfe",
   "metadata": {},
   "outputs": [
    {
     "data": {
      "text/plain": [
       "(223, 128)"
      ]
     },
     "execution_count": 75,
     "metadata": {},
     "output_type": "execute_result"
    }
   ],
   "source": [
    "valid_results.shape"
   ]
  },
  {
   "cell_type": "code",
   "execution_count": 44,
   "id": "e49be553",
   "metadata": {},
   "outputs": [
    {
     "ename": "NameError",
     "evalue": "name 'labels' is not defined",
     "output_type": "error",
     "traceback": [
      "\u001b[1;31m---------------------------------------------------------------------------\u001b[0m",
      "\u001b[1;31mNameError\u001b[0m                                 Traceback (most recent call last)",
      "\u001b[1;32m~\\AppData\\Local\\Temp/ipykernel_16708/630425840.py\u001b[0m in \u001b[0;36m<module>\u001b[1;34m\u001b[0m\n\u001b[0;32m      1\u001b[0m \u001b[0mplt\u001b[0m\u001b[1;33m.\u001b[0m\u001b[0mfigure\u001b[0m\u001b[1;33m(\u001b[0m\u001b[0mfigsize\u001b[0m\u001b[1;33m=\u001b[0m\u001b[1;33m(\u001b[0m\u001b[1;36m15\u001b[0m\u001b[1;33m,\u001b[0m \u001b[1;36m10\u001b[0m\u001b[1;33m)\u001b[0m\u001b[1;33m,\u001b[0m \u001b[0mfacecolor\u001b[0m\u001b[1;33m=\u001b[0m\u001b[1;34m\"azure\"\u001b[0m\u001b[1;33m)\u001b[0m\u001b[1;33m\u001b[0m\u001b[1;33m\u001b[0m\u001b[0m\n\u001b[1;32m----> 2\u001b[1;33m \u001b[1;32mfor\u001b[0m \u001b[0mlabel\u001b[0m \u001b[1;32min\u001b[0m \u001b[0mnp\u001b[0m\u001b[1;33m.\u001b[0m\u001b[0munique\u001b[0m\u001b[1;33m(\u001b[0m\u001b[0mlabels\u001b[0m\u001b[1;33m)\u001b[0m\u001b[1;33m:\u001b[0m\u001b[1;33m\u001b[0m\u001b[1;33m\u001b[0m\u001b[0m\n\u001b[0m\u001b[0;32m      3\u001b[0m     \u001b[0mtmp\u001b[0m \u001b[1;33m=\u001b[0m \u001b[0mvalid_results\u001b[0m\u001b[1;33m[\u001b[0m\u001b[0mlabels\u001b[0m\u001b[1;33m==\u001b[0m\u001b[0mlabel\u001b[0m\u001b[1;33m]\u001b[0m\u001b[1;33m\u001b[0m\u001b[1;33m\u001b[0m\u001b[0m\n\u001b[0;32m      4\u001b[0m     \u001b[0mplt\u001b[0m\u001b[1;33m.\u001b[0m\u001b[0mscatter\u001b[0m\u001b[1;33m(\u001b[0m\u001b[0mtmp\u001b[0m\u001b[1;33m[\u001b[0m\u001b[1;33m:\u001b[0m\u001b[1;33m,\u001b[0m \u001b[1;36m100\u001b[0m\u001b[1;33m]\u001b[0m\u001b[1;33m,\u001b[0m \u001b[0mtmp\u001b[0m\u001b[1;33m[\u001b[0m\u001b[1;33m:\u001b[0m\u001b[1;33m,\u001b[0m \u001b[1;36m111\u001b[0m\u001b[1;33m]\u001b[0m\u001b[1;33m,\u001b[0m \u001b[0mlabel\u001b[0m\u001b[1;33m=\u001b[0m\u001b[0mlabel\u001b[0m\u001b[1;33m)\u001b[0m\u001b[1;33m\u001b[0m\u001b[1;33m\u001b[0m\u001b[0m\n\u001b[0;32m      5\u001b[0m \u001b[1;33m\u001b[0m\u001b[0m\n",
      "\u001b[1;31mNameError\u001b[0m: name 'labels' is not defined"
     ]
    },
    {
     "data": {
      "text/plain": [
       "<Figure size 1080x720 with 0 Axes>"
      ]
     },
     "metadata": {},
     "output_type": "display_data"
    }
   ],
   "source": [
    "plt.figure(figsize=(15, 10), facecolor=\"azure\")\n",
    "for label in np.unique(labels):\n",
    "    tmp = valid_results[labels==label]\n",
    "    plt.scatter(tmp[:, 100], tmp[:, 111], label=label)\n",
    "\n",
    "plt.legend()\n",
    "plt.show()"
   ]
  },
  {
   "cell_type": "code",
   "execution_count": 77,
   "id": "64a39dac",
   "metadata": {},
   "outputs": [
    {
     "data": {
      "image/png": "[encoded data removed]",
      "text/plain": [
       "<Figure size 1080x720 with 1 Axes>"
      ]
     },
     "metadata": {},
     "output_type": "display_data"
    }
   ],
   "source": [
    "plt.figure(figsize=(15, 10), facecolor=\"azure\")\n",
    "for label in np.unique(labels):\n",
    "    tmp = valid_results[labels==label]\n",
    "    plt.scatter(tmp[:, 0], tmp[:, 1], label=label)\n",
    "\n",
    "plt.legend()\n",
    "plt.show()"
   ]
  },
  {
   "cell_type": "code",
   "execution_count": 80,
   "id": "e28c339f",
   "metadata": {},
   "outputs": [
    {
     "name": "stderr",
     "output_type": "stream",
     "text": [
      "d:\\anaconda3\\envs\\local_torch\\lib\\site-packages\\sklearn\\manifold\\_t_sne.py:780: FutureWarning: The default initialization in TSNE will change from 'random' to 'pca' in 1.2.\n",
      "  warnings.warn(\n",
      "d:\\anaconda3\\envs\\local_torch\\lib\\site-packages\\sklearn\\manifold\\_t_sne.py:790: FutureWarning: The default learning rate in TSNE will change from 200.0 to 'auto' in 1.2.\n",
      "  warnings.warn(\n"
     ]
    }
   ],
   "source": [
    "from sklearn.manifold import TSNE\n",
    "from sklearn.datasets import load_digits\n",
    "\n",
    "# MNIST 데이터 불러오기\n",
    "#data = load_digits()\n",
    "\n",
    "# 2차원으로 차원 축소\n",
    "n_components = 2\n",
    "\n",
    "# t-sne 모델 생성\n",
    "tsne = TSNE(n_components=n_components)\n",
    "\n",
    "# 학습한 결과 2차원 공간 값 출력\n",
    "#print(tsne.fit_transform(train_results))\n",
    "valid_results_view=tsne.fit_transform(valid_results)"
   ]
  },
  {
   "cell_type": "code",
   "execution_count": 44,
   "id": "55e96255",
   "metadata": {},
   "outputs": [
    {
     "data": {
      "text/plain": [
       "array([ True, False, False,  True,  True,  True,  True, False,  True,\n",
       "        True,  True, False,  True,  True,  True, False, False, False,\n",
       "        True,  True, False,  True,  True,  True,  True, False, False,\n",
       "        True, False,  True,  True, False, False,  True, False,  True,\n",
       "        True, False, False, False,  True, False,  True, False, False,\n",
       "       False,  True,  True,  True,  True,  True,  True, False,  True,\n",
       "       False,  True, False, False,  True,  True, False,  True, False,\n",
       "       False, False,  True,  True, False, False,  True,  True,  True,\n",
       "        True, False, False, False, False,  True,  True, False,  True,\n",
       "       False,  True, False, False, False,  True, False,  True, False,\n",
       "       False, False,  True,  True,  True, False,  True,  True, False,\n",
       "       False,  True, False,  True,  True,  True, False,  True, False,\n",
       "        True,  True, False,  True,  True,  True, False, False, False,\n",
       "        True,  True,  True,  True,  True, False,  True,  True, False,\n",
       "        True, False,  True, False,  True, False,  True, False,  True,\n",
       "       False,  True, False,  True, False,  True,  True,  True,  True,\n",
       "       False, False, False,  True,  True,  True, False, False, False,\n",
       "        True, False,  True,  True,  True,  True, False, False, False,\n",
       "        True,  True,  True, False,  True,  True,  True, False, False,\n",
       "        True,  True,  True, False,  True, False, False,  True,  True,\n",
       "       False,  True,  True,  True, False,  True, False,  True,  True,\n",
       "       False, False, False,  True,  True, False,  True, False, False,\n",
       "       False,  True,  True,  True,  True,  True, False,  True, False,\n",
       "       False,  True, False, False, False,  True, False, False, False,\n",
       "        True, False,  True, False,  True, False, False])"
      ]
     },
     "execution_count": 44,
     "metadata": {},
     "output_type": "execute_result"
    }
   ],
   "source": [
    "labels==label"
   ]
  },
  {
   "cell_type": "code",
   "execution_count": 59,
   "id": "6d8b2eb1",
   "metadata": {},
   "outputs": [
    {
     "data": {
      "text/plain": [
       "array([ 0.5690986 ,  0.3870677 ,  0.4264321 ,  0.52817786,  0.57922703,\n",
       "        0.3524609 ,  0.4467404 , -0.5374381 ,  0.49766225,  0.53249544,\n",
       "       -0.28672382, -0.01540619, -0.14884317,  0.48881093,  0.4866286 ,\n",
       "        0.4333786 ,  0.5874201 ,  0.4516269 , -0.06093217,  0.34320152,\n",
       "        0.5297972 ,  0.5529862 ,  0.47542563,  0.40589693,  0.3901618 ,\n",
       "        0.43661442,  0.06919231,  0.1993466 ,  0.41146955,  0.50232977,\n",
       "        0.4547234 ,  0.38364953,  0.18074062,  0.49519113,  0.5175185 ,\n",
       "        0.36378565,  0.5788287 ,  0.350017  , -0.55283844,  0.58736634,\n",
       "        0.49387547,  0.21400481,  0.44917437,  0.6847012 ,  0.23462892,\n",
       "       -0.55571383,  0.6045735 ,  0.52420336,  0.44946638,  0.29446173,\n",
       "        0.15179986,  0.02269746,  0.44881326,  0.27682656,  0.440804  ,\n",
       "        0.1690136 ,  0.24568546,  0.5198589 , -0.25392184,  0.08331984,\n",
       "        0.52678543,  0.66877586,  0.2984948 ,  0.20095533,  0.14487687,\n",
       "        0.60584307,  0.2774026 , -0.29401603, -0.7184335 ,  0.07431825,\n",
       "        0.24927402,  0.3723595 , -0.52791107,  0.4299052 ,  0.53745574,\n",
       "        0.34970662,  0.55430263, -0.32504776,  0.56637126,  0.467374  ,\n",
       "        0.37577242, -0.1917595 ,  0.27576062,  0.6336028 ,  0.351476  ,\n",
       "       -0.24411437, -0.42462364, -0.50943136,  0.5243893 ,  0.41239905,\n",
       "        0.54580784,  0.09818016,  0.3755717 , -0.54287505, -0.1454525 ,\n",
       "       -0.42186713,  0.40799898,  0.3535122 ,  0.44335604,  0.35664013,\n",
       "        0.36966735,  0.53031635], dtype=float32)"
      ]
     },
     "execution_count": 59,
     "metadata": {},
     "output_type": "execute_result"
    }
   ],
   "source": [
    "tmp[:,0]"
   ]
  },
  {
   "cell_type": "code",
   "execution_count": 74,
   "id": "c6e365fd",
   "metadata": {},
   "outputs": [
    {
     "data": {
      "text/plain": [
       "array(['1713', '1447', '1764', '1416', '1830', '728', '2033', '1770',\n",
       "       '1782', '876', '928', '1937', '2301', '2015', '1804', '1960',\n",
       "       '2158', '1832', '1551', '718', '2304', '1757', '1289', '1484',\n",
       "       '1743', '1456', '1325', '2078', '1889', '2484', '1809', '450',\n",
       "       '904', '1909', '1444', '2082', '2320', '1869', '2243', '2219',\n",
       "       '2227', '1790', '2010', '1950', '1998', '1604', '2194', '2538',\n",
       "       '1330', '2573', '1807', '1257', '1046', '2418', '1901', '1270',\n",
       "       '1386', '1671', '1986', '2234', '1259', '1223', '155', '725',\n",
       "       '1481', '1482', '141', '2424', '1397', '825', '1305', '107',\n",
       "       '2465', '2030', '1902', '929', '2595', '1304', '1554', '1277',\n",
       "       '2396', '880', '1664', '2508', '2141', '1972', '2014', '1436',\n",
       "       '2135', '1912', '1821', '1466', '2344', '2401', '1272', '1963',\n",
       "       '1863', '1908', '2467', '1992', '1897', '2567', '1581', '1797',\n",
       "       '1448', '2542', '1940', '1834', '1274', '632', '2440', '1817',\n",
       "       '1938', '1763', '1315', '1229', '497', '1810', '2023', '362',\n",
       "       '108'], dtype='<U4')"
      ]
     },
     "execution_count": 74,
     "metadata": {},
     "output_type": "execute_result"
    }
   ],
   "source": [
    "path_name"
   ]
  },
  {
   "cell_type": "code",
   "execution_count": 92,
   "id": "dffafd53",
   "metadata": {},
   "outputs": [
    {
     "data": {
      "text/plain": [
       "[[-4.537052154541016, -3.647244453430176],\n",
       " [-18.115413665771484, -9.411654472351074],\n",
       " [-9.46412467956543, 0.7401015758514404],\n",
       " [-7.086219787597656, -1.4052083492279053],\n",
       " [-17.091230392456055, -8.164416313171387],\n",
       " [2.219597101211548, 1.3836628198623657],\n",
       " [-5.510458946228027, -6.373571872711182],\n",
       " [12.784305572509766, 11.548665046691895],\n",
       " [2.0045135021209717, 3.084390163421631],\n",
       " [-18.168066024780273, -10.66531753540039],\n",
       " [-19.11714744567871, -11.111705780029297],\n",
       " [0.37795183062553406, -1.3752343654632568],\n",
       " [-8.947766304016113, -1.0380643606185913],\n",
       " [-6.225367069244385, -9.210498809814453],\n",
       " [-9.988395690917969, -4.684309005737305],\n",
       " [-16.557781219482422, -7.649112224578857],\n",
       " [-8.334125518798828, 0.2413196563720703],\n",
       " [-10.140666961669922, -8.302557945251465],\n",
       " [-3.829256772994995, 1.9298533201217651],\n",
       " [-10.731396675109863, -6.966454982757568],\n",
       " [5.950809478759766, 11.420220375061035],\n",
       " [-12.464332580566406, -6.925426006317139],\n",
       " [-8.24129867553711, -5.746730804443359],\n",
       " [-7.884800434112549, -4.128841400146484],\n",
       " [-11.192031860351562, -9.269468307495117],\n",
       " [8.438497543334961, 2.2292051315307617],\n",
       " [-5.892070770263672, -7.113850116729736],\n",
       " [-12.62533950805664, -4.00521993637085],\n",
       " [8.57094955444336, 9.052604675292969],\n",
       " [-16.347991943359375, -12.061349868774414],\n",
       " [-13.08924388885498, -3.243537664413452],\n",
       " [-9.302830696105957, -7.459776878356934],\n",
       " [-15.571023941040039, -9.428494453430176],\n",
       " [9.621023178100586, 5.923482894897461],\n",
       " [-7.437658309936523, -1.4274427890777588],\n",
       " [-13.425636291503906, -9.361797332763672],\n",
       " [-17.830760955810547, -5.928697109222412],\n",
       " [3.119093656539917, 7.170944690704346],\n",
       " [-17.727083206176758, -7.558890342712402],\n",
       " [-5.742490768432617, -3.840552568435669],\n",
       " [-10.718527793884277, -11.652170181274414],\n",
       " [2.7443037033081055, 2.387892007827759],\n",
       " [-11.272642135620117, -3.6589813232421875],\n",
       " [8.473612785339355, 6.160951137542725],\n",
       " [-13.461394309997559, -7.88698148727417],\n",
       " [-13.883922576904297, -10.95874309539795],\n",
       " [-3.1560006141662598, -4.217896938323975],\n",
       " [-1.5410196781158447, -2.731257915496826],\n",
       " [-7.872650623321533, -3.1992828845977783],\n",
       " [-15.877235412597656, -7.358863830566406],\n",
       " [-13.133880615234375, -6.434030532836914],\n",
       " [-11.843815803527832, -3.431912660598755],\n",
       " [-13.962509155273438, -5.713606357574463],\n",
       " [-12.124982833862305, -9.129365921020508],\n",
       " [-11.772382736206055, -8.508943557739258],\n",
       " [3.2622499465942383, 2.5509188175201416],\n",
       " [-4.713737964630127, -5.589975357055664],\n",
       " [-11.483134269714355, -7.141615390777588],\n",
       " [-15.148723602294922, -12.796695709228516],\n",
       " [-12.756501197814941, -4.471930980682373],\n",
       " [-8.34492301940918, -6.34000301361084],\n",
       " [-10.142807006835938, -3.152621030807495],\n",
       " [-16.89948844909668, -9.216312408447266],\n",
       " [2.1927919387817383, 2.5271294116973877],\n",
       " [-11.019916534423828, -3.297126531600952],\n",
       " [-17.855693817138672, -11.71853256225586],\n",
       " [-4.1159563064575195, -6.682888507843018],\n",
       " [9.455824851989746, 13.289963722229004],\n",
       " [-15.85623836517334, -5.221136569976807],\n",
       " [-12.632636070251465, -12.26196002960205],\n",
       " [-15.772696495056152, -10.28481388092041],\n",
       " [-11.124256134033203, -6.175273895263672],\n",
       " [-15.14570426940918, -3.7776589393615723],\n",
       " [-4.223022937774658, -4.679792404174805],\n",
       " [-15.111983299255371, -6.156949043273926],\n",
       " [-17.153188705444336, -6.858511924743652],\n",
       " [-18.089609146118164, -12.285087585449219],\n",
       " [-17.032007217407227, -9.858790397644043],\n",
       " [-16.383634567260742, -6.014542102813721],\n",
       " [-11.274674415588379, -4.4100542068481445],\n",
       " [-16.822128295898438, -10.446477890014648],\n",
       " [6.7745819091796875, 3.7627835273742676],\n",
       " [-9.461152076721191, -4.8052778244018555],\n",
       " [-9.379136085510254, -1.68682861328125],\n",
       " [-11.078577995300293, -11.649786949157715],\n",
       " [-16.486175537109375, -11.714841842651367],\n",
       " [-17.486886978149414, -5.472270488739014],\n",
       " [-9.156797409057617, -9.360862731933594],\n",
       " [-10.571490287780762, -6.91127347946167],\n",
       " [-11.267539024353027, -9.744135856628418],\n",
       " [-16.444520950317383, -8.227579116821289],\n",
       " [-12.602388381958008, -11.406283378601074],\n",
       " [-3.1932168006896973, -3.3518948554992676],\n",
       " [-13.776235580444336, -3.64616060256958],\n",
       " [-16.076807022094727, -9.481440544128418],\n",
       " [-17.43320083618164, -10.701970100402832],\n",
       " [-14.932575225830078, -7.611802577972412],\n",
       " [-14.654402732849121, -9.99979305267334],\n",
       " [-7.752930641174316, -7.492569923400879],\n",
       " [2.63140606880188, 3.295095682144165],\n",
       " [-3.4167916774749756, -5.777349948883057],\n",
       " [-9.99111557006836, 0.1649153083562851]]"
      ]
     },
     "execution_count": 92,
     "metadata": {},
     "output_type": "execute_result"
    }
   ],
   "source": [
    "tmp"
   ]
  },
  {
   "cell_type": "code",
   "execution_count": 95,
   "id": "b2903653",
   "metadata": {},
   "outputs": [
    {
     "data": {
      "text/plain": [
       "'108'"
      ]
     },
     "execution_count": 95,
     "metadata": {},
     "output_type": "execute_result"
    }
   ],
   "source": [
    "text"
   ]
  },
  {
   "cell_type": "code",
   "execution_count": 46,
   "id": "b9d69d51",
   "metadata": {},
   "outputs": [
    {
     "data": {
      "text/plain": [
       "array([1, 0, 0, 1, 0, 1, 1, 0, 1, 0, 1, 0, 1, 1, 1, 0, 0, 1, 0, 0, 1, 1,\n",
       "       1, 1, 0, 0, 1, 1, 1, 0, 0, 0, 1, 0, 1, 1, 0, 0, 1, 0, 0, 0, 1, 0,\n",
       "       0, 0, 0, 1, 0, 0, 1, 0, 1, 1, 1, 1, 1, 1, 1, 1, 1, 0, 0, 1, 1, 1,\n",
       "       0, 1, 0, 1, 0, 0, 1, 1, 0, 1, 1, 0, 0, 0, 0, 0, 1, 1, 0, 0, 0, 1,\n",
       "       0, 0, 1, 1, 0, 0, 0, 1, 1, 0, 1, 0, 0, 1, 0, 0, 1, 1, 0, 0, 0, 0,\n",
       "       0, 0, 1, 1, 1, 0, 0, 0, 1, 1, 1, 1, 1, 0, 0, 1, 1, 1, 1, 1, 0, 1,\n",
       "       1, 0, 0, 1, 1, 0, 1, 0, 0, 1, 0, 1, 1, 1, 0, 1, 1, 0, 1, 0, 0, 0,\n",
       "       0, 0, 1, 1, 0, 0, 0, 0, 0, 1, 0, 0, 0, 1, 1, 1, 0, 1, 1, 0, 1, 0,\n",
       "       0, 0, 1, 1, 0, 0, 0, 0, 0, 0, 0, 0, 0, 1, 0, 0, 1, 1, 0, 1, 1, 1,\n",
       "       0, 1, 1, 1, 0, 0, 0, 0, 0, 1, 1, 1, 0, 1, 0, 1, 0, 0, 1, 1, 1, 0,\n",
       "       0, 1, 1, 1, 0, 1, 1, 1, 0, 0, 0, 0, 0, 1, 0, 1, 0, 1, 1, 0, 0, 0,\n",
       "       0, 1, 0, 1, 1, 1, 0, 0, 1, 0, 1, 1, 1, 1, 0, 1, 0, 1, 0, 1, 0, 0,\n",
       "       1, 1, 0, 0, 0, 0, 1, 0, 0, 1, 0, 1, 1, 1, 1, 1, 0, 0, 1, 0, 0, 1,\n",
       "       1, 1, 0, 0, 1, 1, 0, 0, 1, 0, 0, 1, 0, 1, 1, 1, 0, 0, 1, 1, 1, 1,\n",
       "       0, 1, 0, 1, 1, 0, 0, 0, 0, 1, 1, 1, 0, 1, 0, 1, 0, 1, 1, 1, 1, 1,\n",
       "       0, 0, 0, 0, 1, 1, 1, 1, 1, 1, 0, 0, 0, 1, 0, 1, 0, 0, 0, 1, 0, 0,\n",
       "       0, 0, 1, 1, 0, 0, 0, 1, 1, 1, 1, 0, 0, 0, 1, 0, 1, 1, 1, 0, 0, 0,\n",
       "       0, 1, 1, 0, 0, 1, 1, 0, 1, 0, 0, 0, 0, 1, 0, 1, 0, 1, 1, 0, 0, 0,\n",
       "       0, 1, 0, 0, 0, 1, 1, 0, 0, 1, 1, 1, 1, 1, 1, 1, 0, 1, 1, 1, 0, 1,\n",
       "       0, 1, 1, 1, 0, 1, 1, 1, 0, 1, 0, 1, 1, 0, 1, 0, 0, 0, 1, 0, 1, 0,\n",
       "       0, 0, 1, 1, 1, 1, 1, 1, 0, 1, 0, 0, 0, 1, 1, 1, 0, 0, 0, 1, 1, 1,\n",
       "       0, 1, 1, 0, 1, 1, 0, 0, 1, 0, 0, 1, 1, 1, 1, 0, 0, 0, 1, 0, 1, 1,\n",
       "       1, 0, 1, 0, 1, 0, 1, 0, 0, 0, 1, 0, 1, 0, 1, 0, 1, 1, 1, 1, 0, 0,\n",
       "       0, 1, 0, 0, 0, 0, 1, 0, 1, 1, 1, 1, 0, 1, 1, 1, 0, 1, 1, 1, 0, 0,\n",
       "       1, 0, 0, 0, 0, 0, 0, 1, 0, 1, 0, 0, 1, 1, 0, 1, 0, 1, 0, 1, 1, 1,\n",
       "       1, 1, 0, 0, 0, 1, 1, 1, 0, 0, 0, 0, 0, 0, 0, 1, 0, 1, 0, 0, 1, 1,\n",
       "       1, 0, 1, 1, 0, 1, 1, 0, 0, 1, 0, 1, 0, 0, 1, 0, 0, 1, 1, 0, 0, 1,\n",
       "       0, 0, 1, 1, 1, 1, 1, 1, 0, 0, 0, 1, 0, 0, 1, 1, 0, 0, 1, 0, 0, 0,\n",
       "       1, 1, 1, 1, 0, 0, 0, 0, 0, 1, 1, 0, 0, 0, 0, 1, 1, 1, 0, 0, 0, 0,\n",
       "       1, 0, 1, 0, 1, 0, 1, 0, 1, 1, 0, 1, 1, 0, 0, 1, 0, 0, 0, 0, 1, 1,\n",
       "       1, 1, 1, 0, 0, 1, 0, 0, 0, 1, 1, 0, 1, 1, 1, 1, 1, 1, 0, 1, 1, 0,\n",
       "       0, 0, 1, 0, 1, 1, 1, 1, 1, 0, 1, 0, 0, 0, 0, 1, 1, 1, 0, 0, 1, 1,\n",
       "       1, 1, 1, 1, 0, 1, 0, 0, 0, 0, 0, 0, 0, 0, 0, 0, 1, 1, 1, 0, 1, 1,\n",
       "       0, 0, 1, 0, 1, 1, 0, 1, 0, 0, 0, 0, 0, 0, 1, 1, 1, 1, 1, 1, 0, 0,\n",
       "       0, 1, 0, 0, 0, 1, 0, 0, 1, 1, 1, 1, 0, 0, 1, 0, 0, 0, 1, 1, 1, 1,\n",
       "       1, 0, 0, 1, 0, 0, 0, 1, 0, 0, 0, 0, 0, 1, 0, 1, 1, 1, 0, 1, 0, 1,\n",
       "       0, 1, 1, 1, 0, 0, 0, 1, 1, 1, 0, 1, 1, 1, 0, 1, 0, 1, 1, 1],\n",
       "      dtype=int64)"
      ]
     },
     "execution_count": 46,
     "metadata": {},
     "output_type": "execute_result"
    }
   ],
   "source": [
    "labels"
   ]
  },
  {
   "cell_type": "code",
   "execution_count": 52,
   "id": "0a7ca2df",
   "metadata": {},
   "outputs": [
    {
     "data": {
      "text/plain": [
       "array([False,  True,  True, False,  True, False, False,  True, False,\n",
       "        True, False,  True, False, False, False,  True,  True, False,\n",
       "        True,  True, False, False, False, False,  True,  True, False,\n",
       "       False, False,  True,  True,  True, False,  True, False, False,\n",
       "        True,  True, False,  True,  True,  True, False,  True,  True,\n",
       "        True,  True, False,  True,  True, False,  True, False, False,\n",
       "       False, False, False, False, False, False, False,  True,  True,\n",
       "       False, False, False,  True, False,  True, False,  True,  True,\n",
       "       False, False,  True, False, False,  True,  True,  True,  True,\n",
       "        True, False, False,  True,  True,  True, False,  True,  True,\n",
       "       False, False,  True,  True,  True, False, False,  True, False,\n",
       "        True,  True, False,  True,  True, False, False,  True,  True,\n",
       "        True,  True,  True,  True, False, False, False,  True,  True,\n",
       "        True, False, False, False, False, False,  True,  True, False,\n",
       "       False, False, False, False,  True, False, False,  True,  True,\n",
       "       False, False,  True, False,  True,  True, False,  True, False,\n",
       "       False, False,  True, False, False,  True, False,  True,  True,\n",
       "        True,  True,  True, False, False,  True,  True,  True,  True,\n",
       "        True, False,  True,  True,  True, False, False, False,  True,\n",
       "       False, False,  True, False,  True,  True,  True, False, False,\n",
       "        True,  True,  True,  True,  True,  True,  True,  True,  True,\n",
       "       False,  True,  True, False, False,  True, False, False, False,\n",
       "        True, False, False, False,  True,  True,  True,  True,  True,\n",
       "       False, False, False,  True, False,  True, False,  True,  True,\n",
       "       False, False, False,  True,  True, False, False, False,  True,\n",
       "       False, False, False,  True,  True,  True,  True,  True, False,\n",
       "        True, False,  True, False, False,  True,  True,  True,  True,\n",
       "       False,  True, False, False, False,  True,  True, False,  True,\n",
       "       False, False, False, False,  True, False,  True, False,  True,\n",
       "       False,  True,  True, False, False,  True,  True,  True,  True,\n",
       "       False,  True,  True, False,  True, False, False, False, False,\n",
       "       False,  True,  True, False,  True,  True, False, False, False,\n",
       "        True,  True, False, False,  True,  True, False,  True,  True,\n",
       "       False,  True, False, False, False,  True,  True, False, False,\n",
       "       False, False,  True, False,  True, False, False,  True,  True,\n",
       "        True,  True, False, False, False,  True, False,  True, False,\n",
       "        True, False, False, False, False, False,  True,  True,  True,\n",
       "        True, False, False, False, False, False, False,  True,  True,\n",
       "        True, False,  True, False,  True,  True,  True, False,  True,\n",
       "        True,  True,  True, False, False,  True,  True,  True, False,\n",
       "       False, False, False,  True,  True,  True, False,  True, False,\n",
       "       False, False,  True,  True,  True,  True, False, False,  True,\n",
       "        True, False, False,  True, False,  True,  True,  True,  True,\n",
       "       False,  True, False,  True, False, False,  True,  True,  True,\n",
       "        True, False,  True,  True,  True, False, False,  True,  True,\n",
       "       False, False, False, False, False, False, False,  True, False,\n",
       "       False, False,  True, False,  True, False, False, False,  True,\n",
       "       False, False, False,  True, False,  True, False, False,  True,\n",
       "       False,  True,  True,  True, False,  True, False,  True,  True,\n",
       "        True, False, False, False, False, False, False,  True, False,\n",
       "        True,  True,  True, False, False, False,  True,  True,  True,\n",
       "       False, False, False,  True, False, False,  True, False, False,\n",
       "        True,  True, False,  True,  True, False, False, False, False,\n",
       "        True,  True,  True, False,  True, False, False, False,  True,\n",
       "       False,  True, False,  True, False,  True,  True,  True, False,\n",
       "        True, False,  True, False,  True, False, False, False, False,\n",
       "        True,  True,  True, False,  True,  True,  True,  True, False,\n",
       "        True, False, False, False, False,  True, False, False, False,\n",
       "        True, False, False, False,  True,  True, False,  True,  True,\n",
       "        True,  True,  True,  True, False,  True, False,  True,  True,\n",
       "       False, False,  True, False,  True, False,  True, False, False,\n",
       "       False, False, False,  True,  True,  True, False, False, False,\n",
       "        True,  True,  True,  True,  True,  True,  True, False,  True,\n",
       "       False,  True,  True, False, False, False,  True, False, False,\n",
       "        True, False, False,  True,  True, False,  True, False,  True,\n",
       "        True, False,  True,  True, False, False,  True,  True, False,\n",
       "        True,  True, False, False, False, False, False, False,  True,\n",
       "        True,  True, False,  True,  True, False, False,  True,  True,\n",
       "       False,  True,  True,  True, False, False, False, False,  True,\n",
       "        True,  True,  True,  True, False, False,  True,  True,  True,\n",
       "        True, False, False, False,  True,  True,  True,  True, False,\n",
       "        True, False,  True, False,  True, False,  True, False, False,\n",
       "        True, False, False,  True,  True, False,  True,  True,  True,\n",
       "        True, False, False, False, False, False,  True,  True, False,\n",
       "        True,  True,  True, False, False,  True, False, False, False,\n",
       "       False, False, False,  True, False, False,  True,  True,  True,\n",
       "       False,  True, False, False, False, False, False,  True, False,\n",
       "        True,  True,  True,  True, False, False, False,  True,  True,\n",
       "       False, False, False, False, False, False,  True, False,  True,\n",
       "        True,  True,  True,  True,  True,  True,  True,  True,  True,\n",
       "       False, False, False,  True, False, False,  True,  True, False,\n",
       "        True, False, False,  True, False,  True,  True,  True,  True,\n",
       "        True,  True, False, False, False, False, False, False,  True,\n",
       "        True,  True, False,  True,  True,  True, False,  True,  True,\n",
       "       False, False, False, False,  True,  True, False,  True,  True,\n",
       "        True, False, False, False, False, False,  True,  True, False,\n",
       "        True,  True,  True, False,  True,  True,  True,  True,  True,\n",
       "       False,  True, False, False, False,  True, False,  True, False,\n",
       "        True, False, False, False,  True,  True,  True, False, False,\n",
       "       False,  True, False, False, False,  True, False,  True, False,\n",
       "       False, False])"
      ]
     },
     "execution_count": 52,
     "metadata": {},
     "output_type": "execute_result"
    }
   ],
   "source": [
    "[labels == label]"
   ]
  },
  {
   "cell_type": "code",
   "execution_count": 81,
   "id": "c532e1d1",
   "metadata": {},
   "outputs": [
    {
     "data": {
      "image/png": "[encoded data removed]",
      "text/plain": [
       "<Figure size 1080x720 with 1 Axes>"
      ]
     },
     "metadata": {},
     "output_type": "display_data"
    }
   ],
   "source": [
    "\n",
    "plt.figure(figsize=(15, 10), facecolor=\"azure\")\n",
    "for label in np.unique(labels):\n",
    "    points = valid_results_view[labels==label]\n",
    "    tmp = valid_results_view[labels==label].tolist()\n",
    "    path_name = np.array(path_list)[labels==label].tolist()\n",
    "    plt.scatter(points[:, 0], points[:, 1],label=label)\n",
    "    for idx,text in enumerate(path_name):\n",
    "        plt.text(tmp[idx][0], tmp[idx][1],text)\n",
    "    \n",
    "\n",
    "plt.legend()\n",
    "plt.show()"
   ]
  },
  {
   "cell_type": "markdown",
   "id": "d969079c",
   "metadata": {},
   "source": [
    "# Model 결과 확인"
   ]
  },
  {
   "cell_type": "code",
   "execution_count": 242,
   "id": "8d8ef002",
   "metadata": {
    "scrolled": true
   },
   "outputs": [
    {
     "name": "stdout",
     "output_type": "stream",
     "text": [
      "[1 교차검증] train ACC : 99.1379 |\t valid ACC: 84.3049 \n",
      "[2 교차검증] train ACC : 99.8771 |\t valid ACC: 88.5870 \n",
      "[3 교차검증] train ACC : 99.1400 |\t valid ACC: 82.6733 \n",
      "[4 교차검증] train ACC : 98.8943 |\t valid ACC: 87.8947 \n",
      "[5 교차검증] train ACC : 98.6420 |\t valid ACC: 86.5979 \n",
      "평균 검증 정확도 86.01156631406658 %\n"
     ]
    }
   ],
   "source": [
    "sum_valid=0\n",
    "for data_ind in range(5):\n",
    "    print(\"[{} 교차검증] train ACC : {:.4f} |\\t valid ACC: {:.4f} \".format(data_ind+1,train_accs[data_ind],valid_accs[data_ind] ))\n",
    "    sum_valid+=valid_accs[data_ind]\n",
    "    \n",
    "print(\"평균 검증 정확도\",sum_valid/5,\"%\")"
   ]
  },
  {
   "cell_type": "markdown",
   "id": "6f7d3f46",
   "metadata": {},
   "source": [
    "# Model Test\n",
    "\n",
    "- test set\n",
    "- confusion matrix"
   ]
  },
  {
   "cell_type": "code",
   "execution_count": 243,
   "id": "b597b674",
   "metadata": {},
   "outputs": [],
   "source": [
    "#confusion matrix 계산\n",
    "#test set 계산.\n",
    "def test_evaluate(model,test_loader):\n",
    "    model.eval()\n",
    "    test_loss = 0\n",
    "    predictions = []\n",
    "    answers = []\n",
    "    #no_grad : 그래디언트 값 계산 막기.\n",
    "    with torch.no_grad():\n",
    "        for image,label in test_loader:\n",
    "            image = image.to(DEVICE)\n",
    "            label = label.to(DEVICE)\n",
    "            output = model(image)\n",
    "            test_loss += criterion(output, label).item()\n",
    "            prediction = output.max(1,keepdim=True)[1] # 가장 확률이 높은 class 1개를 가져온다.그리고 인덱스만\n",
    "            answers +=label\n",
    "            predictions +=prediction\n",
    "            \n",
    "        return predictions,answers,test_loss\n",
    "            "
   ]
  },
  {
   "cell_type": "code",
   "execution_count": 244,
   "id": "446269f0",
   "metadata": {
    "scrolled": false
   },
   "outputs": [
    {
     "name": "stdout",
     "output_type": "stream",
     "text": [
      "1번 모델\n",
      "Accuracy : 81.4346% \n",
      "recall (실제 pathology 중  예측이 맞는 것) : 0.8829\n",
      "specificity : 0.7540%\n",
      "UAR : 0.8184%\n",
      "f score : 0.8143 \n",
      "[[95 31]\n",
      " [13 98]]\n",
      "-----\n",
      "2번 모델\n",
      "Accuracy : 83.9662% \n",
      "recall (실제 pathology 중  예측이 맞는 것) : 0.7748\n",
      "specificity : 0.8968%\n",
      "UAR : 0.8358%\n",
      "f score : 0.8376 \n",
      "[[113  13]\n",
      " [ 25  86]]\n",
      "-----\n",
      "3번 모델\n",
      "Accuracy : 83.1224% \n",
      "recall (실제 pathology 중  예측이 맞는 것) : 0.7838\n",
      "specificity : 0.8730%\n",
      "UAR : 0.8284%\n",
      "f score : 0.8296 \n",
      "[[110  16]\n",
      " [ 24  87]]\n",
      "-----\n",
      "4번 모델\n",
      "Accuracy : 84.3882% \n",
      "recall (실제 pathology 중  예측이 맞는 것) : 0.8559\n",
      "specificity : 0.8333%\n",
      "UAR : 0.8446%\n",
      "f score : 0.8436 \n",
      "[[105  21]\n",
      " [ 16  95]]\n",
      "-----\n",
      "5번 모델\n",
      "Accuracy : 80.5907% \n",
      "recall (실제 pathology 중  예측이 맞는 것) : 0.6667\n",
      "specificity : 0.9286%\n",
      "UAR : 0.7976%\n",
      "f score : 0.7993 \n",
      "[[117   9]\n",
      " [ 37  74]]\n",
      "-----\n",
      "평균 acc : 0.8270\n",
      "평균 UAR : 0.8250\n",
      "평균 f1score : 0.8249\n"
     ]
    }
   ],
   "source": [
    "# Confusion matrix (resnet18)\n",
    "# kfold의 confusion matrix는 계산 방법이 다르다.\n",
    "# 모델을 각각 불러와서 test set을 평가한다.\n",
    "\n",
    "from sklearn.metrics import confusion_matrix\n",
    "from sklearn.metrics import f1_score\n",
    "\n",
    "cf = np.zeros((2,2))\n",
    "cf_list = []\n",
    "average_accuracy = 0\n",
    "average_fscore = 0\n",
    "average_uar = 0\n",
    "\n",
    "for data_ind in range(1,6):\n",
    "    model=model_initialize()\n",
    "    check_path = './checkpoint/checkpoint_wavegram_ros_'+str(data_ind)+'_organics_speaker.pt'\n",
    "    model.load_state_dict(torch.load(check_path))\n",
    "\n",
    "    predictions,answers,test_loss = test_evaluate(model, test_loader)\n",
    "    predictions=[ dat.cpu().numpy() for dat in predictions]\n",
    "    answers=[ dat.cpu().numpy() for dat in answers]\n",
    "\n",
    "    \n",
    "    cf = confusion_matrix(answers, predictions)\n",
    "    cf_list.append(cf)\n",
    "    \n",
    "    acc = (cf[0,0]+cf[1,1])/(cf[0,0]+cf[0,1]+cf[1,0]+cf[1,1])\n",
    "    average_accuracy+=acc\n",
    "    \n",
    "    precision=cf[1,1]/(cf[0,1]+cf[1,1])\n",
    "    \n",
    "    recall=cf[1,1]/(cf[1,1]+cf[1,0])\n",
    "    \n",
    "    specificity=cf[0,0]/(cf[0,0]+cf[0,1])\n",
    "    average_uar += (specificity+recall)/2\n",
    "    #fscore=2*precision*recall/(precision+recall)\n",
    "    \n",
    "    #fscroe macro추가\n",
    "    fscore = f1_score(answers,predictions,average='macro')\n",
    "    average_fscore+=fscore\n",
    "    \n",
    "    print('{}번 모델'.format(data_ind))\n",
    "    print(\"Accuracy : {:.4f}% \".format(acc*100))\n",
    "    #print(\"Precision (pathology 예측한 것중 맞는 것) : {:.4f}\".format(precision))\n",
    "    print(\"recall (실제 pathology 중  예측이 맞는 것) : {:.4f}\".format(recall))\n",
    "    print(\"specificity : {:.4f}%\".format(specificity))\n",
    "    print(\"UAR : {:.4f}%\".format( (specificity+recall)/2 ))\n",
    "    \n",
    "    \n",
    "    print(\"f score : {:.4f} \".format(fscore))\n",
    "    print(cf)\n",
    "    print(\"-----\")\n",
    "    #### wandb\n",
    "    \n",
    "\n",
    "    wandb.log({\"{}fold Confusion Matrix\".format(data_ind) :wandb.sklearn.plot_confusion_matrix(answers, predictions, labels=classes)})\n",
    "    \n",
    "    ####\n",
    "    \n",
    "    \n",
    "    \n",
    "\n",
    "print(\"평균 acc : {:.4f}\".format(average_accuracy/5))\n",
    "print(\"평균 UAR : {:.4f}\".format(average_uar/5))\n",
    "print(\"평균 f1score : {:.4f}\".format(average_fscore/5))\n",
    "wandb.run.summary.update({\"test 평균 acc\" : average_accuracy/5})\n",
    "wandb.run.summary.update({\"test 평균 f1\" : average_fscore/5})\n",
    "wandb.run.summary.update({\"test 평균 UAR\" : average_uar/5})\n",
    "\n"
   ]
  },
  {
   "cell_type": "code",
   "execution_count": null,
   "id": "70d4cac4",
   "metadata": {},
   "outputs": [
    {
     "ename": "NameError",
     "evalue": "name 'ᄋᄋᄋᄋᄋᄋᄋᄋᄋ' is not defined",
     "output_type": "error",
     "traceback": [
      "\u001b[1;31m---------------------------------------------------------------------------\u001b[0m",
      "\u001b[1;31mNameError\u001b[0m                                 Traceback (most recent call last)",
      "\u001b[1;32m~\\AppData\\Local\\Temp/ipykernel_3184/757536221.py\u001b[0m in \u001b[0;36m<module>\u001b[1;34m\u001b[0m\n\u001b[1;32m----> 1\u001b[1;33m \u001b[0mㅇㅇㅇㅇㅇㅇㅇㅇㅇ\u001b[0m\u001b[1;33m\u001b[0m\u001b[1;33m\u001b[0m\u001b[0m\n\u001b[0m",
      "\u001b[1;31mNameError\u001b[0m: name 'ᄋᄋᄋᄋᄋᄋᄋᄋᄋ' is not defined"
     ]
    }
   ],
   "source": [
    "ㅇㅇㅇㅇㅇㅇㅇㅇㅇ"
   ]
  },
  {
   "cell_type": "markdown",
   "id": "38befa06",
   "metadata": {},
   "source": [
    "# loss 시각화"
   ]
  },
  {
   "cell_type": "code",
   "execution_count": null,
   "id": "726a124f",
   "metadata": {},
   "outputs": [],
   "source": [
    "plt.plot(train_loss_list[0])\n",
    "plt.plot(valid_loss_list[0])\n",
    "plt.show()"
   ]
  },
  {
   "cell_type": "code",
   "execution_count": null,
   "id": "ab4c63c6",
   "metadata": {},
   "outputs": [],
   "source": [
    "plt.plot(train_loss_list[1])\n",
    "plt.plot(valid_loss_list[1])\n",
    "plt.show()"
   ]
  },
  {
   "cell_type": "code",
   "execution_count": null,
   "id": "a20a80e3",
   "metadata": {},
   "outputs": [],
   "source": [
    "plt.plot(train_loss_list[2])\n",
    "plt.plot(valid_loss_list[2])\n",
    "plt.show()"
   ]
  },
  {
   "cell_type": "code",
   "execution_count": null,
   "id": "c0844b82",
   "metadata": {},
   "outputs": [],
   "source": [
    "plt.plot(train_loss_list[3])\n",
    "plt.plot(valid_loss_list[3])\n",
    "plt.show()"
   ]
  },
  {
   "cell_type": "code",
   "execution_count": null,
   "id": "967cb3fb",
   "metadata": {},
   "outputs": [],
   "source": [
    "plt.plot(train_loss_list[4])\n",
    "plt.plot(valid_loss_list[4])\n",
    "plt.show()"
   ]
  },
  {
   "cell_type": "code",
   "execution_count": null,
   "id": "4a30c958",
   "metadata": {},
   "outputs": [],
   "source": [
    "plt.plot(train_accs_list[0])\n",
    "plt.plot(valid_accs_list[0])\n",
    "plt.show()"
   ]
  },
  {
   "cell_type": "code",
   "execution_count": null,
   "id": "3bb4d193",
   "metadata": {},
   "outputs": [],
   "source": [
    "plt.plot(train_accs_list[1])\n",
    "plt.plot(valid_accs_list[1])\n",
    "plt.show()"
   ]
  },
  {
   "cell_type": "code",
   "execution_count": null,
   "id": "ab39285a",
   "metadata": {},
   "outputs": [],
   "source": [
    "plt.plot(train_accs_list[2])\n",
    "plt.plot(valid_accs_list[2])\n",
    "plt.show()"
   ]
  },
  {
   "cell_type": "code",
   "execution_count": null,
   "id": "3abbc85f",
   "metadata": {},
   "outputs": [],
   "source": [
    "plt.plot(train_accs_list[3])\n",
    "plt.plot(valid_accs_list[3])\n",
    "plt.show()"
   ]
  },
  {
   "cell_type": "code",
   "execution_count": null,
   "id": "8ba0b821",
   "metadata": {},
   "outputs": [],
   "source": [
    "plt.plot(train_accs_list[4])\n",
    "plt.plot(valid_accs_list[4])\n",
    "plt.show()"
   ]
  },
  {
   "cell_type": "markdown",
   "id": "88e84a9f",
   "metadata": {},
   "source": [
    "# 결과 출력 -validation"
   ]
  },
  {
   "cell_type": "code",
   "execution_count": null,
   "id": "3bb4245e",
   "metadata": {},
   "outputs": [],
   "source": [
    "# 모델\n",
    "# pretrained\n",
    "\n",
    "class ResLayer(nn.Module):\n",
    "    def __init__(self):\n",
    "        super(ResLayer, self).__init__()\n",
    "        self.model = models.resnet18(pretrained=True).cuda() \n",
    "        self.num_ftrs = self.model.fc.out_features\n",
    "        \n",
    "        \n",
    "        \n",
    "        self.fc = nn.Sequential(       \n",
    "            nn.Linear(self.num_ftrs, 64),\n",
    "                             nn.BatchNorm1d(64),\n",
    "                             nn.ReLU(),\n",
    "                             nn.Dropout(p=0.5),\n",
    "                             nn.Linear(64,50),\n",
    "                             nn.BatchNorm1d(50),\n",
    "                             nn.ReLU(),\n",
    "                             nn.Dropout(p=0.5),\n",
    "                             nn.Linear(50,2)\n",
    "                            )\n",
    "        \n",
    "\n",
    "    def forward(self, x):\n",
    "        x = self.model(x)\n",
    "        x  = self.fc(x)\n",
    "        return x\n",
    "\n",
    "\n",
    "\n",
    "\n",
    "\n",
    "def model_initialize():\n",
    "    model = ResLayer().cuda()\n",
    "    return model\n",
    "\n",
    "model=model_initialize()"
   ]
  },
  {
   "cell_type": "code",
   "execution_count": null,
   "id": "53988588",
   "metadata": {},
   "outputs": [],
   "source": [
    "#default param\n",
    "mfcc_run_config = dict(\n",
    "    sr=16000,\n",
    "    n_mfcc=27,\n",
    "    #dct_type=3, # type2 default\n",
    "    lifter = 35,\n",
    "\n",
    "    \n",
    "    #mel spectro\n",
    "    n_mels=170,\n",
    "    hop_length=750,\n",
    "    n_fft =14056,    \n",
    "    win_length=1100,\n",
    "    f_max=8000,\n",
    "    \n",
    "    # training\n",
    "    #batch_size=32,\n",
    "    mel_scale ='htk',\n",
    "    \n",
    "    # data\n",
    "    fold=1,\n",
    ")\n",
    "\n",
    "mel_run_config = dict(\n",
    "    sr=16000,\n",
    "    n_mels=128,\n",
    "    win_length =  300,\n",
    "    n_fft= 2048,\n",
    "    hop_length= 50,\n",
    "    f_max = 8000    \n",
    ")\n",
    "\n",
    "\n",
    "spectro_run_config =dict(\n",
    "    sr=16000,\n",
    "    n_fft=350,\n",
    "    hop_length=50,\n",
    "    win_length=350,\n",
    "    # training\n",
    "    batch_size=16,\n",
    ")\n",
    "\n",
    "\n"
   ]
  },
  {
   "cell_type": "code",
   "execution_count": null,
   "id": "37bbbe8e",
   "metadata": {},
   "outputs": [],
   "source": [
    "from torch.utils.data import Dataset, DataLoader\n",
    "\n",
    "classes = [\"healthy\",\"pathology\"]\n",
    "\n",
    "\n",
    "class svd_dataset_valid(Dataset):\n",
    "    def __init__(self,data_path_list,classes,data_num,training,mfcc_params,mel_params,spectro_params,transform=None,normalize=None,mfcc_normalize=None):\n",
    "        #클래스에서 사용할 인자를 받아 인스턴스 변수로 저장하는 일을 한다.\n",
    "        #예를들면, 이미지의 경로 리스트를 저장하는 일을 하게 된다.\n",
    "        \n",
    "        #data_num : k 개 데이터 셋 중 어떤것을 쓸지\n",
    "        #test인지 아닌지.\n",
    "        \n",
    "        self.path_list = data_path_list[data_num]\n",
    "        self.data_num = data_num\n",
    "        self.training = training\n",
    "        self.label = svd_dataset_valid.get_label(self.path_list,training,data_num)\n",
    "        self.classes=classes\n",
    "        self.transform=transform\n",
    "        self.normalize=normalize\n",
    "        self.mfcc_normalize = mfcc_normalize\n",
    "        # sweep params\n",
    "        self.mel_params = mel_params\n",
    "        self.spectro_params = spectro_params\n",
    "        self.mfcc_params = mfcc_params\n",
    "        #sr,n_mfcc,lifter, hop_length , win_length , n_mels , n_fft , f_max , batch_size\n",
    "\n",
    "        \n",
    "    \n",
    "    @classmethod\n",
    "    def get_label(cls,data_path_list,training,data_num):\n",
    "        label_list=[]\n",
    "        \n",
    "        if training:\n",
    "            for idx,x in enumerate(data_path_list):\n",
    "                label_list.append(Y_train_list[data_num][idx])\n",
    "        else:\n",
    "            for idx,x in enumerate(data_path_list):\n",
    "                label_list.append(Y_valid_list[data_num][idx])\n",
    "        #print(label_list)\n",
    "        return label_list\n",
    "    \n",
    "    \n",
    "    def __len__(self):\n",
    "        return len(self.path_list)\n",
    "        #데이터 셋의 길이를 정수로 반환한다.     \n",
    "    \n",
    "       \n",
    "    def __getitem__(self, idx):\n",
    "        \"\"\"\n",
    "        1. path를 받아서, 소리에서 mfcc를 추출\n",
    "        2. mfcc를 224프레임으로 패딩.\n",
    "        3. resnet에 사용되기 위해 3채널로 복사(rgb 처럼)\n",
    "        4. 0~1 정규화\n",
    "        \n",
    "        \"\"\"\n",
    "        sig = phrase_dict[ str(self.path_list[idx])+'-phrase.wav'] \n",
    "        #sig = preemphasis(sig)\n",
    "        \n",
    "        origin_length = sig.shape[0]\n",
    "        \n",
    "        if sig.shape[0] > self.mfcc_params[\"sr\"]*2:\n",
    "            origin_length = self.mfcc_params[\"sr\"]*2\n",
    "        \n",
    "        origin_frame_size = 1 + int(np.floor(origin_length//self.mel_params[\"hop_length\"]))\n",
    "        \n",
    "        length = self.mfcc_params[\"sr\"]*2 #sample rate *2 padding을 위한 파라미터 (하이퍼 파라미터로인해 사이즈는 계속 바뀐다.)\n",
    "        pad1d = lambda a, i: a[0:i] if a.shape[0] > i else np.hstack((a, np.zeros((i-a.shape[0]))))        \n",
    "        sig = pad1d(sig,length)        \n",
    "        \n",
    "        ###signal norm\n",
    "        sig = (sig-sig.mean())/sig.std()\n",
    "        ###\n",
    "        \n",
    "        mel_feature = librosa.feature.melspectrogram(y=sig,\n",
    "                                                     sr=self.mel_params[\"sr\"],\n",
    "                                                     # hyp param\n",
    "                                                     n_mels = self.mel_params[\"n_mels\"],\n",
    "                                                     n_fft = self.mel_params[\"n_fft\"],\n",
    "                                                     win_length = self.mel_params[\"win_length\"],\n",
    "                                                     hop_length = self.mel_params[\"hop_length\"],\n",
    "                                                     fmax = self.mel_params[\"f_max\"]\n",
    "                                                    )\n",
    "        mel_feature = librosa.core.power_to_db(mel_feature,ref=np.max) \n",
    "        \n",
    "        \n",
    "        if self.transform:\n",
    "            mel_feature = self.transform(mel_feature).type(torch.float32)# 데이터 0~1 정규화\n",
    "            MSF = torch.stack([mel_feature, mel_feature, mel_feature])# 3채널로 복사.\n",
    "            MSF = MSF.squeeze(dim=1)    \n",
    "            \n",
    "            # global normalize\n",
    "            if self.normalize:\n",
    "                #MFCCs=self.normalize(MFCCs)\n",
    "                MSF = self.normalize(MSF)\n",
    "        else:\n",
    "            pass\n",
    "            #print(\"else\")\n",
    "            mel_feature = torch.from_numpy(mel_feature).type(torch.float32)\n",
    "            mel_feature = mel_feature.unsqueeze(0)#cnn 사용위해서 추가\n",
    "            #MFCCs = MFCCs.permute(2, 0, 1)\n",
    "        return MSF, self.classes.index(self.label[idx]),str(self.path_list[idx])+'-phrase.wav'\n",
    "    "
   ]
  },
  {
   "cell_type": "code",
   "execution_count": null,
   "id": "5ae6e9b1",
   "metadata": {},
   "outputs": [],
   "source": [
    "\n",
    "all_filename=[]\n",
    "all_prediction=[]\n",
    "all_answers=[]\n",
    "\n",
    "\n",
    "def seed_worker(worker_id):\n",
    "    worker_seed = torch.initial_seed() % 2**32\n",
    "    np.random.seed(worker_seed)\n",
    "    random.seed(worker_seed)\n",
    "\n",
    "\n",
    "def valid_evaluate(model,data_ind):\n",
    "\n",
    "    model.eval()\n",
    "    test_loss = 0\n",
    "    predictions = []\n",
    "    answers = []\n",
    "    file_name = []\n",
    "    \n",
    "    criterion = nn.CrossEntropyLoss()\n",
    "    BATCH_SIZE=16\n",
    "\n",
    "    validation_loader = torch.utils.data.DataLoader(dataset = \n",
    "                                               svd_dataset_valid(\n",
    "                                                   X_valid_list,\n",
    "                                                   classes,\n",
    "                                                   transform = transforms.ToTensor(),\n",
    "                                                   data_num=data_ind,\n",
    "                                                   #normalize=transforms.Normalize((-11.4805,-54.7723,-54.7723),(16.87,19.0226,19.0226)),\n",
    "                                                   #mfcc_normalize=(53.5582, 217.43),\n",
    "                                                   mfcc_params=mfcc_run_config,\n",
    "                                                   mel_params=mel_run_config,\n",
    "                                                   spectro_params=spectro_run_config,\n",
    "                                                   training=False\n",
    "                                               ),\n",
    "                                                    batch_size = BATCH_SIZE,\n",
    "                                                    shuffle = True,\n",
    "                                                    worker_init_fn=seed_worker)    \n",
    "    \n",
    "    \n",
    "    \n",
    "    with torch.no_grad():\n",
    "        for image,label,path_list in validation_loader:\n",
    "            image = image.to(DEVICE)\n",
    "            label = label.to(DEVICE)\n",
    "            output = model(image)\n",
    "            test_loss += criterion(output, label).item()\n",
    "            prediction = output.max(1,keepdim=True)[1] # 가장 확률이 높은 class 1개를 가져온다.그리고 인덱스만\n",
    "            answers +=label\n",
    "            predictions +=prediction\n",
    "            file_name+=(path_list)\n",
    "        all_filename.append(file_name)\n",
    "        all_prediction.append(predictions)\n",
    "        all_answers.append(answers)\n",
    "    return predictions,answers,test_loss\n",
    "            "
   ]
  },
  {
   "cell_type": "code",
   "execution_count": null,
   "id": "f542e566",
   "metadata": {},
   "outputs": [
    {
     "name": "stdout",
     "output_type": "stream",
     "text": [
      "1번 모델\n",
      "Accuracy : 84.8624% \n",
      "Precision (pathology 예측한 것중 맞는 것) : 0.8636\n",
      "recall (실제 pathology 중  예측이 맞는 것) : 0.8407\n",
      "specificity : 0.8571%\n",
      "UAR : 0.8489%\n",
      "f score : 0.8485 \n",
      "[[90 15]\n",
      " [18 95]]\n",
      "-----\n",
      "2번 모델\n",
      "Accuracy : 87.8505% \n",
      "Precision (pathology 예측한 것중 맞는 것) : 0.8707\n",
      "recall (실제 pathology 중  예측이 맞는 것) : 0.9018\n",
      "specificity : 0.8529%\n",
      "UAR : 0.8774%\n",
      "f score : 0.8780 \n",
      "[[ 87  15]\n",
      " [ 11 101]]\n",
      "-----\n",
      "3번 모델\n",
      "Accuracy : 86.1702% \n",
      "Precision (pathology 예측한 것중 맞는 것) : 0.8488\n",
      "recall (실제 pathology 중  예측이 맞는 것) : 0.8488\n",
      "specificity : 0.8725%\n",
      "UAR : 0.8607%\n",
      "f score : 0.8607 \n",
      "[[89 13]\n",
      " [13 73]]\n",
      "-----\n",
      "4번 모델\n",
      "Accuracy : 88.8889% \n",
      "Precision (pathology 예측한 것중 맞는 것) : 0.8642\n",
      "recall (실제 pathology 중  예측이 맞는 것) : 0.8861\n",
      "specificity : 0.8911%\n",
      "UAR : 0.8886%\n",
      "f score : 0.8875 \n",
      "[[90 11]\n",
      " [ 9 70]]\n",
      "-----\n",
      "5번 모델\n",
      "Accuracy : 92.3858% \n",
      "Precision (pathology 예측한 것중 맞는 것) : 0.9263\n",
      "recall (실제 pathology 중  예측이 맞는 것) : 0.9167\n",
      "specificity : 0.9307%\n",
      "UAR : 0.9237%\n",
      "f score : 0.9238 \n",
      "[[94  7]\n",
      " [ 8 88]]\n",
      "-----\n",
      "평균 acc : 0.8803\n",
      "평균 UAR : 0.8798\n",
      "평균 f1score : 0.8797\n"
     ]
    }
   ],
   "source": [
    "# Confusion matrix (resnet18)\n",
    "# kfold의 confusion matrix는 계산 방법이 다르다.\n",
    "# 모델을 각각 불러와서 test set을 평가한다.\n",
    "\n",
    "from sklearn.metrics import confusion_matrix\n",
    "from sklearn.metrics import f1_score\n",
    "\n",
    "cf = np.zeros((2,2))\n",
    "cf_list = []\n",
    "average_accuracy = 0\n",
    "average_fscore = 0\n",
    "average_uar = 0\n",
    "\n",
    "all_filename=[]\n",
    "all_prediction=[]\n",
    "all_answers=[]\n",
    "\n",
    "args={  'model':'baseline',\n",
    "        'seed':1004\n",
    "        }\n",
    "\n",
    "\n",
    "\n",
    "\n",
    "\n",
    "for data_ind in range(1,6):\n",
    "    model=model_initialize()\n",
    "    check_path = './checkpoint/checkpoint_ros_fold_'+str(data_ind)+'_'+args['model']+'_seed_'+str(args['seed'])+'_organics_speaker.pt'\n",
    "    model.load_state_dict(torch.load(check_path))\n",
    "\n",
    "    predictions,answers,valid_loss = valid_evaluate(model, data_ind-1)\n",
    "    predictions=[ dat.cpu().numpy() for dat in predictions]\n",
    "    answers=[ dat.cpu().numpy() for dat in answers]\n",
    "\n",
    "    \n",
    "    cf = confusion_matrix(answers, predictions)\n",
    "    cf_list.append(cf)\n",
    "    \n",
    "    acc = (cf[0,0]+cf[1,1])/(cf[0,0]+cf[0,1]+cf[1,0]+cf[1,1])\n",
    "    average_accuracy+=acc\n",
    "    \n",
    "    precision=cf[1,1]/(cf[0,1]+cf[1,1])\n",
    "    \n",
    "    recall=cf[1,1]/(cf[1,1]+cf[1,0])\n",
    "    \n",
    "    specificity=cf[0,0]/(cf[0,0]+cf[0,1])\n",
    "    average_uar += (specificity+recall)/2\n",
    "    \n",
    "    #fscroe macro추가\n",
    "    fscore = f1_score(answers,predictions,average='macro')\n",
    "    average_fscore+=fscore\n",
    "    \n",
    "    print('{}번 모델'.format(data_ind))\n",
    "    print(\"Accuracy : {:.4f}% \".format(acc*100))\n",
    "    print(\"Precision (pathology 예측한 것중 맞는 것) : {:.4f}\".format(precision))\n",
    "    print(\"recall (실제 pathology 중  예측이 맞는 것) : {:.4f}\".format(recall))\n",
    "    print(\"specificity : {:.4f}%\".format(specificity))\n",
    "    print(\"UAR : {:.4f}%\".format( (specificity+recall)/2 ))\n",
    "    \n",
    "    \n",
    "    print(\"f score : {:.4f} \".format(fscore))\n",
    "    print(cf)\n",
    "    print(\"-----\")\n",
    "    \n",
    "    \n",
    "    \n",
    "\n",
    "print(\"평균 acc : {:.4f}\".format(average_accuracy/5))\n",
    "print(\"평균 UAR : {:.4f}\".format(average_uar/5))\n",
    "print(\"평균 f1score : {:.4f}\".format(average_fscore/5))\n",
    "\n",
    "\n"
   ]
  },
  {
   "cell_type": "code",
   "execution_count": null,
   "id": "0eb7b2a9",
   "metadata": {},
   "outputs": [
    {
     "data": {
      "text/plain": [
       "5"
      ]
     },
     "execution_count": 42,
     "metadata": {},
     "output_type": "execute_result"
    }
   ],
   "source": [
    "len(all_filename)"
   ]
  },
  {
   "cell_type": "code",
   "execution_count": null,
   "id": "cbd19358",
   "metadata": {},
   "outputs": [],
   "source": [
    "fold_excel = []\n",
    "for i in range(5):\n",
    "    fold_excel.append(pd.DataFrame({'filename':all_filename[i],\n",
    "                  'prediction':[data.cpu().numpy().item() for data in all_prediction[i]],\n",
    "                  'answer':[ data.cpu().numpy().item() for data in all_answers[i]],\n",
    "                  'fold':i+1}))"
   ]
  },
  {
   "cell_type": "code",
   "execution_count": null,
   "id": "7afc7e35",
   "metadata": {},
   "outputs": [],
   "source": [
    "fold_excel_all=pd.concat(fold_excel,axis=0)"
   ]
  },
  {
   "cell_type": "code",
   "execution_count": null,
   "id": "d553f2f7",
   "metadata": {},
   "outputs": [
    {
     "data": {
      "text/html": [
       "<div>\n",
       "<style scoped>\n",
       "    .dataframe tbody tr th:only-of-type {\n",
       "        vertical-align: middle;\n",
       "    }\n",
       "\n",
       "    .dataframe tbody tr th {\n",
       "        vertical-align: top;\n",
       "    }\n",
       "\n",
       "    .dataframe thead th {\n",
       "        text-align: right;\n",
       "    }\n",
       "</style>\n",
       "<table border=\"1\" class=\"dataframe\">\n",
       "  <thead>\n",
       "    <tr style=\"text-align: right;\">\n",
       "      <th></th>\n",
       "      <th>RECORDING</th>\n",
       "      <th>PATHOLOGY</th>\n",
       "      <th>DATE</th>\n",
       "      <th>SPEAKER</th>\n",
       "      <th>GENDER</th>\n",
       "      <th>AGE</th>\n",
       "      <th>DETAIL</th>\n",
       "      <th>DIAG</th>\n",
       "    </tr>\n",
       "  </thead>\n",
       "  <tbody>\n",
       "    <tr>\n",
       "      <th>0</th>\n",
       "      <td>715</td>\n",
       "      <td>p</td>\n",
       "      <td>20.05.1998</td>\n",
       "      <td>1407</td>\n",
       "      <td>w</td>\n",
       "      <td>63</td>\n",
       "      <td>Laryngitis; Leukoplakie</td>\n",
       "      <td>structural</td>\n",
       "    </tr>\n",
       "    <tr>\n",
       "      <th>1</th>\n",
       "      <td>1303</td>\n",
       "      <td>p</td>\n",
       "      <td>21.04.1999</td>\n",
       "      <td>1407</td>\n",
       "      <td>w</td>\n",
       "      <td>64</td>\n",
       "      <td>Leukoplakie</td>\n",
       "      <td>structural</td>\n",
       "    </tr>\n",
       "    <tr>\n",
       "      <th>2</th>\n",
       "      <td>1557</td>\n",
       "      <td>p</td>\n",
       "      <td>08.12.1999</td>\n",
       "      <td>1407</td>\n",
       "      <td>w</td>\n",
       "      <td>65</td>\n",
       "      <td>Leukoplakie</td>\n",
       "      <td>structural</td>\n",
       "    </tr>\n",
       "    <tr>\n",
       "      <th>3</th>\n",
       "      <td>1559</td>\n",
       "      <td>p</td>\n",
       "      <td>15.12.1999</td>\n",
       "      <td>1407</td>\n",
       "      <td>w</td>\n",
       "      <td>65</td>\n",
       "      <td>Leukoplakie</td>\n",
       "      <td>structural</td>\n",
       "    </tr>\n",
       "    <tr>\n",
       "      <th>4</th>\n",
       "      <td>1864</td>\n",
       "      <td>p</td>\n",
       "      <td>29.11.2000</td>\n",
       "      <td>1407</td>\n",
       "      <td>w</td>\n",
       "      <td>66</td>\n",
       "      <td>Leukoplakie</td>\n",
       "      <td>structural</td>\n",
       "    </tr>\n",
       "  </tbody>\n",
       "</table>\n",
       "</div>"
      ],
      "text/plain": [
       "   RECORDING PATHOLOGY        DATE  SPEAKER GENDER  AGE  \\\n",
       "0        715         p  20.05.1998     1407      w   63   \n",
       "1       1303         p  21.04.1999     1407      w   64   \n",
       "2       1557         p  08.12.1999     1407      w   65   \n",
       "3       1559         p  15.12.1999     1407      w   65   \n",
       "4       1864         p  29.11.2000     1407      w   66   \n",
       "\n",
       "                    DETAIL        DIAG  \n",
       "0  Laryngitis; Leukoplakie  structural  \n",
       "1              Leukoplakie  structural  \n",
       "2              Leukoplakie  structural  \n",
       "3              Leukoplakie  structural  \n",
       "4              Leukoplakie  structural  "
      ]
     },
     "execution_count": 45,
     "metadata": {},
     "output_type": "execute_result"
    }
   ],
   "source": [
    "answer_paper=pd.read_excel('D:/project/voice_pathology_ai/voice_data/only_organics_healthy.xlsx')\n",
    "answer_paper.head()"
   ]
  },
  {
   "cell_type": "code",
   "execution_count": null,
   "id": "c041ccab",
   "metadata": {},
   "outputs": [],
   "source": [
    "answer_paper['RECORDING']=answer_paper['RECORDING'].values.astype(str)"
   ]
  },
  {
   "cell_type": "code",
   "execution_count": null,
   "id": "d7f744d9",
   "metadata": {},
   "outputs": [],
   "source": [
    "answer_paper['RECORDING']=answer_paper['RECORDING']+'-phrase.wav'"
   ]
  },
  {
   "cell_type": "code",
   "execution_count": null,
   "id": "6390fe95",
   "metadata": {},
   "outputs": [
    {
     "data": {
      "text/html": [
       "<div>\n",
       "<style scoped>\n",
       "    .dataframe tbody tr th:only-of-type {\n",
       "        vertical-align: middle;\n",
       "    }\n",
       "\n",
       "    .dataframe tbody tr th {\n",
       "        vertical-align: top;\n",
       "    }\n",
       "\n",
       "    .dataframe thead th {\n",
       "        text-align: right;\n",
       "    }\n",
       "</style>\n",
       "<table border=\"1\" class=\"dataframe\">\n",
       "  <thead>\n",
       "    <tr style=\"text-align: right;\">\n",
       "      <th></th>\n",
       "      <th>RECORDING</th>\n",
       "      <th>DETAIL</th>\n",
       "      <th>AGE</th>\n",
       "    </tr>\n",
       "  </thead>\n",
       "  <tbody>\n",
       "    <tr>\n",
       "      <th>0</th>\n",
       "      <td>715-phrase.wav</td>\n",
       "      <td>Laryngitis; Leukoplakie</td>\n",
       "      <td>63</td>\n",
       "    </tr>\n",
       "    <tr>\n",
       "      <th>1</th>\n",
       "      <td>1303-phrase.wav</td>\n",
       "      <td>Leukoplakie</td>\n",
       "      <td>64</td>\n",
       "    </tr>\n",
       "    <tr>\n",
       "      <th>2</th>\n",
       "      <td>1557-phrase.wav</td>\n",
       "      <td>Leukoplakie</td>\n",
       "      <td>65</td>\n",
       "    </tr>\n",
       "    <tr>\n",
       "      <th>3</th>\n",
       "      <td>1559-phrase.wav</td>\n",
       "      <td>Leukoplakie</td>\n",
       "      <td>65</td>\n",
       "    </tr>\n",
       "    <tr>\n",
       "      <th>4</th>\n",
       "      <td>1864-phrase.wav</td>\n",
       "      <td>Leukoplakie</td>\n",
       "      <td>66</td>\n",
       "    </tr>\n",
       "    <tr>\n",
       "      <th>...</th>\n",
       "      <td>...</td>\n",
       "      <td>...</td>\n",
       "      <td>...</td>\n",
       "    </tr>\n",
       "    <tr>\n",
       "      <th>1461</th>\n",
       "      <td>80-phrase.wav</td>\n",
       "      <td>control</td>\n",
       "      <td>49</td>\n",
       "    </tr>\n",
       "    <tr>\n",
       "      <th>1462</th>\n",
       "      <td>81-phrase.wav</td>\n",
       "      <td>control</td>\n",
       "      <td>42</td>\n",
       "    </tr>\n",
       "    <tr>\n",
       "      <th>1463</th>\n",
       "      <td>82-phrase.wav</td>\n",
       "      <td>control</td>\n",
       "      <td>49</td>\n",
       "    </tr>\n",
       "    <tr>\n",
       "      <th>1464</th>\n",
       "      <td>83-phrase.wav</td>\n",
       "      <td>control</td>\n",
       "      <td>46</td>\n",
       "    </tr>\n",
       "    <tr>\n",
       "      <th>1465</th>\n",
       "      <td>153-phrase.wav</td>\n",
       "      <td>control</td>\n",
       "      <td>60</td>\n",
       "    </tr>\n",
       "  </tbody>\n",
       "</table>\n",
       "<p>1466 rows × 3 columns</p>\n",
       "</div>"
      ],
      "text/plain": [
       "            RECORDING                   DETAIL  AGE\n",
       "0      715-phrase.wav  Laryngitis; Leukoplakie   63\n",
       "1     1303-phrase.wav              Leukoplakie   64\n",
       "2     1557-phrase.wav              Leukoplakie   65\n",
       "3     1559-phrase.wav              Leukoplakie   65\n",
       "4     1864-phrase.wav              Leukoplakie   66\n",
       "...               ...                      ...  ...\n",
       "1461    80-phrase.wav                  control   49\n",
       "1462    81-phrase.wav                  control   42\n",
       "1463    82-phrase.wav                  control   49\n",
       "1464    83-phrase.wav                  control   46\n",
       "1465   153-phrase.wav                  control   60\n",
       "\n",
       "[1466 rows x 3 columns]"
      ]
     },
     "execution_count": 48,
     "metadata": {},
     "output_type": "execute_result"
    }
   ],
   "source": [
    "answer_paper[['RECORDING','DETAIL','AGE']]"
   ]
  },
  {
   "cell_type": "code",
   "execution_count": null,
   "id": "623c791c",
   "metadata": {},
   "outputs": [
    {
     "data": {
      "text/html": [
       "<div>\n",
       "<style scoped>\n",
       "    .dataframe tbody tr th:only-of-type {\n",
       "        vertical-align: middle;\n",
       "    }\n",
       "\n",
       "    .dataframe tbody tr th {\n",
       "        vertical-align: top;\n",
       "    }\n",
       "\n",
       "    .dataframe thead th {\n",
       "        text-align: right;\n",
       "    }\n",
       "</style>\n",
       "<table border=\"1\" class=\"dataframe\">\n",
       "  <thead>\n",
       "    <tr style=\"text-align: right;\">\n",
       "      <th></th>\n",
       "      <th>filename</th>\n",
       "      <th>prediction</th>\n",
       "      <th>answer</th>\n",
       "      <th>fold</th>\n",
       "      <th>RECORDING</th>\n",
       "      <th>DETAIL</th>\n",
       "      <th>AGE</th>\n",
       "    </tr>\n",
       "  </thead>\n",
       "  <tbody>\n",
       "    <tr>\n",
       "      <th>0</th>\n",
       "      <td>946-phrase.wav</td>\n",
       "      <td>0</td>\n",
       "      <td>0</td>\n",
       "      <td>1</td>\n",
       "      <td>946-phrase.wav</td>\n",
       "      <td>control</td>\n",
       "      <td>37</td>\n",
       "    </tr>\n",
       "    <tr>\n",
       "      <th>1</th>\n",
       "      <td>94-phrase.wav</td>\n",
       "      <td>1</td>\n",
       "      <td>0</td>\n",
       "      <td>1</td>\n",
       "      <td>94-phrase.wav</td>\n",
       "      <td>control</td>\n",
       "      <td>55</td>\n",
       "    </tr>\n",
       "    <tr>\n",
       "      <th>2</th>\n",
       "      <td>876-phrase.wav</td>\n",
       "      <td>1</td>\n",
       "      <td>1</td>\n",
       "      <td>1</td>\n",
       "      <td>876-phrase.wav</td>\n",
       "      <td>Diplophonie; Kontaktpachydermie</td>\n",
       "      <td>73</td>\n",
       "    </tr>\n",
       "    <tr>\n",
       "      <th>3</th>\n",
       "      <td>1181-phrase.wav</td>\n",
       "      <td>0</td>\n",
       "      <td>0</td>\n",
       "      <td>1</td>\n",
       "      <td>1181-phrase.wav</td>\n",
       "      <td>control</td>\n",
       "      <td>32</td>\n",
       "    </tr>\n",
       "    <tr>\n",
       "      <th>4</th>\n",
       "      <td>2028-phrase.wav</td>\n",
       "      <td>1</td>\n",
       "      <td>1</td>\n",
       "      <td>1</td>\n",
       "      <td>2028-phrase.wav</td>\n",
       "      <td>Dysphonie; Laryngitis</td>\n",
       "      <td>36</td>\n",
       "    </tr>\n",
       "    <tr>\n",
       "      <th>...</th>\n",
       "      <td>...</td>\n",
       "      <td>...</td>\n",
       "      <td>...</td>\n",
       "      <td>...</td>\n",
       "      <td>...</td>\n",
       "      <td>...</td>\n",
       "      <td>...</td>\n",
       "    </tr>\n",
       "    <tr>\n",
       "      <th>992</th>\n",
       "      <td>1967-phrase.wav</td>\n",
       "      <td>1</td>\n",
       "      <td>1</td>\n",
       "      <td>5</td>\n",
       "      <td>1967-phrase.wav</td>\n",
       "      <td>Kontaktpachydermie</td>\n",
       "      <td>60</td>\n",
       "    </tr>\n",
       "    <tr>\n",
       "      <th>993</th>\n",
       "      <td>21-phrase.wav</td>\n",
       "      <td>0</td>\n",
       "      <td>0</td>\n",
       "      <td>5</td>\n",
       "      <td>21-phrase.wav</td>\n",
       "      <td>control</td>\n",
       "      <td>20</td>\n",
       "    </tr>\n",
       "    <tr>\n",
       "      <th>994</th>\n",
       "      <td>2498-phrase.wav</td>\n",
       "      <td>0</td>\n",
       "      <td>1</td>\n",
       "      <td>5</td>\n",
       "      <td>2498-phrase.wav</td>\n",
       "      <td>Kontaktpachydermie</td>\n",
       "      <td>29</td>\n",
       "    </tr>\n",
       "    <tr>\n",
       "      <th>995</th>\n",
       "      <td>2375-phrase.wav</td>\n",
       "      <td>1</td>\n",
       "      <td>1</td>\n",
       "      <td>5</td>\n",
       "      <td>2375-phrase.wav</td>\n",
       "      <td>Reinke ?em</td>\n",
       "      <td>52</td>\n",
       "    </tr>\n",
       "    <tr>\n",
       "      <th>996</th>\n",
       "      <td>680-phrase.wav</td>\n",
       "      <td>0</td>\n",
       "      <td>0</td>\n",
       "      <td>5</td>\n",
       "      <td>680-phrase.wav</td>\n",
       "      <td>control</td>\n",
       "      <td>20</td>\n",
       "    </tr>\n",
       "  </tbody>\n",
       "</table>\n",
       "<p>997 rows × 7 columns</p>\n",
       "</div>"
      ],
      "text/plain": [
       "            filename  prediction  answer  fold        RECORDING  \\\n",
       "0     946-phrase.wav           0       0     1   946-phrase.wav   \n",
       "1      94-phrase.wav           1       0     1    94-phrase.wav   \n",
       "2     876-phrase.wav           1       1     1   876-phrase.wav   \n",
       "3    1181-phrase.wav           0       0     1  1181-phrase.wav   \n",
       "4    2028-phrase.wav           1       1     1  2028-phrase.wav   \n",
       "..               ...         ...     ...   ...              ...   \n",
       "992  1967-phrase.wav           1       1     5  1967-phrase.wav   \n",
       "993    21-phrase.wav           0       0     5    21-phrase.wav   \n",
       "994  2498-phrase.wav           0       1     5  2498-phrase.wav   \n",
       "995  2375-phrase.wav           1       1     5  2375-phrase.wav   \n",
       "996   680-phrase.wav           0       0     5   680-phrase.wav   \n",
       "\n",
       "                              DETAIL  AGE  \n",
       "0                            control   37  \n",
       "1                            control   55  \n",
       "2    Diplophonie; Kontaktpachydermie   73  \n",
       "3                            control   32  \n",
       "4              Dysphonie; Laryngitis   36  \n",
       "..                               ...  ...  \n",
       "992               Kontaktpachydermie   60  \n",
       "993                          control   20  \n",
       "994               Kontaktpachydermie   29  \n",
       "995                       Reinke ?em   52  \n",
       "996                          control   20  \n",
       "\n",
       "[997 rows x 7 columns]"
      ]
     },
     "execution_count": 49,
     "metadata": {},
     "output_type": "execute_result"
    }
   ],
   "source": [
    "merge_left = pd.merge(fold_excel_all,answer_paper[['RECORDING','DETAIL','AGE']], how='left', left_on='filename', right_on='RECORDING')\n",
    "merge_left"
   ]
  },
  {
   "cell_type": "code",
   "execution_count": null,
   "id": "a7224bb1",
   "metadata": {},
   "outputs": [],
   "source": [
    "merge_left.drop(['RECORDING'],axis=1,inplace=True)"
   ]
  },
  {
   "cell_type": "code",
   "execution_count": null,
   "id": "95705a7a",
   "metadata": {},
   "outputs": [],
   "source": [
    "merge_left['result']=merge_left['prediction']==merge_left['answer']"
   ]
  },
  {
   "cell_type": "code",
   "execution_count": null,
   "id": "c71de1e1",
   "metadata": {},
   "outputs": [
    {
     "data": {
      "text/html": [
       "<div>\n",
       "<style scoped>\n",
       "    .dataframe tbody tr th:only-of-type {\n",
       "        vertical-align: middle;\n",
       "    }\n",
       "\n",
       "    .dataframe tbody tr th {\n",
       "        vertical-align: top;\n",
       "    }\n",
       "\n",
       "    .dataframe thead th {\n",
       "        text-align: right;\n",
       "    }\n",
       "</style>\n",
       "<table border=\"1\" class=\"dataframe\">\n",
       "  <thead>\n",
       "    <tr style=\"text-align: right;\">\n",
       "      <th></th>\n",
       "      <th>filename</th>\n",
       "      <th>prediction</th>\n",
       "      <th>answer</th>\n",
       "      <th>fold</th>\n",
       "      <th>DETAIL</th>\n",
       "      <th>AGE</th>\n",
       "      <th>result</th>\n",
       "    </tr>\n",
       "  </thead>\n",
       "  <tbody>\n",
       "    <tr>\n",
       "      <th>0</th>\n",
       "      <td>946-phrase.wav</td>\n",
       "      <td>0</td>\n",
       "      <td>0</td>\n",
       "      <td>1</td>\n",
       "      <td>control</td>\n",
       "      <td>37</td>\n",
       "      <td>True</td>\n",
       "    </tr>\n",
       "    <tr>\n",
       "      <th>1</th>\n",
       "      <td>94-phrase.wav</td>\n",
       "      <td>1</td>\n",
       "      <td>0</td>\n",
       "      <td>1</td>\n",
       "      <td>control</td>\n",
       "      <td>55</td>\n",
       "      <td>False</td>\n",
       "    </tr>\n",
       "    <tr>\n",
       "      <th>2</th>\n",
       "      <td>876-phrase.wav</td>\n",
       "      <td>1</td>\n",
       "      <td>1</td>\n",
       "      <td>1</td>\n",
       "      <td>Diplophonie; Kontaktpachydermie</td>\n",
       "      <td>73</td>\n",
       "      <td>True</td>\n",
       "    </tr>\n",
       "    <tr>\n",
       "      <th>3</th>\n",
       "      <td>1181-phrase.wav</td>\n",
       "      <td>0</td>\n",
       "      <td>0</td>\n",
       "      <td>1</td>\n",
       "      <td>control</td>\n",
       "      <td>32</td>\n",
       "      <td>True</td>\n",
       "    </tr>\n",
       "    <tr>\n",
       "      <th>4</th>\n",
       "      <td>2028-phrase.wav</td>\n",
       "      <td>1</td>\n",
       "      <td>1</td>\n",
       "      <td>1</td>\n",
       "      <td>Dysphonie; Laryngitis</td>\n",
       "      <td>36</td>\n",
       "      <td>True</td>\n",
       "    </tr>\n",
       "    <tr>\n",
       "      <th>...</th>\n",
       "      <td>...</td>\n",
       "      <td>...</td>\n",
       "      <td>...</td>\n",
       "      <td>...</td>\n",
       "      <td>...</td>\n",
       "      <td>...</td>\n",
       "      <td>...</td>\n",
       "    </tr>\n",
       "    <tr>\n",
       "      <th>992</th>\n",
       "      <td>1967-phrase.wav</td>\n",
       "      <td>1</td>\n",
       "      <td>1</td>\n",
       "      <td>5</td>\n",
       "      <td>Kontaktpachydermie</td>\n",
       "      <td>60</td>\n",
       "      <td>True</td>\n",
       "    </tr>\n",
       "    <tr>\n",
       "      <th>993</th>\n",
       "      <td>21-phrase.wav</td>\n",
       "      <td>0</td>\n",
       "      <td>0</td>\n",
       "      <td>5</td>\n",
       "      <td>control</td>\n",
       "      <td>20</td>\n",
       "      <td>True</td>\n",
       "    </tr>\n",
       "    <tr>\n",
       "      <th>994</th>\n",
       "      <td>2498-phrase.wav</td>\n",
       "      <td>0</td>\n",
       "      <td>1</td>\n",
       "      <td>5</td>\n",
       "      <td>Kontaktpachydermie</td>\n",
       "      <td>29</td>\n",
       "      <td>False</td>\n",
       "    </tr>\n",
       "    <tr>\n",
       "      <th>995</th>\n",
       "      <td>2375-phrase.wav</td>\n",
       "      <td>1</td>\n",
       "      <td>1</td>\n",
       "      <td>5</td>\n",
       "      <td>Reinke ?em</td>\n",
       "      <td>52</td>\n",
       "      <td>True</td>\n",
       "    </tr>\n",
       "    <tr>\n",
       "      <th>996</th>\n",
       "      <td>680-phrase.wav</td>\n",
       "      <td>0</td>\n",
       "      <td>0</td>\n",
       "      <td>5</td>\n",
       "      <td>control</td>\n",
       "      <td>20</td>\n",
       "      <td>True</td>\n",
       "    </tr>\n",
       "  </tbody>\n",
       "</table>\n",
       "<p>997 rows × 7 columns</p>\n",
       "</div>"
      ],
      "text/plain": [
       "            filename  prediction  answer  fold  \\\n",
       "0     946-phrase.wav           0       0     1   \n",
       "1      94-phrase.wav           1       0     1   \n",
       "2     876-phrase.wav           1       1     1   \n",
       "3    1181-phrase.wav           0       0     1   \n",
       "4    2028-phrase.wav           1       1     1   \n",
       "..               ...         ...     ...   ...   \n",
       "992  1967-phrase.wav           1       1     5   \n",
       "993    21-phrase.wav           0       0     5   \n",
       "994  2498-phrase.wav           0       1     5   \n",
       "995  2375-phrase.wav           1       1     5   \n",
       "996   680-phrase.wav           0       0     5   \n",
       "\n",
       "                              DETAIL  AGE  result  \n",
       "0                            control   37    True  \n",
       "1                            control   55   False  \n",
       "2    Diplophonie; Kontaktpachydermie   73    True  \n",
       "3                            control   32    True  \n",
       "4              Dysphonie; Laryngitis   36    True  \n",
       "..                               ...  ...     ...  \n",
       "992               Kontaktpachydermie   60    True  \n",
       "993                          control   20    True  \n",
       "994               Kontaktpachydermie   29   False  \n",
       "995                       Reinke ?em   52    True  \n",
       "996                          control   20    True  \n",
       "\n",
       "[997 rows x 7 columns]"
      ]
     },
     "execution_count": 52,
     "metadata": {},
     "output_type": "execute_result"
    }
   ],
   "source": [
    "merge_left"
   ]
  },
  {
   "cell_type": "code",
   "execution_count": null,
   "id": "86057b2f",
   "metadata": {},
   "outputs": [],
   "source": [
    "excel_name = 'D:/project/voice_pathology_ai/voice_data/'+args['model']+'_seed_'+str(args['seed'])+'_organics_speaker.xlsx'\n",
    "merge_left.to_excel(excel_name,index=False)"
   ]
  },
  {
   "cell_type": "code",
   "execution_count": null,
   "id": "48a27fad",
   "metadata": {},
   "outputs": [],
   "source": []
  }
 ],
 "metadata": {
  "kernelspec": {
   "display_name": "Python 3.8.12",
   "language": "python",
   "name": "python3"
  },
  "language_info": {
   "codemirror_mode": {
    "name": "ipython",
    "version": 3
   },
   "file_extension": ".py",
   "mimetype": "text/x-python",
   "name": "python",
   "nbconvert_exporter": "python",
   "pygments_lexer": "ipython3",
   "version": "3.8.12"
  },
  "toc": {
   "base_numbering": 1,
   "nav_menu": {},
   "number_sections": false,
   "sideBar": true,
   "skip_h1_title": false,
   "title_cell": "Table of Contents",
   "title_sidebar": "Contents",
   "toc_cell": false,
   "toc_position": {
    "height": "561.143px",
    "left": "22px",
    "top": "111.143px",
    "width": "255.025px"
   },
   "toc_section_display": true,
   "toc_window_display": true
  },
  "vscode": {
   "interpreter": {
    "hash": "427fa2592f9d0b947426e18ee897f81f41d4196bbcbbd4ad171fc20ee58cf88d"
   }
  }
 },
 "nbformat": 4,
 "nbformat_minor": 5
}
