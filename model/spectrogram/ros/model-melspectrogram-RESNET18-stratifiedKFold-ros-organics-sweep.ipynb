{
 "cells": [
  {
   "cell_type": "markdown",
   "id": "6505136e",
   "metadata": {},
   "source": [
    "- http://keunwoochoi.blogspot.com/2016/03/2.html\n",
    "- http://www.rex-ai.info/docs/AI_Example_CNN_speech_recognize\n",
    "- https://www.youtube.com/watch?v=oltGIc4uo5c\n",
    "- https://youdaeng-com.tistory.com/5\n",
    "- https://quokkas.tistory.com/37 : early stopping\n",
    "- https://continuous-development.tistory.com/166 : stratified kfold\n",
    "- https://deep-learning-study.tistory.com/476 fiter 시각화\n",
    "- https://wyatt37.tistory.com/10 : random over sampling"
   ]
  },
  {
   "cell_type": "code",
   "execution_count": 1,
   "id": "083ed07e",
   "metadata": {},
   "outputs": [],
   "source": [
    "import wandb\n",
    "\n",
    "#default param\n",
    "run_config = dict(\n",
    "    # spectrum\n",
    "    sample_rate=16000,\n",
    "    n_fft=1024,\n",
    "    n_mels=128,\n",
    "    hop_length=100,\n",
    "    win_length=400,\n",
    "    f_max=80000,\n",
    "    \n",
    "    # training\n",
    "    batch_size=32,\n",
    "    \n",
    "    # data\n",
    "    fold=1,\n",
    ")\n"
   ]
  },
  {
   "cell_type": "code",
   "execution_count": 2,
   "id": "20cf3fcc",
   "metadata": {},
   "outputs": [
    {
     "name": "stdout",
     "output_type": "stream",
     "text": [
      "Create sweep with ID: fil8fxo6\n",
      "Sweep URL: https://wandb.ai/bub3690/uncategorized/sweeps/fil8fxo6\n"
     ]
    }
   ],
   "source": [
    "\n",
    "\n",
    "\n",
    "sweep_config = {\n",
    "    \"project\" : \"SVD-voice-disorder\",\n",
    "    \"name\": \"HyperParam for mel\",\n",
    "    \"method\": \"grid\",\n",
    "    \"parameters\": {\n",
    "      \"n_mels\" :{\n",
    "           \"values\":[32,64,96,128,160,192]\n",
    "       },\n",
    "      \"n_fft\": {\n",
    "            \"values\": [1024,2048,3072,4096,8192]\n",
    "        },\n",
    "      \"win_length\": {\n",
    "            \"values\": [300,350,400,450,500,1024,1524,2048]\n",
    "        },\n",
    "       \"hop_length\": {\n",
    "          \"values\": [50,100,200,300,400,500,600]\n",
    "      },\n",
    "       \"f_max\":{\n",
    "          \"values\":[8000,9000,10000,12000,18000,20000,40000,60000]\n",
    "      },\n",
    "      \"fold\":{\n",
    "          \"values\" : [1,]\n",
    "      }\n",
    "    }\n",
    "}\n",
    "\n",
    "sweep_id = wandb.sweep(sweep_config)\n",
    "\n"
   ]
  },
  {
   "cell_type": "code",
   "execution_count": 2,
   "id": "31638563",
   "metadata": {},
   "outputs": [
    {
     "name": "stdout",
     "output_type": "stream",
     "text": [
      "Create sweep with ID: u1aqd5nx\n",
      "Sweep URL: https://wandb.ai/bub3690/SVD-hyp-sweep/sweeps/u1aqd5nx\n"
     ]
    }
   ],
   "source": [
    "# n_mels\n",
    "\n",
    "sweep_config = {\n",
    "    \"project\" : \"SVD-voice-disorder\",\n",
    "    \"name\": \"n_mel\",\n",
    "  \"method\": \"grid\",\n",
    "  \"parameters\": {\n",
    "      \"n_mels\" :{\n",
    "           \"values\":[32,64,96,128,160,192]\n",
    "       },\n",
    "      \"fold\":{\n",
    "          \"values\" : [1,2,3,4,5]\n",
    "      }\n",
    "    }\n",
    "}\n",
    "\n",
    "sweep_id = wandb.sweep(sweep_config,project=\"SVD-hyp-sweep\",entity=\"bub3690\")\n"
   ]
  },
  {
   "cell_type": "code",
   "execution_count": 3,
   "id": "8bfea2ac",
   "metadata": {},
   "outputs": [
    {
     "name": "stdout",
     "output_type": "stream",
     "text": [
      "Create sweep with ID: a9z2vym9\n",
      "Sweep URL: https://wandb.ai/bub3690/SVD-hyp-sweep/sweeps/a9z2vym9\n"
     ]
    }
   ],
   "source": [
    "# n_fft\n",
    "\n",
    "sweep_config = {\n",
    "    \"project\" : \"SVD-voice-disorder\",\n",
    "    \"name\": \"n_fft\",\n",
    "  \"method\": \"grid\",\n",
    "  \"parameters\": {\n",
    "      \"n_fft\": {\n",
    "            \"values\": [1024,2048,3072,4096,8192]\n",
    "        },\n",
    "      \"fold\":{\n",
    "          \"values\" : [1,2,3,4,5]\n",
    "      }\n",
    "    }\n",
    "}\n",
    "\n",
    "sweep_id = wandb.sweep(sweep_config,project=\"SVD-hyp-sweep\",entity=\"bub3690\")\n"
   ]
  },
  {
   "cell_type": "code",
   "execution_count": 5,
   "id": "bf599192",
   "metadata": {},
   "outputs": [
    {
     "name": "stdout",
     "output_type": "stream",
     "text": [
      "Create sweep with ID: hy9bi35f\n",
      "Sweep URL: https://wandb.ai/bub3690/SVD-hyp-sweep/sweeps/hy9bi35f\n"
     ]
    }
   ],
   "source": [
    "# win_length\n",
    "\n",
    "sweep_config = {\n",
    "    \"project\" : \"SVD-voice-disorder\",\n",
    "    \"name\": \"win_length\",\n",
    "  \"method\": \"grid\",\n",
    "  \"parameters\": {\n",
    "      \"win_length\": {\n",
    "            \"values\": [300,350,400,450,500,1024,1524,2048]\n",
    "        },\n",
    "      \"fold\":{\n",
    "          \"values\" : [1,2,3,4,5]\n",
    "      }\n",
    "    }\n",
    "}\n",
    "\n",
    "sweep_id = wandb.sweep(sweep_config,project=\"SVD-hyp-sweep\",entity=\"bub3690\")\n"
   ]
  },
  {
   "cell_type": "code",
   "execution_count": 2,
   "id": "2ed19287",
   "metadata": {},
   "outputs": [
    {
     "name": "stdout",
     "output_type": "stream",
     "text": [
      "Create sweep with ID: vbxfcusk\n",
      "Sweep URL: https://wandb.ai/bub3690/SVD-hyp-sweep/sweeps/vbxfcusk\n"
     ]
    }
   ],
   "source": [
    "# hop_length\n",
    "\n",
    "sweep_config = {\n",
    "    \"project\" : \"SVD-voice-disorder\",\n",
    "    \"name\": \"hop_length\",\n",
    "  \"method\": \"grid\",\n",
    "  \"parameters\": {\n",
    "       \"hop_length\": {\n",
    "          \"values\": [50,100,200,300,400,500,600]\n",
    "      },\n",
    "      \"fold\":{\n",
    "          \"values\" : [1,2,3,4,5]\n",
    "      }\n",
    "    }\n",
    "}\n",
    "\n",
    "sweep_id = wandb.sweep(sweep_config,project=\"SVD-hyp-sweep\",entity=\"bub3690\")\n"
   ]
  },
  {
   "cell_type": "code",
   "execution_count": 2,
   "id": "76799a63",
   "metadata": {},
   "outputs": [
    {
     "name": "stdout",
     "output_type": "stream",
     "text": [
      "Create sweep with ID: pdb3pd9z\n",
      "Sweep URL: https://wandb.ai/bub3690/SVD-hyp-sweep/sweeps/pdb3pd9z\n"
     ]
    }
   ],
   "source": [
    "# f_max\n",
    "\n",
    "sweep_config = {\n",
    "    \"project\" : \"SVD-voice-disorder\",\n",
    "    \"name\": \"f_max\",\n",
    "  \"method\": \"grid\",\n",
    "  \"parameters\": {\n",
    "       \"f_max\":{\n",
    "          \"values\":[8000,9000,10000,12000,18000,20000,40000,60000]\n",
    "      },\n",
    "      \"fold\":{\n",
    "          \"values\" : [1,2,3,4,5]\n",
    "      }\n",
    "    }\n",
    "}\n",
    "\n",
    "sweep_id = wandb.sweep(sweep_config,project=\"SVD-hyp-sweep\",entity=\"bub3690\")\n"
   ]
  },
  {
   "cell_type": "code",
   "execution_count": 2,
   "id": "9948601d",
   "metadata": {},
   "outputs": [
    {
     "name": "stdout",
     "output_type": "stream",
     "text": [
      "Create sweep with ID: j9mfv8ql\n",
      "Sweep URL: https://wandb.ai/bub3690/SVD-hyp-sweep/sweeps/j9mfv8ql\n"
     ]
    }
   ],
   "source": [
    "# batch_size\n",
    "\n",
    "sweep_config = {\n",
    "    \"project\" : \"SVD-voice-disorder\",\n",
    "    \"name\": \"batch_size\",\n",
    "  \"method\": \"grid\",\n",
    "  \"parameters\": {\n",
    "      \"batch_size\" :{\n",
    "           \"values\":[8,16,32,64,128]\n",
    "       },\n",
    "      \"fold\":{\n",
    "          \"values\" : [1,2,3,4,5]\n",
    "      }\n",
    "    }\n",
    "}\n",
    "\n",
    "sweep_id = wandb.sweep(sweep_config,project=\"SVD-hyp-sweep\",entity=\"bub3690\")\n"
   ]
  },
  {
   "cell_type": "code",
   "execution_count": 3,
   "id": "275b8092",
   "metadata": {},
   "outputs": [
    {
     "name": "stdout",
     "output_type": "stream",
     "text": [
      "Using Pytorch version :  1.10.2  Device :  cuda\n"
     ]
    }
   ],
   "source": [
    "import torch\n",
    "import matplotlib.pyplot as plt\n",
    "import numpy as np\n",
    "import torch\n",
    "import torch.nn as nn # 인공 신경망 모델들 모아놓은 모듈\n",
    "import torch.nn.functional as F #그중 자주 쓰이는것들을 F로\n",
    "from torchvision import transforms, datasets\n",
    "import cv2\n",
    "from torchvision import transforms, datasets\n",
    "import pandas as pd\n",
    "import os\n",
    "from glob import glob\n",
    "import torchvision.models as models\n",
    "import sys\n",
    "\n",
    "p = os.path.abspath('../..') # 상위 폴더를 사용하기 위해서.\n",
    "sys.path.insert(1, p)\n",
    "from pytorchtools.pytorchtools import EarlyStopping # 상위 폴더에 추가된 모듈.\n",
    "\n",
    "\n",
    "if torch.cuda.is_available():\n",
    "    DEVICE = torch.device('cuda')\n",
    "else:\n",
    "    DEVICE = torch.device('cpu')\n",
    "#DEVICE = torch.device('cpu')\n",
    "print('Using Pytorch version : ',torch.__version__,' Device : ',DEVICE)"
   ]
  },
  {
   "cell_type": "markdown",
   "id": "249ebea6",
   "metadata": {},
   "source": [
    "# SVD 문장 데이터에서 Feature 추출\n",
    "- mfcc"
   ]
  },
  {
   "cell_type": "code",
   "execution_count": 4,
   "id": "dddaab10",
   "metadata": {},
   "outputs": [],
   "source": [
    "import numpy as np\n",
    "import librosa, librosa.display \n",
    "import matplotlib.pyplot as plt\n",
    "#window sizde : FFT를 할때 참조할 그래프 길이 ( 프레임 하나당 sample 수 )\n",
    "#자연어 처리에서는 25ms 사용. https://ahnjg.tistory.com/93\n",
    "#초당 50000hz 중 1250개씩 윈도우 사이즈로 사용.\n",
    "sr=16000\n",
    "win_length =  np.int64(sr/40) # 1250\n",
    "n_fft= win_length # WINDOWS SIZE중 사용할 길이. WINDOW SIZE가 넘어가면 나머지 것들은 zero padding\n",
    "hop_length= np.int64( np.ceil(win_length/4) ) #  얼마만큼 시간 주기(sample)를 이동하면서 분석을 할 것인지. 일반적으로 window size의 1/4\n",
    "#또는 10ms만큼으로 한다고 한다.\n",
    "#hop_length가 mfcc의 frame수를 결정한다."
   ]
  },
  {
   "cell_type": "markdown",
   "id": "1a38dcdc",
   "metadata": {},
   "source": [
    "# 데이터 나누기 - Stratified KFold\n",
    "\n",
    "- pathology : 1194 / healthy : 634 / 총 1828\n",
    "- k = 5"
   ]
  },
  {
   "cell_type": "markdown",
   "id": "1a148977",
   "metadata": {},
   "source": [
    "## 1. test/ train 나누기\n"
   ]
  },
  {
   "cell_type": "code",
   "execution_count": 5,
   "id": "c72d82e0",
   "metadata": {},
   "outputs": [
    {
     "name": "stdout",
     "output_type": "stream",
     "text": [
      "Pathology :  597\n",
      "Healthy:  634\n",
      "총 데이터수 :  1231\n",
      "---\n",
      "훈련 셋 :  984 Counter({'healthy': 507, 'pathology': 477})\n",
      "테스트 셋 :  247 Counter({'healthy': 127, 'pathology': 120})\n",
      "---\n"
     ]
    }
   ],
   "source": [
    "#1. train, test 나누기\n",
    "\n",
    "import os\n",
    "from glob import glob\n",
    "from sklearn.model_selection import StratifiedKFold\n",
    "from imblearn.over_sampling import RandomOverSampler\n",
    "from collections import Counter\n",
    "from sklearn.model_selection import train_test_split # train , test 분리에 사용.\n",
    "\n",
    "\n",
    "pathology = glob('D:/project/voice_pathology_ai/voice_data/organics/pathology/phrase/*.wav')\n",
    "healthy = glob('D:/project/voice_pathology_ai/voice_data/organics/healthy/phrase/*.wav')\n",
    "print(\"Pathology : \",len(pathology))\n",
    "print(\"Healthy: \",len(healthy))\n",
    "\n",
    "pathology= [ path.split(\"\\\\\")[-1] for path in pathology] # path 데이터 변환.\n",
    "healthy= [ path.split(\"\\\\\")[-1] for path in healthy] # path 데이터 변환.\n",
    " # path 데이터 변환 #외부데이터로 가져오기위해서, 번호만 남긴다\n",
    "\n",
    "    \n",
    "X = pathology+healthy # path 데이터 합\n",
    "print(\"총 데이터수 : \",len(X))\n",
    "Y = [] # 라벨\n",
    "for idx,x in enumerate(X):\n",
    "    if idx<597:\n",
    "        Y.append(\"pathology\")\n",
    "    else:\n",
    "        Y.append(\"healthy\")\n",
    "\n",
    "X, X_test, Y, Y_test = train_test_split(X, Y, test_size=0.2, shuffle=True, stratify=Y, random_state=456)\n",
    "#stratify를 넣어서, test에도 라벨별 잘 분류되게 한다.\n",
    "\n",
    "print(\"---\")\n",
    "print(\"훈련 셋 : \",len(Y),Counter(Y))\n",
    "print(\"테스트 셋 : \",len(Y_test),Counter(Y_test))\n",
    "print(\"---\")"
   ]
  },
  {
   "cell_type": "markdown",
   "id": "c0a99443",
   "metadata": {},
   "source": [
    "## 2. stratified k-fold"
   ]
  },
  {
   "cell_type": "code",
   "execution_count": 7,
   "id": "c38ceb20",
   "metadata": {},
   "outputs": [
    {
     "name": "stdout",
     "output_type": "stream",
     "text": [
      "교차 검증 : 1\n",
      "학습 레이블 데이터 분포 : \n",
      " {'healthy': 406, 'pathology': 381}\n",
      "검증 레이블 데이터 분포 : \n",
      " {'healthy': 101, 'pathology': 96} \n",
      "\n",
      "교차 검증 : 2\n",
      "학습 레이블 데이터 분포 : \n",
      " {'healthy': 406, 'pathology': 381}\n",
      "검증 레이블 데이터 분포 : \n",
      " {'healthy': 101, 'pathology': 96} \n",
      "\n",
      "교차 검증 : 3\n",
      "학습 레이블 데이터 분포 : \n",
      " {'healthy': 405, 'pathology': 382}\n",
      "검증 레이블 데이터 분포 : \n",
      " {'healthy': 102, 'pathology': 95} \n",
      "\n",
      "교차 검증 : 4\n",
      "학습 레이블 데이터 분포 : \n",
      " {'healthy': 405, 'pathology': 382}\n",
      "검증 레이블 데이터 분포 : \n",
      " {'healthy': 102, 'pathology': 95} \n",
      "\n",
      "교차 검증 : 5\n",
      "학습 레이블 데이터 분포 : \n",
      " {'healthy': 406, 'pathology': 382}\n",
      "검증 레이블 데이터 분포 : \n",
      " {'healthy': 101, 'pathology': 95} \n",
      "\n"
     ]
    }
   ],
   "source": [
    "#1. train, test 나누기\n",
    "#stratified kfold\n",
    "import os\n",
    "import random #데이터 shuffle 사용\n",
    "from glob import glob\n",
    "from sklearn.model_selection import StratifiedKFold\n",
    "from imblearn.over_sampling import RandomOverSampler\n",
    "from collections import Counter\n",
    "\n",
    "\n",
    "\n",
    "skf_iris = StratifiedKFold(n_splits=5,shuffle=True,random_state=456)\n",
    "cnt_iter = 0\n",
    "\n",
    "X_train_list = [] #데이터 셋 보관\n",
    "Y_train_list = []\n",
    "\n",
    "X_valid_list = []\n",
    "Y_valid_list = []\n",
    "\n",
    "for train_idx, test_idx in skf_iris.split(X,Y):\n",
    "    \n",
    "    #split으로 반환된 인덱스를 이용하여, 학습 검증용 테스트 데이터 추출\n",
    "    cnt_iter += 1\n",
    "    X_train, X_valid = [X[idx] for idx in train_idx.tolist() ], [X[idx] for idx in test_idx.tolist() ]\n",
    "    Y_train, Y_valid = [Y[idx] for idx in train_idx.tolist() ], [Y[idx] for idx in test_idx.tolist() ]\n",
    "    \n",
    "    X_train_list.append(X_train)\n",
    "    X_valid_list.append(X_valid)\n",
    "    \n",
    "    Y_train_list.append(Y_train)\n",
    "    Y_valid_list.append(Y_valid)\n",
    "    \n",
    "    \n",
    "    #학습 및 예측\n",
    "    \n",
    "    label_train = Y_train\n",
    "    label_test = Y_valid\n",
    "    unique_train, train_counts = np.unique(label_train, return_counts = True)\n",
    "    unique_test, test_counts = np.unique(label_test, return_counts = True)\n",
    "    \n",
    "    uniq_cnt_train = dict(zip(unique_train, train_counts))\n",
    "    uniq_cnt_test = dict(zip(unique_test, test_counts))\n",
    "    \n",
    "    \n",
    "    \n",
    "    print('교차 검증 : {}'.format(cnt_iter))\n",
    "    print('학습 레이블 데이터 분포 : \\n', uniq_cnt_train)\n",
    "    print('검증 레이블 데이터 분포 : \\n', uniq_cnt_test,'\\n')\n",
    "\n"
   ]
  },
  {
   "cell_type": "markdown",
   "id": "d0880b5c",
   "metadata": {},
   "source": [
    "## 3. random over sampling"
   ]
  },
  {
   "cell_type": "code",
   "execution_count": 8,
   "id": "9517c16f",
   "metadata": {},
   "outputs": [
    {
     "name": "stdout",
     "output_type": "stream",
     "text": [
      "\n",
      " fold0 \n",
      "before dataset shape Counter({'healthy': 406, 'pathology': 381})\n",
      "Resampled dataset shape Counter({'pathology': 406, 'healthy': 406})\n",
      "\n",
      " fold1 \n",
      "before dataset shape Counter({'healthy': 406, 'pathology': 381})\n",
      "Resampled dataset shape Counter({'healthy': 406, 'pathology': 406})\n",
      "\n",
      " fold2 \n",
      "before dataset shape Counter({'healthy': 405, 'pathology': 382})\n",
      "Resampled dataset shape Counter({'pathology': 405, 'healthy': 405})\n",
      "\n",
      " fold3 \n",
      "before dataset shape Counter({'healthy': 405, 'pathology': 382})\n",
      "Resampled dataset shape Counter({'pathology': 405, 'healthy': 405})\n",
      "\n",
      " fold4 \n",
      "before dataset shape Counter({'healthy': 406, 'pathology': 382})\n",
      "Resampled dataset shape Counter({'pathology': 406, 'healthy': 406})\n"
     ]
    }
   ],
   "source": [
    "#2. random over sampling\n",
    "for i in range(5):\n",
    "    X_temp = np.array(X_train_list[i]).reshape(-1,1)#각 데이터를 다 행으로 넣음. (1194,1)\n",
    "    #Y = np.array(Y)\n",
    "    ros = RandomOverSampler(random_state = 123)\n",
    "    X_res,Y_res = ros.fit_resample(X_temp,Y_train_list[i])\n",
    "    \n",
    "    print(\"\\n fold{} \".format(i))\n",
    "    print('before dataset shape {}'.format(Counter(Y_train_list[i])) )\n",
    "    print('Resampled dataset shape {}'.format(Counter(Y_res)) )   \n",
    "    \n",
    "    #원래대로 돌리기\n",
    "    X_res=X_res.reshape(1, -1)\n",
    "    X_train_list[i]=X_res[0].tolist()\n",
    "    Y_train_list[i]=Y_res\n",
    "\n",
    "\n"
   ]
  },
  {
   "cell_type": "code",
   "execution_count": 10,
   "id": "478af061",
   "metadata": {},
   "outputs": [],
   "source": [
    "import pickle\n",
    "\n",
    " \n",
    "#load\n",
    "with open(\"D:/project/voice_pathology_ai/voice_data/organics/phrase_sig_dict.pickle\",\"rb\") as fr:\n",
    "    phrase_dict = pickle.load(fr)\n",
    "\n",
    "    "
   ]
  },
  {
   "cell_type": "markdown",
   "id": "08a663f0",
   "metadata": {},
   "source": [
    "# 데이터 정의\n",
    "- 추가적으로 데이터의 크기를 맞춰주기 위해 3초로 padding 및 truncate 실시 https://sequencedata.tistory.com/25 FixAudioLength\n",
    "- 논문에서는 400frame으로 설정.(여기서는 500frame)\n",
    "- 전처리 방법 결정.\n"
   ]
  },
  {
   "cell_type": "code",
   "execution_count": 11,
   "id": "2febf8cb",
   "metadata": {},
   "outputs": [],
   "source": [
    "from torch.utils.data import Dataset, DataLoader\n",
    "\n",
    "classes = [\"pathology\",\"healthy\"]\n",
    "sr=16000\n",
    "#win_length =  np.int64(16000/40) # 400\n",
    "#n_fft= win_length # WINDOWS SIZE중 사용할 길이. WINDOW SIZE가 넘어가면 나머지 것들은 zero padding. 세로 길이\n",
    "#hop_length= np.int64( np.ceil(win_length/4) ) #  얼마만큼 시간 주기(sample)를 이동하면서 분석을 할 것인지. 일반적으로 window size의 1/4\n",
    "#또는 10ms만큼으로 한다고 한다.\n",
    "#hop_length가 mfcc의 frame수를 결정한다.\n",
    "\n",
    "\n",
    "\n",
    "class svd_dataset(Dataset):\n",
    "    def __init__(self,data_path_list,classes,data_num,training,mel_params,transform=None,normalize=None):\n",
    "        #클래스에서 사용할 인자를 받아 인스턴스 변수로 저장하는 일을 한다.\n",
    "        #예를들면, 이미지의 경로 리스트를 저장하는 일을 하게 된다.\n",
    "        \n",
    "        #data_num : k 개 데이터 셋 중 어떤것을 쓸지\n",
    "        #test인지 아닌지.\n",
    "        \n",
    "        self.path_list = data_path_list[data_num]\n",
    "        self.data_num = data_num\n",
    "        self.training = training\n",
    "        self.label = svd_dataset.get_label(self.path_list,training,data_num)\n",
    "        self.classes = classes\n",
    "        self.transform = transform\n",
    "        self.normalize = normalize\n",
    "        \n",
    "        # sweep params\n",
    "        self.mel_params = mel_params\n",
    "        # hop_length , win_length , n_mels , n_fft , f_max , batch_size\n",
    "        \n",
    "        \n",
    "    \n",
    "    @classmethod\n",
    "    def get_label(cls,data_path_list,training,data_num):\n",
    "        label_list=[]\n",
    "        \n",
    "        if training:\n",
    "            for idx,x in enumerate(data_path_list):\n",
    "                label_list.append(Y_train_list[data_num][idx])\n",
    "        else:\n",
    "            for idx,x in enumerate(data_path_list):\n",
    "                label_list.append(Y_valid_list[data_num][idx])\n",
    "        #print(label_list)\n",
    "        return label_list\n",
    "    \n",
    "    \n",
    "    def __len__(self):\n",
    "        return len(self.path_list)\n",
    "        #데이터 셋의 길이를 정수로 반환한다.     \n",
    "    \n",
    "       \n",
    "    def __getitem__(self, idx):\n",
    "        \"\"\"\n",
    "        1. path를 받아서, 소리에서 mfcc를 추출\n",
    "        2. mfcc를 224프레임으로 패딩.\n",
    "        3. resnet에 사용되기 위해 3채널로 복사(rgb 처럼)\n",
    "        4. 0~1 정규화\n",
    "        \n",
    "        \"\"\"\n",
    "        sig = phrase_dict[self.path_list[idx]] # 16000hz 실시\n",
    "        length = 29990 #300 padding을 위한 파라미터 (하이퍼 파라미터로인해 사이즈는 계속 바뀐다.)\n",
    "        pad1d = lambda a, i: a[0:i] if a.shape[0] > i else np.hstack((a, np.zeros((i-a.shape[0]))))        \n",
    "        sig = pad1d(sig,length)        \n",
    "        \n",
    "        ###signal norm\n",
    "        sig = (sig-sig.mean())/sig.std()\n",
    "        ###\n",
    "\n",
    "        mel_feature = librosa.feature.melspectrogram(y=sig,\n",
    "                                                     sr=sr,\n",
    "                                                     # hyp param\n",
    "                                                     n_mels = self.mel_params[\"n_mels\"],\n",
    "                                                     n_fft = self.mel_params[\"n_fft\"],\n",
    "                                                     win_length = self.mel_params[\"win_length\"],\n",
    "                                                     hop_length = self.mel_params[\"hop_length\"],\n",
    "                                                     fmax = self.mel_params[\"f_max\"]\n",
    "                                                    )\n",
    "        mel_feature = librosa.core.power_to_db(mel_feature,ref=np.max)\n",
    "        #mel_feature=librosa.util.normalize(mel_feature) # l-infinity norm\n",
    "        \n",
    "        #pad2d = lambda a, i: a[:, 0:i] if a.shape[1] > i else np.hstack((a, np.zeros((a.shape[0], i-a.shape[1]))))\n",
    "        #mel_feature = pad2d(mel_feature, length)\n",
    "        \n",
    "        \n",
    "        \n",
    "        if self.transform:\n",
    "            #print('transform')\n",
    "            mel_feature=self.transform(mel_feature).type(torch.float32)# 데이터 0~1 정규화\n",
    "            mel_feature=torch.stack([mel_feature,mel_feature,mel_feature])# 3채널로 복사.\n",
    "            mel_feature = mel_feature.squeeze(dim=1)\n",
    "            \n",
    "            # global normalize\n",
    "            if self.normalize:\n",
    "                mel_feature=self.normalize(mel_feature)            \n",
    "        else:\n",
    "            #print(\"else\")\n",
    "            mel_feature = torch.from_numpy(mel_feature).type(torch.float32)\n",
    "            mel_feature=mel_feature.unsqueeze(0)#cnn 사용위해서 추가\n",
    "            #MFCCs = MFCCs.permute(2, 0, 1)\n",
    "        return mel_feature, self.classes.index(self.label[idx])\n",
    "    "
   ]
  },
  {
   "cell_type": "code",
   "execution_count": 12,
   "id": "f198f535",
   "metadata": {},
   "outputs": [],
   "source": [
    "\n",
    "# test set 제작을 위한 class\n",
    "class svd_test_set(Dataset):\n",
    "    def __init__(self,data_path_list,classes,mel_params,transform=None,normalize=None):\n",
    "        #클래스에서 사용할 인자를 받아 인스턴스 변수로 저장하는 일을 한다.\n",
    "        #예를들면, 이미지의 경로 리스트를 저장하는 일을 하게 된다.\n",
    "        \n",
    "        #data_num : k 개 데이터 셋 중 어떤것을 쓸지\n",
    "        #test인지 아닌지.\n",
    "        \n",
    "        self.path_list = data_path_list\n",
    "        self.label = svd_test_set.get_label(self.path_list)\n",
    "        self.classes=classes\n",
    "        self.transform=transform\n",
    "        self.normalize=normalize\n",
    "        \n",
    "        # sweep params\n",
    "        self.mel_params = mel_params\n",
    "        # hop_length , win_length , n_mels , n_fft , f_max , batch_size        \n",
    "        \n",
    "    \n",
    "    @classmethod\n",
    "    def get_label(cls,data_path_list):\n",
    "        label_list=[]\n",
    "        \n",
    "        for idx,x in enumerate(data_path_list):\n",
    "            label_list.append(Y_test[idx])\n",
    "        #print(label_list)\n",
    "        return label_list\n",
    "    \n",
    "    def __len__(self):\n",
    "        return len(self.path_list)\n",
    "        #데이터 셋의 길이를 정수로 반환한다. \n",
    "        \n",
    "    def __getitem__(self, idx):\n",
    "        \"\"\"\n",
    "        1. path를 받아서, 소리에서 mfcc를 추출\n",
    "        2. mfcc를 224프레임으로 패딩.\n",
    "        3. resnet에 사용되기 위해 3채널로 복사(rgb 처럼)\n",
    "        4. 0~1 정규화\n",
    "        \n",
    "        \"\"\"\n",
    "        sig= phrase_dict[self.path_list[idx]] # 16000hz 실시\n",
    "        length=29990 #300 padding을 위한 파라미터\n",
    "        pad1d=lambda a, i: a[0:i] if a.shape[0] > i else np.hstack((a, np.zeros((i-a.shape[0]))))        \n",
    "        sig = pad1d(sig,length)        \n",
    "        \n",
    "        ###signal norm\n",
    "        sig = (sig-sig.mean())/sig.std()\n",
    "        ###        \n",
    "        \n",
    "        mel_feature = librosa.feature.melspectrogram(y=sig,\n",
    "                                                     sr=sr,\n",
    "                                                     # hyp param\n",
    "                                                     n_mels = self.mel_params[\"n_mels\"],\n",
    "                                                     n_fft = self.mel_params[\"n_fft\"],\n",
    "                                                     win_length = self.mel_params[\"win_length\"],\n",
    "                                                     hop_length = self.mel_params[\"hop_length\"],\n",
    "                                                     fmax = self.mel_params[\"f_max\"]\n",
    "                                                    )\n",
    "        mel_feature = librosa.core.power_to_db(mel_feature,ref=np.max)\n",
    "        \n",
    "        \n",
    "        \n",
    "        \n",
    "        if self.transform:\n",
    "            #print('transform')\n",
    "            mel_feature=self.transform(mel_feature).type(torch.float32)# 데이터 0~1 정규화\n",
    "            mel_feature=torch.stack([mel_feature,mel_feature,mel_feature])# 3채널로 복사.\n",
    "            mel_feature = mel_feature.squeeze(dim=1)\n",
    "            \n",
    "            # global normalize\n",
    "            if self.normalize:\n",
    "                mel_feature=self.normalize(mel_feature)    \n",
    "        else:\n",
    "            #print(\"else\")\n",
    "            mel_feature = torch.from_numpy(mel_feature).type(torch.float32)\n",
    "            mel_feature=mel_feature.unsqueeze(0)#cnn 사용위해서 추가\n",
    "            #MFCCs = MFCCs.permute(2, 0, 1)\n",
    "        return mel_feature, self.classes.index(self.label[idx])\n",
    "    \n",
    "    "
   ]
  },
  {
   "cell_type": "markdown",
   "id": "9d05129d",
   "metadata": {},
   "source": [
    "# 데이터 로더"
   ]
  },
  {
   "cell_type": "code",
   "execution_count": 13,
   "id": "272bc789",
   "metadata": {},
   "outputs": [],
   "source": [
    "#3. 하이퍼 파라미터\n",
    "BATCH_SIZE =  32 #한 배치당 32개 음성데이터\n",
    "EPOCHS = 40 # 전체 데이터 셋을 50번 반복\n",
    "lr=0.0001\n",
    "augment_kind=\"no\"\n"
   ]
  },
  {
   "cell_type": "code",
   "execution_count": 14,
   "id": "bba97b37",
   "metadata": {},
   "outputs": [],
   "source": [
    "#DATA LOADER 함수가 BATCH_size 단위로 분리해 지정.\n",
    "\n",
    "#확인을 위해 데이터셋 하나만 확인\n",
    "\n",
    "\n",
    "train_loader = torch.utils.data.DataLoader(dataset = \n",
    "                                           svd_dataset(\n",
    "                                               X_train_list,\n",
    "                                               classes,\n",
    "                                               transform = transforms.ToTensor(),#이걸 composed로 고쳐서 전처리 하도록 수정. to tensor는 -데이터는 노멀라이즈못함.\n",
    "                                               #normalize=transforms.Normalize((-56.4917, -56.4917,-56.4917), (17.9446,17.9446,17.9446)),\n",
    "                                               mel_params = dict(\n",
    "                                                     n_mels = run_config[\"n_mels\"],\n",
    "                                                     n_fft = run_config[\"n_fft\"],\n",
    "                                                     win_length = run_config[\"win_length\"],\n",
    "                                                     hop_length = run_config[\"hop_length\"],\n",
    "                                                     f_max = run_config[\"f_max\"]\n",
    "                                               ),\n",
    "                                               data_num=run_config[\"fold\"],\n",
    "                                               training=True\n",
    "                                           ),\n",
    "                                           batch_size = run_config[\"batch_size\"],\n",
    "                                           shuffle = True,\n",
    "                                           ) # 순서가 암기되는것을 막기위해.\n",
    "\n",
    "validation_loader = torch.utils.data.DataLoader(dataset = \n",
    "                                           svd_dataset(\n",
    "                                               X_valid_list,\n",
    "                                               classes,\n",
    "                                               transform = transforms.ToTensor(),\n",
    "                                               mel_params = dict(\n",
    "                                                     n_mels = run_config[\"n_mels\"],\n",
    "                                                     n_fft = run_config[\"n_fft\"],\n",
    "                                                     win_length = run_config[\"win_length\"],\n",
    "                                                     hop_length = run_config[\"hop_length\"],\n",
    "                                                     f_max = run_config[\"f_max\"]\n",
    "                                               ),                      \n",
    "                                               #normalize=transforms.Normalize((-56.4917, -56.4917,-56.4917), (17.9446,17.9446,17.9446)),                                               \n",
    "                                               data_num=run_config[\"fold\"],\n",
    "                                               training=False\n",
    "                                           ),\n",
    "                                           batch_size = run_config[\"batch_size\"],\n",
    "                                           shuffle = True,) \n",
    "\n"
   ]
  },
  {
   "cell_type": "code",
   "execution_count": 15,
   "id": "e9761d67",
   "metadata": {},
   "outputs": [],
   "source": [
    "# 테스트 데이터 로더.\n",
    "\n",
    "test_loader = torch.utils.data.DataLoader(dataset = \n",
    "                                               svd_test_set(\n",
    "                                                   X_test,\n",
    "                                                   classes,\n",
    "                                                   mel_params = dict(\n",
    "                                                         n_mels = run_config[\"n_mels\"],\n",
    "                                                         n_fft = run_config[\"n_fft\"],\n",
    "                                                         win_length = run_config[\"win_length\"],\n",
    "                                                         hop_length = run_config[\"hop_length\"],\n",
    "                                                         f_max = run_config[\"f_max\"]\n",
    "                                               ),                                            \n",
    "                                                   #normalize=transforms.Normalize((-56.4917, -56.4917,-56.4917), (17.9446,17.9446,17.9446)),                                                   \n",
    "                                                   transform = transforms.ToTensor(),\n",
    "                                               ),\n",
    "                                               batch_size = run_config[\"batch_size\"],\n",
    "                                               shuffle = True,) "
   ]
  },
  {
   "cell_type": "markdown",
   "id": "52b15a86",
   "metadata": {},
   "source": [
    "# 데이터 확인"
   ]
  },
  {
   "cell_type": "code",
   "execution_count": 16,
   "id": "935699d9",
   "metadata": {},
   "outputs": [],
   "source": [
    "sr=16000\n",
    "win_length =  np.int64(16000/40) # 400\n",
    "n_fft= win_length # WINDOWS SIZE중 사용할 길이. WINDOW SIZE가 넘어가면 나머지 것들은 zero padding. 세로 길이\n",
    "hop_length= np.int64( np.ceil(win_length/4) ) #  얼마만큼 시간 주기(sample)를 이동하면서 분석을 할 것인지. 일반적으로 window size의 1/4\n",
    "#또는 10ms만큼으로 한다고 한다.\n",
    "#hop_length가 mfcc의 frame수를 결정한다.\n"
   ]
  },
  {
   "cell_type": "code",
   "execution_count": 17,
   "id": "6f866237",
   "metadata": {},
   "outputs": [
    {
     "name": "stdout",
     "output_type": "stream",
     "text": [
      "X_train :  torch.Size([32, 3, 128, 300]) type: torch.FloatTensor\n",
      "Y_train :  torch.Size([32]) type: torch.LongTensor\n",
      "tensor(0)\n"
     ]
    },
    {
     "name": "stderr",
     "output_type": "stream",
     "text": [
      "C:\\Users\\USER\\anaconda3\\envs\\local_torch\\lib\\site-packages\\librosa\\feature\\spectral.py:2041: UserWarning: Empty filters detected in mel frequency basis. Some channels will produce empty responses. Try increasing your sampling rate (and fmax) or reducing n_mels.\n",
      "  mel_basis = filters.mel(sr=sr, n_fft=n_fft, **kwargs)\n"
     ]
    },
    {
     "data": {
      "text/plain": [
       "Text(0.5, 1.0, 'MEL Spectrogram (dB)')"
      ]
     },
     "execution_count": 17,
     "metadata": {},
     "output_type": "execute_result"
    },
    {
     "data": {
      "image/png": "[encoded data removed]",
      "text/plain": [
       "<Figure size 432x288 with 2 Axes>"
      ]
     },
     "metadata": {
      "needs_background": "light"
     },
     "output_type": "display_data"
    }
   ],
   "source": [
    "# 4. 데이터 확인하기\n",
    "for (X_train,Y_train) in train_loader:\n",
    "    print(\"X_train : \",X_train.size(),'type:',X_train.type())\n",
    "    print(\"Y_train : \",Y_train.size(),'type:',Y_train.type())\n",
    "    break\n",
    "    \n",
    "print(Y_train[0])\n",
    "librosa.display.specshow(X_train[0][0].numpy(), sr=sr, hop_length=run_config[\"batch_size\"])\n",
    "plt.xlabel(\"Time\")\n",
    "plt.ylabel(\"Frequency\")\n",
    "plt.colorbar(format='%+2.0f dB')\n",
    "plt.title(\"MEL Spectrogram (dB)\")\n",
    "#batch: 32 / 3채널 / frame수: 500  /  feature수: 13"
   ]
  },
  {
   "cell_type": "code",
   "execution_count": 18,
   "id": "3b29c510",
   "metadata": {},
   "outputs": [
    {
     "name": "stdout",
     "output_type": "stream",
     "text": [
      "X_valid :  torch.Size([32, 3, 128, 300]) type: torch.FloatTensor\n",
      "Y_valid :  torch.Size([32]) type: torch.LongTensor\n",
      "tensor(1)\n"
     ]
    },
    {
     "data": {
      "text/plain": [
       "Text(0.5, 1.0, 'MEL Spectrogram (dB)')"
      ]
     },
     "execution_count": 18,
     "metadata": {},
     "output_type": "execute_result"
    },
    {
     "data": {
      "image/png": "[encoded data removed]",
      "text/plain": [
       "<Figure size 432x288 with 2 Axes>"
      ]
     },
     "metadata": {
      "needs_background": "light"
     },
     "output_type": "display_data"
    }
   ],
   "source": [
    "#valiation set 확인\n",
    "for (X_valid,Y_valid) in validation_loader:\n",
    "    print(\"X_valid : \",X_valid.size(),'type:',X_valid.type())\n",
    "    print(\"Y_valid : \",Y_valid.size(),'type:',Y_valid.type())\n",
    "    break\n",
    "\n",
    "print(Y_valid[0])\n",
    "librosa.display.specshow(X_valid[0][0].numpy(), sr=sr, hop_length=run_config[\"batch_size\"])\n",
    "plt.xlabel(\"Time\")\n",
    "plt.ylabel(\"Frequency\")\n",
    "plt.colorbar(format='%+2.0f dB')\n",
    "plt.title(\"MEL Spectrogram (dB)\")\n",
    "\n",
    "#batch: 32 / 3채널 / frame수: 500  /  feature수: 13"
   ]
  },
  {
   "cell_type": "code",
   "execution_count": 19,
   "id": "14a38987",
   "metadata": {},
   "outputs": [
    {
     "name": "stdout",
     "output_type": "stream",
     "text": [
      "X_valid :  torch.Size([32, 3, 128, 300]) type: torch.FloatTensor\n",
      "Y_valid :  torch.Size([32]) type: torch.LongTensor\n",
      "tensor(1)\n"
     ]
    },
    {
     "data": {
      "text/plain": [
       "Text(0.5, 1.0, 'MEL Spectrogram (dB)')"
      ]
     },
     "execution_count": 19,
     "metadata": {},
     "output_type": "execute_result"
    },
    {
     "data": {
      "image/png": "[encoded data removed]",
      "text/plain": [
       "<Figure size 432x288 with 2 Axes>"
      ]
     },
     "metadata": {
      "needs_background": "light"
     },
     "output_type": "display_data"
    }
   ],
   "source": [
    "#valiation set 확인\n",
    "for (test_data,test_label) in validation_loader:\n",
    "    print(\"X_valid : \",test_data.size(),'type:',test_data.type())\n",
    "    print(\"Y_valid : \",test_label.size(),'type:',test_label.type())\n",
    "    break\n",
    "\n",
    "print(Y_valid[0])\n",
    "librosa.display.specshow(test_data[0][0].numpy(), sr=sr, hop_length=run_config[\"batch_size\"])\n",
    "plt.xlabel(\"Time\")\n",
    "plt.ylabel(\"Frequency\")\n",
    "plt.colorbar(format='%+2.0f dB')\n",
    "plt.title(\"MEL Spectrogram (dB)\")\n",
    "\n",
    "#batch: 32 / 3채널 / frame수: 500  /  feature수: 13"
   ]
  },
  {
   "cell_type": "markdown",
   "id": "fec40ea4",
   "metadata": {},
   "source": [
    "# RESNET"
   ]
  },
  {
   "cell_type": "code",
   "execution_count": 20,
   "id": "2fe5d1b2",
   "metadata": {},
   "outputs": [],
   "source": [
    "# 모델 \n",
    "# pretrained\n",
    "\n",
    "\n",
    "def model_initialize():\n",
    "    model = models.resnet18(pretrained=True).cuda()\n",
    "    model.ftrs = model.fc.in_features # in_features : fully connected의 입력수.\n",
    "    num_ftrs = model.fc.in_features\n",
    "    \n",
    "    model.fc = nn.Sequential(nn.Linear(num_ftrs, 64),\n",
    "                             nn.BatchNorm1d(64),\n",
    "                             nn.ReLU(),\n",
    "                             nn.Dropout(p=0.5),\n",
    "                             nn.Linear(64,50),\n",
    "                             nn.BatchNorm1d(50),\n",
    "                             nn.ReLU(),\n",
    "                             nn.Dropout(p=0.5),\n",
    "                             nn.Linear(50,2)\n",
    "                            )\n",
    "\n",
    "    model = model.cuda()\n",
    "    return model\n",
    "model=model_initialize()\n"
   ]
  },
  {
   "cell_type": "code",
   "execution_count": 21,
   "id": "1ab03234",
   "metadata": {
    "scrolled": true
   },
   "outputs": [
    {
     "name": "stdout",
     "output_type": "stream",
     "text": [
      "ResNet(\n",
      "  (conv1): Conv2d(3, 64, kernel_size=(7, 7), stride=(2, 2), padding=(3, 3), bias=False)\n",
      "  (bn1): BatchNorm2d(64, eps=1e-05, momentum=0.1, affine=True, track_running_stats=True)\n",
      "  (relu): ReLU(inplace=True)\n",
      "  (maxpool): MaxPool2d(kernel_size=3, stride=2, padding=1, dilation=1, ceil_mode=False)\n",
      "  (layer1): Sequential(\n",
      "    (0): BasicBlock(\n",
      "      (conv1): Conv2d(64, 64, kernel_size=(3, 3), stride=(1, 1), padding=(1, 1), bias=False)\n",
      "      (bn1): BatchNorm2d(64, eps=1e-05, momentum=0.1, affine=True, track_running_stats=True)\n",
      "      (relu): ReLU(inplace=True)\n",
      "      (conv2): Conv2d(64, 64, kernel_size=(3, 3), stride=(1, 1), padding=(1, 1), bias=False)\n",
      "      (bn2): BatchNorm2d(64, eps=1e-05, momentum=0.1, affine=True, track_running_stats=True)\n",
      "    )\n",
      "    (1): BasicBlock(\n",
      "      (conv1): Conv2d(64, 64, kernel_size=(3, 3), stride=(1, 1), padding=(1, 1), bias=False)\n",
      "      (bn1): BatchNorm2d(64, eps=1e-05, momentum=0.1, affine=True, track_running_stats=True)\n",
      "      (relu): ReLU(inplace=True)\n",
      "      (conv2): Conv2d(64, 64, kernel_size=(3, 3), stride=(1, 1), padding=(1, 1), bias=False)\n",
      "      (bn2): BatchNorm2d(64, eps=1e-05, momentum=0.1, affine=True, track_running_stats=True)\n",
      "    )\n",
      "  )\n",
      "  (layer2): Sequential(\n",
      "    (0): BasicBlock(\n",
      "      (conv1): Conv2d(64, 128, kernel_size=(3, 3), stride=(2, 2), padding=(1, 1), bias=False)\n",
      "      (bn1): BatchNorm2d(128, eps=1e-05, momentum=0.1, affine=True, track_running_stats=True)\n",
      "      (relu): ReLU(inplace=True)\n",
      "      (conv2): Conv2d(128, 128, kernel_size=(3, 3), stride=(1, 1), padding=(1, 1), bias=False)\n",
      "      (bn2): BatchNorm2d(128, eps=1e-05, momentum=0.1, affine=True, track_running_stats=True)\n",
      "      (downsample): Sequential(\n",
      "        (0): Conv2d(64, 128, kernel_size=(1, 1), stride=(2, 2), bias=False)\n",
      "        (1): BatchNorm2d(128, eps=1e-05, momentum=0.1, affine=True, track_running_stats=True)\n",
      "      )\n",
      "    )\n",
      "    (1): BasicBlock(\n",
      "      (conv1): Conv2d(128, 128, kernel_size=(3, 3), stride=(1, 1), padding=(1, 1), bias=False)\n",
      "      (bn1): BatchNorm2d(128, eps=1e-05, momentum=0.1, affine=True, track_running_stats=True)\n",
      "      (relu): ReLU(inplace=True)\n",
      "      (conv2): Conv2d(128, 128, kernel_size=(3, 3), stride=(1, 1), padding=(1, 1), bias=False)\n",
      "      (bn2): BatchNorm2d(128, eps=1e-05, momentum=0.1, affine=True, track_running_stats=True)\n",
      "    )\n",
      "  )\n",
      "  (layer3): Sequential(\n",
      "    (0): BasicBlock(\n",
      "      (conv1): Conv2d(128, 256, kernel_size=(3, 3), stride=(2, 2), padding=(1, 1), bias=False)\n",
      "      (bn1): BatchNorm2d(256, eps=1e-05, momentum=0.1, affine=True, track_running_stats=True)\n",
      "      (relu): ReLU(inplace=True)\n",
      "      (conv2): Conv2d(256, 256, kernel_size=(3, 3), stride=(1, 1), padding=(1, 1), bias=False)\n",
      "      (bn2): BatchNorm2d(256, eps=1e-05, momentum=0.1, affine=True, track_running_stats=True)\n",
      "      (downsample): Sequential(\n",
      "        (0): Conv2d(128, 256, kernel_size=(1, 1), stride=(2, 2), bias=False)\n",
      "        (1): BatchNorm2d(256, eps=1e-05, momentum=0.1, affine=True, track_running_stats=True)\n",
      "      )\n",
      "    )\n",
      "    (1): BasicBlock(\n",
      "      (conv1): Conv2d(256, 256, kernel_size=(3, 3), stride=(1, 1), padding=(1, 1), bias=False)\n",
      "      (bn1): BatchNorm2d(256, eps=1e-05, momentum=0.1, affine=True, track_running_stats=True)\n",
      "      (relu): ReLU(inplace=True)\n",
      "      (conv2): Conv2d(256, 256, kernel_size=(3, 3), stride=(1, 1), padding=(1, 1), bias=False)\n",
      "      (bn2): BatchNorm2d(256, eps=1e-05, momentum=0.1, affine=True, track_running_stats=True)\n",
      "    )\n",
      "  )\n",
      "  (layer4): Sequential(\n",
      "    (0): BasicBlock(\n",
      "      (conv1): Conv2d(256, 512, kernel_size=(3, 3), stride=(2, 2), padding=(1, 1), bias=False)\n",
      "      (bn1): BatchNorm2d(512, eps=1e-05, momentum=0.1, affine=True, track_running_stats=True)\n",
      "      (relu): ReLU(inplace=True)\n",
      "      (conv2): Conv2d(512, 512, kernel_size=(3, 3), stride=(1, 1), padding=(1, 1), bias=False)\n",
      "      (bn2): BatchNorm2d(512, eps=1e-05, momentum=0.1, affine=True, track_running_stats=True)\n",
      "      (downsample): Sequential(\n",
      "        (0): Conv2d(256, 512, kernel_size=(1, 1), stride=(2, 2), bias=False)\n",
      "        (1): BatchNorm2d(512, eps=1e-05, momentum=0.1, affine=True, track_running_stats=True)\n",
      "      )\n",
      "    )\n",
      "    (1): BasicBlock(\n",
      "      (conv1): Conv2d(512, 512, kernel_size=(3, 3), stride=(1, 1), padding=(1, 1), bias=False)\n",
      "      (bn1): BatchNorm2d(512, eps=1e-05, momentum=0.1, affine=True, track_running_stats=True)\n",
      "      (relu): ReLU(inplace=True)\n",
      "      (conv2): Conv2d(512, 512, kernel_size=(3, 3), stride=(1, 1), padding=(1, 1), bias=False)\n",
      "      (bn2): BatchNorm2d(512, eps=1e-05, momentum=0.1, affine=True, track_running_stats=True)\n",
      "    )\n",
      "  )\n",
      "  (avgpool): AdaptiveAvgPool2d(output_size=(1, 1))\n",
      "  (fc): Sequential(\n",
      "    (0): Linear(in_features=512, out_features=64, bias=True)\n",
      "    (1): BatchNorm1d(64, eps=1e-05, momentum=0.1, affine=True, track_running_stats=True)\n",
      "    (2): ReLU()\n",
      "    (3): Dropout(p=0.5, inplace=False)\n",
      "    (4): Linear(in_features=64, out_features=50, bias=True)\n",
      "    (5): BatchNorm1d(50, eps=1e-05, momentum=0.1, affine=True, track_running_stats=True)\n",
      "    (6): ReLU()\n",
      "    (7): Dropout(p=0.5, inplace=False)\n",
      "    (8): Linear(in_features=50, out_features=2, bias=True)\n",
      "  )\n",
      ")\n"
     ]
    }
   ],
   "source": [
    "criterion = nn.CrossEntropyLoss()\n",
    "optimizer = torch.optim.Adam(model.parameters(),lr=lr)\n",
    "print(model)"
   ]
  },
  {
   "cell_type": "code",
   "execution_count": 22,
   "id": "2a47749e",
   "metadata": {
    "scrolled": true
   },
   "outputs": [],
   "source": [
    "# get the model summary\n",
    "from torchsummary import summary\n",
    "#summary(model, input_size=(3, 128, 300), device=DEVICE.type)"
   ]
  },
  {
   "cell_type": "code",
   "execution_count": 23,
   "id": "3f2ca15d",
   "metadata": {},
   "outputs": [],
   "source": [
    "#8. 학습\n",
    "def train(model,train_loader,optimizer, log_interval):\n",
    "    model.train()    \n",
    "    correct = 0\n",
    "    train_loss = 0\n",
    "    for batch_idx,(image,label) in enumerate(train_loader):\n",
    "        image = image.to(DEVICE)\n",
    "        label = label.to(DEVICE)\n",
    "        #데이터들 장비에 할당\n",
    "        optimizer.zero_grad() # device 에 저장된 gradient 제거\n",
    "        output = model(image) # model로 output을 계산\n",
    "        loss = criterion(output, label) #loss 계산\n",
    "        train_loss += loss.item()\n",
    "        prediction = output.max(1,keepdim=True)[1] # 가장 확률이 높은 class 1개를 가져온다.그리고 인덱스만\n",
    "        correct += prediction.eq(label.view_as(prediction)).sum().item()# 아웃풋이 배치 사이즈 32개라서.\n",
    "        loss.backward() # loss 값을 이용해 gradient를 계산\n",
    "        optimizer.step() # Gradient 값을 이용해 파라미터 업데이트.\n",
    "    train_loss/=len(train_loader.dataset)\n",
    "    train_accuracy = 100. * correct / len(train_loader.dataset)\n",
    "    return train_loss,train_accuracy\n"
   ]
  },
  {
   "cell_type": "code",
   "execution_count": 24,
   "id": "b09341bf",
   "metadata": {},
   "outputs": [],
   "source": [
    "#9. 학습 진행하며, validation 데이터로 모델 성능확인\n",
    "def evaluate(model,valid_loader):\n",
    "    model.eval()\n",
    "    valid_loss = 0\n",
    "    correct = 0\n",
    "    #no_grad : 그래디언트 값 계산 막기.\n",
    "    with torch.no_grad():\n",
    "        for image, label in valid_loader:\n",
    "            image = image.to(DEVICE)\n",
    "            label = label.to(DEVICE)\n",
    "            output = model(image)\n",
    "            valid_loss += criterion(output, label).item()\n",
    "            prediction = output.max(1,keepdim=True)[1] # 가장 확률이 높은 class 1개를 가져온다.그리고 인덱스만\n",
    "            correct += prediction.eq(label.view_as(prediction)).sum().item()# 아웃풋이 배치 사이즈 32개라서.\n",
    "            #true.false값을 sum해줌. item\n",
    "        valid_loss /= len(valid_loader.dataset)\n",
    "        valid_accuracy = 100. * correct / len(valid_loader.dataset)\n",
    "        return valid_loss,valid_accuracy\n"
   ]
  },
  {
   "cell_type": "code",
   "execution_count": 25,
   "id": "fa7fc2ea",
   "metadata": {},
   "outputs": [],
   "source": [
    "#데이터 로더 제작 함수\n",
    "\n",
    "def load_data(data_ind):\n",
    "\n",
    "    train_loader = torch.utils.data.DataLoader(dataset = \n",
    "                                               svd_dataset(\n",
    "                                                   X_train_list,\n",
    "                                                   classes,\n",
    "                                                   transform = transforms.ToTensor(),#이걸 composed로 고쳐서 전처리 하도록 수정. to tensor는 -데이터는 노멀라이즈못함.\n",
    "                                                   #normalize=transforms.Normalize((-56.4917, -56.4917,-56.4917), (17.9446,17.9446,17.9446)),\n",
    "                                                   mel_params = dict(\n",
    "                                                         n_mels = wandb.config.n_mels,\n",
    "                                                         n_fft = wandb.config.n_fft,\n",
    "                                                         win_length = wandb.config.win_length,\n",
    "                                                         hop_length = wandb.config.hop_length,\n",
    "                                                         f_max = wandb.config.f_max\n",
    "                                                   ),\n",
    "                                                   data_num=data_ind,\n",
    "                                                   training=True\n",
    "                                               ),\n",
    "                                               batch_size = wandb.config.batch_size,\n",
    "                                               shuffle = True,\n",
    "                                               ) # 순서가 암기되는것을 막기위해.\n",
    "\n",
    "    validation_loader = torch.utils.data.DataLoader(dataset = \n",
    "                                               svd_dataset(\n",
    "                                                   X_valid_list,\n",
    "                                                   classes,\n",
    "                                                   transform = transforms.ToTensor(),\n",
    "                                                   mel_params = dict(\n",
    "                                                         n_mels = wandb.config.n_mels,\n",
    "                                                         n_fft = wandb.config.n_fft,\n",
    "                                                         win_length = wandb.config.win_length,\n",
    "                                                         hop_length = wandb.config.hop_length,\n",
    "                                                         f_max = wandb.config.f_max\n",
    "                                                   ),                      \n",
    "                                                   #normalize=transforms.Normalize((-56.4917, -56.4917,-56.4917), (17.9446,17.9446,17.9446)),                                               \n",
    "                                                   data_num=data_ind,\n",
    "                                                   training=False\n",
    "                                               ),\n",
    "                                               batch_size = wandb.config.batch_size,\n",
    "                                               shuffle = True,) \n",
    "\n",
    "    return train_loader,validation_loader\n",
    "\n"
   ]
  },
  {
   "cell_type": "code",
   "execution_count": 26,
   "id": "e7c8c86f",
   "metadata": {
    "scrolled": true
   },
   "outputs": [],
   "source": [
    "#10. 학습 및 평가.\n",
    "# resnet34 pretrained true\n",
    "# kfold 적용\n",
    "\n",
    "train_accs = []\n",
    "valid_accs = []\n",
    "\n",
    "\n",
    "\n",
    "def all_train():\n",
    "    wandb.init(project=\"SVD-hyp-sweep\", entity=\"bub3690\",config=run_config)\n",
    "    searching = \"batch_size\" ## 여기 수정 ##\n",
    "    data_ind = wandb.config.fold\n",
    "    check_path = '../../checkpoint/checkpoint_melspectro_resnet18_true_ros_'+str(data_ind)+'_organics.pt'\n",
    "    print(check_path)\n",
    "    wandb.run.name = '{} : {}'.format(searching,wandb.config.batch_size)  ### 여기 수정 ###\n",
    "    print(\"config:\", dict(wandb.config))    \n",
    "\n",
    "    early_stopping = EarlyStopping(patience = 5, verbose = True, path=check_path)\n",
    "    train_loader,validation_loader = load_data(data_ind-1)\n",
    "\n",
    "    best_train_acc = 0 # accuracy 기록용\n",
    "    best_valid_acc = 0\n",
    "    \n",
    "    best_train_loss = 0\n",
    "    best_valid_loss = 0\n",
    "\n",
    "    model=model_initialize()\n",
    "    criterion = nn.CrossEntropyLoss()\n",
    "    optimizer = torch.optim.Adam(model.parameters(),lr=0.0001)\n",
    "\n",
    "\n",
    "    print(\"[{} 교차검증] 학습 시작\\n ----- \".format(data_ind))\n",
    "    for Epoch in range(1,EPOCHS+1):\n",
    "        train_loss,train_accuracy=train(model,train_loader,optimizer,log_interval=31)\n",
    "        valid_loss,valid_accuracy = evaluate(model, validation_loader)\n",
    "\n",
    "        print(\"\\n[EPOCH:{}]\\t Train Loss:{:.4f}\\t Train Acc:{:.2f} %  | \\tValid Loss:{:.4f} \\tValid Acc: {:.2f} %\\n\".\n",
    "              format(Epoch,train_loss,train_accuracy,valid_loss,valid_accuracy))\n",
    "        #wandb.log({\"metric\": run.config.param1, \"epoch\": epoch})\n",
    "            \n",
    "        early_stopping(valid_loss, model)\n",
    "        if -early_stopping.best_score == valid_loss:\n",
    "            best_train_acc, best_valid_acc = train_accuracy,valid_accuracy\n",
    "            best_train_loss, best_valid_loss = train_loss,valid_loss\n",
    "            \n",
    "            wandb.log({\"Valid/Loss\": best_valid_loss, \n",
    "                       \"Valid/Accuracy\": best_valid_acc,\n",
    "                      }, step=Epoch)\n",
    "            #wandb.run.summary.update({\"best_valid_{}fold_acc\".format(data_ind) : best_valid_acc})\n",
    "        else:\n",
    "            # 이전 최고 기록을 log\n",
    "            wandb.log({\"Valid/Loss\": best_valid_loss, \n",
    "                       \"Valid/Accuracy\": best_valid_acc,\n",
    "                      }, step=Epoch)\n",
    "\n",
    "        if early_stopping.early_stop:\n",
    "                train_accs.append(best_train_acc)\n",
    "                valid_accs.append(best_valid_acc)\n",
    "                print(\"[{} 교차검증] Early stopping\".format(data_ind))\n",
    "                break\n",
    "\n",
    "        if Epoch==EPOCHS:\n",
    "            #만약 early stop 없이 40 epoch라서 중지 된 경우.\n",
    "            train_accs.append(best_train_acc)\n",
    "            valid_accs.append(best_valid_acc)"
   ]
  },
  {
   "cell_type": "code",
   "execution_count": 27,
   "id": "1e1949f6",
   "metadata": {
    "scrolled": false
   },
   "outputs": [
    {
     "name": "stderr",
     "output_type": "stream",
     "text": [
      "\u001b[34m\u001b[1mwandb\u001b[0m: Agent Starting Run: 49ssco1m with config:\n",
      "\u001b[34m\u001b[1mwandb\u001b[0m: \tbatch_size: 8\n",
      "\u001b[34m\u001b[1mwandb\u001b[0m: \tfold: 1\n",
      "\u001b[34m\u001b[1mwandb\u001b[0m: Currently logged in as: \u001b[33mbub3690\u001b[0m. Use \u001b[1m`wandb login --relogin`\u001b[0m to force relogin\n",
      "\u001b[34m\u001b[1mwandb\u001b[0m: \u001b[33mWARNING\u001b[0m Ignored wandb.init() arg project when running a sweep.\n",
      "\u001b[34m\u001b[1mwandb\u001b[0m: \u001b[33mWARNING\u001b[0m Ignored wandb.init() arg entity when running a sweep.\n"
     ]
    },
    {
     "data": {
      "text/html": [
       "wandb version 0.12.20 is available!  To upgrade, please run:\n",
       " $ pip install wandb --upgrade"
      ],
      "text/plain": [
       "<IPython.core.display.HTML object>"
      ]
     },
     "metadata": {},
     "output_type": "display_data"
    },
    {
     "data": {
      "text/html": [
       "Tracking run with wandb version 0.12.16"
      ],
      "text/plain": [
       "<IPython.core.display.HTML object>"
      ]
     },
     "metadata": {},
     "output_type": "display_data"
    },
    {
     "data": {
      "text/html": [
       "Run data is saved locally in <code>D:\\project\\voice_pathology_ai\\model\\spectrogram\\ros\\wandb\\run-20220704_140518-49ssco1m</code>"
      ],
      "text/plain": [
       "<IPython.core.display.HTML object>"
      ]
     },
     "metadata": {},
     "output_type": "display_data"
    },
    {
     "data": {
      "text/html": [
       "Syncing run <strong><a href=\"https://wandb.ai/bub3690/SVD-hyp-sweep/runs/49ssco1m\" target=\"_blank\">smooth-sweep-1</a></strong> to <a href=\"https://wandb.ai/bub3690/SVD-hyp-sweep\" target=\"_blank\">Weights & Biases</a> (<a href=\"https://wandb.me/run\" target=\"_blank\">docs</a>)<br/>Sweep page:  <a href=\"https://wandb.ai/bub3690/SVD-hyp-sweep/sweeps/j9mfv8ql\" target=\"_blank\">https://wandb.ai/bub3690/SVD-hyp-sweep/sweeps/j9mfv8ql</a>"
      ],
      "text/plain": [
       "<IPython.core.display.HTML object>"
      ]
     },
     "metadata": {},
     "output_type": "display_data"
    },
    {
     "name": "stdout",
     "output_type": "stream",
     "text": [
      "../../checkpoint/checkpoint_melspectro_resnet18_true_ros_1_organics.pt\n",
      "config: {'sample_rate': 16000, 'n_fft': 1024, 'n_mels': 128, 'hop_length': 100, 'win_length': 400, 'f_max': 80000, 'batch_size': 8, 'fold': 1}\n",
      "[1 교차검증] 학습 시작\n",
      " ----- \n",
      "\n",
      "[EPOCH:1]\t Train Loss:0.0831\t Train Acc:61.45 %  | \tValid Loss:0.0769 \tValid Acc: 62.94 %\n",
      "\n",
      "Validation loss decreased (inf --> 0.076863).  Saving model ...\n",
      "\n",
      "[EPOCH:2]\t Train Loss:0.0661\t Train Acc:72.91 %  | \tValid Loss:0.0617 \tValid Acc: 81.22 %\n",
      "\n",
      "Validation loss decreased (0.076863 --> 0.061725).  Saving model ...\n",
      "\n",
      "[EPOCH:3]\t Train Loss:0.0572\t Train Acc:80.91 %  | \tValid Loss:0.0621 \tValid Acc: 76.14 %\n",
      "\n",
      "EarlyStopping counter: 1 out of 5\n",
      "\n",
      "[EPOCH:4]\t Train Loss:0.0495\t Train Acc:84.98 %  | \tValid Loss:0.0537 \tValid Acc: 81.22 %\n",
      "\n",
      "Validation loss decreased (0.061725 --> 0.053738).  Saving model ...\n",
      "\n",
      "[EPOCH:5]\t Train Loss:0.0437\t Train Acc:87.44 %  | \tValid Loss:0.0524 \tValid Acc: 80.71 %\n",
      "\n",
      "Validation loss decreased (0.053738 --> 0.052429).  Saving model ...\n",
      "\n",
      "[EPOCH:6]\t Train Loss:0.0365\t Train Acc:92.24 %  | \tValid Loss:0.0501 \tValid Acc: 82.74 %\n",
      "\n",
      "Validation loss decreased (0.052429 --> 0.050128).  Saving model ...\n",
      "\n",
      "[EPOCH:7]\t Train Loss:0.0337\t Train Acc:91.75 %  | \tValid Loss:0.0513 \tValid Acc: 82.23 %\n",
      "\n",
      "EarlyStopping counter: 1 out of 5\n",
      "\n",
      "[EPOCH:8]\t Train Loss:0.0323\t Train Acc:93.23 %  | \tValid Loss:0.0478 \tValid Acc: 87.31 %\n",
      "\n",
      "Validation loss decreased (0.050128 --> 0.047796).  Saving model ...\n",
      "\n",
      "[EPOCH:9]\t Train Loss:0.0264\t Train Acc:94.95 %  | \tValid Loss:0.0448 \tValid Acc: 85.79 %\n",
      "\n",
      "Validation loss decreased (0.047796 --> 0.044832).  Saving model ...\n",
      "\n",
      "[EPOCH:10]\t Train Loss:0.0238\t Train Acc:95.44 %  | \tValid Loss:0.0489 \tValid Acc: 85.79 %\n",
      "\n",
      "EarlyStopping counter: 1 out of 5\n",
      "\n",
      "[EPOCH:11]\t Train Loss:0.0268\t Train Acc:93.97 %  | \tValid Loss:0.0485 \tValid Acc: 83.76 %\n",
      "\n",
      "EarlyStopping counter: 2 out of 5\n",
      "\n",
      "[EPOCH:12]\t Train Loss:0.0249\t Train Acc:94.09 %  | \tValid Loss:0.0493 \tValid Acc: 81.73 %\n",
      "\n",
      "EarlyStopping counter: 3 out of 5\n",
      "\n",
      "[EPOCH:13]\t Train Loss:0.0227\t Train Acc:95.44 %  | \tValid Loss:0.0482 \tValid Acc: 83.76 %\n",
      "\n",
      "EarlyStopping counter: 4 out of 5\n",
      "\n",
      "[EPOCH:14]\t Train Loss:0.0174\t Train Acc:97.29 %  | \tValid Loss:0.0441 \tValid Acc: 85.79 %\n",
      "\n",
      "Validation loss decreased (0.044832 --> 0.044137).  Saving model ...\n",
      "\n",
      "[EPOCH:15]\t Train Loss:0.0142\t Train Acc:97.91 %  | \tValid Loss:0.0387 \tValid Acc: 86.80 %\n",
      "\n",
      "Validation loss decreased (0.044137 --> 0.038650).  Saving model ...\n",
      "\n",
      "[EPOCH:16]\t Train Loss:0.0171\t Train Acc:97.54 %  | \tValid Loss:0.0431 \tValid Acc: 84.77 %\n",
      "\n",
      "EarlyStopping counter: 1 out of 5\n",
      "\n",
      "[EPOCH:17]\t Train Loss:0.0173\t Train Acc:97.29 %  | \tValid Loss:0.0524 \tValid Acc: 78.68 %\n",
      "\n",
      "EarlyStopping counter: 2 out of 5\n",
      "\n",
      "[EPOCH:18]\t Train Loss:0.0225\t Train Acc:95.20 %  | \tValid Loss:0.0430 \tValid Acc: 85.79 %\n",
      "\n",
      "EarlyStopping counter: 3 out of 5\n",
      "\n",
      "[EPOCH:19]\t Train Loss:0.0176\t Train Acc:96.31 %  | \tValid Loss:0.0488 \tValid Acc: 83.25 %\n",
      "\n",
      "EarlyStopping counter: 4 out of 5\n",
      "\n",
      "[EPOCH:20]\t Train Loss:0.0164\t Train Acc:97.17 %  | \tValid Loss:0.0535 \tValid Acc: 80.71 %\n",
      "\n",
      "EarlyStopping counter: 5 out of 5\n",
      "[1 교차검증] Early stopping\n"
     ]
    },
    {
     "data": {
      "text/html": [
       "Waiting for W&B process to finish... <strong style=\"color:green\">(success).</strong>"
      ],
      "text/plain": [
       "<IPython.core.display.HTML object>"
      ]
     },
     "metadata": {},
     "output_type": "display_data"
    },
    {
     "data": {
      "application/vnd.jupyter.widget-view+json": {
       "model_id": "",
       "version_major": 2,
       "version_minor": 0
      },
      "text/plain": [
       "VBox(children=(Label(value='0.001 MB of 0.001 MB uploaded (0.000 MB deduped)\\r'), FloatProgress(value=1.0, max…"
      ]
     },
     "metadata": {},
     "output_type": "display_data"
    },
    {
     "data": {
      "text/html": [
       "<style>\n",
       "    table.wandb td:nth-child(1) { padding: 0 10px; text-align: left ; width: auto;} td:nth-child(2) {text-align: left ; width: 100%}\n",
       "    .wandb-row { display: flex; flex-direction: row; flex-wrap: wrap; justify-content: flex-start; width: 100% }\n",
       "    .wandb-col { display: flex; flex-direction: column; flex-basis: 100%; flex: 1; padding: 10px; }\n",
       "    </style>\n",
       "<div class=\"wandb-row\"><div class=\"wandb-col\"><h3>Run history:</h3><br/><table class=\"wandb\"><tr><td>Valid/Accuracy</td><td>▁▆▆▆▆▇▇█████████████</td></tr><tr><td>Valid/Loss</td><td>█▅▅▄▄▃▃▃▂▂▂▂▂▂▁▁▁▁▁▁</td></tr></table><br/></div><div class=\"wandb-col\"><h3>Run summary:</h3><br/><table class=\"wandb\"><tr><td>Valid/Accuracy</td><td>86.80203</td></tr><tr><td>Valid/Loss</td><td>0.03865</td></tr></table><br/></div></div>"
      ],
      "text/plain": [
       "<IPython.core.display.HTML object>"
      ]
     },
     "metadata": {},
     "output_type": "display_data"
    },
    {
     "data": {
      "text/html": [
       "Synced <strong style=\"color:#cdcd00\">smooth-sweep-1</strong>: <a href=\"https://wandb.ai/bub3690/SVD-hyp-sweep/runs/49ssco1m\" target=\"_blank\">https://wandb.ai/bub3690/SVD-hyp-sweep/runs/49ssco1m</a><br/>Synced 5 W&B file(s), 0 media file(s), 0 artifact file(s) and 0 other file(s)"
      ],
      "text/plain": [
       "<IPython.core.display.HTML object>"
      ]
     },
     "metadata": {},
     "output_type": "display_data"
    },
    {
     "data": {
      "text/html": [
       "Find logs at: <code>.\\wandb\\run-20220704_140518-49ssco1m\\logs</code>"
      ],
      "text/plain": [
       "<IPython.core.display.HTML object>"
      ]
     },
     "metadata": {},
     "output_type": "display_data"
    },
    {
     "name": "stderr",
     "output_type": "stream",
     "text": [
      "\u001b[34m\u001b[1mwandb\u001b[0m: Agent Starting Run: iggkvtef with config:\n",
      "\u001b[34m\u001b[1mwandb\u001b[0m: \tbatch_size: 8\n",
      "\u001b[34m\u001b[1mwandb\u001b[0m: \tfold: 2\n",
      "\u001b[34m\u001b[1mwandb\u001b[0m: \u001b[33mWARNING\u001b[0m Ignored wandb.init() arg project when running a sweep.\n",
      "\u001b[34m\u001b[1mwandb\u001b[0m: \u001b[33mWARNING\u001b[0m Ignored wandb.init() arg entity when running a sweep.\n"
     ]
    },
    {
     "data": {
      "text/html": [
       "wandb version 0.12.20 is available!  To upgrade, please run:\n",
       " $ pip install wandb --upgrade"
      ],
      "text/plain": [
       "<IPython.core.display.HTML object>"
      ]
     },
     "metadata": {},
     "output_type": "display_data"
    },
    {
     "data": {
      "text/html": [
       "Tracking run with wandb version 0.12.16"
      ],
      "text/plain": [
       "<IPython.core.display.HTML object>"
      ]
     },
     "metadata": {},
     "output_type": "display_data"
    },
    {
     "data": {
      "text/html": [
       "Run data is saved locally in <code>D:\\project\\voice_pathology_ai\\model\\spectrogram\\ros\\wandb\\run-20220704_140744-iggkvtef</code>"
      ],
      "text/plain": [
       "<IPython.core.display.HTML object>"
      ]
     },
     "metadata": {},
     "output_type": "display_data"
    },
    {
     "data": {
      "text/html": [
       "Syncing run <strong><a href=\"https://wandb.ai/bub3690/SVD-hyp-sweep/runs/iggkvtef\" target=\"_blank\">wild-sweep-2</a></strong> to <a href=\"https://wandb.ai/bub3690/SVD-hyp-sweep\" target=\"_blank\">Weights & Biases</a> (<a href=\"https://wandb.me/run\" target=\"_blank\">docs</a>)<br/>Sweep page:  <a href=\"https://wandb.ai/bub3690/SVD-hyp-sweep/sweeps/j9mfv8ql\" target=\"_blank\">https://wandb.ai/bub3690/SVD-hyp-sweep/sweeps/j9mfv8ql</a>"
      ],
      "text/plain": [
       "<IPython.core.display.HTML object>"
      ]
     },
     "metadata": {},
     "output_type": "display_data"
    },
    {
     "name": "stdout",
     "output_type": "stream",
     "text": [
      "../../checkpoint/checkpoint_melspectro_resnet18_true_ros_2_organics.pt\n",
      "config: {'sample_rate': 16000, 'n_fft': 1024, 'n_mels': 128, 'hop_length': 100, 'win_length': 400, 'f_max': 80000, 'batch_size': 8, 'fold': 2}\n",
      "[2 교차검증] 학습 시작\n",
      " ----- \n",
      "\n",
      "[EPOCH:1]\t Train Loss:0.0815\t Train Acc:62.44 %  | \tValid Loss:0.0650 \tValid Acc: 81.73 %\n",
      "\n",
      "Validation loss decreased (inf --> 0.064955).  Saving model ...\n",
      "\n",
      "[EPOCH:2]\t Train Loss:0.0633\t Train Acc:76.60 %  | \tValid Loss:0.0532 \tValid Acc: 86.29 %\n",
      "\n",
      "Validation loss decreased (0.064955 --> 0.053182).  Saving model ...\n",
      "\n",
      "[EPOCH:3]\t Train Loss:0.0570\t Train Acc:79.93 %  | \tValid Loss:0.0463 \tValid Acc: 89.34 %\n",
      "\n",
      "Validation loss decreased (0.053182 --> 0.046343).  Saving model ...\n",
      "\n",
      "[EPOCH:4]\t Train Loss:0.0487\t Train Acc:86.33 %  | \tValid Loss:0.0468 \tValid Acc: 88.32 %\n",
      "\n",
      "EarlyStopping counter: 1 out of 5\n",
      "\n",
      "[EPOCH:5]\t Train Loss:0.0396\t Train Acc:90.76 %  | \tValid Loss:0.0435 \tValid Acc: 86.80 %\n",
      "\n",
      "Validation loss decreased (0.046343 --> 0.043484).  Saving model ...\n",
      "\n",
      "[EPOCH:6]\t Train Loss:0.0375\t Train Acc:91.87 %  | \tValid Loss:0.0401 \tValid Acc: 88.83 %\n",
      "\n",
      "Validation loss decreased (0.043484 --> 0.040100).  Saving model ...\n",
      "\n",
      "[EPOCH:7]\t Train Loss:0.0331\t Train Acc:92.49 %  | \tValid Loss:0.0508 \tValid Acc: 83.25 %\n",
      "\n",
      "EarlyStopping counter: 1 out of 5\n",
      "\n",
      "[EPOCH:8]\t Train Loss:0.0321\t Train Acc:92.00 %  | \tValid Loss:0.0428 \tValid Acc: 86.80 %\n",
      "\n",
      "EarlyStopping counter: 2 out of 5\n",
      "\n",
      "[EPOCH:9]\t Train Loss:0.0235\t Train Acc:96.18 %  | \tValid Loss:0.0419 \tValid Acc: 86.29 %\n",
      "\n",
      "EarlyStopping counter: 3 out of 5\n",
      "\n",
      "[EPOCH:10]\t Train Loss:0.0281\t Train Acc:93.97 %  | \tValid Loss:0.0384 \tValid Acc: 87.82 %\n",
      "\n",
      "Validation loss decreased (0.040100 --> 0.038374).  Saving model ...\n",
      "\n",
      "[EPOCH:11]\t Train Loss:0.0282\t Train Acc:93.72 %  | \tValid Loss:0.0445 \tValid Acc: 83.76 %\n",
      "\n",
      "EarlyStopping counter: 1 out of 5\n",
      "\n",
      "[EPOCH:12]\t Train Loss:0.0206\t Train Acc:96.67 %  | \tValid Loss:0.0388 \tValid Acc: 86.80 %\n",
      "\n",
      "EarlyStopping counter: 2 out of 5\n",
      "\n",
      "[EPOCH:13]\t Train Loss:0.0178\t Train Acc:97.66 %  | \tValid Loss:0.0374 \tValid Acc: 87.82 %\n",
      "\n",
      "Validation loss decreased (0.038374 --> 0.037416).  Saving model ...\n",
      "\n",
      "[EPOCH:14]\t Train Loss:0.0194\t Train Acc:96.06 %  | \tValid Loss:0.0364 \tValid Acc: 88.32 %\n",
      "\n",
      "Validation loss decreased (0.037416 --> 0.036380).  Saving model ...\n",
      "\n",
      "[EPOCH:15]\t Train Loss:0.0160\t Train Acc:97.66 %  | \tValid Loss:0.0510 \tValid Acc: 82.74 %\n",
      "\n",
      "EarlyStopping counter: 1 out of 5\n",
      "\n",
      "[EPOCH:16]\t Train Loss:0.0186\t Train Acc:95.69 %  | \tValid Loss:0.0584 \tValid Acc: 80.20 %\n",
      "\n",
      "EarlyStopping counter: 2 out of 5\n",
      "\n",
      "[EPOCH:17]\t Train Loss:0.0183\t Train Acc:96.43 %  | \tValid Loss:0.0417 \tValid Acc: 84.26 %\n",
      "\n",
      "EarlyStopping counter: 3 out of 5\n",
      "\n",
      "[EPOCH:18]\t Train Loss:0.0183\t Train Acc:96.43 %  | \tValid Loss:0.0553 \tValid Acc: 81.73 %\n",
      "\n",
      "EarlyStopping counter: 4 out of 5\n",
      "\n",
      "[EPOCH:19]\t Train Loss:0.0194\t Train Acc:95.94 %  | \tValid Loss:0.0419 \tValid Acc: 85.28 %\n",
      "\n",
      "EarlyStopping counter: 5 out of 5\n",
      "[2 교차검증] Early stopping\n"
     ]
    },
    {
     "data": {
      "text/html": [
       "Waiting for W&B process to finish... <strong style=\"color:green\">(success).</strong>"
      ],
      "text/plain": [
       "<IPython.core.display.HTML object>"
      ]
     },
     "metadata": {},
     "output_type": "display_data"
    },
    {
     "data": {
      "application/vnd.jupyter.widget-view+json": {
       "model_id": "",
       "version_major": 2,
       "version_minor": 0
      },
      "text/plain": [
       "VBox(children=(Label(value='0.001 MB of 0.001 MB uploaded (0.000 MB deduped)\\r'), FloatProgress(value=1.0, max…"
      ]
     },
     "metadata": {},
     "output_type": "display_data"
    },
    {
     "data": {
      "text/html": [
       "<style>\n",
       "    table.wandb td:nth-child(1) { padding: 0 10px; text-align: left ; width: auto;} td:nth-child(2) {text-align: left ; width: 100%}\n",
       "    .wandb-row { display: flex; flex-direction: row; flex-wrap: wrap; justify-content: flex-start; width: 100% }\n",
       "    .wandb-col { display: flex; flex-direction: column; flex-basis: 100%; flex: 1; padding: 10px; }\n",
       "    </style>\n",
       "<div class=\"wandb-row\"><div class=\"wandb-col\"><h3>Run history:</h3><br/><table class=\"wandb\"><tr><td>Valid/Accuracy</td><td>▁▅██▆████▇▇▇▇▇▇▇▇▇▇</td></tr><tr><td>Valid/Loss</td><td>█▅▃▃▃▂▂▂▂▁▁▁▁▁▁▁▁▁▁</td></tr></table><br/></div><div class=\"wandb-col\"><h3>Run summary:</h3><br/><table class=\"wandb\"><tr><td>Valid/Accuracy</td><td>88.32487</td></tr><tr><td>Valid/Loss</td><td>0.03638</td></tr></table><br/></div></div>"
      ],
      "text/plain": [
       "<IPython.core.display.HTML object>"
      ]
     },
     "metadata": {},
     "output_type": "display_data"
    },
    {
     "data": {
      "text/html": [
       "Synced <strong style=\"color:#cdcd00\">wild-sweep-2</strong>: <a href=\"https://wandb.ai/bub3690/SVD-hyp-sweep/runs/iggkvtef\" target=\"_blank\">https://wandb.ai/bub3690/SVD-hyp-sweep/runs/iggkvtef</a><br/>Synced 5 W&B file(s), 0 media file(s), 0 artifact file(s) and 0 other file(s)"
      ],
      "text/plain": [
       "<IPython.core.display.HTML object>"
      ]
     },
     "metadata": {},
     "output_type": "display_data"
    },
    {
     "data": {
      "text/html": [
       "Find logs at: <code>.\\wandb\\run-20220704_140744-iggkvtef\\logs</code>"
      ],
      "text/plain": [
       "<IPython.core.display.HTML object>"
      ]
     },
     "metadata": {},
     "output_type": "display_data"
    },
    {
     "name": "stderr",
     "output_type": "stream",
     "text": [
      "\u001b[34m\u001b[1mwandb\u001b[0m: Agent Starting Run: 0y21lm24 with config:\n",
      "\u001b[34m\u001b[1mwandb\u001b[0m: \tbatch_size: 8\n",
      "\u001b[34m\u001b[1mwandb\u001b[0m: \tfold: 3\n",
      "\u001b[34m\u001b[1mwandb\u001b[0m: \u001b[33mWARNING\u001b[0m Ignored wandb.init() arg project when running a sweep.\n",
      "\u001b[34m\u001b[1mwandb\u001b[0m: \u001b[33mWARNING\u001b[0m Ignored wandb.init() arg entity when running a sweep.\n"
     ]
    },
    {
     "data": {
      "text/html": [
       "wandb version 0.12.20 is available!  To upgrade, please run:\n",
       " $ pip install wandb --upgrade"
      ],
      "text/plain": [
       "<IPython.core.display.HTML object>"
      ]
     },
     "metadata": {},
     "output_type": "display_data"
    },
    {
     "data": {
      "text/html": [
       "Tracking run with wandb version 0.12.16"
      ],
      "text/plain": [
       "<IPython.core.display.HTML object>"
      ]
     },
     "metadata": {},
     "output_type": "display_data"
    },
    {
     "data": {
      "text/html": [
       "Run data is saved locally in <code>D:\\project\\voice_pathology_ai\\model\\spectrogram\\ros\\wandb\\run-20220704_141000-0y21lm24</code>"
      ],
      "text/plain": [
       "<IPython.core.display.HTML object>"
      ]
     },
     "metadata": {},
     "output_type": "display_data"
    },
    {
     "data": {
      "text/html": [
       "Syncing run <strong><a href=\"https://wandb.ai/bub3690/SVD-hyp-sweep/runs/0y21lm24\" target=\"_blank\">silvery-sweep-3</a></strong> to <a href=\"https://wandb.ai/bub3690/SVD-hyp-sweep\" target=\"_blank\">Weights & Biases</a> (<a href=\"https://wandb.me/run\" target=\"_blank\">docs</a>)<br/>Sweep page:  <a href=\"https://wandb.ai/bub3690/SVD-hyp-sweep/sweeps/j9mfv8ql\" target=\"_blank\">https://wandb.ai/bub3690/SVD-hyp-sweep/sweeps/j9mfv8ql</a>"
      ],
      "text/plain": [
       "<IPython.core.display.HTML object>"
      ]
     },
     "metadata": {},
     "output_type": "display_data"
    },
    {
     "name": "stdout",
     "output_type": "stream",
     "text": [
      "../../checkpoint/checkpoint_melspectro_resnet18_true_ros_3_organics.pt\n",
      "config: {'sample_rate': 16000, 'n_fft': 1024, 'n_mels': 128, 'hop_length': 100, 'win_length': 400, 'f_max': 80000, 'batch_size': 8, 'fold': 3}\n",
      "[3 교차검증] 학습 시작\n",
      " ----- \n",
      "\n",
      "[EPOCH:1]\t Train Loss:0.0788\t Train Acc:64.20 %  | \tValid Loss:0.0602 \tValid Acc: 83.76 %\n",
      "\n",
      "Validation loss decreased (inf --> 0.060246).  Saving model ...\n",
      "\n",
      "[EPOCH:2]\t Train Loss:0.0634\t Train Acc:76.05 %  | \tValid Loss:0.0570 \tValid Acc: 83.25 %\n",
      "\n",
      "Validation loss decreased (0.060246 --> 0.057026).  Saving model ...\n",
      "\n",
      "[EPOCH:3]\t Train Loss:0.0555\t Train Acc:81.36 %  | \tValid Loss:0.0539 \tValid Acc: 84.26 %\n",
      "\n",
      "Validation loss decreased (0.057026 --> 0.053852).  Saving model ...\n",
      "\n",
      "[EPOCH:4]\t Train Loss:0.0479\t Train Acc:85.80 %  | \tValid Loss:0.0553 \tValid Acc: 85.79 %\n",
      "\n",
      "EarlyStopping counter: 1 out of 5\n",
      "\n",
      "[EPOCH:5]\t Train Loss:0.0456\t Train Acc:89.14 %  | \tValid Loss:0.0533 \tValid Acc: 80.20 %\n",
      "\n",
      "Validation loss decreased (0.053852 --> 0.053256).  Saving model ...\n",
      "\n",
      "[EPOCH:6]\t Train Loss:0.0355\t Train Acc:93.83 %  | \tValid Loss:0.0542 \tValid Acc: 83.25 %\n",
      "\n",
      "EarlyStopping counter: 1 out of 5\n",
      "\n",
      "[EPOCH:7]\t Train Loss:0.0333\t Train Acc:93.95 %  | \tValid Loss:0.0454 \tValid Acc: 86.29 %\n",
      "\n",
      "Validation loss decreased (0.053256 --> 0.045449).  Saving model ...\n",
      "\n",
      "[EPOCH:8]\t Train Loss:0.0341\t Train Acc:93.09 %  | \tValid Loss:0.0612 \tValid Acc: 78.68 %\n",
      "\n",
      "EarlyStopping counter: 1 out of 5\n",
      "\n",
      "[EPOCH:9]\t Train Loss:0.0291\t Train Acc:94.07 %  | \tValid Loss:0.0413 \tValid Acc: 86.80 %\n",
      "\n",
      "Validation loss decreased (0.045449 --> 0.041292).  Saving model ...\n",
      "\n",
      "[EPOCH:10]\t Train Loss:0.0270\t Train Acc:94.94 %  | \tValid Loss:0.0385 \tValid Acc: 88.83 %\n",
      "\n",
      "Validation loss decreased (0.041292 --> 0.038452).  Saving model ...\n",
      "\n",
      "[EPOCH:11]\t Train Loss:0.0239\t Train Acc:95.93 %  | \tValid Loss:0.0391 \tValid Acc: 85.79 %\n",
      "\n",
      "EarlyStopping counter: 1 out of 5\n",
      "\n",
      "[EPOCH:12]\t Train Loss:0.0225\t Train Acc:95.80 %  | \tValid Loss:0.0518 \tValid Acc: 81.73 %\n",
      "\n",
      "EarlyStopping counter: 2 out of 5\n",
      "\n",
      "[EPOCH:13]\t Train Loss:0.0244\t Train Acc:94.81 %  | \tValid Loss:0.0477 \tValid Acc: 82.74 %\n",
      "\n",
      "EarlyStopping counter: 3 out of 5\n",
      "\n",
      "[EPOCH:14]\t Train Loss:0.0191\t Train Acc:97.78 %  | \tValid Loss:0.0421 \tValid Acc: 81.73 %\n",
      "\n",
      "EarlyStopping counter: 4 out of 5\n",
      "\n",
      "[EPOCH:15]\t Train Loss:0.0246\t Train Acc:95.19 %  | \tValid Loss:0.0605 \tValid Acc: 81.22 %\n",
      "\n",
      "EarlyStopping counter: 5 out of 5\n",
      "[3 교차검증] Early stopping\n"
     ]
    },
    {
     "data": {
      "text/html": [
       "Waiting for W&B process to finish... <strong style=\"color:green\">(success).</strong>"
      ],
      "text/plain": [
       "<IPython.core.display.HTML object>"
      ]
     },
     "metadata": {},
     "output_type": "display_data"
    },
    {
     "data": {
      "application/vnd.jupyter.widget-view+json": {
       "model_id": "",
       "version_major": 2,
       "version_minor": 0
      },
      "text/plain": [
       "VBox(children=(Label(value='0.001 MB of 0.001 MB uploaded (0.000 MB deduped)\\r'), FloatProgress(value=1.0, max…"
      ]
     },
     "metadata": {},
     "output_type": "display_data"
    },
    {
     "data": {
      "text/html": [
       "<style>\n",
       "    table.wandb td:nth-child(1) { padding: 0 10px; text-align: left ; width: auto;} td:nth-child(2) {text-align: left ; width: 100%}\n",
       "    .wandb-row { display: flex; flex-direction: row; flex-wrap: wrap; justify-content: flex-start; width: 100% }\n",
       "    .wandb-col { display: flex; flex-direction: column; flex-basis: 100%; flex: 1; padding: 10px; }\n",
       "    </style>\n",
       "<div class=\"wandb-row\"><div class=\"wandb-col\"><h3>Run history:</h3><br/><table class=\"wandb\"><tr><td>Valid/Accuracy</td><td>▄▃▄▄▁▁▆▆▆██████</td></tr><tr><td>Valid/Loss</td><td>█▇▆▆▆▆▃▃▂▁▁▁▁▁▁</td></tr></table><br/></div><div class=\"wandb-col\"><h3>Run summary:</h3><br/><table class=\"wandb\"><tr><td>Valid/Accuracy</td><td>88.83249</td></tr><tr><td>Valid/Loss</td><td>0.03845</td></tr></table><br/></div></div>"
      ],
      "text/plain": [
       "<IPython.core.display.HTML object>"
      ]
     },
     "metadata": {},
     "output_type": "display_data"
    },
    {
     "data": {
      "text/html": [
       "Synced <strong style=\"color:#cdcd00\">silvery-sweep-3</strong>: <a href=\"https://wandb.ai/bub3690/SVD-hyp-sweep/runs/0y21lm24\" target=\"_blank\">https://wandb.ai/bub3690/SVD-hyp-sweep/runs/0y21lm24</a><br/>Synced 5 W&B file(s), 0 media file(s), 0 artifact file(s) and 0 other file(s)"
      ],
      "text/plain": [
       "<IPython.core.display.HTML object>"
      ]
     },
     "metadata": {},
     "output_type": "display_data"
    },
    {
     "data": {
      "text/html": [
       "Find logs at: <code>.\\wandb\\run-20220704_141000-0y21lm24\\logs</code>"
      ],
      "text/plain": [
       "<IPython.core.display.HTML object>"
      ]
     },
     "metadata": {},
     "output_type": "display_data"
    },
    {
     "name": "stderr",
     "output_type": "stream",
     "text": [
      "\u001b[34m\u001b[1mwandb\u001b[0m: Agent Starting Run: 4fs1p760 with config:\n",
      "\u001b[34m\u001b[1mwandb\u001b[0m: \tbatch_size: 8\n",
      "\u001b[34m\u001b[1mwandb\u001b[0m: \tfold: 4\n",
      "\u001b[34m\u001b[1mwandb\u001b[0m: \u001b[33mWARNING\u001b[0m Ignored wandb.init() arg project when running a sweep.\n",
      "\u001b[34m\u001b[1mwandb\u001b[0m: \u001b[33mWARNING\u001b[0m Ignored wandb.init() arg entity when running a sweep.\n"
     ]
    },
    {
     "data": {
      "text/html": [
       "wandb version 0.12.20 is available!  To upgrade, please run:\n",
       " $ pip install wandb --upgrade"
      ],
      "text/plain": [
       "<IPython.core.display.HTML object>"
      ]
     },
     "metadata": {},
     "output_type": "display_data"
    },
    {
     "data": {
      "text/html": [
       "Tracking run with wandb version 0.12.16"
      ],
      "text/plain": [
       "<IPython.core.display.HTML object>"
      ]
     },
     "metadata": {},
     "output_type": "display_data"
    },
    {
     "data": {
      "text/html": [
       "Run data is saved locally in <code>D:\\project\\voice_pathology_ai\\model\\spectrogram\\ros\\wandb\\run-20220704_141150-4fs1p760</code>"
      ],
      "text/plain": [
       "<IPython.core.display.HTML object>"
      ]
     },
     "metadata": {},
     "output_type": "display_data"
    },
    {
     "data": {
      "text/html": [
       "Syncing run <strong><a href=\"https://wandb.ai/bub3690/SVD-hyp-sweep/runs/4fs1p760\" target=\"_blank\">jolly-sweep-4</a></strong> to <a href=\"https://wandb.ai/bub3690/SVD-hyp-sweep\" target=\"_blank\">Weights & Biases</a> (<a href=\"https://wandb.me/run\" target=\"_blank\">docs</a>)<br/>Sweep page:  <a href=\"https://wandb.ai/bub3690/SVD-hyp-sweep/sweeps/j9mfv8ql\" target=\"_blank\">https://wandb.ai/bub3690/SVD-hyp-sweep/sweeps/j9mfv8ql</a>"
      ],
      "text/plain": [
       "<IPython.core.display.HTML object>"
      ]
     },
     "metadata": {},
     "output_type": "display_data"
    },
    {
     "name": "stdout",
     "output_type": "stream",
     "text": [
      "../../checkpoint/checkpoint_melspectro_resnet18_true_ros_4_organics.pt\n",
      "config: {'sample_rate': 16000, 'n_fft': 1024, 'n_mels': 128, 'hop_length': 100, 'win_length': 400, 'f_max': 80000, 'batch_size': 8, 'fold': 4}\n",
      "[4 교차검증] 학습 시작\n",
      " ----- \n",
      "\n",
      "[EPOCH:1]\t Train Loss:0.0746\t Train Acc:67.53 %  | \tValid Loss:0.0599 \tValid Acc: 83.25 %\n",
      "\n",
      "Validation loss decreased (inf --> 0.059858).  Saving model ...\n",
      "\n",
      "[EPOCH:2]\t Train Loss:0.0672\t Train Acc:75.06 %  | \tValid Loss:0.0585 \tValid Acc: 80.71 %\n",
      "\n",
      "Validation loss decreased (0.059858 --> 0.058550).  Saving model ...\n",
      "\n",
      "[EPOCH:3]\t Train Loss:0.0625\t Train Acc:77.53 %  | \tValid Loss:0.0564 \tValid Acc: 83.25 %\n",
      "\n",
      "Validation loss decreased (0.058550 --> 0.056389).  Saving model ...\n",
      "\n",
      "[EPOCH:4]\t Train Loss:0.0568\t Train Acc:80.25 %  | \tValid Loss:0.0543 \tValid Acc: 84.77 %\n",
      "\n",
      "Validation loss decreased (0.056389 --> 0.054321).  Saving model ...\n",
      "\n",
      "[EPOCH:5]\t Train Loss:0.0509\t Train Acc:84.07 %  | \tValid Loss:0.0509 \tValid Acc: 84.77 %\n",
      "\n",
      "Validation loss decreased (0.054321 --> 0.050876).  Saving model ...\n",
      "\n",
      "[EPOCH:6]\t Train Loss:0.0464\t Train Acc:87.78 %  | \tValid Loss:0.0469 \tValid Acc: 86.29 %\n",
      "\n",
      "Validation loss decreased (0.050876 --> 0.046924).  Saving model ...\n",
      "\n",
      "[EPOCH:7]\t Train Loss:0.0391\t Train Acc:91.36 %  | \tValid Loss:0.0474 \tValid Acc: 83.76 %\n",
      "\n",
      "EarlyStopping counter: 1 out of 5\n",
      "\n",
      "[EPOCH:8]\t Train Loss:0.0386\t Train Acc:90.86 %  | \tValid Loss:0.0510 \tValid Acc: 79.70 %\n",
      "\n",
      "EarlyStopping counter: 2 out of 5\n",
      "\n",
      "[EPOCH:9]\t Train Loss:0.0344\t Train Acc:93.58 %  | \tValid Loss:0.0453 \tValid Acc: 86.29 %\n",
      "\n",
      "Validation loss decreased (0.046924 --> 0.045326).  Saving model ...\n",
      "\n",
      "[EPOCH:10]\t Train Loss:0.0314\t Train Acc:93.21 %  | \tValid Loss:0.0459 \tValid Acc: 83.76 %\n",
      "\n",
      "EarlyStopping counter: 1 out of 5\n",
      "\n",
      "[EPOCH:11]\t Train Loss:0.0260\t Train Acc:95.68 %  | \tValid Loss:0.0462 \tValid Acc: 87.31 %\n",
      "\n",
      "EarlyStopping counter: 2 out of 5\n",
      "\n",
      "[EPOCH:12]\t Train Loss:0.0218\t Train Acc:96.91 %  | \tValid Loss:0.0462 \tValid Acc: 86.29 %\n",
      "\n",
      "EarlyStopping counter: 3 out of 5\n",
      "\n",
      "[EPOCH:13]\t Train Loss:0.0195\t Train Acc:97.65 %  | \tValid Loss:0.0472 \tValid Acc: 83.25 %\n",
      "\n",
      "EarlyStopping counter: 4 out of 5\n",
      "\n",
      "[EPOCH:14]\t Train Loss:0.0200\t Train Acc:97.65 %  | \tValid Loss:0.0440 \tValid Acc: 84.77 %\n",
      "\n",
      "Validation loss decreased (0.045326 --> 0.044011).  Saving model ...\n",
      "\n",
      "[EPOCH:15]\t Train Loss:0.0191\t Train Acc:97.16 %  | \tValid Loss:0.0577 \tValid Acc: 78.68 %\n",
      "\n",
      "EarlyStopping counter: 1 out of 5\n",
      "\n",
      "[EPOCH:16]\t Train Loss:0.0626\t Train Acc:80.12 %  | \tValid Loss:0.0431 \tValid Acc: 81.73 %\n",
      "\n",
      "Validation loss decreased (0.044011 --> 0.043090).  Saving model ...\n",
      "\n",
      "[EPOCH:17]\t Train Loss:0.0318\t Train Acc:90.86 %  | \tValid Loss:0.0433 \tValid Acc: 83.76 %\n",
      "\n",
      "EarlyStopping counter: 1 out of 5\n",
      "\n",
      "[EPOCH:18]\t Train Loss:0.0292\t Train Acc:93.83 %  | \tValid Loss:0.0459 \tValid Acc: 85.79 %\n",
      "\n",
      "EarlyStopping counter: 2 out of 5\n",
      "\n",
      "[EPOCH:19]\t Train Loss:0.0221\t Train Acc:95.80 %  | \tValid Loss:0.0420 \tValid Acc: 85.28 %\n",
      "\n",
      "Validation loss decreased (0.043090 --> 0.041957).  Saving model ...\n",
      "\n",
      "[EPOCH:20]\t Train Loss:0.0198\t Train Acc:96.30 %  | \tValid Loss:0.0429 \tValid Acc: 82.74 %\n",
      "\n",
      "EarlyStopping counter: 1 out of 5\n",
      "\n",
      "[EPOCH:21]\t Train Loss:0.0245\t Train Acc:94.69 %  | \tValid Loss:0.0491 \tValid Acc: 83.76 %\n",
      "\n",
      "EarlyStopping counter: 2 out of 5\n",
      "\n",
      "[EPOCH:22]\t Train Loss:0.0186\t Train Acc:96.17 %  | \tValid Loss:0.0419 \tValid Acc: 87.31 %\n",
      "\n",
      "Validation loss decreased (0.041957 --> 0.041949).  Saving model ...\n",
      "\n",
      "[EPOCH:23]\t Train Loss:0.0184\t Train Acc:97.04 %  | \tValid Loss:0.0454 \tValid Acc: 82.74 %\n",
      "\n",
      "EarlyStopping counter: 1 out of 5\n",
      "\n",
      "[EPOCH:24]\t Train Loss:0.0167\t Train Acc:96.79 %  | \tValid Loss:0.0502 \tValid Acc: 84.77 %\n",
      "\n",
      "EarlyStopping counter: 2 out of 5\n",
      "\n",
      "[EPOCH:25]\t Train Loss:0.0166\t Train Acc:97.04 %  | \tValid Loss:0.0458 \tValid Acc: 84.77 %\n",
      "\n",
      "EarlyStopping counter: 3 out of 5\n",
      "\n",
      "[EPOCH:26]\t Train Loss:0.0128\t Train Acc:97.78 %  | \tValid Loss:0.0450 \tValid Acc: 84.77 %\n",
      "\n",
      "EarlyStopping counter: 4 out of 5\n",
      "\n",
      "[EPOCH:27]\t Train Loss:0.0180\t Train Acc:96.30 %  | \tValid Loss:0.0542 \tValid Acc: 83.76 %\n",
      "\n",
      "EarlyStopping counter: 5 out of 5\n",
      "[4 교차검증] Early stopping\n"
     ]
    },
    {
     "data": {
      "text/html": [
       "Waiting for W&B process to finish... <strong style=\"color:green\">(success).</strong>"
      ],
      "text/plain": [
       "<IPython.core.display.HTML object>"
      ]
     },
     "metadata": {},
     "output_type": "display_data"
    },
    {
     "data": {
      "application/vnd.jupyter.widget-view+json": {
       "model_id": "",
       "version_major": 2,
       "version_minor": 0
      },
      "text/plain": [
       "VBox(children=(Label(value='0.001 MB of 0.001 MB uploaded (0.000 MB deduped)\\r'), FloatProgress(value=1.0, max…"
      ]
     },
     "metadata": {},
     "output_type": "display_data"
    },
    {
     "data": {
      "text/html": [
       "<style>\n",
       "    table.wandb td:nth-child(1) { padding: 0 10px; text-align: left ; width: auto;} td:nth-child(2) {text-align: left ; width: 100%}\n",
       "    .wandb-row { display: flex; flex-direction: row; flex-wrap: wrap; justify-content: flex-start; width: 100% }\n",
       "    .wandb-col { display: flex; flex-direction: column; flex-basis: 100%; flex: 1; padding: 10px; }\n",
       "    </style>\n",
       "<div class=\"wandb-row\"><div class=\"wandb-col\"><h3>Run history:</h3><br/><table class=\"wandb\"><tr><td>Valid/Accuracy</td><td>▄▁▄▅▅▇▇▇▇▇▇▇▇▅▅▂▂▂▆▆▆██████</td></tr><tr><td>Valid/Loss</td><td>█▇▇▆▄▃▃▃▂▂▂▂▂▂▂▁▁▁▁▁▁▁▁▁▁▁▁</td></tr></table><br/></div><div class=\"wandb-col\"><h3>Run summary:</h3><br/><table class=\"wandb\"><tr><td>Valid/Accuracy</td><td>87.30964</td></tr><tr><td>Valid/Loss</td><td>0.04195</td></tr></table><br/></div></div>"
      ],
      "text/plain": [
       "<IPython.core.display.HTML object>"
      ]
     },
     "metadata": {},
     "output_type": "display_data"
    },
    {
     "data": {
      "text/html": [
       "Synced <strong style=\"color:#cdcd00\">jolly-sweep-4</strong>: <a href=\"https://wandb.ai/bub3690/SVD-hyp-sweep/runs/4fs1p760\" target=\"_blank\">https://wandb.ai/bub3690/SVD-hyp-sweep/runs/4fs1p760</a><br/>Synced 5 W&B file(s), 0 media file(s), 0 artifact file(s) and 0 other file(s)"
      ],
      "text/plain": [
       "<IPython.core.display.HTML object>"
      ]
     },
     "metadata": {},
     "output_type": "display_data"
    },
    {
     "data": {
      "text/html": [
       "Find logs at: <code>.\\wandb\\run-20220704_141150-4fs1p760\\logs</code>"
      ],
      "text/plain": [
       "<IPython.core.display.HTML object>"
      ]
     },
     "metadata": {},
     "output_type": "display_data"
    },
    {
     "name": "stderr",
     "output_type": "stream",
     "text": [
      "\u001b[34m\u001b[1mwandb\u001b[0m: Agent Starting Run: n7jyovcm with config:\n",
      "\u001b[34m\u001b[1mwandb\u001b[0m: \tbatch_size: 8\n",
      "\u001b[34m\u001b[1mwandb\u001b[0m: \tfold: 5\n",
      "\u001b[34m\u001b[1mwandb\u001b[0m: \u001b[33mWARNING\u001b[0m Ignored wandb.init() arg project when running a sweep.\n",
      "\u001b[34m\u001b[1mwandb\u001b[0m: \u001b[33mWARNING\u001b[0m Ignored wandb.init() arg entity when running a sweep.\n"
     ]
    },
    {
     "data": {
      "text/html": [
       "wandb version 0.12.20 is available!  To upgrade, please run:\n",
       " $ pip install wandb --upgrade"
      ],
      "text/plain": [
       "<IPython.core.display.HTML object>"
      ]
     },
     "metadata": {},
     "output_type": "display_data"
    },
    {
     "data": {
      "text/html": [
       "Tracking run with wandb version 0.12.16"
      ],
      "text/plain": [
       "<IPython.core.display.HTML object>"
      ]
     },
     "metadata": {},
     "output_type": "display_data"
    },
    {
     "data": {
      "text/html": [
       "Run data is saved locally in <code>D:\\project\\voice_pathology_ai\\model\\spectrogram\\ros\\wandb\\run-20220704_141453-n7jyovcm</code>"
      ],
      "text/plain": [
       "<IPython.core.display.HTML object>"
      ]
     },
     "metadata": {},
     "output_type": "display_data"
    },
    {
     "data": {
      "text/html": [
       "Syncing run <strong><a href=\"https://wandb.ai/bub3690/SVD-hyp-sweep/runs/n7jyovcm\" target=\"_blank\">winter-sweep-5</a></strong> to <a href=\"https://wandb.ai/bub3690/SVD-hyp-sweep\" target=\"_blank\">Weights & Biases</a> (<a href=\"https://wandb.me/run\" target=\"_blank\">docs</a>)<br/>Sweep page:  <a href=\"https://wandb.ai/bub3690/SVD-hyp-sweep/sweeps/j9mfv8ql\" target=\"_blank\">https://wandb.ai/bub3690/SVD-hyp-sweep/sweeps/j9mfv8ql</a>"
      ],
      "text/plain": [
       "<IPython.core.display.HTML object>"
      ]
     },
     "metadata": {},
     "output_type": "display_data"
    },
    {
     "name": "stdout",
     "output_type": "stream",
     "text": [
      "../../checkpoint/checkpoint_melspectro_resnet18_true_ros_5_organics.pt\n",
      "config: {'sample_rate': 16000, 'n_fft': 1024, 'n_mels': 128, 'hop_length': 100, 'win_length': 400, 'f_max': 80000, 'batch_size': 8, 'fold': 5}\n",
      "[5 교차검증] 학습 시작\n",
      " ----- \n",
      "\n",
      "[EPOCH:1]\t Train Loss:0.0817\t Train Acc:61.21 %  | \tValid Loss:0.0574 \tValid Acc: 83.67 %\n",
      "\n",
      "Validation loss decreased (inf --> 0.057413).  Saving model ...\n",
      "\n",
      "[EPOCH:2]\t Train Loss:0.0638\t Train Acc:74.38 %  | \tValid Loss:0.0540 \tValid Acc: 83.67 %\n",
      "\n",
      "Validation loss decreased (0.057413 --> 0.053974).  Saving model ...\n",
      "\n",
      "[EPOCH:3]\t Train Loss:0.0542\t Train Acc:80.42 %  | \tValid Loss:0.0448 \tValid Acc: 87.24 %\n",
      "\n",
      "Validation loss decreased (0.053974 --> 0.044809).  Saving model ...\n",
      "\n",
      "[EPOCH:4]\t Train Loss:0.0472\t Train Acc:85.96 %  | \tValid Loss:0.0427 \tValid Acc: 88.78 %\n",
      "\n",
      "Validation loss decreased (0.044809 --> 0.042668).  Saving model ...\n",
      "\n",
      "[EPOCH:5]\t Train Loss:0.0398\t Train Acc:88.55 %  | \tValid Loss:0.0472 \tValid Acc: 86.22 %\n",
      "\n",
      "EarlyStopping counter: 1 out of 5\n",
      "\n",
      "[EPOCH:6]\t Train Loss:0.0367\t Train Acc:91.13 %  | \tValid Loss:0.0488 \tValid Acc: 83.67 %\n",
      "\n",
      "EarlyStopping counter: 2 out of 5\n",
      "\n",
      "[EPOCH:7]\t Train Loss:0.0363\t Train Acc:90.15 %  | \tValid Loss:0.0425 \tValid Acc: 87.24 %\n",
      "\n",
      "Validation loss decreased (0.042668 --> 0.042529).  Saving model ...\n",
      "\n",
      "[EPOCH:8]\t Train Loss:0.0355\t Train Acc:89.53 %  | \tValid Loss:0.0401 \tValid Acc: 85.71 %\n",
      "\n",
      "Validation loss decreased (0.042529 --> 0.040100).  Saving model ...\n",
      "\n",
      "[EPOCH:9]\t Train Loss:0.0262\t Train Acc:94.33 %  | \tValid Loss:0.0420 \tValid Acc: 84.18 %\n",
      "\n",
      "EarlyStopping counter: 1 out of 5\n",
      "\n",
      "[EPOCH:10]\t Train Loss:0.0284\t Train Acc:94.33 %  | \tValid Loss:0.0428 \tValid Acc: 86.73 %\n",
      "\n",
      "EarlyStopping counter: 2 out of 5\n",
      "\n",
      "[EPOCH:11]\t Train Loss:0.0262\t Train Acc:94.58 %  | \tValid Loss:0.0437 \tValid Acc: 84.69 %\n",
      "\n",
      "EarlyStopping counter: 3 out of 5\n",
      "\n",
      "[EPOCH:12]\t Train Loss:0.0234\t Train Acc:95.44 %  | \tValid Loss:0.0395 \tValid Acc: 84.18 %\n",
      "\n",
      "Validation loss decreased (0.040100 --> 0.039457).  Saving model ...\n",
      "\n",
      "[EPOCH:13]\t Train Loss:0.0215\t Train Acc:95.81 %  | \tValid Loss:0.0396 \tValid Acc: 87.24 %\n",
      "\n",
      "EarlyStopping counter: 1 out of 5\n",
      "\n",
      "[EPOCH:14]\t Train Loss:0.0168\t Train Acc:97.54 %  | \tValid Loss:0.0399 \tValid Acc: 87.24 %\n",
      "\n",
      "EarlyStopping counter: 2 out of 5\n",
      "\n",
      "[EPOCH:15]\t Train Loss:0.0172\t Train Acc:96.67 %  | \tValid Loss:0.0387 \tValid Acc: 88.27 %\n",
      "\n",
      "Validation loss decreased (0.039457 --> 0.038691).  Saving model ...\n",
      "\n",
      "[EPOCH:16]\t Train Loss:0.0244\t Train Acc:94.09 %  | \tValid Loss:0.0353 \tValid Acc: 89.29 %\n",
      "\n",
      "Validation loss decreased (0.038691 --> 0.035313).  Saving model ...\n",
      "\n",
      "[EPOCH:17]\t Train Loss:0.0196\t Train Acc:95.44 %  | \tValid Loss:0.0619 \tValid Acc: 78.57 %\n",
      "\n",
      "EarlyStopping counter: 1 out of 5\n",
      "\n",
      "[EPOCH:18]\t Train Loss:0.0185\t Train Acc:95.44 %  | \tValid Loss:0.0437 \tValid Acc: 85.71 %\n",
      "\n",
      "EarlyStopping counter: 2 out of 5\n",
      "\n",
      "[EPOCH:19]\t Train Loss:0.0235\t Train Acc:95.94 %  | \tValid Loss:0.0361 \tValid Acc: 89.29 %\n",
      "\n",
      "EarlyStopping counter: 3 out of 5\n",
      "\n",
      "[EPOCH:20]\t Train Loss:0.0171\t Train Acc:96.43 %  | \tValid Loss:0.0365 \tValid Acc: 88.27 %\n",
      "\n",
      "EarlyStopping counter: 4 out of 5\n",
      "\n",
      "[EPOCH:21]\t Train Loss:0.0148\t Train Acc:97.66 %  | \tValid Loss:0.0467 \tValid Acc: 84.69 %\n",
      "\n",
      "EarlyStopping counter: 5 out of 5\n",
      "[5 교차검증] Early stopping\n"
     ]
    },
    {
     "data": {
      "text/html": [
       "Waiting for W&B process to finish... <strong style=\"color:green\">(success).</strong>"
      ],
      "text/plain": [
       "<IPython.core.display.HTML object>"
      ]
     },
     "metadata": {},
     "output_type": "display_data"
    },
    {
     "data": {
      "application/vnd.jupyter.widget-view+json": {
       "model_id": "",
       "version_major": 2,
       "version_minor": 0
      },
      "text/plain": [
       "VBox(children=(Label(value='0.001 MB of 0.001 MB uploaded (0.000 MB deduped)\\r'), FloatProgress(value=1.0, max…"
      ]
     },
     "metadata": {},
     "output_type": "display_data"
    },
    {
     "data": {
      "text/html": [
       "<style>\n",
       "    table.wandb td:nth-child(1) { padding: 0 10px; text-align: left ; width: auto;} td:nth-child(2) {text-align: left ; width: 100%}\n",
       "    .wandb-row { display: flex; flex-direction: row; flex-wrap: wrap; justify-content: flex-start; width: 100% }\n",
       "    .wandb-col { display: flex; flex-direction: column; flex-basis: 100%; flex: 1; padding: 10px; }\n",
       "    </style>\n",
       "<div class=\"wandb-row\"><div class=\"wandb-col\"><h3>Run history:</h3><br/><table class=\"wandb\"><tr><td>Valid/Accuracy</td><td>▁▁▅▇▇▇▅▄▄▄▄▂▂▂▇██████</td></tr><tr><td>Valid/Loss</td><td>█▇▄▃▃▃▃▃▃▃▃▂▂▂▂▁▁▁▁▁▁</td></tr></table><br/></div><div class=\"wandb-col\"><h3>Run summary:</h3><br/><table class=\"wandb\"><tr><td>Valid/Accuracy</td><td>89.28571</td></tr><tr><td>Valid/Loss</td><td>0.03531</td></tr></table><br/></div></div>"
      ],
      "text/plain": [
       "<IPython.core.display.HTML object>"
      ]
     },
     "metadata": {},
     "output_type": "display_data"
    },
    {
     "data": {
      "text/html": [
       "Synced <strong style=\"color:#cdcd00\">winter-sweep-5</strong>: <a href=\"https://wandb.ai/bub3690/SVD-hyp-sweep/runs/n7jyovcm\" target=\"_blank\">https://wandb.ai/bub3690/SVD-hyp-sweep/runs/n7jyovcm</a><br/>Synced 5 W&B file(s), 0 media file(s), 0 artifact file(s) and 0 other file(s)"
      ],
      "text/plain": [
       "<IPython.core.display.HTML object>"
      ]
     },
     "metadata": {},
     "output_type": "display_data"
    },
    {
     "data": {
      "text/html": [
       "Find logs at: <code>.\\wandb\\run-20220704_141453-n7jyovcm\\logs</code>"
      ],
      "text/plain": [
       "<IPython.core.display.HTML object>"
      ]
     },
     "metadata": {},
     "output_type": "display_data"
    },
    {
     "name": "stderr",
     "output_type": "stream",
     "text": [
      "\u001b[34m\u001b[1mwandb\u001b[0m: Sweep Agent: Waiting for job.\n",
      "\u001b[34m\u001b[1mwandb\u001b[0m: Job received.\n",
      "\u001b[34m\u001b[1mwandb\u001b[0m: Agent Starting Run: dyywm00w with config:\n",
      "\u001b[34m\u001b[1mwandb\u001b[0m: \tbatch_size: 16\n",
      "\u001b[34m\u001b[1mwandb\u001b[0m: \tfold: 1\n",
      "\u001b[34m\u001b[1mwandb\u001b[0m: \u001b[33mWARNING\u001b[0m Ignored wandb.init() arg project when running a sweep.\n",
      "\u001b[34m\u001b[1mwandb\u001b[0m: \u001b[33mWARNING\u001b[0m Ignored wandb.init() arg entity when running a sweep.\n"
     ]
    },
    {
     "data": {
      "text/html": [
       "wandb version 0.12.20 is available!  To upgrade, please run:\n",
       " $ pip install wandb --upgrade"
      ],
      "text/plain": [
       "<IPython.core.display.HTML object>"
      ]
     },
     "metadata": {},
     "output_type": "display_data"
    },
    {
     "data": {
      "text/html": [
       "Tracking run with wandb version 0.12.16"
      ],
      "text/plain": [
       "<IPython.core.display.HTML object>"
      ]
     },
     "metadata": {},
     "output_type": "display_data"
    },
    {
     "data": {
      "text/html": [
       "Run data is saved locally in <code>D:\\project\\voice_pathology_ai\\model\\spectrogram\\ros\\wandb\\run-20220704_141730-dyywm00w</code>"
      ],
      "text/plain": [
       "<IPython.core.display.HTML object>"
      ]
     },
     "metadata": {},
     "output_type": "display_data"
    },
    {
     "data": {
      "text/html": [
       "Syncing run <strong><a href=\"https://wandb.ai/bub3690/SVD-hyp-sweep/runs/dyywm00w\" target=\"_blank\">wild-sweep-6</a></strong> to <a href=\"https://wandb.ai/bub3690/SVD-hyp-sweep\" target=\"_blank\">Weights & Biases</a> (<a href=\"https://wandb.me/run\" target=\"_blank\">docs</a>)<br/>Sweep page:  <a href=\"https://wandb.ai/bub3690/SVD-hyp-sweep/sweeps/j9mfv8ql\" target=\"_blank\">https://wandb.ai/bub3690/SVD-hyp-sweep/sweeps/j9mfv8ql</a>"
      ],
      "text/plain": [
       "<IPython.core.display.HTML object>"
      ]
     },
     "metadata": {},
     "output_type": "display_data"
    },
    {
     "name": "stdout",
     "output_type": "stream",
     "text": [
      "../../checkpoint/checkpoint_melspectro_resnet18_true_ros_1_organics.pt\n",
      "config: {'sample_rate': 16000, 'n_fft': 1024, 'n_mels': 128, 'hop_length': 100, 'win_length': 400, 'f_max': 80000, 'batch_size': 16, 'fold': 1}\n",
      "[1 교차검증] 학습 시작\n",
      " ----- \n",
      "\n",
      "[EPOCH:1]\t Train Loss:0.0397\t Train Acc:61.95 %  | \tValid Loss:0.0372 \tValid Acc: 69.04 %\n",
      "\n",
      "Validation loss decreased (inf --> 0.037205).  Saving model ...\n",
      "\n",
      "[EPOCH:2]\t Train Loss:0.0316\t Train Acc:75.37 %  | \tValid Loss:0.0331 \tValid Acc: 79.70 %\n",
      "\n",
      "Validation loss decreased (0.037205 --> 0.033111).  Saving model ...\n",
      "\n",
      "[EPOCH:3]\t Train Loss:0.0276\t Train Acc:84.61 %  | \tValid Loss:0.0324 \tValid Acc: 81.73 %\n",
      "\n",
      "Validation loss decreased (0.033111 --> 0.032392).  Saving model ...\n",
      "\n",
      "[EPOCH:4]\t Train Loss:0.0230\t Train Acc:91.13 %  | \tValid Loss:0.0313 \tValid Acc: 81.73 %\n",
      "\n",
      "Validation loss decreased (0.032392 --> 0.031276).  Saving model ...\n",
      "\n",
      "[EPOCH:5]\t Train Loss:0.0200\t Train Acc:93.72 %  | \tValid Loss:0.0280 \tValid Acc: 81.73 %\n",
      "\n",
      "Validation loss decreased (0.031276 --> 0.027981).  Saving model ...\n",
      "\n",
      "[EPOCH:6]\t Train Loss:0.0174\t Train Acc:96.31 %  | \tValid Loss:0.0268 \tValid Acc: 83.25 %\n",
      "\n",
      "Validation loss decreased (0.027981 --> 0.026767).  Saving model ...\n",
      "\n",
      "[EPOCH:7]\t Train Loss:0.0151\t Train Acc:97.66 %  | \tValid Loss:0.0272 \tValid Acc: 80.71 %\n",
      "\n",
      "EarlyStopping counter: 1 out of 5\n",
      "\n",
      "[EPOCH:8]\t Train Loss:0.0132\t Train Acc:98.15 %  | \tValid Loss:0.0291 \tValid Acc: 79.70 %\n",
      "\n",
      "EarlyStopping counter: 2 out of 5\n",
      "\n",
      "[EPOCH:9]\t Train Loss:0.0120\t Train Acc:99.01 %  | \tValid Loss:0.0267 \tValid Acc: 86.29 %\n",
      "\n",
      "Validation loss decreased (0.026767 --> 0.026739).  Saving model ...\n",
      "\n",
      "[EPOCH:10]\t Train Loss:0.0105\t Train Acc:98.52 %  | \tValid Loss:0.0248 \tValid Acc: 85.28 %\n",
      "\n",
      "Validation loss decreased (0.026739 --> 0.024805).  Saving model ...\n",
      "\n",
      "[EPOCH:11]\t Train Loss:0.0113\t Train Acc:97.04 %  | \tValid Loss:0.0277 \tValid Acc: 83.25 %\n",
      "\n",
      "EarlyStopping counter: 1 out of 5\n",
      "\n",
      "[EPOCH:12]\t Train Loss:0.0106\t Train Acc:97.04 %  | \tValid Loss:0.0276 \tValid Acc: 83.25 %\n",
      "\n",
      "EarlyStopping counter: 2 out of 5\n",
      "\n",
      "[EPOCH:13]\t Train Loss:0.0089\t Train Acc:98.52 %  | \tValid Loss:0.0263 \tValid Acc: 81.73 %\n",
      "\n",
      "EarlyStopping counter: 3 out of 5\n",
      "\n",
      "[EPOCH:14]\t Train Loss:0.0080\t Train Acc:98.65 %  | \tValid Loss:0.0229 \tValid Acc: 88.32 %\n",
      "\n",
      "Validation loss decreased (0.024805 --> 0.022945).  Saving model ...\n",
      "\n",
      "[EPOCH:15]\t Train Loss:0.0068\t Train Acc:99.14 %  | \tValid Loss:0.0246 \tValid Acc: 82.23 %\n",
      "\n",
      "EarlyStopping counter: 1 out of 5\n",
      "\n",
      "[EPOCH:16]\t Train Loss:0.0069\t Train Acc:99.01 %  | \tValid Loss:0.0303 \tValid Acc: 82.23 %\n",
      "\n",
      "EarlyStopping counter: 2 out of 5\n",
      "\n",
      "[EPOCH:17]\t Train Loss:0.0096\t Train Acc:95.81 %  | \tValid Loss:0.0374 \tValid Acc: 74.11 %\n",
      "\n",
      "EarlyStopping counter: 3 out of 5\n",
      "\n",
      "[EPOCH:18]\t Train Loss:0.0071\t Train Acc:98.28 %  | \tValid Loss:0.0234 \tValid Acc: 83.76 %\n",
      "\n",
      "EarlyStopping counter: 4 out of 5\n",
      "\n",
      "[EPOCH:19]\t Train Loss:0.0064\t Train Acc:98.40 %  | \tValid Loss:0.0411 \tValid Acc: 72.59 %\n",
      "\n",
      "EarlyStopping counter: 5 out of 5\n",
      "[1 교차검증] Early stopping\n"
     ]
    },
    {
     "data": {
      "text/html": [
       "Waiting for W&B process to finish... <strong style=\"color:green\">(success).</strong>"
      ],
      "text/plain": [
       "<IPython.core.display.HTML object>"
      ]
     },
     "metadata": {},
     "output_type": "display_data"
    },
    {
     "data": {
      "application/vnd.jupyter.widget-view+json": {
       "model_id": "",
       "version_major": 2,
       "version_minor": 0
      },
      "text/plain": [
       "VBox(children=(Label(value='0.001 MB of 0.001 MB uploaded (0.000 MB deduped)\\r'), FloatProgress(value=1.0, max…"
      ]
     },
     "metadata": {},
     "output_type": "display_data"
    },
    {
     "data": {
      "text/html": [
       "<style>\n",
       "    table.wandb td:nth-child(1) { padding: 0 10px; text-align: left ; width: auto;} td:nth-child(2) {text-align: left ; width: 100%}\n",
       "    .wandb-row { display: flex; flex-direction: row; flex-wrap: wrap; justify-content: flex-start; width: 100% }\n",
       "    .wandb-col { display: flex; flex-direction: column; flex-basis: 100%; flex: 1; padding: 10px; }\n",
       "    </style>\n",
       "<div class=\"wandb-row\"><div class=\"wandb-col\"><h3>Run history:</h3><br/><table class=\"wandb\"><tr><td>Valid/Accuracy</td><td>▁▅▆▆▆▆▆▆▇▇▇▇▇██████</td></tr><tr><td>Valid/Loss</td><td>█▆▆▅▃▃▃▃▃▂▂▂▂▁▁▁▁▁▁</td></tr></table><br/></div><div class=\"wandb-col\"><h3>Run summary:</h3><br/><table class=\"wandb\"><tr><td>Valid/Accuracy</td><td>88.32487</td></tr><tr><td>Valid/Loss</td><td>0.02295</td></tr></table><br/></div></div>"
      ],
      "text/plain": [
       "<IPython.core.display.HTML object>"
      ]
     },
     "metadata": {},
     "output_type": "display_data"
    },
    {
     "data": {
      "text/html": [
       "Synced <strong style=\"color:#cdcd00\">wild-sweep-6</strong>: <a href=\"https://wandb.ai/bub3690/SVD-hyp-sweep/runs/dyywm00w\" target=\"_blank\">https://wandb.ai/bub3690/SVD-hyp-sweep/runs/dyywm00w</a><br/>Synced 5 W&B file(s), 0 media file(s), 0 artifact file(s) and 0 other file(s)"
      ],
      "text/plain": [
       "<IPython.core.display.HTML object>"
      ]
     },
     "metadata": {},
     "output_type": "display_data"
    },
    {
     "data": {
      "text/html": [
       "Find logs at: <code>.\\wandb\\run-20220704_141730-dyywm00w\\logs</code>"
      ],
      "text/plain": [
       "<IPython.core.display.HTML object>"
      ]
     },
     "metadata": {},
     "output_type": "display_data"
    },
    {
     "name": "stderr",
     "output_type": "stream",
     "text": [
      "\u001b[34m\u001b[1mwandb\u001b[0m: Agent Starting Run: qkkcd9ie with config:\n",
      "\u001b[34m\u001b[1mwandb\u001b[0m: \tbatch_size: 16\n",
      "\u001b[34m\u001b[1mwandb\u001b[0m: \tfold: 2\n",
      "\u001b[34m\u001b[1mwandb\u001b[0m: \u001b[33mWARNING\u001b[0m Ignored wandb.init() arg project when running a sweep.\n",
      "\u001b[34m\u001b[1mwandb\u001b[0m: \u001b[33mWARNING\u001b[0m Ignored wandb.init() arg entity when running a sweep.\n"
     ]
    },
    {
     "data": {
      "text/html": [
       "wandb version 0.12.20 is available!  To upgrade, please run:\n",
       " $ pip install wandb --upgrade"
      ],
      "text/plain": [
       "<IPython.core.display.HTML object>"
      ]
     },
     "metadata": {},
     "output_type": "display_data"
    },
    {
     "data": {
      "text/html": [
       "Tracking run with wandb version 0.12.16"
      ],
      "text/plain": [
       "<IPython.core.display.HTML object>"
      ]
     },
     "metadata": {},
     "output_type": "display_data"
    },
    {
     "data": {
      "text/html": [
       "Run data is saved locally in <code>D:\\project\\voice_pathology_ai\\model\\spectrogram\\ros\\wandb\\run-20220704_141937-qkkcd9ie</code>"
      ],
      "text/plain": [
       "<IPython.core.display.HTML object>"
      ]
     },
     "metadata": {},
     "output_type": "display_data"
    },
    {
     "data": {
      "text/html": [
       "Syncing run <strong><a href=\"https://wandb.ai/bub3690/SVD-hyp-sweep/runs/qkkcd9ie\" target=\"_blank\">sleek-sweep-7</a></strong> to <a href=\"https://wandb.ai/bub3690/SVD-hyp-sweep\" target=\"_blank\">Weights & Biases</a> (<a href=\"https://wandb.me/run\" target=\"_blank\">docs</a>)<br/>Sweep page:  <a href=\"https://wandb.ai/bub3690/SVD-hyp-sweep/sweeps/j9mfv8ql\" target=\"_blank\">https://wandb.ai/bub3690/SVD-hyp-sweep/sweeps/j9mfv8ql</a>"
      ],
      "text/plain": [
       "<IPython.core.display.HTML object>"
      ]
     },
     "metadata": {},
     "output_type": "display_data"
    },
    {
     "name": "stdout",
     "output_type": "stream",
     "text": [
      "../../checkpoint/checkpoint_melspectro_resnet18_true_ros_2_organics.pt\n",
      "config: {'sample_rate': 16000, 'n_fft': 1024, 'n_mels': 128, 'hop_length': 100, 'win_length': 400, 'f_max': 80000, 'batch_size': 16, 'fold': 2}\n",
      "[2 교차검증] 학습 시작\n",
      " ----- \n",
      "\n",
      "[EPOCH:1]\t Train Loss:0.0402\t Train Acc:64.04 %  | \tValid Loss:0.0329 \tValid Acc: 78.68 %\n",
      "\n",
      "Validation loss decreased (inf --> 0.032935).  Saving model ...\n",
      "\n",
      "[EPOCH:2]\t Train Loss:0.0298\t Train Acc:78.33 %  | \tValid Loss:0.0301 \tValid Acc: 78.17 %\n",
      "\n",
      "Validation loss decreased (0.032935 --> 0.030055).  Saving model ...\n",
      "\n",
      "[EPOCH:3]\t Train Loss:0.0234\t Train Acc:84.85 %  | \tValid Loss:0.0257 \tValid Acc: 87.31 %\n",
      "\n",
      "Validation loss decreased (0.030055 --> 0.025712).  Saving model ...\n",
      "\n",
      "[EPOCH:4]\t Train Loss:0.0196\t Train Acc:91.26 %  | \tValid Loss:0.0240 \tValid Acc: 85.28 %\n",
      "\n",
      "Validation loss decreased (0.025712 --> 0.024017).  Saving model ...\n",
      "\n",
      "[EPOCH:5]\t Train Loss:0.0160\t Train Acc:94.21 %  | \tValid Loss:0.0264 \tValid Acc: 85.79 %\n",
      "\n",
      "EarlyStopping counter: 1 out of 5\n",
      "\n",
      "[EPOCH:6]\t Train Loss:0.0128\t Train Acc:97.04 %  | \tValid Loss:0.0221 \tValid Acc: 86.80 %\n",
      "\n",
      "Validation loss decreased (0.024017 --> 0.022071).  Saving model ...\n",
      "\n",
      "[EPOCH:7]\t Train Loss:0.0102\t Train Acc:98.77 %  | \tValid Loss:0.0236 \tValid Acc: 86.80 %\n",
      "\n",
      "EarlyStopping counter: 1 out of 5\n",
      "\n",
      "[EPOCH:8]\t Train Loss:0.0101\t Train Acc:98.52 %  | \tValid Loss:0.0206 \tValid Acc: 88.32 %\n",
      "\n",
      "Validation loss decreased (0.022071 --> 0.020609).  Saving model ...\n",
      "\n",
      "[EPOCH:9]\t Train Loss:0.0091\t Train Acc:99.01 %  | \tValid Loss:0.0216 \tValid Acc: 85.28 %\n",
      "\n",
      "EarlyStopping counter: 1 out of 5\n",
      "\n",
      "[EPOCH:10]\t Train Loss:0.0062\t Train Acc:100.00 %  | \tValid Loss:0.0219 \tValid Acc: 84.77 %\n",
      "\n",
      "EarlyStopping counter: 2 out of 5\n",
      "\n",
      "[EPOCH:11]\t Train Loss:0.0061\t Train Acc:100.00 %  | \tValid Loss:0.0202 \tValid Acc: 88.32 %\n",
      "\n",
      "Validation loss decreased (0.020609 --> 0.020182).  Saving model ...\n",
      "\n",
      "[EPOCH:12]\t Train Loss:0.0064\t Train Acc:99.51 %  | \tValid Loss:0.0236 \tValid Acc: 88.32 %\n",
      "\n",
      "EarlyStopping counter: 1 out of 5\n",
      "\n",
      "[EPOCH:13]\t Train Loss:0.0071\t Train Acc:98.77 %  | \tValid Loss:0.0214 \tValid Acc: 86.80 %\n",
      "\n",
      "EarlyStopping counter: 2 out of 5\n",
      "\n",
      "[EPOCH:14]\t Train Loss:0.0064\t Train Acc:99.01 %  | \tValid Loss:0.0272 \tValid Acc: 82.23 %\n",
      "\n",
      "EarlyStopping counter: 3 out of 5\n",
      "\n",
      "[EPOCH:15]\t Train Loss:0.0057\t Train Acc:99.14 %  | \tValid Loss:0.0216 \tValid Acc: 87.31 %\n",
      "\n",
      "EarlyStopping counter: 4 out of 5\n",
      "\n",
      "[EPOCH:16]\t Train Loss:0.0058\t Train Acc:98.15 %  | \tValid Loss:0.0221 \tValid Acc: 88.83 %\n",
      "\n",
      "EarlyStopping counter: 5 out of 5\n",
      "[2 교차검증] Early stopping\n"
     ]
    },
    {
     "data": {
      "text/html": [
       "Waiting for W&B process to finish... <strong style=\"color:green\">(success).</strong>"
      ],
      "text/plain": [
       "<IPython.core.display.HTML object>"
      ]
     },
     "metadata": {},
     "output_type": "display_data"
    },
    {
     "data": {
      "application/vnd.jupyter.widget-view+json": {
       "model_id": "",
       "version_major": 2,
       "version_minor": 0
      },
      "text/plain": [
       "VBox(children=(Label(value='0.001 MB of 0.001 MB uploaded (0.000 MB deduped)\\r'), FloatProgress(value=1.0, max…"
      ]
     },
     "metadata": {},
     "output_type": "display_data"
    },
    {
     "data": {
      "text/html": [
       "<style>\n",
       "    table.wandb td:nth-child(1) { padding: 0 10px; text-align: left ; width: auto;} td:nth-child(2) {text-align: left ; width: 100%}\n",
       "    .wandb-row { display: flex; flex-direction: row; flex-wrap: wrap; justify-content: flex-start; width: 100% }\n",
       "    .wandb-col { display: flex; flex-direction: column; flex-basis: 100%; flex: 1; padding: 10px; }\n",
       "    </style>\n",
       "<div class=\"wandb-row\"><div class=\"wandb-col\"><h3>Run history:</h3><br/><table class=\"wandb\"><tr><td>Valid/Accuracy</td><td>▁▁▇▆▆▇▇█████████</td></tr><tr><td>Valid/Loss</td><td>█▆▄▃▃▂▂▁▁▁▁▁▁▁▁▁</td></tr></table><br/></div><div class=\"wandb-col\"><h3>Run summary:</h3><br/><table class=\"wandb\"><tr><td>Valid/Accuracy</td><td>88.32487</td></tr><tr><td>Valid/Loss</td><td>0.02018</td></tr></table><br/></div></div>"
      ],
      "text/plain": [
       "<IPython.core.display.HTML object>"
      ]
     },
     "metadata": {},
     "output_type": "display_data"
    },
    {
     "data": {
      "text/html": [
       "Synced <strong style=\"color:#cdcd00\">sleek-sweep-7</strong>: <a href=\"https://wandb.ai/bub3690/SVD-hyp-sweep/runs/qkkcd9ie\" target=\"_blank\">https://wandb.ai/bub3690/SVD-hyp-sweep/runs/qkkcd9ie</a><br/>Synced 5 W&B file(s), 0 media file(s), 0 artifact file(s) and 0 other file(s)"
      ],
      "text/plain": [
       "<IPython.core.display.HTML object>"
      ]
     },
     "metadata": {},
     "output_type": "display_data"
    },
    {
     "data": {
      "text/html": [
       "Find logs at: <code>.\\wandb\\run-20220704_141937-qkkcd9ie\\logs</code>"
      ],
      "text/plain": [
       "<IPython.core.display.HTML object>"
      ]
     },
     "metadata": {},
     "output_type": "display_data"
    },
    {
     "name": "stderr",
     "output_type": "stream",
     "text": [
      "\u001b[34m\u001b[1mwandb\u001b[0m: Sweep Agent: Waiting for job.\n",
      "\u001b[34m\u001b[1mwandb\u001b[0m: Job received.\n",
      "\u001b[34m\u001b[1mwandb\u001b[0m: Agent Starting Run: v6agtdzq with config:\n",
      "\u001b[34m\u001b[1mwandb\u001b[0m: \tbatch_size: 16\n",
      "\u001b[34m\u001b[1mwandb\u001b[0m: \tfold: 3\n",
      "\u001b[34m\u001b[1mwandb\u001b[0m: \u001b[33mWARNING\u001b[0m Ignored wandb.init() arg project when running a sweep.\n",
      "\u001b[34m\u001b[1mwandb\u001b[0m: \u001b[33mWARNING\u001b[0m Ignored wandb.init() arg entity when running a sweep.\n"
     ]
    },
    {
     "data": {
      "text/html": [
       "wandb version 0.12.20 is available!  To upgrade, please run:\n",
       " $ pip install wandb --upgrade"
      ],
      "text/plain": [
       "<IPython.core.display.HTML object>"
      ]
     },
     "metadata": {},
     "output_type": "display_data"
    },
    {
     "data": {
      "text/html": [
       "Tracking run with wandb version 0.12.16"
      ],
      "text/plain": [
       "<IPython.core.display.HTML object>"
      ]
     },
     "metadata": {},
     "output_type": "display_data"
    },
    {
     "data": {
      "text/html": [
       "Run data is saved locally in <code>D:\\project\\voice_pathology_ai\\model\\spectrogram\\ros\\wandb\\run-20220704_142127-v6agtdzq</code>"
      ],
      "text/plain": [
       "<IPython.core.display.HTML object>"
      ]
     },
     "metadata": {},
     "output_type": "display_data"
    },
    {
     "data": {
      "text/html": [
       "Syncing run <strong><a href=\"https://wandb.ai/bub3690/SVD-hyp-sweep/runs/v6agtdzq\" target=\"_blank\">olive-sweep-8</a></strong> to <a href=\"https://wandb.ai/bub3690/SVD-hyp-sweep\" target=\"_blank\">Weights & Biases</a> (<a href=\"https://wandb.me/run\" target=\"_blank\">docs</a>)<br/>Sweep page:  <a href=\"https://wandb.ai/bub3690/SVD-hyp-sweep/sweeps/j9mfv8ql\" target=\"_blank\">https://wandb.ai/bub3690/SVD-hyp-sweep/sweeps/j9mfv8ql</a>"
      ],
      "text/plain": [
       "<IPython.core.display.HTML object>"
      ]
     },
     "metadata": {},
     "output_type": "display_data"
    },
    {
     "name": "stdout",
     "output_type": "stream",
     "text": [
      "../../checkpoint/checkpoint_melspectro_resnet18_true_ros_3_organics.pt\n",
      "config: {'sample_rate': 16000, 'n_fft': 1024, 'n_mels': 128, 'hop_length': 100, 'win_length': 400, 'f_max': 80000, 'batch_size': 16, 'fold': 3}\n",
      "[3 교차검증] 학습 시작\n",
      " ----- \n",
      "\n",
      "[EPOCH:1]\t Train Loss:0.0389\t Train Acc:65.06 %  | \tValid Loss:0.0309 \tValid Acc: 80.71 %\n",
      "\n",
      "Validation loss decreased (inf --> 0.030891).  Saving model ...\n",
      "\n",
      "[EPOCH:2]\t Train Loss:0.0302\t Train Acc:77.90 %  | \tValid Loss:0.0262 \tValid Acc: 84.77 %\n",
      "\n",
      "Validation loss decreased (0.030891 --> 0.026204).  Saving model ...\n",
      "\n",
      "[EPOCH:3]\t Train Loss:0.0255\t Train Acc:83.46 %  | \tValid Loss:0.0245 \tValid Acc: 85.79 %\n",
      "\n",
      "Validation loss decreased (0.026204 --> 0.024510).  Saving model ...\n",
      "\n",
      "[EPOCH:4]\t Train Loss:0.0214\t Train Acc:89.26 %  | \tValid Loss:0.0241 \tValid Acc: 86.29 %\n",
      "\n",
      "Validation loss decreased (0.024510 --> 0.024112).  Saving model ...\n",
      "\n",
      "[EPOCH:5]\t Train Loss:0.0191\t Train Acc:91.85 %  | \tValid Loss:0.0235 \tValid Acc: 84.26 %\n",
      "\n",
      "Validation loss decreased (0.024112 --> 0.023520).  Saving model ...\n",
      "\n",
      "[EPOCH:6]\t Train Loss:0.0153\t Train Acc:94.44 %  | \tValid Loss:0.0230 \tValid Acc: 83.76 %\n",
      "\n",
      "Validation loss decreased (0.023520 --> 0.022984).  Saving model ...\n",
      "\n",
      "[EPOCH:7]\t Train Loss:0.0132\t Train Acc:96.79 %  | \tValid Loss:0.0209 \tValid Acc: 86.80 %\n",
      "\n",
      "Validation loss decreased (0.022984 --> 0.020937).  Saving model ...\n",
      "\n",
      "[EPOCH:8]\t Train Loss:0.0113\t Train Acc:97.78 %  | \tValid Loss:0.0211 \tValid Acc: 86.29 %\n",
      "\n",
      "EarlyStopping counter: 1 out of 5\n",
      "\n",
      "[EPOCH:9]\t Train Loss:0.0089\t Train Acc:99.14 %  | \tValid Loss:0.0214 \tValid Acc: 85.79 %\n",
      "\n",
      "EarlyStopping counter: 2 out of 5\n",
      "\n",
      "[EPOCH:10]\t Train Loss:0.0090\t Train Acc:99.01 %  | \tValid Loss:0.0211 \tValid Acc: 87.31 %\n",
      "\n",
      "EarlyStopping counter: 3 out of 5\n",
      "\n",
      "[EPOCH:11]\t Train Loss:0.0089\t Train Acc:98.15 %  | \tValid Loss:0.0231 \tValid Acc: 86.29 %\n",
      "\n",
      "EarlyStopping counter: 4 out of 5\n",
      "\n",
      "[EPOCH:12]\t Train Loss:0.0086\t Train Acc:98.52 %  | \tValid Loss:0.0202 \tValid Acc: 88.32 %\n",
      "\n",
      "Validation loss decreased (0.020937 --> 0.020243).  Saving model ...\n",
      "\n",
      "[EPOCH:13]\t Train Loss:0.0080\t Train Acc:97.90 %  | \tValid Loss:0.0243 \tValid Acc: 83.25 %\n",
      "\n",
      "EarlyStopping counter: 1 out of 5\n",
      "\n",
      "[EPOCH:14]\t Train Loss:0.0072\t Train Acc:98.02 %  | \tValid Loss:0.0215 \tValid Acc: 84.77 %\n",
      "\n",
      "EarlyStopping counter: 2 out of 5\n",
      "\n",
      "[EPOCH:15]\t Train Loss:0.0068\t Train Acc:98.64 %  | \tValid Loss:0.0259 \tValid Acc: 83.76 %\n",
      "\n",
      "EarlyStopping counter: 3 out of 5\n",
      "\n",
      "[EPOCH:16]\t Train Loss:0.0060\t Train Acc:98.89 %  | \tValid Loss:0.0234 \tValid Acc: 85.79 %\n",
      "\n",
      "EarlyStopping counter: 4 out of 5\n",
      "\n",
      "[EPOCH:17]\t Train Loss:0.0045\t Train Acc:99.51 %  | \tValid Loss:0.0231 \tValid Acc: 84.77 %\n",
      "\n",
      "EarlyStopping counter: 5 out of 5\n",
      "[3 교차검증] Early stopping\n"
     ]
    },
    {
     "data": {
      "text/html": [
       "Waiting for W&B process to finish... <strong style=\"color:green\">(success).</strong>"
      ],
      "text/plain": [
       "<IPython.core.display.HTML object>"
      ]
     },
     "metadata": {},
     "output_type": "display_data"
    },
    {
     "data": {
      "application/vnd.jupyter.widget-view+json": {
       "model_id": "",
       "version_major": 2,
       "version_minor": 0
      },
      "text/plain": [
       "VBox(children=(Label(value='0.001 MB of 0.001 MB uploaded (0.000 MB deduped)\\r'), FloatProgress(value=1.0, max…"
      ]
     },
     "metadata": {},
     "output_type": "display_data"
    },
    {
     "data": {
      "text/html": [
       "<style>\n",
       "    table.wandb td:nth-child(1) { padding: 0 10px; text-align: left ; width: auto;} td:nth-child(2) {text-align: left ; width: 100%}\n",
       "    .wandb-row { display: flex; flex-direction: row; flex-wrap: wrap; justify-content: flex-start; width: 100% }\n",
       "    .wandb-col { display: flex; flex-direction: column; flex-basis: 100%; flex: 1; padding: 10px; }\n",
       "    </style>\n",
       "<div class=\"wandb-row\"><div class=\"wandb-col\"><h3>Run history:</h3><br/><table class=\"wandb\"><tr><td>Valid/Accuracy</td><td>▁▅▆▆▄▄▇▇▇▇▇██████</td></tr><tr><td>Valid/Loss</td><td>█▅▄▄▃▃▁▁▁▁▁▁▁▁▁▁▁</td></tr></table><br/></div><div class=\"wandb-col\"><h3>Run summary:</h3><br/><table class=\"wandb\"><tr><td>Valid/Accuracy</td><td>88.32487</td></tr><tr><td>Valid/Loss</td><td>0.02024</td></tr></table><br/></div></div>"
      ],
      "text/plain": [
       "<IPython.core.display.HTML object>"
      ]
     },
     "metadata": {},
     "output_type": "display_data"
    },
    {
     "data": {
      "text/html": [
       "Synced <strong style=\"color:#cdcd00\">olive-sweep-8</strong>: <a href=\"https://wandb.ai/bub3690/SVD-hyp-sweep/runs/v6agtdzq\" target=\"_blank\">https://wandb.ai/bub3690/SVD-hyp-sweep/runs/v6agtdzq</a><br/>Synced 5 W&B file(s), 0 media file(s), 0 artifact file(s) and 0 other file(s)"
      ],
      "text/plain": [
       "<IPython.core.display.HTML object>"
      ]
     },
     "metadata": {},
     "output_type": "display_data"
    },
    {
     "data": {
      "text/html": [
       "Find logs at: <code>.\\wandb\\run-20220704_142127-v6agtdzq\\logs</code>"
      ],
      "text/plain": [
       "<IPython.core.display.HTML object>"
      ]
     },
     "metadata": {},
     "output_type": "display_data"
    },
    {
     "name": "stderr",
     "output_type": "stream",
     "text": [
      "\u001b[34m\u001b[1mwandb\u001b[0m: Agent Starting Run: 0j40wp3a with config:\n",
      "\u001b[34m\u001b[1mwandb\u001b[0m: \tbatch_size: 16\n",
      "\u001b[34m\u001b[1mwandb\u001b[0m: \tfold: 4\n",
      "\u001b[34m\u001b[1mwandb\u001b[0m: \u001b[33mWARNING\u001b[0m Ignored wandb.init() arg project when running a sweep.\n",
      "\u001b[34m\u001b[1mwandb\u001b[0m: \u001b[33mWARNING\u001b[0m Ignored wandb.init() arg entity when running a sweep.\n"
     ]
    },
    {
     "data": {
      "text/html": [
       "wandb version 0.12.20 is available!  To upgrade, please run:\n",
       " $ pip install wandb --upgrade"
      ],
      "text/plain": [
       "<IPython.core.display.HTML object>"
      ]
     },
     "metadata": {},
     "output_type": "display_data"
    },
    {
     "data": {
      "text/html": [
       "Tracking run with wandb version 0.12.16"
      ],
      "text/plain": [
       "<IPython.core.display.HTML object>"
      ]
     },
     "metadata": {},
     "output_type": "display_data"
    },
    {
     "data": {
      "text/html": [
       "Run data is saved locally in <code>D:\\project\\voice_pathology_ai\\model\\spectrogram\\ros\\wandb\\run-20220704_142318-0j40wp3a</code>"
      ],
      "text/plain": [
       "<IPython.core.display.HTML object>"
      ]
     },
     "metadata": {},
     "output_type": "display_data"
    },
    {
     "data": {
      "text/html": [
       "Syncing run <strong><a href=\"https://wandb.ai/bub3690/SVD-hyp-sweep/runs/0j40wp3a\" target=\"_blank\">usual-sweep-9</a></strong> to <a href=\"https://wandb.ai/bub3690/SVD-hyp-sweep\" target=\"_blank\">Weights & Biases</a> (<a href=\"https://wandb.me/run\" target=\"_blank\">docs</a>)<br/>Sweep page:  <a href=\"https://wandb.ai/bub3690/SVD-hyp-sweep/sweeps/j9mfv8ql\" target=\"_blank\">https://wandb.ai/bub3690/SVD-hyp-sweep/sweeps/j9mfv8ql</a>"
      ],
      "text/plain": [
       "<IPython.core.display.HTML object>"
      ]
     },
     "metadata": {},
     "output_type": "display_data"
    },
    {
     "name": "stdout",
     "output_type": "stream",
     "text": [
      "../../checkpoint/checkpoint_melspectro_resnet18_true_ros_4_organics.pt\n",
      "config: {'sample_rate': 16000, 'n_fft': 1024, 'n_mels': 128, 'hop_length': 100, 'win_length': 400, 'f_max': 80000, 'batch_size': 16, 'fold': 4}\n",
      "[4 교차검증] 학습 시작\n",
      " ----- \n",
      "\n",
      "[EPOCH:1]\t Train Loss:0.0383\t Train Acc:66.54 %  | \tValid Loss:0.0321 \tValid Acc: 79.19 %\n",
      "\n",
      "Validation loss decreased (inf --> 0.032119).  Saving model ...\n",
      "\n",
      "[EPOCH:2]\t Train Loss:0.0294\t Train Acc:78.89 %  | \tValid Loss:0.0272 \tValid Acc: 85.28 %\n",
      "\n",
      "Validation loss decreased (0.032119 --> 0.027174).  Saving model ...\n",
      "\n",
      "[EPOCH:3]\t Train Loss:0.0240\t Train Acc:86.79 %  | \tValid Loss:0.0250 \tValid Acc: 85.79 %\n",
      "\n",
      "Validation loss decreased (0.027174 --> 0.025001).  Saving model ...\n",
      "\n",
      "[EPOCH:4]\t Train Loss:0.0196\t Train Acc:90.86 %  | \tValid Loss:0.0247 \tValid Acc: 87.82 %\n",
      "\n",
      "Validation loss decreased (0.025001 --> 0.024685).  Saving model ...\n",
      "\n",
      "[EPOCH:5]\t Train Loss:0.0164\t Train Acc:95.06 %  | \tValid Loss:0.0243 \tValid Acc: 85.28 %\n",
      "\n",
      "Validation loss decreased (0.024685 --> 0.024314).  Saving model ...\n",
      "\n",
      "[EPOCH:6]\t Train Loss:0.0132\t Train Acc:97.16 %  | \tValid Loss:0.0220 \tValid Acc: 89.34 %\n",
      "\n",
      "Validation loss decreased (0.024314 --> 0.022021).  Saving model ...\n",
      "\n",
      "[EPOCH:7]\t Train Loss:0.0117\t Train Acc:98.27 %  | \tValid Loss:0.0206 \tValid Acc: 88.83 %\n",
      "\n",
      "Validation loss decreased (0.022021 --> 0.020579).  Saving model ...\n",
      "\n",
      "[EPOCH:8]\t Train Loss:0.0104\t Train Acc:98.77 %  | \tValid Loss:0.0205 \tValid Acc: 87.31 %\n",
      "\n",
      "Validation loss decreased (0.020579 --> 0.020496).  Saving model ...\n",
      "\n",
      "[EPOCH:9]\t Train Loss:0.0097\t Train Acc:98.15 %  | \tValid Loss:0.0215 \tValid Acc: 86.80 %\n",
      "\n",
      "EarlyStopping counter: 1 out of 5\n",
      "\n",
      "[EPOCH:10]\t Train Loss:0.0086\t Train Acc:98.27 %  | \tValid Loss:0.0223 \tValid Acc: 87.31 %\n",
      "\n",
      "EarlyStopping counter: 2 out of 5\n",
      "\n",
      "[EPOCH:11]\t Train Loss:0.0077\t Train Acc:98.40 %  | \tValid Loss:0.0186 \tValid Acc: 88.83 %\n",
      "\n",
      "Validation loss decreased (0.020496 --> 0.018604).  Saving model ...\n",
      "\n",
      "[EPOCH:12]\t Train Loss:0.0073\t Train Acc:98.64 %  | \tValid Loss:0.0240 \tValid Acc: 82.74 %\n",
      "\n",
      "EarlyStopping counter: 1 out of 5\n",
      "\n",
      "[EPOCH:13]\t Train Loss:0.0072\t Train Acc:98.64 %  | \tValid Loss:0.0192 \tValid Acc: 87.82 %\n",
      "\n",
      "EarlyStopping counter: 2 out of 5\n",
      "\n",
      "[EPOCH:14]\t Train Loss:0.0074\t Train Acc:97.90 %  | \tValid Loss:0.0183 \tValid Acc: 89.85 %\n",
      "\n",
      "Validation loss decreased (0.018604 --> 0.018250).  Saving model ...\n",
      "\n",
      "[EPOCH:15]\t Train Loss:0.0073\t Train Acc:97.65 %  | \tValid Loss:0.0210 \tValid Acc: 85.79 %\n",
      "\n",
      "EarlyStopping counter: 1 out of 5\n",
      "\n",
      "[EPOCH:16]\t Train Loss:0.0074\t Train Acc:97.28 %  | \tValid Loss:0.0234 \tValid Acc: 84.26 %\n",
      "\n",
      "EarlyStopping counter: 2 out of 5\n",
      "\n",
      "[EPOCH:17]\t Train Loss:0.0068\t Train Acc:97.65 %  | \tValid Loss:0.0223 \tValid Acc: 85.28 %\n",
      "\n",
      "EarlyStopping counter: 3 out of 5\n",
      "\n",
      "[EPOCH:18]\t Train Loss:0.0069\t Train Acc:97.28 %  | \tValid Loss:0.0249 \tValid Acc: 88.32 %\n",
      "\n",
      "EarlyStopping counter: 4 out of 5\n",
      "\n",
      "[EPOCH:19]\t Train Loss:0.0044\t Train Acc:99.26 %  | \tValid Loss:0.0181 \tValid Acc: 87.31 %\n",
      "\n",
      "Validation loss decreased (0.018250 --> 0.018054).  Saving model ...\n",
      "\n",
      "[EPOCH:20]\t Train Loss:0.0049\t Train Acc:98.64 %  | \tValid Loss:0.0241 \tValid Acc: 83.76 %\n",
      "\n",
      "EarlyStopping counter: 1 out of 5\n",
      "\n",
      "[EPOCH:21]\t Train Loss:0.0058\t Train Acc:97.78 %  | \tValid Loss:0.0224 \tValid Acc: 88.32 %\n",
      "\n",
      "EarlyStopping counter: 2 out of 5\n",
      "\n",
      "[EPOCH:22]\t Train Loss:0.0048\t Train Acc:99.14 %  | \tValid Loss:0.0221 \tValid Acc: 86.29 %\n",
      "\n",
      "EarlyStopping counter: 3 out of 5\n",
      "\n",
      "[EPOCH:23]\t Train Loss:0.0047\t Train Acc:98.64 %  | \tValid Loss:0.0217 \tValid Acc: 84.26 %\n",
      "\n",
      "EarlyStopping counter: 4 out of 5\n",
      "\n",
      "[EPOCH:24]\t Train Loss:0.0042\t Train Acc:98.77 %  | \tValid Loss:0.0267 \tValid Acc: 86.29 %\n",
      "\n",
      "EarlyStopping counter: 5 out of 5\n",
      "[4 교차검증] Early stopping\n"
     ]
    },
    {
     "data": {
      "text/html": [
       "Waiting for W&B process to finish... <strong style=\"color:green\">(success).</strong>"
      ],
      "text/plain": [
       "<IPython.core.display.HTML object>"
      ]
     },
     "metadata": {},
     "output_type": "display_data"
    },
    {
     "data": {
      "application/vnd.jupyter.widget-view+json": {
       "model_id": "",
       "version_major": 2,
       "version_minor": 0
      },
      "text/plain": [
       "VBox(children=(Label(value='0.001 MB of 0.001 MB uploaded (0.000 MB deduped)\\r'), FloatProgress(value=1.0, max…"
      ]
     },
     "metadata": {},
     "output_type": "display_data"
    },
    {
     "data": {
      "text/html": [
       "<style>\n",
       "    table.wandb td:nth-child(1) { padding: 0 10px; text-align: left ; width: auto;} td:nth-child(2) {text-align: left ; width: 100%}\n",
       "    .wandb-row { display: flex; flex-direction: row; flex-wrap: wrap; justify-content: flex-start; width: 100% }\n",
       "    .wandb-col { display: flex; flex-direction: column; flex-basis: 100%; flex: 1; padding: 10px; }\n",
       "    </style>\n",
       "<div class=\"wandb-row\"><div class=\"wandb-col\"><h3>Run history:</h3><br/><table class=\"wandb\"><tr><td>Valid/Accuracy</td><td>▁▅▅▇▅█▇▆▆▆▇▇▇█████▆▆▆▆▆▆</td></tr><tr><td>Valid/Loss</td><td>█▆▄▄▄▃▂▂▂▂▁▁▁▁▁▁▁▁▁▁▁▁▁▁</td></tr></table><br/></div><div class=\"wandb-col\"><h3>Run summary:</h3><br/><table class=\"wandb\"><tr><td>Valid/Accuracy</td><td>87.30964</td></tr><tr><td>Valid/Loss</td><td>0.01805</td></tr></table><br/></div></div>"
      ],
      "text/plain": [
       "<IPython.core.display.HTML object>"
      ]
     },
     "metadata": {},
     "output_type": "display_data"
    },
    {
     "data": {
      "text/html": [
       "Synced <strong style=\"color:#cdcd00\">usual-sweep-9</strong>: <a href=\"https://wandb.ai/bub3690/SVD-hyp-sweep/runs/0j40wp3a\" target=\"_blank\">https://wandb.ai/bub3690/SVD-hyp-sweep/runs/0j40wp3a</a><br/>Synced 5 W&B file(s), 0 media file(s), 0 artifact file(s) and 0 other file(s)"
      ],
      "text/plain": [
       "<IPython.core.display.HTML object>"
      ]
     },
     "metadata": {},
     "output_type": "display_data"
    },
    {
     "data": {
      "text/html": [
       "Find logs at: <code>.\\wandb\\run-20220704_142318-0j40wp3a\\logs</code>"
      ],
      "text/plain": [
       "<IPython.core.display.HTML object>"
      ]
     },
     "metadata": {},
     "output_type": "display_data"
    },
    {
     "name": "stderr",
     "output_type": "stream",
     "text": [
      "\u001b[34m\u001b[1mwandb\u001b[0m: Agent Starting Run: 59o6gjbt with config:\n",
      "\u001b[34m\u001b[1mwandb\u001b[0m: \tbatch_size: 16\n",
      "\u001b[34m\u001b[1mwandb\u001b[0m: \tfold: 5\n",
      "\u001b[34m\u001b[1mwandb\u001b[0m: \u001b[33mWARNING\u001b[0m Ignored wandb.init() arg project when running a sweep.\n",
      "\u001b[34m\u001b[1mwandb\u001b[0m: \u001b[33mWARNING\u001b[0m Ignored wandb.init() arg entity when running a sweep.\n"
     ]
    },
    {
     "data": {
      "text/html": [
       "wandb version 0.12.20 is available!  To upgrade, please run:\n",
       " $ pip install wandb --upgrade"
      ],
      "text/plain": [
       "<IPython.core.display.HTML object>"
      ]
     },
     "metadata": {},
     "output_type": "display_data"
    },
    {
     "data": {
      "text/html": [
       "Tracking run with wandb version 0.12.16"
      ],
      "text/plain": [
       "<IPython.core.display.HTML object>"
      ]
     },
     "metadata": {},
     "output_type": "display_data"
    },
    {
     "data": {
      "text/html": [
       "Run data is saved locally in <code>D:\\project\\voice_pathology_ai\\model\\spectrogram\\ros\\wandb\\run-20220704_142550-59o6gjbt</code>"
      ],
      "text/plain": [
       "<IPython.core.display.HTML object>"
      ]
     },
     "metadata": {},
     "output_type": "display_data"
    },
    {
     "data": {
      "text/html": [
       "Syncing run <strong><a href=\"https://wandb.ai/bub3690/SVD-hyp-sweep/runs/59o6gjbt\" target=\"_blank\">wise-sweep-10</a></strong> to <a href=\"https://wandb.ai/bub3690/SVD-hyp-sweep\" target=\"_blank\">Weights & Biases</a> (<a href=\"https://wandb.me/run\" target=\"_blank\">docs</a>)<br/>Sweep page:  <a href=\"https://wandb.ai/bub3690/SVD-hyp-sweep/sweeps/j9mfv8ql\" target=\"_blank\">https://wandb.ai/bub3690/SVD-hyp-sweep/sweeps/j9mfv8ql</a>"
      ],
      "text/plain": [
       "<IPython.core.display.HTML object>"
      ]
     },
     "metadata": {},
     "output_type": "display_data"
    },
    {
     "name": "stdout",
     "output_type": "stream",
     "text": [
      "../../checkpoint/checkpoint_melspectro_resnet18_true_ros_5_organics.pt\n",
      "config: {'sample_rate': 16000, 'n_fft': 1024, 'n_mels': 128, 'hop_length': 100, 'win_length': 400, 'f_max': 80000, 'batch_size': 16, 'fold': 5}\n",
      "[5 교차검증] 학습 시작\n",
      " ----- \n",
      "\n",
      "[EPOCH:1]\t Train Loss:0.0391\t Train Acc:63.67 %  | \tValid Loss:0.0335 \tValid Acc: 81.12 %\n",
      "\n",
      "Validation loss decreased (inf --> 0.033450).  Saving model ...\n",
      "\n",
      "[EPOCH:2]\t Train Loss:0.0304\t Train Acc:81.65 %  | \tValid Loss:0.0265 \tValid Acc: 86.22 %\n",
      "\n",
      "Validation loss decreased (0.033450 --> 0.026521).  Saving model ...\n",
      "\n",
      "[EPOCH:3]\t Train Loss:0.0259\t Train Acc:86.82 %  | \tValid Loss:0.0277 \tValid Acc: 86.73 %\n",
      "\n",
      "EarlyStopping counter: 1 out of 5\n",
      "\n",
      "[EPOCH:4]\t Train Loss:0.0229\t Train Acc:89.66 %  | \tValid Loss:0.0249 \tValid Acc: 88.78 %\n",
      "\n",
      "Validation loss decreased (0.026521 --> 0.024949).  Saving model ...\n",
      "\n",
      "[EPOCH:5]\t Train Loss:0.0193\t Train Acc:95.20 %  | \tValid Loss:0.0241 \tValid Acc: 89.80 %\n",
      "\n",
      "Validation loss decreased (0.024949 --> 0.024059).  Saving model ...\n",
      "\n",
      "[EPOCH:6]\t Train Loss:0.0169\t Train Acc:96.31 %  | \tValid Loss:0.0250 \tValid Acc: 85.71 %\n",
      "\n",
      "EarlyStopping counter: 1 out of 5\n",
      "\n",
      "[EPOCH:7]\t Train Loss:0.0146\t Train Acc:97.04 %  | \tValid Loss:0.0227 \tValid Acc: 87.76 %\n",
      "\n",
      "Validation loss decreased (0.024059 --> 0.022663).  Saving model ...\n",
      "\n",
      "[EPOCH:8]\t Train Loss:0.0130\t Train Acc:98.15 %  | \tValid Loss:0.0216 \tValid Acc: 90.31 %\n",
      "\n",
      "Validation loss decreased (0.022663 --> 0.021593).  Saving model ...\n",
      "\n",
      "[EPOCH:9]\t Train Loss:0.0118\t Train Acc:97.78 %  | \tValid Loss:0.0216 \tValid Acc: 85.20 %\n",
      "\n",
      "EarlyStopping counter: 1 out of 5\n",
      "\n",
      "[EPOCH:10]\t Train Loss:0.0097\t Train Acc:98.89 %  | \tValid Loss:0.0202 \tValid Acc: 89.29 %\n",
      "\n",
      "Validation loss decreased (0.021593 --> 0.020156).  Saving model ...\n",
      "\n",
      "[EPOCH:11]\t Train Loss:0.0092\t Train Acc:99.14 %  | \tValid Loss:0.0218 \tValid Acc: 88.78 %\n",
      "\n",
      "EarlyStopping counter: 1 out of 5\n",
      "\n",
      "[EPOCH:12]\t Train Loss:0.0083\t Train Acc:98.65 %  | \tValid Loss:0.0218 \tValid Acc: 87.24 %\n",
      "\n",
      "EarlyStopping counter: 2 out of 5\n",
      "\n",
      "[EPOCH:13]\t Train Loss:0.0089\t Train Acc:97.41 %  | \tValid Loss:0.0204 \tValid Acc: 85.71 %\n",
      "\n",
      "EarlyStopping counter: 3 out of 5\n",
      "\n",
      "[EPOCH:14]\t Train Loss:0.0076\t Train Acc:98.28 %  | \tValid Loss:0.0278 \tValid Acc: 81.12 %\n",
      "\n",
      "EarlyStopping counter: 4 out of 5\n",
      "\n",
      "[EPOCH:15]\t Train Loss:0.0076\t Train Acc:97.91 %  | \tValid Loss:0.0191 \tValid Acc: 88.78 %\n",
      "\n",
      "Validation loss decreased (0.020156 --> 0.019142).  Saving model ...\n",
      "\n",
      "[EPOCH:16]\t Train Loss:0.0076\t Train Acc:97.29 %  | \tValid Loss:0.0249 \tValid Acc: 87.76 %\n",
      "\n",
      "EarlyStopping counter: 1 out of 5\n",
      "\n",
      "[EPOCH:17]\t Train Loss:0.0077\t Train Acc:97.54 %  | \tValid Loss:0.0250 \tValid Acc: 83.67 %\n",
      "\n",
      "EarlyStopping counter: 2 out of 5\n",
      "\n",
      "[EPOCH:18]\t Train Loss:0.0076\t Train Acc:98.28 %  | \tValid Loss:0.0238 \tValid Acc: 84.18 %\n",
      "\n",
      "EarlyStopping counter: 3 out of 5\n",
      "\n",
      "[EPOCH:19]\t Train Loss:0.0065\t Train Acc:97.41 %  | \tValid Loss:0.0179 \tValid Acc: 89.29 %\n",
      "\n",
      "Validation loss decreased (0.019142 --> 0.017857).  Saving model ...\n",
      "\n",
      "[EPOCH:20]\t Train Loss:0.0058\t Train Acc:98.52 %  | \tValid Loss:0.0261 \tValid Acc: 86.22 %\n",
      "\n",
      "EarlyStopping counter: 1 out of 5\n",
      "\n",
      "[EPOCH:21]\t Train Loss:0.0054\t Train Acc:98.52 %  | \tValid Loss:0.0207 \tValid Acc: 86.22 %\n",
      "\n",
      "EarlyStopping counter: 2 out of 5\n",
      "\n",
      "[EPOCH:22]\t Train Loss:0.0040\t Train Acc:99.51 %  | \tValid Loss:0.0216 \tValid Acc: 88.27 %\n",
      "\n",
      "EarlyStopping counter: 3 out of 5\n",
      "\n",
      "[EPOCH:23]\t Train Loss:0.0051\t Train Acc:98.89 %  | \tValid Loss:0.0300 \tValid Acc: 83.16 %\n",
      "\n",
      "EarlyStopping counter: 4 out of 5\n",
      "\n",
      "[EPOCH:24]\t Train Loss:0.0057\t Train Acc:97.78 %  | \tValid Loss:0.0207 \tValid Acc: 87.24 %\n",
      "\n",
      "EarlyStopping counter: 5 out of 5\n",
      "[5 교차검증] Early stopping\n"
     ]
    },
    {
     "data": {
      "text/html": [
       "Waiting for W&B process to finish... <strong style=\"color:green\">(success).</strong>"
      ],
      "text/plain": [
       "<IPython.core.display.HTML object>"
      ]
     },
     "metadata": {},
     "output_type": "display_data"
    },
    {
     "data": {
      "application/vnd.jupyter.widget-view+json": {
       "model_id": "",
       "version_major": 2,
       "version_minor": 0
      },
      "text/plain": [
       "VBox(children=(Label(value='0.001 MB of 0.001 MB uploaded (0.000 MB deduped)\\r'), FloatProgress(value=1.0, max…"
      ]
     },
     "metadata": {},
     "output_type": "display_data"
    },
    {
     "data": {
      "text/html": [
       "<style>\n",
       "    table.wandb td:nth-child(1) { padding: 0 10px; text-align: left ; width: auto;} td:nth-child(2) {text-align: left ; width: 100%}\n",
       "    .wandb-row { display: flex; flex-direction: row; flex-wrap: wrap; justify-content: flex-start; width: 100% }\n",
       "    .wandb-col { display: flex; flex-direction: column; flex-basis: 100%; flex: 1; padding: 10px; }\n",
       "    </style>\n",
       "<div class=\"wandb-row\"><div class=\"wandb-col\"><h3>Run history:</h3><br/><table class=\"wandb\"><tr><td>Valid/Accuracy</td><td>▁▅▅▇██▆██▇▇▇▇▇▇▇▇▇▇▇▇▇▇▇</td></tr><tr><td>Valid/Loss</td><td>█▅▅▄▄▄▃▃▃▂▂▂▂▂▂▂▂▂▁▁▁▁▁▁</td></tr></table><br/></div><div class=\"wandb-col\"><h3>Run summary:</h3><br/><table class=\"wandb\"><tr><td>Valid/Accuracy</td><td>89.28571</td></tr><tr><td>Valid/Loss</td><td>0.01786</td></tr></table><br/></div></div>"
      ],
      "text/plain": [
       "<IPython.core.display.HTML object>"
      ]
     },
     "metadata": {},
     "output_type": "display_data"
    },
    {
     "data": {
      "text/html": [
       "Synced <strong style=\"color:#cdcd00\">wise-sweep-10</strong>: <a href=\"https://wandb.ai/bub3690/SVD-hyp-sweep/runs/59o6gjbt\" target=\"_blank\">https://wandb.ai/bub3690/SVD-hyp-sweep/runs/59o6gjbt</a><br/>Synced 5 W&B file(s), 0 media file(s), 0 artifact file(s) and 0 other file(s)"
      ],
      "text/plain": [
       "<IPython.core.display.HTML object>"
      ]
     },
     "metadata": {},
     "output_type": "display_data"
    },
    {
     "data": {
      "text/html": [
       "Find logs at: <code>.\\wandb\\run-20220704_142550-59o6gjbt\\logs</code>"
      ],
      "text/plain": [
       "<IPython.core.display.HTML object>"
      ]
     },
     "metadata": {},
     "output_type": "display_data"
    },
    {
     "name": "stderr",
     "output_type": "stream",
     "text": [
      "\u001b[34m\u001b[1mwandb\u001b[0m: Agent Starting Run: ux0k3vcz with config:\n",
      "\u001b[34m\u001b[1mwandb\u001b[0m: \tbatch_size: 32\n",
      "\u001b[34m\u001b[1mwandb\u001b[0m: \tfold: 1\n",
      "\u001b[34m\u001b[1mwandb\u001b[0m: \u001b[33mWARNING\u001b[0m Ignored wandb.init() arg project when running a sweep.\n",
      "\u001b[34m\u001b[1mwandb\u001b[0m: \u001b[33mWARNING\u001b[0m Ignored wandb.init() arg entity when running a sweep.\n"
     ]
    },
    {
     "data": {
      "text/html": [
       "wandb version 0.12.20 is available!  To upgrade, please run:\n",
       " $ pip install wandb --upgrade"
      ],
      "text/plain": [
       "<IPython.core.display.HTML object>"
      ]
     },
     "metadata": {},
     "output_type": "display_data"
    },
    {
     "data": {
      "text/html": [
       "Tracking run with wandb version 0.12.16"
      ],
      "text/plain": [
       "<IPython.core.display.HTML object>"
      ]
     },
     "metadata": {},
     "output_type": "display_data"
    },
    {
     "data": {
      "text/html": [
       "Run data is saved locally in <code>D:\\project\\voice_pathology_ai\\model\\spectrogram\\ros\\wandb\\run-20220704_142822-ux0k3vcz</code>"
      ],
      "text/plain": [
       "<IPython.core.display.HTML object>"
      ]
     },
     "metadata": {},
     "output_type": "display_data"
    },
    {
     "data": {
      "text/html": [
       "Syncing run <strong><a href=\"https://wandb.ai/bub3690/SVD-hyp-sweep/runs/ux0k3vcz\" target=\"_blank\">vivid-sweep-11</a></strong> to <a href=\"https://wandb.ai/bub3690/SVD-hyp-sweep\" target=\"_blank\">Weights & Biases</a> (<a href=\"https://wandb.me/run\" target=\"_blank\">docs</a>)<br/>Sweep page:  <a href=\"https://wandb.ai/bub3690/SVD-hyp-sweep/sweeps/j9mfv8ql\" target=\"_blank\">https://wandb.ai/bub3690/SVD-hyp-sweep/sweeps/j9mfv8ql</a>"
      ],
      "text/plain": [
       "<IPython.core.display.HTML object>"
      ]
     },
     "metadata": {},
     "output_type": "display_data"
    },
    {
     "name": "stdout",
     "output_type": "stream",
     "text": [
      "../../checkpoint/checkpoint_melspectro_resnet18_true_ros_1_organics.pt\n",
      "config: {'sample_rate': 16000, 'n_fft': 1024, 'n_mels': 128, 'hop_length': 100, 'win_length': 400, 'f_max': 80000, 'batch_size': 32, 'fold': 1}\n",
      "[1 교차검증] 학습 시작\n",
      " ----- \n",
      "\n",
      "[EPOCH:1]\t Train Loss:0.0194\t Train Acc:66.26 %  | \tValid Loss:0.0210 \tValid Acc: 67.51 %\n",
      "\n",
      "Validation loss decreased (inf --> 0.020992).  Saving model ...\n",
      "\n",
      "[EPOCH:2]\t Train Loss:0.0155\t Train Acc:79.06 %  | \tValid Loss:0.0183 \tValid Acc: 74.11 %\n",
      "\n",
      "Validation loss decreased (0.020992 --> 0.018310).  Saving model ...\n",
      "\n",
      "[EPOCH:3]\t Train Loss:0.0132\t Train Acc:86.45 %  | \tValid Loss:0.0178 \tValid Acc: 78.17 %\n",
      "\n",
      "Validation loss decreased (0.018310 --> 0.017827).  Saving model ...\n",
      "\n",
      "[EPOCH:4]\t Train Loss:0.0118\t Train Acc:90.89 %  | \tValid Loss:0.0162 \tValid Acc: 81.73 %\n",
      "\n",
      "Validation loss decreased (0.017827 --> 0.016163).  Saving model ...\n",
      "\n",
      "[EPOCH:5]\t Train Loss:0.0101\t Train Acc:95.07 %  | \tValid Loss:0.0165 \tValid Acc: 83.76 %\n",
      "\n",
      "EarlyStopping counter: 1 out of 5\n",
      "\n",
      "[EPOCH:6]\t Train Loss:0.0084\t Train Acc:97.17 %  | \tValid Loss:0.0151 \tValid Acc: 83.25 %\n",
      "\n",
      "Validation loss decreased (0.016163 --> 0.015142).  Saving model ...\n",
      "\n",
      "[EPOCH:7]\t Train Loss:0.0073\t Train Acc:98.89 %  | \tValid Loss:0.0157 \tValid Acc: 81.22 %\n",
      "\n",
      "EarlyStopping counter: 1 out of 5\n",
      "\n",
      "[EPOCH:8]\t Train Loss:0.0067\t Train Acc:99.63 %  | \tValid Loss:0.0138 \tValid Acc: 82.74 %\n",
      "\n",
      "Validation loss decreased (0.015142 --> 0.013811).  Saving model ...\n",
      "\n",
      "[EPOCH:9]\t Train Loss:0.0056\t Train Acc:99.88 %  | \tValid Loss:0.0154 \tValid Acc: 83.25 %\n",
      "\n",
      "EarlyStopping counter: 1 out of 5\n",
      "\n",
      "[EPOCH:10]\t Train Loss:0.0054\t Train Acc:100.00 %  | \tValid Loss:0.0142 \tValid Acc: 83.76 %\n",
      "\n",
      "EarlyStopping counter: 2 out of 5\n",
      "\n",
      "[EPOCH:11]\t Train Loss:0.0047\t Train Acc:100.00 %  | \tValid Loss:0.0127 \tValid Acc: 83.25 %\n",
      "\n",
      "Validation loss decreased (0.013811 --> 0.012739).  Saving model ...\n",
      "\n",
      "[EPOCH:12]\t Train Loss:0.0044\t Train Acc:99.51 %  | \tValid Loss:0.0146 \tValid Acc: 78.68 %\n",
      "\n",
      "EarlyStopping counter: 1 out of 5\n",
      "\n",
      "[EPOCH:13]\t Train Loss:0.0038\t Train Acc:100.00 %  | \tValid Loss:0.0143 \tValid Acc: 83.76 %\n",
      "\n",
      "EarlyStopping counter: 2 out of 5\n",
      "\n",
      "[EPOCH:14]\t Train Loss:0.0036\t Train Acc:100.00 %  | \tValid Loss:0.0128 \tValid Acc: 84.26 %\n",
      "\n",
      "EarlyStopping counter: 3 out of 5\n",
      "\n",
      "[EPOCH:15]\t Train Loss:0.0034\t Train Acc:100.00 %  | \tValid Loss:0.0136 \tValid Acc: 84.26 %\n",
      "\n",
      "EarlyStopping counter: 4 out of 5\n",
      "\n",
      "[EPOCH:16]\t Train Loss:0.0035\t Train Acc:99.75 %  | \tValid Loss:0.0166 \tValid Acc: 79.19 %\n",
      "\n",
      "EarlyStopping counter: 5 out of 5\n",
      "[1 교차검증] Early stopping\n"
     ]
    },
    {
     "data": {
      "text/html": [
       "Waiting for W&B process to finish... <strong style=\"color:green\">(success).</strong>"
      ],
      "text/plain": [
       "<IPython.core.display.HTML object>"
      ]
     },
     "metadata": {},
     "output_type": "display_data"
    },
    {
     "data": {
      "application/vnd.jupyter.widget-view+json": {
       "model_id": "",
       "version_major": 2,
       "version_minor": 0
      },
      "text/plain": [
       "VBox(children=(Label(value='0.001 MB of 0.001 MB uploaded (0.000 MB deduped)\\r'), FloatProgress(value=1.0, max…"
      ]
     },
     "metadata": {},
     "output_type": "display_data"
    },
    {
     "data": {
      "text/html": [
       "<style>\n",
       "    table.wandb td:nth-child(1) { padding: 0 10px; text-align: left ; width: auto;} td:nth-child(2) {text-align: left ; width: 100%}\n",
       "    .wandb-row { display: flex; flex-direction: row; flex-wrap: wrap; justify-content: flex-start; width: 100% }\n",
       "    .wandb-col { display: flex; flex-direction: column; flex-basis: 100%; flex: 1; padding: 10px; }\n",
       "    </style>\n",
       "<div class=\"wandb-row\"><div class=\"wandb-col\"><h3>Run history:</h3><br/><table class=\"wandb\"><tr><td>Valid/Accuracy</td><td>▁▄▆▇▇███████████</td></tr><tr><td>Valid/Loss</td><td>█▆▅▄▄▃▃▂▂▂▁▁▁▁▁▁</td></tr></table><br/></div><div class=\"wandb-col\"><h3>Run summary:</h3><br/><table class=\"wandb\"><tr><td>Valid/Accuracy</td><td>83.24873</td></tr><tr><td>Valid/Loss</td><td>0.01274</td></tr></table><br/></div></div>"
      ],
      "text/plain": [
       "<IPython.core.display.HTML object>"
      ]
     },
     "metadata": {},
     "output_type": "display_data"
    },
    {
     "data": {
      "text/html": [
       "Synced <strong style=\"color:#cdcd00\">vivid-sweep-11</strong>: <a href=\"https://wandb.ai/bub3690/SVD-hyp-sweep/runs/ux0k3vcz\" target=\"_blank\">https://wandb.ai/bub3690/SVD-hyp-sweep/runs/ux0k3vcz</a><br/>Synced 5 W&B file(s), 0 media file(s), 0 artifact file(s) and 0 other file(s)"
      ],
      "text/plain": [
       "<IPython.core.display.HTML object>"
      ]
     },
     "metadata": {},
     "output_type": "display_data"
    },
    {
     "data": {
      "text/html": [
       "Find logs at: <code>.\\wandb\\run-20220704_142822-ux0k3vcz\\logs</code>"
      ],
      "text/plain": [
       "<IPython.core.display.HTML object>"
      ]
     },
     "metadata": {},
     "output_type": "display_data"
    },
    {
     "name": "stderr",
     "output_type": "stream",
     "text": [
      "\u001b[34m\u001b[1mwandb\u001b[0m: Sweep Agent: Waiting for job.\n",
      "\u001b[34m\u001b[1mwandb\u001b[0m: Job received.\n",
      "\u001b[34m\u001b[1mwandb\u001b[0m: Agent Starting Run: 38d883ld with config:\n",
      "\u001b[34m\u001b[1mwandb\u001b[0m: \tbatch_size: 32\n",
      "\u001b[34m\u001b[1mwandb\u001b[0m: \tfold: 2\n",
      "\u001b[34m\u001b[1mwandb\u001b[0m: \u001b[33mWARNING\u001b[0m Ignored wandb.init() arg project when running a sweep.\n",
      "\u001b[34m\u001b[1mwandb\u001b[0m: \u001b[33mWARNING\u001b[0m Ignored wandb.init() arg entity when running a sweep.\n"
     ]
    },
    {
     "data": {
      "text/html": [
       "wandb version 0.12.20 is available!  To upgrade, please run:\n",
       " $ pip install wandb --upgrade"
      ],
      "text/plain": [
       "<IPython.core.display.HTML object>"
      ]
     },
     "metadata": {},
     "output_type": "display_data"
    },
    {
     "data": {
      "text/html": [
       "Tracking run with wandb version 0.12.16"
      ],
      "text/plain": [
       "<IPython.core.display.HTML object>"
      ]
     },
     "metadata": {},
     "output_type": "display_data"
    },
    {
     "data": {
      "text/html": [
       "Run data is saved locally in <code>D:\\project\\voice_pathology_ai\\model\\spectrogram\\ros\\wandb\\run-20220704_143012-38d883ld</code>"
      ],
      "text/plain": [
       "<IPython.core.display.HTML object>"
      ]
     },
     "metadata": {},
     "output_type": "display_data"
    },
    {
     "data": {
      "text/html": [
       "Syncing run <strong><a href=\"https://wandb.ai/bub3690/SVD-hyp-sweep/runs/38d883ld\" target=\"_blank\">elated-sweep-12</a></strong> to <a href=\"https://wandb.ai/bub3690/SVD-hyp-sweep\" target=\"_blank\">Weights & Biases</a> (<a href=\"https://wandb.me/run\" target=\"_blank\">docs</a>)<br/>Sweep page:  <a href=\"https://wandb.ai/bub3690/SVD-hyp-sweep/sweeps/j9mfv8ql\" target=\"_blank\">https://wandb.ai/bub3690/SVD-hyp-sweep/sweeps/j9mfv8ql</a>"
      ],
      "text/plain": [
       "<IPython.core.display.HTML object>"
      ]
     },
     "metadata": {},
     "output_type": "display_data"
    },
    {
     "name": "stdout",
     "output_type": "stream",
     "text": [
      "../../checkpoint/checkpoint_melspectro_resnet18_true_ros_2_organics.pt\n",
      "config: {'sample_rate': 16000, 'n_fft': 1024, 'n_mels': 128, 'hop_length': 100, 'win_length': 400, 'f_max': 80000, 'batch_size': 32, 'fold': 2}\n",
      "[2 교차검증] 학습 시작\n",
      " ----- \n",
      "\n",
      "[EPOCH:1]\t Train Loss:0.0199\t Train Acc:61.70 %  | \tValid Loss:0.0212 \tValid Acc: 69.04 %\n",
      "\n",
      "Validation loss decreased (inf --> 0.021162).  Saving model ...\n",
      "\n",
      "[EPOCH:2]\t Train Loss:0.0163\t Train Acc:76.60 %  | \tValid Loss:0.0192 \tValid Acc: 74.11 %\n",
      "\n",
      "Validation loss decreased (0.021162 --> 0.019202).  Saving model ...\n",
      "\n",
      "[EPOCH:3]\t Train Loss:0.0141\t Train Acc:84.61 %  | \tValid Loss:0.0169 \tValid Acc: 79.19 %\n",
      "\n",
      "Validation loss decreased (0.019202 --> 0.016873).  Saving model ...\n",
      "\n",
      "[EPOCH:4]\t Train Loss:0.0130\t Train Acc:86.70 %  | \tValid Loss:0.0163 \tValid Acc: 83.25 %\n",
      "\n",
      "Validation loss decreased (0.016873 --> 0.016258).  Saving model ...\n",
      "\n",
      "[EPOCH:5]\t Train Loss:0.0112\t Train Acc:92.73 %  | \tValid Loss:0.0156 \tValid Acc: 83.76 %\n",
      "\n",
      "Validation loss decreased (0.016258 --> 0.015610).  Saving model ...\n",
      "\n",
      "[EPOCH:6]\t Train Loss:0.0098\t Train Acc:96.43 %  | \tValid Loss:0.0164 \tValid Acc: 80.71 %\n",
      "\n",
      "EarlyStopping counter: 1 out of 5\n",
      "\n",
      "[EPOCH:7]\t Train Loss:0.0085\t Train Acc:98.15 %  | \tValid Loss:0.0154 \tValid Acc: 83.25 %\n",
      "\n",
      "Validation loss decreased (0.015610 --> 0.015446).  Saving model ...\n",
      "\n",
      "[EPOCH:8]\t Train Loss:0.0074\t Train Acc:98.65 %  | \tValid Loss:0.0145 \tValid Acc: 82.74 %\n",
      "\n",
      "Validation loss decreased (0.015446 --> 0.014519).  Saving model ...\n",
      "\n",
      "[EPOCH:9]\t Train Loss:0.0067\t Train Acc:99.63 %  | \tValid Loss:0.0139 \tValid Acc: 81.22 %\n",
      "\n",
      "Validation loss decreased (0.014519 --> 0.013887).  Saving model ...\n",
      "\n",
      "[EPOCH:10]\t Train Loss:0.0060\t Train Acc:99.88 %  | \tValid Loss:0.0130 \tValid Acc: 81.73 %\n",
      "\n",
      "Validation loss decreased (0.013887 --> 0.012980).  Saving model ...\n",
      "\n",
      "[EPOCH:11]\t Train Loss:0.0055\t Train Acc:99.63 %  | \tValid Loss:0.0129 \tValid Acc: 83.76 %\n",
      "\n",
      "Validation loss decreased (0.012980 --> 0.012911).  Saving model ...\n",
      "\n",
      "[EPOCH:12]\t Train Loss:0.0050\t Train Acc:99.63 %  | \tValid Loss:0.0159 \tValid Acc: 84.26 %\n",
      "\n",
      "EarlyStopping counter: 1 out of 5\n",
      "\n",
      "[EPOCH:13]\t Train Loss:0.0045\t Train Acc:100.00 %  | \tValid Loss:0.0144 \tValid Acc: 82.74 %\n",
      "\n",
      "EarlyStopping counter: 2 out of 5\n",
      "\n",
      "[EPOCH:14]\t Train Loss:0.0043\t Train Acc:100.00 %  | \tValid Loss:0.0131 \tValid Acc: 81.22 %\n",
      "\n",
      "EarlyStopping counter: 3 out of 5\n",
      "\n",
      "[EPOCH:15]\t Train Loss:0.0038\t Train Acc:100.00 %  | \tValid Loss:0.0155 \tValid Acc: 83.76 %\n",
      "\n",
      "EarlyStopping counter: 4 out of 5\n",
      "\n",
      "[EPOCH:16]\t Train Loss:0.0035\t Train Acc:100.00 %  | \tValid Loss:0.0133 \tValid Acc: 84.26 %\n",
      "\n",
      "EarlyStopping counter: 5 out of 5\n",
      "[2 교차검증] Early stopping\n"
     ]
    },
    {
     "data": {
      "text/html": [
       "Waiting for W&B process to finish... <strong style=\"color:green\">(success).</strong>"
      ],
      "text/plain": [
       "<IPython.core.display.HTML object>"
      ]
     },
     "metadata": {},
     "output_type": "display_data"
    },
    {
     "data": {
      "application/vnd.jupyter.widget-view+json": {
       "model_id": "",
       "version_major": 2,
       "version_minor": 0
      },
      "text/plain": [
       "VBox(children=(Label(value='0.001 MB of 0.001 MB uploaded (0.000 MB deduped)\\r'), FloatProgress(value=1.0, max…"
      ]
     },
     "metadata": {},
     "output_type": "display_data"
    },
    {
     "data": {
      "text/html": [
       "<style>\n",
       "    table.wandb td:nth-child(1) { padding: 0 10px; text-align: left ; width: auto;} td:nth-child(2) {text-align: left ; width: 100%}\n",
       "    .wandb-row { display: flex; flex-direction: row; flex-wrap: wrap; justify-content: flex-start; width: 100% }\n",
       "    .wandb-col { display: flex; flex-direction: column; flex-basis: 100%; flex: 1; padding: 10px; }\n",
       "    </style>\n",
       "<div class=\"wandb-row\"><div class=\"wandb-col\"><h3>Run history:</h3><br/><table class=\"wandb\"><tr><td>Valid/Accuracy</td><td>▁▃▆█████▇▇██████</td></tr><tr><td>Valid/Loss</td><td>█▆▄▄▃▃▃▂▂▁▁▁▁▁▁▁</td></tr></table><br/></div><div class=\"wandb-col\"><h3>Run summary:</h3><br/><table class=\"wandb\"><tr><td>Valid/Accuracy</td><td>83.75635</td></tr><tr><td>Valid/Loss</td><td>0.01291</td></tr></table><br/></div></div>"
      ],
      "text/plain": [
       "<IPython.core.display.HTML object>"
      ]
     },
     "metadata": {},
     "output_type": "display_data"
    },
    {
     "data": {
      "text/html": [
       "Synced <strong style=\"color:#cdcd00\">elated-sweep-12</strong>: <a href=\"https://wandb.ai/bub3690/SVD-hyp-sweep/runs/38d883ld\" target=\"_blank\">https://wandb.ai/bub3690/SVD-hyp-sweep/runs/38d883ld</a><br/>Synced 5 W&B file(s), 0 media file(s), 0 artifact file(s) and 0 other file(s)"
      ],
      "text/plain": [
       "<IPython.core.display.HTML object>"
      ]
     },
     "metadata": {},
     "output_type": "display_data"
    },
    {
     "data": {
      "text/html": [
       "Find logs at: <code>.\\wandb\\run-20220704_143012-38d883ld\\logs</code>"
      ],
      "text/plain": [
       "<IPython.core.display.HTML object>"
      ]
     },
     "metadata": {},
     "output_type": "display_data"
    },
    {
     "name": "stderr",
     "output_type": "stream",
     "text": [
      "\u001b[34m\u001b[1mwandb\u001b[0m: Agent Starting Run: fig6w8m5 with config:\n",
      "\u001b[34m\u001b[1mwandb\u001b[0m: \tbatch_size: 32\n",
      "\u001b[34m\u001b[1mwandb\u001b[0m: \tfold: 3\n",
      "\u001b[34m\u001b[1mwandb\u001b[0m: \u001b[33mWARNING\u001b[0m Ignored wandb.init() arg project when running a sweep.\n",
      "\u001b[34m\u001b[1mwandb\u001b[0m: \u001b[33mWARNING\u001b[0m Ignored wandb.init() arg entity when running a sweep.\n"
     ]
    },
    {
     "data": {
      "text/html": [
       "wandb version 0.12.20 is available!  To upgrade, please run:\n",
       " $ pip install wandb --upgrade"
      ],
      "text/plain": [
       "<IPython.core.display.HTML object>"
      ]
     },
     "metadata": {},
     "output_type": "display_data"
    },
    {
     "data": {
      "text/html": [
       "Tracking run with wandb version 0.12.16"
      ],
      "text/plain": [
       "<IPython.core.display.HTML object>"
      ]
     },
     "metadata": {},
     "output_type": "display_data"
    },
    {
     "data": {
      "text/html": [
       "Run data is saved locally in <code>D:\\project\\voice_pathology_ai\\model\\spectrogram\\ros\\wandb\\run-20220704_143157-fig6w8m5</code>"
      ],
      "text/plain": [
       "<IPython.core.display.HTML object>"
      ]
     },
     "metadata": {},
     "output_type": "display_data"
    },
    {
     "data": {
      "text/html": [
       "Syncing run <strong><a href=\"https://wandb.ai/bub3690/SVD-hyp-sweep/runs/fig6w8m5\" target=\"_blank\">swift-sweep-13</a></strong> to <a href=\"https://wandb.ai/bub3690/SVD-hyp-sweep\" target=\"_blank\">Weights & Biases</a> (<a href=\"https://wandb.me/run\" target=\"_blank\">docs</a>)<br/>Sweep page:  <a href=\"https://wandb.ai/bub3690/SVD-hyp-sweep/sweeps/j9mfv8ql\" target=\"_blank\">https://wandb.ai/bub3690/SVD-hyp-sweep/sweeps/j9mfv8ql</a>"
      ],
      "text/plain": [
       "<IPython.core.display.HTML object>"
      ]
     },
     "metadata": {},
     "output_type": "display_data"
    },
    {
     "name": "stdout",
     "output_type": "stream",
     "text": [
      "../../checkpoint/checkpoint_melspectro_resnet18_true_ros_3_organics.pt\n",
      "config: {'sample_rate': 16000, 'n_fft': 1024, 'n_mels': 128, 'hop_length': 100, 'win_length': 400, 'f_max': 80000, 'batch_size': 32, 'fold': 3}\n",
      "[3 교차검증] 학습 시작\n",
      " ----- \n",
      "\n",
      "[EPOCH:1]\t Train Loss:0.0204\t Train Acc:63.95 %  | \tValid Loss:0.0179 \tValid Acc: 82.74 %\n",
      "\n",
      "Validation loss decreased (inf --> 0.017926).  Saving model ...\n",
      "\n",
      "[EPOCH:2]\t Train Loss:0.0164\t Train Acc:76.91 %  | \tValid Loss:0.0158 \tValid Acc: 83.76 %\n",
      "\n",
      "Validation loss decreased (0.017926 --> 0.015801).  Saving model ...\n",
      "\n",
      "[EPOCH:3]\t Train Loss:0.0145\t Train Acc:80.74 %  | \tValid Loss:0.0140 \tValid Acc: 83.76 %\n",
      "\n",
      "Validation loss decreased (0.015801 --> 0.014041).  Saving model ...\n",
      "\n",
      "[EPOCH:4]\t Train Loss:0.0127\t Train Acc:87.04 %  | \tValid Loss:0.0140 \tValid Acc: 84.26 %\n",
      "\n",
      "Validation loss decreased (0.014041 --> 0.013979).  Saving model ...\n",
      "\n",
      "[EPOCH:5]\t Train Loss:0.0110\t Train Acc:90.49 %  | \tValid Loss:0.0130 \tValid Acc: 87.31 %\n",
      "\n",
      "Validation loss decreased (0.013979 --> 0.012957).  Saving model ...\n",
      "\n",
      "[EPOCH:6]\t Train Loss:0.0094\t Train Acc:95.43 %  | \tValid Loss:0.0125 \tValid Acc: 85.28 %\n",
      "\n",
      "Validation loss decreased (0.012957 --> 0.012535).  Saving model ...\n",
      "\n",
      "[EPOCH:7]\t Train Loss:0.0077\t Train Acc:97.16 %  | \tValid Loss:0.0135 \tValid Acc: 87.31 %\n",
      "\n",
      "EarlyStopping counter: 1 out of 5\n",
      "\n",
      "[EPOCH:8]\t Train Loss:0.0072\t Train Acc:98.27 %  | \tValid Loss:0.0118 \tValid Acc: 86.29 %\n",
      "\n",
      "Validation loss decreased (0.012535 --> 0.011783).  Saving model ...\n",
      "\n",
      "[EPOCH:9]\t Train Loss:0.0066\t Train Acc:99.14 %  | \tValid Loss:0.0111 \tValid Acc: 85.28 %\n",
      "\n",
      "Validation loss decreased (0.011783 --> 0.011149).  Saving model ...\n",
      "\n",
      "[EPOCH:10]\t Train Loss:0.0060\t Train Acc:97.90 %  | \tValid Loss:0.0121 \tValid Acc: 82.74 %\n",
      "\n",
      "EarlyStopping counter: 1 out of 5\n",
      "\n",
      "[EPOCH:11]\t Train Loss:0.0054\t Train Acc:98.52 %  | \tValid Loss:0.0116 \tValid Acc: 86.80 %\n",
      "\n",
      "EarlyStopping counter: 2 out of 5\n",
      "\n",
      "[EPOCH:12]\t Train Loss:0.0055\t Train Acc:98.89 %  | \tValid Loss:0.0111 \tValid Acc: 85.79 %\n",
      "\n",
      "Validation loss decreased (0.011149 --> 0.011127).  Saving model ...\n",
      "\n",
      "[EPOCH:13]\t Train Loss:0.0044\t Train Acc:99.63 %  | \tValid Loss:0.0106 \tValid Acc: 85.79 %\n",
      "\n",
      "Validation loss decreased (0.011127 --> 0.010622).  Saving model ...\n",
      "\n",
      "[EPOCH:14]\t Train Loss:0.0043\t Train Acc:99.38 %  | \tValid Loss:0.0120 \tValid Acc: 85.79 %\n",
      "\n",
      "EarlyStopping counter: 1 out of 5\n",
      "\n",
      "[EPOCH:15]\t Train Loss:0.0036\t Train Acc:99.88 %  | \tValid Loss:0.0116 \tValid Acc: 84.26 %\n",
      "\n",
      "EarlyStopping counter: 2 out of 5\n",
      "\n",
      "[EPOCH:16]\t Train Loss:0.0032\t Train Acc:100.00 %  | \tValid Loss:0.0112 \tValid Acc: 85.79 %\n",
      "\n",
      "EarlyStopping counter: 3 out of 5\n",
      "\n",
      "[EPOCH:17]\t Train Loss:0.0030\t Train Acc:99.88 %  | \tValid Loss:0.0128 \tValid Acc: 85.79 %\n",
      "\n",
      "EarlyStopping counter: 4 out of 5\n",
      "\n",
      "[EPOCH:18]\t Train Loss:0.0028\t Train Acc:100.00 %  | \tValid Loss:0.0106 \tValid Acc: 85.28 %\n",
      "\n",
      "EarlyStopping counter: 5 out of 5\n",
      "[3 교차검증] Early stopping\n"
     ]
    },
    {
     "data": {
      "text/html": [
       "Waiting for W&B process to finish... <strong style=\"color:green\">(success).</strong>"
      ],
      "text/plain": [
       "<IPython.core.display.HTML object>"
      ]
     },
     "metadata": {},
     "output_type": "display_data"
    },
    {
     "data": {
      "application/vnd.jupyter.widget-view+json": {
       "model_id": "",
       "version_major": 2,
       "version_minor": 0
      },
      "text/plain": [
       "VBox(children=(Label(value='0.001 MB of 0.001 MB uploaded (0.000 MB deduped)\\r'), FloatProgress(value=1.0, max…"
      ]
     },
     "metadata": {},
     "output_type": "display_data"
    },
    {
     "data": {
      "text/html": [
       "<style>\n",
       "    table.wandb td:nth-child(1) { padding: 0 10px; text-align: left ; width: auto;} td:nth-child(2) {text-align: left ; width: 100%}\n",
       "    .wandb-row { display: flex; flex-direction: row; flex-wrap: wrap; justify-content: flex-start; width: 100% }\n",
       "    .wandb-col { display: flex; flex-direction: column; flex-basis: 100%; flex: 1; padding: 10px; }\n",
       "    </style>\n",
       "<div class=\"wandb-row\"><div class=\"wandb-col\"><h3>Run history:</h3><br/><table class=\"wandb\"><tr><td>Valid/Accuracy</td><td>▁▃▃▃█▅▅▆▅▅▅▆▆▆▆▆▆▆</td></tr><tr><td>Valid/Loss</td><td>█▆▄▄▃▃▃▂▂▂▂▁▁▁▁▁▁▁</td></tr></table><br/></div><div class=\"wandb-col\"><h3>Run summary:</h3><br/><table class=\"wandb\"><tr><td>Valid/Accuracy</td><td>85.7868</td></tr><tr><td>Valid/Loss</td><td>0.01062</td></tr></table><br/></div></div>"
      ],
      "text/plain": [
       "<IPython.core.display.HTML object>"
      ]
     },
     "metadata": {},
     "output_type": "display_data"
    },
    {
     "data": {
      "text/html": [
       "Synced <strong style=\"color:#cdcd00\">swift-sweep-13</strong>: <a href=\"https://wandb.ai/bub3690/SVD-hyp-sweep/runs/fig6w8m5\" target=\"_blank\">https://wandb.ai/bub3690/SVD-hyp-sweep/runs/fig6w8m5</a><br/>Synced 5 W&B file(s), 0 media file(s), 0 artifact file(s) and 0 other file(s)"
      ],
      "text/plain": [
       "<IPython.core.display.HTML object>"
      ]
     },
     "metadata": {},
     "output_type": "display_data"
    },
    {
     "data": {
      "text/html": [
       "Find logs at: <code>.\\wandb\\run-20220704_143157-fig6w8m5\\logs</code>"
      ],
      "text/plain": [
       "<IPython.core.display.HTML object>"
      ]
     },
     "metadata": {},
     "output_type": "display_data"
    },
    {
     "name": "stderr",
     "output_type": "stream",
     "text": [
      "\u001b[34m\u001b[1mwandb\u001b[0m: Agent Starting Run: 4xda13lx with config:\n",
      "\u001b[34m\u001b[1mwandb\u001b[0m: \tbatch_size: 32\n",
      "\u001b[34m\u001b[1mwandb\u001b[0m: \tfold: 4\n",
      "\u001b[34m\u001b[1mwandb\u001b[0m: \u001b[33mWARNING\u001b[0m Ignored wandb.init() arg project when running a sweep.\n",
      "\u001b[34m\u001b[1mwandb\u001b[0m: \u001b[33mWARNING\u001b[0m Ignored wandb.init() arg entity when running a sweep.\n"
     ]
    },
    {
     "data": {
      "text/html": [
       "wandb version 0.12.20 is available!  To upgrade, please run:\n",
       " $ pip install wandb --upgrade"
      ],
      "text/plain": [
       "<IPython.core.display.HTML object>"
      ]
     },
     "metadata": {},
     "output_type": "display_data"
    },
    {
     "data": {
      "text/html": [
       "Tracking run with wandb version 0.12.16"
      ],
      "text/plain": [
       "<IPython.core.display.HTML object>"
      ]
     },
     "metadata": {},
     "output_type": "display_data"
    },
    {
     "data": {
      "text/html": [
       "Run data is saved locally in <code>D:\\project\\voice_pathology_ai\\model\\spectrogram\\ros\\wandb\\run-20220704_143357-4xda13lx</code>"
      ],
      "text/plain": [
       "<IPython.core.display.HTML object>"
      ]
     },
     "metadata": {},
     "output_type": "display_data"
    },
    {
     "data": {
      "text/html": [
       "Syncing run <strong><a href=\"https://wandb.ai/bub3690/SVD-hyp-sweep/runs/4xda13lx\" target=\"_blank\">hopeful-sweep-14</a></strong> to <a href=\"https://wandb.ai/bub3690/SVD-hyp-sweep\" target=\"_blank\">Weights & Biases</a> (<a href=\"https://wandb.me/run\" target=\"_blank\">docs</a>)<br/>Sweep page:  <a href=\"https://wandb.ai/bub3690/SVD-hyp-sweep/sweeps/j9mfv8ql\" target=\"_blank\">https://wandb.ai/bub3690/SVD-hyp-sweep/sweeps/j9mfv8ql</a>"
      ],
      "text/plain": [
       "<IPython.core.display.HTML object>"
      ]
     },
     "metadata": {},
     "output_type": "display_data"
    },
    {
     "name": "stdout",
     "output_type": "stream",
     "text": [
      "../../checkpoint/checkpoint_melspectro_resnet18_true_ros_4_organics.pt\n",
      "config: {'sample_rate': 16000, 'n_fft': 1024, 'n_mels': 128, 'hop_length': 100, 'win_length': 400, 'f_max': 80000, 'batch_size': 32, 'fold': 4}\n",
      "[4 교차검증] 학습 시작\n",
      " ----- \n",
      "\n",
      "[EPOCH:1]\t Train Loss:0.0200\t Train Acc:64.07 %  | \tValid Loss:0.0198 \tValid Acc: 74.62 %\n",
      "\n",
      "Validation loss decreased (inf --> 0.019758).  Saving model ...\n",
      "\n",
      "[EPOCH:2]\t Train Loss:0.0156\t Train Acc:78.52 %  | \tValid Loss:0.0180 \tValid Acc: 81.73 %\n",
      "\n",
      "Validation loss decreased (0.019758 --> 0.017994).  Saving model ...\n",
      "\n",
      "[EPOCH:3]\t Train Loss:0.0135\t Train Acc:83.33 %  | \tValid Loss:0.0143 \tValid Acc: 86.29 %\n",
      "\n",
      "Validation loss decreased (0.017994 --> 0.014335).  Saving model ...\n",
      "\n",
      "[EPOCH:4]\t Train Loss:0.0121\t Train Acc:89.63 %  | \tValid Loss:0.0172 \tValid Acc: 82.23 %\n",
      "\n",
      "EarlyStopping counter: 1 out of 5\n",
      "\n",
      "[EPOCH:5]\t Train Loss:0.0111\t Train Acc:92.10 %  | \tValid Loss:0.0142 \tValid Acc: 88.83 %\n",
      "\n",
      "Validation loss decreased (0.014335 --> 0.014197).  Saving model ...\n",
      "\n",
      "[EPOCH:6]\t Train Loss:0.0093\t Train Acc:95.19 %  | \tValid Loss:0.0126 \tValid Acc: 85.79 %\n",
      "\n",
      "Validation loss decreased (0.014197 --> 0.012553).  Saving model ...\n",
      "\n",
      "[EPOCH:7]\t Train Loss:0.0076\t Train Acc:98.02 %  | \tValid Loss:0.0130 \tValid Acc: 86.29 %\n",
      "\n",
      "EarlyStopping counter: 1 out of 5\n",
      "\n",
      "[EPOCH:8]\t Train Loss:0.0069\t Train Acc:99.14 %  | \tValid Loss:0.0144 \tValid Acc: 85.28 %\n",
      "\n",
      "EarlyStopping counter: 2 out of 5\n",
      "\n",
      "[EPOCH:9]\t Train Loss:0.0062\t Train Acc:99.75 %  | \tValid Loss:0.0117 \tValid Acc: 86.80 %\n",
      "\n",
      "Validation loss decreased (0.012553 --> 0.011741).  Saving model ...\n",
      "\n",
      "[EPOCH:10]\t Train Loss:0.0053\t Train Acc:99.63 %  | \tValid Loss:0.0127 \tValid Acc: 84.77 %\n",
      "\n",
      "EarlyStopping counter: 1 out of 5\n",
      "\n",
      "[EPOCH:11]\t Train Loss:0.0050\t Train Acc:99.51 %  | \tValid Loss:0.0137 \tValid Acc: 87.82 %\n",
      "\n",
      "EarlyStopping counter: 2 out of 5\n",
      "\n",
      "[EPOCH:12]\t Train Loss:0.0044\t Train Acc:100.00 %  | \tValid Loss:0.0130 \tValid Acc: 86.80 %\n",
      "\n",
      "EarlyStopping counter: 3 out of 5\n",
      "\n",
      "[EPOCH:13]\t Train Loss:0.0037\t Train Acc:100.00 %  | \tValid Loss:0.0116 \tValid Acc: 86.29 %\n",
      "\n",
      "Validation loss decreased (0.011741 --> 0.011578).  Saving model ...\n",
      "\n",
      "[EPOCH:14]\t Train Loss:0.0038\t Train Acc:99.75 %  | \tValid Loss:0.0124 \tValid Acc: 89.34 %\n",
      "\n",
      "EarlyStopping counter: 1 out of 5\n",
      "\n",
      "[EPOCH:15]\t Train Loss:0.0033\t Train Acc:100.00 %  | \tValid Loss:0.0142 \tValid Acc: 84.77 %\n",
      "\n",
      "EarlyStopping counter: 2 out of 5\n",
      "\n",
      "[EPOCH:16]\t Train Loss:0.0032\t Train Acc:99.88 %  | \tValid Loss:0.0127 \tValid Acc: 84.77 %\n",
      "\n",
      "EarlyStopping counter: 3 out of 5\n",
      "\n",
      "[EPOCH:17]\t Train Loss:0.0029\t Train Acc:100.00 %  | \tValid Loss:0.0122 \tValid Acc: 86.80 %\n",
      "\n",
      "EarlyStopping counter: 4 out of 5\n",
      "\n",
      "[EPOCH:18]\t Train Loss:0.0028\t Train Acc:99.63 %  | \tValid Loss:0.0148 \tValid Acc: 80.20 %\n",
      "\n",
      "EarlyStopping counter: 5 out of 5\n",
      "[4 교차검증] Early stopping\n"
     ]
    },
    {
     "data": {
      "text/html": [
       "Waiting for W&B process to finish... <strong style=\"color:green\">(success).</strong>"
      ],
      "text/plain": [
       "<IPython.core.display.HTML object>"
      ]
     },
     "metadata": {},
     "output_type": "display_data"
    },
    {
     "data": {
      "application/vnd.jupyter.widget-view+json": {
       "model_id": "",
       "version_major": 2,
       "version_minor": 0
      },
      "text/plain": [
       "VBox(children=(Label(value='0.001 MB of 0.001 MB uploaded (0.000 MB deduped)\\r'), FloatProgress(value=1.0, max…"
      ]
     },
     "metadata": {},
     "output_type": "display_data"
    },
    {
     "data": {
      "text/html": [
       "<style>\n",
       "    table.wandb td:nth-child(1) { padding: 0 10px; text-align: left ; width: auto;} td:nth-child(2) {text-align: left ; width: 100%}\n",
       "    .wandb-row { display: flex; flex-direction: row; flex-wrap: wrap; justify-content: flex-start; width: 100% }\n",
       "    .wandb-col { display: flex; flex-direction: column; flex-basis: 100%; flex: 1; padding: 10px; }\n",
       "    </style>\n",
       "<div class=\"wandb-row\"><div class=\"wandb-col\"><h3>Run history:</h3><br/><table class=\"wandb\"><tr><td>Valid/Accuracy</td><td>▁▅▇▇█▇▇▇▇▇▇▇▇▇▇▇▇▇</td></tr><tr><td>Valid/Loss</td><td>█▆▃▃▃▂▂▂▁▁▁▁▁▁▁▁▁▁</td></tr></table><br/></div><div class=\"wandb-col\"><h3>Run summary:</h3><br/><table class=\"wandb\"><tr><td>Valid/Accuracy</td><td>86.29442</td></tr><tr><td>Valid/Loss</td><td>0.01158</td></tr></table><br/></div></div>"
      ],
      "text/plain": [
       "<IPython.core.display.HTML object>"
      ]
     },
     "metadata": {},
     "output_type": "display_data"
    },
    {
     "data": {
      "text/html": [
       "Synced <strong style=\"color:#cdcd00\">hopeful-sweep-14</strong>: <a href=\"https://wandb.ai/bub3690/SVD-hyp-sweep/runs/4xda13lx\" target=\"_blank\">https://wandb.ai/bub3690/SVD-hyp-sweep/runs/4xda13lx</a><br/>Synced 5 W&B file(s), 0 media file(s), 0 artifact file(s) and 0 other file(s)"
      ],
      "text/plain": [
       "<IPython.core.display.HTML object>"
      ]
     },
     "metadata": {},
     "output_type": "display_data"
    },
    {
     "data": {
      "text/html": [
       "Find logs at: <code>.\\wandb\\run-20220704_143357-4xda13lx\\logs</code>"
      ],
      "text/plain": [
       "<IPython.core.display.HTML object>"
      ]
     },
     "metadata": {},
     "output_type": "display_data"
    },
    {
     "name": "stderr",
     "output_type": "stream",
     "text": [
      "\u001b[34m\u001b[1mwandb\u001b[0m: Agent Starting Run: pz8222zp with config:\n",
      "\u001b[34m\u001b[1mwandb\u001b[0m: \tbatch_size: 32\n",
      "\u001b[34m\u001b[1mwandb\u001b[0m: \tfold: 5\n",
      "\u001b[34m\u001b[1mwandb\u001b[0m: \u001b[33mWARNING\u001b[0m Ignored wandb.init() arg project when running a sweep.\n",
      "\u001b[34m\u001b[1mwandb\u001b[0m: \u001b[33mWARNING\u001b[0m Ignored wandb.init() arg entity when running a sweep.\n"
     ]
    },
    {
     "data": {
      "text/html": [
       "wandb version 0.12.20 is available!  To upgrade, please run:\n",
       " $ pip install wandb --upgrade"
      ],
      "text/plain": [
       "<IPython.core.display.HTML object>"
      ]
     },
     "metadata": {},
     "output_type": "display_data"
    },
    {
     "data": {
      "text/html": [
       "Tracking run with wandb version 0.12.16"
      ],
      "text/plain": [
       "<IPython.core.display.HTML object>"
      ]
     },
     "metadata": {},
     "output_type": "display_data"
    },
    {
     "data": {
      "text/html": [
       "Run data is saved locally in <code>D:\\project\\voice_pathology_ai\\model\\spectrogram\\ros\\wandb\\run-20220704_143553-pz8222zp</code>"
      ],
      "text/plain": [
       "<IPython.core.display.HTML object>"
      ]
     },
     "metadata": {},
     "output_type": "display_data"
    },
    {
     "data": {
      "text/html": [
       "Syncing run <strong><a href=\"https://wandb.ai/bub3690/SVD-hyp-sweep/runs/pz8222zp\" target=\"_blank\">hopeful-sweep-15</a></strong> to <a href=\"https://wandb.ai/bub3690/SVD-hyp-sweep\" target=\"_blank\">Weights & Biases</a> (<a href=\"https://wandb.me/run\" target=\"_blank\">docs</a>)<br/>Sweep page:  <a href=\"https://wandb.ai/bub3690/SVD-hyp-sweep/sweeps/j9mfv8ql\" target=\"_blank\">https://wandb.ai/bub3690/SVD-hyp-sweep/sweeps/j9mfv8ql</a>"
      ],
      "text/plain": [
       "<IPython.core.display.HTML object>"
      ]
     },
     "metadata": {},
     "output_type": "display_data"
    },
    {
     "name": "stdout",
     "output_type": "stream",
     "text": [
      "../../checkpoint/checkpoint_melspectro_resnet18_true_ros_5_organics.pt\n",
      "config: {'sample_rate': 16000, 'n_fft': 1024, 'n_mels': 128, 'hop_length': 100, 'win_length': 400, 'f_max': 80000, 'batch_size': 32, 'fold': 5}\n",
      "[5 교차검증] 학습 시작\n",
      " ----- \n",
      "\n",
      "[EPOCH:1]\t Train Loss:0.0210\t Train Acc:61.21 %  | \tValid Loss:0.0200 \tValid Acc: 78.06 %\n",
      "\n",
      "Validation loss decreased (inf --> 0.019982).  Saving model ...\n",
      "\n",
      "[EPOCH:2]\t Train Loss:0.0171\t Train Acc:73.52 %  | \tValid Loss:0.0175 \tValid Acc: 79.08 %\n",
      "\n",
      "Validation loss decreased (0.019982 --> 0.017537).  Saving model ...\n",
      "\n",
      "[EPOCH:3]\t Train Loss:0.0145\t Train Acc:80.54 %  | \tValid Loss:0.0149 \tValid Acc: 89.29 %\n",
      "\n",
      "Validation loss decreased (0.017537 --> 0.014850).  Saving model ...\n",
      "\n",
      "[EPOCH:4]\t Train Loss:0.0125\t Train Acc:86.21 %  | \tValid Loss:0.0141 \tValid Acc: 85.71 %\n",
      "\n",
      "Validation loss decreased (0.014850 --> 0.014136).  Saving model ...\n",
      "\n",
      "[EPOCH:5]\t Train Loss:0.0114\t Train Acc:89.16 %  | \tValid Loss:0.0130 \tValid Acc: 89.80 %\n",
      "\n",
      "Validation loss decreased (0.014136 --> 0.013044).  Saving model ...\n",
      "\n",
      "[EPOCH:6]\t Train Loss:0.0096\t Train Acc:95.69 %  | \tValid Loss:0.0141 \tValid Acc: 83.16 %\n",
      "\n",
      "EarlyStopping counter: 1 out of 5\n",
      "\n",
      "[EPOCH:7]\t Train Loss:0.0082\t Train Acc:97.54 %  | \tValid Loss:0.0121 \tValid Acc: 86.73 %\n",
      "\n",
      "Validation loss decreased (0.013044 --> 0.012065).  Saving model ...\n",
      "\n",
      "[EPOCH:8]\t Train Loss:0.0074\t Train Acc:99.26 %  | \tValid Loss:0.0121 \tValid Acc: 89.29 %\n",
      "\n",
      "EarlyStopping counter: 1 out of 5\n",
      "\n",
      "[EPOCH:9]\t Train Loss:0.0066\t Train Acc:99.26 %  | \tValid Loss:0.0128 \tValid Acc: 89.29 %\n",
      "\n",
      "EarlyStopping counter: 2 out of 5\n",
      "\n",
      "[EPOCH:10]\t Train Loss:0.0057\t Train Acc:99.51 %  | \tValid Loss:0.0141 \tValid Acc: 84.69 %\n",
      "\n",
      "EarlyStopping counter: 3 out of 5\n",
      "\n",
      "[EPOCH:11]\t Train Loss:0.0053\t Train Acc:99.51 %  | \tValid Loss:0.0104 \tValid Acc: 87.24 %\n",
      "\n",
      "Validation loss decreased (0.012065 --> 0.010407).  Saving model ...\n",
      "\n",
      "[EPOCH:12]\t Train Loss:0.0048\t Train Acc:99.88 %  | \tValid Loss:0.0126 \tValid Acc: 89.80 %\n",
      "\n",
      "EarlyStopping counter: 1 out of 5\n",
      "\n",
      "[EPOCH:13]\t Train Loss:0.0045\t Train Acc:100.00 %  | \tValid Loss:0.0103 \tValid Acc: 90.82 %\n",
      "\n",
      "Validation loss decreased (0.010407 --> 0.010268).  Saving model ...\n",
      "\n",
      "[EPOCH:14]\t Train Loss:0.0041\t Train Acc:99.88 %  | \tValid Loss:0.0118 \tValid Acc: 90.31 %\n",
      "\n",
      "EarlyStopping counter: 1 out of 5\n",
      "\n",
      "[EPOCH:15]\t Train Loss:0.0037\t Train Acc:99.88 %  | \tValid Loss:0.0114 \tValid Acc: 88.27 %\n",
      "\n",
      "EarlyStopping counter: 2 out of 5\n",
      "\n",
      "[EPOCH:16]\t Train Loss:0.0037\t Train Acc:99.88 %  | \tValid Loss:0.0105 \tValid Acc: 88.78 %\n",
      "\n",
      "EarlyStopping counter: 3 out of 5\n",
      "\n",
      "[EPOCH:17]\t Train Loss:0.0030\t Train Acc:100.00 %  | \tValid Loss:0.0098 \tValid Acc: 88.27 %\n",
      "\n",
      "Validation loss decreased (0.010268 --> 0.009753).  Saving model ...\n",
      "\n",
      "[EPOCH:18]\t Train Loss:0.0032\t Train Acc:99.75 %  | \tValid Loss:0.0100 \tValid Acc: 89.29 %\n",
      "\n",
      "EarlyStopping counter: 1 out of 5\n",
      "\n",
      "[EPOCH:19]\t Train Loss:0.0027\t Train Acc:100.00 %  | \tValid Loss:0.0123 \tValid Acc: 87.76 %\n",
      "\n",
      "EarlyStopping counter: 2 out of 5\n",
      "\n",
      "[EPOCH:20]\t Train Loss:0.0025\t Train Acc:100.00 %  | \tValid Loss:0.0106 \tValid Acc: 88.78 %\n",
      "\n",
      "EarlyStopping counter: 3 out of 5\n",
      "\n",
      "[EPOCH:21]\t Train Loss:0.0025\t Train Acc:100.00 %  | \tValid Loss:0.0102 \tValid Acc: 90.31 %\n",
      "\n",
      "EarlyStopping counter: 4 out of 5\n",
      "\n",
      "[EPOCH:22]\t Train Loss:0.0023\t Train Acc:100.00 %  | \tValid Loss:0.0125 \tValid Acc: 87.76 %\n",
      "\n",
      "EarlyStopping counter: 5 out of 5\n",
      "[5 교차검증] Early stopping\n"
     ]
    },
    {
     "data": {
      "text/html": [
       "Waiting for W&B process to finish... <strong style=\"color:green\">(success).</strong>"
      ],
      "text/plain": [
       "<IPython.core.display.HTML object>"
      ]
     },
     "metadata": {},
     "output_type": "display_data"
    },
    {
     "data": {
      "application/vnd.jupyter.widget-view+json": {
       "model_id": "",
       "version_major": 2,
       "version_minor": 0
      },
      "text/plain": [
       "VBox(children=(Label(value='0.001 MB of 0.001 MB uploaded (0.000 MB deduped)\\r'), FloatProgress(value=1.0, max…"
      ]
     },
     "metadata": {},
     "output_type": "display_data"
    },
    {
     "data": {
      "text/html": [
       "<style>\n",
       "    table.wandb td:nth-child(1) { padding: 0 10px; text-align: left ; width: auto;} td:nth-child(2) {text-align: left ; width: 100%}\n",
       "    .wandb-row { display: flex; flex-direction: row; flex-wrap: wrap; justify-content: flex-start; width: 100% }\n",
       "    .wandb-col { display: flex; flex-direction: column; flex-basis: 100%; flex: 1; padding: 10px; }\n",
       "    </style>\n",
       "<div class=\"wandb-row\"><div class=\"wandb-col\"><h3>Run history:</h3><br/><table class=\"wandb\"><tr><td>Valid/Accuracy</td><td>▁▂▇▅▇▇▆▆▆▆▆▆████▇▇▇▇▇▇</td></tr><tr><td>Valid/Loss</td><td>█▆▄▄▃▃▃▃▃▃▁▁▁▁▁▁▁▁▁▁▁▁</td></tr></table><br/></div><div class=\"wandb-col\"><h3>Run summary:</h3><br/><table class=\"wandb\"><tr><td>Valid/Accuracy</td><td>88.26531</td></tr><tr><td>Valid/Loss</td><td>0.00975</td></tr></table><br/></div></div>"
      ],
      "text/plain": [
       "<IPython.core.display.HTML object>"
      ]
     },
     "metadata": {},
     "output_type": "display_data"
    },
    {
     "data": {
      "text/html": [
       "Synced <strong style=\"color:#cdcd00\">hopeful-sweep-15</strong>: <a href=\"https://wandb.ai/bub3690/SVD-hyp-sweep/runs/pz8222zp\" target=\"_blank\">https://wandb.ai/bub3690/SVD-hyp-sweep/runs/pz8222zp</a><br/>Synced 5 W&B file(s), 0 media file(s), 0 artifact file(s) and 0 other file(s)"
      ],
      "text/plain": [
       "<IPython.core.display.HTML object>"
      ]
     },
     "metadata": {},
     "output_type": "display_data"
    },
    {
     "data": {
      "text/html": [
       "Find logs at: <code>.\\wandb\\run-20220704_143553-pz8222zp\\logs</code>"
      ],
      "text/plain": [
       "<IPython.core.display.HTML object>"
      ]
     },
     "metadata": {},
     "output_type": "display_data"
    },
    {
     "name": "stderr",
     "output_type": "stream",
     "text": [
      "\u001b[34m\u001b[1mwandb\u001b[0m: Agent Starting Run: 73ugmxim with config:\n",
      "\u001b[34m\u001b[1mwandb\u001b[0m: \tbatch_size: 64\n",
      "\u001b[34m\u001b[1mwandb\u001b[0m: \tfold: 1\n",
      "\u001b[34m\u001b[1mwandb\u001b[0m: \u001b[33mWARNING\u001b[0m Ignored wandb.init() arg project when running a sweep.\n",
      "\u001b[34m\u001b[1mwandb\u001b[0m: \u001b[33mWARNING\u001b[0m Ignored wandb.init() arg entity when running a sweep.\n"
     ]
    },
    {
     "data": {
      "text/html": [
       "wandb version 0.12.20 is available!  To upgrade, please run:\n",
       " $ pip install wandb --upgrade"
      ],
      "text/plain": [
       "<IPython.core.display.HTML object>"
      ]
     },
     "metadata": {},
     "output_type": "display_data"
    },
    {
     "data": {
      "text/html": [
       "Tracking run with wandb version 0.12.16"
      ],
      "text/plain": [
       "<IPython.core.display.HTML object>"
      ]
     },
     "metadata": {},
     "output_type": "display_data"
    },
    {
     "data": {
      "text/html": [
       "Run data is saved locally in <code>D:\\project\\voice_pathology_ai\\model\\spectrogram\\ros\\wandb\\run-20220704_143814-73ugmxim</code>"
      ],
      "text/plain": [
       "<IPython.core.display.HTML object>"
      ]
     },
     "metadata": {},
     "output_type": "display_data"
    },
    {
     "data": {
      "text/html": [
       "Syncing run <strong><a href=\"https://wandb.ai/bub3690/SVD-hyp-sweep/runs/73ugmxim\" target=\"_blank\">prime-sweep-16</a></strong> to <a href=\"https://wandb.ai/bub3690/SVD-hyp-sweep\" target=\"_blank\">Weights & Biases</a> (<a href=\"https://wandb.me/run\" target=\"_blank\">docs</a>)<br/>Sweep page:  <a href=\"https://wandb.ai/bub3690/SVD-hyp-sweep/sweeps/j9mfv8ql\" target=\"_blank\">https://wandb.ai/bub3690/SVD-hyp-sweep/sweeps/j9mfv8ql</a>"
      ],
      "text/plain": [
       "<IPython.core.display.HTML object>"
      ]
     },
     "metadata": {},
     "output_type": "display_data"
    },
    {
     "name": "stdout",
     "output_type": "stream",
     "text": [
      "../../checkpoint/checkpoint_melspectro_resnet18_true_ros_1_organics.pt\n",
      "config: {'sample_rate': 16000, 'n_fft': 1024, 'n_mels': 128, 'hop_length': 100, 'win_length': 400, 'f_max': 80000, 'batch_size': 64, 'fold': 1}\n",
      "[1 교차검증] 학습 시작\n",
      " ----- \n",
      "\n",
      "[EPOCH:1]\t Train Loss:0.0101\t Train Acc:64.41 %  | \tValid Loss:0.0137 \tValid Acc: 63.96 %\n",
      "\n",
      "Validation loss decreased (inf --> 0.013728).  Saving model ...\n",
      "\n",
      "[EPOCH:2]\t Train Loss:0.0078\t Train Acc:78.45 %  | \tValid Loss:0.0106 \tValid Acc: 81.73 %\n",
      "\n",
      "Validation loss decreased (0.013728 --> 0.010576).  Saving model ...\n",
      "\n",
      "[EPOCH:3]\t Train Loss:0.0069\t Train Acc:84.98 %  | \tValid Loss:0.0100 \tValid Acc: 77.16 %\n",
      "\n",
      "Validation loss decreased (0.010576 --> 0.009990).  Saving model ...\n",
      "\n",
      "[EPOCH:4]\t Train Loss:0.0060\t Train Acc:89.53 %  | \tValid Loss:0.0085 \tValid Acc: 83.25 %\n",
      "\n",
      "Validation loss decreased (0.009990 --> 0.008521).  Saving model ...\n",
      "\n",
      "[EPOCH:5]\t Train Loss:0.0053\t Train Acc:92.61 %  | \tValid Loss:0.0083 \tValid Acc: 85.28 %\n",
      "\n",
      "Validation loss decreased (0.008521 --> 0.008274).  Saving model ...\n",
      "\n",
      "[EPOCH:6]\t Train Loss:0.0049\t Train Acc:94.83 %  | \tValid Loss:0.0084 \tValid Acc: 86.80 %\n",
      "\n",
      "EarlyStopping counter: 1 out of 5\n",
      "\n",
      "[EPOCH:7]\t Train Loss:0.0043\t Train Acc:98.15 %  | \tValid Loss:0.0081 \tValid Acc: 83.25 %\n",
      "\n",
      "Validation loss decreased (0.008274 --> 0.008080).  Saving model ...\n",
      "\n",
      "[EPOCH:8]\t Train Loss:0.0039\t Train Acc:98.52 %  | \tValid Loss:0.0073 \tValid Acc: 86.80 %\n",
      "\n",
      "Validation loss decreased (0.008080 --> 0.007260).  Saving model ...\n",
      "\n",
      "[EPOCH:9]\t Train Loss:0.0035\t Train Acc:99.38 %  | \tValid Loss:0.0083 \tValid Acc: 85.79 %\n",
      "\n",
      "EarlyStopping counter: 1 out of 5\n",
      "\n",
      "[EPOCH:10]\t Train Loss:0.0031\t Train Acc:99.88 %  | \tValid Loss:0.0074 \tValid Acc: 82.74 %\n",
      "\n",
      "EarlyStopping counter: 2 out of 5\n",
      "\n",
      "[EPOCH:11]\t Train Loss:0.0030\t Train Acc:99.63 %  | \tValid Loss:0.0086 \tValid Acc: 83.76 %\n",
      "\n",
      "EarlyStopping counter: 3 out of 5\n",
      "\n",
      "[EPOCH:12]\t Train Loss:0.0027\t Train Acc:100.00 %  | \tValid Loss:0.0074 \tValid Acc: 85.28 %\n",
      "\n",
      "EarlyStopping counter: 4 out of 5\n",
      "\n",
      "[EPOCH:13]\t Train Loss:0.0026\t Train Acc:100.00 %  | \tValid Loss:0.0071 \tValid Acc: 86.29 %\n",
      "\n",
      "Validation loss decreased (0.007260 --> 0.007123).  Saving model ...\n",
      "\n",
      "[EPOCH:14]\t Train Loss:0.0025\t Train Acc:100.00 %  | \tValid Loss:0.0070 \tValid Acc: 86.80 %\n",
      "\n",
      "Validation loss decreased (0.007123 --> 0.006960).  Saving model ...\n",
      "\n",
      "[EPOCH:15]\t Train Loss:0.0022\t Train Acc:99.88 %  | \tValid Loss:0.0077 \tValid Acc: 83.76 %\n",
      "\n",
      "EarlyStopping counter: 1 out of 5\n",
      "\n",
      "[EPOCH:16]\t Train Loss:0.0022\t Train Acc:100.00 %  | \tValid Loss:0.0071 \tValid Acc: 82.23 %\n",
      "\n",
      "EarlyStopping counter: 2 out of 5\n",
      "\n",
      "[EPOCH:17]\t Train Loss:0.0020\t Train Acc:100.00 %  | \tValid Loss:0.0086 \tValid Acc: 84.77 %\n",
      "\n",
      "EarlyStopping counter: 3 out of 5\n",
      "\n",
      "[EPOCH:18]\t Train Loss:0.0019\t Train Acc:100.00 %  | \tValid Loss:0.0092 \tValid Acc: 86.29 %\n",
      "\n",
      "EarlyStopping counter: 4 out of 5\n",
      "\n",
      "[EPOCH:19]\t Train Loss:0.0019\t Train Acc:100.00 %  | \tValid Loss:0.0076 \tValid Acc: 86.80 %\n",
      "\n",
      "EarlyStopping counter: 5 out of 5\n",
      "[1 교차검증] Early stopping\n"
     ]
    },
    {
     "data": {
      "text/html": [
       "Waiting for W&B process to finish... <strong style=\"color:green\">(success).</strong>"
      ],
      "text/plain": [
       "<IPython.core.display.HTML object>"
      ]
     },
     "metadata": {},
     "output_type": "display_data"
    },
    {
     "data": {
      "application/vnd.jupyter.widget-view+json": {
       "model_id": "",
       "version_major": 2,
       "version_minor": 0
      },
      "text/plain": [
       "VBox(children=(Label(value='0.001 MB of 0.001 MB uploaded (0.000 MB deduped)\\r'), FloatProgress(value=1.0, max…"
      ]
     },
     "metadata": {},
     "output_type": "display_data"
    },
    {
     "data": {
      "text/html": [
       "<style>\n",
       "    table.wandb td:nth-child(1) { padding: 0 10px; text-align: left ; width: auto;} td:nth-child(2) {text-align: left ; width: 100%}\n",
       "    .wandb-row { display: flex; flex-direction: row; flex-wrap: wrap; justify-content: flex-start; width: 100% }\n",
       "    .wandb-col { display: flex; flex-direction: column; flex-basis: 100%; flex: 1; padding: 10px; }\n",
       "    </style>\n",
       "<div class=\"wandb-row\"><div class=\"wandb-col\"><h3>Run history:</h3><br/><table class=\"wandb\"><tr><td>Valid/Accuracy</td><td>▁▆▅▇██▇████████████</td></tr><tr><td>Valid/Loss</td><td>█▅▄▃▂▂▂▁▁▁▁▁▁▁▁▁▁▁▁</td></tr></table><br/></div><div class=\"wandb-col\"><h3>Run summary:</h3><br/><table class=\"wandb\"><tr><td>Valid/Accuracy</td><td>86.80203</td></tr><tr><td>Valid/Loss</td><td>0.00696</td></tr></table><br/></div></div>"
      ],
      "text/plain": [
       "<IPython.core.display.HTML object>"
      ]
     },
     "metadata": {},
     "output_type": "display_data"
    },
    {
     "data": {
      "text/html": [
       "Synced <strong style=\"color:#cdcd00\">prime-sweep-16</strong>: <a href=\"https://wandb.ai/bub3690/SVD-hyp-sweep/runs/73ugmxim\" target=\"_blank\">https://wandb.ai/bub3690/SVD-hyp-sweep/runs/73ugmxim</a><br/>Synced 5 W&B file(s), 0 media file(s), 0 artifact file(s) and 0 other file(s)"
      ],
      "text/plain": [
       "<IPython.core.display.HTML object>"
      ]
     },
     "metadata": {},
     "output_type": "display_data"
    },
    {
     "data": {
      "text/html": [
       "Find logs at: <code>.\\wandb\\run-20220704_143814-73ugmxim\\logs</code>"
      ],
      "text/plain": [
       "<IPython.core.display.HTML object>"
      ]
     },
     "metadata": {},
     "output_type": "display_data"
    },
    {
     "name": "stderr",
     "output_type": "stream",
     "text": [
      "\u001b[34m\u001b[1mwandb\u001b[0m: Agent Starting Run: m3pc3p4f with config:\n",
      "\u001b[34m\u001b[1mwandb\u001b[0m: \tbatch_size: 64\n",
      "\u001b[34m\u001b[1mwandb\u001b[0m: \tfold: 2\n",
      "\u001b[34m\u001b[1mwandb\u001b[0m: \u001b[33mWARNING\u001b[0m Ignored wandb.init() arg project when running a sweep.\n",
      "\u001b[34m\u001b[1mwandb\u001b[0m: \u001b[33mWARNING\u001b[0m Ignored wandb.init() arg entity when running a sweep.\n"
     ]
    },
    {
     "data": {
      "text/html": [
       "wandb version 0.12.20 is available!  To upgrade, please run:\n",
       " $ pip install wandb --upgrade"
      ],
      "text/plain": [
       "<IPython.core.display.HTML object>"
      ]
     },
     "metadata": {},
     "output_type": "display_data"
    },
    {
     "data": {
      "text/html": [
       "Tracking run with wandb version 0.12.16"
      ],
      "text/plain": [
       "<IPython.core.display.HTML object>"
      ]
     },
     "metadata": {},
     "output_type": "display_data"
    },
    {
     "data": {
      "text/html": [
       "Run data is saved locally in <code>D:\\project\\voice_pathology_ai\\model\\spectrogram\\ros\\wandb\\run-20220704_144020-m3pc3p4f</code>"
      ],
      "text/plain": [
       "<IPython.core.display.HTML object>"
      ]
     },
     "metadata": {},
     "output_type": "display_data"
    },
    {
     "data": {
      "text/html": [
       "Syncing run <strong><a href=\"https://wandb.ai/bub3690/SVD-hyp-sweep/runs/m3pc3p4f\" target=\"_blank\">lilac-sweep-17</a></strong> to <a href=\"https://wandb.ai/bub3690/SVD-hyp-sweep\" target=\"_blank\">Weights & Biases</a> (<a href=\"https://wandb.me/run\" target=\"_blank\">docs</a>)<br/>Sweep page:  <a href=\"https://wandb.ai/bub3690/SVD-hyp-sweep/sweeps/j9mfv8ql\" target=\"_blank\">https://wandb.ai/bub3690/SVD-hyp-sweep/sweeps/j9mfv8ql</a>"
      ],
      "text/plain": [
       "<IPython.core.display.HTML object>"
      ]
     },
     "metadata": {},
     "output_type": "display_data"
    },
    {
     "name": "stdout",
     "output_type": "stream",
     "text": [
      "../../checkpoint/checkpoint_melspectro_resnet18_true_ros_2_organics.pt\n",
      "config: {'sample_rate': 16000, 'n_fft': 1024, 'n_mels': 128, 'hop_length': 100, 'win_length': 400, 'f_max': 80000, 'batch_size': 64, 'fold': 2}\n",
      "[2 교차검증] 학습 시작\n",
      " ----- \n",
      "\n",
      "[EPOCH:1]\t Train Loss:0.0110\t Train Acc:57.14 %  | \tValid Loss:0.0148 \tValid Acc: 48.73 %\n",
      "\n",
      "Validation loss decreased (inf --> 0.014796).  Saving model ...\n",
      "\n",
      "[EPOCH:2]\t Train Loss:0.0086\t Train Acc:72.41 %  | \tValid Loss:0.0104 \tValid Acc: 80.71 %\n",
      "\n",
      "Validation loss decreased (0.014796 --> 0.010444).  Saving model ...\n",
      "\n",
      "[EPOCH:3]\t Train Loss:0.0076\t Train Acc:79.06 %  | \tValid Loss:0.0092 \tValid Acc: 83.76 %\n",
      "\n",
      "Validation loss decreased (0.010444 --> 0.009157).  Saving model ...\n",
      "\n",
      "[EPOCH:4]\t Train Loss:0.0067\t Train Acc:85.47 %  | \tValid Loss:0.0104 \tValid Acc: 79.19 %\n",
      "\n",
      "EarlyStopping counter: 1 out of 5\n",
      "\n",
      "[EPOCH:5]\t Train Loss:0.0064\t Train Acc:87.56 %  | \tValid Loss:0.0090 \tValid Acc: 81.73 %\n",
      "\n",
      "Validation loss decreased (0.009157 --> 0.009044).  Saving model ...\n",
      "\n",
      "[EPOCH:6]\t Train Loss:0.0058\t Train Acc:91.13 %  | \tValid Loss:0.0085 \tValid Acc: 83.25 %\n",
      "\n",
      "Validation loss decreased (0.009044 --> 0.008505).  Saving model ...\n",
      "\n",
      "[EPOCH:7]\t Train Loss:0.0050\t Train Acc:95.69 %  | \tValid Loss:0.0082 \tValid Acc: 86.80 %\n",
      "\n",
      "Validation loss decreased (0.008505 --> 0.008202).  Saving model ...\n",
      "\n",
      "[EPOCH:8]\t Train Loss:0.0046\t Train Acc:96.67 %  | \tValid Loss:0.0090 \tValid Acc: 86.29 %\n",
      "\n",
      "EarlyStopping counter: 1 out of 5\n",
      "\n",
      "[EPOCH:9]\t Train Loss:0.0043\t Train Acc:98.03 %  | \tValid Loss:0.0097 \tValid Acc: 80.71 %\n",
      "\n",
      "EarlyStopping counter: 2 out of 5\n",
      "\n",
      "[EPOCH:10]\t Train Loss:0.0037\t Train Acc:99.14 %  | \tValid Loss:0.0085 \tValid Acc: 84.26 %\n",
      "\n",
      "EarlyStopping counter: 3 out of 5\n",
      "\n",
      "[EPOCH:11]\t Train Loss:0.0034\t Train Acc:99.26 %  | \tValid Loss:0.0074 \tValid Acc: 83.25 %\n",
      "\n",
      "Validation loss decreased (0.008202 --> 0.007388).  Saving model ...\n",
      "\n",
      "[EPOCH:12]\t Train Loss:0.0032\t Train Acc:99.63 %  | \tValid Loss:0.0083 \tValid Acc: 83.76 %\n",
      "\n",
      "EarlyStopping counter: 1 out of 5\n",
      "\n",
      "[EPOCH:13]\t Train Loss:0.0030\t Train Acc:99.63 %  | \tValid Loss:0.0069 \tValid Acc: 81.73 %\n",
      "\n",
      "Validation loss decreased (0.007388 --> 0.006865).  Saving model ...\n",
      "\n",
      "[EPOCH:14]\t Train Loss:0.0028\t Train Acc:99.75 %  | \tValid Loss:0.0075 \tValid Acc: 85.28 %\n",
      "\n",
      "EarlyStopping counter: 1 out of 5\n",
      "\n",
      "[EPOCH:15]\t Train Loss:0.0026\t Train Acc:100.00 %  | \tValid Loss:0.0090 \tValid Acc: 83.25 %\n",
      "\n",
      "EarlyStopping counter: 2 out of 5\n",
      "\n",
      "[EPOCH:16]\t Train Loss:0.0025\t Train Acc:99.88 %  | \tValid Loss:0.0072 \tValid Acc: 84.77 %\n",
      "\n",
      "EarlyStopping counter: 3 out of 5\n",
      "\n",
      "[EPOCH:17]\t Train Loss:0.0023\t Train Acc:99.75 %  | \tValid Loss:0.0064 \tValid Acc: 85.28 %\n",
      "\n",
      "Validation loss decreased (0.006865 --> 0.006354).  Saving model ...\n",
      "\n",
      "[EPOCH:18]\t Train Loss:0.0022\t Train Acc:99.88 %  | \tValid Loss:0.0083 \tValid Acc: 81.73 %\n",
      "\n",
      "EarlyStopping counter: 1 out of 5\n",
      "\n",
      "[EPOCH:19]\t Train Loss:0.0021\t Train Acc:100.00 %  | \tValid Loss:0.0082 \tValid Acc: 82.74 %\n",
      "\n",
      "EarlyStopping counter: 2 out of 5\n",
      "\n",
      "[EPOCH:20]\t Train Loss:0.0019\t Train Acc:99.88 %  | \tValid Loss:0.0072 \tValid Acc: 82.74 %\n",
      "\n",
      "EarlyStopping counter: 3 out of 5\n",
      "\n",
      "[EPOCH:21]\t Train Loss:0.0019\t Train Acc:100.00 %  | \tValid Loss:0.0074 \tValid Acc: 83.76 %\n",
      "\n",
      "EarlyStopping counter: 4 out of 5\n",
      "\n",
      "[EPOCH:22]\t Train Loss:0.0018\t Train Acc:99.88 %  | \tValid Loss:0.0061 \tValid Acc: 84.26 %\n",
      "\n",
      "Validation loss decreased (0.006354 --> 0.006070).  Saving model ...\n",
      "\n",
      "[EPOCH:23]\t Train Loss:0.0017\t Train Acc:100.00 %  | \tValid Loss:0.0074 \tValid Acc: 85.28 %\n",
      "\n",
      "EarlyStopping counter: 1 out of 5\n",
      "\n",
      "[EPOCH:24]\t Train Loss:0.0017\t Train Acc:99.88 %  | \tValid Loss:0.0074 \tValid Acc: 84.26 %\n",
      "\n",
      "EarlyStopping counter: 2 out of 5\n",
      "\n",
      "[EPOCH:25]\t Train Loss:0.0015\t Train Acc:100.00 %  | \tValid Loss:0.0084 \tValid Acc: 84.26 %\n",
      "\n",
      "EarlyStopping counter: 3 out of 5\n",
      "\n",
      "[EPOCH:26]\t Train Loss:0.0014\t Train Acc:100.00 %  | \tValid Loss:0.0063 \tValid Acc: 83.25 %\n",
      "\n",
      "EarlyStopping counter: 4 out of 5\n",
      "\n",
      "[EPOCH:27]\t Train Loss:0.0014\t Train Acc:100.00 %  | \tValid Loss:0.0067 \tValid Acc: 85.28 %\n",
      "\n",
      "EarlyStopping counter: 5 out of 5\n",
      "[2 교차검증] Early stopping\n"
     ]
    },
    {
     "data": {
      "text/html": [
       "Waiting for W&B process to finish... <strong style=\"color:green\">(success).</strong>"
      ],
      "text/plain": [
       "<IPython.core.display.HTML object>"
      ]
     },
     "metadata": {},
     "output_type": "display_data"
    },
    {
     "data": {
      "application/vnd.jupyter.widget-view+json": {
       "model_id": "",
       "version_major": 2,
       "version_minor": 0
      },
      "text/plain": [
       "VBox(children=(Label(value='0.001 MB of 0.001 MB uploaded (0.000 MB deduped)\\r'), FloatProgress(value=1.0, max…"
      ]
     },
     "metadata": {},
     "output_type": "display_data"
    },
    {
     "data": {
      "text/html": [
       "<style>\n",
       "    table.wandb td:nth-child(1) { padding: 0 10px; text-align: left ; width: auto;} td:nth-child(2) {text-align: left ; width: 100%}\n",
       "    .wandb-row { display: flex; flex-direction: row; flex-wrap: wrap; justify-content: flex-start; width: 100% }\n",
       "    .wandb-col { display: flex; flex-direction: column; flex-basis: 100%; flex: 1; padding: 10px; }\n",
       "    </style>\n",
       "<div class=\"wandb-row\"><div class=\"wandb-col\"><h3>Run history:</h3><br/><table class=\"wandb\"><tr><td>Valid/Accuracy</td><td>▁▇▇▇▇▇████▇▇▇▇▇▇███████████</td></tr><tr><td>Valid/Loss</td><td>█▅▃▃▃▃▃▃▃▃▂▂▂▂▂▂▁▁▁▁▁▁▁▁▁▁▁</td></tr></table><br/></div><div class=\"wandb-col\"><h3>Run summary:</h3><br/><table class=\"wandb\"><tr><td>Valid/Accuracy</td><td>84.26396</td></tr><tr><td>Valid/Loss</td><td>0.00607</td></tr></table><br/></div></div>"
      ],
      "text/plain": [
       "<IPython.core.display.HTML object>"
      ]
     },
     "metadata": {},
     "output_type": "display_data"
    },
    {
     "data": {
      "text/html": [
       "Synced <strong style=\"color:#cdcd00\">lilac-sweep-17</strong>: <a href=\"https://wandb.ai/bub3690/SVD-hyp-sweep/runs/m3pc3p4f\" target=\"_blank\">https://wandb.ai/bub3690/SVD-hyp-sweep/runs/m3pc3p4f</a><br/>Synced 5 W&B file(s), 0 media file(s), 0 artifact file(s) and 0 other file(s)"
      ],
      "text/plain": [
       "<IPython.core.display.HTML object>"
      ]
     },
     "metadata": {},
     "output_type": "display_data"
    },
    {
     "data": {
      "text/html": [
       "Find logs at: <code>.\\wandb\\run-20220704_144020-m3pc3p4f\\logs</code>"
      ],
      "text/plain": [
       "<IPython.core.display.HTML object>"
      ]
     },
     "metadata": {},
     "output_type": "display_data"
    },
    {
     "name": "stderr",
     "output_type": "stream",
     "text": [
      "\u001b[34m\u001b[1mwandb\u001b[0m: Agent Starting Run: kndejziv with config:\n",
      "\u001b[34m\u001b[1mwandb\u001b[0m: \tbatch_size: 64\n",
      "\u001b[34m\u001b[1mwandb\u001b[0m: \tfold: 3\n",
      "\u001b[34m\u001b[1mwandb\u001b[0m: \u001b[33mWARNING\u001b[0m Ignored wandb.init() arg project when running a sweep.\n",
      "\u001b[34m\u001b[1mwandb\u001b[0m: \u001b[33mWARNING\u001b[0m Ignored wandb.init() arg entity when running a sweep.\n"
     ]
    },
    {
     "data": {
      "text/html": [
       "wandb version 0.12.20 is available!  To upgrade, please run:\n",
       " $ pip install wandb --upgrade"
      ],
      "text/plain": [
       "<IPython.core.display.HTML object>"
      ]
     },
     "metadata": {},
     "output_type": "display_data"
    },
    {
     "data": {
      "text/html": [
       "Tracking run with wandb version 0.12.16"
      ],
      "text/plain": [
       "<IPython.core.display.HTML object>"
      ]
     },
     "metadata": {},
     "output_type": "display_data"
    },
    {
     "data": {
      "text/html": [
       "Run data is saved locally in <code>D:\\project\\voice_pathology_ai\\model\\spectrogram\\ros\\wandb\\run-20220704_144257-kndejziv</code>"
      ],
      "text/plain": [
       "<IPython.core.display.HTML object>"
      ]
     },
     "metadata": {},
     "output_type": "display_data"
    },
    {
     "data": {
      "text/html": [
       "Syncing run <strong><a href=\"https://wandb.ai/bub3690/SVD-hyp-sweep/runs/kndejziv\" target=\"_blank\">lyric-sweep-18</a></strong> to <a href=\"https://wandb.ai/bub3690/SVD-hyp-sweep\" target=\"_blank\">Weights & Biases</a> (<a href=\"https://wandb.me/run\" target=\"_blank\">docs</a>)<br/>Sweep page:  <a href=\"https://wandb.ai/bub3690/SVD-hyp-sweep/sweeps/j9mfv8ql\" target=\"_blank\">https://wandb.ai/bub3690/SVD-hyp-sweep/sweeps/j9mfv8ql</a>"
      ],
      "text/plain": [
       "<IPython.core.display.HTML object>"
      ]
     },
     "metadata": {},
     "output_type": "display_data"
    },
    {
     "name": "stdout",
     "output_type": "stream",
     "text": [
      "../../checkpoint/checkpoint_melspectro_resnet18_true_ros_3_organics.pt\n",
      "config: {'sample_rate': 16000, 'n_fft': 1024, 'n_mels': 128, 'hop_length': 100, 'win_length': 400, 'f_max': 80000, 'batch_size': 64, 'fold': 3}\n",
      "[3 교차검증] 학습 시작\n",
      " ----- \n",
      "\n",
      "[EPOCH:1]\t Train Loss:0.0109\t Train Acc:58.27 %  | \tValid Loss:0.0147 \tValid Acc: 51.78 %\n",
      "\n",
      "Validation loss decreased (inf --> 0.014654).  Saving model ...\n",
      "\n",
      "[EPOCH:2]\t Train Loss:0.0084\t Train Acc:71.48 %  | \tValid Loss:0.0110 \tValid Acc: 71.57 %\n",
      "\n",
      "Validation loss decreased (0.014654 --> 0.010970).  Saving model ...\n",
      "\n",
      "[EPOCH:3]\t Train Loss:0.0073\t Train Acc:80.12 %  | \tValid Loss:0.0084 \tValid Acc: 78.17 %\n",
      "\n",
      "Validation loss decreased (0.010970 --> 0.008434).  Saving model ...\n",
      "\n",
      "[EPOCH:4]\t Train Loss:0.0069\t Train Acc:84.57 %  | \tValid Loss:0.0097 \tValid Acc: 84.77 %\n",
      "\n",
      "EarlyStopping counter: 1 out of 5\n",
      "\n",
      "[EPOCH:5]\t Train Loss:0.0058\t Train Acc:89.88 %  | \tValid Loss:0.0080 \tValid Acc: 84.26 %\n",
      "\n",
      "Validation loss decreased (0.008434 --> 0.007986).  Saving model ...\n",
      "\n",
      "[EPOCH:6]\t Train Loss:0.0054\t Train Acc:94.07 %  | \tValid Loss:0.0074 \tValid Acc: 83.76 %\n",
      "\n",
      "Validation loss decreased (0.007986 --> 0.007409).  Saving model ...\n",
      "\n",
      "[EPOCH:7]\t Train Loss:0.0049\t Train Acc:95.56 %  | \tValid Loss:0.0081 \tValid Acc: 86.29 %\n",
      "\n",
      "EarlyStopping counter: 1 out of 5\n",
      "\n",
      "[EPOCH:8]\t Train Loss:0.0042\t Train Acc:98.77 %  | \tValid Loss:0.0073 \tValid Acc: 85.79 %\n",
      "\n",
      "Validation loss decreased (0.007409 --> 0.007322).  Saving model ...\n",
      "\n",
      "[EPOCH:9]\t Train Loss:0.0041\t Train Acc:98.77 %  | \tValid Loss:0.0069 \tValid Acc: 85.28 %\n",
      "\n",
      "Validation loss decreased (0.007322 --> 0.006924).  Saving model ...\n",
      "\n",
      "[EPOCH:10]\t Train Loss:0.0037\t Train Acc:99.38 %  | \tValid Loss:0.0065 \tValid Acc: 85.28 %\n",
      "\n",
      "Validation loss decreased (0.006924 --> 0.006492).  Saving model ...\n",
      "\n",
      "[EPOCH:11]\t Train Loss:0.0035\t Train Acc:99.63 %  | \tValid Loss:0.0095 \tValid Acc: 86.29 %\n",
      "\n",
      "EarlyStopping counter: 1 out of 5\n",
      "\n",
      "[EPOCH:12]\t Train Loss:0.0033\t Train Acc:100.00 %  | \tValid Loss:0.0086 \tValid Acc: 87.31 %\n",
      "\n",
      "EarlyStopping counter: 2 out of 5\n",
      "\n",
      "[EPOCH:13]\t Train Loss:0.0032\t Train Acc:99.88 %  | \tValid Loss:0.0061 \tValid Acc: 87.31 %\n",
      "\n",
      "Validation loss decreased (0.006492 --> 0.006082).  Saving model ...\n",
      "\n",
      "[EPOCH:14]\t Train Loss:0.0030\t Train Acc:99.88 %  | \tValid Loss:0.0063 \tValid Acc: 86.29 %\n",
      "\n",
      "EarlyStopping counter: 1 out of 5\n",
      "\n",
      "[EPOCH:15]\t Train Loss:0.0028\t Train Acc:100.00 %  | \tValid Loss:0.0077 \tValid Acc: 86.80 %\n",
      "\n",
      "EarlyStopping counter: 2 out of 5\n",
      "\n",
      "[EPOCH:16]\t Train Loss:0.0026\t Train Acc:100.00 %  | \tValid Loss:0.0076 \tValid Acc: 86.29 %\n",
      "\n",
      "EarlyStopping counter: 3 out of 5\n",
      "\n",
      "[EPOCH:17]\t Train Loss:0.0025\t Train Acc:100.00 %  | \tValid Loss:0.0065 \tValid Acc: 87.82 %\n",
      "\n",
      "EarlyStopping counter: 4 out of 5\n",
      "\n",
      "[EPOCH:18]\t Train Loss:0.0024\t Train Acc:99.88 %  | \tValid Loss:0.0071 \tValid Acc: 86.80 %\n",
      "\n",
      "EarlyStopping counter: 5 out of 5\n",
      "[3 교차검증] Early stopping\n"
     ]
    },
    {
     "data": {
      "text/html": [
       "Waiting for W&B process to finish... <strong style=\"color:green\">(success).</strong>"
      ],
      "text/plain": [
       "<IPython.core.display.HTML object>"
      ]
     },
     "metadata": {},
     "output_type": "display_data"
    },
    {
     "data": {
      "application/vnd.jupyter.widget-view+json": {
       "model_id": "",
       "version_major": 2,
       "version_minor": 0
      },
      "text/plain": [
       "VBox(children=(Label(value='0.001 MB of 0.001 MB uploaded (0.000 MB deduped)\\r'), FloatProgress(value=1.0, max…"
      ]
     },
     "metadata": {},
     "output_type": "display_data"
    },
    {
     "data": {
      "text/html": [
       "<style>\n",
       "    table.wandb td:nth-child(1) { padding: 0 10px; text-align: left ; width: auto;} td:nth-child(2) {text-align: left ; width: 100%}\n",
       "    .wandb-row { display: flex; flex-direction: row; flex-wrap: wrap; justify-content: flex-start; width: 100% }\n",
       "    .wandb-col { display: flex; flex-direction: column; flex-basis: 100%; flex: 1; padding: 10px; }\n",
       "    </style>\n",
       "<div class=\"wandb-row\"><div class=\"wandb-col\"><h3>Run history:</h3><br/><table class=\"wandb\"><tr><td>Valid/Accuracy</td><td>▁▅▆▆▇▇▇███████████</td></tr><tr><td>Valid/Loss</td><td>█▅▃▃▃▂▂▂▂▁▁▁▁▁▁▁▁▁</td></tr></table><br/></div><div class=\"wandb-col\"><h3>Run summary:</h3><br/><table class=\"wandb\"><tr><td>Valid/Accuracy</td><td>87.30964</td></tr><tr><td>Valid/Loss</td><td>0.00608</td></tr></table><br/></div></div>"
      ],
      "text/plain": [
       "<IPython.core.display.HTML object>"
      ]
     },
     "metadata": {},
     "output_type": "display_data"
    },
    {
     "data": {
      "text/html": [
       "Synced <strong style=\"color:#cdcd00\">lyric-sweep-18</strong>: <a href=\"https://wandb.ai/bub3690/SVD-hyp-sweep/runs/kndejziv\" target=\"_blank\">https://wandb.ai/bub3690/SVD-hyp-sweep/runs/kndejziv</a><br/>Synced 5 W&B file(s), 0 media file(s), 0 artifact file(s) and 0 other file(s)"
      ],
      "text/plain": [
       "<IPython.core.display.HTML object>"
      ]
     },
     "metadata": {},
     "output_type": "display_data"
    },
    {
     "data": {
      "text/html": [
       "Find logs at: <code>.\\wandb\\run-20220704_144257-kndejziv\\logs</code>"
      ],
      "text/plain": [
       "<IPython.core.display.HTML object>"
      ]
     },
     "metadata": {},
     "output_type": "display_data"
    },
    {
     "name": "stderr",
     "output_type": "stream",
     "text": [
      "\u001b[34m\u001b[1mwandb\u001b[0m: Agent Starting Run: uw0zh4rh with config:\n",
      "\u001b[34m\u001b[1mwandb\u001b[0m: \tbatch_size: 64\n",
      "\u001b[34m\u001b[1mwandb\u001b[0m: \tfold: 4\n",
      "\u001b[34m\u001b[1mwandb\u001b[0m: \u001b[33mWARNING\u001b[0m Ignored wandb.init() arg project when running a sweep.\n",
      "\u001b[34m\u001b[1mwandb\u001b[0m: \u001b[33mWARNING\u001b[0m Ignored wandb.init() arg entity when running a sweep.\n"
     ]
    },
    {
     "data": {
      "text/html": [
       "wandb version 0.12.20 is available!  To upgrade, please run:\n",
       " $ pip install wandb --upgrade"
      ],
      "text/plain": [
       "<IPython.core.display.HTML object>"
      ]
     },
     "metadata": {},
     "output_type": "display_data"
    },
    {
     "data": {
      "text/html": [
       "Tracking run with wandb version 0.12.16"
      ],
      "text/plain": [
       "<IPython.core.display.HTML object>"
      ]
     },
     "metadata": {},
     "output_type": "display_data"
    },
    {
     "data": {
      "text/html": [
       "Run data is saved locally in <code>D:\\project\\voice_pathology_ai\\model\\spectrogram\\ros\\wandb\\run-20220704_144442-uw0zh4rh</code>"
      ],
      "text/plain": [
       "<IPython.core.display.HTML object>"
      ]
     },
     "metadata": {},
     "output_type": "display_data"
    },
    {
     "data": {
      "text/html": [
       "Syncing run <strong><a href=\"https://wandb.ai/bub3690/SVD-hyp-sweep/runs/uw0zh4rh\" target=\"_blank\">sleek-sweep-19</a></strong> to <a href=\"https://wandb.ai/bub3690/SVD-hyp-sweep\" target=\"_blank\">Weights & Biases</a> (<a href=\"https://wandb.me/run\" target=\"_blank\">docs</a>)<br/>Sweep page:  <a href=\"https://wandb.ai/bub3690/SVD-hyp-sweep/sweeps/j9mfv8ql\" target=\"_blank\">https://wandb.ai/bub3690/SVD-hyp-sweep/sweeps/j9mfv8ql</a>"
      ],
      "text/plain": [
       "<IPython.core.display.HTML object>"
      ]
     },
     "metadata": {},
     "output_type": "display_data"
    },
    {
     "name": "stdout",
     "output_type": "stream",
     "text": [
      "../../checkpoint/checkpoint_melspectro_resnet18_true_ros_4_organics.pt\n",
      "config: {'sample_rate': 16000, 'n_fft': 1024, 'n_mels': 128, 'hop_length': 100, 'win_length': 400, 'f_max': 80000, 'batch_size': 64, 'fold': 4}\n",
      "[4 교차검증] 학습 시작\n",
      " ----- \n",
      "\n",
      "[EPOCH:1]\t Train Loss:0.0108\t Train Acc:60.25 %  | \tValid Loss:0.0140 \tValid Acc: 49.75 %\n",
      "\n",
      "Validation loss decreased (inf --> 0.013952).  Saving model ...\n",
      "\n",
      "[EPOCH:2]\t Train Loss:0.0089\t Train Acc:70.00 %  | \tValid Loss:0.0119 \tValid Acc: 77.66 %\n",
      "\n",
      "Validation loss decreased (0.013952 --> 0.011915).  Saving model ...\n",
      "\n",
      "[EPOCH:3]\t Train Loss:0.0076\t Train Acc:80.62 %  | \tValid Loss:0.0103 \tValid Acc: 82.23 %\n",
      "\n",
      "Validation loss decreased (0.011915 --> 0.010273).  Saving model ...\n",
      "\n",
      "[EPOCH:4]\t Train Loss:0.0072\t Train Acc:80.99 %  | \tValid Loss:0.0082 \tValid Acc: 85.28 %\n",
      "\n",
      "Validation loss decreased (0.010273 --> 0.008237).  Saving model ...\n",
      "\n",
      "[EPOCH:5]\t Train Loss:0.0063\t Train Acc:87.90 %  | \tValid Loss:0.0096 \tValid Acc: 87.31 %\n",
      "\n",
      "EarlyStopping counter: 1 out of 5\n",
      "\n",
      "[EPOCH:6]\t Train Loss:0.0058\t Train Acc:90.00 %  | \tValid Loss:0.0073 \tValid Acc: 85.79 %\n",
      "\n",
      "Validation loss decreased (0.008237 --> 0.007337).  Saving model ...\n",
      "\n",
      "[EPOCH:7]\t Train Loss:0.0051\t Train Acc:92.59 %  | \tValid Loss:0.0087 \tValid Acc: 87.82 %\n",
      "\n",
      "EarlyStopping counter: 1 out of 5\n",
      "\n",
      "[EPOCH:8]\t Train Loss:0.0048\t Train Acc:94.44 %  | \tValid Loss:0.0069 \tValid Acc: 87.82 %\n",
      "\n",
      "Validation loss decreased (0.007337 --> 0.006932).  Saving model ...\n",
      "\n",
      "[EPOCH:9]\t Train Loss:0.0042\t Train Acc:97.16 %  | \tValid Loss:0.0067 \tValid Acc: 89.34 %\n",
      "\n",
      "Validation loss decreased (0.006932 --> 0.006662).  Saving model ...\n",
      "\n",
      "[EPOCH:10]\t Train Loss:0.0038\t Train Acc:97.90 %  | \tValid Loss:0.0079 \tValid Acc: 85.28 %\n",
      "\n",
      "EarlyStopping counter: 1 out of 5\n",
      "\n",
      "[EPOCH:11]\t Train Loss:0.0035\t Train Acc:98.77 %  | \tValid Loss:0.0082 \tValid Acc: 86.80 %\n",
      "\n",
      "EarlyStopping counter: 2 out of 5\n",
      "\n",
      "[EPOCH:12]\t Train Loss:0.0033\t Train Acc:99.14 %  | \tValid Loss:0.0070 \tValid Acc: 86.80 %\n",
      "\n",
      "EarlyStopping counter: 3 out of 5\n",
      "\n",
      "[EPOCH:13]\t Train Loss:0.0029\t Train Acc:99.26 %  | \tValid Loss:0.0061 \tValid Acc: 88.32 %\n",
      "\n",
      "Validation loss decreased (0.006662 --> 0.006063).  Saving model ...\n",
      "\n",
      "[EPOCH:14]\t Train Loss:0.0028\t Train Acc:99.63 %  | \tValid Loss:0.0063 \tValid Acc: 86.29 %\n",
      "\n",
      "EarlyStopping counter: 1 out of 5\n",
      "\n",
      "[EPOCH:15]\t Train Loss:0.0025\t Train Acc:99.63 %  | \tValid Loss:0.0070 \tValid Acc: 88.32 %\n",
      "\n",
      "EarlyStopping counter: 2 out of 5\n",
      "\n",
      "[EPOCH:16]\t Train Loss:0.0024\t Train Acc:99.88 %  | \tValid Loss:0.0059 \tValid Acc: 88.83 %\n",
      "\n",
      "Validation loss decreased (0.006063 --> 0.005935).  Saving model ...\n",
      "\n",
      "[EPOCH:17]\t Train Loss:0.0023\t Train Acc:100.00 %  | \tValid Loss:0.0058 \tValid Acc: 87.82 %\n",
      "\n",
      "Validation loss decreased (0.005935 --> 0.005835).  Saving model ...\n",
      "\n",
      "[EPOCH:18]\t Train Loss:0.0022\t Train Acc:100.00 %  | \tValid Loss:0.0064 \tValid Acc: 86.80 %\n",
      "\n",
      "EarlyStopping counter: 1 out of 5\n",
      "\n",
      "[EPOCH:19]\t Train Loss:0.0020\t Train Acc:99.75 %  | \tValid Loss:0.0064 \tValid Acc: 87.31 %\n",
      "\n",
      "EarlyStopping counter: 2 out of 5\n",
      "\n",
      "[EPOCH:20]\t Train Loss:0.0020\t Train Acc:99.88 %  | \tValid Loss:0.0059 \tValid Acc: 87.82 %\n",
      "\n",
      "EarlyStopping counter: 3 out of 5\n",
      "\n",
      "[EPOCH:21]\t Train Loss:0.0019\t Train Acc:100.00 %  | \tValid Loss:0.0073 \tValid Acc: 87.31 %\n",
      "\n",
      "EarlyStopping counter: 4 out of 5\n",
      "\n",
      "[EPOCH:22]\t Train Loss:0.0017\t Train Acc:100.00 %  | \tValid Loss:0.0053 \tValid Acc: 85.79 %\n",
      "\n",
      "Validation loss decreased (0.005835 --> 0.005347).  Saving model ...\n",
      "\n",
      "[EPOCH:23]\t Train Loss:0.0017\t Train Acc:100.00 %  | \tValid Loss:0.0050 \tValid Acc: 88.83 %\n",
      "\n",
      "Validation loss decreased (0.005347 --> 0.005032).  Saving model ...\n",
      "\n",
      "[EPOCH:24]\t Train Loss:0.0016\t Train Acc:100.00 %  | \tValid Loss:0.0053 \tValid Acc: 87.82 %\n",
      "\n",
      "EarlyStopping counter: 1 out of 5\n",
      "\n",
      "[EPOCH:25]\t Train Loss:0.0015\t Train Acc:100.00 %  | \tValid Loss:0.0079 \tValid Acc: 87.31 %\n",
      "\n",
      "EarlyStopping counter: 2 out of 5\n",
      "\n",
      "[EPOCH:26]\t Train Loss:0.0014\t Train Acc:100.00 %  | \tValid Loss:0.0065 \tValid Acc: 85.79 %\n",
      "\n",
      "EarlyStopping counter: 3 out of 5\n",
      "\n",
      "[EPOCH:27]\t Train Loss:0.0014\t Train Acc:100.00 %  | \tValid Loss:0.0048 \tValid Acc: 87.82 %\n",
      "\n",
      "Validation loss decreased (0.005032 --> 0.004849).  Saving model ...\n",
      "\n",
      "[EPOCH:28]\t Train Loss:0.0014\t Train Acc:100.00 %  | \tValid Loss:0.0064 \tValid Acc: 89.85 %\n",
      "\n",
      "EarlyStopping counter: 1 out of 5\n",
      "\n",
      "[EPOCH:29]\t Train Loss:0.0013\t Train Acc:100.00 %  | \tValid Loss:0.0073 \tValid Acc: 87.82 %\n",
      "\n",
      "EarlyStopping counter: 2 out of 5\n",
      "\n",
      "[EPOCH:30]\t Train Loss:0.0013\t Train Acc:100.00 %  | \tValid Loss:0.0104 \tValid Acc: 87.82 %\n",
      "\n",
      "EarlyStopping counter: 3 out of 5\n",
      "\n",
      "[EPOCH:31]\t Train Loss:0.0013\t Train Acc:100.00 %  | \tValid Loss:0.0058 \tValid Acc: 88.32 %\n",
      "\n",
      "EarlyStopping counter: 4 out of 5\n",
      "\n",
      "[EPOCH:32]\t Train Loss:0.0012\t Train Acc:100.00 %  | \tValid Loss:0.0048 \tValid Acc: 87.82 %\n",
      "\n",
      "Validation loss decreased (0.004849 --> 0.004820).  Saving model ...\n",
      "\n",
      "[EPOCH:33]\t Train Loss:0.0011\t Train Acc:100.00 %  | \tValid Loss:0.0052 \tValid Acc: 89.34 %\n",
      "\n",
      "EarlyStopping counter: 1 out of 5\n",
      "\n",
      "[EPOCH:34]\t Train Loss:0.0011\t Train Acc:100.00 %  | \tValid Loss:0.0050 \tValid Acc: 89.34 %\n",
      "\n",
      "EarlyStopping counter: 2 out of 5\n",
      "\n",
      "[EPOCH:35]\t Train Loss:0.0010\t Train Acc:100.00 %  | \tValid Loss:0.0053 \tValid Acc: 87.31 %\n",
      "\n",
      "EarlyStopping counter: 3 out of 5\n",
      "\n",
      "[EPOCH:36]\t Train Loss:0.0011\t Train Acc:100.00 %  | \tValid Loss:0.0050 \tValid Acc: 86.80 %\n",
      "\n",
      "EarlyStopping counter: 4 out of 5\n",
      "\n",
      "[EPOCH:37]\t Train Loss:0.0009\t Train Acc:100.00 %  | \tValid Loss:0.0045 \tValid Acc: 89.34 %\n",
      "\n",
      "Validation loss decreased (0.004820 --> 0.004540).  Saving model ...\n",
      "\n",
      "[EPOCH:38]\t Train Loss:0.0010\t Train Acc:100.00 %  | \tValid Loss:0.0067 \tValid Acc: 89.34 %\n",
      "\n",
      "EarlyStopping counter: 1 out of 5\n",
      "\n",
      "[EPOCH:39]\t Train Loss:0.0009\t Train Acc:100.00 %  | \tValid Loss:0.0051 \tValid Acc: 87.31 %\n",
      "\n",
      "EarlyStopping counter: 2 out of 5\n",
      "\n",
      "[EPOCH:40]\t Train Loss:0.0009\t Train Acc:100.00 %  | \tValid Loss:0.0048 \tValid Acc: 87.82 %\n",
      "\n",
      "EarlyStopping counter: 3 out of 5\n"
     ]
    },
    {
     "data": {
      "text/html": [
       "Waiting for W&B process to finish... <strong style=\"color:green\">(success).</strong>"
      ],
      "text/plain": [
       "<IPython.core.display.HTML object>"
      ]
     },
     "metadata": {},
     "output_type": "display_data"
    },
    {
     "data": {
      "application/vnd.jupyter.widget-view+json": {
       "model_id": "",
       "version_major": 2,
       "version_minor": 0
      },
      "text/plain": [
       "VBox(children=(Label(value='0.001 MB of 0.001 MB uploaded (0.000 MB deduped)\\r'), FloatProgress(value=1.0, max…"
      ]
     },
     "metadata": {},
     "output_type": "display_data"
    },
    {
     "data": {
      "text/html": [
       "<style>\n",
       "    table.wandb td:nth-child(1) { padding: 0 10px; text-align: left ; width: auto;} td:nth-child(2) {text-align: left ; width: 100%}\n",
       "    .wandb-row { display: flex; flex-direction: row; flex-wrap: wrap; justify-content: flex-start; width: 100% }\n",
       "    .wandb-col { display: flex; flex-direction: column; flex-basis: 100%; flex: 1; padding: 10px; }\n",
       "    </style>\n",
       "<div class=\"wandb-row\"><div class=\"wandb-col\"><h3>Run history:</h3><br/><table class=\"wandb\"><tr><td>Valid/Accuracy</td><td>▁▆▇▇▇▇▇██████████████▇██████████████████</td></tr><tr><td>Valid/Loss</td><td>█▆▅▄▄▃▃▃▃▃▃▃▂▂▂▂▂▂▂▂▂▂▁▁▁▁▁▁▁▁▁▁▁▁▁▁▁▁▁▁</td></tr></table><br/></div><div class=\"wandb-col\"><h3>Run summary:</h3><br/><table class=\"wandb\"><tr><td>Valid/Accuracy</td><td>89.3401</td></tr><tr><td>Valid/Loss</td><td>0.00454</td></tr></table><br/></div></div>"
      ],
      "text/plain": [
       "<IPython.core.display.HTML object>"
      ]
     },
     "metadata": {},
     "output_type": "display_data"
    },
    {
     "data": {
      "text/html": [
       "Synced <strong style=\"color:#cdcd00\">sleek-sweep-19</strong>: <a href=\"https://wandb.ai/bub3690/SVD-hyp-sweep/runs/uw0zh4rh\" target=\"_blank\">https://wandb.ai/bub3690/SVD-hyp-sweep/runs/uw0zh4rh</a><br/>Synced 5 W&B file(s), 0 media file(s), 0 artifact file(s) and 0 other file(s)"
      ],
      "text/plain": [
       "<IPython.core.display.HTML object>"
      ]
     },
     "metadata": {},
     "output_type": "display_data"
    },
    {
     "data": {
      "text/html": [
       "Find logs at: <code>.\\wandb\\run-20220704_144442-uw0zh4rh\\logs</code>"
      ],
      "text/plain": [
       "<IPython.core.display.HTML object>"
      ]
     },
     "metadata": {},
     "output_type": "display_data"
    },
    {
     "name": "stderr",
     "output_type": "stream",
     "text": [
      "\u001b[34m\u001b[1mwandb\u001b[0m: Agent Starting Run: vxai22z6 with config:\n",
      "\u001b[34m\u001b[1mwandb\u001b[0m: \tbatch_size: 64\n",
      "\u001b[34m\u001b[1mwandb\u001b[0m: \tfold: 5\n",
      "\u001b[34m\u001b[1mwandb\u001b[0m: \u001b[33mWARNING\u001b[0m Ignored wandb.init() arg project when running a sweep.\n",
      "\u001b[34m\u001b[1mwandb\u001b[0m: \u001b[33mWARNING\u001b[0m Ignored wandb.init() arg entity when running a sweep.\n"
     ]
    },
    {
     "data": {
      "text/html": [
       "wandb version 0.12.20 is available!  To upgrade, please run:\n",
       " $ pip install wandb --upgrade"
      ],
      "text/plain": [
       "<IPython.core.display.HTML object>"
      ]
     },
     "metadata": {},
     "output_type": "display_data"
    },
    {
     "data": {
      "text/html": [
       "Tracking run with wandb version 0.12.16"
      ],
      "text/plain": [
       "<IPython.core.display.HTML object>"
      ]
     },
     "metadata": {},
     "output_type": "display_data"
    },
    {
     "data": {
      "text/html": [
       "Run data is saved locally in <code>D:\\project\\voice_pathology_ai\\model\\spectrogram\\ros\\wandb\\run-20220704_144821-vxai22z6</code>"
      ],
      "text/plain": [
       "<IPython.core.display.HTML object>"
      ]
     },
     "metadata": {},
     "output_type": "display_data"
    },
    {
     "data": {
      "text/html": [
       "Syncing run <strong><a href=\"https://wandb.ai/bub3690/SVD-hyp-sweep/runs/vxai22z6\" target=\"_blank\">trim-sweep-20</a></strong> to <a href=\"https://wandb.ai/bub3690/SVD-hyp-sweep\" target=\"_blank\">Weights & Biases</a> (<a href=\"https://wandb.me/run\" target=\"_blank\">docs</a>)<br/>Sweep page:  <a href=\"https://wandb.ai/bub3690/SVD-hyp-sweep/sweeps/j9mfv8ql\" target=\"_blank\">https://wandb.ai/bub3690/SVD-hyp-sweep/sweeps/j9mfv8ql</a>"
      ],
      "text/plain": [
       "<IPython.core.display.HTML object>"
      ]
     },
     "metadata": {},
     "output_type": "display_data"
    },
    {
     "name": "stdout",
     "output_type": "stream",
     "text": [
      "../../checkpoint/checkpoint_melspectro_resnet18_true_ros_5_organics.pt\n",
      "config: {'sample_rate': 16000, 'n_fft': 1024, 'n_mels': 128, 'hop_length': 100, 'win_length': 400, 'f_max': 80000, 'batch_size': 64, 'fold': 5}\n",
      "[5 교차검증] 학습 시작\n",
      " ----- \n",
      "\n",
      "[EPOCH:1]\t Train Loss:0.0104\t Train Acc:60.47 %  | \tValid Loss:0.0136 \tValid Acc: 68.37 %\n",
      "\n",
      "Validation loss decreased (inf --> 0.013585).  Saving model ...\n",
      "\n",
      "[EPOCH:2]\t Train Loss:0.0090\t Train Acc:69.58 %  | \tValid Loss:0.0114 \tValid Acc: 80.61 %\n",
      "\n",
      "Validation loss decreased (0.013585 --> 0.011374).  Saving model ...\n",
      "\n",
      "[EPOCH:3]\t Train Loss:0.0079\t Train Acc:77.96 %  | \tValid Loss:0.0096 \tValid Acc: 85.71 %\n",
      "\n",
      "Validation loss decreased (0.011374 --> 0.009581).  Saving model ...\n",
      "\n",
      "[EPOCH:4]\t Train Loss:0.0071\t Train Acc:82.27 %  | \tValid Loss:0.0090 \tValid Acc: 87.24 %\n",
      "\n",
      "Validation loss decreased (0.009581 --> 0.008990).  Saving model ...\n",
      "\n",
      "[EPOCH:5]\t Train Loss:0.0065\t Train Acc:86.21 %  | \tValid Loss:0.0076 \tValid Acc: 87.76 %\n",
      "\n",
      "Validation loss decreased (0.008990 --> 0.007647).  Saving model ...\n",
      "\n",
      "[EPOCH:6]\t Train Loss:0.0060\t Train Acc:89.41 %  | \tValid Loss:0.0094 \tValid Acc: 87.76 %\n",
      "\n",
      "EarlyStopping counter: 1 out of 5\n",
      "\n",
      "[EPOCH:7]\t Train Loss:0.0055\t Train Acc:91.50 %  | \tValid Loss:0.0084 \tValid Acc: 85.20 %\n",
      "\n",
      "EarlyStopping counter: 2 out of 5\n",
      "\n",
      "[EPOCH:8]\t Train Loss:0.0048\t Train Acc:94.95 %  | \tValid Loss:0.0067 \tValid Acc: 87.76 %\n",
      "\n",
      "Validation loss decreased (0.007647 --> 0.006672).  Saving model ...\n",
      "\n",
      "[EPOCH:9]\t Train Loss:0.0044\t Train Acc:97.17 %  | \tValid Loss:0.0075 \tValid Acc: 88.78 %\n",
      "\n",
      "EarlyStopping counter: 1 out of 5\n",
      "\n",
      "[EPOCH:10]\t Train Loss:0.0041\t Train Acc:98.15 %  | \tValid Loss:0.0077 \tValid Acc: 88.78 %\n",
      "\n",
      "EarlyStopping counter: 2 out of 5\n",
      "\n",
      "[EPOCH:11]\t Train Loss:0.0038\t Train Acc:98.15 %  | \tValid Loss:0.0080 \tValid Acc: 87.24 %\n",
      "\n",
      "EarlyStopping counter: 3 out of 5\n",
      "\n",
      "[EPOCH:12]\t Train Loss:0.0035\t Train Acc:98.65 %  | \tValid Loss:0.0072 \tValid Acc: 88.27 %\n",
      "\n",
      "EarlyStopping counter: 4 out of 5\n",
      "\n",
      "[EPOCH:13]\t Train Loss:0.0032\t Train Acc:99.75 %  | \tValid Loss:0.0084 \tValid Acc: 87.76 %\n",
      "\n",
      "EarlyStopping counter: 5 out of 5\n",
      "[5 교차검증] Early stopping\n"
     ]
    },
    {
     "data": {
      "text/html": [
       "Waiting for W&B process to finish... <strong style=\"color:green\">(success).</strong>"
      ],
      "text/plain": [
       "<IPython.core.display.HTML object>"
      ]
     },
     "metadata": {},
     "output_type": "display_data"
    },
    {
     "data": {
      "application/vnd.jupyter.widget-view+json": {
       "model_id": "",
       "version_major": 2,
       "version_minor": 0
      },
      "text/plain": [
       "VBox(children=(Label(value='0.001 MB of 0.001 MB uploaded (0.000 MB deduped)\\r'), FloatProgress(value=1.0, max…"
      ]
     },
     "metadata": {},
     "output_type": "display_data"
    },
    {
     "data": {
      "text/html": [
       "<style>\n",
       "    table.wandb td:nth-child(1) { padding: 0 10px; text-align: left ; width: auto;} td:nth-child(2) {text-align: left ; width: 100%}\n",
       "    .wandb-row { display: flex; flex-direction: row; flex-wrap: wrap; justify-content: flex-start; width: 100% }\n",
       "    .wandb-col { display: flex; flex-direction: column; flex-basis: 100%; flex: 1; padding: 10px; }\n",
       "    </style>\n",
       "<div class=\"wandb-row\"><div class=\"wandb-col\"><h3>Run history:</h3><br/><table class=\"wandb\"><tr><td>Valid/Accuracy</td><td>▁▅▇██████████</td></tr><tr><td>Valid/Loss</td><td>█▆▄▃▂▂▂▁▁▁▁▁▁</td></tr></table><br/></div><div class=\"wandb-col\"><h3>Run summary:</h3><br/><table class=\"wandb\"><tr><td>Valid/Accuracy</td><td>87.7551</td></tr><tr><td>Valid/Loss</td><td>0.00667</td></tr></table><br/></div></div>"
      ],
      "text/plain": [
       "<IPython.core.display.HTML object>"
      ]
     },
     "metadata": {},
     "output_type": "display_data"
    },
    {
     "data": {
      "text/html": [
       "Synced <strong style=\"color:#cdcd00\">trim-sweep-20</strong>: <a href=\"https://wandb.ai/bub3690/SVD-hyp-sweep/runs/vxai22z6\" target=\"_blank\">https://wandb.ai/bub3690/SVD-hyp-sweep/runs/vxai22z6</a><br/>Synced 5 W&B file(s), 0 media file(s), 0 artifact file(s) and 0 other file(s)"
      ],
      "text/plain": [
       "<IPython.core.display.HTML object>"
      ]
     },
     "metadata": {},
     "output_type": "display_data"
    },
    {
     "data": {
      "text/html": [
       "Find logs at: <code>.\\wandb\\run-20220704_144821-vxai22z6\\logs</code>"
      ],
      "text/plain": [
       "<IPython.core.display.HTML object>"
      ]
     },
     "metadata": {},
     "output_type": "display_data"
    },
    {
     "name": "stderr",
     "output_type": "stream",
     "text": [
      "\u001b[34m\u001b[1mwandb\u001b[0m: Agent Starting Run: 0exyeqei with config:\n",
      "\u001b[34m\u001b[1mwandb\u001b[0m: \tbatch_size: 128\n",
      "\u001b[34m\u001b[1mwandb\u001b[0m: \tfold: 1\n",
      "\u001b[34m\u001b[1mwandb\u001b[0m: \u001b[33mWARNING\u001b[0m Ignored wandb.init() arg project when running a sweep.\n",
      "\u001b[34m\u001b[1mwandb\u001b[0m: \u001b[33mWARNING\u001b[0m Ignored wandb.init() arg entity when running a sweep.\n"
     ]
    },
    {
     "data": {
      "text/html": [
       "wandb version 0.12.20 is available!  To upgrade, please run:\n",
       " $ pip install wandb --upgrade"
      ],
      "text/plain": [
       "<IPython.core.display.HTML object>"
      ]
     },
     "metadata": {},
     "output_type": "display_data"
    },
    {
     "data": {
      "text/html": [
       "Tracking run with wandb version 0.12.16"
      ],
      "text/plain": [
       "<IPython.core.display.HTML object>"
      ]
     },
     "metadata": {},
     "output_type": "display_data"
    },
    {
     "data": {
      "text/html": [
       "Run data is saved locally in <code>D:\\project\\voice_pathology_ai\\model\\spectrogram\\ros\\wandb\\run-20220704_144945-0exyeqei</code>"
      ],
      "text/plain": [
       "<IPython.core.display.HTML object>"
      ]
     },
     "metadata": {},
     "output_type": "display_data"
    },
    {
     "data": {
      "text/html": [
       "Syncing run <strong><a href=\"https://wandb.ai/bub3690/SVD-hyp-sweep/runs/0exyeqei\" target=\"_blank\">lyric-sweep-21</a></strong> to <a href=\"https://wandb.ai/bub3690/SVD-hyp-sweep\" target=\"_blank\">Weights & Biases</a> (<a href=\"https://wandb.me/run\" target=\"_blank\">docs</a>)<br/>Sweep page:  <a href=\"https://wandb.ai/bub3690/SVD-hyp-sweep/sweeps/j9mfv8ql\" target=\"_blank\">https://wandb.ai/bub3690/SVD-hyp-sweep/sweeps/j9mfv8ql</a>"
      ],
      "text/plain": [
       "<IPython.core.display.HTML object>"
      ]
     },
     "metadata": {},
     "output_type": "display_data"
    },
    {
     "name": "stdout",
     "output_type": "stream",
     "text": [
      "../../checkpoint/checkpoint_melspectro_resnet18_true_ros_1_organics.pt\n",
      "config: {'sample_rate': 16000, 'n_fft': 1024, 'n_mels': 128, 'hop_length': 100, 'win_length': 400, 'f_max': 80000, 'batch_size': 128, 'fold': 1}\n",
      "[1 교차검증] 학습 시작\n",
      " ----- \n",
      "\n",
      "[EPOCH:1]\t Train Loss:0.0056\t Train Acc:59.73 %  | \tValid Loss:0.0070 \tValid Acc: 60.41 %\n",
      "\n",
      "Validation loss decreased (inf --> 0.006972).  Saving model ...\n",
      "\n",
      "[EPOCH:2]\t Train Loss:0.0043\t Train Acc:75.74 %  | \tValid Loss:0.0064 \tValid Acc: 65.48 %\n",
      "\n",
      "Validation loss decreased (0.006972 --> 0.006412).  Saving model ...\n",
      "\n",
      "[EPOCH:3]\t Train Loss:0.0040\t Train Acc:79.80 %  | \tValid Loss:0.0051 \tValid Acc: 81.73 %\n",
      "\n",
      "Validation loss decreased (0.006412 --> 0.005133).  Saving model ...\n",
      "\n",
      "[EPOCH:4]\t Train Loss:0.0037\t Train Acc:83.99 %  | \tValid Loss:0.0047 \tValid Acc: 81.22 %\n",
      "\n",
      "Validation loss decreased (0.005133 --> 0.004741).  Saving model ...\n",
      "\n",
      "[EPOCH:5]\t Train Loss:0.0033\t Train Acc:89.90 %  | \tValid Loss:0.0046 \tValid Acc: 81.22 %\n",
      "\n",
      "Validation loss decreased (0.004741 --> 0.004628).  Saving model ...\n",
      "\n",
      "[EPOCH:6]\t Train Loss:0.0030\t Train Acc:91.87 %  | \tValid Loss:0.0047 \tValid Acc: 80.20 %\n",
      "\n",
      "EarlyStopping counter: 1 out of 5\n",
      "\n",
      "[EPOCH:7]\t Train Loss:0.0029\t Train Acc:93.47 %  | \tValid Loss:0.0045 \tValid Acc: 83.25 %\n",
      "\n",
      "Validation loss decreased (0.004628 --> 0.004476).  Saving model ...\n",
      "\n",
      "[EPOCH:8]\t Train Loss:0.0026\t Train Acc:95.44 %  | \tValid Loss:0.0044 \tValid Acc: 81.22 %\n",
      "\n",
      "Validation loss decreased (0.004476 --> 0.004411).  Saving model ...\n",
      "\n",
      "[EPOCH:9]\t Train Loss:0.0025\t Train Acc:96.31 %  | \tValid Loss:0.0044 \tValid Acc: 83.76 %\n",
      "\n",
      "Validation loss decreased (0.004411 --> 0.004358).  Saving model ...\n",
      "\n",
      "[EPOCH:10]\t Train Loss:0.0023\t Train Acc:97.78 %  | \tValid Loss:0.0045 \tValid Acc: 81.73 %\n",
      "\n",
      "EarlyStopping counter: 1 out of 5\n",
      "\n",
      "[EPOCH:11]\t Train Loss:0.0020\t Train Acc:98.28 %  | \tValid Loss:0.0042 \tValid Acc: 83.76 %\n",
      "\n",
      "Validation loss decreased (0.004358 --> 0.004210).  Saving model ...\n",
      "\n",
      "[EPOCH:12]\t Train Loss:0.0020\t Train Acc:99.63 %  | \tValid Loss:0.0040 \tValid Acc: 85.79 %\n",
      "\n",
      "Validation loss decreased (0.004210 --> 0.003998).  Saving model ...\n",
      "\n",
      "[EPOCH:13]\t Train Loss:0.0018\t Train Acc:99.63 %  | \tValid Loss:0.0041 \tValid Acc: 84.77 %\n",
      "\n",
      "EarlyStopping counter: 1 out of 5\n",
      "\n",
      "[EPOCH:14]\t Train Loss:0.0017\t Train Acc:99.26 %  | \tValid Loss:0.0039 \tValid Acc: 85.28 %\n",
      "\n",
      "Validation loss decreased (0.003998 --> 0.003903).  Saving model ...\n",
      "\n",
      "[EPOCH:15]\t Train Loss:0.0017\t Train Acc:99.75 %  | \tValid Loss:0.0040 \tValid Acc: 85.79 %\n",
      "\n",
      "EarlyStopping counter: 1 out of 5\n",
      "\n",
      "[EPOCH:16]\t Train Loss:0.0015\t Train Acc:99.38 %  | \tValid Loss:0.0041 \tValid Acc: 83.25 %\n",
      "\n",
      "EarlyStopping counter: 2 out of 5\n",
      "\n",
      "[EPOCH:17]\t Train Loss:0.0015\t Train Acc:100.00 %  | \tValid Loss:0.0043 \tValid Acc: 82.23 %\n",
      "\n",
      "EarlyStopping counter: 3 out of 5\n",
      "\n",
      "[EPOCH:18]\t Train Loss:0.0014\t Train Acc:100.00 %  | \tValid Loss:0.0039 \tValid Acc: 84.26 %\n",
      "\n",
      "Validation loss decreased (0.003903 --> 0.003872).  Saving model ...\n",
      "\n",
      "[EPOCH:19]\t Train Loss:0.0013\t Train Acc:100.00 %  | \tValid Loss:0.0039 \tValid Acc: 84.26 %\n",
      "\n",
      "EarlyStopping counter: 1 out of 5\n",
      "\n",
      "[EPOCH:20]\t Train Loss:0.0013\t Train Acc:100.00 %  | \tValid Loss:0.0040 \tValid Acc: 84.26 %\n",
      "\n",
      "EarlyStopping counter: 2 out of 5\n",
      "\n",
      "[EPOCH:21]\t Train Loss:0.0012\t Train Acc:100.00 %  | \tValid Loss:0.0039 \tValid Acc: 83.76 %\n",
      "\n",
      "EarlyStopping counter: 3 out of 5\n",
      "\n",
      "[EPOCH:22]\t Train Loss:0.0012\t Train Acc:100.00 %  | \tValid Loss:0.0036 \tValid Acc: 85.79 %\n",
      "\n",
      "Validation loss decreased (0.003872 --> 0.003589).  Saving model ...\n",
      "\n",
      "[EPOCH:23]\t Train Loss:0.0012\t Train Acc:100.00 %  | \tValid Loss:0.0038 \tValid Acc: 82.23 %\n",
      "\n",
      "EarlyStopping counter: 1 out of 5\n",
      "\n",
      "[EPOCH:24]\t Train Loss:0.0011\t Train Acc:99.88 %  | \tValid Loss:0.0037 \tValid Acc: 83.25 %\n",
      "\n",
      "EarlyStopping counter: 2 out of 5\n",
      "\n",
      "[EPOCH:25]\t Train Loss:0.0011\t Train Acc:99.88 %  | \tValid Loss:0.0038 \tValid Acc: 84.26 %\n",
      "\n",
      "EarlyStopping counter: 3 out of 5\n",
      "\n",
      "[EPOCH:26]\t Train Loss:0.0011\t Train Acc:100.00 %  | \tValid Loss:0.0038 \tValid Acc: 84.26 %\n",
      "\n",
      "EarlyStopping counter: 4 out of 5\n",
      "\n",
      "[EPOCH:27]\t Train Loss:0.0010\t Train Acc:100.00 %  | \tValid Loss:0.0037 \tValid Acc: 83.25 %\n",
      "\n",
      "EarlyStopping counter: 5 out of 5\n",
      "[1 교차검증] Early stopping\n"
     ]
    },
    {
     "data": {
      "text/html": [
       "Waiting for W&B process to finish... <strong style=\"color:green\">(success).</strong>"
      ],
      "text/plain": [
       "<IPython.core.display.HTML object>"
      ]
     },
     "metadata": {},
     "output_type": "display_data"
    },
    {
     "data": {
      "application/vnd.jupyter.widget-view+json": {
       "model_id": "",
       "version_major": 2,
       "version_minor": 0
      },
      "text/plain": [
       "VBox(children=(Label(value='0.001 MB of 0.001 MB uploaded (0.000 MB deduped)\\r'), FloatProgress(value=1.0, max…"
      ]
     },
     "metadata": {},
     "output_type": "display_data"
    },
    {
     "data": {
      "text/html": [
       "<style>\n",
       "    table.wandb td:nth-child(1) { padding: 0 10px; text-align: left ; width: auto;} td:nth-child(2) {text-align: left ; width: 100%}\n",
       "    .wandb-row { display: flex; flex-direction: row; flex-wrap: wrap; justify-content: flex-start; width: 100% }\n",
       "    .wandb-col { display: flex; flex-direction: column; flex-basis: 100%; flex: 1; padding: 10px; }\n",
       "    </style>\n",
       "<div class=\"wandb-row\"><div class=\"wandb-col\"><h3>Run history:</h3><br/><table class=\"wandb\"><tr><td>Valid/Accuracy</td><td>▁▂▇▇▇▇▇▇▇▇▇████████████████</td></tr><tr><td>Valid/Loss</td><td>█▇▄▃▃▃▃▃▃▃▂▂▂▂▂▂▂▂▂▂▂▁▁▁▁▁▁</td></tr></table><br/></div><div class=\"wandb-col\"><h3>Run summary:</h3><br/><table class=\"wandb\"><tr><td>Valid/Accuracy</td><td>85.7868</td></tr><tr><td>Valid/Loss</td><td>0.00359</td></tr></table><br/></div></div>"
      ],
      "text/plain": [
       "<IPython.core.display.HTML object>"
      ]
     },
     "metadata": {},
     "output_type": "display_data"
    },
    {
     "data": {
      "text/html": [
       "Synced <strong style=\"color:#cdcd00\">lyric-sweep-21</strong>: <a href=\"https://wandb.ai/bub3690/SVD-hyp-sweep/runs/0exyeqei\" target=\"_blank\">https://wandb.ai/bub3690/SVD-hyp-sweep/runs/0exyeqei</a><br/>Synced 5 W&B file(s), 0 media file(s), 0 artifact file(s) and 0 other file(s)"
      ],
      "text/plain": [
       "<IPython.core.display.HTML object>"
      ]
     },
     "metadata": {},
     "output_type": "display_data"
    },
    {
     "data": {
      "text/html": [
       "Find logs at: <code>.\\wandb\\run-20220704_144945-0exyeqei\\logs</code>"
      ],
      "text/plain": [
       "<IPython.core.display.HTML object>"
      ]
     },
     "metadata": {},
     "output_type": "display_data"
    },
    {
     "name": "stderr",
     "output_type": "stream",
     "text": [
      "\u001b[34m\u001b[1mwandb\u001b[0m: Agent Starting Run: o8ugma0l with config:\n",
      "\u001b[34m\u001b[1mwandb\u001b[0m: \tbatch_size: 128\n",
      "\u001b[34m\u001b[1mwandb\u001b[0m: \tfold: 2\n",
      "\u001b[34m\u001b[1mwandb\u001b[0m: \u001b[33mWARNING\u001b[0m Ignored wandb.init() arg project when running a sweep.\n",
      "\u001b[34m\u001b[1mwandb\u001b[0m: \u001b[33mWARNING\u001b[0m Ignored wandb.init() arg entity when running a sweep.\n"
     ]
    },
    {
     "data": {
      "text/html": [
       "wandb version 0.12.20 is available!  To upgrade, please run:\n",
       " $ pip install wandb --upgrade"
      ],
      "text/plain": [
       "<IPython.core.display.HTML object>"
      ]
     },
     "metadata": {},
     "output_type": "display_data"
    },
    {
     "data": {
      "text/html": [
       "Tracking run with wandb version 0.12.16"
      ],
      "text/plain": [
       "<IPython.core.display.HTML object>"
      ]
     },
     "metadata": {},
     "output_type": "display_data"
    },
    {
     "data": {
      "text/html": [
       "Run data is saved locally in <code>D:\\project\\voice_pathology_ai\\model\\spectrogram\\ros\\wandb\\run-20220704_145407-o8ugma0l</code>"
      ],
      "text/plain": [
       "<IPython.core.display.HTML object>"
      ]
     },
     "metadata": {},
     "output_type": "display_data"
    },
    {
     "data": {
      "text/html": [
       "Syncing run <strong><a href=\"https://wandb.ai/bub3690/SVD-hyp-sweep/runs/o8ugma0l\" target=\"_blank\">cerulean-sweep-22</a></strong> to <a href=\"https://wandb.ai/bub3690/SVD-hyp-sweep\" target=\"_blank\">Weights & Biases</a> (<a href=\"https://wandb.me/run\" target=\"_blank\">docs</a>)<br/>Sweep page:  <a href=\"https://wandb.ai/bub3690/SVD-hyp-sweep/sweeps/j9mfv8ql\" target=\"_blank\">https://wandb.ai/bub3690/SVD-hyp-sweep/sweeps/j9mfv8ql</a>"
      ],
      "text/plain": [
       "<IPython.core.display.HTML object>"
      ]
     },
     "metadata": {},
     "output_type": "display_data"
    },
    {
     "name": "stdout",
     "output_type": "stream",
     "text": [
      "../../checkpoint/checkpoint_melspectro_resnet18_true_ros_2_organics.pt\n",
      "config: {'sample_rate': 16000, 'n_fft': 1024, 'n_mels': 128, 'hop_length': 100, 'win_length': 400, 'f_max': 80000, 'batch_size': 128, 'fold': 2}\n",
      "[2 교차검증] 학습 시작\n",
      " ----- \n",
      "\n",
      "[EPOCH:1]\t Train Loss:0.0057\t Train Acc:61.58 %  | \tValid Loss:0.0070 \tValid Acc: 54.82 %\n",
      "\n",
      "Validation loss decreased (inf --> 0.007017).  Saving model ...\n",
      "\n",
      "[EPOCH:2]\t Train Loss:0.0044\t Train Acc:75.37 %  | \tValid Loss:0.0065 \tValid Acc: 61.93 %\n",
      "\n",
      "Validation loss decreased (0.007017 --> 0.006503).  Saving model ...\n",
      "\n",
      "[EPOCH:3]\t Train Loss:0.0039\t Train Acc:79.56 %  | \tValid Loss:0.0051 \tValid Acc: 78.68 %\n",
      "\n",
      "Validation loss decreased (0.006503 --> 0.005141).  Saving model ...\n",
      "\n",
      "[EPOCH:4]\t Train Loss:0.0037\t Train Acc:83.25 %  | \tValid Loss:0.0045 \tValid Acc: 82.23 %\n",
      "\n",
      "Validation loss decreased (0.005141 --> 0.004527).  Saving model ...\n",
      "\n",
      "[EPOCH:5]\t Train Loss:0.0033\t Train Acc:87.44 %  | \tValid Loss:0.0042 \tValid Acc: 84.26 %\n",
      "\n",
      "Validation loss decreased (0.004527 --> 0.004225).  Saving model ...\n",
      "\n",
      "[EPOCH:6]\t Train Loss:0.0031\t Train Acc:90.39 %  | \tValid Loss:0.0045 \tValid Acc: 85.79 %\n",
      "\n",
      "EarlyStopping counter: 1 out of 5\n",
      "\n",
      "[EPOCH:7]\t Train Loss:0.0028\t Train Acc:92.73 %  | \tValid Loss:0.0042 \tValid Acc: 85.79 %\n",
      "\n",
      "Validation loss decreased (0.004225 --> 0.004157).  Saving model ...\n",
      "\n",
      "[EPOCH:8]\t Train Loss:0.0026\t Train Acc:94.95 %  | \tValid Loss:0.0041 \tValid Acc: 85.79 %\n",
      "\n",
      "Validation loss decreased (0.004157 --> 0.004135).  Saving model ...\n",
      "\n",
      "[EPOCH:9]\t Train Loss:0.0025\t Train Acc:95.94 %  | \tValid Loss:0.0040 \tValid Acc: 83.76 %\n",
      "\n",
      "Validation loss decreased (0.004135 --> 0.003951).  Saving model ...\n",
      "\n",
      "[EPOCH:10]\t Train Loss:0.0023\t Train Acc:97.91 %  | \tValid Loss:0.0040 \tValid Acc: 85.79 %\n",
      "\n",
      "EarlyStopping counter: 1 out of 5\n",
      "\n",
      "[EPOCH:11]\t Train Loss:0.0021\t Train Acc:97.54 %  | \tValid Loss:0.0039 \tValid Acc: 85.79 %\n",
      "\n",
      "Validation loss decreased (0.003951 --> 0.003875).  Saving model ...\n",
      "\n",
      "[EPOCH:12]\t Train Loss:0.0019\t Train Acc:99.14 %  | \tValid Loss:0.0040 \tValid Acc: 83.25 %\n",
      "\n",
      "EarlyStopping counter: 1 out of 5\n",
      "\n",
      "[EPOCH:13]\t Train Loss:0.0019\t Train Acc:99.51 %  | \tValid Loss:0.0040 \tValid Acc: 85.79 %\n",
      "\n",
      "EarlyStopping counter: 2 out of 5\n",
      "\n",
      "[EPOCH:14]\t Train Loss:0.0017\t Train Acc:99.63 %  | \tValid Loss:0.0038 \tValid Acc: 86.29 %\n",
      "\n",
      "Validation loss decreased (0.003875 --> 0.003835).  Saving model ...\n",
      "\n",
      "[EPOCH:15]\t Train Loss:0.0017\t Train Acc:99.63 %  | \tValid Loss:0.0038 \tValid Acc: 85.79 %\n",
      "\n",
      "Validation loss decreased (0.003835 --> 0.003779).  Saving model ...\n",
      "\n",
      "[EPOCH:16]\t Train Loss:0.0014\t Train Acc:99.63 %  | \tValid Loss:0.0037 \tValid Acc: 84.26 %\n",
      "\n",
      "Validation loss decreased (0.003779 --> 0.003681).  Saving model ...\n",
      "\n",
      "[EPOCH:17]\t Train Loss:0.0015\t Train Acc:99.88 %  | \tValid Loss:0.0038 \tValid Acc: 84.77 %\n",
      "\n",
      "EarlyStopping counter: 1 out of 5\n",
      "\n",
      "[EPOCH:18]\t Train Loss:0.0014\t Train Acc:99.88 %  | \tValid Loss:0.0037 \tValid Acc: 84.26 %\n",
      "\n",
      "EarlyStopping counter: 2 out of 5\n",
      "\n",
      "[EPOCH:19]\t Train Loss:0.0014\t Train Acc:99.88 %  | \tValid Loss:0.0040 \tValid Acc: 84.26 %\n",
      "\n",
      "EarlyStopping counter: 3 out of 5\n",
      "\n",
      "[EPOCH:20]\t Train Loss:0.0013\t Train Acc:100.00 %  | \tValid Loss:0.0040 \tValid Acc: 83.76 %\n",
      "\n",
      "EarlyStopping counter: 4 out of 5\n",
      "\n",
      "[EPOCH:21]\t Train Loss:0.0013\t Train Acc:99.88 %  | \tValid Loss:0.0035 \tValid Acc: 84.77 %\n",
      "\n",
      "Validation loss decreased (0.003681 --> 0.003474).  Saving model ...\n",
      "\n",
      "[EPOCH:22]\t Train Loss:0.0012\t Train Acc:100.00 %  | \tValid Loss:0.0036 \tValid Acc: 84.26 %\n",
      "\n",
      "EarlyStopping counter: 1 out of 5\n",
      "\n",
      "[EPOCH:23]\t Train Loss:0.0012\t Train Acc:100.00 %  | \tValid Loss:0.0038 \tValid Acc: 84.26 %\n",
      "\n",
      "EarlyStopping counter: 2 out of 5\n",
      "\n",
      "[EPOCH:24]\t Train Loss:0.0011\t Train Acc:100.00 %  | \tValid Loss:0.0035 \tValid Acc: 82.74 %\n",
      "\n",
      "EarlyStopping counter: 3 out of 5\n",
      "\n",
      "[EPOCH:25]\t Train Loss:0.0011\t Train Acc:100.00 %  | \tValid Loss:0.0036 \tValid Acc: 83.76 %\n",
      "\n",
      "EarlyStopping counter: 4 out of 5\n",
      "\n",
      "[EPOCH:26]\t Train Loss:0.0010\t Train Acc:99.88 %  | \tValid Loss:0.0036 \tValid Acc: 83.25 %\n",
      "\n",
      "EarlyStopping counter: 5 out of 5\n",
      "[2 교차검증] Early stopping\n"
     ]
    },
    {
     "data": {
      "text/html": [
       "Waiting for W&B process to finish... <strong style=\"color:green\">(success).</strong>"
      ],
      "text/plain": [
       "<IPython.core.display.HTML object>"
      ]
     },
     "metadata": {},
     "output_type": "display_data"
    },
    {
     "data": {
      "application/vnd.jupyter.widget-view+json": {
       "model_id": "",
       "version_major": 2,
       "version_minor": 0
      },
      "text/plain": [
       "VBox(children=(Label(value='0.001 MB of 0.001 MB uploaded (0.000 MB deduped)\\r'), FloatProgress(value=1.0, max…"
      ]
     },
     "metadata": {},
     "output_type": "display_data"
    },
    {
     "data": {
      "text/html": [
       "<style>\n",
       "    table.wandb td:nth-child(1) { padding: 0 10px; text-align: left ; width: auto;} td:nth-child(2) {text-align: left ; width: 100%}\n",
       "    .wandb-row { display: flex; flex-direction: row; flex-wrap: wrap; justify-content: flex-start; width: 100% }\n",
       "    .wandb-col { display: flex; flex-direction: column; flex-basis: 100%; flex: 1; padding: 10px; }\n",
       "    </style>\n",
       "<div class=\"wandb-row\"><div class=\"wandb-col\"><h3>Run history:</h3><br/><table class=\"wandb\"><tr><td>Valid/Accuracy</td><td>▁▃▆▇████▇▇████████████████</td></tr><tr><td>Valid/Loss</td><td>█▇▄▃▂▂▂▂▂▂▂▂▂▂▂▁▁▁▁▁▁▁▁▁▁▁</td></tr></table><br/></div><div class=\"wandb-col\"><h3>Run summary:</h3><br/><table class=\"wandb\"><tr><td>Valid/Accuracy</td><td>84.77157</td></tr><tr><td>Valid/Loss</td><td>0.00347</td></tr></table><br/></div></div>"
      ],
      "text/plain": [
       "<IPython.core.display.HTML object>"
      ]
     },
     "metadata": {},
     "output_type": "display_data"
    },
    {
     "data": {
      "text/html": [
       "Synced <strong style=\"color:#cdcd00\">cerulean-sweep-22</strong>: <a href=\"https://wandb.ai/bub3690/SVD-hyp-sweep/runs/o8ugma0l\" target=\"_blank\">https://wandb.ai/bub3690/SVD-hyp-sweep/runs/o8ugma0l</a><br/>Synced 5 W&B file(s), 0 media file(s), 0 artifact file(s) and 0 other file(s)"
      ],
      "text/plain": [
       "<IPython.core.display.HTML object>"
      ]
     },
     "metadata": {},
     "output_type": "display_data"
    },
    {
     "data": {
      "text/html": [
       "Find logs at: <code>.\\wandb\\run-20220704_145407-o8ugma0l\\logs</code>"
      ],
      "text/plain": [
       "<IPython.core.display.HTML object>"
      ]
     },
     "metadata": {},
     "output_type": "display_data"
    },
    {
     "name": "stderr",
     "output_type": "stream",
     "text": [
      "\u001b[34m\u001b[1mwandb\u001b[0m: Agent Starting Run: wsx0agfr with config:\n",
      "\u001b[34m\u001b[1mwandb\u001b[0m: \tbatch_size: 128\n",
      "\u001b[34m\u001b[1mwandb\u001b[0m: \tfold: 3\n",
      "\u001b[34m\u001b[1mwandb\u001b[0m: \u001b[33mWARNING\u001b[0m Ignored wandb.init() arg project when running a sweep.\n",
      "\u001b[34m\u001b[1mwandb\u001b[0m: \u001b[33mWARNING\u001b[0m Ignored wandb.init() arg entity when running a sweep.\n"
     ]
    },
    {
     "data": {
      "text/html": [
       "wandb version 0.12.20 is available!  To upgrade, please run:\n",
       " $ pip install wandb --upgrade"
      ],
      "text/plain": [
       "<IPython.core.display.HTML object>"
      ]
     },
     "metadata": {},
     "output_type": "display_data"
    },
    {
     "data": {
      "text/html": [
       "Tracking run with wandb version 0.12.16"
      ],
      "text/plain": [
       "<IPython.core.display.HTML object>"
      ]
     },
     "metadata": {},
     "output_type": "display_data"
    },
    {
     "data": {
      "text/html": [
       "Run data is saved locally in <code>D:\\project\\voice_pathology_ai\\model\\spectrogram\\ros\\wandb\\run-20220704_145643-wsx0agfr</code>"
      ],
      "text/plain": [
       "<IPython.core.display.HTML object>"
      ]
     },
     "metadata": {},
     "output_type": "display_data"
    },
    {
     "data": {
      "text/html": [
       "Syncing run <strong><a href=\"https://wandb.ai/bub3690/SVD-hyp-sweep/runs/wsx0agfr\" target=\"_blank\">polished-sweep-23</a></strong> to <a href=\"https://wandb.ai/bub3690/SVD-hyp-sweep\" target=\"_blank\">Weights & Biases</a> (<a href=\"https://wandb.me/run\" target=\"_blank\">docs</a>)<br/>Sweep page:  <a href=\"https://wandb.ai/bub3690/SVD-hyp-sweep/sweeps/j9mfv8ql\" target=\"_blank\">https://wandb.ai/bub3690/SVD-hyp-sweep/sweeps/j9mfv8ql</a>"
      ],
      "text/plain": [
       "<IPython.core.display.HTML object>"
      ]
     },
     "metadata": {},
     "output_type": "display_data"
    },
    {
     "name": "stdout",
     "output_type": "stream",
     "text": [
      "../../checkpoint/checkpoint_melspectro_resnet18_true_ros_3_organics.pt\n",
      "config: {'sample_rate': 16000, 'n_fft': 1024, 'n_mels': 128, 'hop_length': 100, 'win_length': 400, 'f_max': 80000, 'batch_size': 128, 'fold': 3}\n",
      "[3 교차검증] 학습 시작\n",
      " ----- \n",
      "\n",
      "[EPOCH:1]\t Train Loss:0.0057\t Train Acc:58.64 %  | \tValid Loss:0.0070 \tValid Acc: 45.69 %\n",
      "\n",
      "Validation loss decreased (inf --> 0.007022).  Saving model ...\n",
      "\n",
      "[EPOCH:2]\t Train Loss:0.0048\t Train Acc:72.96 %  | \tValid Loss:0.0065 \tValid Acc: 71.07 %\n",
      "\n",
      "Validation loss decreased (0.007022 --> 0.006538).  Saving model ...\n",
      "\n",
      "[EPOCH:3]\t Train Loss:0.0044\t Train Acc:79.38 %  | \tValid Loss:0.0055 \tValid Acc: 79.70 %\n",
      "\n",
      "Validation loss decreased (0.006538 --> 0.005542).  Saving model ...\n",
      "\n",
      "[EPOCH:4]\t Train Loss:0.0041\t Train Acc:82.84 %  | \tValid Loss:0.0050 \tValid Acc: 81.73 %\n",
      "\n",
      "Validation loss decreased (0.005542 --> 0.005038).  Saving model ...\n",
      "\n",
      "[EPOCH:5]\t Train Loss:0.0040\t Train Acc:84.81 %  | \tValid Loss:0.0049 \tValid Acc: 83.76 %\n",
      "\n",
      "Validation loss decreased (0.005038 --> 0.004854).  Saving model ...\n",
      "\n",
      "[EPOCH:6]\t Train Loss:0.0036\t Train Acc:89.51 %  | \tValid Loss:0.0048 \tValid Acc: 83.76 %\n",
      "\n",
      "Validation loss decreased (0.004854 --> 0.004770).  Saving model ...\n",
      "\n",
      "[EPOCH:7]\t Train Loss:0.0035\t Train Acc:90.25 %  | \tValid Loss:0.0045 \tValid Acc: 84.77 %\n",
      "\n",
      "Validation loss decreased (0.004770 --> 0.004539).  Saving model ...\n",
      "\n",
      "[EPOCH:8]\t Train Loss:0.0033\t Train Acc:92.47 %  | \tValid Loss:0.0043 \tValid Acc: 83.25 %\n",
      "\n",
      "Validation loss decreased (0.004539 --> 0.004264).  Saving model ...\n",
      "\n",
      "[EPOCH:9]\t Train Loss:0.0031\t Train Acc:93.95 %  | \tValid Loss:0.0042 \tValid Acc: 85.79 %\n",
      "\n",
      "Validation loss decreased (0.004264 --> 0.004192).  Saving model ...\n",
      "\n",
      "[EPOCH:10]\t Train Loss:0.0029\t Train Acc:96.05 %  | \tValid Loss:0.0045 \tValid Acc: 84.77 %\n",
      "\n",
      "EarlyStopping counter: 1 out of 5\n",
      "\n",
      "[EPOCH:11]\t Train Loss:0.0028\t Train Acc:95.80 %  | \tValid Loss:0.0044 \tValid Acc: 82.23 %\n",
      "\n",
      "EarlyStopping counter: 2 out of 5\n",
      "\n",
      "[EPOCH:12]\t Train Loss:0.0026\t Train Acc:98.02 %  | \tValid Loss:0.0042 \tValid Acc: 85.79 %\n",
      "\n",
      "Validation loss decreased (0.004192 --> 0.004191).  Saving model ...\n",
      "\n",
      "[EPOCH:13]\t Train Loss:0.0025\t Train Acc:98.52 %  | \tValid Loss:0.0040 \tValid Acc: 85.28 %\n",
      "\n",
      "Validation loss decreased (0.004191 --> 0.003979).  Saving model ...\n",
      "\n",
      "[EPOCH:14]\t Train Loss:0.0024\t Train Acc:99.26 %  | \tValid Loss:0.0040 \tValid Acc: 85.28 %\n",
      "\n",
      "Validation loss decreased (0.003979 --> 0.003955).  Saving model ...\n",
      "\n",
      "[EPOCH:15]\t Train Loss:0.0023\t Train Acc:99.01 %  | \tValid Loss:0.0040 \tValid Acc: 84.77 %\n",
      "\n",
      "EarlyStopping counter: 1 out of 5\n",
      "\n",
      "[EPOCH:16]\t Train Loss:0.0021\t Train Acc:99.88 %  | \tValid Loss:0.0039 \tValid Acc: 86.29 %\n",
      "\n",
      "Validation loss decreased (0.003955 --> 0.003949).  Saving model ...\n",
      "\n",
      "[EPOCH:17]\t Train Loss:0.0020\t Train Acc:99.88 %  | \tValid Loss:0.0036 \tValid Acc: 86.29 %\n",
      "\n",
      "Validation loss decreased (0.003949 --> 0.003647).  Saving model ...\n",
      "\n",
      "[EPOCH:18]\t Train Loss:0.0019\t Train Acc:99.88 %  | \tValid Loss:0.0037 \tValid Acc: 86.29 %\n",
      "\n",
      "EarlyStopping counter: 1 out of 5\n",
      "\n",
      "[EPOCH:19]\t Train Loss:0.0018\t Train Acc:100.00 %  | \tValid Loss:0.0038 \tValid Acc: 83.25 %\n",
      "\n",
      "EarlyStopping counter: 2 out of 5\n",
      "\n",
      "[EPOCH:20]\t Train Loss:0.0017\t Train Acc:100.00 %  | \tValid Loss:0.0040 \tValid Acc: 85.28 %\n",
      "\n",
      "EarlyStopping counter: 3 out of 5\n",
      "\n",
      "[EPOCH:21]\t Train Loss:0.0017\t Train Acc:100.00 %  | \tValid Loss:0.0034 \tValid Acc: 86.80 %\n",
      "\n",
      "Validation loss decreased (0.003647 --> 0.003386).  Saving model ...\n",
      "\n",
      "[EPOCH:22]\t Train Loss:0.0017\t Train Acc:99.88 %  | \tValid Loss:0.0034 \tValid Acc: 86.80 %\n",
      "\n",
      "Validation loss decreased (0.003386 --> 0.003351).  Saving model ...\n",
      "\n",
      "[EPOCH:23]\t Train Loss:0.0016\t Train Acc:99.88 %  | \tValid Loss:0.0035 \tValid Acc: 86.29 %\n",
      "\n",
      "EarlyStopping counter: 1 out of 5\n",
      "\n",
      "[EPOCH:24]\t Train Loss:0.0015\t Train Acc:99.88 %  | \tValid Loss:0.0036 \tValid Acc: 84.77 %\n",
      "\n",
      "EarlyStopping counter: 2 out of 5\n",
      "\n",
      "[EPOCH:25]\t Train Loss:0.0015\t Train Acc:99.88 %  | \tValid Loss:0.0035 \tValid Acc: 85.28 %\n",
      "\n",
      "EarlyStopping counter: 3 out of 5\n",
      "\n",
      "[EPOCH:26]\t Train Loss:0.0014\t Train Acc:100.00 %  | \tValid Loss:0.0032 \tValid Acc: 86.80 %\n",
      "\n",
      "Validation loss decreased (0.003351 --> 0.003216).  Saving model ...\n",
      "\n",
      "[EPOCH:27]\t Train Loss:0.0014\t Train Acc:100.00 %  | \tValid Loss:0.0032 \tValid Acc: 87.31 %\n",
      "\n",
      "Validation loss decreased (0.003216 --> 0.003151).  Saving model ...\n",
      "\n",
      "[EPOCH:28]\t Train Loss:0.0013\t Train Acc:100.00 %  | \tValid Loss:0.0031 \tValid Acc: 86.29 %\n",
      "\n",
      "Validation loss decreased (0.003151 --> 0.003142).  Saving model ...\n",
      "\n",
      "[EPOCH:29]\t Train Loss:0.0013\t Train Acc:100.00 %  | \tValid Loss:0.0031 \tValid Acc: 85.28 %\n",
      "\n",
      "Validation loss decreased (0.003142 --> 0.003135).  Saving model ...\n",
      "\n",
      "[EPOCH:30]\t Train Loss:0.0013\t Train Acc:100.00 %  | \tValid Loss:0.0033 \tValid Acc: 85.28 %\n",
      "\n",
      "EarlyStopping counter: 1 out of 5\n",
      "\n",
      "[EPOCH:31]\t Train Loss:0.0012\t Train Acc:100.00 %  | \tValid Loss:0.0035 \tValid Acc: 85.79 %\n",
      "\n",
      "EarlyStopping counter: 2 out of 5\n",
      "\n",
      "[EPOCH:32]\t Train Loss:0.0012\t Train Acc:100.00 %  | \tValid Loss:0.0033 \tValid Acc: 85.79 %\n",
      "\n",
      "EarlyStopping counter: 3 out of 5\n",
      "\n",
      "[EPOCH:33]\t Train Loss:0.0011\t Train Acc:100.00 %  | \tValid Loss:0.0031 \tValid Acc: 88.32 %\n",
      "\n",
      "Validation loss decreased (0.003135 --> 0.003131).  Saving model ...\n",
      "\n",
      "[EPOCH:34]\t Train Loss:0.0011\t Train Acc:100.00 %  | \tValid Loss:0.0032 \tValid Acc: 86.29 %\n",
      "\n",
      "EarlyStopping counter: 1 out of 5\n",
      "\n",
      "[EPOCH:35]\t Train Loss:0.0011\t Train Acc:99.88 %  | \tValid Loss:0.0033 \tValid Acc: 87.31 %\n",
      "\n",
      "EarlyStopping counter: 2 out of 5\n",
      "\n",
      "[EPOCH:36]\t Train Loss:0.0010\t Train Acc:100.00 %  | \tValid Loss:0.0033 \tValid Acc: 87.31 %\n",
      "\n",
      "EarlyStopping counter: 3 out of 5\n",
      "\n",
      "[EPOCH:37]\t Train Loss:0.0010\t Train Acc:100.00 %  | \tValid Loss:0.0034 \tValid Acc: 85.28 %\n",
      "\n",
      "EarlyStopping counter: 4 out of 5\n",
      "\n",
      "[EPOCH:38]\t Train Loss:0.0010\t Train Acc:100.00 %  | \tValid Loss:0.0035 \tValid Acc: 83.76 %\n",
      "\n",
      "EarlyStopping counter: 5 out of 5\n",
      "[3 교차검증] Early stopping\n"
     ]
    },
    {
     "data": {
      "text/html": [
       "Waiting for W&B process to finish... <strong style=\"color:green\">(success).</strong>"
      ],
      "text/plain": [
       "<IPython.core.display.HTML object>"
      ]
     },
     "metadata": {},
     "output_type": "display_data"
    },
    {
     "data": {
      "application/vnd.jupyter.widget-view+json": {
       "model_id": "",
       "version_major": 2,
       "version_minor": 0
      },
      "text/plain": [
       "VBox(children=(Label(value='0.001 MB of 0.001 MB uploaded (0.000 MB deduped)\\r'), FloatProgress(value=1.0, max…"
      ]
     },
     "metadata": {},
     "output_type": "display_data"
    },
    {
     "data": {
      "text/html": [
       "<style>\n",
       "    table.wandb td:nth-child(1) { padding: 0 10px; text-align: left ; width: auto;} td:nth-child(2) {text-align: left ; width: 100%}\n",
       "    .wandb-row { display: flex; flex-direction: row; flex-wrap: wrap; justify-content: flex-start; width: 100% }\n",
       "    .wandb-col { display: flex; flex-direction: column; flex-basis: 100%; flex: 1; padding: 10px; }\n",
       "    </style>\n",
       "<div class=\"wandb-row\"><div class=\"wandb-col\"><h3>Run history:</h3><br/><table class=\"wandb\"><tr><td>Valid/Accuracy</td><td>▁▅▇▇▇▇▇▇██████████████████████████████</td></tr><tr><td>Valid/Loss</td><td>█▇▅▄▄▄▄▃▃▃▃▃▃▂▂▂▂▂▂▂▁▁▁▁▁▁▁▁▁▁▁▁▁▁▁▁▁▁</td></tr></table><br/></div><div class=\"wandb-col\"><h3>Run summary:</h3><br/><table class=\"wandb\"><tr><td>Valid/Accuracy</td><td>88.32487</td></tr><tr><td>Valid/Loss</td><td>0.00313</td></tr></table><br/></div></div>"
      ],
      "text/plain": [
       "<IPython.core.display.HTML object>"
      ]
     },
     "metadata": {},
     "output_type": "display_data"
    },
    {
     "data": {
      "text/html": [
       "Synced <strong style=\"color:#cdcd00\">polished-sweep-23</strong>: <a href=\"https://wandb.ai/bub3690/SVD-hyp-sweep/runs/wsx0agfr\" target=\"_blank\">https://wandb.ai/bub3690/SVD-hyp-sweep/runs/wsx0agfr</a><br/>Synced 5 W&B file(s), 0 media file(s), 0 artifact file(s) and 0 other file(s)"
      ],
      "text/plain": [
       "<IPython.core.display.HTML object>"
      ]
     },
     "metadata": {},
     "output_type": "display_data"
    },
    {
     "data": {
      "text/html": [
       "Find logs at: <code>.\\wandb\\run-20220704_145643-wsx0agfr\\logs</code>"
      ],
      "text/plain": [
       "<IPython.core.display.HTML object>"
      ]
     },
     "metadata": {},
     "output_type": "display_data"
    },
    {
     "name": "stderr",
     "output_type": "stream",
     "text": [
      "\u001b[34m\u001b[1mwandb\u001b[0m: Sweep Agent: Waiting for job.\n",
      "\u001b[34m\u001b[1mwandb\u001b[0m: Job received.\n",
      "\u001b[34m\u001b[1mwandb\u001b[0m: Agent Starting Run: q12cyk98 with config:\n",
      "\u001b[34m\u001b[1mwandb\u001b[0m: \tbatch_size: 128\n",
      "\u001b[34m\u001b[1mwandb\u001b[0m: \tfold: 4\n",
      "\u001b[34m\u001b[1mwandb\u001b[0m: \u001b[33mWARNING\u001b[0m Ignored wandb.init() arg project when running a sweep.\n",
      "\u001b[34m\u001b[1mwandb\u001b[0m: \u001b[33mWARNING\u001b[0m Ignored wandb.init() arg entity when running a sweep.\n"
     ]
    },
    {
     "data": {
      "text/html": [
       "wandb version 0.12.20 is available!  To upgrade, please run:\n",
       " $ pip install wandb --upgrade"
      ],
      "text/plain": [
       "<IPython.core.display.HTML object>"
      ]
     },
     "metadata": {},
     "output_type": "display_data"
    },
    {
     "data": {
      "text/html": [
       "Tracking run with wandb version 0.12.16"
      ],
      "text/plain": [
       "<IPython.core.display.HTML object>"
      ]
     },
     "metadata": {},
     "output_type": "display_data"
    },
    {
     "data": {
      "text/html": [
       "Run data is saved locally in <code>D:\\project\\voice_pathology_ai\\model\\spectrogram\\ros\\wandb\\run-20220704_150038-q12cyk98</code>"
      ],
      "text/plain": [
       "<IPython.core.display.HTML object>"
      ]
     },
     "metadata": {},
     "output_type": "display_data"
    },
    {
     "data": {
      "text/html": [
       "Syncing run <strong><a href=\"https://wandb.ai/bub3690/SVD-hyp-sweep/runs/q12cyk98\" target=\"_blank\">ethereal-sweep-24</a></strong> to <a href=\"https://wandb.ai/bub3690/SVD-hyp-sweep\" target=\"_blank\">Weights & Biases</a> (<a href=\"https://wandb.me/run\" target=\"_blank\">docs</a>)<br/>Sweep page:  <a href=\"https://wandb.ai/bub3690/SVD-hyp-sweep/sweeps/j9mfv8ql\" target=\"_blank\">https://wandb.ai/bub3690/SVD-hyp-sweep/sweeps/j9mfv8ql</a>"
      ],
      "text/plain": [
       "<IPython.core.display.HTML object>"
      ]
     },
     "metadata": {},
     "output_type": "display_data"
    },
    {
     "name": "stdout",
     "output_type": "stream",
     "text": [
      "../../checkpoint/checkpoint_melspectro_resnet18_true_ros_4_organics.pt\n",
      "config: {'sample_rate': 16000, 'n_fft': 1024, 'n_mels': 128, 'hop_length': 100, 'win_length': 400, 'f_max': 80000, 'batch_size': 128, 'fold': 4}\n",
      "[4 교차검증] 학습 시작\n",
      " ----- \n",
      "\n",
      "[EPOCH:1]\t Train Loss:0.0059\t Train Acc:56.67 %  | \tValid Loss:0.0070 \tValid Acc: 45.69 %\n",
      "\n",
      "Validation loss decreased (inf --> 0.007043).  Saving model ...\n",
      "\n",
      "[EPOCH:2]\t Train Loss:0.0048\t Train Acc:68.89 %  | \tValid Loss:0.0066 \tValid Acc: 73.10 %\n",
      "\n",
      "Validation loss decreased (0.007043 --> 0.006607).  Saving model ...\n",
      "\n",
      "[EPOCH:3]\t Train Loss:0.0043\t Train Acc:76.30 %  | \tValid Loss:0.0054 \tValid Acc: 78.17 %\n",
      "\n",
      "Validation loss decreased (0.006607 --> 0.005364).  Saving model ...\n",
      "\n",
      "[EPOCH:4]\t Train Loss:0.0041\t Train Acc:78.27 %  | \tValid Loss:0.0049 \tValid Acc: 79.70 %\n",
      "\n",
      "Validation loss decreased (0.005364 --> 0.004879).  Saving model ...\n",
      "\n",
      "[EPOCH:5]\t Train Loss:0.0038\t Train Acc:83.46 %  | \tValid Loss:0.0047 \tValid Acc: 81.73 %\n",
      "\n",
      "Validation loss decreased (0.004879 --> 0.004710).  Saving model ...\n",
      "\n",
      "[EPOCH:6]\t Train Loss:0.0036\t Train Acc:85.19 %  | \tValid Loss:0.0047 \tValid Acc: 83.25 %\n",
      "\n",
      "Validation loss decreased (0.004710 --> 0.004695).  Saving model ...\n",
      "\n",
      "[EPOCH:7]\t Train Loss:0.0035\t Train Acc:85.93 %  | \tValid Loss:0.0043 \tValid Acc: 82.23 %\n",
      "\n",
      "Validation loss decreased (0.004695 --> 0.004299).  Saving model ...\n",
      "\n",
      "[EPOCH:8]\t Train Loss:0.0033\t Train Acc:88.40 %  | \tValid Loss:0.0044 \tValid Acc: 84.26 %\n",
      "\n",
      "EarlyStopping counter: 1 out of 5\n",
      "\n",
      "[EPOCH:9]\t Train Loss:0.0029\t Train Acc:92.84 %  | \tValid Loss:0.0043 \tValid Acc: 84.77 %\n",
      "\n",
      "Validation loss decreased (0.004299 --> 0.004297).  Saving model ...\n",
      "\n",
      "[EPOCH:10]\t Train Loss:0.0027\t Train Acc:93.95 %  | \tValid Loss:0.0042 \tValid Acc: 83.25 %\n",
      "\n",
      "Validation loss decreased (0.004297 --> 0.004209).  Saving model ...\n",
      "\n",
      "[EPOCH:11]\t Train Loss:0.0026\t Train Acc:95.43 %  | \tValid Loss:0.0040 \tValid Acc: 85.28 %\n",
      "\n",
      "Validation loss decreased (0.004209 --> 0.004034).  Saving model ...\n",
      "\n",
      "[EPOCH:12]\t Train Loss:0.0024\t Train Acc:97.04 %  | \tValid Loss:0.0041 \tValid Acc: 85.79 %\n",
      "\n",
      "EarlyStopping counter: 1 out of 5\n",
      "\n",
      "[EPOCH:13]\t Train Loss:0.0022\t Train Acc:97.90 %  | \tValid Loss:0.0041 \tValid Acc: 85.28 %\n",
      "\n",
      "EarlyStopping counter: 2 out of 5\n",
      "\n",
      "[EPOCH:14]\t Train Loss:0.0020\t Train Acc:98.52 %  | \tValid Loss:0.0040 \tValid Acc: 84.77 %\n",
      "\n",
      "Validation loss decreased (0.004034 --> 0.003957).  Saving model ...\n",
      "\n",
      "[EPOCH:15]\t Train Loss:0.0019\t Train Acc:98.40 %  | \tValid Loss:0.0037 \tValid Acc: 84.77 %\n",
      "\n",
      "Validation loss decreased (0.003957 --> 0.003740).  Saving model ...\n",
      "\n",
      "[EPOCH:16]\t Train Loss:0.0018\t Train Acc:99.26 %  | \tValid Loss:0.0039 \tValid Acc: 84.77 %\n",
      "\n",
      "EarlyStopping counter: 1 out of 5\n",
      "\n",
      "[EPOCH:17]\t Train Loss:0.0016\t Train Acc:99.51 %  | \tValid Loss:0.0038 \tValid Acc: 84.26 %\n",
      "\n",
      "EarlyStopping counter: 2 out of 5\n",
      "\n",
      "[EPOCH:18]\t Train Loss:0.0016\t Train Acc:99.51 %  | \tValid Loss:0.0038 \tValid Acc: 83.76 %\n",
      "\n",
      "EarlyStopping counter: 3 out of 5\n",
      "\n",
      "[EPOCH:19]\t Train Loss:0.0015\t Train Acc:99.88 %  | \tValid Loss:0.0037 \tValid Acc: 85.28 %\n",
      "\n",
      "Validation loss decreased (0.003740 --> 0.003721).  Saving model ...\n",
      "\n",
      "[EPOCH:20]\t Train Loss:0.0015\t Train Acc:100.00 %  | \tValid Loss:0.0039 \tValid Acc: 85.28 %\n",
      "\n",
      "EarlyStopping counter: 1 out of 5\n",
      "\n",
      "[EPOCH:21]\t Train Loss:0.0014\t Train Acc:100.00 %  | \tValid Loss:0.0038 \tValid Acc: 85.28 %\n",
      "\n",
      "EarlyStopping counter: 2 out of 5\n",
      "\n",
      "[EPOCH:22]\t Train Loss:0.0014\t Train Acc:99.88 %  | \tValid Loss:0.0037 \tValid Acc: 83.76 %\n",
      "\n",
      "Validation loss decreased (0.003721 --> 0.003720).  Saving model ...\n",
      "\n",
      "[EPOCH:23]\t Train Loss:0.0013\t Train Acc:100.00 %  | \tValid Loss:0.0038 \tValid Acc: 86.29 %\n",
      "\n",
      "EarlyStopping counter: 1 out of 5\n",
      "\n",
      "[EPOCH:24]\t Train Loss:0.0013\t Train Acc:99.75 %  | \tValid Loss:0.0035 \tValid Acc: 86.80 %\n",
      "\n",
      "Validation loss decreased (0.003720 --> 0.003535).  Saving model ...\n",
      "\n",
      "[EPOCH:25]\t Train Loss:0.0012\t Train Acc:100.00 %  | \tValid Loss:0.0036 \tValid Acc: 86.29 %\n",
      "\n",
      "EarlyStopping counter: 1 out of 5\n",
      "\n",
      "[EPOCH:26]\t Train Loss:0.0011\t Train Acc:100.00 %  | \tValid Loss:0.0038 \tValid Acc: 84.77 %\n",
      "\n",
      "EarlyStopping counter: 2 out of 5\n",
      "\n",
      "[EPOCH:27]\t Train Loss:0.0011\t Train Acc:100.00 %  | \tValid Loss:0.0037 \tValid Acc: 84.77 %\n",
      "\n",
      "EarlyStopping counter: 3 out of 5\n",
      "\n",
      "[EPOCH:28]\t Train Loss:0.0011\t Train Acc:99.88 %  | \tValid Loss:0.0037 \tValid Acc: 85.79 %\n",
      "\n",
      "EarlyStopping counter: 4 out of 5\n",
      "\n",
      "[EPOCH:29]\t Train Loss:0.0010\t Train Acc:99.88 %  | \tValid Loss:0.0037 \tValid Acc: 84.26 %\n",
      "\n",
      "EarlyStopping counter: 5 out of 5\n",
      "[4 교차검증] Early stopping\n"
     ]
    },
    {
     "data": {
      "text/html": [
       "Waiting for W&B process to finish... <strong style=\"color:green\">(success).</strong>"
      ],
      "text/plain": [
       "<IPython.core.display.HTML object>"
      ]
     },
     "metadata": {},
     "output_type": "display_data"
    },
    {
     "data": {
      "application/vnd.jupyter.widget-view+json": {
       "model_id": "",
       "version_major": 2,
       "version_minor": 0
      },
      "text/plain": [
       "VBox(children=(Label(value='0.001 MB of 0.001 MB uploaded (0.000 MB deduped)\\r'), FloatProgress(value=1.0, max…"
      ]
     },
     "metadata": {},
     "output_type": "display_data"
    },
    {
     "data": {
      "text/html": [
       "<style>\n",
       "    table.wandb td:nth-child(1) { padding: 0 10px; text-align: left ; width: auto;} td:nth-child(2) {text-align: left ; width: 100%}\n",
       "    .wandb-row { display: flex; flex-direction: row; flex-wrap: wrap; justify-content: flex-start; width: 100% }\n",
       "    .wandb-col { display: flex; flex-direction: column; flex-basis: 100%; flex: 1; padding: 10px; }\n",
       "    </style>\n",
       "<div class=\"wandb-row\"><div class=\"wandb-col\"><h3>Run history:</h3><br/><table class=\"wandb\"><tr><td>Valid/Accuracy</td><td>▁▆▇▇▇▇▇▇█▇███████████▇▇██████</td></tr><tr><td>Valid/Loss</td><td>█▇▅▄▃▃▃▃▃▂▂▂▂▂▁▁▁▁▁▁▁▁▁▁▁▁▁▁▁</td></tr></table><br/></div><div class=\"wandb-col\"><h3>Run summary:</h3><br/><table class=\"wandb\"><tr><td>Valid/Accuracy</td><td>86.80203</td></tr><tr><td>Valid/Loss</td><td>0.00353</td></tr></table><br/></div></div>"
      ],
      "text/plain": [
       "<IPython.core.display.HTML object>"
      ]
     },
     "metadata": {},
     "output_type": "display_data"
    },
    {
     "data": {
      "text/html": [
       "Synced <strong style=\"color:#cdcd00\">ethereal-sweep-24</strong>: <a href=\"https://wandb.ai/bub3690/SVD-hyp-sweep/runs/q12cyk98\" target=\"_blank\">https://wandb.ai/bub3690/SVD-hyp-sweep/runs/q12cyk98</a><br/>Synced 5 W&B file(s), 0 media file(s), 0 artifact file(s) and 0 other file(s)"
      ],
      "text/plain": [
       "<IPython.core.display.HTML object>"
      ]
     },
     "metadata": {},
     "output_type": "display_data"
    },
    {
     "data": {
      "text/html": [
       "Find logs at: <code>.\\wandb\\run-20220704_150038-q12cyk98\\logs</code>"
      ],
      "text/plain": [
       "<IPython.core.display.HTML object>"
      ]
     },
     "metadata": {},
     "output_type": "display_data"
    },
    {
     "name": "stderr",
     "output_type": "stream",
     "text": [
      "\u001b[34m\u001b[1mwandb\u001b[0m: Agent Starting Run: 0bw17da9 with config:\n",
      "\u001b[34m\u001b[1mwandb\u001b[0m: \tbatch_size: 128\n",
      "\u001b[34m\u001b[1mwandb\u001b[0m: \tfold: 5\n",
      "\u001b[34m\u001b[1mwandb\u001b[0m: \u001b[33mWARNING\u001b[0m Ignored wandb.init() arg project when running a sweep.\n",
      "\u001b[34m\u001b[1mwandb\u001b[0m: \u001b[33mWARNING\u001b[0m Ignored wandb.init() arg entity when running a sweep.\n"
     ]
    },
    {
     "data": {
      "text/html": [
       "wandb version 0.12.20 is available!  To upgrade, please run:\n",
       " $ pip install wandb --upgrade"
      ],
      "text/plain": [
       "<IPython.core.display.HTML object>"
      ]
     },
     "metadata": {},
     "output_type": "display_data"
    },
    {
     "data": {
      "text/html": [
       "Tracking run with wandb version 0.12.16"
      ],
      "text/plain": [
       "<IPython.core.display.HTML object>"
      ]
     },
     "metadata": {},
     "output_type": "display_data"
    },
    {
     "data": {
      "text/html": [
       "Run data is saved locally in <code>D:\\project\\voice_pathology_ai\\model\\spectrogram\\ros\\wandb\\run-20220704_150322-0bw17da9</code>"
      ],
      "text/plain": [
       "<IPython.core.display.HTML object>"
      ]
     },
     "metadata": {},
     "output_type": "display_data"
    },
    {
     "data": {
      "text/html": [
       "Syncing run <strong><a href=\"https://wandb.ai/bub3690/SVD-hyp-sweep/runs/0bw17da9\" target=\"_blank\">woven-sweep-25</a></strong> to <a href=\"https://wandb.ai/bub3690/SVD-hyp-sweep\" target=\"_blank\">Weights & Biases</a> (<a href=\"https://wandb.me/run\" target=\"_blank\">docs</a>)<br/>Sweep page:  <a href=\"https://wandb.ai/bub3690/SVD-hyp-sweep/sweeps/j9mfv8ql\" target=\"_blank\">https://wandb.ai/bub3690/SVD-hyp-sweep/sweeps/j9mfv8ql</a>"
      ],
      "text/plain": [
       "<IPython.core.display.HTML object>"
      ]
     },
     "metadata": {},
     "output_type": "display_data"
    },
    {
     "name": "stdout",
     "output_type": "stream",
     "text": [
      "../../checkpoint/checkpoint_melspectro_resnet18_true_ros_5_organics.pt\n",
      "config: {'sample_rate': 16000, 'n_fft': 1024, 'n_mels': 128, 'hop_length': 100, 'win_length': 400, 'f_max': 80000, 'batch_size': 128, 'fold': 5}\n",
      "[5 교차검증] 학습 시작\n",
      " ----- \n",
      "\n",
      "[EPOCH:1]\t Train Loss:0.0058\t Train Acc:60.10 %  | \tValid Loss:0.0070 \tValid Acc: 52.55 %\n",
      "\n",
      "Validation loss decreased (inf --> 0.006977).  Saving model ...\n",
      "\n",
      "[EPOCH:2]\t Train Loss:0.0048\t Train Acc:73.89 %  | \tValid Loss:0.0063 \tValid Acc: 69.90 %\n",
      "\n",
      "Validation loss decreased (0.006977 --> 0.006339).  Saving model ...\n",
      "\n",
      "[EPOCH:3]\t Train Loss:0.0042\t Train Acc:78.20 %  | \tValid Loss:0.0053 \tValid Acc: 81.63 %\n",
      "\n",
      "Validation loss decreased (0.006339 --> 0.005327).  Saving model ...\n",
      "\n",
      "[EPOCH:4]\t Train Loss:0.0039\t Train Acc:82.02 %  | \tValid Loss:0.0045 \tValid Acc: 83.16 %\n",
      "\n",
      "Validation loss decreased (0.005327 --> 0.004538).  Saving model ...\n",
      "\n",
      "[EPOCH:5]\t Train Loss:0.0035\t Train Acc:85.59 %  | \tValid Loss:0.0043 \tValid Acc: 84.18 %\n",
      "\n",
      "Validation loss decreased (0.004538 --> 0.004272).  Saving model ...\n",
      "\n",
      "[EPOCH:6]\t Train Loss:0.0032\t Train Acc:88.79 %  | \tValid Loss:0.0041 \tValid Acc: 84.18 %\n",
      "\n",
      "Validation loss decreased (0.004272 --> 0.004088).  Saving model ...\n",
      "\n",
      "[EPOCH:7]\t Train Loss:0.0029\t Train Acc:92.36 %  | \tValid Loss:0.0041 \tValid Acc: 87.24 %\n",
      "\n",
      "EarlyStopping counter: 1 out of 5\n",
      "\n",
      "[EPOCH:8]\t Train Loss:0.0027\t Train Acc:93.35 %  | \tValid Loss:0.0040 \tValid Acc: 86.73 %\n",
      "\n",
      "Validation loss decreased (0.004088 --> 0.003971).  Saving model ...\n",
      "\n",
      "[EPOCH:9]\t Train Loss:0.0026\t Train Acc:94.95 %  | \tValid Loss:0.0040 \tValid Acc: 86.73 %\n",
      "\n",
      "EarlyStopping counter: 1 out of 5\n",
      "\n",
      "[EPOCH:10]\t Train Loss:0.0024\t Train Acc:96.06 %  | \tValid Loss:0.0039 \tValid Acc: 86.22 %\n",
      "\n",
      "Validation loss decreased (0.003971 --> 0.003885).  Saving model ...\n",
      "\n",
      "[EPOCH:11]\t Train Loss:0.0022\t Train Acc:97.54 %  | \tValid Loss:0.0039 \tValid Acc: 86.22 %\n",
      "\n",
      "Validation loss decreased (0.003885 --> 0.003883).  Saving model ...\n",
      "\n",
      "[EPOCH:12]\t Train Loss:0.0020\t Train Acc:98.03 %  | \tValid Loss:0.0038 \tValid Acc: 85.20 %\n",
      "\n",
      "Validation loss decreased (0.003883 --> 0.003750).  Saving model ...\n",
      "\n",
      "[EPOCH:13]\t Train Loss:0.0020\t Train Acc:98.03 %  | \tValid Loss:0.0038 \tValid Acc: 85.71 %\n",
      "\n",
      "EarlyStopping counter: 1 out of 5\n",
      "\n",
      "[EPOCH:14]\t Train Loss:0.0018\t Train Acc:98.89 %  | \tValid Loss:0.0038 \tValid Acc: 85.71 %\n",
      "\n",
      "EarlyStopping counter: 2 out of 5\n",
      "\n",
      "[EPOCH:15]\t Train Loss:0.0018\t Train Acc:99.01 %  | \tValid Loss:0.0036 \tValid Acc: 85.71 %\n",
      "\n",
      "Validation loss decreased (0.003750 --> 0.003650).  Saving model ...\n",
      "\n",
      "[EPOCH:16]\t Train Loss:0.0016\t Train Acc:99.51 %  | \tValid Loss:0.0037 \tValid Acc: 84.69 %\n",
      "\n",
      "EarlyStopping counter: 1 out of 5\n",
      "\n",
      "[EPOCH:17]\t Train Loss:0.0016\t Train Acc:99.51 %  | \tValid Loss:0.0034 \tValid Acc: 85.71 %\n",
      "\n",
      "Validation loss decreased (0.003650 --> 0.003352).  Saving model ...\n",
      "\n",
      "[EPOCH:18]\t Train Loss:0.0016\t Train Acc:99.75 %  | \tValid Loss:0.0038 \tValid Acc: 86.22 %\n",
      "\n",
      "EarlyStopping counter: 1 out of 5\n",
      "\n",
      "[EPOCH:19]\t Train Loss:0.0014\t Train Acc:99.88 %  | \tValid Loss:0.0039 \tValid Acc: 86.22 %\n",
      "\n",
      "EarlyStopping counter: 2 out of 5\n",
      "\n",
      "[EPOCH:20]\t Train Loss:0.0014\t Train Acc:100.00 %  | \tValid Loss:0.0035 \tValid Acc: 86.22 %\n",
      "\n",
      "EarlyStopping counter: 3 out of 5\n",
      "\n",
      "[EPOCH:21]\t Train Loss:0.0014\t Train Acc:99.75 %  | \tValid Loss:0.0036 \tValid Acc: 85.71 %\n",
      "\n",
      "EarlyStopping counter: 4 out of 5\n",
      "\n",
      "[EPOCH:22]\t Train Loss:0.0013\t Train Acc:100.00 %  | \tValid Loss:0.0039 \tValid Acc: 84.18 %\n",
      "\n",
      "EarlyStopping counter: 5 out of 5\n",
      "[5 교차검증] Early stopping\n"
     ]
    },
    {
     "data": {
      "text/html": [
       "Waiting for W&B process to finish... <strong style=\"color:green\">(success).</strong>"
      ],
      "text/plain": [
       "<IPython.core.display.HTML object>"
      ]
     },
     "metadata": {},
     "output_type": "display_data"
    },
    {
     "data": {
      "application/vnd.jupyter.widget-view+json": {
       "model_id": "",
       "version_major": 2,
       "version_minor": 0
      },
      "text/plain": [
       "VBox(children=(Label(value='0.001 MB of 0.001 MB uploaded (0.000 MB deduped)\\r'), FloatProgress(value=1.0, max…"
      ]
     },
     "metadata": {},
     "output_type": "display_data"
    },
    {
     "data": {
      "text/html": [
       "<style>\n",
       "    table.wandb td:nth-child(1) { padding: 0 10px; text-align: left ; width: auto;} td:nth-child(2) {text-align: left ; width: 100%}\n",
       "    .wandb-row { display: flex; flex-direction: row; flex-wrap: wrap; justify-content: flex-start; width: 100% }\n",
       "    .wandb-col { display: flex; flex-direction: column; flex-basis: 100%; flex: 1; padding: 10px; }\n",
       "    </style>\n",
       "<div class=\"wandb-row\"><div class=\"wandb-col\"><h3>Run history:</h3><br/><table class=\"wandb\"><tr><td>Valid/Accuracy</td><td>▁▅▇▇▇▇▇███████████████</td></tr><tr><td>Valid/Loss</td><td>█▇▅▃▃▂▂▂▂▂▂▂▂▂▂▂▁▁▁▁▁▁</td></tr></table><br/></div><div class=\"wandb-col\"><h3>Run summary:</h3><br/><table class=\"wandb\"><tr><td>Valid/Accuracy</td><td>85.71429</td></tr><tr><td>Valid/Loss</td><td>0.00335</td></tr></table><br/></div></div>"
      ],
      "text/plain": [
       "<IPython.core.display.HTML object>"
      ]
     },
     "metadata": {},
     "output_type": "display_data"
    },
    {
     "data": {
      "text/html": [
       "Synced <strong style=\"color:#cdcd00\">woven-sweep-25</strong>: <a href=\"https://wandb.ai/bub3690/SVD-hyp-sweep/runs/0bw17da9\" target=\"_blank\">https://wandb.ai/bub3690/SVD-hyp-sweep/runs/0bw17da9</a><br/>Synced 5 W&B file(s), 0 media file(s), 0 artifact file(s) and 0 other file(s)"
      ],
      "text/plain": [
       "<IPython.core.display.HTML object>"
      ]
     },
     "metadata": {},
     "output_type": "display_data"
    },
    {
     "data": {
      "text/html": [
       "Find logs at: <code>.\\wandb\\run-20220704_150322-0bw17da9\\logs</code>"
      ],
      "text/plain": [
       "<IPython.core.display.HTML object>"
      ]
     },
     "metadata": {},
     "output_type": "display_data"
    },
    {
     "name": "stderr",
     "output_type": "stream",
     "text": [
      "\u001b[34m\u001b[1mwandb\u001b[0m: Sweep Agent: Waiting for job.\n",
      "\u001b[34m\u001b[1mwandb\u001b[0m: Sweep Agent: Exiting.\n"
     ]
    }
   ],
   "source": [
    "wandb.agent(sweep_id, function=all_train)"
   ]
  },
  {
   "cell_type": "markdown",
   "id": "d969079c",
   "metadata": {},
   "source": [
    "# Model 결과 확인"
   ]
  },
  {
   "cell_type": "code",
   "execution_count": 25,
   "id": "8d8ef002",
   "metadata": {
    "scrolled": true
   },
   "outputs": [
    {
     "name": "stdout",
     "output_type": "stream",
     "text": [
      "[1 교차검증] train ACC : 85.5911 |\t valid ACC: 76.1421 \n",
      "[2 교차검증] train ACC : 100.0000 |\t valid ACC: 86.8020 \n",
      "[3 교차검증] train ACC : 99.8765 |\t valid ACC: 82.7411 \n",
      "[4 교차검증] train ACC : 100.0000 |\t valid ACC: 84.2640 \n",
      "[5 교차검증] train ACC : 99.8768 |\t valid ACC: 86.2245 \n",
      "평균 검증 정확도 83.23474567491971 %\n"
     ]
    }
   ],
   "source": [
    "sum_valid=0\n",
    "for data_ind in range(5):\n",
    "    print(\"[{} 교차검증] train ACC : {:.4f} |\\t valid ACC: {:.4f} \".format(data_ind+1,train_accs[data_ind],valid_accs[data_ind] ))\n",
    "    sum_valid+=valid_accs[data_ind]\n",
    "    \n",
    "print(\"평균 검증 정확도\",sum_valid/5,\"%\")"
   ]
  },
  {
   "cell_type": "markdown",
   "id": "6f7d3f46",
   "metadata": {},
   "source": [
    "# Model Test\n",
    "\n",
    "- test set\n",
    "- confusion matrix"
   ]
  },
  {
   "cell_type": "code",
   "execution_count": 26,
   "id": "b597b674",
   "metadata": {},
   "outputs": [],
   "source": [
    "#confusion matrix 계산\n",
    "#test set 계산.\n",
    "def test_evaluate(model,test_loader):\n",
    "    model.eval()\n",
    "    test_loss = 0\n",
    "    predictions = []\n",
    "    answers = []\n",
    "    #no_grad : 그래디언트 값 계산 막기.\n",
    "    with torch.no_grad():\n",
    "        for image, label in test_loader:\n",
    "            image = image.to(DEVICE)\n",
    "            label = label.to(DEVICE)\n",
    "            output = model(image)\n",
    "            test_loss += criterion(output, label).item()\n",
    "            prediction = output.max(1,keepdim=True)[1] # 가장 확률이 높은 class 1개를 가져온다.그리고 인덱스만\n",
    "            answers +=label\n",
    "            predictions +=prediction\n",
    "            \n",
    "        return predictions,answers,test_loss\n",
    "            "
   ]
  },
  {
   "cell_type": "code",
   "execution_count": 27,
   "id": "446269f0",
   "metadata": {
    "scrolled": true
   },
   "outputs": [
    {
     "name": "stdout",
     "output_type": "stream",
     "text": [
      "1번 모델\n",
      "Accuracy : 81.3765% \n",
      "recall (실제 pathology 중  예측이 맞는 것) : 0.7803\n",
      "specificity : 0.8522%\n",
      "UAR : 0.8162%\n",
      "f score : 0.8137 \n",
      "[[103  17]\n",
      " [ 29  98]]\n",
      "-----\n",
      "2번 모델\n",
      "Accuracy : 85.4251% \n",
      "recall (실제 pathology 중  예측이 맞는 것) : 0.8443\n",
      "specificity : 0.8640%\n",
      "UAR : 0.8541%\n",
      "f score : 0.8542 \n",
      "[[103  17]\n",
      " [ 19 108]]\n",
      "-----\n",
      "3번 모델\n",
      "Accuracy : 82.9960% \n",
      "recall (실제 pathology 중  예측이 맞는 것) : 0.8197\n",
      "specificity : 0.8400%\n",
      "UAR : 0.8298%\n",
      "f score : 0.8299 \n",
      "[[100  20]\n",
      " [ 22 105]]\n",
      "-----\n",
      "4번 모델\n",
      "Accuracy : 85.0202% \n",
      "recall (실제 pathology 중  예측이 맞는 것) : 0.8673\n",
      "specificity : 0.8358%\n",
      "UAR : 0.8515%\n",
      "f score : 0.8497 \n",
      "[[ 98  22]\n",
      " [ 15 112]]\n",
      "-----\n",
      "5번 모델\n",
      "Accuracy : 83.4008% \n",
      "recall (실제 pathology 중  예측이 맞는 것) : 0.8496\n",
      "specificity : 0.8209%\n",
      "UAR : 0.8352%\n",
      "f score : 0.8335 \n",
      "[[ 96  24]\n",
      " [ 17 110]]\n",
      "-----\n",
      "평균 acc : 0.8364\n",
      "평균 UAR : 0.8374\n",
      "평균 f1score : 0.8362\n"
     ]
    }
   ],
   "source": [
    "# Confusion matrix (resnet18)\n",
    "# kfold의 confusion matrix는 계산 방법이 다르다.\n",
    "# 모델을 각각 불러와서 test set을 평가한다.\n",
    "\n",
    "from sklearn.metrics import confusion_matrix\n",
    "from sklearn.metrics import f1_score\n",
    "\n",
    "cf = np.zeros((2,2))\n",
    "cf_list = []\n",
    "average_accuracy = 0\n",
    "average_fscore = 0\n",
    "average_uar = 0\n",
    "\n",
    "for data_ind in range(1,6):\n",
    "\n",
    "    check_path = '../../checkpoint/checkpoint_melspectro_resnet18_true_ros_'+str(data_ind)+'_organics.pt'\n",
    "    model.load_state_dict(torch.load(check_path))\n",
    "\n",
    "    predictions,answers,test_loss = test_evaluate(model, test_loader)\n",
    "    predictions=[ dat.cpu().numpy() for dat in predictions]\n",
    "    answers=[ dat.cpu().numpy() for dat in answers]\n",
    "\n",
    "    \n",
    "    cf = confusion_matrix(answers, predictions)\n",
    "    cf_list.append(cf)\n",
    "    \n",
    "    acc = (cf[0,0]+cf[1,1])/(cf[0,0]+cf[0,1]+cf[1,0]+cf[1,1])\n",
    "    average_accuracy+=acc\n",
    "    \n",
    "    precision=cf[0,0]/(cf[0,0]+cf[1,0])\n",
    "    recall=cf[0,0]/(cf[0,0]+cf[1,0])\n",
    "    \n",
    "    specificity=cf[1,1]/(cf[0,1]+cf[1,1])\n",
    "    average_uar += (specificity+recall)/2\n",
    "    #fscore=2*precision*recall/(precision+recall)\n",
    "    \n",
    "    #fscroe macro추가\n",
    "    fscore = f1_score(answers,predictions,average='macro')\n",
    "    average_fscore+=fscore\n",
    "    \n",
    "    print('{}번 모델'.format(data_ind))\n",
    "    print(\"Accuracy : {:.4f}% \".format(acc*100))\n",
    "    #print(\"Precision (pathology 예측한 것중 맞는 것) : {:.4f}\".format(precision))\n",
    "    print(\"recall (실제 pathology 중  예측이 맞는 것) : {:.4f}\".format(recall))\n",
    "    print(\"specificity : {:.4f}%\".format(specificity))\n",
    "    print(\"UAR : {:.4f}%\".format( (specificity+recall)/2 ))\n",
    "    \n",
    "    \n",
    "    print(\"f score : {:.4f} \".format(fscore))\n",
    "    print(cf)\n",
    "    print(\"-----\")\n",
    "    #### wandb\n",
    "    \n",
    "    wandb.run.summary.update({\"test_{}fold_acc\".format(data_ind) : acc*100})\n",
    "    wandb.run.summary.update({\"test_{}fold_f1\".format(data_ind) : fscore})\n",
    "    wandb.run.summary.update({\"test_{}fold_UAR\".format(data_ind) : (specificity+recall)/2})\n",
    "    wandb.log({\"{}fold Confusion Matrix\".format(data_ind) :wandb.sklearn.plot_confusion_matrix(answers, predictions, labels=classes)})\n",
    "    \n",
    "    ####\n",
    "    \n",
    "    \n",
    "    \n",
    "\n",
    "print(\"평균 acc : {:.4f}\".format(average_accuracy/5))\n",
    "print(\"평균 UAR : {:.4f}\".format(average_uar/5))\n",
    "print(\"평균 f1score : {:.4f}\".format(average_fscore/5))\n",
    "wandb.run.summary.update({\"test 평균 acc\" : average_accuracy/5})\n",
    "wandb.run.summary.update({\"test 평균 f1\" : average_fscore/5})\n",
    "wandb.run.summary.update({\"test 평균 UAR\" : average_uar/5})\n",
    "\n"
   ]
  }
 ],
 "metadata": {
  "kernelspec": {
   "display_name": "Python 3 (ipykernel)",
   "language": "python",
   "name": "python3"
  },
  "language_info": {
   "codemirror_mode": {
    "name": "ipython",
    "version": 3
   },
   "file_extension": ".py",
   "mimetype": "text/x-python",
   "name": "python",
   "nbconvert_exporter": "python",
   "pygments_lexer": "ipython3",
   "version": "3.8.12"
  },
  "toc": {
   "base_numbering": 1,
   "nav_menu": {},
   "number_sections": false,
   "sideBar": true,
   "skip_h1_title": false,
   "title_cell": "Table of Contents",
   "title_sidebar": "Contents",
   "toc_cell": false,
   "toc_position": {
    "height": "calc(100% - 180px)",
    "left": "10px",
    "top": "150px",
    "width": "294.047px"
   },
   "toc_section_display": true,
   "toc_window_display": true
  }
 },
 "nbformat": 4,
 "nbformat_minor": 5
}
