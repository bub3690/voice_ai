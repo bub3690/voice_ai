{
 "cells": [
  {
   "cell_type": "code",
   "execution_count": 14,
   "metadata": {},
   "outputs": [],
   "source": [
    "from opendbm import VerbalAcoustics\n",
    "import pickle\n",
    "import parselmouth\n",
    "import numpy as np"
   ]
  },
  {
   "cell_type": "code",
   "execution_count": 15,
   "metadata": {},
   "outputs": [],
   "source": [
    "model=VerbalAcoustics()"
   ]
  },
  {
   "attachments": {},
   "cell_type": "markdown",
   "metadata": {},
   "source": [
    "# hnr"
   ]
  },
  {
   "cell_type": "code",
   "execution_count": 52,
   "metadata": {},
   "outputs": [],
   "source": [
    "def hnr_ratio(filepath,sr=16000):\n",
    "    \"\"\"\n",
    "    Using parselmouth library fetching harmonic noise ratio ratio\n",
    "    Args:\n",
    "        path: (.wav) audio file location\n",
    "    Returns:\n",
    "        (list) list of hnr ratio for each voice frame, min,max and mean hnr\n",
    "    \"\"\"\n",
    "    sound = parselmouth.Sound(filepath,sr)\n",
    "    harmonicity = sound.to_harmonicity_ac(time_step=0.1)\n",
    "    print(harmonicity)\n",
    "    hnr_all_frames = harmonicity.values  # [harmonicity.values != -200] nan it (****)\n",
    "    print(harmonicity.values)\n",
    "    hnr_all_frames = np.where(hnr_all_frames == -200, np.NaN, hnr_all_frames)\n",
    "    return hnr_all_frames.transpose()"
   ]
  },
  {
   "cell_type": "code",
   "execution_count": 109,
   "metadata": {},
   "outputs": [],
   "source": [
    "def load_data(path):\n",
    "    with open(path, 'rb') as f:\n",
    "        data = pickle.load(f)\n",
    "    return data\n",
    "\n",
    "phrase=load_data(\"../../../voice_data/all_data_ver2/phrase_dict_ver2_all.pickle\")\n"
   ]
  },
  {
   "cell_type": "code",
   "execution_count": 127,
   "metadata": {},
   "outputs": [
    {
     "name": "stdout",
     "output_type": "stream",
     "text": [
      "Object type: Harmonicity\n",
      "Object name: <no name>\n",
      "Date: Tue Apr 11 01:18:27 2023\n",
      "\n",
      "Time domain:\n",
      "   Start time: 0 seconds\n",
      "   End time: 2.6660625 seconds\n",
      "   Total duration: 2.6660625 seconds\n",
      "Time sampling:\n",
      "   Number of frames: 27 (0 sounding)\n",
      "   Time step: 0.1 seconds\n",
      "   First frame centred at: 0.033031250000000026 seconds\n",
      "\n",
      "[[-200. -200. -200. -200. -200. -200. -200. -200. -200. -200. -200. -200.\n",
      "  -200. -200. -200. -200. -200. -200. -200. -200. -200. -200. -200. -200.\n",
      "  -200. -200. -200.]]\n"
     ]
    },
    {
     "data": {
      "text/plain": [
       "nan"
      ]
     },
     "execution_count": 127,
     "metadata": {},
     "output_type": "execute_result"
    }
   ],
   "source": [
    "\n",
    "res=hnr_ratio(phrase['141-phrase.wav'],sr=16000)\n",
    "# code to drop na in numpy\n",
    "res=res[~np.isnan(res).any(axis=1)]\n",
    "np.mean(res[:,0],)"
   ]
  },
  {
   "cell_type": "markdown",
   "metadata": {},
   "source": [
    "# glottal-to-noise excitation ratio"
   ]
  },
  {
   "cell_type": "code",
   "execution_count": 98,
   "metadata": {},
   "outputs": [],
   "source": [
    "def gne_ratio(filepath,sr=16000):\n",
    "    \"\"\"\n",
    "    Using parselmouth library fetching glottal noise excitation ratio\n",
    "    Args:\n",
    "        sound: parselmouth object\n",
    "    Returns:\n",
    "        (list) list of gne ratio for each voice frame\n",
    "    \"\"\"\n",
    "    sound = parselmouth.Sound(filepath,sr)\n",
    "    harmonicity_gne = sound.to_harmonicity_gne()\n",
    "    gne_all_bands = harmonicity_gne.values\n",
    "    \n",
    "    gne_all_bands = np.where(gne_all_bands == -200, np.NaN, gne_all_bands)\n",
    "    print(gne_all_bands.shape)\n",
    "    print(gne_all_bands)\n",
    "    gne = np.nanmax(\n",
    "        gne_all_bands\n",
    "    )  # following http://www.fon.hum.uva.nl/rob/NKI_TEVA/TEVA/HTML/NKI_TEVA.pdf\n",
    "    return gne"
   ]
  },
  {
   "cell_type": "code",
   "execution_count": 108,
   "metadata": {},
   "outputs": [
    {
     "name": "stdout",
     "output_type": "stream",
     "text": [
      "(51, 51)\n",
      "[[0.         0.         0.         ... 0.         0.         0.        ]\n",
      " [0.         0.         0.         ... 0.         0.         0.        ]\n",
      " [0.         0.         0.         ... 0.         0.         0.        ]\n",
      " ...\n",
      " [0.7716444  0.81639446 0.85391151 ... 0.         0.         0.        ]\n",
      " [0.76426003 0.80704669 0.84581715 ... 0.         0.         0.        ]\n",
      " [0.75684909 0.79800277 0.8374744  ... 0.         0.         0.        ]]\n"
     ]
    },
    {
     "data": {
      "text/plain": [
       "0.910922052749135"
      ]
     },
     "execution_count": 108,
     "metadata": {},
     "output_type": "execute_result"
    }
   ],
   "source": [
    "# 왜 프레임 별로 안나오는지 자세히 살펴보기.\n",
    "\n",
    "\n",
    "res=gne_ratio(phrase['928-phrase.wav'],sr=16000)\n",
    "# code to drop na in numpy\n",
    "res\n",
    "# res=res[~np.isnan(res).any(axis=1)]\n",
    "# np.mean(res[:,0],)"
   ]
  },
  {
   "cell_type": "code",
   "execution_count": 97,
   "metadata": {},
   "outputs": [
    {
     "data": {
      "text/plain": [
       "array([0.83966529, 0.87391403, 0.90547208, 0.91772671, 0.9185231 ,\n",
       "       0.91789792, 0.90850453, 0.90787624, 0.9125593 , 0.91009686,\n",
       "       0.90996982, 0.91912364, 0.92427599, 0.90880658, 0.89272717,\n",
       "       0.88563719, 0.88214584, 0.89329302, 0.90608788, 0.91030354,\n",
       "       0.9087328 , 0.91090922, 0.9117555 , 0.90472185, 0.88904074,\n",
       "       0.86861068, 0.84045973, 0.82069243, 0.82770272, 0.86384759,\n",
       "       0.88175506, 0.88911105, 0.89609303, 0.89846945, 0.89556305,\n",
       "       0.89526065, 0.90407869, 0.91566457, 0.91615979, 0.91410392,\n",
       "       0.91303898, 0.91337971, 0.91493347, 0.91341921, 0.        ,\n",
       "       0.        , 0.        , 0.        , 0.        , 0.        ,\n",
       "       0.        ])"
      ]
     },
     "execution_count": 97,
     "metadata": {},
     "output_type": "execute_result"
    }
   ],
   "source": [
    "res"
   ]
  }
 ],
 "metadata": {
  "kernelspec": {
   "display_name": "Python 3",
   "language": "python",
   "name": "python3"
  },
  "language_info": {
   "codemirror_mode": {
    "name": "ipython",
    "version": 3
   },
   "file_extension": ".py",
   "mimetype": "text/x-python",
   "name": "python",
   "nbconvert_exporter": "python",
   "pygments_lexer": "ipython3",
   "version": "3.8.12"
  },
  "orig_nbformat": 4
 },
 "nbformat": 4,
 "nbformat_minor": 2
}
