{
 "cells": [
  {
   "cell_type": "code",
   "execution_count": 105,
   "id": "ab620e48",
   "metadata": {},
   "outputs": [
    {
     "name": "stdout",
     "output_type": "stream",
     "text": [
      "Using Pytorch version :  1.10.2  Device :  cuda\n"
     ]
    }
   ],
   "source": [
    "import torch\n",
    "import matplotlib.pyplot as plt\n",
    "import numpy as np\n",
    "import torch\n",
    "import torch.nn as nn # 인공 신경망 모델들 모아놓은 모듈\n",
    "import torch.nn.functional as F #그중 자주 쓰이는것들을 F로\n",
    "from torchvision import transforms, datasets\n",
    "import cv2\n",
    "from torchvision import transforms, datasets\n",
    "import pandas as pd\n",
    "import os\n",
    "from glob import glob\n",
    "import torchvision.models as models\n",
    "import sys\n",
    "\n",
    "\n",
    "if torch.cuda.is_available():\n",
    "    DEVICE = torch.device('cuda')\n",
    "else:\n",
    "    DEVICE = torch.device('cpu')\n",
    "#DEVICE = torch.device('cpu')\n",
    "print('Using Pytorch version : ',torch.__version__,' Device : ',DEVICE)"
   ]
  },
  {
   "cell_type": "code",
   "execution_count": 7,
   "id": "ce570495",
   "metadata": {},
   "outputs": [],
   "source": [
    "#하이퍼 파라미터\n",
    "\n",
    "out_channels = 80 #80 filter 출력\n",
    "kernel_size = 251 #251 frame씩? 싱크함수 길이 L. 센터를 중심으로 대칭이 되기 때문에 홀수 강제.\n",
    "sample_rate = 16000 # input signal의 sampling rate / sincnet이 주로보는 주파수 영역대가 된다.\n",
    "in_channels = 1\n",
    "stride = 1\n",
    "padding = 0\n",
    "dilation = 1\n",
    "bias = False\n",
    "groups = 1\n",
    "min_low_hz = 50 # min low hz + low hz 가 f1이 된다.\n",
    "min_band_hz = 50\n",
    "low_hz = 30 \n",
    "high_hz = sample_rate / 2 - (min_low_hz + min_band_hz)  # sinc 함수가 보는 주파수 구간의 upper bound. 7900 정도."
   ]
  },
  {
   "cell_type": "code",
   "execution_count": 8,
   "id": "4eaa4d77",
   "metadata": {},
   "outputs": [
    {
     "data": {
      "text/plain": [
       "array([  30.        ,   52.85710786,   76.42989706,  100.74077638,\n",
       "        125.81285623,  151.66997065,  178.33669994,  205.83839403,\n",
       "        234.2011966 ,  263.45206991,  293.61882043,  324.73012529,\n",
       "        356.81555954,  389.90562424,  424.03177549,  459.22645429,\n",
       "        495.52311744,  532.95626929,  571.56149454,  611.37549211,\n",
       "        652.43611001,  694.7823813 ,  738.4545612 ,  783.49416539,\n",
       "        829.94400943,  877.84824949,  927.25242431,  978.20349853,\n",
       "       1030.74990726, 1084.94160221, 1140.83009909, 1198.46852666,\n",
       "       1257.91167718, 1319.21605853, 1382.4399479 , 1447.64344722,\n",
       "       1514.88854026, 1584.23915157, 1655.76120728, 1729.5226977 ,\n",
       "       1805.59374201, 1884.0466549 , 1964.95601532, 2048.39873735,\n",
       "       2134.45414336, 2223.20403935, 2314.73279281, 2409.12741283,\n",
       "       2506.47763286, 2606.87599601, 2710.41794303, 2817.20190298,\n",
       "       2927.3293869 , 3040.90508422, 3158.0369623 , 3278.83636911,\n",
       "       3403.41813904, 3531.90070205, 3664.40619629, 3801.06058419,\n",
       "       3941.99377222, 4087.33973432, 4237.23663934, 4391.82698235,\n",
       "       4551.25772007, 4715.68041062, 4885.25135758, 5060.13175854,\n",
       "       5240.48785839, 5426.49110732, 5618.31832381, 5816.15186274,\n",
       "       6020.17978871, 6230.59605483, 6447.6006871 , 6671.39997455,\n",
       "       6902.20666536, 7140.24016909, 7385.72676524, 7638.89981839,\n",
       "       7900.        ])"
      ]
     },
     "execution_count": 8,
     "metadata": {},
     "output_type": "execute_result"
    }
   ],
   "source": [
    "\n",
    "\n",
    "#필터 제작을 위한 mel 변환\n",
    "def to_mel(hz):\n",
    "    return 2595*np.log10(1+hz/700)\n",
    "\n",
    "def to_hz(mel):\n",
    "    return 700*(10**(mel/2595)-1)\n",
    "\n",
    "\n",
    "#low cutoff frequency 제작 f1의 초기값.\n",
    "#mel 에서 추출한 값을 hz로 변환하면, 사람에 적절한 frequency를 얻게 된다.\n",
    "mel = np.linspace(to_mel(low_hz),to_mel(high_hz),out_channels+1) # 81개로 만들었다가 마지막 값을 버린다. band_hz구하려고 81칸\n",
    "hz = to_hz(mel)\n",
    "\n",
    "hz\n",
    "\n",
    "\n"
   ]
  },
  {
   "cell_type": "code",
   "execution_count": 12,
   "id": "76ba33b7",
   "metadata": {},
   "outputs": [
    {
     "data": {
      "text/plain": [
       "torch.Size([80, 1])"
      ]
     },
     "execution_count": 12,
     "metadata": {},
     "output_type": "execute_result"
    }
   ],
   "source": [
    "#learnable parameter 선언\n",
    "low_hz_ = torch.nn.Parameter(torch.tensor(hz[:-1]).view(-1,1)) # f1 low cutoff 구현에 사용.\n",
    "band_hz_ = torch.nn.Parameter(torch.tensor(np.diff(hz)).view(-1,1)) # f2를 구하기위해 차를 구해둔것."
   ]
  },
  {
   "cell_type": "code",
   "execution_count": 22,
   "id": "70ff8ba7",
   "metadata": {},
   "outputs": [],
   "source": [
    "#hamming 윈도우 선언\n",
    "#컨볼루션 커널 절반에 해당하는 윈도우를 만들고, 대칭할 것.\n",
    "n_lin = torch.linspace(0,(kernel_size/2)-1,steps=int((kernel_size/2))) # steps : 텐서의 크기. 커널크기 반 만큼 만든다.\n",
    "# 1~커널크기 반 만큼 등차수열 만든것.\n",
    "window_ = 0.54 - 0.46*torch.cos(2*torch.pi*n_lin/kernel_size) # 해밍 윈도우 반.\n",
    "n = (kernel_size -1 )/2.0\n",
    "n_=2*torch.pi*torch.arange(-n,0).view(1,-1)/sample_rate # 2pi*t구현을 위한것. sinc함수에 들어간다. 음수인 이유는 절반이라서.\n",
    "# n/f=t: 시간으로. 2pi * t \n",
    "\n",
    "\n",
    "# 여기까지 init"
   ]
  },
  {
   "cell_type": "code",
   "execution_count": 42,
   "id": "6da123af",
   "metadata": {},
   "outputs": [
    {
     "data": {
      "text/plain": [
       "tensor([ 72.8571,  73.5728,  74.3109,  75.0721,  75.8571,  76.6667,  77.5017,\n",
       "         78.3628,  79.2509,  80.1667,  81.1113,  82.0854,  83.0901,  84.1261,\n",
       "         85.1947,  86.2967,  87.4332,  88.6052,  89.8140,  91.0606,  92.3463,\n",
       "         93.6722,  95.0396,  96.4498,  97.9042,  99.4042, 100.9510, 102.5464,\n",
       "        104.1917, 105.8885, 107.6384, 109.4431, 111.3043, 113.2239, 115.2035,\n",
       "        117.2451, 119.3506, 121.5221, 123.7615, 126.0710, 128.4529, 130.9094,\n",
       "        133.4426, 136.0554, 138.7500, 141.5288, 144.3945, 147.3503, 150.3984,\n",
       "        153.5420, 156.7839, 160.1274, 163.5757, 167.1318, 170.7993, 174.5818,\n",
       "        178.4827, 182.5056, 186.6543, 190.9331, 195.3462, 199.8970, 204.5903,\n",
       "        209.4307, 214.4229, 219.5708, 224.8804, 230.3560, 236.0034, 241.8271,\n",
       "        247.8335, 254.0278, 260.4165, 267.0044, 273.7993, 280.8066, 288.0337,\n",
       "        295.4868, 303.1729, 311.1001], grad_fn=<SelectBackward0>)"
      ]
     },
     "execution_count": 42,
     "metadata": {},
     "output_type": "execute_result"
    }
   ],
   "source": [
    "# 컷오프 주파수 f1 , f2 만들기\n",
    "low = (min_low_hz + torch.abs(low_hz_)).float() # f1 구하기. 논문과는 다르다.\n",
    "\n",
    "#f2 구하기,\n",
    "high = torch.clamp(input=low+min_band_hz+torch.abs(band_hz_),\n",
    "                   min = min_low_hz,\n",
    "                   max = sample_rate/2).float() # 나이퀴스트 정리.\n",
    "\n",
    "\n",
    "#뒤에 사용하는, 싱크함수를 대칭으로 만들기 위해 정의한 것.\n",
    "band = (high - low)[:,0]\n",
    "band"
   ]
  },
  {
   "cell_type": "code",
   "execution_count": 60,
   "id": "374b357e",
   "metadata": {
    "scrolled": true
   },
   "outputs": [
    {
     "data": {
      "text/plain": [
       "tensor([[145.7142],\n",
       "        [147.1456],\n",
       "        [148.6218],\n",
       "        [150.1442],\n",
       "        [151.7142],\n",
       "        [153.3335],\n",
       "        [155.0034],\n",
       "        [156.7256],\n",
       "        [158.5018],\n",
       "        [160.3335],\n",
       "        [162.2226],\n",
       "        [164.1709],\n",
       "        [166.1801],\n",
       "        [168.2523],\n",
       "        [170.3893],\n",
       "        [172.5934],\n",
       "        [174.8663],\n",
       "        [177.2104],\n",
       "        [179.6281],\n",
       "        [182.1212],\n",
       "        [184.6925],\n",
       "        [187.3444],\n",
       "        [190.0792],\n",
       "        [192.8997],\n",
       "        [195.8085],\n",
       "        [198.8083],\n",
       "        [201.9021],\n",
       "        [205.0928],\n",
       "        [208.3833],\n",
       "        [211.7771],\n",
       "        [215.2769],\n",
       "        [218.8862],\n",
       "        [222.6086],\n",
       "        [226.4478],\n",
       "        [230.4070],\n",
       "        [234.4902],\n",
       "        [238.7012],\n",
       "        [243.0442],\n",
       "        [247.5229],\n",
       "        [252.1421],\n",
       "        [256.9058],\n",
       "        [261.8188],\n",
       "        [266.8853],\n",
       "        [272.1108],\n",
       "        [277.5000],\n",
       "        [283.0576],\n",
       "        [288.7891],\n",
       "        [294.7007],\n",
       "        [300.7969],\n",
       "        [307.0840],\n",
       "        [313.5679],\n",
       "        [320.2549],\n",
       "        [327.1514],\n",
       "        [334.2637],\n",
       "        [341.5986],\n",
       "        [349.1636],\n",
       "        [356.9653],\n",
       "        [365.0112],\n",
       "        [373.3086],\n",
       "        [381.8662],\n",
       "        [390.6924],\n",
       "        [399.7939],\n",
       "        [409.1807],\n",
       "        [418.8613],\n",
       "        [428.8457],\n",
       "        [439.1416],\n",
       "        [449.7607],\n",
       "        [460.7119],\n",
       "        [472.0068],\n",
       "        [483.6543],\n",
       "        [495.6670],\n",
       "        [508.0557],\n",
       "        [520.8330],\n",
       "        [534.0088],\n",
       "        [547.5986],\n",
       "        [561.6133],\n",
       "        [576.0674],\n",
       "        [590.9736],\n",
       "        [606.3457],\n",
       "        [622.2002]], grad_fn=<MulBackward0>)"
      ]
     },
     "execution_count": 60,
     "metadata": {},
     "output_type": "execute_result"
    }
   ],
   "source": [
    "2*band.view(-1,1)"
   ]
  },
  {
   "cell_type": "code",
   "execution_count": 43,
   "id": "f3c42bd1",
   "metadata": {},
   "outputs": [
    {
     "data": {
      "text/plain": [
       "'torch.FloatTensor'"
      ]
     },
     "execution_count": 43,
     "metadata": {},
     "output_type": "execute_result"
    }
   ],
   "source": [
    "high.type()"
   ]
  },
  {
   "cell_type": "code",
   "execution_count": 88,
   "id": "c0713427",
   "metadata": {},
   "outputs": [
    {
     "data": {
      "text/plain": [
       "torch.Size([1, 125])"
      ]
     },
     "execution_count": 88,
     "metadata": {},
     "output_type": "execute_result"
    }
   ],
   "source": [
    "n_.size()"
   ]
  },
  {
   "cell_type": "code",
   "execution_count": 95,
   "id": "dd17635c",
   "metadata": {},
   "outputs": [
    {
     "data": {
      "text/plain": [
       "tensor([ 72.8571,  73.5728,  74.3109,  75.0721,  75.8571,  76.6667,  77.5017,\n",
       "         78.3628,  79.2509,  80.1667,  81.1113,  82.0854,  83.0901,  84.1261,\n",
       "         85.1947,  86.2967,  87.4332,  88.6052,  89.8140,  91.0606,  92.3463,\n",
       "         93.6722,  95.0396,  96.4498,  97.9042,  99.4042, 100.9510, 102.5464,\n",
       "        104.1917, 105.8885, 107.6384, 109.4431, 111.3043, 113.2239, 115.2035,\n",
       "        117.2451, 119.3506, 121.5221, 123.7615, 126.0710, 128.4529, 130.9094,\n",
       "        133.4426, 136.0554, 138.7500, 141.5288, 144.3945, 147.3503, 150.3984,\n",
       "        153.5420, 156.7839, 160.1274, 163.5757, 167.1318, 170.7993, 174.5818,\n",
       "        178.4827, 182.5056, 186.6543, 190.9331, 195.3462, 199.8970, 204.5903,\n",
       "        209.4307, 214.4229, 219.5708, 224.8804, 230.3560, 236.0034, 241.8271,\n",
       "        247.8335, 254.0278, 260.4165, 267.0044, 273.7993, 280.8066, 288.0337,\n",
       "        295.4868, 303.1729, 311.1001], grad_fn=<SliceBackward0>)"
      ]
     },
     "execution_count": 95,
     "metadata": {},
     "output_type": "execute_result"
    }
   ],
   "source": [
    "band[:,]"
   ]
  },
  {
   "cell_type": "code",
   "execution_count": 97,
   "id": "645b1149",
   "metadata": {},
   "outputs": [],
   "source": [
    "# 싱크함수 만들기\n",
    "\n",
    "#내부 파라미터 먼저.\n",
    "f_times_t_low = torch.matmul(low,n_) # [80필터,커널 사이즈 반]\n",
    "f_times_t_high = torch.matmul(high,n_)\n",
    "\n",
    "#싱크함수 계산 * 해밍 윈도우\n",
    "band_pass_left = ((2*torch.sin(f_times_t_high)-2*torch.sin(f_times_t_low))/(n_)) * window_\n",
    "\n",
    "band_pass_center = 2*band.view(-1,1)\n",
    "band_pass_right = torch.flip(band_pass_left,dims=[1])\n",
    "\n",
    "band_pass = torch.cat([band_pass_left,band_pass_center,band_pass_right],dim=1)\n",
    "band_pass = band_pass / (2*band[:,None])\n",
    "#최종 밴드 필터\n",
    "filters = (band_pass).view(out_channels,1,kernel_size) # 중간에 1인 이유는 1d라서.\n"
   ]
  },
  {
   "cell_type": "code",
   "execution_count": 58,
   "id": "94252bea",
   "metadata": {},
   "outputs": [
    {
     "data": {
      "text/plain": [
       "[<matplotlib.lines.Line2D at 0x2161ec79c10>]"
      ]
     },
     "execution_count": 58,
     "metadata": {},
     "output_type": "execute_result"
    },
    {
     "data": {
      "image/png": "[encoded data removed]",
      "text/plain": [
       "<Figure size 432x288 with 1 Axes>"
      ]
     },
     "metadata": {
      "needs_background": "light"
     },
     "output_type": "display_data"
    }
   ],
   "source": [
    "plt.plot(band_pass_left[0].detach().numpy())"
   ]
  },
  {
   "cell_type": "code",
   "execution_count": 83,
   "id": "3bb64334",
   "metadata": {},
   "outputs": [
    {
     "data": {
      "text/plain": [
       "[<matplotlib.lines.Line2D at 0x2161ed2e700>]"
      ]
     },
     "execution_count": 83,
     "metadata": {},
     "output_type": "execute_result"
    },
    {
     "data": {
      "image/png": "[encoded data removed]",
      "text/plain": [
       "<Figure size 432x288 with 1 Axes>"
      ]
     },
     "metadata": {
      "needs_background": "light"
     },
     "output_type": "display_data"
    }
   ],
   "source": [
    "plt.plot(band_pass_right[0].detach().numpy())"
   ]
  },
  {
   "cell_type": "code",
   "execution_count": 104,
   "id": "ccc7ac6f",
   "metadata": {},
   "outputs": [
    {
     "data": {
      "text/plain": [
       "[<matplotlib.lines.Line2D at 0x2161f295fd0>]"
      ]
     },
     "execution_count": 104,
     "metadata": {},
     "output_type": "execute_result"
    },
    {
     "data": {
      "image/png": "[encoded data removed]",
      "text/plain": [
       "<Figure size 432x288 with 1 Axes>"
      ]
     },
     "metadata": {
      "needs_background": "light"
     },
     "output_type": "display_data"
    }
   ],
   "source": [
    "plt.plot(filters[0,:].detach().numpy()[0])"
   ]
  }
 ],
 "metadata": {
  "kernelspec": {
   "display_name": "Python 3 (ipykernel)",
   "language": "python",
   "name": "python3"
  },
  "language_info": {
   "codemirror_mode": {
    "name": "ipython",
    "version": 3
   },
   "file_extension": ".py",
   "mimetype": "text/x-python",
   "name": "python",
   "nbconvert_exporter": "python",
   "pygments_lexer": "ipython3",
   "version": "3.8.12"
  },
  "toc": {
   "base_numbering": 1,
   "nav_menu": {},
   "number_sections": true,
   "sideBar": true,
   "skip_h1_title": false,
   "title_cell": "Table of Contents",
   "title_sidebar": "Contents",
   "toc_cell": false,
   "toc_position": {},
   "toc_section_display": true,
   "toc_window_display": false
  }
 },
 "nbformat": 4,
 "nbformat_minor": 5
}
