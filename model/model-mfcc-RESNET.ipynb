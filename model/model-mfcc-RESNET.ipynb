{
 "cells": [
  {
   "cell_type": "markdown",
   "id": "6505136e",
   "metadata": {},
   "source": [
    "- http://keunwoochoi.blogspot.com/2016/03/2.html\n",
    "- http://www.rex-ai.info/docs/AI_Example_CNN_speech_recognize\n",
    "- https://www.youtube.com/watch?v=oltGIc4uo5c\n",
    "- https://youdaeng-com.tistory.com/5\n",
    "- https://quokkas.tistory.com/37 : early stopping\n",
    "- https://continuous-development.tistory.com/166 : stratified kfold\n",
    "- https://deep-learning-study.tistory.com/474 : staratified kfold\n",
    "- https://deep-learning-study.tistory.com/476 fiter 시각화"
   ]
  },
  {
   "cell_type": "code",
   "execution_count": 11,
   "id": "275b8092",
   "metadata": {},
   "outputs": [
    {
     "name": "stdout",
     "output_type": "stream",
     "text": [
      "Using Pytorch version :  1.10.0  Device :  cuda\n"
     ]
    }
   ],
   "source": [
    "import torch\n",
    "import matplotlib.pyplot as plt\n",
    "import numpy as np\n",
    "import torch\n",
    "import torch.nn as nn # 인공 신경망 모델들 모아놓은 모듈\n",
    "import torch.nn.functional as F #그중 자주 쓰이는것들을 F로\n",
    "from torchvision import transforms, datasets\n",
    "import cv2\n",
    "from torchvision import transforms, datasets\n",
    "import pandas as pd\n",
    "import os\n",
    "from glob import glob\n",
    "from pytorchtools.pytorchtools import EarlyStopping # 현재 폴더에 추가된 모듈.\n",
    "import torchvision.models as models\n",
    "\n",
    "\n",
    "\n",
    "\n",
    "if torch.cuda.is_available():\n",
    "    DEVICE = torch.device('cuda')\n",
    "else:\n",
    "    DEVICE = torch.device('cpu')\n",
    "#DEVICE = torch.device('cpu')\n",
    "print('Using Pytorch version : ',torch.__version__,' Device : ',DEVICE)"
   ]
  },
  {
   "cell_type": "markdown",
   "id": "249ebea6",
   "metadata": {},
   "source": [
    "# SVD 문장 데이터에서 Feature 추출\n",
    "- mfcc"
   ]
  },
  {
   "cell_type": "code",
   "execution_count": 2,
   "id": "dddaab10",
   "metadata": {},
   "outputs": [],
   "source": [
    "import numpy as np\n",
    "import librosa, librosa.display \n",
    "import matplotlib.pyplot as plt\n",
    "#window sizde : FFT를 할때 참조할 그래프 길이 ( 프레임 하나당 sample 수 )\n",
    "#자연어 처리에서는 25ms 사용. https://ahnjg.tistory.com/93\n",
    "#초당 50000hz 중 1250개씩 윈도우 사이즈로 사용.\n",
    "sr=50000\n",
    "win_length =  np.int64(50000/40) # 1250\n",
    "n_fft= win_length # WINDOWS SIZE중 사용할 길이. WINDOW SIZE가 넘어가면 나머지 것들은 zero padding\n",
    "hop_length= np.int64( np.ceil(win_length/4) ) #  얼마만큼 시간 주기(sample)를 이동하면서 분석을 할 것인지. 일반적으로 window size의 1/4\n",
    "#또는 10ms만큼으로 한다고 한다.\n",
    "#hop_length가 mfcc의 frame수를 결정한다."
   ]
  },
  {
   "cell_type": "code",
   "execution_count": 12,
   "id": "c72d82e0",
   "metadata": {},
   "outputs": [
    {
     "name": "stdout",
     "output_type": "stream",
     "text": [
      "pathology data 수 :  852\n",
      "healthy data 수 :  632\n",
      "가장 긴 path sample : 317967\n",
      "가장 긴 healthy sample : 207017\n"
     ]
    }
   ],
   "source": [
    "import numpy as np\n",
    "import librosa, librosa.display \n",
    "import matplotlib.pyplot as plt\n",
    "#window sizde : FFT를 할때 참조할 그래프 길이 ( 프레임 하나당 sample 수 )\n",
    "#자연어 처리에서는 25ms 사용. https://ahnjg.tistory.com/93\n",
    "#초당 50000hz 중 1250개씩 윈도우 사이즈로 사용.\n",
    "sr=50000\n",
    "win_length =  np.int64(50000/40) # 1250\n",
    "n_fft= win_length # WINDOWS SIZE중 사용할 길이. WINDOW SIZE가 넘어가면 나머지 것들은 zero padding\n",
    "hop_length= np.int64( np.ceil(win_length/4) ) #  얼마만큼 시간 주기(sample)를 이동하면서 분석을 할 것인지. 일반적으로 window size의 1/4\n",
    "#또는 10ms만큼으로 한다고 한다.\n",
    "#hop_length가 mfcc의 frame수를 결정한다.\n",
    "\n",
    "pathology_sig=[]\n",
    "healthy_sig=[]\n",
    "\n",
    "pathology=[]\n",
    "healthy=[]\n",
    "\n",
    "\n",
    "#PATHOLOGY DATA\n",
    "for audio_path in os.listdir('../voice_data/disorder/export/'):\n",
    "    sig, sr = librosa.load('../voice_data/disorder/export/'+audio_path, sr=50000)# 논문에서 f_s = 50 000HZ\n",
    "    pathology_sig.append(sig)\n",
    "    MFCCs = librosa.feature.mfcc(sig, sr, win_length=win_length ,n_fft=n_fft, hop_length=hop_length, n_mfcc=13)\n",
    "    pathology.append(MFCCs)\n",
    "    \n",
    "\n",
    "#Healthy data\n",
    "for audio_path in os.listdir('../voice_data/healthy/export/'):\n",
    "    sig, sr = librosa.load('../voice_data/healthy/export/'+audio_path, sr=50000)# 논문에서 f_s = 50 000HZ\n",
    "    healthy_sig.append(sig)\n",
    "    MFCCs = librosa.feature.mfcc(sig, sr, win_length=win_length ,n_fft=n_fft, hop_length=hop_length, n_mfcc=13)\n",
    "    healthy.append(MFCCs)\n",
    "    \n",
    "print(\"pathology data 수 : \",len(pathology))\n",
    "print(\"healthy data 수 : \",len(healthy))\n",
    "\n",
    "\n",
    "path_max=max([ len(samples) for samples in pathology_sig])\n",
    "healthy_max=max([ len(samples) for samples in healthy_sig])\n",
    "print(\"가장 긴 path sample :\" ,path_max)\n",
    "print(\"가장 긴 healthy sample :\" ,healthy_max)"
   ]
  },
  {
   "cell_type": "code",
   "execution_count": 4,
   "id": "636bede8",
   "metadata": {},
   "outputs": [
    {
     "name": "stdout",
     "output_type": "stream",
     "text": [
      "6.35934 초\n",
      "4.14034 초\n"
     ]
    }
   ],
   "source": [
    "print(path_max/sr,\"초\")\n",
    "print(healthy_max/sr,\"초\")"
   ]
  },
  {
   "cell_type": "code",
   "execution_count": 14,
   "id": "adec43f1",
   "metadata": {},
   "outputs": [
    {
     "data": {
      "text/plain": [
       "array([[-664.5546   , -661.09326  , -648.41675  , ..., -583.1954   ,\n",
       "        -591.54895  , -598.0238   ],\n",
       "       [  42.987347 ,   49.232384 ,   59.7008   , ...,  100.61284  ,\n",
       "          96.951584 ,   90.819595 ],\n",
       "       [  19.686474 ,   25.329206 ,   29.251112 , ...,   25.392967 ,\n",
       "          27.55801  ,   32.691036 ],\n",
       "       ...,\n",
       "       [   5.0496755,    5.7428827,    3.4806967, ...,   18.50998  ,\n",
       "           5.907953 ,    8.640621 ],\n",
       "       [   9.790856 ,   12.660656 ,    4.9854956, ...,    5.336875 ,\n",
       "           2.23176  ,    4.5691023],\n",
       "       [  18.775772 ,   19.052063 ,    9.2463875, ...,    2.3773415,\n",
       "           2.4097412,   10.659433 ]], dtype=float32)"
      ]
     },
     "execution_count": 14,
     "metadata": {},
     "output_type": "execute_result"
    }
   ],
   "source": []
  },
  {
   "cell_type": "markdown",
   "id": "148ec668",
   "metadata": {},
   "source": [
    "# 결과 확인\n",
    "- 1 row당 1 frame으로"
   ]
  },
  {
   "cell_type": "code",
   "execution_count": 30,
   "id": "a48f3297",
   "metadata": {
    "scrolled": false
   },
   "outputs": [
    {
     "data": {
      "text/html": [
       "<div>\n",
       "<style scoped>\n",
       "    .dataframe tbody tr th:only-of-type {\n",
       "        vertical-align: middle;\n",
       "    }\n",
       "\n",
       "    .dataframe tbody tr th {\n",
       "        vertical-align: top;\n",
       "    }\n",
       "\n",
       "    .dataframe thead th {\n",
       "        text-align: right;\n",
       "    }\n",
       "</style>\n",
       "<table border=\"1\" class=\"dataframe\">\n",
       "  <thead>\n",
       "    <tr style=\"text-align: right;\">\n",
       "      <th></th>\n",
       "      <th>mfcc1</th>\n",
       "      <th>mfcc2</th>\n",
       "      <th>mfcc3</th>\n",
       "      <th>mfcc4</th>\n",
       "      <th>mfcc5</th>\n",
       "      <th>mfcc6</th>\n",
       "      <th>mfcc7</th>\n",
       "      <th>mfcc8</th>\n",
       "      <th>mfcc9</th>\n",
       "      <th>mfcc10</th>\n",
       "      <th>mfcc11</th>\n",
       "      <th>mfcc12</th>\n",
       "      <th>mfcc13</th>\n",
       "    </tr>\n",
       "  </thead>\n",
       "  <tbody>\n",
       "    <tr>\n",
       "      <th>0</th>\n",
       "      <td>-277.435181</td>\n",
       "      <td>217.131302</td>\n",
       "      <td>-13.972048</td>\n",
       "      <td>2.421658</td>\n",
       "      <td>-46.796097</td>\n",
       "      <td>-4.302108</td>\n",
       "      <td>-28.972664</td>\n",
       "      <td>13.408556</td>\n",
       "      <td>28.633501</td>\n",
       "      <td>-23.682468</td>\n",
       "      <td>-10.976597</td>\n",
       "      <td>5.232002</td>\n",
       "      <td>-27.321705</td>\n",
       "    </tr>\n",
       "    <tr>\n",
       "      <th>1</th>\n",
       "      <td>-281.919495</td>\n",
       "      <td>210.899353</td>\n",
       "      <td>-14.512285</td>\n",
       "      <td>-0.058138</td>\n",
       "      <td>-50.630947</td>\n",
       "      <td>-8.609697</td>\n",
       "      <td>-39.469994</td>\n",
       "      <td>9.049422</td>\n",
       "      <td>23.882133</td>\n",
       "      <td>-24.983570</td>\n",
       "      <td>-13.507469</td>\n",
       "      <td>8.224895</td>\n",
       "      <td>-22.392838</td>\n",
       "    </tr>\n",
       "    <tr>\n",
       "      <th>2</th>\n",
       "      <td>-307.412170</td>\n",
       "      <td>182.036957</td>\n",
       "      <td>-23.609758</td>\n",
       "      <td>-1.286402</td>\n",
       "      <td>-46.687546</td>\n",
       "      <td>-8.553607</td>\n",
       "      <td>-44.500671</td>\n",
       "      <td>9.419307</td>\n",
       "      <td>23.425653</td>\n",
       "      <td>-21.788742</td>\n",
       "      <td>-17.821304</td>\n",
       "      <td>14.514274</td>\n",
       "      <td>-17.257675</td>\n",
       "    </tr>\n",
       "    <tr>\n",
       "      <th>3</th>\n",
       "      <td>-308.061707</td>\n",
       "      <td>185.260468</td>\n",
       "      <td>-20.746826</td>\n",
       "      <td>-2.282940</td>\n",
       "      <td>-47.517494</td>\n",
       "      <td>-8.603182</td>\n",
       "      <td>-44.703972</td>\n",
       "      <td>8.796711</td>\n",
       "      <td>28.302505</td>\n",
       "      <td>-13.937325</td>\n",
       "      <td>-18.596596</td>\n",
       "      <td>12.981836</td>\n",
       "      <td>-14.991493</td>\n",
       "    </tr>\n",
       "    <tr>\n",
       "      <th>4</th>\n",
       "      <td>-312.488892</td>\n",
       "      <td>183.100967</td>\n",
       "      <td>-23.440123</td>\n",
       "      <td>-1.653871</td>\n",
       "      <td>-47.008690</td>\n",
       "      <td>-9.748432</td>\n",
       "      <td>-45.852364</td>\n",
       "      <td>5.705857</td>\n",
       "      <td>24.955027</td>\n",
       "      <td>-18.747026</td>\n",
       "      <td>-19.271517</td>\n",
       "      <td>9.628666</td>\n",
       "      <td>-14.358886</td>\n",
       "    </tr>\n",
       "    <tr>\n",
       "      <th>...</th>\n",
       "      <td>...</td>\n",
       "      <td>...</td>\n",
       "      <td>...</td>\n",
       "      <td>...</td>\n",
       "      <td>...</td>\n",
       "      <td>...</td>\n",
       "      <td>...</td>\n",
       "      <td>...</td>\n",
       "      <td>...</td>\n",
       "      <td>...</td>\n",
       "      <td>...</td>\n",
       "      <td>...</td>\n",
       "      <td>...</td>\n",
       "    </tr>\n",
       "    <tr>\n",
       "      <th>307</th>\n",
       "      <td>-312.916199</td>\n",
       "      <td>158.961182</td>\n",
       "      <td>-26.786573</td>\n",
       "      <td>13.924356</td>\n",
       "      <td>-51.417900</td>\n",
       "      <td>-6.173113</td>\n",
       "      <td>-41.896027</td>\n",
       "      <td>7.595150</td>\n",
       "      <td>21.323551</td>\n",
       "      <td>-27.307755</td>\n",
       "      <td>-14.366621</td>\n",
       "      <td>14.418139</td>\n",
       "      <td>-21.696594</td>\n",
       "    </tr>\n",
       "    <tr>\n",
       "      <th>308</th>\n",
       "      <td>-311.370911</td>\n",
       "      <td>161.326279</td>\n",
       "      <td>-22.441750</td>\n",
       "      <td>14.180597</td>\n",
       "      <td>-55.980904</td>\n",
       "      <td>-7.803135</td>\n",
       "      <td>-41.668770</td>\n",
       "      <td>11.216280</td>\n",
       "      <td>24.795391</td>\n",
       "      <td>-24.515268</td>\n",
       "      <td>-12.940067</td>\n",
       "      <td>13.673044</td>\n",
       "      <td>-19.685993</td>\n",
       "    </tr>\n",
       "    <tr>\n",
       "      <th>309</th>\n",
       "      <td>-316.772736</td>\n",
       "      <td>164.728607</td>\n",
       "      <td>-26.624262</td>\n",
       "      <td>11.242275</td>\n",
       "      <td>-57.082973</td>\n",
       "      <td>-11.883168</td>\n",
       "      <td>-40.423569</td>\n",
       "      <td>10.203865</td>\n",
       "      <td>23.440647</td>\n",
       "      <td>-26.331760</td>\n",
       "      <td>-14.870211</td>\n",
       "      <td>11.893984</td>\n",
       "      <td>-15.572662</td>\n",
       "    </tr>\n",
       "    <tr>\n",
       "      <th>310</th>\n",
       "      <td>-300.903534</td>\n",
       "      <td>186.152023</td>\n",
       "      <td>-21.547771</td>\n",
       "      <td>9.273628</td>\n",
       "      <td>-56.856239</td>\n",
       "      <td>-14.139202</td>\n",
       "      <td>-39.882935</td>\n",
       "      <td>4.801795</td>\n",
       "      <td>20.053015</td>\n",
       "      <td>-23.554581</td>\n",
       "      <td>-13.533127</td>\n",
       "      <td>12.452017</td>\n",
       "      <td>-12.816125</td>\n",
       "    </tr>\n",
       "    <tr>\n",
       "      <th>311</th>\n",
       "      <td>-281.378632</td>\n",
       "      <td>197.202744</td>\n",
       "      <td>-14.319065</td>\n",
       "      <td>13.452944</td>\n",
       "      <td>-54.099823</td>\n",
       "      <td>-14.139323</td>\n",
       "      <td>-34.696396</td>\n",
       "      <td>6.434023</td>\n",
       "      <td>21.471226</td>\n",
       "      <td>-20.721340</td>\n",
       "      <td>-10.341461</td>\n",
       "      <td>17.984150</td>\n",
       "      <td>-11.652242</td>\n",
       "    </tr>\n",
       "  </tbody>\n",
       "</table>\n",
       "<p>312 rows × 13 columns</p>\n",
       "</div>"
      ],
      "text/plain": [
       "          mfcc1       mfcc2      mfcc3      mfcc4      mfcc5      mfcc6  \\\n",
       "0   -277.435181  217.131302 -13.972048   2.421658 -46.796097  -4.302108   \n",
       "1   -281.919495  210.899353 -14.512285  -0.058138 -50.630947  -8.609697   \n",
       "2   -307.412170  182.036957 -23.609758  -1.286402 -46.687546  -8.553607   \n",
       "3   -308.061707  185.260468 -20.746826  -2.282940 -47.517494  -8.603182   \n",
       "4   -312.488892  183.100967 -23.440123  -1.653871 -47.008690  -9.748432   \n",
       "..          ...         ...        ...        ...        ...        ...   \n",
       "307 -312.916199  158.961182 -26.786573  13.924356 -51.417900  -6.173113   \n",
       "308 -311.370911  161.326279 -22.441750  14.180597 -55.980904  -7.803135   \n",
       "309 -316.772736  164.728607 -26.624262  11.242275 -57.082973 -11.883168   \n",
       "310 -300.903534  186.152023 -21.547771   9.273628 -56.856239 -14.139202   \n",
       "311 -281.378632  197.202744 -14.319065  13.452944 -54.099823 -14.139323   \n",
       "\n",
       "         mfcc7      mfcc8      mfcc9     mfcc10     mfcc11     mfcc12  \\\n",
       "0   -28.972664  13.408556  28.633501 -23.682468 -10.976597   5.232002   \n",
       "1   -39.469994   9.049422  23.882133 -24.983570 -13.507469   8.224895   \n",
       "2   -44.500671   9.419307  23.425653 -21.788742 -17.821304  14.514274   \n",
       "3   -44.703972   8.796711  28.302505 -13.937325 -18.596596  12.981836   \n",
       "4   -45.852364   5.705857  24.955027 -18.747026 -19.271517   9.628666   \n",
       "..         ...        ...        ...        ...        ...        ...   \n",
       "307 -41.896027   7.595150  21.323551 -27.307755 -14.366621  14.418139   \n",
       "308 -41.668770  11.216280  24.795391 -24.515268 -12.940067  13.673044   \n",
       "309 -40.423569  10.203865  23.440647 -26.331760 -14.870211  11.893984   \n",
       "310 -39.882935   4.801795  20.053015 -23.554581 -13.533127  12.452017   \n",
       "311 -34.696396   6.434023  21.471226 -20.721340 -10.341461  17.984150   \n",
       "\n",
       "        mfcc13  \n",
       "0   -27.321705  \n",
       "1   -22.392838  \n",
       "2   -17.257675  \n",
       "3   -14.991493  \n",
       "4   -14.358886  \n",
       "..         ...  \n",
       "307 -21.696594  \n",
       "308 -19.685993  \n",
       "309 -15.572662  \n",
       "310 -12.816125  \n",
       "311 -11.652242  \n",
       "\n",
       "[312 rows x 13 columns]"
      ]
     },
     "execution_count": 30,
     "metadata": {},
     "output_type": "execute_result"
    }
   ],
   "source": [
    "len(healthy[0][2]) #1번 : 파일. 2번:mfcc\n",
    "headers = \"mfcc1 mfcc2 mfcc3 mfcc4 mfcc5 mfcc6 mfcc7 mfcc8 mfcc9 mfcc10 mfcc11 mfcc12 mfcc13\".split()\n",
    "pd.DataFrame(healthy[0].T,columns=headers)\n",
    "\n"
   ]
  },
  {
   "cell_type": "code",
   "execution_count": 17,
   "id": "186be135",
   "metadata": {},
   "outputs": [
    {
     "data": {
      "text/plain": [
       "326"
      ]
     },
     "execution_count": 17,
     "metadata": {},
     "output_type": "execute_result"
    }
   ],
   "source": [
    "healthy[0].shape[1]"
   ]
  },
  {
   "cell_type": "code",
   "execution_count": 5,
   "id": "73d328bf",
   "metadata": {},
   "outputs": [],
   "source": [
    "del pathology\n",
    "del healthy\n",
    "del pathology_sig\n",
    "del healthy_sig"
   ]
  },
  {
   "cell_type": "markdown",
   "id": "a3c18698",
   "metadata": {},
   "source": [
    "# 데이터 나누기  (validation 포함.)\n",
    "- 22.01.05\n",
    "- 0.5 비율로 healthy, pathology 샘플 분배. \n",
    "\n",
    "- pathology : (852) -> 632 , healthy 수 : 632 총 1264\n",
    "- train : 1011 , validation:126 , test : 127\n"
   ]
  },
  {
   "cell_type": "code",
   "execution_count": 3,
   "id": "b263c374",
   "metadata": {},
   "outputs": [
    {
     "name": "stdout",
     "output_type": "stream",
     "text": [
      "Pathology :  852\n",
      "Healthy:  632\n",
      "총 데이터수 :  1264\n",
      "훈련 셋 :  1011\n",
      "검증 셋 :  126\n",
      "테스트 셋 :  127\n"
     ]
    }
   ],
   "source": [
    "#1. train, test 나누기\n",
    "import os\n",
    "import random #데이터 shuffle 사용\n",
    "from glob import glob\n",
    "\n",
    "\n",
    "pathology = glob('../voice_data/disorder/export/*.wav')\n",
    "healthy = glob('../voice_data/healthy/export/*.wav')\n",
    "print(\"Pathology : \",len(pathology))\n",
    "print(\"Healthy: \",len(healthy))\n",
    "\n",
    "random.seed(123)\n",
    "random.shuffle(pathology)\n",
    "\n",
    "pathology=pathology[:632]\n",
    "\n",
    "X = pathology+healthy # path 데이터 합\n",
    "print(\"총 데이터수 : \",len(X))\n",
    "Y = {} # 라벨\n",
    "for idx,x in enumerate(X):\n",
    "    if idx<632:\n",
    "        Y[x]=\"pathology\"\n",
    "    else:\n",
    "        Y[x]=\"healthy\"\n",
    "\n",
    "#train 1011   test: 253\n",
    "random.seed(123)\n",
    "random.shuffle(X)\n",
    "DATA_TRAINING_PATH = X[:1011]\n",
    "DATA_VALIDATION_PATH = X[1011:1137]\n",
    "DATA_TEST_PATH = X[1137:]\n",
    "\n",
    "print(\"훈련 셋 : \",len(DATA_TRAINING_PATH))\n",
    "print(\"검증 셋 : \",len(DATA_VALIDATION_PATH))\n",
    "print(\"테스트 셋 : \",len(DATA_TEST_PATH))"
   ]
  },
  {
   "cell_type": "code",
   "execution_count": 4,
   "id": "3daec414",
   "metadata": {},
   "outputs": [
    {
     "name": "stdout",
     "output_type": "stream",
     "text": [
      "1264\n"
     ]
    }
   ],
   "source": [
    "print(len(Y))"
   ]
  },
  {
   "cell_type": "code",
   "execution_count": 5,
   "id": "c1c0328f",
   "metadata": {},
   "outputs": [
    {
     "name": "stdout",
     "output_type": "stream",
     "text": [
      "\n",
      "\n",
      "[Train-set]\t pathology :  519  healthy:  492  path 비율: 0.5134\n",
      "[Validation-set]\t pathology :  56  healthy:  70  path 비율: 0.4444\n",
      "[Test-set]\t pathology :  57  healthy:  70  path 비율: 0.4488\n"
     ]
    }
   ],
   "source": [
    "#train test set 비율\n",
    "\n",
    "train_all = [Y[path] for path in DATA_TRAINING_PATH]\n",
    "validation_all = [Y[path] for path in DATA_VALIDATION_PATH]\n",
    "test_all  = [Y[path] for path in DATA_TEST_PATH]\n",
    "print(\"\\n\")\n",
    "print('[Train-set]\\t pathology : ',train_all.count('pathology'),\" healthy: \",train_all.count('healthy'),' path 비율: {:.4f}'.format(train_all.count('pathology')/len(train_all)) )\n",
    "print('[Validation-set]\\t pathology : ',validation_all.count('pathology'),\" healthy: \",validation_all.count('healthy'),' path 비율: {:.4f}'.format(validation_all.count('pathology')/len(validation_all)) )\n",
    "print('[Test-set]\\t pathology : ',test_all.count('pathology'),\" healthy: \",test_all.count('healthy'),' path 비율: {:.4f}'.format(test_all.count('pathology')/len(test_all)) )\n",
    "\n"
   ]
  },
  {
   "cell_type": "markdown",
   "id": "08a663f0",
   "metadata": {},
   "source": [
    "# 데이터 정의\n",
    "- 추가적으로 데이터의 크기를 맞춰주기 위해 3초로 padding 및 truncate 실시 https://sequencedata.tistory.com/25 FixAudioLength\n",
    "- 논문에서는 400frame으로 설정.(여기서는 500frame)\n",
    "- 전처리 방법 결정.\n"
   ]
  },
  {
   "cell_type": "code",
   "execution_count": 55,
   "id": "2febf8cb",
   "metadata": {},
   "outputs": [],
   "source": [
    "from torch.utils.data import Dataset, DataLoader\n",
    "\n",
    "classes = [\"pathology\",\"healthy\"]\n",
    "sr=50000\n",
    "win_length =  np.int64(50000/40) # 1250\n",
    "n_fft= win_length # WINDOWS SIZE중 사용할 길이. WINDOW SIZE가 넘어가면 나머지 것들은 zero padding\n",
    "hop_length= np.int64( np.ceil(win_length/4) ) #  얼마만큼 시간 주기(sample)를 이동하면서 분석을 할 것인지. 일반적으로 window size의 1/4\n",
    "#또는 10ms만큼으로 한다고 한다.\n",
    "#hop_length가 mfcc의 frame수를 결정한다.\n",
    "\n",
    "\n",
    "\n",
    "class svd_dataset(Dataset):\n",
    "    def __init__(self,data_path_list,classes,transform=None):\n",
    "        #클래스에서 사용할 인자를 받아 인스턴스 변수로 저장하는 일을 한다.\n",
    "        #예를들면, 이미지의 경로 리스트를 저장하는 일을 하게 된다.\n",
    "        self.path_list = data_path_list\n",
    "        self.label = svd_dataset.get_label(data_path_list)\n",
    "        self.classes=classes\n",
    "        self.transform=transform\n",
    "    \n",
    "    @classmethod\n",
    "    def get_label(cls,data_path_list):\n",
    "        label_list=[]\n",
    "        for idx in data_path_list:\n",
    "            label_list.append(Y[idx])\n",
    "        #print(label_list)\n",
    "        return label_list\n",
    "    \n",
    "    def __len__(self):\n",
    "        return len(self.path_list)\n",
    "        #데이터 셋의 길이를 정수로 반환한다. \n",
    "        \n",
    "    def __getitem__(self, idx):\n",
    "        \"\"\"\n",
    "        1. path를 받아서, 소리에서 mfcc를 추출\n",
    "        2. mfcc를 500프레임으로 패딩.\n",
    "        3. resnet에 사용되기 위해 3채널로 복사(rgb 처럼)\n",
    "        4. 0~1 정규화\n",
    "        \n",
    "        \"\"\"\n",
    "        \n",
    "        sig, sr = librosa.load(self.path_list[idx], sr=50000)# 논문에서 f_s = 50 000HZ\n",
    "        \n",
    "        MFCCs = librosa.feature.mfcc(sig, sr, win_length=win_length ,n_fft=n_fft, hop_length=hop_length, n_mfcc=13)\n",
    "        #mfcc 400 FRAME이 되도록 패딩.\n",
    "        length = 500\n",
    "        pad2d = lambda a, i: a[:, 0:i] if a.shape[1] > i else np.hstack((a, np.zeros((a.shape[0], i-a.shape[1]))))\n",
    "        MFCCs = pad2d(MFCCs, length)\n",
    "        MFCCs= MFCCs.T\n",
    "        \n",
    "        if self.transform:\n",
    "            #print('transform')\n",
    "            MFCCs=self.transform(MFCCs).type(torch.float32)# 데이터 0~1 정규화\n",
    "            MFCCs=torch.stack([MFCCs,MFCCs,MFCCs])# 3채널로 복사.\n",
    "            MFCCs = MFCCs.squeeze(dim=1)\n",
    "        else:\n",
    "            #print(\"else\")\n",
    "            MFCCs = torch.from_numpy(MFCCs).type(torch.float32)\n",
    "            MFCCs=MFCCs.unsqueeze(0)#cnn 사용위해서 추가\n",
    "            #MFCCs = MFCCs.permute(2, 0, 1)\n",
    "        return MFCCs, self.classes.index(self.label[idx])\n",
    "    "
   ]
  },
  {
   "cell_type": "markdown",
   "id": "9d05129d",
   "metadata": {},
   "source": [
    "# 데이터 로더"
   ]
  },
  {
   "cell_type": "code",
   "execution_count": 56,
   "id": "89052fe4",
   "metadata": {},
   "outputs": [],
   "source": [
    "#3. 하이퍼 파라미터\n",
    "BATCH_SIZE =  32 #한 배치당 32개 음성데이터\n",
    "EPOCHS = 40 # 전체 데이터 셋을 50번 반복"
   ]
  },
  {
   "cell_type": "code",
   "execution_count": 57,
   "id": "bba97b37",
   "metadata": {},
   "outputs": [],
   "source": [
    "#DATA LOADER 함수가 BATCH_size 단위로 분리해 지정.\n",
    "train_loader = torch.utils.data.DataLoader(dataset = \n",
    "                                           svd_dataset(\n",
    "                                               DATA_TRAINING_PATH,\n",
    "                                               classes,\n",
    "                                               transform = transforms.ToTensor()#이걸 composed로 고쳐서 전처리 하도록 수정.\n",
    "                                           ),\n",
    "                                           batch_size = BATCH_SIZE,\n",
    "                                           shuffle = True,\n",
    "                                           ) # 순서가 암기되는것을 막기위해.\n",
    "\n",
    "validation_loader = torch.utils.data.DataLoader(dataset = \n",
    "                                           svd_dataset(\n",
    "                                               DATA_VALIDATION_PATH,\n",
    "                                               classes,\n",
    "                                               transform = transforms.ToTensor()\n",
    "                                           ),\n",
    "                                           batch_size = BATCH_SIZE,\n",
    "                                           shuffle = False,) \n",
    "\n",
    "\n",
    "test_loader = torch.utils.data.DataLoader(dataset = \n",
    "                                           svd_dataset(\n",
    "                                               DATA_TEST_PATH,\n",
    "                                               classes,\n",
    "                                               transform = transforms.ToTensor()\n",
    "                                           ),\n",
    "                                           batch_size = BATCH_SIZE,\n",
    "                                           shuffle = False,) \n",
    "\n"
   ]
  },
  {
   "cell_type": "markdown",
   "id": "52b15a86",
   "metadata": {},
   "source": [
    "# 데이터 확인"
   ]
  },
  {
   "cell_type": "code",
   "execution_count": 60,
   "id": "6f866237",
   "metadata": {},
   "outputs": [
    {
     "name": "stdout",
     "output_type": "stream",
     "text": [
      "X_train :  torch.Size([32, 3, 500, 13]) type: torch.FloatTensor\n",
      "Y_train :  torch.Size([32]) type: torch.LongTensor\n",
      "tensor(0)\n"
     ]
    },
    {
     "data": {
      "text/plain": [
       "<matplotlib.collections.QuadMesh at 0x2c32424d6d0>"
      ]
     },
     "execution_count": 60,
     "metadata": {},
     "output_type": "execute_result"
    },
    {
     "data": {
      "image/png": "[encoded data removed]",
      "text/plain": [
       "<Figure size 432x288 with 1 Axes>"
      ]
     },
     "metadata": {
      "needs_background": "light"
     },
     "output_type": "display_data"
    }
   ],
   "source": [
    "# 4. 데이터 확인하기\n",
    "for (X_train,Y_train) in train_loader:\n",
    "    print(\"X_train : \",X_train.size(),'type:',X_train.type())\n",
    "    print(\"Y_train : \",Y_train.size(),'type:',Y_train.type())\n",
    "    break\n",
    "    \n",
    "print(Y_train[0])\n",
    "librosa.display.specshow(X_train[0][0].numpy().T, sr=50000, x_axis='time')\n",
    "#batch: 32 / 3채널 / frame수: 500  /  feature수: 13"
   ]
  },
  {
   "cell_type": "code",
   "execution_count": 61,
   "id": "3b29c510",
   "metadata": {},
   "outputs": [
    {
     "name": "stdout",
     "output_type": "stream",
     "text": [
      "X_valid :  torch.Size([32, 3, 500, 13]) type: torch.FloatTensor\n",
      "Y_valid :  torch.Size([32]) type: torch.LongTensor\n",
      "tensor(0)\n"
     ]
    },
    {
     "data": {
      "text/plain": [
       "<matplotlib.collections.QuadMesh at 0x2c324285c70>"
      ]
     },
     "execution_count": 61,
     "metadata": {},
     "output_type": "execute_result"
    },
    {
     "data": {
      "image/png": "[encoded data removed]",
      "text/plain": [
       "<Figure size 432x288 with 1 Axes>"
      ]
     },
     "metadata": {
      "needs_background": "light"
     },
     "output_type": "display_data"
    }
   ],
   "source": [
    "#valiation set 확인\n",
    "for (X_valid,Y_valid) in validation_loader:\n",
    "    print(\"X_valid : \",X_valid.size(),'type:',X_valid.type())\n",
    "    print(\"Y_valid : \",Y_valid.size(),'type:',Y_valid.type())\n",
    "    break\n",
    "\n",
    "print(Y_valid[0])\n",
    "librosa.display.specshow(X_valid[0][0].numpy().T, sr=50000, x_axis='time')\n",
    "#batch: 32 / 3채널 / frame수: 500  /  feature수: 13"
   ]
  },
  {
   "cell_type": "markdown",
   "id": "fec40ea4",
   "metadata": {},
   "source": [
    "# RESNET"
   ]
  },
  {
   "cell_type": "code",
   "execution_count": 110,
   "id": "3426d504",
   "metadata": {},
   "outputs": [],
   "source": [
    "# 모델 1\n",
    "model = models.resnet34(pretrained=False).cuda()\n",
    "model.ftrs = model.fc.in_features # in_features : fully connected의 입력수.\n",
    "num_ftrs = model.fc.in_features\n",
    "model.fc = nn.Linear(num_ftrs, 2) # 두가지 클래스\n",
    "\n",
    "model = model.cuda()\n",
    "\n"
   ]
  },
  {
   "cell_type": "code",
   "execution_count": null,
   "id": "2fe5d1b2",
   "metadata": {},
   "outputs": [],
   "source": [
    "# 모델 2\n",
    "model = models.resnet34(pretrained=False).cuda()\n",
    "model.ftrs = model.fc.in_features # in_features : fully connected의 입력수.\n",
    "num_ftrs = model.fc.in_features\n",
    "\n",
    "model.fc = nn.Sequential(nn.Linear(num_ftrs, 256),\n",
    "              nn.BatchNorm1d(256),\n",
    "              nn.Linear(256, 2))\n",
    "\n",
    "model = model.cuda()\n",
    "\n"
   ]
  },
  {
   "cell_type": "code",
   "execution_count": 111,
   "id": "1ab03234",
   "metadata": {},
   "outputs": [
    {
     "name": "stdout",
     "output_type": "stream",
     "text": [
      "ResNet(\n",
      "  (conv1): Conv2d(3, 64, kernel_size=(7, 7), stride=(2, 2), padding=(3, 3), bias=False)\n",
      "  (bn1): BatchNorm2d(64, eps=1e-05, momentum=0.1, affine=True, track_running_stats=True)\n",
      "  (relu): ReLU(inplace=True)\n",
      "  (maxpool): MaxPool2d(kernel_size=3, stride=2, padding=1, dilation=1, ceil_mode=False)\n",
      "  (layer1): Sequential(\n",
      "    (0): BasicBlock(\n",
      "      (conv1): Conv2d(64, 64, kernel_size=(3, 3), stride=(1, 1), padding=(1, 1), bias=False)\n",
      "      (bn1): BatchNorm2d(64, eps=1e-05, momentum=0.1, affine=True, track_running_stats=True)\n",
      "      (relu): ReLU(inplace=True)\n",
      "      (conv2): Conv2d(64, 64, kernel_size=(3, 3), stride=(1, 1), padding=(1, 1), bias=False)\n",
      "      (bn2): BatchNorm2d(64, eps=1e-05, momentum=0.1, affine=True, track_running_stats=True)\n",
      "    )\n",
      "    (1): BasicBlock(\n",
      "      (conv1): Conv2d(64, 64, kernel_size=(3, 3), stride=(1, 1), padding=(1, 1), bias=False)\n",
      "      (bn1): BatchNorm2d(64, eps=1e-05, momentum=0.1, affine=True, track_running_stats=True)\n",
      "      (relu): ReLU(inplace=True)\n",
      "      (conv2): Conv2d(64, 64, kernel_size=(3, 3), stride=(1, 1), padding=(1, 1), bias=False)\n",
      "      (bn2): BatchNorm2d(64, eps=1e-05, momentum=0.1, affine=True, track_running_stats=True)\n",
      "    )\n",
      "    (2): BasicBlock(\n",
      "      (conv1): Conv2d(64, 64, kernel_size=(3, 3), stride=(1, 1), padding=(1, 1), bias=False)\n",
      "      (bn1): BatchNorm2d(64, eps=1e-05, momentum=0.1, affine=True, track_running_stats=True)\n",
      "      (relu): ReLU(inplace=True)\n",
      "      (conv2): Conv2d(64, 64, kernel_size=(3, 3), stride=(1, 1), padding=(1, 1), bias=False)\n",
      "      (bn2): BatchNorm2d(64, eps=1e-05, momentum=0.1, affine=True, track_running_stats=True)\n",
      "    )\n",
      "  )\n",
      "  (layer2): Sequential(\n",
      "    (0): BasicBlock(\n",
      "      (conv1): Conv2d(64, 128, kernel_size=(3, 3), stride=(2, 2), padding=(1, 1), bias=False)\n",
      "      (bn1): BatchNorm2d(128, eps=1e-05, momentum=0.1, affine=True, track_running_stats=True)\n",
      "      (relu): ReLU(inplace=True)\n",
      "      (conv2): Conv2d(128, 128, kernel_size=(3, 3), stride=(1, 1), padding=(1, 1), bias=False)\n",
      "      (bn2): BatchNorm2d(128, eps=1e-05, momentum=0.1, affine=True, track_running_stats=True)\n",
      "      (downsample): Sequential(\n",
      "        (0): Conv2d(64, 128, kernel_size=(1, 1), stride=(2, 2), bias=False)\n",
      "        (1): BatchNorm2d(128, eps=1e-05, momentum=0.1, affine=True, track_running_stats=True)\n",
      "      )\n",
      "    )\n",
      "    (1): BasicBlock(\n",
      "      (conv1): Conv2d(128, 128, kernel_size=(3, 3), stride=(1, 1), padding=(1, 1), bias=False)\n",
      "      (bn1): BatchNorm2d(128, eps=1e-05, momentum=0.1, affine=True, track_running_stats=True)\n",
      "      (relu): ReLU(inplace=True)\n",
      "      (conv2): Conv2d(128, 128, kernel_size=(3, 3), stride=(1, 1), padding=(1, 1), bias=False)\n",
      "      (bn2): BatchNorm2d(128, eps=1e-05, momentum=0.1, affine=True, track_running_stats=True)\n",
      "    )\n",
      "    (2): BasicBlock(\n",
      "      (conv1): Conv2d(128, 128, kernel_size=(3, 3), stride=(1, 1), padding=(1, 1), bias=False)\n",
      "      (bn1): BatchNorm2d(128, eps=1e-05, momentum=0.1, affine=True, track_running_stats=True)\n",
      "      (relu): ReLU(inplace=True)\n",
      "      (conv2): Conv2d(128, 128, kernel_size=(3, 3), stride=(1, 1), padding=(1, 1), bias=False)\n",
      "      (bn2): BatchNorm2d(128, eps=1e-05, momentum=0.1, affine=True, track_running_stats=True)\n",
      "    )\n",
      "    (3): BasicBlock(\n",
      "      (conv1): Conv2d(128, 128, kernel_size=(3, 3), stride=(1, 1), padding=(1, 1), bias=False)\n",
      "      (bn1): BatchNorm2d(128, eps=1e-05, momentum=0.1, affine=True, track_running_stats=True)\n",
      "      (relu): ReLU(inplace=True)\n",
      "      (conv2): Conv2d(128, 128, kernel_size=(3, 3), stride=(1, 1), padding=(1, 1), bias=False)\n",
      "      (bn2): BatchNorm2d(128, eps=1e-05, momentum=0.1, affine=True, track_running_stats=True)\n",
      "    )\n",
      "  )\n",
      "  (layer3): Sequential(\n",
      "    (0): BasicBlock(\n",
      "      (conv1): Conv2d(128, 256, kernel_size=(3, 3), stride=(2, 2), padding=(1, 1), bias=False)\n",
      "      (bn1): BatchNorm2d(256, eps=1e-05, momentum=0.1, affine=True, track_running_stats=True)\n",
      "      (relu): ReLU(inplace=True)\n",
      "      (conv2): Conv2d(256, 256, kernel_size=(3, 3), stride=(1, 1), padding=(1, 1), bias=False)\n",
      "      (bn2): BatchNorm2d(256, eps=1e-05, momentum=0.1, affine=True, track_running_stats=True)\n",
      "      (downsample): Sequential(\n",
      "        (0): Conv2d(128, 256, kernel_size=(1, 1), stride=(2, 2), bias=False)\n",
      "        (1): BatchNorm2d(256, eps=1e-05, momentum=0.1, affine=True, track_running_stats=True)\n",
      "      )\n",
      "    )\n",
      "    (1): BasicBlock(\n",
      "      (conv1): Conv2d(256, 256, kernel_size=(3, 3), stride=(1, 1), padding=(1, 1), bias=False)\n",
      "      (bn1): BatchNorm2d(256, eps=1e-05, momentum=0.1, affine=True, track_running_stats=True)\n",
      "      (relu): ReLU(inplace=True)\n",
      "      (conv2): Conv2d(256, 256, kernel_size=(3, 3), stride=(1, 1), padding=(1, 1), bias=False)\n",
      "      (bn2): BatchNorm2d(256, eps=1e-05, momentum=0.1, affine=True, track_running_stats=True)\n",
      "    )\n",
      "    (2): BasicBlock(\n",
      "      (conv1): Conv2d(256, 256, kernel_size=(3, 3), stride=(1, 1), padding=(1, 1), bias=False)\n",
      "      (bn1): BatchNorm2d(256, eps=1e-05, momentum=0.1, affine=True, track_running_stats=True)\n",
      "      (relu): ReLU(inplace=True)\n",
      "      (conv2): Conv2d(256, 256, kernel_size=(3, 3), stride=(1, 1), padding=(1, 1), bias=False)\n",
      "      (bn2): BatchNorm2d(256, eps=1e-05, momentum=0.1, affine=True, track_running_stats=True)\n",
      "    )\n",
      "    (3): BasicBlock(\n",
      "      (conv1): Conv2d(256, 256, kernel_size=(3, 3), stride=(1, 1), padding=(1, 1), bias=False)\n",
      "      (bn1): BatchNorm2d(256, eps=1e-05, momentum=0.1, affine=True, track_running_stats=True)\n",
      "      (relu): ReLU(inplace=True)\n",
      "      (conv2): Conv2d(256, 256, kernel_size=(3, 3), stride=(1, 1), padding=(1, 1), bias=False)\n",
      "      (bn2): BatchNorm2d(256, eps=1e-05, momentum=0.1, affine=True, track_running_stats=True)\n",
      "    )\n",
      "    (4): BasicBlock(\n",
      "      (conv1): Conv2d(256, 256, kernel_size=(3, 3), stride=(1, 1), padding=(1, 1), bias=False)\n",
      "      (bn1): BatchNorm2d(256, eps=1e-05, momentum=0.1, affine=True, track_running_stats=True)\n",
      "      (relu): ReLU(inplace=True)\n",
      "      (conv2): Conv2d(256, 256, kernel_size=(3, 3), stride=(1, 1), padding=(1, 1), bias=False)\n",
      "      (bn2): BatchNorm2d(256, eps=1e-05, momentum=0.1, affine=True, track_running_stats=True)\n",
      "    )\n",
      "    (5): BasicBlock(\n",
      "      (conv1): Conv2d(256, 256, kernel_size=(3, 3), stride=(1, 1), padding=(1, 1), bias=False)\n",
      "      (bn1): BatchNorm2d(256, eps=1e-05, momentum=0.1, affine=True, track_running_stats=True)\n",
      "      (relu): ReLU(inplace=True)\n",
      "      (conv2): Conv2d(256, 256, kernel_size=(3, 3), stride=(1, 1), padding=(1, 1), bias=False)\n",
      "      (bn2): BatchNorm2d(256, eps=1e-05, momentum=0.1, affine=True, track_running_stats=True)\n",
      "    )\n",
      "  )\n",
      "  (layer4): Sequential(\n",
      "    (0): BasicBlock(\n",
      "      (conv1): Conv2d(256, 512, kernel_size=(3, 3), stride=(2, 2), padding=(1, 1), bias=False)\n",
      "      (bn1): BatchNorm2d(512, eps=1e-05, momentum=0.1, affine=True, track_running_stats=True)\n",
      "      (relu): ReLU(inplace=True)\n",
      "      (conv2): Conv2d(512, 512, kernel_size=(3, 3), stride=(1, 1), padding=(1, 1), bias=False)\n",
      "      (bn2): BatchNorm2d(512, eps=1e-05, momentum=0.1, affine=True, track_running_stats=True)\n",
      "      (downsample): Sequential(\n",
      "        (0): Conv2d(256, 512, kernel_size=(1, 1), stride=(2, 2), bias=False)\n",
      "        (1): BatchNorm2d(512, eps=1e-05, momentum=0.1, affine=True, track_running_stats=True)\n",
      "      )\n",
      "    )\n",
      "    (1): BasicBlock(\n",
      "      (conv1): Conv2d(512, 512, kernel_size=(3, 3), stride=(1, 1), padding=(1, 1), bias=False)\n",
      "      (bn1): BatchNorm2d(512, eps=1e-05, momentum=0.1, affine=True, track_running_stats=True)\n",
      "      (relu): ReLU(inplace=True)\n",
      "      (conv2): Conv2d(512, 512, kernel_size=(3, 3), stride=(1, 1), padding=(1, 1), bias=False)\n",
      "      (bn2): BatchNorm2d(512, eps=1e-05, momentum=0.1, affine=True, track_running_stats=True)\n",
      "    )\n",
      "    (2): BasicBlock(\n",
      "      (conv1): Conv2d(512, 512, kernel_size=(3, 3), stride=(1, 1), padding=(1, 1), bias=False)\n",
      "      (bn1): BatchNorm2d(512, eps=1e-05, momentum=0.1, affine=True, track_running_stats=True)\n",
      "      (relu): ReLU(inplace=True)\n",
      "      (conv2): Conv2d(512, 512, kernel_size=(3, 3), stride=(1, 1), padding=(1, 1), bias=False)\n",
      "      (bn2): BatchNorm2d(512, eps=1e-05, momentum=0.1, affine=True, track_running_stats=True)\n",
      "    )\n",
      "  )\n",
      "  (avgpool): AdaptiveAvgPool2d(output_size=(1, 1))\n",
      "  (fc): Linear(in_features=512, out_features=2, bias=True)\n",
      ")\n"
     ]
    }
   ],
   "source": [
    "criterion = nn.CrossEntropyLoss()\n",
    "optimizer = torch.optim.Adam(model.parameters(),lr=0.0001)\n",
    "print(model)"
   ]
  },
  {
   "cell_type": "code",
   "execution_count": 112,
   "id": "2a47749e",
   "metadata": {},
   "outputs": [
    {
     "name": "stdout",
     "output_type": "stream",
     "text": [
      "----------------------------------------------------------------\n",
      "        Layer (type)               Output Shape         Param #\n",
      "================================================================\n",
      "            Conv2d-1           [-1, 64, 250, 7]           9,408\n",
      "       BatchNorm2d-2           [-1, 64, 250, 7]             128\n",
      "              ReLU-3           [-1, 64, 250, 7]               0\n",
      "         MaxPool2d-4           [-1, 64, 125, 4]               0\n",
      "            Conv2d-5           [-1, 64, 125, 4]          36,864\n",
      "       BatchNorm2d-6           [-1, 64, 125, 4]             128\n",
      "              ReLU-7           [-1, 64, 125, 4]               0\n",
      "            Conv2d-8           [-1, 64, 125, 4]          36,864\n",
      "       BatchNorm2d-9           [-1, 64, 125, 4]             128\n",
      "             ReLU-10           [-1, 64, 125, 4]               0\n",
      "       BasicBlock-11           [-1, 64, 125, 4]               0\n",
      "           Conv2d-12           [-1, 64, 125, 4]          36,864\n",
      "      BatchNorm2d-13           [-1, 64, 125, 4]             128\n",
      "             ReLU-14           [-1, 64, 125, 4]               0\n",
      "           Conv2d-15           [-1, 64, 125, 4]          36,864\n",
      "      BatchNorm2d-16           [-1, 64, 125, 4]             128\n",
      "             ReLU-17           [-1, 64, 125, 4]               0\n",
      "       BasicBlock-18           [-1, 64, 125, 4]               0\n",
      "           Conv2d-19           [-1, 64, 125, 4]          36,864\n",
      "      BatchNorm2d-20           [-1, 64, 125, 4]             128\n",
      "             ReLU-21           [-1, 64, 125, 4]               0\n",
      "           Conv2d-22           [-1, 64, 125, 4]          36,864\n",
      "      BatchNorm2d-23           [-1, 64, 125, 4]             128\n",
      "             ReLU-24           [-1, 64, 125, 4]               0\n",
      "       BasicBlock-25           [-1, 64, 125, 4]               0\n",
      "           Conv2d-26           [-1, 128, 63, 2]          73,728\n",
      "      BatchNorm2d-27           [-1, 128, 63, 2]             256\n",
      "             ReLU-28           [-1, 128, 63, 2]               0\n",
      "           Conv2d-29           [-1, 128, 63, 2]         147,456\n",
      "      BatchNorm2d-30           [-1, 128, 63, 2]             256\n",
      "           Conv2d-31           [-1, 128, 63, 2]           8,192\n",
      "      BatchNorm2d-32           [-1, 128, 63, 2]             256\n",
      "             ReLU-33           [-1, 128, 63, 2]               0\n",
      "       BasicBlock-34           [-1, 128, 63, 2]               0\n",
      "           Conv2d-35           [-1, 128, 63, 2]         147,456\n",
      "      BatchNorm2d-36           [-1, 128, 63, 2]             256\n",
      "             ReLU-37           [-1, 128, 63, 2]               0\n",
      "           Conv2d-38           [-1, 128, 63, 2]         147,456\n",
      "      BatchNorm2d-39           [-1, 128, 63, 2]             256\n",
      "             ReLU-40           [-1, 128, 63, 2]               0\n",
      "       BasicBlock-41           [-1, 128, 63, 2]               0\n",
      "           Conv2d-42           [-1, 128, 63, 2]         147,456\n",
      "      BatchNorm2d-43           [-1, 128, 63, 2]             256\n",
      "             ReLU-44           [-1, 128, 63, 2]               0\n",
      "           Conv2d-45           [-1, 128, 63, 2]         147,456\n",
      "      BatchNorm2d-46           [-1, 128, 63, 2]             256\n",
      "             ReLU-47           [-1, 128, 63, 2]               0\n",
      "       BasicBlock-48           [-1, 128, 63, 2]               0\n",
      "           Conv2d-49           [-1, 128, 63, 2]         147,456\n",
      "      BatchNorm2d-50           [-1, 128, 63, 2]             256\n",
      "             ReLU-51           [-1, 128, 63, 2]               0\n",
      "           Conv2d-52           [-1, 128, 63, 2]         147,456\n",
      "      BatchNorm2d-53           [-1, 128, 63, 2]             256\n",
      "             ReLU-54           [-1, 128, 63, 2]               0\n",
      "       BasicBlock-55           [-1, 128, 63, 2]               0\n",
      "           Conv2d-56           [-1, 256, 32, 1]         294,912\n",
      "      BatchNorm2d-57           [-1, 256, 32, 1]             512\n",
      "             ReLU-58           [-1, 256, 32, 1]               0\n",
      "           Conv2d-59           [-1, 256, 32, 1]         589,824\n",
      "      BatchNorm2d-60           [-1, 256, 32, 1]             512\n",
      "           Conv2d-61           [-1, 256, 32, 1]          32,768\n",
      "      BatchNorm2d-62           [-1, 256, 32, 1]             512\n",
      "             ReLU-63           [-1, 256, 32, 1]               0\n",
      "       BasicBlock-64           [-1, 256, 32, 1]               0\n",
      "           Conv2d-65           [-1, 256, 32, 1]         589,824\n",
      "      BatchNorm2d-66           [-1, 256, 32, 1]             512\n",
      "             ReLU-67           [-1, 256, 32, 1]               0\n",
      "           Conv2d-68           [-1, 256, 32, 1]         589,824\n",
      "      BatchNorm2d-69           [-1, 256, 32, 1]             512\n",
      "             ReLU-70           [-1, 256, 32, 1]               0\n",
      "       BasicBlock-71           [-1, 256, 32, 1]               0\n",
      "           Conv2d-72           [-1, 256, 32, 1]         589,824\n",
      "      BatchNorm2d-73           [-1, 256, 32, 1]             512\n",
      "             ReLU-74           [-1, 256, 32, 1]               0\n",
      "           Conv2d-75           [-1, 256, 32, 1]         589,824\n",
      "      BatchNorm2d-76           [-1, 256, 32, 1]             512\n",
      "             ReLU-77           [-1, 256, 32, 1]               0\n",
      "       BasicBlock-78           [-1, 256, 32, 1]               0\n",
      "           Conv2d-79           [-1, 256, 32, 1]         589,824\n",
      "      BatchNorm2d-80           [-1, 256, 32, 1]             512\n",
      "             ReLU-81           [-1, 256, 32, 1]               0\n",
      "           Conv2d-82           [-1, 256, 32, 1]         589,824\n",
      "      BatchNorm2d-83           [-1, 256, 32, 1]             512\n",
      "             ReLU-84           [-1, 256, 32, 1]               0\n",
      "       BasicBlock-85           [-1, 256, 32, 1]               0\n",
      "           Conv2d-86           [-1, 256, 32, 1]         589,824\n",
      "      BatchNorm2d-87           [-1, 256, 32, 1]             512\n",
      "             ReLU-88           [-1, 256, 32, 1]               0\n",
      "           Conv2d-89           [-1, 256, 32, 1]         589,824\n",
      "      BatchNorm2d-90           [-1, 256, 32, 1]             512\n",
      "             ReLU-91           [-1, 256, 32, 1]               0\n",
      "       BasicBlock-92           [-1, 256, 32, 1]               0\n",
      "           Conv2d-93           [-1, 256, 32, 1]         589,824\n",
      "      BatchNorm2d-94           [-1, 256, 32, 1]             512\n",
      "             ReLU-95           [-1, 256, 32, 1]               0\n",
      "           Conv2d-96           [-1, 256, 32, 1]         589,824\n",
      "      BatchNorm2d-97           [-1, 256, 32, 1]             512\n",
      "             ReLU-98           [-1, 256, 32, 1]               0\n",
      "       BasicBlock-99           [-1, 256, 32, 1]               0\n",
      "          Conv2d-100           [-1, 512, 16, 1]       1,179,648\n",
      "     BatchNorm2d-101           [-1, 512, 16, 1]           1,024\n",
      "            ReLU-102           [-1, 512, 16, 1]               0\n",
      "          Conv2d-103           [-1, 512, 16, 1]       2,359,296\n",
      "     BatchNorm2d-104           [-1, 512, 16, 1]           1,024\n",
      "          Conv2d-105           [-1, 512, 16, 1]         131,072\n",
      "     BatchNorm2d-106           [-1, 512, 16, 1]           1,024\n",
      "            ReLU-107           [-1, 512, 16, 1]               0\n",
      "      BasicBlock-108           [-1, 512, 16, 1]               0\n",
      "          Conv2d-109           [-1, 512, 16, 1]       2,359,296\n",
      "     BatchNorm2d-110           [-1, 512, 16, 1]           1,024\n",
      "            ReLU-111           [-1, 512, 16, 1]               0\n",
      "          Conv2d-112           [-1, 512, 16, 1]       2,359,296\n",
      "     BatchNorm2d-113           [-1, 512, 16, 1]           1,024\n",
      "            ReLU-114           [-1, 512, 16, 1]               0\n",
      "      BasicBlock-115           [-1, 512, 16, 1]               0\n",
      "          Conv2d-116           [-1, 512, 16, 1]       2,359,296\n",
      "     BatchNorm2d-117           [-1, 512, 16, 1]           1,024\n",
      "            ReLU-118           [-1, 512, 16, 1]               0\n",
      "          Conv2d-119           [-1, 512, 16, 1]       2,359,296\n",
      "     BatchNorm2d-120           [-1, 512, 16, 1]           1,024\n",
      "            ReLU-121           [-1, 512, 16, 1]               0\n",
      "      BasicBlock-122           [-1, 512, 16, 1]               0\n",
      "AdaptiveAvgPool2d-123            [-1, 512, 1, 1]               0\n",
      "          Linear-124                    [-1, 2]           1,026\n",
      "================================================================\n",
      "Total params: 21,285,698\n",
      "Trainable params: 21,285,698\n",
      "Non-trainable params: 0\n",
      "----------------------------------------------------------------\n",
      "Input size (MB): 0.07\n",
      "Forward/backward pass size (MB): 15.82\n",
      "Params size (MB): 81.20\n",
      "Estimated Total Size (MB): 97.09\n",
      "----------------------------------------------------------------\n"
     ]
    }
   ],
   "source": [
    "# get the model summary\n",
    "from torchsummary import summary\n",
    "summary(model, input_size=(3, 500, 13), device=DEVICE.type)"
   ]
  },
  {
   "cell_type": "code",
   "execution_count": 113,
   "id": "3f2ca15d",
   "metadata": {},
   "outputs": [],
   "source": [
    "#8. 학습\n",
    "def train(model,train_loader,optimizer, log_interval):\n",
    "    model.train()\n",
    "    correct = 0\n",
    "    train_loss = 0\n",
    "    for batch_idx,(image,label) in enumerate(train_loader):\n",
    "        image = image.to(DEVICE)\n",
    "        label = label.to(DEVICE)\n",
    "        #데이터들 장비에 할당\n",
    "        optimizer.zero_grad() # device 에 저장된 gradient 제거\n",
    "        output = model(image) # model로 output을 계산\n",
    "        loss = criterion(output, label) #loss 계산\n",
    "        train_loss += loss.item()\n",
    "        prediction = output.max(1,keepdim=True)[1] # 가장 확률이 높은 class 1개를 가져온다.그리고 인덱스만\n",
    "        correct += prediction.eq(label.view_as(prediction)).sum().item()# 아웃풋이 배치 사이즈 32개라서.\n",
    "        loss.backward() # loss 값을 이용해 gradient를 계산\n",
    "        optimizer.step() # Gradient 값을 이용해 파라미터 업데이트.\n",
    "    train_loss/=len(train_loader.dataset)\n",
    "    train_accuracy = 100. * correct / len(train_loader.dataset)\n",
    "    return train_loss,train_accuracy\n"
   ]
  },
  {
   "cell_type": "code",
   "execution_count": 114,
   "id": "b09341bf",
   "metadata": {},
   "outputs": [],
   "source": [
    "#9. 학습 진행하며, validation 데이터로 모델 성능확인\n",
    "def evaluate(model,valid_loader):\n",
    "    model.eval()\n",
    "    valid_loss = 0\n",
    "    correct = 0\n",
    "    #no_grad : 그래디언트 값 계산 막기.\n",
    "    with torch.no_grad():\n",
    "        for image, label in valid_loader:\n",
    "            image = image.to(DEVICE)\n",
    "            label = label.to(DEVICE)\n",
    "            output = model(image)\n",
    "            valid_loss += criterion(output, label).item()\n",
    "            prediction = output.max(1,keepdim=True)[1] # 가장 확률이 높은 class 1개를 가져온다.그리고 인덱스만\n",
    "            correct += prediction.eq(label.view_as(prediction)).sum().item()# 아웃풋이 배치 사이즈 32개라서.\n",
    "            #true.false값을 sum해줌. item\n",
    "        valid_loss /= len(test_loader.dataset)\n",
    "        valid_accuracy = 100. * correct / len(valid_loader.dataset)\n",
    "        return valid_loss,valid_accuracy\n"
   ]
  },
  {
   "cell_type": "code",
   "execution_count": 115,
   "id": "e7c8c86f",
   "metadata": {
    "scrolled": true
   },
   "outputs": [
    {
     "name": "stdout",
     "output_type": "stream",
     "text": [
      "\n",
      "[EPOCH:1]\t Train Loss:0.0185\t Train Acc:70.43 %  | \tValid Loss:0.0181 \tValid Acc: 66.67 %\n",
      "\n",
      "Validation loss decreased (inf --> 0.018108).  Saving model ...\n",
      "\n",
      "[EPOCH:2]\t Train Loss:0.0150\t Train Acc:77.74 %  | \tValid Loss:0.0242 \tValid Acc: 65.87 %\n",
      "\n",
      "EarlyStopping counter: 1 out of 5\n",
      "\n",
      "[EPOCH:3]\t Train Loss:0.0125\t Train Acc:82.69 %  | \tValid Loss:0.0167 \tValid Acc: 74.60 %\n",
      "\n",
      "Validation loss decreased (0.018108 --> 0.016700).  Saving model ...\n",
      "\n",
      "[EPOCH:4]\t Train Loss:0.0091\t Train Acc:88.63 %  | \tValid Loss:0.0275 \tValid Acc: 74.60 %\n",
      "\n",
      "EarlyStopping counter: 1 out of 5\n",
      "\n",
      "[EPOCH:5]\t Train Loss:0.0086\t Train Acc:88.13 %  | \tValid Loss:0.0196 \tValid Acc: 74.60 %\n",
      "\n",
      "EarlyStopping counter: 2 out of 5\n",
      "\n",
      "[EPOCH:6]\t Train Loss:0.0063\t Train Acc:91.79 %  | \tValid Loss:0.0241 \tValid Acc: 73.81 %\n",
      "\n",
      "EarlyStopping counter: 3 out of 5\n",
      "\n",
      "[EPOCH:7]\t Train Loss:0.0039\t Train Acc:95.05 %  | \tValid Loss:0.0815 \tValid Acc: 56.35 %\n",
      "\n",
      "EarlyStopping counter: 4 out of 5\n",
      "\n",
      "[EPOCH:8]\t Train Loss:0.0045\t Train Acc:93.67 %  | \tValid Loss:0.0331 \tValid Acc: 62.70 %\n",
      "\n",
      "EarlyStopping counter: 5 out of 5\n",
      "Early stopping\n"
     ]
    },
    {
     "data": {
      "text/plain": [
       "<All keys matched successfully>"
      ]
     },
     "execution_count": 115,
     "metadata": {},
     "output_type": "execute_result"
    }
   ],
   "source": [
    "#10. 학습 및 평가.\n",
    "# resnet\n",
    "\n",
    "train_losses = [] # epoch별 평균 loss가 담긴다. 시각화에 사용.\n",
    "valid_losses = []\n",
    "\n",
    "train_accs = []\n",
    "valid_accs = []\n",
    "\n",
    "early_stopping = EarlyStopping(patience = 5, verbose = True, path='./checkpoint/checkpoint_resnet.pt')\n",
    "\n",
    "\n",
    "for Epoch in range(1,EPOCHS+1):\n",
    "    train_loss,train_accuracy=train(model,train_loader,optimizer,log_interval=31)\n",
    "    valid_loss,valid_accuracy = evaluate(model, validation_loader)\n",
    "    \n",
    "    train_losses.append(train_loss)\n",
    "    valid_losses.append(valid_loss)\n",
    "    train_accs.append(train_accuracy)\n",
    "    valid_accs.append(valid_accuracy)\n",
    "    \n",
    "    print(\"\\n[EPOCH:{}]\\t Train Loss:{:.4f}\\t Train Acc:{:.2f} %  | \\tValid Loss:{:.4f} \\tValid Acc: {:.2f} %\\n\".\n",
    "          format(Epoch,train_loss,train_accuracy,valid_loss,valid_accuracy))\n",
    "\n",
    "    early_stopping(valid_loss, model)\n",
    "    if early_stopping.early_stop:\n",
    "            print(\"Early stopping\")\n",
    "            break\n",
    "\n",
    "model.load_state_dict(torch.load('./checkpoint/checkpoint_resnet.pt'))"
   ]
  },
  {
   "cell_type": "markdown",
   "id": "6f7d3f46",
   "metadata": {},
   "source": [
    "# Model Test\n",
    "\n",
    "- test set\n",
    "- confusion matrix"
   ]
  },
  {
   "cell_type": "code",
   "execution_count": 121,
   "id": "b597b674",
   "metadata": {},
   "outputs": [],
   "source": [
    "#confusion matrix 계산\n",
    "#test set 계산.\n",
    "def test_evaluate(model,test_loader):\n",
    "    model.eval()\n",
    "    test_loss = 0\n",
    "    predictions = []\n",
    "    answers = []\n",
    "    #no_grad : 그래디언트 값 계산 막기.\n",
    "    with torch.no_grad():\n",
    "        for image, label in test_loader:\n",
    "            image = image.to(DEVICE)\n",
    "            label = label.to(DEVICE)\n",
    "            output = model(image)\n",
    "            test_loss += criterion(output, label).item()\n",
    "            prediction = output.max(1,keepdim=True)[1] # 가장 확률이 높은 class 1개를 가져온다.그리고 인덱스만\n",
    "            answers +=label\n",
    "            predictions +=prediction\n",
    "            \n",
    "        return predictions,answers,test_loss\n",
    "            "
   ]
  },
  {
   "cell_type": "code",
   "execution_count": 122,
   "id": "446269f0",
   "metadata": {},
   "outputs": [
    {
     "name": "stdout",
     "output_type": "stream",
     "text": [
      "[[30 27]\n",
      " [11 59]]\n",
      "Test Loss : 0.0186\n",
      "Accuracy : 70.0787% \n",
      "Precision (pathology 예측한 것중 맞는 것) : 0.7317\n",
      "recall (실제 pathology 중  예측이 맞는 것) : 0.5263\n",
      "f score : 0.6122 \n"
     ]
    }
   ],
   "source": [
    "# Confusion matrix (resnet34)\n",
    "model.load_state_dict(torch.load('./checkpoint/checkpoint_resnet.pt'))\n",
    "\n",
    "predictions,answers,test_loss = test_evaluate(model, test_loader)\n",
    "predictions=[ dat.cpu().numpy() for dat in predictions]\n",
    "answers=[ dat.cpu().numpy() for dat in answers]\n",
    "\n",
    "from sklearn.metrics import confusion_matrix\n",
    "cf = confusion_matrix(answers, predictions)\n",
    "print(cf)\n",
    "\n",
    "test_loss_mean = test_loss/len(test_loader.dataset)\n",
    "acc = (cf[0,0]+cf[1,1])/(cf[0,0]+cf[0,1]+cf[1,0]+cf[1,1])\n",
    "precision=cf[0,0]/(cf[0,0]+cf[1,0])\n",
    "recall=cf[0,0]/(cf[0,0]+cf[0,1])\n",
    "fscore=2*precision*recall/(precision+recall)\n",
    "\n",
    "\n",
    "print(\"Test Loss : {:.4f}\".format(test_loss_mean))\n",
    "print(\"Accuracy : {:.4f}% \".format(acc*100))\n",
    "print(\"Precision (pathology 예측한 것중 맞는 것) : {:.4f}\".format(precision))\n",
    "print(\"recall (실제 pathology 중  예측이 맞는 것) : {:.4f}\".format(recall))\n",
    "print(\"f score : {:.4f} \".format(fscore))\n"
   ]
  },
  {
   "cell_type": "markdown",
   "id": "4464f1ab",
   "metadata": {},
   "source": [
    "# Loss 시각화"
   ]
  },
  {
   "cell_type": "code",
   "execution_count": 116,
   "id": "7aff778e",
   "metadata": {},
   "outputs": [
    {
     "data": {
      "text/plain": [
       "7"
      ]
     },
     "execution_count": 116,
     "metadata": {},
     "output_type": "execute_result"
    }
   ],
   "source": [
    "len([ a for a in range(1,len(train_losses)) ])"
   ]
  },
  {
   "cell_type": "code",
   "execution_count": 120,
   "id": "e647578e",
   "metadata": {},
   "outputs": [
    {
     "data": {
      "image/png": "[encoded data removed]",
      "text/plain": [
       "<Figure size 720x576 with 1 Axes>"
      ]
     },
     "metadata": {
      "needs_background": "light"
     },
     "output_type": "display_data"
    }
   ],
   "source": [
    "#일반 cnn loss 시각화\n",
    "#훈련이 진행되는 과정에 따라 loss를 시각화\n",
    "\n",
    "fig = plt.figure(figsize=(10,8))\n",
    "plt.plot(range(1,len(train_losses)+1 ),train_losses,label='Training Loss')\n",
    "plt.plot(range(1,len(valid_losses)+1 ),valid_losses,label='Validation Loss')\n",
    "\n",
    "#validation loss의 최저값 지점\n",
    "minposs = valid_losses.index(min(valid_losses))+1\n",
    "plt.axvline(minposs,linestyle='--',color='r',label='Early Stopping Checkpoint')\n",
    "\n",
    "plt.xlabel('epochs')\n",
    "plt.ylabel('loss')\n",
    "\n",
    "plt.ylim(0.0,0.1)# 일정한 scale\n",
    "plt.xlim(0,len(train_losses)+1) # 일정 sclae로\n",
    "\n",
    "plt.grid(True)\n",
    "plt.legend()\n",
    "plt.tight_layout()\n",
    "plt.show()\n",
    "fig.savefig('cnn_loss_flot.png',bbox_inches='tight')\n"
   ]
  },
  {
   "cell_type": "markdown",
   "id": "efe4a550",
   "metadata": {},
   "source": [
    "# Accuracy 시각화"
   ]
  },
  {
   "cell_type": "code",
   "execution_count": 118,
   "id": "1acbb9f0",
   "metadata": {},
   "outputs": [
    {
     "data": {
      "image/png": "[encoded data removed]",
      "text/plain": [
       "<Figure size 720x576 with 1 Axes>"
      ]
     },
     "metadata": {
      "needs_background": "light"
     },
     "output_type": "display_data"
    }
   ],
   "source": [
    "#일반 cnn loss 시각화\n",
    "#훈련이 진행되는 과정에 따라 loss를 시각화\n",
    "\n",
    "fig = plt.figure(figsize=(10,8))\n",
    "plt.plot(range(1,len(train_accs)+1 ),train_accs,label='Training Accuracy')\n",
    "plt.plot(range(1,len(valid_accs)+1 ),valid_accs,label='Validation Accuracy')\n",
    "\n",
    "#validation loss의 최저값 지점\n",
    "minposs = valid_accs.index(max(valid_accs))+1\n",
    "plt.axvline(minposs,linestyle='--',color='r',label='Max Accuracy')\n",
    "\n",
    "plt.xlabel('epochs')\n",
    "plt.ylabel('Accuracy (%)')\n",
    "\n",
    "plt.ylim(0,100.0)# 일정한 scale\n",
    "plt.xlim(0,len(train_accs)+1) # 일정 sclae로\n",
    "\n",
    "plt.grid(True)\n",
    "plt.legend()\n",
    "plt.tight_layout()\n",
    "plt.show()\n",
    "fig.savefig('cnn_loss_flot.png',bbox_inches='tight')\n"
   ]
  },
  {
   "cell_type": "markdown",
   "id": "7a89da3e",
   "metadata": {},
   "source": [
    "# 기타"
   ]
  },
  {
   "cell_type": "code",
   "execution_count": 17,
   "id": "02835a82",
   "metadata": {},
   "outputs": [
    {
     "name": "stdout",
     "output_type": "stream",
     "text": [
      "torch.Size([32, 1, 500, 13])\n",
      "torch.Size([32, 1, 250, 6])\n",
      "torch.Size([32, 1, 125, 3])\n"
     ]
    }
   ],
   "source": [
    "#크기 알아보기\n",
    "#일반 CNN\n",
    "\n",
    "m = nn.MaxPool2d(2, stride=2)\n",
    "#m = nn.MaxPool2d((3, 2), stride=(2, 1))\n",
    "input = torch.randn(32, 1, 500, 13)\n",
    "print(input.size())\n",
    "output = m(input)\n",
    "print(output.size())\n",
    "output = m(output)\n",
    "print(output.size())"
   ]
  },
  {
   "cell_type": "code",
   "execution_count": 16,
   "id": "0d87275a",
   "metadata": {},
   "outputs": [
    {
     "name": "stdout",
     "output_type": "stream",
     "text": [
      "torch.Size([32, 32, 500, 1])\n",
      "torch.Size([32, 64, 474, 1])\n"
     ]
    }
   ],
   "source": [
    "#크기 알아보기\n",
    "#주파수 영역 CNN\n",
    "\n",
    "input = torch.randn(32, 1, 500, 13)\n",
    "m=nn.Conv2d(\n",
    "            in_channels = 1,# 채널이 1개\n",
    "            out_channels = 32,# FeatureMap 수,커널 수\n",
    "            kernel_size = (1,13),#1x13  no padding\n",
    "        )\n",
    "output=m(input)\n",
    "print(output.size())\n",
    "m=nn.Conv2d(\n",
    "            in_channels = 32,# 채널이 1개\n",
    "            out_channels = 64,# FeatureMap 수,커널 수\n",
    "            kernel_size = (27,1),#9 x 1 no padding\n",
    "        )\n",
    "output=m(output)\n",
    "print(output.size())\n"
   ]
  },
  {
   "cell_type": "code",
   "execution_count": 16,
   "id": "f23df4d2",
   "metadata": {},
   "outputs": [
    {
     "data": {
      "text/plain": [
       "torch.Size([3, 500, 13])"
      ]
     },
     "execution_count": 16,
     "metadata": {},
     "output_type": "execute_result"
    }
   ],
   "source": [
    "input = torch.randn(500, 13)\n",
    "\n",
    "out=torch.stack([input,input,input])\n",
    "out.size()"
   ]
  },
  {
   "cell_type": "code",
   "execution_count": null,
   "id": "34f79333",
   "metadata": {},
   "outputs": [],
   "source": [
    "test_model = "
   ]
  }
 ],
 "metadata": {
  "kernelspec": {
   "display_name": "Python 3 (ipykernel)",
   "language": "python",
   "name": "python3"
  },
  "language_info": {
   "codemirror_mode": {
    "name": "ipython",
    "version": 3
   },
   "file_extension": ".py",
   "mimetype": "text/x-python",
   "name": "python",
   "nbconvert_exporter": "python",
   "pygments_lexer": "ipython3",
   "version": "3.8.8"
  },
  "toc": {
   "base_numbering": 1,
   "nav_menu": {},
   "number_sections": false,
   "sideBar": true,
   "skip_h1_title": false,
   "title_cell": "Table of Contents",
   "title_sidebar": "Contents",
   "toc_cell": false,
   "toc_position": {
    "height": "calc(100% - 180px)",
    "left": "10px",
    "top": "150px",
    "width": "294.083px"
   },
   "toc_section_display": true,
   "toc_window_display": true
  }
 },
 "nbformat": 4,
 "nbformat_minor": 5
}
